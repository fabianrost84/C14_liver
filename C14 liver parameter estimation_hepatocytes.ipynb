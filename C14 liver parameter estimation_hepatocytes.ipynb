{
 "cells": [
  {
   "cell_type": "markdown",
   "metadata": {},
   "source": [
    "# Preparation"
   ]
  },
  {
   "cell_type": "code",
   "execution_count": null,
   "metadata": {
    "ExecuteTime": {
     "end_time": "2018-06-18T13:57:32.999752Z",
     "start_time": "2018-06-18T13:57:30.061247Z"
    }
   },
   "outputs": [],
   "source": [
    "import iminuit\n",
    "%load_ext line_profiler\n",
    "import matplotlib.pyplot as plt\n",
    "%matplotlib inline\n",
    "import numba\n",
    "import numpy as np\n",
    "import pandas as pd\n",
    "import scipy as sp\n",
    "from scipy import optimize\n",
    "import seaborn as sns\n",
    "\n",
    "sns.set_style('darkgrid')\n",
    "sns.set_context('notebook')\n",
    "\n",
    "%load_ext watermark\n",
    "%watermark\n",
    "%watermark -p pandas,scipy\n",
    "?watermark"
   ]
  },
  {
   "cell_type": "code",
   "execution_count": null,
   "metadata": {
    "ExecuteTime": {
     "end_time": "2018-06-18T13:57:33.009466Z",
     "start_time": "2018-06-18T13:57:33.004965Z"
    }
   },
   "outputs": [],
   "source": [
    "results = pd.DataFrame()"
   ]
  },
  {
   "cell_type": "markdown",
   "metadata": {},
   "source": [
    "# Load C14 models"
   ]
  },
  {
   "cell_type": "code",
   "execution_count": null,
   "metadata": {
    "ExecuteTime": {
     "end_time": "2018-06-18T13:57:33.177895Z",
     "start_time": "2018-06-18T13:57:33.013442Z"
    }
   },
   "outputs": [],
   "source": [
    "import c14_models"
   ]
  },
  {
   "cell_type": "code",
   "execution_count": null,
   "metadata": {},
   "outputs": [],
   "source": [
    "pandas.core.a"
   ]
  },
  {
   "cell_type": "markdown",
   "metadata": {},
   "source": [
    "# Read patient data"
   ]
  },
  {
   "cell_type": "code",
   "execution_count": null,
   "metadata": {
    "ExecuteTime": {
     "end_time": "2018-06-18T14:01:51.315956Z",
     "start_time": "2018-06-18T14:01:51.299756Z"
    }
   },
   "outputs": [],
   "source": [
    "c14_patient_data = pd.read_pickle('./data/C14data_liver_samples_20180505.pkl')"
   ]
  },
  {
   "cell_type": "code",
   "execution_count": null,
   "metadata": {
    "ExecuteTime": {
     "end_time": "2018-06-18T14:01:51.738781Z",
     "start_time": "2018-06-18T14:01:51.722409Z"
    }
   },
   "outputs": [],
   "source": [
    "c14_patient_data.head()"
   ]
  },
  {
   "cell_type": "code",
   "execution_count": null,
   "metadata": {
    "ExecuteTime": {
     "end_time": "2018-06-18T14:02:05.185836Z",
     "start_time": "2018-06-18T14:02:05.163771Z"
    }
   },
   "outputs": [],
   "source": [
    "exp_data = c14_patient_data.query('valid and type == \"hepatocyte\"').copy()\n",
    "exp_data.head()"
   ]
  },
  {
   "cell_type": "code",
   "execution_count": null,
   "metadata": {
    "ExecuteTime": {
     "end_time": "2018-06-18T14:02:05.804821Z",
     "start_time": "2018-06-18T14:02:05.781487Z"
    }
   },
   "outputs": [],
   "source": [
    "exp_data.describe()"
   ]
  },
  {
   "cell_type": "markdown",
   "metadata": {},
   "source": [
    "# SSE & log-likelihood"
   ]
  },
  {
   "cell_type": "code",
   "execution_count": null,
   "metadata": {
    "ExecuteTime": {
     "end_time": "2018-06-18T14:02:12.139441Z",
     "start_time": "2018-06-18T14:02:12.135992Z"
    }
   },
   "outputs": [],
   "source": [
    "def SSE(p, model, data):\n",
    "    model_data = model(data['Dbirth'].values, \n",
    "                    data['Dcoll'].values, \n",
    "                    *p)\n",
    "    sse = np.sum((model_data - data['d14C'].values)**2)\n",
    "    return sse    "
   ]
  },
  {
   "cell_type": "code",
   "execution_count": null,
   "metadata": {
    "ExecuteTime": {
     "end_time": "2018-06-18T14:02:12.310478Z",
     "start_time": "2018-06-18T14:02:12.307502Z"
    }
   },
   "outputs": [],
   "source": [
    "def Sigma(p, model, data):\n",
    "    sse = SSE(p, model, data)\n",
    "    n = len(data)\n",
    "    sigma = np.sqrt(sse/n)\n",
    "    return sigma"
   ]
  },
  {
   "cell_type": "code",
   "execution_count": null,
   "metadata": {
    "ExecuteTime": {
     "end_time": "2018-06-18T14:02:12.633940Z",
     "start_time": "2018-06-18T14:02:12.630969Z"
    }
   },
   "outputs": [],
   "source": [
    "def Nloglike(p, model, data):\n",
    "    try:\n",
    "        sse = SSE(p, model, data)\n",
    "    except:\n",
    "        sse = SSE([p], model, data)\n",
    "    n = len(data)\n",
    "    sig = np.sqrt(sse/n)\n",
    "    loglike = -n/2 * np.log(2*np.pi) - n/2 * np.log(sig**2) - 1 / (2*sig**2) * sse\n",
    "    return -loglike"
   ]
  },
  {
   "cell_type": "markdown",
   "metadata": {},
   "source": [
    "# Scenario I1"
   ]
  },
  {
   "cell_type": "code",
   "execution_count": null,
   "metadata": {
    "ExecuteTime": {
     "end_time": "2018-06-18T14:02:15.163911Z",
     "start_time": "2018-06-18T14:02:15.160923Z"
    }
   },
   "outputs": [],
   "source": [
    "@np.vectorize\n",
    "def I1(Dbirth, Dcoll, loglam):\n",
    "    lam = np.exp(loglam)\n",
    "    return c14_models.I1c(Dbirth, Dcoll, lam)"
   ]
  },
  {
   "cell_type": "markdown",
   "metadata": {},
   "source": [
    "## Fit"
   ]
  },
  {
   "cell_type": "code",
   "execution_count": null,
   "metadata": {
    "ExecuteTime": {
     "end_time": "2018-06-18T14:02:17.665732Z",
     "start_time": "2018-06-18T14:02:16.301473Z"
    }
   },
   "outputs": [],
   "source": [
    "res = sp.optimize.brute(func=Nloglike, \n",
    "                  ranges=[(np.log(0.01), np.log(10.0))],\n",
    "                  args = (I1, exp_data),\n",
    "                  Ns = 50,\n",
    "                  full_output = True,\n",
    "                  finish=None)"
   ]
  },
  {
   "cell_type": "code",
   "execution_count": null,
   "metadata": {
    "ExecuteTime": {
     "end_time": "2018-06-18T14:02:17.800208Z",
     "start_time": "2018-06-18T14:02:17.667454Z"
    }
   },
   "outputs": [],
   "source": [
    "plt.plot(res[-2], res[-1]-res[1])\n",
    "\n",
    "plt.xlabel('loglambda')\n",
    "plt.ylabel('nloglike')\n",
    "\n",
    "plt.show()"
   ]
  },
  {
   "cell_type": "code",
   "execution_count": null,
   "metadata": {
    "ExecuteTime": {
     "end_time": "2018-06-18T14:02:17.885434Z",
     "start_time": "2018-06-18T14:02:17.802045Z"
    }
   },
   "outputs": [],
   "source": [
    "res_I1 = sp.optimize.minimize(fun=Nloglike, \n",
    "                     x0=[-1.0],\n",
    "                     args = (I1, exp_data),\n",
    "                    )"
   ]
  },
  {
   "cell_type": "code",
   "execution_count": null,
   "metadata": {
    "ExecuteTime": {
     "end_time": "2018-06-18T14:02:17.893812Z",
     "start_time": "2018-06-18T14:02:17.887307Z"
    }
   },
   "outputs": [],
   "source": [
    "res_I1"
   ]
  },
  {
   "cell_type": "markdown",
   "metadata": {},
   "source": [
    "## Result"
   ]
  },
  {
   "cell_type": "code",
   "execution_count": null,
   "metadata": {
    "ExecuteTime": {
     "end_time": "2018-06-18T14:02:18.520224Z",
     "start_time": "2018-06-18T14:02:18.496066Z"
    }
   },
   "outputs": [],
   "source": [
    "print('lamda', sp.exp(res_I1.x[0]))\n",
    "\n",
    "print('sigma', Sigma(res_I1.x, I1, exp_data))\n",
    "\n",
    "results.loc['I1', 'loglike'] = -res_I1.fun\n",
    "results.loc['I1', 'k'] = 2\n",
    "results.loc['I1', 'n'] = len(exp_data)\n",
    "\n",
    "results['cAIC'] = 2 * results['k'] - 2 * results['loglike'] + (2*results['k']**2 + 2*results['k'])/(results['n']-results['k']-1)\n",
    "\n",
    "results"
   ]
  },
  {
   "cell_type": "markdown",
   "metadata": {},
   "source": [
    "# I1 Memory"
   ]
  },
  {
   "cell_type": "code",
   "execution_count": null,
   "metadata": {
    "ExecuteTime": {
     "end_time": "2018-06-18T14:02:19.843562Z",
     "start_time": "2018-06-18T14:02:19.840102Z"
    }
   },
   "outputs": [],
   "source": [
    "@np.vectorize\n",
    "def I1_memory(Dbirth, Dcoll, loglam, f, t0):\n",
    "    lam = np.exp(loglam)\n",
    "    C1 = c14_models.I1c(Dbirth, Dcoll, lam)\n",
    "    \n",
    "    if t0>Dcoll-Dbirth:\n",
    "        return C1\n",
    "    else:\n",
    "        C0 = c14_models.I1c(Dbirth, Dbirth + t0, lam)\n",
    "        return f*C1 + (1-f)*C0"
   ]
  },
  {
   "cell_type": "markdown",
   "metadata": {},
   "source": [
    "## Fit"
   ]
  },
  {
   "cell_type": "code",
   "execution_count": null,
   "metadata": {
    "ExecuteTime": {
     "end_time": "2018-06-18T14:08:09.601609Z",
     "start_time": "2018-06-18T14:08:08.086136Z"
    }
   },
   "outputs": [],
   "source": [
    "res_I1_memory = sp.optimize.minimize(fun=Nloglike, \n",
    "                     x0=[np.log(0.5), 0.7, 30.0],\n",
    "                     args = (I1_memory, exp_data),\n",
    "                                     method='Nelder-Mead'\n",
    "                    )"
   ]
  },
  {
   "cell_type": "markdown",
   "metadata": {},
   "source": [
    "## Result"
   ]
  },
  {
   "cell_type": "code",
   "execution_count": null,
   "metadata": {
    "ExecuteTime": {
     "end_time": "2018-06-18T14:08:09.621238Z",
     "start_time": "2018-06-18T14:08:09.603486Z"
    }
   },
   "outputs": [],
   "source": [
    "print('lamda', sp.exp(res_I1_memory.x[0]))\n",
    "print('f', res_I1_memory.x[1])\n",
    "print('t0', res_I1_memory.x[2])\n",
    "\n",
    "print('sigma', Sigma(res_I1_memory.x, I1_memory, exp_data))\n",
    "\n",
    "results.loc['I1_memory', 'loglike'] = -res_I1_memory.fun\n",
    "results.loc['I1_memory', 'k'] = 4\n",
    "results.loc['I1_memory', 'n'] = len(exp_data)\n",
    "\n",
    "results['cAIC'] = 2 * results['k'] - 2 * results['loglike'] + (2*results['k']**2 + 2*results['k'])/(results['n']-results['k']-1)\n",
    "\n",
    "results"
   ]
  },
  {
   "cell_type": "markdown",
   "metadata": {},
   "source": [
    "## Plot"
   ]
  },
  {
   "cell_type": "code",
   "execution_count": null,
   "metadata": {
    "ExecuteTime": {
     "end_time": "2018-06-18T14:08:18.878500Z",
     "start_time": "2018-06-18T14:08:18.749119Z"
    }
   },
   "outputs": [],
   "source": [
    "plt.plot(exp_data['Dbirth'], exp_data['d14C'], ls='None', marker='o')\n",
    "\n",
    "plt.errorbar(exp_data['Dbirth'], \n",
    "             I1_memory(exp_data['Dbirth'], \n",
    "                      exp_data['Dcoll'],\n",
    "                      *res_I1_memory.x),\n",
    "             Sigma(res_I1_memory.x, I1_memory, exp_data),\n",
    "             ls = 'None', marker='s')\n",
    "\n",
    "plt.show()"
   ]
  },
  {
   "cell_type": "markdown",
   "metadata": {},
   "source": [
    "# I1T_step"
   ]
  },
  {
   "cell_type": "code",
   "execution_count": null,
   "metadata": {
    "ExecuteTime": {
     "end_time": "2018-06-18T14:08:29.962734Z",
     "start_time": "2018-06-18T14:08:29.959855Z"
    }
   },
   "outputs": [],
   "source": [
    "I1T = c14_models.I1T"
   ]
  },
  {
   "cell_type": "code",
   "execution_count": null,
   "metadata": {
    "ExecuteTime": {
     "end_time": "2018-06-18T14:08:30.158608Z",
     "start_time": "2018-06-18T14:08:30.154963Z"
    }
   },
   "outputs": [],
   "source": [
    "@np.vectorize\n",
    "def I1T_step(Dbirth, Dcoll, loglam1, loglam2, t_step):\n",
    "    lam1 = np.exp(loglam1)\n",
    "    lam2 = np.exp(loglam2)\n",
    "    \n",
    "    def lam_step(t, lam1, lam2, t_step):\n",
    "        return np.where(t < Dbirth + t_step, lam1, lam2)\n",
    "    \n",
    "    return I1T(Dbirth, Dcoll, lam_step, t_eval=np.linspace(Dbirth, Dcoll), lam_arg=(lam1, lam2, t_step))[1][-1]"
   ]
  },
  {
   "cell_type": "markdown",
   "metadata": {},
   "source": [
    "## Fit"
   ]
  },
  {
   "cell_type": "code",
   "execution_count": null,
   "metadata": {
    "ExecuteTime": {
     "end_time": "2018-06-18T14:09:19.237545Z",
     "start_time": "2018-06-18T14:08:30.779688Z"
    }
   },
   "outputs": [],
   "source": [
    "res_I1T_step = sp.optimize.minimize(fun=Nloglike, \n",
    "                           x0=[-2, -1, 30.0],\n",
    "                           args = (I1T_step, exp_data),\n",
    "                           method=\"Nelder-Mead\"\n",
    "                          )"
   ]
  },
  {
   "cell_type": "markdown",
   "metadata": {},
   "source": [
    "## Result"
   ]
  },
  {
   "cell_type": "code",
   "execution_count": null,
   "metadata": {
    "ExecuteTime": {
     "end_time": "2018-06-18T14:09:19.466287Z",
     "start_time": "2018-06-18T14:09:19.239159Z"
    }
   },
   "outputs": [],
   "source": [
    "print('lamda1', np.exp(res_I1T_step.x[0]))\n",
    "print('lamda2', np.exp(res_I1T_step.x[1]))\n",
    "print('t_step', res_I1T_step.x[2])\n",
    "\n",
    "print('sigma', Sigma(res_I1T_step.x, I1T_step, exp_data))\n",
    "\n",
    "results.loc['I1T_step', 'loglike'] = -res_I1T_step.fun\n",
    "results.loc['I1T_step', 'k'] = 4\n",
    "results.loc['I1T_step', 'n'] = len(exp_data)\n",
    "\n",
    "results['cAIC'] = 2 * results['k'] - 2 * results['loglike'] + (2*results['k']**2 + 2*results['k'])/(results['n']-results['k']-1)\n",
    "\n",
    "results"
   ]
  },
  {
   "cell_type": "markdown",
   "metadata": {},
   "source": [
    "# I1T_transient"
   ]
  },
  {
   "cell_type": "code",
   "execution_count": null,
   "metadata": {
    "ExecuteTime": {
     "end_time": "2018-06-18T14:09:19.472462Z",
     "start_time": "2018-06-18T14:09:19.468461Z"
    }
   },
   "outputs": [],
   "source": [
    "@np.vectorize\n",
    "def I1T_transient(Dbirth, Dcoll, loglam1, loglam2, t_on, t_off):\n",
    "    lam1 = np.exp(loglam1)\n",
    "    lam2 = np.exp(loglam2)\n",
    "    \n",
    "    def lam_transient(t, lam1, lam2, t_on, t_off):\n",
    "        return np.where(np.logical_or(t < Dbirth + t_on,\n",
    "                                      t > Dbirth + t_on + t_off),\n",
    "                        lam1, \n",
    "                        lam2)\n",
    "    \n",
    "    return I1T(Dbirth, Dcoll, lam_transient, \n",
    "               t_eval=np.linspace(Dbirth, Dcoll), \n",
    "               lam_arg=(lam1, lam2, t_on, t_off)\n",
    "              )[1][-1]"
   ]
  },
  {
   "cell_type": "markdown",
   "metadata": {},
   "source": [
    "## Fit"
   ]
  },
  {
   "cell_type": "code",
   "execution_count": null,
   "metadata": {
    "ExecuteTime": {
     "end_time": "2018-06-18T14:10:00.093429Z",
     "start_time": "2018-06-18T14:09:19.474429Z"
    }
   },
   "outputs": [],
   "source": [
    "res_I1T_transient = sp.optimize.minimize(fun=Nloglike, \n",
    "                           x0=[-2.0, -3.0, 60.0, 70],\n",
    "                           args = (I1T_transient, exp_data),\n",
    "                           method=\"Nelder-Mead\"\n",
    "                          )"
   ]
  },
  {
   "cell_type": "markdown",
   "metadata": {},
   "source": [
    "## Result"
   ]
  },
  {
   "cell_type": "code",
   "execution_count": null,
   "metadata": {
    "ExecuteTime": {
     "end_time": "2018-06-18T14:10:00.355287Z",
     "start_time": "2018-06-18T14:10:00.095138Z"
    }
   },
   "outputs": [],
   "source": [
    "print('lamda1', np.exp(res_I1T_transient.x[0]))\n",
    "print('lamda2', np.exp(res_I1T_transient.x[1]))\n",
    "print('t_on', res_I1T_transient.x[2])\n",
    "print('t_off', res_I1T_transient.x[3])\n",
    "\n",
    "sig = Sigma(res_I1T_transient.x, I1T_transient, exp_data)\n",
    "print('sigma', sig)\n",
    "\n",
    "results.loc['I1T_transient', 'loglike'] = -res_I1T_transient.fun\n",
    "results.loc['I1T_transient', 'k'] = 5\n",
    "results.loc['I1T_transient', 'n'] = len(exp_data)\n",
    "\n",
    "results['cAIC'] = 2 * results['k'] - 2 * results['loglike'] + (2*results['k']**2 + 2*results['k'])/(results['n']-results['k']-1)\n",
    "\n",
    "results"
   ]
  },
  {
   "cell_type": "markdown",
   "metadata": {},
   "source": [
    "# Plot I1, I1T, I1_memory"
   ]
  },
  {
   "cell_type": "code",
   "execution_count": null,
   "metadata": {
    "ExecuteTime": {
     "end_time": "2018-06-18T14:10:11.166100Z",
     "start_time": "2018-06-18T14:10:10.838045Z"
    }
   },
   "outputs": [],
   "source": [
    "fig, ax = plt.subplots(figsize=(15, 10))\n",
    "tt = np.linspace(1930, 2010)\n",
    "ax.plot(tt, np.vectorize(c14_models.C_atm)(tt))\n",
    "ax.plot(exp_data['Dbirth'], exp_data['d14C'], ls = 'None', marker = 'o')\n",
    "\n",
    "ax.errorbar(exp_data['Dbirth']-0.2, \n",
    "            I1(exp_data['Dbirth'].values,\n",
    "               exp_data['Dcoll'].values,\n",
    "               *res_I1.x\n",
    "               ),\n",
    "           Sigma(res_I1.x, I1, exp_data),\n",
    "           ls='None',\n",
    "           label = 'I1')\n",
    "\n",
    "# ax.errorbar(exp_data['Dbirth'], \n",
    "#             I1T_transient(exp_data['Dbirth'].values,\n",
    "#                           exp_data['Dcoll'].values,\n",
    "#                           *res_I1T_transient.x\n",
    "#                          ),\n",
    "#            Sigma(res_I1T_transient.x, I1T_transient, exp_data),\n",
    "#            ls='None',\n",
    "#             marker='s',\n",
    "#            label = 'I1T_transient')\n",
    "\n",
    "ax.errorbar(exp_data['Dbirth']+0.2, \n",
    "             I1_memory(exp_data['Dbirth'], \n",
    "                      exp_data['Dcoll'],\n",
    "                      *res_I1_memory.x),\n",
    "             Sigma(res_I1_memory.x, I1_memory, exp_data),\n",
    "             ls = 'None',\n",
    "            marker='o',\n",
    "           label='I1_memory')\n",
    "\n",
    "\n",
    "ax.set_ylim((0, 0.12))\n",
    "ax.legend()\n",
    "plt.show()"
   ]
  },
  {
   "cell_type": "markdown",
   "metadata": {},
   "source": [
    "# IK"
   ]
  },
  {
   "cell_type": "code",
   "execution_count": null,
   "metadata": {
    "ExecuteTime": {
     "end_time": "2018-06-12T12:58:02.567562Z",
     "start_time": "2018-06-12T12:58:02.565101Z"
    }
   },
   "outputs": [],
   "source": [
    "@np.vectorize\n",
    "def IK(Dbirth, Dcoll, loglam, f):\n",
    "    lam = np.exp(loglam)\n",
    "    return c14_models.IK(Dbirth, Dcoll, lam, f, t_eval=np.linspace(Dbirth, Dcoll))[1][-1]"
   ]
  },
  {
   "cell_type": "markdown",
   "metadata": {},
   "source": [
    "## Fit"
   ]
  },
  {
   "cell_type": "code",
   "execution_count": null,
   "metadata": {
    "ExecuteTime": {
     "end_time": "2018-06-12T13:36:06.983322Z",
     "start_time": "2018-06-12T12:58:02.568998Z"
    }
   },
   "outputs": [],
   "source": [
    "res = sp.optimize.brute(func=Nloglike, \n",
    "                  ranges=[(-1.5, 1), (0.2, 0.95)],\n",
    "                  args = (IK, exp_data),\n",
    "                  Ns = 20,\n",
    "                  full_output = True,\n",
    "                  finish=None)\n",
    "\n",
    "print(res[0])\n",
    "print(res[1])"
   ]
  },
  {
   "cell_type": "code",
   "execution_count": null,
   "metadata": {
    "ExecuteTime": {
     "end_time": "2018-06-12T13:36:07.156886Z",
     "start_time": "2018-06-12T13:36:06.984814Z"
    }
   },
   "outputs": [],
   "source": [
    "x = res[2][0]\n",
    "y = res[2][1]\n",
    "z = res[3]\n",
    "z -= z.min()\n",
    "\n",
    "CS = plt.contour(x, y, z)\n",
    "plt.pcolormesh(x, y, z, vmax=8)\n",
    "\n",
    "plt.clabel(CS, inline=1, fontsize=10)\n",
    "\n",
    "plt.xlabel('loglam')\n",
    "plt.ylabel('f')\n",
    "plt.colorbar()\n",
    "\n",
    "plt.show()"
   ]
  },
  {
   "cell_type": "markdown",
   "metadata": {},
   "source": [
    "## Result"
   ]
  },
  {
   "cell_type": "code",
   "execution_count": null,
   "metadata": {
    "ExecuteTime": {
     "end_time": "2018-06-12T13:36:11.891388Z",
     "start_time": "2018-06-12T13:36:07.158610Z"
    }
   },
   "outputs": [],
   "source": [
    "lam = sp.exp(res[0][0])\n",
    "print('lamda', lam)\n",
    "\n",
    "f = res[0][1]\n",
    "print('f', f)\n",
    "\n",
    "sig = Sigma([np.log(lam), f], IK, exp_data)\n",
    "print('sigma', sig)\n",
    "\n",
    "results.loc['IK', 'loglike'] = -res[1]\n",
    "results.loc['IK', 'k'] = 3\n",
    "results.loc['IK', 'n'] = len(exp_data)\n",
    "\n",
    "results['cAIC'] = 2 * results['k'] - 2 * results['loglike'] + (2*results['k']**2 + 2*results['k'])/(results['n']-results['k']-1)\n",
    "\n",
    "results"
   ]
  },
  {
   "cell_type": "markdown",
   "metadata": {},
   "source": [
    "# IL"
   ]
  },
  {
   "cell_type": "code",
   "execution_count": null,
   "metadata": {
    "ExecuteTime": {
     "end_time": "2018-06-12T13:36:11.895563Z",
     "start_time": "2018-06-12T13:36:11.893011Z"
    }
   },
   "outputs": [],
   "source": [
    "@np.vectorize\n",
    "def IL(Dbirth, Dcoll, loglam, f):\n",
    "    lam = np.exp(loglam)\n",
    "    return c14_models.IL(Dbirth, Dcoll, lam, f, t_eval=np.linspace(Dbirth, Dcoll))[1][-1]"
   ]
  },
  {
   "cell_type": "markdown",
   "metadata": {},
   "source": [
    "## Fit"
   ]
  },
  {
   "cell_type": "code",
   "execution_count": null,
   "metadata": {
    "ExecuteTime": {
     "start_time": "2018-06-12T12:53:19.915Z"
    }
   },
   "outputs": [],
   "source": [
    "res = sp.optimize.brute(func=Nloglike, \n",
    "                  ranges=[(-2, 2), (0.01, 0.99)],\n",
    "                  args = (IL, exp_data),\n",
    "                  Ns = 20,\n",
    "                  full_output = True,\n",
    "                  finish=None)\n",
    "\n",
    "print(res[0])\n",
    "print(res[1])"
   ]
  },
  {
   "cell_type": "code",
   "execution_count": null,
   "metadata": {
    "ExecuteTime": {
     "start_time": "2018-06-12T12:53:19.917Z"
    }
   },
   "outputs": [],
   "source": [
    "x = res[2][0]\n",
    "y = res[2][1]\n",
    "z = res[3]\n",
    "z -= z.min()\n",
    "\n",
    "CS = plt.contour(x, y, z)\n",
    "plt.pcolormesh(x, y, z, vmax=8)\n",
    "\n",
    "plt.clabel(CS, inline=1, fontsize=10)\n",
    "\n",
    "plt.xlabel('loglam')\n",
    "plt.ylabel('f')\n",
    "plt.colorbar()\n",
    "\n",
    "plt.show()"
   ]
  },
  {
   "cell_type": "markdown",
   "metadata": {},
   "source": [
    "## Result"
   ]
  },
  {
   "cell_type": "code",
   "execution_count": null,
   "metadata": {
    "ExecuteTime": {
     "start_time": "2018-06-12T12:53:19.922Z"
    }
   },
   "outputs": [],
   "source": [
    "lam = sp.exp(res[0][0])\n",
    "print('lamda', lam)\n",
    "\n",
    "f = res[0][1]\n",
    "print('f', f)\n",
    "\n",
    "sig = Sigma([np.log(lam), f], IL, exp_data)\n",
    "print('sigma', sig)\n",
    "\n",
    "results.loc['IL', 'loglike'] = -res[1]\n",
    "results.loc['IL', 'k'] = 3\n",
    "results.loc['IL', 'n'] = len(exp_data)\n",
    "\n",
    "results['cAIC'] = 2 * results['k'] - 2 * results['loglike'] + (2*results['k']**2 + 2*results['k'])/(results['n']-results['k']-1)\n",
    "\n",
    "results"
   ]
  },
  {
   "cell_type": "markdown",
   "metadata": {},
   "source": [
    "# I2"
   ]
  },
  {
   "cell_type": "code",
   "execution_count": null,
   "metadata": {
    "ExecuteTime": {
     "start_time": "2018-06-12T12:53:19.924Z"
    }
   },
   "outputs": [],
   "source": [
    "@np.vectorize\n",
    "def I2(Dbirth, Dcoll, loglam, f):\n",
    "    lam = np.exp(loglam)\n",
    "    return c14_models.I2(Dbirth, Dcoll, lam, f, \n",
    "                         t_eval=np.linspace(Dbirth, Dcoll))[1][-1]"
   ]
  },
  {
   "cell_type": "markdown",
   "metadata": {},
   "source": [
    "## Fit"
   ]
  },
  {
   "cell_type": "code",
   "execution_count": null,
   "metadata": {
    "ExecuteTime": {
     "start_time": "2018-06-12T12:53:19.928Z"
    }
   },
   "outputs": [],
   "source": [
    "res = sp.optimize.brute(func=Nloglike, \n",
    "                  ranges=[(-3, 0.5), (0.85, 1)],\n",
    "                  args = (I2, exp_data),\n",
    "                  Ns = 20,\n",
    "                  full_output = True,\n",
    "                  finish=None)\n",
    "\n",
    "print(res[0])\n",
    "print(res[1])"
   ]
  },
  {
   "cell_type": "code",
   "execution_count": null,
   "metadata": {
    "ExecuteTime": {
     "start_time": "2018-06-12T12:53:19.933Z"
    }
   },
   "outputs": [],
   "source": [
    "x = res[2][0]\n",
    "y = res[2][1]\n",
    "z = res[3]\n",
    "z -= z.min()\n",
    "\n",
    "CS = plt.contour(x, y, z)\n",
    "plt.pcolormesh(x, y, z)\n",
    "\n",
    "plt.clabel(CS, inline=1, fontsize=10)\n",
    "\n",
    "plt.xlabel('loglam')\n",
    "plt.ylabel('f')\n",
    "plt.colorbar()\n",
    "\n",
    "plt.show()"
   ]
  },
  {
   "cell_type": "code",
   "execution_count": null,
   "metadata": {
    "ExecuteTime": {
     "start_time": "2018-06-12T12:53:19.939Z"
    }
   },
   "outputs": [],
   "source": [
    "lam = sp.exp(res[0][0])\n",
    "print('lamda', lam)\n",
    "\n",
    "f = res[0][1]\n",
    "print('f', f)\n",
    "\n",
    "sig = Sigma([np.log(lam), f], I2, exp_data)\n",
    "print('sigma', sig)\n",
    "\n",
    "results.loc['I2', 'loglike'] = -res[1]\n",
    "results.loc['I2', 'k'] = 3\n",
    "results.loc['I2', 'n'] = len(exp_data)\n",
    "\n",
    "results['cAIC'] = 2 * results['k'] - 2 * results['loglike'] + (2*results['k']**2 + 2*results['k'])/(results['n']-results['k']-1)\n",
    "\n",
    "results"
   ]
  },
  {
   "cell_type": "markdown",
   "metadata": {},
   "source": [
    "# Scenario IX2p"
   ]
  },
  {
   "cell_type": "code",
   "execution_count": null,
   "metadata": {
    "ExecuteTime": {
     "start_time": "2018-06-12T12:53:19.942Z"
    }
   },
   "outputs": [],
   "source": [
    "@np.vectorize\n",
    "def IX2p(Dbirth, Dcoll, dloglam1, dloglam2, f1):\n",
    "    dlam1 = np.exp(dloglam1)\n",
    "    dlam2 = np.exp(dloglam2)\n",
    "    \n",
    "    f2 = 1-f1\n",
    "    \n",
    "    return c14_models.IX(Dbirth, Dcoll, [dlam1, dlam2], [f1, f2],\n",
    "                        t_eval=np.linspace(Dbirth, Dcoll))[1][-1]"
   ]
  },
  {
   "cell_type": "markdown",
   "metadata": {},
   "source": [
    "## Fit"
   ]
  },
  {
   "cell_type": "code",
   "execution_count": null,
   "metadata": {
    "ExecuteTime": {
     "start_time": "2018-06-12T12:53:19.944Z"
    }
   },
   "outputs": [],
   "source": [
    "res = sp.optimize.brute(func=Nloglike, \n",
    "                  ranges=[(np.log(0.01), np.log(2.0)),(np.log(0.01), np.log(2.0)) , (0, 1)],\n",
    "                  args = (IX2p, exp_data),\n",
    "                  Ns = 10,\n",
    "                  full_output = True,\n",
    "                  finish=None)\n",
    "\n",
    "print(res[0])\n",
    "print(res[1])"
   ]
  },
  {
   "cell_type": "markdown",
   "metadata": {},
   "source": [
    "## Result"
   ]
  },
  {
   "cell_type": "code",
   "execution_count": null,
   "metadata": {
    "ExecuteTime": {
     "start_time": "2018-06-12T12:53:19.950Z"
    }
   },
   "outputs": [],
   "source": [
    "results.loc['IX2p', 'loglike'] = -res[1]\n",
    "results.loc['IX2p', 'k'] = 4\n",
    "results.loc['IX2p', 'n'] = len(exp_data)\n",
    "\n",
    "results['cAIC'] = 2 * results['k'] - 2 * results['loglike'] + (2*results['k']**2 + 2*results['k'])/(results['n']-results['k']-1)\n",
    "\n",
    "results"
   ]
  },
  {
   "cell_type": "markdown",
   "metadata": {},
   "source": [
    "# Results"
   ]
  },
  {
   "cell_type": "code",
   "execution_count": null,
   "metadata": {
    "ExecuteTime": {
     "start_time": "2018-06-12T12:53:19.955Z"
    }
   },
   "outputs": [],
   "source": [
    "results.sort_values('cAIC')"
   ]
  }
 ],
 "metadata": {
  "anaconda-cloud": {},
  "kernelspec": {
   "display_name": "Python [conda env:py3]",
   "language": "python",
   "name": "conda-env-py3-py"
  },
  "language_info": {
   "codemirror_mode": {
    "name": "ipython",
    "version": 3
   },
   "file_extension": ".py",
   "mimetype": "text/x-python",
   "name": "python",
   "nbconvert_exporter": "python",
   "pygments_lexer": "ipython3",
   "version": "3.6.5"
  },
  "notify_time": "30",
  "toc": {
   "base_numbering": 1,
   "nav_menu": {
    "height": "251px",
    "width": "252px"
   },
   "number_sections": true,
   "sideBar": true,
   "skip_h1_title": false,
   "title_cell": "Table of Contents",
   "title_sidebar": "Contents",
   "toc_cell": false,
   "toc_position": {
    "height": "913px",
    "left": "0px",
    "right": "1708px",
    "top": "111px",
    "width": "212px"
   },
   "toc_section_display": "block",
   "toc_window_display": true
  }
 },
 "nbformat": 4,
 "nbformat_minor": 1
}
