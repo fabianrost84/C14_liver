{
 "cells": [
  {
   "cell_type": "markdown",
   "metadata": {
    "heading_collapsed": true
   },
   "source": [
    "# Preparation"
   ]
  },
  {
   "cell_type": "code",
   "execution_count": 1,
   "metadata": {
    "ExecuteTime": {
     "end_time": "2018-01-16T17:33:10.106043Z",
     "start_time": "2018-01-16T17:33:07.242460Z"
    },
    "hidden": true
   },
   "outputs": [],
   "source": [
    "import iminuit\n",
    "%load_ext line_profiler\n",
    "import matplotlib.pyplot as plt\n",
    "%matplotlib inline\n",
    "import numba\n",
    "import numpy as np\n",
    "import pandas as pd\n",
    "import pymc3 as pm\n",
    "import scipy as sp\n",
    "from scipy import optimize\n",
    "import seaborn as sns\n",
    "from theano.compile.ops import as_op\n",
    "import theano.tensor as tt\n",
    "\n",
    "sns.set_style('darkgrid')\n",
    "sns.set_context('notebook')"
   ]
  },
  {
   "cell_type": "code",
   "execution_count": 2,
   "metadata": {
    "ExecuteTime": {
     "end_time": "2018-01-16T17:33:10.110262Z",
     "start_time": "2018-01-16T17:33:10.107605Z"
    },
    "hidden": true
   },
   "outputs": [],
   "source": [
    "results = pd.DataFrame()"
   ]
  },
  {
   "cell_type": "markdown",
   "metadata": {
    "heading_collapsed": true
   },
   "source": [
    "# Load C14 models"
   ]
  },
  {
   "cell_type": "code",
   "execution_count": 3,
   "metadata": {
    "ExecuteTime": {
     "end_time": "2018-01-16T17:33:10.221881Z",
     "start_time": "2018-01-16T17:33:10.111495Z"
    },
    "hidden": true
   },
   "outputs": [],
   "source": [
    "import c14_models"
   ]
  },
  {
   "cell_type": "markdown",
   "metadata": {
    "heading_collapsed": true
   },
   "source": [
    "# Read patient data"
   ]
  },
  {
   "cell_type": "code",
   "execution_count": 4,
   "metadata": {
    "ExecuteTime": {
     "end_time": "2018-01-16T17:33:10.282877Z",
     "start_time": "2018-01-16T17:33:10.223066Z"
    },
    "hidden": true
   },
   "outputs": [],
   "source": [
    "c14_patient_data = pd.read_excel('data/C14data_liver_samples.xlsx')[['sort', 'Code', 'DOB', 'DOA', u'Δ 14C']]\n",
    "c14_patient_data.columns = ['type', 'pub_id', 'Dbirth', 'Dcoll', 'd14C']\n",
    "c14_patient_data['mass'] = 1.0\n",
    "c14_patient_data['d14C'] /= 1000.0"
   ]
  },
  {
   "cell_type": "code",
   "execution_count": 5,
   "metadata": {
    "ExecuteTime": {
     "end_time": "2018-01-16T17:33:10.303126Z",
     "start_time": "2018-01-16T17:33:10.284231Z"
    },
    "hidden": true
   },
   "outputs": [
    {
     "data": {
      "text/html": [
       "<div>\n",
       "<style>\n",
       "    .dataframe thead tr:only-child th {\n",
       "        text-align: right;\n",
       "    }\n",
       "\n",
       "    .dataframe thead th {\n",
       "        text-align: left;\n",
       "    }\n",
       "\n",
       "    .dataframe tbody tr th {\n",
       "        vertical-align: top;\n",
       "    }\n",
       "</style>\n",
       "<table border=\"1\" class=\"dataframe\">\n",
       "  <thead>\n",
       "    <tr style=\"text-align: right;\">\n",
       "      <th></th>\n",
       "      <th>Dbirth</th>\n",
       "      <th>Dcoll</th>\n",
       "      <th>d14C</th>\n",
       "      <th>mass</th>\n",
       "    </tr>\n",
       "  </thead>\n",
       "  <tbody>\n",
       "    <tr>\n",
       "      <th>count</th>\n",
       "      <td>19.000000</td>\n",
       "      <td>19.000000</td>\n",
       "      <td>19.000000</td>\n",
       "      <td>19.0</td>\n",
       "    </tr>\n",
       "    <tr>\n",
       "      <th>mean</th>\n",
       "      <td>1964.021930</td>\n",
       "      <td>2015.605263</td>\n",
       "      <td>0.043114</td>\n",
       "      <td>1.0</td>\n",
       "    </tr>\n",
       "    <tr>\n",
       "      <th>std</th>\n",
       "      <td>20.059938</td>\n",
       "      <td>3.810909</td>\n",
       "      <td>0.021048</td>\n",
       "      <td>0.0</td>\n",
       "    </tr>\n",
       "    <tr>\n",
       "      <th>min</th>\n",
       "      <td>1932.583333</td>\n",
       "      <td>2004.833333</td>\n",
       "      <td>0.017700</td>\n",
       "      <td>1.0</td>\n",
       "    </tr>\n",
       "    <tr>\n",
       "      <th>25%</th>\n",
       "      <td>1946.166667</td>\n",
       "      <td>2016.458333</td>\n",
       "      <td>0.027331</td>\n",
       "      <td>1.0</td>\n",
       "    </tr>\n",
       "    <tr>\n",
       "      <th>50%</th>\n",
       "      <td>1964.000000</td>\n",
       "      <td>2016.750000</td>\n",
       "      <td>0.039600</td>\n",
       "      <td>1.0</td>\n",
       "    </tr>\n",
       "    <tr>\n",
       "      <th>75%</th>\n",
       "      <td>1981.250000</td>\n",
       "      <td>2017.125000</td>\n",
       "      <td>0.051000</td>\n",
       "      <td>1.0</td>\n",
       "    </tr>\n",
       "    <tr>\n",
       "      <th>max</th>\n",
       "      <td>1995.333333</td>\n",
       "      <td>2017.416667</td>\n",
       "      <td>0.090351</td>\n",
       "      <td>1.0</td>\n",
       "    </tr>\n",
       "  </tbody>\n",
       "</table>\n",
       "</div>"
      ],
      "text/plain": [
       "            Dbirth        Dcoll       d14C  mass\n",
       "count    19.000000    19.000000  19.000000  19.0\n",
       "mean   1964.021930  2015.605263   0.043114   1.0\n",
       "std      20.059938     3.810909   0.021048   0.0\n",
       "min    1932.583333  2004.833333   0.017700   1.0\n",
       "25%    1946.166667  2016.458333   0.027331   1.0\n",
       "50%    1964.000000  2016.750000   0.039600   1.0\n",
       "75%    1981.250000  2017.125000   0.051000   1.0\n",
       "max    1995.333333  2017.416667   0.090351   1.0"
      ]
     },
     "execution_count": 5,
     "metadata": {},
     "output_type": "execute_result"
    }
   ],
   "source": [
    "exp_data = c14_patient_data.query('type == \"hepatocyte\"')\n",
    "exp_data.describe()"
   ]
  },
  {
   "cell_type": "markdown",
   "metadata": {
    "heading_collapsed": true
   },
   "source": [
    "# SSE & log-likelihood"
   ]
  },
  {
   "cell_type": "code",
   "execution_count": 6,
   "metadata": {
    "ExecuteTime": {
     "end_time": "2018-01-16T17:33:10.308781Z",
     "start_time": "2018-01-16T17:33:10.304550Z"
    },
    "hidden": true
   },
   "outputs": [],
   "source": [
    "def SSE(p, model, data):\n",
    "    model_data = model(data['Dbirth'].values, \n",
    "                    data['Dcoll'].values, \n",
    "                    *p)\n",
    "    sse = np.sum((model_data - data['d14C'].values)**2)\n",
    "    return sse    "
   ]
  },
  {
   "cell_type": "code",
   "execution_count": 7,
   "metadata": {
    "ExecuteTime": {
     "end_time": "2018-01-16T17:33:10.318285Z",
     "start_time": "2018-01-16T17:33:10.310237Z"
    },
    "hidden": true
   },
   "outputs": [],
   "source": [
    "def Sigma(p, model, data):\n",
    "    sse = SSE(p, model, data)\n",
    "    n = len(data)\n",
    "    sigma = np.sqrt(sse/n)\n",
    "    return sigma"
   ]
  },
  {
   "cell_type": "code",
   "execution_count": 8,
   "metadata": {
    "ExecuteTime": {
     "end_time": "2018-01-16T17:33:10.330182Z",
     "start_time": "2018-01-16T17:33:10.319669Z"
    },
    "hidden": true
   },
   "outputs": [],
   "source": [
    "def Nloglike(p, model, data):\n",
    "    try:\n",
    "        sse = SSE(p, model, data)\n",
    "    except:\n",
    "        sse = SSE([p], model, data)\n",
    "    n = len(data)\n",
    "    sig = np.sqrt(sse/n)\n",
    "    loglike = -n/2 * np.log(2*np.pi) - n/2 * np.log(sig**2) - 1 / (2*sig**2) * sse\n",
    "    return -loglike"
   ]
  },
  {
   "cell_type": "markdown",
   "metadata": {},
   "source": [
    "# Scenario I1"
   ]
  },
  {
   "cell_type": "code",
   "execution_count": 9,
   "metadata": {
    "ExecuteTime": {
     "end_time": "2018-01-16T17:33:10.339537Z",
     "start_time": "2018-01-16T17:33:10.331314Z"
    }
   },
   "outputs": [],
   "source": [
    "@np.vectorize\n",
    "def I1(Dbirth, Dcoll, loglam):\n",
    "    lam = np.exp(loglam)\n",
    "    return c14_models.I1(Dbirth, Dcoll, lam, t_eval=np.linspace(Dbirth, Dcoll))[1][-1]"
   ]
  },
  {
   "cell_type": "markdown",
   "metadata": {},
   "source": [
    "## Fit"
   ]
  },
  {
   "cell_type": "code",
   "execution_count": 10,
   "metadata": {
    "ExecuteTime": {
     "end_time": "2018-01-16T17:33:20.253511Z",
     "start_time": "2018-01-16T17:33:10.340679Z"
    }
   },
   "outputs": [],
   "source": [
    "res = sp.optimize.brute(func=Nloglike, \n",
    "                  ranges=[(np.log(0.01), np.log(10.0))],\n",
    "                  args = (I1, exp_data),\n",
    "                  Ns = 50,\n",
    "                  full_output = True,\n",
    "                  finish=None)"
   ]
  },
  {
   "cell_type": "code",
   "execution_count": 11,
   "metadata": {
    "ExecuteTime": {
     "end_time": "2018-01-16T17:33:20.439901Z",
     "start_time": "2018-01-16T17:33:20.254919Z"
    }
   },
   "outputs": [
    {
     "data": {
      "image/png": "[encoded data removed]",
      "text/plain": [
       "<matplotlib.figure.Figure at 0x7f28b936bf28>"
      ]
     },
     "metadata": {},
     "output_type": "display_data"
    }
   ],
   "source": [
    "plt.plot(res[-2], res[-1]-res[1])\n",
    "\n",
    "plt.xlabel('loglambda')\n",
    "plt.ylabel('nloglike')\n",
    "\n",
    "plt.show()"
   ]
  },
  {
   "cell_type": "markdown",
   "metadata": {},
   "source": [
    "## Result"
   ]
  },
  {
   "cell_type": "code",
   "execution_count": 12,
   "metadata": {
    "ExecuteTime": {
     "end_time": "2018-01-16T17:33:20.626280Z",
     "start_time": "2018-01-16T17:33:20.441439Z"
    }
   },
   "outputs": [
    {
     "name": "stdout",
     "output_type": "stream",
     "text": [
      "lamda 0.193069772888\n",
      "sigma 0.0168354005996\n"
     ]
    },
    {
     "data": {
      "text/html": [
       "<div>\n",
       "<style>\n",
       "    .dataframe thead tr:only-child th {\n",
       "        text-align: right;\n",
       "    }\n",
       "\n",
       "    .dataframe thead th {\n",
       "        text-align: left;\n",
       "    }\n",
       "\n",
       "    .dataframe tbody tr th {\n",
       "        vertical-align: top;\n",
       "    }\n",
       "</style>\n",
       "<table border=\"1\" class=\"dataframe\">\n",
       "  <thead>\n",
       "    <tr style=\"text-align: right;\">\n",
       "      <th></th>\n",
       "      <th>loglike</th>\n",
       "      <th>k</th>\n",
       "      <th>n</th>\n",
       "      <th>cAIC</th>\n",
       "    </tr>\n",
       "  </thead>\n",
       "  <tbody>\n",
       "    <tr>\n",
       "      <th>I1</th>\n",
       "      <td>50.641325</td>\n",
       "      <td>2.0</td>\n",
       "      <td>19.0</td>\n",
       "      <td>-96.53265</td>\n",
       "    </tr>\n",
       "  </tbody>\n",
       "</table>\n",
       "</div>"
      ],
      "text/plain": [
       "      loglike    k     n      cAIC\n",
       "I1  50.641325  2.0  19.0 -96.53265"
      ]
     },
     "execution_count": 12,
     "metadata": {},
     "output_type": "execute_result"
    }
   ],
   "source": [
    "lam = sp.exp(res[0])\n",
    "print('lamda', lam)\n",
    "\n",
    "sig = Sigma([np.log(lam)], I1, exp_data)\n",
    "print('sigma', sig)\n",
    "\n",
    "results.loc['I1', 'loglike'] = -res[1]\n",
    "results.loc['I1', 'k'] = 2\n",
    "results.loc['I1', 'n'] = len(exp_data)\n",
    "\n",
    "results['cAIC'] = 2 * results['k'] - 2 * results['loglike'] + (2*results['k']**2 + 2*results['k'])/(results['n']-results['k']-1)\n",
    "\n",
    "results"
   ]
  },
  {
   "cell_type": "markdown",
   "metadata": {},
   "source": [
    "# IK"
   ]
  },
  {
   "cell_type": "code",
   "execution_count": 13,
   "metadata": {
    "ExecuteTime": {
     "end_time": "2018-01-16T17:33:20.630801Z",
     "start_time": "2018-01-16T17:33:20.627740Z"
    }
   },
   "outputs": [],
   "source": [
    "@np.vectorize\n",
    "def IK(Dbirth, Dcoll, loglam, f):\n",
    "    lam = np.exp(loglam)\n",
    "    return c14_models.IK(Dbirth, Dcoll, lam, f, t_eval=np.linspace(Dbirth, Dcoll))[1][-1]"
   ]
  },
  {
   "cell_type": "markdown",
   "metadata": {},
   "source": [
    "## Fit"
   ]
  },
  {
   "cell_type": "code",
   "execution_count": 14,
   "metadata": {
    "ExecuteTime": {
     "end_time": "2018-01-16T17:41:07.103077Z",
     "start_time": "2018-01-16T17:33:20.632601Z"
    }
   },
   "outputs": [
    {
     "name": "stdout",
     "output_type": "stream",
     "text": [
      "[-0.57894737  0.35789474]\n",
      "-50.6767518261\n"
     ]
    }
   ],
   "source": [
    "res = sp.optimize.brute(func=Nloglike, \n",
    "                  ranges=[(-1.5, 1), (0.2, 0.95)],\n",
    "                  args = (IK, exp_data),\n",
    "                  Ns = 20,\n",
    "                  full_output = True,\n",
    "                  finish=None)\n",
    "\n",
    "print(res[0])\n",
    "print(res[1])"
   ]
  },
  {
   "cell_type": "code",
   "execution_count": 15,
   "metadata": {
    "ExecuteTime": {
     "end_time": "2018-01-16T17:41:07.309691Z",
     "start_time": "2018-01-16T17:41:07.104340Z"
    }
   },
   "outputs": [
    {
     "data": {
      "image/png": "[encoded data removed]",
      "text/plain": [
       "<matplotlib.figure.Figure at 0x7f28b8c739e8>"
      ]
     },
     "metadata": {},
     "output_type": "display_data"
    }
   ],
   "source": [
    "x = res[2][0]\n",
    "y = res[2][1]\n",
    "z = res[3]\n",
    "z -= z.min()\n",
    "\n",
    "CS = plt.contour(x, y, z)\n",
    "plt.pcolormesh(x, y, z, vmax=8)\n",
    "\n",
    "plt.clabel(CS, inline=1, fontsize=10)\n",
    "\n",
    "plt.xlabel('loglam')\n",
    "plt.ylabel('f')\n",
    "plt.colorbar()\n",
    "\n",
    "plt.show()"
   ]
  },
  {
   "cell_type": "markdown",
   "metadata": {},
   "source": [
    "## Result"
   ]
  },
  {
   "cell_type": "code",
   "execution_count": 16,
   "metadata": {
    "ExecuteTime": {
     "end_time": "2018-01-16T17:41:08.458293Z",
     "start_time": "2018-01-16T17:41:07.311677Z"
    }
   },
   "outputs": [
    {
     "name": "stdout",
     "output_type": "stream",
     "text": [
      "lamda 0.560488043569\n",
      "f 0.357894736842\n",
      "sigma 0.0168040391187\n"
     ]
    },
    {
     "data": {
      "text/html": [
       "<div>\n",
       "<style>\n",
       "    .dataframe thead tr:only-child th {\n",
       "        text-align: right;\n",
       "    }\n",
       "\n",
       "    .dataframe thead th {\n",
       "        text-align: left;\n",
       "    }\n",
       "\n",
       "    .dataframe tbody tr th {\n",
       "        vertical-align: top;\n",
       "    }\n",
       "</style>\n",
       "<table border=\"1\" class=\"dataframe\">\n",
       "  <thead>\n",
       "    <tr style=\"text-align: right;\">\n",
       "      <th></th>\n",
       "      <th>loglike</th>\n",
       "      <th>k</th>\n",
       "      <th>n</th>\n",
       "      <th>cAIC</th>\n",
       "    </tr>\n",
       "  </thead>\n",
       "  <tbody>\n",
       "    <tr>\n",
       "      <th>I1</th>\n",
       "      <td>50.641325</td>\n",
       "      <td>2.0</td>\n",
       "      <td>19.0</td>\n",
       "      <td>-96.532650</td>\n",
       "    </tr>\n",
       "    <tr>\n",
       "      <th>IK</th>\n",
       "      <td>50.676752</td>\n",
       "      <td>3.0</td>\n",
       "      <td>19.0</td>\n",
       "      <td>-93.753504</td>\n",
       "    </tr>\n",
       "  </tbody>\n",
       "</table>\n",
       "</div>"
      ],
      "text/plain": [
       "      loglike    k     n       cAIC\n",
       "I1  50.641325  2.0  19.0 -96.532650\n",
       "IK  50.676752  3.0  19.0 -93.753504"
      ]
     },
     "execution_count": 16,
     "metadata": {},
     "output_type": "execute_result"
    }
   ],
   "source": [
    "lam = sp.exp(res[0][0])\n",
    "print('lamda', lam)\n",
    "\n",
    "f = res[0][1]\n",
    "print('f', f)\n",
    "\n",
    "sig = Sigma([np.log(lam), f], IK, exp_data)\n",
    "print('sigma', sig)\n",
    "\n",
    "results.loc['IK', 'loglike'] = -res[1]\n",
    "results.loc['IK', 'k'] = 3\n",
    "results.loc['IK', 'n'] = len(exp_data)\n",
    "\n",
    "results['cAIC'] = 2 * results['k'] - 2 * results['loglike'] + (2*results['k']**2 + 2*results['k'])/(results['n']-results['k']-1)\n",
    "\n",
    "results"
   ]
  },
  {
   "cell_type": "markdown",
   "metadata": {},
   "source": [
    "# IL"
   ]
  },
  {
   "cell_type": "code",
   "execution_count": 17,
   "metadata": {
    "ExecuteTime": {
     "end_time": "2018-01-16T17:41:08.464345Z",
     "start_time": "2018-01-16T17:41:08.460103Z"
    }
   },
   "outputs": [],
   "source": [
    "@np.vectorize\n",
    "def IL(Dbirth, Dcoll, loglam, f):\n",
    "    lam = np.exp(loglam)\n",
    "    return c14_models.IL(Dbirth, Dcoll, lam, f, t_eval=np.linspace(Dbirth, Dcoll))[1][-1]"
   ]
  },
  {
   "cell_type": "markdown",
   "metadata": {},
   "source": [
    "## Fit"
   ]
  },
  {
   "cell_type": "code",
   "execution_count": 18,
   "metadata": {
    "ExecuteTime": {
     "end_time": "2018-01-16T17:51:05.128614Z",
     "start_time": "2018-01-16T17:41:08.466091Z"
    }
   },
   "outputs": [
    {
     "name": "stdout",
     "output_type": "stream",
     "text": [
      "[-1.15789474  0.47421053]\n",
      "-50.7317642285\n"
     ]
    }
   ],
   "source": [
    "res = sp.optimize.brute(func=Nloglike, \n",
    "                  ranges=[(-2, 2), (0.01, 0.99)],\n",
    "                  args = (IL, exp_data),\n",
    "                  Ns = 20,\n",
    "                  full_output = True,\n",
    "                  finish=None)\n",
    "\n",
    "print(res[0])\n",
    "print(res[1])"
   ]
  },
  {
   "cell_type": "code",
   "execution_count": 19,
   "metadata": {
    "ExecuteTime": {
     "end_time": "2018-01-16T17:51:05.325008Z",
     "start_time": "2018-01-16T17:51:05.129870Z"
    }
   },
   "outputs": [
    {
     "data": {
      "image/png": "[encoded data removed]",
      "text/plain": [
       "<matplotlib.figure.Figure at 0x7f28b8d1ea58>"
      ]
     },
     "metadata": {},
     "output_type": "display_data"
    }
   ],
   "source": [
    "x = res[2][0]\n",
    "y = res[2][1]\n",
    "z = res[3]\n",
    "z -= z.min()\n",
    "\n",
    "CS = plt.contour(x, y, z)\n",
    "plt.pcolormesh(x, y, z, vmax=8)\n",
    "\n",
    "plt.clabel(CS, inline=1, fontsize=10)\n",
    "\n",
    "plt.xlabel('loglam')\n",
    "plt.ylabel('f')\n",
    "plt.colorbar()\n",
    "\n",
    "plt.show()"
   ]
  },
  {
   "cell_type": "markdown",
   "metadata": {},
   "source": [
    "## Result"
   ]
  },
  {
   "cell_type": "code",
   "execution_count": 20,
   "metadata": {
    "ExecuteTime": {
     "end_time": "2018-01-16T17:51:06.352716Z",
     "start_time": "2018-01-16T17:51:05.326217Z"
    }
   },
   "outputs": [
    {
     "name": "stdout",
     "output_type": "stream",
     "text": [
      "lamda 0.314146846984\n",
      "f 0.474210526316\n",
      "sigma 0.0167554552472\n"
     ]
    },
    {
     "data": {
      "text/html": [
       "<div>\n",
       "<style>\n",
       "    .dataframe thead tr:only-child th {\n",
       "        text-align: right;\n",
       "    }\n",
       "\n",
       "    .dataframe thead th {\n",
       "        text-align: left;\n",
       "    }\n",
       "\n",
       "    .dataframe tbody tr th {\n",
       "        vertical-align: top;\n",
       "    }\n",
       "</style>\n",
       "<table border=\"1\" class=\"dataframe\">\n",
       "  <thead>\n",
       "    <tr style=\"text-align: right;\">\n",
       "      <th></th>\n",
       "      <th>loglike</th>\n",
       "      <th>k</th>\n",
       "      <th>n</th>\n",
       "      <th>cAIC</th>\n",
       "    </tr>\n",
       "  </thead>\n",
       "  <tbody>\n",
       "    <tr>\n",
       "      <th>I1</th>\n",
       "      <td>50.641325</td>\n",
       "      <td>2.0</td>\n",
       "      <td>19.0</td>\n",
       "      <td>-96.532650</td>\n",
       "    </tr>\n",
       "    <tr>\n",
       "      <th>IK</th>\n",
       "      <td>50.676752</td>\n",
       "      <td>3.0</td>\n",
       "      <td>19.0</td>\n",
       "      <td>-93.753504</td>\n",
       "    </tr>\n",
       "    <tr>\n",
       "      <th>IL</th>\n",
       "      <td>50.731764</td>\n",
       "      <td>3.0</td>\n",
       "      <td>19.0</td>\n",
       "      <td>-93.863528</td>\n",
       "    </tr>\n",
       "  </tbody>\n",
       "</table>\n",
       "</div>"
      ],
      "text/plain": [
       "      loglike    k     n       cAIC\n",
       "I1  50.641325  2.0  19.0 -96.532650\n",
       "IK  50.676752  3.0  19.0 -93.753504\n",
       "IL  50.731764  3.0  19.0 -93.863528"
      ]
     },
     "execution_count": 20,
     "metadata": {},
     "output_type": "execute_result"
    }
   ],
   "source": [
    "lam = sp.exp(res[0][0])\n",
    "print('lamda', lam)\n",
    "\n",
    "f = res[0][1]\n",
    "print('f', f)\n",
    "\n",
    "sig = Sigma([np.log(lam), f], IL, exp_data)\n",
    "print('sigma', sig)\n",
    "\n",
    "results.loc['IL', 'loglike'] = -res[1]\n",
    "results.loc['IL', 'k'] = 3\n",
    "results.loc['IL', 'n'] = len(exp_data)\n",
    "\n",
    "results['cAIC'] = 2 * results['k'] - 2 * results['loglike'] + (2*results['k']**2 + 2*results['k'])/(results['n']-results['k']-1)\n",
    "\n",
    "results"
   ]
  },
  {
   "cell_type": "markdown",
   "metadata": {},
   "source": [
    "# I2"
   ]
  },
  {
   "cell_type": "code",
   "execution_count": 21,
   "metadata": {
    "ExecuteTime": {
     "end_time": "2018-01-16T17:51:06.357291Z",
     "start_time": "2018-01-16T17:51:06.354073Z"
    }
   },
   "outputs": [],
   "source": [
    "@np.vectorize\n",
    "def I2(Dbirth, Dcoll, loglam, f):\n",
    "    lam = np.exp(loglam)\n",
    "    return c14_models.I2(Dbirth, Dcoll, lam, f, \n",
    "                         t_eval=np.linspace(Dbirth, Dcoll))[1][-1]"
   ]
  },
  {
   "cell_type": "markdown",
   "metadata": {},
   "source": [
    "## Fit"
   ]
  },
  {
   "cell_type": "code",
   "execution_count": 22,
   "metadata": {
    "ExecuteTime": {
     "end_time": "2018-01-16T17:52:09.575309Z",
     "start_time": "2018-01-16T17:51:06.358676Z"
    }
   },
   "outputs": [
    {
     "name": "stdout",
     "output_type": "stream",
     "text": [
      "[-1.52631579  0.99210526]\n",
      "-50.5808207182\n"
     ]
    }
   ],
   "source": [
    "res = sp.optimize.brute(func=Nloglike, \n",
    "                  ranges=[(-3, 0.5), (0.85, 1)],\n",
    "                  args = (I2, exp_data),\n",
    "                  Ns = 20,\n",
    "                  full_output = True,\n",
    "                  finish=None)\n",
    "\n",
    "print(res[0])\n",
    "print(res[1])"
   ]
  },
  {
   "cell_type": "code",
   "execution_count": 23,
   "metadata": {
    "ExecuteTime": {
     "end_time": "2018-01-16T17:52:09.773358Z",
     "start_time": "2018-01-16T17:52:09.576395Z"
    }
   },
   "outputs": [
    {
     "data": {
      "image/png": "[encoded data removed]",
      "text/plain": [
       "<matplotlib.figure.Figure at 0x7f28b8d1e390>"
      ]
     },
     "metadata": {},
     "output_type": "display_data"
    }
   ],
   "source": [
    "x = res[2][0]\n",
    "y = res[2][1]\n",
    "z = res[3]\n",
    "z -= z.min()\n",
    "\n",
    "CS = plt.contour(x, y, z)\n",
    "plt.pcolormesh(x, y, z)\n",
    "\n",
    "plt.clabel(CS, inline=1, fontsize=10)\n",
    "\n",
    "plt.xlabel('loglam')\n",
    "plt.ylabel('f')\n",
    "plt.colorbar()\n",
    "\n",
    "plt.show()"
   ]
  },
  {
   "cell_type": "code",
   "execution_count": 24,
   "metadata": {
    "ExecuteTime": {
     "end_time": "2018-01-16T17:52:09.957660Z",
     "start_time": "2018-01-16T17:52:09.776439Z"
    }
   },
   "outputs": [
    {
     "name": "stdout",
     "output_type": "stream",
     "text": [
      "lamda 0.217334901671\n",
      "f 0.992105263158\n",
      "sigma 0.0168890973567\n"
     ]
    },
    {
     "data": {
      "text/html": [
       "<div>\n",
       "<style>\n",
       "    .dataframe thead tr:only-child th {\n",
       "        text-align: right;\n",
       "    }\n",
       "\n",
       "    .dataframe thead th {\n",
       "        text-align: left;\n",
       "    }\n",
       "\n",
       "    .dataframe tbody tr th {\n",
       "        vertical-align: top;\n",
       "    }\n",
       "</style>\n",
       "<table border=\"1\" class=\"dataframe\">\n",
       "  <thead>\n",
       "    <tr style=\"text-align: right;\">\n",
       "      <th></th>\n",
       "      <th>loglike</th>\n",
       "      <th>k</th>\n",
       "      <th>n</th>\n",
       "      <th>cAIC</th>\n",
       "    </tr>\n",
       "  </thead>\n",
       "  <tbody>\n",
       "    <tr>\n",
       "      <th>I1</th>\n",
       "      <td>50.641325</td>\n",
       "      <td>2.0</td>\n",
       "      <td>19.0</td>\n",
       "      <td>-96.532650</td>\n",
       "    </tr>\n",
       "    <tr>\n",
       "      <th>IK</th>\n",
       "      <td>50.676752</td>\n",
       "      <td>3.0</td>\n",
       "      <td>19.0</td>\n",
       "      <td>-93.753504</td>\n",
       "    </tr>\n",
       "    <tr>\n",
       "      <th>IL</th>\n",
       "      <td>50.731764</td>\n",
       "      <td>3.0</td>\n",
       "      <td>19.0</td>\n",
       "      <td>-93.863528</td>\n",
       "    </tr>\n",
       "    <tr>\n",
       "      <th>I2</th>\n",
       "      <td>50.580821</td>\n",
       "      <td>3.0</td>\n",
       "      <td>19.0</td>\n",
       "      <td>-93.561641</td>\n",
       "    </tr>\n",
       "  </tbody>\n",
       "</table>\n",
       "</div>"
      ],
      "text/plain": [
       "      loglike    k     n       cAIC\n",
       "I1  50.641325  2.0  19.0 -96.532650\n",
       "IK  50.676752  3.0  19.0 -93.753504\n",
       "IL  50.731764  3.0  19.0 -93.863528\n",
       "I2  50.580821  3.0  19.0 -93.561641"
      ]
     },
     "execution_count": 24,
     "metadata": {},
     "output_type": "execute_result"
    }
   ],
   "source": [
    "lam = sp.exp(res[0][0])\n",
    "print('lamda', lam)\n",
    "\n",
    "f = res[0][1]\n",
    "print('f', f)\n",
    "\n",
    "sig = Sigma([np.log(lam), f], I2, exp_data)\n",
    "print('sigma', sig)\n",
    "\n",
    "results.loc['I2', 'loglike'] = -res[1]\n",
    "results.loc['I2', 'k'] = 3\n",
    "results.loc['I2', 'n'] = len(exp_data)\n",
    "\n",
    "results['cAIC'] = 2 * results['k'] - 2 * results['loglike'] + (2*results['k']**2 + 2*results['k'])/(results['n']-results['k']-1)\n",
    "\n",
    "results"
   ]
  },
  {
   "cell_type": "markdown",
   "metadata": {},
   "source": [
    "# Scenario IX2p"
   ]
  },
  {
   "cell_type": "code",
   "execution_count": 25,
   "metadata": {
    "ExecuteTime": {
     "end_time": "2018-01-16T17:52:09.966517Z",
     "start_time": "2018-01-16T17:52:09.959296Z"
    }
   },
   "outputs": [],
   "source": [
    "@np.vectorize\n",
    "def IX2p(Dbirth, Dcoll, dloglam1, dloglam2, f1):\n",
    "    dlam1 = np.exp(dloglam1)\n",
    "    dlam2 = np.exp(dloglam2)\n",
    "    \n",
    "    f2 = 1-f1\n",
    "    \n",
    "    return c14_models.IX(Dbirth, Dcoll, [dlam1, dlam2], [f1, f2],\n",
    "                        t_eval=np.linspace(Dbirth, Dcoll))[1][-1]"
   ]
  },
  {
   "cell_type": "markdown",
   "metadata": {},
   "source": [
    "## Fit"
   ]
  },
  {
   "cell_type": "code",
   "execution_count": 26,
   "metadata": {
    "ExecuteTime": {
     "end_time": "2018-01-16T17:57:26.547613Z",
     "start_time": "2018-01-16T17:52:09.968284Z"
    }
   },
   "outputs": [
    {
     "name": "stdout",
     "output_type": "stream",
     "text": [
      "[-2.8390644  -0.48425668  0.22222222]\n",
      "-51.5940985725\n"
     ]
    }
   ],
   "source": [
    "res = sp.optimize.brute(func=Nloglike, \n",
    "                  ranges=[(np.log(0.01), np.log(2.0)),(np.log(0.01), np.log(2.0)) , (0, 1)],\n",
    "                  args = (IX2p, exp_data),\n",
    "                  Ns = 10,\n",
    "                  full_output = True,\n",
    "                  finish=None)\n",
    "\n",
    "print(res[0])\n",
    "print(res[1])"
   ]
  },
  {
   "cell_type": "markdown",
   "metadata": {},
   "source": [
    "## Result"
   ]
  },
  {
   "cell_type": "code",
   "execution_count": 27,
   "metadata": {
    "ExecuteTime": {
     "end_time": "2018-01-16T17:57:26.560825Z",
     "start_time": "2018-01-16T17:57:26.548942Z"
    }
   },
   "outputs": [
    {
     "data": {
      "text/html": [
       "<div>\n",
       "<style>\n",
       "    .dataframe thead tr:only-child th {\n",
       "        text-align: right;\n",
       "    }\n",
       "\n",
       "    .dataframe thead th {\n",
       "        text-align: left;\n",
       "    }\n",
       "\n",
       "    .dataframe tbody tr th {\n",
       "        vertical-align: top;\n",
       "    }\n",
       "</style>\n",
       "<table border=\"1\" class=\"dataframe\">\n",
       "  <thead>\n",
       "    <tr style=\"text-align: right;\">\n",
       "      <th></th>\n",
       "      <th>loglike</th>\n",
       "      <th>k</th>\n",
       "      <th>n</th>\n",
       "      <th>cAIC</th>\n",
       "    </tr>\n",
       "  </thead>\n",
       "  <tbody>\n",
       "    <tr>\n",
       "      <th>I1</th>\n",
       "      <td>50.641325</td>\n",
       "      <td>2.0</td>\n",
       "      <td>19.0</td>\n",
       "      <td>-96.532650</td>\n",
       "    </tr>\n",
       "    <tr>\n",
       "      <th>IK</th>\n",
       "      <td>50.676752</td>\n",
       "      <td>3.0</td>\n",
       "      <td>19.0</td>\n",
       "      <td>-93.753504</td>\n",
       "    </tr>\n",
       "    <tr>\n",
       "      <th>IL</th>\n",
       "      <td>50.731764</td>\n",
       "      <td>3.0</td>\n",
       "      <td>19.0</td>\n",
       "      <td>-93.863528</td>\n",
       "    </tr>\n",
       "    <tr>\n",
       "      <th>I2</th>\n",
       "      <td>50.580821</td>\n",
       "      <td>3.0</td>\n",
       "      <td>19.0</td>\n",
       "      <td>-93.561641</td>\n",
       "    </tr>\n",
       "    <tr>\n",
       "      <th>IX2p</th>\n",
       "      <td>51.594099</td>\n",
       "      <td>4.0</td>\n",
       "      <td>19.0</td>\n",
       "      <td>-92.331054</td>\n",
       "    </tr>\n",
       "  </tbody>\n",
       "</table>\n",
       "</div>"
      ],
      "text/plain": [
       "        loglike    k     n       cAIC\n",
       "I1    50.641325  2.0  19.0 -96.532650\n",
       "IK    50.676752  3.0  19.0 -93.753504\n",
       "IL    50.731764  3.0  19.0 -93.863528\n",
       "I2    50.580821  3.0  19.0 -93.561641\n",
       "IX2p  51.594099  4.0  19.0 -92.331054"
      ]
     },
     "execution_count": 27,
     "metadata": {},
     "output_type": "execute_result"
    }
   ],
   "source": [
    "results.loc['IX2p', 'loglike'] = -res[1]\n",
    "results.loc['IX2p', 'k'] = 4\n",
    "results.loc['IX2p', 'n'] = len(exp_data)\n",
    "\n",
    "results['cAIC'] = 2 * results['k'] - 2 * results['loglike'] + (2*results['k']**2 + 2*results['k'])/(results['n']-results['k']-1)\n",
    "\n",
    "results"
   ]
  },
  {
   "cell_type": "markdown",
   "metadata": {},
   "source": [
    "# Results"
   ]
  },
  {
   "cell_type": "code",
   "execution_count": 28,
   "metadata": {
    "ExecuteTime": {
     "end_time": "2018-01-16T17:57:26.574026Z",
     "start_time": "2018-01-16T17:57:26.562094Z"
    }
   },
   "outputs": [
    {
     "data": {
      "text/html": [
       "<div>\n",
       "<style>\n",
       "    .dataframe thead tr:only-child th {\n",
       "        text-align: right;\n",
       "    }\n",
       "\n",
       "    .dataframe thead th {\n",
       "        text-align: left;\n",
       "    }\n",
       "\n",
       "    .dataframe tbody tr th {\n",
       "        vertical-align: top;\n",
       "    }\n",
       "</style>\n",
       "<table border=\"1\" class=\"dataframe\">\n",
       "  <thead>\n",
       "    <tr style=\"text-align: right;\">\n",
       "      <th></th>\n",
       "      <th>loglike</th>\n",
       "      <th>k</th>\n",
       "      <th>n</th>\n",
       "      <th>cAIC</th>\n",
       "    </tr>\n",
       "  </thead>\n",
       "  <tbody>\n",
       "    <tr>\n",
       "      <th>I1</th>\n",
       "      <td>50.641325</td>\n",
       "      <td>2.0</td>\n",
       "      <td>19.0</td>\n",
       "      <td>-96.532650</td>\n",
       "    </tr>\n",
       "    <tr>\n",
       "      <th>IL</th>\n",
       "      <td>50.731764</td>\n",
       "      <td>3.0</td>\n",
       "      <td>19.0</td>\n",
       "      <td>-93.863528</td>\n",
       "    </tr>\n",
       "    <tr>\n",
       "      <th>IK</th>\n",
       "      <td>50.676752</td>\n",
       "      <td>3.0</td>\n",
       "      <td>19.0</td>\n",
       "      <td>-93.753504</td>\n",
       "    </tr>\n",
       "    <tr>\n",
       "      <th>I2</th>\n",
       "      <td>50.580821</td>\n",
       "      <td>3.0</td>\n",
       "      <td>19.0</td>\n",
       "      <td>-93.561641</td>\n",
       "    </tr>\n",
       "    <tr>\n",
       "      <th>IX2p</th>\n",
       "      <td>51.594099</td>\n",
       "      <td>4.0</td>\n",
       "      <td>19.0</td>\n",
       "      <td>-92.331054</td>\n",
       "    </tr>\n",
       "  </tbody>\n",
       "</table>\n",
       "</div>"
      ],
      "text/plain": [
       "        loglike    k     n       cAIC\n",
       "I1    50.641325  2.0  19.0 -96.532650\n",
       "IL    50.731764  3.0  19.0 -93.863528\n",
       "IK    50.676752  3.0  19.0 -93.753504\n",
       "I2    50.580821  3.0  19.0 -93.561641\n",
       "IX2p  51.594099  4.0  19.0 -92.331054"
      ]
     },
     "execution_count": 28,
     "metadata": {},
     "output_type": "execute_result"
    }
   ],
   "source": [
    "results.sort_values('cAIC')"
   ]
  }
 ],
 "metadata": {
  "anaconda-cloud": {},
  "kernelspec": {
   "display_name": "Python [default]",
   "language": "python",
   "name": "python3"
  },
  "language_info": {
   "codemirror_mode": {
    "name": "ipython",
    "version": 3
   },
   "file_extension": ".py",
   "mimetype": "text/x-python",
   "name": "python",
   "nbconvert_exporter": "python",
   "pygments_lexer": "ipython3",
   "version": "3.6.4"
  },
  "notify_time": "30",
  "toc": {
   "base_numbering": 1,
   "nav_menu": {
    "height": "251px",
    "width": "252px"
   },
   "number_sections": true,
   "sideBar": true,
   "skip_h1_title": false,
   "title_cell": "Table of Contents",
   "title_sidebar": "Contents",
   "toc_cell": false,
   "toc_position": {
    "height": "913px",
    "left": "0px",
    "right": "1708px",
    "top": "111px",
    "width": "212px"
   },
   "toc_section_display": "block",
   "toc_window_display": true
  }
 },
 "nbformat": 4,
 "nbformat_minor": 1
}
