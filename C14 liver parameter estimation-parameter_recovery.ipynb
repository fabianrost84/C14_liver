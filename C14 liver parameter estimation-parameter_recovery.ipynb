{
 "cells": [
  {
   "cell_type": "code",
   "execution_count": 1,
   "metadata": {
    "ExecuteTime": {
     "end_time": "2018-01-16T16:58:40.236842Z",
     "start_time": "2018-01-16T16:58:36.868997Z"
    }
   },
   "outputs": [],
   "source": [
    "import iminuit\n",
    "%load_ext line_profiler\n",
    "import matplotlib.pyplot as plt\n",
    "%matplotlib inline\n",
    "import numba\n",
    "import numpy as np\n",
    "import pandas as pd\n",
    "import pymc3 as pm\n",
    "import scipy as sp\n",
    "from scipy import optimize\n",
    "import seaborn as sns\n",
    "from theano.compile.ops import as_op\n",
    "import theano.tensor as tt\n",
    "\n",
    "sns.set_style('darkgrid')\n",
    "sns.set_context('notebook')"
   ]
  },
  {
   "cell_type": "code",
   "execution_count": 2,
   "metadata": {
    "ExecuteTime": {
     "end_time": "2018-01-16T16:58:40.243014Z",
     "start_time": "2018-01-16T16:58:40.238606Z"
    }
   },
   "outputs": [],
   "source": [
    "def CI(M, p):\n",
    "    value = M.values[p]\n",
    "    lower = M.get_merrors()[p]['lower']\n",
    "    upper = M.get_merrors()[p]['upper']\n",
    "    return value + lower, value + upper"
   ]
  },
  {
   "cell_type": "code",
   "execution_count": 3,
   "metadata": {
    "ExecuteTime": {
     "end_time": "2018-01-16T16:58:40.254864Z",
     "start_time": "2018-01-16T16:58:40.244538Z"
    }
   },
   "outputs": [],
   "source": [
    "results = pd.DataFrame()"
   ]
  },
  {
   "cell_type": "markdown",
   "metadata": {},
   "source": [
    "# Load C14 models"
   ]
  },
  {
   "cell_type": "code",
   "execution_count": 4,
   "metadata": {
    "ExecuteTime": {
     "end_time": "2018-01-16T16:58:40.375096Z",
     "start_time": "2018-01-16T16:58:40.256673Z"
    }
   },
   "outputs": [],
   "source": [
    "import c14_models"
   ]
  },
  {
   "cell_type": "markdown",
   "metadata": {
    "heading_collapsed": true
   },
   "source": [
    "# Read patient data"
   ]
  },
  {
   "cell_type": "code",
   "execution_count": 5,
   "metadata": {
    "ExecuteTime": {
     "end_time": "2018-01-16T16:58:40.438949Z",
     "start_time": "2018-01-16T16:58:40.376691Z"
    },
    "hidden": true
   },
   "outputs": [],
   "source": [
    "c14_patient_data = pd.read_excel('data/C14data_liver_samples.xlsx')[['sort', 'Code', 'DOB', 'DOA', u'Δ 14C']]\n",
    "c14_patient_data.columns = ['type', 'pub_id', 'Dbirth', 'Dcoll', 'd14C']\n",
    "c14_patient_data['mass'] = 1.0\n",
    "c14_patient_data['d14C'] /= 1000.0"
   ]
  },
  {
   "cell_type": "code",
   "execution_count": 6,
   "metadata": {
    "ExecuteTime": {
     "end_time": "2018-01-16T16:58:40.464321Z",
     "start_time": "2018-01-16T16:58:40.440792Z"
    },
    "hidden": true
   },
   "outputs": [
    {
     "data": {
      "text/html": [
       "<div>\n",
       "<style>\n",
       "    .dataframe thead tr:only-child th {\n",
       "        text-align: right;\n",
       "    }\n",
       "\n",
       "    .dataframe thead th {\n",
       "        text-align: left;\n",
       "    }\n",
       "\n",
       "    .dataframe tbody tr th {\n",
       "        vertical-align: top;\n",
       "    }\n",
       "</style>\n",
       "<table border=\"1\" class=\"dataframe\">\n",
       "  <thead>\n",
       "    <tr style=\"text-align: right;\">\n",
       "      <th></th>\n",
       "      <th>Dbirth</th>\n",
       "      <th>Dcoll</th>\n",
       "      <th>d14C</th>\n",
       "      <th>mass</th>\n",
       "    </tr>\n",
       "  </thead>\n",
       "  <tbody>\n",
       "    <tr>\n",
       "      <th>count</th>\n",
       "      <td>19.000000</td>\n",
       "      <td>19.000000</td>\n",
       "      <td>19.000000</td>\n",
       "      <td>19.0</td>\n",
       "    </tr>\n",
       "    <tr>\n",
       "      <th>mean</th>\n",
       "      <td>1964.021930</td>\n",
       "      <td>2015.605263</td>\n",
       "      <td>0.043114</td>\n",
       "      <td>1.0</td>\n",
       "    </tr>\n",
       "    <tr>\n",
       "      <th>std</th>\n",
       "      <td>20.059938</td>\n",
       "      <td>3.810909</td>\n",
       "      <td>0.021048</td>\n",
       "      <td>0.0</td>\n",
       "    </tr>\n",
       "    <tr>\n",
       "      <th>min</th>\n",
       "      <td>1932.583333</td>\n",
       "      <td>2004.833333</td>\n",
       "      <td>0.017700</td>\n",
       "      <td>1.0</td>\n",
       "    </tr>\n",
       "    <tr>\n",
       "      <th>25%</th>\n",
       "      <td>1946.166667</td>\n",
       "      <td>2016.458333</td>\n",
       "      <td>0.027331</td>\n",
       "      <td>1.0</td>\n",
       "    </tr>\n",
       "    <tr>\n",
       "      <th>50%</th>\n",
       "      <td>1964.000000</td>\n",
       "      <td>2016.750000</td>\n",
       "      <td>0.039600</td>\n",
       "      <td>1.0</td>\n",
       "    </tr>\n",
       "    <tr>\n",
       "      <th>75%</th>\n",
       "      <td>1981.250000</td>\n",
       "      <td>2017.125000</td>\n",
       "      <td>0.051000</td>\n",
       "      <td>1.0</td>\n",
       "    </tr>\n",
       "    <tr>\n",
       "      <th>max</th>\n",
       "      <td>1995.333333</td>\n",
       "      <td>2017.416667</td>\n",
       "      <td>0.090351</td>\n",
       "      <td>1.0</td>\n",
       "    </tr>\n",
       "  </tbody>\n",
       "</table>\n",
       "</div>"
      ],
      "text/plain": [
       "            Dbirth        Dcoll       d14C  mass\n",
       "count    19.000000    19.000000  19.000000  19.0\n",
       "mean   1964.021930  2015.605263   0.043114   1.0\n",
       "std      20.059938     3.810909   0.021048   0.0\n",
       "min    1932.583333  2004.833333   0.017700   1.0\n",
       "25%    1946.166667  2016.458333   0.027331   1.0\n",
       "50%    1964.000000  2016.750000   0.039600   1.0\n",
       "75%    1981.250000  2017.125000   0.051000   1.0\n",
       "max    1995.333333  2017.416667   0.090351   1.0"
      ]
     },
     "execution_count": 6,
     "metadata": {},
     "output_type": "execute_result"
    }
   ],
   "source": [
    "exp_data = c14_patient_data.query('type == \"hepatocyte\"')\n",
    "exp_data.describe()"
   ]
  },
  {
   "cell_type": "markdown",
   "metadata": {
    "heading_collapsed": true
   },
   "source": [
    "# SSE & log-likelihood"
   ]
  },
  {
   "cell_type": "code",
   "execution_count": 7,
   "metadata": {
    "ExecuteTime": {
     "end_time": "2018-01-16T16:58:40.471389Z",
     "start_time": "2018-01-16T16:58:40.465891Z"
    },
    "hidden": true
   },
   "outputs": [],
   "source": [
    "def SSE(p, model, data):\n",
    "    model_data = model(data['Dbirth'].values, \n",
    "                    data['Dcoll'].values, \n",
    "                    *p)\n",
    "    sse = np.sum((model_data - data['d14C'].values)**2)\n",
    "    return sse    "
   ]
  },
  {
   "cell_type": "code",
   "execution_count": 8,
   "metadata": {
    "ExecuteTime": {
     "end_time": "2018-01-16T16:58:40.482092Z",
     "start_time": "2018-01-16T16:58:40.473283Z"
    },
    "hidden": true
   },
   "outputs": [],
   "source": [
    "def Sigma(p, model, data):\n",
    "    sse = SSE(p, model, data)\n",
    "    n = len(data)\n",
    "    sigma = np.sqrt(sse/n)\n",
    "    return sigma"
   ]
  },
  {
   "cell_type": "code",
   "execution_count": 9,
   "metadata": {
    "ExecuteTime": {
     "end_time": "2018-01-16T16:58:40.495462Z",
     "start_time": "2018-01-16T16:58:40.483560Z"
    },
    "hidden": true
   },
   "outputs": [],
   "source": [
    "def Nloglike(p, model, data):\n",
    "    try:\n",
    "        sse = SSE(p, model, data)\n",
    "    except:\n",
    "        sse = SSE([p], model, data)\n",
    "    n = len(data)\n",
    "    sig = np.sqrt(sse/n)\n",
    "    loglike = -n/2 * np.log(2*np.pi) - n/2 * np.log(sig**2) - 1 / (2*sig**2) * sse\n",
    "    return -loglike"
   ]
  },
  {
   "cell_type": "markdown",
   "metadata": {},
   "source": [
    "# Scenario I1"
   ]
  },
  {
   "cell_type": "code",
   "execution_count": 10,
   "metadata": {
    "ExecuteTime": {
     "end_time": "2018-01-16T16:58:40.506031Z",
     "start_time": "2018-01-16T16:58:40.497183Z"
    }
   },
   "outputs": [],
   "source": [
    "@np.vectorize\n",
    "def I1(Dbirth, Dcoll, loglam):\n",
    "    lam = np.exp(loglam)\n",
    "    return c14_models.I1(Dbirth, Dcoll, lam, t_eval=np.linspace(Dbirth, Dcoll))[1][-1]"
   ]
  },
  {
   "cell_type": "markdown",
   "metadata": {},
   "source": [
    "## Artifical data"
   ]
  },
  {
   "cell_type": "code",
   "execution_count": 11,
   "metadata": {
    "ExecuteTime": {
     "end_time": "2018-01-16T16:58:41.131976Z",
     "start_time": "2018-01-16T16:58:40.507658Z"
    }
   },
   "outputs": [],
   "source": [
    "lam = 0.1\n",
    "n = 20\n",
    "np.random.seed(42)\n",
    "artifical_data = pd.DataFrame(\n",
    "                    data={'Dbirth': \n",
    "                               np.random.uniform(1930, 1970, n), \n",
    "                          'Dcoll': \n",
    "                               np.random.uniform(2014, 2018, n)}\n",
    "                             )\n",
    "\n",
    "artifical_data['d14C'] = I1(artifical_data['Dbirth'], \n",
    "                            artifical_data['Dcoll'], \n",
    "                            loglam=np.log(lam)) \n",
    "artifical_data['d14C'] += np.random.normal(0, 0.01, \n",
    "                                           len(artifical_data)\n",
    "                                          )"
   ]
  },
  {
   "cell_type": "code",
   "execution_count": 12,
   "metadata": {
    "ExecuteTime": {
     "end_time": "2018-01-16T16:58:41.140693Z",
     "start_time": "2018-01-16T16:58:41.133461Z"
    }
   },
   "outputs": [
    {
     "data": {
      "text/html": [
       "<div>\n",
       "<style>\n",
       "    .dataframe thead tr:only-child th {\n",
       "        text-align: right;\n",
       "    }\n",
       "\n",
       "    .dataframe thead th {\n",
       "        text-align: left;\n",
       "    }\n",
       "\n",
       "    .dataframe tbody tr th {\n",
       "        vertical-align: top;\n",
       "    }\n",
       "</style>\n",
       "<table border=\"1\" class=\"dataframe\">\n",
       "  <thead>\n",
       "    <tr style=\"text-align: right;\">\n",
       "      <th></th>\n",
       "      <th>Dbirth</th>\n",
       "      <th>Dcoll</th>\n",
       "      <th>d14C</th>\n",
       "    </tr>\n",
       "  </thead>\n",
       "  <tbody>\n",
       "    <tr>\n",
       "      <th>0</th>\n",
       "      <td>1944.981605</td>\n",
       "      <td>2016.447412</td>\n",
       "      <td>0.068665</td>\n",
       "    </tr>\n",
       "    <tr>\n",
       "      <th>1</th>\n",
       "      <td>1968.028572</td>\n",
       "      <td>2014.557975</td>\n",
       "      <td>0.072392</td>\n",
       "    </tr>\n",
       "    <tr>\n",
       "      <th>2</th>\n",
       "      <td>1959.279758</td>\n",
       "      <td>2015.168579</td>\n",
       "      <td>0.084824</td>\n",
       "    </tr>\n",
       "    <tr>\n",
       "      <th>3</th>\n",
       "      <td>1953.946339</td>\n",
       "      <td>2015.465447</td>\n",
       "      <td>0.062206</td>\n",
       "    </tr>\n",
       "    <tr>\n",
       "      <th>4</th>\n",
       "      <td>1936.240746</td>\n",
       "      <td>2015.824280</td>\n",
       "      <td>0.074498</td>\n",
       "    </tr>\n",
       "  </tbody>\n",
       "</table>\n",
       "</div>"
      ],
      "text/plain": [
       "        Dbirth        Dcoll      d14C\n",
       "0  1944.981605  2016.447412  0.068665\n",
       "1  1968.028572  2014.557975  0.072392\n",
       "2  1959.279758  2015.168579  0.084824\n",
       "3  1953.946339  2015.465447  0.062206\n",
       "4  1936.240746  2015.824280  0.074498"
      ]
     },
     "execution_count": 12,
     "metadata": {},
     "output_type": "execute_result"
    }
   ],
   "source": [
    "artifical_data.head()"
   ]
  },
  {
   "cell_type": "markdown",
   "metadata": {},
   "source": [
    "### Parameter recovery"
   ]
  },
  {
   "cell_type": "markdown",
   "metadata": {},
   "source": [
    "#### Brute force"
   ]
  },
  {
   "cell_type": "code",
   "execution_count": 13,
   "metadata": {
    "ExecuteTime": {
     "end_time": "2018-01-16T16:58:43.865842Z",
     "start_time": "2018-01-16T16:58:41.142175Z"
    }
   },
   "outputs": [],
   "source": [
    "res = sp.optimize.brute(func=Nloglike, \n",
    "                  ranges=[(np.log(0.01), np.log(10.0))],\n",
    "                  args = (I1, artifical_data),\n",
    "                  Ns = 10,\n",
    "                  full_output = True,\n",
    "                  finish=None)"
   ]
  },
  {
   "cell_type": "code",
   "execution_count": 14,
   "metadata": {
    "ExecuteTime": {
     "end_time": "2018-01-16T16:58:44.057306Z",
     "start_time": "2018-01-16T16:58:43.867362Z"
    }
   },
   "outputs": [
    {
     "name": "stdout",
     "output_type": "stream",
     "text": [
      "lamda 0.1\n",
      "sigma 0.00926419903019\n"
     ]
    }
   ],
   "source": [
    "lam = sp.exp(res[0])\n",
    "print('lamda', lam)\n",
    "\n",
    "sig = Sigma([np.log(lam)], I1, artifical_data)\n",
    "print('sigma', sig)"
   ]
  },
  {
   "cell_type": "markdown",
   "metadata": {},
   "source": [
    "#### Minuit"
   ]
  },
  {
   "cell_type": "code",
   "execution_count": 15,
   "metadata": {
    "ExecuteTime": {
     "end_time": "2018-01-16T16:58:58.159894Z",
     "start_time": "2018-01-16T16:58:44.058630Z"
    }
   },
   "outputs": [
    {
     "data": {
      "text/html": [
       "<hr>"
      ]
     },
     "metadata": {},
     "output_type": "display_data"
    },
    {
     "data": {
      "text/html": [
       "\n",
       "        <table>\n",
       "            <tr>\n",
       "                <td title=\"Minimum value of function\">FCN = -66.82552888478445</td>\n",
       "                <td title=\"Total number of call to FCN so far\">TOTAL NCALL = 78</td>\n",
       "                <td title=\"Number of call in last migrad\">NCALLS = 78</td>\n",
       "            </tr>\n",
       "            <tr>\n",
       "                <td title=\"Estimated distance to minimum\">EDM = 0.00036614805524242175</td>\n",
       "                <td title=\"Maximum EDM definition of convergence\">GOAL EDM = 5e-06</td>\n",
       "                <td title=\"Error def. Amount of increase in FCN to be defined as 1 standard deviation\">\n",
       "                UP = 0.5</td>\n",
       "            </tr>\n",
       "        </table>\n",
       "        \n",
       "        <table>\n",
       "            <tr>\n",
       "                <td align=\"center\" title=\"Validity of the migrad call\">Valid</td>\n",
       "                <td align=\"center\" title=\"Validity of parameters\">Valid Param</td>\n",
       "                <td align=\"center\" title=\"Is Covariance matrix accurate?\">Accurate Covar</td>\n",
       "                <td align=\"center\" title=\"Positive definiteness of covariance matrix\">PosDef</td>\n",
       "                <td align=\"center\" title=\"Was covariance matrix made posdef by adding diagonal element\">Made PosDef</td>\n",
       "            </tr>\n",
       "            <tr>\n",
       "                <td align=\"center\" style=\"background-color:#92CCA6\">True</td>\n",
       "                <td align=\"center\" style=\"background-color:#92CCA6\">True</td>\n",
       "                <td align=\"center\" style=\"background-color:#92CCA6\">True</td>\n",
       "                <td align=\"center\" style=\"background-color:#92CCA6\">True</td>\n",
       "                <td align=\"center\" style=\"background-color:#92CCA6\">False</td>\n",
       "            </tr>\n",
       "            <tr>\n",
       "                <td align=\"center\" title=\"Was last hesse call fail?\">Hesse Fail</td>\n",
       "                <td align=\"center\" title=\"Validity of covariance\">HasCov</td>\n",
       "                <td align=\"center\" title=\"Is EDM above goal EDM?\">Above EDM</td>\n",
       "                <td align=\"center\"></td>\n",
       "                <td align=\"center\" title=\"Did last migrad call reach max call limit?\">Reach calllim</td>\n",
       "            </tr>\n",
       "            <tr>\n",
       "                <td align=\"center\" style=\"background-color:#92CCA6\">False</td>\n",
       "                <td align=\"center\" style=\"background-color:#92CCA6\">True</td>\n",
       "                <td align=\"center\" style=\"background-color:#92CCA6\">False</td>\n",
       "                <td align=\"center\"></td>\n",
       "                <td align=\"center\" style=\"background-color:#92CCA6\">False</td>\n",
       "            </tr>\n",
       "        </table>\n",
       "        "
      ]
     },
     "metadata": {},
     "output_type": "display_data"
    },
    {
     "data": {
      "text/html": [
       "\n",
       "        <table>\n",
       "            <tr>\n",
       "                <td><a href=\"#\" onclick=\"$('#ZWOGQvePIG').toggle()\">+</a></td>\n",
       "                <td title=\"Variable name\">Name</td>\n",
       "                <td title=\"Value of parameter\">Value</td>\n",
       "                <td title=\"Parabolic error\">Parab Error</td>\n",
       "                <td title=\"Minos lower error\">Minos Error-</td>\n",
       "                <td title=\"Minos upper error\">Minos Error+</td>\n",
       "                <td title=\"Lower limit of the parameter\">Limit-</td>\n",
       "                <td title=\"Upper limit of the parameter\">Limit+</td>\n",
       "                <td title=\"Is the parameter fixed in the fit\">FIXED</td>\n",
       "            </tr>\n",
       "        \n",
       "            <tr>\n",
       "                <td>1</td>\n",
       "                <td>loglam</td>\n",
       "                <td>-2.24995</td>\n",
       "                <td>0.000861099</td>\n",
       "                <td>0</td>\n",
       "                <td>0</td>\n",
       "                <td></td>\n",
       "                <td></td>\n",
       "                <td></td>\n",
       "            </tr>\n",
       "            \n",
       "            </table>\n",
       "        \n",
       "            <pre id=\"ZWOGQvePIG\" style=\"display:none;\">\n",
       "            <textarea rows=\"8\" cols=\"50\" onclick=\"this.select()\" readonly>\\begin{tabular}{|c|r|r|r|r|r|r|r|c|}\n",
       "\\hline\n",
       " & Name & Value & Para Error & Error+ & Error- & Limit+ & Limit- & FIXED\\\\\n",
       "\\hline\n",
       "1 & loglam & -2.250e+00 & 8.611e-04 &  &  &  &  & \\\\\n",
       "\\hline\n",
       "\\end{tabular}</textarea>\n",
       "            </pre>\n",
       "            "
      ]
     },
     "metadata": {},
     "output_type": "display_data"
    },
    {
     "data": {
      "text/html": [
       "<hr>"
      ]
     },
     "metadata": {},
     "output_type": "display_data"
    }
   ],
   "source": [
    "M_I1_test = iminuit.Minuit(lambda loglam: Nloglike([loglam], I1, artifical_data),\n",
    "                          errordef=0.5,\n",
    "                          loglam=np.log(1.1), error_loglam=0.01)\n",
    "_ = M_I1_test.migrad()"
   ]
  },
  {
   "cell_type": "markdown",
   "metadata": {
    "deletable": false,
    "editable": false,
    "run_control": {
     "frozen": true
    }
   },
   "source": [
    "#### Pymc3"
   ]
  },
  {
   "cell_type": "code",
   "execution_count": 16,
   "metadata": {
    "ExecuteTime": {
     "end_time": "2018-01-16T17:05:02.524226Z",
     "start_time": "2018-01-16T16:58:58.161439Z"
    }
   },
   "outputs": [
    {
     "name": "stderr",
     "output_type": "stream",
     "text": [
      "100%|██████████| 1000/1000 [06:01<00:00,  2.76it/s]\n"
     ]
    },
    {
     "data": {
      "image/png": "[encoded data removed]",
      "text/plain": [
       "<matplotlib.figure.Figure at 0x7fe28b683278>"
      ]
     },
     "metadata": {},
     "output_type": "display_data"
    }
   ],
   "source": [
    "@as_op(itypes=[tt.dscalar], otypes=[tt.dvector])\n",
    "def pmI1(loglam):\n",
    "    lam = np.exp(loglam)\n",
    "    c = np.empty_like(artifical_data['Dbirth'])\n",
    "    \n",
    "    for i, (Db, Dc) in enumerate(zip(artifical_data['Dbirth'], artifical_data['Dcoll'])):\n",
    "        c[i] = c14_models.I1(Db, Dc, lam, t_eval=np.linspace(Db, Dc))[1][-1]\n",
    "    return c\n",
    "\n",
    "I1_model = pm.Model()\n",
    "\n",
    "with I1_model:\n",
    "\n",
    "    # Priors for unknown model parameters\n",
    "    loglam = pm.Uniform('loglam', lower=np.log(0.05), upper=np.log(0.2))\n",
    "    sigma = 0.01 #pm.HalfNormal('sigma', sd=1)\n",
    "\n",
    "    # Expected value of outcome\n",
    "    mu = pmI1(loglam)\n",
    "\n",
    "    # Likelihood (sampling distribution) of observations\n",
    "    Y_obs = pm.Normal('Y_obs', mu=mu, sd=sigma, observed=artifical_data['d14C'].values)\n",
    "\n",
    "with I1_model:\n",
    "    trace = pm.sample(step=pm.Metropolis())\n",
    "\n",
    "_ = pm.traceplot(trace)"
   ]
  }
 ],
 "metadata": {
  "anaconda-cloud": {},
  "kernelspec": {
   "display_name": "Python 3",
   "language": "python",
   "name": "python3"
  },
  "language_info": {
   "codemirror_mode": {
    "name": "ipython",
    "version": 3
   },
   "file_extension": ".py",
   "mimetype": "text/x-python",
   "name": "python",
   "nbconvert_exporter": "python",
   "pygments_lexer": "ipython3",
   "version": "3.6.4"
  },
  "notify_time": "30",
  "toc": {
   "nav_menu": {
    "height": "251px",
    "width": "252px"
   },
   "number_sections": true,
   "sideBar": true,
   "skip_h1_title": false,
   "toc_cell": false,
   "toc_position": {
    "height": "913px",
    "left": "0px",
    "right": "1708px",
    "top": "111px",
    "width": "212px"
   },
   "toc_section_display": "block",
   "toc_window_display": true
  }
 },
 "nbformat": 4,
 "nbformat_minor": 1
}
