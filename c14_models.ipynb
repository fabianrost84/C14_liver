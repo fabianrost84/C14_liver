{
 "cells": [
  {
   "cell_type": "code",
   "execution_count": null,
   "metadata": {
    "ExecuteTime": {
     "end_time": "2018-01-16T12:29:27.037111Z",
     "start_time": "2018-01-16T12:29:24.788884Z"
    }
   },
   "outputs": [],
   "source": [
    "import matplotlib.pyplot as plt\n",
    "%matplotlib inline\n",
    "import numba\n",
    "import numpy as np\n",
    "import scipy as sp\n",
    "import seaborn as sns\n",
    "%load_ext watermark\n",
    "%watermark\n",
    "%watermark -p scipy"
   ]
  },
  {
   "cell_type": "code",
   "execution_count": null,
   "metadata": {
    "ExecuteTime": {
     "end_time": "2018-01-16T12:29:27.206793Z",
     "start_time": "2018-01-16T12:29:27.039022Z"
    }
   },
   "outputs": [],
   "source": [
    "import c14_models"
   ]
  },
  {
   "cell_type": "markdown",
   "metadata": {},
   "source": [
    "# Atmospheric C14 function"
   ]
  },
  {
   "cell_type": "code",
   "execution_count": null,
   "metadata": {
    "ExecuteTime": {
     "end_time": "2018-01-16T12:29:27.210890Z",
     "start_time": "2018-01-16T12:29:27.208404Z"
    }
   },
   "outputs": [],
   "source": [
    "C_atm = c14_models.C_atm"
   ]
  },
  {
   "cell_type": "code",
   "execution_count": null,
   "metadata": {
    "ExecuteTime": {
     "end_time": "2018-01-16T12:29:28.419992Z",
     "start_time": "2018-01-16T12:29:27.883298Z"
    }
   },
   "outputs": [],
   "source": [
    "tt = np.linspace(1930, 2020)\n",
    "plt.plot(tt, np.vectorize(C_atm)(tt))\n",
    "\n",
    "plt.xlabel('year')\n",
    "plt.ylabel('atm. C14')\n",
    "\n",
    "plt.show()"
   ]
  },
  {
   "cell_type": "markdown",
   "metadata": {},
   "source": [
    "# Scenario I1_d1"
   ]
  },
  {
   "cell_type": "markdown",
   "metadata": {},
   "source": [
    "I stands for inheritence. Half of the DNA is inherited from the mother to the daughter.\n",
    "1 stands for 1 population.\n",
    "d1 stands for single daughter assumption."
   ]
  },
  {
   "cell_type": "markdown",
   "metadata": {},
   "source": [
    "## Discretization of master equation"
   ]
  },
  {
   "cell_type": "code",
   "execution_count": null,
   "metadata": {
    "ExecuteTime": {
     "end_time": "2018-01-16T12:29:30.269648Z",
     "start_time": "2018-01-16T12:29:30.137089Z"
    }
   },
   "outputs": [],
   "source": [
    "@numba.njit\n",
    "def f(t, C):\n",
    "    return 0.5 * (C + C_atm(t))\n",
    "\n",
    "@numba.njit\n",
    "def find_nearest(C, CC):\n",
    "    dC = (CC[1] - CC[0])/ (CC[-1] - CC[0]) \n",
    "    i = np.rint((C - CC[0])/ (CC[-1] - CC[0]) /dC)\n",
    "    i = i.astype(np.int16)\n",
    "    return i\n",
    "\n",
    "@numba.njit\n",
    "def k(t, CC, C):\n",
    "    return find_nearest(f(t, C), CC)\n",
    "\n",
    "@numba.njit\n",
    "def kCC(t, CC):\n",
    "    return k(t, CC, CC)\n",
    "\n",
    "@numba.njit\n",
    "def target_matrix(t, CC):\n",
    "    n = len(CC)\n",
    "    T = np.zeros((n, n))\n",
    "    k = kCC(t, CC)\n",
    "    for j, i in enumerate(k):\n",
    "        T[i, j] = 1.0\n",
    "    return T\n",
    "\n",
    "@numba.njit\n",
    "def rate_matrix(t, CC):\n",
    "    T = target_matrix(t, CC)\n",
    "    A = T - np.eye(len(CC))\n",
    "    return A\n",
    "\n",
    "@numba.njit\n",
    "def rhs(N, t0, CC, r):\n",
    "    A = rate_matrix(t0, CC)\n",
    "    dNdt = r * A @ N\n",
    "    return dNdt\n",
    "\n",
    "@numba.jit\n",
    "def I1_d1a(Dbirth, Dcoll, r, n=3, dt = 0.1):\n",
    "    C_min = -0.024899999999999999\n",
    "    C_max = 0.8357\n",
    "    \n",
    "    CC = np.linspace(C_min, C_max, n)\n",
    "    \n",
    "    N0 = np.zeros(n)\n",
    "    N0[find_nearest(np.array([C_atm(Dbirth)]), CC)] = 1\n",
    "    \n",
    "    t= (Dbirth, Dcoll)\n",
    "    sol = sp.integrate.odeint(rhs, N0, t, args=(CC, r), mxstep=int(1e5))\n",
    "    N = sol[-1]\n",
    "    C = np.average(CC, weights=N)\n",
    "    return C"
   ]
  },
  {
   "cell_type": "markdown",
   "metadata": {
    "collapsed": true
   },
   "source": [
    "## Gillespie"
   ]
  },
  {
   "cell_type": "code",
   "execution_count": null,
   "metadata": {
    "ExecuteTime": {
     "end_time": "2018-01-16T12:29:31.123293Z",
     "start_time": "2018-01-16T12:29:31.108785Z"
    }
   },
   "outputs": [],
   "source": [
    "@numba.njit\n",
    "def C_L1_cell(Dbirth, Dcoll, r, C_init=np.inf):\n",
    "    t = Dbirth\n",
    "    \n",
    "    if C_init==np.inf:\n",
    "        C_init = C_atm(t)\n",
    "    c = C_init\n",
    "    \n",
    "    while True:\n",
    "        t += np.random.exponential(1/r)\n",
    "        if t > Dcoll:\n",
    "            break\n",
    "        else:\n",
    "            c = 0.5 * (c + C_atm(t))\n",
    "    return c\n",
    "\n",
    "@numba.njit\n",
    "def I1_d1b(Dbirth, Dcoll, r, N=1000, C_init=np.inf):\n",
    "    cc = np.array([C_L1_cell(Dbirth, Dcoll, r, C_init) for i in range(N)])\n",
    "    return cc.mean()"
   ]
  },
  {
   "cell_type": "markdown",
   "metadata": {},
   "source": [
    "## ODE"
   ]
  },
  {
   "cell_type": "markdown",
   "metadata": {},
   "source": [
    "You get this ODE by calculating the first moment of the master equation."
   ]
  },
  {
   "cell_type": "code",
   "execution_count": null,
   "metadata": {
    "ExecuteTime": {
     "end_time": "2018-01-16T12:29:32.468375Z",
     "start_time": "2018-01-16T12:29:32.465290Z"
    }
   },
   "outputs": [],
   "source": [
    "None==None"
   ]
  },
  {
   "cell_type": "code",
   "execution_count": null,
   "metadata": {
    "ExecuteTime": {
     "end_time": "2018-01-16T12:29:38.026519Z",
     "start_time": "2018-01-16T12:29:38.014557Z"
    }
   },
   "outputs": [],
   "source": [
    "def I1_d1(Dbirth, Dcoll, r, C_init=np.inf, t_eval=None):\n",
    "    if C_init==np.inf:\n",
    "        C_init = C_atm(Dbirth)\n",
    "        \n",
    "    if t_eval==None:\n",
    "        t_eval = [Dcoll]\n",
    "\n",
    "    def rhs(t, c, r):\n",
    "        return 0.5 * r * (C_atm(t) - c)\n",
    "    def Dfun(c, t0, r):\n",
    "        return -0.5 * r\n",
    "    C = sp.integrate.solve_ivp(fun=lambda t, c: rhs(t, c, r=r),\n",
    "                               t_span=[Dbirth, Dcoll],\n",
    "                               y0=[C_init], \n",
    "                               t_eval=t_eval)['y'][0, 0]\n",
    "    return C"
   ]
  },
  {
   "cell_type": "markdown",
   "metadata": {},
   "source": [
    "## Compare"
   ]
  },
  {
   "cell_type": "markdown",
   "metadata": {},
   "source": [
    "Same results:"
   ]
  },
  {
   "cell_type": "code",
   "execution_count": null,
   "metadata": {
    "ExecuteTime": {
     "end_time": "2018-01-16T12:29:41.118328Z",
     "start_time": "2018-01-16T12:29:38.843713Z"
    }
   },
   "outputs": [],
   "source": [
    "print(I1_d1a(1930, 2015, 0.1, n=30))\n",
    "print(I1_d1b(1930, 2015, 0.1, 1000))\n",
    "print(I1_d1(1930, 2015, 0.1))"
   ]
  },
  {
   "cell_type": "markdown",
   "metadata": {},
   "source": [
    "Performance:"
   ]
  },
  {
   "cell_type": "markdown",
   "metadata": {},
   "source": [
    "# Scenario I1"
   ]
  },
  {
   "cell_type": "markdown",
   "metadata": {},
   "source": [
    "I stands for inheritence. Half of the DNA is inherited from the mother to the daughter.\n",
    "1 stands for 1 population.\n",
    "Here, the more realistic 2 daughter assumption is used."
   ]
  },
  {
   "cell_type": "markdown",
   "metadata": {},
   "source": [
    "## Gillespie"
   ]
  },
  {
   "cell_type": "code",
   "execution_count": null,
   "metadata": {
    "ExecuteTime": {
     "end_time": "2018-01-16T12:29:41.121609Z",
     "start_time": "2018-01-16T12:29:41.119696Z"
    }
   },
   "outputs": [],
   "source": [
    "I1a = c14_models.I1a"
   ]
  },
  {
   "cell_type": "markdown",
   "metadata": {},
   "source": [
    "## Empirical ODE"
   ]
  },
  {
   "cell_type": "code",
   "execution_count": null,
   "metadata": {
    "ExecuteTime": {
     "end_time": "2018-01-16T12:29:41.134896Z",
     "start_time": "2018-01-16T12:29:41.122830Z"
    }
   },
   "outputs": [],
   "source": [
    "I1 = c14_models.I1"
   ]
  },
  {
   "cell_type": "markdown",
   "metadata": {},
   "source": [
    "## Compare"
   ]
  },
  {
   "cell_type": "code",
   "execution_count": null,
   "metadata": {
    "ExecuteTime": {
     "end_time": "2018-01-16T12:29:42.327781Z",
     "start_time": "2018-01-16T12:29:41.557552Z"
    }
   },
   "outputs": [],
   "source": [
    "lam = 0.1\n",
    "\n",
    "np.random.seed(42)\n",
    "plt.plot(*I1a(1930, 2015, lam, lam, N=1000), label='Gillespie')\n",
    "plt.plot(*I1(1930, 2015, lam, t_eval=np.linspace(1930, 2015)), \n",
    "         label='ODE')\n",
    "\n",
    "plt.legend()\n",
    "\n",
    "plt.xlabel('year')\n",
    "plt.ylabel('C14')\n",
    "\n",
    "plt.show()"
   ]
  },
  {
   "cell_type": "markdown",
   "metadata": {},
   "source": [
    "# Scenario I1C"
   ]
  },
  {
   "cell_type": "markdown",
   "metadata": {},
   "source": [
    "C... division rate depends on subject's age"
   ]
  },
  {
   "cell_type": "markdown",
   "metadata": {},
   "source": [
    "## ODE"
   ]
  },
  {
   "cell_type": "code",
   "execution_count": null,
   "metadata": {
    "ExecuteTime": {
     "end_time": "2018-01-16T12:29:42.775915Z",
     "start_time": "2018-01-16T12:29:42.748761Z"
    }
   },
   "outputs": [],
   "source": [
    "def I1C(Dbirth, Dcoll, r0, r1, C_init=np.inf, timing=False):\n",
    "    if C_init==np.inf:\n",
    "        C_init = C_atm(Dbirth)\n",
    "    \n",
    "    def r(t, r0, r1):\n",
    "         return r0 * np.exp(-r1 * (t-Dbirth))\n",
    "    \n",
    "    def rhs(t, c, r0, r1):\n",
    "        return r(t, r0, r1) * (C_atm(t) - c)\n",
    "    \n",
    "    if timing:\n",
    "        t_eval = np.linspace(Dbirth, Dcoll, 100)\n",
    "    else:\n",
    "        t_eval = [Dcoll]\n",
    "#     CC = sp.integrate.odeint(rhs, C_init, tt, args = (r, ), Dfun = Dfun)[:, 0]\n",
    "    \n",
    "    C = sp.integrate.solve_ivp(fun=lambda t, c: rhs(t, c, r0=r0, r1=r1),\n",
    "                               t_span=[Dbirth, Dcoll],\n",
    "                               y0=[C_init], \n",
    "                               t_eval=t_eval)\n",
    "    \n",
    "    if timing:\n",
    "        return C['t'], C['y'][0]\n",
    "    else:\n",
    "        return C['y'][0, 0]"
   ]
  },
  {
   "cell_type": "markdown",
   "metadata": {},
   "source": [
    "## Compare"
   ]
  },
  {
   "cell_type": "code",
   "execution_count": null,
   "metadata": {
    "ExecuteTime": {
     "end_time": "2018-01-16T12:29:43.377342Z",
     "start_time": "2018-01-16T12:29:43.250053Z"
    }
   },
   "outputs": [],
   "source": [
    "plt.plot(tt, np.vectorize(C_atm)(tt))\n",
    "plt.plot(*I1C(1950, 2015, 0.1, 1e-1, timing=True), label='ODE')\n",
    "\n",
    "plt.legend()\n",
    "\n",
    "plt.xlabel('year')\n",
    "plt.ylabel('C14')\n",
    "\n",
    "plt.show()"
   ]
  },
  {
   "cell_type": "markdown",
   "metadata": {},
   "source": [
    "# Scenario I1E"
   ]
  },
  {
   "cell_type": "markdown",
   "metadata": {},
   "source": [
    "E...Age-dependent death rate"
   ]
  },
  {
   "cell_type": "markdown",
   "metadata": {},
   "source": [
    "## Time-discrete implementation"
   ]
  },
  {
   "cell_type": "code",
   "execution_count": null,
   "metadata": {
    "ExecuteTime": {
     "end_time": "2018-01-16T12:29:44.586688Z",
     "start_time": "2018-01-16T12:29:44.544473Z"
    }
   },
   "outputs": [],
   "source": [
    "@numba.njit\n",
    "def k(a, g0, g1):\n",
    "    return g0 * g1 / (g1 + a)\n",
    "\n",
    "@numba.njit\n",
    "def I1Ea(Dbirth, Dcoll, g0, g1, C_init=np.inf, N=1000, dt=0.1):\n",
    "    t = Dbirth\n",
    "    \n",
    "    if C_init==np.inf:\n",
    "        C_init = C_atm(t)\n",
    "    cc = C_init * np.ones(N)\n",
    "    aa = np.zeros(N)\n",
    "    \n",
    "    tt = np.arange(Dbirth, Dcoll, dt)\n",
    "    cc_mean = np.empty_like(tt)\n",
    "    \n",
    "    for i, t in enumerate(tt):\n",
    "        pp = k(aa, g0, g1) * dt\n",
    "        \n",
    "        die = np.random.rand(N) < pp\n",
    "        die_ind = np.where(die)[0]\n",
    "        \n",
    "        div_ind = np.random.choice(np.where(~die)[0], size=len(die_ind), replace=False)\n",
    "        \n",
    "        cc_new = 0.5 * (cc[div_ind] + C_atm(t))\n",
    "        \n",
    "        cc[div_ind] = cc_new\n",
    "        aa[div_ind] = 0.0\n",
    "        \n",
    "        cc[die_ind] = cc_new\n",
    "        aa[die_ind] = 0.0\n",
    "        \n",
    "        cc_mean[i] = cc.mean()\n",
    "        \n",
    "        aa += dt\n",
    "    return aa, tt, cc_mean"
   ]
  },
  {
   "cell_type": "markdown",
   "metadata": {},
   "source": [
    "## ODE"
   ]
  },
  {
   "cell_type": "code",
   "execution_count": null,
   "metadata": {
    "ExecuteTime": {
     "end_time": "2018-01-16T12:29:45.339181Z",
     "start_time": "2018-01-16T12:29:45.336713Z"
    }
   },
   "outputs": [],
   "source": [
    "a, *_ = 1, 2, 3"
   ]
  },
  {
   "cell_type": "code",
   "execution_count": null,
   "metadata": {
    "ExecuteTime": {
     "end_time": "2018-01-16T12:29:45.714964Z",
     "start_time": "2018-01-16T12:29:45.703382Z"
    }
   },
   "outputs": [],
   "source": [
    "def I1E(Dbirth, Dcoll, g0, g1, C_init=np.inf, t_eval=None):\n",
    "    if t_eval is None:\n",
    "        t_eval = [Dcoll]\n",
    "    if C_init==np.inf:\n",
    "        C_init = C_atm(Dbirth)\n",
    "        \n",
    "    # in the future get analytic expression to calculate steady state age distribution \n",
    "    aa, *_ = I1Ea(Dbirth, Dcoll, g0, g1, N=1000, dt=0.001)    \n",
    "    r1 = k(aa, g0, g1).mean()\n",
    "    \n",
    "    tt_I1, CC_I1 = I1(Dbirth, Dcoll, r1, t_eval=t_eval)\n",
    "    \n",
    "    return tt_I1, CC_I1"
   ]
  },
  {
   "cell_type": "markdown",
   "metadata": {},
   "source": [
    "## Compare"
   ]
  },
  {
   "cell_type": "code",
   "execution_count": null,
   "metadata": {
    "ExecuteTime": {
     "end_time": "2018-01-16T12:29:49.719886Z",
     "start_time": "2018-01-16T12:29:46.682448Z"
    }
   },
   "outputs": [],
   "source": [
    "np.random.seed(42)\n",
    "g0 = 0.1\n",
    "g1 = 5.0\n",
    "\n",
    "tt = np.linspace(1930, 2020)\n",
    "plt.plot(tt, np.vectorize(C_atm)(tt))\n",
    "\n",
    "np.random.seed(42)\n",
    "aa_I1E, tt_I1E, CC_I1Ea = I1Ea(1930, 2015, g0, g1, N=1000, dt=0.001)\n",
    "plt.plot(tt_I1E, CC_I1Ea, label = 'I1Ea')\n",
    "\n",
    "plt.plot(*I1E(1930, 2015, g0, g1, t_eval=tt_I1E), label = 'I1E')\n",
    "\n",
    "\n",
    "\n",
    "plt.xlabel('year')\n",
    "plt.ylabel('C14 concentration')\n",
    "plt.legend()\n",
    "\n",
    "plt.show()"
   ]
  },
  {
   "cell_type": "code",
   "execution_count": null,
   "metadata": {
    "ExecuteTime": {
     "end_time": "2018-01-16T12:29:50.819762Z",
     "start_time": "2018-01-16T12:29:49.721132Z"
    }
   },
   "outputs": [],
   "source": [
    "Dbirth = 1930\n",
    "Dcoll = 2015\n",
    "g0 = 0.1\n",
    "g1 = 5.0\n",
    "aa_I1E, tt_I1E, CC_I1Ea = I1Ea(1930, 2015, g0, g1, N=1000, dt=0.001)"
   ]
  },
  {
   "cell_type": "code",
   "execution_count": null,
   "metadata": {
    "ExecuteTime": {
     "end_time": "2018-01-16T12:29:50.830074Z",
     "start_time": "2018-01-16T12:29:50.821252Z"
    }
   },
   "outputs": [],
   "source": [
    "def func(lam):\n",
    "     return np.sum((I1(Dbirth, Dcoll, lam, t_eval=tt_I1E)[1] - CC_I1Ea)**2)"
   ]
  },
  {
   "cell_type": "code",
   "execution_count": null,
   "metadata": {
    "ExecuteTime": {
     "end_time": "2018-01-16T12:29:52.450756Z",
     "start_time": "2018-01-16T12:29:50.831471Z"
    }
   },
   "outputs": [],
   "source": [
    "x = np.linspace(0.001, 0.2, 100)\n",
    "plt.plot(x, np.vectorize(func)(x))"
   ]
  },
  {
   "cell_type": "code",
   "execution_count": null,
   "metadata": {
    "ExecuteTime": {
     "end_time": "2018-01-16T12:31:05.817139Z",
     "start_time": "2018-01-16T12:31:05.592256Z"
    }
   },
   "outputs": [],
   "source": [
    "lam = sp.optimize.minimize(func, 0.05, method='Nelder-Mead')['x']\n",
    "lam"
   ]
  },
  {
   "cell_type": "code",
   "execution_count": null,
   "metadata": {
    "ExecuteTime": {
     "end_time": "2018-01-16T12:31:10.098863Z",
     "start_time": "2018-01-16T12:31:08.904808Z"
    }
   },
   "outputs": [],
   "source": [
    "np.random.seed(42)\n",
    "g0 = 0.1\n",
    "g1 = 5.0\n",
    "\n",
    "tt = np.linspace(1930, 2020)\n",
    "plt.plot(tt, np.vectorize(C_atm)(tt))\n",
    "\n",
    "np.random.seed(42)\n",
    "plt.plot(tt_I1E, CC_I1Ea, label = 'I1Ea')\n",
    "\n",
    "plt.plot(*I1E(1930, 2015, g0, g1, t_eval=tt_I1E), label = 'I1E')\n",
    "\n",
    "plt.plot(*I1(1930, 2015, lam, t_eval=tt_I1E), label = 'I1')\n",
    "\n",
    "plt.xlabel('year')\n",
    "plt.ylabel('C14 concentration')\n",
    "plt.legend()\n",
    "\n",
    "plt.show()"
   ]
  },
  {
   "cell_type": "markdown",
   "metadata": {},
   "source": [
    "# Scenario I1F"
   ]
  },
  {
   "cell_type": "markdown",
   "metadata": {},
   "source": [
    "E...Age-dependent proliferation rate"
   ]
  },
  {
   "cell_type": "markdown",
   "metadata": {},
   "source": [
    "## Time-discrete implementation"
   ]
  },
  {
   "cell_type": "code",
   "execution_count": null,
   "metadata": {
    "ExecuteTime": {
     "end_time": "2018-01-16T12:31:17.966442Z",
     "start_time": "2018-01-16T12:31:17.929666Z"
    }
   },
   "outputs": [],
   "source": [
    "@numba.njit\n",
    "def k(a, g0, g1):\n",
    "    return g0 * g1 / (g1 + a)\n",
    "\n",
    "@numba.njit\n",
    "def I1Fa(Dbirth, Dcoll, g0, g1, C_init=np.inf, N=1000, dt=0.1):\n",
    "    t = Dbirth\n",
    "    \n",
    "    if C_init==np.inf:\n",
    "        C_init = C_atm(t)\n",
    "    cc = C_init * np.ones(N)\n",
    "    aa = np.zeros(N)\n",
    "    \n",
    "    tt = np.arange(Dbirth, Dcoll, dt)\n",
    "    cc_mean = np.empty_like(tt)\n",
    "    \n",
    "    for i, t in enumerate(tt):\n",
    "        pp = k(aa, g0, g1) * dt\n",
    "        \n",
    "        div = np.random.rand(N) < pp\n",
    "        div_ind = np.where(div)[0]\n",
    "        \n",
    "        die_ind = np.random.choice(np.where(~div)[0], size=len(div_ind), replace=False)\n",
    "        \n",
    "        cc_new = 0.5 * (cc[div_ind] + C_atm(t))\n",
    "        \n",
    "        cc[div_ind] = cc_new\n",
    "        aa[div_ind] = 0.0\n",
    "        \n",
    "        cc[die_ind] = cc_new\n",
    "        aa[die_ind] = 0.0\n",
    "        \n",
    "        cc_mean[i] = cc.mean()\n",
    "        \n",
    "        aa += dt\n",
    "    return aa, tt, cc_mean"
   ]
  },
  {
   "cell_type": "markdown",
   "metadata": {},
   "source": [
    "## ODE"
   ]
  },
  {
   "cell_type": "code",
   "execution_count": null,
   "metadata": {
    "ExecuteTime": {
     "end_time": "2018-01-16T12:31:18.929646Z",
     "start_time": "2018-01-16T12:31:18.898325Z"
    }
   },
   "outputs": [],
   "source": [
    "def I1F(Dbirth, Dcoll, g0, g1, C_init=np.inf, t_eval=None):\n",
    "    if t_eval is None:\n",
    "        t_eval = [Dcoll]\n",
    "    if C_init==np.inf:\n",
    "        C_init = C_atm(Dbirth)\n",
    "        \n",
    "    # in the future get analytic expression to calculate steady state age distribution \n",
    "    aa, tt_LD, CC_LD = I1Fa(Dbirth, Dcoll, g0, g1, N=1000, dt=0.001)    \n",
    "    r1 = k(aa, g0, g1).mean()\n",
    "    \n",
    "    tt_I1, CC_I1 = I1(Dbirth, Dcoll, r1, t_eval=t_eval)\n",
    "    \n",
    "    return tt_I1, CC_I1"
   ]
  },
  {
   "cell_type": "markdown",
   "metadata": {},
   "source": [
    "## Compare"
   ]
  },
  {
   "cell_type": "code",
   "execution_count": null,
   "metadata": {
    "ExecuteTime": {
     "end_time": "2018-01-16T12:31:28.100113Z",
     "start_time": "2018-01-16T12:31:25.340511Z"
    }
   },
   "outputs": [],
   "source": [
    "np.random.seed(42)\n",
    "g0 = 0.1\n",
    "g1 = 5.0\n",
    "\n",
    "tt = np.linspace(1930, 2020)\n",
    "plt.plot(tt, np.vectorize(C_atm)(tt))\n",
    "\n",
    "np.random.seed(42)\n",
    "aa_I1F, tt_I1F, CC_I1Fa = I1Fa(1930, 2015, g0, g1, N=1000, dt=0.001)\n",
    "plt.plot(tt_I1F, CC_I1Fa, label = 'I1Fa')\n",
    "\n",
    "plt.plot(*I1F(1930, 2015, g0, g1, t_eval=tt_I1F), label = 'I1F')\n",
    "\n",
    "\n",
    "\n",
    "plt.xlabel('year')\n",
    "plt.ylabel('C14 concentration')\n",
    "plt.legend()\n",
    "\n",
    "plt.show()"
   ]
  },
  {
   "cell_type": "code",
   "execution_count": null,
   "metadata": {
    "ExecuteTime": {
     "end_time": "2018-01-16T12:31:34.100874Z",
     "start_time": "2018-01-16T12:31:28.101352Z"
    }
   },
   "outputs": [],
   "source": [
    "np.random.seed(42)\n",
    "g0 = 0.1\n",
    "g1 = 5.0\n",
    "\n",
    "tt = np.linspace(1930, 2020)\n",
    "plt.plot(tt, np.vectorize(C_atm)(tt))\n",
    "\n",
    "np.random.seed(42)\n",
    "\n",
    "for i in range(3):\n",
    "    aa_I1F, tt_I1F, CC_I1Fa = I1Fa(1930, 2015, g0, g1, N=1000, dt=0.001)\n",
    "    plt.plot(tt_I1F, CC_I1Fa, label = 'I1Fa', color='orange')\n",
    "\n",
    "    aa_I1E, tt_I1E, CC_I1Ea = I1Ea(1930, 2015, g0, g1, N=1000, dt=0.001)\n",
    "    plt.plot(tt_I1E, CC_I1Ea, label = 'I1Ea', color='green')\n",
    "\n",
    "\n",
    "\n",
    "plt.xlabel('year')\n",
    "plt.ylabel('C14 concentration')\n",
    "# plt.legend()\n",
    "\n",
    "plt.show()"
   ]
  },
  {
   "cell_type": "markdown",
   "metadata": {},
   "source": [
    "# Scenario I2"
   ]
  },
  {
   "cell_type": "markdown",
   "metadata": {},
   "source": [
    "2... 2 populations without interaction, one of them is quiescent"
   ]
  },
  {
   "cell_type": "markdown",
   "metadata": {},
   "source": [
    "## ODE"
   ]
  },
  {
   "cell_type": "code",
   "execution_count": null,
   "metadata": {
    "ExecuteTime": {
     "end_time": "2018-01-16T12:31:34.106242Z",
     "start_time": "2018-01-16T12:31:34.102616Z"
    }
   },
   "outputs": [],
   "source": [
    "I2 = c14_models.I2"
   ]
  },
  {
   "cell_type": "code",
   "execution_count": null,
   "metadata": {
    "ExecuteTime": {
     "end_time": "2018-01-16T12:31:34.118302Z",
     "start_time": "2018-01-16T12:31:34.107788Z"
    }
   },
   "outputs": [],
   "source": [
    "def I2(Dbirth, Dcoll, lam, f, C_init=np.inf, t_eval=None):\n",
    "    if t_eval is None:\n",
    "        t_eval = [Dcoll]\n",
    "    assert 0<=f<=1\n",
    "    C2 = C_atm(Dbirth)\n",
    "    \n",
    "    tt, C1 = I1(Dbirth, Dcoll, lam, C_init=C_init, t_eval=t_eval)\n",
    "    return tt, f*C1 + (1.0-f)*C2"
   ]
  },
  {
   "cell_type": "markdown",
   "metadata": {},
   "source": [
    "## Compare"
   ]
  },
  {
   "cell_type": "code",
   "execution_count": null,
   "metadata": {
    "ExecuteTime": {
     "end_time": "2018-01-16T12:31:34.269567Z",
     "start_time": "2018-01-16T12:31:34.119705Z"
    }
   },
   "outputs": [],
   "source": [
    "tt = np.linspace(1930, 2015, 100)\n",
    "\n",
    "plt.plot(*I1(1930, 2015, 0.1, t_eval=tt), label='I1')\n",
    "\n",
    "plt.plot(*I2(1930, 2015, 0.1, 0.0, t_eval=tt), label='I2, f=0.0')\n",
    "plt.plot(*I2(1930, 2015, 0.1, 0.5, t_eval=tt), label='I2, f=0.5')\n",
    "plt.plot(*I2(1930, 2015, 0.1, 1.0, t_eval=tt), label='I2, f=1.0')\n",
    "\n",
    "plt.legend()\n",
    "\n",
    "plt.xlabel('year')\n",
    "plt.ylabel('C14')\n",
    "\n",
    "plt.show()"
   ]
  },
  {
   "cell_type": "code",
   "execution_count": null,
   "metadata": {
    "ExecuteTime": {
     "end_time": "2018-01-16T12:31:36.077839Z",
     "start_time": "2018-01-16T12:31:36.063742Z"
    }
   },
   "outputs": [],
   "source": [
    "tt_I2, cc_I2 = I2(1930, 2015, 0.1, 0.5, t_eval=tt)"
   ]
  },
  {
   "cell_type": "code",
   "execution_count": null,
   "metadata": {
    "ExecuteTime": {
     "end_time": "2018-01-16T12:31:36.608958Z",
     "start_time": "2018-01-16T12:31:36.596299Z"
    }
   },
   "outputs": [],
   "source": [
    "def I1b(Dbirth, Dcoll, lam, C_init=np.inf, t_eval=None):\n",
    "    if t_eval is None:\n",
    "        t_eval=[Dbirth, Dcoll]\n",
    "    \n",
    "    if C_init==np.inf:\n",
    "        C_init = C_atm(Dbirth)\n",
    "    \n",
    "    def rhs(c, t, lam):\n",
    "        return lam * (np.vectorize(C_atm)(t) - c)\n",
    "\n",
    "\n",
    "    C = sp.integrate.odeint(func=rhs, \n",
    "                            y0=[C_init],\n",
    "                            t=t_eval,\n",
    "                            args=(lam,))\n",
    "    \n",
    "    return t_eval, C[:,0] #C['t'], C['y'][0]"
   ]
  },
  {
   "cell_type": "code",
   "execution_count": null,
   "metadata": {
    "ExecuteTime": {
     "end_time": "2018-01-16T12:31:46.739957Z",
     "start_time": "2018-01-16T12:31:37.195480Z"
    }
   },
   "outputs": [],
   "source": [
    "f = lambda lam: np.sum((cc_I2 - I1(1930, 2015, lam, t_eval=tt_I2)[1])**2)\n",
    "g = lambda lam: np.sum((cc_I2 - I1b(1930, 2015, lam, t_eval=tt_I2)[1])**2)\n",
    "\n",
    "x = np.linspace(0.001, 0.05, 200)\n",
    "%time plt.plot(x, np.vectorize(f)(x))\n",
    "%time plt.plot(x, np.vectorize(g)(x))\n",
    "plt.show()\n"
   ]
  },
  {
   "cell_type": "code",
   "execution_count": null,
   "metadata": {
    "ExecuteTime": {
     "end_time": "2018-01-16T12:31:47.100194Z",
     "start_time": "2018-01-16T12:31:47.002794Z"
    }
   },
   "outputs": [],
   "source": [
    "tt = np.linspace(1930, 2015, 100)\n",
    "\n",
    "plt.plot(*I1(1930, 2015, lam, t_eval=tt), label='I1')\n",
    "\n",
    "plt.plot(tt_I2, cc_I2, label='I2, f=0.5')\n",
    "\n",
    "plt.legend()\n",
    "\n",
    "plt.xlabel('year')\n",
    "plt.ylabel('C14')\n",
    "\n",
    "plt.show()"
   ]
  },
  {
   "cell_type": "markdown",
   "metadata": {},
   "source": [
    "# Scenario IX"
   ]
  },
  {
   "cell_type": "markdown",
   "metadata": {},
   "source": [
    "## ODE"
   ]
  },
  {
   "cell_type": "code",
   "execution_count": null,
   "metadata": {
    "ExecuteTime": {
     "end_time": "2018-01-05T16:57:42.187820Z",
     "start_time": "2018-01-05T16:57:42.185495Z"
    }
   },
   "outputs": [],
   "source": [
    "IX = c14_models.IX"
   ]
  },
  {
   "cell_type": "markdown",
   "metadata": {},
   "source": [
    "## Compare"
   ]
  },
  {
   "cell_type": "code",
   "execution_count": null,
   "metadata": {
    "ExecuteTime": {
     "end_time": "2018-01-05T16:57:42.310691Z",
     "start_time": "2018-01-05T16:57:42.189691Z"
    }
   },
   "outputs": [],
   "source": [
    "tt = np.linspace(1930, 2015, 100)\n",
    "\n",
    "plt.plot(tt, np.vectorize(C_atm)(tt))\n",
    "# plt.plot(*I1(1930, 2015, 0.1, t_eval=tt), label='I1')\n",
    "\n",
    "plt.plot(*IX(1930, 2015, [0.1, 1.1], [0.1, 0.7], t_eval=tt), label='IX3, f=1.0')\n",
    "plt.plot(*IX(1930, 2015, [0.1], [0.5], t_eval=tt), label='IX2, f=1.0')\n",
    "plt.plot(*I2(1930, 2015, 0.1, 0.5, t_eval=tt), label='I2, f=0.5')\n",
    "# plt.plot(*I2(1930, 2015, 0.1, 1.0, t_eval=tt), label='I2, f=1.0')\n",
    "\n",
    "plt.legend()\n",
    "\n",
    "plt.xlabel('year')\n",
    "plt.ylabel('C14')\n",
    "\n",
    "plt.show()"
   ]
  },
  {
   "cell_type": "markdown",
   "metadata": {},
   "source": [
    "# Scenario IL"
   ]
  },
  {
   "cell_type": "markdown",
   "metadata": {},
   "source": [
    "2 populations, only first population (A) divides, only second population (B) dies, and differentation from A to B happens"
   ]
  },
  {
   "cell_type": "markdown",
   "metadata": {},
   "source": [
    "## Gillespie"
   ]
  },
  {
   "cell_type": "code",
   "execution_count": null,
   "metadata": {
    "ExecuteTime": {
     "end_time": "2018-01-12T12:47:34.027281Z",
     "start_time": "2018-01-12T12:47:34.024804Z"
    }
   },
   "outputs": [],
   "source": [
    "def mu(lam, f):\n",
    "    return lam * f / (1-f)\n",
    "\n"
   ]
  },
  {
   "cell_type": "code",
   "execution_count": null,
   "metadata": {
    "ExecuteTime": {
     "end_time": "2018-01-12T12:47:34.618287Z",
     "start_time": "2018-01-12T12:47:34.439161Z"
    }
   },
   "outputs": [],
   "source": [
    "def nB(lam, f, nA):\n",
    "    return lam / mu(lam, f) * nA\n",
    "\n",
    "ff = np.linspace(0, 0.999)\n",
    "plt.plot(ff, nB(0.1, ff, 1))\n",
    "plt.xlabel('f')\n",
    "plt.ylabel('nB')\n",
    "plt.show()"
   ]
  },
  {
   "cell_type": "code",
   "execution_count": null,
   "metadata": {
    "ExecuteTime": {
     "end_time": "2018-01-12T12:47:36.595076Z",
     "start_time": "2018-01-12T12:47:36.497662Z"
    }
   },
   "outputs": [],
   "source": [
    "@numba.njit\n",
    "def ILa(Dbirth, Dcoll, lam, f, n=1000, C_init=np.inf):\n",
    "    delta = lam\n",
    "    nA = f * n\n",
    "    nB = n - nA\n",
    "    mu = lam * f / (1-f)\n",
    "    \n",
    "    t = Dbirth\n",
    "    nB = lam / mu * nA\n",
    "    \n",
    "    if C_init==np.inf:\n",
    "        C_init = C_atm(t)\n",
    "    ccA = [C_init for i in range(nA)]\n",
    "    ccB = [C_init for i in range(nB)]\n",
    "    \n",
    "    # Pre-allocated propensity vector, no values yet\n",
    "    aa = np.empty(3)\n",
    "    \n",
    "\n",
    "    tt = list(np.empty(0))\n",
    "    meancc = list(np.empty(0))\n",
    "    \n",
    "    \n",
    "    while True:\n",
    "        nA = len(ccA)\n",
    "        nB = len(ccB)\n",
    "        \n",
    "        tt.append(t)\n",
    "        meancc.append(np.mean(np.array(ccA + ccB)))\n",
    "        \n",
    "       \n",
    "        # division\n",
    "        aa[0] = lam * nA \n",
    "        # death\n",
    "        aa[1] = mu * nB \n",
    "        # differentiation\n",
    "        aa[2] = delta * nA\n",
    "        \n",
    "        t += np.random.exponential(1/aa.sum())\n",
    "        \n",
    "        selection_interval = np.cumsum(aa/aa.sum())\n",
    "        p = np.random.rand()\n",
    "        \n",
    "                \n",
    "        if p<selection_interval[0]:\n",
    "            # cell division\n",
    "            # select random cell\n",
    "            i = np.random.randint(nA)\n",
    "            # get C14 concentration from a random cell and delete this cell\n",
    "            c = ccA.pop(i)\n",
    "            # calculate new C14 concentration\n",
    "            c = 0.5 * (c + C_atm(t))\n",
    "            # add two new cells with updated concentration\n",
    "            ccA.append(c)\n",
    "            ccA.append(c)\n",
    "        elif p<selection_interval[1]:\n",
    "            # cell death\n",
    "            # select random cell\n",
    "            i = np.random.randint(nB)\n",
    "            # delete it\n",
    "            ccB.pop(i)\n",
    "        else:\n",
    "            i = np.random.randint(nA)\n",
    "            ccB.append(ccA.pop(i))\n",
    "            \n",
    "        \n",
    "        if t > Dcoll:\n",
    "            break\n",
    "    \n",
    "    return tt, meancc\n"
   ]
  },
  {
   "cell_type": "markdown",
   "metadata": {},
   "source": [
    "## ODE"
   ]
  },
  {
   "cell_type": "code",
   "execution_count": null,
   "metadata": {
    "ExecuteTime": {
     "end_time": "2018-01-12T14:36:12.884090Z",
     "start_time": "2018-01-12T14:36:12.874750Z"
    }
   },
   "outputs": [],
   "source": [
    "IL = c14_models.IL"
   ]
  },
  {
   "cell_type": "markdown",
   "metadata": {},
   "source": [
    "## Compare"
   ]
  },
  {
   "cell_type": "code",
   "execution_count": null,
   "metadata": {
    "ExecuteTime": {
     "end_time": "2018-01-12T14:36:41.529230Z",
     "start_time": "2018-01-12T14:36:40.827013Z"
    }
   },
   "outputs": [],
   "source": [
    "tt = np.linspace(1930, 2020)\n",
    "plt.plot(tt, np.vectorize(C_atm)(tt), label='atm')\n",
    "\n",
    "plt.plot(*I1(1930, 2015, 0.2, t_eval=np.linspace(1930, 2015)), label='I1')\n",
    "\n",
    "for f in [0.999, 0.5, 0.1, 0.001]:\n",
    "    plt.plot(*ILa(1930, 2015, 0.2, f, n=1000), label='ILa, f={:.3f}'.format(f))\n",
    "    plt.plot(*IL(1930, 2015, 0.2, f, t_eval=np.linspace(1930, 2015)), \n",
    "             label='IL, f={:.3f}'.format(f))\n",
    "\n",
    "plt.legend()\n",
    "\n",
    "plt.xlabel('year')\n",
    "plt.ylabel('C14')\n",
    "\n",
    "plt.show()"
   ]
  },
  {
   "cell_type": "markdown",
   "metadata": {},
   "source": [
    "### Fit I1 to ILa"
   ]
  },
  {
   "cell_type": "code",
   "execution_count": null,
   "metadata": {
    "ExecuteTime": {
     "end_time": "2018-01-05T16:57:43.469272Z",
     "start_time": "2018-01-05T16:57:43.428168Z"
    }
   },
   "outputs": [],
   "source": [
    "tt_ILa, cc_ILa = ILa(1930, 2015, 0.1, 0.5, n=1000)"
   ]
  },
  {
   "cell_type": "code",
   "execution_count": null,
   "metadata": {
    "ExecuteTime": {
     "end_time": "2018-01-05T16:57:43.938179Z",
     "start_time": "2018-01-05T16:57:43.471206Z"
    }
   },
   "outputs": [],
   "source": [
    "f = lambda lam: np.sum((cc_ILa - I1(1930, 2015, lam, t_eval=tt_ILa)[1])**2)\n",
    "\n",
    "x = np.linspace(0.0001, 0.1, 50)\n",
    "plt.plot(x, np.vectorize(f)(x))\n",
    "plt.show()"
   ]
  },
  {
   "cell_type": "code",
   "execution_count": null,
   "metadata": {
    "ExecuteTime": {
     "end_time": "2018-01-05T16:57:44.495217Z",
     "start_time": "2018-01-05T16:57:43.940778Z"
    }
   },
   "outputs": [],
   "source": [
    "lam = sp.optimize.minimize(f, 0.02, method='Nelder-Mead')['x']\n",
    "lam"
   ]
  },
  {
   "cell_type": "code",
   "execution_count": null,
   "metadata": {
    "ExecuteTime": {
     "end_time": "2018-01-05T16:57:44.652738Z",
     "start_time": "2018-01-05T16:57:44.498863Z"
    }
   },
   "outputs": [],
   "source": [
    "tt = np.linspace(1930, 2015, 100)\n",
    "\n",
    "plt.plot(*I1(1930, 2015, lam, t_eval=tt), label='I1')\n",
    "\n",
    "plt.plot(tt_ILa, cc_ILa, label='ILa, mu = 0.01')\n",
    "\n",
    "plt.legend()\n",
    "\n",
    "plt.xlabel('year')\n",
    "plt.ylabel('C14')\n",
    "\n",
    "plt.show()"
   ]
  },
  {
   "cell_type": "markdown",
   "metadata": {},
   "source": [
    "# Scenario IK"
   ]
  },
  {
   "cell_type": "markdown",
   "metadata": {},
   "source": [
    "2 populations, only first population (A) divides, both populations (A&B) die, and differentation from A to B happens"
   ]
  },
  {
   "cell_type": "markdown",
   "metadata": {},
   "source": [
    "## Gillespie"
   ]
  },
  {
   "cell_type": "code",
   "execution_count": null,
   "metadata": {
    "ExecuteTime": {
     "end_time": "2018-01-16T12:36:14.401991Z",
     "start_time": "2018-01-16T12:36:14.306692Z"
    }
   },
   "outputs": [],
   "source": [
    "# @numba.njit\n",
    "def IKa(Dbirth, Dcoll, lam, f, n=1000, C_init=np.inf):\n",
    "    t = Dbirth\n",
    "    nA0 = f * n\n",
    "    nB0 = n - nA0\n",
    "    mu = f * lam\n",
    "    delta = (1 - f) * lam\n",
    "    \n",
    "    if C_init==np.inf:\n",
    "        C_init = C_atm(t)\n",
    "    ccA = [C_init for i in np.arange(nA0)]\n",
    "    ccB = [C_init for i in np.arange(nB0)]\n",
    "    \n",
    "    # Pre-allocated propensity vector, no values yet\n",
    "    aa = np.empty(3)\n",
    "    \n",
    "\n",
    "    tt = list(np.empty(0))\n",
    "    meancc = list(np.empty(0))\n",
    "    \n",
    "    while True:\n",
    "        nA = len(ccA)\n",
    "        nB = len(ccB)\n",
    "        \n",
    "        tt.append(t)\n",
    "        meancc.append(np.mean(np.array(ccA + ccB)))\n",
    "        \n",
    "       \n",
    "        # division\n",
    "        aa[0] = lam * nA \n",
    "        # death\n",
    "        aa[1] = mu * (nA + nB)\n",
    "        # differentiation\n",
    "        aa[2] = delta * nA\n",
    "        \n",
    "        t += np.random.exponential(1/aa.sum())\n",
    "        \n",
    "        selection_interval = np.cumsum(aa/aa.sum())\n",
    "        p = np.random.rand()\n",
    "        \n",
    "                \n",
    "        if p<selection_interval[0]:\n",
    "            # cell division\n",
    "            # select random cell\n",
    "            i = np.random.randint(nA)\n",
    "            # get C14 concentration from a random cell and delete this cell\n",
    "            c = ccA.pop(i)\n",
    "            # calculate new C14 concentration\n",
    "            c = 0.5 * (c + C_atm(t))\n",
    "            # add two new cells with updated concentration\n",
    "            ccA.append(c)\n",
    "            ccA.append(c)\n",
    "        elif p<selection_interval[1]:\n",
    "            # cell death\n",
    "            # select random cell\n",
    "            i = np.random.randint(nA + nB)\n",
    "            # delete it\n",
    "            if i<nA:\n",
    "                ccA.pop(i)\n",
    "            else:\n",
    "                ccB.pop(i - nA)\n",
    "        else:\n",
    "            i = np.random.randint(nA)\n",
    "            ccB.append(ccA.pop(i))\n",
    "            \n",
    "        \n",
    "        if t > Dcoll:\n",
    "            break\n",
    "    \n",
    "    return tt, meancc\n"
   ]
  },
  {
   "cell_type": "markdown",
   "metadata": {},
   "source": [
    "## Compare"
   ]
  },
  {
   "cell_type": "code",
   "execution_count": null,
   "metadata": {
    "ExecuteTime": {
     "end_time": "2018-01-16T12:36:16.375148Z",
     "start_time": "2018-01-16T12:36:14.840719Z"
    }
   },
   "outputs": [],
   "source": [
    "tt = np.linspace(1930, 2020)\n",
    "plt.plot(tt, np.vectorize(C_atm)(tt), label='atm')\n",
    "\n",
    "lam = 0.1\n",
    "\n",
    "plt.plot(*I1(1930, 2015, lam, t_eval=np.linspace(1930, 2015)), label='I1')\n",
    "\n",
    "for f in [1e-3, 0.1, 0.5, 1.0]:\n",
    "    plt.plot(*IKa(1930, 2015, lam, f, n=1000), \n",
    "         label='IKa, f={:.2f}'.format(f))\n",
    "\n",
    "\n",
    "plt.legend()\n",
    "\n",
    "plt.xlabel('year')\n",
    "plt.ylabel('C14')\n",
    "\n",
    "plt.show()"
   ]
  },
  {
   "cell_type": "code",
   "execution_count": null,
   "metadata": {
    "ExecuteTime": {
     "end_time": "2018-01-16T12:36:17.377364Z",
     "start_time": "2018-01-16T12:36:17.278708Z"
    }
   },
   "outputs": [],
   "source": [
    "tt = np.linspace(1930, 2020)\n",
    "plt.plot(tt, np.vectorize(C_atm)(tt), label='atm')\n",
    "\n",
    "lam = 0.1\n",
    "f = 0.5\n",
    "\n",
    "plt.plot(*ILa(1930, 2015, lam, f, n=1000), \n",
    "         label='ILa, f={:.2f}'.format(f))\n",
    "\n",
    "plt.plot(*IKa(1930, 2015, lam, f, n=1000), \n",
    "         label='IKa, f={:.2f}'.format(f))\n",
    "\n",
    "plt.legend()\n",
    "\n",
    "plt.xlabel('year')\n",
    "plt.ylabel('C14')\n",
    "\n",
    "plt.show()"
   ]
  },
  {
   "cell_type": "markdown",
   "metadata": {},
   "source": [
    "### Fit I1 to IKa"
   ]
  },
  {
   "cell_type": "code",
   "execution_count": null,
   "metadata": {
    "ExecuteTime": {
     "end_time": "2018-01-16T12:36:22.304460Z",
     "start_time": "2018-01-16T12:36:21.630580Z"
    }
   },
   "outputs": [],
   "source": [
    "tt_IKa, cc_IKa = IKa(1930, 2015, 0.1, 0.1, n=1000)\n",
    "\n",
    "f = lambda lam: np.sum((cc_IKa - I1(1930, 2015, lam, t_eval=tt_IKa)[1])**2)\n",
    "\n",
    "x = np.linspace(0.0001, 0.1, 50)\n",
    "plt.plot(x, np.vectorize(f)(x))\n",
    "plt.show()"
   ]
  },
  {
   "cell_type": "code",
   "execution_count": null,
   "metadata": {
    "ExecuteTime": {
     "end_time": "2018-01-16T12:36:25.667344Z",
     "start_time": "2018-01-16T12:36:25.534286Z"
    }
   },
   "outputs": [],
   "source": [
    "lam = sp.optimize.minimize(f, 0.02, method='Nelder-Mead')['x']\n",
    "lam"
   ]
  },
  {
   "cell_type": "code",
   "execution_count": null,
   "metadata": {
    "ExecuteTime": {
     "end_time": "2018-01-16T12:36:28.258589Z",
     "start_time": "2018-01-16T12:36:28.157329Z"
    }
   },
   "outputs": [],
   "source": [
    "tt = np.linspace(1930, 2015, 100)\n",
    "\n",
    "plt.plot(*I1(1930, 2015, lam, t_eval=tt), label='I1')\n",
    "\n",
    "plt.plot(tt_IKa, cc_IKa, label='IKa, f = 0.1')\n",
    "\n",
    "plt.legend()\n",
    "\n",
    "plt.xlabel('year')\n",
    "plt.ylabel('C14')\n",
    "\n",
    "plt.show()"
   ]
  },
  {
   "cell_type": "markdown",
   "metadata": {},
   "source": [
    "# Scenario R1"
   ]
  },
  {
   "cell_type": "markdown",
   "metadata": {},
   "source": [
    "R... Replacing dead cells with cells that have the current atmospheric C-14 concentration. That's the hypotheses for all models by Samuel Bernard\n",
    "1... 1 population"
   ]
  },
  {
   "cell_type": "markdown",
   "metadata": {},
   "source": [
    "## Gillespie"
   ]
  },
  {
   "cell_type": "code",
   "execution_count": null,
   "metadata": {
    "ExecuteTime": {
     "end_time": "2018-01-16T12:36:31.927243Z",
     "start_time": "2018-01-16T12:36:31.912495Z"
    }
   },
   "outputs": [],
   "source": [
    "@numba.njit\n",
    "def R1a_cell(Dbirth, Dcoll, r, C_init=np.inf):\n",
    "    t = Dbirth\n",
    "    \n",
    "    if C_init==np.inf:\n",
    "        C_init = C_atm(t)\n",
    "    c = C_init\n",
    "    \n",
    "    while True:\n",
    "        t += np.random.exponential(1/r)\n",
    "        if t > Dcoll:\n",
    "            return c\n",
    "        else:\n",
    "            c = C_atm(t)\n",
    "    \n",
    "\n",
    "@numba.njit\n",
    "def R1a(Dbirth, Dcoll, r, N=1000, C_init=np.inf):\n",
    "    cc = np.array([R1a_cell(Dbirth, Dcoll, r, C_init) for i in range(N)])\n",
    "    return cc.mean()"
   ]
  },
  {
   "cell_type": "markdown",
   "metadata": {},
   "source": [
    "## Bernard"
   ]
  },
  {
   "cell_type": "code",
   "execution_count": null,
   "metadata": {
    "ExecuteTime": {
     "end_time": "2018-01-16T12:36:36.628143Z",
     "start_time": "2018-01-16T12:36:36.625308Z"
    }
   },
   "outputs": [],
   "source": [
    "R1b = c14_models.C_scenario_A"
   ]
  },
  {
   "cell_type": "markdown",
   "metadata": {},
   "source": [
    "## ODE"
   ]
  },
  {
   "cell_type": "markdown",
   "metadata": {},
   "source": [
    "First moment for a master equation of Bernard's model results in the same ODE as I1"
   ]
  },
  {
   "cell_type": "code",
   "execution_count": null,
   "metadata": {
    "ExecuteTime": {
     "end_time": "2018-01-16T12:36:37.404371Z",
     "start_time": "2018-01-16T12:36:37.400306Z"
    }
   },
   "outputs": [],
   "source": [
    "R1 = I1"
   ]
  },
  {
   "cell_type": "markdown",
   "metadata": {},
   "source": [
    "## Compare"
   ]
  },
  {
   "cell_type": "code",
   "execution_count": null,
   "metadata": {
    "ExecuteTime": {
     "end_time": "2018-01-16T12:36:38.476969Z",
     "start_time": "2018-01-16T12:36:37.858916Z"
    }
   },
   "outputs": [],
   "source": [
    "lam = 0.1\n",
    "tt = np.linspace(0.01, 90)\n",
    "Dbirth = 1930\n",
    "t=90\n",
    "\n",
    "plt.plot(Dbirth+tt, [R1a(Dbirth, Dbirth+t, lam) for t in tt], label='R1a')\n",
    "plt.plot(Dbirth+tt, [R1b(Dbirth, Dbirth+t, lam) for t in tt], label='R1b=Bernard')\n",
    "plt.plot(*R1(Dbirth, Dbirth+t, lam, t_eval=Dbirth+tt), label='R1=I1')\n",
    "\n",
    "plt.legend()\n",
    "\n",
    "plt.xlabel('year')\n",
    "plt.ylabel('C14')\n",
    "\n",
    "plt.show()"
   ]
  },
  {
   "cell_type": "markdown",
   "metadata": {},
   "source": [
    "# Scenario R1E"
   ]
  },
  {
   "cell_type": "markdown",
   "metadata": {},
   "source": [
    "E...Age-dependent rates"
   ]
  },
  {
   "cell_type": "markdown",
   "metadata": {},
   "source": [
    "## Time-discrete implementation"
   ]
  },
  {
   "cell_type": "code",
   "execution_count": null,
   "metadata": {
    "ExecuteTime": {
     "end_time": "2018-01-05T16:57:49.077489Z",
     "start_time": "2018-01-05T16:57:49.048895Z"
    }
   },
   "outputs": [],
   "source": [
    "@numba.njit\n",
    "def k(a, g0, g1):\n",
    "    return g0 * g1 / (g1 + a)\n",
    "\n",
    "@numba.njit\n",
    "def R1Ea(Dbirth, Dcoll, g0, g1, C_init=np.inf, N=1000, dt=0.1):\n",
    "    t = Dbirth\n",
    "    \n",
    "    if C_init==np.inf:\n",
    "        C_init = C_atm(t)\n",
    "    cc = C_init * np.ones(N)\n",
    "    aa = np.zeros(N)\n",
    "    \n",
    "    tt = np.arange(Dbirth, Dcoll, dt)\n",
    "    cc_mean = np.empty_like(tt)\n",
    "    \n",
    "    for i, t in enumerate(tt):\n",
    "        pp = k(aa, g0, g1) * dt\n",
    "        \n",
    "        replace = np.random.rand(N) < pp\n",
    "        replace_ind = np.where(replace)[0]\n",
    "        \n",
    "        cc_new = C_atm(t)\n",
    "        \n",
    "        cc[replace_ind] = cc_new\n",
    "        aa[replace_ind] = 0.0\n",
    "        \n",
    "        cc_mean[i] = cc.mean()\n",
    "        \n",
    "        aa += dt\n",
    "    return aa, tt, cc_mean"
   ]
  },
  {
   "cell_type": "markdown",
   "metadata": {},
   "source": [
    "## ODE"
   ]
  },
  {
   "cell_type": "code",
   "execution_count": null,
   "metadata": {
    "ExecuteTime": {
     "end_time": "2018-01-05T16:57:49.092153Z",
     "start_time": "2018-01-05T16:57:49.079130Z"
    }
   },
   "outputs": [],
   "source": [
    "def R1E(Dbirth, Dcoll, g0, g1, C_init=np.inf, t_eval=None):\n",
    "    if t_eval is None:\n",
    "        t_eval = [Dcoll]\n",
    "    if C_init==np.inf:\n",
    "        C_init = C_atm(Dbirth)\n",
    "        \n",
    "    # in the future get analytic expression to calculate steady state age distribution \n",
    "    aa, *_ = R1Ea(Dbirth, Dcoll, g0, g1, N=1000, dt=0.001)    \n",
    "    r1 = k(aa, g0, g1).mean()\n",
    "    \n",
    "    tt_I1, CC_I1 = I1(Dbirth, Dcoll, r1, t_eval=t_eval)\n",
    "    \n",
    "    return tt_I1, CC_I1"
   ]
  },
  {
   "cell_type": "markdown",
   "metadata": {},
   "source": [
    "## Compare"
   ]
  },
  {
   "cell_type": "code",
   "execution_count": null,
   "metadata": {
    "ExecuteTime": {
     "end_time": "2018-01-05T16:57:56.133035Z",
     "start_time": "2018-01-05T16:57:49.093520Z"
    }
   },
   "outputs": [],
   "source": [
    "np.random.seed(42)\n",
    "g0 = 0.1\n",
    "g1 = 5.0\n",
    "\n",
    "tt = np.linspace(1930, 2020)\n",
    "plt.plot(tt, np.vectorize(C_atm)(tt))\n",
    "\n",
    "for i in range(5):\n",
    "    aa_R1E, tt_R1E, CC_R1Ea = R1Ea(1930, 2020, g0, g1, N=1000, dt=0.001)\n",
    "    plt.plot(tt_R1E, CC_R1Ea, color='orange')\n",
    "\n",
    "aa_R1E, tt_R1E, CC_R1Ea = R1Ea(1930, 2020, g0, g1, N=1000, dt=0.001)\n",
    "plt.plot(tt_R1E, CC_R1Ea, label = 'R1Ea', color='orange')\n",
    "\n",
    "plt.plot(*R1E(1930, 2020, g0, g1, t_eval=tt), label = 'R1E', color='green')\n",
    "\n",
    "plt.xlabel('year')\n",
    "plt.ylabel('C14 concentration')\n",
    "plt.legend()\n",
    "\n",
    "plt.show()"
   ]
  },
  {
   "cell_type": "code",
   "execution_count": null,
   "metadata": {
    "ExecuteTime": {
     "end_time": "2018-01-05T16:58:01.852466Z",
     "start_time": "2018-01-05T16:57:56.134423Z"
    }
   },
   "outputs": [],
   "source": [
    "np.random.seed(42)\n",
    "g0 = 0.1\n",
    "g1 = 5.0\n",
    "\n",
    "tt = np.linspace(1930, 2020)\n",
    "plt.plot(tt, np.vectorize(C_atm)(tt))\n",
    "\n",
    "aa_I1F, tt_I1F, CC_I1Fa = I1Fa(1930, 2070, g0, g1, N=1000, dt=0.001)\n",
    "plt.plot(tt_I1F, CC_I1Fa, label = 'I1Fa')\n",
    "\n",
    "aa_R1E, tt_R1E, CC_R1Ea = R1Ea(1930, 2070, g0, g1, N=1000, dt=0.001)\n",
    "plt.plot(tt_R1E, CC_R1Ea, label = 'R1Ea')\n",
    "\n",
    "plt.plot(*R1E(1930, 2020, g0, g1, t_eval=tt), label = 'R1E')\n",
    "\n",
    "aa_I1E, tt_I1E, CC_I1Ea = I1Ea(1930, 2070, g0, g1, N=1000, dt=0.001)\n",
    "plt.plot(tt_I1E, CC_I1Ea, label = 'I1Ea')\n",
    "\n",
    "\n",
    "\n",
    "plt.xlabel('year')\n",
    "plt.ylabel('C14 concentration')\n",
    "plt.legend()\n",
    "\n",
    "plt.show()"
   ]
  },
  {
   "cell_type": "code",
   "execution_count": null,
   "metadata": {
    "ExecuteTime": {
     "end_time": "2018-01-05T16:58:02.099493Z",
     "start_time": "2018-01-05T16:58:01.854039Z"
    }
   },
   "outputs": [],
   "source": [
    "sns.distplot(aa_I1F, label='I1F')\n",
    "sns.distplot(aa_R1E, label='R1E')\n",
    "sns.distplot(aa_I1E, label='I1E')\n",
    "plt.legend()\n",
    "plt.show()"
   ]
  }
 ],
 "metadata": {
  "kernelspec": {
   "display_name": "Python [conda env:py3]",
   "language": "python",
   "name": "conda-env-py3-py"
  },
  "language_info": {
   "codemirror_mode": {
    "name": "ipython",
    "version": 3
   },
   "file_extension": ".py",
   "mimetype": "text/x-python",
   "name": "python",
   "nbconvert_exporter": "python",
   "pygments_lexer": "ipython3",
   "version": "3.6.3"
  },
  "toc": {
   "nav_menu": {},
   "number_sections": true,
   "sideBar": true,
   "skip_h1_title": false,
   "toc_cell": false,
   "toc_position": {
    "height": "913px",
    "left": "0px",
    "right": "1707px",
    "top": "111px",
    "width": "213px"
   },
   "toc_section_display": "block",
   "toc_window_display": true
  }
 },
 "nbformat": 4,
 "nbformat_minor": 2
}
