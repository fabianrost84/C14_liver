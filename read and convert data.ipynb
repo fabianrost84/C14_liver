{
 "cells": [
  {
   "cell_type": "code",
   "execution_count": 1,
   "metadata": {
    "ExecuteTime": {
     "end_time": "2018-05-08T19:46:05.938244Z",
     "start_time": "2018-05-08T19:46:05.184044Z"
    }
   },
   "outputs": [],
   "source": [
    "import numpy as np\n",
    "import pandas as pd"
   ]
  },
  {
   "cell_type": "code",
   "execution_count": 2,
   "metadata": {
    "ExecuteTime": {
     "end_time": "2018-05-08T19:46:06.228994Z",
     "start_time": "2018-05-08T19:46:05.941015Z"
    }
   },
   "outputs": [
    {
     "data": {
      "text/html": [
       "<div>\n",
       "<style scoped>\n",
       "    .dataframe tbody tr th:only-of-type {\n",
       "        vertical-align: middle;\n",
       "    }\n",
       "\n",
       "    .dataframe tbody tr th {\n",
       "        vertical-align: top;\n",
       "    }\n",
       "\n",
       "    .dataframe thead th {\n",
       "        text-align: right;\n",
       "    }\n",
       "</style>\n",
       "<table border=\"1\" class=\"dataframe\">\n",
       "  <thead>\n",
       "    <tr style=\"text-align: right;\">\n",
       "      <th></th>\n",
       "      <th>type</th>\n",
       "      <th>code</th>\n",
       "      <th>sample</th>\n",
       "      <th>Dbirth</th>\n",
       "      <th>Dcoll</th>\n",
       "      <th>d14C</th>\n",
       "      <th>subject_age</th>\n",
       "      <th>valid</th>\n",
       "    </tr>\n",
       "  </thead>\n",
       "  <tbody>\n",
       "    <tr>\n",
       "      <th>0</th>\n",
       "      <td>unsorted</td>\n",
       "      <td>PH1</td>\n",
       "      <td>ND380</td>\n",
       "      <td>1942.833333</td>\n",
       "      <td>2016.416667</td>\n",
       "      <td>0.078416</td>\n",
       "      <td>73.583333</td>\n",
       "      <td>True</td>\n",
       "    </tr>\n",
       "    <tr>\n",
       "      <th>1</th>\n",
       "      <td>unsorted</td>\n",
       "      <td>PH2</td>\n",
       "      <td>ND388</td>\n",
       "      <td>1991.416667</td>\n",
       "      <td>2016.833333</td>\n",
       "      <td>0.025254</td>\n",
       "      <td>25.416667</td>\n",
       "      <td>True</td>\n",
       "    </tr>\n",
       "    <tr>\n",
       "      <th>2</th>\n",
       "      <td>hepatocyte</td>\n",
       "      <td>PH3</td>\n",
       "      <td>ND381</td>\n",
       "      <td>1985.166667</td>\n",
       "      <td>2016.416667</td>\n",
       "      <td>0.040336</td>\n",
       "      <td>31.250000</td>\n",
       "      <td>True</td>\n",
       "    </tr>\n",
       "    <tr>\n",
       "      <th>3</th>\n",
       "      <td>hepatocyte</td>\n",
       "      <td>PH4</td>\n",
       "      <td>ND382</td>\n",
       "      <td>1982.083333</td>\n",
       "      <td>2016.500000</td>\n",
       "      <td>0.018815</td>\n",
       "      <td>34.416667</td>\n",
       "      <td>True</td>\n",
       "    </tr>\n",
       "    <tr>\n",
       "      <th>4</th>\n",
       "      <td>hepatocyte</td>\n",
       "      <td>PH6</td>\n",
       "      <td>ND022</td>\n",
       "      <td>1946.500000</td>\n",
       "      <td>2004.833333</td>\n",
       "      <td>0.075001</td>\n",
       "      <td>58.333333</td>\n",
       "      <td>True</td>\n",
       "    </tr>\n",
       "  </tbody>\n",
       "</table>\n",
       "</div>"
      ],
      "text/plain": [
       "         type code sample       Dbirth        Dcoll      d14C  subject_age  \\\n",
       "0    unsorted  PH1  ND380  1942.833333  2016.416667  0.078416    73.583333   \n",
       "1    unsorted  PH2  ND388  1991.416667  2016.833333  0.025254    25.416667   \n",
       "2  hepatocyte  PH3  ND381  1985.166667  2016.416667  0.040336    31.250000   \n",
       "3  hepatocyte  PH4  ND382  1982.083333  2016.500000  0.018815    34.416667   \n",
       "4  hepatocyte  PH6  ND022  1946.500000  2004.833333  0.075001    58.333333   \n",
       "\n",
       "   valid  \n",
       "0   True  \n",
       "1   True  \n",
       "2   True  \n",
       "3   True  \n",
       "4   True  "
      ]
     },
     "execution_count": 2,
     "metadata": {},
     "output_type": "execute_result"
    }
   ],
   "source": [
    "c14_patient_data = pd.read_excel('./data/C14data_liver_samples_20180505.xlsx')[['sort', 'Code', 'sample', 'DOB', 'DOA', u'Δ 14C']]\n",
    "c14_patient_data.columns = ['type', 'code', 'sample', 'Dbirth', 'Dcoll', 'd14C']\n",
    "c14_patient_data['d14C'] /= 1000.0\n",
    "c14_patient_data['subject_age'] = c14_patient_data['Dcoll'] - c14_patient_data['Dbirth']\n",
    "\n",
    "invalid_codes = ['PH14', 'PH20', 'PH45', 'PH46']\n",
    "c14_patient_data['valid'] = np.logical_not(c14_patient_data['code'].isin(invalid_codes))\n",
    "\n",
    "c14_patient_data.head()"
   ]
  },
  {
   "cell_type": "code",
   "execution_count": 3,
   "metadata": {
    "ExecuteTime": {
     "end_time": "2018-05-08T19:46:06.262099Z",
     "start_time": "2018-05-08T19:46:06.247949Z"
    }
   },
   "outputs": [],
   "source": [
    "c14_patient_data.to_csv('./data/C14data_liver_samples_20180505.csv', index=False)"
   ]
  }
 ],
 "metadata": {
  "kernelspec": {
   "display_name": "Python [conda env:py3]",
   "language": "python",
   "name": "conda-env-py3-py"
  },
  "language_info": {
   "codemirror_mode": {
    "name": "ipython",
    "version": 3
   },
   "file_extension": ".py",
   "mimetype": "text/x-python",
   "name": "python",
   "nbconvert_exporter": "python",
   "pygments_lexer": "ipython3",
   "version": "3.6.5"
  },
  "toc": {
   "base_numbering": 1,
   "nav_menu": {},
   "number_sections": true,
   "sideBar": true,
   "skip_h1_title": false,
   "title_cell": "Table of Contents",
   "title_sidebar": "Contents",
   "toc_cell": false,
   "toc_position": {},
   "toc_section_display": true,
   "toc_window_display": false
  }
 },
 "nbformat": 4,
 "nbformat_minor": 2
}
