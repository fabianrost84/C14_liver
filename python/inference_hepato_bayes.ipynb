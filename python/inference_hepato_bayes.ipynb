{
 "cells": [
  {
   "cell_type": "markdown",
   "metadata": {},
   "source": [
    "# C14-hepatocyte analysis"
   ]
  },
  {
   "cell_type": "code",
   "execution_count": 2,
   "metadata": {
    "ExecuteTime": {
     "end_time": "2019-06-12T16:46:11.667471Z",
     "start_time": "2019-06-12T16:46:09.329920Z"
    }
   },
   "outputs": [],
   "source": [
    "import datetime\n",
    "from IPython.display import display\n",
    "import joblib\n",
    "import numpy as np\n",
    "import pandas as pd\n",
    "import matplotlib.pyplot as plt\n",
    "import seaborn as sns\n",
    "import warnings\n",
    "\n",
    "%matplotlib inline\n",
    "\n",
    "mem = joblib.Memory(location='~/tmp/hepato/', verbose=0)\n",
    "\n",
    "import logging\n",
    "\n",
    "%load_ext rpy2.ipython\n",
    "\n",
    "# logging.basicConfig(filename='c14.log',\n",
    "#                              filemode='a',\n",
    "#                              format='%(asctime)s,%(msecs)d %(name)s %(levelname)s %(message)s',\n",
    "#                             datefmt='%H:%M:%S',\n",
    "#                              level=logging.DEBUG)\n",
    "logging.basicConfig(level=logging.WARNING)"
   ]
  },
  {
   "cell_type": "code",
   "execution_count": 3,
   "metadata": {},
   "outputs": [],
   "source": [
    "%%R\n",
    "library(ggplot2)"
   ]
  },
  {
   "cell_type": "code",
   "execution_count": 4,
   "metadata": {},
   "outputs": [],
   "source": [
    "logger = logging.getLogger()\n",
    "logger.setLevel(logging.WARNING)"
   ]
  },
  {
   "cell_type": "code",
   "execution_count": 5,
   "metadata": {},
   "outputs": [],
   "source": [
    "# %load_ext autoreload\n",
    "# %autoreload 2\n",
    "import c14\n",
    "import c14.models.liver\n",
    "import c14.models.minimal"
   ]
  },
  {
   "cell_type": "code",
   "execution_count": 27,
   "metadata": {},
   "outputs": [],
   "source": [
    "R = c14.models.liver.R()"
   ]
  },
  {
   "cell_type": "code",
   "execution_count": 33,
   "metadata": {},
   "outputs": [
    {
     "data": {
      "text/plain": [
       "[<matplotlib.lines.Line2D at 0x7fb158031e90>]"
      ]
     },
     "execution_count": 33,
     "metadata": {},
     "output_type": "execute_result"
    },
    {
     "data": {
      "image/png": "[encoded data removed]",
      "text/plain": [
       "<Figure size 432x288 with 1 Axes>"
      ]
     },
     "metadata": {
      "needs_background": "light"
     },
     "output_type": "display_data"
    }
   ],
   "source": [
    "t = np.linspace(0, 100)\n",
    "ploidy_data = pd.read_excel(c14.models.liver.default_path)\n",
    "plt.plot(t, R.ploidy(t))\n",
    "plt.plot(ploidy_data['age_min'], ploidy_data['2C_mean']/100)"
   ]
  },
  {
   "cell_type": "code",
   "execution_count": 40,
   "metadata": {},
   "outputs": [],
   "source": [
    "parameters = pd.read_hdf('../../../data/julian_fits_200124/richtig_R_kappa_wo_limit.pandas').reset_index()"
   ]
  },
  {
   "cell_type": "code",
   "execution_count": 41,
   "metadata": {},
   "outputs": [
    {
     "data": {
      "text/html": [
       "<div>\n",
       "<style scoped>\n",
       "    .dataframe tbody tr th:only-of-type {\n",
       "        vertical-align: middle;\n",
       "    }\n",
       "\n",
       "    .dataframe tbody tr th {\n",
       "        vertical-align: top;\n",
       "    }\n",
       "\n",
       "    .dataframe thead th {\n",
       "        text-align: right;\n",
       "    }\n",
       "</style>\n",
       "<table border=\"1\" class=\"dataframe\">\n",
       "  <thead>\n",
       "    <tr style=\"text-align: right;\">\n",
       "      <th></th>\n",
       "      <th>time</th>\n",
       "      <th>para</th>\n",
       "      <th>mean</th>\n",
       "      <th>sd</th>\n",
       "      <th>hpd_3%</th>\n",
       "      <th>hpd_97%</th>\n",
       "      <th>mcse_mean</th>\n",
       "      <th>mcse_sd</th>\n",
       "      <th>ess_mean</th>\n",
       "      <th>ess_sd</th>\n",
       "      <th>ess_bulk</th>\n",
       "      <th>ess_tail</th>\n",
       "      <th>r_hat</th>\n",
       "    </tr>\n",
       "  </thead>\n",
       "  <tbody>\n",
       "    <tr>\n",
       "      <th>0</th>\n",
       "      <td>0</td>\n",
       "      <td>delta2</td>\n",
       "      <td>1.206706</td>\n",
       "      <td>1.733297</td>\n",
       "      <td>0.133503</td>\n",
       "      <td>4.832837</td>\n",
       "      <td>0.036390</td>\n",
       "      <td>0.025735</td>\n",
       "      <td>2268.682207</td>\n",
       "      <td>2268.682207</td>\n",
       "      <td>2004.865588</td>\n",
       "      <td>5507.946088</td>\n",
       "      <td>1.071037</td>\n",
       "    </tr>\n",
       "    <tr>\n",
       "      <th>1</th>\n",
       "      <td>0</td>\n",
       "      <td>delta4</td>\n",
       "      <td>0.068528</td>\n",
       "      <td>0.046329</td>\n",
       "      <td>0.000025</td>\n",
       "      <td>0.124742</td>\n",
       "      <td>0.001453</td>\n",
       "      <td>0.001028</td>\n",
       "      <td>1016.568653</td>\n",
       "      <td>1016.568653</td>\n",
       "      <td>817.476957</td>\n",
       "      <td>839.351367</td>\n",
       "      <td>1.167258</td>\n",
       "    </tr>\n",
       "    <tr>\n",
       "      <th>2</th>\n",
       "      <td>0</td>\n",
       "      <td>kappa24</td>\n",
       "      <td>0.000396</td>\n",
       "      <td>0.000945</td>\n",
       "      <td>0.000001</td>\n",
       "      <td>0.002010</td>\n",
       "      <td>0.000016</td>\n",
       "      <td>0.000011</td>\n",
       "      <td>3589.079727</td>\n",
       "      <td>3589.079727</td>\n",
       "      <td>1686.226563</td>\n",
       "      <td>6658.776874</td>\n",
       "      <td>1.079769</td>\n",
       "    </tr>\n",
       "    <tr>\n",
       "      <th>3</th>\n",
       "      <td>0</td>\n",
       "      <td>kappa42</td>\n",
       "      <td>0.025199</td>\n",
       "      <td>0.037624</td>\n",
       "      <td>0.000001</td>\n",
       "      <td>0.096131</td>\n",
       "      <td>0.001414</td>\n",
       "      <td>0.001000</td>\n",
       "      <td>708.067068</td>\n",
       "      <td>708.067068</td>\n",
       "      <td>828.515442</td>\n",
       "      <td>2569.747790</td>\n",
       "      <td>1.169509</td>\n",
       "    </tr>\n",
       "    <tr>\n",
       "      <th>4</th>\n",
       "      <td>0</td>\n",
       "      <td>r2</td>\n",
       "      <td>1.204860</td>\n",
       "      <td>1.733417</td>\n",
       "      <td>0.138519</td>\n",
       "      <td>4.833062</td>\n",
       "      <td>0.036401</td>\n",
       "      <td>0.025743</td>\n",
       "      <td>2267.639962</td>\n",
       "      <td>2267.639962</td>\n",
       "      <td>2016.309341</td>\n",
       "      <td>5480.473114</td>\n",
       "      <td>1.070771</td>\n",
       "    </tr>\n",
       "  </tbody>\n",
       "</table>\n",
       "</div>"
      ],
      "text/plain": [
       "   time     para      mean        sd    hpd_3%   hpd_97%  mcse_mean   mcse_sd  \\\n",
       "0     0   delta2  1.206706  1.733297  0.133503  4.832837   0.036390  0.025735   \n",
       "1     0   delta4  0.068528  0.046329  0.000025  0.124742   0.001453  0.001028   \n",
       "2     0  kappa24  0.000396  0.000945  0.000001  0.002010   0.000016  0.000011   \n",
       "3     0  kappa42  0.025199  0.037624  0.000001  0.096131   0.001414  0.001000   \n",
       "4     0       r2  1.204860  1.733417  0.138519  4.833062   0.036401  0.025743   \n",
       "\n",
       "      ess_mean       ess_sd     ess_bulk     ess_tail     r_hat  \n",
       "0  2268.682207  2268.682207  2004.865588  5507.946088  1.071037  \n",
       "1  1016.568653  1016.568653   817.476957   839.351367  1.167258  \n",
       "2  3589.079727  3589.079727  1686.226563  6658.776874  1.079769  \n",
       "3   708.067068   708.067068   828.515442  2569.747790  1.169509  \n",
       "4  2267.639962  2267.639962  2016.309341  5480.473114  1.070771  "
      ]
     },
     "execution_count": 41,
     "metadata": {},
     "output_type": "execute_result"
    }
   ],
   "source": [
    "parameters.head()"
   ]
  },
  {
   "cell_type": "code",
   "execution_count": 42,
   "metadata": {},
   "outputs": [
    {
     "data": {
      "image/png": "[encoded data removed]"
     },
     "metadata": {},
     "output_type": "display_data"
    }
   ],
   "source": [
    "%%R -i parameters\n",
    "ggplot(parameters, aes(x=time, y=mean, ymin=hpd_3., ymax=hpd_97.)) + \n",
    "    facet_wrap(~para, scale='free') +\n",
    "    geom_line() +\n",
    "    geom_ribbon(aes(alpha = 0.1), show.legend=F)"
   ]
  },
  {
   "cell_type": "code",
   "execution_count": 37,
   "metadata": {},
   "outputs": [
    {
     "data": {
      "image/png": "[encoded data removed]"
     },
     "metadata": {},
     "output_type": "display_data"
    }
   ],
   "source": [
    "%%R -i parameters\n",
    "ggplot(parameters[parameters$para %in% c('r2', \"r4\"),],\n",
    "       aes(x=time, y=mean, ymin=hpd_3., ymax=hpd_97., fill=para)) + \n",
    "    geom_line(aes(color=para)) +\n",
    "    geom_ribbon(aes(alpha = 0.0001), show.legend=F)"
   ]
  },
  {
   "cell_type": "code",
   "execution_count": 38,
   "metadata": {},
   "outputs": [
    {
     "data": {
      "image/png": "[encoded data removed]"
     },
     "metadata": {},
     "output_type": "display_data"
    }
   ],
   "source": [
    "%%R -i parameters\n",
    "ggplot(parameters[(parameters$time %in% c(20, 50)) & !(parameters$para %in% c('ratio_kappa', 'ratio_f')), ], aes(x=para, y=mean, ymin=hpd_3., ymax=hpd_97., color=factor(time))) + \n",
    "    geom_errorbar() + \n",
    "    geom_point()"
   ]
  },
  {
   "cell_type": "code",
   "execution_count": 39,
   "metadata": {},
   "outputs": [
    {
     "data": {
      "image/png": "[encoded data removed]"
     },
     "metadata": {},
     "output_type": "display_data"
    }
   ],
   "source": [
    "%%R -i parameters\n",
    "ggplot(parameters[(parameters$time %in% c(0)) & (parameters$para %in% c('ratio_f')), ], aes(x=para, y=mean, ymin=hpd_3., ymax=hpd_97., color=factor(time))) + \n",
    "    geom_errorbar() + \n",
    "    geom_point()"
   ]
  },
  {
   "cell_type": "code",
   "execution_count": null,
   "metadata": {},
   "outputs": [],
   "source": []
  }
 ],
 "metadata": {
  "kernelspec": {
   "display_name": "Python [conda env:spols200116]",
   "language": "python",
   "name": "conda-env-spols200116-py"
  },
  "language_info": {
   "codemirror_mode": {
    "name": "ipython",
    "version": 3
   },
   "file_extension": ".py",
   "mimetype": "text/x-python",
   "name": "python",
   "nbconvert_exporter": "python",
   "pygments_lexer": "ipython3",
   "version": "3.7.6"
  },
  "toc": {
   "nav_menu": {
    "height": "12px",
    "width": "252px"
   },
   "number_sections": true,
   "sideBar": true,
   "skip_h1_title": false,
   "title_cell": "Table of Contents",
   "title_sidebar": "Contents",
   "toc_cell": false,
   "toc_position": {},
   "toc_section_display": "block",
   "toc_window_display": false
  }
 },
 "nbformat": 4,
 "nbformat_minor": 4
}
