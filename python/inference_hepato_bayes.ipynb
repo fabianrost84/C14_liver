{
 "cells": [
  {
   "cell_type": "markdown",
   "metadata": {},
   "source": [
    "# C14-hepatocyte analysis"
   ]
  },
  {
   "cell_type": "code",
   "execution_count": 42,
   "metadata": {
    "ExecuteTime": {
     "end_time": "2019-06-12T16:46:11.667471Z",
     "start_time": "2019-06-12T16:46:09.329920Z"
    }
   },
   "outputs": [
    {
     "name": "stdout",
     "output_type": "stream",
     "text": [
      "The rpy2.ipython extension is already loaded. To reload it, use:\n",
      "  %reload_ext rpy2.ipython\n"
     ]
    }
   ],
   "source": [
    "import datetime\n",
    "from IPython.display import display\n",
    "import joblib\n",
    "import numpy as np\n",
    "import pandas as pd\n",
    "import matplotlib.pyplot as plt\n",
    "import seaborn as sns\n",
    "import warnings\n",
    "\n",
    "%matplotlib inline\n",
    "\n",
    "mem = joblib.Memory(location='~/tmp/hepato/', verbose=0)\n",
    "\n",
    "import logging\n",
    "\n",
    "%load_ext rpy2.ipython\n",
    "\n",
    "# logging.basicConfig(filename='c14.log',\n",
    "#                              filemode='a',\n",
    "#                              format='%(asctime)s,%(msecs)d %(name)s %(levelname)s %(message)s',\n",
    "#                             datefmt='%H:%M:%S',\n",
    "#                              level=logging.DEBUG)\n",
    "logging.basicConfig(level=logging.WARNING)"
   ]
  },
  {
   "cell_type": "code",
   "execution_count": 43,
   "metadata": {},
   "outputs": [],
   "source": [
    "%%R\n",
    "library(ggplot2)"
   ]
  },
  {
   "cell_type": "code",
   "execution_count": 44,
   "metadata": {},
   "outputs": [],
   "source": [
    "logger = logging.getLogger()\n",
    "logger.setLevel(logging.WARNING)"
   ]
  },
  {
   "cell_type": "code",
   "execution_count": 45,
   "metadata": {},
   "outputs": [],
   "source": [
    "# %load_ext autoreload\n",
    "# %autoreload 2\n",
    "import c14\n",
    "import c14.models.liver\n",
    "import c14.models.minimal"
   ]
  },
  {
   "cell_type": "code",
   "execution_count": 46,
   "metadata": {},
   "outputs": [],
   "source": [
    "R = c14.models.liver.R()"
   ]
  },
  {
   "cell_type": "code",
   "execution_count": 47,
   "metadata": {},
   "outputs": [
    {
     "data": {
      "text/plain": [
       "[<matplotlib.lines.Line2D at 0x7f9cb4b28ed0>]"
      ]
     },
     "execution_count": 47,
     "metadata": {},
     "output_type": "execute_result"
    },
    {
     "data": {
      "image/png": "[encoded data removed]",
      "text/plain": [
       "<Figure size 432x288 with 1 Axes>"
      ]
     },
     "metadata": {
      "needs_background": "light"
     },
     "output_type": "display_data"
    }
   ],
   "source": [
    "t = np.linspace(0, 100)\n",
    "ploidy_data = pd.read_excel(c14.models.liver.default_path)\n",
    "plt.plot(t, R.ploidy(t))\n",
    "plt.plot(ploidy_data['age_min'], ploidy_data['2C_mean']/100)"
   ]
  },
  {
   "cell_type": "code",
   "execution_count": 62,
   "metadata": {},
   "outputs": [],
   "source": [
    "parameters = pd.read_hdf('../../../data/julian_fits_200205/richtig_1s_R.pandas').reset_index()"
   ]
  },
  {
   "cell_type": "code",
   "execution_count": 63,
   "metadata": {},
   "outputs": [
    {
     "data": {
      "text/html": [
       "<div>\n",
       "<style scoped>\n",
       "    .dataframe tbody tr th:only-of-type {\n",
       "        vertical-align: middle;\n",
       "    }\n",
       "\n",
       "    .dataframe tbody tr th {\n",
       "        vertical-align: top;\n",
       "    }\n",
       "\n",
       "    .dataframe thead th {\n",
       "        text-align: right;\n",
       "    }\n",
       "</style>\n",
       "<table border=\"1\" class=\"dataframe\">\n",
       "  <thead>\n",
       "    <tr style=\"text-align: right;\">\n",
       "      <th></th>\n",
       "      <th>time</th>\n",
       "      <th>para</th>\n",
       "      <th>mean</th>\n",
       "      <th>sd</th>\n",
       "      <th>hpd_15.85%</th>\n",
       "      <th>hpd_84.15%</th>\n",
       "      <th>mcse_mean</th>\n",
       "      <th>mcse_sd</th>\n",
       "      <th>ess_mean</th>\n",
       "      <th>ess_sd</th>\n",
       "      <th>ess_bulk</th>\n",
       "      <th>ess_tail</th>\n",
       "      <th>r_hat</th>\n",
       "      <th>std</th>\n",
       "      <th>median_std</th>\n",
       "      <th>percentile.1585</th>\n",
       "      <th>median</th>\n",
       "      <th>percentile.8415</th>\n",
       "    </tr>\n",
       "  </thead>\n",
       "  <tbody>\n",
       "    <tr>\n",
       "      <th>0</th>\n",
       "      <td>0</td>\n",
       "      <td>delta2</td>\n",
       "      <td>1.184186</td>\n",
       "      <td>1.694604</td>\n",
       "      <td>0.186631</td>\n",
       "      <td>0.850579</td>\n",
       "      <td>0.041019</td>\n",
       "      <td>0.029010</td>\n",
       "      <td>1706.722780</td>\n",
       "      <td>1706.722780</td>\n",
       "      <td>1797.818884</td>\n",
       "      <td>3509.748033</td>\n",
       "      <td>1.077552</td>\n",
       "      <td>1.694600</td>\n",
       "      <td>1.815558</td>\n",
       "      <td>0.305073</td>\n",
       "      <td>0.532586</td>\n",
       "      <td>1.768237</td>\n",
       "    </tr>\n",
       "    <tr>\n",
       "      <th>1</th>\n",
       "      <td>0</td>\n",
       "      <td>delta4</td>\n",
       "      <td>0.071703</td>\n",
       "      <td>0.054460</td>\n",
       "      <td>0.046671</td>\n",
       "      <td>0.087769</td>\n",
       "      <td>0.000959</td>\n",
       "      <td>0.000678</td>\n",
       "      <td>3222.768433</td>\n",
       "      <td>3222.768433</td>\n",
       "      <td>1926.513207</td>\n",
       "      <td>2939.170238</td>\n",
       "      <td>1.074268</td>\n",
       "      <td>0.054460</td>\n",
       "      <td>0.054567</td>\n",
       "      <td>0.049245</td>\n",
       "      <td>0.068287</td>\n",
       "      <td>0.090747</td>\n",
       "    </tr>\n",
       "    <tr>\n",
       "      <th>2</th>\n",
       "      <td>0</td>\n",
       "      <td>kappa24</td>\n",
       "      <td>0.001895</td>\n",
       "      <td>0.000912</td>\n",
       "      <td>0.001000</td>\n",
       "      <td>0.002071</td>\n",
       "      <td>0.000020</td>\n",
       "      <td>0.000014</td>\n",
       "      <td>1984.145087</td>\n",
       "      <td>1984.145087</td>\n",
       "      <td>1856.055205</td>\n",
       "      <td>4714.671521</td>\n",
       "      <td>1.078208</td>\n",
       "      <td>0.000912</td>\n",
       "      <td>0.000940</td>\n",
       "      <td>0.001166</td>\n",
       "      <td>0.001667</td>\n",
       "      <td>0.002629</td>\n",
       "    </tr>\n",
       "    <tr>\n",
       "      <th>3</th>\n",
       "      <td>0</td>\n",
       "      <td>kappa42</td>\n",
       "      <td>0.013532</td>\n",
       "      <td>0.015995</td>\n",
       "      <td>0.001000</td>\n",
       "      <td>0.014624</td>\n",
       "      <td>0.000346</td>\n",
       "      <td>0.000245</td>\n",
       "      <td>2137.823655</td>\n",
       "      <td>2137.823655</td>\n",
       "      <td>1502.932630</td>\n",
       "      <td>5971.839136</td>\n",
       "      <td>1.093825</td>\n",
       "      <td>0.015995</td>\n",
       "      <td>0.017232</td>\n",
       "      <td>0.001835</td>\n",
       "      <td>0.007120</td>\n",
       "      <td>0.027033</td>\n",
       "    </tr>\n",
       "    <tr>\n",
       "      <th>4</th>\n",
       "      <td>0</td>\n",
       "      <td>r2</td>\n",
       "      <td>1.184877</td>\n",
       "      <td>1.694608</td>\n",
       "      <td>0.190045</td>\n",
       "      <td>0.853323</td>\n",
       "      <td>0.041020</td>\n",
       "      <td>0.029011</td>\n",
       "      <td>1706.649140</td>\n",
       "      <td>1706.649140</td>\n",
       "      <td>1794.935401</td>\n",
       "      <td>3499.941908</td>\n",
       "      <td>1.077555</td>\n",
       "      <td>1.694604</td>\n",
       "      <td>1.815579</td>\n",
       "      <td>0.305868</td>\n",
       "      <td>0.533229</td>\n",
       "      <td>1.768491</td>\n",
       "    </tr>\n",
       "  </tbody>\n",
       "</table>\n",
       "</div>"
      ],
      "text/plain": [
       "   time     para      mean        sd  hpd_15.85%  hpd_84.15%  mcse_mean  \\\n",
       "0     0   delta2  1.184186  1.694604    0.186631    0.850579   0.041019   \n",
       "1     0   delta4  0.071703  0.054460    0.046671    0.087769   0.000959   \n",
       "2     0  kappa24  0.001895  0.000912    0.001000    0.002071   0.000020   \n",
       "3     0  kappa42  0.013532  0.015995    0.001000    0.014624   0.000346   \n",
       "4     0       r2  1.184877  1.694608    0.190045    0.853323   0.041020   \n",
       "\n",
       "    mcse_sd     ess_mean       ess_sd     ess_bulk     ess_tail     r_hat  \\\n",
       "0  0.029010  1706.722780  1706.722780  1797.818884  3509.748033  1.077552   \n",
       "1  0.000678  3222.768433  3222.768433  1926.513207  2939.170238  1.074268   \n",
       "2  0.000014  1984.145087  1984.145087  1856.055205  4714.671521  1.078208   \n",
       "3  0.000245  2137.823655  2137.823655  1502.932630  5971.839136  1.093825   \n",
       "4  0.029011  1706.649140  1706.649140  1794.935401  3499.941908  1.077555   \n",
       "\n",
       "        std  median_std  percentile.1585    median  percentile.8415  \n",
       "0  1.694600    1.815558         0.305073  0.532586         1.768237  \n",
       "1  0.054460    0.054567         0.049245  0.068287         0.090747  \n",
       "2  0.000912    0.000940         0.001166  0.001667         0.002629  \n",
       "3  0.015995    0.017232         0.001835  0.007120         0.027033  \n",
       "4  1.694604    1.815579         0.305868  0.533229         1.768491  "
      ]
     },
     "execution_count": 63,
     "metadata": {},
     "output_type": "execute_result"
    }
   ],
   "source": [
    "parameters.head()"
   ]
  },
  {
   "cell_type": "code",
   "execution_count": 64,
   "metadata": {},
   "outputs": [
    {
     "data": {
      "image/png": "[encoded data removed]"
     },
     "metadata": {},
     "output_type": "display_data"
    }
   ],
   "source": [
    "%%R -i parameters \n",
    "ggplot(parameters, aes(x=time, y=median, ymin=hpd_15.85., ymax=hpd_84.15.)) + \n",
    "    facet_wrap(~para, scale='free') +\n",
    "    geom_line() +\n",
    "    geom_ribbon(aes(alpha = 0.1), show.legend=F)"
   ]
  },
  {
   "cell_type": "code",
   "execution_count": 56,
   "metadata": {},
   "outputs": [
    {
     "data": {
      "image/png": "[encoded data removed]"
     },
     "metadata": {},
     "output_type": "display_data"
    }
   ],
   "source": [
    "%%R -i parameters\n",
    "ggplot(parameters[parameters$para %in% c('r2', \"r4\"),],\n",
    "       aes(x=time, y=median, ymin=hpd_15.85., ymax=hpd_84.15., fill=para)) + \n",
    "    geom_line(aes(color=para)) +\n",
    "    geom_ribbon(aes(alpha = 0.0001), show.legend=F)"
   ]
  },
  {
   "cell_type": "code",
   "execution_count": 58,
   "metadata": {},
   "outputs": [
    {
     "data": {
      "image/png": "[encoded data removed]"
     },
     "metadata": {},
     "output_type": "display_data"
    }
   ],
   "source": [
    "%%R -i parameters\n",
    "ggplot(parameters[(parameters$time %in% c(20, 50)) & !(parameters$para %in% c('ratio_kappa', 'ratio_f')), ], aes(x=para, y=median, ymin=hpd_15.85., ymax=hpd_84.15., color=factor(time))) + \n",
    "    geom_errorbar() + \n",
    "    geom_point()"
   ]
  },
  {
   "cell_type": "code",
   "execution_count": null,
   "metadata": {},
   "outputs": [],
   "source": []
  }
 ],
 "metadata": {
  "kernelspec": {
   "display_name": "Python [conda env:spols200116]",
   "language": "python",
   "name": "conda-env-spols200116-py"
  },
  "language_info": {
   "codemirror_mode": {
    "name": "ipython",
    "version": 3
   },
   "file_extension": ".py",
   "mimetype": "text/x-python",
   "name": "python",
   "nbconvert_exporter": "python",
   "pygments_lexer": "ipython3",
   "version": "3.7.6"
  },
  "toc": {
   "nav_menu": {
    "height": "12px",
    "width": "252px"
   },
   "number_sections": true,
   "sideBar": true,
   "skip_h1_title": false,
   "title_cell": "Table of Contents",
   "title_sidebar": "Contents",
   "toc_cell": false,
   "toc_position": {},
   "toc_section_display": "block",
   "toc_window_display": false
  }
 },
 "nbformat": 4,
 "nbformat_minor": 4
}
