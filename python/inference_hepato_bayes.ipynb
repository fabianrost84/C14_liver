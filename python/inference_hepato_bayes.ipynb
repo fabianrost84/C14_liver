{
 "cells": [
  {
   "cell_type": "markdown",
   "metadata": {},
   "source": [
    "# C14-hepatocyte analysis"
   ]
  },
  {
   "cell_type": "code",
   "execution_count": 1,
   "metadata": {
    "ExecuteTime": {
     "end_time": "2019-06-12T16:46:11.667471Z",
     "start_time": "2019-06-12T16:46:09.329920Z"
    }
   },
   "outputs": [
    {
     "name": "stderr",
     "output_type": "stream",
     "text": [
      "/home/fabrost/miniconda3/envs/spols200116/lib/python3.7/site-packages/rpy2/robjects/pandas2ri.py:14: FutureWarning: pandas.core.index is deprecated and will be removed in a future version.  The public classes are available in the top-level namespace.\n",
      "  from pandas.core.index import Index as PandasIndex\n"
     ]
    }
   ],
   "source": [
    "import datetime\n",
    "from IPython.display import display\n",
    "import joblib\n",
    "import numpy as np\n",
    "import pandas as pd\n",
    "import matplotlib.pyplot as plt\n",
    "import seaborn as sns\n",
    "import warnings\n",
    "\n",
    "%matplotlib inline\n",
    "\n",
    "mem = joblib.Memory(location='~/tmp/hepato/', verbose=0)\n",
    "\n",
    "import logging\n",
    "\n",
    "%load_ext rpy2.ipython\n",
    "\n",
    "# logging.basicConfig(filename='c14.log',\n",
    "#                              filemode='a',\n",
    "#                              format='%(asctime)s,%(msecs)d %(name)s %(levelname)s %(message)s',\n",
    "#                             datefmt='%H:%M:%S',\n",
    "#                              level=logging.DEBUG)\n",
    "logging.basicConfig(level=logging.WARNING)"
   ]
  },
  {
   "cell_type": "code",
   "execution_count": 2,
   "metadata": {},
   "outputs": [],
   "source": [
    "%%R\n",
    "library(ggplot2)"
   ]
  },
  {
   "cell_type": "code",
   "execution_count": 3,
   "metadata": {},
   "outputs": [],
   "source": [
    "logger = logging.getLogger()\n",
    "logger.setLevel(logging.WARNING)"
   ]
  },
  {
   "cell_type": "code",
   "execution_count": 4,
   "metadata": {},
   "outputs": [],
   "source": [
    "# %load_ext autoreload\n",
    "# %autoreload 2\n",
    "import c14\n",
    "import c14.models.liver\n",
    "import c14.models.minimal"
   ]
  },
  {
   "cell_type": "code",
   "execution_count": 32,
   "metadata": {},
   "outputs": [],
   "source": [
    "R = c14.models.liver.R"
   ]
  },
  {
   "cell_type": "code",
   "execution_count": 34,
   "metadata": {},
   "outputs": [
    {
     "data": {
      "text/plain": [
       "[<matplotlib.lines.Line2D at 0x7f44f7405110>]"
      ]
     },
     "execution_count": 34,
     "metadata": {},
     "output_type": "execute_result"
    },
    {
     "data": {
      "image/png": "[encoded data removed]",
      "text/plain": [
       "<Figure size 432x288 with 1 Axes>"
      ]
     },
     "metadata": {
      "needs_background": "light"
     },
     "output_type": "display_data"
    }
   ],
   "source": [
    "t = np.linspace(0, 100)\n",
    "ploidy_data = pd.read_excel(c14.models.liver.default_path)\n",
    "plt.plot(t, R().ploidy(t))\n",
    "plt.plot(ploidy_data['age_min'], ploidy_data['2C_mean']/100)"
   ]
  },
  {
   "cell_type": "code",
   "execution_count": 12,
   "metadata": {},
   "outputs": [],
   "source": [
    "parameters = pd.read_hdf('../../../data/julian_fits_200226/richtig_1s_fine2_R.pandas').reset_index()"
   ]
  },
  {
   "cell_type": "code",
   "execution_count": 13,
   "metadata": {},
   "outputs": [
    {
     "data": {
      "text/html": [
       "<div>\n",
       "<style scoped>\n",
       "    .dataframe tbody tr th:only-of-type {\n",
       "        vertical-align: middle;\n",
       "    }\n",
       "\n",
       "    .dataframe tbody tr th {\n",
       "        vertical-align: top;\n",
       "    }\n",
       "\n",
       "    .dataframe thead th {\n",
       "        text-align: right;\n",
       "    }\n",
       "</style>\n",
       "<table border=\"1\" class=\"dataframe\">\n",
       "  <thead>\n",
       "    <tr style=\"text-align: right;\">\n",
       "      <th></th>\n",
       "      <th>time</th>\n",
       "      <th>para</th>\n",
       "      <th>mean</th>\n",
       "      <th>sd</th>\n",
       "      <th>hpd_15.85%</th>\n",
       "      <th>hpd_84.15%</th>\n",
       "      <th>mcse_mean</th>\n",
       "      <th>mcse_sd</th>\n",
       "      <th>ess_mean</th>\n",
       "      <th>ess_sd</th>\n",
       "      <th>ess_bulk</th>\n",
       "      <th>ess_tail</th>\n",
       "      <th>r_hat</th>\n",
       "      <th>std</th>\n",
       "      <th>median_std</th>\n",
       "      <th>percentile.1585</th>\n",
       "      <th>median</th>\n",
       "      <th>percentile.8415</th>\n",
       "    </tr>\n",
       "  </thead>\n",
       "  <tbody>\n",
       "    <tr>\n",
       "      <th>0</th>\n",
       "      <td>0.0</td>\n",
       "      <td>delta2</td>\n",
       "      <td>1.427199</td>\n",
       "      <td>1.883463</td>\n",
       "      <td>0.190036</td>\n",
       "      <td>1.090877</td>\n",
       "      <td>0.030680</td>\n",
       "      <td>0.021695</td>\n",
       "      <td>3768.907249</td>\n",
       "      <td>3768.907249</td>\n",
       "      <td>3274.499889</td>\n",
       "      <td>10271.784484</td>\n",
       "      <td>1.042713</td>\n",
       "      <td>1.883461</td>\n",
       "      <td>2.039767</td>\n",
       "      <td>0.342979</td>\n",
       "      <td>0.644111</td>\n",
       "      <td>2.429375</td>\n",
       "    </tr>\n",
       "    <tr>\n",
       "      <th>1</th>\n",
       "      <td>0.0</td>\n",
       "      <td>delta4</td>\n",
       "      <td>0.075903</td>\n",
       "      <td>0.028430</td>\n",
       "      <td>0.052598</td>\n",
       "      <td>0.103858</td>\n",
       "      <td>0.000597</td>\n",
       "      <td>0.000422</td>\n",
       "      <td>2265.505971</td>\n",
       "      <td>2265.505971</td>\n",
       "      <td>2126.614246</td>\n",
       "      <td>1922.321342</td>\n",
       "      <td>1.062228</td>\n",
       "      <td>0.028430</td>\n",
       "      <td>0.028467</td>\n",
       "      <td>0.047347</td>\n",
       "      <td>0.077350</td>\n",
       "      <td>0.099845</td>\n",
       "    </tr>\n",
       "    <tr>\n",
       "      <th>2</th>\n",
       "      <td>0.0</td>\n",
       "      <td>kappa24</td>\n",
       "      <td>0.003086</td>\n",
       "      <td>0.002004</td>\n",
       "      <td>0.001000</td>\n",
       "      <td>0.003561</td>\n",
       "      <td>0.000037</td>\n",
       "      <td>0.000026</td>\n",
       "      <td>2977.744034</td>\n",
       "      <td>2977.744034</td>\n",
       "      <td>2886.518228</td>\n",
       "      <td>9876.120061</td>\n",
       "      <td>1.051930</td>\n",
       "      <td>0.002004</td>\n",
       "      <td>0.002100</td>\n",
       "      <td>0.001309</td>\n",
       "      <td>0.002456</td>\n",
       "      <td>0.005083</td>\n",
       "    </tr>\n",
       "    <tr>\n",
       "      <th>3</th>\n",
       "      <td>0.0</td>\n",
       "      <td>kappa42</td>\n",
       "      <td>0.021206</td>\n",
       "      <td>0.023751</td>\n",
       "      <td>0.001000</td>\n",
       "      <td>0.024619</td>\n",
       "      <td>0.000572</td>\n",
       "      <td>0.000405</td>\n",
       "      <td>1723.320081</td>\n",
       "      <td>1723.320081</td>\n",
       "      <td>1698.801991</td>\n",
       "      <td>4422.166136</td>\n",
       "      <td>1.077243</td>\n",
       "      <td>0.023751</td>\n",
       "      <td>0.025895</td>\n",
       "      <td>0.002153</td>\n",
       "      <td>0.010887</td>\n",
       "      <td>0.046212</td>\n",
       "    </tr>\n",
       "    <tr>\n",
       "      <th>4</th>\n",
       "      <td>0.0</td>\n",
       "      <td>r2</td>\n",
       "      <td>1.426513</td>\n",
       "      <td>1.883452</td>\n",
       "      <td>0.196188</td>\n",
       "      <td>1.093649</td>\n",
       "      <td>0.030688</td>\n",
       "      <td>0.021701</td>\n",
       "      <td>3766.811529</td>\n",
       "      <td>3766.811529</td>\n",
       "      <td>3268.414613</td>\n",
       "      <td>10297.322795</td>\n",
       "      <td>1.042588</td>\n",
       "      <td>1.883450</td>\n",
       "      <td>2.039887</td>\n",
       "      <td>0.342283</td>\n",
       "      <td>0.643086</td>\n",
       "      <td>2.429721</td>\n",
       "    </tr>\n",
       "  </tbody>\n",
       "</table>\n",
       "</div>"
      ],
      "text/plain": [
       "   time     para      mean        sd  hpd_15.85%  hpd_84.15%  mcse_mean  \\\n",
       "0   0.0   delta2  1.427199  1.883463    0.190036    1.090877   0.030680   \n",
       "1   0.0   delta4  0.075903  0.028430    0.052598    0.103858   0.000597   \n",
       "2   0.0  kappa24  0.003086  0.002004    0.001000    0.003561   0.000037   \n",
       "3   0.0  kappa42  0.021206  0.023751    0.001000    0.024619   0.000572   \n",
       "4   0.0       r2  1.426513  1.883452    0.196188    1.093649   0.030688   \n",
       "\n",
       "    mcse_sd     ess_mean       ess_sd     ess_bulk      ess_tail     r_hat  \\\n",
       "0  0.021695  3768.907249  3768.907249  3274.499889  10271.784484  1.042713   \n",
       "1  0.000422  2265.505971  2265.505971  2126.614246   1922.321342  1.062228   \n",
       "2  0.000026  2977.744034  2977.744034  2886.518228   9876.120061  1.051930   \n",
       "3  0.000405  1723.320081  1723.320081  1698.801991   4422.166136  1.077243   \n",
       "4  0.021701  3766.811529  3766.811529  3268.414613  10297.322795  1.042588   \n",
       "\n",
       "        std  median_std  percentile.1585    median  percentile.8415  \n",
       "0  1.883461    2.039767         0.342979  0.644111         2.429375  \n",
       "1  0.028430    0.028467         0.047347  0.077350         0.099845  \n",
       "2  0.002004    0.002100         0.001309  0.002456         0.005083  \n",
       "3  0.023751    0.025895         0.002153  0.010887         0.046212  \n",
       "4  1.883450    2.039887         0.342283  0.643086         2.429721  "
      ]
     },
     "execution_count": 13,
     "metadata": {},
     "output_type": "execute_result"
    }
   ],
   "source": [
    "parameters.head()"
   ]
  },
  {
   "cell_type": "code",
   "execution_count": 14,
   "metadata": {},
   "outputs": [
    {
     "data": {
      "image/png": "[encoded data removed]"
     },
     "metadata": {},
     "output_type": "display_data"
    }
   ],
   "source": [
    "%%R -i parameters \n",
    "ggplot(parameters, aes(x=time, y=median, ymin=hpd_15.85., ymax=hpd_84.15.)) + \n",
    "    facet_wrap(~para, scale='free') +\n",
    "    geom_line() +\n",
    "    geom_ribbon(aes(alpha = 0.1), show.legend=F)"
   ]
  },
  {
   "cell_type": "code",
   "execution_count": 57,
   "metadata": {},
   "outputs": [
    {
     "data": {
      "text/plain": [
       "para\n",
       "delta2     0.644111\n",
       "delta4     0.077350\n",
       "kappa24    0.002456\n",
       "kappa42    0.010887\n",
       "Name: median, dtype: float64"
      ]
     },
     "execution_count": 57,
     "metadata": {},
     "output_type": "execute_result"
    }
   ],
   "source": [
    "explicit_parameters = parameters[parameters['para'].isin(R().default_parameters.keys())].query('time == 0').set_index('para')['median']\n",
    "explicit_parameters"
   ]
  },
  {
   "cell_type": "code",
   "execution_count": 59,
   "metadata": {},
   "outputs": [],
   "source": [
    "m = R(**R().transform_physical_to_fit(explicit_parameters))"
   ]
  },
  {
   "cell_type": "code",
   "execution_count": 78,
   "metadata": {},
   "outputs": [],
   "source": [
    "t = np.linspace(0, 80)\n",
    "implicit_parameters = pd.DataFrame(m.get_implicit_parameters(t))"
   ]
  },
  {
   "cell_type": "code",
   "execution_count": 80,
   "metadata": {},
   "outputs": [],
   "source": [
    "implicit_parameters['time'] = t"
   ]
  },
  {
   "cell_type": "code",
   "execution_count": 89,
   "metadata": {},
   "outputs": [],
   "source": [
    "implicit_parameters['f44'] = implicit_parameters['r4'] * (1-m.ploidy(t))"
   ]
  },
  {
   "cell_type": "code",
   "execution_count": 93,
   "metadata": {},
   "outputs": [],
   "source": [
    "implicit_parameters['f22'] = implicit_parameters['r2'] * (m.ploidy(t))"
   ]
  },
  {
   "cell_type": "code",
   "execution_count": 96,
   "metadata": {},
   "outputs": [
    {
     "data": {
      "text/plain": [
       "<matplotlib.axes._subplots.AxesSubplot at 0x7f44f4d99510>"
      ]
     },
     "execution_count": 96,
     "metadata": {},
     "output_type": "execute_result"
    },
    {
     "data": {
      "image/png": "[encoded data removed]",
      "text/plain": [
       "<Figure size 432x288 with 1 Axes>"
      ]
     },
     "metadata": {
      "needs_background": "light"
     },
     "output_type": "display_data"
    },
    {
     "data": {
      "image/png": "[encoded data removed]",
      "text/plain": [
       "<Figure size 432x288 with 1 Axes>"
      ]
     },
     "metadata": {
      "needs_background": "light"
     },
     "output_type": "display_data"
    }
   ],
   "source": [
    "implicit_parameters.plot('time', ['f24', 'f44'])\n",
    "implicit_parameters.plot('time', ['f42', 'f22'])"
   ]
  },
  {
   "cell_type": "code",
   "execution_count": 97,
   "metadata": {},
   "outputs": [
    {
     "data": {
      "image/png": "[encoded data removed]"
     },
     "metadata": {},
     "output_type": "display_data"
    }
   ],
   "source": [
    "%%R -i parameters\n",
    "ggplot(parameters[parameters$para %in% c('r2', \"r4\"),],\n",
    "       aes(x=time, y=median, ymin=hpd_15.85., ymax=hpd_84.15., fill=para)) + \n",
    "    geom_line(aes(color=para)) +\n",
    "    geom_ribbon(aes(alpha=0), show.legend=F)"
   ]
  },
  {
   "cell_type": "code",
   "execution_count": 98,
   "metadata": {},
   "outputs": [
    {
     "data": {
      "image/png": "[encoded data removed]"
     },
     "metadata": {},
     "output_type": "display_data"
    }
   ],
   "source": [
    "%%R -i parameters\n",
    "ggplot(parameters[(parameters$time %in% c(20, 50)) & !(parameters$para %in% c('ratio_kappa', 'ratio_f')), ], aes(x=para, y=median, ymin=hpd_15.85., ymax=hpd_84.15., color=factor(time))) + \n",
    "    geom_errorbar() + \n",
    "    geom_point()"
   ]
  },
  {
   "cell_type": "code",
   "execution_count": null,
   "metadata": {},
   "outputs": [],
   "source": []
  }
 ],
 "metadata": {
  "kernelspec": {
   "display_name": "Python [conda env:spols200116] *",
   "language": "python",
   "name": "conda-env-spols200116-py"
  },
  "language_info": {
   "codemirror_mode": {
    "name": "ipython",
    "version": 3
   },
   "file_extension": ".py",
   "mimetype": "text/x-python",
   "name": "python",
   "nbconvert_exporter": "python",
   "pygments_lexer": "ipython3",
   "version": "3.7.6"
  },
  "toc": {
   "nav_menu": {
    "height": "12px",
    "width": "252px"
   },
   "number_sections": true,
   "sideBar": true,
   "skip_h1_title": false,
   "title_cell": "Table of Contents",
   "title_sidebar": "Contents",
   "toc_cell": false,
   "toc_position": {},
   "toc_section_display": "block",
   "toc_window_display": false
  }
 },
 "nbformat": 4,
 "nbformat_minor": 4
}
