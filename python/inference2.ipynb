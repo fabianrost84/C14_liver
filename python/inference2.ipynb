{
 "cells": [
  {
   "cell_type": "markdown",
   "metadata": {},
   "source": [
    "# Initialise "
   ]
  },
  {
   "cell_type": "markdown",
   "metadata": {},
   "source": [
    "default_parameters -> fit\n",
    "\n",
    "default_limit -> physical\n",
    "\n",
    "parameters -> physical"
   ]
  },
  {
   "cell_type": "code",
   "execution_count": 1,
   "metadata": {
    "ExecuteTime": {
     "end_time": "2019-06-12T16:46:11.667471Z",
     "start_time": "2019-06-12T16:46:09.329920Z"
    }
   },
   "outputs": [],
   "source": [
    "import datetime\n",
    "from IPython.display import display\n",
    "import joblib\n",
    "import numpy as np\n",
    "import pandas as pd\n",
    "import matplotlib.pyplot as plt\n",
    "import warnings\n",
    "\n",
    "%matplotlib inline\n",
    "\n",
    "mem = joblib.Memory(location='/scratch/tmp/', verbose=1)\n",
    "\n",
    "import logging\n",
    "\n",
    "# logging.basicConfig(filename='c14.log',\n",
    "#                             filemode='a',\n",
    "#                             format='%(asctime)s,%(msecs)d %(name)s %(levelname)s %(message)s',\n",
    "#                             datefmt='%H:%M:%S',\n",
    "#                             level=logging.INFO)"
   ]
  },
  {
   "cell_type": "code",
   "execution_count": 2,
   "metadata": {},
   "outputs": [],
   "source": [
    "%load_ext autoreload\n",
    "%autoreload 2\n",
    "import c14\n",
    "import c14.livermodels"
   ]
  },
  {
   "cell_type": "code",
   "execution_count": 3,
   "metadata": {
    "ExecuteTime": {
     "end_time": "2019-06-12T16:46:14.483512Z",
     "start_time": "2019-06-12T16:46:14.348904Z"
    }
   },
   "outputs": [],
   "source": [
    "data = pd.read_csv('../../../results/C14data_liver_samples_20190722.csv')\n",
    "data = data.groupby(['type', 'sample', 'ploidy', 'pathology']).mean().dropna(how='all').reset_index()\n",
    "data['age'] = data['Dcoll'] - data['Dbirth']\n",
    "data = data.query('type == \"hepatocyte\" and pathology != \"Y\"')\n",
    "edata = c14.exp_data(data)"
   ]
  },
  {
   "cell_type": "code",
   "execution_count": 4,
   "metadata": {},
   "outputs": [],
   "source": [
    "@mem.cache\n",
    "def fit_model(edata, model, step_size=0.1, optimize_minuit_multistart_kwargs=dict(n=100,processes=8)):\n",
    "    print(f'Fitting model {model.__name__}')\n",
    "    result = {'model': model()}\n",
    "    result['op'] = c14.optimize(model=result['model'],data=edata,step_size=step_size)\n",
    "    result['vis'] = c14.visualisze(model=result['model'],data=edata,step_size=2)\n",
    "    result['multistart_result'] = result['op'].optimize_minuit_multistart(**optimize_minuit_multistart_kwargs)\n",
    "    try:\n",
    "        result['point_estimate'] = result['multistart_result'].sort_values('fval').iloc[0]['values']\n",
    "        result['cov'] = result['multistart_result'].sort_values('fval').iloc[0]['cov']\n",
    "    except:\n",
    "        print(f'Multistart found no valid results for model {model.__name__}')\n",
    "    try:\n",
    "        result['errors'] = result['vis'].calc_error(result['point_estimate'], result['cov'])\n",
    "    except:\n",
    "        print(f'Could not calculate errors for {model.__name__}')\n",
    "    return result"
   ]
  },
  {
   "cell_type": "code",
   "execution_count": 5,
   "metadata": {},
   "outputs": [],
   "source": [
    "def fit_models(edata, models, step_size=0.1, optimize_minuit_multistart_kwargs=dict(n=100,processes=8)):\n",
    "    results = {model.__name__: fit_model(edata, model, step_size, optimize_minuit_multistart_kwargs)\n",
    "               for model in models}\n",
    "    return results"
   ]
  },
  {
   "cell_type": "code",
   "execution_count": 6,
   "metadata": {},
   "outputs": [
    {
     "data": {
      "text/plain": [
       "[c14.livermodels.A,\n",
       " c14.livermodels.Al4s,\n",
       " c14.livermodels.Ak0,\n",
       " c14.livermodels.Al40,\n",
       " c14.livermodels.Akl40,\n",
       " c14.livermodels.Akl40lin,\n",
       " c14.livermodels.Akl40q,\n",
       " c14.livermodels.Akl402x2n,\n",
       " c14.livermodels.Al2l4,\n",
       " c14.livermodels.B,\n",
       " c14.livermodels.C]"
      ]
     },
     "execution_count": 6,
     "metadata": {},
     "output_type": "execute_result"
    }
   ],
   "source": [
    "models = c14.livermodels.models_list\n",
    "models"
   ]
  },
  {
   "cell_type": "code",
   "execution_count": 7,
   "metadata": {},
   "outputs": [],
   "source": [
    "models = models[0:1]"
   ]
  },
  {
   "cell_type": "code",
   "execution_count": 8,
   "metadata": {},
   "outputs": [
    {
     "name": "stdout",
     "output_type": "stream",
     "text": [
      "A\n"
     ]
    }
   ],
   "source": [
    "for model in models:\n",
    "    print(model.__name__)\n",
    "    model()"
   ]
  },
  {
   "cell_type": "code",
   "execution_count": 9,
   "metadata": {},
   "outputs": [],
   "source": [
    "init_limit = {'r': (-3, 0), \n",
    "              'lambda4': (-3, 0),\n",
    "              'kappa24': (-3, 0),\n",
    "              'kappa42': (-3, 0),\n",
    "              'delta2': (-3, 0),\n",
    "              'delta2_0': (-3, 0),\n",
    "              'delta2_100': (-3, 0),\n",
    "              'delta4': (-3, 0),\n",
    "              'f': (1, 3)\n",
    "             }"
   ]
  },
  {
   "cell_type": "code",
   "execution_count": null,
   "metadata": {},
   "outputs": [
    {
     "name": "stdout",
     "output_type": "stream",
     "text": [
      "________________________________________________________________________________\n",
      "[Memory] Calling __main__--home-fabrost-pksCloud-projects-C14_liver-source-fabian-python-__ipython-input__.fit_model...\n",
      "fit_model(<c14.base.exp_data object at 0x7f08df8b1978>, <class 'c14.livermodels.A'>, 2.0, { 'init_limit': { 'delta2': (-3, 0),\n",
      "                  'delta2_0': (-3, 0),\n",
      "                  'delta2_100': (-3, 0),\n",
      "                  'delta4': (-3, 0),\n",
      "                  'f': (1, 3),\n",
      "                  'kappa24': (-3, 0),\n",
      "                  'kappa42': (-3, 0),\n",
      "                  'lambda4': (-3, 0),\n",
      "                  'r': (-3, 0)},\n",
      "  'n': 100,\n",
      "  'processes': 7})\n",
      "Fitting model A\n",
      "[(-3, 0), (-3, 0), (-3, 0), (-3, 0)]\n"
     ]
    },
    {
     "name": "stderr",
     "output_type": "stream",
     "text": [
      "/home/fabrost/miniconda3/envs/spols190426/lib/python3.6/site-packages/scipy/optimize/optimize.py:670: RuntimeWarning: invalid value encountered in double_scalars\n",
      "  grad[k] = (f(*((xk + d,) + args)) - f0) / d[k]\n",
      "/home/fabrost/miniconda3/envs/spols190426/lib/python3.6/site-packages/scipy/optimize/optimize.py:670: RuntimeWarning: invalid value encountered in double_scalars\n",
      "  grad[k] = (f(*((xk + d,) + args)) - f0) / d[k]\n",
      "/home/fabrost/pksCloud/projects/C14_liver/source/c14/c14/base.py:108: RuntimeWarning: overflow encountered in double_scalars\n",
      "  p_phy[p] = 10**p_fit[p]\n",
      "/home/fabrost/pksCloud/projects/C14_liver/source/c14/c14/base.py:108: RuntimeWarning: overflow encountered in double_scalars\n",
      "  p_phy[p] = 10**p_fit[p]\n",
      "/home/fabrost/miniconda3/envs/spols190426/lib/python3.6/site-packages/scipy/optimize/optimize.py:670: RuntimeWarning: invalid value encountered in double_scalars\n",
      "  grad[k] = (f(*((xk + d,) + args)) - f0) / d[k]\n"
     ]
    }
   ],
   "source": [
    "%%time\n",
    "results = fit_models(edata, models, step_size=2.0, \n",
    "                     optimize_minuit_multistart_kwargs=dict(n=100, \n",
    "                                                            processes=7, \n",
    "                                                            init_limit=init_limit)\n",
    "                    )"
   ]
  },
  {
   "cell_type": "code",
   "execution_count": null,
   "metadata": {},
   "outputs": [],
   "source": [
    "%%time\n",
    "results = fit_models(edata, models, step_size=0.5, \n",
    "                     optimize_minuit_multistart_kwargs=dict(n=100, \n",
    "                                                            processes=7, \n",
    "                                                            init_limit=init_limit)\n",
    "                    )"
   ]
  },
  {
   "cell_type": "code",
   "execution_count": null,
   "metadata": {},
   "outputs": [],
   "source": [
    "%%time\n",
    "results = fit_models(edata, models, step_size=0.5, \n",
    "                     optimize_minuit_multistart_kwargs=dict(n=1000, \n",
    "                                                            processes=7, \n",
    "                                                            init_limit=init_limit)\n",
    "                    )"
   ]
  },
  {
   "cell_type": "code",
   "execution_count": null,
   "metadata": {},
   "outputs": [],
   "source": [
    "for name, result in results.items():\n",
    "    print(name)\n",
    "    fig, axs = plt.subplots(1, 2, figsize=(12,6))\n",
    "    result['vis'].plot_parameter(result['point_estimate'], result['errors'], no_plot=[], axis=axs[0])\n",
    "    axs[0].legend()\n",
    "    axs[0].set_title(name)\n",
    "    axs[0].set_ylim(0,1)\n",
    "    \n",
    "    fval = result['multistart_result']['fval']\n",
    "    axs[1].scatter(np.arange(len(fval)), fval.values)\n",
    "    axs[1].set_xlabel('rank')\n",
    "    axs[1].set_ylabel('log L')\n",
    "    \n",
    "    plt.show()\n",
    "   \n",
    "    print(pd.Series(result['model'].tranform_parameters(result['point_estimate'])))"
   ]
  },
  {
   "cell_type": "code",
   "execution_count": null,
   "metadata": {},
   "outputs": [],
   "source": [
    "final_results = pd.DataFrame(pd.Series({name: result['op'].calc_aicc(result['point_estimate']) for name, result in results.items()}, name='cAIC'))\n",
    "final_results['loglike'] = [result['op'].loglike_dict(result['point_estimate']) for model, result in results.items()]\n",
    "final_results['nparas'] = [result['model'].nparas for model, result in results.items()]\n",
    "final_results = pd.DataFrame(final_results)\n",
    "final_results['delta'] = final_results['cAIC'] - final_results['cAIC'].min() \n",
    "final_results['w'] = np.exp(-0.5*final_results['delta']) / np.exp(-0.5*final_results['delta']).sum()\n",
    "final_results['ER'] = final_results['w'].max() / final_results['w']\n",
    "final_results.sort_values('cAIC')"
   ]
  },
  {
   "cell_type": "code",
   "execution_count": null,
   "metadata": {},
   "outputs": [],
   "source": []
  }
 ],
 "metadata": {
  "kernelspec": {
   "display_name": "Python [conda env:spols190426] *",
   "language": "python",
   "name": "conda-env-spols190426-py"
  },
  "language_info": {
   "codemirror_mode": {
    "name": "ipython",
    "version": 3
   },
   "file_extension": ".py",
   "mimetype": "text/x-python",
   "name": "python",
   "nbconvert_exporter": "python",
   "pygments_lexer": "ipython3",
   "version": "3.6.7"
  },
  "toc": {
   "nav_menu": {
    "height": "12px",
    "width": "252px"
   },
   "number_sections": true,
   "sideBar": true,
   "skip_h1_title": false,
   "title_cell": "Table of Contents",
   "title_sidebar": "Contents",
   "toc_cell": false,
   "toc_position": {},
   "toc_section_display": "block",
   "toc_window_display": false
  }
 },
 "nbformat": 4,
 "nbformat_minor": 2
}
