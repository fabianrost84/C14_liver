{
 "cells": [
  {
   "cell_type": "code",
   "execution_count": 520,
   "metadata": {},
   "outputs": [],
   "source": [
    "import c14\n",
    "import c14.models.liver\n",
    "\n",
    "import numpy as np\n",
    "import pandas as pd\n",
    "import scipy as sp\n",
    "import theano\n",
    "import theano.tensor as T\n",
    "\n",
    "import seaborn as sns\n",
    "import matplotlib.pyplot as plt"
   ]
  },
  {
   "cell_type": "code",
   "execution_count": 521,
   "metadata": {},
   "outputs": [],
   "source": [
    "# %load_ext autoreload"
   ]
  },
  {
   "cell_type": "code",
   "execution_count": 522,
   "metadata": {},
   "outputs": [],
   "source": [
    "# %autoreload 2\n",
    "import pymc3 as pm"
   ]
  },
  {
   "cell_type": "code",
   "execution_count": 572,
   "metadata": {},
   "outputs": [],
   "source": [
    "import scipy\n",
    "import theano\n",
    "\n",
    "floatX = theano.config.floatX\n",
    "\n",
    "class DE(pm.ode.DifferentialEquation):\n",
    "    def _simulate(self, y0, theta):\n",
    "        # Initial condition comprised of state initial conditions and raveled sensitivity matrix\n",
    "        s0 = np.concatenate([y0, self._sens_ic])\n",
    "        \n",
    "        # perform the integration\n",
    "        sol = scipy.integrate.solve_ivp(\n",
    "            fun = lambda t, Y: self._system(Y, t, tuple(np.concatenate([y0, theta]))),\n",
    "            t_span=[0, self._augmented_times.max()],\n",
    "            y0=s0,\n",
    "            method='RK45',\n",
    "            t_eval=self._augmented_times,\n",
    "            atol=1e99, rtol=1e99,\n",
    "            max_step=0.02).y.T.astype(floatX)\n",
    "        \n",
    "        # The solution\n",
    "        y = sol[1:, :self.n_states]\n",
    "\n",
    "        # The sensitivities, reshaped to be a sequence of matrices\n",
    "        sens = sol[1:, self.n_states:].reshape(self.n_times, self.n_states, self.n_p)\n",
    "\n",
    "        return y, sens"
   ]
  },
  {
   "cell_type": "code",
   "execution_count": 524,
   "metadata": {},
   "outputs": [],
   "source": [
    "path = c14.models.liver.default_path"
   ]
  },
  {
   "cell_type": "code",
   "execution_count": 525,
   "metadata": {},
   "outputs": [],
   "source": [
    "UnivariateSpline = sp.interpolate.UnivariateSpline"
   ]
  },
  {
   "cell_type": "code",
   "execution_count": 526,
   "metadata": {},
   "outputs": [],
   "source": [
    "ploidy_data = pd.read_excel(path)\n",
    "\n",
    "ploidy_data['age'] = (ploidy_data[['age_min', 'age_max']].\n",
    "                              mean(axis='columns'))\n",
    "ploidy_data /= 100.0\n",
    "ploidy_data['age'] *= 100\n",
    "\n",
    "ploidy = UnivariateSpline(ploidy_data['age'].values,\n",
    "                               ploidy_data['2C_mean'].values,\n",
    "                               ext=3, k=2)\n",
    "dtploidy = ploidy.derivative()\n",
    "ploidy2x2 = UnivariateSpline(ploidy_data['age'].values,\n",
    "                                  ploidy_data['2Cx2_mean'].values,\n",
    "                                  ext=3, k=2)"
   ]
  },
  {
   "cell_type": "code",
   "execution_count": 527,
   "metadata": {},
   "outputs": [],
   "source": [
    "t0 = np.linspace(0, 100, 50)\n",
    "p0 = ploidy(t0)\n",
    "dtp0 = dtploidy(t0)\n",
    "p2x20 = ploidy2x2(t0)\n",
    "years = np.linspace(1900, 2020, 50)\n",
    "Catm0 = c14.models.liver.Catm().lin(years)\n",
    "\n",
    "\n",
    "def ploidy(t):\n",
    "    C0 = p0\n",
    "    C = 0\n",
    "    for i in range(len(t0)-1):\n",
    "        C += (t>=t0[i]) * (t<t0[i+1]) * (C0[i]*(t0[i+1]-t) + C0[i+1]*(t-t0[i]))/(t0[i+1] - t0[i])\n",
    "    return C\n",
    "\n",
    "def ploidy2x2(t):\n",
    "    C0 = p2x20\n",
    "    C = 0\n",
    "    for i in range(len(t0)-1):\n",
    "        C += (t>=t0[i]) * (t<t0[i+1]) * (C0[i]*(t0[i+1]-t) + C0[i+1]*(t-t0[i]))/(t0[i+1] - t0[i])\n",
    "    return C\n",
    "\n",
    "def dtploidy(t):\n",
    "    C0 = dtp0\n",
    "    C = 0\n",
    "    for i in range(len(t0)-1):\n",
    "        C += (t>=t0[i]) * (t<t0[i+1]) * (C0[i]*(t0[i+1]-t) + C0[i+1]*(t-t0[i]))/(t0[i+1] - t0[i])\n",
    "    return C\n",
    "\n",
    "def Catm(t):\n",
    "    t0 = years\n",
    "    C0 = Catm0\n",
    "    C = 0\n",
    "    for i in range(len(t0)-1):\n",
    "        C += (t>=t0[i]) * (t<t0[i+1]) * (C0[i]*(t0[i+1]-t) + C0[i+1]*(t-t0[i]))/(t0[i+1] - t0[i])\n",
    "    return C"
   ]
  },
  {
   "cell_type": "code",
   "execution_count": 543,
   "metadata": {},
   "outputs": [],
   "source": [
    "data = pd.read_csv('../data/C14data_liver_samples_20191023.csv')\n",
    "data = data.groupby(['type', 'sample', 'ploidy', 'pathology']).mean().dropna(how='all').reset_index()\n",
    "data['age'] = data['Dcoll'] - data['Dbirth']\n",
    "data = data.query('type == \"hepatocyte\" and pathology != \"Y\"')\n",
    "# data = data.query('ploidy == \"2n4n\"')\n",
    "data = data[['sample', 'ploidy', 'Dbirth', 'age', 'd14C']]\n",
    "# data['d14C'] *= 1000\n",
    "data = data.sort_values('age')\n",
    "\n",
    "# data = data.head(10)\n",
    "\n",
    "data_unstack = (data\n",
    "                .set_index('d14C', drop=False)\n",
    "                .set_index(['sample', 'ploidy', 'Dbirth', 'age', 'age'], append=True)\n",
    "                .unstack().T.loc['d14C'])\n",
    "# for a in np.arange(0.0, data['age'].max(), 10):\n",
    "#     if not a in data_unstack.index:\n",
    "#         data_unstack.loc[a] = np.nan\n",
    "data_unstack = data_unstack.sort_index()\n",
    "\n",
    "age = data_unstack.index.values\n",
    "d14C_obs = np.ma.masked_invalid(data_unstack.values).T\n",
    "\n",
    "Dbirth = data_unstack.columns.to_frame()['Dbirth'].values\n",
    "subject_age = data_unstack.columns.to_frame()['age'].values\n",
    "ploidy_type = data_unstack.columns.to_frame()['ploidy'].values\n",
    "d14C_obs_1 = data_unstack.columns.to_frame()['d14C'].values\n",
    "n = data_unstack.shape[1]\n",
    "\n",
    "mask_n2n4 = ploidy_type == '2n4n'\n",
    "mask_n2 = ploidy_type == '2n'\n",
    "mask_n4 = ploidy_type == '4n'\n",
    "\n",
    "wn2 = np.empty_like(subject_age) \n",
    "wn4 = np.empty_like(subject_age) \n",
    "\n",
    "wn2[mask_n2n4] = ploidy(subject_age[mask_n2n4])\n",
    "wn2[mask_n2] = ploidy(subject_age[mask_n2])\n",
    "wn2[mask_n4] = 0\n",
    "\n",
    "wn4[mask_n2n4] = 2*(1-ploidy(subject_age[mask_n2n4]))\n",
    "wn4[mask_n2] = 2*ploidy2x2(subject_age[mask_n2])\n",
    "wn4[mask_n4] = 1\n",
    "\n",
    "wn2, wn4 = wn2/(wn2 + wn4), wn4/(wn2 + wn4)\n",
    "\n",
    "scaled_age = 1"
   ]
  },
  {
   "cell_type": "code",
   "execution_count": 544,
   "metadata": {},
   "outputs": [],
   "source": [
    "def ode_C_func(C, t, p):\n",
    "    lambda_ = p[0]\n",
    "    if isinstance(C, T.TensorVariable):\n",
    "        dC = lambda_*(Catm(t + Dbirth) - C) * T.where(t<=subject_age, T.ones_like(C),\n",
    "                                                 T.zeros_like(C))\n",
    "    else:\n",
    "        dC = lambda_*(Catm(t + Dbirth) - C) * np.where(t<=subject_age, np.ones_like(C),\n",
    "                                                 np.zeros_like(C))\n",
    "    return_string = '[' \n",
    "    for i in range(n):\n",
    "        return_string += f'dC[{i}], '\n",
    "    return_string += ']'\n",
    "    return eval(return_string)"
   ]
  },
  {
   "cell_type": "code",
   "execution_count": 545,
   "metadata": {},
   "outputs": [],
   "source": [
    "lambda_true = 0.1\n",
    "sigma_true = 0.01"
   ]
  },
  {
   "cell_type": "code",
   "execution_count": 546,
   "metadata": {},
   "outputs": [],
   "source": [
    "t_sim = age"
   ]
  },
  {
   "cell_type": "code",
   "execution_count": 547,
   "metadata": {},
   "outputs": [
    {
     "name": "stdout",
     "output_type": "stream",
     "text": [
      "CPU times: user 3.26 s, sys: 2.39 s, total: 5.65 s\n",
      "Wall time: 770 ms\n"
     ]
    }
   ],
   "source": [
    "%%time \n",
    "s = sp.integrate.solve_ivp(lambda t, y: ode_C_func(y, t, tuple([[lambda_true]])),\n",
    "                                   t_span=[0, age.max()],\n",
    "                                   y0=Catm(Dbirth),\n",
    "                                   method='BDF',\n",
    "                                   t_eval=age,\n",
    "                          atol=1e-6,\n",
    "                          rtol=1e-3)"
   ]
  },
  {
   "cell_type": "code",
   "execution_count": 548,
   "metadata": {},
   "outputs": [],
   "source": [
    "np.random.seed(42)\n",
    "yobs = np.random.normal(s.y, sigma_true)\n",
    "yobs = np.ma.array(yobs, mask=d14C_obs.mask)"
   ]
  },
  {
   "cell_type": "code",
   "execution_count": 549,
   "metadata": {},
   "outputs": [
    {
     "data": {
      "text/plain": [
       "(41, 33)"
      ]
     },
     "execution_count": 549,
     "metadata": {},
     "output_type": "execute_result"
    }
   ],
   "source": [
    "yobs.shape"
   ]
  },
  {
   "cell_type": "code",
   "execution_count": 550,
   "metadata": {},
   "outputs": [],
   "source": [
    "y_1 = np.empty_like(Dbirth)\n",
    "yobs_1 = np.empty_like(Dbirth)\n",
    "for i in np.arange(0, yobs.shape[0]):\n",
    "    y_1[i] = s.y[i, yobs[i].mask == False]\n",
    "    yobs_1[i] = yobs[i, yobs[i].mask == False]\n",
    "# yobs = np.ma.array(yobs, mask=mask)"
   ]
  },
  {
   "cell_type": "code",
   "execution_count": 551,
   "metadata": {},
   "outputs": [],
   "source": [
    "# plt.plot(Dbirth, Catm(Dbirth), marker='s', ls='None')\n",
    "# plt.plot(Dbirth, yobs[:,0], marker='s', ls='None')"
   ]
  },
  {
   "cell_type": "code",
   "execution_count": 552,
   "metadata": {},
   "outputs": [
    {
     "data": {
      "image/png": "[encoded data removed]",
      "text/plain": [
       "<Figure size 432x288 with 1 Axes>"
      ]
     },
     "metadata": {
      "needs_background": "light"
     },
     "output_type": "display_data"
    }
   ],
   "source": [
    "t = np.linspace(0, 70)\n",
    "plt.plot(t, Catm(t+Dbirth[3]))\n",
    "plt.plot(t_sim, s.y[3, :], marker='s')\n",
    "plt.plot(t_sim, yobs[3,:], marker='s')\n",
    "plt.show()"
   ]
  },
  {
   "cell_type": "code",
   "execution_count": 553,
   "metadata": {},
   "outputs": [],
   "source": [
    "def ode_C_func_scaled(C, t, p):\n",
    "    lambda_ = p[0] \n",
    "    t *= subject_age / scaled_age\n",
    "    dC = (subject_age / scaled_age) * lambda_*(Catm(t + Dbirth) - C)\n",
    "    return [dC[i] for i in range(n)]\n",
    "#     return_string = '[' \n",
    "#     for i in range(n):\n",
    "#         return_string += f'dC[{i}], '\n",
    "#     return_string += ']'\n",
    "#     return eval(return_string)"
   ]
  },
  {
   "cell_type": "code",
   "execution_count": 554,
   "metadata": {},
   "outputs": [],
   "source": [
    "s2 = sp.integrate.solve_ivp(lambda t, y: ode_C_func_scaled(y, t, tuple([[lambda_true]])),\n",
    "                                   t_span=[0, scaled_age],\n",
    "                                   y0=Catm(Dbirth),\n",
    "                                   method='BDF',\n",
    "                                   t_eval=[scaled_age],\n",
    "                           rtol=1e-3, atol=1e-6)"
   ]
  },
  {
   "cell_type": "code",
   "execution_count": 555,
   "metadata": {},
   "outputs": [],
   "source": [
    "ode_C_model = DE(ode_C_func_scaled, times=[scaled_age], n_states=n, n_theta=1)"
   ]
  },
  {
   "cell_type": "code",
   "execution_count": 556,
   "metadata": {},
   "outputs": [],
   "source": [
    "d14Cdata = yobs_1"
   ]
  },
  {
   "cell_type": "code",
   "execution_count": 542,
   "metadata": {},
   "outputs": [
    {
     "name": "stderr",
     "output_type": "stream",
     "text": [
      "/home/fabrost/miniconda3/envs/spols191122/lib/python3.7/site-packages/scipy/integrate/_ivp/common.py:41: UserWarning: The following arguments have no effect for a chosen solver: `min_step`.\n",
      "  .format(\", \".join(\"`{}`\".format(x) for x in extraneous)))\n",
      "Only 200 samples in chain.\n",
      "WARNING:pymc3:Only 200 samples in chain.\n",
      "Auto-assigning NUTS sampler...\n",
      "INFO:pymc3:Auto-assigning NUTS sampler...\n",
      "Initializing NUTS using jitter+adapt_diag...\n",
      "INFO:pymc3:Initializing NUTS using jitter+adapt_diag...\n",
      "Sequential sampling (1 chains in 1 job)\n",
      "INFO:pymc3:Sequential sampling (1 chains in 1 job)\n",
      "NUTS: [sigma, lambda_]\n",
      "INFO:pymc3:NUTS: [sigma, lambda_]\n",
      "Sampling chain 0, 0 divergences: 100%|██████████| 300/300 [01:05<00:00,  4.61it/s]\n",
      "The acceptance probability does not match the target. It is 0.9504989848748844, but should be close to 0.8. Try to increase the number of tuning steps.\n",
      "WARNING:pymc3:The acceptance probability does not match the target. It is 0.9504989848748844, but should be close to 0.8. Try to increase the number of tuning steps.\n"
     ]
    },
    {
     "name": "stdout",
     "output_type": "stream",
     "text": [
      "CPU times: user 1min 5s, sys: 159 ms, total: 1min 6s\n",
      "Wall time: 1min 6s\n"
     ]
    }
   ],
   "source": [
    "%%time\n",
    "with pm.Model() as POP1:\n",
    "    lambda_ = pm.Uniform('lambda_', 0, 1, testval=0.1)\n",
    "    sigma = pm.HalfNormal('sigma', 0.01)\n",
    "    \n",
    "    ode_C_solution = ode_C_model(y0=Catm(Dbirth), theta=[lambda_]).T.reshape(d14Cdata.shape)\n",
    "    \n",
    "    d14C = pm.Normal('d14C', mu=ode_C_solution, sd=sigma, observed=d14Cdata)\n",
    "\n",
    "#     approx1 = pm.fit(n=10000)\n",
    "    trace4 = pm.sample(200, tune=100, chains=1, compute_convergence_checks=False)"
   ]
  },
  {
   "cell_type": "code",
   "execution_count": 420,
   "metadata": {},
   "outputs": [
    {
     "name": "stderr",
     "output_type": "stream",
     "text": [
      "INFO (theano.gof.compilelock): Refreshing lock /home/fabrost/.theano/compiledir_Linux-4.4--default-x86_64-with-SuSE-42.3-x86_64-x86_64-3.7.3-64/lock_dir/lock\n",
      "INFO:theano.gof.compilelock:Refreshing lock /home/fabrost/.theano/compiledir_Linux-4.4--default-x86_64-with-SuSE-42.3-x86_64-x86_64-3.7.3-64/lock_dir/lock\n",
      "/home/fabrost/miniconda3/envs/spols191122/lib/python3.7/site-packages/arviz/stats/stats.py:1126: UserWarning: For one or more samples the posterior variance of the log predictive densities exceeds 0.4. This could be indication of WAIC starting to fail. \n",
      "See http://arxiv.org/abs/1507.04544 for details\n",
      "  \"For one or more samples the posterior variance of the log predictive \"\n"
     ]
    },
    {
     "data": {
      "text/plain": [
       "Computed from 200 by 41 log-likelihood matrix\n",
       "\n",
       "        Estimate       SE\n",
       "IC_waic  -198.74    11.09\n",
       "p_waic      1.79        -\n",
       "\n",
       "There has been a warning during the calculation. Please check the results."
      ]
     },
     "execution_count": 420,
     "metadata": {},
     "output_type": "execute_result"
    }
   ],
   "source": [
    "pm.waic(trace4)"
   ]
  },
  {
   "cell_type": "code",
   "execution_count": 557,
   "metadata": {},
   "outputs": [
    {
     "name": "stderr",
     "output_type": "stream",
     "text": [
      "Average Loss = 3.9871e+10:   0%|          | 35/10000 [00:11<54:26,  3.05it/s]\n",
      "Interrupted at 35 [0%]: Average Loss = 3.7628e+11\n",
      "INFO:pymc3.variational.inference:Interrupted at 35 [0%]: Average Loss = 3.7628e+11\n"
     ]
    },
    {
     "name": "stdout",
     "output_type": "stream",
     "text": [
      "CPU times: user 54.7 s, sys: 41.3 s, total: 1min 36s\n",
      "Wall time: 13.2 s\n"
     ]
    }
   ],
   "source": [
    "%%time\n",
    "with pm.Model() as POP1:\n",
    "    lambda_ = pm.Uniform('lambda_', 0, 1, testval=0.1)\n",
    "    sigma = pm.HalfNormal('sigma', 0.01)\n",
    "    \n",
    "    ode_C_solution = ode_C_model(y0=Catm(Dbirth), theta=[lambda_]).T.reshape(d14Cdata.shape)\n",
    "    \n",
    "    d14C = pm.Normal('d14C', mu=ode_C_solution, sd=sigma, observed=d14Cdata)\n",
    "\n",
    "    approx1 = pm.fit(n=10000)\n",
    "#     trace1 = pm.sample(100, tune=50, chains=4, compute_convergence_checks=False)"
   ]
  },
  {
   "cell_type": "code",
   "execution_count": 359,
   "metadata": {},
   "outputs": [
    {
     "data": {
      "text/plain": [
       "array([<matplotlib.axes._subplots.AxesSubplot object at 0x7f877be51ba8>],\n",
       "      dtype=object)"
      ]
     },
     "execution_count": 359,
     "metadata": {},
     "output_type": "execute_result"
    },
    {
     "data": {
      "image/png": "[encoded data removed]",
      "text/plain": [
       "<Figure size 432x288 with 1 Axes>"
      ]
     },
     "metadata": {
      "needs_background": "light"
     },
     "output_type": "display_data"
    }
   ],
   "source": [
    "pm.plot_posterior(approx1.sample(1000)['lambda_'])"
   ]
  },
  {
   "cell_type": "code",
   "execution_count": 204,
   "metadata": {},
   "outputs": [
    {
     "name": "stderr",
     "output_type": "stream",
     "text": [
      "Average Loss = -29.589: 100%|██████████| 10000/10000 [01:50<00:00, 90.85it/s]\n",
      "Finished [100%]: Average Loss = -29.605\n",
      "INFO:pymc3.variational.inference:Finished [100%]: Average Loss = -29.605\n"
     ]
    },
    {
     "name": "stdout",
     "output_type": "stream",
     "text": [
      "CPU times: user 1min 51s, sys: 798 ms, total: 1min 52s\n",
      "Wall time: 1min 51s\n"
     ]
    }
   ],
   "source": [
    "%%time\n",
    "with pm.Model() as POP1:\n",
    "    lambda_ = pm.Uniform('lambda_', 0, 1, testval=0.1)\n",
    "    sigma = pm.HalfNormal('sigma', 0.01)\n",
    "    \n",
    "    ode_C_solution = ode_C_model(y0=Catm(Dbirth), theta=[lambda_]).T.reshape(d14Cdata.shape)\n",
    "    \n",
    "    d14C = pm.Normal('d14C', mu=ode_C_solution, sd=sigma, observed=d14Cdata)\n",
    "    approx = pm.fit(n=10000)\n",
    "\n",
    "#     trace = pm.sample(100, tune=50, chains=4, compute_convergence_checks=False)"
   ]
  },
  {
   "cell_type": "code",
   "execution_count": 205,
   "metadata": {},
   "outputs": [],
   "source": [
    "trace = approx.sample(1000)"
   ]
  },
  {
   "cell_type": "code",
   "execution_count": 206,
   "metadata": {},
   "outputs": [
    {
     "data": {
      "text/plain": [
       "array([<matplotlib.axes._subplots.AxesSubplot object at 0x7f880cdcc978>],\n",
       "      dtype=object)"
      ]
     },
     "execution_count": 206,
     "metadata": {},
     "output_type": "execute_result"
    },
    {
     "data": {
      "image/png": "[encoded data removed]",
      "text/plain": [
       "<Figure size 432x288 with 1 Axes>"
      ]
     },
     "metadata": {
      "needs_background": "light"
     },
     "output_type": "display_data"
    }
   ],
   "source": [
    "pm.plot_posterior(trace['lambda_'])"
   ]
  },
  {
   "cell_type": "code",
   "execution_count": 285,
   "metadata": {},
   "outputs": [
    {
     "data": {
      "text/plain": [
       "Computed from 100 by 10 log-likelihood matrix\n",
       "\n",
       "        Estimate       SE\n",
       "IC_waic   -53.57     4.61\n",
       "p_waic      8.32        -\n",
       "\n",
       "There has been a warning during the calculation. Please check the results."
      ]
     },
     "execution_count": 285,
     "metadata": {},
     "output_type": "execute_result"
    }
   ],
   "source": [
    "pm.waic(trace[::100])"
   ]
  },
  {
   "cell_type": "code",
   "execution_count": 298,
   "metadata": {},
   "outputs": [
    {
     "name": "stderr",
     "output_type": "stream",
     "text": [
      "/home/fabrost/miniconda3/envs/spols191122/lib/python3.7/site-packages/arviz/stats/stats.py:482: UserWarning: Estimated shape parameter of Pareto distribution is greater than 0.7 for one or more samples. You should consider using a more robust model, this is because importance sampling is less likely to work well if the marginal posterior and LOO posterior are very different. This is more likely to happen with a non-robust model and highly influential observations.\n",
      "  \"Estimated shape parameter of Pareto distribution is greater than 0.7 for \"\n"
     ]
    },
    {
     "data": {
      "text/plain": [
       "Computed from 100 by 10 log-likelihood matrix\n",
       "\n",
       "       Estimate       SE\n",
       "IC_loo   -55.76     4.29\n",
       "p_loo      7.23        -\n",
       "\n",
       "There has been a warning during the calculation. Please check the results."
      ]
     },
     "execution_count": 298,
     "metadata": {},
     "output_type": "execute_result"
    }
   ],
   "source": [
    "pm.loo(trace[::100])"
   ]
  },
  {
   "cell_type": "code",
   "execution_count": 207,
   "metadata": {},
   "outputs": [],
   "source": [
    "# %%time\n",
    "# with pm.Model() as POP1_test:\n",
    "#     lower = np.log10(0.0001)\n",
    "#     upper = np.log10(0.1)\n",
    "#     log10_lambda_ = pm.Uniform('log10_lambda_', lower, upper)\n",
    "#     lambda_ = pm.Deterministic('lambda_', 10**log10_lambda_)\n",
    "# #     BoundedNormal = pm.Bound(pm.Normal, lower=0.0)\n",
    "# #     lambda_ = BoundedNormal('lambda_', mu=0.01, sd=0.01, testval=0.01)\n",
    "# #     lambda_ = pm.HalfFlat('lambda_', testval=0.1)\n",
    "# #     lambda_ = pm.Uniform('lambda_', 0, 1, testval=0.1)\n",
    "#     sigma = pm.HalfNormal('sigma', 0.01)\n",
    "    \n",
    "#     ode_C_solution = ode_C_model(y0=Catm(Dbirth), theta=[lambda_]).T.reshape(yobs_1.shape)\n",
    "    \n",
    "#     d14C = pm.Normal('d14C', mu=ode_C_solution, sd=sigma, observed=yobs_1)\n",
    "# #     approx = pm.fit(n=100)\n",
    "# #     map_ = pm.find_MAP()\n",
    "    \n",
    "# #     prior = pm.sample_prior_predictive()\n",
    "# #     step = pm.Metropolis()\n",
    "#     trace = pm.sample(200, tune=100, chains=4, compute_convergence_checks=False)\n",
    "# #     posterior_predictive = pm.sample_posterior_predictive(trace)\n",
    "    \n",
    "# #     data = az.from_pymc3(trace=trace, prior=prior, posterior_predictive=posterior_predictive)"
   ]
  },
  {
   "cell_type": "code",
   "execution_count": 208,
   "metadata": {},
   "outputs": [],
   "source": [
    "# import matplotlib.pyplot as plt\n",
    "# import numpy as np\n",
    "# import scipy.stats as st\n",
    "# plt.style.use('seaborn-darkgrid')\n",
    "# x = np.linspace(0, 0.1)\n",
    "# for sigma in [0.01, 0.02]:\n",
    "#     pdf = st.halfnorm.pdf(x, scale=sigma)\n",
    "#     plt.plot(x, pdf, label=r'$\\sigma$ = {}'.format(sigma))\n",
    "\n",
    "# plt.axvline(d14C_obs_1.std())\n",
    "# plt.xlabel('x', fontsize=12)\n",
    "# plt.ylabel('f(x)', fontsize=12)\n",
    "# plt.legend(loc=1)\n",
    "# plt.show()"
   ]
  },
  {
   "cell_type": "markdown",
   "metadata": {},
   "source": [
    "## 2n/4n"
   ]
  },
  {
   "cell_type": "code",
   "execution_count": 562,
   "metadata": {},
   "outputs": [],
   "source": [
    "data = pd.read_csv('../data/C14data_liver_samples_20191023.csv')\n",
    "data = data.groupby(['type', 'sample', 'ploidy', 'pathology']).mean().dropna(how='all').reset_index()\n",
    "data['age'] = data['Dcoll'] - data['Dbirth']\n",
    "data = data.query('type == \"hepatocyte\" and pathology != \"Y\"')\n",
    "# data = data.query('ploidy == \"2n4n\"')\n",
    "data = data[['sample', 'ploidy', 'Dbirth', 'age', 'd14C']]\n",
    "# data['d14C'] *= 1000\n",
    "data = data.sort_values('age')\n",
    "\n",
    "# data = data.head(10)\n",
    "\n",
    "data_unstack = (data\n",
    "                .set_index('d14C', drop=False)\n",
    "                .set_index(['sample', 'ploidy', 'Dbirth', 'age', 'age'], append=True)\n",
    "                .unstack().T.loc['d14C'])\n",
    "# for a in np.arange(0.0, data['age'].max(), 10):\n",
    "#     if not a in data_unstack.index:\n",
    "#         data_unstack.loc[a] = np.nan\n",
    "data_unstack = data_unstack.sort_index()\n",
    "\n",
    "age = data_unstack.index.values\n",
    "d14C_obs = np.ma.masked_invalid(data_unstack.values).T\n",
    "\n",
    "Dbirth = data_unstack.columns.to_frame()['Dbirth'].values\n",
    "subject_age = data_unstack.columns.to_frame()['age'].values\n",
    "ploidy_type = data_unstack.columns.to_frame()['ploidy'].values\n",
    "d14C_obs_1 = data_unstack.columns.to_frame()['d14C'].values\n",
    "n = data_unstack.shape[1]\n",
    "\n",
    "mask_n2n4 = ploidy_type == '2n4n'\n",
    "mask_n2 = ploidy_type == '2n'\n",
    "mask_n4 = ploidy_type == '4n'\n",
    "\n",
    "wn2 = np.empty_like(subject_age) \n",
    "wn4 = np.empty_like(subject_age) \n",
    "\n",
    "wn2[mask_n2n4] = ploidy(subject_age[mask_n2n4])\n",
    "wn2[mask_n2] = ploidy(subject_age[mask_n2])\n",
    "wn2[mask_n4] = 0\n",
    "\n",
    "wn4[mask_n2n4] = 2*(1-ploidy(subject_age[mask_n2n4]))\n",
    "wn4[mask_n2] = 2*ploidy2x2(subject_age[mask_n2])\n",
    "wn4[mask_n4] = 1\n",
    "\n",
    "wn2, wn4 = wn2/(wn2 + wn4), wn4/(wn2 + wn4)\n",
    "\n",
    "scaled_age = 1"
   ]
  },
  {
   "cell_type": "code",
   "execution_count": 589,
   "metadata": {},
   "outputs": [
    {
     "data": {
      "text/plain": [
       "array([0.21022411, 0.41191694, 0.23907482, 0.40452625, 0.22123628,\n",
       "       0.37754972, 0.58209125, 0.45936862, 0.45936862, 0.48877851,\n",
       "       0.20068868, 0.21577488, 0.36924886, 0.38868827, 0.57712252,\n",
       "       0.19538488, 0.25518647, 0.30230121, 0.25943966, 0.44810321,\n",
       "       1.        , 0.44869286, 0.48330384, 0.37584799, 0.21613161,\n",
       "       1.        , 0.32579799, 0.27588898, 0.25518647, 0.51428038,\n",
       "       0.31066764, 0.18105967, 0.40566558, 0.51551496, 0.24667613,\n",
       "       0.27497276, 0.35621396, 0.41020666, 0.28016809, 1.        ,\n",
       "       1.        ])"
      ]
     },
     "execution_count": 589,
     "metadata": {},
     "output_type": "execute_result"
    }
   ],
   "source": [
    "wn4"
   ]
  },
  {
   "cell_type": "code",
   "execution_count": 563,
   "metadata": {},
   "outputs": [],
   "source": [
    "def delta2_D(r2, r4, kappa24, kappa42, t):\n",
    "    return -kappa24 - kappa42 + r2 + kappa42/ploidy(t) - (dtploidy(t)*(1 + ploidy(t))**2)/(2.*ploidy(t))\n",
    "\n",
    "def delta4_D(r2, r4, kappa24, kappa42, t):\n",
    "    return -(dtploidy(t)*(1 + ploidy(t))**2 + 4*(-kappa42 + r4 + (2*kappa24 + kappa42 - r4)*ploidy(t)))/(4.*(-1 + ploidy(t)))"
   ]
  },
  {
   "cell_type": "code",
   "execution_count": 580,
   "metadata": {},
   "outputs": [],
   "source": [
    "def ode_C2C4_func_scaled(y, t, p):\n",
    "    t *= (subject_age / scaled_age)\n",
    "    C2 = y[:n]\n",
    "    C4 = y[n:]\n",
    "    \n",
    "    r2 = p[0]\n",
    "    r4 = p[1]\n",
    "    kappa24 = p[2]\n",
    "    kappa42 = p[3]\n",
    "    \n",
    "    delta2 = delta2_D(r2, r4, kappa24, kappa42, t)\n",
    "    delta4 = delta4_D(r2, r4, kappa24, kappa42, t)\n",
    "#     assert (delta2 > 0).all()\n",
    "#     assert (delta4 > 0).all()\n",
    "    \n",
    "    dC2 = (subject_age / scaled_age) *(C2*kappa42 - C4*kappa42 - C2*r2 + r2*Catm(Dbirth + t) + ((-C2 + C4)*kappa42)/ploidy(t))\n",
    "    dC4 = (subject_age / scaled_age) * ((-(C4*(delta4 + kappa42 - 2*r4)) + (-(C2*kappa24) + C4*(delta4 + 4*kappa24 + kappa42 - 2*r4))*ploidy(t) + Catm(Dbirth + t)*(-r4 + (-kappa24 + r4)*ploidy(t)))/(-1 + ploidy(t)))\n",
    "    return [dC2[i] for i in range(n)] + [dC4[i] for i in range(n)]"
   ]
  },
  {
   "cell_type": "code",
   "execution_count": 581,
   "metadata": {},
   "outputs": [],
   "source": [
    "r2_true = 0.1\n",
    "r4_true = 0.02\n",
    "kappa24_true = 0.01\n",
    "kappa42_true = 0.001"
   ]
  },
  {
   "cell_type": "code",
   "execution_count": 582,
   "metadata": {},
   "outputs": [],
   "source": [
    "s = sp.integrate.solve_ivp(lambda t, y: ode_C2C4_func_scaled(y, t,\n",
    "                                                             [r2_true, r4_true,\n",
    "                                                                     kappa24_true, kappa42_true]),\n",
    "                                   t_span=[0, scaled_age],\n",
    "                                   y0=np.concatenate([Catm(Dbirth), Catm(Dbirth)]),\n",
    "                                   method='RK45',\n",
    "                                   t_eval=[scaled_age])"
   ]
  },
  {
   "cell_type": "code",
   "execution_count": 583,
   "metadata": {},
   "outputs": [],
   "source": [
    "C2 = s.y[:n, 0]\n",
    "C4 = s.y[n:, 0]\n",
    "y = wn2*C2 + wn4*C4\n",
    "\n",
    "np.random.seed(42)\n",
    "yobs = np.random.normal(loc=y, scale=sigma_true)"
   ]
  },
  {
   "cell_type": "code",
   "execution_count": 584,
   "metadata": {},
   "outputs": [
    {
     "name": "stdout",
     "output_type": "stream",
     "text": [
      "CPU times: user 53.7 s, sys: 1.68 s, total: 55.4 s\n",
      "Wall time: 1min\n"
     ]
    }
   ],
   "source": [
    "%%time\n",
    "ode_C2C4_model = DE(ode_C2C4_func_scaled, times=[scaled_age], n_states=2*n, n_theta=4)"
   ]
  },
  {
   "cell_type": "code",
   "execution_count": 587,
   "metadata": {},
   "outputs": [
    {
     "name": "stderr",
     "output_type": "stream",
     "text": [
      "INFO (theano.gof.compilelock): Refreshing lock /home/fabrost/.theano/compiledir_Linux-4.4--default-x86_64-with-SuSE-42.3-x86_64-x86_64-3.7.3-64/lock_dir/lock\n",
      "INFO:theano.gof.compilelock:Refreshing lock /home/fabrost/.theano/compiledir_Linux-4.4--default-x86_64-with-SuSE-42.3-x86_64-x86_64-3.7.3-64/lock_dir/lock\n",
      "Sequential sampling (1 chains in 1 job)\n",
      "INFO:pymc3:Sequential sampling (1 chains in 1 job)\n",
      "CompoundStep\n",
      "INFO:pymc3:CompoundStep\n",
      ">Metropolis: [sigma]\n",
      "INFO:pymc3:>Metropolis: [sigma]\n",
      ">Metropolis: [kappa42]\n",
      "INFO:pymc3:>Metropolis: [kappa42]\n",
      ">Metropolis: [kappa24]\n",
      "INFO:pymc3:>Metropolis: [kappa24]\n",
      ">Metropolis: [r4]\n",
      "INFO:pymc3:>Metropolis: [r4]\n",
      ">Metropolis: [r2]\n",
      "INFO:pymc3:>Metropolis: [r2]\n",
      "Sampling chain 0, 0 divergences:   0%|          | 1/1000 [03:15<54:18:38, 195.71s/it]"
     ]
    },
    {
     "name": "stdout",
     "output_type": "stream",
     "text": [
      "CPU times: user 12min 3s, sys: 16min 23s, total: 28min 27s\n",
      "Wall time: 4min 31s\n"
     ]
    },
    {
     "name": "stderr",
     "output_type": "stream",
     "text": [
      "\n"
     ]
    }
   ],
   "source": [
    "%%time\n",
    "Cdata = yobs\n",
    "\n",
    "with pm.Model() as D:\n",
    "    lower = 0\n",
    "    upper = 1.0\n",
    "    \n",
    "    r2 = pm.Uniform('r2', lower, upper, testval=0.1)\n",
    "    r4 = pm.Uniform('r4', testval=0.1)\n",
    "    kappa24 = pm.Uniform('kappa24', testval=0.1)\n",
    "    kappa42 = pm.Uniform('kappa42', testval=0.1)\n",
    "    \n",
    "    sigma = pm.Uniform('sigma', lower, upper)\n",
    "    \n",
    "    test_times = np.linspace(0, subject_age.max(), 10)\n",
    "    for t in test_times:\n",
    "        pm.Potential(f'delta2_{t}',\n",
    "                     (delta2_D(r2, r4, kappa24, kappa42, t)<0) * 10*delta2_D(r2, r4, kappa24, kappa42, t)**2)\n",
    "        pm.Potential(f'delta4_{t}',\n",
    "                     (delta4_D(r2, r4, kappa24, kappa42, t)<0) * 10*delta4_D(r2, r4, kappa24, kappa42, t)**2)\n",
    "    \n",
    "    ode_C2C4_solution = ode_C2C4_model(y0=np.concatenate([Catm(Dbirth), Catm(Dbirth)]), \n",
    "                                       theta=[r2, r4, kappa24, kappa42])\n",
    "    \n",
    "    C2 = ode_C2C4_solution[0, :n]\n",
    "    C4 = ode_C2C4_solution[0, n:]\n",
    "    mu = wn2*C2 + wn4*C4\n",
    "    \n",
    "    d14C = pm.Normal('d14C', mu=mu, sd=sigma, observed=Cdata)\n",
    "#     map_ = pm.find_MAP()\n",
    "    step = pm.Metropolis()\n",
    "    trace = pm.sample(500, chains=1, compute_convergence_checks=False, step=step)\n",
    "#     approx2 = pm.fit(n=10000)"
   ]
  },
  {
   "cell_type": "code",
   "execution_count": null,
   "metadata": {},
   "outputs": [],
   "source": []
  }
 ],
 "metadata": {
  "kernelspec": {
   "display_name": "Python [conda env:spols191122] *",
   "language": "python",
   "name": "conda-env-spols191122-py"
  },
  "language_info": {
   "codemirror_mode": {
    "name": "ipython",
    "version": 3
   },
   "file_extension": ".py",
   "mimetype": "text/x-python",
   "name": "python",
   "nbconvert_exporter": "python",
   "pygments_lexer": "ipython3",
   "version": "3.7.3"
  }
 },
 "nbformat": 4,
 "nbformat_minor": 4
}
