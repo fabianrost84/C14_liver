{
 "cells": [
  {
   "cell_type": "code",
   "execution_count": 1,
   "metadata": {
    "ExecuteTime": {
     "end_time": "2018-01-16T16:56:11.803584Z",
     "start_time": "2018-01-16T16:56:10.666484Z"
    }
   },
   "outputs": [],
   "source": [
    "import iminuit\n",
    "%load_ext line_profiler\n",
    "import matplotlib.pyplot as plt\n",
    "%matplotlib inline\n",
    "import numba\n",
    "import numpy as np\n",
    "import pandas as pd\n",
    "import scipy as sp\n",
    "from scipy import optimize\n",
    "import seaborn as sns\n",
    "sns.set_style('darkgrid')\n",
    "sns.set_context('notebook')"
   ]
  },
  {
   "cell_type": "code",
   "execution_count": 2,
   "metadata": {
    "ExecuteTime": {
     "end_time": "2018-01-16T16:56:11.808615Z",
     "start_time": "2018-01-16T16:56:11.804844Z"
    }
   },
   "outputs": [],
   "source": [
    "def CI(M, p):\n",
    "    value = M.values[p]\n",
    "    lower = M.get_merrors()[p]['lower']\n",
    "    upper = M.get_merrors()[p]['upper']\n",
    "    return value + lower, value + upper"
   ]
  },
  {
   "cell_type": "code",
   "execution_count": 3,
   "metadata": {
    "ExecuteTime": {
     "end_time": "2018-01-16T16:56:11.817792Z",
     "start_time": "2018-01-16T16:56:11.809805Z"
    }
   },
   "outputs": [],
   "source": [
    "results = pd.DataFrame()"
   ]
  },
  {
   "cell_type": "markdown",
   "metadata": {},
   "source": [
    "# Load C14 models"
   ]
  },
  {
   "cell_type": "code",
   "execution_count": 4,
   "metadata": {
    "ExecuteTime": {
     "end_time": "2018-01-16T16:56:11.914080Z",
     "start_time": "2018-01-16T16:56:11.818911Z"
    }
   },
   "outputs": [],
   "source": [
    "import c14_models"
   ]
  },
  {
   "cell_type": "code",
   "execution_count": 5,
   "metadata": {
    "ExecuteTime": {
     "end_time": "2018-01-16T16:56:11.920084Z",
     "start_time": "2018-01-16T16:56:11.915439Z"
    }
   },
   "outputs": [
    {
     "data": {
      "text/plain": [
       "<module 'c14_models' from '/home/fabrost/work/C14_liver/c14_models.py'>"
      ]
     },
     "execution_count": 5,
     "metadata": {},
     "output_type": "execute_result"
    }
   ],
   "source": [
    "import importlib\n",
    "importlib.reload(c14_models)"
   ]
  },
  {
   "cell_type": "markdown",
   "metadata": {},
   "source": [
    "# Read patient data"
   ]
  },
  {
   "cell_type": "code",
   "execution_count": 6,
   "metadata": {
    "ExecuteTime": {
     "end_time": "2018-01-16T16:56:11.973574Z",
     "start_time": "2018-01-16T16:56:11.921150Z"
    }
   },
   "outputs": [],
   "source": [
    "c14_patient_data = pd.read_excel('data/C14data_liver_samples.xlsx')[['sort', 'Code', 'DOB', 'DOA', u'Δ 14C']]\n",
    "c14_patient_data.columns = ['type', 'pub_id', 'Dbirth', 'Dcoll', 'd14C']\n",
    "c14_patient_data['mass'] = 1.0\n",
    "c14_patient_data['d14C'] /= 1000.0"
   ]
  },
  {
   "cell_type": "code",
   "execution_count": 7,
   "metadata": {
    "ExecuteTime": {
     "end_time": "2018-01-16T16:56:11.994731Z",
     "start_time": "2018-01-16T16:56:11.975021Z"
    }
   },
   "outputs": [
    {
     "data": {
      "text/html": [
       "<div>\n",
       "<style>\n",
       "    .dataframe thead tr:only-child th {\n",
       "        text-align: right;\n",
       "    }\n",
       "\n",
       "    .dataframe thead th {\n",
       "        text-align: left;\n",
       "    }\n",
       "\n",
       "    .dataframe tbody tr th {\n",
       "        vertical-align: top;\n",
       "    }\n",
       "</style>\n",
       "<table border=\"1\" class=\"dataframe\">\n",
       "  <thead>\n",
       "    <tr style=\"text-align: right;\">\n",
       "      <th></th>\n",
       "      <th>Dbirth</th>\n",
       "      <th>Dcoll</th>\n",
       "      <th>d14C</th>\n",
       "      <th>mass</th>\n",
       "    </tr>\n",
       "  </thead>\n",
       "  <tbody>\n",
       "    <tr>\n",
       "      <th>count</th>\n",
       "      <td>9.000000</td>\n",
       "      <td>9.000000</td>\n",
       "      <td>9.000000</td>\n",
       "      <td>9.0</td>\n",
       "    </tr>\n",
       "    <tr>\n",
       "      <th>mean</th>\n",
       "      <td>1973.009259</td>\n",
       "      <td>2016.907407</td>\n",
       "      <td>0.046318</td>\n",
       "      <td>1.0</td>\n",
       "    </tr>\n",
       "    <tr>\n",
       "      <th>std</th>\n",
       "      <td>18.623203</td>\n",
       "      <td>0.419665</td>\n",
       "      <td>0.019564</td>\n",
       "      <td>0.0</td>\n",
       "    </tr>\n",
       "    <tr>\n",
       "      <th>min</th>\n",
       "      <td>1942.833333</td>\n",
       "      <td>2016.416667</td>\n",
       "      <td>0.022400</td>\n",
       "      <td>1.0</td>\n",
       "    </tr>\n",
       "    <tr>\n",
       "      <th>25%</th>\n",
       "      <td>1953.000000</td>\n",
       "      <td>2016.500000</td>\n",
       "      <td>0.029200</td>\n",
       "      <td>1.0</td>\n",
       "    </tr>\n",
       "    <tr>\n",
       "      <th>50%</th>\n",
       "      <td>1979.833333</td>\n",
       "      <td>2016.833333</td>\n",
       "      <td>0.043500</td>\n",
       "      <td>1.0</td>\n",
       "    </tr>\n",
       "    <tr>\n",
       "      <th>75%</th>\n",
       "      <td>1982.083333</td>\n",
       "      <td>2017.333333</td>\n",
       "      <td>0.059306</td>\n",
       "      <td>1.0</td>\n",
       "    </tr>\n",
       "    <tr>\n",
       "      <th>max</th>\n",
       "      <td>1995.333333</td>\n",
       "      <td>2017.416667</td>\n",
       "      <td>0.078416</td>\n",
       "      <td>1.0</td>\n",
       "    </tr>\n",
       "  </tbody>\n",
       "</table>\n",
       "</div>"
      ],
      "text/plain": [
       "            Dbirth        Dcoll      d14C  mass\n",
       "count     9.000000     9.000000  9.000000   9.0\n",
       "mean   1973.009259  2016.907407  0.046318   1.0\n",
       "std      18.623203     0.419665  0.019564   0.0\n",
       "min    1942.833333  2016.416667  0.022400   1.0\n",
       "25%    1953.000000  2016.500000  0.029200   1.0\n",
       "50%    1979.833333  2016.833333  0.043500   1.0\n",
       "75%    1982.083333  2017.333333  0.059306   1.0\n",
       "max    1995.333333  2017.416667  0.078416   1.0"
      ]
     },
     "execution_count": 7,
     "metadata": {},
     "output_type": "execute_result"
    }
   ],
   "source": [
    "hepatocyte_data = c14_patient_data.query('type == \"unsorted\"')\n",
    "hepatocyte_data.describe()"
   ]
  },
  {
   "cell_type": "markdown",
   "metadata": {},
   "source": [
    "# SSE & log-likelihood"
   ]
  },
  {
   "cell_type": "code",
   "execution_count": 8,
   "metadata": {
    "ExecuteTime": {
     "end_time": "2018-01-16T16:56:11.999782Z",
     "start_time": "2018-01-16T16:56:11.996009Z"
    }
   },
   "outputs": [],
   "source": [
    "def SSE(p, model, data):\n",
    "    model_data = model(data['Dbirth'].values, \n",
    "                    data['Dcoll'].values, \n",
    "                    *p)\n",
    "    sse = np.sum((model_data - data['d14C'].values)**2)\n",
    "    return sse    "
   ]
  },
  {
   "cell_type": "code",
   "execution_count": 9,
   "metadata": {
    "ExecuteTime": {
     "end_time": "2018-01-16T16:56:12.009488Z",
     "start_time": "2018-01-16T16:56:12.001255Z"
    }
   },
   "outputs": [],
   "source": [
    "def Sigma(p, model, data):\n",
    "    sse = SSE(p, model, data)\n",
    "    n = len(data)\n",
    "    sigma = np.sqrt(sse/n)\n",
    "    return sigma"
   ]
  },
  {
   "cell_type": "code",
   "execution_count": 10,
   "metadata": {
    "ExecuteTime": {
     "end_time": "2018-01-16T16:56:12.021916Z",
     "start_time": "2018-01-16T16:56:12.010761Z"
    }
   },
   "outputs": [],
   "source": [
    "def Nloglike(p, model, data):\n",
    "    try:\n",
    "        sse = SSE(p, model, data)\n",
    "    except:\n",
    "        sse = SSE([p], model, data)\n",
    "    n = len(data)\n",
    "    sig = np.sqrt(sse/n)\n",
    "    loglike = -n/2 * np.log(2*np.pi) - n/2 * np.log(sig**2) - 1 / (2*sig**2) * sse\n",
    "    return -loglike"
   ]
  },
  {
   "cell_type": "markdown",
   "metadata": {},
   "source": [
    "# Scenario I1"
   ]
  },
  {
   "cell_type": "code",
   "execution_count": 11,
   "metadata": {
    "ExecuteTime": {
     "end_time": "2018-01-16T16:56:12.030880Z",
     "start_time": "2018-01-16T16:56:12.023088Z"
    }
   },
   "outputs": [],
   "source": [
    "@np.vectorize\n",
    "def I1(Dbirth, Dcoll, loglam):\n",
    "    lam = np.exp(loglam)\n",
    "    return c14_models.I1(Dbirth, Dcoll, lam, t_eval=np.linspace(Dbirth, Dcoll))[1][-1]"
   ]
  },
  {
   "cell_type": "markdown",
   "metadata": {},
   "source": [
    "## Artifical data"
   ]
  },
  {
   "cell_type": "code",
   "execution_count": 12,
   "metadata": {
    "ExecuteTime": {
     "end_time": "2018-01-16T16:56:12.605145Z",
     "start_time": "2018-01-16T16:56:12.031944Z"
    }
   },
   "outputs": [],
   "source": [
    "lam = 0.1\n",
    "n = 20\n",
    "np.random.seed(42)\n",
    "artifical_data = pd.DataFrame(\n",
    "                    data={'Dbirth': \n",
    "                               np.random.uniform(1930, 1970, n), \n",
    "                          'Dcoll': \n",
    "                               np.random.uniform(2014, 2018, n)}\n",
    "                             )\n",
    "\n",
    "artifical_data['d14C'] = I1(artifical_data['Dbirth'], \n",
    "                            artifical_data['Dcoll'], \n",
    "                            loglam=np.log(lam)) \n",
    "artifical_data['d14C'] += np.random.normal(0, 0.01, \n",
    "                                           len(artifical_data)\n",
    "                                          )"
   ]
  },
  {
   "cell_type": "code",
   "execution_count": 13,
   "metadata": {
    "ExecuteTime": {
     "end_time": "2018-01-16T16:56:12.612747Z",
     "start_time": "2018-01-16T16:56:12.606561Z"
    }
   },
   "outputs": [
    {
     "data": {
      "text/html": [
       "<div>\n",
       "<style>\n",
       "    .dataframe thead tr:only-child th {\n",
       "        text-align: right;\n",
       "    }\n",
       "\n",
       "    .dataframe thead th {\n",
       "        text-align: left;\n",
       "    }\n",
       "\n",
       "    .dataframe tbody tr th {\n",
       "        vertical-align: top;\n",
       "    }\n",
       "</style>\n",
       "<table border=\"1\" class=\"dataframe\">\n",
       "  <thead>\n",
       "    <tr style=\"text-align: right;\">\n",
       "      <th></th>\n",
       "      <th>Dbirth</th>\n",
       "      <th>Dcoll</th>\n",
       "      <th>d14C</th>\n",
       "    </tr>\n",
       "  </thead>\n",
       "  <tbody>\n",
       "    <tr>\n",
       "      <th>0</th>\n",
       "      <td>1944.981605</td>\n",
       "      <td>2016.447412</td>\n",
       "      <td>0.068665</td>\n",
       "    </tr>\n",
       "    <tr>\n",
       "      <th>1</th>\n",
       "      <td>1968.028572</td>\n",
       "      <td>2014.557975</td>\n",
       "      <td>0.072392</td>\n",
       "    </tr>\n",
       "    <tr>\n",
       "      <th>2</th>\n",
       "      <td>1959.279758</td>\n",
       "      <td>2015.168579</td>\n",
       "      <td>0.084824</td>\n",
       "    </tr>\n",
       "    <tr>\n",
       "      <th>3</th>\n",
       "      <td>1953.946339</td>\n",
       "      <td>2015.465447</td>\n",
       "      <td>0.062206</td>\n",
       "    </tr>\n",
       "    <tr>\n",
       "      <th>4</th>\n",
       "      <td>1936.240746</td>\n",
       "      <td>2015.824280</td>\n",
       "      <td>0.074498</td>\n",
       "    </tr>\n",
       "  </tbody>\n",
       "</table>\n",
       "</div>"
      ],
      "text/plain": [
       "        Dbirth        Dcoll      d14C\n",
       "0  1944.981605  2016.447412  0.068665\n",
       "1  1968.028572  2014.557975  0.072392\n",
       "2  1959.279758  2015.168579  0.084824\n",
       "3  1953.946339  2015.465447  0.062206\n",
       "4  1936.240746  2015.824280  0.074498"
      ]
     },
     "execution_count": 13,
     "metadata": {},
     "output_type": "execute_result"
    }
   ],
   "source": [
    "artifical_data.head()"
   ]
  },
  {
   "cell_type": "markdown",
   "metadata": {},
   "source": [
    "## Parameter recovery"
   ]
  },
  {
   "cell_type": "code",
   "execution_count": 14,
   "metadata": {
    "ExecuteTime": {
     "end_time": "2018-01-16T16:56:15.482077Z",
     "start_time": "2018-01-16T16:56:12.614001Z"
    }
   },
   "outputs": [],
   "source": [
    "res = sp.optimize.brute(func=Nloglike, \n",
    "                  ranges=[(np.log(0.01), np.log(10.0))],\n",
    "                  args = (I1, artifical_data),\n",
    "                  Ns = 10,\n",
    "                  full_output = True,\n",
    "                  finish=None)"
   ]
  },
  {
   "cell_type": "code",
   "execution_count": 15,
   "metadata": {
    "ExecuteTime": {
     "end_time": "2018-01-16T16:56:15.693340Z",
     "start_time": "2018-01-16T16:56:15.483241Z"
    }
   },
   "outputs": [
    {
     "name": "stdout",
     "output_type": "stream",
     "text": [
      "lamda 0.1\n",
      "sigma 0.00926419903019\n"
     ]
    }
   ],
   "source": [
    "lam = sp.exp(res[0])\n",
    "print('lamda', lam)\n",
    "\n",
    "sig = Sigma([np.log(lam)], I1, artifical_data)\n",
    "print('sigma', sig)"
   ]
  },
  {
   "cell_type": "markdown",
   "metadata": {},
   "source": [
    "# Plot"
   ]
  },
  {
   "cell_type": "code",
   "execution_count": 16,
   "metadata": {
    "ExecuteTime": {
     "end_time": "2018-01-16T16:56:17.874576Z",
     "start_time": "2018-01-16T16:56:15.695032Z"
    }
   },
   "outputs": [
    {
     "data": {
      "image/png": "[encoded data removed]",
      "text/plain": [
       "<matplotlib.figure.Figure at 0x7f146d57ea90>"
      ]
     },
     "metadata": {},
     "output_type": "display_data"
    }
   ],
   "source": [
    "fig, axs = plt.subplots(2, 1, sharex = True, figsize = (12, 8))\n",
    "\n",
    "time = sp.linspace(1910.0, 2020.0, 1000)\n",
    "\n",
    "\n",
    "for ax in axs:\n",
    "    ax.plot(time, np.vectorize(c14_models.C_atm)(time), label = 'Atmosphere', color = 'black')\n",
    "\n",
    "    ax.errorbar(artifical_data['Dbirth'], \\\n",
    "                I1(artifical_data['Dbirth'], \n",
    "                   artifical_data['Dcoll'], \n",
    "                   np.log(lam)), \n",
    "                sig,\n",
    "                color = 'white', ecolor = 'black', \n",
    "                marker='s', ls = '',\n",
    "                label = 'Scenario I1')\n",
    "\n",
    "\n",
    "    ax.errorbar(artifical_data['Dbirth'], \n",
    "                artifical_data['d14C'], \n",
    "                marker = 'o', ls = 'None', color = 'black',\n",
    "                label = 'Artifical data')\n",
    "#     ax.errorbar(hepatocyte_data.query('Dcoll < 2015')['Dbirth'], hepatocyte_data.query('Dcoll < 2015')['d14C'], \n",
    "#                marker = 'o', ls = 'None', color = 'red', \n",
    "#                label = 'Hepato DNA (coll before 2015)')\n",
    "\n",
    "\n",
    "    ax.set_xlim((1909, 2020))\n",
    "    ax.set_ylim(-0.1, 0.9)\n",
    "    ax.set_xticks(sp.linspace(1910, 2010, 6), minor = 1)\n",
    "    # ax.grid(which='both')\n",
    "    \n",
    "\n",
    "    ax.set_xlabel('Calendar year')\n",
    "    ax.set_ylabel('$\\Delta^{14}$C')\n",
    "\n",
    "axs[0].legend()\n",
    "axs[1].set_ylim(-0.0, 0.15)\n",
    "\n",
    "plt.show()"
   ]
  }
 ],
 "metadata": {
  "anaconda-cloud": {},
  "kernelspec": {
   "display_name": "Python [conda env:py3]",
   "language": "python",
   "name": "conda-env-py3-py"
  },
  "language_info": {
   "codemirror_mode": {
    "name": "ipython",
    "version": 3
   },
   "file_extension": ".py",
   "mimetype": "text/x-python",
   "name": "python",
   "nbconvert_exporter": "python",
   "pygments_lexer": "ipython3",
   "version": "3.6.3"
  },
  "notify_time": "30",
  "toc": {
   "nav_menu": {
    "height": "251px",
    "width": "252px"
   },
   "number_sections": true,
   "sideBar": true,
   "skip_h1_title": false,
   "toc_cell": false,
   "toc_position": {
    "height": "913px",
    "left": "0px",
    "right": "1708px",
    "top": "111px",
    "width": "212px"
   },
   "toc_section_display": "block",
   "toc_window_display": true
  }
 },
 "nbformat": 4,
 "nbformat_minor": 1
}
