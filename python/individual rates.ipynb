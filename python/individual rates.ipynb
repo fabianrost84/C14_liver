{
 "cells": [
  {
   "cell_type": "markdown",
   "metadata": {},
   "source": [
    "# Preparation"
   ]
  },
  {
   "cell_type": "code",
   "execution_count": 2,
   "metadata": {
    "ExecuteTime": {
     "end_time": "2019-01-08T08:27:31.993381Z",
     "start_time": "2019-01-08T08:27:26.418896Z"
    }
   },
   "outputs": [
    {
     "name": "stdout",
     "output_type": "stream",
     "text": [
      "The ipycache extension is already loaded. To reload it, use:\n",
      "  %reload_ext ipycache\n",
      "The line_profiler extension is already loaded. To reload it, use:\n",
      "  %reload_ext line_profiler\n"
     ]
    }
   ],
   "source": [
    "%load_ext ipycache\n",
    "import iminuit\n",
    "%load_ext line_profiler\n",
    "import matplotlib.pyplot as plt\n",
    "%matplotlib inline\n",
    "import multiprocessing\n",
    "import numba\n",
    "import numpy as np\n",
    "import pandas as pd\n",
    "import scipy as sp\n",
    "from scipy import optimize\n",
    "import seaborn as sns\n",
    "import statsmodels.api as sm\n",
    "import statsmodels.formula.api as smf\n",
    "\n",
    "sns.set_style('darkgrid')\n",
    "sns.set_context('notebook')"
   ]
  },
  {
   "cell_type": "code",
   "execution_count": 3,
   "metadata": {
    "ExecuteTime": {
     "end_time": "2019-01-08T08:27:32.004026Z",
     "start_time": "2019-01-08T08:27:31.998112Z"
    }
   },
   "outputs": [],
   "source": [
    "results = pd.DataFrame()"
   ]
  },
  {
   "cell_type": "code",
   "execution_count": 4,
   "metadata": {
    "ExecuteTime": {
     "end_time": "2019-01-08T08:27:32.020679Z",
     "start_time": "2019-01-08T08:27:32.008193Z"
    }
   },
   "outputs": [],
   "source": [
    "def corrfunc(x, y, **kws):\n",
    "    r, p = sp.stats.pearsonr(x, y)\n",
    "    ax = plt.gca()\n",
    "    ax.annotate(f\"\\u03C1 = {r:.2f}\\np = {p:.2f}\", #unicode code for lowercase rho (ρ)\n",
    "                xy=(.1, .9), xycoords=ax.transAxes)"
   ]
  },
  {
   "cell_type": "markdown",
   "metadata": {},
   "source": [
    "# Load C14 models"
   ]
  },
  {
   "cell_type": "code",
   "execution_count": 5,
   "metadata": {
    "ExecuteTime": {
     "end_time": "2019-01-08T08:27:32.089437Z",
     "start_time": "2019-01-08T08:27:32.025398Z"
    }
   },
   "outputs": [],
   "source": [
    "import c14_models"
   ]
  },
  {
   "cell_type": "markdown",
   "metadata": {},
   "source": [
    "# Read patient data"
   ]
  },
  {
   "cell_type": "code",
   "execution_count": 6,
   "metadata": {
    "ExecuteTime": {
     "end_time": "2019-01-08T08:27:32.134659Z",
     "start_time": "2019-01-08T08:27:32.093650Z"
    }
   },
   "outputs": [],
   "source": [
    "exp_data = pd.read_pickle('../../../results/C14data_liver_samples_20191023.pkl')\n",
    "# exp_data['type'] = pd.Categorical(exp_data['type'])"
   ]
  },
  {
   "cell_type": "code",
   "execution_count": 7,
   "metadata": {
    "ExecuteTime": {
     "end_time": "2019-01-08T08:27:32.159933Z",
     "start_time": "2019-01-08T08:27:32.137807Z"
    }
   },
   "outputs": [
    {
     "data": {
      "text/html": [
       "<div>\n",
       "<style scoped>\n",
       "    .dataframe tbody tr th:only-of-type {\n",
       "        vertical-align: middle;\n",
       "    }\n",
       "\n",
       "    .dataframe tbody tr th {\n",
       "        vertical-align: top;\n",
       "    }\n",
       "\n",
       "    .dataframe thead th {\n",
       "        text-align: right;\n",
       "    }\n",
       "</style>\n",
       "<table border=\"1\" class=\"dataframe\">\n",
       "  <thead>\n",
       "    <tr style=\"text-align: right;\">\n",
       "      <th></th>\n",
       "      <th>type</th>\n",
       "      <th>code</th>\n",
       "      <th>sample</th>\n",
       "      <th>Dbirth</th>\n",
       "      <th>Dcoll</th>\n",
       "      <th>d14C</th>\n",
       "      <th>e14C</th>\n",
       "      <th>N_cells</th>\n",
       "      <th>pathology</th>\n",
       "      <th>sex</th>\n",
       "      <th>subject_age</th>\n",
       "      <th>ploidy</th>\n",
       "    </tr>\n",
       "  </thead>\n",
       "  <tbody>\n",
       "    <tr>\n",
       "      <th>0</th>\n",
       "      <td>unsorted</td>\n",
       "      <td>PH1</td>\n",
       "      <td>ND380</td>\n",
       "      <td>1942.833333</td>\n",
       "      <td>2016.416667</td>\n",
       "      <td>0.078416</td>\n",
       "      <td>0.003981</td>\n",
       "      <td>NaN</td>\n",
       "      <td>N</td>\n",
       "      <td>F</td>\n",
       "      <td>73.583333</td>\n",
       "      <td>2n4n</td>\n",
       "    </tr>\n",
       "    <tr>\n",
       "      <th>1</th>\n",
       "      <td>unsorted</td>\n",
       "      <td>PH2</td>\n",
       "      <td>ND388</td>\n",
       "      <td>1991.416667</td>\n",
       "      <td>2016.833333</td>\n",
       "      <td>0.025254</td>\n",
       "      <td>0.003912</td>\n",
       "      <td>NaN</td>\n",
       "      <td>N</td>\n",
       "      <td>M</td>\n",
       "      <td>25.416667</td>\n",
       "      <td>2n4n</td>\n",
       "    </tr>\n",
       "    <tr>\n",
       "      <th>2</th>\n",
       "      <td>hepatocyte</td>\n",
       "      <td>PH6</td>\n",
       "      <td>ND022</td>\n",
       "      <td>1946.500000</td>\n",
       "      <td>2004.833333</td>\n",
       "      <td>0.075001</td>\n",
       "      <td>0.004711</td>\n",
       "      <td>62.0</td>\n",
       "      <td>N</td>\n",
       "      <td>M</td>\n",
       "      <td>58.333333</td>\n",
       "      <td>2n4n</td>\n",
       "    </tr>\n",
       "    <tr>\n",
       "      <th>3</th>\n",
       "      <td>hepatocyte</td>\n",
       "      <td>PH7</td>\n",
       "      <td>ND023</td>\n",
       "      <td>1945.833333</td>\n",
       "      <td>2004.833333</td>\n",
       "      <td>0.090351</td>\n",
       "      <td>0.004395</td>\n",
       "      <td>70.0</td>\n",
       "      <td>N</td>\n",
       "      <td>M</td>\n",
       "      <td>59.000000</td>\n",
       "      <td>2n4n</td>\n",
       "    </tr>\n",
       "    <tr>\n",
       "      <th>4</th>\n",
       "      <td>hepatocyte</td>\n",
       "      <td>PH11</td>\n",
       "      <td>ND375</td>\n",
       "      <td>1992.500000</td>\n",
       "      <td>2016.333333</td>\n",
       "      <td>0.003700</td>\n",
       "      <td>0.016000</td>\n",
       "      <td>61.0</td>\n",
       "      <td>N</td>\n",
       "      <td>M</td>\n",
       "      <td>23.833333</td>\n",
       "      <td>2n4n</td>\n",
       "    </tr>\n",
       "  </tbody>\n",
       "</table>\n",
       "</div>"
      ],
      "text/plain": [
       "         type  code sample       Dbirth        Dcoll      d14C      e14C  \\\n",
       "0    unsorted   PH1  ND380  1942.833333  2016.416667  0.078416  0.003981   \n",
       "1    unsorted   PH2  ND388  1991.416667  2016.833333  0.025254  0.003912   \n",
       "2  hepatocyte   PH6  ND022  1946.500000  2004.833333  0.075001  0.004711   \n",
       "3  hepatocyte   PH7  ND023  1945.833333  2004.833333  0.090351  0.004395   \n",
       "4  hepatocyte  PH11  ND375  1992.500000  2016.333333  0.003700  0.016000   \n",
       "\n",
       "   N_cells pathology sex  subject_age ploidy  \n",
       "0      NaN         N   F    73.583333   2n4n  \n",
       "1      NaN         N   M    25.416667   2n4n  \n",
       "2     62.0         N   M    58.333333   2n4n  \n",
       "3     70.0         N   M    59.000000   2n4n  \n",
       "4     61.0         N   M    23.833333   2n4n  "
      ]
     },
     "execution_count": 7,
     "metadata": {},
     "output_type": "execute_result"
    }
   ],
   "source": [
    "exp_data.head()"
   ]
  },
  {
   "cell_type": "code",
   "execution_count": 8,
   "metadata": {
    "ExecuteTime": {
     "end_time": "2019-01-08T08:27:32.193555Z",
     "start_time": "2019-01-08T08:27:32.162066Z"
    }
   },
   "outputs": [
    {
     "data": {
      "text/html": [
       "<div>\n",
       "<style scoped>\n",
       "    .dataframe tbody tr th:only-of-type {\n",
       "        vertical-align: middle;\n",
       "    }\n",
       "\n",
       "    .dataframe tbody tr th {\n",
       "        vertical-align: top;\n",
       "    }\n",
       "\n",
       "    .dataframe thead th {\n",
       "        text-align: right;\n",
       "    }\n",
       "</style>\n",
       "<table border=\"1\" class=\"dataframe\">\n",
       "  <thead>\n",
       "    <tr style=\"text-align: right;\">\n",
       "      <th></th>\n",
       "      <th>Dbirth</th>\n",
       "      <th>Dcoll</th>\n",
       "      <th>d14C</th>\n",
       "      <th>e14C</th>\n",
       "      <th>N_cells</th>\n",
       "      <th>subject_age</th>\n",
       "    </tr>\n",
       "  </thead>\n",
       "  <tbody>\n",
       "    <tr>\n",
       "      <th>count</th>\n",
       "      <td>101.000000</td>\n",
       "      <td>101.000000</td>\n",
       "      <td>101.000000</td>\n",
       "      <td>101.000000</td>\n",
       "      <td>68.000000</td>\n",
       "      <td>101.000000</td>\n",
       "    </tr>\n",
       "    <tr>\n",
       "      <th>mean</th>\n",
       "      <td>1961.601485</td>\n",
       "      <td>2015.985149</td>\n",
       "      <td>0.044854</td>\n",
       "      <td>0.007311</td>\n",
       "      <td>62.286765</td>\n",
       "      <td>54.383663</td>\n",
       "    </tr>\n",
       "    <tr>\n",
       "      <th>std</th>\n",
       "      <td>18.230010</td>\n",
       "      <td>3.407373</td>\n",
       "      <td>0.026707</td>\n",
       "      <td>0.003548</td>\n",
       "      <td>29.220893</td>\n",
       "      <td>18.267857</td>\n",
       "    </tr>\n",
       "    <tr>\n",
       "      <th>min</th>\n",
       "      <td>1932.583333</td>\n",
       "      <td>2004.833333</td>\n",
       "      <td>0.003700</td>\n",
       "      <td>0.002300</td>\n",
       "      <td>12.000000</td>\n",
       "      <td>20.000000</td>\n",
       "    </tr>\n",
       "    <tr>\n",
       "      <th>25%</th>\n",
       "      <td>1946.500000</td>\n",
       "      <td>2016.666667</td>\n",
       "      <td>0.026300</td>\n",
       "      <td>0.004711</td>\n",
       "      <td>41.000000</td>\n",
       "      <td>39.083333</td>\n",
       "    </tr>\n",
       "    <tr>\n",
       "      <th>50%</th>\n",
       "      <td>1959.416667</td>\n",
       "      <td>2017.250000</td>\n",
       "      <td>0.039600</td>\n",
       "      <td>0.006450</td>\n",
       "      <td>61.500000</td>\n",
       "      <td>57.833333</td>\n",
       "    </tr>\n",
       "    <tr>\n",
       "      <th>75%</th>\n",
       "      <td>1975.333333</td>\n",
       "      <td>2017.500000</td>\n",
       "      <td>0.064400</td>\n",
       "      <td>0.009000</td>\n",
       "      <td>73.500000</td>\n",
       "      <td>66.000000</td>\n",
       "    </tr>\n",
       "    <tr>\n",
       "      <th>max</th>\n",
       "      <td>1997.333333</td>\n",
       "      <td>2019.750000</td>\n",
       "      <td>0.131107</td>\n",
       "      <td>0.021571</td>\n",
       "      <td>135.000000</td>\n",
       "      <td>84.666667</td>\n",
       "    </tr>\n",
       "  </tbody>\n",
       "</table>\n",
       "</div>"
      ],
      "text/plain": [
       "            Dbirth        Dcoll        d14C        e14C     N_cells  \\\n",
       "count   101.000000   101.000000  101.000000  101.000000   68.000000   \n",
       "mean   1961.601485  2015.985149    0.044854    0.007311   62.286765   \n",
       "std      18.230010     3.407373    0.026707    0.003548   29.220893   \n",
       "min    1932.583333  2004.833333    0.003700    0.002300   12.000000   \n",
       "25%    1946.500000  2016.666667    0.026300    0.004711   41.000000   \n",
       "50%    1959.416667  2017.250000    0.039600    0.006450   61.500000   \n",
       "75%    1975.333333  2017.500000    0.064400    0.009000   73.500000   \n",
       "max    1997.333333  2019.750000    0.131107    0.021571  135.000000   \n",
       "\n",
       "       subject_age  \n",
       "count   101.000000  \n",
       "mean     54.383663  \n",
       "std      18.267857  \n",
       "min      20.000000  \n",
       "25%      39.083333  \n",
       "50%      57.833333  \n",
       "75%      66.000000  \n",
       "max      84.666667  "
      ]
     },
     "execution_count": 8,
     "metadata": {},
     "output_type": "execute_result"
    }
   ],
   "source": [
    "exp_data.describe()"
   ]
  },
  {
   "cell_type": "markdown",
   "metadata": {},
   "source": [
    "# Plot data "
   ]
  },
  {
   "cell_type": "code",
   "execution_count": 9,
   "metadata": {
    "ExecuteTime": {
     "end_time": "2019-01-08T08:27:35.019174Z",
     "start_time": "2019-01-08T08:27:33.025135Z"
    }
   },
   "outputs": [
    {
     "data": {
      "image/png": "[encoded data removed]",
      "text/plain": [
       "<Figure size 432x288 with 1 Axes>"
      ]
     },
     "metadata": {},
     "output_type": "display_data"
    }
   ],
   "source": [
    "tt = np.linspace(1930, 2020)\n",
    "plt.plot(tt, np.vectorize(c14_models.C_atm)(tt))\n",
    "plt.plot(exp_data['Dbirth'], exp_data['d14C'], ls = 'None', marker = 's')\n",
    "plt.ylim(-0.05, 0.12)\n",
    "plt.show()"
   ]
  },
  {
   "cell_type": "markdown",
   "metadata": {},
   "source": [
    "# Individual rates"
   ]
  },
  {
   "cell_type": "code",
   "execution_count": 10,
   "metadata": {
    "ExecuteTime": {
     "end_time": "2019-01-08T08:27:35.047736Z",
     "start_time": "2019-01-08T08:27:35.038919Z"
    }
   },
   "outputs": [],
   "source": [
    "@np.vectorize\n",
    "def I1(Dbirth, Dcoll, loglam):\n",
    "    \"\"\" For very high turnover rates return the atmospheric C14 concentration\n",
    "        at the date of collection to avoid lengthy computations.\n",
    "    \"\"\"\n",
    "    if loglam <= 10:\n",
    "        lam = np.exp(loglam)\n",
    "        return c14_models.I1(Dbirth, Dcoll, lam, t_eval=np.linspace(Dbirth, Dcoll))[1][-1]\n",
    "    else:\n",
    "        return c14_models.C_atm(Dcoll)\n",
    "\n",
    "def diffI1(loglam, data):\n",
    "    model_data = I1(data['Dbirth'], \n",
    "                    data['Dcoll'], \n",
    "                    loglam)\n",
    "    diff = (model_data - data['d14C'])\n",
    "    return diff\n",
    "\n",
    "def SSE_individual(p, data):\n",
    "    model_data = I1(data['Dbirth'], \n",
    "                    data['Dcoll'], \n",
    "                    p)\n",
    "    sse = np.sum((model_data - data['d14C'])**2)\n",
    "    return sse    \n",
    "\n",
    "def plot_diffI1(loglammin, loglammax, data):\n",
    "    loglams = np.linspace(loglammin, loglammax)\n",
    "    diff = np.vectorize(diffI1, excluded=[1])(loglams, data)\n",
    "    plt.title(data['code'])\n",
    "    plt.plot(loglams, diff, label='Diff predicted to measured')\n",
    "    plt.plot([loglammin, loglammax], [0, 0], color='black')\n",
    "\n",
    "def individual_rate(i, loglam0=np.log(0.1)):\n",
    "    try:\n",
    "#         return np.exp(sp.optimize.brentq(diffI1, -8, 10, args=exp_data.iloc[i]))\n",
    "        return np.exp(sp.optimize.newton(diffI1, loglam0, args=([exp_data.iloc[i]])))\n",
    "    except:\n",
    "        return np.nan\n",
    "    \n",
    "def individual_rate_SSE(i, loglam0=np.log(0.1)):\n",
    "    r = np.exp(\n",
    "            sp.optimize.minimize(\n",
    "                SSE_individual, loglam0, args=(exp_data.iloc[i]), method='Nelder-Mead'\n",
    "            )['x'][0]\n",
    "        )\n",
    "    return r"
   ]
  },
  {
   "cell_type": "code",
   "execution_count": 11,
   "metadata": {
    "ExecuteTime": {
     "end_time": "2019-01-08T08:27:36.794761Z",
     "start_time": "2019-01-08T08:27:36.644830Z"
    }
   },
   "outputs": [],
   "source": [
    "p=multiprocessing.Pool(processes=7)"
   ]
  },
  {
   "cell_type": "code",
   "execution_count": 12,
   "metadata": {
    "ExecuteTime": {
     "end_time": "2019-01-08T08:27:43.847575Z",
     "start_time": "2019-01-08T08:27:37.294894Z"
    }
   },
   "outputs": [],
   "source": [
    "exp_data['individual_rate_SSE'] = p.map(individual_rate_SSE, range(len(exp_data)))"
   ]
  },
  {
   "cell_type": "code",
   "execution_count": 13,
   "metadata": {
    "ExecuteTime": {
     "end_time": "2019-01-08T08:27:47.033353Z",
     "start_time": "2019-01-08T08:27:43.862325Z"
    }
   },
   "outputs": [],
   "source": [
    "exp_data['individual_rate_newton'] = p.map(individual_rate, range(len(exp_data)))"
   ]
  },
  {
   "cell_type": "code",
   "execution_count": 14,
   "metadata": {
    "ExecuteTime": {
     "end_time": "2019-01-08T08:27:47.280374Z",
     "start_time": "2019-01-08T08:27:47.037989Z"
    }
   },
   "outputs": [
    {
     "data": {
      "image/png": "[encoded data removed]",
      "text/plain": [
       "<Figure size 432x288 with 2 Axes>"
      ]
     },
     "metadata": {},
     "output_type": "display_data"
    }
   ],
   "source": [
    "tt = np.linspace(1930, 2020)\n",
    "plt.plot(tt, np.vectorize(c14_models.C_atm)(tt))\n",
    "plt.scatter(exp_data['Dbirth'], exp_data['d14C'], marker='s', c=np.log(exp_data['individual_rate_SSE']))\n",
    "plt.colorbar()\n",
    "plt.ylim(-0.05, 0.15)\n",
    "plt.show()"
   ]
  },
  {
   "cell_type": "markdown",
   "metadata": {},
   "source": [
    "# Compare to graphical solution"
   ]
  },
  {
   "cell_type": "code",
   "execution_count": 15,
   "metadata": {
    "ExecuteTime": {
     "end_time": "2019-01-08T08:27:47.320136Z",
     "start_time": "2019-01-08T08:27:47.282947Z"
    }
   },
   "outputs": [],
   "source": [
    "# %%cache -d ipycache graphical.pkl\n",
    "# fig, axs = plt.subplots(int(np.ceil(len(exp_data)/8)), 8, sharex=True, sharey=True, figsize=(8.3, 11.7))\n",
    "\n",
    "# for ax in axs[-1]:\n",
    "#     ax.set_xlabel(u'λ')\n",
    "# for ax in axs[:,0]:\n",
    "#     ax.set_ylabel(u'ΔC14')\n",
    "    \n",
    "# axs = axs.flatten()\n",
    "# loglammin, loglammax = -10, 5\n",
    "# loglams = np.linspace(loglammin, loglammax)\n",
    "# for (i, data), ax in zip(exp_data.iterrows(), axs):\n",
    "#     diff = np.vectorize(diffI1, excluded=[1])(loglams, data)\n",
    "#     ax.set_title(data['code'])\n",
    "#     ax.plot(loglams, diff, label='Diff predicted to measured')\n",
    "#     ax.axhline(0, color='black')\n",
    "#     ax.axvline(np.log(data['individual_rate_SSE']), color='black')\n",
    "    \n",
    "# ax.set_xlim(loglammin, loglammax)\n",
    "# ax.set_ylim(-0.07, 0.07)\n",
    "# plt.tight_layout()\n",
    "# plt.savefig('../../results/plots/individual_rate_solution.pdf', dpi=300, bbox_inches='tight')\n",
    "# plt.show()"
   ]
  },
  {
   "cell_type": "markdown",
   "metadata": {},
   "source": [
    "# Plot rates"
   ]
  },
  {
   "cell_type": "code",
   "execution_count": 16,
   "metadata": {
    "ExecuteTime": {
     "end_time": "2019-01-08T08:27:47.560402Z",
     "start_time": "2019-01-08T08:27:47.322699Z"
    }
   },
   "outputs": [
    {
     "data": {
      "image/png": "[encoded data removed]",
      "text/plain": [
       "<Figure size 360x360 with 1 Axes>"
      ]
     },
     "metadata": {},
     "output_type": "display_data"
    }
   ],
   "source": [
    "ax = sns.catplot(data=exp_data, x='type', y='individual_rate_SSE', kind='box')\n",
    "ax.set_xticklabels(rotation=30)\n",
    "plt.show()"
   ]
  },
  {
   "cell_type": "code",
   "execution_count": 17,
   "metadata": {
    "ExecuteTime": {
     "end_time": "2019-01-08T08:27:47.818910Z",
     "start_time": "2019-01-08T08:27:47.564645Z"
    }
   },
   "outputs": [
    {
     "data": {
      "image/png": "[encoded data removed]",
      "text/plain": [
       "<Figure size 360x360 with 1 Axes>"
      ]
     },
     "metadata": {},
     "output_type": "display_data"
    }
   ],
   "source": [
    "ax = sns.catplot(data=exp_data,  y='individual_rate_SSE', kind='box')\n",
    "plt.show()"
   ]
  },
  {
   "cell_type": "markdown",
   "metadata": {},
   "source": [
    "# Detect outliers based on IQR"
   ]
  },
  {
   "cell_type": "code",
   "execution_count": 18,
   "metadata": {
    "ExecuteTime": {
     "end_time": "2019-01-08T08:27:47.867269Z",
     "start_time": "2019-01-08T08:27:47.821018Z"
    }
   },
   "outputs": [],
   "source": [
    "# Computing IQR\n",
    "Q1 = exp_data['individual_rate_SSE'].quantile(0.25)\n",
    "Q3 = exp_data['individual_rate_SSE'].quantile(0.75)\n",
    "IQR = Q3 - Q1\n",
    "\n",
    "# Selecting Values between Q1-1.5IQR and Q3+1.5IQR\n",
    "exp_data['rate_is_not_outlier'] = exp_data.eval('(@Q1 - 1.5 * @IQR) <= individual_rate_SSE <= (@Q3 + 1.5 * @IQR)')"
   ]
  },
  {
   "cell_type": "code",
   "execution_count": 19,
   "metadata": {
    "ExecuteTime": {
     "end_time": "2019-01-08T08:27:48.079349Z",
     "start_time": "2019-01-08T08:27:47.869420Z"
    }
   },
   "outputs": [
    {
     "data": {
      "image/png": "[encoded data removed]",
      "text/plain": [
       "<Figure size 360x360 with 1 Axes>"
      ]
     },
     "metadata": {},
     "output_type": "display_data"
    }
   ],
   "source": [
    "ax = sns.catplot(data=exp_data.query('rate_is_not_outlier'), x='type', y='individual_rate_SSE', kind='box')\n",
    "# sns.swarmplot(data=exp_data, x='type', y='individual_rate_SSE', color='black', size=2)\n",
    "ax.set_xticklabels(rotation=30)\n",
    "plt.show()"
   ]
  },
  {
   "cell_type": "markdown",
   "metadata": {},
   "source": [
    "# Sanity check of the results by comparing the two methods:"
   ]
  },
  {
   "cell_type": "code",
   "execution_count": 20,
   "metadata": {
    "ExecuteTime": {
     "end_time": "2019-01-08T08:28:01.185561Z",
     "start_time": "2019-01-08T08:28:01.148437Z"
    }
   },
   "outputs": [
    {
     "data": {
      "text/html": [
       "<div>\n",
       "<style scoped>\n",
       "    .dataframe tbody tr th:only-of-type {\n",
       "        vertical-align: middle;\n",
       "    }\n",
       "\n",
       "    .dataframe tbody tr th {\n",
       "        vertical-align: top;\n",
       "    }\n",
       "\n",
       "    .dataframe thead th {\n",
       "        text-align: right;\n",
       "    }\n",
       "</style>\n",
       "<table border=\"1\" class=\"dataframe\">\n",
       "  <thead>\n",
       "    <tr style=\"text-align: right;\">\n",
       "      <th></th>\n",
       "      <th>type</th>\n",
       "      <th>code</th>\n",
       "      <th>sample</th>\n",
       "      <th>Dbirth</th>\n",
       "      <th>Dcoll</th>\n",
       "      <th>d14C</th>\n",
       "      <th>e14C</th>\n",
       "      <th>N_cells</th>\n",
       "      <th>pathology</th>\n",
       "      <th>sex</th>\n",
       "      <th>subject_age</th>\n",
       "      <th>ploidy</th>\n",
       "      <th>individual_rate_SSE</th>\n",
       "      <th>individual_rate_newton</th>\n",
       "      <th>rate_is_not_outlier</th>\n",
       "    </tr>\n",
       "  </thead>\n",
       "  <tbody>\n",
       "  </tbody>\n",
       "</table>\n",
       "</div>"
      ],
      "text/plain": [
       "Empty DataFrame\n",
       "Columns: [type, code, sample, Dbirth, Dcoll, d14C, e14C, N_cells, pathology, sex, subject_age, ploidy, individual_rate_SSE, individual_rate_newton, rate_is_not_outlier]\n",
       "Index: []"
      ]
     },
     "execution_count": 20,
     "metadata": {},
     "output_type": "execute_result"
    }
   ],
   "source": [
    "exp_data.query('rate_is_not_outlier').query('(individual_rate_SSE - individual_rate_newton)**2 > (1e-3)**2')"
   ]
  },
  {
   "cell_type": "markdown",
   "metadata": {},
   "source": [
    "# Analysing results"
   ]
  },
  {
   "cell_type": "markdown",
   "metadata": {},
   "source": [
    "I use the values obtained with SSE"
   ]
  },
  {
   "cell_type": "code",
   "execution_count": 21,
   "metadata": {
    "ExecuteTime": {
     "end_time": "2019-01-08T08:28:03.384256Z",
     "start_time": "2019-01-08T08:28:03.366991Z"
    }
   },
   "outputs": [],
   "source": [
    "exp_data['cell_age'] = 1. / exp_data['individual_rate_SSE']"
   ]
  },
  {
   "cell_type": "code",
   "execution_count": 28,
   "metadata": {
    "ExecuteTime": {
     "end_time": "2019-01-08T08:28:03.839155Z",
     "start_time": "2019-01-08T08:28:03.797686Z"
    }
   },
   "outputs": [
    {
     "data": {
      "text/html": [
       "<div>\n",
       "<style scoped>\n",
       "    .dataframe tbody tr th:only-of-type {\n",
       "        vertical-align: middle;\n",
       "    }\n",
       "\n",
       "    .dataframe tbody tr th {\n",
       "        vertical-align: top;\n",
       "    }\n",
       "\n",
       "    .dataframe thead th {\n",
       "        text-align: right;\n",
       "    }\n",
       "</style>\n",
       "<table border=\"1\" class=\"dataframe\">\n",
       "  <thead>\n",
       "    <tr style=\"text-align: right;\">\n",
       "      <th></th>\n",
       "      <th>type</th>\n",
       "      <th>code</th>\n",
       "      <th>sample</th>\n",
       "      <th>Dbirth</th>\n",
       "      <th>Dcoll</th>\n",
       "      <th>d14C</th>\n",
       "      <th>e14C</th>\n",
       "      <th>N_cells</th>\n",
       "      <th>pathology</th>\n",
       "      <th>sex</th>\n",
       "      <th>subject_age</th>\n",
       "      <th>ploidy</th>\n",
       "      <th>individual_rate_SSE</th>\n",
       "      <th>individual_rate_newton</th>\n",
       "      <th>rate_is_not_outlier</th>\n",
       "      <th>cell_age</th>\n",
       "    </tr>\n",
       "  </thead>\n",
       "  <tbody>\n",
       "    <tr>\n",
       "      <th>0</th>\n",
       "      <td>unsorted</td>\n",
       "      <td>PH1</td>\n",
       "      <td>ND380</td>\n",
       "      <td>1942.833333</td>\n",
       "      <td>2016.416667</td>\n",
       "      <td>0.078416</td>\n",
       "      <td>0.003981</td>\n",
       "      <td>NaN</td>\n",
       "      <td>N</td>\n",
       "      <td>F</td>\n",
       "      <td>73.583333</td>\n",
       "      <td>2n4n</td>\n",
       "      <td>0.087163</td>\n",
       "      <td>0.087162</td>\n",
       "      <td>True</td>\n",
       "      <td>11.472762</td>\n",
       "    </tr>\n",
       "    <tr>\n",
       "      <th>1</th>\n",
       "      <td>unsorted</td>\n",
       "      <td>PH2</td>\n",
       "      <td>ND388</td>\n",
       "      <td>1991.416667</td>\n",
       "      <td>2016.833333</td>\n",
       "      <td>0.025254</td>\n",
       "      <td>0.003912</td>\n",
       "      <td>NaN</td>\n",
       "      <td>N</td>\n",
       "      <td>M</td>\n",
       "      <td>25.416667</td>\n",
       "      <td>2n4n</td>\n",
       "      <td>0.346924</td>\n",
       "      <td>0.346928</td>\n",
       "      <td>True</td>\n",
       "      <td>2.882476</td>\n",
       "    </tr>\n",
       "    <tr>\n",
       "      <th>2</th>\n",
       "      <td>hepatocyte</td>\n",
       "      <td>PH6</td>\n",
       "      <td>ND022</td>\n",
       "      <td>1946.500000</td>\n",
       "      <td>2004.833333</td>\n",
       "      <td>0.075001</td>\n",
       "      <td>0.004711</td>\n",
       "      <td>62.0</td>\n",
       "      <td>N</td>\n",
       "      <td>M</td>\n",
       "      <td>58.333333</td>\n",
       "      <td>2n4n</td>\n",
       "      <td>0.707508</td>\n",
       "      <td>0.707507</td>\n",
       "      <td>False</td>\n",
       "      <td>1.413411</td>\n",
       "    </tr>\n",
       "    <tr>\n",
       "      <th>3</th>\n",
       "      <td>hepatocyte</td>\n",
       "      <td>PH7</td>\n",
       "      <td>ND023</td>\n",
       "      <td>1945.833333</td>\n",
       "      <td>2004.833333</td>\n",
       "      <td>0.090351</td>\n",
       "      <td>0.004395</td>\n",
       "      <td>70.0</td>\n",
       "      <td>N</td>\n",
       "      <td>M</td>\n",
       "      <td>59.000000</td>\n",
       "      <td>2n4n</td>\n",
       "      <td>0.259441</td>\n",
       "      <td>0.259438</td>\n",
       "      <td>True</td>\n",
       "      <td>3.854446</td>\n",
       "    </tr>\n",
       "    <tr>\n",
       "      <th>4</th>\n",
       "      <td>hepatocyte</td>\n",
       "      <td>PH11</td>\n",
       "      <td>ND375</td>\n",
       "      <td>1992.500000</td>\n",
       "      <td>2016.333333</td>\n",
       "      <td>0.003700</td>\n",
       "      <td>0.016000</td>\n",
       "      <td>61.0</td>\n",
       "      <td>N</td>\n",
       "      <td>M</td>\n",
       "      <td>23.833333</td>\n",
       "      <td>2n4n</td>\n",
       "      <td>15.426992</td>\n",
       "      <td>NaN</td>\n",
       "      <td>False</td>\n",
       "      <td>0.064821</td>\n",
       "    </tr>\n",
       "  </tbody>\n",
       "</table>\n",
       "</div>"
      ],
      "text/plain": [
       "         type  code sample       Dbirth        Dcoll      d14C      e14C  \\\n",
       "0    unsorted   PH1  ND380  1942.833333  2016.416667  0.078416  0.003981   \n",
       "1    unsorted   PH2  ND388  1991.416667  2016.833333  0.025254  0.003912   \n",
       "2  hepatocyte   PH6  ND022  1946.500000  2004.833333  0.075001  0.004711   \n",
       "3  hepatocyte   PH7  ND023  1945.833333  2004.833333  0.090351  0.004395   \n",
       "4  hepatocyte  PH11  ND375  1992.500000  2016.333333  0.003700  0.016000   \n",
       "\n",
       "   N_cells pathology sex  subject_age ploidy  individual_rate_SSE  \\\n",
       "0      NaN         N   F    73.583333   2n4n             0.087163   \n",
       "1      NaN         N   M    25.416667   2n4n             0.346924   \n",
       "2     62.0         N   M    58.333333   2n4n             0.707508   \n",
       "3     70.0         N   M    59.000000   2n4n             0.259441   \n",
       "4     61.0         N   M    23.833333   2n4n            15.426992   \n",
       "\n",
       "   individual_rate_newton  rate_is_not_outlier   cell_age  \n",
       "0                0.087162                 True  11.472762  \n",
       "1                0.346928                 True   2.882476  \n",
       "2                0.707507                False   1.413411  \n",
       "3                0.259438                 True   3.854446  \n",
       "4                     NaN                False   0.064821  "
      ]
     },
     "execution_count": 28,
     "metadata": {},
     "output_type": "execute_result"
    }
   ],
   "source": [
    "exp_data.head()"
   ]
  },
  {
   "cell_type": "code",
   "execution_count": 32,
   "metadata": {},
   "outputs": [],
   "source": [
    "exp_data = exp_data[exp_data['ploidy'] == '4n'].query('pathology in [\"N\", \"T\"]')"
   ]
  },
  {
   "cell_type": "code",
   "execution_count": 35,
   "metadata": {
    "ExecuteTime": {
     "end_time": "2019-01-08T08:28:05.725094Z",
     "start_time": "2019-01-08T08:28:04.610446Z"
    }
   },
   "outputs": [
    {
     "data": {
      "image/png": "[encoded data removed]",
      "text/plain": [
       "<Figure size 641.305x360 with 6 Axes>"
      ]
     },
     "metadata": {},
     "output_type": "display_data"
    }
   ],
   "source": [
    "sns.pairplot(exp_data.query('rate_is_not_outlier'),\n",
    "            x_vars = ['subject_age', 'Dbirth', 'Dcoll'],\n",
    "            y_vars = ['cell_age', 'individual_rate_SSE'],\n",
    "             kind='reg',\n",
    "            hue = 'type')\n",
    "plt.ylim(-5, 1)\n",
    "plt.show()"
   ]
  },
  {
   "cell_type": "code",
   "execution_count": null,
   "metadata": {
    "ExecuteTime": {
     "end_time": "2019-01-08T08:28:05.725094Z",
     "start_time": "2019-01-08T08:28:04.610446Z"
    }
   },
   "outputs": [],
   "source": [
    "sns.pairplot(exp_data.query('rate_is_not_outlier'),\n",
    "            x_vars = ['subject_age', 'Dbirth', 'Dcoll'],\n",
    "            y_vars = ['cell_age', 'individual_rate_SSE'],\n",
    "             kind='reg',\n",
    "            hue = 'type')\n",
    "plt.show()"
   ]
  },
  {
   "cell_type": "markdown",
   "metadata": {},
   "source": [
    "# Plot for Olaf"
   ]
  },
  {
   "cell_type": "markdown",
   "metadata": {},
   "source": [
    "## Rate"
   ]
  },
  {
   "cell_type": "code",
   "execution_count": 36,
   "metadata": {
    "ExecuteTime": {
     "end_time": "2019-01-08T08:28:05.894686Z",
     "start_time": "2019-01-08T08:28:05.864909Z"
    }
   },
   "outputs": [],
   "source": [
    "plot_data = exp_data.query('rate_is_not_outlier').query('type in [\"hepatocyte\", \"non-hepatocyte\", \"unsorted\"]')"
   ]
  },
  {
   "cell_type": "code",
   "execution_count": 37,
   "metadata": {
    "ExecuteTime": {
     "end_time": "2019-01-08T08:32:21.168951Z",
     "start_time": "2019-01-08T08:32:21.162908Z"
    }
   },
   "outputs": [],
   "source": [
    "plot_data['type'].cat.remove_unused_categories(inplace=True)"
   ]
  },
  {
   "cell_type": "code",
   "execution_count": 38,
   "metadata": {
    "ExecuteTime": {
     "end_time": "2019-01-08T08:32:23.105921Z",
     "start_time": "2019-01-08T08:32:23.099408Z"
    }
   },
   "outputs": [],
   "source": [
    "sns.set_context('paper')"
   ]
  },
  {
   "cell_type": "code",
   "execution_count": 39,
   "metadata": {
    "ExecuteTime": {
     "end_time": "2019-01-08T08:32:24.530101Z",
     "start_time": "2019-01-08T08:32:23.433597Z"
    }
   },
   "outputs": [
    {
     "ename": "FileNotFoundError",
     "evalue": "[Errno 2] No such file or directory: '../../results/plots/individual_rate_age.pdf'",
     "output_type": "error",
     "traceback": [
      "\u001b[0;31m---------------------------------------------------------------------------\u001b[0m",
      "\u001b[0;31mFileNotFoundError\u001b[0m                         Traceback (most recent call last)",
      "\u001b[0;32m<ipython-input-39-7675ca84f902>\u001b[0m in \u001b[0;36m<module>\u001b[0;34m\u001b[0m\n\u001b[1;32m      2\u001b[0m                 col_order=['hepatocyte', 'non-hepatocyte', 'unsorted'])\n\u001b[1;32m      3\u001b[0m \u001b[0max\u001b[0m\u001b[0;34m.\u001b[0m\u001b[0mset_axis_labels\u001b[0m\u001b[0;34m(\u001b[0m\u001b[0mx_var\u001b[0m\u001b[0;34m=\u001b[0m\u001b[0;34m'age of person'\u001b[0m\u001b[0;34m,\u001b[0m \u001b[0my_var\u001b[0m\u001b[0;34m=\u001b[0m\u001b[0;34m'turnover rate (per year)'\u001b[0m\u001b[0;34m)\u001b[0m\u001b[0;34m\u001b[0m\u001b[0;34m\u001b[0m\u001b[0m\n\u001b[0;32m----> 4\u001b[0;31m \u001b[0mplt\u001b[0m\u001b[0;34m.\u001b[0m\u001b[0msavefig\u001b[0m\u001b[0;34m(\u001b[0m\u001b[0;34m'../../results/plots/individual_rate_age.pdf'\u001b[0m\u001b[0;34m,\u001b[0m \u001b[0mdpi\u001b[0m\u001b[0;34m=\u001b[0m\u001b[0;36m300\u001b[0m\u001b[0;34m,\u001b[0m \u001b[0mbbox_inches\u001b[0m\u001b[0;34m=\u001b[0m\u001b[0;34m'tight'\u001b[0m\u001b[0;34m)\u001b[0m\u001b[0;34m\u001b[0m\u001b[0;34m\u001b[0m\u001b[0m\n\u001b[0m\u001b[1;32m      5\u001b[0m \u001b[0mplt\u001b[0m\u001b[0;34m.\u001b[0m\u001b[0mshow\u001b[0m\u001b[0;34m(\u001b[0m\u001b[0;34m)\u001b[0m\u001b[0;34m\u001b[0m\u001b[0;34m\u001b[0m\u001b[0m\n",
      "\u001b[0;32m~/miniconda3/envs/spols190426/lib/python3.6/site-packages/matplotlib/pyplot.py\u001b[0m in \u001b[0;36msavefig\u001b[0;34m(*args, **kwargs)\u001b[0m\n\u001b[1;32m    720\u001b[0m \u001b[0;32mdef\u001b[0m \u001b[0msavefig\u001b[0m\u001b[0;34m(\u001b[0m\u001b[0;34m*\u001b[0m\u001b[0margs\u001b[0m\u001b[0;34m,\u001b[0m \u001b[0;34m**\u001b[0m\u001b[0mkwargs\u001b[0m\u001b[0;34m)\u001b[0m\u001b[0;34m:\u001b[0m\u001b[0;34m\u001b[0m\u001b[0;34m\u001b[0m\u001b[0m\n\u001b[1;32m    721\u001b[0m     \u001b[0mfig\u001b[0m \u001b[0;34m=\u001b[0m \u001b[0mgcf\u001b[0m\u001b[0;34m(\u001b[0m\u001b[0;34m)\u001b[0m\u001b[0;34m\u001b[0m\u001b[0;34m\u001b[0m\u001b[0m\n\u001b[0;32m--> 722\u001b[0;31m     \u001b[0mres\u001b[0m \u001b[0;34m=\u001b[0m \u001b[0mfig\u001b[0m\u001b[0;34m.\u001b[0m\u001b[0msavefig\u001b[0m\u001b[0;34m(\u001b[0m\u001b[0;34m*\u001b[0m\u001b[0margs\u001b[0m\u001b[0;34m,\u001b[0m \u001b[0;34m**\u001b[0m\u001b[0mkwargs\u001b[0m\u001b[0;34m)\u001b[0m\u001b[0;34m\u001b[0m\u001b[0;34m\u001b[0m\u001b[0m\n\u001b[0m\u001b[1;32m    723\u001b[0m     \u001b[0mfig\u001b[0m\u001b[0;34m.\u001b[0m\u001b[0mcanvas\u001b[0m\u001b[0;34m.\u001b[0m\u001b[0mdraw_idle\u001b[0m\u001b[0;34m(\u001b[0m\u001b[0;34m)\u001b[0m   \u001b[0;31m# need this if 'transparent=True' to reset colors\u001b[0m\u001b[0;34m\u001b[0m\u001b[0;34m\u001b[0m\u001b[0m\n\u001b[1;32m    724\u001b[0m     \u001b[0;32mreturn\u001b[0m \u001b[0mres\u001b[0m\u001b[0;34m\u001b[0m\u001b[0;34m\u001b[0m\u001b[0m\n",
      "\u001b[0;32m~/miniconda3/envs/spols190426/lib/python3.6/site-packages/matplotlib/figure.py\u001b[0m in \u001b[0;36msavefig\u001b[0;34m(self, fname, transparent, **kwargs)\u001b[0m\n\u001b[1;32m   2178\u001b[0m             \u001b[0mself\u001b[0m\u001b[0;34m.\u001b[0m\u001b[0mpatch\u001b[0m\u001b[0;34m.\u001b[0m\u001b[0mset_visible\u001b[0m\u001b[0;34m(\u001b[0m\u001b[0mframeon\u001b[0m\u001b[0;34m)\u001b[0m\u001b[0;34m\u001b[0m\u001b[0;34m\u001b[0m\u001b[0m\n\u001b[1;32m   2179\u001b[0m \u001b[0;34m\u001b[0m\u001b[0m\n\u001b[0;32m-> 2180\u001b[0;31m         \u001b[0mself\u001b[0m\u001b[0;34m.\u001b[0m\u001b[0mcanvas\u001b[0m\u001b[0;34m.\u001b[0m\u001b[0mprint_figure\u001b[0m\u001b[0;34m(\u001b[0m\u001b[0mfname\u001b[0m\u001b[0;34m,\u001b[0m \u001b[0;34m**\u001b[0m\u001b[0mkwargs\u001b[0m\u001b[0;34m)\u001b[0m\u001b[0;34m\u001b[0m\u001b[0;34m\u001b[0m\u001b[0m\n\u001b[0m\u001b[1;32m   2181\u001b[0m \u001b[0;34m\u001b[0m\u001b[0m\n\u001b[1;32m   2182\u001b[0m         \u001b[0;32mif\u001b[0m \u001b[0mframeon\u001b[0m\u001b[0;34m:\u001b[0m\u001b[0;34m\u001b[0m\u001b[0;34m\u001b[0m\u001b[0m\n",
      "\u001b[0;32m~/miniconda3/envs/spols190426/lib/python3.6/site-packages/matplotlib/backend_bases.py\u001b[0m in \u001b[0;36mprint_figure\u001b[0;34m(self, filename, dpi, facecolor, edgecolor, orientation, format, bbox_inches, **kwargs)\u001b[0m\n\u001b[1;32m   2080\u001b[0m                     \u001b[0morientation\u001b[0m\u001b[0;34m=\u001b[0m\u001b[0morientation\u001b[0m\u001b[0;34m,\u001b[0m\u001b[0;34m\u001b[0m\u001b[0;34m\u001b[0m\u001b[0m\n\u001b[1;32m   2081\u001b[0m                     \u001b[0mbbox_inches_restore\u001b[0m\u001b[0;34m=\u001b[0m\u001b[0m_bbox_inches_restore\u001b[0m\u001b[0;34m,\u001b[0m\u001b[0;34m\u001b[0m\u001b[0;34m\u001b[0m\u001b[0m\n\u001b[0;32m-> 2082\u001b[0;31m                     **kwargs)\n\u001b[0m\u001b[1;32m   2083\u001b[0m             \u001b[0;32mfinally\u001b[0m\u001b[0;34m:\u001b[0m\u001b[0;34m\u001b[0m\u001b[0;34m\u001b[0m\u001b[0m\n\u001b[1;32m   2084\u001b[0m                 \u001b[0;32mif\u001b[0m \u001b[0mbbox_inches\u001b[0m \u001b[0;32mand\u001b[0m \u001b[0mrestore_bbox\u001b[0m\u001b[0;34m:\u001b[0m\u001b[0;34m\u001b[0m\u001b[0;34m\u001b[0m\u001b[0m\n",
      "\u001b[0;32m~/miniconda3/envs/spols190426/lib/python3.6/site-packages/matplotlib/backends/backend_pdf.py\u001b[0m in \u001b[0;36mprint_pdf\u001b[0;34m(self, filename, dpi, bbox_inches_restore, metadata, **kwargs)\u001b[0m\n\u001b[1;32m   2494\u001b[0m             \u001b[0mfile\u001b[0m \u001b[0;34m=\u001b[0m \u001b[0mfilename\u001b[0m\u001b[0;34m.\u001b[0m\u001b[0m_file\u001b[0m\u001b[0;34m\u001b[0m\u001b[0;34m\u001b[0m\u001b[0m\n\u001b[1;32m   2495\u001b[0m         \u001b[0;32melse\u001b[0m\u001b[0;34m:\u001b[0m\u001b[0;34m\u001b[0m\u001b[0;34m\u001b[0m\u001b[0m\n\u001b[0;32m-> 2496\u001b[0;31m             \u001b[0mfile\u001b[0m \u001b[0;34m=\u001b[0m \u001b[0mPdfFile\u001b[0m\u001b[0;34m(\u001b[0m\u001b[0mfilename\u001b[0m\u001b[0;34m,\u001b[0m \u001b[0mmetadata\u001b[0m\u001b[0;34m=\u001b[0m\u001b[0mmetadata\u001b[0m\u001b[0;34m)\u001b[0m\u001b[0;34m\u001b[0m\u001b[0;34m\u001b[0m\u001b[0m\n\u001b[0m\u001b[1;32m   2497\u001b[0m         \u001b[0;32mtry\u001b[0m\u001b[0;34m:\u001b[0m\u001b[0;34m\u001b[0m\u001b[0;34m\u001b[0m\u001b[0m\n\u001b[1;32m   2498\u001b[0m             \u001b[0mfile\u001b[0m\u001b[0;34m.\u001b[0m\u001b[0mnewPage\u001b[0m\u001b[0;34m(\u001b[0m\u001b[0mwidth\u001b[0m\u001b[0;34m,\u001b[0m \u001b[0mheight\u001b[0m\u001b[0;34m)\u001b[0m\u001b[0;34m\u001b[0m\u001b[0;34m\u001b[0m\u001b[0m\n",
      "\u001b[0;32m~/miniconda3/envs/spols190426/lib/python3.6/site-packages/matplotlib/backends/backend_pdf.py\u001b[0m in \u001b[0;36m__init__\u001b[0;34m(self, filename, metadata)\u001b[0m\n\u001b[1;32m    430\u001b[0m         \u001b[0mself\u001b[0m\u001b[0;34m.\u001b[0m\u001b[0moriginal_file_like\u001b[0m \u001b[0;34m=\u001b[0m \u001b[0;32mNone\u001b[0m\u001b[0;34m\u001b[0m\u001b[0;34m\u001b[0m\u001b[0m\n\u001b[1;32m    431\u001b[0m         \u001b[0mself\u001b[0m\u001b[0;34m.\u001b[0m\u001b[0mtell_base\u001b[0m \u001b[0;34m=\u001b[0m \u001b[0;36m0\u001b[0m\u001b[0;34m\u001b[0m\u001b[0;34m\u001b[0m\u001b[0m\n\u001b[0;32m--> 432\u001b[0;31m         \u001b[0mfh\u001b[0m\u001b[0;34m,\u001b[0m \u001b[0mopened\u001b[0m \u001b[0;34m=\u001b[0m \u001b[0mcbook\u001b[0m\u001b[0;34m.\u001b[0m\u001b[0mto_filehandle\u001b[0m\u001b[0;34m(\u001b[0m\u001b[0mfilename\u001b[0m\u001b[0;34m,\u001b[0m \u001b[0;34m\"wb\"\u001b[0m\u001b[0;34m,\u001b[0m \u001b[0mreturn_opened\u001b[0m\u001b[0;34m=\u001b[0m\u001b[0;32mTrue\u001b[0m\u001b[0;34m)\u001b[0m\u001b[0;34m\u001b[0m\u001b[0;34m\u001b[0m\u001b[0m\n\u001b[0m\u001b[1;32m    433\u001b[0m         \u001b[0;32mif\u001b[0m \u001b[0;32mnot\u001b[0m \u001b[0mopened\u001b[0m\u001b[0;34m:\u001b[0m\u001b[0;34m\u001b[0m\u001b[0;34m\u001b[0m\u001b[0m\n\u001b[1;32m    434\u001b[0m             \u001b[0;32mtry\u001b[0m\u001b[0;34m:\u001b[0m\u001b[0;34m\u001b[0m\u001b[0;34m\u001b[0m\u001b[0m\n",
      "\u001b[0;32m~/miniconda3/envs/spols190426/lib/python3.6/site-packages/matplotlib/cbook/__init__.py\u001b[0m in \u001b[0;36mto_filehandle\u001b[0;34m(fname, flag, return_opened, encoding)\u001b[0m\n\u001b[1;32m    430\u001b[0m             \u001b[0mfh\u001b[0m \u001b[0;34m=\u001b[0m \u001b[0mbz2\u001b[0m\u001b[0;34m.\u001b[0m\u001b[0mBZ2File\u001b[0m\u001b[0;34m(\u001b[0m\u001b[0mfname\u001b[0m\u001b[0;34m,\u001b[0m \u001b[0mflag\u001b[0m\u001b[0;34m)\u001b[0m\u001b[0;34m\u001b[0m\u001b[0;34m\u001b[0m\u001b[0m\n\u001b[1;32m    431\u001b[0m         \u001b[0;32melse\u001b[0m\u001b[0;34m:\u001b[0m\u001b[0;34m\u001b[0m\u001b[0;34m\u001b[0m\u001b[0m\n\u001b[0;32m--> 432\u001b[0;31m             \u001b[0mfh\u001b[0m \u001b[0;34m=\u001b[0m \u001b[0mopen\u001b[0m\u001b[0;34m(\u001b[0m\u001b[0mfname\u001b[0m\u001b[0;34m,\u001b[0m \u001b[0mflag\u001b[0m\u001b[0;34m,\u001b[0m \u001b[0mencoding\u001b[0m\u001b[0;34m=\u001b[0m\u001b[0mencoding\u001b[0m\u001b[0;34m)\u001b[0m\u001b[0;34m\u001b[0m\u001b[0;34m\u001b[0m\u001b[0m\n\u001b[0m\u001b[1;32m    433\u001b[0m         \u001b[0mopened\u001b[0m \u001b[0;34m=\u001b[0m \u001b[0;32mTrue\u001b[0m\u001b[0;34m\u001b[0m\u001b[0;34m\u001b[0m\u001b[0m\n\u001b[1;32m    434\u001b[0m     \u001b[0;32melif\u001b[0m \u001b[0mhasattr\u001b[0m\u001b[0;34m(\u001b[0m\u001b[0mfname\u001b[0m\u001b[0;34m,\u001b[0m \u001b[0;34m'seek'\u001b[0m\u001b[0;34m)\u001b[0m\u001b[0;34m:\u001b[0m\u001b[0;34m\u001b[0m\u001b[0;34m\u001b[0m\u001b[0m\n",
      "\u001b[0;31mFileNotFoundError\u001b[0m: [Errno 2] No such file or directory: '../../results/plots/individual_rate_age.pdf'"
     ]
    },
    {
     "data": {
      "image/png": "[encoded data removed]",
      "text/plain": [
       "<Figure size 1080x360 with 3 Axes>"
      ]
     },
     "metadata": {},
     "output_type": "display_data"
    }
   ],
   "source": [
    "ax = sns.lmplot(x='subject_age', y='individual_rate_SSE', col='type', data=plot_data,\n",
    "                col_order=['hepatocyte', 'non-hepatocyte', 'unsorted'])\n",
    "ax.set_axis_labels(x_var='age of person', y_var='turnover rate (per year)')\n",
    "plt.savefig('../../results/plots/individual_rate_age.pdf', dpi=300, bbox_inches='tight')\n",
    "plt.show()"
   ]
  },
  {
   "cell_type": "markdown",
   "metadata": {},
   "source": [
    "No significant correlation in the above data:"
   ]
  },
  {
   "cell_type": "code",
   "execution_count": null,
   "metadata": {
    "ExecuteTime": {
     "end_time": "2019-01-08T08:32:30.591451Z",
     "start_time": "2019-01-08T08:32:30.565352Z"
    }
   },
   "outputs": [],
   "source": [
    "plot_data.groupby('type').apply(lambda g: pd.Series({key: value for key, value in zip(['r', 'p'],\n",
    "    sp.stats.pearsonr(g['subject_age'], g['individual_rate_SSE']))}))"
   ]
  },
  {
   "cell_type": "code",
   "execution_count": null,
   "metadata": {
    "ExecuteTime": {
     "end_time": "2019-01-08T08:32:32.394435Z",
     "start_time": "2019-01-08T08:32:32.345872Z"
    }
   },
   "outputs": [],
   "source": [
    "plot_data.groupby('type').apply(lambda g: smf.ols('individual_rate_SSE ~ subject_age', data=g).fit().params)"
   ]
  },
  {
   "cell_type": "markdown",
   "metadata": {},
   "source": [
    "## Cell Age"
   ]
  },
  {
   "cell_type": "code",
   "execution_count": null,
   "metadata": {
    "ExecuteTime": {
     "end_time": "2019-01-08T08:32:54.307680Z",
     "start_time": "2019-01-08T08:32:53.258430Z"
    }
   },
   "outputs": [],
   "source": [
    "ax = sns.lmplot(x='subject_age', y='cell_age', col='type', data=plot_data,\n",
    "               col_order=['hepatocyte', 'non-hepatocyte', 'unsorted'])\n",
    "ax.set_axis_labels(x_var='age of person', y_var='average cell age (years)')\n",
    "plt.savefig('../../results/plots/individual_rate_age.pdf', dpi=300, bbox_inches='tight')\n",
    "plt.show()"
   ]
  },
  {
   "cell_type": "markdown",
   "metadata": {},
   "source": [
    "No significant correlation in the above data:"
   ]
  },
  {
   "cell_type": "code",
   "execution_count": null,
   "metadata": {
    "ExecuteTime": {
     "end_time": "2018-12-11T13:58:19.614528Z",
     "start_time": "2018-12-11T13:58:19.601240Z"
    }
   },
   "outputs": [],
   "source": [
    "plot_data.groupby('type').apply(lambda g: pd.Series({key: value for key, value in zip(['r', 'p'],\n",
    "    sp.stats.pearsonr(g['subject_age'], g['cell_age']))}))"
   ]
  },
  {
   "cell_type": "code",
   "execution_count": null,
   "metadata": {
    "ExecuteTime": {
     "end_time": "2018-12-11T13:58:19.648240Z",
     "start_time": "2018-12-11T13:58:19.616466Z"
    }
   },
   "outputs": [],
   "source": [
    "plot_data.groupby('type').apply(lambda g: smf.ols('cell_age ~ subject_age', data=g).fit().params)"
   ]
  },
  {
   "cell_type": "markdown",
   "metadata": {},
   "source": [
    "# Export"
   ]
  },
  {
   "cell_type": "code",
   "execution_count": null,
   "metadata": {
    "ExecuteTime": {
     "end_time": "2018-12-11T13:58:19.652340Z",
     "start_time": "2018-12-11T13:58:19.650158Z"
    }
   },
   "outputs": [],
   "source": [
    "exp_data.to_excel('../../results/cell_age.xlsx')"
   ]
  },
  {
   "cell_type": "code",
   "execution_count": null,
   "metadata": {},
   "outputs": [],
   "source": [
    "exp_data.query('rate_is_not_outlier and (type == \"hepatocyte\")').mean()"
   ]
  },
  {
   "cell_type": "code",
   "execution_count": null,
   "metadata": {},
   "outputs": [],
   "source": []
  }
 ],
 "metadata": {
  "anaconda-cloud": {},
  "kernelspec": {
   "display_name": "Python 3",
   "language": "python",
   "name": "python3"
  },
  "language_info": {
   "codemirror_mode": {
    "name": "ipython",
    "version": 3
   },
   "file_extension": ".py",
   "mimetype": "text/x-python",
   "name": "python",
   "nbconvert_exporter": "python",
   "pygments_lexer": "ipython3",
   "version": "3.6.7"
  },
  "notify_time": "30",
  "toc": {
   "nav_menu": {
    "height": "251px",
    "width": "252px"
   },
   "number_sections": true,
   "sideBar": true,
   "skip_h1_title": false,
   "title_cell": "Table of Contents",
   "title_sidebar": "Contents",
   "toc_cell": false,
   "toc_position": {
    "height": "913px",
    "left": "0px",
    "right": "1708px",
    "top": "111px",
    "width": "212px"
   },
   "toc_section_display": "block",
   "toc_window_display": true
  }
 },
 "nbformat": 4,
 "nbformat_minor": 4
}
