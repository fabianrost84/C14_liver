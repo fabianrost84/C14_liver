{
 "cells": [
  {
   "cell_type": "markdown",
   "metadata": {},
   "source": [
    "# Preparation"
   ]
  },
  {
   "cell_type": "code",
   "execution_count": 1,
   "metadata": {
    "ExecuteTime": {
     "end_time": "2019-01-08T08:27:31.993381Z",
     "start_time": "2019-01-08T08:27:26.418896Z"
    }
   },
   "outputs": [
    {
     "name": "stderr",
     "output_type": "stream",
     "text": [
      "/home/fabrost/miniconda3/envs/spols190117/lib/python3.6/site-packages/IPython/config.py:13: ShimWarning: The `IPython.config` package has been deprecated since IPython 4.0. You should import from traitlets.config instead.\n",
      "  \"You should import from traitlets.config instead.\", ShimWarning)\n",
      "/home/fabrost/miniconda3/envs/spols190117/lib/python3.6/site-packages/ipycache.py:17: UserWarning: IPython.utils.traitlets has moved to a top-level traitlets package.\n",
      "  from IPython.utils.traitlets import Unicode\n"
     ]
    }
   ],
   "source": [
    "%load_ext ipycache\n",
    "import iminuit\n",
    "%load_ext line_profiler\n",
    "import matplotlib.pyplot as plt\n",
    "%matplotlib inline\n",
    "import multiprocessing\n",
    "import numba\n",
    "import numpy as np\n",
    "import pandas as pd\n",
    "import scipy as sp\n",
    "from scipy import optimize\n",
    "import seaborn as sns\n",
    "import statsmodels.api as sm\n",
    "import statsmodels.formula.api as smf\n",
    "\n",
    "sns.set_style('darkgrid')\n",
    "sns.set_context('notebook')"
   ]
  },
  {
   "cell_type": "code",
   "execution_count": 2,
   "metadata": {
    "ExecuteTime": {
     "end_time": "2019-01-08T08:27:32.004026Z",
     "start_time": "2019-01-08T08:27:31.998112Z"
    }
   },
   "outputs": [],
   "source": [
    "results = pd.DataFrame()"
   ]
  },
  {
   "cell_type": "code",
   "execution_count": 3,
   "metadata": {
    "ExecuteTime": {
     "end_time": "2019-01-08T08:27:32.020679Z",
     "start_time": "2019-01-08T08:27:32.008193Z"
    }
   },
   "outputs": [],
   "source": [
    "def corrfunc(x, y, **kws):\n",
    "    r, p = sp.stats.pearsonr(x, y)\n",
    "    ax = plt.gca()\n",
    "    ax.annotate(f\"\\u03C1 = {r:.2f}\\np = {p:.2f}\", #unicode code for lowercase rho (ρ)\n",
    "                xy=(.1, .9), xycoords=ax.transAxes)"
   ]
  },
  {
   "cell_type": "markdown",
   "metadata": {},
   "source": [
    "# Load C14 models"
   ]
  },
  {
   "cell_type": "code",
   "execution_count": 4,
   "metadata": {
    "ExecuteTime": {
     "end_time": "2019-01-08T08:27:32.089437Z",
     "start_time": "2019-01-08T08:27:32.025398Z"
    }
   },
   "outputs": [],
   "source": [
    "import c14_models"
   ]
  },
  {
   "cell_type": "markdown",
   "metadata": {},
   "source": [
    "# Read patient data"
   ]
  },
  {
   "cell_type": "code",
   "execution_count": 5,
   "metadata": {
    "ExecuteTime": {
     "end_time": "2019-01-08T08:27:32.134659Z",
     "start_time": "2019-01-08T08:27:32.093650Z"
    }
   },
   "outputs": [],
   "source": [
    "exp_data = pd.read_pickle('../../results/C14data_liver_samples_2019-03-20.pkl')\n",
    "# exp_data['type'] = pd.Categorical(exp_data['type'])"
   ]
  },
  {
   "cell_type": "code",
   "execution_count": 6,
   "metadata": {
    "ExecuteTime": {
     "end_time": "2019-01-08T08:27:32.159933Z",
     "start_time": "2019-01-08T08:27:32.137807Z"
    }
   },
   "outputs": [
    {
     "data": {
      "text/html": [
       "<div>\n",
       "<style scoped>\n",
       "    .dataframe tbody tr th:only-of-type {\n",
       "        vertical-align: middle;\n",
       "    }\n",
       "\n",
       "    .dataframe tbody tr th {\n",
       "        vertical-align: top;\n",
       "    }\n",
       "\n",
       "    .dataframe thead th {\n",
       "        text-align: right;\n",
       "    }\n",
       "</style>\n",
       "<table border=\"1\" class=\"dataframe\">\n",
       "  <thead>\n",
       "    <tr style=\"text-align: right;\">\n",
       "      <th></th>\n",
       "      <th>type</th>\n",
       "      <th>code</th>\n",
       "      <th>sample</th>\n",
       "      <th>Dbirth</th>\n",
       "      <th>Dcoll</th>\n",
       "      <th>d14C</th>\n",
       "      <th>error_measurement</th>\n",
       "      <th>N_cells</th>\n",
       "      <th>pathology</th>\n",
       "      <th>subject_age</th>\n",
       "      <th>valid</th>\n",
       "    </tr>\n",
       "  </thead>\n",
       "  <tbody>\n",
       "    <tr>\n",
       "      <th>0</th>\n",
       "      <td>unsorted</td>\n",
       "      <td>PH1</td>\n",
       "      <td>ND380</td>\n",
       "      <td>1942.833333</td>\n",
       "      <td>2016.416667</td>\n",
       "      <td>0.078416</td>\n",
       "      <td>0.003981</td>\n",
       "      <td>NaN</td>\n",
       "      <td>N</td>\n",
       "      <td>73.583333</td>\n",
       "      <td>True</td>\n",
       "    </tr>\n",
       "    <tr>\n",
       "      <th>1</th>\n",
       "      <td>unsorted</td>\n",
       "      <td>PH2</td>\n",
       "      <td>ND388</td>\n",
       "      <td>1991.416667</td>\n",
       "      <td>2016.833333</td>\n",
       "      <td>0.025254</td>\n",
       "      <td>0.003912</td>\n",
       "      <td>NaN</td>\n",
       "      <td>N</td>\n",
       "      <td>25.416667</td>\n",
       "      <td>True</td>\n",
       "    </tr>\n",
       "    <tr>\n",
       "      <th>2</th>\n",
       "      <td>hepatocyte</td>\n",
       "      <td>PH3</td>\n",
       "      <td>ND381</td>\n",
       "      <td>1985.166667</td>\n",
       "      <td>2016.416667</td>\n",
       "      <td>0.040336</td>\n",
       "      <td>0.008788</td>\n",
       "      <td>58.0</td>\n",
       "      <td>N</td>\n",
       "      <td>31.250000</td>\n",
       "      <td>True</td>\n",
       "    </tr>\n",
       "    <tr>\n",
       "      <th>3</th>\n",
       "      <td>hepatocyte</td>\n",
       "      <td>PH4</td>\n",
       "      <td>ND382</td>\n",
       "      <td>1982.083333</td>\n",
       "      <td>2016.500000</td>\n",
       "      <td>0.018815</td>\n",
       "      <td>0.005342</td>\n",
       "      <td>52.0</td>\n",
       "      <td>N</td>\n",
       "      <td>34.416667</td>\n",
       "      <td>True</td>\n",
       "    </tr>\n",
       "    <tr>\n",
       "      <th>4</th>\n",
       "      <td>hepatocyte</td>\n",
       "      <td>PH6</td>\n",
       "      <td>ND022</td>\n",
       "      <td>1946.500000</td>\n",
       "      <td>2004.833333</td>\n",
       "      <td>0.075001</td>\n",
       "      <td>0.004711</td>\n",
       "      <td>62.0</td>\n",
       "      <td>N</td>\n",
       "      <td>58.333333</td>\n",
       "      <td>True</td>\n",
       "    </tr>\n",
       "  </tbody>\n",
       "</table>\n",
       "</div>"
      ],
      "text/plain": [
       "         type code sample       Dbirth        Dcoll      d14C  \\\n",
       "0    unsorted  PH1  ND380  1942.833333  2016.416667  0.078416   \n",
       "1    unsorted  PH2  ND388  1991.416667  2016.833333  0.025254   \n",
       "2  hepatocyte  PH3  ND381  1985.166667  2016.416667  0.040336   \n",
       "3  hepatocyte  PH4  ND382  1982.083333  2016.500000  0.018815   \n",
       "4  hepatocyte  PH6  ND022  1946.500000  2004.833333  0.075001   \n",
       "\n",
       "   error_measurement  N_cells pathology  subject_age  valid  \n",
       "0           0.003981      NaN         N    73.583333   True  \n",
       "1           0.003912      NaN         N    25.416667   True  \n",
       "2           0.008788     58.0         N    31.250000   True  \n",
       "3           0.005342     52.0         N    34.416667   True  \n",
       "4           0.004711     62.0         N    58.333333   True  "
      ]
     },
     "execution_count": 6,
     "metadata": {},
     "output_type": "execute_result"
    }
   ],
   "source": [
    "exp_data.head()"
   ]
  },
  {
   "cell_type": "code",
   "execution_count": 7,
   "metadata": {
    "ExecuteTime": {
     "end_time": "2019-01-08T08:27:32.193555Z",
     "start_time": "2019-01-08T08:27:32.162066Z"
    }
   },
   "outputs": [
    {
     "data": {
      "text/html": [
       "<div>\n",
       "<style scoped>\n",
       "    .dataframe tbody tr th:only-of-type {\n",
       "        vertical-align: middle;\n",
       "    }\n",
       "\n",
       "    .dataframe tbody tr th {\n",
       "        vertical-align: top;\n",
       "    }\n",
       "\n",
       "    .dataframe thead th {\n",
       "        text-align: right;\n",
       "    }\n",
       "</style>\n",
       "<table border=\"1\" class=\"dataframe\">\n",
       "  <thead>\n",
       "    <tr style=\"text-align: right;\">\n",
       "      <th></th>\n",
       "      <th>Dbirth</th>\n",
       "      <th>Dcoll</th>\n",
       "      <th>d14C</th>\n",
       "      <th>error_measurement</th>\n",
       "      <th>N_cells</th>\n",
       "      <th>subject_age</th>\n",
       "    </tr>\n",
       "  </thead>\n",
       "  <tbody>\n",
       "    <tr>\n",
       "      <th>count</th>\n",
       "      <td>82.000000</td>\n",
       "      <td>83.000000</td>\n",
       "      <td>83.000000</td>\n",
       "      <td>83.000000</td>\n",
       "      <td>51.000000</td>\n",
       "      <td>82.000000</td>\n",
       "    </tr>\n",
       "    <tr>\n",
       "      <th>mean</th>\n",
       "      <td>1961.957317</td>\n",
       "      <td>2016.635542</td>\n",
       "      <td>0.042490</td>\n",
       "      <td>0.007400</td>\n",
       "      <td>62.617647</td>\n",
       "      <td>54.662602</td>\n",
       "    </tr>\n",
       "    <tr>\n",
       "      <th>std</th>\n",
       "      <td>19.834830</td>\n",
       "      <td>2.727045</td>\n",
       "      <td>0.022845</td>\n",
       "      <td>0.003629</td>\n",
       "      <td>28.015279</td>\n",
       "      <td>19.562783</td>\n",
       "    </tr>\n",
       "    <tr>\n",
       "      <th>min</th>\n",
       "      <td>1932.583333</td>\n",
       "      <td>2004.833333</td>\n",
       "      <td>0.005100</td>\n",
       "      <td>0.003912</td>\n",
       "      <td>12.000000</td>\n",
       "      <td>20.000000</td>\n",
       "    </tr>\n",
       "    <tr>\n",
       "      <th>25%</th>\n",
       "      <td>1946.500000</td>\n",
       "      <td>2016.750000</td>\n",
       "      <td>0.026300</td>\n",
       "      <td>0.004650</td>\n",
       "      <td>44.000000</td>\n",
       "      <td>37.500000</td>\n",
       "    </tr>\n",
       "    <tr>\n",
       "      <th>50%</th>\n",
       "      <td>1958.750000</td>\n",
       "      <td>2017.333333</td>\n",
       "      <td>0.039600</td>\n",
       "      <td>0.006400</td>\n",
       "      <td>59.000000</td>\n",
       "      <td>58.250000</td>\n",
       "    </tr>\n",
       "    <tr>\n",
       "      <th>75%</th>\n",
       "      <td>1979.833333</td>\n",
       "      <td>2017.458333</td>\n",
       "      <td>0.050800</td>\n",
       "      <td>0.009250</td>\n",
       "      <td>72.000000</td>\n",
       "      <td>69.333333</td>\n",
       "    </tr>\n",
       "    <tr>\n",
       "      <th>max</th>\n",
       "      <td>1997.333333</td>\n",
       "      <td>2019.750000</td>\n",
       "      <td>0.131107</td>\n",
       "      <td>0.021571</td>\n",
       "      <td>129.000000</td>\n",
       "      <td>84.666667</td>\n",
       "    </tr>\n",
       "  </tbody>\n",
       "</table>\n",
       "</div>"
      ],
      "text/plain": [
       "            Dbirth        Dcoll       d14C  error_measurement     N_cells  \\\n",
       "count    82.000000    83.000000  83.000000          83.000000   51.000000   \n",
       "mean   1961.957317  2016.635542   0.042490           0.007400   62.617647   \n",
       "std      19.834830     2.727045   0.022845           0.003629   28.015279   \n",
       "min    1932.583333  2004.833333   0.005100           0.003912   12.000000   \n",
       "25%    1946.500000  2016.750000   0.026300           0.004650   44.000000   \n",
       "50%    1958.750000  2017.333333   0.039600           0.006400   59.000000   \n",
       "75%    1979.833333  2017.458333   0.050800           0.009250   72.000000   \n",
       "max    1997.333333  2019.750000   0.131107           0.021571  129.000000   \n",
       "\n",
       "       subject_age  \n",
       "count    82.000000  \n",
       "mean     54.662602  \n",
       "std      19.562783  \n",
       "min      20.000000  \n",
       "25%      37.500000  \n",
       "50%      58.250000  \n",
       "75%      69.333333  \n",
       "max      84.666667  "
      ]
     },
     "execution_count": 7,
     "metadata": {},
     "output_type": "execute_result"
    }
   ],
   "source": [
    "exp_data.describe()"
   ]
  },
  {
   "cell_type": "markdown",
   "metadata": {},
   "source": [
    "# Plot data "
   ]
  },
  {
   "cell_type": "code",
   "execution_count": 8,
   "metadata": {
    "ExecuteTime": {
     "end_time": "2019-01-08T08:27:35.019174Z",
     "start_time": "2019-01-08T08:27:33.025135Z"
    }
   },
   "outputs": [
    {
     "data": {
      "image/png": "[encoded data removed]",
      "text/plain": [
       "<Figure size 432x288 with 1 Axes>"
      ]
     },
     "metadata": {
      "needs_background": "light"
     },
     "output_type": "display_data"
    }
   ],
   "source": [
    "tt = np.linspace(1930, 2020)\n",
    "plt.plot(tt, np.vectorize(c14_models.C_atm)(tt))\n",
    "plt.plot(exp_data['Dbirth'], exp_data['d14C'], ls = 'None', marker = 's')\n",
    "plt.ylim(-0.05, 0.12)\n",
    "plt.show()"
   ]
  },
  {
   "cell_type": "markdown",
   "metadata": {},
   "source": [
    "# Individual rates"
   ]
  },
  {
   "cell_type": "code",
   "execution_count": 9,
   "metadata": {
    "ExecuteTime": {
     "end_time": "2019-01-08T08:27:35.047736Z",
     "start_time": "2019-01-08T08:27:35.038919Z"
    }
   },
   "outputs": [],
   "source": [
    "@np.vectorize\n",
    "def I1(Dbirth, Dcoll, loglam):\n",
    "    \"\"\" For very high turnover rates return the atmospheric C14 concentration\n",
    "        at the date of collection to avoid lengthy computations.\n",
    "    \"\"\"\n",
    "    if loglam <= 10:\n",
    "        lam = np.exp(loglam)\n",
    "        return c14_models.I1(Dbirth, Dcoll, lam, t_eval=np.linspace(Dbirth, Dcoll))[1][-1]\n",
    "    else:\n",
    "        return c14_models.C_atm(Dcoll)\n",
    "\n",
    "def diffI1(loglam, data):\n",
    "    model_data = I1(data['Dbirth'], \n",
    "                    data['Dcoll'], \n",
    "                    loglam)\n",
    "    diff = (model_data - data['d14C'])\n",
    "    return diff\n",
    "\n",
    "def SSE_individual(p, data):\n",
    "    model_data = I1(data['Dbirth'], \n",
    "                    data['Dcoll'], \n",
    "                    p)\n",
    "    sse = np.sum((model_data - data['d14C'])**2)\n",
    "    return sse    \n",
    "\n",
    "def plot_diffI1(loglammin, loglammax, data):\n",
    "    loglams = np.linspace(loglammin, loglammax)\n",
    "    diff = np.vectorize(diffI1, excluded=[1])(loglams, data)\n",
    "    plt.title(data['code'])\n",
    "    plt.plot(loglams, diff, label='Diff predicted to measured')\n",
    "    plt.plot([loglammin, loglammax], [0, 0], color='black')\n",
    "\n",
    "def individual_rate(i, loglam0=np.log(0.1)):\n",
    "    try:\n",
    "#         return np.exp(sp.optimize.brentq(diffI1, -8, 10, args=exp_data.iloc[i]))\n",
    "        return np.exp(sp.optimize.newton(diffI1, loglam0, args=([exp_data.iloc[i]])))\n",
    "    except:\n",
    "        return np.nan\n",
    "    \n",
    "def individual_rate_SSE(i, loglam0=np.log(0.1)):\n",
    "    r = np.exp(\n",
    "            sp.optimize.minimize(\n",
    "                SSE_individual, loglam0, args=(exp_data.iloc[i]), method='Nelder-Mead'\n",
    "            )['x'][0]\n",
    "        )\n",
    "    return r"
   ]
  },
  {
   "cell_type": "code",
   "execution_count": 10,
   "metadata": {
    "ExecuteTime": {
     "end_time": "2019-01-08T08:27:36.794761Z",
     "start_time": "2019-01-08T08:27:36.644830Z"
    }
   },
   "outputs": [
    {
     "name": "stderr",
     "output_type": "stream",
     "text": [
      "/home/fabrost/miniconda3/envs/spols190117/lib/python3.6/site-packages/scipy/integrate/odepack.py:234: RuntimeWarning: invalid value encountered in greater_equal\n",
      "  if not((dt >= 0).all() or (dt <= 0).all()):\n",
      "/home/fabrost/miniconda3/envs/spols190117/lib/python3.6/site-packages/scipy/integrate/odepack.py:234: RuntimeWarning: invalid value encountered in less_equal\n",
      "  if not((dt >= 0).all() or (dt <= 0).all()):\n"
     ]
    }
   ],
   "source": [
    "p=multiprocessing.Pool(processes=7)"
   ]
  },
  {
   "cell_type": "code",
   "execution_count": 11,
   "metadata": {
    "ExecuteTime": {
     "end_time": "2019-01-08T08:27:43.847575Z",
     "start_time": "2019-01-08T08:27:37.294894Z"
    }
   },
   "outputs": [
    {
     "ename": "ValueError",
     "evalue": "The values in t must be monotonically increasing or monotonically decreasing; repeated values are allowed.",
     "output_type": "error",
     "traceback": [
      "\u001b[0;31m---------------------------------------------------------------------------\u001b[0m",
      "\u001b[0;31mRemoteTraceback\u001b[0m                           Traceback (most recent call last)",
      "\u001b[0;31mRemoteTraceback\u001b[0m: \n\"\"\"\nTraceback (most recent call last):\n  File \"/home/fabrost/miniconda3/envs/spols190117/lib/python3.6/multiprocessing/pool.py\", line 119, in worker\n    result = (True, func(*args, **kwds))\n  File \"/home/fabrost/miniconda3/envs/spols190117/lib/python3.6/multiprocessing/pool.py\", line 44, in mapstar\n    return list(map(*args))\n  File \"<ipython-input-9-043c0c3c3bae>\", line 43, in individual_rate_SSE\n    SSE_individual, loglam0, args=(exp_data.iloc[i]), method='Nelder-Mead'\n  File \"/home/fabrost/miniconda3/envs/spols190117/lib/python3.6/site-packages/scipy/optimize/_minimize.py\", line 589, in minimize\n    return _minimize_neldermead(fun, x0, args, callback, **options)\n  File \"/home/fabrost/miniconda3/envs/spols190117/lib/python3.6/site-packages/scipy/optimize/optimize.py\", line 559, in _minimize_neldermead\n    fsim[k] = func(sim[k])\n  File \"/home/fabrost/miniconda3/envs/spols190117/lib/python3.6/site-packages/scipy/optimize/optimize.py\", line 300, in function_wrapper\n    return function(*(wrapper_args + args))\n  File \"<ipython-input-9-043c0c3c3bae>\", line 22, in SSE_individual\n    p)\n  File \"/home/fabrost/miniconda3/envs/spols190117/lib/python3.6/site-packages/numpy/lib/function_base.py\", line 1972, in __call__\n    return self._vectorize_call(func=func, args=vargs)\n  File \"/home/fabrost/miniconda3/envs/spols190117/lib/python3.6/site-packages/numpy/lib/function_base.py\", line 2042, in _vectorize_call\n    ufunc, otypes = self._get_ufunc_and_otypes(func=func, args=args)\n  File \"/home/fabrost/miniconda3/envs/spols190117/lib/python3.6/site-packages/numpy/lib/function_base.py\", line 2002, in _get_ufunc_and_otypes\n    outputs = func(*inputs)\n  File \"<ipython-input-9-043c0c3c3bae>\", line 8, in I1\n    return c14_models.I1(Dbirth, Dcoll, lam, t_eval=np.linspace(Dbirth, Dcoll))[1][-1]\n  File \"/home/fabrost/Nextcloud/projects/C14_liver/source/python/c14_models.py\", line 103, in I1\n    args=(lam, ))\n  File \"/home/fabrost/miniconda3/envs/spols190117/lib/python3.6/site-packages/scipy/integrate/odepack.py\", line 235, in odeint\n    raise ValueError(\"The values in t must be monotonically increasing \"\nValueError: The values in t must be monotonically increasing or monotonically decreasing; repeated values are allowed.\n\"\"\"",
      "\nThe above exception was the direct cause of the following exception:\n",
      "\u001b[0;31mValueError\u001b[0m                                Traceback (most recent call last)",
      "\u001b[0;32m<ipython-input-11-40a431d8902f>\u001b[0m in \u001b[0;36m<module>\u001b[0;34m\u001b[0m\n\u001b[0;32m----> 1\u001b[0;31m \u001b[0mexp_data\u001b[0m\u001b[0;34m[\u001b[0m\u001b[0;34m'individual_rate_SSE'\u001b[0m\u001b[0;34m]\u001b[0m \u001b[0;34m=\u001b[0m \u001b[0mp\u001b[0m\u001b[0;34m.\u001b[0m\u001b[0mmap\u001b[0m\u001b[0;34m(\u001b[0m\u001b[0mindividual_rate_SSE\u001b[0m\u001b[0;34m,\u001b[0m \u001b[0mrange\u001b[0m\u001b[0;34m(\u001b[0m\u001b[0mlen\u001b[0m\u001b[0;34m(\u001b[0m\u001b[0mexp_data\u001b[0m\u001b[0;34m)\u001b[0m\u001b[0;34m)\u001b[0m\u001b[0;34m)\u001b[0m\u001b[0;34m\u001b[0m\u001b[0;34m\u001b[0m\u001b[0m\n\u001b[0m",
      "\u001b[0;32m~/miniconda3/envs/spols190117/lib/python3.6/multiprocessing/pool.py\u001b[0m in \u001b[0;36mmap\u001b[0;34m(self, func, iterable, chunksize)\u001b[0m\n\u001b[1;32m    264\u001b[0m         \u001b[0;32min\u001b[0m \u001b[0ma\u001b[0m \u001b[0mlist\u001b[0m \u001b[0mthat\u001b[0m \u001b[0;32mis\u001b[0m \u001b[0mreturned\u001b[0m\u001b[0;34m.\u001b[0m\u001b[0;34m\u001b[0m\u001b[0;34m\u001b[0m\u001b[0m\n\u001b[1;32m    265\u001b[0m         '''\n\u001b[0;32m--> 266\u001b[0;31m         \u001b[0;32mreturn\u001b[0m \u001b[0mself\u001b[0m\u001b[0;34m.\u001b[0m\u001b[0m_map_async\u001b[0m\u001b[0;34m(\u001b[0m\u001b[0mfunc\u001b[0m\u001b[0;34m,\u001b[0m \u001b[0miterable\u001b[0m\u001b[0;34m,\u001b[0m \u001b[0mmapstar\u001b[0m\u001b[0;34m,\u001b[0m \u001b[0mchunksize\u001b[0m\u001b[0;34m)\u001b[0m\u001b[0;34m.\u001b[0m\u001b[0mget\u001b[0m\u001b[0;34m(\u001b[0m\u001b[0;34m)\u001b[0m\u001b[0;34m\u001b[0m\u001b[0;34m\u001b[0m\u001b[0m\n\u001b[0m\u001b[1;32m    267\u001b[0m \u001b[0;34m\u001b[0m\u001b[0m\n\u001b[1;32m    268\u001b[0m     \u001b[0;32mdef\u001b[0m \u001b[0mstarmap\u001b[0m\u001b[0;34m(\u001b[0m\u001b[0mself\u001b[0m\u001b[0;34m,\u001b[0m \u001b[0mfunc\u001b[0m\u001b[0;34m,\u001b[0m \u001b[0miterable\u001b[0m\u001b[0;34m,\u001b[0m \u001b[0mchunksize\u001b[0m\u001b[0;34m=\u001b[0m\u001b[0;32mNone\u001b[0m\u001b[0;34m)\u001b[0m\u001b[0;34m:\u001b[0m\u001b[0;34m\u001b[0m\u001b[0;34m\u001b[0m\u001b[0m\n",
      "\u001b[0;32m~/miniconda3/envs/spols190117/lib/python3.6/multiprocessing/pool.py\u001b[0m in \u001b[0;36mget\u001b[0;34m(self, timeout)\u001b[0m\n\u001b[1;32m    642\u001b[0m             \u001b[0;32mreturn\u001b[0m \u001b[0mself\u001b[0m\u001b[0;34m.\u001b[0m\u001b[0m_value\u001b[0m\u001b[0;34m\u001b[0m\u001b[0;34m\u001b[0m\u001b[0m\n\u001b[1;32m    643\u001b[0m         \u001b[0;32melse\u001b[0m\u001b[0;34m:\u001b[0m\u001b[0;34m\u001b[0m\u001b[0;34m\u001b[0m\u001b[0m\n\u001b[0;32m--> 644\u001b[0;31m             \u001b[0;32mraise\u001b[0m \u001b[0mself\u001b[0m\u001b[0;34m.\u001b[0m\u001b[0m_value\u001b[0m\u001b[0;34m\u001b[0m\u001b[0;34m\u001b[0m\u001b[0m\n\u001b[0m\u001b[1;32m    645\u001b[0m \u001b[0;34m\u001b[0m\u001b[0m\n\u001b[1;32m    646\u001b[0m     \u001b[0;32mdef\u001b[0m \u001b[0m_set\u001b[0m\u001b[0;34m(\u001b[0m\u001b[0mself\u001b[0m\u001b[0;34m,\u001b[0m \u001b[0mi\u001b[0m\u001b[0;34m,\u001b[0m \u001b[0mobj\u001b[0m\u001b[0;34m)\u001b[0m\u001b[0;34m:\u001b[0m\u001b[0;34m\u001b[0m\u001b[0;34m\u001b[0m\u001b[0m\n",
      "\u001b[0;31mValueError\u001b[0m: The values in t must be monotonically increasing or monotonically decreasing; repeated values are allowed."
     ]
    }
   ],
   "source": [
    "exp_data['individual_rate_SSE'] = p.map(individual_rate_SSE, range(len(exp_data)))"
   ]
  },
  {
   "cell_type": "code",
   "execution_count": null,
   "metadata": {
    "ExecuteTime": {
     "end_time": "2019-01-08T08:27:47.033353Z",
     "start_time": "2019-01-08T08:27:43.862325Z"
    }
   },
   "outputs": [],
   "source": [
    "exp_data['individual_rate_newton'] = p.map(individual_rate, range(len(exp_data)))"
   ]
  },
  {
   "cell_type": "code",
   "execution_count": null,
   "metadata": {
    "ExecuteTime": {
     "end_time": "2019-01-08T08:27:47.280374Z",
     "start_time": "2019-01-08T08:27:47.037989Z"
    }
   },
   "outputs": [],
   "source": [
    "tt = np.linspace(1930, 2020)\n",
    "plt.plot(tt, np.vectorize(c14_models.C_atm)(tt))\n",
    "plt.scatter(exp_data['Dbirth'], exp_data['d14C'], marker='s', c=np.log(exp_data['individual_rate_SSE']))\n",
    "plt.colorbar()\n",
    "plt.ylim(-0.05, 0.15)\n",
    "plt.show()"
   ]
  },
  {
   "cell_type": "markdown",
   "metadata": {},
   "source": [
    "# Compare to graphical solution"
   ]
  },
  {
   "cell_type": "code",
   "execution_count": null,
   "metadata": {
    "ExecuteTime": {
     "end_time": "2019-01-08T08:27:47.320136Z",
     "start_time": "2019-01-08T08:27:47.282947Z"
    }
   },
   "outputs": [],
   "source": [
    "%%cache -d ipycache graphical.pkl\n",
    "fig, axs = plt.subplots(int(np.ceil(len(exp_data)/8)), 8, sharex=True, sharey=True, figsize=(8.3, 11.7))\n",
    "\n",
    "for ax in axs[-1]:\n",
    "    ax.set_xlabel(u'λ')\n",
    "for ax in axs[:,0]:\n",
    "    ax.set_ylabel(u'ΔC14')\n",
    "    \n",
    "axs = axs.flatten()\n",
    "loglammin, loglammax = -10, 5\n",
    "loglams = np.linspace(loglammin, loglammax)\n",
    "for (i, data), ax in zip(exp_data.iterrows(), axs):\n",
    "    diff = np.vectorize(diffI1, excluded=[1])(loglams, data)\n",
    "    ax.set_title(data['code'])\n",
    "    ax.plot(loglams, diff, label='Diff predicted to measured')\n",
    "    ax.axhline(0, color='black')\n",
    "    ax.axvline(np.log(data['individual_rate_SSE']), color='black')\n",
    "    \n",
    "ax.set_xlim(loglammin, loglammax)\n",
    "ax.set_ylim(-0.07, 0.07)\n",
    "plt.tight_layout()\n",
    "plt.savefig('../../results/plots/individual_rate_solution.pdf', dpi=300, bbox_inches='tight')\n",
    "plt.show()"
   ]
  },
  {
   "cell_type": "markdown",
   "metadata": {},
   "source": [
    "# Plot rates"
   ]
  },
  {
   "cell_type": "code",
   "execution_count": null,
   "metadata": {
    "ExecuteTime": {
     "end_time": "2019-01-08T08:27:47.560402Z",
     "start_time": "2019-01-08T08:27:47.322699Z"
    }
   },
   "outputs": [],
   "source": [
    "ax = sns.catplot(data=exp_data, x='type', y='individual_rate_SSE', kind='box')\n",
    "ax.set_xticklabels(rotation=30)\n",
    "plt.show()"
   ]
  },
  {
   "cell_type": "code",
   "execution_count": null,
   "metadata": {
    "ExecuteTime": {
     "end_time": "2019-01-08T08:27:47.818910Z",
     "start_time": "2019-01-08T08:27:47.564645Z"
    }
   },
   "outputs": [],
   "source": [
    "ax = sns.catplot(data=exp_data,  y='individual_rate_SSE', kind='box')\n",
    "plt.show()"
   ]
  },
  {
   "cell_type": "markdown",
   "metadata": {},
   "source": [
    "# Detect outliers based on IQR"
   ]
  },
  {
   "cell_type": "code",
   "execution_count": null,
   "metadata": {
    "ExecuteTime": {
     "end_time": "2019-01-08T08:27:47.867269Z",
     "start_time": "2019-01-08T08:27:47.821018Z"
    }
   },
   "outputs": [],
   "source": [
    "# Computing IQR\n",
    "Q1 = exp_data['individual_rate_SSE'].quantile(0.25)\n",
    "Q3 = exp_data['individual_rate_SSE'].quantile(0.75)\n",
    "IQR = Q3 - Q1\n",
    "\n",
    "# Selecting Values between Q1-1.5IQR and Q3+1.5IQR\n",
    "exp_data['rate_is_not_outlier'] = exp_data.eval('(@Q1 - 1.5 * @IQR) <= individual_rate_SSE <= (@Q3 + 1.5 * @IQR)')"
   ]
  },
  {
   "cell_type": "code",
   "execution_count": null,
   "metadata": {
    "ExecuteTime": {
     "end_time": "2019-01-08T08:27:48.079349Z",
     "start_time": "2019-01-08T08:27:47.869420Z"
    }
   },
   "outputs": [],
   "source": [
    "ax = sns.catplot(data=exp_data.query('rate_is_not_outlier'), x='type', y='individual_rate_SSE', kind='box')\n",
    "# sns.swarmplot(data=exp_data, x='type', y='individual_rate_SSE', color='black', size=2)\n",
    "ax.set_xticklabels(rotation=30)\n",
    "plt.show()"
   ]
  },
  {
   "cell_type": "markdown",
   "metadata": {},
   "source": [
    "# Sanity check of the results by comparing the two methods:"
   ]
  },
  {
   "cell_type": "code",
   "execution_count": null,
   "metadata": {
    "ExecuteTime": {
     "end_time": "2019-01-08T08:28:01.185561Z",
     "start_time": "2019-01-08T08:28:01.148437Z"
    }
   },
   "outputs": [],
   "source": [
    "exp_data.query('rate_is_not_outlier').query('(individual_rate_SSE - individual_rate_newton)**2 > (1e-3)**2')"
   ]
  },
  {
   "cell_type": "markdown",
   "metadata": {},
   "source": [
    "# Analysing results"
   ]
  },
  {
   "cell_type": "markdown",
   "metadata": {},
   "source": [
    "I use the values obtained with SSE"
   ]
  },
  {
   "cell_type": "code",
   "execution_count": null,
   "metadata": {
    "ExecuteTime": {
     "end_time": "2019-01-08T08:28:03.384256Z",
     "start_time": "2019-01-08T08:28:03.366991Z"
    }
   },
   "outputs": [],
   "source": [
    "exp_data['cell_age'] = 1. / exp_data['individual_rate_SSE']"
   ]
  },
  {
   "cell_type": "code",
   "execution_count": null,
   "metadata": {
    "ExecuteTime": {
     "end_time": "2019-01-08T08:28:03.839155Z",
     "start_time": "2019-01-08T08:28:03.797686Z"
    }
   },
   "outputs": [],
   "source": [
    "exp_data.head()"
   ]
  },
  {
   "cell_type": "code",
   "execution_count": null,
   "metadata": {
    "ExecuteTime": {
     "end_time": "2019-01-08T08:28:05.725094Z",
     "start_time": "2019-01-08T08:28:04.610446Z"
    }
   },
   "outputs": [],
   "source": [
    "sns.pairplot(exp_data.query('rate_is_not_outlier'),\n",
    "            x_vars = ['subject_age', 'Dbirth', 'Dcoll'],\n",
    "            y_vars = ['cell_age', 'individual_rate_SSE'],\n",
    "            hue = 'type')\n",
    "plt.show()"
   ]
  },
  {
   "cell_type": "markdown",
   "metadata": {},
   "source": [
    "# Plot for Olaf"
   ]
  },
  {
   "cell_type": "markdown",
   "metadata": {},
   "source": [
    "## Rate"
   ]
  },
  {
   "cell_type": "code",
   "execution_count": null,
   "metadata": {
    "ExecuteTime": {
     "end_time": "2019-01-08T08:28:05.894686Z",
     "start_time": "2019-01-08T08:28:05.864909Z"
    }
   },
   "outputs": [],
   "source": [
    "plot_data = exp_data.query('rate_is_not_outlier').query('type in [\"hepatocyte\", \"non-hepatocyte\", \"unsorted\"]')"
   ]
  },
  {
   "cell_type": "code",
   "execution_count": null,
   "metadata": {
    "ExecuteTime": {
     "end_time": "2019-01-08T08:32:21.168951Z",
     "start_time": "2019-01-08T08:32:21.162908Z"
    }
   },
   "outputs": [],
   "source": [
    "plot_data['type'].cat.remove_unused_categories(inplace=True)"
   ]
  },
  {
   "cell_type": "code",
   "execution_count": null,
   "metadata": {
    "ExecuteTime": {
     "end_time": "2019-01-08T08:32:23.105921Z",
     "start_time": "2019-01-08T08:32:23.099408Z"
    }
   },
   "outputs": [],
   "source": [
    "sns.set_context('paper')"
   ]
  },
  {
   "cell_type": "code",
   "execution_count": null,
   "metadata": {
    "ExecuteTime": {
     "end_time": "2019-01-08T08:32:24.530101Z",
     "start_time": "2019-01-08T08:32:23.433597Z"
    }
   },
   "outputs": [],
   "source": [
    "ax = sns.lmplot(x='subject_age', y='individual_rate_SSE', col='type', data=plot_data,\n",
    "                col_order=['hepatocyte', 'non-hepatocyte', 'unsorted'])\n",
    "ax.set_axis_labels(x_var='age of person', y_var='turnover rate (per year)')\n",
    "plt.savefig('../../results/plots/individual_rate_age.pdf', dpi=300, bbox_inches='tight')\n",
    "plt.show()"
   ]
  },
  {
   "cell_type": "markdown",
   "metadata": {},
   "source": [
    "No significant correlation in the above data:"
   ]
  },
  {
   "cell_type": "code",
   "execution_count": null,
   "metadata": {
    "ExecuteTime": {
     "end_time": "2019-01-08T08:32:30.591451Z",
     "start_time": "2019-01-08T08:32:30.565352Z"
    }
   },
   "outputs": [],
   "source": [
    "plot_data.groupby('type').apply(lambda g: pd.Series({key: value for key, value in zip(['r', 'p'],\n",
    "    sp.stats.pearsonr(g['subject_age'], g['individual_rate_SSE']))}))"
   ]
  },
  {
   "cell_type": "code",
   "execution_count": null,
   "metadata": {
    "ExecuteTime": {
     "end_time": "2019-01-08T08:32:32.394435Z",
     "start_time": "2019-01-08T08:32:32.345872Z"
    }
   },
   "outputs": [],
   "source": [
    "plot_data.groupby('type').apply(lambda g: smf.ols('individual_rate_SSE ~ subject_age', data=g).fit().params)"
   ]
  },
  {
   "cell_type": "markdown",
   "metadata": {},
   "source": [
    "## Cell Age"
   ]
  },
  {
   "cell_type": "code",
   "execution_count": null,
   "metadata": {
    "ExecuteTime": {
     "end_time": "2019-01-08T08:32:54.307680Z",
     "start_time": "2019-01-08T08:32:53.258430Z"
    }
   },
   "outputs": [],
   "source": [
    "ax = sns.lmplot(x='subject_age', y='cell_age', col='type', data=plot_data,\n",
    "               col_order=['hepatocyte', 'non-hepatocyte', 'unsorted'])\n",
    "ax.set_axis_labels(x_var='age of person', y_var='average cell age (years)')\n",
    "plt.savefig('../../results/plots/individual_rate_age.pdf', dpi=300, bbox_inches='tight')\n",
    "plt.show()"
   ]
  },
  {
   "cell_type": "markdown",
   "metadata": {},
   "source": [
    "No significant correlation in the above data:"
   ]
  },
  {
   "cell_type": "code",
   "execution_count": null,
   "metadata": {
    "ExecuteTime": {
     "end_time": "2018-12-11T13:58:19.614528Z",
     "start_time": "2018-12-11T13:58:19.601240Z"
    }
   },
   "outputs": [],
   "source": [
    "plot_data.groupby('type').apply(lambda g: pd.Series({key: value for key, value in zip(['r', 'p'],\n",
    "    sp.stats.pearsonr(g['subject_age'], g['cell_age']))}))"
   ]
  },
  {
   "cell_type": "code",
   "execution_count": null,
   "metadata": {
    "ExecuteTime": {
     "end_time": "2018-12-11T13:58:19.648240Z",
     "start_time": "2018-12-11T13:58:19.616466Z"
    }
   },
   "outputs": [],
   "source": [
    "plot_data.groupby('type').apply(lambda g: smf.ols('cell_age ~ subject_age', data=g).fit().params)"
   ]
  },
  {
   "cell_type": "markdown",
   "metadata": {},
   "source": [
    "# Export"
   ]
  },
  {
   "cell_type": "code",
   "execution_count": null,
   "metadata": {
    "ExecuteTime": {
     "end_time": "2018-12-11T13:58:19.652340Z",
     "start_time": "2018-12-11T13:58:19.650158Z"
    }
   },
   "outputs": [],
   "source": [
    "# exp_data.to_excel('./write/C14_data.xlsx')"
   ]
  }
 ],
 "metadata": {
  "anaconda-cloud": {},
  "kernelspec": {
   "display_name": "Python 3",
   "language": "python",
   "name": "python3"
  },
  "language_info": {
   "codemirror_mode": {
    "name": "ipython",
    "version": 3
   },
   "file_extension": ".py",
   "mimetype": "text/x-python",
   "name": "python",
   "nbconvert_exporter": "python",
   "pygments_lexer": "ipython3",
   "version": "3.6.8"
  },
  "notify_time": "30",
  "toc": {
   "nav_menu": {
    "height": "251px",
    "width": "252px"
   },
   "number_sections": true,
   "sideBar": true,
   "skip_h1_title": false,
   "title_cell": "Table of Contents",
   "title_sidebar": "Contents",
   "toc_cell": false,
   "toc_position": {
    "height": "913px",
    "left": "0px",
    "right": "1708px",
    "top": "111px",
    "width": "212px"
   },
   "toc_section_display": "block",
   "toc_window_display": true
  }
 },
 "nbformat": 4,
 "nbformat_minor": 2
}
