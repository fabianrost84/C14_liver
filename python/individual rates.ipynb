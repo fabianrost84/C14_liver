{
 "cells": [
  {
   "cell_type": "markdown",
   "metadata": {},
   "source": [
    "# Preparation"
   ]
  },
  {
   "cell_type": "code",
   "execution_count": 3,
   "metadata": {
    "ExecuteTime": {
     "end_time": "2019-01-08T08:27:31.993381Z",
     "start_time": "2019-01-08T08:27:26.418896Z"
    }
   },
   "outputs": [
    {
     "name": "stderr",
     "output_type": "stream",
     "text": [
      "/home/fabrost/miniconda3/envs/spols190117/lib/python3.6/site-packages/IPython/config.py:13: ShimWarning: The `IPython.config` package has been deprecated since IPython 4.0. You should import from traitlets.config instead.\n",
      "  \"You should import from traitlets.config instead.\", ShimWarning)\n",
      "/home/fabrost/miniconda3/envs/spols190117/lib/python3.6/site-packages/ipycache.py:17: UserWarning: IPython.utils.traitlets has moved to a top-level traitlets package.\n",
      "  from IPython.utils.traitlets import Unicode\n"
     ]
    }
   ],
   "source": [
    "%load_ext ipycache\n",
    "import iminuit\n",
    "%load_ext line_profiler\n",
    "import matplotlib.pyplot as plt\n",
    "%matplotlib inline\n",
    "import multiprocessing\n",
    "import numba\n",
    "import numpy as np\n",
    "import pandas as pd\n",
    "import scipy as sp\n",
    "from scipy import optimize\n",
    "import seaborn as sns\n",
    "import statsmodels.api as sm\n",
    "import statsmodels.formula.api as smf\n",
    "\n",
    "sns.set_style('darkgrid')\n",
    "sns.set_context('notebook')"
   ]
  },
  {
   "cell_type": "code",
   "execution_count": 4,
   "metadata": {
    "ExecuteTime": {
     "end_time": "2019-01-08T08:27:32.004026Z",
     "start_time": "2019-01-08T08:27:31.998112Z"
    }
   },
   "outputs": [],
   "source": [
    "results = pd.DataFrame()"
   ]
  },
  {
   "cell_type": "code",
   "execution_count": 5,
   "metadata": {
    "ExecuteTime": {
     "end_time": "2019-01-08T08:27:32.020679Z",
     "start_time": "2019-01-08T08:27:32.008193Z"
    }
   },
   "outputs": [],
   "source": [
    "def corrfunc(x, y, **kws):\n",
    "    r, p = sp.stats.pearsonr(x, y)\n",
    "    ax = plt.gca()\n",
    "    ax.annotate(f\"\\u03C1 = {r:.2f}\\np = {p:.2f}\", #unicode code for lowercase rho (ρ)\n",
    "                xy=(.1, .9), xycoords=ax.transAxes)"
   ]
  },
  {
   "cell_type": "markdown",
   "metadata": {},
   "source": [
    "# Load C14 models"
   ]
  },
  {
   "cell_type": "code",
   "execution_count": 6,
   "metadata": {
    "ExecuteTime": {
     "end_time": "2019-01-08T08:27:32.089437Z",
     "start_time": "2019-01-08T08:27:32.025398Z"
    }
   },
   "outputs": [],
   "source": [
    "import c14_models"
   ]
  },
  {
   "cell_type": "markdown",
   "metadata": {},
   "source": [
    "# Read patient data"
   ]
  },
  {
   "cell_type": "code",
   "execution_count": 22,
   "metadata": {
    "ExecuteTime": {
     "end_time": "2019-01-08T08:27:32.134659Z",
     "start_time": "2019-01-08T08:27:32.093650Z"
    }
   },
   "outputs": [],
   "source": [
    "exp_data = pd.read_pickle('../../results/C14data_liver_samples_2019-04-01.pkl')\n",
    "# exp_data['type'] = pd.Categorical(exp_data['type'])"
   ]
  },
  {
   "cell_type": "code",
   "execution_count": 23,
   "metadata": {
    "ExecuteTime": {
     "end_time": "2019-01-08T08:27:32.159933Z",
     "start_time": "2019-01-08T08:27:32.137807Z"
    }
   },
   "outputs": [
    {
     "data": {
      "text/html": [
       "<div>\n",
       "<style scoped>\n",
       "    .dataframe tbody tr th:only-of-type {\n",
       "        vertical-align: middle;\n",
       "    }\n",
       "\n",
       "    .dataframe tbody tr th {\n",
       "        vertical-align: top;\n",
       "    }\n",
       "\n",
       "    .dataframe thead th {\n",
       "        text-align: right;\n",
       "    }\n",
       "</style>\n",
       "<table border=\"1\" class=\"dataframe\">\n",
       "  <thead>\n",
       "    <tr style=\"text-align: right;\">\n",
       "      <th></th>\n",
       "      <th>type</th>\n",
       "      <th>code</th>\n",
       "      <th>sample</th>\n",
       "      <th>Dbirth</th>\n",
       "      <th>Dcoll</th>\n",
       "      <th>d14C</th>\n",
       "      <th>error_measurement</th>\n",
       "      <th>N_cells</th>\n",
       "      <th>pathology</th>\n",
       "      <th>subject_age</th>\n",
       "    </tr>\n",
       "  </thead>\n",
       "  <tbody>\n",
       "    <tr>\n",
       "      <th>0</th>\n",
       "      <td>unsorted</td>\n",
       "      <td>PH1</td>\n",
       "      <td>ND380</td>\n",
       "      <td>1942.833333</td>\n",
       "      <td>2016.416667</td>\n",
       "      <td>0.078416</td>\n",
       "      <td>0.003981</td>\n",
       "      <td>NaN</td>\n",
       "      <td>N</td>\n",
       "      <td>73.583333</td>\n",
       "    </tr>\n",
       "    <tr>\n",
       "      <th>1</th>\n",
       "      <td>unsorted</td>\n",
       "      <td>PH2</td>\n",
       "      <td>ND388</td>\n",
       "      <td>1991.416667</td>\n",
       "      <td>2016.833333</td>\n",
       "      <td>0.025254</td>\n",
       "      <td>0.003912</td>\n",
       "      <td>NaN</td>\n",
       "      <td>N</td>\n",
       "      <td>25.416667</td>\n",
       "    </tr>\n",
       "    <tr>\n",
       "      <th>2</th>\n",
       "      <td>hepatocyte</td>\n",
       "      <td>PH3</td>\n",
       "      <td>ND381</td>\n",
       "      <td>1985.166667</td>\n",
       "      <td>2016.416667</td>\n",
       "      <td>0.040336</td>\n",
       "      <td>0.008788</td>\n",
       "      <td>58.0</td>\n",
       "      <td>N</td>\n",
       "      <td>31.250000</td>\n",
       "    </tr>\n",
       "    <tr>\n",
       "      <th>3</th>\n",
       "      <td>hepatocyte</td>\n",
       "      <td>PH4</td>\n",
       "      <td>ND382</td>\n",
       "      <td>1982.083333</td>\n",
       "      <td>2016.500000</td>\n",
       "      <td>0.018815</td>\n",
       "      <td>0.005342</td>\n",
       "      <td>52.0</td>\n",
       "      <td>N</td>\n",
       "      <td>34.416667</td>\n",
       "    </tr>\n",
       "    <tr>\n",
       "      <th>4</th>\n",
       "      <td>hepatocyte</td>\n",
       "      <td>PH6</td>\n",
       "      <td>ND022</td>\n",
       "      <td>1946.500000</td>\n",
       "      <td>2004.833333</td>\n",
       "      <td>0.075001</td>\n",
       "      <td>0.004711</td>\n",
       "      <td>62.0</td>\n",
       "      <td>N</td>\n",
       "      <td>58.333333</td>\n",
       "    </tr>\n",
       "  </tbody>\n",
       "</table>\n",
       "</div>"
      ],
      "text/plain": [
       "         type code sample       Dbirth        Dcoll      d14C  \\\n",
       "0    unsorted  PH1  ND380  1942.833333  2016.416667  0.078416   \n",
       "1    unsorted  PH2  ND388  1991.416667  2016.833333  0.025254   \n",
       "2  hepatocyte  PH3  ND381  1985.166667  2016.416667  0.040336   \n",
       "3  hepatocyte  PH4  ND382  1982.083333  2016.500000  0.018815   \n",
       "4  hepatocyte  PH6  ND022  1946.500000  2004.833333  0.075001   \n",
       "\n",
       "   error_measurement  N_cells pathology  subject_age  \n",
       "0           0.003981      NaN         N    73.583333  \n",
       "1           0.003912      NaN         N    25.416667  \n",
       "2           0.008788     58.0         N    31.250000  \n",
       "3           0.005342     52.0         N    34.416667  \n",
       "4           0.004711     62.0         N    58.333333  "
      ]
     },
     "execution_count": 23,
     "metadata": {},
     "output_type": "execute_result"
    }
   ],
   "source": [
    "exp_data.head()"
   ]
  },
  {
   "cell_type": "code",
   "execution_count": 24,
   "metadata": {
    "ExecuteTime": {
     "end_time": "2019-01-08T08:27:32.193555Z",
     "start_time": "2019-01-08T08:27:32.162066Z"
    }
   },
   "outputs": [
    {
     "data": {
      "text/html": [
       "<div>\n",
       "<style scoped>\n",
       "    .dataframe tbody tr th:only-of-type {\n",
       "        vertical-align: middle;\n",
       "    }\n",
       "\n",
       "    .dataframe tbody tr th {\n",
       "        vertical-align: top;\n",
       "    }\n",
       "\n",
       "    .dataframe thead th {\n",
       "        text-align: right;\n",
       "    }\n",
       "</style>\n",
       "<table border=\"1\" class=\"dataframe\">\n",
       "  <thead>\n",
       "    <tr style=\"text-align: right;\">\n",
       "      <th></th>\n",
       "      <th>Dbirth</th>\n",
       "      <th>Dcoll</th>\n",
       "      <th>d14C</th>\n",
       "      <th>error_measurement</th>\n",
       "      <th>N_cells</th>\n",
       "      <th>subject_age</th>\n",
       "    </tr>\n",
       "  </thead>\n",
       "  <tbody>\n",
       "    <tr>\n",
       "      <th>count</th>\n",
       "      <td>91.000000</td>\n",
       "      <td>91.000000</td>\n",
       "      <td>91.000000</td>\n",
       "      <td>91.000000</td>\n",
       "      <td>59.000000</td>\n",
       "      <td>91.000000</td>\n",
       "    </tr>\n",
       "    <tr>\n",
       "      <th>mean</th>\n",
       "      <td>1962.462454</td>\n",
       "      <td>2016.432234</td>\n",
       "      <td>0.039776</td>\n",
       "      <td>0.007796</td>\n",
       "      <td>60.618644</td>\n",
       "      <td>53.969780</td>\n",
       "    </tr>\n",
       "    <tr>\n",
       "      <th>std</th>\n",
       "      <td>19.109566</td>\n",
       "      <td>2.790966</td>\n",
       "      <td>0.029439</td>\n",
       "      <td>0.003931</td>\n",
       "      <td>27.070365</td>\n",
       "      <td>18.966302</td>\n",
       "    </tr>\n",
       "    <tr>\n",
       "      <th>min</th>\n",
       "      <td>1932.583333</td>\n",
       "      <td>2004.833333</td>\n",
       "      <td>-0.064000</td>\n",
       "      <td>0.003912</td>\n",
       "      <td>12.000000</td>\n",
       "      <td>20.000000</td>\n",
       "    </tr>\n",
       "    <tr>\n",
       "      <th>25%</th>\n",
       "      <td>1946.750000</td>\n",
       "      <td>2016.666667</td>\n",
       "      <td>0.025650</td>\n",
       "      <td>0.004730</td>\n",
       "      <td>42.000000</td>\n",
       "      <td>37.666667</td>\n",
       "    </tr>\n",
       "    <tr>\n",
       "      <th>50%</th>\n",
       "      <td>1959.416667</td>\n",
       "      <td>2017.166667</td>\n",
       "      <td>0.037700</td>\n",
       "      <td>0.006850</td>\n",
       "      <td>59.000000</td>\n",
       "      <td>57.833333</td>\n",
       "    </tr>\n",
       "    <tr>\n",
       "      <th>75%</th>\n",
       "      <td>1979.250000</td>\n",
       "      <td>2017.416667</td>\n",
       "      <td>0.051650</td>\n",
       "      <td>0.009500</td>\n",
       "      <td>70.500000</td>\n",
       "      <td>68.375000</td>\n",
       "    </tr>\n",
       "    <tr>\n",
       "      <th>max</th>\n",
       "      <td>1997.333333</td>\n",
       "      <td>2019.750000</td>\n",
       "      <td>0.131107</td>\n",
       "      <td>0.021571</td>\n",
       "      <td>129.000000</td>\n",
       "      <td>84.666667</td>\n",
       "    </tr>\n",
       "  </tbody>\n",
       "</table>\n",
       "</div>"
      ],
      "text/plain": [
       "            Dbirth        Dcoll       d14C  error_measurement     N_cells  \\\n",
       "count    91.000000    91.000000  91.000000          91.000000   59.000000   \n",
       "mean   1962.462454  2016.432234   0.039776           0.007796   60.618644   \n",
       "std      19.109566     2.790966   0.029439           0.003931   27.070365   \n",
       "min    1932.583333  2004.833333  -0.064000           0.003912   12.000000   \n",
       "25%    1946.750000  2016.666667   0.025650           0.004730   42.000000   \n",
       "50%    1959.416667  2017.166667   0.037700           0.006850   59.000000   \n",
       "75%    1979.250000  2017.416667   0.051650           0.009500   70.500000   \n",
       "max    1997.333333  2019.750000   0.131107           0.021571  129.000000   \n",
       "\n",
       "       subject_age  \n",
       "count    91.000000  \n",
       "mean     53.969780  \n",
       "std      18.966302  \n",
       "min      20.000000  \n",
       "25%      37.666667  \n",
       "50%      57.833333  \n",
       "75%      68.375000  \n",
       "max      84.666667  "
      ]
     },
     "execution_count": 24,
     "metadata": {},
     "output_type": "execute_result"
    }
   ],
   "source": [
    "exp_data.describe()"
   ]
  },
  {
   "cell_type": "markdown",
   "metadata": {},
   "source": [
    "# Plot data "
   ]
  },
  {
   "cell_type": "code",
   "execution_count": 25,
   "metadata": {
    "ExecuteTime": {
     "end_time": "2019-01-08T08:27:35.019174Z",
     "start_time": "2019-01-08T08:27:33.025135Z"
    }
   },
   "outputs": [
    {
     "data": {
      "image/png": "[encoded data removed]",
      "text/plain": [
       "<Figure size 432x288 with 1 Axes>"
      ]
     },
     "metadata": {
      "needs_background": "light"
     },
     "output_type": "display_data"
    }
   ],
   "source": [
    "tt = np.linspace(1930, 2020)\n",
    "plt.plot(tt, np.vectorize(c14_models.C_atm)(tt))\n",
    "plt.plot(exp_data['Dbirth'], exp_data['d14C'], ls = 'None', marker = 's')\n",
    "plt.ylim(-0.05, 0.12)\n",
    "plt.show()"
   ]
  },
  {
   "cell_type": "markdown",
   "metadata": {},
   "source": [
    "# Individual rates"
   ]
  },
  {
   "cell_type": "code",
   "execution_count": 26,
   "metadata": {
    "ExecuteTime": {
     "end_time": "2019-01-08T08:27:35.047736Z",
     "start_time": "2019-01-08T08:27:35.038919Z"
    }
   },
   "outputs": [],
   "source": [
    "@np.vectorize\n",
    "def I1(Dbirth, Dcoll, loglam):\n",
    "    \"\"\" For very high turnover rates return the atmospheric C14 concentration\n",
    "        at the date of collection to avoid lengthy computations.\n",
    "    \"\"\"\n",
    "    if loglam <= 10:\n",
    "        lam = np.exp(loglam)\n",
    "        return c14_models.I1(Dbirth, Dcoll, lam, t_eval=np.linspace(Dbirth, Dcoll))[1][-1]\n",
    "    else:\n",
    "        return c14_models.C_atm(Dcoll)\n",
    "\n",
    "def diffI1(loglam, data):\n",
    "    model_data = I1(data['Dbirth'], \n",
    "                    data['Dcoll'], \n",
    "                    loglam)\n",
    "    diff = (model_data - data['d14C'])\n",
    "    return diff\n",
    "\n",
    "def SSE_individual(p, data):\n",
    "    model_data = I1(data['Dbirth'], \n",
    "                    data['Dcoll'], \n",
    "                    p)\n",
    "    sse = np.sum((model_data - data['d14C'])**2)\n",
    "    return sse    \n",
    "\n",
    "def plot_diffI1(loglammin, loglammax, data):\n",
    "    loglams = np.linspace(loglammin, loglammax)\n",
    "    diff = np.vectorize(diffI1, excluded=[1])(loglams, data)\n",
    "    plt.title(data['code'])\n",
    "    plt.plot(loglams, diff, label='Diff predicted to measured')\n",
    "    plt.plot([loglammin, loglammax], [0, 0], color='black')\n",
    "\n",
    "def individual_rate(i, loglam0=np.log(0.1)):\n",
    "    try:\n",
    "#         return np.exp(sp.optimize.brentq(diffI1, -8, 10, args=exp_data.iloc[i]))\n",
    "        return np.exp(sp.optimize.newton(diffI1, loglam0, args=([exp_data.iloc[i]])))\n",
    "    except:\n",
    "        return np.nan\n",
    "    \n",
    "def individual_rate_SSE(i, loglam0=np.log(0.1)):\n",
    "    r = np.exp(\n",
    "            sp.optimize.minimize(\n",
    "                SSE_individual, loglam0, args=(exp_data.iloc[i]), method='Nelder-Mead'\n",
    "            )['x'][0]\n",
    "        )\n",
    "    return r"
   ]
  },
  {
   "cell_type": "code",
   "execution_count": 27,
   "metadata": {
    "ExecuteTime": {
     "end_time": "2019-01-08T08:27:36.794761Z",
     "start_time": "2019-01-08T08:27:36.644830Z"
    }
   },
   "outputs": [
    {
     "name": "stderr",
     "output_type": "stream",
     "text": [
      "/home/fabrost/miniconda3/envs/spols190117/lib/python3.6/site-packages/scipy/optimize/zeros.py:323: RuntimeWarning: Tolerance of 2124.6062411483354 reached\n",
      "  warnings.warn(msg, RuntimeWarning)\n",
      "/home/fabrost/miniconda3/envs/spols190117/lib/python3.6/site-packages/scipy/optimize/zeros.py:323: RuntimeWarning: Tolerance of 196.45063889600507 reached\n",
      "  warnings.warn(msg, RuntimeWarning)\n",
      "/home/fabrost/miniconda3/envs/spols190117/lib/python3.6/site-packages/scipy/optimize/zeros.py:323: RuntimeWarning: Tolerance of 738.434157529013 reached\n",
      "  warnings.warn(msg, RuntimeWarning)\n",
      "/home/fabrost/miniconda3/envs/spols190117/lib/python3.6/site-packages/scipy/optimize/zeros.py:323: RuntimeWarning: Tolerance of 13463.539572607362 reached\n",
      "  warnings.warn(msg, RuntimeWarning)\n",
      "/home/fabrost/miniconda3/envs/spols190117/lib/python3.6/site-packages/scipy/optimize/zeros.py:323: RuntimeWarning: Tolerance of 1212.2669494129655 reached\n",
      "  warnings.warn(msg, RuntimeWarning)\n",
      "/home/fabrost/miniconda3/envs/spols190117/lib/python3.6/site-packages/scipy/optimize/zeros.py:323: RuntimeWarning: Tolerance of 226.5187811961412 reached\n",
      "  warnings.warn(msg, RuntimeWarning)\n",
      "/home/fabrost/miniconda3/envs/spols190117/lib/python3.6/site-packages/scipy/optimize/zeros.py:323: RuntimeWarning: Tolerance of 21998.55834852661 reached\n",
      "  warnings.warn(msg, RuntimeWarning)\n",
      "/home/fabrost/miniconda3/envs/spols190117/lib/python3.6/site-packages/scipy/optimize/zeros.py:323: RuntimeWarning: Tolerance of 110073.1364493403 reached\n",
      "  warnings.warn(msg, RuntimeWarning)\n",
      "/home/fabrost/miniconda3/envs/spols190117/lib/python3.6/site-packages/scipy/optimize/zeros.py:323: RuntimeWarning: Tolerance of 12897.613849576515 reached\n",
      "  warnings.warn(msg, RuntimeWarning)\n",
      "/home/fabrost/miniconda3/envs/spols190117/lib/python3.6/site-packages/scipy/optimize/zeros.py:323: RuntimeWarning: Tolerance of 17680.551442437074 reached\n",
      "  warnings.warn(msg, RuntimeWarning)\n"
     ]
    }
   ],
   "source": [
    "p=multiprocessing.Pool(processes=7)"
   ]
  },
  {
   "cell_type": "code",
   "execution_count": 28,
   "metadata": {
    "ExecuteTime": {
     "end_time": "2019-01-08T08:27:43.847575Z",
     "start_time": "2019-01-08T08:27:37.294894Z"
    }
   },
   "outputs": [],
   "source": [
    "exp_data['individual_rate_SSE'] = p.map(individual_rate_SSE, range(len(exp_data)))"
   ]
  },
  {
   "cell_type": "code",
   "execution_count": 29,
   "metadata": {
    "ExecuteTime": {
     "end_time": "2019-01-08T08:27:47.033353Z",
     "start_time": "2019-01-08T08:27:43.862325Z"
    }
   },
   "outputs": [],
   "source": [
    "exp_data['individual_rate_newton'] = p.map(individual_rate, range(len(exp_data)))"
   ]
  },
  {
   "cell_type": "code",
   "execution_count": 30,
   "metadata": {
    "ExecuteTime": {
     "end_time": "2019-01-08T08:27:47.280374Z",
     "start_time": "2019-01-08T08:27:47.037989Z"
    }
   },
   "outputs": [
    {
     "data": {
      "image/png": "[encoded data removed]",
      "text/plain": [
       "<Figure size 432x288 with 2 Axes>"
      ]
     },
     "metadata": {
      "needs_background": "light"
     },
     "output_type": "display_data"
    }
   ],
   "source": [
    "tt = np.linspace(1930, 2020)\n",
    "plt.plot(tt, np.vectorize(c14_models.C_atm)(tt))\n",
    "plt.scatter(exp_data['Dbirth'], exp_data['d14C'], marker='s', c=np.log(exp_data['individual_rate_SSE']))\n",
    "plt.colorbar()\n",
    "plt.ylim(-0.05, 0.15)\n",
    "plt.show()"
   ]
  },
  {
   "cell_type": "markdown",
   "metadata": {},
   "source": [
    "# Compare to graphical solution"
   ]
  },
  {
   "cell_type": "code",
   "execution_count": null,
   "metadata": {
    "ExecuteTime": {
     "end_time": "2019-01-08T08:27:47.320136Z",
     "start_time": "2019-01-08T08:27:47.282947Z"
    }
   },
   "outputs": [],
   "source": [
    "%%cache -d ipycache graphical.pkl\n",
    "fig, axs = plt.subplots(int(np.ceil(len(exp_data)/8)), 8, sharex=True, sharey=True, figsize=(8.3, 11.7))\n",
    "\n",
    "for ax in axs[-1]:\n",
    "    ax.set_xlabel(u'λ')\n",
    "for ax in axs[:,0]:\n",
    "    ax.set_ylabel(u'ΔC14')\n",
    "    \n",
    "axs = axs.flatten()\n",
    "loglammin, loglammax = -10, 5\n",
    "loglams = np.linspace(loglammin, loglammax)\n",
    "for (i, data), ax in zip(exp_data.iterrows(), axs):\n",
    "    diff = np.vectorize(diffI1, excluded=[1])(loglams, data)\n",
    "    ax.set_title(data['code'])\n",
    "    ax.plot(loglams, diff, label='Diff predicted to measured')\n",
    "    ax.axhline(0, color='black')\n",
    "    ax.axvline(np.log(data['individual_rate_SSE']), color='black')\n",
    "    \n",
    "ax.set_xlim(loglammin, loglammax)\n",
    "ax.set_ylim(-0.07, 0.07)\n",
    "plt.tight_layout()\n",
    "plt.savefig('../../results/plots/individual_rate_solution.pdf', dpi=300, bbox_inches='tight')\n",
    "plt.show()"
   ]
  },
  {
   "cell_type": "markdown",
   "metadata": {},
   "source": [
    "# Plot rates"
   ]
  },
  {
   "cell_type": "code",
   "execution_count": 34,
   "metadata": {
    "ExecuteTime": {
     "end_time": "2019-01-08T08:27:47.560402Z",
     "start_time": "2019-01-08T08:27:47.322699Z"
    }
   },
   "outputs": [
    {
     "data": {
      "image/png": "[encoded data removed]",
      "text/plain": [
       "<Figure size 360x360 with 1 Axes>"
      ]
     },
     "metadata": {
      "needs_background": "light"
     },
     "output_type": "display_data"
    }
   ],
   "source": [
    "ax = sns.catplot(data=exp_data, x='type', y='individual_rate_SSE', kind='box')\n",
    "ax.set_xticklabels(rotation=30)\n",
    "plt.show()"
   ]
  },
  {
   "cell_type": "code",
   "execution_count": 35,
   "metadata": {
    "ExecuteTime": {
     "end_time": "2019-01-08T08:27:47.818910Z",
     "start_time": "2019-01-08T08:27:47.564645Z"
    }
   },
   "outputs": [
    {
     "data": {
      "image/png": "[encoded data removed]",
      "text/plain": [
       "<Figure size 360x360 with 1 Axes>"
      ]
     },
     "metadata": {
      "needs_background": "light"
     },
     "output_type": "display_data"
    }
   ],
   "source": [
    "ax = sns.catplot(data=exp_data,  y='individual_rate_SSE', kind='box')\n",
    "plt.show()"
   ]
  },
  {
   "cell_type": "markdown",
   "metadata": {},
   "source": [
    "# Detect outliers based on IQR"
   ]
  },
  {
   "cell_type": "code",
   "execution_count": 36,
   "metadata": {
    "ExecuteTime": {
     "end_time": "2019-01-08T08:27:47.867269Z",
     "start_time": "2019-01-08T08:27:47.821018Z"
    }
   },
   "outputs": [],
   "source": [
    "# Computing IQR\n",
    "Q1 = exp_data['individual_rate_SSE'].quantile(0.25)\n",
    "Q3 = exp_data['individual_rate_SSE'].quantile(0.75)\n",
    "IQR = Q3 - Q1\n",
    "\n",
    "# Selecting Values between Q1-1.5IQR and Q3+1.5IQR\n",
    "exp_data['rate_is_not_outlier'] = exp_data.eval('(@Q1 - 1.5 * @IQR) <= individual_rate_SSE <= (@Q3 + 1.5 * @IQR)')"
   ]
  },
  {
   "cell_type": "code",
   "execution_count": 37,
   "metadata": {
    "ExecuteTime": {
     "end_time": "2019-01-08T08:27:48.079349Z",
     "start_time": "2019-01-08T08:27:47.869420Z"
    }
   },
   "outputs": [
    {
     "data": {
      "image/png": "[encoded data removed]",
      "text/plain": [
       "<Figure size 360x360 with 1 Axes>"
      ]
     },
     "metadata": {
      "needs_background": "light"
     },
     "output_type": "display_data"
    }
   ],
   "source": [
    "ax = sns.catplot(data=exp_data.query('rate_is_not_outlier'), x='type', y='individual_rate_SSE', kind='box')\n",
    "# sns.swarmplot(data=exp_data, x='type', y='individual_rate_SSE', color='black', size=2)\n",
    "ax.set_xticklabels(rotation=30)\n",
    "plt.show()"
   ]
  },
  {
   "cell_type": "markdown",
   "metadata": {},
   "source": [
    "# Sanity check of the results by comparing the two methods:"
   ]
  },
  {
   "cell_type": "code",
   "execution_count": 38,
   "metadata": {
    "ExecuteTime": {
     "end_time": "2019-01-08T08:28:01.185561Z",
     "start_time": "2019-01-08T08:28:01.148437Z"
    }
   },
   "outputs": [
    {
     "data": {
      "text/html": [
       "<div>\n",
       "<style scoped>\n",
       "    .dataframe tbody tr th:only-of-type {\n",
       "        vertical-align: middle;\n",
       "    }\n",
       "\n",
       "    .dataframe tbody tr th {\n",
       "        vertical-align: top;\n",
       "    }\n",
       "\n",
       "    .dataframe thead th {\n",
       "        text-align: right;\n",
       "    }\n",
       "</style>\n",
       "<table border=\"1\" class=\"dataframe\">\n",
       "  <thead>\n",
       "    <tr style=\"text-align: right;\">\n",
       "      <th></th>\n",
       "      <th>type</th>\n",
       "      <th>code</th>\n",
       "      <th>sample</th>\n",
       "      <th>Dbirth</th>\n",
       "      <th>Dcoll</th>\n",
       "      <th>d14C</th>\n",
       "      <th>error_measurement</th>\n",
       "      <th>N_cells</th>\n",
       "      <th>pathology</th>\n",
       "      <th>subject_age</th>\n",
       "      <th>individual_rate_SSE</th>\n",
       "      <th>individual_rate_newton</th>\n",
       "      <th>rate_is_not_outlier</th>\n",
       "    </tr>\n",
       "  </thead>\n",
       "  <tbody>\n",
       "  </tbody>\n",
       "</table>\n",
       "</div>"
      ],
      "text/plain": [
       "Empty DataFrame\n",
       "Columns: [type, code, sample, Dbirth, Dcoll, d14C, error_measurement, N_cells, pathology, subject_age, individual_rate_SSE, individual_rate_newton, rate_is_not_outlier]\n",
       "Index: []"
      ]
     },
     "execution_count": 38,
     "metadata": {},
     "output_type": "execute_result"
    }
   ],
   "source": [
    "exp_data.query('rate_is_not_outlier').query('(individual_rate_SSE - individual_rate_newton)**2 > (1e-3)**2')"
   ]
  },
  {
   "cell_type": "markdown",
   "metadata": {},
   "source": [
    "# Analysing results"
   ]
  },
  {
   "cell_type": "markdown",
   "metadata": {},
   "source": [
    "I use the values obtained with SSE"
   ]
  },
  {
   "cell_type": "code",
   "execution_count": 39,
   "metadata": {
    "ExecuteTime": {
     "end_time": "2019-01-08T08:28:03.384256Z",
     "start_time": "2019-01-08T08:28:03.366991Z"
    }
   },
   "outputs": [],
   "source": [
    "exp_data['cell_age'] = 1. / exp_data['individual_rate_SSE']"
   ]
  },
  {
   "cell_type": "code",
   "execution_count": 40,
   "metadata": {
    "ExecuteTime": {
     "end_time": "2019-01-08T08:28:03.839155Z",
     "start_time": "2019-01-08T08:28:03.797686Z"
    }
   },
   "outputs": [
    {
     "data": {
      "text/html": [
       "<div>\n",
       "<style scoped>\n",
       "    .dataframe tbody tr th:only-of-type {\n",
       "        vertical-align: middle;\n",
       "    }\n",
       "\n",
       "    .dataframe tbody tr th {\n",
       "        vertical-align: top;\n",
       "    }\n",
       "\n",
       "    .dataframe thead th {\n",
       "        text-align: right;\n",
       "    }\n",
       "</style>\n",
       "<table border=\"1\" class=\"dataframe\">\n",
       "  <thead>\n",
       "    <tr style=\"text-align: right;\">\n",
       "      <th></th>\n",
       "      <th>type</th>\n",
       "      <th>code</th>\n",
       "      <th>sample</th>\n",
       "      <th>Dbirth</th>\n",
       "      <th>Dcoll</th>\n",
       "      <th>d14C</th>\n",
       "      <th>error_measurement</th>\n",
       "      <th>N_cells</th>\n",
       "      <th>pathology</th>\n",
       "      <th>subject_age</th>\n",
       "      <th>individual_rate_SSE</th>\n",
       "      <th>individual_rate_newton</th>\n",
       "      <th>rate_is_not_outlier</th>\n",
       "      <th>cell_age</th>\n",
       "    </tr>\n",
       "  </thead>\n",
       "  <tbody>\n",
       "    <tr>\n",
       "      <th>0</th>\n",
       "      <td>unsorted</td>\n",
       "      <td>PH1</td>\n",
       "      <td>ND380</td>\n",
       "      <td>1942.833333</td>\n",
       "      <td>2016.416667</td>\n",
       "      <td>0.078416</td>\n",
       "      <td>0.003981</td>\n",
       "      <td>NaN</td>\n",
       "      <td>N</td>\n",
       "      <td>73.583333</td>\n",
       "      <td>0.087163</td>\n",
       "      <td>0.087162</td>\n",
       "      <td>True</td>\n",
       "      <td>11.472762</td>\n",
       "    </tr>\n",
       "    <tr>\n",
       "      <th>1</th>\n",
       "      <td>unsorted</td>\n",
       "      <td>PH2</td>\n",
       "      <td>ND388</td>\n",
       "      <td>1991.416667</td>\n",
       "      <td>2016.833333</td>\n",
       "      <td>0.025254</td>\n",
       "      <td>0.003912</td>\n",
       "      <td>NaN</td>\n",
       "      <td>N</td>\n",
       "      <td>25.416667</td>\n",
       "      <td>0.346924</td>\n",
       "      <td>0.346928</td>\n",
       "      <td>True</td>\n",
       "      <td>2.882476</td>\n",
       "    </tr>\n",
       "    <tr>\n",
       "      <th>2</th>\n",
       "      <td>hepatocyte</td>\n",
       "      <td>PH3</td>\n",
       "      <td>ND381</td>\n",
       "      <td>1985.166667</td>\n",
       "      <td>2016.416667</td>\n",
       "      <td>0.040336</td>\n",
       "      <td>0.008788</td>\n",
       "      <td>58.0</td>\n",
       "      <td>N</td>\n",
       "      <td>31.250000</td>\n",
       "      <td>0.183350</td>\n",
       "      <td>0.183351</td>\n",
       "      <td>True</td>\n",
       "      <td>5.454045</td>\n",
       "    </tr>\n",
       "    <tr>\n",
       "      <th>3</th>\n",
       "      <td>hepatocyte</td>\n",
       "      <td>PH4</td>\n",
       "      <td>ND382</td>\n",
       "      <td>1982.083333</td>\n",
       "      <td>2016.500000</td>\n",
       "      <td>0.018815</td>\n",
       "      <td>0.005342</td>\n",
       "      <td>52.0</td>\n",
       "      <td>N</td>\n",
       "      <td>34.416667</td>\n",
       "      <td>0.730587</td>\n",
       "      <td>0.730608</td>\n",
       "      <td>False</td>\n",
       "      <td>1.368763</td>\n",
       "    </tr>\n",
       "    <tr>\n",
       "      <th>4</th>\n",
       "      <td>hepatocyte</td>\n",
       "      <td>PH6</td>\n",
       "      <td>ND022</td>\n",
       "      <td>1946.500000</td>\n",
       "      <td>2004.833333</td>\n",
       "      <td>0.075001</td>\n",
       "      <td>0.004711</td>\n",
       "      <td>62.0</td>\n",
       "      <td>N</td>\n",
       "      <td>58.333333</td>\n",
       "      <td>0.707508</td>\n",
       "      <td>0.707507</td>\n",
       "      <td>False</td>\n",
       "      <td>1.413411</td>\n",
       "    </tr>\n",
       "  </tbody>\n",
       "</table>\n",
       "</div>"
      ],
      "text/plain": [
       "         type code sample       Dbirth        Dcoll      d14C  \\\n",
       "0    unsorted  PH1  ND380  1942.833333  2016.416667  0.078416   \n",
       "1    unsorted  PH2  ND388  1991.416667  2016.833333  0.025254   \n",
       "2  hepatocyte  PH3  ND381  1985.166667  2016.416667  0.040336   \n",
       "3  hepatocyte  PH4  ND382  1982.083333  2016.500000  0.018815   \n",
       "4  hepatocyte  PH6  ND022  1946.500000  2004.833333  0.075001   \n",
       "\n",
       "   error_measurement  N_cells pathology  subject_age  individual_rate_SSE  \\\n",
       "0           0.003981      NaN         N    73.583333             0.087163   \n",
       "1           0.003912      NaN         N    25.416667             0.346924   \n",
       "2           0.008788     58.0         N    31.250000             0.183350   \n",
       "3           0.005342     52.0         N    34.416667             0.730587   \n",
       "4           0.004711     62.0         N    58.333333             0.707508   \n",
       "\n",
       "   individual_rate_newton  rate_is_not_outlier   cell_age  \n",
       "0                0.087162                 True  11.472762  \n",
       "1                0.346928                 True   2.882476  \n",
       "2                0.183351                 True   5.454045  \n",
       "3                0.730608                False   1.368763  \n",
       "4                0.707507                False   1.413411  "
      ]
     },
     "execution_count": 40,
     "metadata": {},
     "output_type": "execute_result"
    }
   ],
   "source": [
    "exp_data.head()"
   ]
  },
  {
   "cell_type": "code",
   "execution_count": 41,
   "metadata": {
    "ExecuteTime": {
     "end_time": "2019-01-08T08:28:05.725094Z",
     "start_time": "2019-01-08T08:28:04.610446Z"
    }
   },
   "outputs": [
    {
     "data": {
      "image/png": "[encoded data removed]",
      "text/plain": [
       "<Figure size 666.975x360 with 6 Axes>"
      ]
     },
     "metadata": {
      "needs_background": "light"
     },
     "output_type": "display_data"
    }
   ],
   "source": [
    "sns.pairplot(exp_data.query('rate_is_not_outlier'),\n",
    "            x_vars = ['subject_age', 'Dbirth', 'Dcoll'],\n",
    "            y_vars = ['cell_age', 'individual_rate_SSE'],\n",
    "            hue = 'type')\n",
    "plt.show()"
   ]
  },
  {
   "cell_type": "markdown",
   "metadata": {},
   "source": [
    "# Plot for Olaf"
   ]
  },
  {
   "cell_type": "markdown",
   "metadata": {},
   "source": [
    "## Rate"
   ]
  },
  {
   "cell_type": "code",
   "execution_count": null,
   "metadata": {
    "ExecuteTime": {
     "end_time": "2019-01-08T08:28:05.894686Z",
     "start_time": "2019-01-08T08:28:05.864909Z"
    }
   },
   "outputs": [],
   "source": [
    "plot_data = exp_data.query('rate_is_not_outlier').query('type in [\"hepatocyte\", \"non-hepatocyte\", \"unsorted\"]')"
   ]
  },
  {
   "cell_type": "code",
   "execution_count": null,
   "metadata": {
    "ExecuteTime": {
     "end_time": "2019-01-08T08:32:21.168951Z",
     "start_time": "2019-01-08T08:32:21.162908Z"
    }
   },
   "outputs": [],
   "source": [
    "plot_data['type'].cat.remove_unused_categories(inplace=True)"
   ]
  },
  {
   "cell_type": "code",
   "execution_count": null,
   "metadata": {
    "ExecuteTime": {
     "end_time": "2019-01-08T08:32:23.105921Z",
     "start_time": "2019-01-08T08:32:23.099408Z"
    }
   },
   "outputs": [],
   "source": [
    "sns.set_context('paper')"
   ]
  },
  {
   "cell_type": "code",
   "execution_count": null,
   "metadata": {
    "ExecuteTime": {
     "end_time": "2019-01-08T08:32:24.530101Z",
     "start_time": "2019-01-08T08:32:23.433597Z"
    }
   },
   "outputs": [],
   "source": [
    "ax = sns.lmplot(x='subject_age', y='individual_rate_SSE', col='type', data=plot_data,\n",
    "                col_order=['hepatocyte', 'non-hepatocyte', 'unsorted'])\n",
    "ax.set_axis_labels(x_var='age of person', y_var='turnover rate (per year)')\n",
    "plt.savefig('../../results/plots/individual_rate_age.pdf', dpi=300, bbox_inches='tight')\n",
    "plt.show()"
   ]
  },
  {
   "cell_type": "markdown",
   "metadata": {},
   "source": [
    "No significant correlation in the above data:"
   ]
  },
  {
   "cell_type": "code",
   "execution_count": null,
   "metadata": {
    "ExecuteTime": {
     "end_time": "2019-01-08T08:32:30.591451Z",
     "start_time": "2019-01-08T08:32:30.565352Z"
    }
   },
   "outputs": [],
   "source": [
    "plot_data.groupby('type').apply(lambda g: pd.Series({key: value for key, value in zip(['r', 'p'],\n",
    "    sp.stats.pearsonr(g['subject_age'], g['individual_rate_SSE']))}))"
   ]
  },
  {
   "cell_type": "code",
   "execution_count": null,
   "metadata": {
    "ExecuteTime": {
     "end_time": "2019-01-08T08:32:32.394435Z",
     "start_time": "2019-01-08T08:32:32.345872Z"
    }
   },
   "outputs": [],
   "source": [
    "plot_data.groupby('type').apply(lambda g: smf.ols('individual_rate_SSE ~ subject_age', data=g).fit().params)"
   ]
  },
  {
   "cell_type": "markdown",
   "metadata": {},
   "source": [
    "## Cell Age"
   ]
  },
  {
   "cell_type": "code",
   "execution_count": null,
   "metadata": {
    "ExecuteTime": {
     "end_time": "2019-01-08T08:32:54.307680Z",
     "start_time": "2019-01-08T08:32:53.258430Z"
    }
   },
   "outputs": [],
   "source": [
    "ax = sns.lmplot(x='subject_age', y='cell_age', col='type', data=plot_data,\n",
    "               col_order=['hepatocyte', 'non-hepatocyte', 'unsorted'])\n",
    "ax.set_axis_labels(x_var='age of person', y_var='average cell age (years)')\n",
    "plt.savefig('../../results/plots/individual_rate_age.pdf', dpi=300, bbox_inches='tight')\n",
    "plt.show()"
   ]
  },
  {
   "cell_type": "markdown",
   "metadata": {},
   "source": [
    "No significant correlation in the above data:"
   ]
  },
  {
   "cell_type": "code",
   "execution_count": null,
   "metadata": {
    "ExecuteTime": {
     "end_time": "2018-12-11T13:58:19.614528Z",
     "start_time": "2018-12-11T13:58:19.601240Z"
    }
   },
   "outputs": [],
   "source": [
    "plot_data.groupby('type').apply(lambda g: pd.Series({key: value for key, value in zip(['r', 'p'],\n",
    "    sp.stats.pearsonr(g['subject_age'], g['cell_age']))}))"
   ]
  },
  {
   "cell_type": "code",
   "execution_count": null,
   "metadata": {
    "ExecuteTime": {
     "end_time": "2018-12-11T13:58:19.648240Z",
     "start_time": "2018-12-11T13:58:19.616466Z"
    }
   },
   "outputs": [],
   "source": [
    "plot_data.groupby('type').apply(lambda g: smf.ols('cell_age ~ subject_age', data=g).fit().params)"
   ]
  },
  {
   "cell_type": "markdown",
   "metadata": {},
   "source": [
    "# Export"
   ]
  },
  {
   "cell_type": "code",
   "execution_count": 43,
   "metadata": {
    "ExecuteTime": {
     "end_time": "2018-12-11T13:58:19.652340Z",
     "start_time": "2018-12-11T13:58:19.650158Z"
    }
   },
   "outputs": [],
   "source": [
    "exp_data.to_excel('../../results/cell_age.xlsx')"
   ]
  },
  {
   "cell_type": "code",
   "execution_count": 48,
   "metadata": {},
   "outputs": [
    {
     "data": {
      "text/plain": [
       "Dbirth                    1964.706897\n",
       "Dcoll                     2016.396552\n",
       "d14C                         0.042305\n",
       "error_measurement            0.007209\n",
       "N_cells                     73.862069\n",
       "subject_age                 51.689655\n",
       "individual_rate_SSE          0.220825\n",
       "individual_rate_newton       0.219243\n",
       "rate_is_not_outlier          1.000000\n",
       "cell_age                     5.575678\n",
       "dtype: float64"
      ]
     },
     "execution_count": 48,
     "metadata": {},
     "output_type": "execute_result"
    }
   ],
   "source": [
    "exp_data.query('rate_is_not_outlier and (type == \"hepatocyte\")').mean()"
   ]
  },
  {
   "cell_type": "code",
   "execution_count": null,
   "metadata": {},
   "outputs": [],
   "source": []
  }
 ],
 "metadata": {
  "anaconda-cloud": {},
  "kernelspec": {
   "display_name": "Python 3",
   "language": "python",
   "name": "python3"
  },
  "language_info": {
   "codemirror_mode": {
    "name": "ipython",
    "version": 3
   },
   "file_extension": ".py",
   "mimetype": "text/x-python",
   "name": "python",
   "nbconvert_exporter": "python",
   "pygments_lexer": "ipython3",
   "version": "3.6.8"
  },
  "notify_time": "30",
  "toc": {
   "nav_menu": {
    "height": "251px",
    "width": "252px"
   },
   "number_sections": true,
   "sideBar": true,
   "skip_h1_title": false,
   "title_cell": "Table of Contents",
   "title_sidebar": "Contents",
   "toc_cell": false,
   "toc_position": {
    "height": "913px",
    "left": "0px",
    "right": "1708px",
    "top": "111px",
    "width": "212px"
   },
   "toc_section_display": "block",
   "toc_window_display": true
  }
 },
 "nbformat": 4,
 "nbformat_minor": 2
}
