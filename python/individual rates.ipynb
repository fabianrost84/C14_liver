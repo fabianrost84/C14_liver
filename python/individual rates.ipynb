{
 "cells": [
  {
   "cell_type": "markdown",
   "metadata": {},
   "source": [
    "# Preparation"
   ]
  },
  {
   "cell_type": "code",
   "execution_count": 1,
   "metadata": {
    "ExecuteTime": {
     "end_time": "2018-09-04T13:01:16.267834Z",
     "start_time": "2018-09-04T13:01:14.178587Z"
    }
   },
   "outputs": [],
   "source": [
    "import iminuit\n",
    "%load_ext line_profiler\n",
    "import matplotlib.pyplot as plt\n",
    "%matplotlib inline\n",
    "import numba\n",
    "import numpy as np\n",
    "import pandas as pd\n",
    "import scipy as sp\n",
    "from scipy import optimize\n",
    "import seaborn as sns\n",
    "\n",
    "sns.set_style('darkgrid')\n",
    "sns.set_context('notebook')"
   ]
  },
  {
   "cell_type": "code",
   "execution_count": 2,
   "metadata": {
    "ExecuteTime": {
     "end_time": "2018-09-04T13:01:16.283921Z",
     "start_time": "2018-09-04T13:01:16.274565Z"
    }
   },
   "outputs": [],
   "source": [
    "results = pd.DataFrame()"
   ]
  },
  {
   "cell_type": "code",
   "execution_count": 37,
   "metadata": {
    "ExecuteTime": {
     "end_time": "2018-09-04T13:07:22.281756Z",
     "start_time": "2018-09-04T13:07:22.274893Z"
    }
   },
   "outputs": [],
   "source": [
    "def corrfunc(x, y, **kws):\n",
    "    r, p = sp.stats.pearsonr(x, y)\n",
    "    ax = plt.gca()\n",
    "    ax.annotate(f\"\\u03C1 = {r:.2f}\\np = {p:.2f}\", #unicode code for lowercase rho (ρ)\n",
    "                xy=(.1, .9), xycoords=ax.transAxes)"
   ]
  },
  {
   "cell_type": "markdown",
   "metadata": {},
   "source": [
    "# Load C14 models"
   ]
  },
  {
   "cell_type": "code",
   "execution_count": 5,
   "metadata": {
    "ExecuteTime": {
     "end_time": "2018-09-04T13:01:16.486359Z",
     "start_time": "2018-09-04T13:01:16.312749Z"
    }
   },
   "outputs": [],
   "source": [
    "import c14_models"
   ]
  },
  {
   "cell_type": "markdown",
   "metadata": {},
   "source": [
    "# Read patient data"
   ]
  },
  {
   "cell_type": "code",
   "execution_count": 6,
   "metadata": {
    "ExecuteTime": {
     "end_time": "2018-09-04T13:01:16.495521Z",
     "start_time": "2018-09-04T13:01:16.489051Z"
    }
   },
   "outputs": [],
   "source": [
    "exp_data = pd.read_pickle('../../data/C14data_liver_samples_20180505.pkl')"
   ]
  },
  {
   "cell_type": "code",
   "execution_count": 7,
   "metadata": {
    "ExecuteTime": {
     "end_time": "2018-09-04T13:01:16.521728Z",
     "start_time": "2018-09-04T13:01:16.497711Z"
    }
   },
   "outputs": [
    {
     "data": {
      "text/html": [
       "<div>\n",
       "<style scoped>\n",
       "    .dataframe tbody tr th:only-of-type {\n",
       "        vertical-align: middle;\n",
       "    }\n",
       "\n",
       "    .dataframe tbody tr th {\n",
       "        vertical-align: top;\n",
       "    }\n",
       "\n",
       "    .dataframe thead th {\n",
       "        text-align: right;\n",
       "    }\n",
       "</style>\n",
       "<table border=\"1\" class=\"dataframe\">\n",
       "  <thead>\n",
       "    <tr style=\"text-align: right;\">\n",
       "      <th></th>\n",
       "      <th>type</th>\n",
       "      <th>code</th>\n",
       "      <th>sample</th>\n",
       "      <th>Dbirth</th>\n",
       "      <th>Dcoll</th>\n",
       "      <th>d14C</th>\n",
       "      <th>pathology</th>\n",
       "      <th>subject_age</th>\n",
       "      <th>valid</th>\n",
       "    </tr>\n",
       "  </thead>\n",
       "  <tbody>\n",
       "    <tr>\n",
       "      <th>0</th>\n",
       "      <td>unsorted</td>\n",
       "      <td>PH1</td>\n",
       "      <td>ND380</td>\n",
       "      <td>1942.833333</td>\n",
       "      <td>2016.416667</td>\n",
       "      <td>0.078416</td>\n",
       "      <td>N</td>\n",
       "      <td>73.583333</td>\n",
       "      <td>True</td>\n",
       "    </tr>\n",
       "    <tr>\n",
       "      <th>1</th>\n",
       "      <td>unsorted</td>\n",
       "      <td>PH2</td>\n",
       "      <td>ND388</td>\n",
       "      <td>1991.416667</td>\n",
       "      <td>2016.833333</td>\n",
       "      <td>0.025254</td>\n",
       "      <td>N</td>\n",
       "      <td>25.416667</td>\n",
       "      <td>True</td>\n",
       "    </tr>\n",
       "    <tr>\n",
       "      <th>2</th>\n",
       "      <td>hepatocyte</td>\n",
       "      <td>PH3</td>\n",
       "      <td>ND381</td>\n",
       "      <td>1985.166667</td>\n",
       "      <td>2016.416667</td>\n",
       "      <td>0.040336</td>\n",
       "      <td>N</td>\n",
       "      <td>31.250000</td>\n",
       "      <td>True</td>\n",
       "    </tr>\n",
       "    <tr>\n",
       "      <th>3</th>\n",
       "      <td>hepatocyte</td>\n",
       "      <td>PH4</td>\n",
       "      <td>ND382</td>\n",
       "      <td>1982.083333</td>\n",
       "      <td>2016.500000</td>\n",
       "      <td>0.018815</td>\n",
       "      <td>N</td>\n",
       "      <td>34.416667</td>\n",
       "      <td>True</td>\n",
       "    </tr>\n",
       "    <tr>\n",
       "      <th>4</th>\n",
       "      <td>hepatocyte</td>\n",
       "      <td>PH6</td>\n",
       "      <td>ND022</td>\n",
       "      <td>1946.500000</td>\n",
       "      <td>2004.833333</td>\n",
       "      <td>0.075001</td>\n",
       "      <td>N</td>\n",
       "      <td>58.333333</td>\n",
       "      <td>True</td>\n",
       "    </tr>\n",
       "  </tbody>\n",
       "</table>\n",
       "</div>"
      ],
      "text/plain": [
       "         type code sample       Dbirth        Dcoll      d14C pathology  \\\n",
       "0    unsorted  PH1  ND380  1942.833333  2016.416667  0.078416         N   \n",
       "1    unsorted  PH2  ND388  1991.416667  2016.833333  0.025254         N   \n",
       "2  hepatocyte  PH3  ND381  1985.166667  2016.416667  0.040336         N   \n",
       "3  hepatocyte  PH4  ND382  1982.083333  2016.500000  0.018815         N   \n",
       "4  hepatocyte  PH6  ND022  1946.500000  2004.833333  0.075001         N   \n",
       "\n",
       "   subject_age  valid  \n",
       "0    73.583333   True  \n",
       "1    25.416667   True  \n",
       "2    31.250000   True  \n",
       "3    34.416667   True  \n",
       "4    58.333333   True  "
      ]
     },
     "execution_count": 7,
     "metadata": {},
     "output_type": "execute_result"
    }
   ],
   "source": [
    "exp_data.head()"
   ]
  },
  {
   "cell_type": "code",
   "execution_count": 8,
   "metadata": {
    "ExecuteTime": {
     "end_time": "2018-09-04T13:01:16.550678Z",
     "start_time": "2018-09-04T13:01:16.524033Z"
    }
   },
   "outputs": [
    {
     "data": {
      "text/html": [
       "<div>\n",
       "<style scoped>\n",
       "    .dataframe tbody tr th:only-of-type {\n",
       "        vertical-align: middle;\n",
       "    }\n",
       "\n",
       "    .dataframe tbody tr th {\n",
       "        vertical-align: top;\n",
       "    }\n",
       "\n",
       "    .dataframe thead th {\n",
       "        text-align: right;\n",
       "    }\n",
       "</style>\n",
       "<table border=\"1\" class=\"dataframe\">\n",
       "  <thead>\n",
       "    <tr style=\"text-align: right;\">\n",
       "      <th></th>\n",
       "      <th>Dbirth</th>\n",
       "      <th>Dcoll</th>\n",
       "      <th>d14C</th>\n",
       "      <th>subject_age</th>\n",
       "    </tr>\n",
       "  </thead>\n",
       "  <tbody>\n",
       "    <tr>\n",
       "      <th>count</th>\n",
       "      <td>82.000000</td>\n",
       "      <td>82.000000</td>\n",
       "      <td>82.000000</td>\n",
       "      <td>82.000000</td>\n",
       "    </tr>\n",
       "    <tr>\n",
       "      <th>mean</th>\n",
       "      <td>1962.111789</td>\n",
       "      <td>2016.372967</td>\n",
       "      <td>0.043597</td>\n",
       "      <td>54.261179</td>\n",
       "    </tr>\n",
       "    <tr>\n",
       "      <th>std</th>\n",
       "      <td>19.893226</td>\n",
       "      <td>2.980165</td>\n",
       "      <td>0.024579</td>\n",
       "      <td>19.566788</td>\n",
       "    </tr>\n",
       "    <tr>\n",
       "      <th>min</th>\n",
       "      <td>1932.583333</td>\n",
       "      <td>2004.833333</td>\n",
       "      <td>0.005100</td>\n",
       "      <td>20.000000</td>\n",
       "    </tr>\n",
       "    <tr>\n",
       "      <th>25%</th>\n",
       "      <td>1946.500000</td>\n",
       "      <td>2016.750000</td>\n",
       "      <td>0.026391</td>\n",
       "      <td>37.500000</td>\n",
       "    </tr>\n",
       "    <tr>\n",
       "      <th>50%</th>\n",
       "      <td>1958.750000</td>\n",
       "      <td>2017.166667</td>\n",
       "      <td>0.040768</td>\n",
       "      <td>58.250000</td>\n",
       "    </tr>\n",
       "    <tr>\n",
       "      <th>75%</th>\n",
       "      <td>1979.833333</td>\n",
       "      <td>2017.416667</td>\n",
       "      <td>0.051775</td>\n",
       "      <td>67.062500</td>\n",
       "    </tr>\n",
       "    <tr>\n",
       "      <th>max</th>\n",
       "      <td>1997.333333</td>\n",
       "      <td>2017.583333</td>\n",
       "      <td>0.135400</td>\n",
       "      <td>84.666667</td>\n",
       "    </tr>\n",
       "  </tbody>\n",
       "</table>\n",
       "</div>"
      ],
      "text/plain": [
       "            Dbirth        Dcoll       d14C  subject_age\n",
       "count    82.000000    82.000000  82.000000    82.000000\n",
       "mean   1962.111789  2016.372967   0.043597    54.261179\n",
       "std      19.893226     2.980165   0.024579    19.566788\n",
       "min    1932.583333  2004.833333   0.005100    20.000000\n",
       "25%    1946.500000  2016.750000   0.026391    37.500000\n",
       "50%    1958.750000  2017.166667   0.040768    58.250000\n",
       "75%    1979.833333  2017.416667   0.051775    67.062500\n",
       "max    1997.333333  2017.583333   0.135400    84.666667"
      ]
     },
     "execution_count": 8,
     "metadata": {},
     "output_type": "execute_result"
    }
   ],
   "source": [
    "exp_data.describe()"
   ]
  },
  {
   "cell_type": "markdown",
   "metadata": {},
   "source": [
    "# Plot data "
   ]
  },
  {
   "cell_type": "code",
   "execution_count": 9,
   "metadata": {
    "ExecuteTime": {
     "end_time": "2018-09-04T13:01:18.038737Z",
     "start_time": "2018-09-04T13:01:16.552705Z"
    }
   },
   "outputs": [
    {
     "data": {
      "image/png": "[encoded data removed]",
      "text/plain": [
       "<Figure size 432x288 with 1 Axes>"
      ]
     },
     "metadata": {},
     "output_type": "display_data"
    }
   ],
   "source": [
    "tt = np.linspace(1930, 2020)\n",
    "plt.plot(tt, np.vectorize(c14_models.C_atm)(tt))\n",
    "plt.plot(exp_data['Dbirth'], exp_data['d14C'], ls = 'None', marker = 's')\n",
    "plt.ylim(-0.05, 0.12)\n",
    "plt.show()"
   ]
  },
  {
   "cell_type": "markdown",
   "metadata": {},
   "source": [
    "# Individual rates"
   ]
  },
  {
   "cell_type": "code",
   "execution_count": 10,
   "metadata": {
    "ExecuteTime": {
     "end_time": "2018-09-04T13:01:18.060230Z",
     "start_time": "2018-09-04T13:01:18.042902Z"
    }
   },
   "outputs": [],
   "source": [
    "# @np.vectorize\n",
    "# def I1(Dbirth, Dcoll, loglam):\n",
    "#     if loglam <= 10:\n",
    "#         lam = np.exp(loglam)\n",
    "#         return c14_models.I1(Dbirth, Dcoll, lam, t_eval=np.linspace(Dbirth, Dcoll))[1][-1]\n",
    "#     else:\n",
    "#         return c14_models.C_atm(Dcoll)\n",
    "    \n",
    "@np.vectorize\n",
    "def I1(Dbirth, Dcoll, loglam):\n",
    "    if loglam <= 10:\n",
    "        lam = np.exp(loglam)\n",
    "        return c14_models.C_scenario_A(Dbirth, Dcoll, lam)\n",
    "    else:\n",
    "        return c14_models.C_atm(Dcoll)\n",
    "\n",
    "def diffI1(loglam, data):\n",
    "    model_data = I1(data['Dbirth'], \n",
    "                    data['Dcoll'], \n",
    "                    loglam)\n",
    "    diff = (model_data - data['d14C'])\n",
    "    return diff\n",
    "\n",
    "def SSE_individual(p, data):\n",
    "    model_data = I1(data['Dbirth'], \n",
    "                    data['Dcoll'], \n",
    "                    p)\n",
    "    sse = np.sum((model_data - data['d14C'])**2)\n",
    "    return sse    \n",
    "\n",
    "def plot_diffI1(loglammin, loglammax, data):\n",
    "    loglams = np.linspace(loglammin, loglammax)\n",
    "    diff = np.vectorize(diffI1, excluded=[1])(loglams, data)\n",
    "\n",
    "    plt.plot(loglams, diff)\n",
    "    plt.plot([loglammin, loglammax], [0, 0])\n",
    "\n",
    "def individual_rate(i, loglam0=np.log(0.1)):\n",
    "    try:\n",
    "#         return np.exp(sp.optimize.brentq(diffI1, -8, 10, args=exp_data.iloc[i]))\n",
    "        return np.exp(sp.optimize.newton(diffI1, loglam0, args=([exp_data.iloc[i]])))\n",
    "    except:\n",
    "        return np.nan\n",
    "    \n",
    "def individual_rate_SSE(i):\n",
    "    r = np.exp(\n",
    "            sp.optimize.minimize(\n",
    "                SSE_individual, np.log(1/10), args=(exp_data.iloc[i]), method='Nelder-Mead'\n",
    "            )['x'][0]\n",
    "        )\n",
    "    return r"
   ]
  },
  {
   "cell_type": "markdown",
   "metadata": {},
   "source": [
    "## Calculate rates"
   ]
  },
  {
   "cell_type": "code",
   "execution_count": 11,
   "metadata": {
    "ExecuteTime": {
     "end_time": "2018-09-04T13:01:40.584312Z",
     "start_time": "2018-09-04T13:01:18.063966Z"
    }
   },
   "outputs": [],
   "source": [
    "exp_data['individual_rate'] = [individual_rate_SSE(i) for i in range(len(exp_data))]"
   ]
  },
  {
   "cell_type": "code",
   "execution_count": 12,
   "metadata": {
    "ExecuteTime": {
     "end_time": "2018-09-04T13:01:43.727659Z",
     "start_time": "2018-09-04T13:01:40.586935Z"
    }
   },
   "outputs": [
    {
     "name": "stderr",
     "output_type": "stream",
     "text": [
      "/home/fabrost/miniconda3/envs/spols180816d/lib/python3.6/site-packages/scipy/optimize/zeros.py:195: RuntimeWarning: Tolerance of 1261.4446131586174 reached\n",
      "  warnings.warn(msg, RuntimeWarning)\n",
      "/home/fabrost/miniconda3/envs/spols180816d/lib/python3.6/site-packages/scipy/optimize/zeros.py:195: RuntimeWarning: Tolerance of 241.00408511880505 reached\n",
      "  warnings.warn(msg, RuntimeWarning)\n",
      "/home/fabrost/miniconda3/envs/spols180816d/lib/python3.6/site-packages/scipy/optimize/zeros.py:195: RuntimeWarning: Tolerance of 15956.333666239048 reached\n",
      "  warnings.warn(msg, RuntimeWarning)\n"
     ]
    }
   ],
   "source": [
    "exp_data['individual_rate2'] = [individual_rate(i) for i in range(len(exp_data))]"
   ]
  },
  {
   "cell_type": "code",
   "execution_count": 13,
   "metadata": {
    "ExecuteTime": {
     "end_time": "2018-09-04T13:01:44.001496Z",
     "start_time": "2018-09-04T13:01:43.730795Z"
    }
   },
   "outputs": [
    {
     "data": {
      "image/png": "[encoded data removed]",
      "text/plain": [
       "<Figure size 432x288 with 2 Axes>"
      ]
     },
     "metadata": {},
     "output_type": "display_data"
    }
   ],
   "source": [
    "tt = np.linspace(1930, 2020)\n",
    "plt.plot(tt, np.vectorize(c14_models.C_atm)(tt))\n",
    "plt.scatter(exp_data['Dbirth'], exp_data['d14C'], marker='s', c=np.log(exp_data['individual_rate']))\n",
    "plt.colorbar()\n",
    "plt.ylim(-0.05, 0.15)\n",
    "plt.show()"
   ]
  },
  {
   "cell_type": "markdown",
   "metadata": {},
   "source": [
    "## Compare to graphical solution"
   ]
  },
  {
   "cell_type": "code",
   "execution_count": 14,
   "metadata": {
    "ExecuteTime": {
     "end_time": "2018-09-04T13:03:58.976924Z",
     "start_time": "2018-09-04T13:01:44.003365Z"
    },
    "deletable": false,
    "editable": false,
    "run_control": {
     "frozen": true
    }
   },
   "outputs": [],
   "source": [
    "for i, data in exp_data.iterrows():\n",
    "    plt.figure()\n",
    "    plot_diffI1(-15, 10, data)\n",
    "    plt.plot(2*[np.log(data['individual_rate'])], plt.ylim())\n",
    "    plt.xlabel('lambda')\n",
    "    plt.ylabel('C14 difference')\n",
    "    plt.tight_layout()\n",
    "    plt.savefig('../../results/plots/individual_rate/{}.png'.format(i))\n",
    "    plt.close()"
   ]
  },
  {
   "cell_type": "markdown",
   "metadata": {},
   "source": [
    "## Checking the results:"
   ]
  },
  {
   "cell_type": "markdown",
   "metadata": {},
   "source": [
    "### No nas for SSE:"
   ]
  },
  {
   "cell_type": "code",
   "execution_count": 15,
   "metadata": {
    "ExecuteTime": {
     "end_time": "2018-09-04T13:03:59.003968Z",
     "start_time": "2018-09-04T13:03:58.979743Z"
    }
   },
   "outputs": [
    {
     "data": {
      "text/html": [
       "<div>\n",
       "<style scoped>\n",
       "    .dataframe tbody tr th:only-of-type {\n",
       "        vertical-align: middle;\n",
       "    }\n",
       "\n",
       "    .dataframe tbody tr th {\n",
       "        vertical-align: top;\n",
       "    }\n",
       "\n",
       "    .dataframe thead th {\n",
       "        text-align: right;\n",
       "    }\n",
       "</style>\n",
       "<table border=\"1\" class=\"dataframe\">\n",
       "  <thead>\n",
       "    <tr style=\"text-align: right;\">\n",
       "      <th></th>\n",
       "      <th>type</th>\n",
       "      <th>code</th>\n",
       "      <th>sample</th>\n",
       "      <th>Dbirth</th>\n",
       "      <th>Dcoll</th>\n",
       "      <th>d14C</th>\n",
       "      <th>pathology</th>\n",
       "      <th>subject_age</th>\n",
       "      <th>valid</th>\n",
       "      <th>individual_rate</th>\n",
       "      <th>individual_rate2</th>\n",
       "    </tr>\n",
       "  </thead>\n",
       "  <tbody>\n",
       "  </tbody>\n",
       "</table>\n",
       "</div>"
      ],
      "text/plain": [
       "Empty DataFrame\n",
       "Columns: [type, code, sample, Dbirth, Dcoll, d14C, pathology, subject_age, valid, individual_rate, individual_rate2]\n",
       "Index: []"
      ]
     },
     "execution_count": 15,
     "metadata": {},
     "output_type": "execute_result"
    }
   ],
   "source": [
    "exp_data[exp_data['individual_rate'].isna()]"
   ]
  },
  {
   "cell_type": "markdown",
   "metadata": {},
   "source": [
    "### Some very high rates:"
   ]
  },
  {
   "cell_type": "code",
   "execution_count": 16,
   "metadata": {
    "ExecuteTime": {
     "end_time": "2018-09-04T13:03:59.049366Z",
     "start_time": "2018-09-04T13:03:59.005600Z"
    }
   },
   "outputs": [
    {
     "data": {
      "text/html": [
       "<div>\n",
       "<style scoped>\n",
       "    .dataframe tbody tr th:only-of-type {\n",
       "        vertical-align: middle;\n",
       "    }\n",
       "\n",
       "    .dataframe tbody tr th {\n",
       "        vertical-align: top;\n",
       "    }\n",
       "\n",
       "    .dataframe thead th {\n",
       "        text-align: right;\n",
       "    }\n",
       "</style>\n",
       "<table border=\"1\" class=\"dataframe\">\n",
       "  <thead>\n",
       "    <tr style=\"text-align: right;\">\n",
       "      <th></th>\n",
       "      <th>type</th>\n",
       "      <th>code</th>\n",
       "      <th>sample</th>\n",
       "      <th>Dbirth</th>\n",
       "      <th>Dcoll</th>\n",
       "      <th>d14C</th>\n",
       "      <th>pathology</th>\n",
       "      <th>subject_age</th>\n",
       "      <th>valid</th>\n",
       "      <th>individual_rate</th>\n",
       "      <th>individual_rate2</th>\n",
       "    </tr>\n",
       "  </thead>\n",
       "  <tbody>\n",
       "    <tr>\n",
       "      <th>62</th>\n",
       "      <td>hepatocyte</td>\n",
       "      <td>PH79</td>\n",
       "      <td>HL#6</td>\n",
       "      <td>1958.166667</td>\n",
       "      <td>2017.416667</td>\n",
       "      <td>0.0051</td>\n",
       "      <td>T</td>\n",
       "      <td>59.250000</td>\n",
       "      <td>True</td>\n",
       "      <td>18.445633</td>\n",
       "      <td>inf</td>\n",
       "    </tr>\n",
       "    <tr>\n",
       "      <th>64</th>\n",
       "      <td>hepatocyte</td>\n",
       "      <td>PH82</td>\n",
       "      <td>HL#8</td>\n",
       "      <td>1959.333333</td>\n",
       "      <td>2017.500000</td>\n",
       "      <td>0.0074</td>\n",
       "      <td>T</td>\n",
       "      <td>58.166667</td>\n",
       "      <td>True</td>\n",
       "      <td>14.346246</td>\n",
       "      <td>3.394050e+168</td>\n",
       "    </tr>\n",
       "    <tr>\n",
       "      <th>81</th>\n",
       "      <td>HNF4α -</td>\n",
       "      <td>PH107</td>\n",
       "      <td>HL#9</td>\n",
       "      <td>1945.833333</td>\n",
       "      <td>2017.500000</td>\n",
       "      <td>0.0074</td>\n",
       "      <td>T</td>\n",
       "      <td>71.666667</td>\n",
       "      <td>True</td>\n",
       "      <td>14.346246</td>\n",
       "      <td>0.000000e+00</td>\n",
       "    </tr>\n",
       "  </tbody>\n",
       "</table>\n",
       "</div>"
      ],
      "text/plain": [
       "          type   code sample       Dbirth        Dcoll    d14C pathology  \\\n",
       "62  hepatocyte   PH79   HL#6  1958.166667  2017.416667  0.0051         T   \n",
       "64  hepatocyte   PH82   HL#8  1959.333333  2017.500000  0.0074         T   \n",
       "81     HNF4α -  PH107   HL#9  1945.833333  2017.500000  0.0074         T   \n",
       "\n",
       "    subject_age  valid  individual_rate  individual_rate2  \n",
       "62    59.250000   True        18.445633               inf  \n",
       "64    58.166667   True        14.346246     3.394050e+168  \n",
       "81    71.666667   True        14.346246      0.000000e+00  "
      ]
     },
     "execution_count": 16,
     "metadata": {},
     "output_type": "execute_result"
    }
   ],
   "source": [
    "exp_data.query('individual_rate > 2')"
   ]
  },
  {
   "cell_type": "code",
   "execution_count": 17,
   "metadata": {
    "ExecuteTime": {
     "end_time": "2018-09-04T13:03:59.057253Z",
     "start_time": "2018-09-04T13:03:59.051045Z"
    }
   },
   "outputs": [],
   "source": [
    "exp_data.loc[exp_data.query('individual_rate > 2').index, 'individual_rate'] = np.nan"
   ]
  },
  {
   "cell_type": "markdown",
   "metadata": {},
   "source": [
    "### Very low rates:"
   ]
  },
  {
   "cell_type": "code",
   "execution_count": 18,
   "metadata": {
    "ExecuteTime": {
     "end_time": "2018-09-04T13:03:59.082295Z",
     "start_time": "2018-09-04T13:03:59.059344Z"
    }
   },
   "outputs": [
    {
     "data": {
      "text/html": [
       "<div>\n",
       "<style scoped>\n",
       "    .dataframe tbody tr th:only-of-type {\n",
       "        vertical-align: middle;\n",
       "    }\n",
       "\n",
       "    .dataframe tbody tr th {\n",
       "        vertical-align: top;\n",
       "    }\n",
       "\n",
       "    .dataframe thead th {\n",
       "        text-align: right;\n",
       "    }\n",
       "</style>\n",
       "<table border=\"1\" class=\"dataframe\">\n",
       "  <thead>\n",
       "    <tr style=\"text-align: right;\">\n",
       "      <th></th>\n",
       "      <th>type</th>\n",
       "      <th>code</th>\n",
       "      <th>sample</th>\n",
       "      <th>Dbirth</th>\n",
       "      <th>Dcoll</th>\n",
       "      <th>d14C</th>\n",
       "      <th>pathology</th>\n",
       "      <th>subject_age</th>\n",
       "      <th>valid</th>\n",
       "      <th>individual_rate</th>\n",
       "      <th>individual_rate2</th>\n",
       "    </tr>\n",
       "  </thead>\n",
       "  <tbody>\n",
       "    <tr>\n",
       "      <th>23</th>\n",
       "      <td>non-hepatocyte</td>\n",
       "      <td>PH32</td>\n",
       "      <td>ND402</td>\n",
       "      <td>1953.0</td>\n",
       "      <td>2017.416667</td>\n",
       "      <td>0.131107</td>\n",
       "      <td>N</td>\n",
       "      <td>64.416667</td>\n",
       "      <td>True</td>\n",
       "      <td>0.02903</td>\n",
       "      <td>NaN</td>\n",
       "    </tr>\n",
       "  </tbody>\n",
       "</table>\n",
       "</div>"
      ],
      "text/plain": [
       "              type  code sample  Dbirth        Dcoll      d14C pathology  \\\n",
       "23  non-hepatocyte  PH32  ND402  1953.0  2017.416667  0.131107         N   \n",
       "\n",
       "    subject_age  valid  individual_rate  individual_rate2  \n",
       "23    64.416667   True          0.02903               NaN  "
      ]
     },
     "execution_count": 18,
     "metadata": {},
     "output_type": "execute_result"
    }
   ],
   "source": [
    "exp_data.query('1/individual_rate > 15')"
   ]
  },
  {
   "cell_type": "code",
   "execution_count": 19,
   "metadata": {
    "ExecuteTime": {
     "end_time": "2018-09-04T13:04:00.746428Z",
     "start_time": "2018-09-04T13:03:59.083976Z"
    }
   },
   "outputs": [
    {
     "data": {
      "image/png": "[encoded data removed]",
      "text/plain": [
       "<Figure size 432x288 with 1 Axes>"
      ]
     },
     "metadata": {},
     "output_type": "display_data"
    }
   ],
   "source": [
    "plot_diffI1(-15, 10, exp_data.loc[65])"
   ]
  },
  {
   "cell_type": "code",
   "execution_count": 20,
   "metadata": {
    "ExecuteTime": {
     "end_time": "2018-09-04T13:04:00.755724Z",
     "start_time": "2018-09-04T13:04:00.751432Z"
    }
   },
   "outputs": [],
   "source": [
    "exp_data.loc[23, 'individual_rate'] = np.nan"
   ]
  },
  {
   "cell_type": "code",
   "execution_count": 21,
   "metadata": {
    "ExecuteTime": {
     "end_time": "2018-09-04T13:04:00.897763Z",
     "start_time": "2018-09-04T13:04:00.759134Z"
    }
   },
   "outputs": [
    {
     "data": {
      "image/png": "[encoded data removed]",
      "text/plain": [
       "<Figure size 432x288 with 1 Axes>"
      ]
     },
     "metadata": {},
     "output_type": "display_data"
    }
   ],
   "source": [
    "tt = np.linspace(1930, 2020)\n",
    "plt.plot(tt, np.vectorize(c14_models.C_atm)(tt))\n",
    "plt.plot(exp_data['Dbirth'], exp_data['d14C'], marker='s', ls='None')\n",
    "plt.plot(exp_data.loc[23, 'Dbirth'], exp_data.loc[23, 'd14C'], marker='s', ls='None')\n",
    "plt.ylim(-0.05, 0.15)\n",
    "plt.show()"
   ]
  },
  {
   "cell_type": "markdown",
   "metadata": {},
   "source": [
    "One of the pre-bomb guys has this very slow turnover. Why does the other pre-bomb guy not have it?"
   ]
  },
  {
   "cell_type": "code",
   "execution_count": 22,
   "metadata": {
    "ExecuteTime": {
     "end_time": "2018-09-04T13:04:02.675884Z",
     "start_time": "2018-09-04T13:04:00.902689Z"
    }
   },
   "outputs": [
    {
     "data": {
      "image/png": "[encoded data removed]",
      "text/plain": [
       "<Figure size 432x288 with 1 Axes>"
      ]
     },
     "metadata": {},
     "output_type": "display_data"
    }
   ],
   "source": [
    "prebomb2 = exp_data.loc[exp_data['d14C'].idxmax()]\n",
    "plot_diffI1(-15, 10, prebomb2)"
   ]
  },
  {
   "cell_type": "markdown",
   "metadata": {},
   "source": [
    "### Sanity check of the results by comparing the two methods:"
   ]
  },
  {
   "cell_type": "code",
   "execution_count": 23,
   "metadata": {
    "ExecuteTime": {
     "end_time": "2018-09-04T13:04:02.712405Z",
     "start_time": "2018-09-04T13:04:02.677561Z"
    }
   },
   "outputs": [
    {
     "data": {
      "text/html": [
       "<div>\n",
       "<style scoped>\n",
       "    .dataframe tbody tr th:only-of-type {\n",
       "        vertical-align: middle;\n",
       "    }\n",
       "\n",
       "    .dataframe tbody tr th {\n",
       "        vertical-align: top;\n",
       "    }\n",
       "\n",
       "    .dataframe thead th {\n",
       "        text-align: right;\n",
       "    }\n",
       "</style>\n",
       "<table border=\"1\" class=\"dataframe\">\n",
       "  <thead>\n",
       "    <tr style=\"text-align: right;\">\n",
       "      <th></th>\n",
       "      <th>type</th>\n",
       "      <th>code</th>\n",
       "      <th>sample</th>\n",
       "      <th>Dbirth</th>\n",
       "      <th>Dcoll</th>\n",
       "      <th>d14C</th>\n",
       "      <th>pathology</th>\n",
       "      <th>subject_age</th>\n",
       "      <th>valid</th>\n",
       "      <th>individual_rate</th>\n",
       "      <th>individual_rate2</th>\n",
       "    </tr>\n",
       "  </thead>\n",
       "  <tbody>\n",
       "  </tbody>\n",
       "</table>\n",
       "</div>"
      ],
      "text/plain": [
       "Empty DataFrame\n",
       "Columns: [type, code, sample, Dbirth, Dcoll, d14C, pathology, subject_age, valid, individual_rate, individual_rate2]\n",
       "Index: []"
      ]
     },
     "execution_count": 23,
     "metadata": {},
     "output_type": "execute_result"
    }
   ],
   "source": [
    "exp_data.query('(individual_rate - individual_rate2)**2 > (1e-3)**2')"
   ]
  },
  {
   "cell_type": "markdown",
   "metadata": {},
   "source": [
    "## Analysing results"
   ]
  },
  {
   "cell_type": "markdown",
   "metadata": {},
   "source": [
    "I use the values obtained with the SSE method."
   ]
  },
  {
   "cell_type": "code",
   "execution_count": 24,
   "metadata": {
    "ExecuteTime": {
     "end_time": "2018-09-04T13:04:02.723354Z",
     "start_time": "2018-09-04T13:04:02.714389Z"
    }
   },
   "outputs": [],
   "source": [
    "exp_data['cell_age'] = 1. / exp_data['individual_rate']"
   ]
  },
  {
   "cell_type": "code",
   "execution_count": 25,
   "metadata": {
    "ExecuteTime": {
     "end_time": "2018-09-04T13:04:02.743543Z",
     "start_time": "2018-09-04T13:04:02.724654Z"
    }
   },
   "outputs": [
    {
     "data": {
      "text/html": [
       "<div>\n",
       "<style scoped>\n",
       "    .dataframe tbody tr th:only-of-type {\n",
       "        vertical-align: middle;\n",
       "    }\n",
       "\n",
       "    .dataframe tbody tr th {\n",
       "        vertical-align: top;\n",
       "    }\n",
       "\n",
       "    .dataframe thead th {\n",
       "        text-align: right;\n",
       "    }\n",
       "</style>\n",
       "<table border=\"1\" class=\"dataframe\">\n",
       "  <thead>\n",
       "    <tr style=\"text-align: right;\">\n",
       "      <th></th>\n",
       "      <th>type</th>\n",
       "      <th>code</th>\n",
       "      <th>sample</th>\n",
       "      <th>Dbirth</th>\n",
       "      <th>Dcoll</th>\n",
       "      <th>d14C</th>\n",
       "      <th>pathology</th>\n",
       "      <th>subject_age</th>\n",
       "      <th>valid</th>\n",
       "      <th>individual_rate</th>\n",
       "      <th>individual_rate2</th>\n",
       "      <th>cell_age</th>\n",
       "    </tr>\n",
       "  </thead>\n",
       "  <tbody>\n",
       "    <tr>\n",
       "      <th>0</th>\n",
       "      <td>unsorted</td>\n",
       "      <td>PH1</td>\n",
       "      <td>ND380</td>\n",
       "      <td>1942.833333</td>\n",
       "      <td>2016.416667</td>\n",
       "      <td>0.078416</td>\n",
       "      <td>N</td>\n",
       "      <td>73.583333</td>\n",
       "      <td>True</td>\n",
       "      <td>0.087163</td>\n",
       "      <td>0.087163</td>\n",
       "      <td>11.472762</td>\n",
       "    </tr>\n",
       "    <tr>\n",
       "      <th>1</th>\n",
       "      <td>unsorted</td>\n",
       "      <td>PH2</td>\n",
       "      <td>ND388</td>\n",
       "      <td>1991.416667</td>\n",
       "      <td>2016.833333</td>\n",
       "      <td>0.025254</td>\n",
       "      <td>N</td>\n",
       "      <td>25.416667</td>\n",
       "      <td>True</td>\n",
       "      <td>0.346924</td>\n",
       "      <td>0.346932</td>\n",
       "      <td>2.882476</td>\n",
       "    </tr>\n",
       "    <tr>\n",
       "      <th>2</th>\n",
       "      <td>hepatocyte</td>\n",
       "      <td>PH3</td>\n",
       "      <td>ND381</td>\n",
       "      <td>1985.166667</td>\n",
       "      <td>2016.416667</td>\n",
       "      <td>0.040336</td>\n",
       "      <td>N</td>\n",
       "      <td>31.250000</td>\n",
       "      <td>True</td>\n",
       "      <td>0.183350</td>\n",
       "      <td>0.183354</td>\n",
       "      <td>5.454045</td>\n",
       "    </tr>\n",
       "    <tr>\n",
       "      <th>3</th>\n",
       "      <td>hepatocyte</td>\n",
       "      <td>PH4</td>\n",
       "      <td>ND382</td>\n",
       "      <td>1982.083333</td>\n",
       "      <td>2016.500000</td>\n",
       "      <td>0.018815</td>\n",
       "      <td>N</td>\n",
       "      <td>34.416667</td>\n",
       "      <td>True</td>\n",
       "      <td>0.730628</td>\n",
       "      <td>0.730631</td>\n",
       "      <td>1.368686</td>\n",
       "    </tr>\n",
       "    <tr>\n",
       "      <th>4</th>\n",
       "      <td>hepatocyte</td>\n",
       "      <td>PH6</td>\n",
       "      <td>ND022</td>\n",
       "      <td>1946.500000</td>\n",
       "      <td>2004.833333</td>\n",
       "      <td>0.075001</td>\n",
       "      <td>N</td>\n",
       "      <td>58.333333</td>\n",
       "      <td>True</td>\n",
       "      <td>0.707548</td>\n",
       "      <td>0.707542</td>\n",
       "      <td>1.413332</td>\n",
       "    </tr>\n",
       "  </tbody>\n",
       "</table>\n",
       "</div>"
      ],
      "text/plain": [
       "         type code sample       Dbirth        Dcoll      d14C pathology  \\\n",
       "0    unsorted  PH1  ND380  1942.833333  2016.416667  0.078416         N   \n",
       "1    unsorted  PH2  ND388  1991.416667  2016.833333  0.025254         N   \n",
       "2  hepatocyte  PH3  ND381  1985.166667  2016.416667  0.040336         N   \n",
       "3  hepatocyte  PH4  ND382  1982.083333  2016.500000  0.018815         N   \n",
       "4  hepatocyte  PH6  ND022  1946.500000  2004.833333  0.075001         N   \n",
       "\n",
       "   subject_age  valid  individual_rate  individual_rate2   cell_age  \n",
       "0    73.583333   True         0.087163          0.087163  11.472762  \n",
       "1    25.416667   True         0.346924          0.346932   2.882476  \n",
       "2    31.250000   True         0.183350          0.183354   5.454045  \n",
       "3    34.416667   True         0.730628          0.730631   1.368686  \n",
       "4    58.333333   True         0.707548          0.707542   1.413332  "
      ]
     },
     "execution_count": 25,
     "metadata": {},
     "output_type": "execute_result"
    }
   ],
   "source": [
    "exp_data.head()"
   ]
  },
  {
   "cell_type": "code",
   "execution_count": 26,
   "metadata": {
    "ExecuteTime": {
     "end_time": "2018-09-04T13:04:03.242763Z",
     "start_time": "2018-09-04T13:04:02.745473Z"
    }
   },
   "outputs": [
    {
     "data": {
      "image/png": "[encoded data removed]",
      "text/plain": [
       "<Figure size 432x288 with 1 Axes>"
      ]
     },
     "metadata": {},
     "output_type": "display_data"
    }
   ],
   "source": [
    "sns.distplot(exp_data.query('valid and type == \"hepatocyte\"')['cell_age'].dropna())\n",
    "sns.distplot(exp_data.query('valid and type == \"non-hepatocyte\"')['cell_age'].dropna())\n",
    "plt.show()"
   ]
  },
  {
   "cell_type": "code",
   "execution_count": 27,
   "metadata": {
    "ExecuteTime": {
     "end_time": "2018-09-04T13:04:03.257470Z",
     "start_time": "2018-09-04T13:04:03.245098Z"
    }
   },
   "outputs": [
    {
     "data": {
      "text/html": [
       "<div>\n",
       "<style scoped>\n",
       "    .dataframe tbody tr th:only-of-type {\n",
       "        vertical-align: middle;\n",
       "    }\n",
       "\n",
       "    .dataframe tbody tr th {\n",
       "        vertical-align: top;\n",
       "    }\n",
       "\n",
       "    .dataframe thead th {\n",
       "        text-align: right;\n",
       "    }\n",
       "</style>\n",
       "<table border=\"1\" class=\"dataframe\">\n",
       "  <thead>\n",
       "    <tr style=\"text-align: right;\">\n",
       "      <th></th>\n",
       "      <th>cell_age</th>\n",
       "      <th>subject_age</th>\n",
       "      <th>Dbirth</th>\n",
       "      <th>Dcoll</th>\n",
       "      <th>d14C</th>\n",
       "    </tr>\n",
       "  </thead>\n",
       "  <tbody>\n",
       "    <tr>\n",
       "      <th>cell_age</th>\n",
       "      <td>1.000000</td>\n",
       "      <td>-0.037340</td>\n",
       "      <td>0.063573</td>\n",
       "      <td>0.179105</td>\n",
       "      <td>0.694379</td>\n",
       "    </tr>\n",
       "    <tr>\n",
       "      <th>subject_age</th>\n",
       "      <td>-0.037340</td>\n",
       "      <td>1.000000</td>\n",
       "      <td>-0.988728</td>\n",
       "      <td>-0.034297</td>\n",
       "      <td>0.032106</td>\n",
       "    </tr>\n",
       "    <tr>\n",
       "      <th>Dbirth</th>\n",
       "      <td>0.063573</td>\n",
       "      <td>-0.988728</td>\n",
       "      <td>1.000000</td>\n",
       "      <td>0.183542</td>\n",
       "      <td>-0.106942</td>\n",
       "    </tr>\n",
       "    <tr>\n",
       "      <th>Dcoll</th>\n",
       "      <td>0.179105</td>\n",
       "      <td>-0.034297</td>\n",
       "      <td>0.183542</td>\n",
       "      <td>1.000000</td>\n",
       "      <td>-0.503060</td>\n",
       "    </tr>\n",
       "    <tr>\n",
       "      <th>d14C</th>\n",
       "      <td>0.694379</td>\n",
       "      <td>0.032106</td>\n",
       "      <td>-0.106942</td>\n",
       "      <td>-0.503060</td>\n",
       "      <td>1.000000</td>\n",
       "    </tr>\n",
       "  </tbody>\n",
       "</table>\n",
       "</div>"
      ],
      "text/plain": [
       "             cell_age  subject_age    Dbirth     Dcoll      d14C\n",
       "cell_age     1.000000    -0.037340  0.063573  0.179105  0.694379\n",
       "subject_age -0.037340     1.000000 -0.988728 -0.034297  0.032106\n",
       "Dbirth       0.063573    -0.988728  1.000000  0.183542 -0.106942\n",
       "Dcoll        0.179105    -0.034297  0.183542  1.000000 -0.503060\n",
       "d14C         0.694379     0.032106 -0.106942 -0.503060  1.000000"
      ]
     },
     "execution_count": 27,
     "metadata": {},
     "output_type": "execute_result"
    }
   ],
   "source": [
    "exp_data[['cell_age', 'subject_age', 'Dbirth', 'Dcoll', 'd14C']].corr()"
   ]
  },
  {
   "cell_type": "code",
   "execution_count": 28,
   "metadata": {
    "ExecuteTime": {
     "end_time": "2018-09-04T13:04:03.264238Z",
     "start_time": "2018-09-04T13:04:03.259425Z"
    }
   },
   "outputs": [],
   "source": [
    "exp_data['late'] = pd.Categorical(exp_data['Dcoll'] > 2015)"
   ]
  },
  {
   "cell_type": "code",
   "execution_count": 29,
   "metadata": {
    "ExecuteTime": {
     "end_time": "2018-09-04T13:04:03.830191Z",
     "start_time": "2018-09-04T13:04:03.266191Z"
    }
   },
   "outputs": [
    {
     "data": {
      "image/png": "[encoded data removed]",
      "text/plain": [
       "<Figure size 666.975x180 with 3 Axes>"
      ]
     },
     "metadata": {},
     "output_type": "display_data"
    }
   ],
   "source": [
    "sns.pairplot(exp_data.query('valid'),\n",
    "            x_vars = ['subject_age', 'Dbirth', 'Dcoll'],\n",
    "            y_vars = ['cell_age'],\n",
    "            hue = 'type')\n",
    "plt.show()"
   ]
  },
  {
   "cell_type": "code",
   "execution_count": 30,
   "metadata": {
    "ExecuteTime": {
     "end_time": "2018-09-04T13:04:04.217139Z",
     "start_time": "2018-09-04T13:04:03.832384Z"
    }
   },
   "outputs": [
    {
     "data": {
      "image/png": "[encoded data removed]",
      "text/plain": [
       "<Figure size 608.459x180 with 3 Axes>"
      ]
     },
     "metadata": {},
     "output_type": "display_data"
    }
   ],
   "source": [
    "sns.pairplot(exp_data.query('valid'),\n",
    "            x_vars = ['subject_age', 'Dbirth', 'Dcoll'],\n",
    "            y_vars = ['cell_age'],\n",
    "            hue = 'late')\n",
    "plt.show()"
   ]
  },
  {
   "cell_type": "markdown",
   "metadata": {},
   "source": [
    "## Grouping samples"
   ]
  },
  {
   "cell_type": "code",
   "execution_count": 31,
   "metadata": {
    "ExecuteTime": {
     "end_time": "2018-09-04T13:04:04.276856Z",
     "start_time": "2018-09-04T13:04:04.219267Z"
    }
   },
   "outputs": [],
   "source": [
    "rate_data = exp_data.query('valid').dropna(\n",
    "    subset=['cell_age']).groupby(\n",
    "    ['type', 'code', 'sample']\n",
    ").mean().dropna(how='all').reset_index()\n",
    "\n",
    "rate_data['late'] = pd.Categorical(rate_data['Dcoll'] > 2015)"
   ]
  },
  {
   "cell_type": "code",
   "execution_count": 35,
   "metadata": {
    "ExecuteTime": {
     "end_time": "2018-09-04T13:07:12.715546Z",
     "start_time": "2018-09-04T13:07:11.963577Z"
    }
   },
   "outputs": [
    {
     "data": {
      "image/png": "[encoded data removed]",
      "text/plain": [
       "<Figure size 666.975x180 with 3 Axes>"
      ]
     },
     "metadata": {},
     "output_type": "display_data"
    }
   ],
   "source": [
    "g = sns.pairplot(rate_data,\n",
    "            x_vars = ['subject_age', 'Dbirth', 'Dcoll'],\n",
    "            y_vars = ['cell_age'],\n",
    "            hue = 'type')\n",
    "plt.show()"
   ]
  },
  {
   "cell_type": "code",
   "execution_count": 38,
   "metadata": {
    "ExecuteTime": {
     "end_time": "2018-09-04T13:07:29.909359Z",
     "start_time": "2018-09-04T13:07:29.535626Z"
    }
   },
   "outputs": [
    {
     "data": {
      "image/png": "[encoded data removed]",
      "text/plain": [
       "<Figure size 540x180 with 3 Axes>"
      ]
     },
     "metadata": {},
     "output_type": "display_data"
    }
   ],
   "source": [
    "g = sns.pairplot(rate_data.query('type == \"hepatocyte\"'),\n",
    "            x_vars = ['subject_age', 'Dbirth', 'Dcoll'],\n",
    "            y_vars = ['cell_age'])\n",
    "g.map(corrfunc)\n",
    "plt.show()"
   ]
  },
  {
   "cell_type": "code",
   "execution_count": 39,
   "metadata": {
    "ExecuteTime": {
     "end_time": "2018-09-04T13:07:31.807844Z",
     "start_time": "2018-09-04T13:07:31.266875Z"
    }
   },
   "outputs": [
    {
     "data": {
      "image/png": "[encoded data removed]",
      "text/plain": [
       "<Figure size 540x180 with 3 Axes>"
      ]
     },
     "metadata": {},
     "output_type": "display_data"
    }
   ],
   "source": [
    "g = sns.pairplot(rate_data.query('type == \"non-hepatocyte\"'),\n",
    "            x_vars = ['subject_age', 'Dbirth', 'Dcoll'],\n",
    "            y_vars = ['cell_age'])\n",
    "g.map(corrfunc)\n",
    "plt.show()"
   ]
  },
  {
   "cell_type": "markdown",
   "metadata": {},
   "source": [
    "# Export"
   ]
  },
  {
   "cell_type": "code",
   "execution_count": 40,
   "metadata": {
    "ExecuteTime": {
     "end_time": "2018-09-04T13:07:41.524525Z",
     "start_time": "2018-09-04T13:07:41.518859Z"
    }
   },
   "outputs": [],
   "source": [
    "# exp_data.to_excel('./write/C14_data.xlsx')"
   ]
  }
 ],
 "metadata": {
  "anaconda-cloud": {},
  "kernelspec": {
   "display_name": "Python [conda env:spols180816d]",
   "language": "python",
   "name": "conda-env-spols180816d-py"
  },
  "language_info": {
   "codemirror_mode": {
    "name": "ipython",
    "version": 3
   },
   "file_extension": ".py",
   "mimetype": "text/x-python",
   "name": "python",
   "nbconvert_exporter": "python",
   "pygments_lexer": "ipython3",
   "version": "3.6.6"
  },
  "notify_time": "30",
  "toc": {
   "nav_menu": {
    "height": "251px",
    "width": "252px"
   },
   "number_sections": true,
   "sideBar": true,
   "skip_h1_title": false,
   "title_cell": "Table of Contents",
   "title_sidebar": "Contents",
   "toc_cell": false,
   "toc_position": {
    "height": "913px",
    "left": "0px",
    "right": "1708px",
    "top": "111px",
    "width": "212px"
   },
   "toc_section_display": "block",
   "toc_window_display": true
  }
 },
 "nbformat": 4,
 "nbformat_minor": 1
}
