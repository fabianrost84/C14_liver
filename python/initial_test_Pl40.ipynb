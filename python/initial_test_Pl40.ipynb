{
 "cells": [
  {
   "cell_type": "markdown",
   "metadata": {},
   "source": [
    "# Initialise "
   ]
  },
  {
   "cell_type": "code",
   "execution_count": 1,
   "metadata": {
    "ExecuteTime": {
     "end_time": "2019-06-12T16:46:11.667471Z",
     "start_time": "2019-06-12T16:46:09.329920Z"
    }
   },
   "outputs": [],
   "source": [
    "import datetime\n",
    "import numpy as np\n",
    "import pandas as pd\n",
    "import matplotlib.pyplot as plt\n",
    "%matplotlib inline"
   ]
  },
  {
   "cell_type": "code",
   "execution_count": 2,
   "metadata": {
    "ExecuteTime": {
     "end_time": "2019-06-12T16:46:13.511824Z",
     "start_time": "2019-06-12T16:46:13.248916Z"
    },
    "scrolled": false
   },
   "outputs": [],
   "source": [
    "%load_ext autoreload\n",
    "%autoreload 2\n",
    "import c14\n",
    "from c14 import livermodels as lm\n",
    "\n"
   ]
  },
  {
   "cell_type": "code",
   "execution_count": 3,
   "metadata": {
    "ExecuteTime": {
     "end_time": "2019-06-12T16:46:14.483512Z",
     "start_time": "2019-06-12T16:46:14.348904Z"
    }
   },
   "outputs": [],
   "source": [
    "data = pd.read_csv('./results/C14data_liver_samples_20190502.csv')\n",
    "c14_patient_data = data.groupby(['type', 'sample', 'ploidy', 'pathology']).mean().dropna(how='all').reset_index()\n",
    "c14_patient_data['age'] = c14_patient_data.Dcoll - c14_patient_data.Dbirth \n",
    "c14_patient_data['e14C'] = c14_patient_data.error_measurement\n",
    "data = c14_patient_data.query('type == \"hepatocyte\"')\n",
    "edata = c14.exp_data(data)"
   ]
  },
  {
   "cell_type": "code",
   "execution_count": 4,
   "metadata": {
    "ExecuteTime": {
     "end_time": "2019-06-12T16:46:16.618136Z",
     "start_time": "2019-06-12T16:46:16.122489Z"
    }
   },
   "outputs": [],
   "source": [
    "m  = lm.Pl40()\n",
    "op = c14.optimize(model=m,data=edata,step_size=2)\n",
    "vis= c14.visualisze(model=m,data=edata)\n"
   ]
  },
  {
   "cell_type": "code",
   "execution_count": 5,
   "metadata": {
    "ExecuteTime": {
     "end_time": "2019-06-12T16:46:17.476955Z",
     "start_time": "2019-06-12T16:46:17.309712Z"
    }
   },
   "outputs": [
    {
     "data": {
      "text/plain": [
       "96.86140445646029"
      ]
     },
     "execution_count": 5,
     "metadata": {},
     "output_type": "execute_result"
    }
   ],
   "source": [
    "op.loglike_dict(dict(lambda2=-0.21))"
   ]
  },
  {
   "cell_type": "code",
   "execution_count": 6,
   "metadata": {},
   "outputs": [
    {
     "data": {
      "text/plain": [
       "\n",
       "Parameters are:\n",
       "lambda2 = 0.6165950018614822\n",
       "\n",
       "Implicit Parameters are:\n",
       "delta2 = [0.5071863414703459, 0.4922250701320158, 0.3933265123391408, 0.2841025719567128, 0.23595347258859556]\n",
       "delta4 = [0.5071863414703459, 0.4922250701320158, 0.3933265123391408, 0.2841025719567128, 0.23595347258859556]\n",
       "p = [0.9130705649695555, 0.8967656881350543, 0.8133104601852418, 0.7228745638969643, 0.6839410423769271]\n",
       "kappa = [0, 0, 0, 0, 0]\n",
       "lambda4 = [0, 0, 0, 0, 0]\n",
       "\n",
       "Variables are t=[0,25,50,75,100]:\n",
       "n2\n",
       "n4\n",
       "\n",
       "Default parameters are:\n",
       "lambda2 = 1\n",
       "\n",
       "Default limit are:\n",
       "lambda2 = (1e-06, 100)\n",
       "\n",
       "Default errors are:\n",
       "lambda2 = 0.5"
      ]
     },
     "execution_count": 6,
     "metadata": {},
     "output_type": "execute_result"
    }
   ],
   "source": [
    "m"
   ]
  },
  {
   "cell_type": "code",
   "execution_count": 8,
   "metadata": {
    "ExecuteTime": {
     "end_time": "2019-06-12T16:51:50.948878Z",
     "start_time": "2019-06-12T16:51:50.929752Z"
    }
   },
   "outputs": [],
   "source": [
    "m.limit['lambda2'] = (1e-99, 1e0)"
   ]
  },
  {
   "cell_type": "code",
   "execution_count": 9,
   "metadata": {
    "ExecuteTime": {
     "end_time": "2019-06-12T16:51:51.774496Z",
     "start_time": "2019-06-12T16:51:51.746036Z"
    }
   },
   "outputs": [
    {
     "data": {
      "text/plain": [
       "\n",
       "Parameters are:\n",
       "lambda2 = 0.6165950018614822\n",
       "\n",
       "Implicit Parameters are:\n",
       "delta2 = [0.5071863414703459, 0.4922250701320158, 0.3933265123391408, 0.2841025719567128, 0.23595347258859556]\n",
       "delta4 = [0.5071863414703459, 0.4922250701320158, 0.3933265123391408, 0.2841025719567128, 0.23595347258859556]\n",
       "p = [0.9130705649695555, 0.8967656881350543, 0.8133104601852418, 0.7228745638969643, 0.6839410423769271]\n",
       "kappa = [0, 0, 0, 0, 0]\n",
       "lambda4 = [0, 0, 0, 0, 0]\n",
       "\n",
       "Variables are t=[0,25,50,75,100]:\n",
       "n2\n",
       "n4\n",
       "\n",
       "Default parameters are:\n",
       "lambda2 = 1\n",
       "\n",
       "Default limit are:\n",
       "lambda2 = (1e-99, 1.0)\n",
       "\n",
       "Default errors are:\n",
       "lambda2 = 0.5"
      ]
     },
     "execution_count": 9,
     "metadata": {},
     "output_type": "execute_result"
    }
   ],
   "source": [
    "m"
   ]
  },
  {
   "cell_type": "markdown",
   "metadata": {},
   "source": [
    "# Fit"
   ]
  },
  {
   "cell_type": "code",
   "execution_count": 10,
   "metadata": {},
   "outputs": [],
   "source": [
    "res = op.optimize_minuit(dict(lambda2=-0.21))"
   ]
  },
  {
   "cell_type": "code",
   "execution_count": 11,
   "metadata": {},
   "outputs": [
    {
     "data": {
      "text/plain": [
       "({'lambda2': -0.5096201055680916},\n",
       " {'lambda2': 0.047117438602269676},\n",
       " -105.0313661668794,\n",
       " True,\n",
       "          lambda2\n",
       " lambda2      1.0,\n",
       "          lambda2\n",
       " lambda2  0.00222)"
      ]
     },
     "execution_count": 11,
     "metadata": {},
     "output_type": "execute_result"
    }
   ],
   "source": [
    "res"
   ]
  },
  {
   "cell_type": "code",
   "execution_count": 12,
   "metadata": {},
   "outputs": [],
   "source": [
    "fit_limit = {'lambda2': (-3, 0)}"
   ]
  },
  {
   "cell_type": "code",
   "execution_count": 23,
   "metadata": {
    "ExecuteTime": {
     "start_time": "2019-06-12T16:51:56.150Z"
    }
   },
   "outputs": [
    {
     "name": "stdout",
     "output_type": "stream",
     "text": [
      "[(-3, 0)]\n"
     ]
    },
    {
     "name": "stderr",
     "output_type": "stream",
     "text": [
      "/home/fabrost/pksCloud/projects/C14_liver/source/c14/c14/optimize.py:99: UserWarning: Value Error in ode int: p is outside range\n",
      "  warnings.warn(\"Value Error in ode int: \" + str(e), UserWarning)\n",
      "/home/fabrost/pksCloud/projects/C14_liver/source/c14/c14/optimize.py:99: UserWarning: Value Error in ode int: p is outside range\n",
      "  warnings.warn(\"Value Error in ode int: \" + str(e), UserWarning)\n",
      "/home/fabrost/pksCloud/projects/C14_liver/source/c14/c14/optimize.py:99: UserWarning: Value Error in ode int: p is outside range\n",
      "  warnings.warn(\"Value Error in ode int: \" + str(e), UserWarning)\n",
      "/home/fabrost/pksCloud/projects/C14_liver/source/c14/c14/optimize.py:99: UserWarning: Value Error in ode int: p is outside range\n",
      "  warnings.warn(\"Value Error in ode int: \" + str(e), UserWarning)\n",
      "/home/fabrost/pksCloud/projects/C14_liver/source/c14/c14/base.py:112: UserWarning: Parameter lambda2=14480.835022641895 is outside the limits (1e-99, 1.0)\n",
      "  warnings.warn(wstr,UserWarning)\n",
      "/home/fabrost/pksCloud/projects/C14_liver/source/c14/c14/optimize.py:99: UserWarning: Value Error in ode int: need at least one array to concatenate\n",
      "  warnings.warn(\"Value Error in ode int: \" + str(e), UserWarning)\n",
      "/home/fabrost/pksCloud/projects/C14_liver/source/c14/c14/optimize.py:99: UserWarning: Value Error in ode int: need at least one array to concatenate\n",
      "  warnings.warn(\"Value Error in ode int: \" + str(e), UserWarning)\n",
      "/home/fabrost/pksCloud/projects/C14_liver/source/c14/c14/optimize.py:99: UserWarning: Value Error in ode int: need at least one array to concatenate\n",
      "  warnings.warn(\"Value Error in ode int: \" + str(e), UserWarning)\n",
      "/home/fabrost/pksCloud/projects/C14_liver/source/c14/c14/optimize.py:99: UserWarning: Value Error in ode int: need at least one array to concatenate\n",
      "  warnings.warn(\"Value Error in ode int: \" + str(e), UserWarning)\n",
      "/home/fabrost/pksCloud/projects/C14_liver/source/c14/c14/optimize.py:99: UserWarning: Value Error in ode int: need at least one array to concatenate\n",
      "  warnings.warn(\"Value Error in ode int: \" + str(e), UserWarning)\n",
      "/home/fabrost/pksCloud/projects/C14_liver/source/c14/c14/optimize.py:99: UserWarning: Value Error in ode int: p is outside range\n",
      "  warnings.warn(\"Value Error in ode int: \" + str(e), UserWarning)\n",
      "/home/fabrost/pksCloud/projects/C14_liver/source/c14/c14/optimize.py:99: UserWarning: Value Error in ode int: need at least one array to concatenate\n",
      "  warnings.warn(\"Value Error in ode int: \" + str(e), UserWarning)\n",
      "/home/fabrost/pksCloud/projects/C14_liver/source/c14/c14/optimize.py:99: UserWarning: Value Error in ode int: p is outside range\n",
      "  warnings.warn(\"Value Error in ode int: \" + str(e), UserWarning)\n",
      "/home/fabrost/pksCloud/projects/C14_liver/source/c14/c14/optimize.py:99: UserWarning: Value Error in ode int: p is outside range\n",
      "  warnings.warn(\"Value Error in ode int: \" + str(e), UserWarning)\n",
      "/home/fabrost/pksCloud/projects/C14_liver/source/c14/c14/optimize.py:99: UserWarning: Value Error in ode int: need at least one array to concatenate\n",
      "  warnings.warn(\"Value Error in ode int: \" + str(e), UserWarning)\n",
      "/home/fabrost/pksCloud/projects/C14_liver/source/c14/c14/base.py:112: UserWarning: Parameter lambda2=9.763235002559163 is outside the limits (1e-99, 1.0)\n",
      "  warnings.warn(wstr,UserWarning)\n",
      "/home/fabrost/pksCloud/projects/C14_liver/source/c14/c14/base.py:112: UserWarning: Parameter lambda2=9.613909712896429e+105 is outside the limits (1e-99, 1.0)\n",
      "  warnings.warn(wstr,UserWarning)\n",
      "/home/fabrost/pksCloud/projects/C14_liver/source/c14/c14/base.py:112: UserWarning: Parameter lambda2=33636.858701786274 is outside the limits (1e-99, 1.0)\n",
      "  warnings.warn(wstr,UserWarning)\n",
      "/home/fabrost/pksCloud/projects/C14_liver/source/c14/c14/base.py:112: UserWarning: Parameter lambda2=4.778976731732654e+20 is outside the limits (1e-99, 1.0)\n",
      "  warnings.warn(wstr,UserWarning)\n",
      "/home/fabrost/pksCloud/projects/C14_liver/source/c14/c14/base.py:112: UserWarning: Parameter lambda2=1.8337678489207865 is outside the limits (1e-99, 1.0)\n",
      "  warnings.warn(wstr,UserWarning)\n",
      "/home/fabrost/pksCloud/projects/C14_liver/source/c14/c14/base.py:112: UserWarning: Parameter lambda2=1.3408867851740816 is outside the limits (1e-99, 1.0)\n",
      "  warnings.warn(wstr,UserWarning)\n",
      "/home/fabrost/pksCloud/projects/C14_liver/source/c14/c14/base.py:112: UserWarning: Parameter lambda2=4.2845056536570585 is outside the limits (1e-99, 1.0)\n",
      "  warnings.warn(wstr,UserWarning)\n"
     ]
    },
    {
     "name": "stdout",
     "output_type": "stream",
     "text": [
      "CPU times: user 323 ms, sys: 57.2 ms, total: 380 ms\n",
      "Wall time: 3min 37s\n"
     ]
    }
   ],
   "source": [
    "%%time\n",
    "res_M = op.optimize_minuit_multistart(n=100,processes=7, fit_limit=fit_limit)"
   ]
  },
  {
   "cell_type": "code",
   "execution_count": 31,
   "metadata": {},
   "outputs": [],
   "source": [
    "best_res = res_M.loc[res_M['fval'].idxmin()]"
   ]
  },
  {
   "cell_type": "code",
   "execution_count": 32,
   "metadata": {},
   "outputs": [
    {
     "data": {
      "text/plain": [
       "Pl40\n",
       "p0         {'lambda2': -0.9473009204635292}\n",
       "fval                               -105.031\n",
       "values     {'lambda2': -0.5096187402634792}\n",
       "errors     {'lambda2': 0.04711770968784729}\n",
       "corr               lambda2\n",
       "lambda2      1.0\n",
       "cov                lambda2\n",
       "lambda2  0.00222\n",
       "valid                                  True\n",
       "n                                        41\n",
       "Name: 38, dtype: object"
      ]
     },
     "execution_count": 32,
     "metadata": {},
     "output_type": "execute_result"
    }
   ],
   "source": [
    "best_res"
   ]
  },
  {
   "cell_type": "code",
   "execution_count": 39,
   "metadata": {},
   "outputs": [
    {
     "data": {
      "text/plain": [
       "{'lambda2': 0.04711770968784729}"
      ]
     },
     "execution_count": 39,
     "metadata": {},
     "output_type": "execute_result"
    }
   ],
   "source": [
    "best_res['errors']"
   ]
  },
  {
   "cell_type": "code",
   "execution_count": 40,
   "metadata": {},
   "outputs": [
    {
     "data": {
      "text/plain": [
       "{'lambda2': -0.5096187402634792}"
      ]
     },
     "execution_count": 40,
     "metadata": {},
     "output_type": "execute_result"
    }
   ],
   "source": [
    "best_res['values']"
   ]
  },
  {
   "cell_type": "code",
   "execution_count": 41,
   "metadata": {},
   "outputs": [
    {
     "data": {
      "text/plain": [
       "0.34704137848454986"
      ]
     },
     "execution_count": 41,
     "metadata": {},
     "output_type": "execute_result"
    }
   ],
   "source": [
    "10**(-0.5096187402634792+0.05)"
   ]
  },
  {
   "cell_type": "code",
   "execution_count": 42,
   "metadata": {},
   "outputs": [
    {
     "data": {
      "text/plain": [
       "0.27566476554791375"
      ]
     },
     "execution_count": 42,
     "metadata": {},
     "output_type": "execute_result"
    }
   ],
   "source": [
    "10**(-0.5096187402634792-0.05)"
   ]
  },
  {
   "cell_type": "markdown",
   "metadata": {},
   "source": [
    "# Visualise"
   ]
  },
  {
   "cell_type": "code",
   "execution_count": 33,
   "metadata": {
    "ExecuteTime": {
     "end_time": "2019-06-12T16:54:46.372898Z",
     "start_time": "2019-06-12T16:54:46.054101Z"
    }
   },
   "outputs": [
    {
     "data": {
      "text/plain": [
       "True"
      ]
     },
     "execution_count": 33,
     "metadata": {},
     "output_type": "execute_result"
    }
   ],
   "source": [
    "m.set_parameters(best_res['values'])"
   ]
  },
  {
   "cell_type": "code",
   "execution_count": 34,
   "metadata": {},
   "outputs": [
    {
     "data": {
      "text/plain": [
       "1"
      ]
     },
     "execution_count": 34,
     "metadata": {},
     "output_type": "execute_result"
    }
   ],
   "source": [
    "m.nparas"
   ]
  },
  {
   "cell_type": "code",
   "execution_count": 35,
   "metadata": {},
   "outputs": [
    {
     "data": {
      "text/plain": [
       "104.55832305209934"
      ]
     },
     "execution_count": 35,
     "metadata": {},
     "output_type": "execute_result"
    }
   ],
   "source": [
    "op.loglike_dict(best_res['values'])"
   ]
  },
  {
   "cell_type": "code",
   "execution_count": 36,
   "metadata": {},
   "outputs": [
    {
     "data": {
      "text/plain": [
       "-204.80085663051446"
      ]
     },
     "execution_count": 36,
     "metadata": {},
     "output_type": "execute_result"
    }
   ],
   "source": [
    "op.calc_aicc(best_res['values'])"
   ]
  },
  {
   "cell_type": "code",
   "execution_count": 37,
   "metadata": {
    "ExecuteTime": {
     "end_time": "2019-06-12T16:55:00.130511Z",
     "start_time": "2019-06-12T16:54:59.463994Z"
    },
    "scrolled": false
   },
   "outputs": [
    {
     "data": {
      "image/png": "[encoded data removed]",
      "text/plain": [
       "<Figure size 432x288 with 1 Axes>"
      ]
     },
     "metadata": {
      "needs_background": "light"
     },
     "output_type": "display_data"
    }
   ],
   "source": [
    "vis.plot_parameter()\n",
    "plt.legend()\n",
    "plt.show()"
   ]
  },
  {
   "cell_type": "code",
   "execution_count": 22,
   "metadata": {
    "ExecuteTime": {
     "end_time": "2019-06-12T16:50:15.700615Z",
     "start_time": "2019-06-12T16:50:15.315523Z"
    }
   },
   "outputs": [],
   "source": [
    "po = best_res['values']\n",
    "m.set_parameters(po)\n",
    "_ = vis.odeint()"
   ]
  },
  {
   "cell_type": "code",
   "execution_count": null,
   "metadata": {
    "ExecuteTime": {
     "end_time": "2019-06-12T16:50:17.216145Z",
     "start_time": "2019-06-12T16:50:15.890874Z"
    }
   },
   "outputs": [],
   "source": [
    "vis.plot_generic()"
   ]
  },
  {
   "cell_type": "code",
   "execution_count": null,
   "metadata": {
    "ExecuteTime": {
     "end_time": "2019-06-12T16:50:18.027548Z",
     "start_time": "2019-06-12T16:50:17.217652Z"
    }
   },
   "outputs": [],
   "source": [
    "vis.plot_simdata()"
   ]
  },
  {
   "cell_type": "code",
   "execution_count": null,
   "metadata": {
    "ExecuteTime": {
     "end_time": "2019-06-12T16:50:18.043077Z",
     "start_time": "2019-06-12T16:50:18.029132Z"
    }
   },
   "outputs": [],
   "source": [
    "#vis.plot_simdata_birth()"
   ]
  },
  {
   "cell_type": "code",
   "execution_count": null,
   "metadata": {
    "ExecuteTime": {
     "end_time": "2019-06-12T16:54:55.793704Z",
     "start_time": "2019-06-12T16:54:54.235914Z"
    }
   },
   "outputs": [],
   "source": [
    "l = vis.plot_parameter(log=True,nonlog=['p'])\n",
    "plt.legend()"
   ]
  },
  {
   "cell_type": "code",
   "execution_count": null,
   "metadata": {
    "ExecuteTime": {
     "end_time": "2019-06-12T14:42:41.400421Z",
     "start_time": "2019-06-12T14:42:41.043522Z"
    }
   },
   "outputs": [],
   "source": [
    "vis.plot_parameter(log=True)\n",
    "plt.legend()"
   ]
  },
  {
   "cell_type": "code",
   "execution_count": null,
   "metadata": {
    "ExecuteTime": {
     "end_time": "2019-06-12T14:42:42.203342Z",
     "start_time": "2019-06-12T14:42:42.188750Z"
    }
   },
   "outputs": [],
   "source": [
    "m"
   ]
  }
 ],
 "metadata": {
  "kernelspec": {
   "display_name": "Python [conda env:spols190426] *",
   "language": "python",
   "name": "conda-env-spols190426-py"
  },
  "language_info": {
   "codemirror_mode": {
    "name": "ipython",
    "version": 3
   },
   "file_extension": ".py",
   "mimetype": "text/x-python",
   "name": "python",
   "nbconvert_exporter": "python",
   "pygments_lexer": "ipython3",
   "version": "3.6.7"
  },
  "toc": {
   "nav_menu": {
    "height": "12px",
    "width": "252px"
   },
   "number_sections": true,
   "sideBar": true,
   "skip_h1_title": false,
   "title_cell": "Table of Contents",
   "title_sidebar": "Contents",
   "toc_cell": false,
   "toc_position": {},
   "toc_section_display": "block",
   "toc_window_display": false
  }
 },
 "nbformat": 4,
 "nbformat_minor": 2
}
