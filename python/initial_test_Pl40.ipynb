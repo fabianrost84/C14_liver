{
 "cells": [
  {
   "cell_type": "markdown",
   "metadata": {},
   "source": [
    "# Initialise "
   ]
  },
  {
   "cell_type": "code",
   "execution_count": 8,
   "metadata": {
    "ExecuteTime": {
     "end_time": "2019-06-12T16:46:11.667471Z",
     "start_time": "2019-06-12T16:46:09.329920Z"
    }
   },
   "outputs": [],
   "source": [
    "import datetime\n",
    "import numpy as np\n",
    "import pandas as pd\n",
    "import matplotlib.pyplot as plt\n",
    "import warnings\n",
    "\n",
    "%matplotlib inline"
   ]
  },
  {
   "cell_type": "code",
   "execution_count": 9,
   "metadata": {
    "ExecuteTime": {
     "end_time": "2019-06-12T16:46:13.511824Z",
     "start_time": "2019-06-12T16:46:13.248916Z"
    },
    "scrolled": false
   },
   "outputs": [],
   "source": [
    "# %load_ext autoreload\n",
    "# %autoreload 2\n",
    "import c14\n",
    "from c14 import livermodels as lm\n",
    "\n"
   ]
  },
  {
   "cell_type": "code",
   "execution_count": 10,
   "metadata": {
    "ExecuteTime": {
     "end_time": "2019-06-12T16:46:14.483512Z",
     "start_time": "2019-06-12T16:46:14.348904Z"
    }
   },
   "outputs": [],
   "source": [
    "data = pd.read_csv('../../../results/C14data_liver_samples_20190722.csv')\n",
    "c14_patient_data = data.groupby(['type', 'sample', 'ploidy', 'pathology']).mean().dropna(how='all').reset_index()\n",
    "c14_patient_data['age'] = c14_patient_data.Dcoll - c14_patient_data.Dbirth \n",
    "# c14_patient_data['e14C'] = c14_patient_data.error_measurement\n",
    "data = c14_patient_data.query('type == \"hepatocyte\" and pathology != \"Y\"')\n",
    "edata = c14.exp_data(data)"
   ]
  },
  {
   "cell_type": "code",
   "execution_count": 11,
   "metadata": {
    "ExecuteTime": {
     "end_time": "2019-06-12T16:46:16.618136Z",
     "start_time": "2019-06-12T16:46:16.122489Z"
    }
   },
   "outputs": [],
   "source": [
    "m  = lm.Pl40()"
   ]
  },
  {
   "cell_type": "code",
   "execution_count": 12,
   "metadata": {
    "ExecuteTime": {
     "end_time": "2019-06-12T16:46:16.618136Z",
     "start_time": "2019-06-12T16:46:16.122489Z"
    }
   },
   "outputs": [],
   "source": [
    "op = c14.optimize(model=m,data=edata,step_size=2)\n",
    "vis= c14.visualisze(model=m,data=edata)\n",
    "warnings.filterwarnings(\"ignore\")"
   ]
  },
  {
   "cell_type": "code",
   "execution_count": 13,
   "metadata": {},
   "outputs": [
    {
     "name": "stdout",
     "output_type": "stream",
     "text": [
      "[(-6.0, 2.0)]\n"
     ]
    }
   ],
   "source": [
    "res = op.optimize_minuit_multistart(n=5,processes=8)"
   ]
  },
  {
   "cell_type": "code",
   "execution_count": 14,
   "metadata": {},
   "outputs": [
    {
     "data": {
      "text/html": [
       "<div>\n",
       "<style scoped>\n",
       "    .dataframe tbody tr th:only-of-type {\n",
       "        vertical-align: middle;\n",
       "    }\n",
       "\n",
       "    .dataframe tbody tr th {\n",
       "        vertical-align: top;\n",
       "    }\n",
       "\n",
       "    .dataframe thead th {\n",
       "        text-align: right;\n",
       "    }\n",
       "</style>\n",
       "<table border=\"1\" class=\"dataframe\">\n",
       "  <thead>\n",
       "    <tr style=\"text-align: right;\">\n",
       "      <th>Pl40</th>\n",
       "      <th>p0</th>\n",
       "      <th>fval</th>\n",
       "      <th>values</th>\n",
       "      <th>errors</th>\n",
       "      <th>corr</th>\n",
       "      <th>cov</th>\n",
       "      <th>valid</th>\n",
       "      <th>n</th>\n",
       "    </tr>\n",
       "  </thead>\n",
       "  <tbody>\n",
       "    <tr>\n",
       "      <th>3</th>\n",
       "      <td>{'lambda2': -1.2107321264237072}</td>\n",
       "      <td>-82.984493</td>\n",
       "      <td>{'lambda2': -0.5344332330021897}</td>\n",
       "      <td>{'lambda2': 0.051020083867478305}</td>\n",
       "      <td>lambda2\n",
       "lambda2      1.0</td>\n",
       "      <td>lambda2\n",
       "lambda2  0.002603</td>\n",
       "      <td>True</td>\n",
       "      <td>33</td>\n",
       "    </tr>\n",
       "    <tr>\n",
       "      <th>2</th>\n",
       "      <td>{'lambda2': -0.14404846550875927}</td>\n",
       "      <td>-82.984493</td>\n",
       "      <td>{'lambda2': -0.534399905534984}</td>\n",
       "      <td>{'lambda2': 0.05102742181106796}</td>\n",
       "      <td>lambda2\n",
       "lambda2      1.0</td>\n",
       "      <td>lambda2\n",
       "lambda2  0.002604</td>\n",
       "      <td>True</td>\n",
       "      <td>33</td>\n",
       "    </tr>\n",
       "  </tbody>\n",
       "</table>\n",
       "</div>"
      ],
      "text/plain": [
       "Pl40                                 p0       fval  \\\n",
       "3      {'lambda2': -1.2107321264237072} -82.984493   \n",
       "2     {'lambda2': -0.14404846550875927} -82.984493   \n",
       "\n",
       "Pl40                            values                             errors  \\\n",
       "3     {'lambda2': -0.5344332330021897}  {'lambda2': 0.051020083867478305}   \n",
       "2      {'lambda2': -0.534399905534984}   {'lambda2': 0.05102742181106796}   \n",
       "\n",
       "Pl40                               corr                                  cov  \\\n",
       "3              lambda2\n",
       "lambda2      1.0            lambda2\n",
       "lambda2  0.002603   \n",
       "2              lambda2\n",
       "lambda2      1.0            lambda2\n",
       "lambda2  0.002604   \n",
       "\n",
       "Pl40  valid   n  \n",
       "3      True  33  \n",
       "2      True  33  "
      ]
     },
     "execution_count": 14,
     "metadata": {},
     "output_type": "execute_result"
    }
   ],
   "source": [
    "res"
   ]
  },
  {
   "cell_type": "code",
   "execution_count": 15,
   "metadata": {},
   "outputs": [],
   "source": [
    "pe = res.sort_values('fval').iloc[1]['values']\n",
    "cov = res.sort_values('fval').iloc[1]['cov']"
   ]
  },
  {
   "cell_type": "code",
   "execution_count": 16,
   "metadata": {},
   "outputs": [],
   "source": [
    "errors = vis.calc_error(pe,cov)"
   ]
  },
  {
   "cell_type": "code",
   "execution_count": 17,
   "metadata": {},
   "outputs": [
    {
     "data": {
      "text/plain": [
       "{'lambda2': -0.534399905534984}"
      ]
     },
     "execution_count": 17,
     "metadata": {},
     "output_type": "execute_result"
    }
   ],
   "source": [
    "pe"
   ]
  },
  {
   "cell_type": "code",
   "execution_count": 18,
   "metadata": {},
   "outputs": [
    {
     "data": {
      "text/plain": [
       "200"
      ]
     },
     "execution_count": 18,
     "metadata": {},
     "output_type": "execute_result"
    }
   ],
   "source": [
    "len(errors[1]['delta2'][1])"
   ]
  },
  {
   "cell_type": "code",
   "execution_count": 19,
   "metadata": {},
   "outputs": [
    {
     "data": {
      "image/png": "[encoded data removed]",
      "text/plain": [
       "<Figure size 432x288 with 1 Axes>"
      ]
     },
     "metadata": {
      "needs_background": "light"
     },
     "output_type": "display_data"
    }
   ],
   "source": [
    "vis.plot_parameter(pe,errors,log=False)\n",
    "plt.legend()\n",
    "plt.show()"
   ]
  },
  {
   "cell_type": "code",
   "execution_count": 13,
   "metadata": {},
   "outputs": [
    {
     "data": {
      "text/plain": [
       "-178.41572400186644"
      ]
     },
     "execution_count": 13,
     "metadata": {},
     "output_type": "execute_result"
    }
   ],
   "source": [
    "op.calc_aicc(pe)"
   ]
  }
 ],
 "metadata": {
  "kernelspec": {
   "display_name": "Python [conda env:spols190426] *",
   "language": "python",
   "name": "conda-env-spols190426-py"
  },
  "language_info": {
   "codemirror_mode": {
    "name": "ipython",
    "version": 3
   },
   "file_extension": ".py",
   "mimetype": "text/x-python",
   "name": "python",
   "nbconvert_exporter": "python",
   "pygments_lexer": "ipython3",
   "version": "3.6.7"
  },
  "toc": {
   "nav_menu": {
    "height": "12px",
    "width": "252px"
   },
   "number_sections": true,
   "sideBar": true,
   "skip_h1_title": false,
   "title_cell": "Table of Contents",
   "title_sidebar": "Contents",
   "toc_cell": false,
   "toc_position": {},
   "toc_section_display": "block",
   "toc_window_display": false
  }
 },
 "nbformat": 4,
 "nbformat_minor": 2
}
