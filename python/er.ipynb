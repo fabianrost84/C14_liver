{
 "cells": [
  {
   "cell_type": "markdown",
   "metadata": {},
   "source": [
    "# Evidence ratios"
   ]
  },
  {
   "cell_type": "code",
   "execution_count": 2,
   "metadata": {},
   "outputs": [],
   "source": [
    "import numpy as np\n",
    "import pandas as pd"
   ]
  },
  {
   "cell_type": "code",
   "execution_count": 29,
   "metadata": {},
   "outputs": [],
   "source": [
    "final_results = pd.Series(name='cAIC')\n",
    "final_results['Pl40d'] = -180.48481727753753\n",
    "final_results['Pl40db'] = -180.24250268345642\n",
    "final_results['Pl40'] = -178.4038391051777\n",
    "final_results['Pl2p'] = -175.2002841623938"
   ]
  },
  {
   "cell_type": "code",
   "execution_count": 30,
   "metadata": {},
   "outputs": [
    {
     "data": {
      "text/html": [
       "<div>\n",
       "<style scoped>\n",
       "    .dataframe tbody tr th:only-of-type {\n",
       "        vertical-align: middle;\n",
       "    }\n",
       "\n",
       "    .dataframe tbody tr th {\n",
       "        vertical-align: top;\n",
       "    }\n",
       "\n",
       "    .dataframe thead th {\n",
       "        text-align: right;\n",
       "    }\n",
       "</style>\n",
       "<table border=\"1\" class=\"dataframe\">\n",
       "  <thead>\n",
       "    <tr style=\"text-align: right;\">\n",
       "      <th></th>\n",
       "      <th>cAIC</th>\n",
       "      <th>delta</th>\n",
       "      <th>w</th>\n",
       "      <th>ER</th>\n",
       "    </tr>\n",
       "  </thead>\n",
       "  <tbody>\n",
       "    <tr>\n",
       "      <th>Pl40d</th>\n",
       "      <td>-180.484817</td>\n",
       "      <td>0.000000</td>\n",
       "      <td>0.432830</td>\n",
       "      <td>1.000000</td>\n",
       "    </tr>\n",
       "    <tr>\n",
       "      <th>Pl40db</th>\n",
       "      <td>-180.242503</td>\n",
       "      <td>0.242315</td>\n",
       "      <td>0.383442</td>\n",
       "      <td>1.128802</td>\n",
       "    </tr>\n",
       "    <tr>\n",
       "      <th>Pl40</th>\n",
       "      <td>-178.403839</td>\n",
       "      <td>2.080978</td>\n",
       "      <td>0.152911</td>\n",
       "      <td>2.830601</td>\n",
       "    </tr>\n",
       "    <tr>\n",
       "      <th>Pl2p</th>\n",
       "      <td>-175.200284</td>\n",
       "      <td>5.284533</td>\n",
       "      <td>0.030817</td>\n",
       "      <td>14.045001</td>\n",
       "    </tr>\n",
       "  </tbody>\n",
       "</table>\n",
       "</div>"
      ],
      "text/plain": [
       "              cAIC     delta         w         ER\n",
       "Pl40d  -180.484817  0.000000  0.432830   1.000000\n",
       "Pl40db -180.242503  0.242315  0.383442   1.128802\n",
       "Pl40   -178.403839  2.080978  0.152911   2.830601\n",
       "Pl2p   -175.200284  5.284533  0.030817  14.045001"
      ]
     },
     "execution_count": 30,
     "metadata": {},
     "output_type": "execute_result"
    }
   ],
   "source": [
    "final_results = pd.DataFrame(final_results)\n",
    "final_results['delta'] = final_results['cAIC'] - final_results['cAIC'].min() \n",
    "final_results['w'] = np.exp(-0.5*final_results['delta']) / np.exp(-0.5*final_results['delta']).sum()\n",
    "final_results['ER'] = final_results['w'].max() / final_results['w']\n",
    "final_results.sort_values('cAIC')"
   ]
  },
  {
   "cell_type": "code",
   "execution_count": null,
   "metadata": {},
   "outputs": [],
   "source": []
  }
 ],
 "metadata": {
  "kernelspec": {
   "display_name": "Python [conda env:spols190426] *",
   "language": "python",
   "name": "conda-env-spols190426-py"
  },
  "language_info": {
   "codemirror_mode": {
    "name": "ipython",
    "version": 3
   },
   "file_extension": ".py",
   "mimetype": "text/x-python",
   "name": "python",
   "nbconvert_exporter": "python",
   "pygments_lexer": "ipython3",
   "version": "3.6.7"
  }
 },
 "nbformat": 4,
 "nbformat_minor": 2
}
