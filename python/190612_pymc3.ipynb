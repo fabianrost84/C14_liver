{
 "cells": [
  {
   "cell_type": "code",
   "execution_count": 1,
   "metadata": {},
   "outputs": [],
   "source": [
    "import c14\n",
    "import c14.models.liver\n",
    "\n",
    "import numpy as np\n",
    "import pandas as pd\n",
    "import scipy as sp\n",
    "import theano\n",
    "import theano.tensor as T\n",
    "\n",
    "import seaborn as sns\n",
    "import matplotlib.pyplot as plt"
   ]
  },
  {
   "cell_type": "code",
   "execution_count": 2,
   "metadata": {},
   "outputs": [],
   "source": [
    "# %autoreload 2\n",
    "import pymc3 as pm"
   ]
  },
  {
   "cell_type": "code",
   "execution_count": 3,
   "metadata": {},
   "outputs": [],
   "source": [
    "import scipy\n",
    "import theano\n",
    "\n",
    "floatX = theano.config.floatX\n",
    "\n",
    "class DE(pm.ode.DifferentialEquation):\n",
    "    def _simulate(self, y0, theta):\n",
    "        # Initial condition comprised of state initial conditions and raveled sensitivity matrix\n",
    "        s0 = np.concatenate([y0, self._sens_ic])\n",
    "        \n",
    "        # perform the integration\n",
    "        sol = scipy.integrate.solve_ivp(\n",
    "            fun = lambda t, Y: self._system(Y, t, tuple(np.concatenate([y0, theta]))),\n",
    "            t_span=[0, self._augmented_times.max()],\n",
    "            y0=s0,\n",
    "            method='RK45',\n",
    "            t_eval=self._augmented_times,\n",
    "            atol=1e99, rtol=1e99,\n",
    "            max_step=0.02).y.T.astype(floatX)\n",
    "        \n",
    "        # The solution\n",
    "        y = sol[1:, :self.n_states]\n",
    "\n",
    "        # The sensitivities, reshaped to be a sequence of matrices\n",
    "        sens = sol[1:, self.n_states:].reshape(self.n_times, self.n_states, self.n_p)\n",
    "\n",
    "        return y, sens"
   ]
  },
  {
   "cell_type": "code",
   "execution_count": 4,
   "metadata": {},
   "outputs": [],
   "source": [
    "path = c14.models.liver.default_path"
   ]
  },
  {
   "cell_type": "code",
   "execution_count": 5,
   "metadata": {},
   "outputs": [],
   "source": [
    "UnivariateSpline = sp.interpolate.UnivariateSpline"
   ]
  },
  {
   "cell_type": "code",
   "execution_count": 6,
   "metadata": {},
   "outputs": [],
   "source": [
    "ploidy_data = pd.read_excel(path)\n",
    "\n",
    "ploidy_data['age'] = (ploidy_data[['age_min', 'age_max']].\n",
    "                              mean(axis='columns'))\n",
    "ploidy_data /= 100.0\n",
    "ploidy_data['age'] *= 100\n",
    "\n",
    "ploidy = UnivariateSpline(ploidy_data['age'].values,\n",
    "                               ploidy_data['2C_mean'].values,\n",
    "                               ext=3, k=2)\n",
    "dtploidy = ploidy.derivative()\n",
    "ploidy2x2 = UnivariateSpline(ploidy_data['age'].values,\n",
    "                                  ploidy_data['2Cx2_mean'].values,\n",
    "                                  ext=3, k=2)"
   ]
  },
  {
   "cell_type": "code",
   "execution_count": 7,
   "metadata": {},
   "outputs": [],
   "source": [
    "t0 = np.linspace(0, 100, 50)\n",
    "p0 = ploidy(t0)\n",
    "dtp0 = dtploidy(t0)\n",
    "p2x20 = ploidy2x2(t0)\n",
    "years = np.linspace(1900, 2020, 50)\n",
    "Catm0 = c14.models.liver.Catm().lin(years)\n",
    "\n",
    "\n",
    "def ploidy(t):\n",
    "    C0 = p0\n",
    "    C = 0\n",
    "    for i in range(len(t0)-1):\n",
    "        C += (t>=t0[i]) * (t<t0[i+1]) * (C0[i]*(t0[i+1]-t) + C0[i+1]*(t-t0[i]))/(t0[i+1] - t0[i])\n",
    "    return C\n",
    "\n",
    "def ploidy2x2(t):\n",
    "    C0 = p2x20\n",
    "    C = 0\n",
    "    for i in range(len(t0)-1):\n",
    "        C += (t>=t0[i]) * (t<t0[i+1]) * (C0[i]*(t0[i+1]-t) + C0[i+1]*(t-t0[i]))/(t0[i+1] - t0[i])\n",
    "    return C\n",
    "\n",
    "def dtploidy(t):\n",
    "    C0 = dtp0\n",
    "    C = 0\n",
    "    for i in range(len(t0)-1):\n",
    "        C += (t>=t0[i]) * (t<t0[i+1]) * (C0[i]*(t0[i+1]-t) + C0[i+1]*(t-t0[i]))/(t0[i+1] - t0[i])\n",
    "    return C\n",
    "\n",
    "def Catm(t):\n",
    "    t0 = years\n",
    "    C0 = Catm0\n",
    "    C = 0\n",
    "    for i in range(len(t0)-1):\n",
    "        C += (t>=t0[i]) * (t<t0[i+1]) * (C0[i]*(t0[i+1]-t) + C0[i+1]*(t-t0[i]))/(t0[i+1] - t0[i])\n",
    "    return C"
   ]
  },
  {
   "cell_type": "code",
   "execution_count": 8,
   "metadata": {},
   "outputs": [],
   "source": [
    "data = pd.read_csv('../data/C14data_liver_samples_20191023.csv')\n",
    "data = data.groupby(['type', 'sample', 'ploidy', 'pathology']).mean().dropna(how='all').reset_index()\n",
    "data['age'] = data['Dcoll'] - data['Dbirth']\n",
    "data = data.query('type == \"hepatocyte\" and pathology != \"Y\"')\n",
    "# data = data.query('ploidy == \"2n4n\"')\n",
    "data = data[['sample', 'ploidy', 'Dbirth', 'age', 'd14C']]\n",
    "# data['d14C'] *= 1000\n",
    "data = data.sort_values('age')\n",
    "\n",
    "# data = data.head(10)\n",
    "\n",
    "data_unstack = (data\n",
    "                .set_index('d14C', drop=False)\n",
    "                .set_index(['sample', 'ploidy', 'Dbirth', 'age', 'age'], append=True)\n",
    "                .unstack().T.loc['d14C'])\n",
    "# for a in np.arange(0.0, data['age'].max(), 10):\n",
    "#     if not a in data_unstack.index:\n",
    "#         data_unstack.loc[a] = np.nan\n",
    "data_unstack = data_unstack.sort_index()\n",
    "\n",
    "age = data_unstack.index.values\n",
    "d14C_obs = np.ma.masked_invalid(data_unstack.values).T\n",
    "\n",
    "Dbirth = data_unstack.columns.to_frame()['Dbirth'].values\n",
    "subject_age = data_unstack.columns.to_frame()['age'].values\n",
    "ploidy_type = data_unstack.columns.to_frame()['ploidy'].values\n",
    "d14C_obs_1 = data_unstack.columns.to_frame()['d14C'].values\n",
    "n = data_unstack.shape[1]\n",
    "\n",
    "mask_n2n4 = ploidy_type == '2n4n'\n",
    "mask_n2 = ploidy_type == '2n'\n",
    "mask_n4 = ploidy_type == '4n'\n",
    "\n",
    "wn2 = np.empty_like(subject_age) \n",
    "wn4 = np.empty_like(subject_age) \n",
    "\n",
    "wn2[mask_n2n4] = ploidy(subject_age[mask_n2n4])\n",
    "wn2[mask_n2] = ploidy(subject_age[mask_n2])\n",
    "wn2[mask_n4] = 0\n",
    "\n",
    "wn4[mask_n2n4] = 2*(1-ploidy(subject_age[mask_n2n4]))\n",
    "wn4[mask_n2] = 2*ploidy2x2(subject_age[mask_n2])\n",
    "wn4[mask_n4] = 1\n",
    "\n",
    "wn2, wn4 = wn2/(wn2 + wn4), wn4/(wn2 + wn4)\n",
    "\n",
    "scaled_age = 1"
   ]
  },
  {
   "cell_type": "code",
   "execution_count": 9,
   "metadata": {},
   "outputs": [],
   "source": [
    "def ode_C_func(C, t, p):\n",
    "    lambda_ = p[0]\n",
    "    if isinstance(C, T.TensorVariable):\n",
    "        dC = lambda_*(Catm(t + Dbirth) - C) * T.where(t<=subject_age, T.ones_like(C),\n",
    "                                                 T.zeros_like(C))\n",
    "    else:\n",
    "        dC = lambda_*(Catm(t + Dbirth) - C) * np.where(t<=subject_age, np.ones_like(C),\n",
    "                                                 np.zeros_like(C))\n",
    "    return_string = '[' \n",
    "    for i in range(n):\n",
    "        return_string += f'dC[{i}], '\n",
    "    return_string += ']'\n",
    "    return eval(return_string)"
   ]
  },
  {
   "cell_type": "code",
   "execution_count": 10,
   "metadata": {},
   "outputs": [],
   "source": [
    "lambda_true = 0.1\n",
    "sigma_true = 0.01"
   ]
  },
  {
   "cell_type": "code",
   "execution_count": 11,
   "metadata": {},
   "outputs": [],
   "source": [
    "t_sim = age"
   ]
  },
  {
   "cell_type": "code",
   "execution_count": 12,
   "metadata": {},
   "outputs": [
    {
     "name": "stdout",
     "output_type": "stream",
     "text": [
      "CPU times: user 4.05 s, sys: 2.48 s, total: 6.53 s\n",
      "Wall time: 587 ms\n"
     ]
    }
   ],
   "source": [
    "%%time \n",
    "s = sp.integrate.solve_ivp(lambda t, y: ode_C_func(y, t, tuple([[lambda_true]])),\n",
    "                                   t_span=[0, age.max()],\n",
    "                                   y0=Catm(Dbirth),\n",
    "                                   method='BDF',\n",
    "                                   t_eval=age,\n",
    "                          atol=1e-6,\n",
    "                          rtol=1e-3)"
   ]
  },
  {
   "cell_type": "code",
   "execution_count": 13,
   "metadata": {},
   "outputs": [],
   "source": [
    "np.random.seed(42)\n",
    "yobs = np.random.normal(s.y, sigma_true)\n",
    "yobs = np.ma.array(yobs, mask=d14C_obs.mask)"
   ]
  },
  {
   "cell_type": "code",
   "execution_count": 14,
   "metadata": {},
   "outputs": [
    {
     "data": {
      "text/plain": [
       "(41, 33)"
      ]
     },
     "execution_count": 14,
     "metadata": {},
     "output_type": "execute_result"
    }
   ],
   "source": [
    "yobs.shape"
   ]
  },
  {
   "cell_type": "code",
   "execution_count": 15,
   "metadata": {},
   "outputs": [],
   "source": [
    "y_1 = np.empty_like(Dbirth)\n",
    "yobs_1 = np.empty_like(Dbirth)\n",
    "for i in np.arange(0, yobs.shape[0]):\n",
    "    y_1[i] = s.y[i, yobs[i].mask == False]\n",
    "    yobs_1[i] = yobs[i, yobs[i].mask == False]\n",
    "# yobs = np.ma.array(yobs, mask=mask)"
   ]
  },
  {
   "cell_type": "code",
   "execution_count": 16,
   "metadata": {},
   "outputs": [],
   "source": [
    "# plt.plot(Dbirth, Catm(Dbirth), marker='s', ls='None')\n",
    "# plt.plot(Dbirth, yobs[:,0], marker='s', ls='None')"
   ]
  },
  {
   "cell_type": "code",
   "execution_count": 17,
   "metadata": {},
   "outputs": [
    {
     "data": {
      "image/png": "[encoded data removed]",
      "text/plain": [
       "<Figure size 432x288 with 1 Axes>"
      ]
     },
     "metadata": {
      "needs_background": "light"
     },
     "output_type": "display_data"
    }
   ],
   "source": [
    "t = np.linspace(0, 70)\n",
    "plt.plot(t, Catm(t+Dbirth[3]))\n",
    "plt.plot(t_sim, s.y[3, :], marker='s')\n",
    "plt.plot(t_sim, yobs[3,:], marker='s')\n",
    "plt.show()"
   ]
  },
  {
   "cell_type": "code",
   "execution_count": 18,
   "metadata": {},
   "outputs": [],
   "source": [
    "d14Cdata = d14C_obs_1"
   ]
  },
  {
   "cell_type": "code",
   "execution_count": 19,
   "metadata": {},
   "outputs": [],
   "source": [
    "def ode_C_func_scaled(C, t, p):\n",
    "    lambda_ = p[0] \n",
    "    t *= subject_age / scaled_age\n",
    "    \n",
    "    dC = (subject_age / scaled_age) * lambda_*(Catm(t + Dbirth) - C)\n",
    "    \n",
    "    return [dC[i] for i in range(n)]"
   ]
  },
  {
   "cell_type": "code",
   "execution_count": 20,
   "metadata": {},
   "outputs": [],
   "source": [
    "s2 = sp.integrate.solve_ivp(lambda t, y: ode_C_func_scaled(y, t, tuple([[lambda_true]])),\n",
    "                                   t_span=[0, scaled_age],\n",
    "                                   y0=Catm(Dbirth),\n",
    "                                   method='BDF',\n",
    "                                   t_eval=[scaled_age],\n",
    "                           rtol=1e-3, atol=1e-6)"
   ]
  },
  {
   "cell_type": "code",
   "execution_count": 22,
   "metadata": {},
   "outputs": [
    {
     "name": "stderr",
     "output_type": "stream",
     "text": [
      "WARNING (theano.tensor.blas): We did not find a dynamic library in the library_dir of the library we use for blas. If you use ATLAS, make sure to compile it with dynamics library.\n"
     ]
    }
   ],
   "source": [
    "ode_C_model = DE(ode_C_func_scaled, times=[scaled_age], n_states=n, n_theta=1)"
   ]
  },
  {
   "cell_type": "code",
   "execution_count": 75,
   "metadata": {},
   "outputs": [],
   "source": [
    "with pm.Model() as POP1:\n",
    "    log10_lambda = pm.Uniform('log10_lambda', -3, 0)\n",
    "    lambda_ = pm.Deterministic('lambda_', 10**log10_lambda)\n",
    "#     sigma = pm.HalfNormal('sigma', 0.01)\n",
    "    \n",
    "    ode_C_solution = ode_C_model(y0=Catm(Dbirth), theta=[lambda_]).T.reshape(d14Cdata.shape)\n",
    "    \n",
    "    sigma = pm.Deterministic('sigma', pm.math.sqrt(pm.math.sum((d14Cdata - ode_C_solution)**2)/len(d14Cdata)))\n",
    "    \n",
    "    d14C = pm.Normal('d14C', mu=ode_C_solution, sd=sigma, observed=d14Cdata)\n",
    "    \n",
    "#     approx = pm.fit(n=1000)"
   ]
  },
  {
   "cell_type": "code",
   "execution_count": 76,
   "metadata": {},
   "outputs": [],
   "source": [
    "# trace0 = approx.sample(1000)\n",
    "# pm.plot_posterior(trace0['log10_lambda'])"
   ]
  },
  {
   "cell_type": "code",
   "execution_count": null,
   "metadata": {},
   "outputs": [
    {
     "name": "stderr",
     "output_type": "stream",
     "text": [
      "Only 200 samples in chain.\n",
      "WARNING:pymc3:Only 200 samples in chain.\n",
      "Auto-assigning NUTS sampler...\n",
      "INFO:pymc3:Auto-assigning NUTS sampler...\n",
      "Initializing NUTS using jitter+adapt_diag...\n",
      "INFO:pymc3:Initializing NUTS using jitter+adapt_diag...\n",
      "INFO (theano.gof.compilelock): Refreshing lock /home/fabrost/.theano/compiledir_Linux-4.12-lp151.28.25-default-x86_64-with-glibc2.10-x86_64-3.7.3-64/lock_dir/lock\n",
      "INFO:theano.gof.compilelock:Refreshing lock /home/fabrost/.theano/compiledir_Linux-4.12-lp151.28.25-default-x86_64-with-glibc2.10-x86_64-3.7.3-64/lock_dir/lock\n",
      "Sequential sampling (1 chains in 1 job)\n",
      "INFO:pymc3:Sequential sampling (1 chains in 1 job)\n",
      "NUTS: [log10_lambda]\n",
      "INFO:pymc3:NUTS: [log10_lambda]\n",
      "Sampling chain 0, 0 divergences:   2%|▏         | 7/300 [05:24<4:07:30, 50.69s/it]"
     ]
    }
   ],
   "source": [
    "with POP1:\n",
    "    trace1 = pm.sample(draws=200, tune=100, discard_tuned_samples=False, compute_convergence_checks=False, chains=1)"
   ]
  },
  {
   "cell_type": "code",
   "execution_count": 80,
   "metadata": {},
   "outputs": [
    {
     "data": {
      "text/plain": [
       "array([<matplotlib.axes._subplots.AxesSubplot object at 0x7ff19afe9048>],\n",
       "      dtype=object)"
      ]
     },
     "execution_count": 80,
     "metadata": {},
     "output_type": "execute_result"
    },
    {
     "data": {
      "image/png": "[encoded data removed]",
      "text/plain": [
       "<Figure size 864x144 with 2 Axes>"
      ]
     },
     "metadata": {
      "needs_background": "light"
     },
     "output_type": "display_data"
    },
    {
     "data": {
      "image/png": "[encoded data removed]",
      "text/plain": [
       "<Figure size 432x288 with 1 Axes>"
      ]
     },
     "metadata": {
      "needs_background": "light"
     },
     "output_type": "display_data"
    }
   ],
   "source": [
    "pm.traceplot(trace1['log10_lambda'])\n",
    "pm.plot_posterior(trace1['log10_lambda'])"
   ]
  },
  {
   "cell_type": "code",
   "execution_count": 82,
   "metadata": {},
   "outputs": [
    {
     "data": {
      "text/plain": [
       "300"
      ]
     },
     "execution_count": 82,
     "metadata": {},
     "output_type": "execute_result"
    }
   ],
   "source": [
    "len(trace1)"
   ]
  },
  {
   "cell_type": "code",
   "execution_count": null,
   "metadata": {},
   "outputs": [],
   "source": [
    "with POP1\n",
    "    trace2 = pm.sample(draws=500, tune=200, discard_tuned_samples=False, compute_convergence_checks=False, chains=1, trace=trace1)"
   ]
  },
  {
   "cell_type": "code",
   "execution_count": 81,
   "metadata": {},
   "outputs": [
    {
     "ename": "NameError",
     "evalue": "name 'trace2' is not defined",
     "output_type": "error",
     "traceback": [
      "\u001b[0;31m---------------------------------------------------------------------------\u001b[0m",
      "\u001b[0;31mNameError\u001b[0m                                 Traceback (most recent call last)",
      "\u001b[0;32m<ipython-input-81-d787268f72f6>\u001b[0m in \u001b[0;36m<module>\u001b[0;34m\u001b[0m\n\u001b[0;32m----> 1\u001b[0;31m \u001b[0mpm\u001b[0m\u001b[0;34m.\u001b[0m\u001b[0mtraceplot\u001b[0m\u001b[0;34m(\u001b[0m\u001b[0mtrace2\u001b[0m\u001b[0;34m[\u001b[0m\u001b[0;34m'log10_lambda'\u001b[0m\u001b[0;34m]\u001b[0m\u001b[0;34m)\u001b[0m\u001b[0;34m\u001b[0m\u001b[0;34m\u001b[0m\u001b[0m\n\u001b[0m\u001b[1;32m      2\u001b[0m \u001b[0mpm\u001b[0m\u001b[0;34m.\u001b[0m\u001b[0mplot_posterior\u001b[0m\u001b[0;34m(\u001b[0m\u001b[0mtrace2\u001b[0m\u001b[0;34m[\u001b[0m\u001b[0;34m'log10_lambda'\u001b[0m\u001b[0;34m]\u001b[0m\u001b[0;34m)\u001b[0m\u001b[0;34m\u001b[0m\u001b[0;34m\u001b[0m\u001b[0m\n",
      "\u001b[0;31mNameError\u001b[0m: name 'trace2' is not defined"
     ]
    }
   ],
   "source": [
    "pm.traceplot(trace2['log10_lambda'])\n",
    "pm.plot_posterior(trace2['log10_lambda'])"
   ]
  },
  {
   "cell_type": "code",
   "execution_count": null,
   "metadata": {},
   "outputs": [],
   "source": [
    "pm.plot_posterior(trace1['log10_lambda'])"
   ]
  },
  {
   "cell_type": "code",
   "execution_count": null,
   "metadata": {},
   "outputs": [],
   "source": [
    "with pm.Model() as POP1:\n",
    "    lambda_ = pm.Uniform('lambda_', 0, 1, testval=0.1)\n",
    "    sigma = pm.HalfNormal('sigma', 0.01)\n",
    "    \n",
    "    ode_C_solution = ode_C_model(y0=Catm(Dbirth), theta=[lambda_]).T.reshape(d14Cdata.shape)\n",
    "    \n",
    "    d14C = pm.Normal('d14C', mu=ode_C_solution, sd=sigma, observed=d14Cdata)\n",
    "\n",
    "    trace1 = pm.sample(draws=200, tune=100, compute_convergence_checks=False, chains=1)"
   ]
  },
  {
   "cell_type": "code",
   "execution_count": null,
   "metadata": {},
   "outputs": [],
   "source": [
    "pm.plot_posterior(trace1['lambda_'])"
   ]
  },
  {
   "cell_type": "markdown",
   "metadata": {},
   "source": [
    "## 2n/4n"
   ]
  },
  {
   "cell_type": "code",
   "execution_count": null,
   "metadata": {},
   "outputs": [],
   "source": [
    "def delta2_D(r2, r4, kappa24, kappa42, t):\n",
    "    return -kappa24 - kappa42 + r2 + kappa42/ploidy(t) - (dtploidy(t)*(1 + ploidy(t))**2)/(2.*ploidy(t))\n",
    "\n",
    "def delta4_D(r2, r4, kappa24, kappa42, t):\n",
    "    return -(dtploidy(t)*(1 + ploidy(t))**2 + 4*(-kappa42 + r4 + (2*kappa24 + kappa42 - r4)*ploidy(t)))/(4.*(-1 + ploidy(t)))"
   ]
  },
  {
   "cell_type": "code",
   "execution_count": null,
   "metadata": {},
   "outputs": [],
   "source": [
    "def ode_C2C4_func_scaled(y, t, p):\n",
    "    t *= (subject_age / scaled_age)\n",
    "    C2 = y[:n]\n",
    "    C4 = y[n:]\n",
    "    \n",
    "    r2 = p[0]\n",
    "    r4 = p[1]\n",
    "    kappa24 = p[2]\n",
    "    kappa42 = p[3]\n",
    "    \n",
    "    delta2 = delta2_D(r2, r4, kappa24, kappa42, t)\n",
    "    delta4 = delta4_D(r2, r4, kappa24, kappa42, t)\n",
    "#     assert (delta2 > 0).all()\n",
    "#     assert (delta4 > 0).all()\n",
    "    \n",
    "    dC2 = (subject_age / scaled_age) *(C2*kappa42 - C4*kappa42 - C2*r2 + r2*Catm(Dbirth + t) + ((-C2 + C4)*kappa42)/ploidy(t))\n",
    "    dC4 = (subject_age / scaled_age) * ((-(C4*(delta4 + kappa42 - 2*r4)) + (-(C2*kappa24) + C4*(delta4 + 4*kappa24 + kappa42 - 2*r4))*ploidy(t) + Catm(Dbirth + t)*(-r4 + (-kappa24 + r4)*ploidy(t)))/(-1 + ploidy(t)))\n",
    "    return [dC2[i] for i in range(n)] + [dC4[i] for i in range(n)]"
   ]
  },
  {
   "cell_type": "code",
   "execution_count": null,
   "metadata": {},
   "outputs": [],
   "source": [
    "r2_true = 0.1\n",
    "r4_true = 0.02\n",
    "kappa24_true = 0.01\n",
    "kappa42_true = 0.001"
   ]
  },
  {
   "cell_type": "code",
   "execution_count": null,
   "metadata": {},
   "outputs": [],
   "source": [
    "s = sp.integrate.solve_ivp(lambda t, y: ode_C2C4_func_scaled(y, t,\n",
    "                                                             [r2_true, r4_true,\n",
    "                                                                     kappa24_true, kappa42_true]),\n",
    "                                   t_span=[0, scaled_age],\n",
    "                                   y0=np.concatenate([Catm(Dbirth), Catm(Dbirth)]),\n",
    "                                   method='RK45',\n",
    "                                   t_eval=[scaled_age])"
   ]
  },
  {
   "cell_type": "code",
   "execution_count": null,
   "metadata": {},
   "outputs": [],
   "source": [
    "C2 = s.y[:n, 0]\n",
    "C4 = s.y[n:, 0]\n",
    "y = wn2*C2 + wn4*C4\n",
    "\n",
    "np.random.seed(42)\n",
    "yobs = np.random.normal(loc=y, scale=sigma_true)"
   ]
  },
  {
   "cell_type": "code",
   "execution_count": null,
   "metadata": {},
   "outputs": [],
   "source": [
    "%%time\n",
    "ode_C2C4_model = DE(ode_C2C4_func_scaled, times=[scaled_age], n_states=2*n, n_theta=4)"
   ]
  },
  {
   "cell_type": "code",
   "execution_count": null,
   "metadata": {},
   "outputs": [],
   "source": [
    "%%time\n",
    "Cdata = yobs\n",
    "\n",
    "with pm.Model() as D:\n",
    "    lower = 0\n",
    "    upper = 1.0\n",
    "    \n",
    "    r2 = pm.Uniform('r2', lower, upper, testval=0.1)\n",
    "    r4 = pm.Uniform('r4', testval=0.1)\n",
    "    kappa24 = pm.Uniform('kappa24', testval=0.1)\n",
    "    kappa42 = pm.Uniform('kappa42', testval=0.1)\n",
    "    \n",
    "    sigma = pm.Uniform('sigma', lower, upper, testval=0.1)\n",
    "    \n",
    "    test_times = np.linspace(0, subject_age.max(), 10)\n",
    "    for t in test_times:\n",
    "        pm.Potential(f'delta2_{t}',\n",
    "                     (delta2_D(r2, r4, kappa24, kappa42, t)<0) * delta2_D(r2, r4, kappa24, kappa42, t)**2)\n",
    "        pm.Potential(f'delta4_{t}',\n",
    "                     (delta4_D(r2, r4, kappa24, kappa42, t)<0) * delta4_D(r2, r4, kappa24, kappa42, t)**2)\n",
    "    \n",
    "    ode_C2C4_solution = ode_C2C4_model(y0=np.concatenate([Catm(Dbirth), Catm(Dbirth)]), \n",
    "                                       theta=[r2, r4, kappa24, kappa42])\n",
    "    \n",
    "    C2 = ode_C2C4_solution[0, :n]\n",
    "    C4 = ode_C2C4_solution[0, n:]\n",
    "    mu = wn2*C2 + wn4*C4\n",
    "    \n",
    "    d14C = pm.Normal('d14C', mu=mu, sd=sigma, observed=Cdata)\n",
    "#     map_ = pm.find_MAP()\n",
    "    trace2 = pm.sample(500, tune=100, compute_convergence_checks=False)\n",
    "#     approx2 = pm.fit(n=10000)"
   ]
  },
  {
   "cell_type": "code",
   "execution_count": null,
   "metadata": {},
   "outputs": [],
   "source": [
    "len(trace2)"
   ]
  },
  {
   "cell_type": "code",
   "execution_count": null,
   "metadata": {},
   "outputs": [],
   "source": []
  }
 ],
 "metadata": {
  "kernelspec": {
   "display_name": "Python [conda env:spols191122] *",
   "language": "python",
   "name": "conda-env-spols191122-py"
  },
  "language_info": {
   "codemirror_mode": {
    "name": "ipython",
    "version": 3
   },
   "file_extension": ".py",
   "mimetype": "text/x-python",
   "name": "python",
   "nbconvert_exporter": "python",
   "pygments_lexer": "ipython3",
   "version": "3.7.3"
  }
 },
 "nbformat": 4,
 "nbformat_minor": 4
}
