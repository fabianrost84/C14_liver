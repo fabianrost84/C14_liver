{
 "cells": [
  {
   "cell_type": "markdown",
   "metadata": {},
   "source": [
    "# Preparation"
   ]
  },
  {
   "cell_type": "code",
   "execution_count": 1,
   "metadata": {
    "ExecuteTime": {
     "end_time": "2018-01-19T12:43:50.187659Z",
     "start_time": "2018-01-19T12:43:48.034223Z"
    }
   },
   "outputs": [],
   "source": [
    "import iminuit\n",
    "%load_ext line_profiler\n",
    "import matplotlib.pyplot as plt\n",
    "%matplotlib inline\n",
    "import numba\n",
    "import numpy as np\n",
    "import pandas as pd\n",
    "import pymc3 as pm\n",
    "import scipy as sp\n",
    "from scipy import optimize\n",
    "import seaborn as sns\n",
    "from theano.compile.ops import as_op\n",
    "import theano.tensor as tt\n",
    "import functools\n",
    "\n",
    "sns.set_style('darkgrid')\n",
    "sns.set_context('notebook')"
   ]
  },
  {
   "cell_type": "code",
   "execution_count": 2,
   "metadata": {
    "ExecuteTime": {
     "end_time": "2018-01-19T12:43:50.191708Z",
     "start_time": "2018-01-19T12:43:50.189069Z"
    }
   },
   "outputs": [],
   "source": [
    "results = pd.DataFrame()"
   ]
  },
  {
   "cell_type": "markdown",
   "metadata": {},
   "source": [
    "# Load C14 models"
   ]
  },
  {
   "cell_type": "code",
   "execution_count": 3,
   "metadata": {
    "ExecuteTime": {
     "end_time": "2018-01-19T12:43:50.291743Z",
     "start_time": "2018-01-19T12:43:50.193190Z"
    }
   },
   "outputs": [],
   "source": [
    "import c14_models"
   ]
  },
  {
   "cell_type": "markdown",
   "metadata": {},
   "source": [
    "# Read patient data"
   ]
  },
  {
   "cell_type": "code",
   "execution_count": 4,
   "metadata": {
    "ExecuteTime": {
     "end_time": "2018-01-19T12:43:50.368122Z",
     "start_time": "2018-01-19T12:43:50.293051Z"
    }
   },
   "outputs": [
    {
     "data": {
      "text/html": [
       "<div>\n",
       "<style>\n",
       "    .dataframe thead tr:only-child th {\n",
       "        text-align: right;\n",
       "    }\n",
       "\n",
       "    .dataframe thead th {\n",
       "        text-align: left;\n",
       "    }\n",
       "\n",
       "    .dataframe tbody tr th {\n",
       "        vertical-align: top;\n",
       "    }\n",
       "</style>\n",
       "<table border=\"1\" class=\"dataframe\">\n",
       "  <thead>\n",
       "    <tr style=\"text-align: right;\">\n",
       "      <th></th>\n",
       "      <th>type</th>\n",
       "      <th>pub_id</th>\n",
       "      <th>Dbirth</th>\n",
       "      <th>Dcoll</th>\n",
       "      <th>d14C</th>\n",
       "      <th>hepa_fraction</th>\n",
       "      <th>nonhepa_fraction</th>\n",
       "    </tr>\n",
       "  </thead>\n",
       "  <tbody>\n",
       "    <tr>\n",
       "      <th>0</th>\n",
       "      <td>unsorted</td>\n",
       "      <td>PH1</td>\n",
       "      <td>1942.833333</td>\n",
       "      <td>2016.416667</td>\n",
       "      <td>0.078416</td>\n",
       "      <td>0.90</td>\n",
       "      <td>0.04</td>\n",
       "    </tr>\n",
       "    <tr>\n",
       "      <th>1</th>\n",
       "      <td>unsorted</td>\n",
       "      <td>PH2</td>\n",
       "      <td>1991.416667</td>\n",
       "      <td>2016.833333</td>\n",
       "      <td>0.025254</td>\n",
       "      <td>0.78</td>\n",
       "      <td>0.17</td>\n",
       "    </tr>\n",
       "    <tr>\n",
       "      <th>2</th>\n",
       "      <td>hepatocyte</td>\n",
       "      <td>PH3</td>\n",
       "      <td>1985.166667</td>\n",
       "      <td>2016.416667</td>\n",
       "      <td>0.040336</td>\n",
       "      <td>0.76</td>\n",
       "      <td>0.13</td>\n",
       "    </tr>\n",
       "    <tr>\n",
       "      <th>3</th>\n",
       "      <td>hepatocyte</td>\n",
       "      <td>PH4</td>\n",
       "      <td>1982.083333</td>\n",
       "      <td>2016.500000</td>\n",
       "      <td>0.018815</td>\n",
       "      <td>0.80</td>\n",
       "      <td>0.13</td>\n",
       "    </tr>\n",
       "    <tr>\n",
       "      <th>4</th>\n",
       "      <td>hepatocyte</td>\n",
       "      <td>PH6</td>\n",
       "      <td>1946.500000</td>\n",
       "      <td>2004.833333</td>\n",
       "      <td>0.075001</td>\n",
       "      <td>0.68</td>\n",
       "      <td>0.25</td>\n",
       "    </tr>\n",
       "  </tbody>\n",
       "</table>\n",
       "</div>"
      ],
      "text/plain": [
       "         type pub_id       Dbirth        Dcoll      d14C  hepa_fraction  \\\n",
       "0    unsorted    PH1  1942.833333  2016.416667  0.078416           0.90   \n",
       "1    unsorted    PH2  1991.416667  2016.833333  0.025254           0.78   \n",
       "2  hepatocyte    PH3  1985.166667  2016.416667  0.040336           0.76   \n",
       "3  hepatocyte    PH4  1982.083333  2016.500000  0.018815           0.80   \n",
       "4  hepatocyte    PH6  1946.500000  2004.833333  0.075001           0.68   \n",
       "\n",
       "   nonhepa_fraction  \n",
       "0              0.04  \n",
       "1              0.17  \n",
       "2              0.13  \n",
       "3              0.13  \n",
       "4              0.25  "
      ]
     },
     "execution_count": 4,
     "metadata": {},
     "output_type": "execute_result"
    }
   ],
   "source": [
    "c14_patient_data = pd.read_excel('data/C14data_liver_samples.xlsx')[['sort', 'Code', 'DOB', 'DOA', u'Δ 14C', '% hepa // non-hepa']]\n",
    "c14_patient_data['hepa_fraction'] = c14_patient_data['% hepa // non-hepa'].apply(lambda x: x[:2]).astype('float') / 100.0\n",
    "c14_patient_data['nonhepa_fraction'] = c14_patient_data['% hepa // non-hepa'].apply(lambda x: x[-2:]).astype('float') / 100.0\n",
    "c14_patient_data = c14_patient_data.drop('% hepa // non-hepa', axis='columns')\n",
    "c14_patient_data.columns = ['type', 'pub_id', 'Dbirth', 'Dcoll', 'd14C', 'hepa_fraction', 'nonhepa_fraction']\n",
    "c14_patient_data['d14C'] /= 1000.0\n",
    "c14_patient_data.head()"
   ]
  },
  {
   "cell_type": "code",
   "execution_count": 5,
   "metadata": {
    "ExecuteTime": {
     "end_time": "2018-01-19T12:43:50.378535Z",
     "start_time": "2018-01-19T12:43:50.370177Z"
    }
   },
   "outputs": [
    {
     "name": "stdout",
     "output_type": "stream",
     "text": [
      "f: 0.76+-0.02\n"
     ]
    }
   ],
   "source": [
    "f = (c14_patient_data['hepa_fraction'] / (c14_patient_data['hepa_fraction'] + c14_patient_data['nonhepa_fraction'])).mean()\n",
    "d_f = (c14_patient_data['hepa_fraction'] / (c14_patient_data['hepa_fraction'] + c14_patient_data['nonhepa_fraction'])).sem()\n",
    "\n",
    "print('f: {0:.2f}+-{1:.2f}'.format(f, d_f))"
   ]
  },
  {
   "cell_type": "markdown",
   "metadata": {},
   "source": [
    "# SSE & log-likelihood"
   ]
  },
  {
   "cell_type": "code",
   "execution_count": 6,
   "metadata": {
    "ExecuteTime": {
     "end_time": "2018-01-19T12:43:50.391755Z",
     "start_time": "2018-01-19T12:43:50.380709Z"
    }
   },
   "outputs": [],
   "source": [
    "def SSE(p, model, data):\n",
    "    model_data = model(data['Dbirth'].values, \n",
    "                    data['Dcoll'].values, \n",
    "                    *p)\n",
    "    sse = np.sum((model_data - data['d14C'].values)**2)\n",
    "    return sse    "
   ]
  },
  {
   "cell_type": "code",
   "execution_count": 7,
   "metadata": {
    "ExecuteTime": {
     "end_time": "2018-01-19T12:43:50.403502Z",
     "start_time": "2018-01-19T12:43:50.393799Z"
    }
   },
   "outputs": [],
   "source": [
    "def Sigma(p, model, data):\n",
    "    sse = SSE(p, model, data)\n",
    "    n = len(data)\n",
    "    sigma = np.sqrt(sse/n)\n",
    "    return sigma"
   ]
  },
  {
   "cell_type": "code",
   "execution_count": 8,
   "metadata": {
    "ExecuteTime": {
     "end_time": "2018-01-19T12:43:50.419427Z",
     "start_time": "2018-01-19T12:43:50.405401Z"
    }
   },
   "outputs": [],
   "source": [
    "def Nloglike(p, model, data):\n",
    "    try:\n",
    "        sse = SSE(p, model, data)\n",
    "    except:\n",
    "        sse = SSE([p], model, data)\n",
    "    n = len(data)\n",
    "    sig = np.sqrt(sse/n)\n",
    "    loglike = -n/2 * np.log(2*np.pi) - n/2 * np.log(sig**2) - 1 / (2*sig**2) * sse\n",
    "    return -loglike"
   ]
  },
  {
   "cell_type": "markdown",
   "metadata": {},
   "source": [
    "# Combined fit"
   ]
  },
  {
   "cell_type": "code",
   "execution_count": 9,
   "metadata": {
    "ExecuteTime": {
     "end_time": "2018-01-19T12:43:50.429860Z",
     "start_time": "2018-01-19T12:43:50.421131Z"
    }
   },
   "outputs": [],
   "source": [
    "@functools.lru_cache(maxsize=1024)\n",
    "def cI1(Dbirth, Dcoll, lam):\n",
    "    return c14_models.I1(Dbirth, Dcoll, lam, t_eval=np.linspace(Dbirth, Dcoll))[1][-1]"
   ]
  },
  {
   "cell_type": "code",
   "execution_count": 10,
   "metadata": {
    "ExecuteTime": {
     "end_time": "2018-01-19T12:43:50.439561Z",
     "start_time": "2018-01-19T12:43:50.431339Z"
    }
   },
   "outputs": [],
   "source": [
    "@np.vectorize\n",
    "def I1(Dbirth, Dcoll, loglam):\n",
    "    lam = np.exp(loglam)\n",
    "    return cI1(Dbirth, Dcoll, lam)"
   ]
  },
  {
   "cell_type": "code",
   "execution_count": 11,
   "metadata": {
    "ExecuteTime": {
     "end_time": "2018-01-19T12:43:50.450675Z",
     "start_time": "2018-01-19T12:43:50.440942Z"
    }
   },
   "outputs": [],
   "source": [
    "@np.vectorize\n",
    "def I2p(Dbirth, Dcoll, loglam_hep, loglam_nonhep, f):\n",
    "    lam_hep = np.exp(loglam_hep)\n",
    "    lam_nonhep = np.exp(loglam_nonhep)\n",
    "    \n",
    "    c = f * cI1(Dbirth, Dcoll, lam_hep) + \\\n",
    "        (1-f) * cI1(Dbirth, Dcoll, lam_nonhep)\n",
    "    \n",
    "    return c"
   ]
  },
  {
   "cell_type": "markdown",
   "metadata": {},
   "source": [
    "## Model"
   ]
  },
  {
   "cell_type": "code",
   "execution_count": 12,
   "metadata": {
    "ExecuteTime": {
     "end_time": "2018-01-19T12:43:50.473033Z",
     "start_time": "2018-01-19T12:43:50.451998Z"
    }
   },
   "outputs": [],
   "source": [
    "def Nloglike_combined(p, data, f=f):\n",
    "    loglam_hep, loglam_nonhep = p\n",
    "    f = f\n",
    "    \n",
    "    hep_data = data.query('type == \"hepatocyte\"')\n",
    "    hep_negloglike = Nloglike(loglam_hep, I1, hep_data)\n",
    "    \n",
    "    nonhep_data = data.query('type == \"non-hepatocyte\"')\n",
    "    nonhep_negloglike = Nloglike(loglam_nonhep, I1, nonhep_data)\n",
    "    \n",
    "    unsorted_data = data.query('type == \"unsorted\"')\n",
    "    unsorted_negloglike = Nloglike([loglam_hep, loglam_nonhep, f], I2p, unsorted_data)\n",
    "    \n",
    "    return hep_negloglike + nonhep_negloglike + unsorted_negloglike"
   ]
  },
  {
   "cell_type": "markdown",
   "metadata": {
    "ExecuteTime": {
     "end_time": "2018-01-19T10:47:47.466985Z",
     "start_time": "2018-01-19T10:47:47.461867Z"
    }
   },
   "source": [
    "## Fit"
   ]
  },
  {
   "cell_type": "code",
   "execution_count": 13,
   "metadata": {
    "ExecuteTime": {
     "end_time": "2018-01-19T12:43:56.811476Z",
     "start_time": "2018-01-19T12:43:50.474619Z"
    }
   },
   "outputs": [],
   "source": [
    "res = sp.optimize.brute(func=Nloglike_combined, \n",
    "                  ranges=[(-2.5, -1), (-3, 0.)],\n",
    "                  args = (c14_patient_data, ),\n",
    "                  Ns = 20,\n",
    "                  full_output = True,\n",
    "                  finish=None)"
   ]
  },
  {
   "cell_type": "code",
   "execution_count": 22,
   "metadata": {
    "ExecuteTime": {
     "end_time": "2018-01-19T12:45:14.874743Z",
     "start_time": "2018-01-19T12:45:14.743114Z"
    }
   },
   "outputs": [
    {
     "data": {
      "image/png": "[encoded data removed]",
      "text/plain": [
       "<matplotlib.figure.Figure at 0x7f978be6c4e0>"
      ]
     },
     "metadata": {},
     "output_type": "display_data"
    }
   ],
   "source": [
    "x = res[2][0]\n",
    "y = res[2][1]\n",
    "z = res[3]\n",
    "z -= z.min()\n",
    "\n",
    "vmax = 12\n",
    "\n",
    "CS = plt.contour(sp.exp(x), sp.exp(y), z, colors='white', \n",
    "           levels=[0.5, 2, 4.5])\n",
    "plt.clabel(CS, inline=1, fontsize=10)\n",
    "\n",
    "plt.pcolormesh(sp.exp(x), sp.exp(y), z, vmax=vmax)\n",
    "\n",
    "\n",
    "\n",
    "plt.xlabel('lam_hep')\n",
    "plt.ylabel('lam_nonhep')\n",
    "plt.colorbar()\n",
    "\n",
    "plt.show()"
   ]
  },
  {
   "cell_type": "code",
   "execution_count": 15,
   "metadata": {
    "ExecuteTime": {
     "end_time": "2018-01-19T12:44:08.888121Z",
     "start_time": "2018-01-19T12:44:07.832110Z"
    }
   },
   "outputs": [
    {
     "name": "stdout",
     "output_type": "stream",
     "text": [
      "lamda_hep 0.195620455746\n",
      "lamda_nonhep 0.109642926523\n"
     ]
    }
   ],
   "source": [
    "lam_hep = sp.exp(res[0][0])\n",
    "print('lamda_hep', lam_hep)\n",
    "\n",
    "lam_nonhep = sp.exp(res[0][1])\n",
    "print('lamda_nonhep', lam_nonhep)"
   ]
  },
  {
   "cell_type": "code",
   "execution_count": 16,
   "metadata": {
    "ExecuteTime": {
     "end_time": "2018-01-19T12:44:07.816158Z",
     "start_time": "2018-01-19T12:43:57.043430Z"
    }
   },
   "outputs": [],
   "source": [
    "opt_res = sp.optimize.minimize(fun=Nloglike_combined, \n",
    "                               x0=res[0],\n",
    "                               args = (c14_patient_data, ),\n",
    "                               method='Nelder-Mead'\n",
    "                              )"
   ]
  },
  {
   "cell_type": "code",
   "execution_count": 17,
   "metadata": {
    "ExecuteTime": {
     "end_time": "2018-01-19T12:44:07.820928Z",
     "start_time": "2018-01-19T12:44:07.817611Z"
    }
   },
   "outputs": [
    {
     "data": {
      "text/plain": [
       " final_simplex: (array([[-1.65016128, -2.20819918],\n",
       "       [-1.65015098, -2.20822553],\n",
       "       [-1.65010123, -2.20814406]]), array([-88.62351287, -88.62349736, -88.62349237]))\n",
       "           fun: -88.623512867961821\n",
       "       message: 'Optimization terminated successfully.'\n",
       "          nfev: 51\n",
       "           nit: 23\n",
       "        status: 0\n",
       "       success: True\n",
       "             x: array([-1.65016128, -2.20819918])"
      ]
     },
     "execution_count": 17,
     "metadata": {},
     "output_type": "execute_result"
    }
   ],
   "source": [
    "opt_res"
   ]
  },
  {
   "cell_type": "code",
   "execution_count": 18,
   "metadata": {
    "ExecuteTime": {
     "end_time": "2018-01-19T12:44:07.830672Z",
     "start_time": "2018-01-19T12:44:07.822023Z"
    }
   },
   "outputs": [
    {
     "name": "stdout",
     "output_type": "stream",
     "text": [
      "lamda_hep 0.192018938112\n",
      "lamda_nonhep 0.109898377519\n"
     ]
    }
   ],
   "source": [
    "lam_hep = sp.exp(opt_res['x'][0])\n",
    "print('lamda_hep', lam_hep)\n",
    "\n",
    "lam_nonhep = sp.exp(opt_res['x'][1])\n",
    "print('lamda_nonhep', lam_nonhep)"
   ]
  },
  {
   "cell_type": "markdown",
   "metadata": {},
   "source": [
    "## Plot"
   ]
  },
  {
   "cell_type": "code",
   "execution_count": 19,
   "metadata": {
    "ExecuteTime": {
     "end_time": "2018-01-19T12:44:08.888121Z",
     "start_time": "2018-01-19T12:44:07.832110Z"
    }
   },
   "outputs": [
    {
     "data": {
      "image/png": "[encoded data removed]",
      "text/plain": [
       "<matplotlib.figure.Figure at 0x7f978bfa4f60>"
      ]
     },
     "metadata": {},
     "output_type": "display_data"
    }
   ],
   "source": [
    "fig, ax = plt.subplots(1, 3, sharex = True, sharey=True,\n",
    "                       figsize=(12, 8))\n",
    "\n",
    "time = sp.linspace(1910.0, 2020.0, 1000)\n",
    "\n",
    "hep_data = c14_patient_data.query('type == \"hepatocyte\"')\n",
    "nonhep_data = c14_patient_data.query('type == \"non-hepatocyte\"')\n",
    "unsorted_data = c14_patient_data.query('type == \"unsorted\"')\n",
    "    \n",
    "\n",
    "for a, data in zip(ax, [hep_data, nonhep_data, unsorted_data]):\n",
    "    a.plot(time, np.vectorize(c14_models.C_atm)(time), \n",
    "           label = 'Atmosphere', color = 'black')\n",
    "                \n",
    "    a.errorbar(data['Dbirth'], \n",
    "                data['d14C'], \n",
    "                marker = 'o', ls = 'None', color = 'black',\n",
    "                label = 'Exp'\n",
    "               )\n",
    "    \n",
    "    a.set_xlabel('Calendar year')\n",
    "    \n",
    "    \n",
    "\n",
    "ax[0].errorbar(hep_data['Dbirth'], \n",
    "            I1(hep_data['Dbirth'], \n",
    "               hep_data['Dcoll'], \n",
    "               np.log(lam_hep)), \n",
    "            Sigma([lam_hep], I1, hep_data),\n",
    "            color = 'white', ecolor = 'black', \n",
    "            marker='s', ls = '',\n",
    "            label = 'Model')\n",
    "\n",
    "ax[1].errorbar(nonhep_data['Dbirth'], \n",
    "            I1(nonhep_data['Dbirth'], \n",
    "               nonhep_data['Dcoll'], \n",
    "               np.log(lam_nonhep)), \n",
    "            Sigma([lam_nonhep], I1, nonhep_data),\n",
    "            color = 'white', ecolor = 'black', \n",
    "            marker='s', ls = '',\n",
    "            label = 'Model')\n",
    "\n",
    "ax[2].errorbar(unsorted_data['Dbirth'], \n",
    "            I2p(unsorted_data['Dbirth'], \n",
    "               unsorted_data['Dcoll'], \n",
    "               np.log(lam_hep), np.log(lam_nonhep), f), \n",
    "            Sigma([lam_hep, lam_nonhep, f], I2p, unsorted_data),\n",
    "            color = 'white', ecolor = 'black', \n",
    "            marker='s', ls = '',\n",
    "            label = 'Model')\n",
    "\n",
    "\n",
    "ax[0].set_title('hep')\n",
    "ax[1].set_title('nonhep')\n",
    "ax[2].set_title('unsorted')\n",
    "\n",
    "ax[0].set_xlim((1909, 2020))\n",
    "ax[0].set_ylim(-0.05, 0.15)\n",
    "ax[0].set_xticks(sp.linspace(1910, 2010, 6), minor = 1)\n",
    "\n",
    "\n",
    "ax[0].set_ylabel('$\\Delta^{14}$C')\n",
    "\n",
    "plt.show()"
   ]
  }
 ],
 "metadata": {
  "anaconda-cloud": {},
  "kernelspec": {
   "display_name": "Python [default]",
   "language": "python",
   "name": "python3"
  },
  "language_info": {
   "codemirror_mode": {
    "name": "ipython",
    "version": 3
   },
   "file_extension": ".py",
   "mimetype": "text/x-python",
   "name": "python",
   "nbconvert_exporter": "python",
   "pygments_lexer": "ipython3",
   "version": "3.6.4"
  },
  "notify_time": "30",
  "toc": {
   "base_numbering": 1,
   "nav_menu": {
    "height": "251px",
    "width": "252px"
   },
   "number_sections": true,
   "sideBar": true,
   "skip_h1_title": false,
   "title_cell": "Table of Contents",
   "title_sidebar": "Contents",
   "toc_cell": false,
   "toc_position": {
    "height": "913px",
    "left": "0px",
    "right": "1708px",
    "top": "111px",
    "width": "212px"
   },
   "toc_section_display": "block",
   "toc_window_display": true
  }
 },
 "nbformat": 4,
 "nbformat_minor": 1
}
