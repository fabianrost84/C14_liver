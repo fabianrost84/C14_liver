{
 "cells": [
  {
   "cell_type": "markdown",
   "metadata": {},
   "source": [
    "# Initialise "
   ]
  },
  {
   "cell_type": "code",
   "execution_count": 2,
   "metadata": {
    "ExecuteTime": {
     "end_time": "2019-06-12T16:46:11.667471Z",
     "start_time": "2019-06-12T16:46:09.329920Z"
    }
   },
   "outputs": [],
   "source": [
    "import datetime\n",
    "import numpy as np\n",
    "import pandas as pd\n",
    "import matplotlib.pyplot as plt\n",
    "%matplotlib inline"
   ]
  },
  {
   "cell_type": "code",
   "execution_count": 3,
   "metadata": {
    "ExecuteTime": {
     "end_time": "2019-06-12T16:46:13.511824Z",
     "start_time": "2019-06-12T16:46:13.248916Z"
    },
    "scrolled": false
   },
   "outputs": [],
   "source": [
    "%load_ext autoreload\n",
    "%autoreload 2\n",
    "import c14\n",
    "from c14 import livermodels as lm\n",
    "\n"
   ]
  },
  {
   "cell_type": "code",
   "execution_count": 4,
   "metadata": {
    "ExecuteTime": {
     "end_time": "2019-06-12T16:46:14.483512Z",
     "start_time": "2019-06-12T16:46:14.348904Z"
    }
   },
   "outputs": [],
   "source": [
    "data = pd.read_csv('./results/C14data_liver_samples_20190502.csv')\n",
    "c14_patient_data = data.groupby(['type', 'sample', 'ploidy', 'pathology']).mean().dropna(how='all').reset_index()\n",
    "c14_patient_data['age'] = c14_patient_data.Dcoll - c14_patient_data.Dbirth \n",
    "c14_patient_data['e14C'] = c14_patient_data.error_measurement\n",
    "data = c14_patient_data.query('type == \"hepatocyte\"')\n",
    "edata = c14.exp_data(data)"
   ]
  },
  {
   "cell_type": "code",
   "execution_count": 5,
   "metadata": {
    "ExecuteTime": {
     "end_time": "2019-06-12T16:46:16.618136Z",
     "start_time": "2019-06-12T16:46:16.122489Z"
    }
   },
   "outputs": [],
   "source": [
    "m  = lm.Pl2p()\n",
    "op = c14.optimize(model=m,data=edata,step_size=2)\n",
    "vis= c14.visualisze(model=m,data=edata)\n"
   ]
  },
  {
   "cell_type": "code",
   "execution_count": 9,
   "metadata": {
    "ExecuteTime": {
     "end_time": "2019-06-12T16:46:17.476955Z",
     "start_time": "2019-06-12T16:46:17.309712Z"
    }
   },
   "outputs": [
    {
     "data": {
      "text/plain": [
       "81.8710330442249"
      ]
     },
     "execution_count": 9,
     "metadata": {},
     "output_type": "execute_result"
    }
   ],
   "source": [
    "op.loglike_dict(dict(lambda4=-1,delta4=-1,delta2=-1,kappa=-1))"
   ]
  },
  {
   "cell_type": "code",
   "execution_count": 10,
   "metadata": {},
   "outputs": [
    {
     "data": {
      "text/plain": [
       "\n",
       "Parameters are:\n",
       "delta2 = 0.1\n",
       "delta4 = 0.1\n",
       "kappa = 0.1\n",
       "lambda4 = 0.1\n",
       "\n",
       "Implicit Parameters are:\n",
       "lambda2 = [0.09779184991769264, 0.1029375897036036, 0.1069551847768588, 0.10925588767486123, 0.10911921785498678]\n",
       "p = [0.9100601868847534, 0.8516321187523971, 0.677873347631821, 0.3946030268534627, 0.19494388889301023]\n",
       "\n",
       "Variables are t=[0,25,50,75,100]:\n",
       "n2\n",
       "n4\n",
       "\n",
       "Default parameters are:\n",
       "kappa = 1\n",
       "lambda4 = 1\n",
       "delta2 = 1\n",
       "delta4 = 1\n",
       "\n",
       "Default limit are:\n",
       "kappa = (1e-06, 100)\n",
       "lambda4 = (1e-06, 100)\n",
       "delta2 = (1e-06, 100)\n",
       "delta4 = (1e-06, 100)\n",
       "\n",
       "Default errors are:\n",
       "kappa = 0.5\n",
       "lambda4 = 0.5\n",
       "delta2 = 0.5\n",
       "delta4 = 0.5"
      ]
     },
     "execution_count": 10,
     "metadata": {},
     "output_type": "execute_result"
    }
   ],
   "source": [
    "m"
   ]
  },
  {
   "cell_type": "code",
   "execution_count": 11,
   "metadata": {
    "ExecuteTime": {
     "end_time": "2019-06-12T16:51:50.948878Z",
     "start_time": "2019-06-12T16:51:50.929752Z"
    }
   },
   "outputs": [],
   "source": [
    "m.limit['lambda4'] = (1e-99, 1e0)\n",
    "m.limit['delta4'] = (1e-99, 1e0)\n",
    "m.limit['delta2'] = (1e-99, 1e0)\n",
    "m.limit['kappa'] = (1e-99, 0.1)"
   ]
  },
  {
   "cell_type": "code",
   "execution_count": 12,
   "metadata": {
    "ExecuteTime": {
     "end_time": "2019-06-12T16:51:51.774496Z",
     "start_time": "2019-06-12T16:51:51.746036Z"
    }
   },
   "outputs": [
    {
     "data": {
      "text/plain": [
       "\n",
       "Parameters are:\n",
       "delta2 = 0.1\n",
       "delta4 = 0.1\n",
       "kappa = 0.1\n",
       "lambda4 = 0.1\n",
       "\n",
       "Implicit Parameters are:\n",
       "lambda2 = [0.09779184991769264, 0.1029375897036036, 0.1069551847768588, 0.10925588767486123, 0.10911921785498678]\n",
       "p = [0.9100601868847534, 0.8516321187523971, 0.677873347631821, 0.3946030268534627, 0.19494388889301023]\n",
       "\n",
       "Variables are t=[0,25,50,75,100]:\n",
       "n2\n",
       "n4\n",
       "\n",
       "Default parameters are:\n",
       "kappa = 1\n",
       "lambda4 = 1\n",
       "delta2 = 1\n",
       "delta4 = 1\n",
       "\n",
       "Default limit are:\n",
       "kappa = (1e-99, 0.1)\n",
       "lambda4 = (1e-99, 1.0)\n",
       "delta2 = (1e-99, 1.0)\n",
       "delta4 = (1e-99, 1.0)\n",
       "\n",
       "Default errors are:\n",
       "kappa = 0.5\n",
       "lambda4 = 0.5\n",
       "delta2 = 0.5\n",
       "delta4 = 0.5"
      ]
     },
     "execution_count": 12,
     "metadata": {},
     "output_type": "execute_result"
    }
   ],
   "source": [
    "m"
   ]
  },
  {
   "cell_type": "markdown",
   "metadata": {},
   "source": [
    "# Fit"
   ]
  },
  {
   "cell_type": "code",
   "execution_count": 13,
   "metadata": {},
   "outputs": [
    {
     "name": "stderr",
     "output_type": "stream",
     "text": [
      "/home/fabrost/pksCloud/projects/C14_liver/source/c14/c14/base.py:112: UserWarning: Parameter kappa=0.10115794542598985 is outside the limits (1e-99, 0.1)\n",
      "  warnings.warn(wstr,UserWarning)\n",
      "/home/fabrost/pksCloud/projects/C14_liver/source/c14/c14/base.py:112: UserWarning: Parameter kappa=0.10011519555381687 is outside the limits (1e-99, 0.1)\n",
      "  warnings.warn(wstr,UserWarning)\n",
      "/home/fabrost/pksCloud/projects/C14_liver/source/c14/c14/base.py:112: UserWarning: Parameter kappa=0.10001151358822767 is outside the limits (1e-99, 0.1)\n",
      "  warnings.warn(wstr,UserWarning)\n",
      "/home/fabrost/pksCloud/projects/C14_liver/source/c14/c14/base.py:112: UserWarning: Parameter kappa=0.1000011512991739 is outside the limits (1e-99, 0.1)\n",
      "  warnings.warn(wstr,UserWarning)\n",
      "/home/fabrost/pksCloud/projects/C14_liver/source/c14/c14/base.py:112: UserWarning: Parameter kappa=0.10000011512932092 is outside the limits (1e-99, 0.1)\n",
      "  warnings.warn(wstr,UserWarning)\n",
      "/home/fabrost/pksCloud/projects/C14_liver/source/c14/c14/optimize.py:99: UserWarning: Value Error in ode int: need at least one array to concatenate\n",
      "  warnings.warn(\"Value Error in ode int: \" + str(e), UserWarning)\n"
     ]
    }
   ],
   "source": [
    "res = op.optimize_minuit(dict(lambda4=-1,delta4=-1,delta2=-1,kappa=-1))"
   ]
  },
  {
   "cell_type": "code",
   "execution_count": 14,
   "metadata": {},
   "outputs": [
    {
     "data": {
      "text/plain": [
       "({'delta2': -1.0,\n",
       "  'delta4': -0.3246916002314777,\n",
       "  'kappa': -1.0,\n",
       "  'lambda4': -1.0},\n",
       " {'delta2': nan, 'delta4': nan, 'kappa': nan, 'lambda4': nan},\n",
       " -99.31473726397799,\n",
       " True,\n",
       "          delta2  delta4  kappa  lambda4\n",
       " delta2      NaN     NaN    NaN      NaN\n",
       " delta4      NaN     NaN    NaN      NaN\n",
       " kappa       NaN     NaN    NaN      NaN\n",
       " lambda4     NaN     NaN    NaN      NaN,\n",
       "          delta2  delta4  kappa  lambda4\n",
       " delta2      NaN     NaN    NaN      NaN\n",
       " delta4      NaN     NaN    NaN      NaN\n",
       " kappa       NaN     NaN    NaN      NaN\n",
       " lambda4     NaN     NaN    NaN      NaN)"
      ]
     },
     "execution_count": 14,
     "metadata": {},
     "output_type": "execute_result"
    }
   ],
   "source": [
    "res"
   ]
  },
  {
   "cell_type": "code",
   "execution_count": 15,
   "metadata": {},
   "outputs": [],
   "source": [
    "fit_limit = {'kappa': (-10, -1),\n",
    "             'lambda4': (-10, 0),\n",
    "             'delta2': (-10, 0),\n",
    "             'delta4': (-10, 0)}"
   ]
  },
  {
   "cell_type": "code",
   "execution_count": 16,
   "metadata": {
    "ExecuteTime": {
     "start_time": "2019-06-12T16:51:56.150Z"
    }
   },
   "outputs": [
    {
     "name": "stdout",
     "output_type": "stream",
     "text": [
      "[(-10, 0), (-10, 0), (-10, -1), (-10, 0)]\n"
     ]
    },
    {
     "name": "stderr",
     "output_type": "stream",
     "text": [
      "/home/fabrost/pksCloud/projects/C14_liver/source/c14/c14/optimize.py:99: UserWarning: Value Error in ode int: delta2 is negative\n",
      "  warnings.warn(\"Value Error in ode int: \" + str(e), UserWarning)\n",
      "/home/fabrost/pksCloud/projects/C14_liver/source/c14/c14/optimize.py:99: UserWarning: Value Error in ode int: p is outside range\n",
      "  warnings.warn(\"Value Error in ode int: \" + str(e), UserWarning)\n",
      "/home/fabrost/pksCloud/projects/C14_liver/source/c14/c14/optimize.py:99: UserWarning: Value Error in ode int: delta2 is negative\n",
      "  warnings.warn(\"Value Error in ode int: \" + str(e), UserWarning)\n",
      "/home/fabrost/pksCloud/projects/C14_liver/source/c14/c14/optimize.py:99: UserWarning: Value Error in ode int: delta2 is negative\n",
      "  warnings.warn(\"Value Error in ode int: \" + str(e), UserWarning)\n",
      "/home/fabrost/pksCloud/projects/C14_liver/source/c14/c14/optimize.py:99: UserWarning: Value Error in ode int: delta2 is negative\n",
      "  warnings.warn(\"Value Error in ode int: \" + str(e), UserWarning)\n",
      "/home/fabrost/pksCloud/projects/C14_liver/source/c14/c14/optimize.py:99: UserWarning: Value Error in ode int: delta2 is negative\n",
      "  warnings.warn(\"Value Error in ode int: \" + str(e), UserWarning)\n",
      "/home/fabrost/pksCloud/projects/C14_liver/source/c14/c14/base.py:112: UserWarning: Parameter delta2=3.1289684815670213 is outside the limits (1e-99, 1.0)\n",
      "  warnings.warn(wstr,UserWarning)\n",
      "/home/fabrost/pksCloud/projects/C14_liver/source/c14/c14/base.py:112: UserWarning: Parameter delta2=3.1110084338792943 is outside the limits (1e-99, 1.0)\n",
      "  warnings.warn(wstr,UserWarning)\n",
      "/home/fabrost/pksCloud/projects/C14_liver/source/c14/c14/base.py:112: UserWarning: Parameter delta2=3.0931514755370966 is outside the limits (1e-99, 1.0)\n",
      "  warnings.warn(wstr,UserWarning)\n",
      "/home/fabrost/pksCloud/projects/C14_liver/source/c14/c14/base.py:112: UserWarning: Parameter lambda4=1.5816067930577022 is outside the limits (1e-99, 1.0)\n",
      "  warnings.warn(wstr,UserWarning)\n",
      "/home/fabrost/pksCloud/projects/C14_liver/source/c14/c14/optimize.py:99: UserWarning: Value Error in ode int: p is outside range\n",
      "  warnings.warn(\"Value Error in ode int: \" + str(e), UserWarning)\n",
      "/home/fabrost/pksCloud/projects/C14_liver/source/c14/c14/optimize.py:99: UserWarning: Value Error in ode int: delta2 is negative\n",
      "  warnings.warn(\"Value Error in ode int: \" + str(e), UserWarning)\n",
      "/home/fabrost/pksCloud/projects/C14_liver/source/c14/c14/base.py:112: UserWarning: Parameter delta2=79527243546.5369 is outside the limits (1e-99, 1.0)\n",
      "  warnings.warn(wstr,UserWarning)\n",
      "/home/fabrost/pksCloud/projects/C14_liver/source/c14/c14/base.py:112: UserWarning: Parameter delta2=14142.16597359568 is outside the limits (1e-99, 1.0)\n",
      "  warnings.warn(wstr,UserWarning)\n",
      "/home/fabrost/pksCloud/projects/C14_liver/source/c14/c14/base.py:112: UserWarning: Parameter delta2=5.963701941971969 is outside the limits (1e-99, 1.0)\n",
      "  warnings.warn(wstr,UserWarning)\n",
      "/home/fabrost/pksCloud/projects/C14_liver/source/c14/c14/base.py:112: UserWarning: Parameter delta2=5.929470733858448 is outside the limits (1e-99, 1.0)\n",
      "  warnings.warn(wstr,UserWarning)\n",
      "/home/fabrost/pksCloud/projects/C14_liver/source/c14/c14/optimize.py:99: UserWarning: Value Error in ode int: p is outside range\n",
      "  warnings.warn(\"Value Error in ode int: \" + str(e), UserWarning)\n",
      "/home/fabrost/pksCloud/projects/C14_liver/source/c14/c14/optimize.py:99: UserWarning: Value Error in ode int: delta2 is negative\n",
      "  warnings.warn(\"Value Error in ode int: \" + str(e), UserWarning)\n",
      "/home/fabrost/pksCloud/projects/C14_liver/source/c14/c14/base.py:112: UserWarning: Parameter kappa=0.16836881290319455 is outside the limits (1e-99, 0.1)\n",
      "  warnings.warn(wstr,UserWarning)\n",
      "/home/fabrost/pksCloud/projects/C14_liver/source/c14/c14/optimize.py:99: UserWarning: Value Error in ode int: p is outside range\n",
      "  warnings.warn(\"Value Error in ode int: \" + str(e), UserWarning)\n",
      "/home/fabrost/pksCloud/projects/C14_liver/source/c14/c14/base.py:112: UserWarning: Parameter delta2=98970653247.25488 is outside the limits (1e-99, 1.0)\n",
      "  warnings.warn(wstr,UserWarning)\n",
      "/home/fabrost/pksCloud/projects/C14_liver/source/c14/c14/base.py:112: UserWarning: Parameter delta2=17599.74748676945 is outside the limits (1e-99, 1.0)\n",
      "  warnings.warn(wstr,UserWarning)\n",
      "/home/fabrost/pksCloud/projects/C14_liver/source/c14/c14/base.py:112: UserWarning: Parameter delta2=7.421751976396655 is outside the limits (1e-99, 1.0)\n",
      "  warnings.warn(wstr,UserWarning)\n",
      "/home/fabrost/pksCloud/projects/C14_liver/source/c14/c14/base.py:112: UserWarning: Parameter delta2=7.379151668912649 is outside the limits (1e-99, 1.0)\n",
      "  warnings.warn(wstr,UserWarning)\n",
      "/home/fabrost/pksCloud/projects/C14_liver/source/c14/c14/base.py:112: UserWarning: Parameter delta2=1.0604896560641002 is outside the limits (1e-99, 1.0)\n",
      "  warnings.warn(wstr,UserWarning)\n",
      "/home/fabrost/pksCloud/projects/C14_liver/source/c14/c14/optimize.py:99: UserWarning: Value Error in ode int: p is outside range\n",
      "  warnings.warn(\"Value Error in ode int: \" + str(e), UserWarning)\n",
      "/home/fabrost/pksCloud/projects/C14_liver/source/c14/c14/base.py:112: UserWarning: Parameter lambda4=174411532.7866242 is outside the limits (1e-99, 1.0)\n",
      "  warnings.warn(wstr,UserWarning)\n",
      "/home/fabrost/pksCloud/projects/C14_liver/source/c14/c14/optimize.py:99: UserWarning: Value Error in ode int: p is outside range\n",
      "  warnings.warn(\"Value Error in ode int: \" + str(e), UserWarning)\n",
      "/home/fabrost/pksCloud/projects/C14_liver/source/c14/c14/optimize.py:99: UserWarning: Value Error in ode int: p is outside range\n",
      "  warnings.warn(\"Value Error in ode int: \" + str(e), UserWarning)\n",
      "/home/fabrost/pksCloud/projects/C14_liver/source/c14/c14/base.py:112: UserWarning: Parameter kappa=303096050.05568486 is outside the limits (1e-99, 0.1)\n",
      "  warnings.warn(wstr,UserWarning)\n",
      "/home/fabrost/pksCloud/projects/C14_liver/source/c14/c14/base.py:112: UserWarning: Parameter kappa=1883.9264461908501 is outside the limits (1e-99, 0.1)\n",
      "  warnings.warn(wstr,UserWarning)\n",
      "/home/fabrost/pksCloud/projects/C14_liver/source/c14/c14/base.py:112: UserWarning: Parameter kappa=4.696840105119538 is outside the limits (1e-99, 0.1)\n",
      "  warnings.warn(wstr,UserWarning)\n",
      "/home/fabrost/pksCloud/projects/C14_liver/source/c14/c14/base.py:112: UserWarning: Parameter kappa=0.23451827562131106 is outside the limits (1e-99, 0.1)\n",
      "  warnings.warn(wstr,UserWarning)\n",
      "/home/fabrost/pksCloud/projects/C14_liver/source/c14/c14/base.py:112: UserWarning: Parameter kappa=0.2080230831649337 is outside the limits (1e-99, 0.1)\n",
      "  warnings.warn(wstr,UserWarning)\n",
      "/home/fabrost/pksCloud/projects/C14_liver/source/c14/c14/base.py:112: UserWarning: Parameter kappa=0.3993166597956891 is outside the limits (1e-99, 0.1)\n",
      "  warnings.warn(wstr,UserWarning)\n",
      "/home/fabrost/pksCloud/projects/C14_liver/source/c14/c14/base.py:112: UserWarning: Parameter lambda4=23696.332567123776 is outside the limits (1e-99, 1.0)\n",
      "  warnings.warn(wstr,UserWarning)\n",
      "/home/fabrost/pksCloud/projects/C14_liver/source/c14/c14/base.py:112: UserWarning: Parameter kappa=0.10405631405879354 is outside the limits (1e-99, 0.1)\n",
      "  warnings.warn(wstr,UserWarning)\n",
      "/home/fabrost/pksCloud/projects/C14_liver/source/c14/c14/base.py:112: UserWarning: Parameter lambda4=1.6512804044523668 is outside the limits (1e-99, 1.0)\n",
      "  warnings.warn(wstr,UserWarning)\n",
      "/home/fabrost/pksCloud/projects/C14_liver/source/c14/c14/base.py:112: UserWarning: Parameter lambda4=3.1016492693723825e+38 is outside the limits (1e-99, 1.0)\n",
      "  warnings.warn(wstr,UserWarning)\n",
      "/home/fabrost/pksCloud/projects/C14_liver/source/c14/c14/base.py:112: UserWarning: Parameter lambda4=2.425605823231364 is outside the limits (1e-99, 1.0)\n",
      "  warnings.warn(wstr,UserWarning)\n",
      "/home/fabrost/pksCloud/projects/C14_liver/source/c14/c14/base.py:112: UserWarning: Parameter delta2=1.3319040804060402 is outside the limits (1e-99, 1.0)\n",
      "  warnings.warn(wstr,UserWarning)\n",
      "/home/fabrost/pksCloud/projects/C14_liver/source/c14/c14/base.py:112: UserWarning: Parameter delta2=2.023733895861038 is outside the limits (1e-99, 1.0)\n",
      "  warnings.warn(wstr,UserWarning)\n",
      "/home/fabrost/pksCloud/projects/C14_liver/source/c14/c14/base.py:112: UserWarning: Parameter kappa=0.34977602418484677 is outside the limits (1e-99, 0.1)\n",
      "  warnings.warn(wstr,UserWarning)\n",
      "/home/fabrost/pksCloud/projects/C14_liver/source/c14/c14/base.py:112: UserWarning: Parameter kappa=0.23488435306045066 is outside the limits (1e-99, 0.1)\n",
      "  warnings.warn(wstr,UserWarning)\n",
      "/home/fabrost/pksCloud/projects/C14_liver/source/c14/c14/base.py:112: UserWarning: Parameter delta2=142199379247.84988 is outside the limits (1e-99, 1.0)\n",
      "  warnings.warn(wstr,UserWarning)\n",
      "/home/fabrost/pksCloud/projects/C14_liver/source/c14/c14/base.py:112: UserWarning: Parameter delta2=25287.022823676652 is outside the limits (1e-99, 1.0)\n",
      "  warnings.warn(wstr,UserWarning)\n",
      "/home/fabrost/pksCloud/projects/C14_liver/source/c14/c14/base.py:112: UserWarning: Parameter delta2=10.6634491068632 is outside the limits (1e-99, 1.0)\n",
      "  warnings.warn(wstr,UserWarning)\n",
      "/home/fabrost/pksCloud/projects/C14_liver/source/c14/c14/base.py:112: UserWarning: Parameter delta2=10.602241697583406 is outside the limits (1e-99, 1.0)\n",
      "  warnings.warn(wstr,UserWarning)\n",
      "/home/fabrost/pksCloud/projects/C14_liver/source/c14/c14/base.py:112: UserWarning: Parameter delta2=1.523693800568742 is outside the limits (1e-99, 1.0)\n",
      "  warnings.warn(wstr,UserWarning)\n",
      "/home/fabrost/pksCloud/projects/C14_liver/source/c14/c14/base.py:112: UserWarning: Parameter kappa=24220188.269870646 is outside the limits (1e-99, 0.1)\n",
      "  warnings.warn(wstr,UserWarning)\n",
      "/home/fabrost/pksCloud/projects/C14_liver/source/c14/c14/base.py:112: UserWarning: Parameter kappa=356.28035090435355 is outside the limits (1e-99, 0.1)\n",
      "  warnings.warn(wstr,UserWarning)\n",
      "/home/fabrost/pksCloud/projects/C14_liver/source/c14/c14/base.py:112: UserWarning: Parameter kappa=1.3664666907873313 is outside the limits (1e-99, 0.1)\n",
      "  warnings.warn(wstr,UserWarning)\n",
      "/home/fabrost/pksCloud/projects/C14_liver/source/c14/c14/base.py:112: UserWarning: Parameter kappa=1.2225741061564772 is outside the limits (1e-99, 0.1)\n",
      "  warnings.warn(wstr,UserWarning)\n",
      "/home/fabrost/pksCloud/projects/C14_liver/source/c14/c14/base.py:112: UserWarning: Parameter kappa=0.32165397004716995 is outside the limits (1e-99, 0.1)\n",
      "  warnings.warn(wstr,UserWarning)\n",
      "/home/fabrost/pksCloud/projects/C14_liver/source/c14/c14/base.py:112: UserWarning: Parameter kappa=1.109188555813621 is outside the limits (1e-99, 0.1)\n",
      "  warnings.warn(wstr,UserWarning)\n",
      "/home/fabrost/pksCloud/projects/C14_liver/source/c14/c14/base.py:112: UserWarning: Parameter kappa=0.10945936213751055 is outside the limits (1e-99, 0.1)\n",
      "  warnings.warn(wstr,UserWarning)\n",
      "/home/fabrost/pksCloud/projects/C14_liver/source/c14/c14/base.py:112: UserWarning: Parameter kappa=1.6807936442975773 is outside the limits (1e-99, 0.1)\n",
      "  warnings.warn(wstr,UserWarning)\n",
      "/home/fabrost/pksCloud/projects/C14_liver/source/c14/c14/base.py:112: UserWarning: Parameter kappa=0.300793793511547 is outside the limits (1e-99, 0.1)\n",
      "  warnings.warn(wstr,UserWarning)\n",
      "/home/fabrost/pksCloud/projects/C14_liver/source/c14/c14/base.py:112: UserWarning: Parameter kappa=0.12724657681367532 is outside the limits (1e-99, 0.1)\n",
      "  warnings.warn(wstr,UserWarning)\n",
      "/home/fabrost/pksCloud/projects/C14_liver/source/c14/c14/base.py:112: UserWarning: Parameter kappa=0.12716551375538407 is outside the limits (1e-99, 0.1)\n",
      "  warnings.warn(wstr,UserWarning)\n",
      "/home/fabrost/pksCloud/projects/C14_liver/source/c14/c14/base.py:112: UserWarning: Parameter kappa=0.10258929331526047 is outside the limits (1e-99, 0.1)\n",
      "  warnings.warn(wstr,UserWarning)\n",
      "/home/fabrost/pksCloud/projects/C14_liver/source/c14/c14/base.py:112: UserWarning: Parameter kappa=0.1807569450526184 is outside the limits (1e-99, 0.1)\n",
      "  warnings.warn(wstr,UserWarning)\n",
      "/home/fabrost/pksCloud/projects/C14_liver/source/c14/c14/base.py:112: UserWarning: Parameter lambda4=3.3841362873730563 is outside the limits (1e-99, 1.0)\n",
      "  warnings.warn(wstr,UserWarning)\n",
      "/home/fabrost/pksCloud/projects/C14_liver/source/c14/c14/base.py:112: UserWarning: Parameter lambda4=1.467398904244278 is outside the limits (1e-99, 1.0)\n",
      "  warnings.warn(wstr,UserWarning)\n",
      "/home/fabrost/pksCloud/projects/C14_liver/source/c14/c14/base.py:112: UserWarning: Parameter kappa=0.11617043997871984 is outside the limits (1e-99, 0.1)\n",
      "  warnings.warn(wstr,UserWarning)\n",
      "/home/fabrost/pksCloud/projects/C14_liver/source/c14/c14/base.py:112: UserWarning: Parameter kappa=0.11058904698816505 is outside the limits (1e-99, 0.1)\n",
      "  warnings.warn(wstr,UserWarning)\n",
      "/home/fabrost/pksCloud/projects/C14_liver/source/c14/c14/base.py:112: UserWarning: Parameter kappa=54.036795955988104 is outside the limits (1e-99, 0.1)\n",
      "  warnings.warn(wstr,UserWarning)\n",
      "/home/fabrost/pksCloud/projects/C14_liver/source/c14/c14/base.py:112: UserWarning: Parameter delta2=809.3694961649245 is outside the limits (1e-99, 1.0)\n",
      "  warnings.warn(wstr,UserWarning)\n",
      "/home/fabrost/pksCloud/projects/C14_liver/source/c14/c14/base.py:112: UserWarning: Parameter delta2=4.523299147396916 is outside the limits (1e-99, 1.0)\n",
      "  warnings.warn(wstr,UserWarning)\n",
      "/home/fabrost/pksCloud/projects/C14_liver/source/c14/c14/base.py:112: UserWarning: Parameter lambda4=30894602.791459013 is outside the limits (1e-99, 1.0)\n",
      "  warnings.warn(wstr,UserWarning)\n",
      "/home/fabrost/pksCloud/projects/C14_liver/source/c14/c14/base.py:112: UserWarning: Parameter delta2=83980165277.95348 is outside the limits (1e-99, 1.0)\n",
      "  warnings.warn(wstr,UserWarning)\n",
      "/home/fabrost/pksCloud/projects/C14_liver/source/c14/c14/base.py:112: UserWarning: Parameter kappa=592063.3415935851 is outside the limits (1e-99, 0.1)\n",
      "  warnings.warn(wstr,UserWarning)\n",
      "/home/fabrost/pksCloud/projects/C14_liver/source/c14/c14/base.py:112: UserWarning: Parameter lambda4=54.41769750366129 is outside the limits (1e-99, 1.0)\n",
      "  warnings.warn(wstr,UserWarning)\n",
      "/home/fabrost/pksCloud/projects/C14_liver/source/c14/c14/base.py:112: UserWarning: Parameter kappa=0.2626287611522485 is outside the limits (1e-99, 0.1)\n",
      "  warnings.warn(wstr,UserWarning)\n",
      "/home/fabrost/pksCloud/projects/C14_liver/source/c14/c14/base.py:112: UserWarning: Parameter kappa=0.661882161258101 is outside the limits (1e-99, 0.1)\n",
      "  warnings.warn(wstr,UserWarning)\n",
      "/home/fabrost/pksCloud/projects/C14_liver/source/c14/c14/base.py:112: UserWarning: Parameter kappa=1.3352167282406098e-117 is outside the limits (1e-99, 0.1)\n",
      "  warnings.warn(wstr,UserWarning)\n",
      "/home/fabrost/pksCloud/projects/C14_liver/source/c14/c14/base.py:112: UserWarning: Parameter kappa=1.1175737516794834e-116 is outside the limits (1e-99, 0.1)\n",
      "  warnings.warn(wstr,UserWarning)\n",
      "/home/fabrost/pksCloud/projects/C14_liver/source/c14/c14/base.py:112: UserWarning: Parameter kappa=9.354070122299183e-116 is outside the limits (1e-99, 0.1)\n",
      "  warnings.warn(wstr,UserWarning)\n",
      "/home/fabrost/pksCloud/projects/C14_liver/source/c14/c14/base.py:112: UserWarning: Parameter kappa=6.501486321237335e-105 is outside the limits (1e-99, 0.1)\n",
      "  warnings.warn(wstr,UserWarning)\n",
      "/home/fabrost/pksCloud/projects/C14_liver/source/c14/c14/base.py:112: UserWarning: Parameter kappa=6.041895338010375e-100 is outside the limits (1e-99, 0.1)\n",
      "  warnings.warn(wstr,UserWarning)\n",
      "/home/fabrost/pksCloud/projects/C14_liver/source/c14/c14/base.py:112: UserWarning: Parameter kappa=7.681033264053545e-134 is outside the limits (1e-99, 0.1)\n",
      "  warnings.warn(wstr,UserWarning)\n",
      "/home/fabrost/pksCloud/projects/C14_liver/source/c14/c14/base.py:112: UserWarning: Parameter kappa=3.285403518746707e-101 is outside the limits (1e-99, 0.1)\n",
      "  warnings.warn(wstr,UserWarning)\n",
      "/home/fabrost/pksCloud/projects/C14_liver/source/c14/c14/base.py:112: UserWarning: Parameter kappa=4.957944949664458e-100 is outside the limits (1e-99, 0.1)\n",
      "  warnings.warn(wstr,UserWarning)\n",
      "/home/fabrost/pksCloud/projects/C14_liver/source/c14/c14/base.py:112: UserWarning: Parameter delta2=1.7770555075772718 is outside the limits (1e-99, 1.0)\n",
      "  warnings.warn(wstr,UserWarning)\n",
      "/home/fabrost/pksCloud/projects/C14_liver/source/c14/c14/base.py:112: UserWarning: Parameter delta2=31879201453.238605 is outside the limits (1e-99, 1.0)\n",
      "  warnings.warn(wstr,UserWarning)\n",
      "/home/fabrost/pksCloud/projects/C14_liver/source/c14/c14/base.py:112: UserWarning: Parameter delta2=5669.0127552776885 is outside the limits (1e-99, 1.0)\n",
      "  warnings.warn(wstr,UserWarning)\n",
      "/home/fabrost/pksCloud/projects/C14_liver/source/c14/c14/base.py:112: UserWarning: Parameter delta2=2.3906028567926345 is outside the limits (1e-99, 1.0)\n",
      "  warnings.warn(wstr,UserWarning)\n",
      "/home/fabrost/pksCloud/projects/C14_liver/source/c14/c14/base.py:112: UserWarning: Parameter delta2=2.376880973186797 is outside the limits (1e-99, 1.0)\n",
      "  warnings.warn(wstr,UserWarning)\n",
      "/home/fabrost/pksCloud/projects/C14_liver/source/c14/c14/base.py:112: UserWarning: Parameter delta2=1.0802081114814217 is outside the limits (1e-99, 1.0)\n",
      "  warnings.warn(wstr,UserWarning)\n",
      "/home/fabrost/pksCloud/projects/C14_liver/source/c14/c14/base.py:112: UserWarning: Parameter kappa=0.40620271282802545 is outside the limits (1e-99, 0.1)\n",
      "  warnings.warn(wstr,UserWarning)\n",
      "/home/fabrost/pksCloud/projects/C14_liver/source/c14/c14/base.py:112: UserWarning: Parameter delta2=1.118543315125867 is outside the limits (1e-99, 1.0)\n",
      "  warnings.warn(wstr,UserWarning)\n",
      "/home/fabrost/pksCloud/projects/C14_liver/source/c14/c14/base.py:112: UserWarning: Parameter kappa=0.40404174659556014 is outside the limits (1e-99, 0.1)\n",
      "  warnings.warn(wstr,UserWarning)\n",
      "/home/fabrost/pksCloud/projects/C14_liver/source/c14/c14/base.py:112: UserWarning: Parameter kappa=0.18201097405271013 is outside the limits (1e-99, 0.1)\n",
      "  warnings.warn(wstr,UserWarning)\n",
      "/home/fabrost/pksCloud/projects/C14_liver/source/c14/c14/base.py:112: UserWarning: Parameter kappa=0.12216118612774723 is outside the limits (1e-99, 0.1)\n",
      "  warnings.warn(wstr,UserWarning)\n",
      "/home/fabrost/pksCloud/projects/C14_liver/source/c14/c14/base.py:112: UserWarning: Parameter kappa=0.10008087054438389 is outside the limits (1e-99, 0.1)\n",
      "  warnings.warn(wstr,UserWarning)\n",
      "/home/fabrost/pksCloud/projects/C14_liver/source/c14/c14/base.py:112: UserWarning: Parameter kappa=0.10449967914271337 is outside the limits (1e-99, 0.1)\n",
      "  warnings.warn(wstr,UserWarning)\n",
      "/home/fabrost/pksCloud/projects/C14_liver/source/c14/c14/base.py:112: UserWarning: Parameter kappa=0.11797445548986926 is outside the limits (1e-99, 0.1)\n",
      "  warnings.warn(wstr,UserWarning)\n",
      "/home/fabrost/pksCloud/projects/C14_liver/source/c14/c14/base.py:112: UserWarning: Parameter kappa=0.10437301445288014 is outside the limits (1e-99, 0.1)\n",
      "  warnings.warn(wstr,UserWarning)\n",
      "/home/fabrost/pksCloud/projects/C14_liver/source/c14/c14/base.py:112: UserWarning: Parameter kappa=0.10131723653188932 is outside the limits (1e-99, 0.1)\n",
      "  warnings.warn(wstr,UserWarning)\n",
      "/home/fabrost/pksCloud/projects/C14_liver/source/c14/c14/base.py:112: UserWarning: Parameter kappa=0.10119442929989246 is outside the limits (1e-99, 0.1)\n",
      "  warnings.warn(wstr,UserWarning)\n",
      "/home/fabrost/pksCloud/projects/C14_liver/source/c14/c14/base.py:112: UserWarning: Parameter lambda4=1.2795499917158454e+17 is outside the limits (1e-99, 1.0)\n",
      "  warnings.warn(wstr,UserWarning)\n",
      "/home/fabrost/pksCloud/projects/C14_liver/source/c14/c14/base.py:112: UserWarning: Parameter kappa=0.12582868383214266 is outside the limits (1e-99, 0.1)\n",
      "  warnings.warn(wstr,UserWarning)\n",
      "/home/fabrost/pksCloud/projects/C14_liver/source/c14/c14/base.py:112: UserWarning: Parameter kappa=0.1021611484873128 is outside the limits (1e-99, 0.1)\n",
      "  warnings.warn(wstr,UserWarning)\n",
      "/home/fabrost/pksCloud/projects/C14_liver/source/c14/c14/base.py:112: UserWarning: Parameter kappa=0.10005444282698679 is outside the limits (1e-99, 0.1)\n",
      "  warnings.warn(wstr,UserWarning)\n",
      "/home/fabrost/pksCloud/projects/C14_liver/source/c14/c14/base.py:112: UserWarning: Parameter kappa=0.141486523126634 is outside the limits (1e-99, 0.1)\n",
      "  warnings.warn(wstr,UserWarning)\n",
      "/home/fabrost/pksCloud/projects/C14_liver/source/c14/c14/base.py:112: UserWarning: Parameter kappa=0.2597444507866867 is outside the limits (1e-99, 0.1)\n",
      "  warnings.warn(wstr,UserWarning)\n"
     ]
    },
    {
     "name": "stdout",
     "output_type": "stream",
     "text": [
      "CPU times: user 588 ms, sys: 168 ms, total: 756 ms\n",
      "Wall time: 13min 21s\n"
     ]
    }
   ],
   "source": [
    "%%time\n",
    "res_M = op.optimize_minuit_multistart(n=100,processes=7, fit_limit=fit_limit)"
   ]
  },
  {
   "cell_type": "code",
   "execution_count": 17,
   "metadata": {},
   "outputs": [],
   "source": [
    "best_res = res_M.loc[res_M['fval'].idxmin()]"
   ]
  },
  {
   "cell_type": "code",
   "execution_count": 24,
   "metadata": {},
   "outputs": [
    {
     "data": {
      "text/plain": [
       "{'delta2': nan, 'delta4': nan, 'kappa': nan, 'lambda4': nan}"
      ]
     },
     "execution_count": 24,
     "metadata": {},
     "output_type": "execute_result"
    }
   ],
   "source": [
    "# best_res['errors']"
   ]
  },
  {
   "cell_type": "markdown",
   "metadata": {},
   "source": [
    "# Visualise"
   ]
  },
  {
   "cell_type": "code",
   "execution_count": 19,
   "metadata": {
    "ExecuteTime": {
     "end_time": "2019-06-12T16:54:46.372898Z",
     "start_time": "2019-06-12T16:54:46.054101Z"
    }
   },
   "outputs": [
    {
     "data": {
      "text/plain": [
       "True"
      ]
     },
     "execution_count": 19,
     "metadata": {},
     "output_type": "execute_result"
    }
   ],
   "source": [
    "m.set_parameters(best_res['values'])"
   ]
  },
  {
   "cell_type": "code",
   "execution_count": 20,
   "metadata": {},
   "outputs": [
    {
     "data": {
      "text/plain": [
       "4"
      ]
     },
     "execution_count": 20,
     "metadata": {},
     "output_type": "execute_result"
    }
   ],
   "source": [
    "m.nparas"
   ]
  },
  {
   "cell_type": "code",
   "execution_count": 21,
   "metadata": {},
   "outputs": [
    {
     "data": {
      "text/plain": [
       "106.83480741457635"
      ]
     },
     "execution_count": 21,
     "metadata": {},
     "output_type": "execute_result"
    }
   ],
   "source": [
    "op.loglike_dict(best_res['values'])"
   ]
  },
  {
   "cell_type": "code",
   "execution_count": 22,
   "metadata": {},
   "outputs": [
    {
     "data": {
      "text/plain": [
       "-201.95532911486697"
      ]
     },
     "execution_count": 22,
     "metadata": {},
     "output_type": "execute_result"
    }
   ],
   "source": [
    "op.calc_aicc(best_res['values'])"
   ]
  },
  {
   "cell_type": "code",
   "execution_count": 23,
   "metadata": {
    "ExecuteTime": {
     "end_time": "2019-06-12T16:55:00.130511Z",
     "start_time": "2019-06-12T16:54:59.463994Z"
    },
    "scrolled": false
   },
   "outputs": [
    {
     "data": {
      "image/png": "[encoded data removed]",
      "text/plain": [
       "<Figure size 432x288 with 1 Axes>"
      ]
     },
     "metadata": {
      "needs_background": "light"
     },
     "output_type": "display_data"
    }
   ],
   "source": [
    "vis.plot_parameter()\n",
    "plt.legend()\n",
    "plt.show()"
   ]
  },
  {
   "cell_type": "code",
   "execution_count": 22,
   "metadata": {
    "ExecuteTime": {
     "end_time": "2019-06-12T16:50:15.700615Z",
     "start_time": "2019-06-12T16:50:15.315523Z"
    }
   },
   "outputs": [],
   "source": [
    "po = best_res['values']\n",
    "m.set_parameters(po)\n",
    "_ = vis.odeint()"
   ]
  },
  {
   "cell_type": "code",
   "execution_count": null,
   "metadata": {
    "ExecuteTime": {
     "end_time": "2019-06-12T16:50:17.216145Z",
     "start_time": "2019-06-12T16:50:15.890874Z"
    }
   },
   "outputs": [],
   "source": [
    "vis.plot_generic()"
   ]
  },
  {
   "cell_type": "code",
   "execution_count": null,
   "metadata": {
    "ExecuteTime": {
     "end_time": "2019-06-12T16:50:18.027548Z",
     "start_time": "2019-06-12T16:50:17.217652Z"
    }
   },
   "outputs": [],
   "source": [
    "vis.plot_simdata()"
   ]
  },
  {
   "cell_type": "code",
   "execution_count": null,
   "metadata": {
    "ExecuteTime": {
     "end_time": "2019-06-12T16:50:18.043077Z",
     "start_time": "2019-06-12T16:50:18.029132Z"
    }
   },
   "outputs": [],
   "source": [
    "#vis.plot_simdata_birth()"
   ]
  },
  {
   "cell_type": "code",
   "execution_count": null,
   "metadata": {
    "ExecuteTime": {
     "end_time": "2019-06-12T16:54:55.793704Z",
     "start_time": "2019-06-12T16:54:54.235914Z"
    }
   },
   "outputs": [],
   "source": [
    "l = vis.plot_parameter(log=True,nonlog=['p'])\n",
    "plt.legend()"
   ]
  },
  {
   "cell_type": "code",
   "execution_count": null,
   "metadata": {
    "ExecuteTime": {
     "end_time": "2019-06-12T14:42:41.400421Z",
     "start_time": "2019-06-12T14:42:41.043522Z"
    }
   },
   "outputs": [],
   "source": [
    "vis.plot_parameter(log=True)\n",
    "plt.legend()"
   ]
  },
  {
   "cell_type": "code",
   "execution_count": null,
   "metadata": {
    "ExecuteTime": {
     "end_time": "2019-06-12T14:42:42.203342Z",
     "start_time": "2019-06-12T14:42:42.188750Z"
    }
   },
   "outputs": [],
   "source": [
    "m"
   ]
  }
 ],
 "metadata": {
  "kernelspec": {
   "display_name": "Python [conda env:spols190426] *",
   "language": "python",
   "name": "conda-env-spols190426-py"
  },
  "language_info": {
   "codemirror_mode": {
    "name": "ipython",
    "version": 3
   },
   "file_extension": ".py",
   "mimetype": "text/x-python",
   "name": "python",
   "nbconvert_exporter": "python",
   "pygments_lexer": "ipython3",
   "version": "3.6.7"
  },
  "toc": {
   "nav_menu": {
    "height": "12px",
    "width": "252px"
   },
   "number_sections": true,
   "sideBar": true,
   "skip_h1_title": false,
   "title_cell": "Table of Contents",
   "title_sidebar": "Contents",
   "toc_cell": false,
   "toc_position": {},
   "toc_section_display": "block",
   "toc_window_display": false
  }
 },
 "nbformat": 4,
 "nbformat_minor": 2
}
