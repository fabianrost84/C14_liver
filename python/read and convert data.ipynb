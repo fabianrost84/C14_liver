{
 "cells": [
  {
   "cell_type": "code",
   "execution_count": 2,
   "metadata": {
    "ExecuteTime": {
     "end_time": "2018-12-05T11:01:54.410314Z",
     "start_time": "2018-12-05T11:01:54.405885Z"
    }
   },
   "outputs": [],
   "source": [
    "import datetime\n",
    "import numpy as np\n",
    "import pandas as pd"
   ]
  },
  {
   "cell_type": "markdown",
   "metadata": {},
   "source": [
    "# 20180505"
   ]
  },
  {
   "cell_type": "code",
   "execution_count": 22,
   "metadata": {
    "ExecuteTime": {
     "end_time": "2018-12-05T11:01:37.820671Z",
     "start_time": "2018-12-05T11:01:37.670453Z"
    }
   },
   "outputs": [
    {
     "data": {
      "text/html": [
       "<div>\n",
       "<style scoped>\n",
       "    .dataframe tbody tr th:only-of-type {\n",
       "        vertical-align: middle;\n",
       "    }\n",
       "\n",
       "    .dataframe tbody tr th {\n",
       "        vertical-align: top;\n",
       "    }\n",
       "\n",
       "    .dataframe thead th {\n",
       "        text-align: right;\n",
       "    }\n",
       "</style>\n",
       "<table border=\"1\" class=\"dataframe\">\n",
       "  <thead>\n",
       "    <tr style=\"text-align: right;\">\n",
       "      <th></th>\n",
       "      <th>type</th>\n",
       "      <th>code</th>\n",
       "      <th>sample</th>\n",
       "      <th>Dbirth</th>\n",
       "      <th>Dcoll</th>\n",
       "      <th>d14C</th>\n",
       "      <th>error_measurement</th>\n",
       "      <th>N_cells</th>\n",
       "      <th>pathology</th>\n",
       "      <th>subject_age</th>\n",
       "      <th>valid</th>\n",
       "    </tr>\n",
       "  </thead>\n",
       "  <tbody>\n",
       "    <tr>\n",
       "      <th>0</th>\n",
       "      <td>unsorted</td>\n",
       "      <td>PH1</td>\n",
       "      <td>ND380</td>\n",
       "      <td>1942.833333</td>\n",
       "      <td>2016.416667</td>\n",
       "      <td>0.078416</td>\n",
       "      <td>0.003981</td>\n",
       "      <td>NaN</td>\n",
       "      <td>N</td>\n",
       "      <td>73.583333</td>\n",
       "      <td>True</td>\n",
       "    </tr>\n",
       "    <tr>\n",
       "      <th>1</th>\n",
       "      <td>unsorted</td>\n",
       "      <td>PH2</td>\n",
       "      <td>ND388</td>\n",
       "      <td>1991.416667</td>\n",
       "      <td>2016.833333</td>\n",
       "      <td>0.025254</td>\n",
       "      <td>0.003912</td>\n",
       "      <td>NaN</td>\n",
       "      <td>N</td>\n",
       "      <td>25.416667</td>\n",
       "      <td>True</td>\n",
       "    </tr>\n",
       "    <tr>\n",
       "      <th>2</th>\n",
       "      <td>hepatocyte</td>\n",
       "      <td>PH3</td>\n",
       "      <td>ND381</td>\n",
       "      <td>1985.166667</td>\n",
       "      <td>2016.416667</td>\n",
       "      <td>0.040336</td>\n",
       "      <td>0.008788</td>\n",
       "      <td>58.0</td>\n",
       "      <td>N</td>\n",
       "      <td>31.250000</td>\n",
       "      <td>True</td>\n",
       "    </tr>\n",
       "    <tr>\n",
       "      <th>3</th>\n",
       "      <td>hepatocyte</td>\n",
       "      <td>PH4</td>\n",
       "      <td>ND382</td>\n",
       "      <td>1982.083333</td>\n",
       "      <td>2016.500000</td>\n",
       "      <td>0.018815</td>\n",
       "      <td>0.005342</td>\n",
       "      <td>52.0</td>\n",
       "      <td>N</td>\n",
       "      <td>34.416667</td>\n",
       "      <td>True</td>\n",
       "    </tr>\n",
       "    <tr>\n",
       "      <th>4</th>\n",
       "      <td>hepatocyte</td>\n",
       "      <td>PH6</td>\n",
       "      <td>ND022</td>\n",
       "      <td>1946.500000</td>\n",
       "      <td>2004.833333</td>\n",
       "      <td>0.075001</td>\n",
       "      <td>0.004711</td>\n",
       "      <td>62.0</td>\n",
       "      <td>N</td>\n",
       "      <td>58.333333</td>\n",
       "      <td>True</td>\n",
       "    </tr>\n",
       "  </tbody>\n",
       "</table>\n",
       "</div>"
      ],
      "text/plain": [
       "         type code sample       Dbirth        Dcoll      d14C  \\\n",
       "0    unsorted  PH1  ND380  1942.833333  2016.416667  0.078416   \n",
       "1    unsorted  PH2  ND388  1991.416667  2016.833333  0.025254   \n",
       "2  hepatocyte  PH3  ND381  1985.166667  2016.416667  0.040336   \n",
       "3  hepatocyte  PH4  ND382  1982.083333  2016.500000  0.018815   \n",
       "4  hepatocyte  PH6  ND022  1946.500000  2004.833333  0.075001   \n",
       "\n",
       "   error_measurement  N_cells pathology  subject_age  valid  \n",
       "0           0.003981      NaN         N    73.583333   True  \n",
       "1           0.003912      NaN         N    25.416667   True  \n",
       "2           0.008788     58.0         N    31.250000   True  \n",
       "3           0.005342     52.0         N    34.416667   True  \n",
       "4           0.004711     62.0         N    58.333333   True  "
      ]
     },
     "execution_count": 22,
     "metadata": {},
     "output_type": "execute_result"
    }
   ],
   "source": [
    "c14_patient_data = pd.read_excel('../../data/C14data_liver_samples_20180505.xlsx', \n",
    "                                 usecols=[0, 1, 2, 3, 5, 6, 8, 9, 10])[\n",
    "    ['sort', 'Code', 'sample', 'DOB', 'DOA', u'Δ 14C', 'Error, 2 s', 'no sorted', 'Pathology']]\n",
    "c14_patient_data.columns = ['type', 'code', 'sample', 'Dbirth', 'Dcoll', 'd14C', 'error_measurement', 'N_cells', 'pathology']\n",
    "\n",
    "c14_patient_data['d14C'] /= 1000.0\n",
    "c14_patient_data['error_measurement'] /= 1000.0 # convert unit\n",
    "c14_patient_data['error_measurement'] /= 2.0 # convert to 1s error\n",
    "c14_patient_data['subject_age'] = c14_patient_data['Dcoll'] - c14_patient_data['Dbirth']\n",
    "\n",
    "invalid_codes = ['PH14', 'PH20', 'PH45', 'PH46']\n",
    "c14_patient_data['valid'] = np.logical_not(c14_patient_data['code'].isin(invalid_codes))\n",
    "\n",
    "c14_patient_data['type'] = pd.Categorical(c14_patient_data['type'])\n",
    "c14_patient_data['code'] = pd.Categorical(c14_patient_data['code'])\n",
    "c14_patient_data['sample'] = pd.Categorical(c14_patient_data['sample'])\n",
    "c14_patient_data['pathology'] = pd.Categorical(c14_patient_data['pathology'])\n",
    "\n",
    "def convert_N_cell_entry(x):\n",
    "    if isinstance(x, float):\n",
    "        return x\n",
    "    elif x[-1] == '2':\n",
    "        return float(x.rstrip(' mio /2')) / 2\n",
    "    else:\n",
    "        return float(x.rstrip(' mio'))\n",
    "\n",
    "c14_patient_data['N_cells'] = c14_patient_data['N_cells'].apply(convert_N_cell_entry)\n",
    "\n",
    "c14_patient_data.loc[c14_patient_data['type'] == 'HNF4α -', 'type'] = 'non-hepatocyte'\n",
    "c14_patient_data['type'].cat.remove_unused_categories(inplace=True)\n",
    "    \n",
    "c14_patient_data.head()"
   ]
  },
  {
   "cell_type": "code",
   "execution_count": 24,
   "metadata": {
    "ExecuteTime": {
     "end_time": "2018-12-05T11:02:30.169214Z",
     "start_time": "2018-12-05T11:02:30.133291Z"
    }
   },
   "outputs": [],
   "source": [
    "c14_patient_data.to_csv(f'../../results/C14data_liver_samples_{datetime.date.today().isoformat()}.csv', index=False)\n",
    "c14_patient_data.to_pickle(f'../../results/C14data_liver_samples_{datetime.date.today().isoformat()}.pkl')"
   ]
  },
  {
   "cell_type": "code",
   "execution_count": 28,
   "metadata": {
    "ExecuteTime": {
     "end_time": "2018-12-05T11:02:57.263092Z",
     "start_time": "2018-12-05T11:02:57.245185Z"
    }
   },
   "outputs": [
    {
     "data": {
      "text/plain": [
       "0      unsorted\n",
       "1      unsorted\n",
       "2    hepatocyte\n",
       "3    hepatocyte\n",
       "4    hepatocyte\n",
       "Name: type, dtype: object"
      ]
     },
     "execution_count": 28,
     "metadata": {},
     "output_type": "execute_result"
    }
   ],
   "source": [
    "pd.read_csv('../../results/C14data_liver_samples_2018-12-05.csv')['type'].head()"
   ]
  },
  {
   "cell_type": "code",
   "execution_count": 29,
   "metadata": {
    "ExecuteTime": {
     "end_time": "2018-12-05T11:03:04.585173Z",
     "start_time": "2018-12-05T11:03:04.568132Z"
    }
   },
   "outputs": [
    {
     "data": {
      "text/plain": [
       "0      unsorted\n",
       "1      unsorted\n",
       "2    hepatocyte\n",
       "3    hepatocyte\n",
       "4    hepatocyte\n",
       "Name: type, dtype: category\n",
       "Categories (5, object): [hepatocyte, hepatocyte 2n, hepatocyte 4n, non-hepatocyte, unsorted]"
      ]
     },
     "execution_count": 29,
     "metadata": {},
     "output_type": "execute_result"
    }
   ],
   "source": [
    "pd.read_pickle('../../results/C14data_liver_samples_2018-12-05.pkl')['type'].head()"
   ]
  },
  {
   "cell_type": "markdown",
   "metadata": {},
   "source": [
    "# 20190307"
   ]
  },
  {
   "cell_type": "code",
   "execution_count": 3,
   "metadata": {
    "ExecuteTime": {
     "end_time": "2018-12-05T11:01:37.820671Z",
     "start_time": "2018-12-05T11:01:37.670453Z"
    }
   },
   "outputs": [
    {
     "data": {
      "text/html": [
       "<div>\n",
       "<style scoped>\n",
       "    .dataframe tbody tr th:only-of-type {\n",
       "        vertical-align: middle;\n",
       "    }\n",
       "\n",
       "    .dataframe tbody tr th {\n",
       "        vertical-align: top;\n",
       "    }\n",
       "\n",
       "    .dataframe thead th {\n",
       "        text-align: right;\n",
       "    }\n",
       "</style>\n",
       "<table border=\"1\" class=\"dataframe\">\n",
       "  <thead>\n",
       "    <tr style=\"text-align: right;\">\n",
       "      <th></th>\n",
       "      <th>type</th>\n",
       "      <th>code</th>\n",
       "      <th>sample</th>\n",
       "      <th>Dbirth</th>\n",
       "      <th>Dcoll</th>\n",
       "      <th>d14C</th>\n",
       "      <th>error_measurement</th>\n",
       "      <th>N_cells</th>\n",
       "      <th>pathology</th>\n",
       "      <th>subject_age</th>\n",
       "      <th>valid</th>\n",
       "    </tr>\n",
       "  </thead>\n",
       "  <tbody>\n",
       "    <tr>\n",
       "      <th>0</th>\n",
       "      <td>unsorted</td>\n",
       "      <td>PH1</td>\n",
       "      <td>ND380</td>\n",
       "      <td>1942.833333</td>\n",
       "      <td>2016.416667</td>\n",
       "      <td>0.078416</td>\n",
       "      <td>0.003981</td>\n",
       "      <td>NaN</td>\n",
       "      <td>N</td>\n",
       "      <td>73.583333</td>\n",
       "      <td>True</td>\n",
       "    </tr>\n",
       "    <tr>\n",
       "      <th>1</th>\n",
       "      <td>unsorted</td>\n",
       "      <td>PH2</td>\n",
       "      <td>ND388</td>\n",
       "      <td>1991.416667</td>\n",
       "      <td>2016.833333</td>\n",
       "      <td>0.025254</td>\n",
       "      <td>0.003912</td>\n",
       "      <td>NaN</td>\n",
       "      <td>N</td>\n",
       "      <td>25.416667</td>\n",
       "      <td>True</td>\n",
       "    </tr>\n",
       "    <tr>\n",
       "      <th>2</th>\n",
       "      <td>hepatocyte</td>\n",
       "      <td>PH3</td>\n",
       "      <td>ND381</td>\n",
       "      <td>1985.166667</td>\n",
       "      <td>2016.416667</td>\n",
       "      <td>0.040336</td>\n",
       "      <td>0.008788</td>\n",
       "      <td>58.0</td>\n",
       "      <td>N</td>\n",
       "      <td>31.250000</td>\n",
       "      <td>True</td>\n",
       "    </tr>\n",
       "    <tr>\n",
       "      <th>3</th>\n",
       "      <td>hepatocyte</td>\n",
       "      <td>PH4</td>\n",
       "      <td>ND382</td>\n",
       "      <td>1982.083333</td>\n",
       "      <td>2016.500000</td>\n",
       "      <td>0.018815</td>\n",
       "      <td>0.005342</td>\n",
       "      <td>52.0</td>\n",
       "      <td>N</td>\n",
       "      <td>34.416667</td>\n",
       "      <td>True</td>\n",
       "    </tr>\n",
       "    <tr>\n",
       "      <th>4</th>\n",
       "      <td>hepatocyte</td>\n",
       "      <td>PH6</td>\n",
       "      <td>ND022</td>\n",
       "      <td>1946.500000</td>\n",
       "      <td>2004.833333</td>\n",
       "      <td>0.075001</td>\n",
       "      <td>0.004711</td>\n",
       "      <td>62.0</td>\n",
       "      <td>N</td>\n",
       "      <td>58.333333</td>\n",
       "      <td>True</td>\n",
       "    </tr>\n",
       "  </tbody>\n",
       "</table>\n",
       "</div>"
      ],
      "text/plain": [
       "         type code sample       Dbirth        Dcoll      d14C  \\\n",
       "0    unsorted  PH1  ND380  1942.833333  2016.416667  0.078416   \n",
       "1    unsorted  PH2  ND388  1991.416667  2016.833333  0.025254   \n",
       "2  hepatocyte  PH3  ND381  1985.166667  2016.416667  0.040336   \n",
       "3  hepatocyte  PH4  ND382  1982.083333  2016.500000  0.018815   \n",
       "4  hepatocyte  PH6  ND022  1946.500000  2004.833333  0.075001   \n",
       "\n",
       "   error_measurement  N_cells pathology  subject_age  valid  \n",
       "0           0.003981      NaN         N    73.583333   True  \n",
       "1           0.003912      NaN         N    25.416667   True  \n",
       "2           0.008788     58.0         N    31.250000   True  \n",
       "3           0.005342     52.0         N    34.416667   True  \n",
       "4           0.004711     62.0         N    58.333333   True  "
      ]
     },
     "execution_count": 3,
     "metadata": {},
     "output_type": "execute_result"
    }
   ],
   "source": [
    "c14_patient_data = pd.read_excel('../../data/C14data_liver_samples_20190307.xlsx', \n",
    "                                 usecols=[0, 1, 2, 3, 5, 6, 8, 9, 10])[\n",
    "    ['sort', 'Code', 'sample', 'DOB', 'DOA', u'Δ 14C', 'Error, 2 s', 'no sorted', 'Pathology']]\n",
    "c14_patient_data.columns = ['type', 'code', 'sample', 'Dbirth', 'Dcoll', 'd14C', 'error_measurement', 'N_cells', 'pathology']\n",
    "\n",
    "c14_patient_data['d14C'] /= 1000.0\n",
    "c14_patient_data['error_measurement'] /= 1000.0 # convert unit\n",
    "c14_patient_data['error_measurement'] /= 2.0 # convert to 1s error\n",
    "c14_patient_data['subject_age'] = c14_patient_data['Dcoll'] - c14_patient_data['Dbirth']\n",
    "\n",
    "invalid_codes = ['PH14', 'PH20', 'PH45', 'PH46']\n",
    "c14_patient_data['valid'] = np.logical_not(c14_patient_data['code'].isin(invalid_codes))\n",
    "\n",
    "c14_patient_data['type'] = pd.Categorical(c14_patient_data['type'])\n",
    "c14_patient_data['code'] = pd.Categorical(c14_patient_data['code'])\n",
    "c14_patient_data['sample'] = pd.Categorical(c14_patient_data['sample'])\n",
    "c14_patient_data['pathology'] = pd.Categorical(c14_patient_data['pathology'])\n",
    "\n",
    "def convert_N_cell_entry(x):\n",
    "    if isinstance(x, float):\n",
    "        return x\n",
    "    elif x[-1] == '2':\n",
    "        return float(x.rstrip(' mio /2')) / 2\n",
    "    else:\n",
    "        return float(x.rstrip(' mio'))\n",
    "\n",
    "c14_patient_data['N_cells'] = c14_patient_data['N_cells'].apply(convert_N_cell_entry)\n",
    "\n",
    "c14_patient_data.loc[c14_patient_data['type'] == 'HNF4α -', 'type'] = 'non-hepatocyte'\n",
    "c14_patient_data['type'].cat.remove_unused_categories(inplace=True)\n",
    "    \n",
    "c14_patient_data.head()"
   ]
  },
  {
   "cell_type": "code",
   "execution_count": 4,
   "metadata": {
    "ExecuteTime": {
     "end_time": "2018-12-05T11:02:30.169214Z",
     "start_time": "2018-12-05T11:02:30.133291Z"
    }
   },
   "outputs": [],
   "source": [
    "c14_patient_data.to_csv(f'../../results/C14data_liver_samples_{datetime.date.today().isoformat()}.csv', index=False)\n",
    "c14_patient_data.to_pickle(f'../../results/C14data_liver_samples_{datetime.date.today().isoformat()}.pkl')"
   ]
  },
  {
   "cell_type": "code",
   "execution_count": 5,
   "metadata": {
    "ExecuteTime": {
     "end_time": "2018-12-05T11:02:57.263092Z",
     "start_time": "2018-12-05T11:02:57.245185Z"
    }
   },
   "outputs": [
    {
     "data": {
      "text/plain": [
       "0      unsorted\n",
       "1      unsorted\n",
       "2    hepatocyte\n",
       "3    hepatocyte\n",
       "4    hepatocyte\n",
       "Name: type, dtype: object"
      ]
     },
     "execution_count": 5,
     "metadata": {},
     "output_type": "execute_result"
    }
   ],
   "source": [
    "pd.read_csv('../../results/C14data_liver_samples_2019-03-20.csv')['type'].head()"
   ]
  },
  {
   "cell_type": "code",
   "execution_count": 6,
   "metadata": {
    "ExecuteTime": {
     "end_time": "2018-12-05T11:03:04.585173Z",
     "start_time": "2018-12-05T11:03:04.568132Z"
    }
   },
   "outputs": [
    {
     "data": {
      "text/plain": [
       "0      unsorted\n",
       "1      unsorted\n",
       "2    hepatocyte\n",
       "3    hepatocyte\n",
       "4    hepatocyte\n",
       "Name: type, dtype: category\n",
       "Categories (5, object): [2n hepatocyte, 4n hepatocyte, hepatocyte, non-hepatocyte, unsorted]"
      ]
     },
     "execution_count": 6,
     "metadata": {},
     "output_type": "execute_result"
    }
   ],
   "source": [
    "pd.read_pickle('../../results/C14data_liver_samples_2019-03-20.pkl')['type'].head()"
   ]
  },
  {
   "cell_type": "code",
   "execution_count": null,
   "metadata": {},
   "outputs": [],
   "source": []
  }
 ],
 "metadata": {
  "kernelspec": {
   "display_name": "Python [conda env:spols180816d]",
   "language": "python",
   "name": "conda-env-spols180816d-py"
  },
  "language_info": {
   "codemirror_mode": {
    "name": "ipython",
    "version": 3
   },
   "file_extension": ".py",
   "mimetype": "text/x-python",
   "name": "python",
   "nbconvert_exporter": "python",
   "pygments_lexer": "ipython3",
   "version": "3.6.6"
  },
  "toc": {
   "nav_menu": {},
   "number_sections": true,
   "sideBar": true,
   "skip_h1_title": false,
   "title_cell": "Table of Contents",
   "title_sidebar": "Contents",
   "toc_cell": false,
   "toc_position": {},
   "toc_section_display": true,
   "toc_window_display": false
  }
 },
 "nbformat": 4,
 "nbformat_minor": 2
}
