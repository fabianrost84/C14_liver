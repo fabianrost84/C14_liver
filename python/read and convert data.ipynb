{
 "cells": [
  {
   "cell_type": "code",
   "execution_count": 44,
   "metadata": {
    "ExecuteTime": {
     "end_time": "2020-04-16T09:12:50.232008Z",
     "start_time": "2020-04-16T09:12:50.227516Z"
    }
   },
   "outputs": [],
   "source": [
    "import datetime\n",
    "import numpy as np\n",
    "import pandas as pd"
   ]
  },
  {
   "cell_type": "markdown",
   "metadata": {
    "toc-hr-collapsed": true,
    "toc-nb-collapsed": true
   },
   "source": [
    "# 20200330"
   ]
  },
  {
   "cell_type": "code",
   "execution_count": 45,
   "metadata": {
    "ExecuteTime": {
     "end_time": "2020-04-16T09:12:50.416948Z",
     "start_time": "2020-04-16T09:12:50.235362Z"
    }
   },
   "outputs": [],
   "source": [
    "c14_patient_data = pd.read_excel('../../../data/C14data_liver_samples_20200330.xlsx').sort_values('sample')"
   ]
  },
  {
   "cell_type": "code",
   "execution_count": 46,
   "metadata": {
    "ExecuteTime": {
     "end_time": "2020-04-16T09:12:50.426636Z",
     "start_time": "2020-04-16T09:12:50.420567Z"
    }
   },
   "outputs": [
    {
     "data": {
      "text/plain": [
       "105"
      ]
     },
     "execution_count": 46,
     "metadata": {},
     "output_type": "execute_result"
    }
   ],
   "source": [
    "len(c14_patient_data)"
   ]
  },
  {
   "cell_type": "code",
   "execution_count": 47,
   "metadata": {
    "ExecuteTime": {
     "end_time": "2020-04-16T09:12:50.491337Z",
     "start_time": "2020-04-16T09:12:50.430033Z"
    }
   },
   "outputs": [],
   "source": [
    "ploidy_purity = pd.read_excel('../../../data/ploidy purity.xlsx', usecols=[1, 2, 3, 4, 5])\n",
    "ploidy_purity = ploidy_purity.rename({'ID': 'sample',\n",
    "                                      'population sorted': 'sort',\n",
    "                                      '2n': '2n contamination %',\n",
    "                                      '4n': '4n contamination %',\n",
    "                                      'NPC': 'NPC contamination %'},\n",
    "                                     axis='columns')\n",
    "ploidy_purity['sort'] = [f'{sort} hepatocyte' for sort in ploidy_purity['sort']]\n",
    "ploidy_purity['ploidy_purity %'] = 100 - ploidy_purity.fillna(value=0)[['2n contamination %', '4n contamination %']].sum(axis='columns')"
   ]
  },
  {
   "cell_type": "code",
   "execution_count": 48,
   "metadata": {
    "ExecuteTime": {
     "end_time": "2020-04-16T09:12:50.538414Z",
     "start_time": "2020-04-16T09:12:50.494518Z"
    }
   },
   "outputs": [
    {
     "data": {
      "text/html": [
       "<div>\n",
       "<style scoped>\n",
       "    .dataframe tbody tr th:only-of-type {\n",
       "        vertical-align: middle;\n",
       "    }\n",
       "\n",
       "    .dataframe tbody tr th {\n",
       "        vertical-align: top;\n",
       "    }\n",
       "\n",
       "    .dataframe thead th {\n",
       "        text-align: right;\n",
       "    }\n",
       "</style>\n",
       "<table border=\"1\" class=\"dataframe\">\n",
       "  <thead>\n",
       "    <tr style=\"text-align: right;\">\n",
       "      <th></th>\n",
       "      <th>sample</th>\n",
       "      <th>sort</th>\n",
       "      <th>2n contamination %</th>\n",
       "      <th>4n contamination %</th>\n",
       "      <th>NPC contamination %</th>\n",
       "      <th>ploidy_purity %</th>\n",
       "    </tr>\n",
       "  </thead>\n",
       "  <tbody>\n",
       "    <tr>\n",
       "      <th>0</th>\n",
       "      <td>ND383</td>\n",
       "      <td>2n hepatocyte</td>\n",
       "      <td>NaN</td>\n",
       "      <td>2.0</td>\n",
       "      <td>3.00</td>\n",
       "      <td>98.0</td>\n",
       "    </tr>\n",
       "    <tr>\n",
       "      <th>1</th>\n",
       "      <td>ND383</td>\n",
       "      <td>4n hepatocyte</td>\n",
       "      <td>12.5</td>\n",
       "      <td>NaN</td>\n",
       "      <td>1.90</td>\n",
       "      <td>87.5</td>\n",
       "    </tr>\n",
       "    <tr>\n",
       "      <th>2</th>\n",
       "      <td>HL#11</td>\n",
       "      <td>2n hepatocyte</td>\n",
       "      <td>NaN</td>\n",
       "      <td>6.0</td>\n",
       "      <td>2.60</td>\n",
       "      <td>94.0</td>\n",
       "    </tr>\n",
       "    <tr>\n",
       "      <th>3</th>\n",
       "      <td>HL#11</td>\n",
       "      <td>4n hepatocyte</td>\n",
       "      <td>13.0</td>\n",
       "      <td>NaN</td>\n",
       "      <td>5.00</td>\n",
       "      <td>87.0</td>\n",
       "    </tr>\n",
       "    <tr>\n",
       "      <th>4</th>\n",
       "      <td>ND255</td>\n",
       "      <td>2n hepatocyte</td>\n",
       "      <td>NaN</td>\n",
       "      <td>2.9</td>\n",
       "      <td>5.55</td>\n",
       "      <td>97.1</td>\n",
       "    </tr>\n",
       "  </tbody>\n",
       "</table>\n",
       "</div>"
      ],
      "text/plain": [
       "  sample           sort  2n contamination %  4n contamination %  \\\n",
       "0  ND383  2n hepatocyte                 NaN                 2.0   \n",
       "1  ND383  4n hepatocyte                12.5                 NaN   \n",
       "2  HL#11  2n hepatocyte                 NaN                 6.0   \n",
       "3  HL#11  4n hepatocyte                13.0                 NaN   \n",
       "4  ND255  2n hepatocyte                 NaN                 2.9   \n",
       "\n",
       "   NPC contamination %  ploidy_purity %  \n",
       "0                 3.00             98.0  \n",
       "1                 1.90             87.5  \n",
       "2                 2.60             94.0  \n",
       "3                 5.00             87.0  \n",
       "4                 5.55             97.1  "
      ]
     },
     "execution_count": 48,
     "metadata": {},
     "output_type": "execute_result"
    }
   ],
   "source": [
    "ploidy_purity.head()"
   ]
  },
  {
   "cell_type": "code",
   "execution_count": 49,
   "metadata": {
    "ExecuteTime": {
     "end_time": "2020-04-16T09:12:50.595225Z",
     "start_time": "2020-04-16T09:12:50.541402Z"
    }
   },
   "outputs": [],
   "source": [
    "c14_patient_data = c14_patient_data.merge(ploidy_purity, how='left')"
   ]
  },
  {
   "cell_type": "code",
   "execution_count": 50,
   "metadata": {
    "ExecuteTime": {
     "end_time": "2020-04-16T09:12:50.629763Z",
     "start_time": "2020-04-16T09:12:50.599664Z"
    }
   },
   "outputs": [
    {
     "data": {
      "text/plain": [
       "105"
      ]
     },
     "execution_count": 50,
     "metadata": {},
     "output_type": "execute_result"
    }
   ],
   "source": [
    "len(c14_patient_data)"
   ]
  },
  {
   "cell_type": "code",
   "execution_count": 51,
   "metadata": {
    "ExecuteTime": {
     "end_time": "2020-04-16T09:12:50.656851Z",
     "start_time": "2020-04-16T09:12:50.633683Z"
    }
   },
   "outputs": [],
   "source": [
    "# c14_patient_data['Δ 14C corr'] = c14_patient_data['Δ 14C']"
   ]
  },
  {
   "cell_type": "markdown",
   "metadata": {},
   "source": [
    "## Purity correction"
   ]
  },
  {
   "cell_type": "markdown",
   "metadata": {},
   "source": [
    "Which cases can we correct?"
   ]
  },
  {
   "cell_type": "code",
   "execution_count": 52,
   "metadata": {
    "ExecuteTime": {
     "end_time": "2020-04-16T09:12:50.794476Z",
     "start_time": "2020-04-16T09:12:50.659896Z"
    }
   },
   "outputs": [
    {
     "data": {
      "text/plain": [
       "array([('2n hepatocyte', '4n hepatocyte'),\n",
       "       ('hepatocyte', 'non-hepatocyte'), ('2n hepatocyte', 'hepatocyte'),\n",
       "       ('2n hepatocyte', '4n hepatocyte', 'hepatocyte'),\n",
       "       ('2n hepatocyte', '2n hepatocyte', '4n hepatocyte', 'non-hepatocyte')],\n",
       "      dtype=object)"
      ]
     },
     "execution_count": 52,
     "metadata": {},
     "output_type": "execute_result"
    }
   ],
   "source": [
    "(c14_patient_data\n",
    " .query('sort != \"unsorted\"')\n",
    " .groupby(['sample'])\n",
    " .filter(lambda df: len(df) > 1)\n",
    " .groupby(['sample'])\n",
    " .agg({'sort': lambda s: tuple(s.sort_values())})\n",
    " ['sort'].unique()\n",
    ")"
   ]
  },
  {
   "cell_type": "markdown",
   "metadata": {},
   "source": [
    "We can correct for:\n",
    "\n",
    "- 'hepatocyte' vs 'non-hepatocyte'\n",
    "- '2n hepatocyte' vs '4n hepatocyte'\n",
    "- '2n hepatocyte' vs '4n hepatocyte' vs 'non-hepatocyte'"
   ]
  },
  {
   "cell_type": "markdown",
   "metadata": {},
   "source": [
    "See Mathematica notebook `purity correction` for derivation of the formulas"
   ]
  },
  {
   "cell_type": "markdown",
   "metadata": {},
   "source": [
    "Be carefull with this sample which has two 2n sorts:"
   ]
  },
  {
   "cell_type": "code",
   "execution_count": 53,
   "metadata": {
    "ExecuteTime": {
     "end_time": "2020-04-16T09:12:50.877075Z",
     "start_time": "2020-04-16T09:12:50.797979Z"
    }
   },
   "outputs": [
    {
     "data": {
      "text/html": [
       "<div>\n",
       "<style scoped>\n",
       "    .dataframe tbody tr th:only-of-type {\n",
       "        vertical-align: middle;\n",
       "    }\n",
       "\n",
       "    .dataframe tbody tr th {\n",
       "        vertical-align: top;\n",
       "    }\n",
       "\n",
       "    .dataframe thead th {\n",
       "        text-align: right;\n",
       "    }\n",
       "</style>\n",
       "<table border=\"1\" class=\"dataframe\">\n",
       "  <thead>\n",
       "    <tr style=\"text-align: right;\">\n",
       "      <th></th>\n",
       "      <th>Code</th>\n",
       "      <th>sample</th>\n",
       "      <th>DOB</th>\n",
       "      <th>DOA</th>\n",
       "      <th>sex</th>\n",
       "      <th>% hepa</th>\n",
       "      <th>% non-hepa</th>\n",
       "      <th>% hepa -&gt; 100%</th>\n",
       "      <th>% 2n</th>\n",
       "      <th>% 4n</th>\n",
       "      <th>...</th>\n",
       "      <th>no sorted</th>\n",
       "      <th>purity %</th>\n",
       "      <th>Δ 14C</th>\n",
       "      <th>Error, 2 s</th>\n",
       "      <th>Pathology</th>\n",
       "      <th>comment</th>\n",
       "      <th>2n contamination %</th>\n",
       "      <th>4n contamination %</th>\n",
       "      <th>NPC contamination %</th>\n",
       "      <th>ploidy_purity %</th>\n",
       "    </tr>\n",
       "  </thead>\n",
       "  <tbody>\n",
       "    <tr>\n",
       "      <th>50</th>\n",
       "      <td>PH90</td>\n",
       "      <td>ND383</td>\n",
       "      <td>1937.583333</td>\n",
       "      <td>2016.666667</td>\n",
       "      <td>F</td>\n",
       "      <td>NaN</td>\n",
       "      <td>NaN</td>\n",
       "      <td>NaN</td>\n",
       "      <td>69.0</td>\n",
       "      <td>27.0</td>\n",
       "      <td>...</td>\n",
       "      <td>68 mio</td>\n",
       "      <td>93.0</td>\n",
       "      <td>41.2</td>\n",
       "      <td>10.5</td>\n",
       "      <td>N</td>\n",
       "      <td>3 sorts</td>\n",
       "      <td>NaN</td>\n",
       "      <td>2.0</td>\n",
       "      <td>3.0</td>\n",
       "      <td>98.0</td>\n",
       "    </tr>\n",
       "    <tr>\n",
       "      <th>53</th>\n",
       "      <td>PH89</td>\n",
       "      <td>ND383</td>\n",
       "      <td>1937.583333</td>\n",
       "      <td>2016.666667</td>\n",
       "      <td>F</td>\n",
       "      <td>NaN</td>\n",
       "      <td>NaN</td>\n",
       "      <td>NaN</td>\n",
       "      <td>69.0</td>\n",
       "      <td>27.0</td>\n",
       "      <td>...</td>\n",
       "      <td>68 mio</td>\n",
       "      <td>93.0</td>\n",
       "      <td>51.9</td>\n",
       "      <td>9.6</td>\n",
       "      <td>N</td>\n",
       "      <td>3 sorts</td>\n",
       "      <td>NaN</td>\n",
       "      <td>2.0</td>\n",
       "      <td>3.0</td>\n",
       "      <td>98.0</td>\n",
       "    </tr>\n",
       "  </tbody>\n",
       "</table>\n",
       "<p>2 rows × 22 columns</p>\n",
       "</div>"
      ],
      "text/plain": [
       "    Code sample          DOB          DOA sex  % hepa  % non-hepa  \\\n",
       "50  PH90  ND383  1937.583333  2016.666667   F     NaN         NaN   \n",
       "53  PH89  ND383  1937.583333  2016.666667   F     NaN         NaN   \n",
       "\n",
       "    % hepa -> 100%  % 2n  % 4n  ...  no sorted purity % Δ 14C  Error, 2 s  \\\n",
       "50             NaN  69.0  27.0  ...     68 mio     93.0  41.2        10.5   \n",
       "53             NaN  69.0  27.0  ...     68 mio     93.0  51.9         9.6   \n",
       "\n",
       "    Pathology  comment 2n contamination % 4n contamination %  \\\n",
       "50          N  3 sorts                NaN                2.0   \n",
       "53          N  3 sorts                NaN                2.0   \n",
       "\n",
       "    NPC contamination %  ploidy_purity %  \n",
       "50                  3.0             98.0  \n",
       "53                  3.0             98.0  \n",
       "\n",
       "[2 rows x 22 columns]"
      ]
     },
     "execution_count": 53,
     "metadata": {},
     "output_type": "execute_result"
    }
   ],
   "source": [
    "c14_patient_data.groupby(['sample', 'sort']).filter(lambda x: len(x) > 1)"
   ]
  },
  {
   "cell_type": "markdown",
   "metadata": {},
   "source": [
    "### Correcting for hepato / non-hepato purities"
   ]
  },
  {
   "cell_type": "code",
   "execution_count": 54,
   "metadata": {
    "ExecuteTime": {
     "end_time": "2020-04-16T09:12:50.928756Z",
     "start_time": "2020-04-16T09:12:50.878877Z"
    }
   },
   "outputs": [],
   "source": [
    "h_nh_pairs = (c14_patient_data\n",
    " .query('sort != \"unsorted\"')\n",
    " .groupby('sample')\n",
    " .filter(lambda df: list(np.sort(df['sort'].values)) == ['hepatocyte', 'non-hepatocyte'])\n",
    ")\n",
    "\n",
    "h_nh_pairs = h_nh_pairs[['sample', 'sort', 'Δ 14C', 'purity %']].pivot(index='sample', columns='sort')\n",
    "\n",
    "h_nh_pairs['purity %'] /= 100\n",
    "h_nh_pairs = h_nh_pairs.rename({'purity %': 'purity'}, axis='columns')"
   ]
  },
  {
   "cell_type": "code",
   "execution_count": 55,
   "metadata": {
    "ExecuteTime": {
     "end_time": "2020-04-16T09:12:50.982417Z",
     "start_time": "2020-04-16T09:12:50.930610Z"
    }
   },
   "outputs": [
    {
     "data": {
      "text/html": [
       "<div>\n",
       "<style scoped>\n",
       "    .dataframe tbody tr th:only-of-type {\n",
       "        vertical-align: middle;\n",
       "    }\n",
       "\n",
       "    .dataframe tbody tr th {\n",
       "        vertical-align: top;\n",
       "    }\n",
       "\n",
       "    .dataframe thead tr th {\n",
       "        text-align: left;\n",
       "    }\n",
       "\n",
       "    .dataframe thead tr:last-of-type th {\n",
       "        text-align: right;\n",
       "    }\n",
       "</style>\n",
       "<table border=\"1\" class=\"dataframe\">\n",
       "  <thead>\n",
       "    <tr>\n",
       "      <th></th>\n",
       "      <th colspan=\"2\" halign=\"left\">Δ 14C</th>\n",
       "      <th colspan=\"2\" halign=\"left\">purity</th>\n",
       "    </tr>\n",
       "    <tr>\n",
       "      <th>sort</th>\n",
       "      <th>hepatocyte</th>\n",
       "      <th>non-hepatocyte</th>\n",
       "      <th>hepatocyte</th>\n",
       "      <th>non-hepatocyte</th>\n",
       "    </tr>\n",
       "    <tr>\n",
       "      <th>sample</th>\n",
       "      <th></th>\n",
       "      <th></th>\n",
       "      <th></th>\n",
       "      <th></th>\n",
       "    </tr>\n",
       "  </thead>\n",
       "  <tbody>\n",
       "    <tr>\n",
       "      <th>HL#5</th>\n",
       "      <td>39.600000</td>\n",
       "      <td>41.400000</td>\n",
       "      <td>0.99</td>\n",
       "      <td>0.97</td>\n",
       "    </tr>\n",
       "    <tr>\n",
       "      <th>HL#8</th>\n",
       "      <td>7.400000</td>\n",
       "      <td>50.000000</td>\n",
       "      <td>0.98</td>\n",
       "      <td>0.98</td>\n",
       "    </tr>\n",
       "    <tr>\n",
       "      <th>ND258</th>\n",
       "      <td>71.900000</td>\n",
       "      <td>58.600000</td>\n",
       "      <td>0.99</td>\n",
       "      <td>0.99</td>\n",
       "    </tr>\n",
       "    <tr>\n",
       "      <th>ND387</th>\n",
       "      <td>26.662356</td>\n",
       "      <td>15.017664</td>\n",
       "      <td>0.99</td>\n",
       "      <td>0.98</td>\n",
       "    </tr>\n",
       "    <tr>\n",
       "      <th>ND392</th>\n",
       "      <td>6.100000</td>\n",
       "      <td>21.100000</td>\n",
       "      <td>0.98</td>\n",
       "      <td>0.97</td>\n",
       "    </tr>\n",
       "  </tbody>\n",
       "</table>\n",
       "</div>"
      ],
      "text/plain": [
       "            Δ 14C                    purity               \n",
       "sort   hepatocyte non-hepatocyte hepatocyte non-hepatocyte\n",
       "sample                                                    \n",
       "HL#5    39.600000      41.400000       0.99           0.97\n",
       "HL#8     7.400000      50.000000       0.98           0.98\n",
       "ND258   71.900000      58.600000       0.99           0.99\n",
       "ND387   26.662356      15.017664       0.99           0.98\n",
       "ND392    6.100000      21.100000       0.98           0.97"
      ]
     },
     "execution_count": 55,
     "metadata": {},
     "output_type": "execute_result"
    }
   ],
   "source": [
    "h_nh_pairs.head()"
   ]
  },
  {
   "cell_type": "code",
   "execution_count": 56,
   "metadata": {
    "ExecuteTime": {
     "end_time": "2020-04-16T09:12:51.022987Z",
     "start_time": "2020-04-16T09:12:50.984268Z"
    }
   },
   "outputs": [],
   "source": [
    "def corr_c14(my_c14, other_c14, my_p, other_p):\n",
    "    return (other_c14 * (my_p-1)) + my_c14 * other_p / (my_p+other_p-1)"
   ]
  },
  {
   "cell_type": "code",
   "execution_count": 57,
   "metadata": {
    "ExecuteTime": {
     "end_time": "2020-04-16T09:12:51.055452Z",
     "start_time": "2020-04-16T09:12:51.025370Z"
    }
   },
   "outputs": [],
   "source": [
    "h_nh_pairs['Δ 14C corr', 'hepatocyte'] = corr_c14(\n",
    "    h_nh_pairs['Δ 14C']['hepatocyte'],\n",
    "    h_nh_pairs['Δ 14C']['non-hepatocyte'],\n",
    "    h_nh_pairs['purity']['hepatocyte'],\n",
    "    h_nh_pairs['purity']['non-hepatocyte']\n",
    ")"
   ]
  },
  {
   "cell_type": "code",
   "execution_count": 58,
   "metadata": {
    "ExecuteTime": {
     "end_time": "2020-04-16T09:12:51.104120Z",
     "start_time": "2020-04-16T09:12:51.058437Z"
    }
   },
   "outputs": [],
   "source": [
    "h_nh_pairs['Δ 14C corr', 'non-hepatocyte'] = corr_c14(\n",
    "    h_nh_pairs['Δ 14C']['non-hepatocyte'],\n",
    "    h_nh_pairs['Δ 14C']['hepatocyte'],\n",
    "    h_nh_pairs['purity']['non-hepatocyte'],\n",
    "    h_nh_pairs['purity']['hepatocyte']\n",
    ")"
   ]
  },
  {
   "cell_type": "code",
   "execution_count": 59,
   "metadata": {
    "ExecuteTime": {
     "end_time": "2020-04-16T09:12:51.149019Z",
     "start_time": "2020-04-16T09:12:51.107249Z"
    }
   },
   "outputs": [],
   "source": [
    "h_nh_pairs = h_nh_pairs['Δ 14C corr'].reset_index().melt(id_vars='sample', value_name='Δ 14C corr')"
   ]
  },
  {
   "cell_type": "code",
   "execution_count": 60,
   "metadata": {
    "ExecuteTime": {
     "end_time": "2020-04-16T09:12:51.216576Z",
     "start_time": "2020-04-16T09:12:51.152028Z"
    }
   },
   "outputs": [],
   "source": [
    "c14_patient_data = c14_patient_data.merge(h_nh_pairs, how='left')"
   ]
  },
  {
   "cell_type": "code",
   "execution_count": 61,
   "metadata": {
    "ExecuteTime": {
     "end_time": "2020-04-16T09:12:51.279557Z",
     "start_time": "2020-04-16T09:12:51.219599Z"
    }
   },
   "outputs": [
    {
     "data": {
      "text/plain": [
       "105"
      ]
     },
     "execution_count": 61,
     "metadata": {},
     "output_type": "execute_result"
    }
   ],
   "source": [
    "len(c14_patient_data)"
   ]
  },
  {
   "cell_type": "markdown",
   "metadata": {},
   "source": [
    "### Correcting for 2n / 4n purities"
   ]
  },
  {
   "cell_type": "code",
   "execution_count": 62,
   "metadata": {
    "ExecuteTime": {
     "end_time": "2020-04-16T09:12:51.375017Z",
     "start_time": "2020-04-16T09:12:51.285896Z"
    }
   },
   "outputs": [],
   "source": [
    "ploidy_pairs = (\n",
    "    c14_patient_data\n",
    "    .query('sort in [\"2n hepatocyte\", \"4n hepatocyte\"]')\n",
    "    .groupby('sample')\n",
    "    .filter(lambda df: '2n hepatocyte' in list(df['sort'].values) and\n",
    "            '4n hepatocyte' in list(df['sort'].values) and\n",
    "            df['sort'].is_unique\n",
    "           )\n",
    "    [['sample', 'sort', 'Δ 14C', 'ploidy_purity %']]\n",
    "    .pivot(index='sample', columns='sort')\n",
    "    .dropna()\n",
    ")\n",
    "\n",
    "ploidy_pairs['ploidy_purity %'] /= 100\n",
    "ploidy_pairs = ploidy_pairs.rename({'ploidy_purity %': 'purity'}, axis='columns')"
   ]
  },
  {
   "cell_type": "code",
   "execution_count": 63,
   "metadata": {
    "ExecuteTime": {
     "end_time": "2020-04-16T09:12:51.420182Z",
     "start_time": "2020-04-16T09:12:51.378742Z"
    }
   },
   "outputs": [
    {
     "data": {
      "text/html": [
       "<div>\n",
       "<style scoped>\n",
       "    .dataframe tbody tr th:only-of-type {\n",
       "        vertical-align: middle;\n",
       "    }\n",
       "\n",
       "    .dataframe tbody tr th {\n",
       "        vertical-align: top;\n",
       "    }\n",
       "\n",
       "    .dataframe thead tr th {\n",
       "        text-align: left;\n",
       "    }\n",
       "\n",
       "    .dataframe thead tr:last-of-type th {\n",
       "        text-align: right;\n",
       "    }\n",
       "</style>\n",
       "<table border=\"1\" class=\"dataframe\">\n",
       "  <thead>\n",
       "    <tr>\n",
       "      <th></th>\n",
       "      <th colspan=\"2\" halign=\"left\">Δ 14C</th>\n",
       "      <th colspan=\"2\" halign=\"left\">purity</th>\n",
       "    </tr>\n",
       "    <tr>\n",
       "      <th>sort</th>\n",
       "      <th>2n hepatocyte</th>\n",
       "      <th>4n hepatocyte</th>\n",
       "      <th>2n hepatocyte</th>\n",
       "      <th>4n hepatocyte</th>\n",
       "    </tr>\n",
       "    <tr>\n",
       "      <th>sample</th>\n",
       "      <th></th>\n",
       "      <th></th>\n",
       "      <th></th>\n",
       "      <th></th>\n",
       "    </tr>\n",
       "  </thead>\n",
       "  <tbody>\n",
       "    <tr>\n",
       "      <th>HL#11</th>\n",
       "      <td>16.2</td>\n",
       "      <td>39.60</td>\n",
       "      <td>0.9400</td>\n",
       "      <td>0.870000</td>\n",
       "    </tr>\n",
       "    <tr>\n",
       "      <th>ND023</th>\n",
       "      <td>94.2</td>\n",
       "      <td>105.40</td>\n",
       "      <td>0.9940</td>\n",
       "      <td>0.867000</td>\n",
       "    </tr>\n",
       "    <tr>\n",
       "      <th>ND252</th>\n",
       "      <td>86.8</td>\n",
       "      <td>104.91</td>\n",
       "      <td>0.9898</td>\n",
       "      <td>0.895000</td>\n",
       "    </tr>\n",
       "    <tr>\n",
       "      <th>ND255</th>\n",
       "      <td>80.5</td>\n",
       "      <td>113.00</td>\n",
       "      <td>0.9710</td>\n",
       "      <td>0.987667</td>\n",
       "    </tr>\n",
       "  </tbody>\n",
       "</table>\n",
       "</div>"
      ],
      "text/plain": [
       "               Δ 14C                      purity              \n",
       "sort   2n hepatocyte 4n hepatocyte 2n hepatocyte 4n hepatocyte\n",
       "sample                                                        \n",
       "HL#11           16.2         39.60        0.9400      0.870000\n",
       "ND023           94.2        105.40        0.9940      0.867000\n",
       "ND252           86.8        104.91        0.9898      0.895000\n",
       "ND255           80.5        113.00        0.9710      0.987667"
      ]
     },
     "execution_count": 63,
     "metadata": {},
     "output_type": "execute_result"
    }
   ],
   "source": [
    "ploidy_pairs.head()"
   ]
  },
  {
   "cell_type": "code",
   "execution_count": 64,
   "metadata": {
    "ExecuteTime": {
     "end_time": "2020-04-16T09:12:51.456400Z",
     "start_time": "2020-04-16T09:12:51.423159Z"
    }
   },
   "outputs": [],
   "source": [
    "def corr_c14_2n(c2m, c4m, p2, p4):\n",
    "    return (-c2m * (-2 + p2) * p4 + c4m * (-1 + p2) * (1 + p4))/(-1 + p2 + p4)"
   ]
  },
  {
   "cell_type": "code",
   "execution_count": 65,
   "metadata": {
    "ExecuteTime": {
     "end_time": "2020-04-16T09:12:51.510483Z",
     "start_time": "2020-04-16T09:12:51.459366Z"
    }
   },
   "outputs": [],
   "source": [
    "ploidy_pairs['Δ 14C corr2', '2n hepatocyte'] = corr_c14_2n(\n",
    "    ploidy_pairs['Δ 14C']['2n hepatocyte'],\n",
    "    ploidy_pairs['Δ 14C']['4n hepatocyte'],\n",
    "    ploidy_pairs['purity']['2n hepatocyte'],\n",
    "    ploidy_pairs['purity']['4n hepatocyte']\n",
    ")"
   ]
  },
  {
   "cell_type": "code",
   "execution_count": 66,
   "metadata": {
    "ExecuteTime": {
     "end_time": "2020-04-16T09:12:51.571305Z",
     "start_time": "2020-04-16T09:12:51.513335Z"
    }
   },
   "outputs": [],
   "source": [
    "def corr_c14_4n(c2m, c4m, p2, p4):\n",
    "    return (-c2m *(-2 + p2) *(-1 + p4) + c4m * p2 * (1 + p4))/(2 *(-1 + p2 + p4))"
   ]
  },
  {
   "cell_type": "code",
   "execution_count": 67,
   "metadata": {
    "ExecuteTime": {
     "end_time": "2020-04-16T09:12:51.636970Z",
     "start_time": "2020-04-16T09:12:51.574360Z"
    }
   },
   "outputs": [],
   "source": [
    "ploidy_pairs['Δ 14C corr2', '4n hepatocyte'] = corr_c14_4n(\n",
    "    ploidy_pairs['Δ 14C']['2n hepatocyte'],\n",
    "    ploidy_pairs['Δ 14C']['4n hepatocyte'],\n",
    "    ploidy_pairs['purity']['2n hepatocyte'],\n",
    "    ploidy_pairs['purity']['4n hepatocyte']\n",
    ")"
   ]
  },
  {
   "cell_type": "code",
   "execution_count": 68,
   "metadata": {
    "ExecuteTime": {
     "end_time": "2020-04-16T09:12:51.699581Z",
     "start_time": "2020-04-16T09:12:51.639992Z"
    }
   },
   "outputs": [],
   "source": [
    "ploidy_pairs = ploidy_pairs['Δ 14C corr2'].reset_index().melt(id_vars='sample', value_name='Δ 14C corr2')"
   ]
  },
  {
   "cell_type": "code",
   "execution_count": 69,
   "metadata": {
    "ExecuteTime": {
     "end_time": "2020-04-16T09:12:51.771928Z",
     "start_time": "2020-04-16T09:12:51.702539Z"
    }
   },
   "outputs": [
    {
     "data": {
      "text/html": [
       "<div>\n",
       "<style scoped>\n",
       "    .dataframe tbody tr th:only-of-type {\n",
       "        vertical-align: middle;\n",
       "    }\n",
       "\n",
       "    .dataframe tbody tr th {\n",
       "        vertical-align: top;\n",
       "    }\n",
       "\n",
       "    .dataframe thead th {\n",
       "        text-align: right;\n",
       "    }\n",
       "</style>\n",
       "<table border=\"1\" class=\"dataframe\">\n",
       "  <thead>\n",
       "    <tr style=\"text-align: right;\">\n",
       "      <th></th>\n",
       "      <th>sample</th>\n",
       "      <th>sort</th>\n",
       "      <th>Δ 14C corr2</th>\n",
       "    </tr>\n",
       "  </thead>\n",
       "  <tbody>\n",
       "    <tr>\n",
       "      <th>0</th>\n",
       "      <td>HL#11</td>\n",
       "      <td>2n hepatocyte</td>\n",
       "      <td>12.958667</td>\n",
       "    </tr>\n",
       "    <tr>\n",
       "      <th>1</th>\n",
       "      <td>ND023</td>\n",
       "      <td>2n hepatocyte</td>\n",
       "      <td>94.054283</td>\n",
       "    </tr>\n",
       "    <tr>\n",
       "      <th>2</th>\n",
       "      <td>ND252</td>\n",
       "      <td>2n hepatocyte</td>\n",
       "      <td>86.404376</td>\n",
       "    </tr>\n",
       "    <tr>\n",
       "      <th>3</th>\n",
       "      <td>ND255</td>\n",
       "      <td>2n hepatocyte</td>\n",
       "      <td>78.545853</td>\n",
       "    </tr>\n",
       "    <tr>\n",
       "      <th>4</th>\n",
       "      <td>HL#11</td>\n",
       "      <td>4n hepatocyte</td>\n",
       "      <td>41.590444</td>\n",
       "    </tr>\n",
       "    <tr>\n",
       "      <th>5</th>\n",
       "      <td>ND023</td>\n",
       "      <td>4n hepatocyte</td>\n",
       "      <td>106.270231</td>\n",
       "    </tr>\n",
       "    <tr>\n",
       "      <th>6</th>\n",
       "      <td>ND252</td>\n",
       "      <td>4n hepatocyte</td>\n",
       "      <td>105.995525</td>\n",
       "    </tr>\n",
       "    <tr>\n",
       "      <th>7</th>\n",
       "      <td>ND255</td>\n",
       "      <td>4n hepatocyte</td>\n",
       "      <td>113.215120</td>\n",
       "    </tr>\n",
       "  </tbody>\n",
       "</table>\n",
       "</div>"
      ],
      "text/plain": [
       "  sample           sort  Δ 14C corr2\n",
       "0  HL#11  2n hepatocyte    12.958667\n",
       "1  ND023  2n hepatocyte    94.054283\n",
       "2  ND252  2n hepatocyte    86.404376\n",
       "3  ND255  2n hepatocyte    78.545853\n",
       "4  HL#11  4n hepatocyte    41.590444\n",
       "5  ND023  4n hepatocyte   106.270231\n",
       "6  ND252  4n hepatocyte   105.995525\n",
       "7  ND255  4n hepatocyte   113.215120"
      ]
     },
     "execution_count": 69,
     "metadata": {},
     "output_type": "execute_result"
    }
   ],
   "source": [
    "ploidy_pairs"
   ]
  },
  {
   "cell_type": "code",
   "execution_count": 70,
   "metadata": {
    "ExecuteTime": {
     "end_time": "2020-04-16T09:12:51.838089Z",
     "start_time": "2020-04-16T09:12:51.774931Z"
    }
   },
   "outputs": [
    {
     "data": {
      "text/plain": [
       "26"
      ]
     },
     "execution_count": 70,
     "metadata": {},
     "output_type": "execute_result"
    }
   ],
   "source": [
    "len(c14_patient_data['Δ 14C corr'].dropna())"
   ]
  },
  {
   "cell_type": "code",
   "execution_count": 71,
   "metadata": {
    "ExecuteTime": {
     "end_time": "2020-04-16T09:12:51.896032Z",
     "start_time": "2020-04-16T09:12:51.841092Z"
    }
   },
   "outputs": [],
   "source": [
    "c14_patient_data = c14_patient_data.merge(ploidy_pairs, how='left')"
   ]
  },
  {
   "cell_type": "code",
   "execution_count": 72,
   "metadata": {
    "ExecuteTime": {
     "end_time": "2020-04-16T09:12:51.940632Z",
     "start_time": "2020-04-16T09:12:51.899063Z"
    }
   },
   "outputs": [],
   "source": [
    "c14_patient_data['Δ 14C corr'] = c14_patient_data['Δ 14C corr'].fillna(value=c14_patient_data['Δ 14C corr2'])"
   ]
  },
  {
   "cell_type": "code",
   "execution_count": 73,
   "metadata": {
    "ExecuteTime": {
     "end_time": "2020-04-16T09:12:51.980888Z",
     "start_time": "2020-04-16T09:12:51.943596Z"
    }
   },
   "outputs": [],
   "source": [
    "del c14_patient_data['Δ 14C corr2']"
   ]
  },
  {
   "cell_type": "markdown",
   "metadata": {},
   "source": [
    "### Sample ND383"
   ]
  },
  {
   "cell_type": "code",
   "execution_count": 74,
   "metadata": {
    "ExecuteTime": {
     "end_time": "2020-04-16T09:12:52.061773Z",
     "start_time": "2020-04-16T09:12:51.983901Z"
    }
   },
   "outputs": [
    {
     "data": {
      "text/html": [
       "<div>\n",
       "<style scoped>\n",
       "    .dataframe tbody tr th:only-of-type {\n",
       "        vertical-align: middle;\n",
       "    }\n",
       "\n",
       "    .dataframe tbody tr th {\n",
       "        vertical-align: top;\n",
       "    }\n",
       "\n",
       "    .dataframe thead th {\n",
       "        text-align: right;\n",
       "    }\n",
       "</style>\n",
       "<table border=\"1\" class=\"dataframe\">\n",
       "  <thead>\n",
       "    <tr style=\"text-align: right;\">\n",
       "      <th></th>\n",
       "      <th>sort</th>\n",
       "      <th>Δ 14C</th>\n",
       "      <th>Δ 14C corr</th>\n",
       "    </tr>\n",
       "  </thead>\n",
       "  <tbody>\n",
       "    <tr>\n",
       "      <th>50</th>\n",
       "      <td>2n hepatocyte</td>\n",
       "      <td>41.2</td>\n",
       "      <td>NaN</td>\n",
       "    </tr>\n",
       "    <tr>\n",
       "      <th>51</th>\n",
       "      <td>non-hepatocyte</td>\n",
       "      <td>37.7</td>\n",
       "      <td>NaN</td>\n",
       "    </tr>\n",
       "    <tr>\n",
       "      <th>52</th>\n",
       "      <td>4n hepatocyte</td>\n",
       "      <td>46.9</td>\n",
       "      <td>NaN</td>\n",
       "    </tr>\n",
       "    <tr>\n",
       "      <th>53</th>\n",
       "      <td>2n hepatocyte</td>\n",
       "      <td>51.9</td>\n",
       "      <td>NaN</td>\n",
       "    </tr>\n",
       "    <tr>\n",
       "      <th>54</th>\n",
       "      <td>unsorted</td>\n",
       "      <td>51.4</td>\n",
       "      <td>NaN</td>\n",
       "    </tr>\n",
       "  </tbody>\n",
       "</table>\n",
       "</div>"
      ],
      "text/plain": [
       "              sort  Δ 14C  Δ 14C corr\n",
       "50   2n hepatocyte   41.2         NaN\n",
       "51  non-hepatocyte   37.7         NaN\n",
       "52   4n hepatocyte   46.9         NaN\n",
       "53   2n hepatocyte   51.9         NaN\n",
       "54        unsorted   51.4         NaN"
      ]
     },
     "execution_count": 74,
     "metadata": {},
     "output_type": "execute_result"
    }
   ],
   "source": [
    "c14_patient_data.query('sample == \"ND383\"')[['sort', 'Δ 14C', 'Δ 14C corr']]"
   ]
  },
  {
   "cell_type": "code",
   "execution_count": 75,
   "metadata": {
    "ExecuteTime": {
     "end_time": "2020-04-16T09:12:52.115299Z",
     "start_time": "2020-04-16T09:12:52.064845Z"
    }
   },
   "outputs": [],
   "source": [
    "c14_patient_data.loc[50, 'Δ 14C corr'] = corr_c14_2n(c14_patient_data.loc[50, 'Δ 14C'],\n",
    "           c14_patient_data.loc[52, 'Δ 14C'],\n",
    "           c14_patient_data.loc[50, 'ploidy_purity %']/100,\n",
    "           c14_patient_data.loc[52, 'ploidy_purity %']/100)\n",
    "\n",
    "c14_patient_data.loc[53, 'Δ 14C corr'] = corr_c14_2n(c14_patient_data.loc[53, 'Δ 14C'],\n",
    "           c14_patient_data.loc[52, 'Δ 14C'],\n",
    "           c14_patient_data.loc[53, 'ploidy_purity %']/100,\n",
    "           c14_patient_data.loc[52, 'ploidy_purity %']/100)\n",
    "\n",
    "c14_patient_data.loc[52, 'Δ 14C corr'] = corr_c14_4n(\n",
    "    0.5 * c14_patient_data.loc[50, 'Δ 14C'] + 0.5 * c14_patient_data.loc[53, 'Δ 14C'],\n",
    "           c14_patient_data.loc[52, 'Δ 14C'],\n",
    "           0.5*c14_patient_data.loc[50, 'ploidy_purity %']/100 + 0.5*c14_patient_data.loc[53, 'ploidy_purity %']/100,\n",
    "           c14_patient_data.loc[52, 'ploidy_purity %']/100)"
   ]
  },
  {
   "cell_type": "code",
   "execution_count": 76,
   "metadata": {
    "ExecuteTime": {
     "end_time": "2020-04-16T09:12:52.179988Z",
     "start_time": "2020-04-16T09:12:52.118270Z"
    }
   },
   "outputs": [],
   "source": [
    "c14_patient_data['Δ 14C corr'] = c14_patient_data['Δ 14C corr'].fillna(value=c14_patient_data['Δ 14C'])"
   ]
  },
  {
   "cell_type": "code",
   "execution_count": 77,
   "metadata": {
    "ExecuteTime": {
     "end_time": "2020-04-16T09:12:52.252944Z",
     "start_time": "2020-04-16T09:12:52.182905Z"
    }
   },
   "outputs": [],
   "source": [
    "del c14_patient_data['NPC contamination %']"
   ]
  },
  {
   "cell_type": "markdown",
   "metadata": {},
   "source": [
    "### Atmospheric C-14 time"
   ]
  },
  {
   "cell_type": "code",
   "execution_count": 78,
   "metadata": {
    "ExecuteTime": {
     "end_time": "2020-04-16T09:12:52.303216Z",
     "start_time": "2020-04-16T09:12:52.255932Z"
    }
   },
   "outputs": [],
   "source": [
    "import c14.models.base\n",
    "from scipy.optimize import fsolve, root, basinhopping, brute"
   ]
  },
  {
   "cell_type": "code",
   "execution_count": 79,
   "metadata": {
    "ExecuteTime": {
     "end_time": "2020-04-16T09:12:52.383659Z",
     "start_time": "2020-04-16T09:12:52.306190Z"
    }
   },
   "outputs": [],
   "source": [
    "f = lambda t, i: 1000*c14.models.base.Catm().lin(t) - c14_patient_data['Δ 14C corr'].values[i]\n",
    "f2 = lambda t, i: f(t, i)**2"
   ]
  },
  {
   "cell_type": "code",
   "execution_count": 80,
   "metadata": {
    "ExecuteTime": {
     "end_time": "2020-04-16T09:12:53.151016Z",
     "start_time": "2020-04-16T09:12:52.386605Z"
    }
   },
   "outputs": [],
   "source": [
    "grid = np.linspace(1990, 2020, 10000)\n",
    "t_Catm = [grid[f2(grid, i).argmin()] for i in range(len(c14_patient_data))]"
   ]
  },
  {
   "cell_type": "code",
   "execution_count": 81,
   "metadata": {
    "ExecuteTime": {
     "end_time": "2020-04-16T09:12:53.162346Z",
     "start_time": "2020-04-16T09:12:53.154440Z"
    }
   },
   "outputs": [],
   "source": [
    "c14_patient_data['year of atm. C-14'] = np.round(t_Catm, 1)"
   ]
  },
  {
   "cell_type": "code",
   "execution_count": 82,
   "metadata": {
    "ExecuteTime": {
     "end_time": "2020-04-16T09:12:53.586645Z",
     "start_time": "2020-04-16T09:12:53.165333Z"
    }
   },
   "outputs": [
    {
     "data": {
      "text/plain": [
       "<matplotlib.axes._subplots.AxesSubplot at 0x7f2e17db5ed0>"
      ]
     },
     "execution_count": 82,
     "metadata": {},
     "output_type": "execute_result"
    },
    {
     "data": {
      "image/png": "[encoded data removed]",
      "text/plain": [
       "<Figure size 432x288 with 1 Axes>"
      ]
     },
     "metadata": {
      "needs_background": "light"
     },
     "output_type": "display_data"
    }
   ],
   "source": [
    "c14_patient_data.plot('year of atm. C-14', 'Δ 14C corr', ls='None', marker='s')"
   ]
  },
  {
   "cell_type": "code",
   "execution_count": 83,
   "metadata": {
    "ExecuteTime": {
     "end_time": "2020-04-16T09:12:53.664305Z",
     "start_time": "2020-04-16T09:12:53.588057Z"
    }
   },
   "outputs": [],
   "source": [
    "c14_patient_data.to_excel('../../../data/C14data_liver_samples_20200330_fabian.xlsx', index=False)"
   ]
  },
  {
   "cell_type": "markdown",
   "metadata": {},
   "source": [
    "## Convert data"
   ]
  },
  {
   "cell_type": "code",
   "execution_count": 84,
   "metadata": {
    "ExecuteTime": {
     "end_time": "2020-04-16T09:12:55.218436Z",
     "start_time": "2020-04-16T09:12:55.123423Z"
    }
   },
   "outputs": [
    {
     "data": {
      "text/html": [
       "<div>\n",
       "<style scoped>\n",
       "    .dataframe tbody tr th:only-of-type {\n",
       "        vertical-align: middle;\n",
       "    }\n",
       "\n",
       "    .dataframe tbody tr th {\n",
       "        vertical-align: top;\n",
       "    }\n",
       "\n",
       "    .dataframe thead th {\n",
       "        text-align: right;\n",
       "    }\n",
       "</style>\n",
       "<table border=\"1\" class=\"dataframe\">\n",
       "  <thead>\n",
       "    <tr style=\"text-align: right;\">\n",
       "      <th></th>\n",
       "      <th>type</th>\n",
       "      <th>code</th>\n",
       "      <th>sample</th>\n",
       "      <th>Dbirth</th>\n",
       "      <th>Dcoll</th>\n",
       "      <th>d14C</th>\n",
       "      <th>e14C</th>\n",
       "      <th>N_cells</th>\n",
       "      <th>pathology</th>\n",
       "      <th>sex</th>\n",
       "      <th>subject_age</th>\n",
       "      <th>ploidy</th>\n",
       "    </tr>\n",
       "  </thead>\n",
       "  <tbody>\n",
       "    <tr>\n",
       "      <th>0</th>\n",
       "      <td>unsorted</td>\n",
       "      <td>PH95</td>\n",
       "      <td>HL#10</td>\n",
       "      <td>1932.916667</td>\n",
       "      <td>2017.583333</td>\n",
       "      <td>0.013000</td>\n",
       "      <td>0.00460</td>\n",
       "      <td>NaN</td>\n",
       "      <td>T</td>\n",
       "      <td>M</td>\n",
       "      <td>84.666667</td>\n",
       "      <td>2n4n</td>\n",
       "    </tr>\n",
       "    <tr>\n",
       "      <th>1</th>\n",
       "      <td>non-hepatocyte</td>\n",
       "      <td>PH94</td>\n",
       "      <td>HL#10</td>\n",
       "      <td>1932.916667</td>\n",
       "      <td>2017.583333</td>\n",
       "      <td>0.016500</td>\n",
       "      <td>0.00715</td>\n",
       "      <td>34.0</td>\n",
       "      <td>T</td>\n",
       "      <td>M</td>\n",
       "      <td>84.666667</td>\n",
       "      <td>2n4n</td>\n",
       "    </tr>\n",
       "    <tr>\n",
       "      <th>2</th>\n",
       "      <td>hepatocyte</td>\n",
       "      <td>MK 4</td>\n",
       "      <td>HL#11</td>\n",
       "      <td>1975.333333</td>\n",
       "      <td>2019.750000</td>\n",
       "      <td>0.041590</td>\n",
       "      <td>0.00685</td>\n",
       "      <td>12.0</td>\n",
       "      <td>T</td>\n",
       "      <td>F</td>\n",
       "      <td>44.416667</td>\n",
       "      <td>4n</td>\n",
       "    </tr>\n",
       "    <tr>\n",
       "      <th>3</th>\n",
       "      <td>hepatocyte</td>\n",
       "      <td>MK 3</td>\n",
       "      <td>HL#11</td>\n",
       "      <td>1975.333333</td>\n",
       "      <td>2019.750000</td>\n",
       "      <td>0.012959</td>\n",
       "      <td>0.00640</td>\n",
       "      <td>77.0</td>\n",
       "      <td>T</td>\n",
       "      <td>F</td>\n",
       "      <td>44.416667</td>\n",
       "      <td>2n</td>\n",
       "    </tr>\n",
       "    <tr>\n",
       "      <th>4</th>\n",
       "      <td>hepatocyte</td>\n",
       "      <td>MK 7</td>\n",
       "      <td>HL#12</td>\n",
       "      <td>1947.833333</td>\n",
       "      <td>2017.916667</td>\n",
       "      <td>0.024600</td>\n",
       "      <td>0.00660</td>\n",
       "      <td>59.0</td>\n",
       "      <td>T</td>\n",
       "      <td>F</td>\n",
       "      <td>70.083333</td>\n",
       "      <td>2n4n</td>\n",
       "    </tr>\n",
       "  </tbody>\n",
       "</table>\n",
       "</div>"
      ],
      "text/plain": [
       "             type  code sample       Dbirth        Dcoll      d14C     e14C  \\\n",
       "0        unsorted  PH95  HL#10  1932.916667  2017.583333  0.013000  0.00460   \n",
       "1  non-hepatocyte  PH94  HL#10  1932.916667  2017.583333  0.016500  0.00715   \n",
       "2      hepatocyte  MK 4  HL#11  1975.333333  2019.750000  0.041590  0.00685   \n",
       "3      hepatocyte  MK 3  HL#11  1975.333333  2019.750000  0.012959  0.00640   \n",
       "4      hepatocyte  MK 7  HL#12  1947.833333  2017.916667  0.024600  0.00660   \n",
       "\n",
       "   N_cells pathology sex  subject_age ploidy  \n",
       "0      NaN         T   M    84.666667   2n4n  \n",
       "1     34.0         T   M    84.666667   2n4n  \n",
       "2     12.0         T   F    44.416667     4n  \n",
       "3     77.0         T   F    44.416667     2n  \n",
       "4     59.0         T   F    70.083333   2n4n  "
      ]
     },
     "execution_count": 84,
     "metadata": {},
     "output_type": "execute_result"
    }
   ],
   "source": [
    "c14_patient_data = c14_patient_data[\n",
    "    ['sort', 'Code', 'sample', 'DOB', 'DOA', u'Δ 14C corr', 'Error, 2 s', 'no sorted', 'Pathology', 'sex']].copy()\n",
    "\n",
    "c14_patient_data.columns = ['type', 'code', 'sample', 'Dbirth', 'Dcoll', 'd14C', 'e14C', 'N_cells', 'pathology', 'sex']\n",
    "\n",
    "c14_patient_data['d14C'] /= 1000.0\n",
    "c14_patient_data['e14C'] /= 1000.0 # convert unit\n",
    "c14_patient_data['e14C'] /= 2.0 # convert to 1s error\n",
    "c14_patient_data['subject_age'] = c14_patient_data['Dcoll'] - c14_patient_data['Dbirth']\n",
    "\n",
    "def convert_N_cell_entry(x):\n",
    "    if isinstance(x, float):\n",
    "        return x\n",
    "    elif x[-1] == '2':\n",
    "        return float(x.rstrip(' mio /2')) / 2\n",
    "    else:\n",
    "        return float(x.rstrip(' mio'))\n",
    "\n",
    "c14_patient_data['N_cells'] = c14_patient_data['N_cells'].apply(convert_N_cell_entry)\n",
    "\n",
    "c14_patient_data.loc[c14_patient_data['type'] == 'HNF4α -', 'type'] = 'non-hepatocyte'\n",
    "\n",
    "c14_patient_data['ploidy'] = '2n4n'\n",
    "for type_ in ['2n', '4n']:\n",
    "    c14_patient_data.loc[c14_patient_data['type'].str.startswith(type_), 'ploidy'] = type_\n",
    "    c14_patient_data.loc[c14_patient_data['type'].str.startswith(type_), 'type'] = 'hepatocyte'\n",
    "\n",
    "\n",
    "c14_patient_data['type'] = pd.Categorical(c14_patient_data['type'])\n",
    "c14_patient_data['code'] = pd.Categorical(c14_patient_data['code'])\n",
    "c14_patient_data['sample'] = pd.Categorical(c14_patient_data['sample'])\n",
    "c14_patient_data['pathology'] = pd.Categorical(c14_patient_data['pathology'])\n",
    "\n",
    "c14_patient_data.head()"
   ]
  },
  {
   "cell_type": "markdown",
   "metadata": {},
   "source": [
    "Drop the patient with unknown age"
   ]
  },
  {
   "cell_type": "code",
   "execution_count": 85,
   "metadata": {
    "ExecuteTime": {
     "end_time": "2020-04-16T09:12:58.893139Z",
     "start_time": "2020-04-16T09:12:58.883797Z"
    }
   },
   "outputs": [],
   "source": [
    "c14_patient_data = c14_patient_data[c14_patient_data['Dbirth'].notna()]"
   ]
  },
  {
   "cell_type": "code",
   "execution_count": 86,
   "metadata": {
    "ExecuteTime": {
     "end_time": "2020-04-16T09:13:00.386619Z",
     "start_time": "2020-04-16T09:13:00.317835Z"
    }
   },
   "outputs": [],
   "source": [
    "c14_patient_data.to_csv(f'../data/C14data_liver_samples_20200330.csv', index=False)"
   ]
  },
  {
   "cell_type": "markdown",
   "metadata": {
    "toc-hr-collapsed": true,
    "toc-nb-collapsed": true
   },
   "source": [
    "# 20200313"
   ]
  },
  {
   "cell_type": "code",
   "execution_count": 3,
   "metadata": {
    "ExecuteTime": {
     "end_time": "2018-12-05T11:01:37.820671Z",
     "start_time": "2018-12-05T11:01:37.670453Z"
    }
   },
   "outputs": [
    {
     "data": {
      "text/html": [
       "<div>\n",
       "<style scoped>\n",
       "    .dataframe tbody tr th:only-of-type {\n",
       "        vertical-align: middle;\n",
       "    }\n",
       "\n",
       "    .dataframe tbody tr th {\n",
       "        vertical-align: top;\n",
       "    }\n",
       "\n",
       "    .dataframe thead th {\n",
       "        text-align: right;\n",
       "    }\n",
       "</style>\n",
       "<table border=\"1\" class=\"dataframe\">\n",
       "  <thead>\n",
       "    <tr style=\"text-align: right;\">\n",
       "      <th></th>\n",
       "      <th>type</th>\n",
       "      <th>code</th>\n",
       "      <th>sample</th>\n",
       "      <th>Dbirth</th>\n",
       "      <th>Dcoll</th>\n",
       "      <th>d14C</th>\n",
       "      <th>e14C</th>\n",
       "      <th>N_cells</th>\n",
       "      <th>pathology</th>\n",
       "      <th>sex</th>\n",
       "      <th>subject_age</th>\n",
       "      <th>ploidy</th>\n",
       "    </tr>\n",
       "  </thead>\n",
       "  <tbody>\n",
       "    <tr>\n",
       "      <th>0</th>\n",
       "      <td>unsorted</td>\n",
       "      <td>PH1</td>\n",
       "      <td>ND380</td>\n",
       "      <td>1942.833333</td>\n",
       "      <td>2016.416667</td>\n",
       "      <td>0.078416</td>\n",
       "      <td>0.003981</td>\n",
       "      <td>NaN</td>\n",
       "      <td>N</td>\n",
       "      <td>F</td>\n",
       "      <td>73.583333</td>\n",
       "      <td>2n4n</td>\n",
       "    </tr>\n",
       "    <tr>\n",
       "      <th>1</th>\n",
       "      <td>unsorted</td>\n",
       "      <td>PH2</td>\n",
       "      <td>ND388</td>\n",
       "      <td>1991.416667</td>\n",
       "      <td>2016.833333</td>\n",
       "      <td>0.025254</td>\n",
       "      <td>0.003912</td>\n",
       "      <td>NaN</td>\n",
       "      <td>N</td>\n",
       "      <td>M</td>\n",
       "      <td>25.416667</td>\n",
       "      <td>2n4n</td>\n",
       "    </tr>\n",
       "    <tr>\n",
       "      <th>2</th>\n",
       "      <td>hepatocyte</td>\n",
       "      <td>PH6</td>\n",
       "      <td>ND022</td>\n",
       "      <td>1946.500000</td>\n",
       "      <td>2004.833333</td>\n",
       "      <td>0.075001</td>\n",
       "      <td>0.004711</td>\n",
       "      <td>62.0</td>\n",
       "      <td>N</td>\n",
       "      <td>M</td>\n",
       "      <td>58.333333</td>\n",
       "      <td>2n4n</td>\n",
       "    </tr>\n",
       "    <tr>\n",
       "      <th>3</th>\n",
       "      <td>hepatocyte</td>\n",
       "      <td>PH7</td>\n",
       "      <td>ND023</td>\n",
       "      <td>1945.833333</td>\n",
       "      <td>2004.833333</td>\n",
       "      <td>0.090351</td>\n",
       "      <td>0.004395</td>\n",
       "      <td>70.0</td>\n",
       "      <td>N</td>\n",
       "      <td>M</td>\n",
       "      <td>59.000000</td>\n",
       "      <td>2n4n</td>\n",
       "    </tr>\n",
       "    <tr>\n",
       "      <th>4</th>\n",
       "      <td>hepatocyte</td>\n",
       "      <td>PH11</td>\n",
       "      <td>ND375</td>\n",
       "      <td>1992.500000</td>\n",
       "      <td>2016.333333</td>\n",
       "      <td>0.003700</td>\n",
       "      <td>0.016000</td>\n",
       "      <td>61.0</td>\n",
       "      <td>N</td>\n",
       "      <td>M</td>\n",
       "      <td>23.833333</td>\n",
       "      <td>2n4n</td>\n",
       "    </tr>\n",
       "  </tbody>\n",
       "</table>\n",
       "</div>"
      ],
      "text/plain": [
       "         type  code sample       Dbirth        Dcoll      d14C      e14C  \\\n",
       "0    unsorted   PH1  ND380  1942.833333  2016.416667  0.078416  0.003981   \n",
       "1    unsorted   PH2  ND388  1991.416667  2016.833333  0.025254  0.003912   \n",
       "2  hepatocyte   PH6  ND022  1946.500000  2004.833333  0.075001  0.004711   \n",
       "3  hepatocyte   PH7  ND023  1945.833333  2004.833333  0.090351  0.004395   \n",
       "4  hepatocyte  PH11  ND375  1992.500000  2016.333333  0.003700  0.016000   \n",
       "\n",
       "   N_cells pathology sex  subject_age ploidy  \n",
       "0      NaN         N   F    73.583333   2n4n  \n",
       "1      NaN         N   M    25.416667   2n4n  \n",
       "2     62.0         N   M    58.333333   2n4n  \n",
       "3     70.0         N   M    59.000000   2n4n  \n",
       "4     61.0         N   M    23.833333   2n4n  "
      ]
     },
     "execution_count": 3,
     "metadata": {},
     "output_type": "execute_result"
    }
   ],
   "source": [
    "c14_patient_data = pd.read_excel('../../../data/C14data_liver_samples_20200313.xlsx')[\n",
    "    ['sort', 'Code', 'sample', 'DOB', 'DOA', u'Δ 14C', 'Error, 2 s', 'no sorted', 'Pathology', 'sex']]\n",
    "c14_patient_data.columns = ['type', 'code', 'sample', 'Dbirth', 'Dcoll', 'd14C', 'e14C', 'N_cells', 'pathology', 'sex']\n",
    "\n",
    "c14_patient_data['d14C'] /= 1000.0\n",
    "c14_patient_data['e14C'] /= 1000.0 # convert unit\n",
    "c14_patient_data['e14C'] /= 2.0 # convert to 1s error\n",
    "c14_patient_data['subject_age'] = c14_patient_data['Dcoll'] - c14_patient_data['Dbirth']\n",
    "\n",
    "def convert_N_cell_entry(x):\n",
    "    if isinstance(x, float):\n",
    "        return x\n",
    "    elif x[-1] == '2':\n",
    "        return float(x.rstrip(' mio /2')) / 2\n",
    "    else:\n",
    "        return float(x.rstrip(' mio'))\n",
    "\n",
    "c14_patient_data['N_cells'] = c14_patient_data['N_cells'].apply(convert_N_cell_entry)\n",
    "\n",
    "c14_patient_data.loc[c14_patient_data['type'] == 'HNF4α -', 'type'] = 'non-hepatocyte'\n",
    "\n",
    "c14_patient_data['ploidy'] = '2n4n'\n",
    "for type_ in ['2n', '4n']:\n",
    "    c14_patient_data.loc[c14_patient_data['type'].str.startswith(type_), 'ploidy'] = type_\n",
    "    c14_patient_data.loc[c14_patient_data['type'].str.startswith(type_), 'type'] = 'hepatocyte'\n",
    "\n",
    "\n",
    "c14_patient_data['type'] = pd.Categorical(c14_patient_data['type'])\n",
    "c14_patient_data['code'] = pd.Categorical(c14_patient_data['code'])\n",
    "c14_patient_data['sample'] = pd.Categorical(c14_patient_data['sample'])\n",
    "c14_patient_data['pathology'] = pd.Categorical(c14_patient_data['pathology'])\n",
    "\n",
    "c14_patient_data.head()"
   ]
  },
  {
   "cell_type": "markdown",
   "metadata": {},
   "source": [
    "Drop the patient with unknown age"
   ]
  },
  {
   "cell_type": "code",
   "execution_count": 4,
   "metadata": {},
   "outputs": [],
   "source": [
    "c14_patient_data = c14_patient_data[c14_patient_data['Dbirth'].notna()]"
   ]
  },
  {
   "cell_type": "code",
   "execution_count": 4,
   "metadata": {
    "ExecuteTime": {
     "end_time": "2018-12-05T11:02:30.169214Z",
     "start_time": "2018-12-05T11:02:30.133291Z"
    }
   },
   "outputs": [],
   "source": [
    "c14_patient_data.to_csv(f'../data/C14data_liver_samples_20200312.csv', index=False)"
   ]
  },
  {
   "cell_type": "markdown",
   "metadata": {
    "toc-hr-collapsed": true,
    "toc-nb-collapsed": true
   },
   "source": [
    "# 20200227"
   ]
  },
  {
   "cell_type": "code",
   "execution_count": 3,
   "metadata": {
    "ExecuteTime": {
     "end_time": "2018-12-05T11:01:37.820671Z",
     "start_time": "2018-12-05T11:01:37.670453Z"
    }
   },
   "outputs": [
    {
     "data": {
      "text/html": [
       "<div>\n",
       "<style scoped>\n",
       "    .dataframe tbody tr th:only-of-type {\n",
       "        vertical-align: middle;\n",
       "    }\n",
       "\n",
       "    .dataframe tbody tr th {\n",
       "        vertical-align: top;\n",
       "    }\n",
       "\n",
       "    .dataframe thead th {\n",
       "        text-align: right;\n",
       "    }\n",
       "</style>\n",
       "<table border=\"1\" class=\"dataframe\">\n",
       "  <thead>\n",
       "    <tr style=\"text-align: right;\">\n",
       "      <th></th>\n",
       "      <th>type</th>\n",
       "      <th>code</th>\n",
       "      <th>sample</th>\n",
       "      <th>Dbirth</th>\n",
       "      <th>Dcoll</th>\n",
       "      <th>d14C</th>\n",
       "      <th>e14C</th>\n",
       "      <th>N_cells</th>\n",
       "      <th>pathology</th>\n",
       "      <th>sex</th>\n",
       "      <th>subject_age</th>\n",
       "      <th>ploidy</th>\n",
       "    </tr>\n",
       "  </thead>\n",
       "  <tbody>\n",
       "    <tr>\n",
       "      <th>0</th>\n",
       "      <td>unsorted</td>\n",
       "      <td>PH1</td>\n",
       "      <td>ND380</td>\n",
       "      <td>1942.833333</td>\n",
       "      <td>2016.416667</td>\n",
       "      <td>0.078416</td>\n",
       "      <td>0.003981</td>\n",
       "      <td>NaN</td>\n",
       "      <td>N</td>\n",
       "      <td>F</td>\n",
       "      <td>73.583333</td>\n",
       "      <td>2n4n</td>\n",
       "    </tr>\n",
       "    <tr>\n",
       "      <th>1</th>\n",
       "      <td>unsorted</td>\n",
       "      <td>PH2</td>\n",
       "      <td>ND388</td>\n",
       "      <td>1991.416667</td>\n",
       "      <td>2016.833333</td>\n",
       "      <td>0.025254</td>\n",
       "      <td>0.003912</td>\n",
       "      <td>NaN</td>\n",
       "      <td>N</td>\n",
       "      <td>M</td>\n",
       "      <td>25.416667</td>\n",
       "      <td>2n4n</td>\n",
       "    </tr>\n",
       "    <tr>\n",
       "      <th>2</th>\n",
       "      <td>hepatocyte</td>\n",
       "      <td>PH6</td>\n",
       "      <td>ND022</td>\n",
       "      <td>1946.500000</td>\n",
       "      <td>2004.833333</td>\n",
       "      <td>0.075001</td>\n",
       "      <td>0.004711</td>\n",
       "      <td>62.0</td>\n",
       "      <td>N</td>\n",
       "      <td>M</td>\n",
       "      <td>58.333333</td>\n",
       "      <td>2n4n</td>\n",
       "    </tr>\n",
       "    <tr>\n",
       "      <th>3</th>\n",
       "      <td>hepatocyte</td>\n",
       "      <td>PH7</td>\n",
       "      <td>ND023</td>\n",
       "      <td>1945.833333</td>\n",
       "      <td>2004.833333</td>\n",
       "      <td>0.090351</td>\n",
       "      <td>0.004395</td>\n",
       "      <td>70.0</td>\n",
       "      <td>N</td>\n",
       "      <td>M</td>\n",
       "      <td>59.000000</td>\n",
       "      <td>2n4n</td>\n",
       "    </tr>\n",
       "    <tr>\n",
       "      <th>4</th>\n",
       "      <td>hepatocyte</td>\n",
       "      <td>PH11</td>\n",
       "      <td>ND375</td>\n",
       "      <td>1992.500000</td>\n",
       "      <td>2016.333333</td>\n",
       "      <td>0.003700</td>\n",
       "      <td>0.016000</td>\n",
       "      <td>61.0</td>\n",
       "      <td>N</td>\n",
       "      <td>M</td>\n",
       "      <td>23.833333</td>\n",
       "      <td>2n4n</td>\n",
       "    </tr>\n",
       "  </tbody>\n",
       "</table>\n",
       "</div>"
      ],
      "text/plain": [
       "         type  code sample       Dbirth        Dcoll      d14C      e14C  \\\n",
       "0    unsorted   PH1  ND380  1942.833333  2016.416667  0.078416  0.003981   \n",
       "1    unsorted   PH2  ND388  1991.416667  2016.833333  0.025254  0.003912   \n",
       "2  hepatocyte   PH6  ND022  1946.500000  2004.833333  0.075001  0.004711   \n",
       "3  hepatocyte   PH7  ND023  1945.833333  2004.833333  0.090351  0.004395   \n",
       "4  hepatocyte  PH11  ND375  1992.500000  2016.333333  0.003700  0.016000   \n",
       "\n",
       "   N_cells pathology sex  subject_age ploidy  \n",
       "0      NaN         N   F    73.583333   2n4n  \n",
       "1      NaN         N   M    25.416667   2n4n  \n",
       "2     62.0         N   M    58.333333   2n4n  \n",
       "3     70.0         N   M    59.000000   2n4n  \n",
       "4     61.0         N   M    23.833333   2n4n  "
      ]
     },
     "execution_count": 3,
     "metadata": {},
     "output_type": "execute_result"
    }
   ],
   "source": [
    "c14_patient_data = pd.read_excel('../../../data/C14data_liver_samples_20200227.xlsx')[\n",
    "    ['sort', 'Code', 'sample', 'DOB', 'DOA', u'Δ 14C', 'Error, 2 s', 'no sorted', 'Pathology', 'sex']]\n",
    "c14_patient_data.columns = ['type', 'code', 'sample', 'Dbirth', 'Dcoll', 'd14C', 'e14C', 'N_cells', 'pathology', 'sex']\n",
    "\n",
    "c14_patient_data['d14C'] /= 1000.0\n",
    "c14_patient_data['e14C'] /= 1000.0 # convert unit\n",
    "c14_patient_data['e14C'] /= 2.0 # convert to 1s error\n",
    "c14_patient_data['subject_age'] = c14_patient_data['Dcoll'] - c14_patient_data['Dbirth']\n",
    "\n",
    "def convert_N_cell_entry(x):\n",
    "    if isinstance(x, float):\n",
    "        return x\n",
    "    elif x[-1] == '2':\n",
    "        return float(x.rstrip(' mio /2')) / 2\n",
    "    else:\n",
    "        return float(x.rstrip(' mio'))\n",
    "\n",
    "c14_patient_data['N_cells'] = c14_patient_data['N_cells'].apply(convert_N_cell_entry)\n",
    "\n",
    "c14_patient_data.loc[c14_patient_data['type'] == 'HNF4α -', 'type'] = 'non-hepatocyte'\n",
    "\n",
    "c14_patient_data['ploidy'] = '2n4n'\n",
    "for type_ in ['2n', '4n']:\n",
    "    c14_patient_data.loc[c14_patient_data['type'].str.startswith(type_), 'ploidy'] = type_\n",
    "    c14_patient_data.loc[c14_patient_data['type'].str.startswith(type_), 'type'] = 'hepatocyte'\n",
    "\n",
    "\n",
    "c14_patient_data['type'] = pd.Categorical(c14_patient_data['type'])\n",
    "c14_patient_data['code'] = pd.Categorical(c14_patient_data['code'])\n",
    "c14_patient_data['sample'] = pd.Categorical(c14_patient_data['sample'])\n",
    "c14_patient_data['pathology'] = pd.Categorical(c14_patient_data['pathology'])\n",
    "\n",
    "c14_patient_data.head()"
   ]
  },
  {
   "cell_type": "markdown",
   "metadata": {},
   "source": [
    "Drop the patient with unknown age"
   ]
  },
  {
   "cell_type": "code",
   "execution_count": 4,
   "metadata": {},
   "outputs": [],
   "source": [
    "c14_patient_data = c14_patient_data[c14_patient_data['Dbirth'].notna()]"
   ]
  },
  {
   "cell_type": "code",
   "execution_count": 5,
   "metadata": {
    "ExecuteTime": {
     "end_time": "2018-12-05T11:02:30.169214Z",
     "start_time": "2018-12-05T11:02:30.133291Z"
    }
   },
   "outputs": [],
   "source": [
    "c14_patient_data.to_csv(f'../data/C14data_liver_samples_20200227.csv', index=False)"
   ]
  },
  {
   "cell_type": "markdown",
   "metadata": {
    "toc-hr-collapsed": true,
    "toc-nb-collapsed": true
   },
   "source": [
    "# 20200129"
   ]
  },
  {
   "cell_type": "code",
   "execution_count": 3,
   "metadata": {
    "ExecuteTime": {
     "end_time": "2018-12-05T11:01:37.820671Z",
     "start_time": "2018-12-05T11:01:37.670453Z"
    }
   },
   "outputs": [
    {
     "data": {
      "text/html": [
       "<div>\n",
       "<style scoped>\n",
       "    .dataframe tbody tr th:only-of-type {\n",
       "        vertical-align: middle;\n",
       "    }\n",
       "\n",
       "    .dataframe tbody tr th {\n",
       "        vertical-align: top;\n",
       "    }\n",
       "\n",
       "    .dataframe thead th {\n",
       "        text-align: right;\n",
       "    }\n",
       "</style>\n",
       "<table border=\"1\" class=\"dataframe\">\n",
       "  <thead>\n",
       "    <tr style=\"text-align: right;\">\n",
       "      <th></th>\n",
       "      <th>type</th>\n",
       "      <th>code</th>\n",
       "      <th>sample</th>\n",
       "      <th>Dbirth</th>\n",
       "      <th>Dcoll</th>\n",
       "      <th>d14C</th>\n",
       "      <th>e14C</th>\n",
       "      <th>N_cells</th>\n",
       "      <th>pathology</th>\n",
       "      <th>sex</th>\n",
       "      <th>subject_age</th>\n",
       "      <th>ploidy</th>\n",
       "    </tr>\n",
       "  </thead>\n",
       "  <tbody>\n",
       "    <tr>\n",
       "      <th>0</th>\n",
       "      <td>unsorted</td>\n",
       "      <td>PH1</td>\n",
       "      <td>ND380</td>\n",
       "      <td>1942.833333</td>\n",
       "      <td>2016.416667</td>\n",
       "      <td>0.078416</td>\n",
       "      <td>0.003981</td>\n",
       "      <td>NaN</td>\n",
       "      <td>N</td>\n",
       "      <td>F</td>\n",
       "      <td>73.583333</td>\n",
       "      <td>2n4n</td>\n",
       "    </tr>\n",
       "    <tr>\n",
       "      <th>1</th>\n",
       "      <td>unsorted</td>\n",
       "      <td>PH2</td>\n",
       "      <td>ND388</td>\n",
       "      <td>1991.416667</td>\n",
       "      <td>2016.833333</td>\n",
       "      <td>0.025254</td>\n",
       "      <td>0.003912</td>\n",
       "      <td>NaN</td>\n",
       "      <td>N</td>\n",
       "      <td>M</td>\n",
       "      <td>25.416667</td>\n",
       "      <td>2n4n</td>\n",
       "    </tr>\n",
       "    <tr>\n",
       "      <th>2</th>\n",
       "      <td>hepatocyte</td>\n",
       "      <td>PH6</td>\n",
       "      <td>ND022</td>\n",
       "      <td>1946.500000</td>\n",
       "      <td>2004.833333</td>\n",
       "      <td>0.075001</td>\n",
       "      <td>0.004711</td>\n",
       "      <td>62.0</td>\n",
       "      <td>N</td>\n",
       "      <td>M</td>\n",
       "      <td>58.333333</td>\n",
       "      <td>2n4n</td>\n",
       "    </tr>\n",
       "    <tr>\n",
       "      <th>3</th>\n",
       "      <td>hepatocyte</td>\n",
       "      <td>PH7</td>\n",
       "      <td>ND023</td>\n",
       "      <td>1945.833333</td>\n",
       "      <td>2004.833333</td>\n",
       "      <td>0.090351</td>\n",
       "      <td>0.004395</td>\n",
       "      <td>70.0</td>\n",
       "      <td>N</td>\n",
       "      <td>M</td>\n",
       "      <td>59.000000</td>\n",
       "      <td>2n4n</td>\n",
       "    </tr>\n",
       "    <tr>\n",
       "      <th>4</th>\n",
       "      <td>hepatocyte</td>\n",
       "      <td>PH11</td>\n",
       "      <td>ND375</td>\n",
       "      <td>1992.500000</td>\n",
       "      <td>2016.333333</td>\n",
       "      <td>0.003700</td>\n",
       "      <td>0.016000</td>\n",
       "      <td>61.0</td>\n",
       "      <td>N</td>\n",
       "      <td>M</td>\n",
       "      <td>23.833333</td>\n",
       "      <td>2n4n</td>\n",
       "    </tr>\n",
       "  </tbody>\n",
       "</table>\n",
       "</div>"
      ],
      "text/plain": [
       "         type  code sample       Dbirth        Dcoll      d14C      e14C  \\\n",
       "0    unsorted   PH1  ND380  1942.833333  2016.416667  0.078416  0.003981   \n",
       "1    unsorted   PH2  ND388  1991.416667  2016.833333  0.025254  0.003912   \n",
       "2  hepatocyte   PH6  ND022  1946.500000  2004.833333  0.075001  0.004711   \n",
       "3  hepatocyte   PH7  ND023  1945.833333  2004.833333  0.090351  0.004395   \n",
       "4  hepatocyte  PH11  ND375  1992.500000  2016.333333  0.003700  0.016000   \n",
       "\n",
       "   N_cells pathology sex  subject_age ploidy  \n",
       "0      NaN         N   F    73.583333   2n4n  \n",
       "1      NaN         N   M    25.416667   2n4n  \n",
       "2     62.0         N   M    58.333333   2n4n  \n",
       "3     70.0         N   M    59.000000   2n4n  \n",
       "4     61.0         N   M    23.833333   2n4n  "
      ]
     },
     "execution_count": 3,
     "metadata": {},
     "output_type": "execute_result"
    }
   ],
   "source": [
    "c14_patient_data = pd.read_excel('../../../data/C14data_liver_samples_20200129.xlsx')[\n",
    "    ['sort', 'Code', 'sample', 'DOB', 'DOA', u'Δ 14C', 'Error, 2 s', 'no sorted', 'Pathology', 'sex']]\n",
    "c14_patient_data.columns = ['type', 'code', 'sample', 'Dbirth', 'Dcoll', 'd14C', 'e14C', 'N_cells', 'pathology', 'sex']\n",
    "\n",
    "c14_patient_data['d14C'] /= 1000.0\n",
    "c14_patient_data['e14C'] /= 1000.0 # convert unit\n",
    "c14_patient_data['e14C'] /= 2.0 # convert to 1s error\n",
    "c14_patient_data['subject_age'] = c14_patient_data['Dcoll'] - c14_patient_data['Dbirth']\n",
    "\n",
    "def convert_N_cell_entry(x):\n",
    "    if isinstance(x, float):\n",
    "        return x\n",
    "    elif x[-1] == '2':\n",
    "        return float(x.rstrip(' mio /2')) / 2\n",
    "    else:\n",
    "        return float(x.rstrip(' mio'))\n",
    "\n",
    "c14_patient_data['N_cells'] = c14_patient_data['N_cells'].apply(convert_N_cell_entry)\n",
    "\n",
    "c14_patient_data.loc[c14_patient_data['type'] == 'HNF4α -', 'type'] = 'non-hepatocyte'\n",
    "\n",
    "c14_patient_data['ploidy'] = '2n4n'\n",
    "for type_ in ['2n', '4n']:\n",
    "    c14_patient_data.loc[c14_patient_data['type'].str.startswith(type_), 'ploidy'] = type_\n",
    "    c14_patient_data.loc[c14_patient_data['type'].str.startswith(type_), 'type'] = 'hepatocyte'\n",
    "\n",
    "\n",
    "c14_patient_data['type'] = pd.Categorical(c14_patient_data['type'])\n",
    "c14_patient_data['code'] = pd.Categorical(c14_patient_data['code'])\n",
    "c14_patient_data['sample'] = pd.Categorical(c14_patient_data['sample'])\n",
    "c14_patient_data['pathology'] = pd.Categorical(c14_patient_data['pathology'])\n",
    "\n",
    "c14_patient_data.head()"
   ]
  },
  {
   "cell_type": "markdown",
   "metadata": {},
   "source": [
    "Drop the patient with unknown age"
   ]
  },
  {
   "cell_type": "code",
   "execution_count": 4,
   "metadata": {},
   "outputs": [],
   "source": [
    "c14_patient_data = c14_patient_data[c14_patient_data['Dbirth'].notna()]"
   ]
  },
  {
   "cell_type": "code",
   "execution_count": 5,
   "metadata": {
    "ExecuteTime": {
     "end_time": "2018-12-05T11:02:30.169214Z",
     "start_time": "2018-12-05T11:02:30.133291Z"
    }
   },
   "outputs": [],
   "source": [
    "c14_patient_data.to_csv(f'../../../results/C14data_liver_samples_20200129.csv', index=False)\n",
    "c14_patient_data.to_pickle(f'../../../results/C14data_liver_samples_20200129.pkl')"
   ]
  },
  {
   "cell_type": "code",
   "execution_count": 6,
   "metadata": {},
   "outputs": [
    {
     "data": {
      "text/html": [
       "<div>\n",
       "<style scoped>\n",
       "    .dataframe tbody tr th:only-of-type {\n",
       "        vertical-align: middle;\n",
       "    }\n",
       "\n",
       "    .dataframe tbody tr th {\n",
       "        vertical-align: top;\n",
       "    }\n",
       "\n",
       "    .dataframe thead th {\n",
       "        text-align: right;\n",
       "    }\n",
       "</style>\n",
       "<table border=\"1\" class=\"dataframe\">\n",
       "  <thead>\n",
       "    <tr style=\"text-align: right;\">\n",
       "      <th></th>\n",
       "      <th>type</th>\n",
       "      <th>code</th>\n",
       "      <th>sample</th>\n",
       "      <th>Dbirth</th>\n",
       "      <th>Dcoll</th>\n",
       "      <th>d14C</th>\n",
       "      <th>e14C</th>\n",
       "      <th>N_cells</th>\n",
       "      <th>pathology</th>\n",
       "      <th>sex</th>\n",
       "      <th>subject_age</th>\n",
       "      <th>ploidy</th>\n",
       "    </tr>\n",
       "  </thead>\n",
       "  <tbody>\n",
       "    <tr>\n",
       "      <th>0</th>\n",
       "      <td>unsorted</td>\n",
       "      <td>PH1</td>\n",
       "      <td>ND380</td>\n",
       "      <td>1942.833333</td>\n",
       "      <td>2016.416667</td>\n",
       "      <td>0.078416</td>\n",
       "      <td>0.003981</td>\n",
       "      <td>NaN</td>\n",
       "      <td>N</td>\n",
       "      <td>F</td>\n",
       "      <td>73.583333</td>\n",
       "      <td>2n4n</td>\n",
       "    </tr>\n",
       "    <tr>\n",
       "      <th>1</th>\n",
       "      <td>unsorted</td>\n",
       "      <td>PH2</td>\n",
       "      <td>ND388</td>\n",
       "      <td>1991.416667</td>\n",
       "      <td>2016.833333</td>\n",
       "      <td>0.025254</td>\n",
       "      <td>0.003912</td>\n",
       "      <td>NaN</td>\n",
       "      <td>N</td>\n",
       "      <td>M</td>\n",
       "      <td>25.416667</td>\n",
       "      <td>2n4n</td>\n",
       "    </tr>\n",
       "    <tr>\n",
       "      <th>2</th>\n",
       "      <td>hepatocyte</td>\n",
       "      <td>PH6</td>\n",
       "      <td>ND022</td>\n",
       "      <td>1946.500000</td>\n",
       "      <td>2004.833333</td>\n",
       "      <td>0.075001</td>\n",
       "      <td>0.004711</td>\n",
       "      <td>62.0</td>\n",
       "      <td>N</td>\n",
       "      <td>M</td>\n",
       "      <td>58.333333</td>\n",
       "      <td>2n4n</td>\n",
       "    </tr>\n",
       "    <tr>\n",
       "      <th>3</th>\n",
       "      <td>hepatocyte</td>\n",
       "      <td>PH7</td>\n",
       "      <td>ND023</td>\n",
       "      <td>1945.833333</td>\n",
       "      <td>2004.833333</td>\n",
       "      <td>0.090351</td>\n",
       "      <td>0.004395</td>\n",
       "      <td>70.0</td>\n",
       "      <td>N</td>\n",
       "      <td>M</td>\n",
       "      <td>59.000000</td>\n",
       "      <td>2n4n</td>\n",
       "    </tr>\n",
       "    <tr>\n",
       "      <th>4</th>\n",
       "      <td>hepatocyte</td>\n",
       "      <td>PH11</td>\n",
       "      <td>ND375</td>\n",
       "      <td>1992.500000</td>\n",
       "      <td>2016.333333</td>\n",
       "      <td>0.003700</td>\n",
       "      <td>0.016000</td>\n",
       "      <td>61.0</td>\n",
       "      <td>N</td>\n",
       "      <td>M</td>\n",
       "      <td>23.833333</td>\n",
       "      <td>2n4n</td>\n",
       "    </tr>\n",
       "  </tbody>\n",
       "</table>\n",
       "</div>"
      ],
      "text/plain": [
       "         type  code sample       Dbirth        Dcoll      d14C      e14C  \\\n",
       "0    unsorted   PH1  ND380  1942.833333  2016.416667  0.078416  0.003981   \n",
       "1    unsorted   PH2  ND388  1991.416667  2016.833333  0.025254  0.003912   \n",
       "2  hepatocyte   PH6  ND022  1946.500000  2004.833333  0.075001  0.004711   \n",
       "3  hepatocyte   PH7  ND023  1945.833333  2004.833333  0.090351  0.004395   \n",
       "4  hepatocyte  PH11  ND375  1992.500000  2016.333333  0.003700  0.016000   \n",
       "\n",
       "   N_cells pathology sex  subject_age ploidy  \n",
       "0      NaN         N   F    73.583333   2n4n  \n",
       "1      NaN         N   M    25.416667   2n4n  \n",
       "2     62.0         N   M    58.333333   2n4n  \n",
       "3     70.0         N   M    59.000000   2n4n  \n",
       "4     61.0         N   M    23.833333   2n4n  "
      ]
     },
     "execution_count": 6,
     "metadata": {},
     "output_type": "execute_result"
    }
   ],
   "source": [
    "pd.read_pickle(f'../../../results/C14data_liver_samples_20200129.pkl').head()"
   ]
  },
  {
   "cell_type": "markdown",
   "metadata": {
    "toc-hr-collapsed": true,
    "toc-nb-collapsed": true
   },
   "source": [
    "# 20191023"
   ]
  },
  {
   "cell_type": "code",
   "execution_count": 2,
   "metadata": {
    "ExecuteTime": {
     "end_time": "2018-12-05T11:01:37.820671Z",
     "start_time": "2018-12-05T11:01:37.670453Z"
    }
   },
   "outputs": [
    {
     "data": {
      "text/html": [
       "<div>\n",
       "<style scoped>\n",
       "    .dataframe tbody tr th:only-of-type {\n",
       "        vertical-align: middle;\n",
       "    }\n",
       "\n",
       "    .dataframe tbody tr th {\n",
       "        vertical-align: top;\n",
       "    }\n",
       "\n",
       "    .dataframe thead th {\n",
       "        text-align: right;\n",
       "    }\n",
       "</style>\n",
       "<table border=\"1\" class=\"dataframe\">\n",
       "  <thead>\n",
       "    <tr style=\"text-align: right;\">\n",
       "      <th></th>\n",
       "      <th>type</th>\n",
       "      <th>code</th>\n",
       "      <th>sample</th>\n",
       "      <th>Dbirth</th>\n",
       "      <th>Dcoll</th>\n",
       "      <th>d14C</th>\n",
       "      <th>e14C</th>\n",
       "      <th>N_cells</th>\n",
       "      <th>pathology</th>\n",
       "      <th>sex</th>\n",
       "      <th>subject_age</th>\n",
       "      <th>ploidy</th>\n",
       "    </tr>\n",
       "  </thead>\n",
       "  <tbody>\n",
       "    <tr>\n",
       "      <th>0</th>\n",
       "      <td>unsorted</td>\n",
       "      <td>PH1</td>\n",
       "      <td>ND380</td>\n",
       "      <td>1942.833333</td>\n",
       "      <td>2016.416667</td>\n",
       "      <td>0.078416</td>\n",
       "      <td>0.003981</td>\n",
       "      <td>NaN</td>\n",
       "      <td>N</td>\n",
       "      <td>F</td>\n",
       "      <td>73.583333</td>\n",
       "      <td>2n4n</td>\n",
       "    </tr>\n",
       "    <tr>\n",
       "      <th>1</th>\n",
       "      <td>unsorted</td>\n",
       "      <td>PH2</td>\n",
       "      <td>ND388</td>\n",
       "      <td>1991.416667</td>\n",
       "      <td>2016.833333</td>\n",
       "      <td>0.025254</td>\n",
       "      <td>0.003912</td>\n",
       "      <td>NaN</td>\n",
       "      <td>N</td>\n",
       "      <td>M</td>\n",
       "      <td>25.416667</td>\n",
       "      <td>2n4n</td>\n",
       "    </tr>\n",
       "    <tr>\n",
       "      <th>2</th>\n",
       "      <td>hepatocyte</td>\n",
       "      <td>PH6</td>\n",
       "      <td>ND022</td>\n",
       "      <td>1946.500000</td>\n",
       "      <td>2004.833333</td>\n",
       "      <td>0.075001</td>\n",
       "      <td>0.004711</td>\n",
       "      <td>62.0</td>\n",
       "      <td>N</td>\n",
       "      <td>M</td>\n",
       "      <td>58.333333</td>\n",
       "      <td>2n4n</td>\n",
       "    </tr>\n",
       "    <tr>\n",
       "      <th>3</th>\n",
       "      <td>hepatocyte</td>\n",
       "      <td>PH7</td>\n",
       "      <td>ND023</td>\n",
       "      <td>1945.833333</td>\n",
       "      <td>2004.833333</td>\n",
       "      <td>0.090351</td>\n",
       "      <td>0.004395</td>\n",
       "      <td>70.0</td>\n",
       "      <td>N</td>\n",
       "      <td>M</td>\n",
       "      <td>59.000000</td>\n",
       "      <td>2n4n</td>\n",
       "    </tr>\n",
       "    <tr>\n",
       "      <th>4</th>\n",
       "      <td>hepatocyte</td>\n",
       "      <td>PH11</td>\n",
       "      <td>ND375</td>\n",
       "      <td>1992.500000</td>\n",
       "      <td>2016.333333</td>\n",
       "      <td>0.003700</td>\n",
       "      <td>0.016000</td>\n",
       "      <td>61.0</td>\n",
       "      <td>N</td>\n",
       "      <td>M</td>\n",
       "      <td>23.833333</td>\n",
       "      <td>2n4n</td>\n",
       "    </tr>\n",
       "  </tbody>\n",
       "</table>\n",
       "</div>"
      ],
      "text/plain": [
       "         type  code sample       Dbirth        Dcoll      d14C      e14C  \\\n",
       "0    unsorted   PH1  ND380  1942.833333  2016.416667  0.078416  0.003981   \n",
       "1    unsorted   PH2  ND388  1991.416667  2016.833333  0.025254  0.003912   \n",
       "2  hepatocyte   PH6  ND022  1946.500000  2004.833333  0.075001  0.004711   \n",
       "3  hepatocyte   PH7  ND023  1945.833333  2004.833333  0.090351  0.004395   \n",
       "4  hepatocyte  PH11  ND375  1992.500000  2016.333333  0.003700  0.016000   \n",
       "\n",
       "   N_cells pathology sex  subject_age ploidy  \n",
       "0      NaN         N   F    73.583333   2n4n  \n",
       "1      NaN         N   M    25.416667   2n4n  \n",
       "2     62.0         N   M    58.333333   2n4n  \n",
       "3     70.0         N   M    59.000000   2n4n  \n",
       "4     61.0         N   M    23.833333   2n4n  "
      ]
     },
     "execution_count": 2,
     "metadata": {},
     "output_type": "execute_result"
    }
   ],
   "source": [
    "c14_patient_data = pd.read_excel('../../../data/C14data_liver_samples_20191023.xlsx')[\n",
    "    ['sort', 'Code', 'sample', 'DOB', 'DOA', u'Δ 14C', 'Error, 2 s', 'no sorted', 'Pathology', 'sex']]\n",
    "c14_patient_data.columns = ['type', 'code', 'sample', 'Dbirth', 'Dcoll', 'd14C', 'e14C', 'N_cells', 'pathology', 'sex']\n",
    "\n",
    "c14_patient_data['d14C'] /= 1000.0\n",
    "c14_patient_data['e14C'] /= 1000.0 # convert unit\n",
    "c14_patient_data['e14C'] /= 2.0 # convert to 1s error\n",
    "c14_patient_data['subject_age'] = c14_patient_data['Dcoll'] - c14_patient_data['Dbirth']\n",
    "\n",
    "def convert_N_cell_entry(x):\n",
    "    if isinstance(x, float):\n",
    "        return x\n",
    "    elif x[-1] == '2':\n",
    "        return float(x.rstrip(' mio /2')) / 2\n",
    "    else:\n",
    "        return float(x.rstrip(' mio'))\n",
    "\n",
    "c14_patient_data['N_cells'] = c14_patient_data['N_cells'].apply(convert_N_cell_entry)\n",
    "\n",
    "c14_patient_data.loc[c14_patient_data['type'] == 'HNF4α -', 'type'] = 'non-hepatocyte'\n",
    "\n",
    "c14_patient_data['ploidy'] = '2n4n'\n",
    "for type_ in ['2n', '4n']:\n",
    "    c14_patient_data.loc[c14_patient_data['type'].str.startswith(type_), 'ploidy'] = type_\n",
    "    c14_patient_data.loc[c14_patient_data['type'].str.startswith(type_), 'type'] = 'hepatocyte'\n",
    "\n",
    "\n",
    "c14_patient_data['type'] = pd.Categorical(c14_patient_data['type'])\n",
    "c14_patient_data['code'] = pd.Categorical(c14_patient_data['code'])\n",
    "c14_patient_data['sample'] = pd.Categorical(c14_patient_data['sample'])\n",
    "c14_patient_data['pathology'] = pd.Categorical(c14_patient_data['pathology'])\n",
    "\n",
    "c14_patient_data.head()"
   ]
  },
  {
   "cell_type": "markdown",
   "metadata": {},
   "source": [
    "Drop the patient with unknown age"
   ]
  },
  {
   "cell_type": "code",
   "execution_count": 3,
   "metadata": {},
   "outputs": [],
   "source": [
    "c14_patient_data = c14_patient_data[c14_patient_data['Dbirth'].notna()]"
   ]
  },
  {
   "cell_type": "code",
   "execution_count": 4,
   "metadata": {
    "ExecuteTime": {
     "end_time": "2018-12-05T11:02:30.169214Z",
     "start_time": "2018-12-05T11:02:30.133291Z"
    }
   },
   "outputs": [],
   "source": [
    "c14_patient_data.to_csv(f'../../../results/C14data_liver_samples_20191023.csv', index=False)\n",
    "c14_patient_data.to_pickle(f'../../../results/C14data_liver_samples_20191023.pkl')"
   ]
  },
  {
   "cell_type": "code",
   "execution_count": 5,
   "metadata": {},
   "outputs": [
    {
     "data": {
      "text/html": [
       "<div>\n",
       "<style scoped>\n",
       "    .dataframe tbody tr th:only-of-type {\n",
       "        vertical-align: middle;\n",
       "    }\n",
       "\n",
       "    .dataframe tbody tr th {\n",
       "        vertical-align: top;\n",
       "    }\n",
       "\n",
       "    .dataframe thead th {\n",
       "        text-align: right;\n",
       "    }\n",
       "</style>\n",
       "<table border=\"1\" class=\"dataframe\">\n",
       "  <thead>\n",
       "    <tr style=\"text-align: right;\">\n",
       "      <th></th>\n",
       "      <th>type</th>\n",
       "      <th>code</th>\n",
       "      <th>sample</th>\n",
       "      <th>Dbirth</th>\n",
       "      <th>Dcoll</th>\n",
       "      <th>d14C</th>\n",
       "      <th>e14C</th>\n",
       "      <th>N_cells</th>\n",
       "      <th>pathology</th>\n",
       "      <th>sex</th>\n",
       "      <th>subject_age</th>\n",
       "      <th>ploidy</th>\n",
       "    </tr>\n",
       "  </thead>\n",
       "  <tbody>\n",
       "    <tr>\n",
       "      <th>0</th>\n",
       "      <td>unsorted</td>\n",
       "      <td>PH1</td>\n",
       "      <td>ND380</td>\n",
       "      <td>1942.833333</td>\n",
       "      <td>2016.416667</td>\n",
       "      <td>0.078416</td>\n",
       "      <td>0.003981</td>\n",
       "      <td>NaN</td>\n",
       "      <td>N</td>\n",
       "      <td>F</td>\n",
       "      <td>73.583333</td>\n",
       "      <td>2n4n</td>\n",
       "    </tr>\n",
       "    <tr>\n",
       "      <th>1</th>\n",
       "      <td>unsorted</td>\n",
       "      <td>PH2</td>\n",
       "      <td>ND388</td>\n",
       "      <td>1991.416667</td>\n",
       "      <td>2016.833333</td>\n",
       "      <td>0.025254</td>\n",
       "      <td>0.003912</td>\n",
       "      <td>NaN</td>\n",
       "      <td>N</td>\n",
       "      <td>M</td>\n",
       "      <td>25.416667</td>\n",
       "      <td>2n4n</td>\n",
       "    </tr>\n",
       "    <tr>\n",
       "      <th>2</th>\n",
       "      <td>hepatocyte</td>\n",
       "      <td>PH6</td>\n",
       "      <td>ND022</td>\n",
       "      <td>1946.500000</td>\n",
       "      <td>2004.833333</td>\n",
       "      <td>0.075001</td>\n",
       "      <td>0.004711</td>\n",
       "      <td>62.0</td>\n",
       "      <td>N</td>\n",
       "      <td>M</td>\n",
       "      <td>58.333333</td>\n",
       "      <td>2n4n</td>\n",
       "    </tr>\n",
       "    <tr>\n",
       "      <th>3</th>\n",
       "      <td>hepatocyte</td>\n",
       "      <td>PH7</td>\n",
       "      <td>ND023</td>\n",
       "      <td>1945.833333</td>\n",
       "      <td>2004.833333</td>\n",
       "      <td>0.090351</td>\n",
       "      <td>0.004395</td>\n",
       "      <td>70.0</td>\n",
       "      <td>N</td>\n",
       "      <td>M</td>\n",
       "      <td>59.000000</td>\n",
       "      <td>2n4n</td>\n",
       "    </tr>\n",
       "    <tr>\n",
       "      <th>4</th>\n",
       "      <td>hepatocyte</td>\n",
       "      <td>PH11</td>\n",
       "      <td>ND375</td>\n",
       "      <td>1992.500000</td>\n",
       "      <td>2016.333333</td>\n",
       "      <td>0.003700</td>\n",
       "      <td>0.016000</td>\n",
       "      <td>61.0</td>\n",
       "      <td>N</td>\n",
       "      <td>M</td>\n",
       "      <td>23.833333</td>\n",
       "      <td>2n4n</td>\n",
       "    </tr>\n",
       "  </tbody>\n",
       "</table>\n",
       "</div>"
      ],
      "text/plain": [
       "         type  code sample       Dbirth        Dcoll      d14C      e14C  \\\n",
       "0    unsorted   PH1  ND380  1942.833333  2016.416667  0.078416  0.003981   \n",
       "1    unsorted   PH2  ND388  1991.416667  2016.833333  0.025254  0.003912   \n",
       "2  hepatocyte   PH6  ND022  1946.500000  2004.833333  0.075001  0.004711   \n",
       "3  hepatocyte   PH7  ND023  1945.833333  2004.833333  0.090351  0.004395   \n",
       "4  hepatocyte  PH11  ND375  1992.500000  2016.333333  0.003700  0.016000   \n",
       "\n",
       "   N_cells pathology sex  subject_age ploidy  \n",
       "0      NaN         N   F    73.583333   2n4n  \n",
       "1      NaN         N   M    25.416667   2n4n  \n",
       "2     62.0         N   M    58.333333   2n4n  \n",
       "3     70.0         N   M    59.000000   2n4n  \n",
       "4     61.0         N   M    23.833333   2n4n  "
      ]
     },
     "execution_count": 5,
     "metadata": {},
     "output_type": "execute_result"
    }
   ],
   "source": [
    "pd.read_pickle(f'../../../results/C14data_liver_samples_20191023.pkl').head()"
   ]
  },
  {
   "cell_type": "markdown",
   "metadata": {
    "toc-hr-collapsed": true,
    "toc-nb-collapsed": true
   },
   "source": [
    "# 20190827"
   ]
  },
  {
   "cell_type": "code",
   "execution_count": 14,
   "metadata": {
    "ExecuteTime": {
     "end_time": "2018-12-05T11:01:37.820671Z",
     "start_time": "2018-12-05T11:01:37.670453Z"
    }
   },
   "outputs": [
    {
     "data": {
      "text/html": [
       "<div>\n",
       "<style scoped>\n",
       "    .dataframe tbody tr th:only-of-type {\n",
       "        vertical-align: middle;\n",
       "    }\n",
       "\n",
       "    .dataframe tbody tr th {\n",
       "        vertical-align: top;\n",
       "    }\n",
       "\n",
       "    .dataframe thead th {\n",
       "        text-align: right;\n",
       "    }\n",
       "</style>\n",
       "<table border=\"1\" class=\"dataframe\">\n",
       "  <thead>\n",
       "    <tr style=\"text-align: right;\">\n",
       "      <th></th>\n",
       "      <th>type</th>\n",
       "      <th>code</th>\n",
       "      <th>sample</th>\n",
       "      <th>Dbirth</th>\n",
       "      <th>Dcoll</th>\n",
       "      <th>d14C</th>\n",
       "      <th>e14C</th>\n",
       "      <th>N_cells</th>\n",
       "      <th>pathology</th>\n",
       "      <th>sex</th>\n",
       "      <th>subject_age</th>\n",
       "      <th>ploidy</th>\n",
       "    </tr>\n",
       "  </thead>\n",
       "  <tbody>\n",
       "    <tr>\n",
       "      <th>0</th>\n",
       "      <td>unsorted</td>\n",
       "      <td>PH1</td>\n",
       "      <td>ND380</td>\n",
       "      <td>1942.833333</td>\n",
       "      <td>2016.416667</td>\n",
       "      <td>0.078416</td>\n",
       "      <td>0.003981</td>\n",
       "      <td>NaN</td>\n",
       "      <td>N</td>\n",
       "      <td>F</td>\n",
       "      <td>73.583333</td>\n",
       "      <td>2n4n</td>\n",
       "    </tr>\n",
       "    <tr>\n",
       "      <th>1</th>\n",
       "      <td>unsorted</td>\n",
       "      <td>PH2</td>\n",
       "      <td>ND388</td>\n",
       "      <td>1991.416667</td>\n",
       "      <td>2016.833333</td>\n",
       "      <td>0.025254</td>\n",
       "      <td>0.003912</td>\n",
       "      <td>NaN</td>\n",
       "      <td>N</td>\n",
       "      <td>M</td>\n",
       "      <td>25.416667</td>\n",
       "      <td>2n4n</td>\n",
       "    </tr>\n",
       "    <tr>\n",
       "      <th>2</th>\n",
       "      <td>hepatocyte</td>\n",
       "      <td>PH6</td>\n",
       "      <td>ND022</td>\n",
       "      <td>1946.500000</td>\n",
       "      <td>2004.833333</td>\n",
       "      <td>0.075001</td>\n",
       "      <td>0.004711</td>\n",
       "      <td>62.0</td>\n",
       "      <td>N</td>\n",
       "      <td>M</td>\n",
       "      <td>58.333333</td>\n",
       "      <td>2n4n</td>\n",
       "    </tr>\n",
       "    <tr>\n",
       "      <th>3</th>\n",
       "      <td>hepatocyte</td>\n",
       "      <td>PH7</td>\n",
       "      <td>ND023</td>\n",
       "      <td>1945.833333</td>\n",
       "      <td>2004.833333</td>\n",
       "      <td>0.090351</td>\n",
       "      <td>0.004395</td>\n",
       "      <td>70.0</td>\n",
       "      <td>N</td>\n",
       "      <td>M</td>\n",
       "      <td>59.000000</td>\n",
       "      <td>2n4n</td>\n",
       "    </tr>\n",
       "    <tr>\n",
       "      <th>4</th>\n",
       "      <td>hepatocyte</td>\n",
       "      <td>PH11</td>\n",
       "      <td>ND375</td>\n",
       "      <td>1992.500000</td>\n",
       "      <td>2016.333333</td>\n",
       "      <td>0.003700</td>\n",
       "      <td>0.016000</td>\n",
       "      <td>61.0</td>\n",
       "      <td>N</td>\n",
       "      <td>M</td>\n",
       "      <td>23.833333</td>\n",
       "      <td>2n4n</td>\n",
       "    </tr>\n",
       "  </tbody>\n",
       "</table>\n",
       "</div>"
      ],
      "text/plain": [
       "         type  code sample       Dbirth        Dcoll      d14C      e14C  \\\n",
       "0    unsorted   PH1  ND380  1942.833333  2016.416667  0.078416  0.003981   \n",
       "1    unsorted   PH2  ND388  1991.416667  2016.833333  0.025254  0.003912   \n",
       "2  hepatocyte   PH6  ND022  1946.500000  2004.833333  0.075001  0.004711   \n",
       "3  hepatocyte   PH7  ND023  1945.833333  2004.833333  0.090351  0.004395   \n",
       "4  hepatocyte  PH11  ND375  1992.500000  2016.333333  0.003700  0.016000   \n",
       "\n",
       "   N_cells pathology sex  subject_age ploidy  \n",
       "0      NaN         N   F    73.583333   2n4n  \n",
       "1      NaN         N   M    25.416667   2n4n  \n",
       "2     62.0         N   M    58.333333   2n4n  \n",
       "3     70.0         N   M    59.000000   2n4n  \n",
       "4     61.0         N   M    23.833333   2n4n  "
      ]
     },
     "execution_count": 14,
     "metadata": {},
     "output_type": "execute_result"
    }
   ],
   "source": [
    "c14_patient_data = pd.read_excel('../../../data/C14data_liver_samples_20190827.xlsx')[\n",
    "    ['sort', 'Code', 'sample', 'DOB', 'DOA', u'Δ 14C', 'Error, 2 s', 'no sorted', 'Pathology', 'sex']]\n",
    "c14_patient_data.columns = ['type', 'code', 'sample', 'Dbirth', 'Dcoll', 'd14C', 'e14C', 'N_cells', 'pathology', 'sex']\n",
    "\n",
    "c14_patient_data['d14C'] /= 1000.0\n",
    "c14_patient_data['e14C'] /= 1000.0 # convert unit\n",
    "c14_patient_data['e14C'] /= 2.0 # convert to 1s error\n",
    "c14_patient_data['subject_age'] = c14_patient_data['Dcoll'] - c14_patient_data['Dbirth']\n",
    "\n",
    "def convert_N_cell_entry(x):\n",
    "    if isinstance(x, float):\n",
    "        return x\n",
    "    elif x[-1] == '2':\n",
    "        return float(x.rstrip(' mio /2')) / 2\n",
    "    else:\n",
    "        return float(x.rstrip(' mio'))\n",
    "\n",
    "c14_patient_data['N_cells'] = c14_patient_data['N_cells'].apply(convert_N_cell_entry)\n",
    "\n",
    "c14_patient_data.loc[c14_patient_data['type'] == 'HNF4α -', 'type'] = 'non-hepatocyte'\n",
    "\n",
    "c14_patient_data['ploidy'] = '2n4n'\n",
    "for type_ in ['2n', '4n']:\n",
    "    c14_patient_data.loc[c14_patient_data['type'].str.startswith(type_), 'ploidy'] = type_\n",
    "    c14_patient_data.loc[c14_patient_data['type'].str.startswith(type_), 'type'] = 'hepatocyte'\n",
    "\n",
    "\n",
    "c14_patient_data['type'] = pd.Categorical(c14_patient_data['type'])\n",
    "c14_patient_data['code'] = pd.Categorical(c14_patient_data['code'])\n",
    "c14_patient_data['sample'] = pd.Categorical(c14_patient_data['sample'])\n",
    "c14_patient_data['pathology'] = pd.Categorical(c14_patient_data['pathology'])\n",
    "\n",
    "c14_patient_data.head()"
   ]
  },
  {
   "cell_type": "markdown",
   "metadata": {},
   "source": [
    "Drop the patient with unknown age"
   ]
  },
  {
   "cell_type": "code",
   "execution_count": 15,
   "metadata": {},
   "outputs": [],
   "source": [
    "c14_patient_data = c14_patient_data[c14_patient_data['Dbirth'].notna()]"
   ]
  },
  {
   "cell_type": "code",
   "execution_count": 16,
   "metadata": {
    "ExecuteTime": {
     "end_time": "2018-12-05T11:02:30.169214Z",
     "start_time": "2018-12-05T11:02:30.133291Z"
    }
   },
   "outputs": [],
   "source": [
    "c14_patient_data.to_csv(f'../../../results/C14data_liver_samples_20190827.csv', index=False)\n",
    "c14_patient_data.to_pickle(f'../../../results/C14data_liver_samples_20190827.pkl')"
   ]
  },
  {
   "cell_type": "code",
   "execution_count": 17,
   "metadata": {},
   "outputs": [
    {
     "data": {
      "text/html": [
       "<div>\n",
       "<style scoped>\n",
       "    .dataframe tbody tr th:only-of-type {\n",
       "        vertical-align: middle;\n",
       "    }\n",
       "\n",
       "    .dataframe tbody tr th {\n",
       "        vertical-align: top;\n",
       "    }\n",
       "\n",
       "    .dataframe thead th {\n",
       "        text-align: right;\n",
       "    }\n",
       "</style>\n",
       "<table border=\"1\" class=\"dataframe\">\n",
       "  <thead>\n",
       "    <tr style=\"text-align: right;\">\n",
       "      <th></th>\n",
       "      <th>type</th>\n",
       "      <th>code</th>\n",
       "      <th>sample</th>\n",
       "      <th>Dbirth</th>\n",
       "      <th>Dcoll</th>\n",
       "      <th>d14C</th>\n",
       "      <th>e14C</th>\n",
       "      <th>N_cells</th>\n",
       "      <th>pathology</th>\n",
       "      <th>sex</th>\n",
       "      <th>subject_age</th>\n",
       "      <th>ploidy</th>\n",
       "    </tr>\n",
       "  </thead>\n",
       "  <tbody>\n",
       "    <tr>\n",
       "      <th>0</th>\n",
       "      <td>unsorted</td>\n",
       "      <td>PH1</td>\n",
       "      <td>ND380</td>\n",
       "      <td>1942.833333</td>\n",
       "      <td>2016.416667</td>\n",
       "      <td>0.078416</td>\n",
       "      <td>0.003981</td>\n",
       "      <td>NaN</td>\n",
       "      <td>N</td>\n",
       "      <td>F</td>\n",
       "      <td>73.583333</td>\n",
       "      <td>2n4n</td>\n",
       "    </tr>\n",
       "    <tr>\n",
       "      <th>1</th>\n",
       "      <td>unsorted</td>\n",
       "      <td>PH2</td>\n",
       "      <td>ND388</td>\n",
       "      <td>1991.416667</td>\n",
       "      <td>2016.833333</td>\n",
       "      <td>0.025254</td>\n",
       "      <td>0.003912</td>\n",
       "      <td>NaN</td>\n",
       "      <td>N</td>\n",
       "      <td>M</td>\n",
       "      <td>25.416667</td>\n",
       "      <td>2n4n</td>\n",
       "    </tr>\n",
       "    <tr>\n",
       "      <th>2</th>\n",
       "      <td>hepatocyte</td>\n",
       "      <td>PH6</td>\n",
       "      <td>ND022</td>\n",
       "      <td>1946.500000</td>\n",
       "      <td>2004.833333</td>\n",
       "      <td>0.075001</td>\n",
       "      <td>0.004711</td>\n",
       "      <td>62.0</td>\n",
       "      <td>N</td>\n",
       "      <td>M</td>\n",
       "      <td>58.333333</td>\n",
       "      <td>2n4n</td>\n",
       "    </tr>\n",
       "    <tr>\n",
       "      <th>3</th>\n",
       "      <td>hepatocyte</td>\n",
       "      <td>PH7</td>\n",
       "      <td>ND023</td>\n",
       "      <td>1945.833333</td>\n",
       "      <td>2004.833333</td>\n",
       "      <td>0.090351</td>\n",
       "      <td>0.004395</td>\n",
       "      <td>70.0</td>\n",
       "      <td>N</td>\n",
       "      <td>M</td>\n",
       "      <td>59.000000</td>\n",
       "      <td>2n4n</td>\n",
       "    </tr>\n",
       "    <tr>\n",
       "      <th>4</th>\n",
       "      <td>hepatocyte</td>\n",
       "      <td>PH11</td>\n",
       "      <td>ND375</td>\n",
       "      <td>1992.500000</td>\n",
       "      <td>2016.333333</td>\n",
       "      <td>0.003700</td>\n",
       "      <td>0.016000</td>\n",
       "      <td>61.0</td>\n",
       "      <td>N</td>\n",
       "      <td>M</td>\n",
       "      <td>23.833333</td>\n",
       "      <td>2n4n</td>\n",
       "    </tr>\n",
       "  </tbody>\n",
       "</table>\n",
       "</div>"
      ],
      "text/plain": [
       "         type  code sample       Dbirth        Dcoll      d14C      e14C  \\\n",
       "0    unsorted   PH1  ND380  1942.833333  2016.416667  0.078416  0.003981   \n",
       "1    unsorted   PH2  ND388  1991.416667  2016.833333  0.025254  0.003912   \n",
       "2  hepatocyte   PH6  ND022  1946.500000  2004.833333  0.075001  0.004711   \n",
       "3  hepatocyte   PH7  ND023  1945.833333  2004.833333  0.090351  0.004395   \n",
       "4  hepatocyte  PH11  ND375  1992.500000  2016.333333  0.003700  0.016000   \n",
       "\n",
       "   N_cells pathology sex  subject_age ploidy  \n",
       "0      NaN         N   F    73.583333   2n4n  \n",
       "1      NaN         N   M    25.416667   2n4n  \n",
       "2     62.0         N   M    58.333333   2n4n  \n",
       "3     70.0         N   M    59.000000   2n4n  \n",
       "4     61.0         N   M    23.833333   2n4n  "
      ]
     },
     "execution_count": 17,
     "metadata": {},
     "output_type": "execute_result"
    }
   ],
   "source": [
    "pd.read_pickle(f'../../../results/C14data_liver_samples_20190827.pkl').head()"
   ]
  },
  {
   "cell_type": "markdown",
   "metadata": {
    "toc-hr-collapsed": true,
    "toc-nb-collapsed": true
   },
   "source": [
    "# 20190722"
   ]
  },
  {
   "cell_type": "code",
   "execution_count": 5,
   "metadata": {
    "ExecuteTime": {
     "end_time": "2018-12-05T11:01:37.820671Z",
     "start_time": "2018-12-05T11:01:37.670453Z"
    }
   },
   "outputs": [
    {
     "data": {
      "text/html": [
       "<div>\n",
       "<style scoped>\n",
       "    .dataframe tbody tr th:only-of-type {\n",
       "        vertical-align: middle;\n",
       "    }\n",
       "\n",
       "    .dataframe tbody tr th {\n",
       "        vertical-align: top;\n",
       "    }\n",
       "\n",
       "    .dataframe thead th {\n",
       "        text-align: right;\n",
       "    }\n",
       "</style>\n",
       "<table border=\"1\" class=\"dataframe\">\n",
       "  <thead>\n",
       "    <tr style=\"text-align: right;\">\n",
       "      <th></th>\n",
       "      <th>type</th>\n",
       "      <th>code</th>\n",
       "      <th>sample</th>\n",
       "      <th>Dbirth</th>\n",
       "      <th>Dcoll</th>\n",
       "      <th>d14C</th>\n",
       "      <th>error_measurement</th>\n",
       "      <th>N_cells</th>\n",
       "      <th>pathology</th>\n",
       "      <th>subject_age</th>\n",
       "      <th>ploidy</th>\n",
       "    </tr>\n",
       "  </thead>\n",
       "  <tbody>\n",
       "    <tr>\n",
       "      <th>0</th>\n",
       "      <td>unsorted</td>\n",
       "      <td>PH1</td>\n",
       "      <td>ND380</td>\n",
       "      <td>1942.833333</td>\n",
       "      <td>2016.416667</td>\n",
       "      <td>0.078416</td>\n",
       "      <td>0.003981</td>\n",
       "      <td>NaN</td>\n",
       "      <td>N</td>\n",
       "      <td>73.583333</td>\n",
       "      <td>2n4n</td>\n",
       "    </tr>\n",
       "    <tr>\n",
       "      <th>1</th>\n",
       "      <td>unsorted</td>\n",
       "      <td>PH2</td>\n",
       "      <td>ND388</td>\n",
       "      <td>1991.416667</td>\n",
       "      <td>2016.833333</td>\n",
       "      <td>0.025254</td>\n",
       "      <td>0.003912</td>\n",
       "      <td>NaN</td>\n",
       "      <td>N</td>\n",
       "      <td>25.416667</td>\n",
       "      <td>2n4n</td>\n",
       "    </tr>\n",
       "    <tr>\n",
       "      <th>2</th>\n",
       "      <td>hepatocyte</td>\n",
       "      <td>PH6</td>\n",
       "      <td>ND022</td>\n",
       "      <td>1946.500000</td>\n",
       "      <td>2004.833333</td>\n",
       "      <td>0.075001</td>\n",
       "      <td>0.004711</td>\n",
       "      <td>62.0</td>\n",
       "      <td>N</td>\n",
       "      <td>58.333333</td>\n",
       "      <td>2n4n</td>\n",
       "    </tr>\n",
       "    <tr>\n",
       "      <th>3</th>\n",
       "      <td>hepatocyte</td>\n",
       "      <td>PH7</td>\n",
       "      <td>ND023</td>\n",
       "      <td>1945.833333</td>\n",
       "      <td>2004.833333</td>\n",
       "      <td>0.090351</td>\n",
       "      <td>0.004395</td>\n",
       "      <td>70.0</td>\n",
       "      <td>N</td>\n",
       "      <td>59.000000</td>\n",
       "      <td>2n4n</td>\n",
       "    </tr>\n",
       "    <tr>\n",
       "      <th>4</th>\n",
       "      <td>hepatocyte</td>\n",
       "      <td>PH11</td>\n",
       "      <td>ND375</td>\n",
       "      <td>1992.500000</td>\n",
       "      <td>2016.333333</td>\n",
       "      <td>0.003700</td>\n",
       "      <td>0.016000</td>\n",
       "      <td>61.0</td>\n",
       "      <td>N</td>\n",
       "      <td>23.833333</td>\n",
       "      <td>2n4n</td>\n",
       "    </tr>\n",
       "  </tbody>\n",
       "</table>\n",
       "</div>"
      ],
      "text/plain": [
       "         type  code sample       Dbirth        Dcoll      d14C  \\\n",
       "0    unsorted   PH1  ND380  1942.833333  2016.416667  0.078416   \n",
       "1    unsorted   PH2  ND388  1991.416667  2016.833333  0.025254   \n",
       "2  hepatocyte   PH6  ND022  1946.500000  2004.833333  0.075001   \n",
       "3  hepatocyte   PH7  ND023  1945.833333  2004.833333  0.090351   \n",
       "4  hepatocyte  PH11  ND375  1992.500000  2016.333333  0.003700   \n",
       "\n",
       "   error_measurement  N_cells pathology  subject_age ploidy  \n",
       "0           0.003981      NaN         N    73.583333   2n4n  \n",
       "1           0.003912      NaN         N    25.416667   2n4n  \n",
       "2           0.004711     62.0         N    58.333333   2n4n  \n",
       "3           0.004395     70.0         N    59.000000   2n4n  \n",
       "4           0.016000     61.0         N    23.833333   2n4n  "
      ]
     },
     "execution_count": 5,
     "metadata": {},
     "output_type": "execute_result"
    }
   ],
   "source": [
    "c14_patient_data = pd.read_excel('../../../data/C14data_liver_samples_20190722.xlsx')[\n",
    "    ['sort', 'Code', 'sample', 'DOB', 'DOA', u'Δ 14C', 'Error, 2 s', 'no sorted', 'Pathology']]\n",
    "c14_patient_data.columns = ['type', 'code', 'sample', 'Dbirth', 'Dcoll', 'd14C', 'error_measurement', 'N_cells', 'pathology']\n",
    "\n",
    "c14_patient_data['d14C'] /= 1000.0\n",
    "c14_patient_data['error_measurement'] /= 1000.0 # convert unit\n",
    "c14_patient_data['error_measurement'] /= 2.0 # convert to 1s error\n",
    "c14_patient_data['subject_age'] = c14_patient_data['Dcoll'] - c14_patient_data['Dbirth']\n",
    "\n",
    "def convert_N_cell_entry(x):\n",
    "    if isinstance(x, float):\n",
    "        return x\n",
    "    elif x[-1] == '2':\n",
    "        return float(x.rstrip(' mio /2')) / 2\n",
    "    else:\n",
    "        return float(x.rstrip(' mio'))\n",
    "\n",
    "c14_patient_data['N_cells'] = c14_patient_data['N_cells'].apply(convert_N_cell_entry)\n",
    "\n",
    "c14_patient_data.loc[c14_patient_data['type'] == 'HNF4α -', 'type'] = 'non-hepatocyte'\n",
    "\n",
    "c14_patient_data['ploidy'] = '2n4n'\n",
    "for type_ in ['2n', '4n']:\n",
    "    c14_patient_data.loc[c14_patient_data['type'].str.startswith(type_), 'ploidy'] = type_\n",
    "    c14_patient_data.loc[c14_patient_data['type'].str.startswith(type_), 'type'] = 'hepatocyte'\n",
    "\n",
    "\n",
    "c14_patient_data['type'] = pd.Categorical(c14_patient_data['type'])\n",
    "c14_patient_data['code'] = pd.Categorical(c14_patient_data['code'])\n",
    "c14_patient_data['sample'] = pd.Categorical(c14_patient_data['sample'])\n",
    "c14_patient_data['pathology'] = pd.Categorical(c14_patient_data['pathology'])\n",
    "\n",
    "c14_patient_data.head()"
   ]
  },
  {
   "cell_type": "markdown",
   "metadata": {},
   "source": [
    "Drop the patient with unknown age"
   ]
  },
  {
   "cell_type": "code",
   "execution_count": 7,
   "metadata": {},
   "outputs": [],
   "source": [
    "c14_patient_data = c14_patient_data[c14_patient_data['Dbirth'].notna()]"
   ]
  },
  {
   "cell_type": "code",
   "execution_count": 9,
   "metadata": {
    "ExecuteTime": {
     "end_time": "2018-12-05T11:02:30.169214Z",
     "start_time": "2018-12-05T11:02:30.133291Z"
    }
   },
   "outputs": [],
   "source": [
    "c14_patient_data.to_csv(f'../../../results/C14data_liver_samples_20190722.csv', index=False)\n",
    "c14_patient_data.to_pickle(f'../../../results/C14data_liver_samples_20190722.pkl')"
   ]
  },
  {
   "cell_type": "code",
   "execution_count": 12,
   "metadata": {},
   "outputs": [
    {
     "data": {
      "text/html": [
       "<div>\n",
       "<style scoped>\n",
       "    .dataframe tbody tr th:only-of-type {\n",
       "        vertical-align: middle;\n",
       "    }\n",
       "\n",
       "    .dataframe tbody tr th {\n",
       "        vertical-align: top;\n",
       "    }\n",
       "\n",
       "    .dataframe thead th {\n",
       "        text-align: right;\n",
       "    }\n",
       "</style>\n",
       "<table border=\"1\" class=\"dataframe\">\n",
       "  <thead>\n",
       "    <tr style=\"text-align: right;\">\n",
       "      <th></th>\n",
       "      <th>type</th>\n",
       "      <th>code</th>\n",
       "      <th>sample</th>\n",
       "      <th>Dbirth</th>\n",
       "      <th>Dcoll</th>\n",
       "      <th>d14C</th>\n",
       "      <th>error_measurement</th>\n",
       "      <th>N_cells</th>\n",
       "      <th>pathology</th>\n",
       "      <th>subject_age</th>\n",
       "      <th>ploidy</th>\n",
       "    </tr>\n",
       "  </thead>\n",
       "  <tbody>\n",
       "    <tr>\n",
       "      <th>0</th>\n",
       "      <td>unsorted</td>\n",
       "      <td>PH1</td>\n",
       "      <td>ND380</td>\n",
       "      <td>1942.833333</td>\n",
       "      <td>2016.416667</td>\n",
       "      <td>0.078416</td>\n",
       "      <td>0.003981</td>\n",
       "      <td>NaN</td>\n",
       "      <td>N</td>\n",
       "      <td>73.583333</td>\n",
       "      <td>2n4n</td>\n",
       "    </tr>\n",
       "    <tr>\n",
       "      <th>1</th>\n",
       "      <td>unsorted</td>\n",
       "      <td>PH2</td>\n",
       "      <td>ND388</td>\n",
       "      <td>1991.416667</td>\n",
       "      <td>2016.833333</td>\n",
       "      <td>0.025254</td>\n",
       "      <td>0.003912</td>\n",
       "      <td>NaN</td>\n",
       "      <td>N</td>\n",
       "      <td>25.416667</td>\n",
       "      <td>2n4n</td>\n",
       "    </tr>\n",
       "    <tr>\n",
       "      <th>2</th>\n",
       "      <td>hepatocyte</td>\n",
       "      <td>PH6</td>\n",
       "      <td>ND022</td>\n",
       "      <td>1946.500000</td>\n",
       "      <td>2004.833333</td>\n",
       "      <td>0.075001</td>\n",
       "      <td>0.004711</td>\n",
       "      <td>62.0</td>\n",
       "      <td>N</td>\n",
       "      <td>58.333333</td>\n",
       "      <td>2n4n</td>\n",
       "    </tr>\n",
       "    <tr>\n",
       "      <th>3</th>\n",
       "      <td>hepatocyte</td>\n",
       "      <td>PH7</td>\n",
       "      <td>ND023</td>\n",
       "      <td>1945.833333</td>\n",
       "      <td>2004.833333</td>\n",
       "      <td>0.090351</td>\n",
       "      <td>0.004395</td>\n",
       "      <td>70.0</td>\n",
       "      <td>N</td>\n",
       "      <td>59.000000</td>\n",
       "      <td>2n4n</td>\n",
       "    </tr>\n",
       "    <tr>\n",
       "      <th>4</th>\n",
       "      <td>hepatocyte</td>\n",
       "      <td>PH11</td>\n",
       "      <td>ND375</td>\n",
       "      <td>1992.500000</td>\n",
       "      <td>2016.333333</td>\n",
       "      <td>0.003700</td>\n",
       "      <td>0.016000</td>\n",
       "      <td>61.0</td>\n",
       "      <td>N</td>\n",
       "      <td>23.833333</td>\n",
       "      <td>2n4n</td>\n",
       "    </tr>\n",
       "  </tbody>\n",
       "</table>\n",
       "</div>"
      ],
      "text/plain": [
       "         type  code sample       Dbirth        Dcoll      d14C  \\\n",
       "0    unsorted   PH1  ND380  1942.833333  2016.416667  0.078416   \n",
       "1    unsorted   PH2  ND388  1991.416667  2016.833333  0.025254   \n",
       "2  hepatocyte   PH6  ND022  1946.500000  2004.833333  0.075001   \n",
       "3  hepatocyte   PH7  ND023  1945.833333  2004.833333  0.090351   \n",
       "4  hepatocyte  PH11  ND375  1992.500000  2016.333333  0.003700   \n",
       "\n",
       "   error_measurement  N_cells pathology  subject_age ploidy  \n",
       "0           0.003981      NaN         N    73.583333   2n4n  \n",
       "1           0.003912      NaN         N    25.416667   2n4n  \n",
       "2           0.004711     62.0         N    58.333333   2n4n  \n",
       "3           0.004395     70.0         N    59.000000   2n4n  \n",
       "4           0.016000     61.0         N    23.833333   2n4n  "
      ]
     },
     "execution_count": 12,
     "metadata": {},
     "output_type": "execute_result"
    }
   ],
   "source": [
    "pd.read_pickle(f'../../../results/C14data_liver_samples_20190722.pkl').head()"
   ]
  },
  {
   "cell_type": "markdown",
   "metadata": {
    "toc-hr-collapsed": true,
    "toc-nb-collapsed": true
   },
   "source": [
    "# 20190502"
   ]
  },
  {
   "cell_type": "code",
   "execution_count": 16,
   "metadata": {
    "ExecuteTime": {
     "end_time": "2018-12-05T11:01:37.820671Z",
     "start_time": "2018-12-05T11:01:37.670453Z"
    }
   },
   "outputs": [
    {
     "data": {
      "text/html": [
       "<div>\n",
       "<style scoped>\n",
       "    .dataframe tbody tr th:only-of-type {\n",
       "        vertical-align: middle;\n",
       "    }\n",
       "\n",
       "    .dataframe tbody tr th {\n",
       "        vertical-align: top;\n",
       "    }\n",
       "\n",
       "    .dataframe thead th {\n",
       "        text-align: right;\n",
       "    }\n",
       "</style>\n",
       "<table border=\"1\" class=\"dataframe\">\n",
       "  <thead>\n",
       "    <tr style=\"text-align: right;\">\n",
       "      <th></th>\n",
       "      <th>type</th>\n",
       "      <th>code</th>\n",
       "      <th>sample</th>\n",
       "      <th>Dbirth</th>\n",
       "      <th>Dcoll</th>\n",
       "      <th>d14C</th>\n",
       "      <th>error_measurement</th>\n",
       "      <th>N_cells</th>\n",
       "      <th>pathology</th>\n",
       "      <th>subject_age</th>\n",
       "      <th>ploidy</th>\n",
       "    </tr>\n",
       "  </thead>\n",
       "  <tbody>\n",
       "    <tr>\n",
       "      <th>0</th>\n",
       "      <td>unsorted</td>\n",
       "      <td>PH1</td>\n",
       "      <td>ND380</td>\n",
       "      <td>1942.833333</td>\n",
       "      <td>2016.416667</td>\n",
       "      <td>0.078416</td>\n",
       "      <td>0.003981</td>\n",
       "      <td>NaN</td>\n",
       "      <td>N</td>\n",
       "      <td>73.583333</td>\n",
       "      <td>2n4n</td>\n",
       "    </tr>\n",
       "    <tr>\n",
       "      <th>1</th>\n",
       "      <td>unsorted</td>\n",
       "      <td>PH2</td>\n",
       "      <td>ND388</td>\n",
       "      <td>1991.416667</td>\n",
       "      <td>2016.833333</td>\n",
       "      <td>0.025254</td>\n",
       "      <td>0.003912</td>\n",
       "      <td>NaN</td>\n",
       "      <td>N</td>\n",
       "      <td>25.416667</td>\n",
       "      <td>2n4n</td>\n",
       "    </tr>\n",
       "    <tr>\n",
       "      <th>2</th>\n",
       "      <td>hepatocyte</td>\n",
       "      <td>PH3</td>\n",
       "      <td>ND381</td>\n",
       "      <td>1985.166667</td>\n",
       "      <td>2016.416667</td>\n",
       "      <td>0.040336</td>\n",
       "      <td>0.008788</td>\n",
       "      <td>58.0</td>\n",
       "      <td>N</td>\n",
       "      <td>31.250000</td>\n",
       "      <td>2n4n</td>\n",
       "    </tr>\n",
       "    <tr>\n",
       "      <th>3</th>\n",
       "      <td>hepatocyte</td>\n",
       "      <td>PH4</td>\n",
       "      <td>ND382</td>\n",
       "      <td>1982.083333</td>\n",
       "      <td>2016.500000</td>\n",
       "      <td>0.018815</td>\n",
       "      <td>0.005342</td>\n",
       "      <td>52.0</td>\n",
       "      <td>N</td>\n",
       "      <td>34.416667</td>\n",
       "      <td>2n4n</td>\n",
       "    </tr>\n",
       "    <tr>\n",
       "      <th>4</th>\n",
       "      <td>hepatocyte</td>\n",
       "      <td>PH6</td>\n",
       "      <td>ND022</td>\n",
       "      <td>1946.500000</td>\n",
       "      <td>2004.833333</td>\n",
       "      <td>0.075001</td>\n",
       "      <td>0.004711</td>\n",
       "      <td>62.0</td>\n",
       "      <td>N</td>\n",
       "      <td>58.333333</td>\n",
       "      <td>2n4n</td>\n",
       "    </tr>\n",
       "  </tbody>\n",
       "</table>\n",
       "</div>"
      ],
      "text/plain": [
       "         type code sample       Dbirth        Dcoll      d14C  \\\n",
       "0    unsorted  PH1  ND380  1942.833333  2016.416667  0.078416   \n",
       "1    unsorted  PH2  ND388  1991.416667  2016.833333  0.025254   \n",
       "2  hepatocyte  PH3  ND381  1985.166667  2016.416667  0.040336   \n",
       "3  hepatocyte  PH4  ND382  1982.083333  2016.500000  0.018815   \n",
       "4  hepatocyte  PH6  ND022  1946.500000  2004.833333  0.075001   \n",
       "\n",
       "   error_measurement  N_cells pathology  subject_age ploidy  \n",
       "0           0.003981      NaN         N    73.583333   2n4n  \n",
       "1           0.003912      NaN         N    25.416667   2n4n  \n",
       "2           0.008788     58.0         N    31.250000   2n4n  \n",
       "3           0.005342     52.0         N    34.416667   2n4n  \n",
       "4           0.004711     62.0         N    58.333333   2n4n  "
      ]
     },
     "execution_count": 16,
     "metadata": {},
     "output_type": "execute_result"
    }
   ],
   "source": [
    "c14_patient_data = pd.read_excel('../../data/C14data_liver_samples_20190502.xlsx')[\n",
    "    ['sort', 'Code', 'sample', 'DOB', 'DOA', u'Δ 14C', 'Error, 2 s', 'no sorted', 'Pathology']]\n",
    "c14_patient_data.columns = ['type', 'code', 'sample', 'Dbirth', 'Dcoll', 'd14C', 'error_measurement', 'N_cells', 'pathology']\n",
    "\n",
    "c14_patient_data['d14C'] /= 1000.0\n",
    "c14_patient_data['error_measurement'] /= 1000.0 # convert unit\n",
    "c14_patient_data['error_measurement'] /= 2.0 # convert to 1s error\n",
    "c14_patient_data['subject_age'] = c14_patient_data['Dcoll'] - c14_patient_data['Dbirth']\n",
    "\n",
    "def convert_N_cell_entry(x):\n",
    "    if isinstance(x, float):\n",
    "        return x\n",
    "    elif x[-1] == '2':\n",
    "        return float(x.rstrip(' mio /2')) / 2\n",
    "    else:\n",
    "        return float(x.rstrip(' mio'))\n",
    "\n",
    "c14_patient_data['N_cells'] = c14_patient_data['N_cells'].apply(convert_N_cell_entry)\n",
    "\n",
    "c14_patient_data.loc[c14_patient_data['type'] == 'HNF4α -', 'type'] = 'non-hepatocyte'\n",
    "\n",
    "c14_patient_data['ploidy'] = '2n4n'\n",
    "for type_ in ['2n', '4n']:\n",
    "    c14_patient_data.loc[c14_patient_data['type'].str.startswith(type_), 'ploidy'] = type_\n",
    "    c14_patient_data.loc[c14_patient_data['type'].str.startswith(type_), 'type'] = 'hepatocyte'\n",
    "\n",
    "\n",
    "c14_patient_data['type'] = pd.Categorical(c14_patient_data['type'])\n",
    "c14_patient_data['code'] = pd.Categorical(c14_patient_data['code'])\n",
    "c14_patient_data['sample'] = pd.Categorical(c14_patient_data['sample'])\n",
    "c14_patient_data['pathology'] = pd.Categorical(c14_patient_data['pathology'])\n",
    "\n",
    "c14_patient_data.head()"
   ]
  },
  {
   "cell_type": "markdown",
   "metadata": {},
   "source": [
    "Drop the patient with unknown age"
   ]
  },
  {
   "cell_type": "code",
   "execution_count": 17,
   "metadata": {},
   "outputs": [],
   "source": [
    "c14_patient_data = c14_patient_data[c14_patient_data['Dbirth'].notna()]"
   ]
  },
  {
   "cell_type": "code",
   "execution_count": 18,
   "metadata": {
    "ExecuteTime": {
     "end_time": "2018-12-05T11:02:30.169214Z",
     "start_time": "2018-12-05T11:02:30.133291Z"
    }
   },
   "outputs": [],
   "source": [
    "c14_patient_data.to_csv(f'../../results/C14data_liver_samples_20190502.csv', index=False)\n",
    "c14_patient_data.to_pickle(f'../../results/C14data_liver_samples_20190502.pkl')"
   ]
  },
  {
   "cell_type": "code",
   "execution_count": 19,
   "metadata": {
    "ExecuteTime": {
     "end_time": "2018-12-05T11:02:57.263092Z",
     "start_time": "2018-12-05T11:02:57.245185Z"
    }
   },
   "outputs": [
    {
     "data": {
      "text/plain": [
       "0      unsorted\n",
       "1      unsorted\n",
       "2    hepatocyte\n",
       "3    hepatocyte\n",
       "4    hepatocyte\n",
       "Name: type, dtype: object"
      ]
     },
     "execution_count": 19,
     "metadata": {},
     "output_type": "execute_result"
    }
   ],
   "source": [
    "pd.read_csv(f'../../results/C14data_liver_samples_20190502.csv')['type'].head()"
   ]
  },
  {
   "cell_type": "code",
   "execution_count": 20,
   "metadata": {
    "ExecuteTime": {
     "end_time": "2018-12-05T11:03:04.585173Z",
     "start_time": "2018-12-05T11:03:04.568132Z"
    }
   },
   "outputs": [
    {
     "data": {
      "text/plain": [
       "0      unsorted\n",
       "1      unsorted\n",
       "2    hepatocyte\n",
       "3    hepatocyte\n",
       "4    hepatocyte\n",
       "Name: type, dtype: category\n",
       "Categories (3, object): [hepatocyte, non-hepatocyte, unsorted]"
      ]
     },
     "execution_count": 20,
     "metadata": {},
     "output_type": "execute_result"
    }
   ],
   "source": [
    "pd.read_pickle(f'../../results/C14data_liver_samples_20190502.pkl')['type'].head()"
   ]
  },
  {
   "cell_type": "code",
   "execution_count": 21,
   "metadata": {},
   "outputs": [
    {
     "data": {
      "text/html": [
       "<div>\n",
       "<style scoped>\n",
       "    .dataframe tbody tr th:only-of-type {\n",
       "        vertical-align: middle;\n",
       "    }\n",
       "\n",
       "    .dataframe tbody tr th {\n",
       "        vertical-align: top;\n",
       "    }\n",
       "\n",
       "    .dataframe thead th {\n",
       "        text-align: right;\n",
       "    }\n",
       "</style>\n",
       "<table border=\"1\" class=\"dataframe\">\n",
       "  <thead>\n",
       "    <tr style=\"text-align: right;\">\n",
       "      <th></th>\n",
       "      <th>type</th>\n",
       "      <th>code</th>\n",
       "      <th>sample</th>\n",
       "      <th>Dbirth</th>\n",
       "      <th>Dcoll</th>\n",
       "      <th>d14C</th>\n",
       "      <th>error_measurement</th>\n",
       "      <th>N_cells</th>\n",
       "      <th>pathology</th>\n",
       "      <th>subject_age</th>\n",
       "      <th>ploidy</th>\n",
       "    </tr>\n",
       "  </thead>\n",
       "  <tbody>\n",
       "    <tr>\n",
       "      <th>0</th>\n",
       "      <td>unsorted</td>\n",
       "      <td>PH1</td>\n",
       "      <td>ND380</td>\n",
       "      <td>1942.833333</td>\n",
       "      <td>2016.416667</td>\n",
       "      <td>0.078416</td>\n",
       "      <td>0.003981</td>\n",
       "      <td>NaN</td>\n",
       "      <td>N</td>\n",
       "      <td>73.583333</td>\n",
       "      <td>2n4n</td>\n",
       "    </tr>\n",
       "    <tr>\n",
       "      <th>1</th>\n",
       "      <td>unsorted</td>\n",
       "      <td>PH2</td>\n",
       "      <td>ND388</td>\n",
       "      <td>1991.416667</td>\n",
       "      <td>2016.833333</td>\n",
       "      <td>0.025254</td>\n",
       "      <td>0.003912</td>\n",
       "      <td>NaN</td>\n",
       "      <td>N</td>\n",
       "      <td>25.416667</td>\n",
       "      <td>2n4n</td>\n",
       "    </tr>\n",
       "    <tr>\n",
       "      <th>2</th>\n",
       "      <td>hepatocyte</td>\n",
       "      <td>PH3</td>\n",
       "      <td>ND381</td>\n",
       "      <td>1985.166667</td>\n",
       "      <td>2016.416667</td>\n",
       "      <td>0.040336</td>\n",
       "      <td>0.008788</td>\n",
       "      <td>58.0</td>\n",
       "      <td>N</td>\n",
       "      <td>31.250000</td>\n",
       "      <td>2n4n</td>\n",
       "    </tr>\n",
       "    <tr>\n",
       "      <th>3</th>\n",
       "      <td>hepatocyte</td>\n",
       "      <td>PH4</td>\n",
       "      <td>ND382</td>\n",
       "      <td>1982.083333</td>\n",
       "      <td>2016.500000</td>\n",
       "      <td>0.018815</td>\n",
       "      <td>0.005342</td>\n",
       "      <td>52.0</td>\n",
       "      <td>N</td>\n",
       "      <td>34.416667</td>\n",
       "      <td>2n4n</td>\n",
       "    </tr>\n",
       "    <tr>\n",
       "      <th>4</th>\n",
       "      <td>hepatocyte</td>\n",
       "      <td>PH6</td>\n",
       "      <td>ND022</td>\n",
       "      <td>1946.500000</td>\n",
       "      <td>2004.833333</td>\n",
       "      <td>0.075001</td>\n",
       "      <td>0.004711</td>\n",
       "      <td>62.0</td>\n",
       "      <td>N</td>\n",
       "      <td>58.333333</td>\n",
       "      <td>2n4n</td>\n",
       "    </tr>\n",
       "  </tbody>\n",
       "</table>\n",
       "</div>"
      ],
      "text/plain": [
       "         type code sample       Dbirth        Dcoll      d14C  \\\n",
       "0    unsorted  PH1  ND380  1942.833333  2016.416667  0.078416   \n",
       "1    unsorted  PH2  ND388  1991.416667  2016.833333  0.025254   \n",
       "2  hepatocyte  PH3  ND381  1985.166667  2016.416667  0.040336   \n",
       "3  hepatocyte  PH4  ND382  1982.083333  2016.500000  0.018815   \n",
       "4  hepatocyte  PH6  ND022  1946.500000  2004.833333  0.075001   \n",
       "\n",
       "   error_measurement  N_cells pathology  subject_age ploidy  \n",
       "0           0.003981      NaN         N    73.583333   2n4n  \n",
       "1           0.003912      NaN         N    25.416667   2n4n  \n",
       "2           0.008788     58.0         N    31.250000   2n4n  \n",
       "3           0.005342     52.0         N    34.416667   2n4n  \n",
       "4           0.004711     62.0         N    58.333333   2n4n  "
      ]
     },
     "execution_count": 21,
     "metadata": {},
     "output_type": "execute_result"
    }
   ],
   "source": [
    "pd.read_pickle(f'../../results/C14data_liver_samples_20190502.pkl').head()"
   ]
  },
  {
   "cell_type": "markdown",
   "metadata": {},
   "source": [
    "# Old"
   ]
  },
  {
   "cell_type": "code",
   "execution_count": null,
   "metadata": {},
   "outputs": [],
   "source": [
    "# # 20180505\n",
    "\n",
    "# c14_patient_data = pd.read_excel('../../data/C14data_liver_samples_20180505.xlsx', \n",
    "#                                  usecols=[0, 1, 2, 3, 5, 6, 8, 9, 10])[\n",
    "#     ['sort', 'Code', 'sample', 'DOB', 'DOA', u'Δ 14C', 'Error, 2 s', 'no sorted', 'Pathology']]\n",
    "# c14_patient_data.columns = ['type', 'code', 'sample', 'Dbirth', 'Dcoll', 'd14C', 'error_measurement', 'N_cells', 'pathology']\n",
    "\n",
    "# c14_patient_data['d14C'] /= 1000.0\n",
    "# c14_patient_data['error_measurement'] /= 1000.0 # convert unit\n",
    "# c14_patient_data['error_measurement'] /= 2.0 # convert to 1s error\n",
    "# c14_patient_data['subject_age'] = c14_patient_data['Dcoll'] - c14_patient_data['Dbirth']\n",
    "\n",
    "# invalid_codes = ['PH14', 'PH20', 'PH45', 'PH46']\n",
    "# c14_patient_data['valid'] = np.logical_not(c14_patient_data['code'].isin(invalid_codes))\n",
    "\n",
    "# c14_patient_data['type'] = pd.Categorical(c14_patient_data['type'])\n",
    "# c14_patient_data['code'] = pd.Categorical(c14_patient_data['code'])\n",
    "# c14_patient_data['sample'] = pd.Categorical(c14_patient_data['sample'])\n",
    "# c14_patient_data['pathology'] = pd.Categorical(c14_patient_data['pathology'])\n",
    "\n",
    "# def convert_N_cell_entry(x):\n",
    "#     if isinstance(x, float):\n",
    "#         return x\n",
    "#     elif x[-1] == '2':\n",
    "#         return float(x.rstrip(' mio /2')) / 2\n",
    "#     else:\n",
    "#         return float(x.rstrip(' mio'))\n",
    "\n",
    "# c14_patient_data['N_cells'] = c14_patient_data['N_cells'].apply(convert_N_cell_entry)\n",
    "\n",
    "# c14_patient_data.loc[c14_patient_data['type'] == 'HNF4α -', 'type'] = 'non-hepatocyte'\n",
    "# c14_patient_data['type'].cat.remove_unused_categories(inplace=True)\n",
    "    \n",
    "# c14_patient_data.head()\n",
    "\n",
    "# c14_patient_data.to_csv(f'../../results/C14data_liver_samples_{datetime.date.today().isoformat()}.csv', index=False)\n",
    "# c14_patient_data.to_pickle(f'../../results/C14data_liver_samples_{datetime.date.today().isoformat()}.pkl')\n",
    "\n",
    "# pd.read_csv('../../results/C14data_liver_samples_2018-12-05.csv')['type'].head()\n",
    "\n",
    "# pd.read_pickle('../../results/C14data_liver_samples_2018-12-05.pkl')['type'].head()\n",
    "\n",
    "# # 20190307\n",
    "\n",
    "# c14_patient_data = pd.read_excel('../../data/C14data_liver_samples_20190307.xlsx', \n",
    "#                                  usecols=[0, 1, 2, 3, 5, 6, 8, 9, 10])[\n",
    "#     ['sort', 'Code', 'sample', 'DOB', 'DOA', u'Δ 14C', 'Error, 2 s', 'no sorted', 'Pathology']]\n",
    "# c14_patient_data.columns = ['type', 'code', 'sample', 'Dbirth', 'Dcoll', 'd14C', 'error_measurement', 'N_cells', 'pathology']\n",
    "\n",
    "# c14_patient_data['d14C'] /= 1000.0\n",
    "# c14_patient_data['error_measurement'] /= 1000.0 # convert unit\n",
    "# c14_patient_data['error_measurement'] /= 2.0 # convert to 1s error\n",
    "# c14_patient_data['subject_age'] = c14_patient_data['Dcoll'] - c14_patient_data['Dbirth']\n",
    "\n",
    "# # invalid_codes = ['PH14', 'PH20', 'PH45', 'PH46']\n",
    "# # c14_patient_data['valid'] = np.logical_not(c14_patient_data['code'].isin(invalid_codes))\n",
    "\n",
    "# c14_patient_data['type'] = pd.Categorical(c14_patient_data['type'])\n",
    "# c14_patient_data['code'] = pd.Categorical(c14_patient_data['code'])\n",
    "# c14_patient_data['sample'] = pd.Categorical(c14_patient_data['sample'])\n",
    "# c14_patient_data['pathology'] = pd.Categorical(c14_patient_data['pathology'])\n",
    "\n",
    "# def convert_N_cell_entry(x):\n",
    "#     if isinstance(x, float):\n",
    "#         return x\n",
    "#     elif x[-1] == '2':\n",
    "#         return float(x.rstrip(' mio /2')) / 2\n",
    "#     else:\n",
    "#         return float(x.rstrip(' mio'))\n",
    "\n",
    "# c14_patient_data['N_cells'] = c14_patient_data['N_cells'].apply(convert_N_cell_entry)\n",
    "\n",
    "# c14_patient_data.loc[c14_patient_data['type'] == 'HNF4α -', 'type'] = 'non-hepatocyte'\n",
    "# c14_patient_data['type'].cat.remove_unused_categories(inplace=True)\n",
    "    \n",
    "# c14_patient_data.head()\n",
    "\n",
    "# Drop the patient with unknown age\n",
    "\n",
    "# c14_patient_data[c14_patient_data.drop('N_cells', axis=1).isna().any(axis='columns')]\n",
    "\n",
    "# c14_patient_data = c14_patient_data[c14_patient_data['Dbirth'].notna()]\n",
    "\n",
    "# c14_patient_data.to_csv(f'../../results/C14data_liver_samples_{datetime.date.today().isoformat()}.csv', index=False)\n",
    "# c14_patient_data.to_pickle(f'../../results/C14data_liver_samples_{datetime.date.today().isoformat()}.pkl')\n",
    "\n",
    "# pd.read_csv('../../results/C14data_liver_samples_2019-03-22.csv')['type'].head()\n",
    "\n",
    "# pd.read_pickle('../../results/C14data_liver_samples_2019-03-22.pkl')['type'].head()\n",
    "\n",
    "# # 20190326\n",
    "\n",
    "# pd.read_excel('../../data/C14data_liver_samples_20190326.xlsx').head()\n",
    "\n",
    "# c14_patient_data = pd.read_excel('../../data/C14data_liver_samples_20190326.xlsx')[\n",
    "#     ['sort', 'Code', 'sample', 'DOB', 'DOA', u'Δ 14C', 'Error, 2 s', 'no sorted', 'Pathology']]\n",
    "# c14_patient_data.columns = ['type', 'code', 'sample', 'Dbirth', 'Dcoll', 'd14C', 'error_measurement', 'N_cells', 'pathology']\n",
    "\n",
    "# c14_patient_data['d14C'] /= 1000.0\n",
    "# c14_patient_data['error_measurement'] /= 1000.0 # convert unit\n",
    "# c14_patient_data['error_measurement'] /= 2.0 # convert to 1s error\n",
    "# c14_patient_data['subject_age'] = c14_patient_data['Dcoll'] - c14_patient_data['Dbirth']\n",
    "\n",
    "# def convert_N_cell_entry(x):\n",
    "#     if isinstance(x, float):\n",
    "#         return x\n",
    "#     elif x[-1] == '2':\n",
    "#         return float(x.rstrip(' mio /2')) / 2\n",
    "#     else:\n",
    "#         return float(x.rstrip(' mio'))\n",
    "\n",
    "# c14_patient_data['N_cells'] = c14_patient_data['N_cells'].apply(convert_N_cell_entry)\n",
    "\n",
    "# c14_patient_data.loc[c14_patient_data['type'] == 'HNF4α -', 'type'] = 'non-hepatocyte'\n",
    "\n",
    "# c14_patient_data['ploidy'] = '2n4n'\n",
    "# for type_ in ['2n', '4n']:\n",
    "#     c14_patient_data.loc[c14_patient_data['type'].str.startswith(type_), 'ploidy'] = type_\n",
    "#     c14_patient_data.loc[c14_patient_data['type'].str.startswith(type_), 'type'] = 'hepatocyte'\n",
    "\n",
    "\n",
    "# c14_patient_data['type'] = pd.Categorical(c14_patient_data['type'])\n",
    "# c14_patient_data['code'] = pd.Categorical(c14_patient_data['code'])\n",
    "# c14_patient_data['sample'] = pd.Categorical(c14_patient_data['sample'])\n",
    "# c14_patient_data['pathology'] = pd.Categorical(c14_patient_data['pathology'])\n",
    "\n",
    "# c14_patient_data.head()\n",
    "\n",
    "# Drop the patient with unknown age\n",
    "\n",
    "# c14_patient_data = c14_patient_data[c14_patient_data['Dbirth'].notna()]\n",
    "\n",
    "# c14_patient_data.to_csv(f'../../results/C14data_liver_samples_{datetime.date.today().isoformat()}.csv', index=False)\n",
    "# c14_patient_data.to_pickle(f'../../results/C14data_liver_samples_{datetime.date.today().isoformat()}.pkl')\n",
    "\n",
    "# pd.read_csv('../../results/C14data_liver_samples_2019-04-05.csv')['type'].head()\n",
    "\n",
    "# pd.read_pickle('../../results/C14data_liver_samples_2019-04-05.pkl')['type'].head()\n",
    "\n",
    "# pd.read_pickle('../../results/C14data_liver_samples_2019-04-05.pkl').head()\n",
    "\n"
   ]
  }
 ],
 "metadata": {
  "hide_input": false,
  "kernelspec": {
   "display_name": "Python [conda env:spols200116] *",
   "language": "python",
   "name": "conda-env-spols200116-py"
  },
  "language_info": {
   "codemirror_mode": {
    "name": "ipython",
    "version": 3
   },
   "file_extension": ".py",
   "mimetype": "text/x-python",
   "name": "python",
   "nbconvert_exporter": "python",
   "pygments_lexer": "ipython3",
   "version": "3.7.6"
  },
  "toc": {
   "nav_menu": {},
   "number_sections": true,
   "sideBar": true,
   "skip_h1_title": false,
   "title_cell": "Table of Contents",
   "title_sidebar": "Contents",
   "toc_cell": false,
   "toc_position": {},
   "toc_section_display": true,
   "toc_window_display": false
  }
 },
 "nbformat": 4,
 "nbformat_minor": 4
}
