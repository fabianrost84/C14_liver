{
 "cells": [
  {
   "cell_type": "markdown",
   "metadata": {},
   "source": [
    "# Preparation"
   ]
  },
  {
   "cell_type": "code",
   "execution_count": 1,
   "metadata": {
    "ExecuteTime": {
     "end_time": "2019-02-11T14:46:07.366972Z",
     "start_time": "2019-02-11T14:46:02.777228Z"
    }
   },
   "outputs": [
    {
     "name": "stderr",
     "output_type": "stream",
     "text": [
      "/home/fabrost/miniconda3/envs/spols190117/lib/python3.6/site-packages/IPython/config.py:13: ShimWarning: The `IPython.config` package has been deprecated since IPython 4.0. You should import from traitlets.config instead.\n",
      "  \"You should import from traitlets.config instead.\", ShimWarning)\n",
      "/home/fabrost/miniconda3/envs/spols190117/lib/python3.6/site-packages/ipycache.py:17: UserWarning: IPython.utils.traitlets has moved to a top-level traitlets package.\n",
      "  from IPython.utils.traitlets import Unicode\n"
     ]
    },
    {
     "name": "stdout",
     "output_type": "stream",
     "text": [
      "2019-03-06T12:03:42+01:00\n",
      "\n",
      "CPython 3.6.8\n",
      "IPython 7.2.0\n",
      "\n",
      "compiler   : GCC 7.3.0\n",
      "system     : Linux\n",
      "release    : 4.4.172-86-default\n",
      "machine    : x86_64\n",
      "processor  : x86_64\n",
      "CPU cores  : 8\n",
      "interpreter: 64bit\n",
      "pandas 0.23.4\n",
      "scipy 1.2.0\n"
     ]
    }
   ],
   "source": [
    "%load_ext ipycache\n",
    "import iminuit\n",
    "import joblib\n",
    "%load_ext line_profiler\n",
    "import matplotlib.pyplot as plt\n",
    "%matplotlib inline\n",
    "import multiprocessing\n",
    "import numba\n",
    "import numpy as np\n",
    "import pandas as pd\n",
    "import pymp\n",
    "%load_ext rpy2.ipython\n",
    "import scipy as sp\n",
    "from scipy import optimize\n",
    "import seaborn as sns\n",
    "\n",
    "sns.set_style('darkgrid')\n",
    "sns.set_context('notebook')\n",
    "\n",
    "%load_ext watermark\n",
    "%watermark\n",
    "%watermark -p pandas,scipy"
   ]
  },
  {
   "cell_type": "code",
   "execution_count": 2,
   "metadata": {
    "ExecuteTime": {
     "end_time": "2019-02-11T14:46:07.366972Z",
     "start_time": "2019-02-11T14:46:02.777228Z"
    }
   },
   "outputs": [],
   "source": [
    "cachedir = '/scratch/cache/'"
   ]
  },
  {
   "cell_type": "code",
   "execution_count": 3,
   "metadata": {
    "ExecuteTime": {
     "end_time": "2019-02-11T14:46:07.373499Z",
     "start_time": "2019-02-11T14:46:07.369567Z"
    }
   },
   "outputs": [],
   "source": [
    "results = pd.DataFrame()"
   ]
  },
  {
   "cell_type": "markdown",
   "metadata": {},
   "source": [
    "# atmospheric C14"
   ]
  },
  {
   "cell_type": "code",
   "execution_count": 4,
   "metadata": {
    "ExecuteTime": {
     "end_time": "2019-02-11T14:46:07.422690Z",
     "start_time": "2019-02-11T14:46:07.375523Z"
    }
   },
   "outputs": [],
   "source": [
    "xp = np.array([ 1891.5, 1892.5, 1893.5, 1894.5, 1895.5, 1896.5, 1897.5, 1898.5, 1899.5, 1900.5, 1901.5, 1902.5, 1903.5, 1904.5, 1905.5, 1906.5, 1907.5, 1908.5, 1909.5, 1910.5, 1911.5, 1912.5, 1913.5, 1914.5, 1915.5, 1916.5, 1917.5, 1918.5, 1919.5, 1920.5, 1921.5, 1922.5, 1923.5, 1924.5, 1925.5, 1926.5, 1927.5, 1928.5, 1929.5, 1930.5, 1931.5, 1932.5, 1933.5, 1934.5, 1935.5, 1936.5, 1937.5, 1938.5, 1939.5, 1940.5, 1941.5, 1942.5, 1943.5, 1944.5, 1945.5, 1946.5, 1947.5, 1948.5, 1949.5, 1950.5, 1951.5, 1952.5, 1953.5, 1954.5, 1955.5, 1956.5, 1957.5, 1958.5, 1959.5, 1960.5, 1961.5, 1962.5, 1963.5, 1964.5, 1965.5, 1966.5, 1967.5, 1968.5, 1969.5, 1970.5, 1971.5, 1972.5, 1973.5, 1974.5, 1975.5, 1976.5, 1977.5, 1978.5, 1979.5, 1980.5, 1981.5, 1982.5, 1983.5, 1984.5, 1985.5, 1986.5, 1987.5, 1988.5, 1989.5, 1990.5, 1991.5, 1992.5, 1993.5, 1994.5, 1995.5, 1996.5, 1997.5, 1998.5, 1999.5, 2000.5, 2001.5, 2002.5, 2003.5, 2003.963938,  2004.421821,  2004.879704, 2005.337587,  2005.79547 ,  2006.253353,  2006.711236, 2007.169119,  2007.627002,  2008.084885,  2008.542768, 2009.000651,  2009.458534,  2009.916417,  2010.3743  , 2010.3743  ,  2010.626   ,  2011.125   ,  2011.626   , 2012.125   ,  2012.626   ,  2013.125   ,  2013.626   , 2014.125   ,  2014.626   ,  2015.125   ,  2015.625   , 2016.125   ,  2016.625   ,  2020.      ])\n",
    "fp = np.array([-0.002     , -0.002     , -0.002     , -0.002     , -0.002     , -0.00233   , -0.00267   , -0.003     , -0.00333   , -0.00367   , -0.004     , -0.00433   , -0.00467   , -0.005     , -0.00533   , -0.00567   , -0.006     , -0.00633   , -0.00667   , -0.007     , -0.00733   , -0.00767   , -0.008     , -0.00833   , -0.00867   , -0.009     , -0.00933   , -0.00967   , -0.01      , -0.01033   , -0.01067   , -0.011     , -0.01133   , -0.01167   , -0.012     , -0.01233   , -0.01267   , -0.013     , -0.01333   , -0.01367   , -0.014     , -0.01433   , -0.01467   , -0.015     , -0.01533   , -0.01567   , -0.016     , -0.01633   , -0.01667   , -0.0202    , -0.0194    , -0.0196    , -0.0225    , -0.0217    , -0.0221    , -0.0216    , -0.0211    , -0.0223    , -0.0246    , -0.0248    , -0.0248    , -0.0249    , -0.0239    , -0.0211    , -0.0082    , 0.0265    ,  0.073     ,  0.1402    ,  0.228     ,  0.2123    , 0.2216    ,  0.3585    ,  0.7183    ,  0.8357    ,  0.7563    , 0.6919    ,  0.6236    ,  0.5645    ,  0.5454    ,  0.5291    , 0.4994    ,  0.4656    ,  0.4186    ,  0.4008    ,  0.3698    , 0.3525    ,  0.3339    ,  0.3258    ,  0.2958    ,  0.2645    , 0.2567    ,  0.2383    ,  0.2242    ,  0.2093    ,  0.2013    , 0.1911    ,  0.1826    ,  0.1734    ,  0.1635    ,  0.1525    , 0.1429    ,  0.1364    ,  0.1284    ,  0.1221    ,  0.1155    , 0.1099    ,  0.1043    ,  0.0981    ,  0.09      ,  0.0866    , 0.0807    ,  0.0749    ,  0.0689    ,  0.06349874,  0.06145905, 0.0597412 ,  0.05822747,  0.05641489,  0.05479531,  0.05364811, 0.05205465,  0.05067073,  0.04927897,  0.04788014,  0.04647508, 0.04506462,  0.04364948,  0.04223027,  0.04223027,  0.0403    , 0.0347    ,  0.0371    ,  0.0312    ,  0.0299    ,  0.0193    , 0.0219    ,  0.0182    ,  0.018     ,  0.0116    ,  0.0129    , 0.0096    ,  0.0097    ,  0.0097    ])\n",
    "C_atm = lambda x: sp.interp(x, xp+1, fp)"
   ]
  },
  {
   "cell_type": "code",
   "execution_count": 5,
   "metadata": {
    "ExecuteTime": {
     "end_time": "2019-02-11T14:46:07.621834Z",
     "start_time": "2019-02-11T14:46:07.425729Z"
    }
   },
   "outputs": [
    {
     "data": {
      "image/png": "[encoded data removed]",
      "text/plain": [
       "<Figure size 432x288 with 1 Axes>"
      ]
     },
     "metadata": {
      "needs_background": "light"
     },
     "output_type": "display_data"
    }
   ],
   "source": [
    "tt = np.linspace(1900, 2020)\n",
    "plt.plot(tt, C_atm(tt))\n",
    "plt.xlabel('Year')\n",
    "plt.ylabel('atm. C14')\n",
    "plt.show()"
   ]
  },
  {
   "cell_type": "markdown",
   "metadata": {},
   "source": [
    "# Ploidy"
   ]
  },
  {
   "cell_type": "code",
   "execution_count": 6,
   "metadata": {
    "ExecuteTime": {
     "end_time": "2019-02-11T14:46:07.689475Z",
     "start_time": "2019-02-11T14:46:07.624734Z"
    }
   },
   "outputs": [],
   "source": [
    "ploidy_data = pd.read_excel('../../data/kudryavtsev_et_al_1993_table_2.xlsx')"
   ]
  },
  {
   "cell_type": "code",
   "execution_count": 7,
   "metadata": {
    "ExecuteTime": {
     "end_time": "2019-02-11T14:46:07.711965Z",
     "start_time": "2019-02-11T14:46:07.691174Z"
    }
   },
   "outputs": [],
   "source": [
    "ploidy_data['age'] = ploidy_data[['age_min', 'age_max']].mean(axis='columns')\n",
    "ploidy_data['2C_mean'] /= 100.0\n",
    "ploidy_data['2C_sem'] /= 100.0"
   ]
  },
  {
   "cell_type": "code",
   "execution_count": 8,
   "metadata": {
    "ExecuteTime": {
     "end_time": "2019-02-11T14:46:07.716542Z",
     "start_time": "2019-02-11T14:46:07.713728Z"
    }
   },
   "outputs": [],
   "source": [
    "ploidy = sp.interpolate.UnivariateSpline(ploidy_data['age'].values,\n",
    "                                ploidy_data['2C_mean'].values,\n",
    "                               ext=3)"
   ]
  },
  {
   "cell_type": "code",
   "execution_count": 9,
   "metadata": {
    "ExecuteTime": {
     "end_time": "2019-02-11T14:46:07.924191Z",
     "start_time": "2019-02-11T14:46:07.717992Z"
    }
   },
   "outputs": [
    {
     "data": {
      "image/png": "[encoded data removed]",
      "text/plain": [
       "<Figure size 432x288 with 1 Axes>"
      ]
     },
     "metadata": {
      "needs_background": "light"
     },
     "output_type": "display_data"
    }
   ],
   "source": [
    "tt = np.linspace(0, 120, 1000)\n",
    "plt.errorbar(ploidy_data['age'].values, ploidy_data['2C_mean'].values, ploidy_data['2C_sem'].values, label='data')\n",
    "plt.plot(tt, ploidy(tt), label='spline')\n",
    "plt.xlabel('age (years)')\n",
    "plt.ylabel('ploidy: fraction 2n')\n",
    "plt.legend()\n",
    "plt.show()"
   ]
  },
  {
   "cell_type": "markdown",
   "metadata": {},
   "source": [
    "# Read patient data"
   ]
  },
  {
   "cell_type": "code",
   "execution_count": 10,
   "metadata": {
    "ExecuteTime": {
     "end_time": "2019-02-11T14:46:07.936960Z",
     "start_time": "2019-02-11T14:46:07.927873Z"
    }
   },
   "outputs": [],
   "source": [
    "c14_patient_data = pd.read_pickle('../../results/C14data_liver_samples_20180505.pkl')"
   ]
  },
  {
   "cell_type": "code",
   "execution_count": 11,
   "metadata": {
    "ExecuteTime": {
     "end_time": "2019-02-11T14:46:07.974442Z",
     "start_time": "2019-02-11T14:46:07.940356Z"
    }
   },
   "outputs": [
    {
     "data": {
      "text/html": [
       "<div>\n",
       "<style scoped>\n",
       "    .dataframe tbody tr th:only-of-type {\n",
       "        vertical-align: middle;\n",
       "    }\n",
       "\n",
       "    .dataframe tbody tr th {\n",
       "        vertical-align: top;\n",
       "    }\n",
       "\n",
       "    .dataframe thead th {\n",
       "        text-align: right;\n",
       "    }\n",
       "</style>\n",
       "<table border=\"1\" class=\"dataframe\">\n",
       "  <thead>\n",
       "    <tr style=\"text-align: right;\">\n",
       "      <th></th>\n",
       "      <th>type</th>\n",
       "      <th>code</th>\n",
       "      <th>sample</th>\n",
       "      <th>Dbirth</th>\n",
       "      <th>Dcoll</th>\n",
       "      <th>d14C</th>\n",
       "      <th>error_measurement</th>\n",
       "      <th>N_cells</th>\n",
       "      <th>pathology</th>\n",
       "      <th>subject_age</th>\n",
       "      <th>valid</th>\n",
       "    </tr>\n",
       "  </thead>\n",
       "  <tbody>\n",
       "    <tr>\n",
       "      <th>0</th>\n",
       "      <td>unsorted</td>\n",
       "      <td>PH1</td>\n",
       "      <td>ND380</td>\n",
       "      <td>1942.833333</td>\n",
       "      <td>2016.416667</td>\n",
       "      <td>0.078416</td>\n",
       "      <td>0.003981</td>\n",
       "      <td>NaN</td>\n",
       "      <td>N</td>\n",
       "      <td>73.583333</td>\n",
       "      <td>True</td>\n",
       "    </tr>\n",
       "    <tr>\n",
       "      <th>1</th>\n",
       "      <td>unsorted</td>\n",
       "      <td>PH2</td>\n",
       "      <td>ND388</td>\n",
       "      <td>1991.416667</td>\n",
       "      <td>2016.833333</td>\n",
       "      <td>0.025254</td>\n",
       "      <td>0.003912</td>\n",
       "      <td>NaN</td>\n",
       "      <td>N</td>\n",
       "      <td>25.416667</td>\n",
       "      <td>True</td>\n",
       "    </tr>\n",
       "    <tr>\n",
       "      <th>2</th>\n",
       "      <td>hepatocyte</td>\n",
       "      <td>PH3</td>\n",
       "      <td>ND381</td>\n",
       "      <td>1985.166667</td>\n",
       "      <td>2016.416667</td>\n",
       "      <td>0.040336</td>\n",
       "      <td>0.008788</td>\n",
       "      <td>58.0</td>\n",
       "      <td>N</td>\n",
       "      <td>31.250000</td>\n",
       "      <td>True</td>\n",
       "    </tr>\n",
       "    <tr>\n",
       "      <th>3</th>\n",
       "      <td>hepatocyte</td>\n",
       "      <td>PH4</td>\n",
       "      <td>ND382</td>\n",
       "      <td>1982.083333</td>\n",
       "      <td>2016.500000</td>\n",
       "      <td>0.018815</td>\n",
       "      <td>0.005342</td>\n",
       "      <td>52.0</td>\n",
       "      <td>N</td>\n",
       "      <td>34.416667</td>\n",
       "      <td>True</td>\n",
       "    </tr>\n",
       "    <tr>\n",
       "      <th>4</th>\n",
       "      <td>hepatocyte</td>\n",
       "      <td>PH6</td>\n",
       "      <td>ND022</td>\n",
       "      <td>1946.500000</td>\n",
       "      <td>2004.833333</td>\n",
       "      <td>0.075001</td>\n",
       "      <td>0.004711</td>\n",
       "      <td>62.0</td>\n",
       "      <td>N</td>\n",
       "      <td>58.333333</td>\n",
       "      <td>True</td>\n",
       "    </tr>\n",
       "  </tbody>\n",
       "</table>\n",
       "</div>"
      ],
      "text/plain": [
       "         type code sample       Dbirth        Dcoll      d14C  \\\n",
       "0    unsorted  PH1  ND380  1942.833333  2016.416667  0.078416   \n",
       "1    unsorted  PH2  ND388  1991.416667  2016.833333  0.025254   \n",
       "2  hepatocyte  PH3  ND381  1985.166667  2016.416667  0.040336   \n",
       "3  hepatocyte  PH4  ND382  1982.083333  2016.500000  0.018815   \n",
       "4  hepatocyte  PH6  ND022  1946.500000  2004.833333  0.075001   \n",
       "\n",
       "   error_measurement  N_cells pathology  subject_age  valid  \n",
       "0           0.003981      NaN         N    73.583333   True  \n",
       "1           0.003912      NaN         N    25.416667   True  \n",
       "2           0.008788     58.0         N    31.250000   True  \n",
       "3           0.005342     52.0         N    34.416667   True  \n",
       "4           0.004711     62.0         N    58.333333   True  "
      ]
     },
     "execution_count": 11,
     "metadata": {},
     "output_type": "execute_result"
    }
   ],
   "source": [
    "c14_patient_data.head()"
   ]
  },
  {
   "cell_type": "code",
   "execution_count": 12,
   "metadata": {
    "ExecuteTime": {
     "end_time": "2019-02-11T14:46:08.023447Z",
     "start_time": "2019-02-11T14:46:07.977825Z"
    }
   },
   "outputs": [],
   "source": [
    "# exp_data = c14_patient_data.query('valid and type in [\"hepatocyte\", \"hepatocyte 2n\", \"hepatocyte 4n\"]').copy()\n",
    "# exp_data.head()"
   ]
  },
  {
   "cell_type": "code",
   "execution_count": 13,
   "metadata": {
    "ExecuteTime": {
     "end_time": "2019-02-11T14:46:08.085518Z",
     "start_time": "2019-02-11T14:46:08.026768Z"
    }
   },
   "outputs": [],
   "source": [
    "# exp_data.describe()"
   ]
  },
  {
   "cell_type": "markdown",
   "metadata": {},
   "source": [
    "# SSE & log-likelihood"
   ]
  },
  {
   "cell_type": "code",
   "execution_count": 14,
   "metadata": {
    "ExecuteTime": {
     "end_time": "2019-02-11T14:46:08.095332Z",
     "start_time": "2019-02-11T14:46:08.089513Z"
    }
   },
   "outputs": [],
   "source": [
    "def SSE(p, model, data):\n",
    "    model_data = model(data['Dbirth'].values, \n",
    "                    data['Dcoll'].values, \n",
    "                    *p)\n",
    "    sse = np.sum((model_data - data['d14C'].values)**2)\n",
    "    return sse    "
   ]
  },
  {
   "cell_type": "code",
   "execution_count": 15,
   "metadata": {
    "ExecuteTime": {
     "end_time": "2019-02-11T14:46:08.105162Z",
     "start_time": "2019-02-11T14:46:08.099599Z"
    }
   },
   "outputs": [],
   "source": [
    "def Sigma(p, model, data):\n",
    "    sse = SSE(p, model, data)\n",
    "    n = len(data)\n",
    "    sigma = np.sqrt(sse/n)\n",
    "    return sigma"
   ]
  },
  {
   "cell_type": "code",
   "execution_count": 16,
   "metadata": {
    "ExecuteTime": {
     "end_time": "2019-02-11T14:46:08.116374Z",
     "start_time": "2019-02-11T14:46:08.109052Z"
    }
   },
   "outputs": [],
   "source": [
    "def Nloglike(p, model, data):\n",
    "    sse = SSE(p, model, data)\n",
    "    n = len(data)\n",
    "    sig = np.sqrt(sse/n)\n",
    "    loglike = -n/2 * np.log(2*np.pi) - n/2 * np.log(sig**2) - 1 / (2*sig**2) * sse\n",
    "    return -loglike"
   ]
  },
  {
   "cell_type": "code",
   "execution_count": 17,
   "metadata": {},
   "outputs": [],
   "source": [
    "def migrad(x0, model, data, error=0.1, limit=None):\n",
    "    M = iminuit.Minuit.from_array_func(lambda x0: Nloglike(x0, model, data),\n",
    "                                       x0,\n",
    "                                       error=error,\n",
    "                                       limit=limit,\n",
    "                                       errordef=0.5,\n",
    "                                       name=iminuit.describe(model.pyfunc)[2:],\n",
    "                                      print_level=0)\n",
    "    try:\n",
    "        M.migrad()\n",
    "        return M.values.values(), M.errors.values(),  M.fval, M.migrad_ok()\n",
    "    except:\n",
    "        return np.nan*np.ones_like(x0), M.errors.values(), np.inf, M.migrad_ok()"
   ]
  },
  {
   "cell_type": "code",
   "execution_count": 18,
   "metadata": {},
   "outputs": [],
   "source": [
    "memory = joblib.Memory(location=cachedir)\n",
    "\n",
    "@memory.cache(ignore=['processes'])\n",
    "def multistart_migrad(modelname, ranges_, dataset, error=0.1, limit=None, n=100, processes=8, seed=42, step_=2):\n",
    "    global step\n",
    "    step = step_\n",
    "    \n",
    "    data = datasets[dataset]\n",
    "    \n",
    "    np.random.seed(seed)\n",
    "    model = eval(modelname)\n",
    "    x0s = np.random.uniform(ranges_[0], ranges_[1], (n, len(ranges_[0])))\n",
    "    fvals = pymp.shared.array((n, ))\n",
    "    valid = pymp.shared.array((n, ), dtype='bool')\n",
    "    values = pymp.shared.array((n, len(ranges_[0])))\n",
    "    perrors = pymp.shared.array((n, len(ranges_[0])))\n",
    "\n",
    "    with pymp.Parallel(processes) as p:\n",
    "        for index in p.range(n):\n",
    "            res = migrad(x0s[index], model, data, error, limit)\n",
    "            values[index] = tuple(res[0])\n",
    "            perrors[index] = tuple(res[1])\n",
    "            fvals[index] = res[2]\n",
    "            valid[index] = res[3]\n",
    "\n",
    "    res = pd.DataFrame.from_records((x0s, fvals, values, perrors, valid), \n",
    "                                    index=['x0', 'fval', 'values', 'errors', 'valid']).T\n",
    "    res['fval'] = res['fval'].astype('float')\n",
    "    res['valid'] = res['valid'].astype('bool')\n",
    "    res.columns.name = model.pyfunc.__name__\n",
    "    res['n'] = len(data)\n",
    "    return res"
   ]
  },
  {
   "cell_type": "code",
   "execution_count": 19,
   "metadata": {},
   "outputs": [],
   "source": [
    "def summarise(res):\n",
    "    print(res.columns.name)\n",
    "    plt.scatter(res['fval'].rank(), res['fval'])\n",
    "    plt.show()\n",
    "    best_res = res.loc[res['fval'].idxmin()]\n",
    "    p_names = iminuit.util.describe(eval(res.columns.name).pyfunc)[2:]\n",
    "    print('Parameter values')\n",
    "    for name, value, error in zip(p_names, best_res['values'], best_res['errors']):\n",
    "        if name.startswith('log'):\n",
    "            print(f'{name[3:]}: {np.exp(value):.3g} [{np.exp(value-error):.3g}, {np.exp(value+error):.3g}]')\n",
    "        else:\n",
    "            print(f'{name}: {value:3g} +- {error:3g}')\n",
    "    print()\n",
    "    \n",
    "    result = pd.Series([-best_res['fval'], len(p_names)+1, best_res['n']], index=['loglike', 'k', 'n'])\n",
    "    result['cAIC'] = 2 * result['k'] - \\\n",
    "                     2 * result['loglike'] + \\\n",
    "                    (2*result['k']**2 + 2*result['k'])/(result['n']-result['k']-1)\n",
    "    global results\n",
    "    try:\n",
    "        results.loc[res.columns.name] = result\n",
    "    except:\n",
    "        results=pd.DataFrame(columns=['loglike', 'k', 'n', 'cAIC'])\n",
    "        results.loc[res.columns.name] = result\n",
    "    return results"
   ]
  },
  {
   "cell_type": "markdown",
   "metadata": {},
   "source": [
    "# Defining the models"
   ]
  },
  {
   "cell_type": "markdown",
   "metadata": {},
   "source": [
    "## Scenario I1"
   ]
  },
  {
   "cell_type": "code",
   "execution_count": 20,
   "metadata": {
    "ExecuteTime": {
     "end_time": "2019-02-11T14:46:08.134501Z",
     "start_time": "2019-02-11T14:46:08.119465Z"
    }
   },
   "outputs": [],
   "source": [
    "@np.vectorize\n",
    "def I1(Dbirth, Dcoll, loglam):\n",
    "    lam = np.exp(loglam)\n",
    "\n",
    "    def rhs(t, c):\n",
    "            return lam * (C_atm(t) - c)\n",
    "\n",
    "    C_init = C_atm(Dbirth)\n",
    "    \n",
    "    \n",
    "    sol = sp.integrate.solve_ivp(fun=rhs,\n",
    "                                 t_span=(Dbirth, Dcoll),\n",
    "                                 t_eval=[Dcoll],\n",
    "                                 y0=[C_init],\n",
    "                                vectorized=True,\n",
    "                                max_step=step,\n",
    "                                first_step=step,\n",
    "                                rtol=np.inf,\n",
    "                                atol=np.inf,\n",
    "                                method='RK45')\n",
    "    return sol.y[-1]"
   ]
  },
  {
   "cell_type": "markdown",
   "metadata": {},
   "source": [
    "## I1T_step"
   ]
  },
  {
   "cell_type": "code",
   "execution_count": 21,
   "metadata": {
    "ExecuteTime": {
     "end_time": "2019-02-11T14:49:54.379273Z",
     "start_time": "2019-02-11T14:46:02.932Z"
    }
   },
   "outputs": [],
   "source": [
    "def loglam_step(t, loglam1, loglam2, t_step):\n",
    "        return np.where(t < t_step, loglam1, loglam2)\n",
    "\n",
    "@np.vectorize\n",
    "def I1_loglamfun(Dbirth, Dcoll, loglamfun):\n",
    "    def rhs(t, c):\n",
    "            return np.exp(loglamfun(t-Dbirth)) * (C_atm(t) - c)\n",
    "\n",
    "    C_init = C_atm(Dbirth)\n",
    "    \n",
    "    sol = sp.integrate.solve_ivp(fun=rhs,\n",
    "                                 t_span=(Dbirth, Dcoll),\n",
    "                                 t_eval=[Dcoll],\n",
    "                                 y0=[C_init],\n",
    "                                vectorized=True,\n",
    "                                max_step=step,\n",
    "                                first_step=step,\n",
    "                                rtol=np.inf,\n",
    "                                atol=np.inf,\n",
    "                                method='RK45')\n",
    "    return sol.y[-1]"
   ]
  },
  {
   "cell_type": "code",
   "execution_count": 22,
   "metadata": {
    "ExecuteTime": {
     "end_time": "2019-02-11T14:49:54.380352Z",
     "start_time": "2019-02-11T14:46:02.938Z"
    }
   },
   "outputs": [],
   "source": [
    "@np.vectorize\n",
    "def I1T_step(Dbirth, Dcoll, loglam1, loglam2, t_step):   \n",
    "    return I1_loglamfun(Dbirth, Dcoll, lambda t: loglam_step(t, loglam1, loglam2, t_step))"
   ]
  },
  {
   "cell_type": "markdown",
   "metadata": {},
   "source": [
    "## I1T_lin"
   ]
  },
  {
   "cell_type": "code",
   "execution_count": 23,
   "metadata": {
    "ExecuteTime": {
     "end_time": "2019-02-11T14:49:54.379273Z",
     "start_time": "2019-02-11T14:46:02.932Z"
    }
   },
   "outputs": [],
   "source": [
    "def lam_lin(t, loglam0, mu):\n",
    "        return np.exp(loglam0) * (1 + mu * t)\n",
    "\n",
    "@np.vectorize\n",
    "def I1_lamfun(Dbirth, Dcoll, lamfun):\n",
    "    def rhs(t, c):\n",
    "        return lamfun(t-Dbirth) * (C_atm(t) - c)\n",
    "#             return lamfun(t-Dbirth) * (C_atm(t) - c)\n",
    "\n",
    "    C_init = C_atm(Dbirth)\n",
    "    \n",
    "    sol = sp.integrate.solve_ivp(fun=rhs,\n",
    "                                 t_span=(Dbirth, Dcoll),\n",
    "                                 t_eval=[Dcoll],\n",
    "                                 y0=[C_init],\n",
    "                                vectorized=True,\n",
    "                                max_step=step,\n",
    "                                first_step=step,\n",
    "                                rtol=np.inf,\n",
    "                                atol=np.inf,\n",
    "                                method='RK45')\n",
    "    return sol.y[-1]"
   ]
  },
  {
   "cell_type": "code",
   "execution_count": 24,
   "metadata": {
    "ExecuteTime": {
     "end_time": "2019-02-11T14:49:54.380352Z",
     "start_time": "2019-02-11T14:46:02.938Z"
    }
   },
   "outputs": [],
   "source": [
    "@np.vectorize\n",
    "def I1T_lin(Dbirth, Dcoll, loglam0, mu):   \n",
    "    return I1_lamfun(Dbirth, Dcoll, lambda t: lam_lin(t, loglam0, mu))"
   ]
  },
  {
   "cell_type": "markdown",
   "metadata": {},
   "source": [
    "## Ploidy model"
   ]
  },
  {
   "cell_type": "code",
   "execution_count": 25,
   "metadata": {
    "ExecuteTime": {
     "end_time": "2019-02-08T11:49:41.918865Z",
     "start_time": "2019-02-08T11:49:41.900205Z"
    }
   },
   "outputs": [],
   "source": [
    "@np.vectorize\n",
    "def IP(Dbirth, Dcoll, loglam2, loglam4, logk24, logk42):\n",
    "    lam2 = np.exp(loglam2)\n",
    "    lam4 = np.exp(loglam4)\n",
    "    k24 = np.exp(logk24)\n",
    "    k42 = np.exp(logk42)\n",
    "    \n",
    "    def k24_(t):\n",
    "        return 0.5 * k24 * ploidy(t-Dbirth) / (1-ploidy(t-Dbirth))\n",
    "    def k42_(t):\n",
    "        return 2 * k42 * (1-ploidy(t-Dbirth)) / ploidy(t-Dbirth)\n",
    "    \n",
    "    def rhs(t, c):\n",
    "        c2 = c[0]\n",
    "        c4 = c[1]\n",
    "        dtc2 = -(lam2 + k42_(t)) * c2 + k42_(t) * c4 + lam2 * C_atm(t)\n",
    "        dtc4 = -(lam4 + 2*k24_(t)) * c4 + k24_(t) * c2 + (lam4+k24_(t)) * C_atm(t)\n",
    "        return [dtc2, dtc4]\n",
    "\n",
    "    C_init = C_atm(Dbirth)\n",
    "    \n",
    "    sol = sp.integrate.solve_ivp(fun=rhs,\n",
    "                                 t_span=(Dbirth, Dcoll),\n",
    "                                 t_eval=[Dcoll],\n",
    "                                 y0=[C_init, C_init],\n",
    "                                vectorized=True,\n",
    "                                max_step=step,\n",
    "                                first_step=step,\n",
    "                                rtol=np.inf,\n",
    "                                atol=np.inf,\n",
    "                                method='RK45')\n",
    "    c2, c4 = sol.y[:,0]\n",
    "    p = ploidy(Dcoll-Dbirth)\n",
    "    \n",
    "    return np.average([c2, c4], weights=[p, 2*(1-p)])"
   ]
  },
  {
   "cell_type": "markdown",
   "metadata": {},
   "source": [
    "## Ploidy model - same death, division rate, k42=0"
   ]
  },
  {
   "cell_type": "code",
   "execution_count": 26,
   "metadata": {
    "ExecuteTime": {
     "end_time": "2019-02-08T14:39:38.617314Z",
     "start_time": "2019-02-08T14:39:38.606611Z"
    }
   },
   "outputs": [],
   "source": [
    "@np.vectorize\n",
    "def IP_dlk0(Dbirth, Dcoll, loglam):\n",
    "    lam = np.exp(loglam)\n",
    "    \n",
    "    def rhs(t, c):\n",
    "        c2 = c[0]\n",
    "        c4 = c[1]\n",
    "        dtc2 = lam * (C_atm(t) - c2)\n",
    "        dtc4 = lam * (C_atm(t) - c4) + 0.5*(c2+C_atm(t)-c4)*sp.misc.derivative(ploidy, t-Dbirth, 0.001)/(ploidy(t-Dbirth)-1)\n",
    "        return [dtc2, dtc4]\n",
    "\n",
    "    C_init = C_atm(Dbirth)\n",
    "    \n",
    "    sol = sp.integrate.solve_ivp(fun=rhs,\n",
    "                                 t_span=(Dbirth, Dcoll),\n",
    "                                 t_eval=[Dcoll],\n",
    "                                 y0=[C_init, C_init],\n",
    "                                vectorized=True,\n",
    "                                max_step=step,\n",
    "                                first_step=step,\n",
    "                                rtol=np.inf,\n",
    "                                atol=np.inf,\n",
    "                                method='RK45')\n",
    "    c2, c4 = sol.y[:,0]\n",
    "    p = ploidy(Dcoll-Dbirth)\n",
    "    \n",
    "    return np.average([c2, c4], weights=[p, 2*(1-p)])"
   ]
  },
  {
   "cell_type": "markdown",
   "metadata": {},
   "source": [
    "## Ploidy model step - same death, division rate, k42=0"
   ]
  },
  {
   "cell_type": "code",
   "execution_count": 27,
   "metadata": {
    "ExecuteTime": {
     "end_time": "2019-02-11T09:56:00.029017Z",
     "start_time": "2019-02-11T09:56:00.013824Z"
    }
   },
   "outputs": [],
   "source": [
    "@np.vectorize\n",
    "def IP_dlk0_loglamfun(Dbirth, Dcoll, loglamfun):\n",
    "    def lam(t):\n",
    "        return np.exp(loglamfun(t))\n",
    "    \n",
    "    def rhs(t, c):\n",
    "        c2 = c[0]\n",
    "        c4 = c[1]\n",
    "        dtc2 = lam(t-Dbirth) * (C_atm(t) - c2)\n",
    "        dtc4 = lam(t-Dbirth) * (C_atm(t) - c4) + 0.5*(c2+C_atm(t)-c4)*sp.misc.derivative(ploidy, t-Dbirth, 0.001)/(ploidy(t-Dbirth)-1)\n",
    "        return [dtc2, dtc4]\n",
    "\n",
    "    C_init = C_atm(Dbirth)\n",
    "    \n",
    "    sol = sp.integrate.solve_ivp(fun=rhs,\n",
    "                                 t_span=(Dbirth, Dcoll),\n",
    "                                 t_eval=[Dcoll],\n",
    "                                 y0=[C_init, C_init],\n",
    "                                vectorized=True,\n",
    "                                max_step=step,\n",
    "                                first_step=step,\n",
    "                                rtol=np.inf,\n",
    "                                atol=np.inf,\n",
    "                                method='RK45')\n",
    "    c2, c4 = sol.y[:,0]\n",
    "    p = ploidy(Dcoll-Dbirth)\n",
    "    \n",
    "    return np.average([c2, c4], weights=[p, 2*(1-p)])"
   ]
  },
  {
   "cell_type": "code",
   "execution_count": 28,
   "metadata": {
    "ExecuteTime": {
     "end_time": "2019-02-11T09:56:00.498704Z",
     "start_time": "2019-02-11T09:56:00.492194Z"
    }
   },
   "outputs": [],
   "source": [
    "@np.vectorize\n",
    "def IP_dlk0_step(Dbirth, Dcoll, loglam1, loglam2, t_step):   \n",
    "    return IP_dlk0_loglamfun(Dbirth, Dcoll, lambda t: loglam_step(t, loglam1, loglam2, t_step))"
   ]
  },
  {
   "cell_type": "markdown",
   "metadata": {},
   "source": [
    "# Optimization"
   ]
  },
  {
   "cell_type": "code",
   "execution_count": 29,
   "metadata": {},
   "outputs": [],
   "source": [
    "ranges = {}\n",
    "ranges['I1'] = [(-10, ), (1, )]\n",
    "ranges['I1T_step'] = [(-10, -10, 0), (1, 1, 100)]\n",
    "ranges['I1T_lin'] = [(-10, 1e-2), (1, 0.1)]\n",
    "ranges['IP'] = [(-10, -10, -10, -10), (1, 1, 1, 1)]\n",
    "ranges['IP_dlk0'] = [(-10, ), (1, )]\n",
    "ranges['IP_dlk0_step'] = [(-10, -10, 0), (1, 1, 100)]"
   ]
  },
  {
   "cell_type": "code",
   "execution_count": 30,
   "metadata": {},
   "outputs": [],
   "source": [
    "modelnames = ranges.keys()"
   ]
  },
  {
   "cell_type": "code",
   "execution_count": 31,
   "metadata": {},
   "outputs": [],
   "source": [
    "errors = {modelname: 0.1 for modelname in modelnames}\n",
    "errors['I1T_lin'] = [0.1, 1e-3]"
   ]
  },
  {
   "cell_type": "code",
   "execution_count": 32,
   "metadata": {},
   "outputs": [],
   "source": [
    "limits = {modelname: None for modelname in modelnames}\n",
    "limits['I1T_lin'] = [None, (-1e-2, 0.1)]\n",
    "limits['IP'] = [None, None, (None, np.log(0.1)), (None, np.log(0.1))]"
   ]
  },
  {
   "cell_type": "code",
   "execution_count": 33,
   "metadata": {},
   "outputs": [],
   "source": [
    "datasets = {}\n",
    "datasets['hepatocytes'] = c14_patient_data.query('valid and type in [\"hepatocyte\", \"hepatocyte 2n\", \"hepatocyte 4n\"]').copy()\n",
    "datasets['non-hepatocytes'] = c14_patient_data.query('valid and type in [\"non-hepatocyte\"]').copy()\n",
    "datasets['hepatocytes_patho'] = c14_patient_data.query('valid and type in [\"hepatocyte\", \"hepatocyte 2n\", \"hepatocyte 4n\"] and pathology==\"Y\"').copy()\n",
    "datasets['hepatocytes_nopatho'] = c14_patient_data.query('valid and type in [\"hepatocyte\", \"hepatocyte 2n\", \"hepatocyte 4n\"] and pathology!=\"Y\"').copy()"
   ]
  },
  {
   "cell_type": "code",
   "execution_count": 34,
   "metadata": {},
   "outputs": [],
   "source": [
    "multistart_result = {condition: {} for condition in datasets.keys()}"
   ]
  },
  {
   "cell_type": "code",
   "execution_count": 42,
   "metadata": {},
   "outputs": [
    {
     "name": "stdout",
     "output_type": "stream",
     "text": [
      "hepatocytes I1\n",
      "hepatocytes I1T_step\n",
      "hepatocytes I1T_lin\n",
      "hepatocytes IP\n",
      "hepatocytes IP_dlk0\n",
      "hepatocytes IP_dlk0_step\n",
      "non-hepatocytes I1\n",
      "non-hepatocytes I1T_step\n",
      "non-hepatocytes I1T_lin\n",
      "non-hepatocytes IP\n",
      "non-hepatocytes IP_dlk0\n",
      "non-hepatocytes IP_dlk0_step\n",
      "hepatocytes_patho I1\n",
      "hepatocytes_patho I1T_step\n",
      "hepatocytes_patho I1T_lin\n",
      "hepatocytes_patho IP\n",
      "hepatocytes_patho IP_dlk0\n",
      "hepatocytes_patho IP_dlk0_step\n",
      "hepatocytes_nopatho I1\n",
      "hepatocytes_nopatho I1T_step\n",
      "hepatocytes_nopatho I1T_lin\n",
      "hepatocytes_nopatho IP\n",
      "hepatocytes_nopatho IP_dlk0\n",
      "hepatocytes_nopatho IP_dlk0_step\n"
     ]
    }
   ],
   "source": [
    "for dataset in datasets.keys():\n",
    "    for modelname in modelnames:\n",
    "        print(dataset, modelname)\n",
    "        multistart_result[dataset][modelname] = multistart_migrad(modelname, ranges[modelname], dataset, \n",
    "                                                                  error=errors[modelname], limit=limits[modelname], \n",
    "                                                                  n=100, step_=2, \n",
    "                                                                  processes=7)"
   ]
  },
  {
   "cell_type": "markdown",
   "metadata": {},
   "source": [
    "# Results"
   ]
  },
  {
   "cell_type": "markdown",
   "metadata": {},
   "source": [
    "## Hepatocytes"
   ]
  },
  {
   "cell_type": "code",
   "execution_count": 44,
   "metadata": {},
   "outputs": [
    {
     "name": "stdout",
     "output_type": "stream",
     "text": [
      "I1\n"
     ]
    },
    {
     "data": {
      "image/png": "[encoded data removed]",
      "text/plain": [
       "<Figure size 432x288 with 1 Axes>"
      ]
     },
     "metadata": {
      "needs_background": "light"
     },
     "output_type": "display_data"
    },
    {
     "name": "stdout",
     "output_type": "stream",
     "text": [
      "Parameter values\n",
      "lam: 0.204 [0.185, 0.226]\n",
      "\n",
      "I1T_step\n"
     ]
    },
    {
     "data": {
      "image/png": "[encoded data removed]",
      "text/plain": [
       "<Figure size 432x288 with 1 Axes>"
      ]
     },
     "metadata": {
      "needs_background": "light"
     },
     "output_type": "display_data"
    },
    {
     "name": "stdout",
     "output_type": "stream",
     "text": [
      "Parameter values\n",
      "lam1: 0.256 [0.223, 0.295]\n",
      "lam2: 0.14 [0.122, 0.159]\n",
      "t_step: 59.0627 +- 0.772559\n",
      "\n",
      "I1T_lin\n"
     ]
    },
    {
     "data": {
      "image/png": "[encoded data removed]",
      "text/plain": [
       "<Figure size 432x288 with 1 Axes>"
      ]
     },
     "metadata": {
      "needs_background": "light"
     },
     "output_type": "display_data"
    },
    {
     "name": "stdout",
     "output_type": "stream",
     "text": [
      "Parameter values\n",
      "lam0: 0.315 [0.241, 0.412]\n",
      "mu: -0.00656919 +- 0.00258661\n",
      "\n",
      "IP\n"
     ]
    },
    {
     "data": {
      "image/png": "[encoded data removed]",
      "text/plain": [
       "<Figure size 432x288 with 1 Axes>"
      ]
     },
     "metadata": {
      "needs_background": "light"
     },
     "output_type": "display_data"
    },
    {
     "name": "stdout",
     "output_type": "stream",
     "text": [
      "Parameter values\n",
      "lam2: 0.23 [0.187, 0.283]\n",
      "lam4: 0.0219 [0.00281, 0.17]\n",
      "k24: 0.1 [0.0312, 0.321]\n",
      "k42: 0.1 [0.000278, 35.9]\n",
      "\n",
      "IP_dlk0\n"
     ]
    },
    {
     "data": {
      "image/png": "[encoded data removed]",
      "text/plain": [
       "<Figure size 432x288 with 1 Axes>"
      ]
     },
     "metadata": {
      "needs_background": "light"
     },
     "output_type": "display_data"
    },
    {
     "name": "stdout",
     "output_type": "stream",
     "text": [
      "Parameter values\n",
      "lam: 0.21 [0.191, 0.232]\n",
      "\n",
      "IP_dlk0_step\n"
     ]
    },
    {
     "data": {
      "image/png": "[encoded data removed]",
      "text/plain": [
       "<Figure size 432x288 with 1 Axes>"
      ]
     },
     "metadata": {
      "needs_background": "light"
     },
     "output_type": "display_data"
    },
    {
     "name": "stdout",
     "output_type": "stream",
     "text": [
      "Parameter values\n",
      "lam1: 0.264 [0.23, 0.304]\n",
      "lam2: 0.145 [0.127, 0.165]\n",
      "t_step: 59.0583 +- 0.085931\n",
      "\n"
     ]
    },
    {
     "data": {
      "text/html": [
       "<div>\n",
       "<style scoped>\n",
       "    .dataframe tbody tr th:only-of-type {\n",
       "        vertical-align: middle;\n",
       "    }\n",
       "\n",
       "    .dataframe tbody tr th {\n",
       "        vertical-align: top;\n",
       "    }\n",
       "\n",
       "    .dataframe thead th {\n",
       "        text-align: right;\n",
       "    }\n",
       "</style>\n",
       "<table border=\"1\" class=\"dataframe\">\n",
       "  <thead>\n",
       "    <tr style=\"text-align: right;\">\n",
       "      <th></th>\n",
       "      <th>loglike</th>\n",
       "      <th>k</th>\n",
       "      <th>n</th>\n",
       "      <th>cAIC</th>\n",
       "    </tr>\n",
       "  </thead>\n",
       "  <tbody>\n",
       "    <tr>\n",
       "      <th>I1T_step</th>\n",
       "      <td>96.175838</td>\n",
       "      <td>4.0</td>\n",
       "      <td>33.0</td>\n",
       "      <td>-182.923105</td>\n",
       "    </tr>\n",
       "    <tr>\n",
       "      <th>IP_dlk0_step</th>\n",
       "      <td>96.073061</td>\n",
       "      <td>4.0</td>\n",
       "      <td>33.0</td>\n",
       "      <td>-182.717551</td>\n",
       "    </tr>\n",
       "    <tr>\n",
       "      <th>I1T_lin</th>\n",
       "      <td>93.240588</td>\n",
       "      <td>3.0</td>\n",
       "      <td>33.0</td>\n",
       "      <td>-179.653590</td>\n",
       "    </tr>\n",
       "    <tr>\n",
       "      <th>I1</th>\n",
       "      <td>91.962861</td>\n",
       "      <td>2.0</td>\n",
       "      <td>33.0</td>\n",
       "      <td>-179.525723</td>\n",
       "    </tr>\n",
       "    <tr>\n",
       "      <th>IP_dlk0</th>\n",
       "      <td>91.851107</td>\n",
       "      <td>2.0</td>\n",
       "      <td>33.0</td>\n",
       "      <td>-179.302213</td>\n",
       "    </tr>\n",
       "    <tr>\n",
       "      <th>IP</th>\n",
       "      <td>93.730206</td>\n",
       "      <td>5.0</td>\n",
       "      <td>33.0</td>\n",
       "      <td>-175.238190</td>\n",
       "    </tr>\n",
       "  </tbody>\n",
       "</table>\n",
       "</div>"
      ],
      "text/plain": [
       "                loglike    k     n        cAIC\n",
       "I1T_step      96.175838  4.0  33.0 -182.923105\n",
       "IP_dlk0_step  96.073061  4.0  33.0 -182.717551\n",
       "I1T_lin       93.240588  3.0  33.0 -179.653590\n",
       "I1            91.962861  2.0  33.0 -179.525723\n",
       "IP_dlk0       91.851107  2.0  33.0 -179.302213\n",
       "IP            93.730206  5.0  33.0 -175.238190"
      ]
     },
     "execution_count": 44,
     "metadata": {},
     "output_type": "execute_result"
    }
   ],
   "source": [
    "for modelname in modelnames:\n",
    "    summarise(multistart_result['hepatocytes'][modelname])\n",
    "results.sort_values('cAIC')"
   ]
  },
  {
   "cell_type": "markdown",
   "metadata": {},
   "source": [
    "# Weights and Evidence ratio"
   ]
  },
  {
   "cell_type": "code",
   "execution_count": null,
   "metadata": {},
   "outputs": [],
   "source": [
    "final_results = results.copy()"
   ]
  },
  {
   "cell_type": "code",
   "execution_count": null,
   "metadata": {},
   "outputs": [],
   "source": [
    "final_results['delta'] = final_results['cAIC'] - final_results['cAIC'].min() \n",
    "final_results['w'] = np.exp(-0.5*final_results['delta']) / np.exp(-0.5*final_results['delta']).sum()\n",
    "final_results['ER'] = final_results['w'].max() / final_results['w']\n",
    "final_results"
   ]
  },
  {
   "cell_type": "code",
   "execution_count": null,
   "metadata": {},
   "outputs": [],
   "source": [
    "final_results = results.loc[['IP', 'IP_dlk0',\n",
    "       'IP_dlk0_step', 'IP_dl40']]"
   ]
  },
  {
   "cell_type": "code",
   "execution_count": null,
   "metadata": {},
   "outputs": [],
   "source": [
    "final_results['delta'] = final_results['cAIC'] - final_results['cAIC'].min() \n",
    "final_results['w'] = np.exp(-0.5*final_results['delta']) / np.exp(-0.5*final_results['delta']).sum()\n",
    "final_results['ER'] = final_results['w'].max() / final_results['w']\n",
    "final_results"
   ]
  },
  {
   "cell_type": "markdown",
   "metadata": {},
   "source": [
    "# Some plots"
   ]
  },
  {
   "cell_type": "markdown",
   "metadata": {},
   "source": [
    "## Plot I1T_step"
   ]
  },
  {
   "cell_type": "code",
   "execution_count": null,
   "metadata": {
    "ExecuteTime": {
     "end_time": "2019-02-11T14:49:54.388511Z",
     "start_time": "2019-02-11T14:46:02.985Z"
    }
   },
   "outputs": [],
   "source": [
    "fig, ax = plt.subplots()\n",
    "tt = np.linspace(0, 100, 100)\n",
    "ax.plot(tt, )\n",
    "ax.plot(tt, res_I1T_step.loc[res_I1T_lin['fval'].idxmin(), 'values']\n",
    "        np.exp(loglam_step(tt, \n",
    "                           *res_I1T_step.loc[res_I1T_lin['fval'].idxmin(), 'values'])\n",
    "              ),\n",
    "        label='step'\n",
    "       )\n",
    "ax.set_xlabel('age of person')\n",
    "ax.set_ylabel('turnover rate (per year)')\n",
    "ax.legend()\n",
    "fig.savefig('../../results/plots/sigmoidal_solution.pdf', dpi=300, bboc_inches='tight')\n",
    "plt.show()"
   ]
  },
  {
   "cell_type": "code",
   "execution_count": null,
   "metadata": {
    "ExecuteTime": {
     "end_time": "2019-02-11T14:49:54.389573Z",
     "start_time": "2019-02-11T14:46:02.990Z"
    }
   },
   "outputs": [],
   "source": [
    "# fig, ax = plt.subplots(1, 1, sharex=True, sharey=True, figsize=(6, 4))\n",
    "# time = sp.linspace(1930, 2018, 30)\n",
    "\n",
    "# ax.plot(time, C_atm(time), label='atmospheric $^{14}$C concentration')\n",
    "\n",
    "# ax.plot(exp_data['Dbirth'], exp_data['d14C'], ls='None',\n",
    "#         marker='o', label='C14 in DNA', zorder=10)\n",
    "\n",
    "# for coll in [2005, 2010, 2015, 2020]:\n",
    "#     ax.plot(time[time<coll-5], \n",
    "#             I1T_step(time[time<coll-5], coll, *M_I1T_step.values.values()), label=f'Model (Collection in {coll})')\n",
    "\n",
    "# plt.xlim(1930, 2018)\n",
    "# plt.ylim(-0.12, 0.15)\n",
    "\n",
    "# ax.set_ylabel('$\\Delta^{14}$C')\n",
    "\n",
    "# ax.legend(loc='lower right')\n",
    "# ax.set_xlabel('Calendar year')\n",
    "\n",
    "# plt.savefig('../../results/plots/model_prediction_hepatocytes_v1.pdf', bbox_inches='tight', dpi=300)\n",
    "\n",
    "# plt.show()"
   ]
  },
  {
   "cell_type": "code",
   "execution_count": null,
   "metadata": {
    "ExecuteTime": {
     "end_time": "2019-02-11T14:49:54.390803Z",
     "start_time": "2019-02-11T14:46:02.997Z"
    }
   },
   "outputs": [],
   "source": [
    "# fig, ax = plt.subplots(1, 1, sharex=True, sharey=True, figsize=(6, 4))\n",
    "# time = sp.linspace(1930, 2018, 30)\n",
    "\n",
    "# ax.plot(time, C_atm(time), label='atmospheric $^{14}$C concentration')\n",
    "\n",
    "# ax.plot(exp_data['Dbirth'], exp_data['d14C'], ls='None',\n",
    "#         marker='o', label='Measured $^{14}$C concentration', zorder=10)\n",
    "\n",
    "# ax.errorbar(exp_data['Dbirth'],\n",
    "#            I1T_step(exp_data['Dbirth'], exp_data['Dcoll'], *M_I1T_step.values.values()),\n",
    "#             Sigma(M_I1T_step.values.values(), I1T_step, exp_data),\n",
    "#             ls='None', marker='o', label='Best fit'\n",
    "#            )\n",
    "\n",
    "# plt.xlim(1930, 2018)\n",
    "# plt.ylim(-0.05, 0.15)\n",
    "\n",
    "# ax.set_ylabel('$\\Delta^{14}$C')\n",
    "\n",
    "# ax.legend(loc='lower right')\n",
    "# ax.set_xlabel('Calendar year')\n",
    "\n",
    "# plt.savefig('../../results/plots/model_prediction_hepatocytes_v2.pdf', bbox_inches='tight', dpi=300)\n",
    "\n",
    "# plt.show()"
   ]
  },
  {
   "cell_type": "markdown",
   "metadata": {},
   "source": [
    "## Plot"
   ]
  },
  {
   "cell_type": "code",
   "execution_count": null,
   "metadata": {
    "ExecuteTime": {
     "end_time": "2019-02-11T14:49:54.388511Z",
     "start_time": "2019-02-11T14:46:02.985Z"
    }
   },
   "outputs": [],
   "source": [
    "fig, ax = plt.subplots()\n",
    "tt = np.linspace(0, 100, 100)\n",
    "ax.plot(tt, \n",
    "        lam_lin(tt, *res_I1T_lin.loc[res_I1T_lin['fval'].idxmin(), 'values'])\n",
    "       )\n",
    "# ax.plot(tt, res_I1T_step.loc[res_I1T_lin['fval'].idxmin(), 'values'],\n",
    "#         np.exp(loglam_step(tt, \n",
    "#                            *res_I1T_step.loc[res_I1T_lin['fval'].idxmin(), 'values'])\n",
    "#               )\n",
    "#        )\n",
    "ax.set_xlabel('age of person')\n",
    "ax.set_ylabel('turnover rate (per year)')\n",
    "# fig.savefig('../../results/plots/sigmoidal_solution.pdf', dpi=300, bboc_inches='tight')\n",
    "plt.show()"
   ]
  },
  {
   "cell_type": "markdown",
   "metadata": {},
   "source": [
    "## Plot I1, I1T, I1_memory"
   ]
  },
  {
   "cell_type": "code",
   "execution_count": null,
   "metadata": {
    "ExecuteTime": {
     "end_time": "2018-09-06T14:29:22.973458Z",
     "start_time": "2018-09-06T14:29:21.624810Z"
    }
   },
   "outputs": [],
   "source": [
    "fig, ax = plt.subplots(figsize=(15, 10))\n",
    "tt = np.linspace(1930, 2020)\n",
    "ax.plot(tt, np.vectorize(c14_models.C_atm)(tt))\n",
    "ax.plot(exp_data['Dbirth'], exp_data['d14C'], ls = 'None', marker = 'o')\n",
    "\n",
    "# ax.errorbar(exp_data['Dbirth']-0.4, \n",
    "#             I1(exp_data['Dbirth'].values,\n",
    "#                exp_data['Dcoll'].values,\n",
    "#                *res_I1.x\n",
    "#                ),\n",
    "#            Sigma(res_I1.x, I1, exp_data),\n",
    "#            ls='None',\n",
    "#             marker='s',\n",
    "#            label = 'I1')\n",
    "\n",
    "ax.errorbar(exp_data['Dbirth'], \n",
    "            I1T_step(exp_data['Dbirth'].values,\n",
    "                          exp_data['Dcoll'].values,\n",
    "                          *res_I1T_step.x\n",
    "                         ),\n",
    "           0*Sigma(res_I1T_step.x, I1T_step, exp_data),\n",
    "           ls='None',\n",
    "            marker='s',\n",
    "           label = 'I1T_step')\n",
    "\n",
    "# ax.errorbar(exp_data['Dbirth']+0.4, \n",
    "#              I1_memory(exp_data['Dbirth'], \n",
    "#                       exp_data['Dcoll'],\n",
    "#                       *res_I1_memory.x),\n",
    "#              Sigma(res_I1_memory.x, I1_memory, exp_data),\n",
    "#              ls = 'None',\n",
    "#             marker='o',\n",
    "#            label='I1_memory')\n",
    "\n",
    "\n",
    "ax.set_ylim((0, 0.12))\n",
    "ax.legend()\n",
    "plt.show()"
   ]
  },
  {
   "cell_type": "markdown",
   "metadata": {},
   "source": [
    "# Other models"
   ]
  },
  {
   "cell_type": "markdown",
   "metadata": {},
   "source": [
    "## Ploidy model - same death rate"
   ]
  },
  {
   "cell_type": "code",
   "execution_count": null,
   "metadata": {
    "ExecuteTime": {
     "end_time": "2019-02-08T12:05:47.311063Z",
     "start_time": "2019-02-08T12:05:47.290075Z"
    }
   },
   "outputs": [],
   "source": [
    "@np.vectorize\n",
    "def IP_d(Dbirth, Dcoll, loglam2, loglam4, logk24):\n",
    "    lam2 = np.exp(loglam2)\n",
    "    lam4 = np.exp(loglam4)\n",
    "    k24 = np.exp(logk24)\n",
    "    \n",
    "    def k24_(t):\n",
    "        return 0.5 * k24 * ploidy(t-Dbirth) / (1-ploidy(t-Dbirth))\n",
    "    def f(t):\n",
    "        return 2/(2-ploidy(t-Dbirth))*(sp.misc.derivative(ploidy, t-Dbirth, 0.001)/ploidy(t-Dbirth) + k24 + (lam2-lam4)*(ploidy(t-Dbirth)-1))\n",
    "    \n",
    "    def rhs(t, c):\n",
    "        c2 = c[0]\n",
    "        c4 = c[1]\n",
    "        dtc2 = -(lam2 + f(t)) * c2 + f(t) * c4 + lam2 * C_atm(t)\n",
    "        dtc4 = -(lam4 + 2*k24_(t)) * c4 + k24_(t) * c2 + (lam4+k24_(t)) * C_atm(t)\n",
    "        return [dtc2, dtc4]\n",
    "\n",
    "    C_init = C_atm(Dbirth)\n",
    "    \n",
    "    sol = sp.integrate.solve_ivp(fun=rhs,\n",
    "                                 t_span=(Dbirth, Dcoll),\n",
    "                                 t_eval=[Dcoll],\n",
    "                                 y0=[C_init, C_init],\n",
    "                                vectorized=True,\n",
    "                                max_step=step,\n",
    "                                first_step=step,\n",
    "                                rtol=np.inf,\n",
    "                                atol=np.inf,\n",
    "                                method='RK45')\n",
    "    c2, c4 = sol.y[:,0]\n",
    "    p = ploidy(Dcoll-Dbirth)\n",
    "    \n",
    "    return np.average([c2, c4], weights=[p, 2*(1-p)])"
   ]
  },
  {
   "cell_type": "markdown",
   "metadata": {},
   "source": [
    "## Ploidy model - same death, division rate"
   ]
  },
  {
   "cell_type": "code",
   "execution_count": null,
   "metadata": {
    "ExecuteTime": {
     "end_time": "2019-02-08T12:25:45.076482Z",
     "start_time": "2019-02-08T12:25:45.054363Z"
    }
   },
   "outputs": [],
   "source": [
    "@np.vectorize\n",
    "def IP_dl(Dbirth, Dcoll, loglam2, logk24):\n",
    "    lam2 = np.exp(loglam2)\n",
    "    lam4 = np.exp(loglam2)\n",
    "    k24 = np.exp(logk24)\n",
    "    \n",
    "    def k24_(t):\n",
    "        return 0.5 * k24 * ploidy(t-Dbirth) / (1-ploidy(t-Dbirth))\n",
    "    def f(t):\n",
    "        return 2/(2-ploidy(t-Dbirth))*(sp.misc.derivative(ploidy, t-Dbirth, 0.001)/ploidy(t-Dbirth) + k24)\n",
    "    \n",
    "    def rhs(t, c):\n",
    "        c2 = c[0]\n",
    "        c4 = c[1]\n",
    "        dtc2 = -(lam2 + f(t)) * c2 + f(t) * c4 + lam2 * C_atm(t)\n",
    "        dtc4 = -(lam4 + 2*k24_(t)) * c4 + k24_(t) * c2 + (lam4+k24_(t)) * C_atm(t)\n",
    "        return [dtc2, dtc4]\n",
    "\n",
    "    C_init = C_atm(Dbirth)\n",
    "    \n",
    "    sol = sp.integrate.solve_ivp(fun=rhs,\n",
    "                                 t_span=(Dbirth, Dcoll),\n",
    "                                 t_eval=[Dcoll],\n",
    "                                 y0=[C_init, C_init],\n",
    "                                vectorized=True,\n",
    "                                max_step=step,\n",
    "                                first_step=step,\n",
    "                                rtol=np.inf,\n",
    "                                atol=np.inf,\n",
    "                                method='RK45')\n",
    "    c2, c4 = sol.y[:,0]\n",
    "    p = ploidy(Dcoll-Dbirth)\n",
    "    \n",
    "    return np.average([c2, c4], weights=[p, 2*(1-p)])"
   ]
  },
  {
   "cell_type": "markdown",
   "metadata": {},
   "source": [
    "## Ploidy model - same death, $\\lambda_4=0$"
   ]
  },
  {
   "cell_type": "code",
   "execution_count": null,
   "metadata": {
    "ExecuteTime": {
     "end_time": "2019-02-08T12:25:45.076482Z",
     "start_time": "2019-02-08T12:25:45.054363Z"
    }
   },
   "outputs": [],
   "source": [
    "@np.vectorize\n",
    "def IP_dl40(Dbirth, Dcoll, loglam2, logk24):\n",
    "    lam2 = np.exp(loglam2)\n",
    "    lam4 = 0\n",
    "    k24 = np.exp(logk24)\n",
    "    \n",
    "    def k24_(t):\n",
    "        return 0.5 * k24 * ploidy(t-Dbirth) / (1-ploidy(t-Dbirth))\n",
    "    def f(t):\n",
    "        return 2/(2-ploidy(t-Dbirth))*(sp.misc.derivative(ploidy, t-Dbirth, 0.001)/ploidy(t-Dbirth) + k24)\n",
    "    \n",
    "    def rhs(t, c):\n",
    "        c2 = c[0]\n",
    "        c4 = c[1]\n",
    "        dtc2 = -(lam2 + f(t)) * c2 + f(t) * c4 + lam2 * C_atm(t)\n",
    "        dtc4 = -(lam4 + 2*k24_(t)) * c4 + k24_(t) * c2 + (lam4+k24_(t)) * C_atm(t)\n",
    "        return [dtc2, dtc4]\n",
    "\n",
    "    C_init = C_atm(Dbirth)\n",
    "    \n",
    "    sol = sp.integrate.solve_ivp(fun=rhs,\n",
    "                                 t_span=(Dbirth, Dcoll),\n",
    "                                 t_eval=[Dcoll],\n",
    "                                 y0=[C_init, C_init],\n",
    "                                vectorized=True,\n",
    "                                max_step=step,\n",
    "                                first_step=step,\n",
    "                                rtol=np.inf,\n",
    "                                atol=np.inf,\n",
    "                                method='RK45')\n",
    "    c2, c4 = sol.y[:,0]\n",
    "    p = ploidy(Dcoll-Dbirth)\n",
    "    \n",
    "    return np.average([c2, c4], weights=[p, 2*(1-p)])"
   ]
  },
  {
   "cell_type": "markdown",
   "metadata": {},
   "source": [
    "## I1 Memory"
   ]
  },
  {
   "cell_type": "code",
   "execution_count": null,
   "metadata": {
    "ExecuteTime": {
     "end_time": "2019-01-17T09:45:12.156186Z",
     "start_time": "2019-01-17T09:45:12.142239Z"
    }
   },
   "outputs": [],
   "source": [
    "@np.vectorize\n",
    "def I1_memory(Dbirth, Dcoll, loglam, f, t0):\n",
    "    lam = np.exp(loglam)\n",
    "    C1 = c14_models.I1c(Dbirth, Dcoll, lam)\n",
    "    \n",
    "    if t0>Dcoll-Dbirth:\n",
    "        return C1\n",
    "    else:\n",
    "        C0 = c14_models.I1c(Dbirth, Dbirth + t0, lam)\n",
    "        return f*C1 + (1-f)*C0"
   ]
  },
  {
   "cell_type": "markdown",
   "metadata": {},
   "source": [
    "## I1 Memory Interval"
   ]
  },
  {
   "cell_type": "code",
   "execution_count": null,
   "metadata": {
    "ExecuteTime": {
     "end_time": "2019-01-17T09:45:14.941201Z",
     "start_time": "2019-01-17T09:45:14.931341Z"
    }
   },
   "outputs": [],
   "source": [
    "@np.vectorize\n",
    "def I1_memory_interval(Dbirth, Dcoll, loglam, f, t0, t1):\n",
    "    if f >= 1:\n",
    "        f = 1\n",
    "    if t0 < 0.1:\n",
    "        t0 = 0.1\n",
    "    if t1 < 0.1:\n",
    "        t1 = 0.1\n",
    "    lam = np.exp(loglam)\n",
    "    C1 = c14_models.I1c(Dbirth, Dcoll, lam)\n",
    "    C0 = C1\n",
    "    \n",
    "    if Dbirth + t0 >= Dcoll:\n",
    "        C0 = C1\n",
    "    elif Dbirth + t0 + t1 >= Dcoll:\n",
    "        C0 = np.mean(np.vectorize(c14_models.I1c)(Dbirth, np.arange(Dbirth + t0, Dcoll, 1), lam))\n",
    "    else:\n",
    "        C0 = np.mean(np.vectorize(c14_models.I1c)(Dbirth, np.arange(Dbirth + t0, Dbirth + t0 + t1, 1), lam))\n",
    "    return f*C1 + (1-f)*C0"
   ]
  },
  {
   "cell_type": "markdown",
   "metadata": {},
   "source": [
    "## I1T_sigmoid"
   ]
  },
  {
   "cell_type": "code",
   "execution_count": null,
   "metadata": {
    "ExecuteTime": {
     "end_time": "2019-01-17T09:45:24.801621Z",
     "start_time": "2019-01-17T09:45:24.799312Z"
    }
   },
   "outputs": [],
   "source": [
    "I1T = c14_models.I1T"
   ]
  },
  {
   "cell_type": "code",
   "execution_count": null,
   "metadata": {
    "ExecuteTime": {
     "end_time": "2019-01-17T09:45:24.813431Z",
     "start_time": "2019-01-17T09:45:24.803429Z"
    }
   },
   "outputs": [],
   "source": [
    "@np.vectorize\n",
    "def I1T_sigmoid(Dbirth, Dcoll, loglam1, loglam2, t_step, n):\n",
    "    lam1 = np.exp(loglam1)\n",
    "    lam2 = np.exp(loglam2)\n",
    "    \n",
    "    if n > 20:\n",
    "        n = 20\n",
    "    if n < 0.5:\n",
    "        n = 0.5\n",
    "    def lam_sigmoid(t, lam1, lam2, t_step, n):\n",
    "        return lam1 + (lam2 - lam1) * (t-Dbirth)**n / (t_step**n + (t-Dbirth)**n)\n",
    "    \n",
    "    return I1T(Dbirth, Dcoll, lam_sigmoid, t_eval=np.linspace(Dbirth, Dcoll), lam_arg=(lam1, lam2, t_step, n))[1][-1]"
   ]
  },
  {
   "cell_type": "markdown",
   "metadata": {},
   "source": [
    "## I1T_linear"
   ]
  },
  {
   "cell_type": "code",
   "execution_count": null,
   "metadata": {
    "ExecuteTime": {
     "end_time": "2019-01-17T09:45:24.854944Z",
     "start_time": "2019-01-17T09:45:24.852789Z"
    }
   },
   "outputs": [],
   "source": [
    "I1T = c14_models.I1T"
   ]
  },
  {
   "cell_type": "code",
   "execution_count": null,
   "metadata": {
    "ExecuteTime": {
     "end_time": "2019-01-17T10:07:39.538139Z",
     "start_time": "2019-01-17T10:07:39.529404Z"
    }
   },
   "outputs": [],
   "source": [
    "@np.vectorize\n",
    "def I1T_linear(Dbirth, Dcoll, loglam0, r):\n",
    "    lam0 = np.exp(loglam0)\n",
    "    r = np.tanh(tanr)\n",
    "        \n",
    "    def lam_linear(t, lam0, r):\n",
    "        if lam0 + r*(t-Dbirth) > 0:\n",
    "            return lam0 + r*t\n",
    "        else:\n",
    "            return 0\n",
    "    \n",
    "    return I1T(Dbirth, Dcoll, lam_linear, t_eval=np.linspace(Dbirth, Dcoll), lam_arg=(lam0, r))[1][-1]"
   ]
  },
  {
   "cell_type": "markdown",
   "metadata": {},
   "source": [
    "## I1T_transient"
   ]
  },
  {
   "cell_type": "code",
   "execution_count": null,
   "metadata": {
    "ExecuteTime": {
     "end_time": "2018-12-11T14:10:18.124205Z",
     "start_time": "2018-12-11T14:10:18.119028Z"
    }
   },
   "outputs": [],
   "source": [
    "@np.vectorize\n",
    "def I1T_transient(Dbirth, Dcoll, loglam1, loglam2, t_on, t_off):\n",
    "    lam1 = np.exp(loglam1)\n",
    "    lam2 = np.exp(loglam2)\n",
    "    \n",
    "    def lam_transient(t, lam1, lam2, t_on, t_off):\n",
    "        return np.where(np.logical_or(t < Dbirth + t_on,\n",
    "                                      t > Dbirth + t_on + t_off),\n",
    "                        lam1, \n",
    "                        lam2)\n",
    "    \n",
    "    return I1T(Dbirth, Dcoll, lam_transient, \n",
    "               t_eval=np.linspace(Dbirth, Dcoll), \n",
    "               lam_arg=(lam1, lam2, t_on, t_off)\n",
    "              )[1][-1]"
   ]
  },
  {
   "cell_type": "markdown",
   "metadata": {},
   "source": [
    "## I2"
   ]
  },
  {
   "cell_type": "code",
   "execution_count": null,
   "metadata": {
    "ExecuteTime": {
     "end_time": "2018-12-11T14:12:47.610600Z",
     "start_time": "2018-12-11T14:12:47.597653Z"
    }
   },
   "outputs": [],
   "source": [
    "@np.vectorize\n",
    "def I2(Dbirth, Dcoll, loglam, f):\n",
    "    lam = np.exp(loglam)\n",
    "    return c14_models.I2(Dbirth, Dcoll, lam, f, \n",
    "                         t_eval=np.linspace(Dbirth, Dcoll))[1][-1]"
   ]
  },
  {
   "cell_type": "markdown",
   "metadata": {},
   "source": [
    "## IK"
   ]
  },
  {
   "cell_type": "code",
   "execution_count": null,
   "metadata": {
    "ExecuteTime": {
     "end_time": "2018-09-06T12:26:35.155679Z",
     "start_time": "2018-09-06T12:26:35.151782Z"
    }
   },
   "outputs": [],
   "source": [
    "@np.vectorize\n",
    "def IK(Dbirth, Dcoll, loglam, f):\n",
    "    lam = np.exp(loglam)\n",
    "    return c14_models.IK(Dbirth, Dcoll, lam, f, t_eval=np.linspace(Dbirth, Dcoll))[1][-1]"
   ]
  },
  {
   "cell_type": "markdown",
   "metadata": {},
   "source": [
    "## IL"
   ]
  },
  {
   "cell_type": "code",
   "execution_count": null,
   "metadata": {
    "ExecuteTime": {
     "end_time": "2018-09-06T12:36:30.352296Z",
     "start_time": "2018-09-06T12:23:10.378Z"
    }
   },
   "outputs": [],
   "source": [
    "@np.vectorize\n",
    "def IL(Dbirth, Dcoll, loglam, f):\n",
    "    lam = np.exp(loglam)\n",
    "    return c14_models.IL(Dbirth, Dcoll, lam, f, t_eval=np.linspace(Dbirth, Dcoll))[1][-1]"
   ]
  },
  {
   "cell_type": "markdown",
   "metadata": {},
   "source": [
    "## Scenario IX2p"
   ]
  },
  {
   "cell_type": "code",
   "execution_count": null,
   "metadata": {
    "ExecuteTime": {
     "end_time": "2018-09-06T12:36:30.361408Z",
     "start_time": "2018-09-06T12:23:10.398Z"
    }
   },
   "outputs": [],
   "source": [
    "@np.vectorize\n",
    "def IX2p(Dbirth, Dcoll, dloglam1, dloglam2, f1):\n",
    "    dlam1 = np.exp(dloglam1)\n",
    "    dlam2 = np.exp(dloglam2)\n",
    "    \n",
    "    f2 = 1-f1\n",
    "    \n",
    "    return c14_models.IX(Dbirth, Dcoll, [dlam1, dlam2], [f1, f2],\n",
    "                        t_eval=np.linspace(Dbirth, Dcoll))[1][-1]"
   ]
  },
  {
   "cell_type": "code",
   "execution_count": null,
   "metadata": {
    "ExecuteTime": {
     "end_time": "2018-09-06T12:36:30.364361Z",
     "start_time": "2018-09-06T12:23:10.418Z"
    }
   },
   "outputs": [],
   "source": [
    "results.sort_values('cAIC')"
   ]
  }
 ],
 "metadata": {
  "anaconda-cloud": {},
  "kernelspec": {
   "display_name": "Python 3",
   "language": "python",
   "name": "python3"
  },
  "language_info": {
   "codemirror_mode": {
    "name": "ipython",
    "version": 3
   },
   "file_extension": ".py",
   "mimetype": "text/x-python",
   "name": "python",
   "nbconvert_exporter": "python",
   "pygments_lexer": "ipython3",
   "version": "3.6.8"
  },
  "notify_time": "30",
  "toc": {
   "nav_menu": {
    "height": "251px",
    "width": "252px"
   },
   "number_sections": true,
   "sideBar": true,
   "skip_h1_title": false,
   "title_cell": "Table of Contents",
   "title_sidebar": "Contents",
   "toc_cell": false,
   "toc_position": {
    "height": "913px",
    "left": "0px",
    "right": "1708px",
    "top": "111px",
    "width": "212px"
   },
   "toc_section_display": "block",
   "toc_window_display": true
  },
  "toc-autonumbering": true,
  "toc-showcode": false,
  "toc-showmarkdowntxt": false,
  "toc-showtags": false
 },
 "nbformat": 4,
 "nbformat_minor": 2
}
