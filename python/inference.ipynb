{
 "cells": [
  {
   "cell_type": "markdown",
   "metadata": {},
   "source": [
    "# Preparation"
   ]
  },
  {
   "cell_type": "code",
   "execution_count": 2,
   "metadata": {
    "ExecuteTime": {
     "end_time": "2019-02-11T14:46:07.366972Z",
     "start_time": "2019-02-11T14:46:02.777228Z"
    }
   },
   "outputs": [
    {
     "name": "stderr",
     "output_type": "stream",
     "text": [
      "/home/fabrost/miniconda3/envs/spols190426/lib/python3.6/site-packages/IPython/config.py:13: ShimWarning: The `IPython.config` package has been deprecated since IPython 4.0. You should import from traitlets.config instead.\n",
      "  \"You should import from traitlets.config instead.\", ShimWarning)\n",
      "/home/fabrost/miniconda3/envs/spols190426/lib/python3.6/site-packages/ipycache.py:17: UserWarning: IPython.utils.traitlets has moved to a top-level traitlets package.\n",
      "  from IPython.utils.traitlets import Unicode\n"
     ]
    },
    {
     "name": "stdout",
     "output_type": "stream",
     "text": [
      "2019-05-29T16:14:26+02:00\n",
      "\n",
      "CPython 3.6.7\n",
      "IPython 7.5.0\n",
      "\n",
      "compiler   : GCC 7.3.0\n",
      "system     : Linux\n",
      "release    : 4.4.179-99-default\n",
      "machine    : x86_64\n",
      "processor  : x86_64\n",
      "CPU cores  : 8\n",
      "interpreter: 64bit\n",
      "pandas 0.24.2\n",
      "scipy 1.2.1\n"
     ]
    }
   ],
   "source": [
    "import datetime\n",
    "import iminuit\n",
    "import joblib\n",
    "import logging\n",
    "import matplotlib.pyplot as plt\n",
    "import numpy as np\n",
    "import pandas as pd\n",
    "import rpy2.rinterface_lib.callbacks\n",
    "import scipy as sp\n",
    "from scipy import optimize\n",
    "import seaborn as sns\n",
    "import warnings\n",
    "\n",
    "%load_ext ipycache\n",
    "%load_ext rpy2.ipython\n",
    "%load_ext watermark\n",
    "%watermark\n",
    "%watermark -p pandas,scipy\n",
    "\n",
    "# Ignore R warning messages\n",
    "#Note: this can be commented out to get more verbose R output\n",
    "rpy2.rinterface_lib.callbacks.logger.setLevel(logging.ERROR)\n",
    "\n",
    "sns.set_style('darkgrid')\n",
    "sns.set_context('notebook')\n",
    "\n",
    "cachedir = '/scratch/cache/inference_new_data_new/'\n",
    "memory = joblib.Memory(cachedir)"
   ]
  },
  {
   "cell_type": "code",
   "execution_count": 3,
   "metadata": {},
   "outputs": [],
   "source": [
    "%%R\n",
    "library(ggplot2)"
   ]
  },
  {
   "cell_type": "code",
   "execution_count": 4,
   "metadata": {
    "ExecuteTime": {
     "end_time": "2019-02-11T14:46:07.373499Z",
     "start_time": "2019-02-11T14:46:07.369567Z"
    }
   },
   "outputs": [],
   "source": [
    "results = pd.DataFrame()"
   ]
  },
  {
   "cell_type": "markdown",
   "metadata": {},
   "source": [
    "# atmospheric C14"
   ]
  },
  {
   "cell_type": "code",
   "execution_count": 5,
   "metadata": {
    "ExecuteTime": {
     "end_time": "2019-02-11T14:46:07.422690Z",
     "start_time": "2019-02-11T14:46:07.375523Z"
    }
   },
   "outputs": [],
   "source": [
    "xp = np.array([ 1891.5, 1892.5, 1893.5, 1894.5, 1895.5, 1896.5, 1897.5, 1898.5, 1899.5, 1900.5, 1901.5, 1902.5, 1903.5, 1904.5, 1905.5, 1906.5, 1907.5, 1908.5, 1909.5, 1910.5, 1911.5, 1912.5, 1913.5, 1914.5, 1915.5, 1916.5, 1917.5, 1918.5, 1919.5, 1920.5, 1921.5, 1922.5, 1923.5, 1924.5, 1925.5, 1926.5, 1927.5, 1928.5, 1929.5, 1930.5, 1931.5, 1932.5, 1933.5, 1934.5, 1935.5, 1936.5, 1937.5, 1938.5, 1939.5, 1940.5, 1941.5, 1942.5, 1943.5, 1944.5, 1945.5, 1946.5, 1947.5, 1948.5, 1949.5, 1950.5, 1951.5, 1952.5, 1953.5, 1954.5, 1955.5, 1956.5, 1957.5, 1958.5, 1959.5, 1960.5, 1961.5, 1962.5, 1963.5, 1964.5, 1965.5, 1966.5, 1967.5, 1968.5, 1969.5, 1970.5, 1971.5, 1972.5, 1973.5, 1974.5, 1975.5, 1976.5, 1977.5, 1978.5, 1979.5, 1980.5, 1981.5, 1982.5, 1983.5, 1984.5, 1985.5, 1986.5, 1987.5, 1988.5, 1989.5, 1990.5, 1991.5, 1992.5, 1993.5, 1994.5, 1995.5, 1996.5, 1997.5, 1998.5, 1999.5, 2000.5, 2001.5, 2002.5, 2003.5, 2003.963938,  2004.421821,  2004.879704, 2005.337587,  2005.79547 ,  2006.253353,  2006.711236, 2007.169119,  2007.627002,  2008.084885,  2008.542768, 2009.000651,  2009.458534,  2009.916417,  2010.3743  , 2010.3743  ,  2010.626   ,  2011.125   ,  2011.626   , 2012.125   ,  2012.626   ,  2013.125   ,  2013.626   , 2014.125   ,  2014.626   ,  2015.125   ,  2015.625   , 2016.125   ,  2016.625   ,  2020.      ])\n",
    "fp = np.array([-0.002     , -0.002     , -0.002     , -0.002     , -0.002     , -0.00233   , -0.00267   , -0.003     , -0.00333   , -0.00367   , -0.004     , -0.00433   , -0.00467   , -0.005     , -0.00533   , -0.00567   , -0.006     , -0.00633   , -0.00667   , -0.007     , -0.00733   , -0.00767   , -0.008     , -0.00833   , -0.00867   , -0.009     , -0.00933   , -0.00967   , -0.01      , -0.01033   , -0.01067   , -0.011     , -0.01133   , -0.01167   , -0.012     , -0.01233   , -0.01267   , -0.013     , -0.01333   , -0.01367   , -0.014     , -0.01433   , -0.01467   , -0.015     , -0.01533   , -0.01567   , -0.016     , -0.01633   , -0.01667   , -0.0202    , -0.0194    , -0.0196    , -0.0225    , -0.0217    , -0.0221    , -0.0216    , -0.0211    , -0.0223    , -0.0246    , -0.0248    , -0.0248    , -0.0249    , -0.0239    , -0.0211    , -0.0082    , 0.0265    ,  0.073     ,  0.1402    ,  0.228     ,  0.2123    , 0.2216    ,  0.3585    ,  0.7183    ,  0.8357    ,  0.7563    , 0.6919    ,  0.6236    ,  0.5645    ,  0.5454    ,  0.5291    , 0.4994    ,  0.4656    ,  0.4186    ,  0.4008    ,  0.3698    , 0.3525    ,  0.3339    ,  0.3258    ,  0.2958    ,  0.2645    , 0.2567    ,  0.2383    ,  0.2242    ,  0.2093    ,  0.2013    , 0.1911    ,  0.1826    ,  0.1734    ,  0.1635    ,  0.1525    , 0.1429    ,  0.1364    ,  0.1284    ,  0.1221    ,  0.1155    , 0.1099    ,  0.1043    ,  0.0981    ,  0.09      ,  0.0866    , 0.0807    ,  0.0749    ,  0.0689    ,  0.06349874,  0.06145905, 0.0597412 ,  0.05822747,  0.05641489,  0.05479531,  0.05364811, 0.05205465,  0.05067073,  0.04927897,  0.04788014,  0.04647508, 0.04506462,  0.04364948,  0.04223027,  0.04223027,  0.0403    , 0.0347    ,  0.0371    ,  0.0312    ,  0.0299    ,  0.0193    , 0.0219    ,  0.0182    ,  0.018     ,  0.0116    ,  0.0129    , 0.0096    ,  0.0097    ,  0.0097    ])\n",
    "C_atm = lambda x: sp.interp(x, xp+1, fp)"
   ]
  },
  {
   "cell_type": "code",
   "execution_count": 6,
   "metadata": {
    "ExecuteTime": {
     "end_time": "2019-02-11T14:46:07.621834Z",
     "start_time": "2019-02-11T14:46:07.425729Z"
    }
   },
   "outputs": [
    {
     "data": {
      "image/png": "[encoded data removed]",
      "text/plain": [
       "<Figure size 432x288 with 1 Axes>"
      ]
     },
     "metadata": {
      "needs_background": "light"
     },
     "output_type": "display_data"
    }
   ],
   "source": [
    "tt = np.linspace(1900, 2020)\n",
    "plt.plot(tt, C_atm(tt))\n",
    "plt.xlabel('Year')\n",
    "plt.ylabel('atm. C14')\n",
    "# plt.scatter(datasets['hepatocytes']['Dbirth'], datasets['hepatocytes']['d14C'])\n",
    "plt.ylim(None, 0.2)\n",
    "plt.show()"
   ]
  },
  {
   "cell_type": "markdown",
   "metadata": {},
   "source": [
    "# Ploidy"
   ]
  },
  {
   "cell_type": "code",
   "execution_count": 8,
   "metadata": {
    "ExecuteTime": {
     "end_time": "2019-02-11T14:46:07.689475Z",
     "start_time": "2019-02-11T14:46:07.624734Z"
    }
   },
   "outputs": [],
   "source": [
    "ploidy_data = pd.read_excel('../../../data/kudryavtsev_et_al_1993_table_2.xlsx')"
   ]
  },
  {
   "cell_type": "code",
   "execution_count": 9,
   "metadata": {
    "ExecuteTime": {
     "end_time": "2019-02-11T14:46:07.711965Z",
     "start_time": "2019-02-11T14:46:07.691174Z"
    }
   },
   "outputs": [],
   "source": [
    "ploidy_data['age'] = ploidy_data[['age_min', 'age_max']].mean(axis='columns')\n",
    "ploidy_data /= 100.0\n",
    "ploidy_data['age'] *= 100"
   ]
  },
  {
   "cell_type": "code",
   "execution_count": 10,
   "metadata": {
    "ExecuteTime": {
     "end_time": "2019-02-11T14:46:07.716542Z",
     "start_time": "2019-02-11T14:46:07.713728Z"
    }
   },
   "outputs": [],
   "source": [
    "ploidy = sp.interpolate.UnivariateSpline(ploidy_data['age'].values,\n",
    "                                ploidy_data['2C_mean'].values,\n",
    "                               ext=3)"
   ]
  },
  {
   "cell_type": "code",
   "execution_count": 11,
   "metadata": {},
   "outputs": [],
   "source": [
    "ploidy2x2 = sp.interpolate.UnivariateSpline(ploidy_data['age'].values,\n",
    "                                ploidy_data['2Cx2_mean'].values,\n",
    "                               ext=3)"
   ]
  },
  {
   "cell_type": "code",
   "execution_count": 12,
   "metadata": {
    "ExecuteTime": {
     "end_time": "2019-02-11T14:46:07.924191Z",
     "start_time": "2019-02-11T14:46:07.717992Z"
    }
   },
   "outputs": [
    {
     "data": {
      "image/png": "[encoded data removed]",
      "text/plain": [
       "<Figure size 432x288 with 1 Axes>"
      ]
     },
     "metadata": {
      "needs_background": "light"
     },
     "output_type": "display_data"
    }
   ],
   "source": [
    "tt = np.linspace(0, 120, 1000)\n",
    "plt.errorbar(ploidy_data['age'].values, ploidy_data['2C_mean'].values, ploidy_data['2C_sem'].values, label='data')\n",
    "plt.plot(tt, ploidy(tt), label='spline')\n",
    "\n",
    "plt.errorbar(ploidy_data['age'].values, ploidy_data['2Cx2_mean'].values, ploidy_data['2Cx2_sem'].values, label='data')\n",
    "plt.plot(tt, ploidy2x2(tt), label='spline')\n",
    "\n",
    "plt.xlabel('age (years)')\n",
    "plt.ylabel('ploidy: fraction 2n')\n",
    "plt.legend()\n",
    "plt.show()"
   ]
  },
  {
   "cell_type": "markdown",
   "metadata": {},
   "source": [
    "# Read patient data"
   ]
  },
  {
   "cell_type": "code",
   "execution_count": 13,
   "metadata": {
    "ExecuteTime": {
     "end_time": "2019-02-11T14:46:07.936960Z",
     "start_time": "2019-02-11T14:46:07.927873Z"
    }
   },
   "outputs": [],
   "source": [
    "data = pd.read_pickle('../../../results/C14data_liver_samples_20190502.pkl')"
   ]
  },
  {
   "cell_type": "markdown",
   "metadata": {},
   "source": [
    "Filter samples with error_measurement too big:"
   ]
  },
  {
   "cell_type": "code",
   "execution_count": 14,
   "metadata": {},
   "outputs": [
    {
     "data": {
      "text/html": [
       "<div>\n",
       "<style scoped>\n",
       "    .dataframe tbody tr th:only-of-type {\n",
       "        vertical-align: middle;\n",
       "    }\n",
       "\n",
       "    .dataframe tbody tr th {\n",
       "        vertical-align: top;\n",
       "    }\n",
       "\n",
       "    .dataframe thead th {\n",
       "        text-align: right;\n",
       "    }\n",
       "</style>\n",
       "<table border=\"1\" class=\"dataframe\">\n",
       "  <thead>\n",
       "    <tr style=\"text-align: right;\">\n",
       "      <th></th>\n",
       "      <th>type</th>\n",
       "      <th>code</th>\n",
       "      <th>sample</th>\n",
       "      <th>Dbirth</th>\n",
       "      <th>Dcoll</th>\n",
       "      <th>d14C</th>\n",
       "      <th>error_measurement</th>\n",
       "      <th>N_cells</th>\n",
       "      <th>pathology</th>\n",
       "      <th>subject_age</th>\n",
       "      <th>ploidy</th>\n",
       "    </tr>\n",
       "  </thead>\n",
       "  <tbody>\n",
       "    <tr>\n",
       "      <th>70</th>\n",
       "      <td>unsorted</td>\n",
       "      <td>PH95</td>\n",
       "      <td>HL#10</td>\n",
       "      <td>1932.916667</td>\n",
       "      <td>2017.583333</td>\n",
       "      <td>0.0130</td>\n",
       "      <td>0.00460</td>\n",
       "      <td>NaN</td>\n",
       "      <td>T</td>\n",
       "      <td>84.666667</td>\n",
       "      <td>2n4n</td>\n",
       "    </tr>\n",
       "    <tr>\n",
       "      <th>69</th>\n",
       "      <td>non-hepatocyte</td>\n",
       "      <td>PH94</td>\n",
       "      <td>HL#10</td>\n",
       "      <td>1932.916667</td>\n",
       "      <td>2017.583333</td>\n",
       "      <td>0.0165</td>\n",
       "      <td>0.00715</td>\n",
       "      <td>34.0</td>\n",
       "      <td>T</td>\n",
       "      <td>84.666667</td>\n",
       "      <td>2n4n</td>\n",
       "    </tr>\n",
       "    <tr>\n",
       "      <th>79</th>\n",
       "      <td>hepatocyte</td>\n",
       "      <td>MK 3</td>\n",
       "      <td>HL#11</td>\n",
       "      <td>1975.333333</td>\n",
       "      <td>2019.750000</td>\n",
       "      <td>0.0162</td>\n",
       "      <td>0.00640</td>\n",
       "      <td>77.0</td>\n",
       "      <td>T</td>\n",
       "      <td>44.416667</td>\n",
       "      <td>2n</td>\n",
       "    </tr>\n",
       "    <tr>\n",
       "      <th>80</th>\n",
       "      <td>hepatocyte</td>\n",
       "      <td>MK 4</td>\n",
       "      <td>HL#11</td>\n",
       "      <td>1975.333333</td>\n",
       "      <td>2019.750000</td>\n",
       "      <td>0.0396</td>\n",
       "      <td>0.00685</td>\n",
       "      <td>12.0</td>\n",
       "      <td>T</td>\n",
       "      <td>44.416667</td>\n",
       "      <td>4n</td>\n",
       "    </tr>\n",
       "    <tr>\n",
       "      <th>82</th>\n",
       "      <td>hepatocyte</td>\n",
       "      <td>MK 7</td>\n",
       "      <td>HL#12</td>\n",
       "      <td>1947.833333</td>\n",
       "      <td>2017.916667</td>\n",
       "      <td>0.0246</td>\n",
       "      <td>0.00660</td>\n",
       "      <td>59.0</td>\n",
       "      <td>T</td>\n",
       "      <td>70.083333</td>\n",
       "      <td>2n4n</td>\n",
       "    </tr>\n",
       "  </tbody>\n",
       "</table>\n",
       "</div>"
      ],
      "text/plain": [
       "              type  code sample       Dbirth        Dcoll    d14C  \\\n",
       "70        unsorted  PH95  HL#10  1932.916667  2017.583333  0.0130   \n",
       "69  non-hepatocyte  PH94  HL#10  1932.916667  2017.583333  0.0165   \n",
       "79      hepatocyte  MK 3  HL#11  1975.333333  2019.750000  0.0162   \n",
       "80      hepatocyte  MK 4  HL#11  1975.333333  2019.750000  0.0396   \n",
       "82      hepatocyte  MK 7  HL#12  1947.833333  2017.916667  0.0246   \n",
       "\n",
       "    error_measurement  N_cells pathology  subject_age ploidy  \n",
       "70            0.00460      NaN         T    84.666667   2n4n  \n",
       "69            0.00715     34.0         T    84.666667   2n4n  \n",
       "79            0.00640     77.0         T    44.416667     2n  \n",
       "80            0.00685     12.0         T    44.416667     4n  \n",
       "82            0.00660     59.0         T    70.083333   2n4n  "
      ]
     },
     "execution_count": 14,
     "metadata": {},
     "output_type": "execute_result"
    }
   ],
   "source": [
    "data.sort_values('sample').head()"
   ]
  },
  {
   "cell_type": "markdown",
   "metadata": {},
   "source": [
    "Calculate mean values for repeated measurements:"
   ]
  },
  {
   "cell_type": "code",
   "execution_count": 15,
   "metadata": {},
   "outputs": [
    {
     "data": {
      "text/html": [
       "<div>\n",
       "<style scoped>\n",
       "    .dataframe tbody tr th:only-of-type {\n",
       "        vertical-align: middle;\n",
       "    }\n",
       "\n",
       "    .dataframe tbody tr th {\n",
       "        vertical-align: top;\n",
       "    }\n",
       "\n",
       "    .dataframe thead th {\n",
       "        text-align: right;\n",
       "    }\n",
       "</style>\n",
       "<table border=\"1\" class=\"dataframe\">\n",
       "  <thead>\n",
       "    <tr style=\"text-align: right;\">\n",
       "      <th></th>\n",
       "      <th>type</th>\n",
       "      <th>code</th>\n",
       "      <th>sample</th>\n",
       "      <th>Dbirth</th>\n",
       "      <th>Dcoll</th>\n",
       "      <th>d14C</th>\n",
       "      <th>error_measurement</th>\n",
       "      <th>N_cells</th>\n",
       "      <th>pathology</th>\n",
       "      <th>subject_age</th>\n",
       "      <th>ploidy</th>\n",
       "    </tr>\n",
       "  </thead>\n",
       "  <tbody>\n",
       "    <tr>\n",
       "      <th>3</th>\n",
       "      <td>hepatocyte</td>\n",
       "      <td>PH4</td>\n",
       "      <td>ND382</td>\n",
       "      <td>1982.083333</td>\n",
       "      <td>2016.5</td>\n",
       "      <td>0.018815</td>\n",
       "      <td>0.005342</td>\n",
       "      <td>52.0</td>\n",
       "      <td>N</td>\n",
       "      <td>34.416667</td>\n",
       "      <td>2n4n</td>\n",
       "    </tr>\n",
       "    <tr>\n",
       "      <th>32</th>\n",
       "      <td>hepatocyte</td>\n",
       "      <td>PH42</td>\n",
       "      <td>ND382</td>\n",
       "      <td>1982.083333</td>\n",
       "      <td>2016.5</td>\n",
       "      <td>0.032800</td>\n",
       "      <td>0.007500</td>\n",
       "      <td>99.0</td>\n",
       "      <td>N</td>\n",
       "      <td>34.416667</td>\n",
       "      <td>2n4n</td>\n",
       "    </tr>\n",
       "  </tbody>\n",
       "</table>\n",
       "</div>"
      ],
      "text/plain": [
       "          type  code sample       Dbirth   Dcoll      d14C  error_measurement  \\\n",
       "3   hepatocyte   PH4  ND382  1982.083333  2016.5  0.018815           0.005342   \n",
       "32  hepatocyte  PH42  ND382  1982.083333  2016.5  0.032800           0.007500   \n",
       "\n",
       "    N_cells pathology  subject_age ploidy  \n",
       "3      52.0         N    34.416667   2n4n  \n",
       "32     99.0         N    34.416667   2n4n  "
      ]
     },
     "metadata": {},
     "output_type": "display_data"
    },
    {
     "data": {
      "text/html": [
       "<div>\n",
       "<style scoped>\n",
       "    .dataframe tbody tr th:only-of-type {\n",
       "        vertical-align: middle;\n",
       "    }\n",
       "\n",
       "    .dataframe tbody tr th {\n",
       "        vertical-align: top;\n",
       "    }\n",
       "\n",
       "    .dataframe thead th {\n",
       "        text-align: right;\n",
       "    }\n",
       "</style>\n",
       "<table border=\"1\" class=\"dataframe\">\n",
       "  <thead>\n",
       "    <tr style=\"text-align: right;\">\n",
       "      <th></th>\n",
       "      <th>type</th>\n",
       "      <th>code</th>\n",
       "      <th>sample</th>\n",
       "      <th>Dbirth</th>\n",
       "      <th>Dcoll</th>\n",
       "      <th>d14C</th>\n",
       "      <th>error_measurement</th>\n",
       "      <th>N_cells</th>\n",
       "      <th>pathology</th>\n",
       "      <th>subject_age</th>\n",
       "      <th>ploidy</th>\n",
       "    </tr>\n",
       "  </thead>\n",
       "  <tbody>\n",
       "    <tr>\n",
       "      <th>65</th>\n",
       "      <td>hepatocyte</td>\n",
       "      <td>PH89</td>\n",
       "      <td>ND383</td>\n",
       "      <td>1937.583333</td>\n",
       "      <td>2016.666667</td>\n",
       "      <td>0.0519</td>\n",
       "      <td>0.00480</td>\n",
       "      <td>68.0</td>\n",
       "      <td>N</td>\n",
       "      <td>79.083333</td>\n",
       "      <td>2n</td>\n",
       "    </tr>\n",
       "    <tr>\n",
       "      <th>66</th>\n",
       "      <td>hepatocyte</td>\n",
       "      <td>PH90</td>\n",
       "      <td>ND383</td>\n",
       "      <td>1937.583333</td>\n",
       "      <td>2016.666667</td>\n",
       "      <td>0.0412</td>\n",
       "      <td>0.00525</td>\n",
       "      <td>68.0</td>\n",
       "      <td>N</td>\n",
       "      <td>79.083333</td>\n",
       "      <td>2n</td>\n",
       "    </tr>\n",
       "  </tbody>\n",
       "</table>\n",
       "</div>"
      ],
      "text/plain": [
       "          type  code sample       Dbirth        Dcoll    d14C  \\\n",
       "65  hepatocyte  PH89  ND383  1937.583333  2016.666667  0.0519   \n",
       "66  hepatocyte  PH90  ND383  1937.583333  2016.666667  0.0412   \n",
       "\n",
       "    error_measurement  N_cells pathology  subject_age ploidy  \n",
       "65            0.00480     68.0         N    79.083333     2n  \n",
       "66            0.00525     68.0         N    79.083333     2n  "
      ]
     },
     "metadata": {},
     "output_type": "display_data"
    }
   ],
   "source": [
    "for i, group in data.groupby(['type', 'sample', 'ploidy']):\n",
    "    if len(group) > 1:\n",
    "        display(group)"
   ]
  },
  {
   "cell_type": "code",
   "execution_count": 16,
   "metadata": {},
   "outputs": [],
   "source": [
    "c14_patient_data = data.groupby(['type', 'sample', 'ploidy', 'pathology']).mean().dropna(how='all').reset_index()\n",
    "# c14_patient_data = c14_patient_data.merge(data[['sample', 'pathology', 'ploidy']].drop_duplicates())"
   ]
  },
  {
   "cell_type": "code",
   "execution_count": 17,
   "metadata": {},
   "outputs": [
    {
     "data": {
      "text/html": [
       "<div>\n",
       "<style scoped>\n",
       "    .dataframe tbody tr th:only-of-type {\n",
       "        vertical-align: middle;\n",
       "    }\n",
       "\n",
       "    .dataframe tbody tr th {\n",
       "        vertical-align: top;\n",
       "    }\n",
       "\n",
       "    .dataframe thead th {\n",
       "        text-align: right;\n",
       "    }\n",
       "</style>\n",
       "<table border=\"1\" class=\"dataframe\">\n",
       "  <thead>\n",
       "    <tr style=\"text-align: right;\">\n",
       "      <th></th>\n",
       "      <th>type</th>\n",
       "      <th>sample</th>\n",
       "      <th>ploidy</th>\n",
       "      <th>pathology</th>\n",
       "      <th>Dbirth</th>\n",
       "      <th>Dcoll</th>\n",
       "      <th>d14C</th>\n",
       "      <th>error_measurement</th>\n",
       "      <th>N_cells</th>\n",
       "      <th>subject_age</th>\n",
       "    </tr>\n",
       "  </thead>\n",
       "  <tbody>\n",
       "    <tr>\n",
       "      <th>41</th>\n",
       "      <td>non-hepatocyte</td>\n",
       "      <td>HL#10</td>\n",
       "      <td>2n4n</td>\n",
       "      <td>T</td>\n",
       "      <td>1932.916667</td>\n",
       "      <td>2017.583333</td>\n",
       "      <td>0.0165</td>\n",
       "      <td>0.00715</td>\n",
       "      <td>34.0</td>\n",
       "      <td>84.666667</td>\n",
       "    </tr>\n",
       "    <tr>\n",
       "      <th>54</th>\n",
       "      <td>unsorted</td>\n",
       "      <td>HL#10</td>\n",
       "      <td>2n4n</td>\n",
       "      <td>T</td>\n",
       "      <td>1932.916667</td>\n",
       "      <td>2017.583333</td>\n",
       "      <td>0.0130</td>\n",
       "      <td>0.00460</td>\n",
       "      <td>NaN</td>\n",
       "      <td>84.666667</td>\n",
       "    </tr>\n",
       "    <tr>\n",
       "      <th>0</th>\n",
       "      <td>hepatocyte</td>\n",
       "      <td>HL#11</td>\n",
       "      <td>2n</td>\n",
       "      <td>T</td>\n",
       "      <td>1975.333333</td>\n",
       "      <td>2019.750000</td>\n",
       "      <td>0.0162</td>\n",
       "      <td>0.00640</td>\n",
       "      <td>77.0</td>\n",
       "      <td>44.416667</td>\n",
       "    </tr>\n",
       "    <tr>\n",
       "      <th>1</th>\n",
       "      <td>hepatocyte</td>\n",
       "      <td>HL#11</td>\n",
       "      <td>4n</td>\n",
       "      <td>T</td>\n",
       "      <td>1975.333333</td>\n",
       "      <td>2019.750000</td>\n",
       "      <td>0.0396</td>\n",
       "      <td>0.00685</td>\n",
       "      <td>12.0</td>\n",
       "      <td>44.416667</td>\n",
       "    </tr>\n",
       "    <tr>\n",
       "      <th>55</th>\n",
       "      <td>unsorted</td>\n",
       "      <td>HL#12</td>\n",
       "      <td>2n4n</td>\n",
       "      <td>T</td>\n",
       "      <td>1947.833333</td>\n",
       "      <td>2017.916667</td>\n",
       "      <td>0.0192</td>\n",
       "      <td>0.00655</td>\n",
       "      <td>NaN</td>\n",
       "      <td>70.083333</td>\n",
       "    </tr>\n",
       "  </tbody>\n",
       "</table>\n",
       "</div>"
      ],
      "text/plain": [
       "              type sample ploidy pathology       Dbirth        Dcoll    d14C  \\\n",
       "41  non-hepatocyte  HL#10   2n4n         T  1932.916667  2017.583333  0.0165   \n",
       "54        unsorted  HL#10   2n4n         T  1932.916667  2017.583333  0.0130   \n",
       "0       hepatocyte  HL#11     2n         T  1975.333333  2019.750000  0.0162   \n",
       "1       hepatocyte  HL#11     4n         T  1975.333333  2019.750000  0.0396   \n",
       "55        unsorted  HL#12   2n4n         T  1947.833333  2017.916667  0.0192   \n",
       "\n",
       "    error_measurement  N_cells  subject_age  \n",
       "41            0.00715     34.0    84.666667  \n",
       "54            0.00460      NaN    84.666667  \n",
       "0             0.00640     77.0    44.416667  \n",
       "1             0.00685     12.0    44.416667  \n",
       "55            0.00655      NaN    70.083333  "
      ]
     },
     "execution_count": 17,
     "metadata": {},
     "output_type": "execute_result"
    }
   ],
   "source": [
    "c14_patient_data.sort_values('sample').head()"
   ]
  },
  {
   "cell_type": "code",
   "execution_count": 18,
   "metadata": {},
   "outputs": [
    {
     "data": {
      "image/png": "[encoded data removed]"
     },
     "metadata": {},
     "output_type": "display_data"
    }
   ],
   "source": [
    "%%R -i c14_patient_data -i xp -i fp -w 1000\n",
    "catm.df = data.frame(year=xp, c14=fp)\n",
    "ggplot(c14_patient_data, aes(x=Dbirth, y=d14C)) + geom_point(aes(shape=ploidy, color=sample)) + facet_wrap(~type) + geom_line(data=catm.df, aes(x=year, y=c14)) + \n",
    "    coord_cartesian(ylim = c(-0.05, 0.15)) "
   ]
  },
  {
   "cell_type": "code",
   "execution_count": 19,
   "metadata": {},
   "outputs": [
    {
     "data": {
      "text/plain": [
       "type            pathology\n",
       "hepatocyte      N            28\n",
       "                T             8\n",
       "                Y             5\n",
       "non-hepatocyte  N             7\n",
       "                T             4\n",
       "                Y             2\n",
       "unsorted        N            19\n",
       "                T            10\n",
       "                Y             4\n",
       "dtype: int64"
      ]
     },
     "execution_count": 19,
     "metadata": {},
     "output_type": "execute_result"
    }
   ],
   "source": [
    "c14_patient_data.groupby(['type', 'pathology']).size()"
   ]
  },
  {
   "cell_type": "markdown",
   "metadata": {},
   "source": [
    "# SSE & log-likelihood"
   ]
  },
  {
   "cell_type": "code",
   "execution_count": 20,
   "metadata": {
    "ExecuteTime": {
     "end_time": "2019-02-11T14:46:08.095332Z",
     "start_time": "2019-02-11T14:46:08.089513Z"
    }
   },
   "outputs": [],
   "source": [
    "def SSE(p, model, data):\n",
    "    model_data = model(data['Dbirth'].values, \n",
    "                    data['Dcoll'].values, \n",
    "                       data['ploidy'].values, \n",
    "                    *p)\n",
    "    sse = np.sum((model_data - data['d14C'].values)**2)\n",
    "    return sse    "
   ]
  },
  {
   "cell_type": "code",
   "execution_count": 21,
   "metadata": {
    "ExecuteTime": {
     "end_time": "2019-02-11T14:46:08.105162Z",
     "start_time": "2019-02-11T14:46:08.099599Z"
    }
   },
   "outputs": [],
   "source": [
    "def Sigma(p, model, data):\n",
    "    sse = SSE(p, model, data)\n",
    "    n = len(data)\n",
    "    sigma = np.sqrt(sse/n)\n",
    "    return sigma"
   ]
  },
  {
   "cell_type": "code",
   "execution_count": 22,
   "metadata": {
    "ExecuteTime": {
     "end_time": "2019-02-11T14:46:08.116374Z",
     "start_time": "2019-02-11T14:46:08.109052Z"
    }
   },
   "outputs": [],
   "source": [
    "def Nloglike(p, model, data):\n",
    "    sse = SSE(p, model, data)\n",
    "    n = len(data)\n",
    "    sig = np.sqrt(sse/n)\n",
    "    loglike = -n/2 * np.log(2*np.pi) - n/2 * np.log(sig**2) - 1 / (2*sig**2) * sse\n",
    "    return -loglike"
   ]
  },
  {
   "cell_type": "code",
   "execution_count": 23,
   "metadata": {},
   "outputs": [],
   "source": [
    "def migrad(x0, model, data, error=0.1, limit=None):\n",
    "    M = iminuit.Minuit.from_array_func(lambda x0: Nloglike(x0, model, data),\n",
    "                                       x0,\n",
    "                                       error=error,\n",
    "                                       limit=limit,\n",
    "                                       errordef=0.5,\n",
    "                                       name=iminuit.describe(model)[3:],\n",
    "                                      print_level=0)\n",
    "    import scipy.misc\n",
    "    try:\n",
    "        M.migrad()\n",
    "#         M.hesse()\n",
    "        try:\n",
    "            corr = M.matrix(correlation=True)\n",
    "            cov = M.matrix(correlation=False)\n",
    "        except:\n",
    "            corr = np.nan\n",
    "            cov = np.nan\n",
    "        return M.values.values(), M.errors.values(),  M.fval, M.migrad_ok(), np.array(corr), np.array(cov)\n",
    "    except:\n",
    "        raise\n",
    "        return np.nan*np.ones_like(x0), M.errors.values(), np.inf, M.migrad_ok(), np.nan, np.array(cov)"
   ]
  },
  {
   "cell_type": "code",
   "execution_count": 24,
   "metadata": {},
   "outputs": [],
   "source": [
    "@memory.cache(ignore=['processes'])\n",
    "def multistart_migrad(modelname, ranges_, dataset, error=0.1, limit=None, n=100, processes=8, seed=42, step_=2):\n",
    "    global step\n",
    "    step = step_\n",
    "    \n",
    "    data = datasets[dataset]\n",
    "    \n",
    "    np.random.seed(seed)\n",
    "    model = eval(modelname)\n",
    "    x0s = np.random.uniform(ranges_[0], ranges_[1], (n, len(ranges_[0])))\n",
    "    \n",
    "    res = joblib.Parallel(n_jobs=processes)(joblib.delayed(migrad)(x0, model, data, error, limit) for x0 in x0s)\n",
    "    res = [[x0] + list(r) for x0, r in zip(x0s, res)]\n",
    "    res = pd.DataFrame(res, columns=['x0', 'values', 'errors', 'fval', 'valid', 'corr', 'cov'])\n",
    "    res['n'] = len(data)\n",
    "    res['fval'] = res['fval'].astype('float')\n",
    "    res['valid'] = res['valid'].astype('bool')\n",
    "    res.columns.name = model.__name__\n",
    "    return res[['x0', 'fval', 'values', 'errors', 'corr', 'cov', 'valid', 'n']]"
   ]
  },
  {
   "cell_type": "code",
   "execution_count": 25,
   "metadata": {},
   "outputs": [],
   "source": [
    "def summarise(res):\n",
    "    \"\"\" Summarise the fit results \"\"\"\n",
    "    print(res.columns.name)\n",
    "    plt.scatter(res['fval'].rank(), res['fval'], c=res['valid'], vmin=0, vmax=1)\n",
    "    plt.colorbar()\n",
    "    plt.show()\n",
    "    best_res = res.loc[res['fval'].idxmin()]\n",
    "    p_names = iminuit.util.describe(eval(res.columns.name))[3:]\n",
    "    print('Parameter values')\n",
    "    for name, value, error in zip(p_names, best_res['values'], best_res['errors']):\n",
    "        if name.startswith('log'):\n",
    "            print(f'{name[3:]}: {np.exp(value):.3g} [{np.exp(value-error):.3g}, {np.exp(value+error):.3g}]')\n",
    "        else:\n",
    "            print(f'{name}: {value:3g} +- {error:3g}')\n",
    "    print()\n",
    "    \n",
    "    result = pd.Series([-best_res['fval'], len(p_names)+1, best_res['n']], index=['loglike', 'k', 'n'])\n",
    "    result['cAIC'] = 2 * result['k'] - \\\n",
    "                     2 * result['loglike'] + \\\n",
    "                    (2*result['k']**2 + 2*result['k'])/(result['n']-result['k']-1)\n",
    "    global results\n",
    "    try:\n",
    "        results.loc[res.columns.name] = result\n",
    "    except:\n",
    "        results=pd.DataFrame(columns=['loglike', 'k', 'n', 'cAIC'])\n",
    "        results.loc[res.columns.name] = result\n",
    "    return results"
   ]
  },
  {
   "cell_type": "markdown",
   "metadata": {
    "toc-hr-collapsed": false
   },
   "source": [
    "# Defining the models"
   ]
  },
  {
   "cell_type": "code",
   "execution_count": 26,
   "metadata": {},
   "outputs": [],
   "source": [
    "def sol(rhs, Dbirth, Dcoll):\n",
    "    def rhs2(t, c):\n",
    "        return np.where(t<=Dcoll-Dbirth, rhs(t, c), 0)\n",
    "                 \n",
    "    C_init = C_atm(Dbirth)\n",
    "    if C_init.shape==():\n",
    "        C_init = np.array([C_init])\n",
    "    \n",
    "    sol = sp.integrate.solve_ivp(fun=rhs2,\n",
    "                                 t_span=(0, np.max(Dcoll-Dbirth)),\n",
    "                                 t_eval=[np.max(Dcoll-Dbirth)],\n",
    "                                 y0=C_init,\n",
    "                                vectorized=False,\n",
    "                                max_step=step,\n",
    "                                first_step=step,\n",
    "                                rtol=np.inf,\n",
    "                                atol=np.inf,\n",
    "                                method='RK45'\n",
    "                                )\n",
    "    return sol.y[:,0]"
   ]
  },
  {
   "cell_type": "markdown",
   "metadata": {},
   "source": [
    "## Scenario I1"
   ]
  },
  {
   "cell_type": "code",
   "execution_count": 27,
   "metadata": {
    "ExecuteTime": {
     "end_time": "2019-02-11T14:46:08.134501Z",
     "start_time": "2019-02-11T14:46:08.119465Z"
    }
   },
   "outputs": [],
   "source": [
    "def I1(Dbirth, Dcoll, Dploidy, loglam):\n",
    "    lam = np.exp(loglam)\n",
    "\n",
    "    def rhs(t, c):\n",
    "            return lam * (C_atm(t+Dbirth) - c)\n",
    "\n",
    "    return sol(rhs, Dbirth, Dcoll)"
   ]
  },
  {
   "cell_type": "markdown",
   "metadata": {},
   "source": [
    "## I1T_step"
   ]
  },
  {
   "cell_type": "code",
   "execution_count": 28,
   "metadata": {
    "ExecuteTime": {
     "end_time": "2019-02-11T14:49:54.379273Z",
     "start_time": "2019-02-11T14:46:02.932Z"
    }
   },
   "outputs": [],
   "source": [
    "def I1_lamfun(Dbirth, Dcoll, lamfun):\n",
    "    def rhs(t, c):\n",
    "            return lamfun(t) * (C_atm(t+Dbirth) - c)\n",
    "\n",
    "    return sol(rhs, Dbirth, Dcoll)"
   ]
  },
  {
   "cell_type": "code",
   "execution_count": 29,
   "metadata": {
    "ExecuteTime": {
     "end_time": "2019-02-11T14:49:54.380352Z",
     "start_time": "2019-02-11T14:46:02.938Z"
    }
   },
   "outputs": [],
   "source": [
    "def I1T_step(Dbirth, Dcoll, Dploidy, loglam1, loglam2, t_step):   \n",
    "    return I1_lamfun(Dbirth, Dcoll, lambda t: np.where(t < t_step, np.exp(loglam1), np.exp(loglam2)))"
   ]
  },
  {
   "cell_type": "markdown",
   "metadata": {},
   "source": [
    "## I1T_lin"
   ]
  },
  {
   "cell_type": "code",
   "execution_count": 30,
   "metadata": {
    "ExecuteTime": {
     "end_time": "2019-02-11T14:49:54.380352Z",
     "start_time": "2019-02-11T14:46:02.938Z"
    }
   },
   "outputs": [],
   "source": [
    "def I1T_lin(Dbirth, Dcoll, Dploidy, loglam0, loglam100):   \n",
    "    return I1_lamfun(Dbirth, Dcoll, lambda t: np.interp(t, [0, 100], [np.exp(loglam0), np.exp(loglam100)]))"
   ]
  },
  {
   "cell_type": "markdown",
   "metadata": {
    "toc-hr-collapsed": false
   },
   "source": [
    "## Full Ploidy models"
   ]
  },
  {
   "cell_type": "code",
   "execution_count": 31,
   "metadata": {},
   "outputs": [],
   "source": [
    "def solP(rhs, Dbirth, Dcoll, Dploidy):\n",
    "    def rhs2(t, c):\n",
    "        return np.where(t<=np.append(Dcoll-Dbirth, Dcoll-Dbirth), rhs(t, c), 0)\n",
    "    \n",
    "    C_init = C_atm(Dbirth)\n",
    "    C_init = np.append(C_init, C_init)\n",
    "    \n",
    "    sol = sp.integrate.solve_ivp(fun=rhs2,\n",
    "                                 t_span=(0, np.max(Dcoll-Dbirth)),\n",
    "                                 t_eval=[np.max(Dcoll-Dbirth)],\n",
    "                                 y0=C_init,\n",
    "                                vectorized=False,\n",
    "                                max_step=step,\n",
    "                                first_step=step,\n",
    "                                rtol=np.inf,\n",
    "                                atol=np.inf,\n",
    "                                method='RK45'\n",
    "                                )\n",
    "    c = sol.y[:,0]\n",
    "    c2 = c[:int(len(c)/2) ]\n",
    "    c4 = c[ int(len(c)/2):]\n",
    "    c24 = np.vstack((c2, c4))\n",
    "    \n",
    "    w = np.empty_like(c24)\n",
    "    w[0, :] = ploidy(Dcoll-Dbirth)\n",
    "    w[1, :] = 2*(1-w[0, :])\n",
    "    w[0, Dploidy=='2n'] = ploidy(Dcoll[Dploidy=='2n']-Dbirth[Dploidy=='2n'])\n",
    "    w[1, Dploidy=='2n'] = 2*ploidy2x2(Dcoll[Dploidy=='2n']-Dbirth[Dploidy=='2n'])\n",
    "\n",
    "    w[0, Dploidy=='4n'] = 0\n",
    "    w[1, Dploidy=='4n'] = 1\n",
    "    \n",
    "    return np.average(c24, weights=w, axis=0)"
   ]
  },
  {
   "cell_type": "markdown",
   "metadata": {},
   "source": [
    "### Adjust death rates"
   ]
  },
  {
   "cell_type": "code",
   "execution_count": 32,
   "metadata": {},
   "outputs": [],
   "source": [
    "def IPd(Dbirth, Dcoll, Dploidy, loglam2, loglam4, logk24, logk42):\n",
    "    lam2 = np.exp(loglam2)\n",
    "    lam4 = np.exp(loglam4)\n",
    "    k24 = np.exp(logk24)\n",
    "    k42 = np.exp(logk42)\n",
    "    \n",
    "    def rhs(t, c):\n",
    "        c2 = c[:int(len(c)/2) ]\n",
    "        c4 = c[ int(len(c)/2):]\n",
    "        dtc2=lam2*(-c2 + C_atm(Dbirth + t)) + (2*(c2 - c4)*k42*(-1 + ploidy(t)))/ploidy(t)\n",
    "        dtc4=lam4*(-c4 + C_atm(Dbirth + t)) - (k24*(c2 - 2*c4 + C_atm(Dbirth + t))*ploidy(t))/(2.*(-1 + ploidy(t)))\n",
    "        return np.append(dtc2, dtc4)\n",
    "\n",
    "    return solP(rhs, Dbirth, Dcoll, Dploidy)"
   ]
  },
  {
   "cell_type": "code",
   "execution_count": 33,
   "metadata": {},
   "outputs": [],
   "source": [
    "def IPd2(Dbirth, Dcoll, Dploidy, l2, l4, k, q):\n",
    "    \n",
    "    def rhs(t, c):\n",
    "        c2 = c[:int(len(c)/2) ]\n",
    "        c4 = c[ int(len(c)/2):]\n",
    "        dtc2=-((2**(1 + k)*5**k*c4*(-1 + ploidy(t)))/ploidy(t)) + 2**(-1 + l2)*5**l2*C_atm(Dbirth + t)*(1 + np.sin(q)) + (c2*(2**(2 + k)*5**k - 10**l2 - (2**(2 + k)*5**k)/ploidy(t) - 10**l2*np.sin(q)))/2.\n",
    "        dtc4=C_atm(Dbirth + t)*(10**l4 + (2**(-2 + l2)*5**l2*ploidy(t)*(-1 + np.sin(q)))/(-1 + ploidy(t))) + (2**(-2 + l2)*5**l2*c2*ploidy(t)*(-1 + np.sin(q)))/(-1 + ploidy(t)) + (c4*(2**(1 + l4)*5**l4 + ploidy(t)*(-(2**(1 + l4)*5**l4) + 10**l2 - 10**l2*np.sin(q))))/(2.*(-1 + ploidy(t)))\n",
    "        return np.append(dtc2, dtc4)\n",
    "\n",
    "    return solP(rhs, Dbirth, Dcoll, Dploidy)"
   ]
  },
  {
   "cell_type": "code",
   "execution_count": 33,
   "metadata": {},
   "outputs": [],
   "source": [
    "def IPd2(Dbirth, Dcoll, Dploidy, lam2, l4, k, q):\n",
    "    l2 = np.log10(lam2)\n",
    "    \n",
    "    def rhs(t, c):\n",
    "        c2 = c[:int(len(c)/2) ]\n",
    "        c4 = c[ int(len(c)/2):]\n",
    "        dtc2=-((2**(1 + k)*5**k*c4*(-1 + ploidy(t)))/ploidy(t)) + 2**(-1 + l2)*5**l2*C_atm(Dbirth + t)*(1 + np.sin(q)) + (c2*(2**(2 + k)*5**k - 10**l2 - (2**(2 + k)*5**k)/ploidy(t) - 10**l2*np.sin(q)))/2.\n",
    "        dtc4=C_atm(Dbirth + t)*(10**l4 + (2**(-2 + l2)*5**l2*ploidy(t)*(-1 + np.sin(q)))/(-1 + ploidy(t))) + (2**(-2 + l2)*5**l2*c2*ploidy(t)*(-1 + np.sin(q)))/(-1 + ploidy(t)) + (c4*(2**(1 + l4)*5**l4 + ploidy(t)*(-(2**(1 + l4)*5**l4) + 10**l2 - 10**l2*np.sin(q))))/(2.*(-1 + ploidy(t)))\n",
    "        return np.append(dtc2, dtc4)\n",
    "\n",
    "    return solP(rhs, Dbirth, Dcoll, Dploidy)"
   ]
  },
  {
   "cell_type": "code",
   "execution_count": 34,
   "metadata": {},
   "outputs": [],
   "source": [
    "# l2 = -2\n",
    "# l4 = -5\n",
    "# k = -10\n",
    "# p = 0.9\n",
    "# q = np.arcsin(2*p-1)\n",
    "\n",
    "# loglam2 = np.log(p*10**l2)\n",
    "# loglam4 = np.log(10**l4)\n",
    "# logk24 = np.log((1-p)*10**l2)\n",
    "# logk42 = np.log(10**k)"
   ]
  },
  {
   "cell_type": "markdown",
   "metadata": {},
   "source": [
    "### Adjust exchange rates"
   ]
  },
  {
   "cell_type": "code",
   "execution_count": 35,
   "metadata": {},
   "outputs": [],
   "source": [
    "def IPk(Dbirth, Dcoll, Dploidy, loglam2, loglam4, logd2, logd4):\n",
    "    lam2 = np.exp(loglam2)\n",
    "    lam4 = np.exp(loglam4)\n",
    "    d2 = np.exp(logd2)\n",
    "    d4 = np.exp(logd4)\n",
    "    \n",
    "    def rhs(t, c):\n",
    "        c2 = c[:int(len(c)/2) ]\n",
    "        c4 = c[ int(len(c)/2):]\n",
    "        dtc2=lam2*(c2 - 2*c4 + C_atm(Dbirth + t)) + (2*(c2 - c4)*(-d4 + lam4 - (d2 - d4 + lam4)*ploidy(t)))/ploidy(t)\n",
    "        dtc4=(-c2 + c4)*lam4 + (lam2*(c2 - 2*c4 + C_atm(Dbirth + t))*ploidy(t))/(2.*(-1 + ploidy(t))) + ((c2 - 2*c4 + C_atm(Dbirth + t))*(-2*d4 + sp.misc.derivative(ploidy, t-Dbirth, 0.001) - (d2 - 2*d4)*ploidy(t)))/(2.*(-1 + ploidy(t)))\n",
    "        return np.append(dtc2, dtc4)\n",
    "\n",
    "    return solP(rhs, Dbirth, Dcoll, Dploidy)"
   ]
  },
  {
   "cell_type": "markdown",
   "metadata": {},
   "source": [
    "### Adjust division rates"
   ]
  },
  {
   "cell_type": "code",
   "execution_count": 36,
   "metadata": {},
   "outputs": [],
   "source": [
    "def IPl(Dbirth, Dcoll, Dploidy, logd2, logd4, logk24, logk42):\n",
    "    d2 = np.exp(logd2)\n",
    "    d4 = np.exp(logd4)\n",
    "    k24 = np.exp(logk24)\n",
    "    k42 = np.exp(logk42)\n",
    "    \n",
    "    def rhs(t, c):\n",
    "        c2 = c[:int(len(c)/2) ]\n",
    "        c4 = c[ int(len(c)/2):]\n",
    "        dtc2=(2*c4*k42 - c2*sp.misc.derivative(ploidy, t, 0.001) - (c2*(d2 + k24) + 2*c4*k42)*ploidy(t) + C_atm(Dbirth + t)*(-2*k42 + sp.misc.derivative(ploidy, t, 0.001) + (d2 + k24 + 2*k42)*ploidy(t)))/ploidy(t)\n",
    "        dtc4=(2*c4*(d4 + k42 - sp.misc.derivative(ploidy, t, 0.001)) - (c2*k24 + 2*c4*(d4 + k42))*ploidy(t) + C_atm(Dbirth + t)*(-2*(d4 + k42 - sp.misc.derivative(ploidy, t, 0.001)) + (2*d4 + k24 + 2*k42)*ploidy(t)))/(2.*(-1 + ploidy(t)))\n",
    "        return np.append(dtc2, dtc4)\n",
    "\n",
    "    return solP(rhs, Dbirth, Dcoll, Dploidy)"
   ]
  },
  {
   "cell_type": "markdown",
   "metadata": {},
   "source": [
    "### Adjust k24, d4 rates"
   ]
  },
  {
   "cell_type": "code",
   "execution_count": 37,
   "metadata": {},
   "outputs": [],
   "source": [
    "def IPk24d4(Dbirth, Dcoll, Dploidy, loglam2, loglam4, logd2, logk42):\n",
    "    lam2 = np.exp(loglam2)\n",
    "    lam4 = np.exp(loglam4)\n",
    "    d2 = np.exp(logd2)\n",
    "    k42 = np.exp(logk42)\n",
    "    \n",
    "    def rhs(t, c):\n",
    "        c2 = c[:int(len(c)/2) ]\n",
    "        c4 = c[ int(len(c)/2):]\n",
    "        dtc2=lam2*(-c2 + C_atm(Dbirth + t)) + (2*(c2 - c4)*k42*(-1 + ploidy(t)))/ploidy(t)\n",
    "        dtc4=lam4*(-c4 + C_atm(Dbirth + t)) - (lam2*(c2 - 2*c4 + C_atm(Dbirth + t))*ploidy(t))/(2.*(-1 + ploidy(t))) + ((c2 - 2*c4 + C_atm(Dbirth + t))*(-2*k42 + sp.misc.derivative(ploidy, t, 0.001) + (d2 + 2*k42)*ploidy(t)))/(2.*(-1 + ploidy(t)))\n",
    "        return np.append(dtc2, dtc4)\n",
    "\n",
    "    return solP(rhs, Dbirth, Dcoll, Dploidy)"
   ]
  },
  {
   "cell_type": "markdown",
   "metadata": {},
   "source": [
    "## Ploidy models with assumptions"
   ]
  },
  {
   "cell_type": "markdown",
   "metadata": {},
   "source": [
    "### `IP_l40`: Ploidy model, lam4=0, d2=d4, k42=0"
   ]
  },
  {
   "cell_type": "code",
   "execution_count": 38,
   "metadata": {},
   "outputs": [],
   "source": [
    "def IP_l40(Dbirth, Dcoll, Dploidy, loglam2):\n",
    "    lam2 = np.exp(loglam2)\n",
    "    \n",
    "    def rhs(t, c):\n",
    "        c2 = c[:int(len(c)/2) ]\n",
    "        c4 = c[ int(len(c)/2):]\n",
    "        dtc2=lam2*(-c2 + C_atm(Dbirth + t))\n",
    "        dtc4=(sp.misc.derivative(ploidy, t-Dbirth, 0.001)*(c2 - 2*c4 + C_atm(Dbirth + t)))/(2.*(-1 + ploidy(t))) + (lam2*(c2 - 2*c4 + C_atm(Dbirth + t))*ploidy(t))/2.\n",
    "        return np.append(dtc2, dtc4)\n",
    "    \n",
    "    return solP(rhs, Dbirth, Dcoll, Dploidy)"
   ]
  },
  {
   "cell_type": "markdown",
   "metadata": {},
   "source": [
    "### `IP_l2l4`: Ploidy model - same death, division rate, k42=0"
   ]
  },
  {
   "cell_type": "code",
   "execution_count": 39,
   "metadata": {},
   "outputs": [],
   "source": [
    "def solP(rhs, Dbirth, Dcoll, Dploidy):\n",
    "    def rhs2(t, c):\n",
    "        return np.where(t<=np.append(Dcoll-Dbirth, Dcoll-Dbirth), rhs(t, c), 0)\n",
    "    \n",
    "    C_init = C_atm(Dbirth)\n",
    "    C_init = np.append(C_init, C_init)\n",
    "    \n",
    "    sol = sp.integrate.solve_ivp(fun=rhs2,\n",
    "                                 t_span=(0, np.max(Dcoll-Dbirth)),\n",
    "                                 t_eval=[np.max(Dcoll-Dbirth)],\n",
    "                                 y0=C_init,\n",
    "                                vectorized=False,\n",
    "                                max_step=step,\n",
    "                                first_step=step,\n",
    "                                rtol=np.inf,\n",
    "                                atol=np.inf,\n",
    "                                method='RK45'\n",
    "                                )\n",
    "    c = sol.y[:,0]\n",
    "    c2 = c[:int(len(c)/2) ]\n",
    "    c4 = c[ int(len(c)/2):]\n",
    "    c24 = np.vstack((c2, c4))\n",
    "    \n",
    "    w = np.empty_like(c24)\n",
    "    w[0, :] = ploidy(Dcoll-Dbirth)\n",
    "    w[1, :] = 2*(1-w[0, :])\n",
    "    w[0, Dploidy=='2n'] = ploidy(Dcoll[Dploidy=='2n']-Dbirth[Dploidy=='2n'])\n",
    "    w[1, Dploidy=='2n'] = 2*ploidy2x2(Dcoll[Dploidy=='2n']-Dbirth[Dploidy=='2n'])\n",
    "\n",
    "    w[0, Dploidy=='4n'] = 0\n",
    "    w[1, Dploidy=='4n'] = 1\n",
    "    \n",
    "    return c24"
   ]
  },
  {
   "cell_type": "code",
   "execution_count": 40,
   "metadata": {
    "ExecuteTime": {
     "end_time": "2019-02-08T14:39:38.617314Z",
     "start_time": "2019-02-08T14:39:38.606611Z"
    }
   },
   "outputs": [],
   "source": [
    "def IP_l2l4(Dbirth, Dcoll, Dploidy, loglam2):\n",
    "    lam2 = np.exp(loglam2)\n",
    "    \n",
    "    def rhs(t, c):\n",
    "        c2 = c[:int(len(c)/2) ]\n",
    "        c4 = c[ int(len(c)/2):]\n",
    "        dtc2=lam2*(-c2 + C_atm(Dbirth + t))\n",
    "        dtc4=lam2*(-c4 + C_atm(Dbirth + t)) + (sp.misc.derivative(ploidy, t-Dbirth, 0.001)*(c2 - 2*c4 + C_atm(Dbirth + t)))/(2.*(-1 + ploidy(t)))\n",
    "        return np.append(dtc2, dtc4)\n",
    "    \n",
    "    return solP(rhs, Dbirth, Dcoll, Dploidy)"
   ]
  },
  {
   "cell_type": "markdown",
   "metadata": {},
   "source": [
    "### `IP_l40_step`: Ploidy model step - same death, lam4=0, k42=0"
   ]
  },
  {
   "cell_type": "code",
   "execution_count": 41,
   "metadata": {
    "ExecuteTime": {
     "end_time": "2019-02-11T09:56:00.029017Z",
     "start_time": "2019-02-11T09:56:00.013824Z"
    }
   },
   "outputs": [],
   "source": [
    "def IP_l40_lamfunc(Dbirth, Dcoll, Dploidy, lamfunc):\n",
    "    \n",
    "    def rhs(t, c):\n",
    "        c2 = c[:int(len(c)/2) ]\n",
    "        c4 = c[ int(len(c)/2):]\n",
    "        dtc2=lamfunc(t)*(-c2 + C_atm(Dbirth + t))\n",
    "        dtc4=(sp.misc.derivative(ploidy, t-Dbirth, 0.001)*(c2 - 2*c4 + C_atm(Dbirth + t)))/(2.*(-1 + ploidy(t))) + (lamfunc(t)*(c2 - 2*c4 + C_atm(Dbirth + t))*ploidy(t))/2.\n",
    "        return np.append(dtc2, dtc4)\n",
    "    \n",
    "    return solP(rhs, Dbirth, Dcoll, Dploidy)"
   ]
  },
  {
   "cell_type": "code",
   "execution_count": 42,
   "metadata": {
    "ExecuteTime": {
     "end_time": "2019-02-11T09:56:00.498704Z",
     "start_time": "2019-02-11T09:56:00.492194Z"
    }
   },
   "outputs": [],
   "source": [
    "def IP_l40_step(Dbirth, Dcoll, Dploidy, loglam1, loglam2, t_step):   \n",
    "    return IP_l40_lamfunc(Dbirth, Dcoll, Dploidy, lambda t: np.where(t <= t_step, np.exp(loglam1), np.exp(loglam2)))"
   ]
  },
  {
   "cell_type": "code",
   "execution_count": 43,
   "metadata": {
    "ExecuteTime": {
     "end_time": "2019-02-11T09:56:00.498704Z",
     "start_time": "2019-02-11T09:56:00.492194Z"
    }
   },
   "outputs": [],
   "source": [
    "def IP_l40_hill(Dbirth, Dcoll, Dploidy, loglam1, loglam2, t_step):  \n",
    "    lam1 = np.exp(loglam1)\n",
    "    lam2 = np.exp(loglam2)\n",
    "    n=2\n",
    "    return IP_l40_lamfunc(Dbirth, Dcoll, Dploidy, lambda t: lam1 + (-lam1+lam2) * t**n/(t_step**n + t**n))"
   ]
  },
  {
   "cell_type": "code",
   "execution_count": 44,
   "metadata": {
    "ExecuteTime": {
     "end_time": "2019-02-11T09:56:00.498704Z",
     "start_time": "2019-02-11T09:56:00.492194Z"
    }
   },
   "outputs": [],
   "source": [
    "def IP_l40_interp(Dbirth, Dcoll, Dploidy, loglam1, loglam2, t_step):  \n",
    "    lam1 = np.exp(loglam1)\n",
    "    lam2 = np.exp(loglam2)\n",
    "    dt = 20.\n",
    "    return IP_l40_lamfunc(Dbirth, Dcoll, Dploidy, lambda t: np.interp(t, [t_step-dt/2, t_step+dt/2], [lam1, lam2]))"
   ]
  },
  {
   "cell_type": "markdown",
   "metadata": {},
   "source": [
    "### `IP_l40_lin`: Ploidy model step - same death, lam4=0, k42=0"
   ]
  },
  {
   "cell_type": "code",
   "execution_count": 45,
   "metadata": {
    "ExecuteTime": {
     "end_time": "2019-02-11T09:56:00.498704Z",
     "start_time": "2019-02-11T09:56:00.492194Z"
    }
   },
   "outputs": [],
   "source": [
    "def IP_l40_lin(Dbirth, Dcoll, Dploidy, loglam0, loglam100):  \n",
    "    return IP_l40_lamfunc(Dbirth, Dcoll, Dploidy, lambda t: np.interp(t, [0, 100], [np.exp(loglam0), np.exp(loglam100)]))"
   ]
  },
  {
   "cell_type": "markdown",
   "metadata": {},
   "source": [
    "### `IP_l2l4_step`: Ploidy model step - same death, division rate, k42=0"
   ]
  },
  {
   "cell_type": "code",
   "execution_count": 46,
   "metadata": {
    "ExecuteTime": {
     "end_time": "2019-02-11T09:56:00.029017Z",
     "start_time": "2019-02-11T09:56:00.013824Z"
    }
   },
   "outputs": [],
   "source": [
    "def IP_l2l4_lamfunc(Dbirth, Dcoll, Dploidy, lamfunc):\n",
    "    \n",
    "    def rhs(t, c):\n",
    "        c2 = c[:int(len(c)/2) ]\n",
    "        c4 = c[ int(len(c)/2):]\n",
    "        dtc2=lamfunc(t)*(-c2 + C_atm(Dbirth + t))\n",
    "        dtc4=lamfunc(t)*(-c4 + C_atm(Dbirth + t)) + (sp.misc.derivative(ploidy, t-Dbirth, 0.001)*(c2 - 2*c4 + C_atm(Dbirth + t)))/(2.*(-1 + ploidy(t)))\n",
    "        return np.append(dtc2, dtc4)\n",
    "    \n",
    "    return solP(rhs, Dbirth, Dcoll, Dploidy)"
   ]
  },
  {
   "cell_type": "code",
   "execution_count": 47,
   "metadata": {},
   "outputs": [],
   "source": [
    "def IP_l2l4_step(Dbirth, Dcoll, Dploidy, loglam1, loglam2, t_step):   \n",
    "    return IP_l2l4_lamfunc(Dbirth, Dcoll, Dploidy, lambda t: np.where(t <= t_step, np.exp(loglam1), np.exp(loglam2)))"
   ]
  },
  {
   "cell_type": "markdown",
   "metadata": {},
   "source": [
    "# Optimization"
   ]
  },
  {
   "cell_type": "code",
   "execution_count": 48,
   "metadata": {},
   "outputs": [],
   "source": [
    "rate_min = np.log(1e-2)\n",
    "rate_max = np.log(1)"
   ]
  },
  {
   "cell_type": "code",
   "execution_count": 49,
   "metadata": {},
   "outputs": [],
   "source": [
    "ranges = {}\n",
    "# ranges['I1'] = [(rate_min, ), (rate_max, )]\n",
    "# ranges['I1T_step'] = [(rate_min, rate_min, 10), (rate_max, rate_max, 80)]\n",
    "# # ranges['I1T_lin'] = [(rate_min, rate_min), (rate_max, rate_max)]\n",
    "# ranges['IPd'] = [(rate_min, rate_min, rate_min, rate_min), (rate_max, rate_max, np.log(0.1), np.log(0.1))]\n",
    "ranges['IPd2'] = [(rate_min, rate_min, rate_min, 0), (rate_max, rate_max, np.log(0.1), np.pi/2)]\n",
    "# ranges['IPk24d4'] = [(rate_min, rate_min, rate_min, rate_min), (rate_max, rate_max, rate_max, np.log(0.1))]\n",
    "\n",
    "# # # ranges['IPk'] = [(-10, -10, -10, -10), (1, 1, 1, 1)]\n",
    "# # # ranges['IPl'] = [(-10, -10, -10, -10), (1, 1, np.log(0.1), np.log(0.1))]\n",
    "\n",
    "\n",
    "# ranges['IP_l2l4'] = [(rate_min, ), (rate_max, )]\n",
    "\n",
    "# # # ranges['IP_dlk0'] = [(-10, ), (1, )]\n",
    "# ranges['IP_l2l4_step'] = [(rate_min, rate_min, 10), (rate_max, rate_max, 80)]\n",
    "# ranges['IP_l40_lin'] = [(rate_min, rate_min), (rate_max, rate_max)]\n",
    "\n",
    "# ranges['IP_l40_step'] = [(rate_min, rate_min, 10), (rate_max, rate_max, 80)]\n",
    "# # ranges['IP_l40_hill'] = [(rate_min, rate_min, 10), (rate_max, rate_max, 80)]\n",
    "# # ranges['IP_l40_interp'] = [(rate_min, rate_min, 10), (rate_max, rate_max, 80)]\n",
    "# ranges['IP_l40'] = [(rate_min, ), (rate_max, )]"
   ]
  },
  {
   "cell_type": "code",
   "execution_count": 50,
   "metadata": {},
   "outputs": [],
   "source": [
    "modelnames = list(ranges.keys())"
   ]
  },
  {
   "cell_type": "code",
   "execution_count": 51,
   "metadata": {},
   "outputs": [],
   "source": [
    "errors = {modelname: 0.1 for modelname in modelnames}"
   ]
  },
  {
   "cell_type": "code",
   "execution_count": 52,
   "metadata": {},
   "outputs": [],
   "source": [
    "limits = {modelname: None for modelname in modelnames}\n",
    "limits['I1'] = [(None, rate_max)]\n",
    "limits['I1T_step'] = [(None, rate_max), (None, rate_max), None]\n",
    "limits['I1T_lin'] = [(None, rate_max), (None, rate_max)]\n",
    "limits['IPd'] = [(None, rate_max), (None, rate_max), (None, np.log(0.1)), (None, np.log(0.1))]\n",
    "limits['IPd2'] = [(None, rate_max), (None, rate_max), (None, np.log(0.1)), (None, None)]\n",
    "limits['IPk24d4'] = [(None, rate_max), (None, rate_max), (None, rate_max), (None, np.log(0.1))]\n",
    "limits['IP_l40'] = [(None, rate_max)]\n",
    "limits['IP_l2l4'] = [(None, rate_max)]\n",
    "limits['IP_l2l4_step'] = [(None, rate_max), (None, rate_max), None]\n",
    "limits['IP_l40_step'] = [(None, rate_max), (None, rate_max), None]\n",
    "limits['IP_l40_hill'] = [(None, rate_max), (None, rate_max), None]\n",
    "limits['IP_l40_interp'] = [(None, rate_max), (None, rate_max), None]\n",
    "limits['IP_l40_lin'] = [(None, rate_max), (None, rate_max)]"
   ]
  },
  {
   "cell_type": "code",
   "execution_count": 53,
   "metadata": {},
   "outputs": [],
   "source": [
    "datasets = {}\n",
    "datasets['hepatocytes'] = c14_patient_data.query('type == \"hepatocyte\"').copy()\n",
    "# datasets['hepatocytes_N'] = c14_patient_data.query('type == \"hepatocyte\" and pathology in [\"N\"]').copy()\n",
    "# datasets['hepatocytes_T'] = c14_patient_data.query('type == \"hepatocyte\" and pathology in [\"T\"]').copy()\n",
    "# datasets['hepatocytes_Y'] = c14_patient_data.query('type == \"hepatocyte\" and pathology in [\"Y\"]').copy()\n",
    "# datasets['hepatocytes_NT'] = c14_patient_data.query('type == \"hepatocyte\" and pathology in [\"N\", \"T\"]').copy()\n",
    "# datasets['non-hepatocytes'] = c14_patient_data.query('type == \"non-hepatocyte\"').copy()\n",
    "# datasets['unsorted'] = c14_patient_data.query('type == \"unsorted\"').copy()"
   ]
  },
  {
   "cell_type": "code",
   "execution_count": 54,
   "metadata": {},
   "outputs": [],
   "source": [
    "# len(datasets['hepatocytes']) + len(datasets['non-hepatocytes']) + len(datasets['unsorted']) == len(c14_patient_data)"
   ]
  },
  {
   "cell_type": "code",
   "execution_count": 55,
   "metadata": {},
   "outputs": [],
   "source": [
    "multistart_result = {condition: {} for condition in datasets.keys()}"
   ]
  },
  {
   "cell_type": "code",
   "execution_count": 56,
   "metadata": {},
   "outputs": [],
   "source": [
    "models_to_fit = {}\n",
    "for dataset in datasets.keys():\n",
    "    if dataset.startswith('hepato'):\n",
    "        models_to_fit[dataset] = [name for name in modelnames if name.startswith('IP')]\n",
    "#         models_to_fit[dataset] = [name for name in modelnames if name.startswith('I1')]\n",
    "    else:\n",
    "        models_to_fit[dataset] = [name for name in modelnames if name.startswith('I1')]\n",
    "    models_to_fit[dataset].sort()"
   ]
  },
  {
   "cell_type": "code",
   "execution_count": 57,
   "metadata": {},
   "outputs": [
    {
     "name": "stderr",
     "output_type": "stream",
     "text": [
      "WARNING:root:[MemorizedFunc(func=<function multistart_migrad at 0x7f3b49b1b950>, location=/scratch/cache/inference_new_data_new/joblib)]: Clearing function cache identified by __main__--home-fabrost-pksCloud-projects-C14_liver-source-fabian-python-__ipython-input__/multistart_migrad\n"
     ]
    }
   ],
   "source": [
    "multistart_migrad.clear()"
   ]
  },
  {
   "cell_type": "code",
   "execution_count": 58,
   "metadata": {},
   "outputs": [
    {
     "name": "stderr",
     "output_type": "stream",
     "text": [
      "WARNING:root:[MemorizedFunc(func=<function multistart_migrad at 0x7f3b49b1b950>, location=/scratch/cache/inference_new_data_new/joblib)]: Clearing function cache identified by __main__--home-fabrost-pksCloud-projects-C14_liver-source-fabian-python-__ipython-input__/multistart_migrad\n"
     ]
    }
   ],
   "source": [
    "multistart_migrad.clear()"
   ]
  },
  {
   "cell_type": "code",
   "execution_count": 59,
   "metadata": {},
   "outputs": [
    {
     "name": "stdout",
     "output_type": "stream",
     "text": [
      "hepatocytes IPd2 2019-05-29 16:15:29.115797\n",
      "________________________________________________________________________________\n",
      "[Memory] Calling __main__--home-fabrost-pksCloud-projects-C14_liver-source-fabian-python-__ipython-input__.multistart_migrad...\n",
      "multistart_migrad('IPd2', [ (-4.605170185988091, -4.605170185988091, -4.605170185988091, 0),\n",
      "  (0.0, 0.0, -2.3025850929940455, 1.5707963267948966)], \n",
      "'hepatocytes', error=0.1, limit=[(None, 0.0), (None, 0.0), (None, -2.3025850929940455), (None, None)], n=7, step_=2, processes=7)\n",
      "_______________________________________________multistart_migrad - 22.8s, 0.4min\n",
      "CPU times: user 108 ms, sys: 81.5 ms, total: 190 ms\n",
      "Wall time: 22.8 s\n"
     ]
    }
   ],
   "source": [
    "%%time\n",
    "warnings.filterwarnings(\"ignore\")\n",
    "for dataset in np.sort(list(datasets.keys())):\n",
    "    for modelname in models_to_fit[dataset]:\n",
    "        print(dataset, modelname, datetime.datetime.now())\n",
    "        try:\n",
    "            multistart_result[dataset][modelname] = \\\n",
    "                multistart_migrad(modelname, ranges[modelname], dataset, \n",
    "                                  error=errors[modelname], limit=limits[modelname], \n",
    "                                  n=7, step_=2, \n",
    "                                  processes=7)\n",
    "        except KeyboardInterrupt:\n",
    "            raise\n",
    "        except:\n",
    "            print(dataset, modelname, 'did not work')\n",
    "            raise\n",
    "            "
   ]
  },
  {
   "cell_type": "markdown",
   "metadata": {},
   "source": [
    "# Results"
   ]
  },
  {
   "cell_type": "markdown",
   "metadata": {},
   "source": [
    "## Hepatocytes"
   ]
  },
  {
   "cell_type": "code",
   "execution_count": 60,
   "metadata": {},
   "outputs": [
    {
     "name": "stdout",
     "output_type": "stream",
     "text": [
      "IPd2\n"
     ]
    },
    {
     "data": {
      "image/png": "[encoded data removed]",
      "text/plain": [
       "<Figure size 432x288 with 2 Axes>"
      ]
     },
     "metadata": {
      "needs_background": "light"
     },
     "output_type": "display_data"
    },
    {
     "name": "stdout",
     "output_type": "stream",
     "text": [
      "Parameter values\n",
      "l2: -0.61907 +- 0.203728\n",
      "l4: -0.9466 +- 0.622586\n",
      "k: -2.30263 +- 6.09443\n",
      "q: 0.661923 +- 1.02481\n",
      "\n"
     ]
    },
    {
     "data": {
      "text/html": [
       "<div>\n",
       "<style scoped>\n",
       "    .dataframe tbody tr th:only-of-type {\n",
       "        vertical-align: middle;\n",
       "    }\n",
       "\n",
       "    .dataframe tbody tr th {\n",
       "        vertical-align: top;\n",
       "    }\n",
       "\n",
       "    .dataframe thead th {\n",
       "        text-align: right;\n",
       "    }\n",
       "</style>\n",
       "<table border=\"1\" class=\"dataframe\">\n",
       "  <thead>\n",
       "    <tr style=\"text-align: right;\">\n",
       "      <th></th>\n",
       "      <th>loglike</th>\n",
       "      <th>k</th>\n",
       "      <th>n</th>\n",
       "      <th>cAIC</th>\n",
       "    </tr>\n",
       "  </thead>\n",
       "  <tbody>\n",
       "    <tr>\n",
       "      <th>IPd2</th>\n",
       "      <td>89.21343</td>\n",
       "      <td>5.0</td>\n",
       "      <td>41.0</td>\n",
       "      <td>-166.712575</td>\n",
       "    </tr>\n",
       "  </tbody>\n",
       "</table>\n",
       "</div>"
      ],
      "text/plain": [
       "       loglike    k     n        cAIC\n",
       "IPd2  89.21343  5.0  41.0 -166.712575"
      ]
     },
     "execution_count": 60,
     "metadata": {},
     "output_type": "execute_result"
    }
   ],
   "source": [
    "results = pd.DataFrame()\n",
    "dataset = 'hepatocytes'\n",
    "for modelname, result in multistart_result[dataset].items():\n",
    "    summarise(result)\n",
    "results.sort_values('cAIC')"
   ]
  },
  {
   "cell_type": "code",
   "execution_count": 61,
   "metadata": {},
   "outputs": [],
   "source": [
    "res = multistart_result[dataset]['IPd2'].sort_values('fval').iloc[0]"
   ]
  },
  {
   "cell_type": "code",
   "execution_count": 63,
   "metadata": {},
   "outputs": [
    {
     "data": {
      "text/plain": [
       "IPd2\n",
       "x0        [-3.2040828793926828, -2.1885775121298114, -3....\n",
       "fval                                               -89.2134\n",
       "values    [-0.6190698943158557, -0.9466003650997123, -2....\n",
       "errors    [0.2037283901126179, 0.6225858754599803, 6.094...\n",
       "corr      [[1.0, -0.9492079002131166, -0.000898260283775...\n",
       "cov       [[0.04192121576929044, -0.1235477728033649, -1...\n",
       "valid                                                  True\n",
       "n                                                        41\n",
       "Name: 4, dtype: object"
      ]
     },
     "execution_count": 63,
     "metadata": {},
     "output_type": "execute_result"
    }
   ],
   "source": [
    "res"
   ]
  },
  {
   "cell_type": "code",
   "execution_count": 64,
   "metadata": {},
   "outputs": [
    {
     "data": {
      "image/png": "[encoded data removed]",
      "text/plain": [
       "<Figure size 432x288 with 2 Axes>"
      ]
     },
     "metadata": {
      "needs_background": "light"
     },
     "output_type": "display_data"
    }
   ],
   "source": [
    "def plot_IPd2(res, axs=None):\n",
    "    np.random.seed(42)\n",
    "    steps = 50\n",
    "    size = 1000\n",
    "    t = np.linspace(0, 100, steps)\n",
    "    if axs is None:\n",
    "        fig, axs = plt.subplots(1, 2)\n",
    "\n",
    "    t = np.broadcast_to(np.linspace(0, 100, steps), (size, steps))\n",
    "    l2, l4, k, q = np.random.multivariate_normal(res['values'], res['cov'], size=size).T\n",
    "    lambda2 = np.broadcast_to((10**l2).T, (steps, size)).T\n",
    "    lambda4 = np.broadcast_to((10**l4).T, (steps, size)).T\n",
    "    kappa = np.broadcast_to((10**k).T, (steps, size)).T\n",
    "    p = np.broadcast_to((0.5*(np.sin(q)+1)).T, (steps, size)).T\n",
    "\n",
    "    delta2 = -((-2*kappa + ploidy.derivative()(t) + 2*kappa*ploidy(t) + lambda2*ploidy(t) - 2*lambda2*p*ploidy(t))/ploidy(t))\n",
    "    delta4 = -((-kappa + lambda4 + ploidy.derivative()(t) + kappa*ploidy(t) + lambda2*ploidy(t) - lambda4*ploidy(t) - lambda2*p*ploidy(t))/(-1 + ploidy(t)))\n",
    "#     ax.plot(t.mean(axis=0), np.mean(delta2, axis=0), label='delta2_mean')\n",
    "    \n",
    "    for label in ['lambda2', 'lambda4', 'kappa', 'delta2', 'delta4']:\n",
    "        parameter = eval(label)\n",
    "        axs[0].plot(t.mean(axis=0), np.median(parameter, axis=0), label=label)\n",
    "        axs[0].fill_between(t.mean(axis=0), np.percentile(parameter, 15.9, axis=0), np.percentile(parameter, 100-15.9, axis=0), alpha=0.1)\n",
    "    axs[0].legend()\n",
    "    \n",
    "    axs[1].plot(t.mean(axis=0), np.median(p, axis=0), label='p')\n",
    "    axs[1].fill_between(t.mean(axis=0), np.percentile(p, 15.9, axis=0), np.percentile(p, 100-15.9, axis=0), alpha=0.1)\n",
    "    axs[1].legend()\n",
    "    \n",
    "    \n",
    "fig, axs = plt.subplots(1, 2)\n",
    "k = plot_IPd2(res, axs=axs)\n",
    "axs[0].set_ylim(0, 1)\n",
    "plt.show()"
   ]
  },
  {
   "cell_type": "code",
   "execution_count": 307,
   "metadata": {},
   "outputs": [
    {
     "data": {
      "text/plain": [
       "0.06896566264633465"
      ]
     },
     "execution_count": 307,
     "metadata": {},
     "output_type": "execute_result"
    }
   ],
   "source": [
    "k.std()"
   ]
  },
  {
   "cell_type": "code",
   "execution_count": 84,
   "metadata": {},
   "outputs": [
    {
     "data": {
      "text/plain": [
       "0.24043628000069334"
      ]
     },
     "execution_count": 84,
     "metadata": {},
     "output_type": "execute_result"
    }
   ],
   "source": [
    "10**-0.619"
   ]
  },
  {
   "cell_type": "code",
   "execution_count": 85,
   "metadata": {},
   "outputs": [
    {
     "data": {
      "text/plain": [
       "0.11308369745174796"
      ]
     },
     "execution_count": 85,
     "metadata": {},
     "output_type": "execute_result"
    }
   ],
   "source": [
    "10**-0.9466"
   ]
  },
  {
   "cell_type": "code",
   "execution_count": null,
   "metadata": {},
   "outputs": [],
   "source": [
    "lam2 = np.exp(multistart_result[dataset]['IP_l40'].sort_values('fval').query('valid').iloc[0]['values'])\n",
    "t = np.linspace(0, 85)\n",
    "\n",
    "d2 = lam2*ploidy(t)\n",
    "k24 = -((-(lam2*ploidy(t)) + lam2*ploidy(t)**2 + sp.misc.derivative(ploidy, t, 0.001))/ploidy(t))\n",
    "# d4 = (-k42 - lam4 + d2*ploidy(t) + k42*ploidy(t) - lam2*ploidy(t) + \\\n",
    "#     lam4*ploidy(t))/(-1 + ploidy(t))\n",
    "plt.plot(t, k24, label='k24')\n",
    "plt.plot(t, d2, label='d2')\n",
    "plt.plot([0, 100], [lam2, lam2], label='lam2')\n",
    "plt.legend()\n",
    "plt.xlabel('age (years)')\n",
    "plt.ylabel('rate(1/years)')\n",
    "plt.show()"
   ]
  },
  {
   "cell_type": "code",
   "execution_count": null,
   "metadata": {},
   "outputs": [],
   "source": [
    "lam2 = np.exp(multistart_result[dataset]['IP_l40'].sort_values('fval').query('valid').iloc[0]['values'])\n",
    "t = np.linspace(0, 85)\n",
    "\n",
    "d2 = lam2*ploidy(t)\n",
    "k24 = -((-(lam2*ploidy(t)) + lam2*ploidy(t)**2 + sp.misc.derivative(ploidy, t, 0.001))/ploidy(t))\n",
    "p=lam2/(k24 + lam2)\n",
    "r=k24 + lam2\n",
    "\n",
    "plt.plot(t, p, label='p')\n",
    "plt.plot(t, ploidy(t), label='ploidy')\n",
    "plt.plot(t, r, label='r')\n",
    "plt.legend()\n",
    "plt.xlabel('age (years)')\n",
    "plt.ylabel('rate(1/years)')\n",
    "plt.show()"
   ]
  },
  {
   "cell_type": "markdown",
   "metadata": {},
   "source": [
    "Plot k24 for IPk24d4"
   ]
  },
  {
   "cell_type": "code",
   "execution_count": null,
   "metadata": {},
   "outputs": [],
   "source": [
    "lam2, lam4, d2, k42 = np.exp(multistart_result[dataset]['IPk24d4'].sort_values('fval').query('valid').iloc[0]['values'])\n",
    "t = np.linspace(0, 85)\n",
    "k24 = (2*k42 - sp.misc.derivative(ploidy, t, 0.001) - d2*ploidy(t) - 2*k42*ploidy(t) + lam2*ploidy(t))/ploidy(t)\n",
    "d4 = (-k42 - lam4 + d2*ploidy(t) + k42*ploidy(t) - lam2*ploidy(t) + \\\n",
    "    lam4*ploidy(t))/(-1 + ploidy(t))\n",
    "plt.plot(t, k24, label='k24')\n",
    "plt.plot(t, d4, label='d4')\n",
    "plt.plot([0, 100], [d2, d2], label='d2')\n",
    "plt.legend()\n",
    "plt.xlabel('age (years)')\n",
    "plt.ylabel('rate(1/years)')\n",
    "plt.show()"
   ]
  },
  {
   "cell_type": "markdown",
   "metadata": {},
   "source": [
    "Plot lam2 for `IPl`"
   ]
  },
  {
   "cell_type": "code",
   "execution_count": null,
   "metadata": {},
   "outputs": [],
   "source": [
    "d2, d4, k24, k42 = np.exp(multistart_result['hepatocytes']['IPl'].sort_values('fval').query('valid').iloc[0]['values'])\n",
    "t = np.linspace(0, 85)\n",
    "lam2 = -((2*k42 - d2*ploidy(t) - k24*ploidy(t) - 2*k42*ploidy(t) - sp.misc.derivative(ploidy, t, 0.001))/ploidy(t))\n",
    "plt.plot(t, lam2)"
   ]
  },
  {
   "cell_type": "markdown",
   "metadata": {},
   "source": [
    "# Weights and Evidence ratio"
   ]
  },
  {
   "cell_type": "code",
   "execution_count": null,
   "metadata": {},
   "outputs": [],
   "source": [
    "final_results = results.copy()"
   ]
  },
  {
   "cell_type": "code",
   "execution_count": null,
   "metadata": {},
   "outputs": [],
   "source": [
    "final_results['delta'] = final_results['cAIC'] - final_results['cAIC'].min() \n",
    "final_results['w'] = np.exp(-0.5*final_results['delta']) / np.exp(-0.5*final_results['delta']).sum()\n",
    "final_results['ER'] = final_results['w'].max() / final_results['w']\n",
    "final_results.sort_values('cAIC')"
   ]
  },
  {
   "cell_type": "code",
   "execution_count": null,
   "metadata": {},
   "outputs": [],
   "source": [
    "final_results = results.loc[['IP', 'IP_dlk0',\n",
    "       'IP_dlk0_step', 'IP_l40', 'IP_l40_dd_k420']]"
   ]
  },
  {
   "cell_type": "code",
   "execution_count": null,
   "metadata": {},
   "outputs": [],
   "source": [
    "final_results['delta'] = final_results['cAIC'] - final_results['cAIC'].min() \n",
    "final_results['w'] = np.exp(-0.5*final_results['delta']) / np.exp(-0.5*final_results['delta']).sum()\n",
    "final_results['ER'] = final_results['w'].max() / final_results['w']\n",
    "final_results.sort_values('cAIC')"
   ]
  },
  {
   "cell_type": "markdown",
   "metadata": {},
   "source": [
    "# Some plots"
   ]
  },
  {
   "cell_type": "markdown",
   "metadata": {},
   "source": [
    "## For Paula"
   ]
  },
  {
   "cell_type": "markdown",
   "metadata": {},
   "source": [
    "### Hepatocytes"
   ]
  },
  {
   "cell_type": "markdown",
   "metadata": {},
   "source": [
    "#### Results of IP_dlk0_step"
   ]
  },
  {
   "cell_type": "code",
   "execution_count": null,
   "metadata": {},
   "outputs": [],
   "source": [
    "res = multistart_result['hepatocytes']['IP_dlk0_step'].query('valid').sort_values('fval').iloc[0]"
   ]
  },
  {
   "cell_type": "code",
   "execution_count": null,
   "metadata": {},
   "outputs": [],
   "source": [
    "p_val = res['values']\n",
    "p_errors = res['errors']"
   ]
  },
  {
   "cell_type": "markdown",
   "metadata": {},
   "source": [
    "##### Model prediction"
   ]
  },
  {
   "cell_type": "code",
   "execution_count": null,
   "metadata": {},
   "outputs": [],
   "source": [
    "df_model = datasets['hepatocytes'].copy()\n",
    "df_model['predicted dC14'] = IP_dlk0_step(datasets['hepatocytes']['Dbirth'],\n",
    "                                        datasets['hepatocytes']['Dcoll'],\n",
    "                                        *p_val)\n",
    "df_model['predicted Sigma'] = Sigma(p_val, IP_dlk0_step, datasets['hepatocytes'])"
   ]
  },
  {
   "cell_type": "markdown",
   "metadata": {},
   "source": [
    "##### Step function"
   ]
  },
  {
   "cell_type": "code",
   "execution_count": null,
   "metadata": {},
   "outputs": [],
   "source": [
    "np.random.seed(42)\n",
    "n= 10000\n",
    "p_sample = np.random.normal(p_val, p_errors, size=(n, 3)).T"
   ]
  },
  {
   "cell_type": "code",
   "execution_count": null,
   "metadata": {},
   "outputs": [],
   "source": [
    "df_step = pd.DataFrame()\n",
    "df_step['age (years)'] = np.linspace(0, 100, 100)\n",
    "df_step['turnover_rate (1/year)'] = np.exp(loglam_step(df_step['age (years)'], *p_val))\n",
    "vector = np.exp(np.vectorize(loglam_step, signature='(n),(),(),()->(n)')(df_step['age (years)'], p_sample[0], p_sample[1], p_sample[2]))\n",
    "for q in [0.025, 0.975]:\n",
    "    df_step[f'{q*100}% quantile'] = np.quantile(vector, q, axis=0)"
   ]
  },
  {
   "cell_type": "markdown",
   "metadata": {},
   "source": [
    "##### Export"
   ]
  },
  {
   "cell_type": "code",
   "execution_count": null,
   "metadata": {},
   "outputs": [],
   "source": [
    "with pd.ExcelWriter('../../results/step_model_results.xlsx') as writer:  # doctest: +SKIP\n",
    "    df_model.to_excel(writer, sheet_name='model prediction')\n",
    "    df_step.to_excel(writer, sheet_name='step_function')"
   ]
  },
  {
   "cell_type": "code",
   "execution_count": null,
   "metadata": {},
   "outputs": [],
   "source": [
    "sns.set_context('notebook')"
   ]
  },
  {
   "cell_type": "code",
   "execution_count": null,
   "metadata": {},
   "outputs": [],
   "source": [
    "fig, ax = plt.subplots()\n",
    "tt = np.linspace(1930, 2000)\n",
    "ax.plot(tt, C_atm(tt))\n",
    "ax.plot('Dbirth', 'd14C', data=df_model, ls='None', marker='.')\n",
    "ax.errorbar(df_model['Dbirth'], df_model['predicted dC14'], df_model['predicted Sigma'], ls='None', marker='.')\n",
    "plt.xlabel('calendar year')\n",
    "plt.ylabel('d14C')\n",
    "plt.ylim(-0.05, 0.15)\n",
    "plt.legend()\n",
    "plt.show()"
   ]
  },
  {
   "cell_type": "code",
   "execution_count": null,
   "metadata": {},
   "outputs": [],
   "source": [
    "plt.plot('age (years)', 'turnover_rate (1/year)', data=df_step, label='estimate')\n",
    "plt.plot('age (years)', '2.5% quantile', data=df_step, label='95% CI', c='C0', ls='--')\n",
    "plt.plot('age (years)', '97.5% quantile', data=df_step, c='C0', ls='--', label='')\n",
    "plt.xlabel('age (years)')\n",
    "plt.ylabel('turnover rate (1/years)')\n",
    "plt.legend()\n",
    "plt.show()"
   ]
  },
  {
   "cell_type": "markdown",
   "metadata": {},
   "source": [
    "### Non-Hepatocytes"
   ]
  },
  {
   "cell_type": "markdown",
   "metadata": {},
   "source": [
    "#### Results of I1"
   ]
  },
  {
   "cell_type": "code",
   "execution_count": null,
   "metadata": {},
   "outputs": [],
   "source": [
    "dataset = 'non-hepatocytes'"
   ]
  },
  {
   "cell_type": "code",
   "execution_count": null,
   "metadata": {},
   "outputs": [],
   "source": [
    "modelname = 'I1'"
   ]
  },
  {
   "cell_type": "code",
   "execution_count": null,
   "metadata": {},
   "outputs": [],
   "source": [
    "res = multistart_result[dataset][modelname].query('valid').sort_values('fval').iloc[0]"
   ]
  },
  {
   "cell_type": "code",
   "execution_count": null,
   "metadata": {},
   "outputs": [],
   "source": [
    "p_val = res['values']\n",
    "p_errors = res['errors']"
   ]
  },
  {
   "cell_type": "markdown",
   "metadata": {},
   "source": [
    "##### Model prediction"
   ]
  },
  {
   "cell_type": "code",
   "execution_count": null,
   "metadata": {},
   "outputs": [],
   "source": [
    "df_model = datasets[dataset].copy()\n",
    "df_model['predicted dC14'] = eval(modelname)(datasets[dataset]['Dbirth'],\n",
    "                                        datasets[dataset]['Dcoll'],\n",
    "                                        *p_val)\n",
    "df_model['predicted Sigma'] = Sigma(p_val, eval(modelname), datasets[dataset])"
   ]
  },
  {
   "cell_type": "markdown",
   "metadata": {},
   "source": [
    "##### Export"
   ]
  },
  {
   "cell_type": "code",
   "execution_count": null,
   "metadata": {},
   "outputs": [],
   "source": [
    "with pd.ExcelWriter(f'../../results/{modelname}_{dataset}_results.xlsx') as writer:  # doctest: +SKIP\n",
    "    df_model.to_excel(writer, sheet_name='model prediction')"
   ]
  },
  {
   "cell_type": "code",
   "execution_count": null,
   "metadata": {},
   "outputs": [],
   "source": [
    "sns.set_context('notebook')"
   ]
  },
  {
   "cell_type": "code",
   "execution_count": null,
   "metadata": {},
   "outputs": [],
   "source": [
    "fig, ax = plt.subplots()\n",
    "tt = np.linspace(1930, 2000)\n",
    "ax.plot(tt, C_atm(tt))\n",
    "ax.plot('Dbirth', 'd14C', data=df_model, ls='None', marker='.')\n",
    "ax.errorbar(df_model['Dbirth'], df_model['predicted dC14'], df_model['predicted Sigma'], ls='None', marker='.')\n",
    "plt.xlabel('calendar year')\n",
    "plt.ylabel('d14C')\n",
    "plt.ylim(-0.05, 0.15)\n",
    "plt.legend()\n",
    "plt.show()"
   ]
  },
  {
   "cell_type": "code",
   "execution_count": null,
   "metadata": {},
   "outputs": [],
   "source": [
    "plt.plot('age (years)', 'turnover_rate (1/year)', data=df_step, label='estimate')\n",
    "plt.plot('age (years)', '2.5% quantile', data=df_step, label='95% CI', c='C0', ls='--')\n",
    "plt.plot('age (years)', '97.5% quantile', data=df_step, c='C0', ls='--', label='')\n",
    "plt.xlabel('age (years)')\n",
    "plt.ylabel('turnover rate (1/years)')\n",
    "plt.legend()\n",
    "plt.show()"
   ]
  },
  {
   "cell_type": "markdown",
   "metadata": {},
   "source": [
    "## Plot I1T_step"
   ]
  },
  {
   "cell_type": "code",
   "execution_count": null,
   "metadata": {
    "ExecuteTime": {
     "end_time": "2019-02-11T14:49:54.388511Z",
     "start_time": "2019-02-11T14:46:02.985Z"
    }
   },
   "outputs": [],
   "source": [
    "fig, ax = plt.subplots()\n",
    "tt = np.linspace(0, 100, 100)\n",
    "ax.plot(tt, )\n",
    "ax.plot(tt, res_I1T_step.loc[res_I1T_lin['fval'].idxmin(), 'values']\n",
    "        np.exp(loglam_step(tt, \n",
    "                           *res_I1T_step.loc[res_I1T_lin['fval'].idxmin(), 'values'])\n",
    "              ),\n",
    "        label='step'\n",
    "       )\n",
    "ax.set_xlabel('age of person')\n",
    "ax.set_ylabel('turnover rate (per year)')\n",
    "ax.legend()\n",
    "fig.savefig('../../results/plots/sigmoidal_solution.pdf', dpi=300, bboc_inches='tight')\n",
    "plt.show()"
   ]
  },
  {
   "cell_type": "code",
   "execution_count": null,
   "metadata": {
    "ExecuteTime": {
     "end_time": "2019-02-11T14:49:54.389573Z",
     "start_time": "2019-02-11T14:46:02.990Z"
    }
   },
   "outputs": [],
   "source": [
    "# fig, ax = plt.subplots(1, 1, sharex=True, sharey=True, figsize=(6, 4))\n",
    "# time = sp.linspace(1930, 2018, 30)\n",
    "\n",
    "# ax.plot(time, C_atm(time), label='atmospheric $^{14}$C concentration')\n",
    "\n",
    "# ax.plot(exp_data['Dbirth'], exp_data['d14C'], ls='None',\n",
    "#         marker='o', label='C14 in DNA', zorder=10)\n",
    "\n",
    "# for coll in [2005, 2010, 2015, 2020]:\n",
    "#     ax.plot(time[time<coll-5], \n",
    "#             I1T_step(time[time<coll-5], coll, *M_I1T_step.values.values()), label=f'Model (Collection in {coll})')\n",
    "\n",
    "# plt.xlim(1930, 2018)\n",
    "# plt.ylim(-0.12, 0.15)\n",
    "\n",
    "# ax.set_ylabel('$\\Delta^{14}$C')\n",
    "\n",
    "# ax.legend(loc='lower right')\n",
    "# ax.set_xlabel('Calendar year')\n",
    "\n",
    "# plt.savefig('../../results/plots/model_prediction_hepatocytes_v1.pdf', bbox_inches='tight', dpi=300)\n",
    "\n",
    "# plt.show()"
   ]
  },
  {
   "cell_type": "code",
   "execution_count": null,
   "metadata": {
    "ExecuteTime": {
     "end_time": "2019-02-11T14:49:54.390803Z",
     "start_time": "2019-02-11T14:46:02.997Z"
    }
   },
   "outputs": [],
   "source": [
    "# fig, ax = plt.subplots(1, 1, sharex=True, sharey=True, figsize=(6, 4))\n",
    "# time = sp.linspace(1930, 2018, 30)\n",
    "\n",
    "# ax.plot(time, C_atm(time), label='atmospheric $^{14}$C concentration')\n",
    "\n",
    "# ax.plot(exp_data['Dbirth'], exp_data['d14C'], ls='None',\n",
    "#         marker='o', label='Measured $^{14}$C concentration', zorder=10)\n",
    "\n",
    "# ax.errorbar(exp_data['Dbirth'],\n",
    "#            I1T_step(exp_data['Dbirth'], exp_data['Dcoll'], *M_I1T_step.values.values()),\n",
    "#             Sigma(M_I1T_step.values.values(), I1T_step, exp_data),\n",
    "#             ls='None', marker='o', label='Best fit'\n",
    "#            )\n",
    "\n",
    "# plt.xlim(1930, 2018)\n",
    "# plt.ylim(-0.05, 0.15)\n",
    "\n",
    "# ax.set_ylabel('$\\Delta^{14}$C')\n",
    "\n",
    "# ax.legend(loc='lower right')\n",
    "# ax.set_xlabel('Calendar year')\n",
    "\n",
    "# plt.savefig('../../results/plots/model_prediction_hepatocytes_v2.pdf', bbox_inches='tight', dpi=300)\n",
    "\n",
    "# plt.show()"
   ]
  },
  {
   "cell_type": "markdown",
   "metadata": {},
   "source": [
    "## Plot"
   ]
  },
  {
   "cell_type": "code",
   "execution_count": null,
   "metadata": {
    "ExecuteTime": {
     "end_time": "2019-02-11T14:49:54.388511Z",
     "start_time": "2019-02-11T14:46:02.985Z"
    }
   },
   "outputs": [],
   "source": [
    "fig, ax = plt.subplots()\n",
    "tt = np.linspace(0, 100, 100)\n",
    "ax.plot(tt, \n",
    "        lam_lin(tt, *res_I1T_lin.loc[res_I1T_lin['fval'].idxmin(), 'values'])\n",
    "       )\n",
    "# ax.plot(tt, res_I1T_step.loc[res_I1T_lin['fval'].idxmin(), 'values'],\n",
    "#         np.exp(loglam_step(tt, \n",
    "#                            *res_I1T_step.loc[res_I1T_lin['fval'].idxmin(), 'values'])\n",
    "#               )\n",
    "#        )\n",
    "ax.set_xlabel('age of person')\n",
    "ax.set_ylabel('turnover rate (per year)')\n",
    "# fig.savefig('../../results/plots/sigmoidal_solution.pdf', dpi=300, bboc_inches='tight')\n",
    "plt.show()"
   ]
  },
  {
   "cell_type": "markdown",
   "metadata": {},
   "source": [
    "## Plot I1, I1T, I1_memory"
   ]
  },
  {
   "cell_type": "code",
   "execution_count": null,
   "metadata": {
    "ExecuteTime": {
     "end_time": "2018-09-06T14:29:22.973458Z",
     "start_time": "2018-09-06T14:29:21.624810Z"
    }
   },
   "outputs": [],
   "source": [
    "fig, ax = plt.subplots(figsize=(15, 10))\n",
    "tt = np.linspace(1930, 2020)\n",
    "ax.plot(tt, np.vectorize(c14_models.C_atm)(tt))\n",
    "ax.plot(exp_data['Dbirth'], exp_data['d14C'], ls = 'None', marker = 'o')\n",
    "\n",
    "# ax.errorbar(exp_data['Dbirth']-0.4, \n",
    "#             I1(exp_data['Dbirth'].values,\n",
    "#                exp_data['Dcoll'].values,\n",
    "#                *res_I1.x\n",
    "#                ),\n",
    "#            Sigma(res_I1.x, I1, exp_data),\n",
    "#            ls='None',\n",
    "#             marker='s',\n",
    "#            label = 'I1')\n",
    "\n",
    "ax.errorbar(exp_data['Dbirth'], \n",
    "            I1T_step(exp_data['Dbirth'].values,\n",
    "                          exp_data['Dcoll'].values,\n",
    "                          *res_I1T_step.x\n",
    "                         ),\n",
    "           0*Sigma(res_I1T_step.x, I1T_step, exp_data),\n",
    "           ls='None',\n",
    "            marker='s',\n",
    "           label = 'I1T_step')\n",
    "\n",
    "# ax.errorbar(exp_data['Dbirth']+0.4, \n",
    "#              I1_memory(exp_data['Dbirth'], \n",
    "#                       exp_data['Dcoll'],\n",
    "#                       *res_I1_memory.x),\n",
    "#              Sigma(res_I1_memory.x, I1_memory, exp_data),\n",
    "#              ls = 'None',\n",
    "#             marker='o',\n",
    "#            label='I1_memory')\n",
    "\n",
    "\n",
    "ax.set_ylim((0, 0.12))\n",
    "ax.legend()\n",
    "plt.show()"
   ]
  },
  {
   "cell_type": "markdown",
   "metadata": {},
   "source": [
    "# Other models"
   ]
  },
  {
   "cell_type": "markdown",
   "metadata": {},
   "source": [
    "## Ploidy model, lam4=0"
   ]
  },
  {
   "cell_type": "code",
   "execution_count": null,
   "metadata": {
    "ExecuteTime": {
     "end_time": "2019-02-08T11:49:41.918865Z",
     "start_time": "2019-02-08T11:49:41.900205Z"
    }
   },
   "outputs": [],
   "source": [
    "@np.vectorize\n",
    "def IP_l40(Dbirth, Dcoll, loglam2, logk24, logk42):\n",
    "    lam2 = np.exp(loglam2)\n",
    "    k24 = np.exp(logk24)\n",
    "    k42 = np.exp(logk42)\n",
    "    \n",
    "    def k24_(t):\n",
    "        return 0.5 * k24 * ploidy(t-Dbirth) / (1-ploidy(t-Dbirth))\n",
    "    def k42_(t):\n",
    "        return 2 * k42 * (1-ploidy(t-Dbirth)) / ploidy(t-Dbirth)\n",
    "    \n",
    "    def rhs(t, c):\n",
    "        c2 = c[0]\n",
    "        c4 = c[1]\n",
    "        dtc2 = -(lam2 + k42_(t)) * c2 + k42_(t) * c4 + lam2 * C_atm(t)\n",
    "        dtc4 = -2*k24_(t) * c4 + k24_(t) * c2 + k24_(t) * C_atm(t)\n",
    "        return [dtc2, dtc4]\n",
    "\n",
    "    C_init = C_atm(Dbirth)\n",
    "    \n",
    "    sol = sp.integrate.solve_ivp(fun=rhs,\n",
    "                                 t_span=(Dbirth, Dcoll),\n",
    "                                 t_eval=[Dcoll],\n",
    "                                 y0=[C_init, C_init],\n",
    "                                vectorized=True,\n",
    "                                max_step=step,\n",
    "                                first_step=step,\n",
    "                                rtol=np.inf,\n",
    "                                atol=np.inf,\n",
    "                                method='RK45')\n",
    "    c2, c4 = sol.y[:,0]\n",
    "    p = ploidy(Dcoll-Dbirth)\n",
    "    \n",
    "    return np.average([c2, c4], weights=[p, 2*(1-p)])"
   ]
  },
  {
   "cell_type": "markdown",
   "metadata": {},
   "source": [
    "## Ploidy model - same death rate"
   ]
  },
  {
   "cell_type": "code",
   "execution_count": null,
   "metadata": {
    "ExecuteTime": {
     "end_time": "2019-02-08T12:05:47.311063Z",
     "start_time": "2019-02-08T12:05:47.290075Z"
    }
   },
   "outputs": [],
   "source": [
    "@np.vectorize\n",
    "def IP_d(Dbirth, Dcoll, loglam2, loglam4, logk24):\n",
    "    lam2 = np.exp(loglam2)\n",
    "    lam4 = np.exp(loglam4)\n",
    "    k24 = np.exp(logk24)\n",
    "    \n",
    "    def k24_(t):\n",
    "        return 0.5 * k24 * ploidy(t-Dbirth) / (1-ploidy(t-Dbirth))\n",
    "    def f(t):\n",
    "        return 2/(2-ploidy(t-Dbirth))*(sp.misc.derivative(ploidy, t-Dbirth, 0.001)/ploidy(t-Dbirth) + k24 + (lam2-lam4)*(ploidy(t-Dbirth)-1))\n",
    "    \n",
    "    def rhs(t, c):\n",
    "        c2 = c[0]\n",
    "        c4 = c[1]\n",
    "        dtc2 = -(lam2 + f(t)) * c2 + f(t) * c4 + lam2 * C_atm(t)\n",
    "        dtc4 = -(lam4 + 2*k24_(t)) * c4 + k24_(t) * c2 + (lam4+k24_(t)) * C_atm(t)\n",
    "        return [dtc2, dtc4]\n",
    "\n",
    "    C_init = C_atm(Dbirth)\n",
    "    \n",
    "    sol = sp.integrate.solve_ivp(fun=rhs,\n",
    "                                 t_span=(Dbirth, Dcoll),\n",
    "                                 t_eval=[Dcoll],\n",
    "                                 y0=[C_init, C_init],\n",
    "                                vectorized=True,\n",
    "                                max_step=step,\n",
    "                                first_step=step,\n",
    "                                rtol=np.inf,\n",
    "                                atol=np.inf,\n",
    "                                method='RK45')\n",
    "    c2, c4 = sol.y[:,0]\n",
    "    p = ploidy(Dcoll-Dbirth)\n",
    "    \n",
    "    return np.average([c2, c4], weights=[p, 2*(1-p)])"
   ]
  },
  {
   "cell_type": "markdown",
   "metadata": {},
   "source": [
    "## Ploidy model - same death, division rate"
   ]
  },
  {
   "cell_type": "code",
   "execution_count": null,
   "metadata": {
    "ExecuteTime": {
     "end_time": "2019-02-08T12:25:45.076482Z",
     "start_time": "2019-02-08T12:25:45.054363Z"
    }
   },
   "outputs": [],
   "source": [
    "@np.vectorize\n",
    "def IP_dl(Dbirth, Dcoll, loglam2, logk24):\n",
    "    lam2 = np.exp(loglam2)\n",
    "    lam4 = np.exp(loglam2)\n",
    "    k24 = np.exp(logk24)\n",
    "    \n",
    "    def k24_(t):\n",
    "        return 0.5 * k24 * ploidy(t-Dbirth) / (1-ploidy(t-Dbirth))\n",
    "    def f(t):\n",
    "        return 2/(2-ploidy(t-Dbirth))*(sp.misc.derivative(ploidy, t-Dbirth, 0.001)/ploidy(t-Dbirth) + k24)\n",
    "    \n",
    "    def rhs(t, c):\n",
    "        c2 = c[0]\n",
    "        c4 = c[1]\n",
    "        dtc2 = -(lam2 + f(t)) * c2 + f(t) * c4 + lam2 * C_atm(t)\n",
    "        dtc4 = -(lam4 + 2*k24_(t)) * c4 + k24_(t) * c2 + (lam4+k24_(t)) * C_atm(t)\n",
    "        return [dtc2, dtc4]\n",
    "\n",
    "    C_init = C_atm(Dbirth)\n",
    "    \n",
    "    sol = sp.integrate.solve_ivp(fun=rhs,\n",
    "                                 t_span=(Dbirth, Dcoll),\n",
    "                                 t_eval=[Dcoll],\n",
    "                                 y0=[C_init, C_init],\n",
    "                                vectorized=True,\n",
    "                                max_step=step,\n",
    "                                first_step=step,\n",
    "                                rtol=np.inf,\n",
    "                                atol=np.inf,\n",
    "                                method='RK45')\n",
    "    c2, c4 = sol.y[:,0]\n",
    "    p = ploidy(Dcoll-Dbirth)\n",
    "    \n",
    "    return np.average([c2, c4], weights=[p, 2*(1-p)])"
   ]
  },
  {
   "cell_type": "markdown",
   "metadata": {},
   "source": [
    "## Ploidy model - same death, $\\lambda_4=0$"
   ]
  },
  {
   "cell_type": "code",
   "execution_count": null,
   "metadata": {
    "ExecuteTime": {
     "end_time": "2019-02-08T12:25:45.076482Z",
     "start_time": "2019-02-08T12:25:45.054363Z"
    }
   },
   "outputs": [],
   "source": [
    "@np.vectorize\n",
    "def IP_dl40(Dbirth, Dcoll, loglam2, logk24):\n",
    "    lam2 = np.exp(loglam2)\n",
    "    lam4 = 0\n",
    "    k24 = np.exp(logk24)\n",
    "    \n",
    "    def k24_(t):\n",
    "        return 0.5 * k24 * ploidy(t-Dbirth) / (1-ploidy(t-Dbirth))\n",
    "    def f(t):\n",
    "        return 2/(2-ploidy(t-Dbirth))*(sp.misc.derivative(ploidy, t-Dbirth, 0.001)/ploidy(t-Dbirth) + k24)\n",
    "    \n",
    "    def rhs(t, c):\n",
    "        c2 = c[0]\n",
    "        c4 = c[1]\n",
    "        dtc2 = -(lam2 + f(t)) * c2 + f(t) * c4 + lam2 * C_atm(t)\n",
    "        dtc4 = -(lam4 + 2*k24_(t)) * c4 + k24_(t) * c2 + (lam4+k24_(t)) * C_atm(t)\n",
    "        return [dtc2, dtc4]\n",
    "\n",
    "    C_init = C_atm(Dbirth)\n",
    "    \n",
    "    sol = sp.integrate.solve_ivp(fun=rhs,\n",
    "                                 t_span=(Dbirth, Dcoll),\n",
    "                                 t_eval=[Dcoll],\n",
    "                                 y0=[C_init, C_init],\n",
    "                                vectorized=True,\n",
    "                                max_step=step,\n",
    "                                first_step=step,\n",
    "                                rtol=np.inf,\n",
    "                                atol=np.inf,\n",
    "                                method='RK45')\n",
    "    c2, c4 = sol.y[:,0]\n",
    "    p = ploidy(Dcoll-Dbirth)\n",
    "    \n",
    "    return np.average([c2, c4], weights=[p, 2*(1-p)])"
   ]
  },
  {
   "cell_type": "markdown",
   "metadata": {},
   "source": [
    "## I1 Memory"
   ]
  },
  {
   "cell_type": "code",
   "execution_count": null,
   "metadata": {
    "ExecuteTime": {
     "end_time": "2019-01-17T09:45:12.156186Z",
     "start_time": "2019-01-17T09:45:12.142239Z"
    }
   },
   "outputs": [],
   "source": [
    "@np.vectorize\n",
    "def I1_memory(Dbirth, Dcoll, loglam, f, t0):\n",
    "    lam = np.exp(loglam)\n",
    "    C1 = c14_models.I1c(Dbirth, Dcoll, lam)\n",
    "    \n",
    "    if t0>Dcoll-Dbirth:\n",
    "        return C1\n",
    "    else:\n",
    "        C0 = c14_models.I1c(Dbirth, Dbirth + t0, lam)\n",
    "        return f*C1 + (1-f)*C0"
   ]
  },
  {
   "cell_type": "markdown",
   "metadata": {},
   "source": [
    "## I1 Memory Interval"
   ]
  },
  {
   "cell_type": "code",
   "execution_count": null,
   "metadata": {
    "ExecuteTime": {
     "end_time": "2019-01-17T09:45:14.941201Z",
     "start_time": "2019-01-17T09:45:14.931341Z"
    }
   },
   "outputs": [],
   "source": [
    "@np.vectorize\n",
    "def I1_memory_interval(Dbirth, Dcoll, loglam, f, t0, t1):\n",
    "    if f >= 1:\n",
    "        f = 1\n",
    "    if t0 < 0.1:\n",
    "        t0 = 0.1\n",
    "    if t1 < 0.1:\n",
    "        t1 = 0.1\n",
    "    lam = np.exp(loglam)\n",
    "    C1 = c14_models.I1c(Dbirth, Dcoll, lam)\n",
    "    C0 = C1\n",
    "    \n",
    "    if Dbirth + t0 >= Dcoll:\n",
    "        C0 = C1\n",
    "    elif Dbirth + t0 + t1 >= Dcoll:\n",
    "        C0 = np.mean(np.vectorize(c14_models.I1c)(Dbirth, np.arange(Dbirth + t0, Dcoll, 1), lam))\n",
    "    else:\n",
    "        C0 = np.mean(np.vectorize(c14_models.I1c)(Dbirth, np.arange(Dbirth + t0, Dbirth + t0 + t1, 1), lam))\n",
    "    return f*C1 + (1-f)*C0"
   ]
  },
  {
   "cell_type": "markdown",
   "metadata": {},
   "source": [
    "## I1T_sigmoid"
   ]
  },
  {
   "cell_type": "code",
   "execution_count": null,
   "metadata": {
    "ExecuteTime": {
     "end_time": "2019-01-17T09:45:24.801621Z",
     "start_time": "2019-01-17T09:45:24.799312Z"
    }
   },
   "outputs": [],
   "source": [
    "I1T = c14_models.I1T"
   ]
  },
  {
   "cell_type": "code",
   "execution_count": null,
   "metadata": {
    "ExecuteTime": {
     "end_time": "2019-01-17T09:45:24.813431Z",
     "start_time": "2019-01-17T09:45:24.803429Z"
    }
   },
   "outputs": [],
   "source": [
    "@np.vectorize\n",
    "def I1T_sigmoid(Dbirth, Dcoll, loglam1, loglam2, t_step, n):\n",
    "    lam1 = np.exp(loglam1)\n",
    "    lam2 = np.exp(loglam2)\n",
    "    \n",
    "    if n > 20:\n",
    "        n = 20\n",
    "    if n < 0.5:\n",
    "        n = 0.5\n",
    "    def lam_sigmoid(t, lam1, lam2, t_step, n):\n",
    "        return lam1 + (lam2 - lam1) * (t-Dbirth)**n / (t_step**n + (t-Dbirth)**n)\n",
    "    \n",
    "    return I1T(Dbirth, Dcoll, lam_sigmoid, t_eval=np.linspace(Dbirth, Dcoll), lam_arg=(lam1, lam2, t_step, n))[1][-1]"
   ]
  },
  {
   "cell_type": "markdown",
   "metadata": {},
   "source": [
    "## I1T_linear"
   ]
  },
  {
   "cell_type": "code",
   "execution_count": null,
   "metadata": {
    "ExecuteTime": {
     "end_time": "2019-01-17T09:45:24.854944Z",
     "start_time": "2019-01-17T09:45:24.852789Z"
    }
   },
   "outputs": [],
   "source": [
    "I1T = c14_models.I1T"
   ]
  },
  {
   "cell_type": "code",
   "execution_count": null,
   "metadata": {
    "ExecuteTime": {
     "end_time": "2019-01-17T10:07:39.538139Z",
     "start_time": "2019-01-17T10:07:39.529404Z"
    }
   },
   "outputs": [],
   "source": [
    "@np.vectorize\n",
    "def I1T_linear(Dbirth, Dcoll, loglam0, r):\n",
    "    lam0 = np.exp(loglam0)\n",
    "    r = np.tanh(tanr)\n",
    "        \n",
    "    def lam_linear(t, lam0, r):\n",
    "        if lam0 + r*(t-Dbirth) > 0:\n",
    "            return lam0 + r*t\n",
    "        else:\n",
    "            return 0\n",
    "    \n",
    "    return I1T(Dbirth, Dcoll, lam_linear, t_eval=np.linspace(Dbirth, Dcoll), lam_arg=(lam0, r))[1][-1]"
   ]
  },
  {
   "cell_type": "markdown",
   "metadata": {},
   "source": [
    "## I1T_transient"
   ]
  },
  {
   "cell_type": "code",
   "execution_count": null,
   "metadata": {
    "ExecuteTime": {
     "end_time": "2018-12-11T14:10:18.124205Z",
     "start_time": "2018-12-11T14:10:18.119028Z"
    }
   },
   "outputs": [],
   "source": [
    "@np.vectorize\n",
    "def I1T_transient(Dbirth, Dcoll, loglam1, loglam2, t_on, t_off):\n",
    "    lam1 = np.exp(loglam1)\n",
    "    lam2 = np.exp(loglam2)\n",
    "    \n",
    "    def lam_transient(t, lam1, lam2, t_on, t_off):\n",
    "        return np.where(np.logical_or(t < Dbirth + t_on,\n",
    "                                      t > Dbirth + t_on + t_off),\n",
    "                        lam1, \n",
    "                        lam2)\n",
    "    \n",
    "    return I1T(Dbirth, Dcoll, lam_transient, \n",
    "               t_eval=np.linspace(Dbirth, Dcoll), \n",
    "               lam_arg=(lam1, lam2, t_on, t_off)\n",
    "              )[1][-1]"
   ]
  },
  {
   "cell_type": "markdown",
   "metadata": {},
   "source": [
    "## I2"
   ]
  },
  {
   "cell_type": "code",
   "execution_count": null,
   "metadata": {
    "ExecuteTime": {
     "end_time": "2018-12-11T14:12:47.610600Z",
     "start_time": "2018-12-11T14:12:47.597653Z"
    }
   },
   "outputs": [],
   "source": [
    "@np.vectorize\n",
    "def I2(Dbirth, Dcoll, loglam, f):\n",
    "    lam = np.exp(loglam)\n",
    "    return c14_models.I2(Dbirth, Dcoll, lam, f, \n",
    "                         t_eval=np.linspace(Dbirth, Dcoll))[1][-1]"
   ]
  },
  {
   "cell_type": "markdown",
   "metadata": {},
   "source": [
    "## IK"
   ]
  },
  {
   "cell_type": "code",
   "execution_count": null,
   "metadata": {
    "ExecuteTime": {
     "end_time": "2018-09-06T12:26:35.155679Z",
     "start_time": "2018-09-06T12:26:35.151782Z"
    }
   },
   "outputs": [],
   "source": [
    "@np.vectorize\n",
    "def IK(Dbirth, Dcoll, loglam, f):\n",
    "    lam = np.exp(loglam)\n",
    "    return c14_models.IK(Dbirth, Dcoll, lam, f, t_eval=np.linspace(Dbirth, Dcoll))[1][-1]"
   ]
  },
  {
   "cell_type": "markdown",
   "metadata": {},
   "source": [
    "## IL"
   ]
  },
  {
   "cell_type": "code",
   "execution_count": null,
   "metadata": {
    "ExecuteTime": {
     "end_time": "2018-09-06T12:36:30.352296Z",
     "start_time": "2018-09-06T12:23:10.378Z"
    }
   },
   "outputs": [],
   "source": [
    "@np.vectorize\n",
    "def IL(Dbirth, Dcoll, loglam, f):\n",
    "    lam = np.exp(loglam)\n",
    "    return c14_models.IL(Dbirth, Dcoll, lam, f, t_eval=np.linspace(Dbirth, Dcoll))[1][-1]"
   ]
  },
  {
   "cell_type": "markdown",
   "metadata": {},
   "source": [
    "## Scenario IX2p"
   ]
  },
  {
   "cell_type": "code",
   "execution_count": null,
   "metadata": {
    "ExecuteTime": {
     "end_time": "2018-09-06T12:36:30.361408Z",
     "start_time": "2018-09-06T12:23:10.398Z"
    }
   },
   "outputs": [],
   "source": [
    "@np.vectorize\n",
    "def IX2p(Dbirth, Dcoll, dloglam1, dloglam2, f1):\n",
    "    dlam1 = np.exp(dloglam1)\n",
    "    dlam2 = np.exp(dloglam2)\n",
    "    \n",
    "    f2 = 1-f1\n",
    "    \n",
    "    return c14_models.IX(Dbirth, Dcoll, [dlam1, dlam2], [f1, f2],\n",
    "                        t_eval=np.linspace(Dbirth, Dcoll))[1][-1]"
   ]
  },
  {
   "cell_type": "code",
   "execution_count": null,
   "metadata": {
    "ExecuteTime": {
     "end_time": "2018-09-06T12:36:30.364361Z",
     "start_time": "2018-09-06T12:23:10.418Z"
    }
   },
   "outputs": [],
   "source": [
    "results.sort_values('cAIC')"
   ]
  }
 ],
 "metadata": {
  "anaconda-cloud": {},
  "kernelspec": {
   "display_name": "Python [conda env:spols190426] *",
   "language": "python",
   "name": "conda-env-spols190426-py"
  },
  "language_info": {
   "codemirror_mode": {
    "name": "ipython",
    "version": 3
   },
   "file_extension": ".py",
   "mimetype": "text/x-python",
   "name": "python",
   "nbconvert_exporter": "python",
   "pygments_lexer": "ipython3",
   "version": "3.6.7"
  },
  "notify_time": "30",
  "toc": {
   "nav_menu": {
    "height": "251px",
    "width": "252px"
   },
   "number_sections": true,
   "sideBar": true,
   "skip_h1_title": false,
   "title_cell": "Table of Contents",
   "title_sidebar": "Contents",
   "toc_cell": false,
   "toc_position": {
    "height": "913px",
    "left": "0px",
    "right": "1708px",
    "top": "111px",
    "width": "212px"
   },
   "toc_section_display": "block",
   "toc_window_display": true
  },
  "toc-autonumbering": true,
  "toc-showcode": false,
  "toc-showmarkdowntxt": false,
  "toc-showtags": false
 },
 "nbformat": 4,
 "nbformat_minor": 2
}
