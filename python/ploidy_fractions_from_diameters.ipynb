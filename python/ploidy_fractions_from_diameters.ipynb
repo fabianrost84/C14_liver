{
 "cells": [
  {
   "cell_type": "markdown",
   "metadata": {},
   "source": [
    "# Fractions of ploidy levels in hepatocytes"
   ]
  },
  {
   "cell_type": "markdown",
   "metadata": {},
   "source": [
    "## Preparation"
   ]
  },
  {
   "cell_type": "code",
   "execution_count": 1,
   "metadata": {},
   "outputs": [],
   "source": [
    "import matplotlib.pyplot as plt\n",
    "import numpy as np\n",
    "import pandas as pd\n",
    "import scipy as sp\n",
    "import seaborn as sns\n",
    "from sklearn import mixture\n",
    "\n",
    "%load_ext rpy2.ipython"
   ]
  },
  {
   "cell_type": "code",
   "execution_count": 2,
   "metadata": {},
   "outputs": [
    {
     "name": "stderr",
     "output_type": "stream",
     "text": [
      "R[write to console]: Loading required package: ggplot2\n",
      "\n"
     ]
    },
    {
     "data": {
      "text/plain": [
       "array([1], dtype=int32)"
      ]
     },
     "execution_count": 2,
     "metadata": {},
     "output_type": "execute_result"
    }
   ],
   "source": [
    "%R require(ggplot2)"
   ]
  },
  {
   "cell_type": "code",
   "execution_count": 3,
   "metadata": {},
   "outputs": [],
   "source": [
    "def calc_mode(data, eval_N = 10000):\n",
    "    eval_sizes = np.linspace(np.min(data), np.max(data), eval_N)\n",
    "    return eval_sizes[np.argmax(sp.stats.gaussian_kde(data)(eval_sizes))]"
   ]
  },
  {
   "cell_type": "markdown",
   "metadata": {},
   "source": [
    "## Reading the data"
   ]
  },
  {
   "cell_type": "code",
   "execution_count": 4,
   "metadata": {},
   "outputs": [],
   "source": [
    "nuclei = pd.read_excel('../../../data/Nuclei_diameters+calculated_volumes.xlsx', usecols=np.arange(7))\n",
    "nuclei = pd.melt(nuclei, var_name='sample', value_name='diameter').dropna()\n",
    "\n",
    "nuclei['volume'] = 4/3*np.pi*(nuclei['diameter']/2)"
   ]
  },
  {
   "cell_type": "code",
   "execution_count": 5,
   "metadata": {},
   "outputs": [
    {
     "data": {
      "text/html": [
       "<div>\n",
       "<style scoped>\n",
       "    .dataframe tbody tr th:only-of-type {\n",
       "        vertical-align: middle;\n",
       "    }\n",
       "\n",
       "    .dataframe tbody tr th {\n",
       "        vertical-align: top;\n",
       "    }\n",
       "\n",
       "    .dataframe thead th {\n",
       "        text-align: right;\n",
       "    }\n",
       "</style>\n",
       "<table border=\"1\" class=\"dataframe\">\n",
       "  <thead>\n",
       "    <tr style=\"text-align: right;\">\n",
       "      <th></th>\n",
       "      <th>sample</th>\n",
       "      <th>diameter</th>\n",
       "      <th>volume</th>\n",
       "    </tr>\n",
       "  </thead>\n",
       "  <tbody>\n",
       "    <tr>\n",
       "      <th>0</th>\n",
       "      <td>HL#3</td>\n",
       "      <td>7.7</td>\n",
       "      <td>16.126842</td>\n",
       "    </tr>\n",
       "    <tr>\n",
       "      <th>1</th>\n",
       "      <td>HL#3</td>\n",
       "      <td>6.4</td>\n",
       "      <td>13.404129</td>\n",
       "    </tr>\n",
       "    <tr>\n",
       "      <th>2</th>\n",
       "      <td>HL#3</td>\n",
       "      <td>11.0</td>\n",
       "      <td>23.038346</td>\n",
       "    </tr>\n",
       "    <tr>\n",
       "      <th>3</th>\n",
       "      <td>HL#3</td>\n",
       "      <td>7.6</td>\n",
       "      <td>15.917403</td>\n",
       "    </tr>\n",
       "    <tr>\n",
       "      <th>4</th>\n",
       "      <td>HL#3</td>\n",
       "      <td>8.1</td>\n",
       "      <td>16.964600</td>\n",
       "    </tr>\n",
       "  </tbody>\n",
       "</table>\n",
       "</div>"
      ],
      "text/plain": [
       "  sample  diameter     volume\n",
       "0   HL#3       7.7  16.126842\n",
       "1   HL#3       6.4  13.404129\n",
       "2   HL#3      11.0  23.038346\n",
       "3   HL#3       7.6  15.917403\n",
       "4   HL#3       8.1  16.964600"
      ]
     },
     "execution_count": 5,
     "metadata": {},
     "output_type": "execute_result"
    }
   ],
   "source": [
    "nuclei.head()"
   ]
  },
  {
   "cell_type": "markdown",
   "metadata": {},
   "source": [
    "## EDA"
   ]
  },
  {
   "cell_type": "code",
   "execution_count": 6,
   "metadata": {},
   "outputs": [
    {
     "ename": "NameError",
     "evalue": "name 'mode' is not defined",
     "output_type": "error",
     "traceback": [
      "\u001b[0;31m---------------------------------------------------------------------------\u001b[0m",
      "\u001b[0;31mNameError\u001b[0m                                 Traceback (most recent call last)",
      "\u001b[0;32m<ipython-input-6-e43464e57bd8>\u001b[0m in \u001b[0;36m<module>\u001b[0;34m\u001b[0m\n\u001b[1;32m      1\u001b[0m \u001b[0msns\u001b[0m\u001b[0;34m.\u001b[0m\u001b[0mdistplot\u001b[0m\u001b[0;34m(\u001b[0m\u001b[0mnuclei\u001b[0m\u001b[0;34m[\u001b[0m\u001b[0;34m'volume'\u001b[0m\u001b[0;34m]\u001b[0m\u001b[0;34m)\u001b[0m\u001b[0;34m\u001b[0m\u001b[0;34m\u001b[0m\u001b[0m\n\u001b[0;32m----> 2\u001b[0;31m \u001b[0mplt\u001b[0m\u001b[0;34m.\u001b[0m\u001b[0maxvline\u001b[0m\u001b[0;34m(\u001b[0m\u001b[0mmode\u001b[0m\u001b[0;34m(\u001b[0m\u001b[0mnuclei\u001b[0m\u001b[0;34m[\u001b[0m\u001b[0;34m'volume'\u001b[0m\u001b[0;34m]\u001b[0m\u001b[0;34m)\u001b[0m\u001b[0;34m)\u001b[0m\u001b[0;34m\u001b[0m\u001b[0;34m\u001b[0m\u001b[0m\n\u001b[0m\u001b[1;32m      3\u001b[0m \u001b[0mplt\u001b[0m\u001b[0;34m.\u001b[0m\u001b[0mshow\u001b[0m\u001b[0;34m(\u001b[0m\u001b[0;34m)\u001b[0m\u001b[0;34m\u001b[0m\u001b[0;34m\u001b[0m\u001b[0m\n",
      "\u001b[0;31mNameError\u001b[0m: name 'mode' is not defined"
     ]
    },
    {
     "data": {
      "image/png": "[encoded data removed]",
      "text/plain": [
       "<Figure size 432x288 with 1 Axes>"
      ]
     },
     "metadata": {
      "needs_background": "light"
     },
     "output_type": "display_data"
    }
   ],
   "source": [
    "sns.distplot(nuclei['volume'])\n",
    "plt.axvline(mode(nuclei['volume']))\n",
    "plt.show()"
   ]
  },
  {
   "cell_type": "code",
   "execution_count": null,
   "metadata": {},
   "outputs": [],
   "source": [
    "for name, data in nuclei.groupby('sample'):\n",
    "    sns.kdeplot(data['volume'], label=name)\n",
    "plt.show()"
   ]
  },
  {
   "cell_type": "markdown",
   "metadata": {},
   "source": [
    "## Estimating the modes for each sample"
   ]
  },
  {
   "cell_type": "code",
   "execution_count": null,
   "metadata": {},
   "outputs": [],
   "source": [
    "modes = nuclei.groupby('sample').apply(lambda data: calc_mode(data['volume']))\n",
    "modes.name = 'mode'\n",
    "modes"
   ]
  },
  {
   "cell_type": "code",
   "execution_count": null,
   "metadata": {},
   "outputs": [],
   "source": [
    "groupby = nuclei.groupby('sample')\n",
    "fig, axs = plt.subplots(len(groupby), sharex=True, figsize=(6,8))\n",
    "for (name, data), ax in zip(nuclei.groupby('sample'), axs):\n",
    "    sns.distplot(data['volume'], label=name, bins=30, ax=ax, axlabel='')\n",
    "    ax.axvline(mode(data['volume']))\n",
    "    ax.legend()\n",
    "\n",
    "ax.set_xlabel('volume')\n",
    "plt.show()"
   ]
  },
  {
   "cell_type": "code",
   "execution_count": null,
   "metadata": {},
   "outputs": [],
   "source": [
    "nuclei = nuclei.join(modes, on='sample')"
   ]
  },
  {
   "cell_type": "code",
   "execution_count": null,
   "metadata": {},
   "outputs": [],
   "source": [
    "nuclei['normalised_volume'] = nuclei['volume'] / nuclei['mode']"
   ]
  },
  {
   "cell_type": "code",
   "execution_count": null,
   "metadata": {},
   "outputs": [],
   "source": [
    "for name, data in nuclei.groupby('sample'):\n",
    "    sns.kdeplot(data['normalised_volume'], label=name)\n",
    "plt.show()"
   ]
  },
  {
   "cell_type": "code",
   "execution_count": null,
   "metadata": {},
   "outputs": [],
   "source": [
    "%%R -i nuclei -w 1200\n",
    "ggplot(nuclei, aes(x=normalised_volume, color=sample)) + geom_freqpoly(binwidth=0.05)"
   ]
  },
  {
   "cell_type": "code",
   "execution_count": null,
   "metadata": {},
   "outputs": [],
   "source": [
    "%%R -i nuclei -w 1200\n",
    "ggplot(nuclei, aes(x=normalised_volume)) + geom_histogram(binwidth=0.05) + geom_density() + facet_wrap( ~ sample, ncol=7)"
   ]
  },
  {
   "cell_type": "markdown",
   "metadata": {
    "toc-hr-collapsed": false
   },
   "source": [
    "## Estimating ploidy fractions"
   ]
  },
  {
   "cell_type": "markdown",
   "metadata": {},
   "source": [
    "### Threshold-based approach"
   ]
  },
  {
   "cell_type": "code",
   "execution_count": null,
   "metadata": {},
   "outputs": [],
   "source": [
    "sns.distplot(nuclei['normalised_volume'])\n",
    "threshold_2n = 1.2\n",
    "threshold_4n = 1.5\n",
    "plt.axvline(threshold_2n)\n",
    "plt.axvline(threshold_4n)"
   ]
  },
  {
   "cell_type": "code",
   "execution_count": null,
   "metadata": {},
   "outputs": [],
   "source": [
    "nuclei['ploidy_threshold'] = [2 if nv < threshold_2n else (4 if nv < threshold_4n else 6) for nv in nuclei['normalised_volume']]"
   ]
  },
  {
   "cell_type": "code",
   "execution_count": null,
   "metadata": {},
   "outputs": [],
   "source": [
    "nuclei.groupby(['sample', 'ploidy_threshold']).size() / nuclei.groupby(['sample']).size()"
   ]
  },
  {
   "cell_type": "markdown",
   "metadata": {},
   "source": [
    "### Gaussian mixture model"
   ]
  },
  {
   "cell_type": "code",
   "execution_count": null,
   "metadata": {},
   "outputs": [],
   "source": [
    "n_components = 3\n",
    "means_init= np.linspace(1, 1.7, n_components).reshape(-1, 1)\n",
    "weights_init=[0.8] + (n_components - 1) * [0.2/(n_components - 1)]\n",
    "\n",
    "clf = mixture.GaussianMixture(n_components=n_components, max_iter=10000, \n",
    "                              weights_init=weights_init,\n",
    "                              means_init=means_init, random_state=0)\n",
    "\n",
    "clf.fit(nuclei['normalised_volume'].values.reshape(-1, 1))\n",
    "\n",
    "sns.distplot(nuclei['normalised_volume'])\n",
    "x = np.linspace(0, 2.5)\n",
    "plt.plot(x, np.exp(clf.score_samples(x.reshape(-1, 1))))\n",
    "\n",
    "for loc, scale, weight in zip(clf.means_, np.sqrt(clf.covariances_), clf.weights_):\n",
    "    plt.plot(x, weight * sp.stats.norm.pdf(x, loc=loc, scale=scale)[0])\n",
    "\n",
    "for pos in clf.means_:\n",
    "    plt.axvline(pos)\n",
    "    \n",
    "# plt.yscale('log')\n",
    "# plt.ylim(0.1, 10)\n",
    "plt.show()"
   ]
  },
  {
   "cell_type": "code",
   "execution_count": null,
   "metadata": {},
   "outputs": [],
   "source": [
    "clf.weights_"
   ]
  },
  {
   "cell_type": "code",
   "execution_count": null,
   "metadata": {},
   "outputs": [],
   "source": [
    "clf.means_"
   ]
  },
  {
   "cell_type": "code",
   "execution_count": null,
   "metadata": {},
   "outputs": [],
   "source": [
    "nuclei['ploidy'] = 2*(clf.predict(nuclei['normalised_volume'].values.reshape(-1, 1))+1)\n",
    "\n",
    "nuclei.groupby(['sample', 'ploidy']).size() / nuclei.groupby(['sample']).size()"
   ]
  },
  {
   "cell_type": "code",
   "execution_count": null,
   "metadata": {},
   "outputs": [],
   "source": [
    "groupby = nuclei.groupby('sample')\n",
    "fig, axs = plt.subplots(len(groupby), sharex=True, figsize=(6,8))\n",
    "for (name, data), ax in zip(nuclei.groupby('sample'), axs):\n",
    "    sns.distplot(data['normalised_volume'], label=name, bins=30, ax=ax, axlabel='')\n",
    "    ax.plot(x, np.exp(clf.score_samples(x.reshape(-1, 1))))\n",
    "    ax.axvline(1)\n",
    "    ax.legend()\n",
    "\n",
    "ax.set_xlabel('normalised_volume')\n",
    "plt.show()"
   ]
  },
  {
   "cell_type": "code",
   "execution_count": null,
   "metadata": {},
   "outputs": [],
   "source": [
    "for name, data in nuclei.groupby('ploidy_threshold'):\n",
    "    sns.distplot(data['normalised_volume'], bins=np.linspace(0.75, 2.5, 30), norm_hist=False, kde=False, label=name)\n",
    "\n",
    "plt.legend(title='Ploidy')\n",
    "plt.ylabel('cell number')\n",
    "plt.show()"
   ]
  },
  {
   "cell_type": "markdown",
   "metadata": {},
   "source": [
    "#### Uncertainties"
   ]
  },
  {
   "cell_type": "code",
   "execution_count": null,
   "metadata": {},
   "outputs": [],
   "source": [
    "nuclei.head()"
   ]
  },
  {
   "cell_type": "code",
   "execution_count": null,
   "metadata": {},
   "outputs": [],
   "source": [
    "def sample_nuclei(nuclei, random_state=None):\n",
    "    return nuclei.groupby('sample', group_keys=False).apply(lambda x: x.sample(frac=1, replace=True, random_state=random_state))"
   ]
  },
  {
   "cell_type": "code",
   "execution_count": null,
   "metadata": {},
   "outputs": [],
   "source": [
    "def ploidy_levels(nuclei):\n",
    "    n_components = 3\n",
    "    means_init= np.linspace(1, 1.7, n_components).reshape(-1, 1)\n",
    "    weights_init=[0.8] + (n_components - 1) * [0.2/(n_components - 1)]\n",
    "\n",
    "    clf = mixture.GaussianMixture(n_components=n_components, max_iter=10000, \n",
    "                                  weights_init=weights_init,\n",
    "                                  means_init=means_init, random_state=0)\n",
    "\n",
    "    labels = clf.fit_predict(nuclei['normalised_volume'].values.reshape(-1, 1))\n",
    "    ploidy = 2*(labels+1)\n",
    "\n",
    "    return ploidy"
   ]
  },
  {
   "cell_type": "code",
   "execution_count": null,
   "metadata": {},
   "outputs": [],
   "source": [
    "def sample_ploidy_fractions(nuclei, random_state=None):\n",
    "    if random_state is None:\n",
    "        random_state = None\n",
    "    nuclei = sample(nuclei, random_state=random_state)\n",
    "    ploidy = ploidy_levels(nuclei)\n",
    "    nuclei['ploidy'] = ploidy\n",
    "    \n",
    "    ploidy_fractions = pd.DataFrame(nuclei.groupby(['sample', 'ploidy']).size() / nuclei.groupby(['sample']).size(), columns=['fraction'])\n",
    "#     if random_state is None:\n",
    "#         ploidy_fractions['random_state'] = np.nan\n",
    "#     else:\n",
    "    ploidy_fractions['random_state'] = random_state\n",
    "    return ploidy_fractions.reset_index()"
   ]
  },
  {
   "cell_type": "code",
   "execution_count": null,
   "metadata": {},
   "outputs": [],
   "source": [
    "N_bootstrap = 1000\n",
    "bootstrap_result = pd.concat([sample_ploidy_fractions(nuclei, random_state) for random_state in np.arange(100)])"
   ]
  },
  {
   "cell_type": "code",
   "execution_count": null,
   "metadata": {},
   "outputs": [],
   "source": [
    "ploidy = bootstrap_result.groupby(['sample', 'ploidy'])['fraction'].agg(['mean', 'std']).reset_index()\n",
    "ploidy['ploidy'] = pd.Categorical(ploidy['ploidy'])\n",
    "ploidy"
   ]
  },
  {
   "cell_type": "code",
   "execution_count": null,
   "metadata": {},
   "outputs": [],
   "source": []
  }
 ],
 "metadata": {
  "kernelspec": {
   "display_name": "Python 3",
   "language": "python",
   "name": "python3"
  },
  "language_info": {
   "codemirror_mode": {
    "name": "ipython",
    "version": 3
   },
   "file_extension": ".py",
   "mimetype": "text/x-python",
   "name": "python",
   "nbconvert_exporter": "python",
   "pygments_lexer": "ipython3",
   "version": "3.6.7"
  }
 },
 "nbformat": 4,
 "nbformat_minor": 4
}
