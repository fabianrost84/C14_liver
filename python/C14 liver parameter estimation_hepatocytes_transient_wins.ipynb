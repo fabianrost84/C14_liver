{
 "cells": [
  {
   "cell_type": "markdown",
   "metadata": {},
   "source": [
    "# Preparation"
   ]
  },
  {
   "cell_type": "code",
   "execution_count": 1,
   "metadata": {
    "ExecuteTime": {
     "end_time": "2018-06-18T13:09:34.544824Z",
     "start_time": "2018-06-18T13:09:31.375032Z"
    }
   },
   "outputs": [],
   "source": [
    "import iminuit\n",
    "%load_ext line_profiler\n",
    "import matplotlib.pyplot as plt\n",
    "%matplotlib inline\n",
    "import numba\n",
    "import numpy as np\n",
    "import pandas as pd\n",
    "import scipy as sp\n",
    "from scipy import optimize\n",
    "import seaborn as sns\n",
    "\n",
    "sns.set_style('darkgrid')\n",
    "sns.set_context('notebook')"
   ]
  },
  {
   "cell_type": "code",
   "execution_count": 2,
   "metadata": {
    "ExecuteTime": {
     "end_time": "2018-06-18T13:09:34.550196Z",
     "start_time": "2018-06-18T13:09:34.546880Z"
    }
   },
   "outputs": [],
   "source": [
    "results = pd.DataFrame()"
   ]
  },
  {
   "cell_type": "markdown",
   "metadata": {},
   "source": [
    "# Load C14 models"
   ]
  },
  {
   "cell_type": "code",
   "execution_count": 3,
   "metadata": {
    "ExecuteTime": {
     "end_time": "2018-06-18T13:09:34.713690Z",
     "start_time": "2018-06-18T13:09:34.552771Z"
    }
   },
   "outputs": [],
   "source": [
    "import c14_models"
   ]
  },
  {
   "cell_type": "markdown",
   "metadata": {},
   "source": [
    "# Read patient data"
   ]
  },
  {
   "cell_type": "code",
   "execution_count": 4,
   "metadata": {
    "ExecuteTime": {
     "end_time": "2018-06-18T13:09:34.733978Z",
     "start_time": "2018-06-18T13:09:34.715636Z"
    }
   },
   "outputs": [],
   "source": [
    "c14_patient_data = pd.read_pickle('./data/C14data_liver_samples_20180505.pkl')"
   ]
  },
  {
   "cell_type": "code",
   "execution_count": 85,
   "metadata": {
    "ExecuteTime": {
     "end_time": "2018-06-18T13:40:48.537623Z",
     "start_time": "2018-06-18T13:40:48.517994Z"
    }
   },
   "outputs": [
    {
     "data": {
      "text/plain": [
       "[unsorted, hepatocyte, non-hepatocyte, hepatocyte 2n, hepatocyte 4n, HNF4α -]\n",
       "Categories (6, object): [unsorted, hepatocyte, non-hepatocyte, hepatocyte 2n, hepatocyte 4n, HNF4α -]"
      ]
     },
     "execution_count": 85,
     "metadata": {},
     "output_type": "execute_result"
    }
   ],
   "source": [
    "c14_patient_data['type'].unique()"
   ]
  },
  {
   "cell_type": "code",
   "execution_count": 87,
   "metadata": {
    "ExecuteTime": {
     "end_time": "2018-06-18T13:41:20.746426Z",
     "start_time": "2018-06-18T13:41:20.726616Z"
    }
   },
   "outputs": [
    {
     "data": {
      "text/html": [
       "<div>\n",
       "<style scoped>\n",
       "    .dataframe tbody tr th:only-of-type {\n",
       "        vertical-align: middle;\n",
       "    }\n",
       "\n",
       "    .dataframe tbody tr th {\n",
       "        vertical-align: top;\n",
       "    }\n",
       "\n",
       "    .dataframe thead th {\n",
       "        text-align: right;\n",
       "    }\n",
       "</style>\n",
       "<table border=\"1\" class=\"dataframe\">\n",
       "  <thead>\n",
       "    <tr style=\"text-align: right;\">\n",
       "      <th></th>\n",
       "      <th>type</th>\n",
       "      <th>code</th>\n",
       "      <th>sample</th>\n",
       "      <th>Dbirth</th>\n",
       "      <th>Dcoll</th>\n",
       "      <th>d14C</th>\n",
       "      <th>subject_age</th>\n",
       "      <th>valid</th>\n",
       "    </tr>\n",
       "  </thead>\n",
       "  <tbody>\n",
       "    <tr>\n",
       "      <th>2</th>\n",
       "      <td>hepatocyte</td>\n",
       "      <td>PH3</td>\n",
       "      <td>ND381</td>\n",
       "      <td>1985.166667</td>\n",
       "      <td>2016.416667</td>\n",
       "      <td>0.040336</td>\n",
       "      <td>31.250000</td>\n",
       "      <td>True</td>\n",
       "    </tr>\n",
       "    <tr>\n",
       "      <th>3</th>\n",
       "      <td>hepatocyte</td>\n",
       "      <td>PH4</td>\n",
       "      <td>ND382</td>\n",
       "      <td>1982.083333</td>\n",
       "      <td>2016.500000</td>\n",
       "      <td>0.018815</td>\n",
       "      <td>34.416667</td>\n",
       "      <td>True</td>\n",
       "    </tr>\n",
       "    <tr>\n",
       "      <th>4</th>\n",
       "      <td>hepatocyte</td>\n",
       "      <td>PH6</td>\n",
       "      <td>ND022</td>\n",
       "      <td>1946.500000</td>\n",
       "      <td>2004.833333</td>\n",
       "      <td>0.075001</td>\n",
       "      <td>58.333333</td>\n",
       "      <td>True</td>\n",
       "    </tr>\n",
       "    <tr>\n",
       "      <th>5</th>\n",
       "      <td>hepatocyte</td>\n",
       "      <td>PH7</td>\n",
       "      <td>ND023</td>\n",
       "      <td>1945.833333</td>\n",
       "      <td>2004.833333</td>\n",
       "      <td>0.090351</td>\n",
       "      <td>59.000000</td>\n",
       "      <td>True</td>\n",
       "    </tr>\n",
       "    <tr>\n",
       "      <th>6</th>\n",
       "      <td>hepatocyte</td>\n",
       "      <td>PH9</td>\n",
       "      <td>ND383</td>\n",
       "      <td>1937.583333</td>\n",
       "      <td>2016.666667</td>\n",
       "      <td>0.041243</td>\n",
       "      <td>79.083333</td>\n",
       "      <td>True</td>\n",
       "    </tr>\n",
       "  </tbody>\n",
       "</table>\n",
       "</div>"
      ],
      "text/plain": [
       "         type code sample       Dbirth        Dcoll      d14C  subject_age  \\\n",
       "2  hepatocyte  PH3  ND381  1985.166667  2016.416667  0.040336    31.250000   \n",
       "3  hepatocyte  PH4  ND382  1982.083333  2016.500000  0.018815    34.416667   \n",
       "4  hepatocyte  PH6  ND022  1946.500000  2004.833333  0.075001    58.333333   \n",
       "5  hepatocyte  PH7  ND023  1945.833333  2004.833333  0.090351    59.000000   \n",
       "6  hepatocyte  PH9  ND383  1937.583333  2016.666667  0.041243    79.083333   \n",
       "\n",
       "   valid  \n",
       "2   True  \n",
       "3   True  \n",
       "4   True  \n",
       "5   True  \n",
       "6   True  "
      ]
     },
     "execution_count": 87,
     "metadata": {},
     "output_type": "execute_result"
    }
   ],
   "source": [
    "exp_data = c14_patient_data.query('valid and type in [\"hepatocyte\", \"hepatocyte 2n\", \"hepatocyte 4n\"]').copy()\n",
    "exp_data.head()"
   ]
  },
  {
   "cell_type": "code",
   "execution_count": 88,
   "metadata": {
    "ExecuteTime": {
     "end_time": "2018-06-18T13:41:24.344048Z",
     "start_time": "2018-06-18T13:41:24.319463Z"
    }
   },
   "outputs": [
    {
     "data": {
      "text/html": [
       "<div>\n",
       "<style scoped>\n",
       "    .dataframe tbody tr th:only-of-type {\n",
       "        vertical-align: middle;\n",
       "    }\n",
       "\n",
       "    .dataframe tbody tr th {\n",
       "        vertical-align: top;\n",
       "    }\n",
       "\n",
       "    .dataframe thead th {\n",
       "        text-align: right;\n",
       "    }\n",
       "</style>\n",
       "<table border=\"1\" class=\"dataframe\">\n",
       "  <thead>\n",
       "    <tr style=\"text-align: right;\">\n",
       "      <th></th>\n",
       "      <th>Dbirth</th>\n",
       "      <th>Dcoll</th>\n",
       "      <th>d14C</th>\n",
       "      <th>subject_age</th>\n",
       "    </tr>\n",
       "  </thead>\n",
       "  <tbody>\n",
       "    <tr>\n",
       "      <th>count</th>\n",
       "      <td>33.000000</td>\n",
       "      <td>33.000000</td>\n",
       "      <td>33.000000</td>\n",
       "      <td>33.000000</td>\n",
       "    </tr>\n",
       "    <tr>\n",
       "      <th>mean</th>\n",
       "      <td>1962.171717</td>\n",
       "      <td>2016.330808</td>\n",
       "      <td>0.038511</td>\n",
       "      <td>54.159091</td>\n",
       "    </tr>\n",
       "    <tr>\n",
       "      <th>std</th>\n",
       "      <td>20.123360</td>\n",
       "      <td>2.990471</td>\n",
       "      <td>0.018763</td>\n",
       "      <td>19.753333</td>\n",
       "    </tr>\n",
       "    <tr>\n",
       "      <th>min</th>\n",
       "      <td>1932.583333</td>\n",
       "      <td>2004.833333</td>\n",
       "      <td>0.005100</td>\n",
       "      <td>20.000000</td>\n",
       "    </tr>\n",
       "    <tr>\n",
       "      <th>25%</th>\n",
       "      <td>1945.833333</td>\n",
       "      <td>2016.666667</td>\n",
       "      <td>0.027700</td>\n",
       "      <td>36.000000</td>\n",
       "    </tr>\n",
       "    <tr>\n",
       "      <th>50%</th>\n",
       "      <td>1959.333333</td>\n",
       "      <td>2017.166667</td>\n",
       "      <td>0.032800</td>\n",
       "      <td>58.166667</td>\n",
       "    </tr>\n",
       "    <tr>\n",
       "      <th>75%</th>\n",
       "      <td>1980.416667</td>\n",
       "      <td>2017.416667</td>\n",
       "      <td>0.046900</td>\n",
       "      <td>69.333333</td>\n",
       "    </tr>\n",
       "    <tr>\n",
       "      <th>max</th>\n",
       "      <td>1997.333333</td>\n",
       "      <td>2017.500000</td>\n",
       "      <td>0.090351</td>\n",
       "      <td>84.583333</td>\n",
       "    </tr>\n",
       "  </tbody>\n",
       "</table>\n",
       "</div>"
      ],
      "text/plain": [
       "            Dbirth        Dcoll       d14C  subject_age\n",
       "count    33.000000    33.000000  33.000000    33.000000\n",
       "mean   1962.171717  2016.330808   0.038511    54.159091\n",
       "std      20.123360     2.990471   0.018763    19.753333\n",
       "min    1932.583333  2004.833333   0.005100    20.000000\n",
       "25%    1945.833333  2016.666667   0.027700    36.000000\n",
       "50%    1959.333333  2017.166667   0.032800    58.166667\n",
       "75%    1980.416667  2017.416667   0.046900    69.333333\n",
       "max    1997.333333  2017.500000   0.090351    84.583333"
      ]
     },
     "execution_count": 88,
     "metadata": {},
     "output_type": "execute_result"
    }
   ],
   "source": [
    "exp_data.describe()"
   ]
  },
  {
   "cell_type": "markdown",
   "metadata": {},
   "source": [
    "# SSE & log-likelihood"
   ]
  },
  {
   "cell_type": "code",
   "execution_count": 89,
   "metadata": {
    "ExecuteTime": {
     "end_time": "2018-06-18T13:41:26.720841Z",
     "start_time": "2018-06-18T13:41:26.717719Z"
    }
   },
   "outputs": [],
   "source": [
    "def SSE(p, model, data):\n",
    "    model_data = model(data['Dbirth'].values, \n",
    "                    data['Dcoll'].values, \n",
    "                    *p)\n",
    "    sse = np.sum((model_data - data['d14C'].values)**2)\n",
    "    return sse    "
   ]
  },
  {
   "cell_type": "code",
   "execution_count": 45,
   "metadata": {
    "ExecuteTime": {
     "end_time": "2018-06-18T13:26:50.133361Z",
     "start_time": "2018-06-18T13:26:50.130133Z"
    }
   },
   "outputs": [],
   "source": [
    "def Sigma(p, model, data):\n",
    "    sse = SSE(p, model, data)\n",
    "    n = len(data)\n",
    "    sigma = np.sqrt(sse/n)\n",
    "    return sigma"
   ]
  },
  {
   "cell_type": "code",
   "execution_count": 46,
   "metadata": {
    "ExecuteTime": {
     "end_time": "2018-06-18T13:26:50.329250Z",
     "start_time": "2018-06-18T13:26:50.325760Z"
    }
   },
   "outputs": [],
   "source": [
    "def Nloglike(p, model, data):\n",
    "    try:\n",
    "        sse = SSE(p, model, data)\n",
    "    except:\n",
    "        sse = SSE([p], model, data)\n",
    "    n = len(data)\n",
    "    sig = np.sqrt(sse/n)\n",
    "    loglike = -n/2 * np.log(2*np.pi) - n/2 * np.log(sig**2) - 1 / (2*sig**2) * sse\n",
    "    return -loglike"
   ]
  },
  {
   "cell_type": "markdown",
   "metadata": {},
   "source": [
    "# Scenario I1"
   ]
  },
  {
   "cell_type": "code",
   "execution_count": 90,
   "metadata": {
    "ExecuteTime": {
     "end_time": "2018-06-18T13:41:29.211246Z",
     "start_time": "2018-06-18T13:41:29.203595Z"
    }
   },
   "outputs": [],
   "source": [
    "@np.vectorize\n",
    "def I1(Dbirth, Dcoll, loglam):\n",
    "    lam = np.exp(loglam)\n",
    "    return c14_models.I1c(Dbirth, Dcoll, lam)"
   ]
  },
  {
   "cell_type": "markdown",
   "metadata": {},
   "source": [
    "## Fit"
   ]
  },
  {
   "cell_type": "code",
   "execution_count": 91,
   "metadata": {
    "ExecuteTime": {
     "end_time": "2018-06-18T13:41:30.351180Z",
     "start_time": "2018-06-18T13:41:29.529079Z"
    }
   },
   "outputs": [],
   "source": [
    "res = sp.optimize.brute(func=Nloglike, \n",
    "                  ranges=[(np.log(0.01), np.log(10.0))],\n",
    "                  args = (I1, exp_data),\n",
    "                  Ns = 50,\n",
    "                  full_output = True,\n",
    "                  finish=None)"
   ]
  },
  {
   "cell_type": "code",
   "execution_count": 92,
   "metadata": {
    "ExecuteTime": {
     "end_time": "2018-06-18T13:41:30.470786Z",
     "start_time": "2018-06-18T13:41:30.353413Z"
    }
   },
   "outputs": [
    {
     "data": {
      "image/png": "[encoded data removed]",
      "text/plain": [
       "<Figure size 432x288 with 1 Axes>"
      ]
     },
     "metadata": {},
     "output_type": "display_data"
    }
   ],
   "source": [
    "plt.plot(res[-2], res[-1]-res[1])\n",
    "\n",
    "plt.xlabel('loglambda')\n",
    "plt.ylabel('nloglike')\n",
    "\n",
    "plt.show()"
   ]
  },
  {
   "cell_type": "code",
   "execution_count": 93,
   "metadata": {
    "ExecuteTime": {
     "end_time": "2018-06-18T13:41:32.490169Z",
     "start_time": "2018-06-18T13:41:32.325449Z"
    }
   },
   "outputs": [],
   "source": [
    "res_I1 = sp.optimize.minimize(fun=Nloglike, \n",
    "                     x0=[-1.0],\n",
    "                     args = (I1, exp_data),\n",
    "                    )"
   ]
  },
  {
   "cell_type": "code",
   "execution_count": 94,
   "metadata": {
    "ExecuteTime": {
     "end_time": "2018-06-18T13:41:32.524407Z",
     "start_time": "2018-06-18T13:41:32.520991Z"
    }
   },
   "outputs": [
    {
     "data": {
      "text/plain": [
       "      fun: -91.94570594439332\n",
       " hess_inv: array([[0.00972291]])\n",
       "      jac: array([-3.81469727e-06])\n",
       "  message: 'Optimization terminated successfully.'\n",
       "     nfev: 30\n",
       "      nit: 7\n",
       "     njev: 10\n",
       "   status: 0\n",
       "  success: True\n",
       "        x: array([-1.58672568])"
      ]
     },
     "execution_count": 94,
     "metadata": {},
     "output_type": "execute_result"
    }
   ],
   "source": [
    "res_I1"
   ]
  },
  {
   "cell_type": "markdown",
   "metadata": {},
   "source": [
    "## Result"
   ]
  },
  {
   "cell_type": "code",
   "execution_count": 95,
   "metadata": {
    "ExecuteTime": {
     "end_time": "2018-06-18T13:41:33.309104Z",
     "start_time": "2018-06-18T13:41:33.263133Z"
    }
   },
   "outputs": [
    {
     "name": "stdout",
     "output_type": "stream",
     "text": [
      "lamda 0.20459442334703945\n",
      "sigma 0.014918219218309306\n"
     ]
    },
    {
     "data": {
      "text/html": [
       "<div>\n",
       "<style scoped>\n",
       "    .dataframe tbody tr th:only-of-type {\n",
       "        vertical-align: middle;\n",
       "    }\n",
       "\n",
       "    .dataframe tbody tr th {\n",
       "        vertical-align: top;\n",
       "    }\n",
       "\n",
       "    .dataframe thead th {\n",
       "        text-align: right;\n",
       "    }\n",
       "</style>\n",
       "<table border=\"1\" class=\"dataframe\">\n",
       "  <thead>\n",
       "    <tr style=\"text-align: right;\">\n",
       "      <th></th>\n",
       "      <th>loglike</th>\n",
       "      <th>k</th>\n",
       "      <th>n</th>\n",
       "      <th>cAIC</th>\n",
       "    </tr>\n",
       "  </thead>\n",
       "  <tbody>\n",
       "    <tr>\n",
       "      <th>I1</th>\n",
       "      <td>91.945706</td>\n",
       "      <td>2.0</td>\n",
       "      <td>33.0</td>\n",
       "      <td>-179.491412</td>\n",
       "    </tr>\n",
       "    <tr>\n",
       "      <th>I1_memory</th>\n",
       "      <td>84.553411</td>\n",
       "      <td>4.0</td>\n",
       "      <td>30.0</td>\n",
       "      <td>-159.506822</td>\n",
       "    </tr>\n",
       "    <tr>\n",
       "      <th>I1T_step</th>\n",
       "      <td>83.061492</td>\n",
       "      <td>4.0</td>\n",
       "      <td>30.0</td>\n",
       "      <td>-156.522984</td>\n",
       "    </tr>\n",
       "    <tr>\n",
       "      <th>I1T_transient</th>\n",
       "      <td>83.021791</td>\n",
       "      <td>5.0</td>\n",
       "      <td>30.0</td>\n",
       "      <td>-153.543582</td>\n",
       "    </tr>\n",
       "  </tbody>\n",
       "</table>\n",
       "</div>"
      ],
      "text/plain": [
       "                 loglike    k     n        cAIC\n",
       "I1             91.945706  2.0  33.0 -179.491412\n",
       "I1_memory      84.553411  4.0  30.0 -159.506822\n",
       "I1T_step       83.061492  4.0  30.0 -156.522984\n",
       "I1T_transient  83.021791  5.0  30.0 -153.543582"
      ]
     },
     "execution_count": 95,
     "metadata": {},
     "output_type": "execute_result"
    }
   ],
   "source": [
    "print('lamda', sp.exp(res_I1.x[0]))\n",
    "\n",
    "print('sigma', Sigma(res_I1.x, I1, exp_data))\n",
    "\n",
    "results.loc['I1', 'loglike'] = -res_I1.fun\n",
    "results.loc['I1', 'k'] = 2\n",
    "results.loc['I1', 'n'] = len(exp_data)\n",
    "\n",
    "results['cAIC'] = 2 * results['k'] - 2 * results['loglike'] + (2*results['k']**2 + 2*results['k'])/(results['n']-results['k']-1)\n",
    "\n",
    "results"
   ]
  },
  {
   "cell_type": "markdown",
   "metadata": {},
   "source": [
    "# I1 Memory"
   ]
  },
  {
   "cell_type": "code",
   "execution_count": 96,
   "metadata": {
    "ExecuteTime": {
     "end_time": "2018-06-18T13:41:37.477787Z",
     "start_time": "2018-06-18T13:41:37.466960Z"
    }
   },
   "outputs": [],
   "source": [
    "@np.vectorize\n",
    "def I1_memory(Dbirth, Dcoll, loglam, f, t0):\n",
    "    lam = np.exp(loglam)\n",
    "    C1 = c14_models.I1c(Dbirth, Dcoll, lam)\n",
    "    \n",
    "    if t0>Dcoll-Dbirth:\n",
    "        return C1\n",
    "    else:\n",
    "        C0 = c14_models.I1c(Dbirth, Dbirth + t0, lam)\n",
    "        return f*C1 + (1-f)*C0"
   ]
  },
  {
   "cell_type": "markdown",
   "metadata": {},
   "source": [
    "## Fit"
   ]
  },
  {
   "cell_type": "code",
   "execution_count": 124,
   "metadata": {
    "ExecuteTime": {
     "end_time": "2018-06-18T13:46:53.066971Z",
     "start_time": "2018-06-18T13:46:49.972829Z"
    }
   },
   "outputs": [],
   "source": [
    "res_I1_memory = sp.optimize.minimize(fun=Nloglike, \n",
    "                     x0=[np.log(0.01), 0.7, 25.0],\n",
    "                     args = (I1_memory, exp_data),\n",
    "                                     method='Nelder-Mead'\n",
    "                    )"
   ]
  },
  {
   "cell_type": "markdown",
   "metadata": {},
   "source": [
    "## Result"
   ]
  },
  {
   "cell_type": "code",
   "execution_count": 125,
   "metadata": {
    "ExecuteTime": {
     "end_time": "2018-06-18T13:46:54.243029Z",
     "start_time": "2018-06-18T13:46:54.193216Z"
    }
   },
   "outputs": [
    {
     "name": "stdout",
     "output_type": "stream",
     "text": [
      "lamda 0.2881087314215518\n",
      "f 0.9686076678059524\n",
      "t0 29.924460447751628\n",
      "sigma 0.013944930036176216\n"
     ]
    },
    {
     "data": {
      "text/html": [
       "<div>\n",
       "<style scoped>\n",
       "    .dataframe tbody tr th:only-of-type {\n",
       "        vertical-align: middle;\n",
       "    }\n",
       "\n",
       "    .dataframe tbody tr th {\n",
       "        vertical-align: top;\n",
       "    }\n",
       "\n",
       "    .dataframe thead th {\n",
       "        text-align: right;\n",
       "    }\n",
       "</style>\n",
       "<table border=\"1\" class=\"dataframe\">\n",
       "  <thead>\n",
       "    <tr style=\"text-align: right;\">\n",
       "      <th></th>\n",
       "      <th>loglike</th>\n",
       "      <th>k</th>\n",
       "      <th>n</th>\n",
       "      <th>cAIC</th>\n",
       "    </tr>\n",
       "  </thead>\n",
       "  <tbody>\n",
       "    <tr>\n",
       "      <th>I1</th>\n",
       "      <td>91.945706</td>\n",
       "      <td>2.0</td>\n",
       "      <td>33.0</td>\n",
       "      <td>-179.491412</td>\n",
       "    </tr>\n",
       "    <tr>\n",
       "      <th>I1_memory</th>\n",
       "      <td>94.172124</td>\n",
       "      <td>4.0</td>\n",
       "      <td>33.0</td>\n",
       "      <td>-178.915678</td>\n",
       "    </tr>\n",
       "    <tr>\n",
       "      <th>I1T_step</th>\n",
       "      <td>83.061492</td>\n",
       "      <td>4.0</td>\n",
       "      <td>30.0</td>\n",
       "      <td>-156.522984</td>\n",
       "    </tr>\n",
       "    <tr>\n",
       "      <th>I1T_transient</th>\n",
       "      <td>83.021791</td>\n",
       "      <td>5.0</td>\n",
       "      <td>30.0</td>\n",
       "      <td>-153.543582</td>\n",
       "    </tr>\n",
       "  </tbody>\n",
       "</table>\n",
       "</div>"
      ],
      "text/plain": [
       "                 loglike    k     n        cAIC\n",
       "I1             91.945706  2.0  33.0 -179.491412\n",
       "I1_memory      94.172124  4.0  33.0 -178.915678\n",
       "I1T_step       83.061492  4.0  30.0 -156.522984\n",
       "I1T_transient  83.021791  5.0  30.0 -153.543582"
      ]
     },
     "execution_count": 125,
     "metadata": {},
     "output_type": "execute_result"
    }
   ],
   "source": [
    "print('lamda', sp.exp(res_I1_memory.x[0]))\n",
    "print('f', res_I1_memory.x[1])\n",
    "print('t0', res_I1_memory.x[2])\n",
    "\n",
    "print('sigma', Sigma(res_I1_memory.x, I1_memory, exp_data))\n",
    "\n",
    "results.loc['I1_memory', 'loglike'] = -res_I1_memory.fun\n",
    "results.loc['I1_memory', 'k'] = 4\n",
    "results.loc['I1_memory', 'n'] = len(exp_data)\n",
    "\n",
    "results['cAIC'] = 2 * results['k'] - 2 * results['loglike'] + (2*results['k']**2 + 2*results['k'])/(results['n']-results['k']-1)\n",
    "\n",
    "results"
   ]
  },
  {
   "cell_type": "markdown",
   "metadata": {},
   "source": [
    "## Plot"
   ]
  },
  {
   "cell_type": "code",
   "execution_count": 127,
   "metadata": {
    "ExecuteTime": {
     "end_time": "2018-06-18T13:49:58.628672Z",
     "start_time": "2018-06-18T13:49:58.488893Z"
    }
   },
   "outputs": [
    {
     "data": {
      "image/png": "[encoded data removed]",
      "text/plain": [
       "<Figure size 432x288 with 1 Axes>"
      ]
     },
     "metadata": {},
     "output_type": "display_data"
    }
   ],
   "source": [
    "plt.plot(exp_data['Dbirth'], exp_data['d14C'], ls='None', marker='o')\n",
    "\n",
    "plt.errorbar(exp_data['Dbirth'], \n",
    "             I1_memory(exp_data['Dbirth'], \n",
    "                      exp_data['Dcoll'],\n",
    "                      *res_I1_memory.x),\n",
    "             Sigma(res_I1_memory.x, I1_memory, exp_data),\n",
    "             ls = 'None', marker='s')\n",
    "\n",
    "plt.show()"
   ]
  },
  {
   "cell_type": "markdown",
   "metadata": {},
   "source": [
    "# I1T_step"
   ]
  },
  {
   "cell_type": "code",
   "execution_count": 128,
   "metadata": {
    "ExecuteTime": {
     "end_time": "2018-06-18T13:49:59.440183Z",
     "start_time": "2018-06-18T13:49:59.431620Z"
    }
   },
   "outputs": [],
   "source": [
    "I1T = c14_models.I1T"
   ]
  },
  {
   "cell_type": "code",
   "execution_count": 129,
   "metadata": {
    "ExecuteTime": {
     "end_time": "2018-06-18T13:49:59.691990Z",
     "start_time": "2018-06-18T13:49:59.687619Z"
    }
   },
   "outputs": [],
   "source": [
    "@np.vectorize\n",
    "def I1T_step(Dbirth, Dcoll, loglam1, loglam2, t_step):\n",
    "    lam1 = np.exp(loglam1)\n",
    "    lam2 = np.exp(loglam2)\n",
    "    \n",
    "    def lam_step(t, lam1, lam2, t_step):\n",
    "        return np.where(t < Dbirth + t_step, lam1, lam2)\n",
    "    \n",
    "    return I1T(Dbirth, Dcoll, lam_step, t_eval=np.linspace(Dbirth, Dcoll), lam_arg=(lam1, lam2, t_step))[1][-1]"
   ]
  },
  {
   "cell_type": "markdown",
   "metadata": {},
   "source": [
    "## Fit"
   ]
  },
  {
   "cell_type": "code",
   "execution_count": 130,
   "metadata": {
    "ExecuteTime": {
     "end_time": "2018-06-18T13:50:57.550200Z",
     "start_time": "2018-06-18T13:50:00.411057Z"
    }
   },
   "outputs": [],
   "source": [
    "res_I1T_step = sp.optimize.minimize(fun=Nloglike, \n",
    "                           x0=[-2, -1, 30.0],\n",
    "                           args = (I1T_step, exp_data),\n",
    "                           method=\"Nelder-Mead\"\n",
    "                          )"
   ]
  },
  {
   "cell_type": "markdown",
   "metadata": {},
   "source": [
    "## Result"
   ]
  },
  {
   "cell_type": "code",
   "execution_count": 131,
   "metadata": {
    "ExecuteTime": {
     "end_time": "2018-06-18T13:50:57.937340Z",
     "start_time": "2018-06-18T13:50:57.552066Z"
    }
   },
   "outputs": [
    {
     "name": "stdout",
     "output_type": "stream",
     "text": [
      "lamda1 0.23158621317624045\n",
      "lamda2 0.19937417551554462\n",
      "t_step 30.173487991038442\n",
      "sigma 0.014867616041463074\n"
     ]
    },
    {
     "data": {
      "text/html": [
       "<div>\n",
       "<style scoped>\n",
       "    .dataframe tbody tr th:only-of-type {\n",
       "        vertical-align: middle;\n",
       "    }\n",
       "\n",
       "    .dataframe tbody tr th {\n",
       "        vertical-align: top;\n",
       "    }\n",
       "\n",
       "    .dataframe thead th {\n",
       "        text-align: right;\n",
       "    }\n",
       "</style>\n",
       "<table border=\"1\" class=\"dataframe\">\n",
       "  <thead>\n",
       "    <tr style=\"text-align: right;\">\n",
       "      <th></th>\n",
       "      <th>loglike</th>\n",
       "      <th>k</th>\n",
       "      <th>n</th>\n",
       "      <th>cAIC</th>\n",
       "    </tr>\n",
       "  </thead>\n",
       "  <tbody>\n",
       "    <tr>\n",
       "      <th>I1</th>\n",
       "      <td>91.945706</td>\n",
       "      <td>2.0</td>\n",
       "      <td>33.0</td>\n",
       "      <td>-179.491412</td>\n",
       "    </tr>\n",
       "    <tr>\n",
       "      <th>I1_memory</th>\n",
       "      <td>94.172124</td>\n",
       "      <td>4.0</td>\n",
       "      <td>33.0</td>\n",
       "      <td>-178.915678</td>\n",
       "    </tr>\n",
       "    <tr>\n",
       "      <th>I1T_step</th>\n",
       "      <td>92.057833</td>\n",
       "      <td>4.0</td>\n",
       "      <td>33.0</td>\n",
       "      <td>-174.687096</td>\n",
       "    </tr>\n",
       "    <tr>\n",
       "      <th>I1T_transient</th>\n",
       "      <td>83.021791</td>\n",
       "      <td>5.0</td>\n",
       "      <td>30.0</td>\n",
       "      <td>-153.543582</td>\n",
       "    </tr>\n",
       "  </tbody>\n",
       "</table>\n",
       "</div>"
      ],
      "text/plain": [
       "                 loglike    k     n        cAIC\n",
       "I1             91.945706  2.0  33.0 -179.491412\n",
       "I1_memory      94.172124  4.0  33.0 -178.915678\n",
       "I1T_step       92.057833  4.0  33.0 -174.687096\n",
       "I1T_transient  83.021791  5.0  30.0 -153.543582"
      ]
     },
     "execution_count": 131,
     "metadata": {},
     "output_type": "execute_result"
    }
   ],
   "source": [
    "print('lamda1', np.exp(res_I1T_step.x[0]))\n",
    "print('lamda2', np.exp(res_I1T_step.x[1]))\n",
    "print('t_step', res_I1T_step.x[2])\n",
    "\n",
    "print('sigma', Sigma(res_I1T_step.x, I1T_step, exp_data))\n",
    "\n",
    "results.loc['I1T_step', 'loglike'] = -res_I1T_step.fun\n",
    "results.loc['I1T_step', 'k'] = 4\n",
    "results.loc['I1T_step', 'n'] = len(exp_data)\n",
    "\n",
    "results['cAIC'] = 2 * results['k'] - 2 * results['loglike'] + (2*results['k']**2 + 2*results['k'])/(results['n']-results['k']-1)\n",
    "\n",
    "results"
   ]
  },
  {
   "cell_type": "markdown",
   "metadata": {},
   "source": [
    "# I1T_transient"
   ]
  },
  {
   "cell_type": "code",
   "execution_count": 132,
   "metadata": {
    "ExecuteTime": {
     "end_time": "2018-06-18T13:50:57.942606Z",
     "start_time": "2018-06-18T13:50:57.938842Z"
    }
   },
   "outputs": [],
   "source": [
    "@np.vectorize\n",
    "def I1T_transient(Dbirth, Dcoll, loglam1, loglam2, t_on, t_off):\n",
    "    lam1 = np.exp(loglam1)\n",
    "    lam2 = np.exp(loglam2)\n",
    "    \n",
    "    def lam_transient(t, lam1, lam2, t_on, t_off):\n",
    "        return np.where(np.logical_or(t < Dbirth + t_on,\n",
    "                                      t > Dbirth + t_on + t_off),\n",
    "                        lam1, \n",
    "                        lam2)\n",
    "    \n",
    "    return I1T(Dbirth, Dcoll, lam_transient, \n",
    "               t_eval=np.linspace(Dbirth, Dcoll), \n",
    "               lam_arg=(lam1, lam2, t_on, t_off)\n",
    "              )[1][-1]"
   ]
  },
  {
   "cell_type": "markdown",
   "metadata": {},
   "source": [
    "## Fit"
   ]
  },
  {
   "cell_type": "code",
   "execution_count": 133,
   "metadata": {
    "ExecuteTime": {
     "end_time": "2018-06-18T13:52:56.969729Z",
     "start_time": "2018-06-18T13:50:57.945003Z"
    }
   },
   "outputs": [],
   "source": [
    "res_I1T_transient = sp.optimize.minimize(fun=Nloglike, \n",
    "                           x0=[-2.0, -3.0, 60.0, 70],\n",
    "                           args = (I1T_transient, exp_data),\n",
    "                           method=\"Nelder-Mead\"\n",
    "                          )"
   ]
  },
  {
   "cell_type": "markdown",
   "metadata": {},
   "source": [
    "## Result"
   ]
  },
  {
   "cell_type": "code",
   "execution_count": 134,
   "metadata": {
    "ExecuteTime": {
     "end_time": "2018-06-18T13:52:57.454840Z",
     "start_time": "2018-06-18T13:52:56.971314Z"
    }
   },
   "outputs": [
    {
     "name": "stdout",
     "output_type": "stream",
     "text": [
      "lamda1 0.25428198368597454\n",
      "lamda2 0.14059224392966072\n",
      "t_on 59.25244831802293\n",
      "t_off 80.75065978408949\n",
      "sigma 0.0132485865645339\n"
     ]
    },
    {
     "data": {
      "text/html": [
       "<div>\n",
       "<style scoped>\n",
       "    .dataframe tbody tr th:only-of-type {\n",
       "        vertical-align: middle;\n",
       "    }\n",
       "\n",
       "    .dataframe tbody tr th {\n",
       "        vertical-align: top;\n",
       "    }\n",
       "\n",
       "    .dataframe thead th {\n",
       "        text-align: right;\n",
       "    }\n",
       "</style>\n",
       "<table border=\"1\" class=\"dataframe\">\n",
       "  <thead>\n",
       "    <tr style=\"text-align: right;\">\n",
       "      <th></th>\n",
       "      <th>loglike</th>\n",
       "      <th>k</th>\n",
       "      <th>n</th>\n",
       "      <th>cAIC</th>\n",
       "    </tr>\n",
       "  </thead>\n",
       "  <tbody>\n",
       "    <tr>\n",
       "      <th>I1</th>\n",
       "      <td>91.945706</td>\n",
       "      <td>2.0</td>\n",
       "      <td>33.0</td>\n",
       "      <td>-179.491412</td>\n",
       "    </tr>\n",
       "    <tr>\n",
       "      <th>I1_memory</th>\n",
       "      <td>94.172124</td>\n",
       "      <td>4.0</td>\n",
       "      <td>33.0</td>\n",
       "      <td>-178.915678</td>\n",
       "    </tr>\n",
       "    <tr>\n",
       "      <th>I1T_step</th>\n",
       "      <td>92.057833</td>\n",
       "      <td>4.0</td>\n",
       "      <td>33.0</td>\n",
       "      <td>-174.687096</td>\n",
       "    </tr>\n",
       "    <tr>\n",
       "      <th>I1T_transient</th>\n",
       "      <td>95.862554</td>\n",
       "      <td>5.0</td>\n",
       "      <td>33.0</td>\n",
       "      <td>-179.502885</td>\n",
       "    </tr>\n",
       "  </tbody>\n",
       "</table>\n",
       "</div>"
      ],
      "text/plain": [
       "                 loglike    k     n        cAIC\n",
       "I1             91.945706  2.0  33.0 -179.491412\n",
       "I1_memory      94.172124  4.0  33.0 -178.915678\n",
       "I1T_step       92.057833  4.0  33.0 -174.687096\n",
       "I1T_transient  95.862554  5.0  33.0 -179.502885"
      ]
     },
     "execution_count": 134,
     "metadata": {},
     "output_type": "execute_result"
    }
   ],
   "source": [
    "print('lamda1', np.exp(res_I1T_transient.x[0]))\n",
    "print('lamda2', np.exp(res_I1T_transient.x[1]))\n",
    "print('t_on', res_I1T_transient.x[2])\n",
    "print('t_off', res_I1T_transient.x[3])\n",
    "\n",
    "sig = Sigma(res_I1T_transient.x, I1T_transient, exp_data)\n",
    "print('sigma', sig)\n",
    "\n",
    "results.loc['I1T_transient', 'loglike'] = -res_I1T_transient.fun\n",
    "results.loc['I1T_transient', 'k'] = 5\n",
    "results.loc['I1T_transient', 'n'] = len(exp_data)\n",
    "\n",
    "results['cAIC'] = 2 * results['k'] - 2 * results['loglike'] + (2*results['k']**2 + 2*results['k'])/(results['n']-results['k']-1)\n",
    "\n",
    "results"
   ]
  },
  {
   "cell_type": "markdown",
   "metadata": {},
   "source": [
    "# Plot I1, I1T, I1_memory"
   ]
  },
  {
   "cell_type": "code",
   "execution_count": 141,
   "metadata": {
    "ExecuteTime": {
     "end_time": "2018-06-18T13:55:46.181839Z",
     "start_time": "2018-06-18T13:55:44.951457Z"
    }
   },
   "outputs": [
    {
     "data": {
      "image/png": "[encoded data removed]",
      "text/plain": [
       "<Figure size 1080x720 with 1 Axes>"
      ]
     },
     "metadata": {},
     "output_type": "display_data"
    }
   ],
   "source": [
    "fig, ax = plt.subplots(figsize=(15, 10))\n",
    "tt = np.linspace(1930, 2010)\n",
    "ax.plot(tt, np.vectorize(c14_models.C_atm)(tt))\n",
    "ax.plot(exp_data['Dbirth'], exp_data['d14C'], ls = 'None', marker = 'o')\n",
    "\n",
    "ax.errorbar(exp_data['Dbirth']-0.2, \n",
    "            I1(exp_data['Dbirth'].values,\n",
    "               exp_data['Dcoll'].values,\n",
    "               *res_I1.x\n",
    "               ),\n",
    "           Sigma(res_I1.x, I1, exp_data),\n",
    "           ls='None',\n",
    "           label = 'I1')\n",
    "\n",
    "ax.errorbar(exp_data['Dbirth'], \n",
    "            I1T_transient(exp_data['Dbirth'].values,\n",
    "                          exp_data['Dcoll'].values,\n",
    "                          *res_I1T_transient.x\n",
    "                         ),\n",
    "           Sigma(res_I1T_transient.x, I1T_transient, exp_data),\n",
    "           ls='None',\n",
    "            marker='s',\n",
    "           label = 'I1T_transient')\n",
    "\n",
    "ax.errorbar(exp_data['Dbirth']+0.2, \n",
    "             I1_memory(exp_data['Dbirth'], \n",
    "                      exp_data['Dcoll'],\n",
    "                      *res_I1_memory.x),\n",
    "             Sigma(res_I1_memory.x, I1_memory, exp_data),\n",
    "             ls = 'None',\n",
    "            marker='o',\n",
    "           label='I1_memory')\n",
    "\n",
    "\n",
    "ax.set_ylim((0, 0.12))\n",
    "ax.legend()\n",
    "plt.show()"
   ]
  },
  {
   "cell_type": "markdown",
   "metadata": {},
   "source": [
    "# IK"
   ]
  },
  {
   "cell_type": "code",
   "execution_count": 200,
   "metadata": {
    "ExecuteTime": {
     "end_time": "2018-06-12T12:58:02.567562Z",
     "start_time": "2018-06-12T12:58:02.565101Z"
    }
   },
   "outputs": [],
   "source": [
    "@np.vectorize\n",
    "def IK(Dbirth, Dcoll, loglam, f):\n",
    "    lam = np.exp(loglam)\n",
    "    return c14_models.IK(Dbirth, Dcoll, lam, f, t_eval=np.linspace(Dbirth, Dcoll))[1][-1]"
   ]
  },
  {
   "cell_type": "markdown",
   "metadata": {},
   "source": [
    "## Fit"
   ]
  },
  {
   "cell_type": "code",
   "execution_count": 201,
   "metadata": {
    "ExecuteTime": {
     "end_time": "2018-06-12T13:36:06.983322Z",
     "start_time": "2018-06-12T12:58:02.568998Z"
    }
   },
   "outputs": [
    {
     "name": "stdout",
     "output_type": "stream",
     "text": [
      "[-1.23684211  0.59473684]\n",
      "-189.71039882796586\n"
     ]
    }
   ],
   "source": [
    "res = sp.optimize.brute(func=Nloglike, \n",
    "                  ranges=[(-1.5, 1), (0.2, 0.95)],\n",
    "                  args = (IK, exp_data),\n",
    "                  Ns = 20,\n",
    "                  full_output = True,\n",
    "                  finish=None)\n",
    "\n",
    "print(res[0])\n",
    "print(res[1])"
   ]
  },
  {
   "cell_type": "code",
   "execution_count": 202,
   "metadata": {
    "ExecuteTime": {
     "end_time": "2018-06-12T13:36:07.156886Z",
     "start_time": "2018-06-12T13:36:06.984814Z"
    }
   },
   "outputs": [
    {
     "data": {
      "image/png": "[encoded data removed]",
      "text/plain": [
       "<Figure size 432x288 with 2 Axes>"
      ]
     },
     "metadata": {},
     "output_type": "display_data"
    }
   ],
   "source": [
    "x = res[2][0]\n",
    "y = res[2][1]\n",
    "z = res[3]\n",
    "z -= z.min()\n",
    "\n",
    "CS = plt.contour(x, y, z)\n",
    "plt.pcolormesh(x, y, z, vmax=8)\n",
    "\n",
    "plt.clabel(CS, inline=1, fontsize=10)\n",
    "\n",
    "plt.xlabel('loglam')\n",
    "plt.ylabel('f')\n",
    "plt.colorbar()\n",
    "\n",
    "plt.show()"
   ]
  },
  {
   "cell_type": "markdown",
   "metadata": {},
   "source": [
    "## Result"
   ]
  },
  {
   "cell_type": "code",
   "execution_count": 203,
   "metadata": {
    "ExecuteTime": {
     "end_time": "2018-06-12T13:36:11.891388Z",
     "start_time": "2018-06-12T13:36:07.158610Z"
    }
   },
   "outputs": [
    {
     "name": "stdout",
     "output_type": "stream",
     "text": [
      "lamda 0.2902995072708592\n",
      "f 0.5947368421052632\n",
      "sigma 0.021255849868582043\n"
     ]
    },
    {
     "data": {
      "text/html": [
       "<div>\n",
       "<style scoped>\n",
       "    .dataframe tbody tr th:only-of-type {\n",
       "        vertical-align: middle;\n",
       "    }\n",
       "\n",
       "    .dataframe tbody tr th {\n",
       "        vertical-align: top;\n",
       "    }\n",
       "\n",
       "    .dataframe thead th {\n",
       "        text-align: right;\n",
       "    }\n",
       "</style>\n",
       "<table border=\"1\" class=\"dataframe\">\n",
       "  <thead>\n",
       "    <tr style=\"text-align: right;\">\n",
       "      <th></th>\n",
       "      <th>loglike</th>\n",
       "      <th>k</th>\n",
       "      <th>n</th>\n",
       "      <th>cAIC</th>\n",
       "    </tr>\n",
       "  </thead>\n",
       "  <tbody>\n",
       "    <tr>\n",
       "      <th>I1</th>\n",
       "      <td>189.710960</td>\n",
       "      <td>2.0</td>\n",
       "      <td>78.0</td>\n",
       "      <td>-375.261919</td>\n",
       "    </tr>\n",
       "    <tr>\n",
       "      <th>I1T_step</th>\n",
       "      <td>189.739447</td>\n",
       "      <td>4.0</td>\n",
       "      <td>78.0</td>\n",
       "      <td>-370.930949</td>\n",
       "    </tr>\n",
       "    <tr>\n",
       "      <th>I1T_transient</th>\n",
       "      <td>191.647034</td>\n",
       "      <td>5.0</td>\n",
       "      <td>78.0</td>\n",
       "      <td>-372.460734</td>\n",
       "    </tr>\n",
       "    <tr>\n",
       "      <th>IK</th>\n",
       "      <td>189.710399</td>\n",
       "      <td>3.0</td>\n",
       "      <td>78.0</td>\n",
       "      <td>-373.096473</td>\n",
       "    </tr>\n",
       "  </tbody>\n",
       "</table>\n",
       "</div>"
      ],
      "text/plain": [
       "                  loglike    k     n        cAIC\n",
       "I1             189.710960  2.0  78.0 -375.261919\n",
       "I1T_step       189.739447  4.0  78.0 -370.930949\n",
       "I1T_transient  191.647034  5.0  78.0 -372.460734\n",
       "IK             189.710399  3.0  78.0 -373.096473"
      ]
     },
     "execution_count": 203,
     "metadata": {},
     "output_type": "execute_result"
    }
   ],
   "source": [
    "lam = sp.exp(res[0][0])\n",
    "print('lamda', lam)\n",
    "\n",
    "f = res[0][1]\n",
    "print('f', f)\n",
    "\n",
    "sig = Sigma([np.log(lam), f], IK, exp_data)\n",
    "print('sigma', sig)\n",
    "\n",
    "results.loc['IK', 'loglike'] = -res[1]\n",
    "results.loc['IK', 'k'] = 3\n",
    "results.loc['IK', 'n'] = len(exp_data)\n",
    "\n",
    "results['cAIC'] = 2 * results['k'] - 2 * results['loglike'] + (2*results['k']**2 + 2*results['k'])/(results['n']-results['k']-1)\n",
    "\n",
    "results"
   ]
  },
  {
   "cell_type": "markdown",
   "metadata": {},
   "source": [
    "# IL"
   ]
  },
  {
   "cell_type": "code",
   "execution_count": 204,
   "metadata": {
    "ExecuteTime": {
     "end_time": "2018-06-12T13:36:11.895563Z",
     "start_time": "2018-06-12T13:36:11.893011Z"
    }
   },
   "outputs": [],
   "source": [
    "@np.vectorize\n",
    "def IL(Dbirth, Dcoll, loglam, f):\n",
    "    lam = np.exp(loglam)\n",
    "    return c14_models.IL(Dbirth, Dcoll, lam, f, t_eval=np.linspace(Dbirth, Dcoll))[1][-1]"
   ]
  },
  {
   "cell_type": "markdown",
   "metadata": {},
   "source": [
    "## Fit"
   ]
  },
  {
   "cell_type": "code",
   "execution_count": null,
   "metadata": {
    "ExecuteTime": {
     "start_time": "2018-06-12T12:53:19.915Z"
    }
   },
   "outputs": [],
   "source": [
    "res = sp.optimize.brute(func=Nloglike, \n",
    "                  ranges=[(-2, 2), (0.01, 0.99)],\n",
    "                  args = (IL, exp_data),\n",
    "                  Ns = 20,\n",
    "                  full_output = True,\n",
    "                  finish=None)\n",
    "\n",
    "print(res[0])\n",
    "print(res[1])"
   ]
  },
  {
   "cell_type": "code",
   "execution_count": null,
   "metadata": {
    "ExecuteTime": {
     "start_time": "2018-06-12T12:53:19.917Z"
    }
   },
   "outputs": [],
   "source": [
    "x = res[2][0]\n",
    "y = res[2][1]\n",
    "z = res[3]\n",
    "z -= z.min()\n",
    "\n",
    "CS = plt.contour(x, y, z)\n",
    "plt.pcolormesh(x, y, z, vmax=8)\n",
    "\n",
    "plt.clabel(CS, inline=1, fontsize=10)\n",
    "\n",
    "plt.xlabel('loglam')\n",
    "plt.ylabel('f')\n",
    "plt.colorbar()\n",
    "\n",
    "plt.show()"
   ]
  },
  {
   "cell_type": "markdown",
   "metadata": {},
   "source": [
    "## Result"
   ]
  },
  {
   "cell_type": "code",
   "execution_count": null,
   "metadata": {
    "ExecuteTime": {
     "start_time": "2018-06-12T12:53:19.922Z"
    }
   },
   "outputs": [],
   "source": [
    "lam = sp.exp(res[0][0])\n",
    "print('lamda', lam)\n",
    "\n",
    "f = res[0][1]\n",
    "print('f', f)\n",
    "\n",
    "sig = Sigma([np.log(lam), f], IL, exp_data)\n",
    "print('sigma', sig)\n",
    "\n",
    "results.loc['IL', 'loglike'] = -res[1]\n",
    "results.loc['IL', 'k'] = 3\n",
    "results.loc['IL', 'n'] = len(exp_data)\n",
    "\n",
    "results['cAIC'] = 2 * results['k'] - 2 * results['loglike'] + (2*results['k']**2 + 2*results['k'])/(results['n']-results['k']-1)\n",
    "\n",
    "results"
   ]
  },
  {
   "cell_type": "markdown",
   "metadata": {},
   "source": [
    "# I2"
   ]
  },
  {
   "cell_type": "code",
   "execution_count": null,
   "metadata": {
    "ExecuteTime": {
     "start_time": "2018-06-12T12:53:19.924Z"
    }
   },
   "outputs": [],
   "source": [
    "@np.vectorize\n",
    "def I2(Dbirth, Dcoll, loglam, f):\n",
    "    lam = np.exp(loglam)\n",
    "    return c14_models.I2(Dbirth, Dcoll, lam, f, \n",
    "                         t_eval=np.linspace(Dbirth, Dcoll))[1][-1]"
   ]
  },
  {
   "cell_type": "markdown",
   "metadata": {},
   "source": [
    "## Fit"
   ]
  },
  {
   "cell_type": "code",
   "execution_count": null,
   "metadata": {
    "ExecuteTime": {
     "start_time": "2018-06-12T12:53:19.928Z"
    }
   },
   "outputs": [],
   "source": [
    "res = sp.optimize.brute(func=Nloglike, \n",
    "                  ranges=[(-3, 0.5), (0.85, 1)],\n",
    "                  args = (I2, exp_data),\n",
    "                  Ns = 20,\n",
    "                  full_output = True,\n",
    "                  finish=None)\n",
    "\n",
    "print(res[0])\n",
    "print(res[1])"
   ]
  },
  {
   "cell_type": "code",
   "execution_count": null,
   "metadata": {
    "ExecuteTime": {
     "start_time": "2018-06-12T12:53:19.933Z"
    }
   },
   "outputs": [],
   "source": [
    "x = res[2][0]\n",
    "y = res[2][1]\n",
    "z = res[3]\n",
    "z -= z.min()\n",
    "\n",
    "CS = plt.contour(x, y, z)\n",
    "plt.pcolormesh(x, y, z)\n",
    "\n",
    "plt.clabel(CS, inline=1, fontsize=10)\n",
    "\n",
    "plt.xlabel('loglam')\n",
    "plt.ylabel('f')\n",
    "plt.colorbar()\n",
    "\n",
    "plt.show()"
   ]
  },
  {
   "cell_type": "code",
   "execution_count": null,
   "metadata": {
    "ExecuteTime": {
     "start_time": "2018-06-12T12:53:19.939Z"
    }
   },
   "outputs": [],
   "source": [
    "lam = sp.exp(res[0][0])\n",
    "print('lamda', lam)\n",
    "\n",
    "f = res[0][1]\n",
    "print('f', f)\n",
    "\n",
    "sig = Sigma([np.log(lam), f], I2, exp_data)\n",
    "print('sigma', sig)\n",
    "\n",
    "results.loc['I2', 'loglike'] = -res[1]\n",
    "results.loc['I2', 'k'] = 3\n",
    "results.loc['I2', 'n'] = len(exp_data)\n",
    "\n",
    "results['cAIC'] = 2 * results['k'] - 2 * results['loglike'] + (2*results['k']**2 + 2*results['k'])/(results['n']-results['k']-1)\n",
    "\n",
    "results"
   ]
  },
  {
   "cell_type": "markdown",
   "metadata": {},
   "source": [
    "# Scenario IX2p"
   ]
  },
  {
   "cell_type": "code",
   "execution_count": null,
   "metadata": {
    "ExecuteTime": {
     "start_time": "2018-06-12T12:53:19.942Z"
    }
   },
   "outputs": [],
   "source": [
    "@np.vectorize\n",
    "def IX2p(Dbirth, Dcoll, dloglam1, dloglam2, f1):\n",
    "    dlam1 = np.exp(dloglam1)\n",
    "    dlam2 = np.exp(dloglam2)\n",
    "    \n",
    "    f2 = 1-f1\n",
    "    \n",
    "    return c14_models.IX(Dbirth, Dcoll, [dlam1, dlam2], [f1, f2],\n",
    "                        t_eval=np.linspace(Dbirth, Dcoll))[1][-1]"
   ]
  },
  {
   "cell_type": "markdown",
   "metadata": {},
   "source": [
    "## Fit"
   ]
  },
  {
   "cell_type": "code",
   "execution_count": null,
   "metadata": {
    "ExecuteTime": {
     "start_time": "2018-06-12T12:53:19.944Z"
    }
   },
   "outputs": [],
   "source": [
    "res = sp.optimize.brute(func=Nloglike, \n",
    "                  ranges=[(np.log(0.01), np.log(2.0)),(np.log(0.01), np.log(2.0)) , (0, 1)],\n",
    "                  args = (IX2p, exp_data),\n",
    "                  Ns = 10,\n",
    "                  full_output = True,\n",
    "                  finish=None)\n",
    "\n",
    "print(res[0])\n",
    "print(res[1])"
   ]
  },
  {
   "cell_type": "markdown",
   "metadata": {},
   "source": [
    "## Result"
   ]
  },
  {
   "cell_type": "code",
   "execution_count": null,
   "metadata": {
    "ExecuteTime": {
     "start_time": "2018-06-12T12:53:19.950Z"
    }
   },
   "outputs": [],
   "source": [
    "results.loc['IX2p', 'loglike'] = -res[1]\n",
    "results.loc['IX2p', 'k'] = 4\n",
    "results.loc['IX2p', 'n'] = len(exp_data)\n",
    "\n",
    "results['cAIC'] = 2 * results['k'] - 2 * results['loglike'] + (2*results['k']**2 + 2*results['k'])/(results['n']-results['k']-1)\n",
    "\n",
    "results"
   ]
  },
  {
   "cell_type": "markdown",
   "metadata": {},
   "source": [
    "# Results"
   ]
  },
  {
   "cell_type": "code",
   "execution_count": null,
   "metadata": {
    "ExecuteTime": {
     "start_time": "2018-06-12T12:53:19.955Z"
    }
   },
   "outputs": [],
   "source": [
    "results.sort_values('cAIC')"
   ]
  }
 ],
 "metadata": {
  "anaconda-cloud": {},
  "kernelspec": {
   "display_name": "Python [conda env:py3]",
   "language": "python",
   "name": "conda-env-py3-py"
  },
  "language_info": {
   "codemirror_mode": {
    "name": "ipython",
    "version": 3
   },
   "file_extension": ".py",
   "mimetype": "text/x-python",
   "name": "python",
   "nbconvert_exporter": "python",
   "pygments_lexer": "ipython3",
   "version": "3.6.5"
  },
  "notify_time": "30",
  "toc": {
   "base_numbering": 1,
   "nav_menu": {
    "height": "251px",
    "width": "252px"
   },
   "number_sections": true,
   "sideBar": true,
   "skip_h1_title": false,
   "title_cell": "Table of Contents",
   "title_sidebar": "Contents",
   "toc_cell": false,
   "toc_position": {
    "height": "913px",
    "left": "0px",
    "right": "1708px",
    "top": "111px",
    "width": "212px"
   },
   "toc_section_display": "block",
   "toc_window_display": true
  }
 },
 "nbformat": 4,
 "nbformat_minor": 1
}
