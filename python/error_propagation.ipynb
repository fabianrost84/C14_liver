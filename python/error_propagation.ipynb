{
 "cells": [
  {
   "cell_type": "markdown",
   "metadata": {},
   "source": [
    "# C14-hepatocyte analysis"
   ]
  },
  {
   "cell_type": "code",
   "execution_count": 1,
   "metadata": {},
   "outputs": [],
   "source": [
    "# m = c14.models.liver.A()\n",
    "\n",
    "# path = c14.models.liver.default_path\n",
    "\n",
    "# from scipy.interpolate import UnivariateSpline\n",
    "\n",
    "# ploidy_data = pd.read_excel(path)\n",
    "# ploidy_data['age'] = (ploidy_data[['age_min', 'age_max']].\n",
    "#                       mean(axis='columns'))\n",
    "# ploidy_data /= 100.0\n",
    "# ploidy_data['age'] *= 100\n",
    "\n",
    "# ploidy = UnivariateSpline(ploidy_data['age'].values,\n",
    "#                                ploidy_data['2C_mean'].values,\n",
    "#                                ext=3, k=2)\n",
    "\n",
    "# t = np.linspace(0, 100)\n",
    "# plt.plot(t, m.ploidy(t))\n",
    "# plt.plot(t, ploidy(t))"
   ]
  },
  {
   "cell_type": "markdown",
   "metadata": {},
   "source": [
    "default_parameters -> fit\n",
    "\n",
    "default_limit -> physical\n",
    "\n",
    "parameters -> physical"
   ]
  },
  {
   "cell_type": "code",
   "execution_count": 2,
   "metadata": {
    "ExecuteTime": {
     "end_time": "2019-06-12T16:46:11.667471Z",
     "start_time": "2019-06-12T16:46:09.329920Z"
    }
   },
   "outputs": [],
   "source": [
    "import datetime\n",
    "from IPython.display import display\n",
    "import joblib\n",
    "import numpy as np\n",
    "import pandas as pd\n",
    "import matplotlib.pyplot as plt\n",
    "import seaborn as sns\n",
    "import warnings\n",
    "\n",
    "%matplotlib inline\n",
    "\n",
    "mem = joblib.Memory(location='/scratch/tmp/fabrost/hepato', verbose=0)\n",
    "\n",
    "import logging\n",
    "\n",
    "%load_ext rpy2.ipython\n",
    "\n",
    "# logging.basicConfig(filename='c14.log',\n",
    "#                              filemode='a',\n",
    "#                              format='%(asctime)s,%(msecs)d %(name)s %(levelname)s %(message)s',\n",
    "#                             datefmt='%H:%M:%S',\n",
    "#                              level=logging.DEBUG)\n",
    "logging.basicConfig(level=logging.WARNING)"
   ]
  },
  {
   "cell_type": "code",
   "execution_count": 3,
   "metadata": {},
   "outputs": [],
   "source": [
    "logger = logging.getLogger()\n",
    "logger.setLevel(logging.WARNING)"
   ]
  },
  {
   "cell_type": "code",
   "execution_count": 4,
   "metadata": {},
   "outputs": [],
   "source": [
    "# %load_ext autoreload\n",
    "# %autoreload 2\n",
    "import c14\n",
    "import c14.models.liver\n",
    "import c14.models.minimal"
   ]
  },
  {
   "cell_type": "markdown",
   "metadata": {},
   "source": [
    "## Data"
   ]
  },
  {
   "cell_type": "code",
   "execution_count": 5,
   "metadata": {
    "ExecuteTime": {
     "end_time": "2019-06-12T16:46:14.483512Z",
     "start_time": "2019-06-12T16:46:14.348904Z"
    }
   },
   "outputs": [],
   "source": [
    "data = pd.read_csv('../data/C14data_liver_samples_20191023.csv')\n",
    "data = data.groupby(['type', 'sample', 'ploidy', 'pathology']).mean().dropna(how='all').reset_index()\n",
    "data['age'] = data['Dcoll'] - data['Dbirth']\n",
    "data = data.query('type == \"hepatocyte\" and pathology != \"Y\"')\n",
    "edata = c14.exp_data(data)"
   ]
  },
  {
   "cell_type": "code",
   "execution_count": 6,
   "metadata": {},
   "outputs": [],
   "source": [
    "edata_young = c14.exp_data(data.query('age <= 50'))\n",
    "edata_old = c14.exp_data(data.query('age > 50'))"
   ]
  },
  {
   "cell_type": "code",
   "execution_count": 27,
   "metadata": {},
   "outputs": [],
   "source": [
    "m = c14.models.liver.D()"
   ]
  },
  {
   "cell_type": "code",
   "execution_count": 31,
   "metadata": {},
   "outputs": [],
   "source": [
    "p0 = {'kappa24': -2.1454785168675974,\n",
    " 'kappa42': -2.8893391579364014,\n",
    " 'r2': -1.1713069980603095,\n",
    " 'r4': -1.4919629303134156}"
   ]
  },
  {
   "cell_type": "code",
   "execution_count": 32,
   "metadata": {},
   "outputs": [],
   "source": [
    "op = c14.optimize(m, edata, step_size=0.5)"
   ]
  },
  {
   "cell_type": "code",
   "execution_count": 34,
   "metadata": {},
   "outputs": [],
   "source": [
    "res = op.optimize_minuit(p0)"
   ]
  },
  {
   "cell_type": "code",
   "execution_count": 35,
   "metadata": {},
   "outputs": [],
   "source": [
    "vis = c14.visualisze(m, edata, step_size=0.5)"
   ]
  },
  {
   "cell_type": "code",
   "execution_count": 37,
   "metadata": {},
   "outputs": [
    {
     "data": {
      "text/plain": [
       "({'kappa24': -3.996357468498116,\n",
       "  'kappa42': -2.784155065601673,\n",
       "  'r2': -0.3428598339567834,\n",
       "  'r4': -1.1423588557739561},\n",
       " {'kappa24': 1.02349451906055,\n",
       "  'kappa42': 1.0045602538238187,\n",
       "  'r2': 0.2512200440163322,\n",
       "  'r4': 0.12360546631937849},\n",
       " -103.8078090536359,\n",
       " False,\n",
       "           kappa24   kappa42        r2        r4\n",
       " kappa24  1.000000 -0.089867  0.792451 -0.716253\n",
       " kappa42 -0.089867  1.000000 -0.090113  0.066411\n",
       " r2       0.792451 -0.090113  1.000000 -0.569654\n",
       " r4      -0.716253  0.066411 -0.569654  1.000000,\n",
       "           kappa24   kappa42        r2        r4\n",
       " kappa24  1.047541 -0.092397  0.203757 -0.090613\n",
       " kappa42 -0.092397  1.009141 -0.022741  0.008246\n",
       " r2       0.203757 -0.022741  0.063112 -0.017689\n",
       " r4      -0.090613  0.008246 -0.017689  0.015278)"
      ]
     },
     "execution_count": 37,
     "metadata": {},
     "output_type": "execute_result"
    }
   ],
   "source": [
    "res"
   ]
  },
  {
   "cell_type": "code",
   "execution_count": 38,
   "metadata": {},
   "outputs": [],
   "source": [
    "pe = res[0]"
   ]
  },
  {
   "cell_type": "code",
   "execution_count": 39,
   "metadata": {},
   "outputs": [],
   "source": [
    "cov = res[-1]"
   ]
  },
  {
   "cell_type": "code",
   "execution_count": 40,
   "metadata": {},
   "outputs": [],
   "source": [
    "error = vis.calc_error(pe, cov, ignore_physics=True)"
   ]
  },
  {
   "cell_type": "code",
   "execution_count": 100,
   "metadata": {},
   "outputs": [
    {
     "data": {
      "text/html": [
       "<div>\n",
       "<style scoped>\n",
       "    .dataframe tbody tr th:only-of-type {\n",
       "        vertical-align: middle;\n",
       "    }\n",
       "\n",
       "    .dataframe tbody tr th {\n",
       "        vertical-align: top;\n",
       "    }\n",
       "\n",
       "    .dataframe thead th {\n",
       "        text-align: right;\n",
       "    }\n",
       "</style>\n",
       "<table border=\"1\" class=\"dataframe\">\n",
       "  <thead>\n",
       "    <tr style=\"text-align: right;\">\n",
       "      <th></th>\n",
       "      <th>point_estimate</th>\n",
       "      <th>lower</th>\n",
       "      <th>upper</th>\n",
       "    </tr>\n",
       "    <tr>\n",
       "      <th>parameter</th>\n",
       "      <th></th>\n",
       "      <th></th>\n",
       "      <th></th>\n",
       "    </tr>\n",
       "  </thead>\n",
       "  <tbody>\n",
       "    <tr>\n",
       "      <th>delta2</th>\n",
       "      <td>0.455732</td>\n",
       "      <td>0.447784</td>\n",
       "      <td>1.07523</td>\n",
       "    </tr>\n",
       "    <tr>\n",
       "      <th>delta4</th>\n",
       "      <td>0.0636877</td>\n",
       "      <td>0.0495087</td>\n",
       "      <td>0.132823</td>\n",
       "    </tr>\n",
       "    <tr>\n",
       "      <th>kappa24</th>\n",
       "      <td>0.000100842</td>\n",
       "      <td>9.58529e-06</td>\n",
       "      <td>0.00106091</td>\n",
       "    </tr>\n",
       "    <tr>\n",
       "      <th>kappa42</th>\n",
       "      <td>0.00164378</td>\n",
       "      <td>0.000163198</td>\n",
       "      <td>0.0165567</td>\n",
       "    </tr>\n",
       "    <tr>\n",
       "      <th>lambda2</th>\n",
       "      <td>0.454189</td>\n",
       "      <td>0.447116</td>\n",
       "      <td>1.09124</td>\n",
       "    </tr>\n",
       "    <tr>\n",
       "      <th>lambda4</th>\n",
       "      <td>0.073695</td>\n",
       "      <td>0.0513032</td>\n",
       "      <td>0.0887965</td>\n",
       "    </tr>\n",
       "    <tr>\n",
       "      <th>p2</th>\n",
       "      <td>0.999778</td>\n",
       "      <td>0.995116</td>\n",
       "      <td>0.99966</td>\n",
       "    </tr>\n",
       "    <tr>\n",
       "      <th>p4</th>\n",
       "      <td>0.999778</td>\n",
       "      <td>0.995116</td>\n",
       "      <td>0.99966</td>\n",
       "    </tr>\n",
       "    <tr>\n",
       "      <th>r2</th>\n",
       "      <td>0.454088</td>\n",
       "      <td>0.254846</td>\n",
       "      <td>0.809101</td>\n",
       "    </tr>\n",
       "    <tr>\n",
       "      <th>r4</th>\n",
       "      <td>0.0720512</td>\n",
       "      <td>0.0542265</td>\n",
       "      <td>0.095735</td>\n",
       "    </tr>\n",
       "    <tr>\n",
       "      <th>ratio_kappa</th>\n",
       "      <td>16.3006</td>\n",
       "      <td>0.309526</td>\n",
       "      <td>27.0877</td>\n",
       "    </tr>\n",
       "    <tr>\n",
       "      <th>ratio_r</th>\n",
       "      <td>0.158672</td>\n",
       "      <td>0.0491825</td>\n",
       "      <td>0.159395</td>\n",
       "    </tr>\n",
       "  </tbody>\n",
       "</table>\n",
       "</div>"
      ],
      "text/plain": [
       "            point_estimate        lower       upper\n",
       "parameter                                          \n",
       "delta2            0.455732     0.447784     1.07523\n",
       "delta4           0.0636877    0.0495087    0.132823\n",
       "kappa24        0.000100842  9.58529e-06  0.00106091\n",
       "kappa42         0.00164378  0.000163198   0.0165567\n",
       "lambda2           0.454189     0.447116     1.09124\n",
       "lambda4           0.073695    0.0513032   0.0887965\n",
       "p2                0.999778     0.995116     0.99966\n",
       "p4                0.999778     0.995116     0.99966\n",
       "r2                0.454088     0.254846    0.809101\n",
       "r4               0.0720512    0.0542265    0.095735\n",
       "ratio_kappa        16.3006     0.309526     27.0877\n",
       "ratio_r           0.158672    0.0491825    0.159395"
      ]
     },
     "execution_count": 100,
     "metadata": {},
     "output_type": "execute_result"
    }
   ],
   "source": [
    "values = vis.get_parameter(pe, cov, t_eval=0).loc[0]\n",
    "values"
   ]
  },
  {
   "cell_type": "code",
   "execution_count": 46,
   "metadata": {},
   "outputs": [],
   "source": [
    "import scipy as sp"
   ]
  },
  {
   "cell_type": "code",
   "execution_count": 74,
   "metadata": {},
   "outputs": [
    {
     "data": {
      "text/html": [
       "<div>\n",
       "<style scoped>\n",
       "    .dataframe tbody tr th:only-of-type {\n",
       "        vertical-align: middle;\n",
       "    }\n",
       "\n",
       "    .dataframe tbody tr th {\n",
       "        vertical-align: top;\n",
       "    }\n",
       "\n",
       "    .dataframe thead th {\n",
       "        text-align: right;\n",
       "    }\n",
       "</style>\n",
       "<table border=\"1\" class=\"dataframe\">\n",
       "  <thead>\n",
       "    <tr style=\"text-align: right;\">\n",
       "      <th></th>\n",
       "      <th>kappa24</th>\n",
       "      <th>kappa42</th>\n",
       "      <th>r2</th>\n",
       "      <th>r4</th>\n",
       "    </tr>\n",
       "  </thead>\n",
       "  <tbody>\n",
       "    <tr>\n",
       "      <th>0</th>\n",
       "      <td>-2.972342</td>\n",
       "      <td>-2.986293</td>\n",
       "      <td>-0.239625</td>\n",
       "      <td>-1.176183</td>\n",
       "    </tr>\n",
       "    <tr>\n",
       "      <th>1</th>\n",
       "      <td>-3.111542</td>\n",
       "      <td>-3.411981</td>\n",
       "      <td>-0.075880</td>\n",
       "      <td>-1.338597</td>\n",
       "    </tr>\n",
       "    <tr>\n",
       "      <th>2</th>\n",
       "      <td>-4.156341</td>\n",
       "      <td>-2.907498</td>\n",
       "      <td>-0.409692</td>\n",
       "      <td>-0.984101</td>\n",
       "    </tr>\n",
       "    <tr>\n",
       "      <th>3</th>\n",
       "      <td>-2.053095</td>\n",
       "      <td>-3.005943</td>\n",
       "      <td>0.037014</td>\n",
       "      <td>-1.401575</td>\n",
       "    </tr>\n",
       "    <tr>\n",
       "      <th>4</th>\n",
       "      <td>-4.800033</td>\n",
       "      <td>-2.146119</td>\n",
       "      <td>-0.738819</td>\n",
       "      <td>-1.077857</td>\n",
       "    </tr>\n",
       "  </tbody>\n",
       "</table>\n",
       "</div>"
      ],
      "text/plain": [
       "    kappa24   kappa42        r2        r4\n",
       "0 -2.972342 -2.986293 -0.239625 -1.176183\n",
       "1 -3.111542 -3.411981 -0.075880 -1.338597\n",
       "2 -4.156341 -2.907498 -0.409692 -0.984101\n",
       "3 -2.053095 -3.005943  0.037014 -1.401575\n",
       "4 -4.800033 -2.146119 -0.738819 -1.077857"
      ]
     },
     "execution_count": 74,
     "metadata": {},
     "output_type": "execute_result"
    }
   ],
   "source": [
    "bootstrap_sample = pd.DataFrame(sp.random.multivariate_normal([pe[name] for name in cov.index], cov.values, size=10000), columns=cov.index)\n",
    "bootstrap_sample.head()"
   ]
  },
  {
   "cell_type": "code",
   "execution_count": 92,
   "metadata": {},
   "outputs": [
    {
     "data": {
      "text/plain": [
       "0.45788726378264216"
      ]
     },
     "execution_count": 92,
     "metadata": {},
     "output_type": "execute_result"
    }
   ],
   "source": [
    "(10**bootstrap_sample['r2']).median()"
   ]
  },
  {
   "cell_type": "code",
   "execution_count": 78,
   "metadata": {},
   "outputs": [],
   "source": [
    "lambda2_sample = 10**bootstrap_sample['r2'] + 10**bootstrap_sample['kappa24']"
   ]
  },
  {
   "cell_type": "markdown",
   "metadata": {},
   "source": [
    "Hence, the median value for lambda2 and the 68.2% CI should be:"
   ]
  },
  {
   "cell_type": "code",
   "execution_count": 98,
   "metadata": {},
   "outputs": [
    {
     "data": {
      "text/plain": [
       "array([0.45822066, 0.25348697, 0.81245811])"
      ]
     },
     "execution_count": 98,
     "metadata": {},
     "output_type": "execute_result"
    }
   ],
   "source": [
    "np.percentile(lambda2_sample, [50, 15.9, 100-15.9])"
   ]
  },
  {
   "cell_type": "markdown",
   "metadata": {},
   "source": [
    "However, our bootstrapping gives:"
   ]
  },
  {
   "cell_type": "code",
   "execution_count": 105,
   "metadata": {},
   "outputs": [
    {
     "data": {
      "text/plain": [
       "array([0.45418899, 0.4471156 , 1.09124434])"
      ]
     },
     "execution_count": 105,
     "metadata": {},
     "output_type": "execute_result"
    }
   ],
   "source": [
    "values.loc['lambda2'].astype(float).values"
   ]
  }
 ],
 "metadata": {
  "kernelspec": {
   "display_name": "Python [conda env:spols190426] *",
   "language": "python",
   "name": "conda-env-spols190426-py"
  },
  "language_info": {
   "codemirror_mode": {
    "name": "ipython",
    "version": 3
   },
   "file_extension": ".py",
   "mimetype": "text/x-python",
   "name": "python",
   "nbconvert_exporter": "python",
   "pygments_lexer": "ipython3",
   "version": "3.6.7"
  },
  "toc": {
   "nav_menu": {
    "height": "12px",
    "width": "252px"
   },
   "number_sections": true,
   "sideBar": true,
   "skip_h1_title": false,
   "title_cell": "Table of Contents",
   "title_sidebar": "Contents",
   "toc_cell": false,
   "toc_position": {},
   "toc_section_display": "block",
   "toc_window_display": false
  }
 },
 "nbformat": 4,
 "nbformat_minor": 4
}
