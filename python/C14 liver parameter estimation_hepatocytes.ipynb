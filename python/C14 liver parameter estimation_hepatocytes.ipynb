{
 "cells": [
  {
   "cell_type": "markdown",
   "metadata": {},
   "source": [
    "# Preparation"
   ]
  },
  {
   "cell_type": "code",
   "execution_count": 1,
   "metadata": {
    "ExecuteTime": {
     "end_time": "2018-09-04T13:45:32.213874Z",
     "start_time": "2018-09-04T13:45:29.974792Z"
    }
   },
   "outputs": [
    {
     "name": "stdout",
     "output_type": "stream",
     "text": [
      "2018-09-04T15:45:32+02:00\n",
      "\n",
      "CPython 3.6.6\n",
      "IPython 6.5.0\n",
      "\n",
      "compiler   : GCC 4.8.2 20140120 (Red Hat 4.8.2-15)\n",
      "system     : Linux\n",
      "release    : 4.4.138-59-default\n",
      "machine    : x86_64\n",
      "processor  : x86_64\n",
      "CPU cores  : 16\n",
      "interpreter: 64bit\n",
      "pandas 0.23.4\n",
      "scipy 1.1.0\n"
     ]
    }
   ],
   "source": [
    "import iminuit\n",
    "%load_ext line_profiler\n",
    "import matplotlib.pyplot as plt\n",
    "%matplotlib inline\n",
    "import numba\n",
    "import numpy as np\n",
    "import pandas as pd\n",
    "import scipy as sp\n",
    "from scipy import optimize\n",
    "import seaborn as sns\n",
    "\n",
    "sns.set_style('darkgrid')\n",
    "sns.set_context('notebook')\n",
    "\n",
    "%load_ext watermark\n",
    "%watermark\n",
    "%watermark -p pandas,scipy"
   ]
  },
  {
   "cell_type": "code",
   "execution_count": 2,
   "metadata": {
    "ExecuteTime": {
     "end_time": "2018-09-04T13:45:32.225675Z",
     "start_time": "2018-09-04T13:45:32.218953Z"
    }
   },
   "outputs": [],
   "source": [
    "results = pd.DataFrame()"
   ]
  },
  {
   "cell_type": "markdown",
   "metadata": {},
   "source": [
    "# Load C14 models"
   ]
  },
  {
   "cell_type": "code",
   "execution_count": 3,
   "metadata": {
    "ExecuteTime": {
     "end_time": "2018-09-04T13:45:32.298900Z",
     "start_time": "2018-09-04T13:45:32.229212Z"
    }
   },
   "outputs": [],
   "source": [
    "import c14_models"
   ]
  },
  {
   "cell_type": "markdown",
   "metadata": {},
   "source": [
    "# Read patient data"
   ]
  },
  {
   "cell_type": "code",
   "execution_count": 4,
   "metadata": {
    "ExecuteTime": {
     "end_time": "2018-09-04T13:45:32.314836Z",
     "start_time": "2018-09-04T13:45:32.303359Z"
    }
   },
   "outputs": [],
   "source": [
    "c14_patient_data = pd.read_pickle('../../results/C14data_liver_samples_20180505.pkl')"
   ]
  },
  {
   "cell_type": "code",
   "execution_count": 5,
   "metadata": {
    "ExecuteTime": {
     "end_time": "2018-09-04T13:45:32.350474Z",
     "start_time": "2018-09-04T13:45:32.318504Z"
    }
   },
   "outputs": [
    {
     "data": {
      "text/html": [
       "<div>\n",
       "<style scoped>\n",
       "    .dataframe tbody tr th:only-of-type {\n",
       "        vertical-align: middle;\n",
       "    }\n",
       "\n",
       "    .dataframe tbody tr th {\n",
       "        vertical-align: top;\n",
       "    }\n",
       "\n",
       "    .dataframe thead th {\n",
       "        text-align: right;\n",
       "    }\n",
       "</style>\n",
       "<table border=\"1\" class=\"dataframe\">\n",
       "  <thead>\n",
       "    <tr style=\"text-align: right;\">\n",
       "      <th></th>\n",
       "      <th>type</th>\n",
       "      <th>code</th>\n",
       "      <th>sample</th>\n",
       "      <th>Dbirth</th>\n",
       "      <th>Dcoll</th>\n",
       "      <th>d14C</th>\n",
       "      <th>error_measurement</th>\n",
       "      <th>N_cells</th>\n",
       "      <th>pathology</th>\n",
       "      <th>subject_age</th>\n",
       "      <th>valid</th>\n",
       "    </tr>\n",
       "  </thead>\n",
       "  <tbody>\n",
       "    <tr>\n",
       "      <th>0</th>\n",
       "      <td>unsorted</td>\n",
       "      <td>PH1</td>\n",
       "      <td>ND380</td>\n",
       "      <td>1942.833333</td>\n",
       "      <td>2016.416667</td>\n",
       "      <td>0.078416</td>\n",
       "      <td>0.003981</td>\n",
       "      <td>NaN</td>\n",
       "      <td>N</td>\n",
       "      <td>73.583333</td>\n",
       "      <td>True</td>\n",
       "    </tr>\n",
       "    <tr>\n",
       "      <th>1</th>\n",
       "      <td>unsorted</td>\n",
       "      <td>PH2</td>\n",
       "      <td>ND388</td>\n",
       "      <td>1991.416667</td>\n",
       "      <td>2016.833333</td>\n",
       "      <td>0.025254</td>\n",
       "      <td>0.003912</td>\n",
       "      <td>NaN</td>\n",
       "      <td>N</td>\n",
       "      <td>25.416667</td>\n",
       "      <td>True</td>\n",
       "    </tr>\n",
       "    <tr>\n",
       "      <th>2</th>\n",
       "      <td>hepatocyte</td>\n",
       "      <td>PH3</td>\n",
       "      <td>ND381</td>\n",
       "      <td>1985.166667</td>\n",
       "      <td>2016.416667</td>\n",
       "      <td>0.040336</td>\n",
       "      <td>0.008788</td>\n",
       "      <td>58.0</td>\n",
       "      <td>N</td>\n",
       "      <td>31.250000</td>\n",
       "      <td>True</td>\n",
       "    </tr>\n",
       "    <tr>\n",
       "      <th>3</th>\n",
       "      <td>hepatocyte</td>\n",
       "      <td>PH4</td>\n",
       "      <td>ND382</td>\n",
       "      <td>1982.083333</td>\n",
       "      <td>2016.500000</td>\n",
       "      <td>0.018815</td>\n",
       "      <td>0.005342</td>\n",
       "      <td>52.0</td>\n",
       "      <td>N</td>\n",
       "      <td>34.416667</td>\n",
       "      <td>True</td>\n",
       "    </tr>\n",
       "    <tr>\n",
       "      <th>4</th>\n",
       "      <td>hepatocyte</td>\n",
       "      <td>PH6</td>\n",
       "      <td>ND022</td>\n",
       "      <td>1946.500000</td>\n",
       "      <td>2004.833333</td>\n",
       "      <td>0.075001</td>\n",
       "      <td>0.004711</td>\n",
       "      <td>62.0</td>\n",
       "      <td>N</td>\n",
       "      <td>58.333333</td>\n",
       "      <td>True</td>\n",
       "    </tr>\n",
       "  </tbody>\n",
       "</table>\n",
       "</div>"
      ],
      "text/plain": [
       "         type code sample       Dbirth        Dcoll      d14C  \\\n",
       "0    unsorted  PH1  ND380  1942.833333  2016.416667  0.078416   \n",
       "1    unsorted  PH2  ND388  1991.416667  2016.833333  0.025254   \n",
       "2  hepatocyte  PH3  ND381  1985.166667  2016.416667  0.040336   \n",
       "3  hepatocyte  PH4  ND382  1982.083333  2016.500000  0.018815   \n",
       "4  hepatocyte  PH6  ND022  1946.500000  2004.833333  0.075001   \n",
       "\n",
       "   error_measurement  N_cells pathology  subject_age  valid  \n",
       "0           0.003981      NaN         N    73.583333   True  \n",
       "1           0.003912      NaN         N    25.416667   True  \n",
       "2           0.008788     58.0         N    31.250000   True  \n",
       "3           0.005342     52.0         N    34.416667   True  \n",
       "4           0.004711     62.0         N    58.333333   True  "
      ]
     },
     "execution_count": 5,
     "metadata": {},
     "output_type": "execute_result"
    }
   ],
   "source": [
    "c14_patient_data.head()"
   ]
  },
  {
   "cell_type": "code",
   "execution_count": 6,
   "metadata": {
    "ExecuteTime": {
     "end_time": "2018-09-04T13:45:32.420217Z",
     "start_time": "2018-09-04T13:45:32.364407Z"
    }
   },
   "outputs": [
    {
     "data": {
      "text/html": [
       "<div>\n",
       "<style scoped>\n",
       "    .dataframe tbody tr th:only-of-type {\n",
       "        vertical-align: middle;\n",
       "    }\n",
       "\n",
       "    .dataframe tbody tr th {\n",
       "        vertical-align: top;\n",
       "    }\n",
       "\n",
       "    .dataframe thead th {\n",
       "        text-align: right;\n",
       "    }\n",
       "</style>\n",
       "<table border=\"1\" class=\"dataframe\">\n",
       "  <thead>\n",
       "    <tr style=\"text-align: right;\">\n",
       "      <th></th>\n",
       "      <th>type</th>\n",
       "      <th>code</th>\n",
       "      <th>sample</th>\n",
       "      <th>Dbirth</th>\n",
       "      <th>Dcoll</th>\n",
       "      <th>d14C</th>\n",
       "      <th>error_measurement</th>\n",
       "      <th>N_cells</th>\n",
       "      <th>pathology</th>\n",
       "      <th>subject_age</th>\n",
       "      <th>valid</th>\n",
       "    </tr>\n",
       "  </thead>\n",
       "  <tbody>\n",
       "    <tr>\n",
       "      <th>2</th>\n",
       "      <td>hepatocyte</td>\n",
       "      <td>PH3</td>\n",
       "      <td>ND381</td>\n",
       "      <td>1985.166667</td>\n",
       "      <td>2016.416667</td>\n",
       "      <td>0.040336</td>\n",
       "      <td>0.008788</td>\n",
       "      <td>58.0</td>\n",
       "      <td>N</td>\n",
       "      <td>31.250000</td>\n",
       "      <td>True</td>\n",
       "    </tr>\n",
       "    <tr>\n",
       "      <th>3</th>\n",
       "      <td>hepatocyte</td>\n",
       "      <td>PH4</td>\n",
       "      <td>ND382</td>\n",
       "      <td>1982.083333</td>\n",
       "      <td>2016.500000</td>\n",
       "      <td>0.018815</td>\n",
       "      <td>0.005342</td>\n",
       "      <td>52.0</td>\n",
       "      <td>N</td>\n",
       "      <td>34.416667</td>\n",
       "      <td>True</td>\n",
       "    </tr>\n",
       "    <tr>\n",
       "      <th>4</th>\n",
       "      <td>hepatocyte</td>\n",
       "      <td>PH6</td>\n",
       "      <td>ND022</td>\n",
       "      <td>1946.500000</td>\n",
       "      <td>2004.833333</td>\n",
       "      <td>0.075001</td>\n",
       "      <td>0.004711</td>\n",
       "      <td>62.0</td>\n",
       "      <td>N</td>\n",
       "      <td>58.333333</td>\n",
       "      <td>True</td>\n",
       "    </tr>\n",
       "    <tr>\n",
       "      <th>5</th>\n",
       "      <td>hepatocyte</td>\n",
       "      <td>PH7</td>\n",
       "      <td>ND023</td>\n",
       "      <td>1945.833333</td>\n",
       "      <td>2004.833333</td>\n",
       "      <td>0.090351</td>\n",
       "      <td>0.004395</td>\n",
       "      <td>70.0</td>\n",
       "      <td>N</td>\n",
       "      <td>59.000000</td>\n",
       "      <td>True</td>\n",
       "    </tr>\n",
       "    <tr>\n",
       "      <th>6</th>\n",
       "      <td>hepatocyte</td>\n",
       "      <td>PH9</td>\n",
       "      <td>ND383</td>\n",
       "      <td>1937.583333</td>\n",
       "      <td>2016.666667</td>\n",
       "      <td>0.041243</td>\n",
       "      <td>0.004284</td>\n",
       "      <td>66.0</td>\n",
       "      <td>Y</td>\n",
       "      <td>79.083333</td>\n",
       "      <td>True</td>\n",
       "    </tr>\n",
       "  </tbody>\n",
       "</table>\n",
       "</div>"
      ],
      "text/plain": [
       "         type code sample       Dbirth        Dcoll      d14C  \\\n",
       "2  hepatocyte  PH3  ND381  1985.166667  2016.416667  0.040336   \n",
       "3  hepatocyte  PH4  ND382  1982.083333  2016.500000  0.018815   \n",
       "4  hepatocyte  PH6  ND022  1946.500000  2004.833333  0.075001   \n",
       "5  hepatocyte  PH7  ND023  1945.833333  2004.833333  0.090351   \n",
       "6  hepatocyte  PH9  ND383  1937.583333  2016.666667  0.041243   \n",
       "\n",
       "   error_measurement  N_cells pathology  subject_age  valid  \n",
       "2           0.008788     58.0         N    31.250000   True  \n",
       "3           0.005342     52.0         N    34.416667   True  \n",
       "4           0.004711     62.0         N    58.333333   True  \n",
       "5           0.004395     70.0         N    59.000000   True  \n",
       "6           0.004284     66.0         Y    79.083333   True  "
      ]
     },
     "execution_count": 6,
     "metadata": {},
     "output_type": "execute_result"
    }
   ],
   "source": [
    "exp_data = c14_patient_data.query('valid and type in [\"hepatocyte\", \"hepatocyte 2n\", \"hepatocyte 4n\"]').copy()\n",
    "exp_data.head()"
   ]
  },
  {
   "cell_type": "code",
   "execution_count": 7,
   "metadata": {
    "ExecuteTime": {
     "end_time": "2018-09-04T13:45:32.475112Z",
     "start_time": "2018-09-04T13:45:32.424008Z"
    }
   },
   "outputs": [
    {
     "data": {
      "text/html": [
       "<div>\n",
       "<style scoped>\n",
       "    .dataframe tbody tr th:only-of-type {\n",
       "        vertical-align: middle;\n",
       "    }\n",
       "\n",
       "    .dataframe tbody tr th {\n",
       "        vertical-align: top;\n",
       "    }\n",
       "\n",
       "    .dataframe thead th {\n",
       "        text-align: right;\n",
       "    }\n",
       "</style>\n",
       "<table border=\"1\" class=\"dataframe\">\n",
       "  <thead>\n",
       "    <tr style=\"text-align: right;\">\n",
       "      <th></th>\n",
       "      <th>Dbirth</th>\n",
       "      <th>Dcoll</th>\n",
       "      <th>d14C</th>\n",
       "      <th>error_measurement</th>\n",
       "      <th>N_cells</th>\n",
       "      <th>subject_age</th>\n",
       "    </tr>\n",
       "  </thead>\n",
       "  <tbody>\n",
       "    <tr>\n",
       "      <th>count</th>\n",
       "      <td>33.000000</td>\n",
       "      <td>33.000000</td>\n",
       "      <td>33.000000</td>\n",
       "      <td>33.000000</td>\n",
       "      <td>33.000000</td>\n",
       "      <td>33.000000</td>\n",
       "    </tr>\n",
       "    <tr>\n",
       "      <th>mean</th>\n",
       "      <td>1962.171717</td>\n",
       "      <td>2016.330808</td>\n",
       "      <td>0.038511</td>\n",
       "      <td>0.006863</td>\n",
       "      <td>72.651515</td>\n",
       "      <td>54.159091</td>\n",
       "    </tr>\n",
       "    <tr>\n",
       "      <th>std</th>\n",
       "      <td>20.123360</td>\n",
       "      <td>2.990471</td>\n",
       "      <td>0.018763</td>\n",
       "      <td>0.002568</td>\n",
       "      <td>27.201931</td>\n",
       "      <td>19.753333</td>\n",
       "    </tr>\n",
       "    <tr>\n",
       "      <th>min</th>\n",
       "      <td>1932.583333</td>\n",
       "      <td>2004.833333</td>\n",
       "      <td>0.005100</td>\n",
       "      <td>0.004050</td>\n",
       "      <td>21.500000</td>\n",
       "      <td>20.000000</td>\n",
       "    </tr>\n",
       "    <tr>\n",
       "      <th>25%</th>\n",
       "      <td>1945.833333</td>\n",
       "      <td>2016.666667</td>\n",
       "      <td>0.027700</td>\n",
       "      <td>0.004650</td>\n",
       "      <td>56.000000</td>\n",
       "      <td>36.000000</td>\n",
       "    </tr>\n",
       "    <tr>\n",
       "      <th>50%</th>\n",
       "      <td>1959.333333</td>\n",
       "      <td>2017.166667</td>\n",
       "      <td>0.032800</td>\n",
       "      <td>0.005350</td>\n",
       "      <td>67.000000</td>\n",
       "      <td>58.166667</td>\n",
       "    </tr>\n",
       "    <tr>\n",
       "      <th>75%</th>\n",
       "      <td>1980.416667</td>\n",
       "      <td>2017.416667</td>\n",
       "      <td>0.046900</td>\n",
       "      <td>0.009000</td>\n",
       "      <td>96.000000</td>\n",
       "      <td>69.333333</td>\n",
       "    </tr>\n",
       "    <tr>\n",
       "      <th>max</th>\n",
       "      <td>1997.333333</td>\n",
       "      <td>2017.500000</td>\n",
       "      <td>0.090351</td>\n",
       "      <td>0.011659</td>\n",
       "      <td>129.000000</td>\n",
       "      <td>84.583333</td>\n",
       "    </tr>\n",
       "  </tbody>\n",
       "</table>\n",
       "</div>"
      ],
      "text/plain": [
       "            Dbirth        Dcoll       d14C  error_measurement     N_cells  \\\n",
       "count    33.000000    33.000000  33.000000          33.000000   33.000000   \n",
       "mean   1962.171717  2016.330808   0.038511           0.006863   72.651515   \n",
       "std      20.123360     2.990471   0.018763           0.002568   27.201931   \n",
       "min    1932.583333  2004.833333   0.005100           0.004050   21.500000   \n",
       "25%    1945.833333  2016.666667   0.027700           0.004650   56.000000   \n",
       "50%    1959.333333  2017.166667   0.032800           0.005350   67.000000   \n",
       "75%    1980.416667  2017.416667   0.046900           0.009000   96.000000   \n",
       "max    1997.333333  2017.500000   0.090351           0.011659  129.000000   \n",
       "\n",
       "       subject_age  \n",
       "count    33.000000  \n",
       "mean     54.159091  \n",
       "std      19.753333  \n",
       "min      20.000000  \n",
       "25%      36.000000  \n",
       "50%      58.166667  \n",
       "75%      69.333333  \n",
       "max      84.583333  "
      ]
     },
     "execution_count": 7,
     "metadata": {},
     "output_type": "execute_result"
    }
   ],
   "source": [
    "exp_data.describe()"
   ]
  },
  {
   "cell_type": "markdown",
   "metadata": {},
   "source": [
    "# SSE & log-likelihood"
   ]
  },
  {
   "cell_type": "code",
   "execution_count": 8,
   "metadata": {
    "ExecuteTime": {
     "end_time": "2018-09-04T13:45:32.481108Z",
     "start_time": "2018-09-04T13:45:32.477513Z"
    }
   },
   "outputs": [],
   "source": [
    "def SSE(p, model, data):\n",
    "    model_data = model(data['Dbirth'].values, \n",
    "                    data['Dcoll'].values, \n",
    "                    *p)\n",
    "    sse = np.sum((model_data - data['d14C'].values)**2)\n",
    "    return sse    "
   ]
  },
  {
   "cell_type": "code",
   "execution_count": 9,
   "metadata": {
    "ExecuteTime": {
     "end_time": "2018-09-04T13:45:32.492069Z",
     "start_time": "2018-09-04T13:45:32.482946Z"
    }
   },
   "outputs": [],
   "source": [
    "def Sigma(p, model, data):\n",
    "    sse = SSE(p, model, data)\n",
    "    n = len(data)\n",
    "    sigma = np.sqrt(sse/n)\n",
    "    return sigma"
   ]
  },
  {
   "cell_type": "code",
   "execution_count": 10,
   "metadata": {
    "ExecuteTime": {
     "end_time": "2018-09-04T13:45:32.503299Z",
     "start_time": "2018-09-04T13:45:32.493841Z"
    }
   },
   "outputs": [],
   "source": [
    "def Nloglike(p, model, data):\n",
    "    try:\n",
    "        sse = SSE(p, model, data)\n",
    "    except:\n",
    "        sse = SSE([p], model, data)\n",
    "    n = len(data)\n",
    "    sig = np.sqrt(sse/n)\n",
    "    loglike = -n/2 * np.log(2*np.pi) - n/2 * np.log(sig**2) - 1 / (2*sig**2) * sse\n",
    "    return -loglike"
   ]
  },
  {
   "cell_type": "markdown",
   "metadata": {},
   "source": [
    "# Scenario I1"
   ]
  },
  {
   "cell_type": "code",
   "execution_count": 11,
   "metadata": {
    "ExecuteTime": {
     "end_time": "2018-09-04T13:45:32.544856Z",
     "start_time": "2018-09-04T13:45:32.505628Z"
    }
   },
   "outputs": [],
   "source": [
    "@np.vectorize\n",
    "def I1(Dbirth, Dcoll, loglam):\n",
    "    lam = np.exp(loglam)\n",
    "    return c14_models.I1c(Dbirth, Dcoll, lam)"
   ]
  },
  {
   "cell_type": "markdown",
   "metadata": {},
   "source": [
    "## Fit"
   ]
  },
  {
   "cell_type": "code",
   "execution_count": 12,
   "metadata": {
    "ExecuteTime": {
     "end_time": "2018-09-04T13:45:34.162649Z",
     "start_time": "2018-09-04T13:45:32.547725Z"
    }
   },
   "outputs": [],
   "source": [
    "res_I1 = sp.optimize.minimize(fun=Nloglike, \n",
    "                     x0=[-1.0],\n",
    "                     args = (I1, exp_data),\n",
    "                    )"
   ]
  },
  {
   "cell_type": "code",
   "execution_count": 13,
   "metadata": {
    "ExecuteTime": {
     "end_time": "2018-09-04T13:45:34.176022Z",
     "start_time": "2018-09-04T13:45:34.164794Z"
    }
   },
   "outputs": [
    {
     "data": {
      "text/plain": [
       "      fun: -91.94570594439332\n",
       " hess_inv: array([[0.00972291]])\n",
       "      jac: array([-3.81469727e-06])\n",
       "  message: 'Optimization terminated successfully.'\n",
       "     nfev: 30\n",
       "      nit: 7\n",
       "     njev: 10\n",
       "   status: 0\n",
       "  success: True\n",
       "        x: array([-1.58672568])"
      ]
     },
     "execution_count": 13,
     "metadata": {},
     "output_type": "execute_result"
    }
   ],
   "source": [
    "res_I1"
   ]
  },
  {
   "cell_type": "markdown",
   "metadata": {},
   "source": [
    "## Result"
   ]
  },
  {
   "cell_type": "code",
   "execution_count": 14,
   "metadata": {
    "ExecuteTime": {
     "end_time": "2018-09-04T13:45:34.237285Z",
     "start_time": "2018-09-04T13:45:34.178103Z"
    }
   },
   "outputs": [
    {
     "name": "stdout",
     "output_type": "stream",
     "text": [
      "lambda 0.20459442334703945\n",
      "sigma 0.014918219218309306\n"
     ]
    },
    {
     "data": {
      "text/html": [
       "<div>\n",
       "<style scoped>\n",
       "    .dataframe tbody tr th:only-of-type {\n",
       "        vertical-align: middle;\n",
       "    }\n",
       "\n",
       "    .dataframe tbody tr th {\n",
       "        vertical-align: top;\n",
       "    }\n",
       "\n",
       "    .dataframe thead th {\n",
       "        text-align: right;\n",
       "    }\n",
       "</style>\n",
       "<table border=\"1\" class=\"dataframe\">\n",
       "  <thead>\n",
       "    <tr style=\"text-align: right;\">\n",
       "      <th></th>\n",
       "      <th>loglike</th>\n",
       "      <th>k</th>\n",
       "      <th>n</th>\n",
       "      <th>cAIC</th>\n",
       "    </tr>\n",
       "  </thead>\n",
       "  <tbody>\n",
       "    <tr>\n",
       "      <th>I1</th>\n",
       "      <td>91.945706</td>\n",
       "      <td>2.0</td>\n",
       "      <td>33.0</td>\n",
       "      <td>-179.491412</td>\n",
       "    </tr>\n",
       "  </tbody>\n",
       "</table>\n",
       "</div>"
      ],
      "text/plain": [
       "      loglike    k     n        cAIC\n",
       "I1  91.945706  2.0  33.0 -179.491412"
      ]
     },
     "execution_count": 14,
     "metadata": {},
     "output_type": "execute_result"
    }
   ],
   "source": [
    "print('lambda', sp.exp(res_I1.x[0]))\n",
    "\n",
    "print('sigma', Sigma(res_I1.x, I1, exp_data))\n",
    "\n",
    "results.loc['I1', 'loglike'] = -res_I1.fun\n",
    "results.loc['I1', 'k'] = 2\n",
    "results.loc['I1', 'n'] = len(exp_data)\n",
    "\n",
    "results['cAIC'] = 2 * results['k'] - 2 * results['loglike'] + (2*results['k']**2 + 2*results['k'])/(results['n']-results['k']-1)\n",
    "\n",
    "results"
   ]
  },
  {
   "cell_type": "code",
   "execution_count": 15,
   "metadata": {
    "ExecuteTime": {
     "end_time": "2018-09-04T13:45:34.247447Z",
     "start_time": "2018-09-04T13:45:34.240328Z"
    }
   },
   "outputs": [
    {
     "name": "stdout",
     "output_type": "stream",
     "text": [
      "Average measurement error: 0.007\n"
     ]
    }
   ],
   "source": [
    "print('Average measurement error: {:.3f}'.format(exp_data['error_measurement'].mean()))"
   ]
  },
  {
   "cell_type": "markdown",
   "metadata": {},
   "source": [
    "# I1 Memory"
   ]
  },
  {
   "cell_type": "code",
   "execution_count": 16,
   "metadata": {
    "ExecuteTime": {
     "end_time": "2018-09-04T13:45:34.258433Z",
     "start_time": "2018-09-04T13:45:34.251022Z"
    }
   },
   "outputs": [],
   "source": [
    "@np.vectorize\n",
    "def I1_memory(Dbirth, Dcoll, loglam, f, t0):\n",
    "    lam = np.exp(loglam)\n",
    "    C1 = c14_models.I1c(Dbirth, Dcoll, lam)\n",
    "    \n",
    "    if t0>Dcoll-Dbirth:\n",
    "        return C1\n",
    "    else:\n",
    "        C0 = c14_models.I1c(Dbirth, Dbirth + t0, lam)\n",
    "        return f*C1 + (1-f)*C0"
   ]
  },
  {
   "cell_type": "markdown",
   "metadata": {},
   "source": [
    "## Fit"
   ]
  },
  {
   "cell_type": "code",
   "execution_count": 17,
   "metadata": {
    "ExecuteTime": {
     "end_time": "2018-09-04T13:45:36.663633Z",
     "start_time": "2018-09-04T13:45:34.261968Z"
    }
   },
   "outputs": [],
   "source": [
    "res_I1_memory = sp.optimize.minimize(fun=Nloglike, \n",
    "                     x0=[np.log(0.2), 0.8, 20.0],\n",
    "                     args = (I1_memory, exp_data),\n",
    "                                     method='Nelder-Mead'\n",
    "                    )"
   ]
  },
  {
   "cell_type": "markdown",
   "metadata": {},
   "source": [
    "## Result"
   ]
  },
  {
   "cell_type": "code",
   "execution_count": 18,
   "metadata": {
    "ExecuteTime": {
     "end_time": "2018-09-04T13:45:36.738096Z",
     "start_time": "2018-09-04T13:45:36.668854Z"
    }
   },
   "outputs": [
    {
     "name": "stdout",
     "output_type": "stream",
     "text": [
      "lambda 0.2763260922208169\n",
      "f 0.9704473525084147\n",
      "t0 30.29446649020982\n",
      "sigma 0.013940918968818303\n"
     ]
    },
    {
     "data": {
      "text/html": [
       "<div>\n",
       "<style scoped>\n",
       "    .dataframe tbody tr th:only-of-type {\n",
       "        vertical-align: middle;\n",
       "    }\n",
       "\n",
       "    .dataframe tbody tr th {\n",
       "        vertical-align: top;\n",
       "    }\n",
       "\n",
       "    .dataframe thead th {\n",
       "        text-align: right;\n",
       "    }\n",
       "</style>\n",
       "<table border=\"1\" class=\"dataframe\">\n",
       "  <thead>\n",
       "    <tr style=\"text-align: right;\">\n",
       "      <th></th>\n",
       "      <th>loglike</th>\n",
       "      <th>k</th>\n",
       "      <th>n</th>\n",
       "      <th>cAIC</th>\n",
       "    </tr>\n",
       "  </thead>\n",
       "  <tbody>\n",
       "    <tr>\n",
       "      <th>I1</th>\n",
       "      <td>91.945706</td>\n",
       "      <td>2.0</td>\n",
       "      <td>33.0</td>\n",
       "      <td>-179.491412</td>\n",
       "    </tr>\n",
       "    <tr>\n",
       "      <th>I1_memory</th>\n",
       "      <td>94.181618</td>\n",
       "      <td>4.0</td>\n",
       "      <td>33.0</td>\n",
       "      <td>-178.934664</td>\n",
       "    </tr>\n",
       "  </tbody>\n",
       "</table>\n",
       "</div>"
      ],
      "text/plain": [
       "             loglike    k     n        cAIC\n",
       "I1         91.945706  2.0  33.0 -179.491412\n",
       "I1_memory  94.181618  4.0  33.0 -178.934664"
      ]
     },
     "execution_count": 18,
     "metadata": {},
     "output_type": "execute_result"
    }
   ],
   "source": [
    "print('lambda', sp.exp(res_I1_memory.x[0]))\n",
    "print('f', res_I1_memory.x[1])\n",
    "print('t0', res_I1_memory.x[2])\n",
    "\n",
    "print('sigma', Sigma(res_I1_memory.x, I1_memory, exp_data))\n",
    "\n",
    "results.loc['I1_memory', 'loglike'] = -res_I1_memory.fun\n",
    "results.loc['I1_memory', 'k'] = 4\n",
    "results.loc['I1_memory', 'n'] = len(exp_data)\n",
    "\n",
    "results['cAIC'] = 2 * results['k'] - 2 * results['loglike'] + (2*results['k']**2 + 2*results['k'])/(results['n']-results['k']-1)\n",
    "\n",
    "results"
   ]
  },
  {
   "cell_type": "markdown",
   "metadata": {},
   "source": [
    "## Plot"
   ]
  },
  {
   "cell_type": "code",
   "execution_count": 19,
   "metadata": {
    "ExecuteTime": {
     "end_time": "2018-09-04T13:45:37.088275Z",
     "start_time": "2018-09-04T13:45:36.741684Z"
    }
   },
   "outputs": [
    {
     "data": {
      "image/png": "[encoded data removed]",
      "text/plain": [
       "<Figure size 432x288 with 1 Axes>"
      ]
     },
     "metadata": {},
     "output_type": "display_data"
    }
   ],
   "source": [
    "plt.plot(exp_data['Dbirth'], exp_data['d14C'], ls='None', marker='o')\n",
    "\n",
    "plt.errorbar(exp_data['Dbirth'], \n",
    "             I1_memory(exp_data['Dbirth'], \n",
    "                      exp_data['Dcoll'],\n",
    "                      *res_I1_memory.x),\n",
    "             Sigma(res_I1_memory.x, I1_memory, exp_data),\n",
    "             ls = 'None', marker='s')\n",
    "\n",
    "plt.show()"
   ]
  },
  {
   "cell_type": "markdown",
   "metadata": {},
   "source": [
    "# I1 Memory Interval"
   ]
  },
  {
   "cell_type": "code",
   "execution_count": 33,
   "metadata": {
    "ExecuteTime": {
     "end_time": "2018-09-04T13:47:52.844048Z",
     "start_time": "2018-09-04T13:47:52.839028Z"
    }
   },
   "outputs": [],
   "source": [
    "Dbirth = 1950.\n",
    "t0 = 10.\n",
    "lam = 0.1"
   ]
  },
  {
   "cell_type": "code",
   "execution_count": 74,
   "metadata": {
    "ExecuteTime": {
     "end_time": "2018-09-04T14:00:41.028222Z",
     "start_time": "2018-09-04T14:00:41.017916Z"
    }
   },
   "outputs": [],
   "source": [
    "@np.vectorize\n",
    "def I1_memory_interval(Dbirth, Dcoll, loglam, f, t0, t1):\n",
    "    if f >= 1:\n",
    "        f = 1\n",
    "    if t0 < 0.1:\n",
    "        t0 = 0.1\n",
    "    if t1 < 0.1:\n",
    "        t1 = 0.1\n",
    "    lam = np.exp(loglam)\n",
    "    C1 = c14_models.I1c(Dbirth, Dcoll, lam)\n",
    "    C0 = C1\n",
    "    \n",
    "    if Dbirth + t0 >= Dcoll:\n",
    "        C0 = C1\n",
    "    elif Dbirth + t0 + t1 >= Dcoll:\n",
    "        C0 = np.mean(np.vectorize(c14_models.I1c)(Dbirth, np.arange(Dbirth + t0, Dcoll, 1), lam))\n",
    "    else:\n",
    "        C0 = np.mean(np.vectorize(c14_models.I1c)(Dbirth, np.arange(Dbirth + t0, Dbirth + t0 + t1, 1), lam))\n",
    "    return f*C1 + (1-f)*C0"
   ]
  },
  {
   "cell_type": "markdown",
   "metadata": {},
   "source": [
    "## Fit"
   ]
  },
  {
   "cell_type": "code",
   "execution_count": 84,
   "metadata": {
    "ExecuteTime": {
     "end_time": "2018-09-04T14:03:25.494526Z",
     "start_time": "2018-09-04T14:03:20.128597Z"
    }
   },
   "outputs": [],
   "source": [
    "res_I1_memory_interval = sp.optimize.minimize(fun=Nloglike, \n",
    "                     x0=[np.log(0.2), 0.95, 30.0, 1.0],\n",
    "                     args = (I1_memory_interval, exp_data),\n",
    "                                     method='Nelder-Mead'\n",
    "                    )"
   ]
  },
  {
   "cell_type": "markdown",
   "metadata": {},
   "source": [
    "## Result"
   ]
  },
  {
   "cell_type": "code",
   "execution_count": 85,
   "metadata": {
    "ExecuteTime": {
     "end_time": "2018-09-04T14:03:25.535319Z",
     "start_time": "2018-09-04T14:03:25.497049Z"
    }
   },
   "outputs": [
    {
     "name": "stdout",
     "output_type": "stream",
     "text": [
      "lambda 0.2760000432033002\n",
      "f 0.9705708432165858\n",
      "t0 30.300342325426012\n",
      "t1 0.9985086217746975\n",
      "sigma 0.0139409162976819\n"
     ]
    },
    {
     "data": {
      "text/html": [
       "<div>\n",
       "<style scoped>\n",
       "    .dataframe tbody tr th:only-of-type {\n",
       "        vertical-align: middle;\n",
       "    }\n",
       "\n",
       "    .dataframe tbody tr th {\n",
       "        vertical-align: top;\n",
       "    }\n",
       "\n",
       "    .dataframe thead th {\n",
       "        text-align: right;\n",
       "    }\n",
       "</style>\n",
       "<table border=\"1\" class=\"dataframe\">\n",
       "  <thead>\n",
       "    <tr style=\"text-align: right;\">\n",
       "      <th></th>\n",
       "      <th>loglike</th>\n",
       "      <th>k</th>\n",
       "      <th>n</th>\n",
       "      <th>cAIC</th>\n",
       "    </tr>\n",
       "  </thead>\n",
       "  <tbody>\n",
       "    <tr>\n",
       "      <th>I1</th>\n",
       "      <td>91.945706</td>\n",
       "      <td>2.0</td>\n",
       "      <td>33.0</td>\n",
       "      <td>-179.491412</td>\n",
       "    </tr>\n",
       "    <tr>\n",
       "      <th>I1_memory</th>\n",
       "      <td>94.181618</td>\n",
       "      <td>4.0</td>\n",
       "      <td>33.0</td>\n",
       "      <td>-178.934664</td>\n",
       "    </tr>\n",
       "    <tr>\n",
       "      <th>I1_memory_interval</th>\n",
       "      <td>94.181624</td>\n",
       "      <td>5.0</td>\n",
       "      <td>33.0</td>\n",
       "      <td>-176.141026</td>\n",
       "    </tr>\n",
       "  </tbody>\n",
       "</table>\n",
       "</div>"
      ],
      "text/plain": [
       "                      loglike    k     n        cAIC\n",
       "I1                  91.945706  2.0  33.0 -179.491412\n",
       "I1_memory           94.181618  4.0  33.0 -178.934664\n",
       "I1_memory_interval  94.181624  5.0  33.0 -176.141026"
      ]
     },
     "execution_count": 85,
     "metadata": {},
     "output_type": "execute_result"
    }
   ],
   "source": [
    "print('lambda', sp.exp(res_I1_memory_interval.x[0]))\n",
    "print('f', res_I1_memory_interval.x[1])\n",
    "print('t0', res_I1_memory_interval.x[2])\n",
    "print('t1', res_I1_memory_interval.x[3])\n",
    "\n",
    "print('sigma', Sigma(res_I1_memory_interval.x, I1_memory_interval, exp_data))\n",
    "\n",
    "results.loc['I1_memory_interval', 'loglike'] = -res_I1_memory_interval.fun\n",
    "results.loc['I1_memory_interval', 'k'] = 5\n",
    "results.loc['I1_memory_interval', 'n'] = len(exp_data)\n",
    "\n",
    "results['cAIC'] = 2 * results['k'] - 2 * results['loglike'] + (2*results['k']**2 + 2*results['k'])/(results['n']-results['k']-1)\n",
    "\n",
    "results"
   ]
  },
  {
   "cell_type": "markdown",
   "metadata": {},
   "source": [
    "## Plot"
   ]
  },
  {
   "cell_type": "code",
   "execution_count": 86,
   "metadata": {
    "ExecuteTime": {
     "end_time": "2018-09-04T14:04:05.582870Z",
     "start_time": "2018-09-04T14:04:05.351343Z"
    }
   },
   "outputs": [
    {
     "data": {
      "image/png": "[encoded data removed]",
      "text/plain": [
       "<Figure size 432x288 with 1 Axes>"
      ]
     },
     "metadata": {},
     "output_type": "display_data"
    }
   ],
   "source": [
    "plt.plot(exp_data['Dbirth'], exp_data['d14C'], ls='None', marker='o')\n",
    "\n",
    "plt.errorbar(exp_data['Dbirth'], \n",
    "             I1_memory_interval(exp_data['Dbirth'], \n",
    "                      exp_data['Dcoll'],\n",
    "                      *res_I1_memory_interval.x),\n",
    "             Sigma(res_I1_memory_interval.x, I1_memory_interval, exp_data),\n",
    "             ls = 'None', marker='s')\n",
    "\n",
    "plt.show()"
   ]
  },
  {
   "cell_type": "markdown",
   "metadata": {},
   "source": [
    "# I1T_step"
   ]
  },
  {
   "cell_type": "code",
   "execution_count": null,
   "metadata": {
    "ExecuteTime": {
     "end_time": "2018-09-04T13:39:37.503860Z",
     "start_time": "2018-09-04T13:39:29.694Z"
    }
   },
   "outputs": [],
   "source": [
    "I1T = c14_models.I1T"
   ]
  },
  {
   "cell_type": "code",
   "execution_count": null,
   "metadata": {
    "ExecuteTime": {
     "end_time": "2018-09-04T13:39:37.504762Z",
     "start_time": "2018-09-04T13:39:29.696Z"
    }
   },
   "outputs": [],
   "source": [
    "@np.vectorize\n",
    "def I1T_step(Dbirth, Dcoll, loglam1, loglam2, t_step):\n",
    "    lam1 = np.exp(loglam1)\n",
    "    lam2 = np.exp(loglam2)\n",
    "    \n",
    "    def lam_step(t, lam1, lam2, t_step):\n",
    "        return np.where(t < Dbirth + t_step, lam1, lam2)\n",
    "    \n",
    "    return I1T(Dbirth, Dcoll, lam_step, t_eval=np.linspace(Dbirth, Dcoll), lam_arg=(lam1, lam2, t_step))[1][-1]"
   ]
  },
  {
   "cell_type": "markdown",
   "metadata": {},
   "source": [
    "## Fit"
   ]
  },
  {
   "cell_type": "code",
   "execution_count": null,
   "metadata": {
    "ExecuteTime": {
     "end_time": "2018-09-04T13:39:37.505677Z",
     "start_time": "2018-09-04T13:39:29.698Z"
    }
   },
   "outputs": [],
   "source": [
    "res_I1T_step = sp.optimize.minimize(fun=Nloglike, \n",
    "                           x0=[-2, -1, 30.0],\n",
    "                           args = (I1T_step, exp_data),\n",
    "                           method=\"Nelder-Mead\"\n",
    "                          )"
   ]
  },
  {
   "cell_type": "markdown",
   "metadata": {},
   "source": [
    "## Result"
   ]
  },
  {
   "cell_type": "code",
   "execution_count": null,
   "metadata": {
    "ExecuteTime": {
     "end_time": "2018-09-04T13:39:37.506591Z",
     "start_time": "2018-09-04T13:39:29.701Z"
    }
   },
   "outputs": [],
   "source": [
    "print('lambda1', np.exp(res_I1T_step.x[0]))\n",
    "print('lambda2', np.exp(res_I1T_step.x[1]))\n",
    "print('t_step', res_I1T_step.x[2])\n",
    "\n",
    "print('sigma', Sigma(res_I1T_step.x, I1T_step, exp_data))\n",
    "\n",
    "results.loc['I1T_step', 'loglike'] = -res_I1T_step.fun\n",
    "results.loc['I1T_step', 'k'] = 4\n",
    "results.loc['I1T_step', 'n'] = len(exp_data)\n",
    "\n",
    "results['cAIC'] = 2 * results['k'] - 2 * results['loglike'] + (2*results['k']**2 + 2*results['k'])/(results['n']-results['k']-1)\n",
    "\n",
    "results"
   ]
  },
  {
   "cell_type": "markdown",
   "metadata": {},
   "source": [
    "# I1T_transient"
   ]
  },
  {
   "cell_type": "code",
   "execution_count": null,
   "metadata": {
    "ExecuteTime": {
     "end_time": "2018-09-04T13:39:37.507466Z",
     "start_time": "2018-09-04T13:39:29.704Z"
    }
   },
   "outputs": [],
   "source": [
    "@np.vectorize\n",
    "def I1T_transient(Dbirth, Dcoll, loglam1, loglam2, t_on, t_off):\n",
    "    lam1 = np.exp(loglam1)\n",
    "    lam2 = np.exp(loglam2)\n",
    "    \n",
    "    def lam_transient(t, lam1, lam2, t_on, t_off):\n",
    "        return np.where(np.logical_or(t < Dbirth + t_on,\n",
    "                                      t > Dbirth + t_on + t_off),\n",
    "                        lam1, \n",
    "                        lam2)\n",
    "    \n",
    "    return I1T(Dbirth, Dcoll, lam_transient, \n",
    "               t_eval=np.linspace(Dbirth, Dcoll), \n",
    "               lam_arg=(lam1, lam2, t_on, t_off)\n",
    "              )[1][-1]"
   ]
  },
  {
   "cell_type": "markdown",
   "metadata": {},
   "source": [
    "## Fit"
   ]
  },
  {
   "cell_type": "code",
   "execution_count": null,
   "metadata": {
    "ExecuteTime": {
     "end_time": "2018-09-04T13:39:37.508434Z",
     "start_time": "2018-09-04T13:39:29.706Z"
    }
   },
   "outputs": [],
   "source": [
    "res_I1T_transient = sp.optimize.minimize(fun=Nloglike, \n",
    "                           x0=[-2.0, -3.0, 60.0, 70],\n",
    "                           args = (I1T_transient, exp_data),\n",
    "                           method=\"Nelder-Mead\"\n",
    "                          )"
   ]
  },
  {
   "cell_type": "markdown",
   "metadata": {},
   "source": [
    "## Result"
   ]
  },
  {
   "cell_type": "code",
   "execution_count": null,
   "metadata": {
    "ExecuteTime": {
     "end_time": "2018-09-04T13:39:37.509407Z",
     "start_time": "2018-09-04T13:39:29.709Z"
    }
   },
   "outputs": [],
   "source": [
    "print('lambda1', np.exp(res_I1T_transient.x[0]))\n",
    "print('lambda2', np.exp(res_I1T_transient.x[1]))\n",
    "print('t_on', res_I1T_transient.x[2])\n",
    "print('t_off', res_I1T_transient.x[3])\n",
    "\n",
    "sig = Sigma(res_I1T_transient.x, I1T_transient, exp_data)\n",
    "print('sigma', sig)\n",
    "\n",
    "results.loc['I1T_transient', 'loglike'] = -res_I1T_transient.fun\n",
    "results.loc['I1T_transient', 'k'] = 5\n",
    "results.loc['I1T_transient', 'n'] = len(exp_data)\n",
    "\n",
    "results['cAIC'] = 2 * results['k'] - 2 * results['loglike'] + (2*results['k']**2 + 2*results['k'])/(results['n']-results['k']-1)\n",
    "\n",
    "results"
   ]
  },
  {
   "cell_type": "markdown",
   "metadata": {},
   "source": [
    "# Plot I1, I1T, I1_memory"
   ]
  },
  {
   "cell_type": "code",
   "execution_count": null,
   "metadata": {
    "ExecuteTime": {
     "end_time": "2018-09-04T13:39:37.510336Z",
     "start_time": "2018-09-04T13:39:29.713Z"
    }
   },
   "outputs": [],
   "source": [
    "fig, ax = plt.subplots(figsize=(15, 10))\n",
    "tt = np.linspace(1930, 2010)\n",
    "ax.plot(tt, np.vectorize(c14_models.C_atm)(tt))\n",
    "ax.plot(exp_data['Dbirth'], exp_data['d14C'], ls = 'None', marker = 'o')\n",
    "\n",
    "ax.errorbar(exp_data['Dbirth']-0.4, \n",
    "            I1(exp_data['Dbirth'].values,\n",
    "               exp_data['Dcoll'].values,\n",
    "               *res_I1.x\n",
    "               ),\n",
    "           Sigma(res_I1.x, I1, exp_data),\n",
    "           ls='None',\n",
    "           label = 'I1')\n",
    "\n",
    "ax.errorbar(exp_data['Dbirth'], \n",
    "            I1T_transient(exp_data['Dbirth'].values,\n",
    "                          exp_data['Dcoll'].values,\n",
    "                          *res_I1T_transient.x\n",
    "                         ),\n",
    "           Sigma(res_I1T_transient.x, I1T_transient, exp_data),\n",
    "           ls='None',\n",
    "            marker='s',\n",
    "           label = 'I1T_transient')\n",
    "\n",
    "ax.errorbar(exp_data['Dbirth']+0.4, \n",
    "             I1_memory(exp_data['Dbirth'], \n",
    "                      exp_data['Dcoll'],\n",
    "                      *res_I1_memory.x),\n",
    "             Sigma(res_I1_memory.x, I1_memory, exp_data),\n",
    "             ls = 'None',\n",
    "            marker='o',\n",
    "           label='I1_memory')\n",
    "\n",
    "\n",
    "ax.set_ylim((0, 0.12))\n",
    "ax.legend()\n",
    "plt.show()"
   ]
  },
  {
   "cell_type": "markdown",
   "metadata": {},
   "source": [
    "# IK"
   ]
  },
  {
   "cell_type": "code",
   "execution_count": null,
   "metadata": {
    "ExecuteTime": {
     "end_time": "2018-09-04T13:39:37.511222Z",
     "start_time": "2018-09-04T13:39:29.715Z"
    }
   },
   "outputs": [],
   "source": [
    "@np.vectorize\n",
    "def IK(Dbirth, Dcoll, loglam, f):\n",
    "    lam = np.exp(loglam)\n",
    "    return c14_models.IK(Dbirth, Dcoll, lam, f, t_eval=np.linspace(Dbirth, Dcoll))[1][-1]"
   ]
  },
  {
   "cell_type": "markdown",
   "metadata": {},
   "source": [
    "## Fit"
   ]
  },
  {
   "cell_type": "code",
   "execution_count": null,
   "metadata": {
    "ExecuteTime": {
     "end_time": "2018-09-04T13:39:37.512132Z",
     "start_time": "2018-09-04T13:39:29.717Z"
    }
   },
   "outputs": [],
   "source": [
    "res = sp.optimize.brute(func=Nloglike, \n",
    "                  ranges=[(-1.5, 1), (0.2, 0.95)],\n",
    "                  args = (IK, exp_data),\n",
    "                  Ns = 20,\n",
    "                  full_output = True,\n",
    "                  finish=None)\n",
    "\n",
    "print(res[0])\n",
    "print(res[1])"
   ]
  },
  {
   "cell_type": "code",
   "execution_count": null,
   "metadata": {
    "ExecuteTime": {
     "end_time": "2018-09-04T13:39:37.512924Z",
     "start_time": "2018-09-04T13:39:29.720Z"
    }
   },
   "outputs": [],
   "source": [
    "x = res[2][0]\n",
    "y = res[2][1]\n",
    "z = res[3]\n",
    "z -= z.min()\n",
    "\n",
    "CS = plt.contour(x, y, z)\n",
    "plt.pcolormesh(x, y, z, vmax=8)\n",
    "\n",
    "plt.clabel(CS, inline=1, fontsize=10)\n",
    "\n",
    "plt.xlabel('loglam')\n",
    "plt.ylabel('f')\n",
    "plt.colorbar()\n",
    "\n",
    "plt.show()"
   ]
  },
  {
   "cell_type": "markdown",
   "metadata": {},
   "source": [
    "## Result"
   ]
  },
  {
   "cell_type": "code",
   "execution_count": null,
   "metadata": {
    "ExecuteTime": {
     "end_time": "2018-09-04T13:39:37.513711Z",
     "start_time": "2018-09-04T13:39:29.722Z"
    }
   },
   "outputs": [],
   "source": [
    "lam = sp.exp(res[0][0])\n",
    "print('lambda', lam)\n",
    "\n",
    "f = res[0][1]\n",
    "print('f', f)\n",
    "\n",
    "sig = Sigma([np.log(lam), f], IK, exp_data)\n",
    "print('sigma', sig)\n",
    "\n",
    "results.loc['IK', 'loglike'] = -res[1]\n",
    "results.loc['IK', 'k'] = 3\n",
    "results.loc['IK', 'n'] = len(exp_data)\n",
    "\n",
    "results['cAIC'] = 2 * results['k'] - 2 * results['loglike'] + (2*results['k']**2 + 2*results['k'])/(results['n']-results['k']-1)\n",
    "\n",
    "results"
   ]
  },
  {
   "cell_type": "markdown",
   "metadata": {},
   "source": [
    "# IL"
   ]
  },
  {
   "cell_type": "code",
   "execution_count": null,
   "metadata": {
    "ExecuteTime": {
     "end_time": "2018-09-04T13:39:37.514587Z",
     "start_time": "2018-09-04T13:39:29.726Z"
    }
   },
   "outputs": [],
   "source": [
    "@np.vectorize\n",
    "def IL(Dbirth, Dcoll, loglam, f):\n",
    "    lam = np.exp(loglam)\n",
    "    return c14_models.IL(Dbirth, Dcoll, lam, f, t_eval=np.linspace(Dbirth, Dcoll))[1][-1]"
   ]
  },
  {
   "cell_type": "markdown",
   "metadata": {},
   "source": [
    "## Fit"
   ]
  },
  {
   "cell_type": "code",
   "execution_count": null,
   "metadata": {
    "ExecuteTime": {
     "end_time": "2018-09-04T13:39:37.515529Z",
     "start_time": "2018-09-04T13:39:29.728Z"
    }
   },
   "outputs": [],
   "source": [
    "res = sp.optimize.brute(func=Nloglike, \n",
    "                  ranges=[(-2, 2), (0.01, 0.99)],\n",
    "                  args = (IL, exp_data),\n",
    "                  Ns = 20,\n",
    "                  full_output = True,\n",
    "                  finish=None)\n",
    "\n",
    "print(res[0])\n",
    "print(res[1])"
   ]
  },
  {
   "cell_type": "code",
   "execution_count": null,
   "metadata": {
    "ExecuteTime": {
     "end_time": "2018-09-04T13:39:37.516760Z",
     "start_time": "2018-09-04T13:39:29.730Z"
    }
   },
   "outputs": [],
   "source": [
    "x = res[2][0]\n",
    "y = res[2][1]\n",
    "z = res[3]\n",
    "z -= z.min()\n",
    "\n",
    "CS = plt.contour(x, y, z)\n",
    "plt.pcolormesh(x, y, z, vmax=8)\n",
    "\n",
    "plt.clabel(CS, inline=1, fontsize=10)\n",
    "\n",
    "plt.xlabel('loglam')\n",
    "plt.ylabel('f')\n",
    "plt.colorbar()\n",
    "\n",
    "plt.show()"
   ]
  },
  {
   "cell_type": "markdown",
   "metadata": {},
   "source": [
    "## Result"
   ]
  },
  {
   "cell_type": "code",
   "execution_count": null,
   "metadata": {
    "ExecuteTime": {
     "end_time": "2018-09-04T13:39:37.517678Z",
     "start_time": "2018-09-04T13:39:29.733Z"
    }
   },
   "outputs": [],
   "source": [
    "lam = sp.exp(res[0][0])\n",
    "print('lambda', lam)\n",
    "\n",
    "f = res[0][1]\n",
    "print('f', f)\n",
    "\n",
    "sig = Sigma([np.log(lam), f], IL, exp_data)\n",
    "print('sigma', sig)\n",
    "\n",
    "results.loc['IL', 'loglike'] = -res[1]\n",
    "results.loc['IL', 'k'] = 3\n",
    "results.loc['IL', 'n'] = len(exp_data)\n",
    "\n",
    "results['cAIC'] = 2 * results['k'] - 2 * results['loglike'] + (2*results['k']**2 + 2*results['k'])/(results['n']-results['k']-1)\n",
    "\n",
    "results"
   ]
  },
  {
   "cell_type": "markdown",
   "metadata": {},
   "source": [
    "# I2"
   ]
  },
  {
   "cell_type": "code",
   "execution_count": null,
   "metadata": {
    "ExecuteTime": {
     "end_time": "2018-09-04T13:39:37.518519Z",
     "start_time": "2018-09-04T13:39:29.735Z"
    }
   },
   "outputs": [],
   "source": [
    "@np.vectorize\n",
    "def I2(Dbirth, Dcoll, loglam, f):\n",
    "    lam = np.exp(loglam)\n",
    "    return c14_models.I2(Dbirth, Dcoll, lam, f, \n",
    "                         t_eval=np.linspace(Dbirth, Dcoll))[1][-1]"
   ]
  },
  {
   "cell_type": "markdown",
   "metadata": {},
   "source": [
    "## Fit"
   ]
  },
  {
   "cell_type": "code",
   "execution_count": null,
   "metadata": {
    "ExecuteTime": {
     "end_time": "2018-09-04T13:39:37.519371Z",
     "start_time": "2018-09-04T13:39:29.739Z"
    }
   },
   "outputs": [],
   "source": [
    "res = sp.optimize.brute(func=Nloglike, \n",
    "                  ranges=[(-3, 0.5), (0.85, 1)],\n",
    "                  args = (I2, exp_data),\n",
    "                  Ns = 20,\n",
    "                  full_output = True,\n",
    "                  finish=None)\n",
    "\n",
    "print(res[0])\n",
    "print(res[1])"
   ]
  },
  {
   "cell_type": "code",
   "execution_count": null,
   "metadata": {
    "ExecuteTime": {
     "end_time": "2018-09-04T13:39:37.520234Z",
     "start_time": "2018-09-04T13:39:29.741Z"
    }
   },
   "outputs": [],
   "source": [
    "x = res[2][0]\n",
    "y = res[2][1]\n",
    "z = res[3]\n",
    "z -= z.min()\n",
    "\n",
    "CS = plt.contour(x, y, z)\n",
    "plt.pcolormesh(x, y, z)\n",
    "\n",
    "plt.clabel(CS, inline=1, fontsize=10)\n",
    "\n",
    "plt.xlabel('loglam')\n",
    "plt.ylabel('f')\n",
    "plt.colorbar()\n",
    "\n",
    "plt.show()"
   ]
  },
  {
   "cell_type": "code",
   "execution_count": null,
   "metadata": {
    "ExecuteTime": {
     "end_time": "2018-09-04T13:39:37.521128Z",
     "start_time": "2018-09-04T13:39:29.743Z"
    }
   },
   "outputs": [],
   "source": [
    "lam = sp.exp(res[0][0])\n",
    "print('lambda', lam)\n",
    "\n",
    "f = res[0][1]\n",
    "print('f', f)\n",
    "\n",
    "sig = Sigma([np.log(lam), f], I2, exp_data)\n",
    "print('sigma', sig)\n",
    "\n",
    "results.loc['I2', 'loglike'] = -res[1]\n",
    "results.loc['I2', 'k'] = 3\n",
    "results.loc['I2', 'n'] = len(exp_data)\n",
    "\n",
    "results['cAIC'] = 2 * results['k'] - 2 * results['loglike'] + (2*results['k']**2 + 2*results['k'])/(results['n']-results['k']-1)\n",
    "\n",
    "results"
   ]
  },
  {
   "cell_type": "markdown",
   "metadata": {},
   "source": [
    "# Scenario IX2p"
   ]
  },
  {
   "cell_type": "code",
   "execution_count": null,
   "metadata": {
    "ExecuteTime": {
     "end_time": "2018-09-04T13:39:37.521825Z",
     "start_time": "2018-09-04T13:39:29.746Z"
    }
   },
   "outputs": [],
   "source": [
    "@np.vectorize\n",
    "def IX2p(Dbirth, Dcoll, dloglam1, dloglam2, f1):\n",
    "    dlam1 = np.exp(dloglam1)\n",
    "    dlam2 = np.exp(dloglam2)\n",
    "    \n",
    "    f2 = 1-f1\n",
    "    \n",
    "    return c14_models.IX(Dbirth, Dcoll, [dlam1, dlam2], [f1, f2],\n",
    "                        t_eval=np.linspace(Dbirth, Dcoll))[1][-1]"
   ]
  },
  {
   "cell_type": "markdown",
   "metadata": {},
   "source": [
    "## Fit"
   ]
  },
  {
   "cell_type": "code",
   "execution_count": null,
   "metadata": {
    "ExecuteTime": {
     "end_time": "2018-09-04T13:39:37.522495Z",
     "start_time": "2018-09-04T13:39:29.749Z"
    }
   },
   "outputs": [],
   "source": [
    "res = sp.optimize.brute(func=Nloglike, \n",
    "                  ranges=[(np.log(0.01), np.log(2.0)),(np.log(0.01), np.log(2.0)) , (0, 1)],\n",
    "                  args = (IX2p, exp_data),\n",
    "                  Ns = 10,\n",
    "                  full_output = True,\n",
    "                  finish=None)\n",
    "\n",
    "print(res[0])\n",
    "print(res[1])"
   ]
  },
  {
   "cell_type": "markdown",
   "metadata": {},
   "source": [
    "## Result"
   ]
  },
  {
   "cell_type": "code",
   "execution_count": null,
   "metadata": {
    "ExecuteTime": {
     "end_time": "2018-09-04T13:39:37.523167Z",
     "start_time": "2018-09-04T13:39:29.751Z"
    }
   },
   "outputs": [],
   "source": [
    "results.loc['IX2p', 'loglike'] = -res[1]\n",
    "results.loc['IX2p', 'k'] = 4\n",
    "results.loc['IX2p', 'n'] = len(exp_data)\n",
    "\n",
    "results['cAIC'] = 2 * results['k'] - 2 * results['loglike'] + (2*results['k']**2 + 2*results['k'])/(results['n']-results['k']-1)\n",
    "\n",
    "results"
   ]
  },
  {
   "cell_type": "markdown",
   "metadata": {},
   "source": [
    "# Results"
   ]
  },
  {
   "cell_type": "code",
   "execution_count": null,
   "metadata": {
    "ExecuteTime": {
     "end_time": "2018-09-04T13:39:37.523945Z",
     "start_time": "2018-09-04T13:39:29.754Z"
    }
   },
   "outputs": [],
   "source": [
    "results.sort_values('cAIC')"
   ]
  }
 ],
 "metadata": {
  "anaconda-cloud": {},
  "kernelspec": {
   "display_name": "Python [conda env:spols180816d]",
   "language": "python",
   "name": "conda-env-spols180816d-py"
  },
  "language_info": {
   "codemirror_mode": {
    "name": "ipython",
    "version": 3
   },
   "file_extension": ".py",
   "mimetype": "text/x-python",
   "name": "python",
   "nbconvert_exporter": "python",
   "pygments_lexer": "ipython3",
   "version": "3.6.6"
  },
  "notify_time": "30",
  "toc": {
   "nav_menu": {
    "height": "251px",
    "width": "252px"
   },
   "number_sections": true,
   "sideBar": true,
   "skip_h1_title": false,
   "title_cell": "Table of Contents",
   "title_sidebar": "Contents",
   "toc_cell": false,
   "toc_position": {
    "height": "913px",
    "left": "0px",
    "right": "1708px",
    "top": "111px",
    "width": "212px"
   },
   "toc_section_display": "block",
   "toc_window_display": true
  }
 },
 "nbformat": 4,
 "nbformat_minor": 1
}
