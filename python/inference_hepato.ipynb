{
 "cells": [
  {
   "cell_type": "markdown",
   "metadata": {},
   "source": [
    "# C14-hepatocyte analysis"
   ]
  },
  {
   "cell_type": "markdown",
   "metadata": {},
   "source": [
    "default_parameters -> fit\n",
    "\n",
    "default_limit -> physical\n",
    "\n",
    "parameters -> physical"
   ]
  },
  {
   "cell_type": "code",
   "execution_count": 1,
   "metadata": {
    "ExecuteTime": {
     "end_time": "2019-06-12T16:46:11.667471Z",
     "start_time": "2019-06-12T16:46:09.329920Z"
    }
   },
   "outputs": [
    {
     "name": "stderr",
     "output_type": "stream",
     "text": [
      "/home/fabrost/miniconda3/envs/spols200116/lib/python3.7/site-packages/rpy2/robjects/pandas2ri.py:14: FutureWarning: pandas.core.index is deprecated and will be removed in a future version.  The public classes are available in the top-level namespace.\n",
      "  from pandas.core.index import Index as PandasIndex\n"
     ]
    }
   ],
   "source": [
    "import datetime\n",
    "from IPython.display import display\n",
    "import joblib\n",
    "import numpy as np\n",
    "import pandas as pd\n",
    "import matplotlib.pyplot as plt\n",
    "import seaborn as sns\n",
    "import scipy as sp\n",
    "import warnings\n",
    "\n",
    "%matplotlib inline\n",
    "\n",
    "mem = joblib.Memory(location='~/tmp/hepato/', verbose=0)\n",
    "\n",
    "import logging\n",
    "\n",
    "%load_ext rpy2.ipython\n",
    "\n",
    "# logging.basicConfig(filename='c14.log',\n",
    "#                              filemode='a',\n",
    "#                              format='%(asctime)s,%(msecs)d %(name)s %(levelname)s %(message)s',\n",
    "#                             datefmt='%H:%M:%S',\n",
    "#                              level=logging.DEBUG)\n",
    "logging.basicConfig(level=logging.WARNING)"
   ]
  },
  {
   "cell_type": "code",
   "execution_count": 2,
   "metadata": {},
   "outputs": [],
   "source": [
    "logger = logging.getLogger()\n",
    "logger.setLevel(logging.WARNING)"
   ]
  },
  {
   "cell_type": "code",
   "execution_count": 3,
   "metadata": {},
   "outputs": [],
   "source": [
    "# %load_ext autoreload\n",
    "# %autoreload 2\n",
    "import c14\n",
    "import c14.models.liver\n",
    "import c14.models.minimal"
   ]
  },
  {
   "cell_type": "markdown",
   "metadata": {},
   "source": [
    "## For Julian"
   ]
  },
  {
   "cell_type": "code",
   "execution_count": 4,
   "metadata": {},
   "outputs": [],
   "source": [
    "kappa24 = 0.00245593\n",
    "kappa42 = 0.0108874\n",
    "delta2  = 0.64411109\n",
    "delta4  = 0.0773499 "
   ]
  },
  {
   "cell_type": "code",
   "execution_count": 5,
   "metadata": {},
   "outputs": [],
   "source": [
    "m = c14.models.liver.R(delta2 = np.log10(delta2),\n",
    "                   delta4 = np.log10(delta4),\n",
    "                   kappa24 = np.log10(kappa24),\n",
    "                   kappa42 = np.log10(kappa42))"
   ]
  },
  {
   "cell_type": "code",
   "execution_count": 6,
   "metadata": {},
   "outputs": [],
   "source": [
    "t = np.arange(0, 50, 0.5)\n",
    "implicit_parameters = pd.DataFrame(m.get_implicit_parameters(t))\n",
    "implicit_parameters['t'] = t"
   ]
  },
  {
   "cell_type": "code",
   "execution_count": 7,
   "metadata": {},
   "outputs": [],
   "source": [
    "implicit_parameters.to_csv('~/tmp/implicit_parameters.csv', index=False)"
   ]
  },
  {
   "cell_type": "code",
   "execution_count": 8,
   "metadata": {},
   "outputs": [
    {
     "data": {
      "text/plain": [
       "array(0.78999256)"
      ]
     },
     "execution_count": 8,
     "metadata": {},
     "output_type": "execute_result"
    }
   ],
   "source": [
    "c14.models.liver.R().ploidy(49.5)"
   ]
  },
  {
   "cell_type": "code",
   "execution_count": 9,
   "metadata": {},
   "outputs": [
    {
     "data": {
      "text/plain": [
       "array(-0.00466246)"
      ]
     },
     "execution_count": 9,
     "metadata": {},
     "output_type": "execute_result"
    }
   ],
   "source": [
    "c14.models.liver.R().dtploidy(49.5)"
   ]
  },
  {
   "cell_type": "code",
   "execution_count": 10,
   "metadata": {},
   "outputs": [
    {
     "data": {
      "text/html": [
       "<div>\n",
       "<style scoped>\n",
       "    .dataframe tbody tr th:only-of-type {\n",
       "        vertical-align: middle;\n",
       "    }\n",
       "\n",
       "    .dataframe tbody tr th {\n",
       "        vertical-align: top;\n",
       "    }\n",
       "\n",
       "    .dataframe thead th {\n",
       "        text-align: right;\n",
       "    }\n",
       "</style>\n",
       "<table border=\"1\" class=\"dataframe\">\n",
       "  <thead>\n",
       "    <tr style=\"text-align: right;\">\n",
       "      <th></th>\n",
       "      <th>r2</th>\n",
       "      <th>r4</th>\n",
       "      <th>lambda2</th>\n",
       "      <th>lambda4</th>\n",
       "      <th>ratio_r</th>\n",
       "      <th>ratio_kappa</th>\n",
       "      <th>p2</th>\n",
       "      <th>p4</th>\n",
       "      <th>f24</th>\n",
       "      <th>f42</th>\n",
       "      <th>ratio_f</th>\n",
       "      <th>t</th>\n",
       "    </tr>\n",
       "  </thead>\n",
       "  <tbody>\n",
       "    <tr>\n",
       "      <th>95</th>\n",
       "      <td>0.631720</td>\n",
       "      <td>0.097115</td>\n",
       "      <td>0.634176</td>\n",
       "      <td>0.108002</td>\n",
       "      <td>0.153731</td>\n",
       "      <td>4.433107</td>\n",
       "      <td>0.996127</td>\n",
       "      <td>0.899193</td>\n",
       "      <td>0.001963</td>\n",
       "      <td>0.002187</td>\n",
       "      <td>1.114150</td>\n",
       "      <td>47.5</td>\n",
       "    </tr>\n",
       "    <tr>\n",
       "      <th>96</th>\n",
       "      <td>0.631548</td>\n",
       "      <td>0.097177</td>\n",
       "      <td>0.634004</td>\n",
       "      <td>0.108064</td>\n",
       "      <td>0.153871</td>\n",
       "      <td>4.433107</td>\n",
       "      <td>0.996126</td>\n",
       "      <td>0.899251</td>\n",
       "      <td>0.001957</td>\n",
       "      <td>0.002211</td>\n",
       "      <td>1.129877</td>\n",
       "      <td>48.0</td>\n",
       "    </tr>\n",
       "    <tr>\n",
       "      <th>97</th>\n",
       "      <td>0.631375</td>\n",
       "      <td>0.097236</td>\n",
       "      <td>0.633831</td>\n",
       "      <td>0.108124</td>\n",
       "      <td>0.154007</td>\n",
       "      <td>4.433107</td>\n",
       "      <td>0.996125</td>\n",
       "      <td>0.899306</td>\n",
       "      <td>0.001952</td>\n",
       "      <td>0.002236</td>\n",
       "      <td>1.145838</td>\n",
       "      <td>48.5</td>\n",
       "    </tr>\n",
       "    <tr>\n",
       "      <th>98</th>\n",
       "      <td>0.631200</td>\n",
       "      <td>0.097293</td>\n",
       "      <td>0.633656</td>\n",
       "      <td>0.108180</td>\n",
       "      <td>0.154140</td>\n",
       "      <td>4.433107</td>\n",
       "      <td>0.996124</td>\n",
       "      <td>0.899359</td>\n",
       "      <td>0.001946</td>\n",
       "      <td>0.002261</td>\n",
       "      <td>1.162035</td>\n",
       "      <td>49.0</td>\n",
       "    </tr>\n",
       "    <tr>\n",
       "      <th>99</th>\n",
       "      <td>0.631023</td>\n",
       "      <td>0.097347</td>\n",
       "      <td>0.633479</td>\n",
       "      <td>0.108234</td>\n",
       "      <td>0.154268</td>\n",
       "      <td>4.433107</td>\n",
       "      <td>0.996123</td>\n",
       "      <td>0.899409</td>\n",
       "      <td>0.001940</td>\n",
       "      <td>0.002286</td>\n",
       "      <td>1.178474</td>\n",
       "      <td>49.5</td>\n",
       "    </tr>\n",
       "  </tbody>\n",
       "</table>\n",
       "</div>"
      ],
      "text/plain": [
       "          r2        r4   lambda2   lambda4   ratio_r  ratio_kappa        p2  \\\n",
       "95  0.631720  0.097115  0.634176  0.108002  0.153731     4.433107  0.996127   \n",
       "96  0.631548  0.097177  0.634004  0.108064  0.153871     4.433107  0.996126   \n",
       "97  0.631375  0.097236  0.633831  0.108124  0.154007     4.433107  0.996125   \n",
       "98  0.631200  0.097293  0.633656  0.108180  0.154140     4.433107  0.996124   \n",
       "99  0.631023  0.097347  0.633479  0.108234  0.154268     4.433107  0.996123   \n",
       "\n",
       "          p4       f24       f42   ratio_f     t  \n",
       "95  0.899193  0.001963  0.002187  1.114150  47.5  \n",
       "96  0.899251  0.001957  0.002211  1.129877  48.0  \n",
       "97  0.899306  0.001952  0.002236  1.145838  48.5  \n",
       "98  0.899359  0.001946  0.002261  1.162035  49.0  \n",
       "99  0.899409  0.001940  0.002286  1.178474  49.5  "
      ]
     },
     "execution_count": 10,
     "metadata": {},
     "output_type": "execute_result"
    }
   ],
   "source": [
    "implicit_parameters.tail()"
   ]
  },
  {
   "cell_type": "markdown",
   "metadata": {},
   "source": [
    "## Data"
   ]
  },
  {
   "cell_type": "code",
   "execution_count": 11,
   "metadata": {
    "ExecuteTime": {
     "end_time": "2019-06-12T16:46:14.483512Z",
     "start_time": "2019-06-12T16:46:14.348904Z"
    }
   },
   "outputs": [],
   "source": [
    "data = pd.read_csv('../data/C14data_liver_samples_20200129.csv')\n",
    "data = data.groupby(['type', 'sample', 'ploidy', 'pathology']).mean().dropna(how='all').reset_index()\n",
    "data['age'] = data['Dcoll'] - data['Dbirth']\n",
    "data = data.query('type == \"hepatocyte\" and pathology != \"Y\"')\n",
    "edata = c14.exp_data(data)"
   ]
  },
  {
   "cell_type": "markdown",
   "metadata": {},
   "source": [
    "## Fit the models"
   ]
  },
  {
   "cell_type": "code",
   "execution_count": 12,
   "metadata": {},
   "outputs": [],
   "source": [
    "@mem.cache\n",
    "def fit_model(edata, model, step_size=0.1, optimize_minuit_multistart_kwargs=dict(n=100,processes=8)):\n",
    "    print(f'Fitting model {model.__name__}')\n",
    "    result = {'model': model()}\n",
    "    result['op'] = c14.optimize(model=result['model'].copy(),data=edata,step_size=step_size)\n",
    "    result['vis'] = c14.visualisze(model=result['model'].copy(),data=edata,step_size=step_size)\n",
    "    result['multistart_result'] = result['op'].optimize_minuit_multistart(**optimize_minuit_multistart_kwargs)\n",
    "    try:\n",
    "        result['point_estimate'] = result['multistart_result'].sort_values('fval').iloc[0]['values']\n",
    "        result['cov'] = result['multistart_result'].sort_values('fval').iloc[0]['cov']\n",
    "    except:\n",
    "        print(f'Multistart found no valid results for model {model.__name__}')\n",
    "    try:\n",
    "        result['errors'] = result['vis'].calc_error(result['point_estimate'], result['cov'], ignore_physics=True)\n",
    "    except:\n",
    "        print(f'Could not calculate errors for {model.__name__}')\n",
    "    return result"
   ]
  },
  {
   "cell_type": "code",
   "execution_count": 13,
   "metadata": {},
   "outputs": [],
   "source": [
    "def fit_models(edata, models, step_size=0.1, optimize_minuit_multistart_kwargs=dict(n=100,processes=8)):\n",
    "    results = {model.__name__: fit_model(edata, model, step_size, optimize_minuit_multistart_kwargs)\n",
    "               for model in models}\n",
    "    return results"
   ]
  },
  {
   "cell_type": "code",
   "execution_count": 14,
   "metadata": {},
   "outputs": [
    {
     "data": {
      "text/plain": [
       "[c14.models.liver.R,\n",
       " c14.models.liver.R_kappa_wo_limit,\n",
       " c14.models.liver.R_kappa_wo_limit_k42_free,\n",
       " c14.models.liver.L,\n",
       " c14.models.liver.D,\n",
       " c14.models.liver.Rk420,\n",
       " c14.models.liver.Rk240,\n",
       " c14.models.minimal.POP1]"
      ]
     },
     "execution_count": 14,
     "metadata": {},
     "output_type": "execute_result"
    }
   ],
   "source": [
    "models = c14.models.liver.models_list + [c14.models.minimal.POP1]\n",
    "# models = [c14.models.liver.R]\n",
    "models"
   ]
  },
  {
   "cell_type": "code",
   "execution_count": 15,
   "metadata": {},
   "outputs": [],
   "source": [
    "init_limit = {'r2': (-3, 0), \n",
    "              'r2_0': (-3, 0), \n",
    "              'r2_100': (-3, 0), \n",
    "              'r4': (-3, 0),\n",
    "              'lambda2': (-3, 0),\n",
    "              'lambda4': (-3, 0),\n",
    "              'kappa24': (-3, 0),\n",
    "              'kappa24_0': (-3, 0),\n",
    "              'kappa24_100': (-3, 0),\n",
    "              'kappa42': (-3, 0),\n",
    "              'delta2': (-3, 0),\n",
    "              'delta2_0': (-3, 0),\n",
    "              'delta2_100': (-3, 0),\n",
    "              'delta4': (-3, 0),\n",
    "              'f': (1, 3),\n",
    "              'lambda_': (-3, 0),\n",
    "              'r2_0': (-3, 0),\n",
    "              'r2_1': (-3, 0),\n",
    "              'r2_100': (-3, 0),\n",
    "              't_step': (np.log10(5), np.log10(70))\n",
    "             }"
   ]
  },
  {
   "cell_type": "code",
   "execution_count": 16,
   "metadata": {},
   "outputs": [
    {
     "data": {
      "text/plain": [
       "{'divide': 'warn', 'over': 'warn', 'under': 'ignore', 'invalid': 'warn'}"
      ]
     },
     "execution_count": 16,
     "metadata": {},
     "output_type": "execute_result"
    }
   ],
   "source": [
    "np.seterr(all='ignore')"
   ]
  },
  {
   "cell_type": "code",
   "execution_count": 17,
   "metadata": {},
   "outputs": [
    {
     "name": "stdout",
     "output_type": "stream",
     "text": [
      "Fitting model Rk240\n",
      "[(-3, 0), (-3, 0), (-3, 0)]\n",
      "CPU times: user 5.66 s, sys: 102 ms, total: 5.76 s\n",
      "Wall time: 52.9 s\n"
     ]
    }
   ],
   "source": [
    "%%time\n",
    "results = fit_models(edata, models, step_size=2, \n",
    "                     optimize_minuit_multistart_kwargs=dict(n=7, \n",
    "                                                            processes=7, \n",
    "                                                            init_limit=init_limit)\n",
    "                    )"
   ]
  },
  {
   "cell_type": "code",
   "execution_count": 18,
   "metadata": {},
   "outputs": [
    {
     "name": "stdout",
     "output_type": "stream",
     "text": [
      "Fitting model R_kappa_wo_limit\n",
      "[(-3, 0), (-3, 0), (-3, 0), (-3, 0)]\n",
      "Fitting model R_kappa_wo_limit_k42_free\n",
      "[(-3, 0), (-3, 0), (-3, 0), (-3, 0)]\n",
      "Fitting model L\n",
      "[(-3, 0), (-3, 0), (-3, 0), (-3, 0)]\n",
      "Multistart found no valid results for model L\n",
      "Could not calculate errors for L\n",
      "Fitting model D\n",
      "[(-3, 0), (-3, 0), (-3, 0), (-3, 0)]\n"
     ]
    },
    {
     "name": "stderr",
     "output_type": "stream",
     "text": [
      "Process ForkPoolWorker-33:\n",
      "Process ForkPoolWorker-32:\n",
      "Process ForkPoolWorker-31:\n",
      "Process ForkPoolWorker-34:\n",
      "Process ForkPoolWorker-29:\n",
      "Process ForkPoolWorker-35:\n",
      "Process ForkPoolWorker-30:\n",
      "Traceback (most recent call last):\n",
      "  File \"/home/fabrost/miniconda3/envs/spols200116/lib/python3.7/multiprocessing/process.py\", line 297, in _bootstrap\n",
      "    self.run()\n",
      "  File \"/home/fabrost/miniconda3/envs/spols200116/lib/python3.7/multiprocessing/process.py\", line 99, in run\n",
      "    self._target(*self._args, **self._kwargs)\n",
      "  File \"/home/fabrost/miniconda3/envs/spols200116/lib/python3.7/multiprocessing/pool.py\", line 121, in worker\n",
      "    result = (True, func(*args, **kwds))\n",
      "  File \"/home/fabrost/pksCloud/projects/c14/source/c14/c14/optimize.py\", line 258, in optimize_minuit\n",
      "    res = sp.optimize.minimize(lambda x: self.Nloglike(x, copy.deepcopy(self.model)), p0)\n",
      "  File \"/home/fabrost/miniconda3/envs/spols200116/lib/python3.7/site-packages/scipy/optimize/_minimize.py\", line 604, in minimize\n",
      "    return _minimize_bfgs(fun, x0, args, jac, callback, **options)\n",
      "  File \"/home/fabrost/miniconda3/envs/spols200116/lib/python3.7/site-packages/scipy/optimize/optimize.py\", line 1028, in _minimize_bfgs\n",
      "    old_fval, old_old_fval, amin=1e-100, amax=1e100)\n",
      "  File \"/home/fabrost/miniconda3/envs/spols200116/lib/python3.7/site-packages/scipy/optimize/optimize.py\", line 845, in _line_search_wolfe12\n",
      "    **kwargs)\n",
      "  File \"/home/fabrost/miniconda3/envs/spols200116/lib/python3.7/site-packages/scipy/optimize/linesearch.py\", line 101, in line_search_wolfe1\n",
      "    c1=c1, c2=c2, amax=amax, amin=amin, xtol=xtol)\n",
      "Traceback (most recent call last):\n",
      "  File \"/home/fabrost/miniconda3/envs/spols200116/lib/python3.7/site-packages/scipy/optimize/linesearch.py\", line 176, in scalar_search_wolfe1\n",
      "    derphi1 = derphi(stp)\n",
      "Traceback (most recent call last):\n",
      "Traceback (most recent call last):\n",
      "Traceback (most recent call last):\n",
      "  File \"/home/fabrost/miniconda3/envs/spols200116/lib/python3.7/multiprocessing/process.py\", line 297, in _bootstrap\n",
      "    self.run()\n",
      "  File \"/home/fabrost/miniconda3/envs/spols200116/lib/python3.7/multiprocessing/process.py\", line 99, in run\n",
      "    self._target(*self._args, **self._kwargs)\n",
      "  File \"/home/fabrost/miniconda3/envs/spols200116/lib/python3.7/multiprocessing/process.py\", line 297, in _bootstrap\n",
      "    self.run()\n",
      "  File \"/home/fabrost/miniconda3/envs/spols200116/lib/python3.7/site-packages/scipy/optimize/linesearch.py\", line 90, in derphi\n",
      "    gval[0] = fprime(xk + s*pk, *newargs)\n",
      "  File \"/home/fabrost/miniconda3/envs/spols200116/lib/python3.7/multiprocessing/pool.py\", line 121, in worker\n",
      "    result = (True, func(*args, **kwds))\n",
      "  File \"/home/fabrost/miniconda3/envs/spols200116/lib/python3.7/multiprocessing/process.py\", line 297, in _bootstrap\n",
      "    self.run()\n",
      "  File \"/home/fabrost/miniconda3/envs/spols200116/lib/python3.7/site-packages/scipy/optimize/optimize.py\", line 327, in function_wrapper\n",
      "    return function(*(wrapper_args + args))\n",
      "  File \"/home/fabrost/pksCloud/projects/c14/source/c14/c14/optimize.py\", line 258, in optimize_minuit\n",
      "    res = sp.optimize.minimize(lambda x: self.Nloglike(x, copy.deepcopy(self.model)), p0)\n",
      "  File \"/home/fabrost/miniconda3/envs/spols200116/lib/python3.7/multiprocessing/process.py\", line 297, in _bootstrap\n",
      "    self.run()\n",
      "  File \"/home/fabrost/miniconda3/envs/spols200116/lib/python3.7/multiprocessing/process.py\", line 99, in run\n",
      "    self._target(*self._args, **self._kwargs)\n",
      "  File \"/home/fabrost/miniconda3/envs/spols200116/lib/python3.7/multiprocessing/process.py\", line 99, in run\n",
      "    self._target(*self._args, **self._kwargs)\n",
      "  File \"/home/fabrost/miniconda3/envs/spols200116/lib/python3.7/site-packages/scipy/optimize/_minimize.py\", line 604, in minimize\n",
      "    return _minimize_bfgs(fun, x0, args, jac, callback, **options)\n",
      "  File \"/home/fabrost/miniconda3/envs/spols200116/lib/python3.7/site-packages/scipy/optimize/optimize.py\", line 765, in approx_fprime\n",
      "    return _approx_fprime_helper(xk, f, epsilon, args=args)\n",
      "  File \"/home/fabrost/miniconda3/envs/spols200116/lib/python3.7/site-packages/scipy/optimize/optimize.py\", line 1028, in _minimize_bfgs\n",
      "    old_fval, old_old_fval, amin=1e-100, amax=1e100)\n",
      "  File \"/home/fabrost/miniconda3/envs/spols200116/lib/python3.7/multiprocessing/pool.py\", line 121, in worker\n",
      "    result = (True, func(*args, **kwds))\n",
      "  File \"/home/fabrost/miniconda3/envs/spols200116/lib/python3.7/multiprocessing/pool.py\", line 121, in worker\n",
      "    result = (True, func(*args, **kwds))\n",
      "  File \"/home/fabrost/miniconda3/envs/spols200116/lib/python3.7/site-packages/scipy/optimize/optimize.py\", line 845, in _line_search_wolfe12\n",
      "    **kwargs)\n",
      "  File \"/home/fabrost/miniconda3/envs/spols200116/lib/python3.7/site-packages/scipy/optimize/optimize.py\", line 691, in _approx_fprime_helper\n",
      "    f0 = f(*((xk,) + args))\n",
      "  File \"/home/fabrost/miniconda3/envs/spols200116/lib/python3.7/multiprocessing/process.py\", line 99, in run\n",
      "    self._target(*self._args, **self._kwargs)\n",
      "  File \"/home/fabrost/miniconda3/envs/spols200116/lib/python3.7/site-packages/scipy/optimize/linesearch.py\", line 101, in line_search_wolfe1\n",
      "    c1=c1, c2=c2, amax=amax, amin=amin, xtol=xtol)\n",
      "  File \"/home/fabrost/pksCloud/projects/c14/source/c14/c14/optimize.py\", line 258, in optimize_minuit\n",
      "    res = sp.optimize.minimize(lambda x: self.Nloglike(x, copy.deepcopy(self.model)), p0)\n",
      "  File \"/home/fabrost/miniconda3/envs/spols200116/lib/python3.7/multiprocessing/pool.py\", line 121, in worker\n",
      "    result = (True, func(*args, **kwds))\n",
      "  File \"/home/fabrost/pksCloud/projects/c14/source/c14/c14/optimize.py\", line 258, in optimize_minuit\n",
      "    res = sp.optimize.minimize(lambda x: self.Nloglike(x, copy.deepcopy(self.model)), p0)\n",
      "  File \"/home/fabrost/miniconda3/envs/spols200116/lib/python3.7/site-packages/scipy/optimize/_minimize.py\", line 604, in minimize\n",
      "    return _minimize_bfgs(fun, x0, args, jac, callback, **options)\n",
      "  File \"/home/fabrost/miniconda3/envs/spols200116/lib/python3.7/site-packages/scipy/optimize/linesearch.py\", line 175, in scalar_search_wolfe1\n",
      "    phi1 = phi(stp)\n",
      "  File \"/home/fabrost/pksCloud/projects/c14/source/c14/c14/optimize.py\", line 258, in optimize_minuit\n",
      "    res = sp.optimize.minimize(lambda x: self.Nloglike(x, copy.deepcopy(self.model)), p0)\n",
      "  File \"/home/fabrost/miniconda3/envs/spols200116/lib/python3.7/site-packages/scipy/optimize/_minimize.py\", line 604, in minimize\n",
      "    return _minimize_bfgs(fun, x0, args, jac, callback, **options)\n",
      "  File \"/home/fabrost/miniconda3/envs/spols200116/lib/python3.7/site-packages/scipy/optimize/optimize.py\", line 1028, in _minimize_bfgs\n",
      "    old_fval, old_old_fval, amin=1e-100, amax=1e100)\n",
      "  File \"/home/fabrost/miniconda3/envs/spols200116/lib/python3.7/site-packages/scipy/optimize/linesearch.py\", line 87, in phi\n",
      "    return f(xk + s*pk, *args)\n",
      "  File \"/home/fabrost/miniconda3/envs/spols200116/lib/python3.7/site-packages/scipy/optimize/_minimize.py\", line 604, in minimize\n",
      "    return _minimize_bfgs(fun, x0, args, jac, callback, **options)\n",
      "  File \"/home/fabrost/miniconda3/envs/spols200116/lib/python3.7/site-packages/scipy/optimize/optimize.py\", line 327, in function_wrapper\n",
      "    return function(*(wrapper_args + args))\n",
      "  File \"/home/fabrost/miniconda3/envs/spols200116/lib/python3.7/site-packages/scipy/optimize/optimize.py\", line 327, in function_wrapper\n",
      "    return function(*(wrapper_args + args))\n",
      "  File \"/home/fabrost/miniconda3/envs/spols200116/lib/python3.7/site-packages/scipy/optimize/optimize.py\", line 1028, in _minimize_bfgs\n",
      "    old_fval, old_old_fval, amin=1e-100, amax=1e100)\n",
      "  File \"/home/fabrost/miniconda3/envs/spols200116/lib/python3.7/site-packages/scipy/optimize/optimize.py\", line 845, in _line_search_wolfe12\n",
      "    **kwargs)\n",
      "  File \"/home/fabrost/miniconda3/envs/spols200116/lib/python3.7/site-packages/scipy/optimize/optimize.py\", line 1028, in _minimize_bfgs\n",
      "    old_fval, old_old_fval, amin=1e-100, amax=1e100)\n",
      "  File \"/home/fabrost/pksCloud/projects/c14/source/c14/c14/optimize.py\", line 258, in <lambda>\n",
      "    res = sp.optimize.minimize(lambda x: self.Nloglike(x, copy.deepcopy(self.model)), p0)\n",
      "  File \"/home/fabrost/miniconda3/envs/spols200116/lib/python3.7/site-packages/scipy/optimize/optimize.py\", line 845, in _line_search_wolfe12\n",
      "    **kwargs)\n",
      "  File \"/home/fabrost/pksCloud/projects/c14/source/c14/c14/optimize.py\", line 151, in Nloglike\n",
      "    method='RK45')\n",
      "  File \"/home/fabrost/miniconda3/envs/spols200116/lib/python3.7/site-packages/scipy/optimize/optimize.py\", line 864, in _line_search_wolfe12\n",
      "    **kwargs2)\n",
      "  File \"/home/fabrost/miniconda3/envs/spols200116/lib/python3.7/site-packages/scipy/optimize/linesearch.py\", line 101, in line_search_wolfe1\n",
      "    c1=c1, c2=c2, amax=amax, amin=amin, xtol=xtol)\n",
      "  File \"/home/fabrost/miniconda3/envs/spols200116/lib/python3.7/site-packages/scipy/optimize/linesearch.py\", line 101, in line_search_wolfe1\n",
      "    c1=c1, c2=c2, amax=amax, amin=amin, xtol=xtol)\n",
      "  File \"/home/fabrost/miniconda3/envs/spols200116/lib/python3.7/site-packages/scipy/integrate/_ivp/ivp.py\", line 577, in solve_ivp\n",
      "    message = solver.step()\n",
      "  File \"/home/fabrost/pksCloud/projects/c14/source/c14/c14/optimize.py\", line 258, in <lambda>\n",
      "    res = sp.optimize.minimize(lambda x: self.Nloglike(x, copy.deepcopy(self.model)), p0)\n",
      "  File \"/home/fabrost/miniconda3/envs/spols200116/lib/python3.7/site-packages/scipy/optimize/linesearch.py\", line 176, in scalar_search_wolfe1\n",
      "    derphi1 = derphi(stp)\n",
      "  File \"/home/fabrost/miniconda3/envs/spols200116/lib/python3.7/site-packages/scipy/integrate/_ivp/base.py\", line 182, in step\n",
      "    success, message = self._step_impl()\n",
      "  File \"/home/fabrost/miniconda3/envs/spols200116/lib/python3.7/site-packages/scipy/optimize/linesearch.py\", line 176, in scalar_search_wolfe1\n",
      "    derphi1 = derphi(stp)\n",
      "  File \"/home/fabrost/pksCloud/projects/c14/source/c14/c14/optimize.py\", line 171, in Nloglike\n",
      "    if residual.isnull().values.any():\n",
      "  File \"/home/fabrost/miniconda3/envs/spols200116/lib/python3.7/site-packages/scipy/integrate/_ivp/rk.py\", line 172, in _step_impl\n",
      "    self.y = y_new\n",
      "  File \"/home/fabrost/miniconda3/envs/spols200116/lib/python3.7/site-packages/scipy/optimize/linesearch.py\", line 90, in derphi\n",
      "    gval[0] = fprime(xk + s*pk, *newargs)\n",
      "  File \"/home/fabrost/miniconda3/envs/spols200116/lib/python3.7/site-packages/scipy/optimize/linesearch.py\", line 311, in line_search_wolfe2\n",
      "    extra_condition2, maxiter=maxiter)\n",
      "  File \"/home/fabrost/miniconda3/envs/spols200116/lib/python3.7/site-packages/pandas/core/series.py\", line 4406, in isnull\n",
      "    return super().isnull()\n",
      "  File \"/home/fabrost/miniconda3/envs/spols200116/lib/python3.7/site-packages/scipy/optimize/optimize.py\", line 327, in function_wrapper\n",
      "    return function(*(wrapper_args + args))\n",
      "KeyboardInterrupt\n",
      "  File \"/home/fabrost/miniconda3/envs/spols200116/lib/python3.7/site-packages/scipy/optimize/linesearch.py\", line 434, in scalar_search_wolfe2\n",
      "    phi0, derphi0, c1, c2, extra_condition)\n",
      "  File \"/home/fabrost/miniconda3/envs/spols200116/lib/python3.7/site-packages/pandas/core/generic.py\", line 7270, in isnull\n",
      "    return isna(self).__finalize__(self)\n",
      "  File \"/home/fabrost/miniconda3/envs/spols200116/lib/python3.7/site-packages/scipy/optimize/optimize.py\", line 765, in approx_fprime\n",
      "    return _approx_fprime_helper(xk, f, epsilon, args=args)\n",
      "  File \"/home/fabrost/miniconda3/envs/spols200116/lib/python3.7/site-packages/scipy/optimize/linesearch.py\", line 579, in _zoom\n",
      "    derphi_aj = derphi(a_j)\n",
      "  File \"/home/fabrost/miniconda3/envs/spols200116/lib/python3.7/site-packages/pandas/core/dtypes/missing.py\", line 126, in isna\n",
      "    return _isna(obj)\n",
      "  File \"/home/fabrost/miniconda3/envs/spols200116/lib/python3.7/site-packages/scipy/optimize/optimize.py\", line 691, in _approx_fprime_helper\n",
      "    f0 = f(*((xk,) + args))\n",
      "  File \"/home/fabrost/miniconda3/envs/spols200116/lib/python3.7/site-packages/scipy/optimize/linesearch.py\", line 290, in derphi\n",
      "    gval[0] = fprime(xk + alpha * pk, *args)  # store for later use\n",
      "  File \"/home/fabrost/miniconda3/envs/spols200116/lib/python3.7/site-packages/pandas/core/dtypes/missing.py\", line 152, in _isna_new\n",
      "    return _isna_ndarraylike(obj)\n",
      "  File \"/home/fabrost/miniconda3/envs/spols200116/lib/python3.7/site-packages/scipy/optimize/linesearch.py\", line 90, in derphi\n",
      "    gval[0] = fprime(xk + s*pk, *newargs)\n",
      "  File \"/home/fabrost/miniconda3/envs/spols200116/lib/python3.7/site-packages/scipy/optimize/optimize.py\", line 327, in function_wrapper\n",
      "    return function(*(wrapper_args + args))\n",
      "  File \"/home/fabrost/miniconda3/envs/spols200116/lib/python3.7/site-packages/scipy/optimize/optimize.py\", line 327, in function_wrapper\n",
      "    return function(*(wrapper_args + args))\n",
      "  File \"/home/fabrost/miniconda3/envs/spols200116/lib/python3.7/site-packages/pandas/core/dtypes/missing.py\", line 231, in _isna_ndarraylike\n",
      "    values = getattr(obj, \"values\", obj)\n",
      "  File \"/home/fabrost/pksCloud/projects/c14/source/c14/c14/optimize.py\", line 258, in <lambda>\n",
      "    res = sp.optimize.minimize(lambda x: self.Nloglike(x, copy.deepcopy(self.model)), p0)\n",
      "  File \"/home/fabrost/miniconda3/envs/spols200116/lib/python3.7/site-packages/scipy/optimize/optimize.py\", line 327, in function_wrapper\n",
      "    return function(*(wrapper_args + args))\n",
      "  File \"/home/fabrost/miniconda3/envs/spols200116/lib/python3.7/site-packages/scipy/optimize/optimize.py\", line 765, in approx_fprime\n",
      "    return _approx_fprime_helper(xk, f, epsilon, args=args)\n",
      "KeyboardInterrupt\n",
      "  File \"/home/fabrost/miniconda3/envs/spols200116/lib/python3.7/site-packages/scipy/optimize/optimize.py\", line 765, in approx_fprime\n",
      "    return _approx_fprime_helper(xk, f, epsilon, args=args)\n",
      "  File \"/home/fabrost/miniconda3/envs/spols200116/lib/python3.7/site-packages/scipy/optimize/optimize.py\", line 691, in _approx_fprime_helper\n",
      "    f0 = f(*((xk,) + args))\n",
      "  File \"/home/fabrost/pksCloud/projects/c14/source/c14/c14/optimize.py\", line 151, in Nloglike\n",
      "    method='RK45')\n",
      "  File \"/home/fabrost/miniconda3/envs/spols200116/lib/python3.7/site-packages/scipy/optimize/optimize.py\", line 691, in _approx_fprime_helper\n",
      "    f0 = f(*((xk,) + args))\n",
      "  File \"/home/fabrost/miniconda3/envs/spols200116/lib/python3.7/site-packages/scipy/optimize/optimize.py\", line 327, in function_wrapper\n",
      "    return function(*(wrapper_args + args))\n",
      "  File \"/home/fabrost/miniconda3/envs/spols200116/lib/python3.7/site-packages/scipy/integrate/_ivp/ivp.py\", line 577, in solve_ivp\n",
      "    message = solver.step()\n",
      "  File \"/home/fabrost/miniconda3/envs/spols200116/lib/python3.7/site-packages/scipy/optimize/optimize.py\", line 327, in function_wrapper\n",
      "    return function(*(wrapper_args + args))\n",
      "  File \"/home/fabrost/pksCloud/projects/c14/source/c14/c14/optimize.py\", line 258, in <lambda>\n",
      "    res = sp.optimize.minimize(lambda x: self.Nloglike(x, copy.deepcopy(self.model)), p0)\n",
      "  File \"/home/fabrost/miniconda3/envs/spols200116/lib/python3.7/site-packages/scipy/integrate/_ivp/base.py\", line 182, in step\n",
      "    success, message = self._step_impl()\n",
      "  File \"/home/fabrost/pksCloud/projects/c14/source/c14/c14/optimize.py\", line 258, in <lambda>\n",
      "    res = sp.optimize.minimize(lambda x: self.Nloglike(x, copy.deepcopy(self.model)), p0)\n",
      "  File \"/home/fabrost/pksCloud/projects/c14/source/c14/c14/optimize.py\", line 151, in Nloglike\n",
      "    method='RK45')\n",
      "  File \"/home/fabrost/miniconda3/envs/spols200116/lib/python3.7/site-packages/scipy/integrate/_ivp/ivp.py\", line 577, in solve_ivp\n",
      "    message = solver.step()\n",
      "  File \"/home/fabrost/pksCloud/projects/c14/source/c14/c14/optimize.py\", line 151, in Nloglike\n",
      "    method='RK45')\n",
      "  File \"/home/fabrost/miniconda3/envs/spols200116/lib/python3.7/site-packages/scipy/integrate/_ivp/rk.py\", line 146, in _step_impl\n",
      "    self.B, self.C, self.K)\n",
      "  File \"/home/fabrost/miniconda3/envs/spols200116/lib/python3.7/site-packages/scipy/integrate/_ivp/base.py\", line 182, in step\n",
      "    success, message = self._step_impl()\n",
      "  File \"/home/fabrost/miniconda3/envs/spols200116/lib/python3.7/site-packages/scipy/integrate/_ivp/ivp.py\", line 577, in solve_ivp\n",
      "    message = solver.step()\n",
      "  File \"/home/fabrost/miniconda3/envs/spols200116/lib/python3.7/site-packages/scipy/integrate/_ivp/rk.py\", line 146, in _step_impl\n",
      "    self.B, self.C, self.K)\n",
      "  File \"/home/fabrost/miniconda3/envs/spols200116/lib/python3.7/site-packages/scipy/integrate/_ivp/rk.py\", line 65, in rk_step\n",
      "    K[s] = fun(t + c * h, y + dy)\n",
      "  File \"/home/fabrost/miniconda3/envs/spols200116/lib/python3.7/site-packages/scipy/integrate/_ivp/base.py\", line 182, in step\n",
      "    success, message = self._step_impl()\n",
      "  File \"/home/fabrost/miniconda3/envs/spols200116/lib/python3.7/site-packages/scipy/integrate/_ivp/base.py\", line 139, in fun\n",
      "    return self.fun_single(t, y)\n",
      "  File \"/home/fabrost/miniconda3/envs/spols200116/lib/python3.7/site-packages/scipy/integrate/_ivp/rk.py\", line 146, in _step_impl\n",
      "    self.B, self.C, self.K)\n",
      "  File \"/home/fabrost/miniconda3/envs/spols200116/lib/python3.7/site-packages/scipy/integrate/_ivp/rk.py\", line 65, in rk_step\n",
      "    K[s] = fun(t + c * h, y + dy)\n",
      "  File \"/home/fabrost/miniconda3/envs/spols200116/lib/python3.7/site-packages/scipy/integrate/_ivp/rk.py\", line 68, in rk_step\n",
      "    f_new = fun(t + h, y_new)\n",
      "  File \"/home/fabrost/miniconda3/envs/spols200116/lib/python3.7/site-packages/scipy/integrate/_ivp/base.py\", line 139, in fun\n",
      "    return self.fun_single(t, y)\n",
      "  File \"/home/fabrost/miniconda3/envs/spols200116/lib/python3.7/site-packages/scipy/integrate/_ivp/base.py\", line 21, in fun_wrapped\n",
      "    return np.asarray(fun(t, y), dtype=dtype)\n",
      "  File \"/home/fabrost/miniconda3/envs/spols200116/lib/python3.7/site-packages/scipy/integrate/_ivp/base.py\", line 21, in fun_wrapped\n",
      "    return np.asarray(fun(t, y), dtype=dtype)\n",
      "  File \"/home/fabrost/pksCloud/projects/c14/source/c14/c14/models/liver.py\", line 105, in rhs\n",
      "    M_new[self.n2] = 2*M[self.n2]*kappa42 - 2*M[self.n4]*kappa42 - M[self.n2]*r2 + r2*self.Catm.lin(Dbirth + t) + (2*(-M[self.n2] + M[self.n4])*kappa42)/ploidy(t)\n",
      "  File \"/home/fabrost/miniconda3/envs/spols200116/lib/python3.7/site-packages/scipy/integrate/_ivp/base.py\", line 139, in fun\n",
      "    return self.fun_single(t, y)\n",
      "  File \"/home/fabrost/pksCloud/projects/c14/source/c14/c14/models/liver.py\", line 105, in rhs\n",
      "    M_new[self.n2] = 2*M[self.n2]*kappa42 - 2*M[self.n4]*kappa42 - M[self.n2]*r2 + r2*self.Catm.lin(Dbirth + t) + (2*(-M[self.n2] + M[self.n4])*kappa42)/ploidy(t)\n",
      "KeyboardInterrupt\n",
      "  File \"/home/fabrost/miniconda3/envs/spols200116/lib/python3.7/site-packages/scipy/integrate/_ivp/base.py\", line 21, in fun_wrapped\n",
      "    return np.asarray(fun(t, y), dtype=dtype)\n",
      "KeyboardInterrupt\n"
     ]
    },
    {
     "ename": "KeyboardInterrupt",
     "evalue": "",
     "output_type": "error",
     "traceback": [
      "\u001b[0;31m---------------------------------------------------------------------------\u001b[0m",
      "\u001b[0;31mKeyboardInterrupt\u001b[0m                         Traceback (most recent call last)",
      "\u001b[0;32m<timed exec>\u001b[0m in \u001b[0;36m<module>\u001b[0;34m\u001b[0m\n",
      "\u001b[0;32m<ipython-input-13-1a338d97a76f>\u001b[0m in \u001b[0;36mfit_models\u001b[0;34m(edata, models, step_size, optimize_minuit_multistart_kwargs)\u001b[0m\n\u001b[1;32m      1\u001b[0m \u001b[0;32mdef\u001b[0m \u001b[0mfit_models\u001b[0m\u001b[0;34m(\u001b[0m\u001b[0medata\u001b[0m\u001b[0;34m,\u001b[0m \u001b[0mmodels\u001b[0m\u001b[0;34m,\u001b[0m \u001b[0mstep_size\u001b[0m\u001b[0;34m=\u001b[0m\u001b[0;36m0.1\u001b[0m\u001b[0;34m,\u001b[0m \u001b[0moptimize_minuit_multistart_kwargs\u001b[0m\u001b[0;34m=\u001b[0m\u001b[0mdict\u001b[0m\u001b[0;34m(\u001b[0m\u001b[0mn\u001b[0m\u001b[0;34m=\u001b[0m\u001b[0;36m100\u001b[0m\u001b[0;34m,\u001b[0m\u001b[0mprocesses\u001b[0m\u001b[0;34m=\u001b[0m\u001b[0;36m8\u001b[0m\u001b[0;34m)\u001b[0m\u001b[0;34m)\u001b[0m\u001b[0;34m:\u001b[0m\u001b[0;34m\u001b[0m\u001b[0;34m\u001b[0m\u001b[0m\n\u001b[1;32m      2\u001b[0m     results = {model.__name__: fit_model(edata, model, step_size, optimize_minuit_multistart_kwargs)\n\u001b[0;32m----> 3\u001b[0;31m                for model in models}\n\u001b[0m\u001b[1;32m      4\u001b[0m     \u001b[0;32mreturn\u001b[0m \u001b[0mresults\u001b[0m\u001b[0;34m\u001b[0m\u001b[0;34m\u001b[0m\u001b[0m\n",
      "\u001b[0;32m<ipython-input-13-1a338d97a76f>\u001b[0m in \u001b[0;36m<dictcomp>\u001b[0;34m(.0)\u001b[0m\n\u001b[1;32m      1\u001b[0m \u001b[0;32mdef\u001b[0m \u001b[0mfit_models\u001b[0m\u001b[0;34m(\u001b[0m\u001b[0medata\u001b[0m\u001b[0;34m,\u001b[0m \u001b[0mmodels\u001b[0m\u001b[0;34m,\u001b[0m \u001b[0mstep_size\u001b[0m\u001b[0;34m=\u001b[0m\u001b[0;36m0.1\u001b[0m\u001b[0;34m,\u001b[0m \u001b[0moptimize_minuit_multistart_kwargs\u001b[0m\u001b[0;34m=\u001b[0m\u001b[0mdict\u001b[0m\u001b[0;34m(\u001b[0m\u001b[0mn\u001b[0m\u001b[0;34m=\u001b[0m\u001b[0;36m100\u001b[0m\u001b[0;34m,\u001b[0m\u001b[0mprocesses\u001b[0m\u001b[0;34m=\u001b[0m\u001b[0;36m8\u001b[0m\u001b[0;34m)\u001b[0m\u001b[0;34m)\u001b[0m\u001b[0;34m:\u001b[0m\u001b[0;34m\u001b[0m\u001b[0;34m\u001b[0m\u001b[0m\n\u001b[1;32m      2\u001b[0m     results = {model.__name__: fit_model(edata, model, step_size, optimize_minuit_multistart_kwargs)\n\u001b[0;32m----> 3\u001b[0;31m                for model in models}\n\u001b[0m\u001b[1;32m      4\u001b[0m     \u001b[0;32mreturn\u001b[0m \u001b[0mresults\u001b[0m\u001b[0;34m\u001b[0m\u001b[0;34m\u001b[0m\u001b[0m\n",
      "\u001b[0;32m~/miniconda3/envs/spols200116/lib/python3.7/site-packages/joblib/memory.py\u001b[0m in \u001b[0;36m__call__\u001b[0;34m(self, *args, **kwargs)\u001b[0m\n\u001b[1;32m    566\u001b[0m \u001b[0;34m\u001b[0m\u001b[0m\n\u001b[1;32m    567\u001b[0m     \u001b[0;32mdef\u001b[0m \u001b[0m__call__\u001b[0m\u001b[0;34m(\u001b[0m\u001b[0mself\u001b[0m\u001b[0;34m,\u001b[0m \u001b[0;34m*\u001b[0m\u001b[0margs\u001b[0m\u001b[0;34m,\u001b[0m \u001b[0;34m**\u001b[0m\u001b[0mkwargs\u001b[0m\u001b[0;34m)\u001b[0m\u001b[0;34m:\u001b[0m\u001b[0;34m\u001b[0m\u001b[0;34m\u001b[0m\u001b[0m\n\u001b[0;32m--> 568\u001b[0;31m         \u001b[0;32mreturn\u001b[0m \u001b[0mself\u001b[0m\u001b[0;34m.\u001b[0m\u001b[0m_cached_call\u001b[0m\u001b[0;34m(\u001b[0m\u001b[0margs\u001b[0m\u001b[0;34m,\u001b[0m \u001b[0mkwargs\u001b[0m\u001b[0;34m)\u001b[0m\u001b[0;34m[\u001b[0m\u001b[0;36m0\u001b[0m\u001b[0;34m]\u001b[0m\u001b[0;34m\u001b[0m\u001b[0;34m\u001b[0m\u001b[0m\n\u001b[0m\u001b[1;32m    569\u001b[0m \u001b[0;34m\u001b[0m\u001b[0m\n\u001b[1;32m    570\u001b[0m     \u001b[0;32mdef\u001b[0m \u001b[0m__getstate__\u001b[0m\u001b[0;34m(\u001b[0m\u001b[0mself\u001b[0m\u001b[0;34m)\u001b[0m\u001b[0;34m:\u001b[0m\u001b[0;34m\u001b[0m\u001b[0;34m\u001b[0m\u001b[0m\n",
      "\u001b[0;32m~/miniconda3/envs/spols200116/lib/python3.7/site-packages/joblib/memory.py\u001b[0m in \u001b[0;36m_cached_call\u001b[0;34m(self, args, kwargs, shelving)\u001b[0m\n\u001b[1;32m    532\u001b[0m \u001b[0;34m\u001b[0m\u001b[0m\n\u001b[1;32m    533\u001b[0m         \u001b[0;32mif\u001b[0m \u001b[0mmust_call\u001b[0m\u001b[0;34m:\u001b[0m\u001b[0;34m\u001b[0m\u001b[0;34m\u001b[0m\u001b[0m\n\u001b[0;32m--> 534\u001b[0;31m             \u001b[0mout\u001b[0m\u001b[0;34m,\u001b[0m \u001b[0mmetadata\u001b[0m \u001b[0;34m=\u001b[0m \u001b[0mself\u001b[0m\u001b[0;34m.\u001b[0m\u001b[0mcall\u001b[0m\u001b[0;34m(\u001b[0m\u001b[0;34m*\u001b[0m\u001b[0margs\u001b[0m\u001b[0;34m,\u001b[0m \u001b[0;34m**\u001b[0m\u001b[0mkwargs\u001b[0m\u001b[0;34m)\u001b[0m\u001b[0;34m\u001b[0m\u001b[0;34m\u001b[0m\u001b[0m\n\u001b[0m\u001b[1;32m    535\u001b[0m             \u001b[0;32mif\u001b[0m \u001b[0mself\u001b[0m\u001b[0;34m.\u001b[0m\u001b[0mmmap_mode\u001b[0m \u001b[0;32mis\u001b[0m \u001b[0;32mnot\u001b[0m \u001b[0;32mNone\u001b[0m\u001b[0;34m:\u001b[0m\u001b[0;34m\u001b[0m\u001b[0;34m\u001b[0m\u001b[0m\n\u001b[1;32m    536\u001b[0m                 \u001b[0;31m# Memmap the output at the first call to be consistent with\u001b[0m\u001b[0;34m\u001b[0m\u001b[0;34m\u001b[0m\u001b[0;34m\u001b[0m\u001b[0m\n",
      "\u001b[0;32m~/miniconda3/envs/spols200116/lib/python3.7/site-packages/joblib/memory.py\u001b[0m in \u001b[0;36mcall\u001b[0;34m(self, *args, **kwargs)\u001b[0m\n\u001b[1;32m    732\u001b[0m         \u001b[0;32mif\u001b[0m \u001b[0mself\u001b[0m\u001b[0;34m.\u001b[0m\u001b[0m_verbose\u001b[0m \u001b[0;34m>\u001b[0m \u001b[0;36m0\u001b[0m\u001b[0;34m:\u001b[0m\u001b[0;34m\u001b[0m\u001b[0;34m\u001b[0m\u001b[0m\n\u001b[1;32m    733\u001b[0m             \u001b[0mprint\u001b[0m\u001b[0;34m(\u001b[0m\u001b[0mformat_call\u001b[0m\u001b[0;34m(\u001b[0m\u001b[0mself\u001b[0m\u001b[0;34m.\u001b[0m\u001b[0mfunc\u001b[0m\u001b[0;34m,\u001b[0m \u001b[0margs\u001b[0m\u001b[0;34m,\u001b[0m \u001b[0mkwargs\u001b[0m\u001b[0;34m)\u001b[0m\u001b[0;34m)\u001b[0m\u001b[0;34m\u001b[0m\u001b[0;34m\u001b[0m\u001b[0m\n\u001b[0;32m--> 734\u001b[0;31m         \u001b[0moutput\u001b[0m \u001b[0;34m=\u001b[0m \u001b[0mself\u001b[0m\u001b[0;34m.\u001b[0m\u001b[0mfunc\u001b[0m\u001b[0;34m(\u001b[0m\u001b[0;34m*\u001b[0m\u001b[0margs\u001b[0m\u001b[0;34m,\u001b[0m \u001b[0;34m**\u001b[0m\u001b[0mkwargs\u001b[0m\u001b[0;34m)\u001b[0m\u001b[0;34m\u001b[0m\u001b[0;34m\u001b[0m\u001b[0m\n\u001b[0m\u001b[1;32m    735\u001b[0m         self.store_backend.dump_item(\n\u001b[1;32m    736\u001b[0m             [func_id, args_id], output, verbose=self._verbose)\n",
      "\u001b[0;32m<ipython-input-12-880d3e3a18a1>\u001b[0m in \u001b[0;36mfit_model\u001b[0;34m(edata, model, step_size, optimize_minuit_multistart_kwargs)\u001b[0m\n\u001b[1;32m      5\u001b[0m     \u001b[0mresult\u001b[0m\u001b[0;34m[\u001b[0m\u001b[0;34m'op'\u001b[0m\u001b[0;34m]\u001b[0m \u001b[0;34m=\u001b[0m \u001b[0mc14\u001b[0m\u001b[0;34m.\u001b[0m\u001b[0moptimize\u001b[0m\u001b[0;34m(\u001b[0m\u001b[0mmodel\u001b[0m\u001b[0;34m=\u001b[0m\u001b[0mresult\u001b[0m\u001b[0;34m[\u001b[0m\u001b[0;34m'model'\u001b[0m\u001b[0;34m]\u001b[0m\u001b[0;34m.\u001b[0m\u001b[0mcopy\u001b[0m\u001b[0;34m(\u001b[0m\u001b[0;34m)\u001b[0m\u001b[0;34m,\u001b[0m\u001b[0mdata\u001b[0m\u001b[0;34m=\u001b[0m\u001b[0medata\u001b[0m\u001b[0;34m,\u001b[0m\u001b[0mstep_size\u001b[0m\u001b[0;34m=\u001b[0m\u001b[0mstep_size\u001b[0m\u001b[0;34m)\u001b[0m\u001b[0;34m\u001b[0m\u001b[0;34m\u001b[0m\u001b[0m\n\u001b[1;32m      6\u001b[0m     \u001b[0mresult\u001b[0m\u001b[0;34m[\u001b[0m\u001b[0;34m'vis'\u001b[0m\u001b[0;34m]\u001b[0m \u001b[0;34m=\u001b[0m \u001b[0mc14\u001b[0m\u001b[0;34m.\u001b[0m\u001b[0mvisualisze\u001b[0m\u001b[0;34m(\u001b[0m\u001b[0mmodel\u001b[0m\u001b[0;34m=\u001b[0m\u001b[0mresult\u001b[0m\u001b[0;34m[\u001b[0m\u001b[0;34m'model'\u001b[0m\u001b[0;34m]\u001b[0m\u001b[0;34m.\u001b[0m\u001b[0mcopy\u001b[0m\u001b[0;34m(\u001b[0m\u001b[0;34m)\u001b[0m\u001b[0;34m,\u001b[0m\u001b[0mdata\u001b[0m\u001b[0;34m=\u001b[0m\u001b[0medata\u001b[0m\u001b[0;34m,\u001b[0m\u001b[0mstep_size\u001b[0m\u001b[0;34m=\u001b[0m\u001b[0mstep_size\u001b[0m\u001b[0;34m)\u001b[0m\u001b[0;34m\u001b[0m\u001b[0;34m\u001b[0m\u001b[0m\n\u001b[0;32m----> 7\u001b[0;31m     \u001b[0mresult\u001b[0m\u001b[0;34m[\u001b[0m\u001b[0;34m'multistart_result'\u001b[0m\u001b[0;34m]\u001b[0m \u001b[0;34m=\u001b[0m \u001b[0mresult\u001b[0m\u001b[0;34m[\u001b[0m\u001b[0;34m'op'\u001b[0m\u001b[0;34m]\u001b[0m\u001b[0;34m.\u001b[0m\u001b[0moptimize_minuit_multistart\u001b[0m\u001b[0;34m(\u001b[0m\u001b[0;34m**\u001b[0m\u001b[0moptimize_minuit_multistart_kwargs\u001b[0m\u001b[0;34m)\u001b[0m\u001b[0;34m\u001b[0m\u001b[0;34m\u001b[0m\u001b[0m\n\u001b[0m\u001b[1;32m      8\u001b[0m     \u001b[0;32mtry\u001b[0m\u001b[0;34m:\u001b[0m\u001b[0;34m\u001b[0m\u001b[0;34m\u001b[0m\u001b[0m\n\u001b[1;32m      9\u001b[0m         \u001b[0mresult\u001b[0m\u001b[0;34m[\u001b[0m\u001b[0;34m'point_estimate'\u001b[0m\u001b[0;34m]\u001b[0m \u001b[0;34m=\u001b[0m \u001b[0mresult\u001b[0m\u001b[0;34m[\u001b[0m\u001b[0;34m'multistart_result'\u001b[0m\u001b[0;34m]\u001b[0m\u001b[0;34m.\u001b[0m\u001b[0msort_values\u001b[0m\u001b[0;34m(\u001b[0m\u001b[0;34m'fval'\u001b[0m\u001b[0;34m)\u001b[0m\u001b[0;34m.\u001b[0m\u001b[0miloc\u001b[0m\u001b[0;34m[\u001b[0m\u001b[0;36m0\u001b[0m\u001b[0;34m]\u001b[0m\u001b[0;34m[\u001b[0m\u001b[0;34m'values'\u001b[0m\u001b[0;34m]\u001b[0m\u001b[0;34m\u001b[0m\u001b[0;34m\u001b[0m\u001b[0m\n",
      "\u001b[0;32m~/pksCloud/projects/c14/source/c14/c14/optimize.py\u001b[0m in \u001b[0;36moptimize_minuit_multistart\u001b[0;34m(self, processes, return_with_error, mode, perror, init_limit, n, seed, nwalkers, steps)\u001b[0m\n\u001b[1;32m    222\u001b[0m         \u001b[0;32mwith\u001b[0m \u001b[0mPool\u001b[0m\u001b[0;34m(\u001b[0m\u001b[0mprocesses\u001b[0m\u001b[0;34m=\u001b[0m\u001b[0mprocesses\u001b[0m\u001b[0;34m)\u001b[0m \u001b[0;32mas\u001b[0m \u001b[0mpool\u001b[0m\u001b[0;34m:\u001b[0m\u001b[0;34m\u001b[0m\u001b[0;34m\u001b[0m\u001b[0m\n\u001b[1;32m    223\u001b[0m             \u001b[0mres_pool\u001b[0m \u001b[0;34m=\u001b[0m \u001b[0;34m[\u001b[0m\u001b[0mpool\u001b[0m\u001b[0;34m.\u001b[0m\u001b[0mapply_async\u001b[0m\u001b[0;34m(\u001b[0m \u001b[0mself\u001b[0m\u001b[0;34m.\u001b[0m\u001b[0moptimize_minuit\u001b[0m\u001b[0;34m,\u001b[0m\u001b[0;34m(\u001b[0m\u001b[0mp0\u001b[0m\u001b[0;34m,\u001b[0m \u001b[0merror\u001b[0m\u001b[0;34m,\u001b[0m\u001b[0;34m)\u001b[0m  \u001b[0;34m)\u001b[0m \u001b[0;32mfor\u001b[0m \u001b[0mp0\u001b[0m \u001b[0;32min\u001b[0m \u001b[0mp0s\u001b[0m\u001b[0;34m]\u001b[0m\u001b[0;34m\u001b[0m\u001b[0;34m\u001b[0m\u001b[0m\n\u001b[0;32m--> 224\u001b[0;31m             \u001b[0mres\u001b[0m \u001b[0;34m=\u001b[0m \u001b[0;34m[\u001b[0m\u001b[0mres_p\u001b[0m\u001b[0;34m.\u001b[0m\u001b[0mget\u001b[0m\u001b[0;34m(\u001b[0m\u001b[0;34m)\u001b[0m \u001b[0;32mfor\u001b[0m \u001b[0mres_p\u001b[0m \u001b[0;32min\u001b[0m \u001b[0mres_pool\u001b[0m\u001b[0;34m]\u001b[0m\u001b[0;34m\u001b[0m\u001b[0;34m\u001b[0m\u001b[0m\n\u001b[0m\u001b[1;32m    225\u001b[0m         \u001b[0mres\u001b[0m \u001b[0;34m=\u001b[0m \u001b[0;34m[\u001b[0m\u001b[0;34m[\u001b[0m\u001b[0;34m{\u001b[0m\u001b[0mn\u001b[0m\u001b[0;34m:\u001b[0m\u001b[0mp\u001b[0m \u001b[0;32mfor\u001b[0m \u001b[0mn\u001b[0m\u001b[0;34m,\u001b[0m \u001b[0mp\u001b[0m \u001b[0;32min\u001b[0m \u001b[0mzip\u001b[0m\u001b[0;34m(\u001b[0m\u001b[0mself\u001b[0m\u001b[0;34m.\u001b[0m\u001b[0mmodel\u001b[0m\u001b[0;34m.\u001b[0m\u001b[0mparameter_names\u001b[0m\u001b[0;34m,\u001b[0m \u001b[0mp0\u001b[0m\u001b[0;34m)\u001b[0m\u001b[0;34m}\u001b[0m\u001b[0;34m]\u001b[0m \u001b[0;34m+\u001b[0m \u001b[0mlist\u001b[0m\u001b[0;34m(\u001b[0m\u001b[0mr\u001b[0m\u001b[0;34m)\u001b[0m \u001b[0;32mfor\u001b[0m \u001b[0mp0\u001b[0m\u001b[0;34m,\u001b[0m \u001b[0mr\u001b[0m \u001b[0;32min\u001b[0m \u001b[0mzip\u001b[0m\u001b[0;34m(\u001b[0m\u001b[0mp0s\u001b[0m\u001b[0;34m,\u001b[0m \u001b[0mres\u001b[0m\u001b[0;34m)\u001b[0m\u001b[0;34m]\u001b[0m\u001b[0;34m\u001b[0m\u001b[0;34m\u001b[0m\u001b[0m\n\u001b[1;32m    226\u001b[0m         \u001b[0mres\u001b[0m \u001b[0;34m=\u001b[0m \u001b[0mpd\u001b[0m\u001b[0;34m.\u001b[0m\u001b[0mDataFrame\u001b[0m\u001b[0;34m(\u001b[0m\u001b[0mres\u001b[0m\u001b[0;34m,\u001b[0m \u001b[0mcolumns\u001b[0m\u001b[0;34m=\u001b[0m\u001b[0;34m[\u001b[0m\u001b[0;34m'p0'\u001b[0m\u001b[0;34m,\u001b[0m \u001b[0;34m'values'\u001b[0m\u001b[0;34m,\u001b[0m \u001b[0;34m'errors'\u001b[0m\u001b[0;34m,\u001b[0m \u001b[0;34m'fval'\u001b[0m\u001b[0;34m,\u001b[0m \u001b[0;34m'valid'\u001b[0m\u001b[0;34m,\u001b[0m \u001b[0;34m'corr'\u001b[0m\u001b[0;34m,\u001b[0m \u001b[0;34m'cov'\u001b[0m\u001b[0;34m]\u001b[0m\u001b[0;34m)\u001b[0m\u001b[0;34m\u001b[0m\u001b[0;34m\u001b[0m\u001b[0m\n",
      "\u001b[0;32m~/pksCloud/projects/c14/source/c14/c14/optimize.py\u001b[0m in \u001b[0;36m<listcomp>\u001b[0;34m(.0)\u001b[0m\n\u001b[1;32m    222\u001b[0m         \u001b[0;32mwith\u001b[0m \u001b[0mPool\u001b[0m\u001b[0;34m(\u001b[0m\u001b[0mprocesses\u001b[0m\u001b[0;34m=\u001b[0m\u001b[0mprocesses\u001b[0m\u001b[0;34m)\u001b[0m \u001b[0;32mas\u001b[0m \u001b[0mpool\u001b[0m\u001b[0;34m:\u001b[0m\u001b[0;34m\u001b[0m\u001b[0;34m\u001b[0m\u001b[0m\n\u001b[1;32m    223\u001b[0m             \u001b[0mres_pool\u001b[0m \u001b[0;34m=\u001b[0m \u001b[0;34m[\u001b[0m\u001b[0mpool\u001b[0m\u001b[0;34m.\u001b[0m\u001b[0mapply_async\u001b[0m\u001b[0;34m(\u001b[0m \u001b[0mself\u001b[0m\u001b[0;34m.\u001b[0m\u001b[0moptimize_minuit\u001b[0m\u001b[0;34m,\u001b[0m\u001b[0;34m(\u001b[0m\u001b[0mp0\u001b[0m\u001b[0;34m,\u001b[0m \u001b[0merror\u001b[0m\u001b[0;34m,\u001b[0m\u001b[0;34m)\u001b[0m  \u001b[0;34m)\u001b[0m \u001b[0;32mfor\u001b[0m \u001b[0mp0\u001b[0m \u001b[0;32min\u001b[0m \u001b[0mp0s\u001b[0m\u001b[0;34m]\u001b[0m\u001b[0;34m\u001b[0m\u001b[0;34m\u001b[0m\u001b[0m\n\u001b[0;32m--> 224\u001b[0;31m             \u001b[0mres\u001b[0m \u001b[0;34m=\u001b[0m \u001b[0;34m[\u001b[0m\u001b[0mres_p\u001b[0m\u001b[0;34m.\u001b[0m\u001b[0mget\u001b[0m\u001b[0;34m(\u001b[0m\u001b[0;34m)\u001b[0m \u001b[0;32mfor\u001b[0m \u001b[0mres_p\u001b[0m \u001b[0;32min\u001b[0m \u001b[0mres_pool\u001b[0m\u001b[0;34m]\u001b[0m\u001b[0;34m\u001b[0m\u001b[0;34m\u001b[0m\u001b[0m\n\u001b[0m\u001b[1;32m    225\u001b[0m         \u001b[0mres\u001b[0m \u001b[0;34m=\u001b[0m \u001b[0;34m[\u001b[0m\u001b[0;34m[\u001b[0m\u001b[0;34m{\u001b[0m\u001b[0mn\u001b[0m\u001b[0;34m:\u001b[0m\u001b[0mp\u001b[0m \u001b[0;32mfor\u001b[0m \u001b[0mn\u001b[0m\u001b[0;34m,\u001b[0m \u001b[0mp\u001b[0m \u001b[0;32min\u001b[0m \u001b[0mzip\u001b[0m\u001b[0;34m(\u001b[0m\u001b[0mself\u001b[0m\u001b[0;34m.\u001b[0m\u001b[0mmodel\u001b[0m\u001b[0;34m.\u001b[0m\u001b[0mparameter_names\u001b[0m\u001b[0;34m,\u001b[0m \u001b[0mp0\u001b[0m\u001b[0;34m)\u001b[0m\u001b[0;34m}\u001b[0m\u001b[0;34m]\u001b[0m \u001b[0;34m+\u001b[0m \u001b[0mlist\u001b[0m\u001b[0;34m(\u001b[0m\u001b[0mr\u001b[0m\u001b[0;34m)\u001b[0m \u001b[0;32mfor\u001b[0m \u001b[0mp0\u001b[0m\u001b[0;34m,\u001b[0m \u001b[0mr\u001b[0m \u001b[0;32min\u001b[0m \u001b[0mzip\u001b[0m\u001b[0;34m(\u001b[0m\u001b[0mp0s\u001b[0m\u001b[0;34m,\u001b[0m \u001b[0mres\u001b[0m\u001b[0;34m)\u001b[0m\u001b[0;34m]\u001b[0m\u001b[0;34m\u001b[0m\u001b[0;34m\u001b[0m\u001b[0m\n\u001b[1;32m    226\u001b[0m         \u001b[0mres\u001b[0m \u001b[0;34m=\u001b[0m \u001b[0mpd\u001b[0m\u001b[0;34m.\u001b[0m\u001b[0mDataFrame\u001b[0m\u001b[0;34m(\u001b[0m\u001b[0mres\u001b[0m\u001b[0;34m,\u001b[0m \u001b[0mcolumns\u001b[0m\u001b[0;34m=\u001b[0m\u001b[0;34m[\u001b[0m\u001b[0;34m'p0'\u001b[0m\u001b[0;34m,\u001b[0m \u001b[0;34m'values'\u001b[0m\u001b[0;34m,\u001b[0m \u001b[0;34m'errors'\u001b[0m\u001b[0;34m,\u001b[0m \u001b[0;34m'fval'\u001b[0m\u001b[0;34m,\u001b[0m \u001b[0;34m'valid'\u001b[0m\u001b[0;34m,\u001b[0m \u001b[0;34m'corr'\u001b[0m\u001b[0;34m,\u001b[0m \u001b[0;34m'cov'\u001b[0m\u001b[0;34m]\u001b[0m\u001b[0;34m)\u001b[0m\u001b[0;34m\u001b[0m\u001b[0;34m\u001b[0m\u001b[0m\n",
      "\u001b[0;32m~/miniconda3/envs/spols200116/lib/python3.7/multiprocessing/pool.py\u001b[0m in \u001b[0;36mget\u001b[0;34m(self, timeout)\u001b[0m\n\u001b[1;32m    649\u001b[0m \u001b[0;34m\u001b[0m\u001b[0m\n\u001b[1;32m    650\u001b[0m     \u001b[0;32mdef\u001b[0m \u001b[0mget\u001b[0m\u001b[0;34m(\u001b[0m\u001b[0mself\u001b[0m\u001b[0;34m,\u001b[0m \u001b[0mtimeout\u001b[0m\u001b[0;34m=\u001b[0m\u001b[0;32mNone\u001b[0m\u001b[0;34m)\u001b[0m\u001b[0;34m:\u001b[0m\u001b[0;34m\u001b[0m\u001b[0;34m\u001b[0m\u001b[0m\n\u001b[0;32m--> 651\u001b[0;31m         \u001b[0mself\u001b[0m\u001b[0;34m.\u001b[0m\u001b[0mwait\u001b[0m\u001b[0;34m(\u001b[0m\u001b[0mtimeout\u001b[0m\u001b[0;34m)\u001b[0m\u001b[0;34m\u001b[0m\u001b[0;34m\u001b[0m\u001b[0m\n\u001b[0m\u001b[1;32m    652\u001b[0m         \u001b[0;32mif\u001b[0m \u001b[0;32mnot\u001b[0m \u001b[0mself\u001b[0m\u001b[0;34m.\u001b[0m\u001b[0mready\u001b[0m\u001b[0;34m(\u001b[0m\u001b[0;34m)\u001b[0m\u001b[0;34m:\u001b[0m\u001b[0;34m\u001b[0m\u001b[0;34m\u001b[0m\u001b[0m\n\u001b[1;32m    653\u001b[0m             \u001b[0;32mraise\u001b[0m \u001b[0mTimeoutError\u001b[0m\u001b[0;34m\u001b[0m\u001b[0;34m\u001b[0m\u001b[0m\n",
      "\u001b[0;32m~/miniconda3/envs/spols200116/lib/python3.7/multiprocessing/pool.py\u001b[0m in \u001b[0;36mwait\u001b[0;34m(self, timeout)\u001b[0m\n\u001b[1;32m    646\u001b[0m \u001b[0;34m\u001b[0m\u001b[0m\n\u001b[1;32m    647\u001b[0m     \u001b[0;32mdef\u001b[0m \u001b[0mwait\u001b[0m\u001b[0;34m(\u001b[0m\u001b[0mself\u001b[0m\u001b[0;34m,\u001b[0m \u001b[0mtimeout\u001b[0m\u001b[0;34m=\u001b[0m\u001b[0;32mNone\u001b[0m\u001b[0;34m)\u001b[0m\u001b[0;34m:\u001b[0m\u001b[0;34m\u001b[0m\u001b[0;34m\u001b[0m\u001b[0m\n\u001b[0;32m--> 648\u001b[0;31m         \u001b[0mself\u001b[0m\u001b[0;34m.\u001b[0m\u001b[0m_event\u001b[0m\u001b[0;34m.\u001b[0m\u001b[0mwait\u001b[0m\u001b[0;34m(\u001b[0m\u001b[0mtimeout\u001b[0m\u001b[0;34m)\u001b[0m\u001b[0;34m\u001b[0m\u001b[0;34m\u001b[0m\u001b[0m\n\u001b[0m\u001b[1;32m    649\u001b[0m \u001b[0;34m\u001b[0m\u001b[0m\n\u001b[1;32m    650\u001b[0m     \u001b[0;32mdef\u001b[0m \u001b[0mget\u001b[0m\u001b[0;34m(\u001b[0m\u001b[0mself\u001b[0m\u001b[0;34m,\u001b[0m \u001b[0mtimeout\u001b[0m\u001b[0;34m=\u001b[0m\u001b[0;32mNone\u001b[0m\u001b[0;34m)\u001b[0m\u001b[0;34m:\u001b[0m\u001b[0;34m\u001b[0m\u001b[0;34m\u001b[0m\u001b[0m\n",
      "\u001b[0;32m~/miniconda3/envs/spols200116/lib/python3.7/threading.py\u001b[0m in \u001b[0;36mwait\u001b[0;34m(self, timeout)\u001b[0m\n\u001b[1;32m    550\u001b[0m             \u001b[0msignaled\u001b[0m \u001b[0;34m=\u001b[0m \u001b[0mself\u001b[0m\u001b[0;34m.\u001b[0m\u001b[0m_flag\u001b[0m\u001b[0;34m\u001b[0m\u001b[0;34m\u001b[0m\u001b[0m\n\u001b[1;32m    551\u001b[0m             \u001b[0;32mif\u001b[0m \u001b[0;32mnot\u001b[0m \u001b[0msignaled\u001b[0m\u001b[0;34m:\u001b[0m\u001b[0;34m\u001b[0m\u001b[0;34m\u001b[0m\u001b[0m\n\u001b[0;32m--> 552\u001b[0;31m                 \u001b[0msignaled\u001b[0m \u001b[0;34m=\u001b[0m \u001b[0mself\u001b[0m\u001b[0;34m.\u001b[0m\u001b[0m_cond\u001b[0m\u001b[0;34m.\u001b[0m\u001b[0mwait\u001b[0m\u001b[0;34m(\u001b[0m\u001b[0mtimeout\u001b[0m\u001b[0;34m)\u001b[0m\u001b[0;34m\u001b[0m\u001b[0;34m\u001b[0m\u001b[0m\n\u001b[0m\u001b[1;32m    553\u001b[0m             \u001b[0;32mreturn\u001b[0m \u001b[0msignaled\u001b[0m\u001b[0;34m\u001b[0m\u001b[0;34m\u001b[0m\u001b[0m\n\u001b[1;32m    554\u001b[0m \u001b[0;34m\u001b[0m\u001b[0m\n",
      "\u001b[0;32m~/miniconda3/envs/spols200116/lib/python3.7/threading.py\u001b[0m in \u001b[0;36mwait\u001b[0;34m(self, timeout)\u001b[0m\n\u001b[1;32m    294\u001b[0m         \u001b[0;32mtry\u001b[0m\u001b[0;34m:\u001b[0m    \u001b[0;31m# restore state no matter what (e.g., KeyboardInterrupt)\u001b[0m\u001b[0;34m\u001b[0m\u001b[0;34m\u001b[0m\u001b[0m\n\u001b[1;32m    295\u001b[0m             \u001b[0;32mif\u001b[0m \u001b[0mtimeout\u001b[0m \u001b[0;32mis\u001b[0m \u001b[0;32mNone\u001b[0m\u001b[0;34m:\u001b[0m\u001b[0;34m\u001b[0m\u001b[0;34m\u001b[0m\u001b[0m\n\u001b[0;32m--> 296\u001b[0;31m                 \u001b[0mwaiter\u001b[0m\u001b[0;34m.\u001b[0m\u001b[0macquire\u001b[0m\u001b[0;34m(\u001b[0m\u001b[0;34m)\u001b[0m\u001b[0;34m\u001b[0m\u001b[0;34m\u001b[0m\u001b[0m\n\u001b[0m\u001b[1;32m    297\u001b[0m                 \u001b[0mgotit\u001b[0m \u001b[0;34m=\u001b[0m \u001b[0;32mTrue\u001b[0m\u001b[0;34m\u001b[0m\u001b[0;34m\u001b[0m\u001b[0m\n\u001b[1;32m    298\u001b[0m             \u001b[0;32melse\u001b[0m\u001b[0;34m:\u001b[0m\u001b[0;34m\u001b[0m\u001b[0;34m\u001b[0m\u001b[0m\n",
      "\u001b[0;31mKeyboardInterrupt\u001b[0m: "
     ]
    }
   ],
   "source": [
    "%%time\n",
    "results = fit_models(edata, models, step_size=0.5, \n",
    "                     optimize_minuit_multistart_kwargs=dict(n=100, \n",
    "                                                            processes=7, \n",
    "                                                            init_limit=init_limit)\n",
    "                    )"
   ]
  },
  {
   "cell_type": "code",
   "execution_count": 19,
   "metadata": {},
   "outputs": [],
   "source": [
    "def summarise(results):\n",
    "    parameters = pd.concat(\n",
    "        [result['vis'].get_parameter(result['point_estimate'], \n",
    "                                     result['cov'], \n",
    "                                     t_eval=[20, 50, 80],\n",
    "                                     samples=1000,\n",
    "                                    ignore_physics=True)\n",
    "         .assign(model = name).reset_index() for name, result in results.items()\n",
    "        ], ignore_index=True)\n",
    "\n",
    "    parameters['point_estimate'] = parameters['point_estimate'].astype(float)\n",
    "    parameters['lower'] = parameters['lower'].astype(float)\n",
    "    parameters['upper'] = parameters['upper'].astype(float).replace(np.inf, 1e99)\n",
    "    parameters['parameter'] = parameters['parameter'].astype(str)\n",
    "    parameters['time'] = parameters['time'].astype(str)\n",
    "\n",
    "    parameters['ymin'] = parameters['point_estimate'] - parameters['lower']\n",
    "    parameters['ymax'] = parameters['upper'] - parameters['point_estimate']\n",
    "    return parameters"
   ]
  },
  {
   "cell_type": "code",
   "execution_count": 20,
   "metadata": {},
   "outputs": [
    {
     "ename": "KeyError",
     "evalue": "'point_estimate'",
     "output_type": "error",
     "traceback": [
      "\u001b[0;31m---------------------------------------------------------------------------\u001b[0m",
      "\u001b[0;31mKeyError\u001b[0m                                  Traceback (most recent call last)",
      "\u001b[0;32m<ipython-input-20-9b0ea9c292e3>\u001b[0m in \u001b[0;36m<module>\u001b[0;34m\u001b[0m\n\u001b[0;32m----> 1\u001b[0;31m \u001b[0mparameters\u001b[0m \u001b[0;34m=\u001b[0m \u001b[0msummarise\u001b[0m\u001b[0;34m(\u001b[0m\u001b[0mresults\u001b[0m\u001b[0;34m)\u001b[0m\u001b[0;34m\u001b[0m\u001b[0;34m\u001b[0m\u001b[0m\n\u001b[0m\u001b[1;32m      2\u001b[0m \u001b[0;31m# parameters_young = summarise(results_young)\u001b[0m\u001b[0;34m\u001b[0m\u001b[0;34m\u001b[0m\u001b[0;34m\u001b[0m\u001b[0m\n\u001b[1;32m      3\u001b[0m \u001b[0;31m# parameters_old = summarise(results_old)\u001b[0m\u001b[0;34m\u001b[0m\u001b[0;34m\u001b[0m\u001b[0;34m\u001b[0m\u001b[0m\n",
      "\u001b[0;32m<ipython-input-19-0adc925d3f8c>\u001b[0m in \u001b[0;36msummarise\u001b[0;34m(results)\u001b[0m\n\u001b[1;32m      6\u001b[0m                                      \u001b[0msamples\u001b[0m\u001b[0;34m=\u001b[0m\u001b[0;36m1000\u001b[0m\u001b[0;34m,\u001b[0m\u001b[0;34m\u001b[0m\u001b[0;34m\u001b[0m\u001b[0m\n\u001b[1;32m      7\u001b[0m                                     ignore_physics=True)\n\u001b[0;32m----> 8\u001b[0;31m          \u001b[0;34m.\u001b[0m\u001b[0massign\u001b[0m\u001b[0;34m(\u001b[0m\u001b[0mmodel\u001b[0m \u001b[0;34m=\u001b[0m \u001b[0mname\u001b[0m\u001b[0;34m)\u001b[0m\u001b[0;34m.\u001b[0m\u001b[0mreset_index\u001b[0m\u001b[0;34m(\u001b[0m\u001b[0;34m)\u001b[0m \u001b[0;32mfor\u001b[0m \u001b[0mname\u001b[0m\u001b[0;34m,\u001b[0m \u001b[0mresult\u001b[0m \u001b[0;32min\u001b[0m \u001b[0mresults\u001b[0m\u001b[0;34m.\u001b[0m\u001b[0mitems\u001b[0m\u001b[0;34m(\u001b[0m\u001b[0;34m)\u001b[0m\u001b[0;34m\u001b[0m\u001b[0;34m\u001b[0m\u001b[0m\n\u001b[0m\u001b[1;32m      9\u001b[0m         ], ignore_index=True)\n\u001b[1;32m     10\u001b[0m \u001b[0;34m\u001b[0m\u001b[0m\n",
      "\u001b[0;32m<ipython-input-19-0adc925d3f8c>\u001b[0m in \u001b[0;36m<listcomp>\u001b[0;34m(.0)\u001b[0m\n\u001b[1;32m      6\u001b[0m                                      \u001b[0msamples\u001b[0m\u001b[0;34m=\u001b[0m\u001b[0;36m1000\u001b[0m\u001b[0;34m,\u001b[0m\u001b[0;34m\u001b[0m\u001b[0;34m\u001b[0m\u001b[0m\n\u001b[1;32m      7\u001b[0m                                     ignore_physics=True)\n\u001b[0;32m----> 8\u001b[0;31m          \u001b[0;34m.\u001b[0m\u001b[0massign\u001b[0m\u001b[0;34m(\u001b[0m\u001b[0mmodel\u001b[0m \u001b[0;34m=\u001b[0m \u001b[0mname\u001b[0m\u001b[0;34m)\u001b[0m\u001b[0;34m.\u001b[0m\u001b[0mreset_index\u001b[0m\u001b[0;34m(\u001b[0m\u001b[0;34m)\u001b[0m \u001b[0;32mfor\u001b[0m \u001b[0mname\u001b[0m\u001b[0;34m,\u001b[0m \u001b[0mresult\u001b[0m \u001b[0;32min\u001b[0m \u001b[0mresults\u001b[0m\u001b[0;34m.\u001b[0m\u001b[0mitems\u001b[0m\u001b[0;34m(\u001b[0m\u001b[0;34m)\u001b[0m\u001b[0;34m\u001b[0m\u001b[0;34m\u001b[0m\u001b[0m\n\u001b[0m\u001b[1;32m      9\u001b[0m         ], ignore_index=True)\n\u001b[1;32m     10\u001b[0m \u001b[0;34m\u001b[0m\u001b[0m\n",
      "\u001b[0;31mKeyError\u001b[0m: 'point_estimate'"
     ]
    }
   ],
   "source": [
    "parameters = summarise(results)\n",
    "# parameters_young = summarise(results_young)\n",
    "# parameters_old = summarise(results_old)"
   ]
  },
  {
   "cell_type": "code",
   "execution_count": null,
   "metadata": {},
   "outputs": [],
   "source": [
    "parameters[parameters['lower'] > parameters['point_estimate']]"
   ]
  },
  {
   "cell_type": "code",
   "execution_count": null,
   "metadata": {},
   "outputs": [],
   "source": [
    "parameters[(parameters['upper'] < parameters['point_estimate'])]"
   ]
  },
  {
   "cell_type": "markdown",
   "metadata": {},
   "source": [
    "## Parameter Values"
   ]
  },
  {
   "cell_type": "markdown",
   "metadata": {},
   "source": [
    "### Summarized"
   ]
  },
  {
   "cell_type": "code",
   "execution_count": null,
   "metadata": {},
   "outputs": [],
   "source": [
    "parameters.query('parameter == \"delta2\" and time == \"20\"')"
   ]
  },
  {
   "cell_type": "code",
   "execution_count": null,
   "metadata": {},
   "outputs": [],
   "source": [
    "p_names = parameters['parameter'].unique()\n",
    "# paras = [parameters, parameters_young, parameters_old]\n",
    "\n",
    "fig, axs = plt.subplots(len(p_names), 1, figsize=(3, 30))\n",
    "\n",
    "\n",
    "\n",
    "ylimits = {'delta2': (0, 1),\n",
    "           'p2': (0.5, 1.1),\n",
    "           'p4': (0.5, 1.1),\n",
    "           'kappa24': (0, 0.5),\n",
    "           'kappa42': (0, 1.15),\n",
    "          'ratio_kappa': (0, 10)}\n",
    "\n",
    "for parameter, ax in zip(p_names, axs):\n",
    "    data = parameters[parameters['parameter'] == parameter]\n",
    "    for time, time_data in data.groupby('time'):\n",
    "        ax.errorbar('model', 'point_estimate', time_data[['ymin', 'ymax']].T.abs().values,\n",
    "                    data=time_data, marker='o', ls='None', label=time)\n",
    "        ax.legend()\n",
    "        ax.set_ylabel(parameter)\n",
    "#     try:\n",
    "#         ax.set_ylim(ylimits[parameter])\n",
    "#     except:\n",
    "    ylim = ax.get_ylim()\n",
    "    ax.set_ylim(max(ylim[0], 0), ylim[1])\n",
    "    ax.tick_params(axis='x', labelrotation=45)\n",
    "\n",
    "plt.tight_layout()\n",
    "plt.show()"
   ]
  },
  {
   "cell_type": "markdown",
   "metadata": {},
   "source": [
    "### Detailed"
   ]
  },
  {
   "cell_type": "code",
   "execution_count": null,
   "metadata": {},
   "outputs": [],
   "source": [
    "for name, result in results.items():\n",
    "    if name not in ['']:\n",
    "        no_plot = ['ratio_kappa', 'ratio_f']\n",
    "        fig, axs = plt.subplots(1, 3, figsize=(16,6))\n",
    "        fig.suptitle(name)\n",
    "        result['vis'].plot_parameter(result['point_estimate'], result['errors'],\n",
    "                                         no_plot=no_plot, axis=axs[0])\n",
    "#         result['vis'].plot_parameter(result['point_estimate'], \n",
    "#                                          no_plot=no_plot, axis=axs[0])\n",
    "\n",
    "        axs[0].legend()\n",
    "        axs[0].set_ylabel('parameter values')\n",
    "        axs[0].set_ylim(0, 1)\n",
    "        axs[0].set_xlim(0, 85)\n",
    "\n",
    "        fval = result['multistart_result']['fval']\n",
    "        axs[1].scatter(np.arange(len(fval)), fval.values)\n",
    "        axs[1].set_xlabel('rank')\n",
    "        axs[1].set_ylabel('-log L')\n",
    "    #         axs[1].set_xlim(0, 100)\n",
    "        \n",
    "        _ = result['vis'].odeint()\n",
    "        result['vis'].plot_simdata( axis=axs[2], cmap=plt.cm.viridis)\n",
    "        axs[2].set_xlim(1920, 2020)\n",
    "\n",
    "        plt.show()\n",
    "\n",
    "        try:\n",
    "            display(result['vis'].get_parameter(result['point_estimate'], result['cov'], t_eval=[0, 50, 80, 100], ignore_physics=True\n",
    "                                               ))\n",
    "        except:\n",
    "            pass"
   ]
  },
  {
   "cell_type": "markdown",
   "metadata": {},
   "source": [
    "## Export"
   ]
  },
  {
   "cell_type": "code",
   "execution_count": null,
   "metadata": {},
   "outputs": [],
   "source": [
    "# model = 'A'\n",
    "\n",
    "# time = np.linspace(0, 100, 101)\n",
    "# df = pd.DataFrame(results[model]['model'].get_implicit_parameters(time))[['r2', 'kappa24', 'ratio_r', 'p']]\n",
    "# # df.columns=['r2', 'r4', 'kappa24', 'kappa42', 'ratio_r']\n",
    "# df['r4'] = results[model]['model'].r4\n",
    "# df['kappa42'] = results[model]['model'].kappa42\n",
    "# df['delta2'] = results[model]['model'].delta2\n",
    "# df['delta4'] = results[model]['model'].delta4\n",
    "# df['age'] = time\n",
    "# df['ploidy'] = c14.models.liver.A().ploidy(df['age'])\n",
    "# df.head()\n",
    "\n",
    "# result = results[model]\n",
    "# df = result['vis'].get_parameter(result['point_estimate'], result['cov'], t_eval=time).unstack().reset_index()\n",
    "\n",
    "# df = df[['time', 'point_estimate']]\n",
    "\n",
    "# df.to_excel('../../../results/parameters_A.xlsx')"
   ]
  },
  {
   "cell_type": "markdown",
   "metadata": {},
   "source": [
    "## Model selection"
   ]
  },
  {
   "cell_type": "code",
   "execution_count": null,
   "metadata": {},
   "outputs": [],
   "source": [
    "# _ = results.pop('POP1', None)"
   ]
  },
  {
   "cell_type": "code",
   "execution_count": null,
   "metadata": {},
   "outputs": [],
   "source": [
    "model_selection_results = pd.DataFrame(\n",
    "    pd.Series(\n",
    "        {name: result['op'].calc_aicc(result['point_estimate'])\n",
    "         for name, result in results.items()}, name='cAIC'))\n",
    "model_selection_results['loglike'] = [result['op'].loglike_dict(result['point_estimate']) for name, result in results.items()]\n",
    "model_selection_results['nparas'] = [result['model'].nparas for name, result in results.items()] \n",
    "model_selection_results['nparas'] += 1\n",
    "model_selection_results = pd.DataFrame(model_selection_results)\n",
    "model_selection_results['delta'] = model_selection_results['cAIC'] - model_selection_results['cAIC'].min() \n",
    "model_selection_results['w'] = np.exp(-0.5*model_selection_results['delta']) / np.exp(-0.5*model_selection_results['delta']).sum()\n",
    "model_selection_results['ER'] = model_selection_results['w'].max() / model_selection_results['w']\n",
    "model_selection_results.sort_values('cAIC')"
   ]
  },
  {
   "cell_type": "code",
   "execution_count": null,
   "metadata": {},
   "outputs": [],
   "source": [
    "# parameters = parameters.merge(model_selection_results, left_on='model', right_index=True)"
   ]
  },
  {
   "cell_type": "code",
   "execution_count": null,
   "metadata": {},
   "outputs": [],
   "source": [
    "# parameters['log10_point_estimate'] = np.log10(parameters['point_estimate'])\n",
    "# parameters['log10_lower'] = np.log10(parameters['lower'])\n",
    "# parameters['log10_upper'] = np.log10(parameters['upper'])\n",
    "# parameters.head()\n",
    "\n",
    "# parameters['log10_error_lower'] = parameters['log10_point_estimate'] - parameters['log10_lower']\n",
    "# parameters['log10_error_upper'] = -parameters['log10_point_estimate'] + parameters['log10_upper']\n",
    "\n",
    "# parameters['log10_error'] = parameters[['log10_error_lower', 'log10_error_upper']].mean(axis='columns')\n",
    "\n",
    "# parameters.head()\n",
    "\n",
    "# def parameter_average(data):\n",
    "#     parameter = data['parameter'].iloc[0]\n",
    "#     log10_mean = np.average(data['log10_point_estimate'], weights=data['w'])\n",
    "#     log10_error = np.average(\n",
    "#         np.sqrt(data['log10_error']**2 + (data['log10_point_estimate'] - log10_mean)**2),\n",
    "#         weights=data['w'])\n",
    "#     point_estimate = 10**log10_mean\n",
    "#     lower = 10**(log10_mean-log10_error)\n",
    "#     upper = 10**(log10_mean+log10_error)\n",
    "#     return pd.Series({\n",
    "#         'point_estimate': point_estimate,\n",
    "#         'lower': lower,\n",
    "#         'upper': upper,\n",
    "#         'model': 'average',\n",
    "#         'ymin': point_estimate - lower,\n",
    "#         'ymax': point_estimate + upper,\n",
    "#         'log10_point_estimate': log10_mean,\n",
    "#         'log10_error': log10_error\n",
    "#     })\n",
    "\n",
    "# rates = [\"r2\", \"r4\", \"delta2\", \"delta4\", \"kappa24\", \"kappa42\", \"lambda2\", \"lambda4\"]\n",
    "\n",
    "# averaged_parameters = (parameters\n",
    "#                        .query('parameter in @rates')\n",
    "#                        .groupby(['time', 'parameter'])\n",
    "#                        .apply(parameter_average)\n",
    "#                        .reset_index()\n",
    "#                         )"
   ]
  },
  {
   "cell_type": "code",
   "execution_count": null,
   "metadata": {},
   "outputs": [],
   "source": [
    "# parameters = pd.concat([parameters, averaged_parameters], axis='rows', sort=False)"
   ]
  },
  {
   "cell_type": "code",
   "execution_count": null,
   "metadata": {},
   "outputs": [],
   "source": [
    "# p_names = parameters['parameter'].unique()\n",
    "# paras = 3*[parameters]\n",
    "# fig, axss = plt.subplots(len(p_names), len(paras), figsize=(9, 30))\n",
    "\n",
    "\n",
    "\n",
    "# ylimits = {'delta2': (0, 2),\n",
    "#            'delta4': (0, 1),\n",
    "#            'lambda2': (0, 2),\n",
    "#            'r2': (0, 2),\n",
    "#            'p2': (0.5, 1.1),\n",
    "#            'p4': (0.5, 1.1),\n",
    "#            'kappa24': (0, 0.2),\n",
    "#           'ratio_kappa': (0, 10)}\n",
    "\n",
    "# for parameter, axs in zip(p_names, axss):\n",
    "#     for para, ax in zip(paras, axs):\n",
    "#         data = para[para['parameter'] == parameter]\n",
    "#         for time, time_data in data.groupby('time'):\n",
    "#             ax.errorbar('model', 'point_estimate', time_data[['ymin', 'ymax']].T.abs().values,\n",
    "#                         data=time_data, marker='o', ls='None', label=time)\n",
    "#             ax.legend()\n",
    "#             ax.set_ylabel(parameter)\n",
    "#         try:\n",
    "#             ax.set_ylim(ylimits[parameter])\n",
    "#         except:\n",
    "#             ax.set_ylim(0, 1)\n",
    "#         ax.tick_params(axis='x', labelrotation=45)\n",
    "\n",
    "# plt.tight_layout()\n",
    "# plt.show()"
   ]
  }
 ],
 "metadata": {
  "kernelspec": {
   "display_name": "Python [conda env:spols200116] *",
   "language": "python",
   "name": "conda-env-spols200116-py"
  },
  "language_info": {
   "codemirror_mode": {
    "name": "ipython",
    "version": 3
   },
   "file_extension": ".py",
   "mimetype": "text/x-python",
   "name": "python",
   "nbconvert_exporter": "python",
   "pygments_lexer": "ipython3",
   "version": "3.7.6"
  },
  "toc": {
   "nav_menu": {
    "height": "12px",
    "width": "252px"
   },
   "number_sections": true,
   "sideBar": true,
   "skip_h1_title": false,
   "title_cell": "Table of Contents",
   "title_sidebar": "Contents",
   "toc_cell": false,
   "toc_position": {},
   "toc_section_display": "block",
   "toc_window_display": false
  }
 },
 "nbformat": 4,
 "nbformat_minor": 4
}
