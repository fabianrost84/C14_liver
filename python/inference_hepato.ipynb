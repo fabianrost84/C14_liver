{
 "cells": [
  {
   "cell_type": "markdown",
   "metadata": {},
   "source": [
    "# C14-hepatocyte analysis"
   ]
  },
  {
   "cell_type": "markdown",
   "metadata": {},
   "source": [
    "default_parameters -> fit\n",
    "\n",
    "default_limit -> physical\n",
    "\n",
    "parameters -> physical"
   ]
  },
  {
   "cell_type": "code",
   "execution_count": 1,
   "metadata": {
    "ExecuteTime": {
     "end_time": "2019-06-12T16:46:11.667471Z",
     "start_time": "2019-06-12T16:46:09.329920Z"
    }
   },
   "outputs": [],
   "source": [
    "import datetime\n",
    "from IPython.display import display\n",
    "import joblib\n",
    "import numpy as np\n",
    "import pandas as pd\n",
    "import matplotlib.pyplot as plt\n",
    "import seaborn as sns\n",
    "import warnings\n",
    "\n",
    "%matplotlib inline\n",
    "\n",
    "mem = joblib.Memory(location='/scratch/tmp/fabrost/hepato', verbose=0)\n",
    "\n",
    "import logging\n",
    "\n",
    "%load_ext rpy2.ipython\n",
    "\n",
    "# logging.basicConfig(filename='c14.log',\n",
    "#                             filemode='a',\n",
    "#                             format='%(asctime)s,%(msecs)d %(name)s %(levelname)s %(message)s',\n",
    "#                             datefmt='%H:%M:%S',\n",
    "#                             level=logging.INFO)\n",
    "logging.basicConfig(level=logging.INFO)"
   ]
  },
  {
   "cell_type": "code",
   "execution_count": 2,
   "metadata": {},
   "outputs": [],
   "source": [
    "logger = logging.getLogger()\n",
    "logger.setLevel(logging.WARNING)"
   ]
  },
  {
   "cell_type": "code",
   "execution_count": 3,
   "metadata": {},
   "outputs": [],
   "source": [
    "# %load_ext autoreload\n",
    "# %autoreload 2\n",
    "import c14\n",
    "import c14.models.liver\n",
    "import c14.models.minimal"
   ]
  },
  {
   "cell_type": "code",
   "execution_count": 4,
   "metadata": {},
   "outputs": [],
   "source": [
    "m = c14.models.liver.A()"
   ]
  },
  {
   "cell_type": "code",
   "execution_count": 5,
   "metadata": {},
   "outputs": [],
   "source": [
    "from scipy.interpolate import UnivariateSpline"
   ]
  },
  {
   "cell_type": "code",
   "execution_count": 6,
   "metadata": {},
   "outputs": [
    {
     "data": {
      "text/plain": [
       "[<matplotlib.lines.Line2D at 0x7f3cdf745588>]"
      ]
     },
     "execution_count": 6,
     "metadata": {},
     "output_type": "execute_result"
    },
    {
     "data": {
      "image/png": "[encoded data removed]",
      "text/plain": [
       "<Figure size 432x288 with 1 Axes>"
      ]
     },
     "metadata": {
      "needs_background": "light"
     },
     "output_type": "display_data"
    }
   ],
   "source": [
    "t = np.linspace(0, 100)\n",
    "plt.plot(t, m.ploidy(t))\n",
    "ploidy_data = pd.read_excel(c14.models.liver.default_path)\n",
    "ploidy_data['age'] = (ploidy_data[['age_min', 'age_max']].\n",
    "                              mean(axis='columns'))\n",
    "ploidy_data /= 100.0\n",
    "ploidy_data['age'] *= 100\n",
    "ploidy_data['age_min'] *= 100\n",
    "ploidy_data['age_max'] *= 100\n",
    "\n",
    "plt.plot('age', '2C_mean', data=ploidy_data)\n",
    "\n",
    "ploidy = UnivariateSpline(ploidy_data['age'].values,\n",
    "                                       ploidy_data['2C_mean'].values,\n",
    "                                       ext=3, k=2)\n",
    "\n",
    "\n",
    "plt.plot(t, ploidy(t))"
   ]
  },
  {
   "cell_type": "markdown",
   "metadata": {},
   "source": [
    "## Data"
   ]
  },
  {
   "cell_type": "code",
   "execution_count": 7,
   "metadata": {
    "ExecuteTime": {
     "end_time": "2019-06-12T16:46:14.483512Z",
     "start_time": "2019-06-12T16:46:14.348904Z"
    }
   },
   "outputs": [],
   "source": [
    "data = pd.read_csv('../../../results/C14data_liver_samples_20190722.csv')\n",
    "data = data.groupby(['type', 'sample', 'ploidy', 'pathology']).mean().dropna(how='all').reset_index()\n",
    "data['age'] = data['Dcoll'] - data['Dbirth']\n",
    "data = data.query('type == \"hepatocyte\" and pathology != \"Y\"')\n",
    "edata = c14.exp_data(data)"
   ]
  },
  {
   "cell_type": "markdown",
   "metadata": {},
   "source": [
    "## Fit the models"
   ]
  },
  {
   "cell_type": "code",
   "execution_count": 49,
   "metadata": {},
   "outputs": [],
   "source": [
    "@mem.cache\n",
    "def fit_model(edata, model, step_size=0.1, optimize_minuit_multistart_kwargs=dict(n=100,processes=8)):\n",
    "    print(f'Fitting model {model.__name__}')\n",
    "    result = {'model': model()}\n",
    "    result['op'] = c14.optimize(model=result['model'],data=edata,step_size=step_size)\n",
    "    result['vis'] = c14.visualisze(model=result['model'],data=edata,step_size=2)\n",
    "    result['multistart_result'] = result['op'].optimize_minuit_multistart(**optimize_minuit_multistart_kwargs)\n",
    "    try:\n",
    "        result['point_estimate'] = result['multistart_result'].sort_values('fval').iloc[0]['values']\n",
    "        result['cov'] = result['multistart_result'].sort_values('fval').iloc[0]['cov']\n",
    "    except:\n",
    "        print(f'Multistart found no valid results for model {model.__name__}')\n",
    "    try:\n",
    "        result['errors'] = result['vis'].calc_error(result['point_estimate'], result['cov'])\n",
    "    except:\n",
    "        print(f'Could not calculate errors for {model.__name__}')\n",
    "    return result"
   ]
  },
  {
   "cell_type": "code",
   "execution_count": 50,
   "metadata": {},
   "outputs": [],
   "source": [
    "def fit_models(edata, models, step_size=0.1, optimize_minuit_multistart_kwargs=dict(n=100,processes=8)):\n",
    "    results = {model.__name__: fit_model(edata, model, step_size, optimize_minuit_multistart_kwargs)\n",
    "               for model in models}\n",
    "    return results"
   ]
  },
  {
   "cell_type": "code",
   "execution_count": 51,
   "metadata": {},
   "outputs": [
    {
     "data": {
      "text/plain": [
       "[c14.models.liver.A]"
      ]
     },
     "execution_count": 51,
     "metadata": {},
     "output_type": "execute_result"
    }
   ],
   "source": [
    "# models = c14.models.liver.models_list + c14.models.minimal.models_list\n",
    "models = c14.models.liver.models_list[:9] + c14.models.liver.models_list[-2:]\n",
    "models.remove(c14.models.liver.Hr40)\n",
    "models.remove(c14.models.liver.Al4s)\n",
    "models.remove(c14.models.liver.Akr40_d2lin)\n",
    "models.remove(c14.models.liver.Ar2r4)\n",
    "models.remove(c14.models.liver.Akr40q)\n",
    "models.remove(c14.models.liver.Akr402x2n)\n",
    "models = models[0:1]\n",
    "models"
   ]
  },
  {
   "cell_type": "code",
   "execution_count": 52,
   "metadata": {},
   "outputs": [],
   "source": [
    "init_limit = {'r2': (-3, 0), \n",
    "              'r4': (-3, 0),\n",
    "              'kappa24': (-3, 0),\n",
    "              'kappa42': (-3, 0),\n",
    "              'delta2': (-3, 0),\n",
    "              'delta2_0': (-3, 0),\n",
    "              'delta2_100': (-3, 0),\n",
    "              'delta4': (-3, 0),\n",
    "              'f': (1, 3),\n",
    "              'lambda_': (-3, 0),\n",
    "              'r_0': (-3, 0),\n",
    "              'r_1': (-3, 0),\n",
    "              'r_100': (-3, 0),\n",
    "              't_step': (np.log10(5), np.log10(70))\n",
    "             }"
   ]
  },
  {
   "cell_type": "code",
   "execution_count": 129,
   "metadata": {},
   "outputs": [
    {
     "name": "stdout",
     "output_type": "stream",
     "text": [
      "CPU times: user 37.6 ms, sys: 61 µs, total: 37.7 ms\n",
      "Wall time: 36 ms\n"
     ]
    }
   ],
   "source": [
    "%%time\n",
    "results = fit_models(edata, models, step_size=0.5, \n",
    "                     optimize_minuit_multistart_kwargs=dict(n=7, \n",
    "                                                            processes=7, \n",
    "                                                            init_limit=init_limit)\n",
    "                    )"
   ]
  },
  {
   "cell_type": "code",
   "execution_count": 141,
   "metadata": {},
   "outputs": [
    {
     "name": "stdout",
     "output_type": "stream",
     "text": [
      "CPU times: user 129 ms, sys: 203 µs, total: 130 ms\n",
      "Wall time: 127 ms\n"
     ]
    }
   ],
   "source": [
    "%%time\n",
    "results = fit_models(edata, models, step_size=0.5, \n",
    "                     optimize_minuit_multistart_kwargs=dict(n=100, \n",
    "                                                            processes=7, \n",
    "                                                            init_limit=init_limit)\n",
    "                    )"
   ]
  },
  {
   "cell_type": "code",
   "execution_count": 142,
   "metadata": {},
   "outputs": [],
   "source": [
    "# %%time\n",
    "# results_C = fit_models(edata, [c14.models.liver.C], step_size=0.5, \n",
    "#                      optimize_minuit_multistart_kwargs=dict(n=1000, \n",
    "#                                                             processes=7, \n",
    "#                                                             init_limit=init_limit)\n",
    "#                     )"
   ]
  },
  {
   "cell_type": "code",
   "execution_count": 143,
   "metadata": {},
   "outputs": [],
   "source": [
    "# %%time\n",
    "# results_C10000 = fit_models(edata, [c14.models.liver.C], step_size=0.5, \n",
    "#                      optimize_minuit_multistart_kwargs=dict(n=10000, \n",
    "#                                                             processes=7, \n",
    "#                                                             init_limit=init_limit)\n",
    "#                     )"
   ]
  },
  {
   "cell_type": "code",
   "execution_count": 144,
   "metadata": {},
   "outputs": [],
   "source": [
    "# results['C'] = results_C10000['C']"
   ]
  },
  {
   "cell_type": "code",
   "execution_count": 145,
   "metadata": {},
   "outputs": [],
   "source": [
    "parameters = pd.concat(\n",
    "    [result['vis'].get_parameter(result['point_estimate'], \n",
    "                                 result['cov'], \n",
    "                                 t_eval=[0, 80])\n",
    "     .assign(model = name).reset_index() for name, result in results.items()\n",
    "    ], ignore_index=True)"
   ]
  },
  {
   "cell_type": "code",
   "execution_count": 146,
   "metadata": {},
   "outputs": [],
   "source": [
    "parameters['point_estimate'] = parameters['point_estimate'].astype(float)\n",
    "parameters['lower'] = parameters['lower'].astype(float)\n",
    "parameters['upper'] = parameters['upper'].astype(float)\n",
    "parameters['parameter'] = parameters['parameter'].astype(str)\n",
    "parameters['time'] = parameters['time'].astype(str)"
   ]
  },
  {
   "cell_type": "code",
   "execution_count": 147,
   "metadata": {},
   "outputs": [
    {
     "data": {
      "text/html": [
       "<div>\n",
       "<style scoped>\n",
       "    .dataframe tbody tr th:only-of-type {\n",
       "        vertical-align: middle;\n",
       "    }\n",
       "\n",
       "    .dataframe tbody tr th {\n",
       "        vertical-align: top;\n",
       "    }\n",
       "\n",
       "    .dataframe thead th {\n",
       "        text-align: right;\n",
       "    }\n",
       "</style>\n",
       "<table border=\"1\" class=\"dataframe\">\n",
       "  <thead>\n",
       "    <tr style=\"text-align: right;\">\n",
       "      <th></th>\n",
       "      <th>time</th>\n",
       "      <th>parameter</th>\n",
       "      <th>point_estimate</th>\n",
       "      <th>lower</th>\n",
       "      <th>upper</th>\n",
       "      <th>model</th>\n",
       "    </tr>\n",
       "  </thead>\n",
       "  <tbody>\n",
       "    <tr>\n",
       "      <th>0</th>\n",
       "      <td>0</td>\n",
       "      <td>delta2</td>\n",
       "      <td>0.458025</td>\n",
       "      <td>7.509081e-02</td>\n",
       "      <td>2.793773e+00</td>\n",
       "      <td>A</td>\n",
       "    </tr>\n",
       "    <tr>\n",
       "      <th>1</th>\n",
       "      <td>0</td>\n",
       "      <td>delta4</td>\n",
       "      <td>0.089455</td>\n",
       "      <td>1.898634e-02</td>\n",
       "      <td>4.214741e-01</td>\n",
       "      <td>A</td>\n",
       "    </tr>\n",
       "    <tr>\n",
       "      <th>2</th>\n",
       "      <td>0</td>\n",
       "      <td>kappa24</td>\n",
       "      <td>0.000023</td>\n",
       "      <td>5.109118e-03</td>\n",
       "      <td>4.408000e-02</td>\n",
       "      <td>A</td>\n",
       "    </tr>\n",
       "    <tr>\n",
       "      <th>3</th>\n",
       "      <td>0</td>\n",
       "      <td>kappa42</td>\n",
       "      <td>0.001004</td>\n",
       "      <td>9.051767e-22</td>\n",
       "      <td>1.114709e+15</td>\n",
       "      <td>A</td>\n",
       "    </tr>\n",
       "    <tr>\n",
       "      <th>4</th>\n",
       "      <td>0</td>\n",
       "      <td>lambda2</td>\n",
       "      <td>0.460058</td>\n",
       "      <td>2.049323e-01</td>\n",
       "      <td>6.835490e-01</td>\n",
       "      <td>A</td>\n",
       "    </tr>\n",
       "  </tbody>\n",
       "</table>\n",
       "</div>"
      ],
      "text/plain": [
       "  time parameter  point_estimate         lower         upper model\n",
       "0    0    delta2        0.458025  7.509081e-02  2.793773e+00     A\n",
       "1    0    delta4        0.089455  1.898634e-02  4.214741e-01     A\n",
       "2    0   kappa24        0.000023  5.109118e-03  4.408000e-02     A\n",
       "3    0   kappa42        0.001004  9.051767e-22  1.114709e+15     A\n",
       "4    0   lambda2        0.460058  2.049323e-01  6.835490e-01     A"
      ]
     },
     "execution_count": 147,
     "metadata": {},
     "output_type": "execute_result"
    }
   ],
   "source": [
    "parameters.head()"
   ]
  },
  {
   "cell_type": "code",
   "execution_count": 148,
   "metadata": {},
   "outputs": [],
   "source": [
    "parameters['ymin'] = parameters['point_estimate'] - parameters['lower']\n",
    "parameters['ymax'] = parameters['upper'] - parameters['point_estimate']"
   ]
  },
  {
   "cell_type": "markdown",
   "metadata": {},
   "source": [
    "## Parameter Values"
   ]
  },
  {
   "cell_type": "markdown",
   "metadata": {},
   "source": [
    "## Export"
   ]
  },
  {
   "cell_type": "code",
   "execution_count": 149,
   "metadata": {},
   "outputs": [],
   "source": [
    "model = 'A'"
   ]
  },
  {
   "cell_type": "code",
   "execution_count": 150,
   "metadata": {},
   "outputs": [
    {
     "data": {
      "text/html": [
       "<div>\n",
       "<style scoped>\n",
       "    .dataframe tbody tr th:only-of-type {\n",
       "        vertical-align: middle;\n",
       "    }\n",
       "\n",
       "    .dataframe tbody tr th {\n",
       "        vertical-align: top;\n",
       "    }\n",
       "\n",
       "    .dataframe thead th {\n",
       "        text-align: right;\n",
       "    }\n",
       "</style>\n",
       "<table border=\"1\" class=\"dataframe\">\n",
       "  <thead>\n",
       "    <tr style=\"text-align: right;\">\n",
       "      <th></th>\n",
       "      <th>r2</th>\n",
       "      <th>kappa24</th>\n",
       "      <th>ratio_r</th>\n",
       "      <th>p</th>\n",
       "      <th>r4</th>\n",
       "      <th>kappa42</th>\n",
       "      <th>delta2</th>\n",
       "      <th>delta4</th>\n",
       "      <th>age</th>\n",
       "      <th>ploidy</th>\n",
       "    </tr>\n",
       "  </thead>\n",
       "  <tbody>\n",
       "    <tr>\n",
       "      <th>0</th>\n",
       "      <td>0.460035</td>\n",
       "      <td>0.000023</td>\n",
       "      <td>0.152560</td>\n",
       "      <td>0.999950</td>\n",
       "      <td>0.070183</td>\n",
       "      <td>0.001004</td>\n",
       "      <td>0.458025</td>\n",
       "      <td>0.089455</td>\n",
       "      <td>0.0</td>\n",
       "      <td>0.900872</td>\n",
       "    </tr>\n",
       "    <tr>\n",
       "      <th>1</th>\n",
       "      <td>0.460035</td>\n",
       "      <td>0.000023</td>\n",
       "      <td>0.152560</td>\n",
       "      <td>0.999950</td>\n",
       "      <td>0.070183</td>\n",
       "      <td>0.001004</td>\n",
       "      <td>0.458025</td>\n",
       "      <td>0.089455</td>\n",
       "      <td>1.0</td>\n",
       "      <td>0.900872</td>\n",
       "    </tr>\n",
       "    <tr>\n",
       "      <th>2</th>\n",
       "      <td>0.460035</td>\n",
       "      <td>0.000023</td>\n",
       "      <td>0.152560</td>\n",
       "      <td>0.999950</td>\n",
       "      <td>0.070183</td>\n",
       "      <td>0.001004</td>\n",
       "      <td>0.458025</td>\n",
       "      <td>0.089455</td>\n",
       "      <td>2.0</td>\n",
       "      <td>0.900872</td>\n",
       "    </tr>\n",
       "    <tr>\n",
       "      <th>3</th>\n",
       "      <td>0.460013</td>\n",
       "      <td>0.000138</td>\n",
       "      <td>0.152567</td>\n",
       "      <td>0.999700</td>\n",
       "      <td>0.070183</td>\n",
       "      <td>0.001004</td>\n",
       "      <td>0.458025</td>\n",
       "      <td>0.089455</td>\n",
       "      <td>3.0</td>\n",
       "      <td>0.901836</td>\n",
       "    </tr>\n",
       "    <tr>\n",
       "      <th>4</th>\n",
       "      <td>0.459974</td>\n",
       "      <td>0.000369</td>\n",
       "      <td>0.152580</td>\n",
       "      <td>0.999199</td>\n",
       "      <td>0.070183</td>\n",
       "      <td>0.001004</td>\n",
       "      <td>0.458025</td>\n",
       "      <td>0.089455</td>\n",
       "      <td>4.0</td>\n",
       "      <td>0.903580</td>\n",
       "    </tr>\n",
       "  </tbody>\n",
       "</table>\n",
       "</div>"
      ],
      "text/plain": [
       "         r2   kappa24   ratio_r         p        r4   kappa42    delta2  \\\n",
       "0  0.460035  0.000023  0.152560  0.999950  0.070183  0.001004  0.458025   \n",
       "1  0.460035  0.000023  0.152560  0.999950  0.070183  0.001004  0.458025   \n",
       "2  0.460035  0.000023  0.152560  0.999950  0.070183  0.001004  0.458025   \n",
       "3  0.460013  0.000138  0.152567  0.999700  0.070183  0.001004  0.458025   \n",
       "4  0.459974  0.000369  0.152580  0.999199  0.070183  0.001004  0.458025   \n",
       "\n",
       "     delta4  age    ploidy  \n",
       "0  0.089455  0.0  0.900872  \n",
       "1  0.089455  1.0  0.900872  \n",
       "2  0.089455  2.0  0.900872  \n",
       "3  0.089455  3.0  0.901836  \n",
       "4  0.089455  4.0  0.903580  "
      ]
     },
     "execution_count": 150,
     "metadata": {},
     "output_type": "execute_result"
    }
   ],
   "source": [
    "time = np.linspace(0, 100, 101)\n",
    "df = pd.DataFrame(results[model]['model'].get_implicit_parameters(time))[['r2', 'kappa24', 'ratio_r', 'p']]\n",
    "# df.columns=['r2', 'r4', 'kappa24', 'kappa42', 'ratio_r']\n",
    "df['r4'] = results[model]['model'].r4\n",
    "df['kappa42'] = results[model]['model'].kappa42\n",
    "df['delta2'] = results[model]['model'].delta2\n",
    "df['delta4'] = results[model]['model'].delta4\n",
    "df['age'] = time\n",
    "df['ploidy'] = c14.models.liver.A().ploidy(df['age'])\n",
    "df.head()"
   ]
  },
  {
   "cell_type": "code",
   "execution_count": 151,
   "metadata": {},
   "outputs": [],
   "source": [
    "result = results[model]\n",
    "df = result['vis'].get_parameter(result['point_estimate'], result['cov'], t_eval=time).unstack().reset_index()"
   ]
  },
  {
   "cell_type": "code",
   "execution_count": 162,
   "metadata": {},
   "outputs": [],
   "source": [
    "df = df[['time', 'point_estimate']]"
   ]
  },
  {
   "cell_type": "code",
   "execution_count": 163,
   "metadata": {},
   "outputs": [],
   "source": [
    "df.to_excel('../../../results/parameters_A.xlsx')"
   ]
  },
  {
   "cell_type": "markdown",
   "metadata": {},
   "source": [
    "### Detailed"
   ]
  },
  {
   "cell_type": "code",
   "execution_count": 154,
   "metadata": {},
   "outputs": [
    {
     "name": "stdout",
     "output_type": "stream",
     "text": [
      "A\n"
     ]
    },
    {
     "data": {
      "image/png": "[encoded data removed]",
      "text/plain": [
       "<Figure size 864x432 with 2 Axes>"
      ]
     },
     "metadata": {
      "needs_background": "light"
     },
     "output_type": "display_data"
    },
    {
     "data": {
      "text/html": [
       "<div>\n",
       "<style scoped>\n",
       "    .dataframe tbody tr th:only-of-type {\n",
       "        vertical-align: middle;\n",
       "    }\n",
       "\n",
       "    .dataframe tbody tr th {\n",
       "        vertical-align: top;\n",
       "    }\n",
       "\n",
       "    .dataframe thead th {\n",
       "        text-align: right;\n",
       "    }\n",
       "</style>\n",
       "<table border=\"1\" class=\"dataframe\">\n",
       "  <thead>\n",
       "    <tr style=\"text-align: right;\">\n",
       "      <th></th>\n",
       "      <th></th>\n",
       "      <th>point_estimate</th>\n",
       "      <th>lower</th>\n",
       "      <th>upper</th>\n",
       "    </tr>\n",
       "    <tr>\n",
       "      <th>time</th>\n",
       "      <th>parameter</th>\n",
       "      <th></th>\n",
       "      <th></th>\n",
       "      <th></th>\n",
       "    </tr>\n",
       "  </thead>\n",
       "  <tbody>\n",
       "    <tr>\n",
       "      <th rowspan=\"10\" valign=\"top\">0</th>\n",
       "      <th>delta2</th>\n",
       "      <td>0.458025</td>\n",
       "      <td>0.0750908</td>\n",
       "      <td>2.79377</td>\n",
       "    </tr>\n",
       "    <tr>\n",
       "      <th>delta4</th>\n",
       "      <td>0.0894553</td>\n",
       "      <td>0.0189863</td>\n",
       "      <td>0.421474</td>\n",
       "    </tr>\n",
       "    <tr>\n",
       "      <th>kappa24</th>\n",
       "      <td>2.30234e-05</td>\n",
       "      <td>0.00827895</td>\n",
       "      <td>0.214436</td>\n",
       "    </tr>\n",
       "    <tr>\n",
       "      <th>kappa42</th>\n",
       "      <td>0.00100449</td>\n",
       "      <td>9.05177e-22</td>\n",
       "      <td>1.11471e+15</td>\n",
       "    </tr>\n",
       "    <tr>\n",
       "      <th>lambda2</th>\n",
       "      <td>0.460058</td>\n",
       "      <td>0.212258</td>\n",
       "      <td>0.606038</td>\n",
       "    </tr>\n",
       "    <tr>\n",
       "      <th>p</th>\n",
       "      <td>0.99995</td>\n",
       "      <td>0.360034</td>\n",
       "      <td>0.98235</td>\n",
       "    </tr>\n",
       "    <tr>\n",
       "      <th>r2</th>\n",
       "      <td>0.460035</td>\n",
       "      <td>0.135905</td>\n",
       "      <td>0.510689</td>\n",
       "    </tr>\n",
       "    <tr>\n",
       "      <th>r4</th>\n",
       "      <td>0.0701829</td>\n",
       "      <td>8.54794e-22</td>\n",
       "      <td>5.76237e+18</td>\n",
       "    </tr>\n",
       "    <tr>\n",
       "      <th>ratio_kappa</th>\n",
       "      <td>43.6292</td>\n",
       "      <td>0.094539</td>\n",
       "      <td>8.84918</td>\n",
       "    </tr>\n",
       "    <tr>\n",
       "      <th>ratio_r</th>\n",
       "      <td>0.15256</td>\n",
       "      <td>1.2637e-05</td>\n",
       "      <td>0.0517413</td>\n",
       "    </tr>\n",
       "    <tr>\n",
       "      <th rowspan=\"10\" valign=\"top\">80</th>\n",
       "      <th>delta2</th>\n",
       "      <td>0.458025</td>\n",
       "      <td>0.0750908</td>\n",
       "      <td>2.79377</td>\n",
       "    </tr>\n",
       "    <tr>\n",
       "      <th>delta4</th>\n",
       "      <td>0.0894553</td>\n",
       "      <td>0.0189863</td>\n",
       "      <td>0.421474</td>\n",
       "    </tr>\n",
       "    <tr>\n",
       "      <th>kappa24</th>\n",
       "      <td>0.022425</td>\n",
       "      <td>0.0450256</td>\n",
       "      <td>0.201431</td>\n",
       "    </tr>\n",
       "    <tr>\n",
       "      <th>kappa42</th>\n",
       "      <td>0.00100449</td>\n",
       "      <td>9.05177e-22</td>\n",
       "      <td>1.11471e+15</td>\n",
       "    </tr>\n",
       "    <tr>\n",
       "      <th>lambda2</th>\n",
       "      <td>0.49221</td>\n",
       "      <td>0.354314</td>\n",
       "      <td>0.660806</td>\n",
       "    </tr>\n",
       "    <tr>\n",
       "      <th>p</th>\n",
       "      <td>0.95444</td>\n",
       "      <td>0.558941</td>\n",
       "      <td>0.881529</td>\n",
       "    </tr>\n",
       "    <tr>\n",
       "      <th>r2</th>\n",
       "      <td>0.469785</td>\n",
       "      <td>0.20924</td>\n",
       "      <td>0.560948</td>\n",
       "    </tr>\n",
       "    <tr>\n",
       "      <th>r4</th>\n",
       "      <td>0.0701829</td>\n",
       "      <td>8.54794e-22</td>\n",
       "      <td>5.76237e+18</td>\n",
       "    </tr>\n",
       "    <tr>\n",
       "      <th>ratio_kappa</th>\n",
       "      <td>0.0447935</td>\n",
       "      <td>0.00867139</td>\n",
       "      <td>0.96378</td>\n",
       "    </tr>\n",
       "    <tr>\n",
       "      <th>ratio_r</th>\n",
       "      <td>0.149394</td>\n",
       "      <td>9.69775e-05</td>\n",
       "      <td>0.116778</td>\n",
       "    </tr>\n",
       "  </tbody>\n",
       "</table>\n",
       "</div>"
      ],
      "text/plain": [
       "                 point_estimate        lower        upper\n",
       "time parameter                                           \n",
       "0    delta2            0.458025    0.0750908      2.79377\n",
       "     delta4           0.0894553    0.0189863     0.421474\n",
       "     kappa24        2.30234e-05   0.00827895     0.214436\n",
       "     kappa42         0.00100449  9.05177e-22  1.11471e+15\n",
       "     lambda2           0.460058     0.212258     0.606038\n",
       "     p                  0.99995     0.360034      0.98235\n",
       "     r2                0.460035     0.135905     0.510689\n",
       "     r4               0.0701829  8.54794e-22  5.76237e+18\n",
       "     ratio_kappa        43.6292     0.094539      8.84918\n",
       "     ratio_r            0.15256   1.2637e-05    0.0517413\n",
       "80   delta2            0.458025    0.0750908      2.79377\n",
       "     delta4           0.0894553    0.0189863     0.421474\n",
       "     kappa24           0.022425    0.0450256     0.201431\n",
       "     kappa42         0.00100449  9.05177e-22  1.11471e+15\n",
       "     lambda2            0.49221     0.354314     0.660806\n",
       "     p                  0.95444     0.558941     0.881529\n",
       "     r2                0.469785      0.20924     0.560948\n",
       "     r4               0.0701829  8.54794e-22  5.76237e+18\n",
       "     ratio_kappa      0.0447935   0.00867139      0.96378\n",
       "     ratio_r           0.149394  9.69775e-05     0.116778"
      ]
     },
     "metadata": {},
     "output_type": "display_data"
    }
   ],
   "source": [
    "for name, result in results.items():\n",
    "    if name not in ['']:\n",
    "        print(name)\n",
    "        fig, axs = plt.subplots(1, 2, figsize=(12,6))\n",
    "        result['vis'].plot_parameter(result['point_estimate'], result['errors'], no_plot=[], axis=axs[0])\n",
    "        axs[0].legend()\n",
    "        axs[0].set_title(name)\n",
    "        axs[0].set_ylim(0,1)\n",
    "\n",
    "        fval = result['multistart_result']['fval']\n",
    "        axs[1].scatter(np.arange(len(fval)), fval.values)\n",
    "        axs[1].set_xlabel('rank')\n",
    "        axs[1].set_ylabel('log L')\n",
    "    #         axs[1].set_xlim(0, 100)\n",
    "\n",
    "        plt.show()\n",
    "\n",
    "        display(result['vis'].get_parameter(result['point_estimate'], result['cov'], t_eval=[0, 80]))"
   ]
  },
  {
   "cell_type": "markdown",
   "metadata": {},
   "source": [
    "### Summarized"
   ]
  },
  {
   "cell_type": "code",
   "execution_count": 70,
   "metadata": {},
   "outputs": [
    {
     "data": {
      "image/png": "[encoded data removed]",
      "text/plain": [
       "<Figure size 720x4320 with 10 Axes>"
      ]
     },
     "metadata": {
      "needs_background": "light"
     },
     "output_type": "display_data"
    }
   ],
   "source": [
    "groupby = parameters.groupby('parameter')\n",
    "fig, axs = plt.subplots(len(groupby), figsize=(10, 60))\n",
    "\n",
    "ylimits = {'delta2': (0, 1),\n",
    "           'p': (0.5, 1.1)}\n",
    "\n",
    "for group, ax in zip(groupby, axs):\n",
    "    parameter, data = group\n",
    "    for time, time_data in data.groupby('time'):\n",
    "        ax.errorbar('model', 'point_estimate', time_data[['ymin', 'ymax']].T.abs().values,\n",
    "                    data=time_data, marker='o', ls='None', label=time)\n",
    "        ax.legend()\n",
    "        ax.set_ylabel(parameter)\n",
    "    try:\n",
    "        ax.set_ylim(ylimits[parameter])\n",
    "    except:\n",
    "        ax.set_ylim(0, 1)\n",
    "    ax.tick_params(axis='x', labelrotation=45)\n",
    "\n",
    "plt.tight_layout()\n",
    "plt.show()"
   ]
  },
  {
   "cell_type": "markdown",
   "metadata": {},
   "source": [
    "## Model selection"
   ]
  },
  {
   "cell_type": "code",
   "execution_count": 71,
   "metadata": {},
   "outputs": [
    {
     "data": {
      "text/html": [
       "<div>\n",
       "<style scoped>\n",
       "    .dataframe tbody tr th:only-of-type {\n",
       "        vertical-align: middle;\n",
       "    }\n",
       "\n",
       "    .dataframe tbody tr th {\n",
       "        vertical-align: top;\n",
       "    }\n",
       "\n",
       "    .dataframe thead th {\n",
       "        text-align: right;\n",
       "    }\n",
       "</style>\n",
       "<table border=\"1\" class=\"dataframe\">\n",
       "  <thead>\n",
       "    <tr style=\"text-align: right;\">\n",
       "      <th></th>\n",
       "      <th>cAIC</th>\n",
       "      <th>loglike</th>\n",
       "      <th>nparas</th>\n",
       "      <th>delta</th>\n",
       "      <th>w</th>\n",
       "      <th>ER</th>\n",
       "    </tr>\n",
       "  </thead>\n",
       "  <tbody>\n",
       "    <tr>\n",
       "      <th>A</th>\n",
       "      <td>-156.87123</td>\n",
       "      <td>84.546726</td>\n",
       "      <td>5</td>\n",
       "      <td>0.0</td>\n",
       "      <td>1.0</td>\n",
       "      <td>1.0</td>\n",
       "    </tr>\n",
       "  </tbody>\n",
       "</table>\n",
       "</div>"
      ],
      "text/plain": [
       "        cAIC    loglike  nparas  delta    w   ER\n",
       "A -156.87123  84.546726       5    0.0  1.0  1.0"
      ]
     },
     "execution_count": 71,
     "metadata": {},
     "output_type": "execute_result"
    }
   ],
   "source": [
    "model_selection_results = pd.DataFrame(pd.Series({name: result['op'].calc_aicc(result['point_estimate']) for name, result in results.items()}, name='cAIC'))\n",
    "model_selection_results['loglike'] = [result['op'].loglike_dict(result['point_estimate']) for name, result in results.items()]\n",
    "model_selection_results['nparas'] = [result['model'].nparas for name, result in results.items()] \n",
    "model_selection_results['nparas'] += 1\n",
    "model_selection_results = pd.DataFrame(model_selection_results)\n",
    "model_selection_results['delta'] = model_selection_results['cAIC'] - model_selection_results['cAIC'].min() \n",
    "model_selection_results['w'] = np.exp(-0.5*model_selection_results['delta']) / np.exp(-0.5*model_selection_results['delta']).sum()\n",
    "model_selection_results['ER'] = model_selection_results['w'].max() / model_selection_results['w']\n",
    "model_selection_results.sort_values('cAIC')"
   ]
  }
 ],
 "metadata": {
  "kernelspec": {
   "display_name": "Python [conda env:spols190426] *",
   "language": "python",
   "name": "conda-env-spols190426-py"
  },
  "language_info": {
   "codemirror_mode": {
    "name": "ipython",
    "version": 3
   },
   "file_extension": ".py",
   "mimetype": "text/x-python",
   "name": "python",
   "nbconvert_exporter": "python",
   "pygments_lexer": "ipython3",
   "version": "3.6.7"
  },
  "toc": {
   "nav_menu": {
    "height": "12px",
    "width": "252px"
   },
   "number_sections": true,
   "sideBar": true,
   "skip_h1_title": false,
   "title_cell": "Table of Contents",
   "title_sidebar": "Contents",
   "toc_cell": false,
   "toc_position": {},
   "toc_section_display": "block",
   "toc_window_display": false
  }
 },
 "nbformat": 4,
 "nbformat_minor": 4
}
