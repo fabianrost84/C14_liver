{
 "cells": [
  {
   "cell_type": "markdown",
   "metadata": {},
   "source": [
    "# C14-hepatocyte analysis"
   ]
  },
  {
   "cell_type": "markdown",
   "metadata": {},
   "source": [
    "default_parameters -> fit\n",
    "\n",
    "default_limit -> physical\n",
    "\n",
    "parameters -> physical"
   ]
  },
  {
   "cell_type": "code",
   "execution_count": 1,
   "metadata": {
    "ExecuteTime": {
     "end_time": "2019-06-12T16:46:11.667471Z",
     "start_time": "2019-06-12T16:46:09.329920Z"
    }
   },
   "outputs": [
    {
     "name": "stderr",
     "output_type": "stream",
     "text": [
      "/home/fabrost/miniconda3/envs/spols200116/lib/python3.7/site-packages/rpy2/robjects/pandas2ri.py:14: FutureWarning: pandas.core.index is deprecated and will be removed in a future version.  The public classes are available in the top-level namespace.\n",
      "  from pandas.core.index import Index as PandasIndex\n"
     ]
    }
   ],
   "source": [
    "import datetime\n",
    "from IPython.display import display\n",
    "import joblib\n",
    "import numpy as np\n",
    "import pandas as pd\n",
    "import matplotlib.pyplot as plt\n",
    "import seaborn as sns\n",
    "import scipy as sp\n",
    "import warnings\n",
    "\n",
    "%matplotlib inline\n",
    "\n",
    "mem = joblib.Memory(location='~/tmp/hepato/', verbose=0)\n",
    "\n",
    "import logging\n",
    "\n",
    "%load_ext rpy2.ipython\n",
    "\n",
    "# logging.basicConfig(filename='c14.log',\n",
    "#                              filemode='a',\n",
    "#                              format='%(asctime)s,%(msecs)d %(name)s %(levelname)s %(message)s',\n",
    "#                             datefmt='%H:%M:%S',\n",
    "#                              level=logging.DEBUG)\n",
    "logging.basicConfig(level=logging.WARNING)"
   ]
  },
  {
   "cell_type": "code",
   "execution_count": 2,
   "metadata": {},
   "outputs": [],
   "source": [
    "logger = logging.getLogger()\n",
    "logger.setLevel(logging.WARNING)"
   ]
  },
  {
   "cell_type": "code",
   "execution_count": 3,
   "metadata": {},
   "outputs": [],
   "source": [
    "# %load_ext autoreload\n",
    "# %autoreload 2\n",
    "import c14\n",
    "import c14.models.liver\n",
    "import c14.models.minimal"
   ]
  },
  {
   "cell_type": "markdown",
   "metadata": {},
   "source": [
    "## Data"
   ]
  },
  {
   "cell_type": "code",
   "execution_count": 4,
   "metadata": {
    "ExecuteTime": {
     "end_time": "2019-06-12T16:46:14.483512Z",
     "start_time": "2019-06-12T16:46:14.348904Z"
    }
   },
   "outputs": [],
   "source": [
    "data = pd.read_csv('../data/C14data_liver_samples_20200129.csv')\n",
    "data = data.groupby(['type', 'sample', 'ploidy', 'pathology']).mean().dropna(how='all').reset_index()\n",
    "data['age'] = data['Dcoll'] - data['Dbirth']\n",
    "data = data.query('type == \"hepatocyte\" and pathology != \"Y\"')\n",
    "edata = c14.exp_data(data)"
   ]
  },
  {
   "cell_type": "markdown",
   "metadata": {},
   "source": [
    "## Fit the models"
   ]
  },
  {
   "cell_type": "code",
   "execution_count": 5,
   "metadata": {},
   "outputs": [],
   "source": [
    "@mem.cache\n",
    "def fit_model(edata, model, step_size=0.1, optimize_minuit_multistart_kwargs=dict(n=100,processes=8)):\n",
    "    print(f'Fitting model {model.__name__}')\n",
    "    result = {'model': model()}\n",
    "    result['op'] = c14.optimize(model=result['model'].copy(),data=edata,step_size=step_size)\n",
    "    result['vis'] = c14.visualisze(model=result['model'].copy(),data=edata,step_size=step_size)\n",
    "    result['multistart_result'] = result['op'].optimize_minuit_multistart(**optimize_minuit_multistart_kwargs)\n",
    "    try:\n",
    "        result['point_estimate'] = result['multistart_result'].sort_values('fval').iloc[0]['values']\n",
    "        result['cov'] = result['multistart_result'].sort_values('fval').iloc[0]['cov']\n",
    "    except:\n",
    "        print(f'Multistart found no valid results for model {model.__name__}')\n",
    "    try:\n",
    "        result['errors'] = result['vis'].calc_error(result['point_estimate'], result['cov'], ignore_physics=True)\n",
    "    except:\n",
    "        print(f'Could not calculate errors for {model.__name__}')\n",
    "    return result"
   ]
  },
  {
   "cell_type": "code",
   "execution_count": 6,
   "metadata": {},
   "outputs": [],
   "source": [
    "def fit_models(edata, models, step_size=0.1, optimize_minuit_multistart_kwargs=dict(n=100,processes=8)):\n",
    "    results = {model.__name__: fit_model(edata, model, step_size, optimize_minuit_multistart_kwargs)\n",
    "               for model in models}\n",
    "    return results"
   ]
  },
  {
   "cell_type": "code",
   "execution_count": 34,
   "metadata": {},
   "outputs": [
    {
     "data": {
      "text/plain": [
       "[c14.models.liver.R]"
      ]
     },
     "execution_count": 34,
     "metadata": {},
     "output_type": "execute_result"
    }
   ],
   "source": [
    "models = c14.models.liver.models_list + [c14.models.minimal.POP1]\n",
    "models = [c14.models.liver.R]\n",
    "models"
   ]
  },
  {
   "cell_type": "code",
   "execution_count": 35,
   "metadata": {},
   "outputs": [],
   "source": [
    "init_limit = {'r2': (-3, 0), \n",
    "              'r2_0': (-3, 0), \n",
    "              'r2_100': (-3, 0), \n",
    "              'r4': (-3, 0),\n",
    "              'lambda2': (-3, 0),\n",
    "              'lambda4': (-3, 0),\n",
    "              'kappa24': (-3, 0),\n",
    "              'kappa24_0': (-3, 0),\n",
    "              'kappa24_100': (-3, 0),\n",
    "              'kappa42': (-3, 0),\n",
    "              'delta2': (-3, 0),\n",
    "              'delta2_0': (-3, 0),\n",
    "              'delta2_100': (-3, 0),\n",
    "              'delta4': (-3, 0),\n",
    "              'f': (1, 3),\n",
    "              'lambda_': (-3, 0),\n",
    "              'r2_0': (-3, 0),\n",
    "              'r2_1': (-3, 0),\n",
    "              'r2_100': (-3, 0),\n",
    "              't_step': (np.log10(5), np.log10(70))\n",
    "             }"
   ]
  },
  {
   "cell_type": "code",
   "execution_count": 36,
   "metadata": {},
   "outputs": [
    {
     "data": {
      "text/plain": [
       "{'divide': 'ignore', 'over': 'ignore', 'under': 'ignore', 'invalid': 'ignore'}"
      ]
     },
     "execution_count": 36,
     "metadata": {},
     "output_type": "execute_result"
    }
   ],
   "source": [
    "np.seterr(all='ignore')"
   ]
  },
  {
   "cell_type": "code",
   "execution_count": null,
   "metadata": {},
   "outputs": [
    {
     "name": "stdout",
     "output_type": "stream",
     "text": [
      "Fitting model R\n",
      "[(-3, 0), (-3, 0), (-3, 0), (-3, 0)]\n"
     ]
    }
   ],
   "source": [
    "%%time\n",
    "results = fit_models(edata, models, step_size=0.5, \n",
    "                     optimize_minuit_multistart_kwargs=dict(n=100, \n",
    "                                                            processes=7, \n",
    "                                                            init_limit=init_limit)\n",
    "                    )"
   ]
  },
  {
   "cell_type": "code",
   "execution_count": null,
   "metadata": {},
   "outputs": [],
   "source": [
    "def summarise(results):\n",
    "    parameters = pd.concat(\n",
    "        [result['vis'].get_parameter(result['point_estimate'], \n",
    "                                     result['cov'], \n",
    "                                     t_eval=[20, 50, 80],\n",
    "                                     samples=1000,\n",
    "                                    ignore_physics=True)\n",
    "         .assign(model = name).reset_index() for name, result in results.items()\n",
    "        ], ignore_index=True)\n",
    "\n",
    "    parameters['point_estimate'] = parameters['point_estimate'].astype(float)\n",
    "    parameters['lower'] = parameters['lower'].astype(float)\n",
    "    parameters['upper'] = parameters['upper'].astype(float).replace(np.inf, 1e99)\n",
    "    parameters['parameter'] = parameters['parameter'].astype(str)\n",
    "    parameters['time'] = parameters['time'].astype(str)\n",
    "\n",
    "    parameters['ymin'] = parameters['point_estimate'] - parameters['lower']\n",
    "    parameters['ymax'] = parameters['upper'] - parameters['point_estimate']\n",
    "    return parameters"
   ]
  },
  {
   "cell_type": "code",
   "execution_count": null,
   "metadata": {},
   "outputs": [],
   "source": [
    "parameters = summarise(results)\n",
    "# parameters_young = summarise(results_young)\n",
    "# parameters_old = summarise(results_old)"
   ]
  },
  {
   "cell_type": "code",
   "execution_count": null,
   "metadata": {},
   "outputs": [],
   "source": [
    "parameters[parameters['lower'] > parameters['point_estimate']]"
   ]
  },
  {
   "cell_type": "code",
   "execution_count": null,
   "metadata": {},
   "outputs": [],
   "source": [
    "parameters[(parameters['upper'] < parameters['point_estimate'])]"
   ]
  },
  {
   "cell_type": "markdown",
   "metadata": {},
   "source": [
    "## Parameter Values"
   ]
  },
  {
   "cell_type": "markdown",
   "metadata": {},
   "source": [
    "### Summarized"
   ]
  },
  {
   "cell_type": "code",
   "execution_count": null,
   "metadata": {},
   "outputs": [],
   "source": [
    "parameters.query('parameter == \"delta2\" and time == \"20\"')"
   ]
  },
  {
   "cell_type": "code",
   "execution_count": null,
   "metadata": {},
   "outputs": [],
   "source": [
    "p_names = parameters['parameter'].unique()\n",
    "# paras = [parameters, parameters_young, parameters_old]\n",
    "\n",
    "fig, axs = plt.subplots(len(p_names), 1, figsize=(3, 30))\n",
    "\n",
    "\n",
    "\n",
    "ylimits = {'delta2': (0, 1),\n",
    "           'p2': (0.5, 1.1),\n",
    "           'p4': (0.5, 1.1),\n",
    "           'kappa24': (0, 0.5),\n",
    "           'kappa42': (0, 1.15),\n",
    "          'ratio_kappa': (0, 10)}\n",
    "\n",
    "for parameter, ax in zip(p_names, axs):\n",
    "    data = parameters[parameters['parameter'] == parameter]\n",
    "    for time, time_data in data.groupby('time'):\n",
    "        ax.errorbar('model', 'point_estimate', time_data[['ymin', 'ymax']].T.abs().values,\n",
    "                    data=time_data, marker='o', ls='None', label=time)\n",
    "        ax.legend()\n",
    "        ax.set_ylabel(parameter)\n",
    "#     try:\n",
    "#         ax.set_ylim(ylimits[parameter])\n",
    "#     except:\n",
    "    ylim = ax.get_ylim()\n",
    "    ax.set_ylim(max(ylim[0], 0), ylim[1])\n",
    "    ax.tick_params(axis='x', labelrotation=45)\n",
    "\n",
    "plt.tight_layout()\n",
    "plt.show()"
   ]
  },
  {
   "cell_type": "markdown",
   "metadata": {},
   "source": [
    "### Detailed"
   ]
  },
  {
   "cell_type": "code",
   "execution_count": null,
   "metadata": {},
   "outputs": [],
   "source": [
    "for name, result in results.items():\n",
    "    if name not in ['']:\n",
    "        no_plot = ['ratio_kappa', 'ratio_f']\n",
    "        fig, axs = plt.subplots(1, 3, figsize=(16,6))\n",
    "        fig.suptitle(name)\n",
    "        result['vis'].plot_parameter(result['point_estimate'], result['errors'],\n",
    "                                         no_plot=no_plot, axis=axs[0])\n",
    "#         result['vis'].plot_parameter(result['point_estimate'], \n",
    "#                                          no_plot=no_plot, axis=axs[0])\n",
    "\n",
    "        axs[0].legend()\n",
    "        axs[0].set_ylabel('parameter values')\n",
    "        axs[0].set_ylim(0, 1)\n",
    "        axs[0].set_xlim(0, 85)\n",
    "\n",
    "        fval = result['multistart_result']['fval']\n",
    "        axs[1].scatter(np.arange(len(fval)), fval.values)\n",
    "        axs[1].set_xlabel('rank')\n",
    "        axs[1].set_ylabel('-log L')\n",
    "    #         axs[1].set_xlim(0, 100)\n",
    "        \n",
    "        _ = result['vis'].odeint()\n",
    "        result['vis'].plot_simdata( axis=axs[2], cmap=plt.cm.viridis)\n",
    "        axs[2].set_xlim(1920, 2020)\n",
    "\n",
    "        plt.show()\n",
    "\n",
    "        try:\n",
    "            display(result['vis'].get_parameter(result['point_estimate'], result['cov'], t_eval=[0, 50, 80, 100], ignore_physics=True\n",
    "                                               ))\n",
    "        except:\n",
    "            pass"
   ]
  },
  {
   "cell_type": "markdown",
   "metadata": {},
   "source": [
    "## Export"
   ]
  },
  {
   "cell_type": "code",
   "execution_count": 31,
   "metadata": {},
   "outputs": [],
   "source": [
    "# model = 'A'\n",
    "\n",
    "# time = np.linspace(0, 100, 101)\n",
    "# df = pd.DataFrame(results[model]['model'].get_implicit_parameters(time))[['r2', 'kappa24', 'ratio_r', 'p']]\n",
    "# # df.columns=['r2', 'r4', 'kappa24', 'kappa42', 'ratio_r']\n",
    "# df['r4'] = results[model]['model'].r4\n",
    "# df['kappa42'] = results[model]['model'].kappa42\n",
    "# df['delta2'] = results[model]['model'].delta2\n",
    "# df['delta4'] = results[model]['model'].delta4\n",
    "# df['age'] = time\n",
    "# df['ploidy'] = c14.models.liver.A().ploidy(df['age'])\n",
    "# df.head()\n",
    "\n",
    "# result = results[model]\n",
    "# df = result['vis'].get_parameter(result['point_estimate'], result['cov'], t_eval=time).unstack().reset_index()\n",
    "\n",
    "# df = df[['time', 'point_estimate']]\n",
    "\n",
    "# df.to_excel('../../../results/parameters_A.xlsx')"
   ]
  },
  {
   "cell_type": "markdown",
   "metadata": {},
   "source": [
    "## Model selection"
   ]
  },
  {
   "cell_type": "code",
   "execution_count": 32,
   "metadata": {},
   "outputs": [],
   "source": [
    "# _ = results.pop('POP1', None)"
   ]
  },
  {
   "cell_type": "code",
   "execution_count": 33,
   "metadata": {},
   "outputs": [
    {
     "data": {
      "text/html": [
       "<div>\n",
       "<style scoped>\n",
       "    .dataframe tbody tr th:only-of-type {\n",
       "        vertical-align: middle;\n",
       "    }\n",
       "\n",
       "    .dataframe tbody tr th {\n",
       "        vertical-align: top;\n",
       "    }\n",
       "\n",
       "    .dataframe thead th {\n",
       "        text-align: right;\n",
       "    }\n",
       "</style>\n",
       "<table border=\"1\" class=\"dataframe\">\n",
       "  <thead>\n",
       "    <tr style=\"text-align: right;\">\n",
       "      <th></th>\n",
       "      <th>cAIC</th>\n",
       "      <th>loglike</th>\n",
       "      <th>nparas</th>\n",
       "      <th>delta</th>\n",
       "      <th>w</th>\n",
       "      <th>ER</th>\n",
       "    </tr>\n",
       "  </thead>\n",
       "  <tbody>\n",
       "    <tr>\n",
       "      <th>R_kappa_wo_limit</th>\n",
       "      <td>-211.514975</td>\n",
       "      <td>111.526718</td>\n",
       "      <td>5</td>\n",
       "      <td>0.000000</td>\n",
       "      <td>0.221252</td>\n",
       "      <td>1.000000</td>\n",
       "    </tr>\n",
       "    <tr>\n",
       "      <th>R_kappa_wo_limit_k42_free</th>\n",
       "      <td>-211.514975</td>\n",
       "      <td>111.526718</td>\n",
       "      <td>5</td>\n",
       "      <td>0.000000</td>\n",
       "      <td>0.221252</td>\n",
       "      <td>1.000000</td>\n",
       "    </tr>\n",
       "    <tr>\n",
       "      <th>R</th>\n",
       "      <td>-211.374377</td>\n",
       "      <td>111.456419</td>\n",
       "      <td>5</td>\n",
       "      <td>0.140598</td>\n",
       "      <td>0.206232</td>\n",
       "      <td>1.072829</td>\n",
       "    </tr>\n",
       "    <tr>\n",
       "      <th>D</th>\n",
       "      <td>-211.197078</td>\n",
       "      <td>111.367770</td>\n",
       "      <td>5</td>\n",
       "      <td>0.317897</td>\n",
       "      <td>0.188737</td>\n",
       "      <td>1.172278</td>\n",
       "    </tr>\n",
       "    <tr>\n",
       "      <th>POP1</th>\n",
       "      <td>-210.898060</td>\n",
       "      <td>107.591887</td>\n",
       "      <td>2</td>\n",
       "      <td>0.616915</td>\n",
       "      <td>0.162527</td>\n",
       "      <td>1.361324</td>\n",
       "    </tr>\n",
       "  </tbody>\n",
       "</table>\n",
       "</div>"
      ],
      "text/plain": [
       "                                 cAIC     loglike  nparas     delta         w  \\\n",
       "R_kappa_wo_limit          -211.514975  111.526718       5  0.000000  0.221252   \n",
       "R_kappa_wo_limit_k42_free -211.514975  111.526718       5  0.000000  0.221252   \n",
       "R                         -211.374377  111.456419       5  0.140598  0.206232   \n",
       "D                         -211.197078  111.367770       5  0.317897  0.188737   \n",
       "POP1                      -210.898060  107.591887       2  0.616915  0.162527   \n",
       "\n",
       "                                 ER  \n",
       "R_kappa_wo_limit           1.000000  \n",
       "R_kappa_wo_limit_k42_free  1.000000  \n",
       "R                          1.072829  \n",
       "D                          1.172278  \n",
       "POP1                       1.361324  "
      ]
     },
     "execution_count": 33,
     "metadata": {},
     "output_type": "execute_result"
    }
   ],
   "source": [
    "model_selection_results = pd.DataFrame(\n",
    "    pd.Series(\n",
    "        {name: result['op'].calc_aicc(result['point_estimate'])\n",
    "         for name, result in results.items()}, name='cAIC'))\n",
    "model_selection_results['loglike'] = [result['op'].loglike_dict(result['point_estimate']) for name, result in results.items()]\n",
    "model_selection_results['nparas'] = [result['model'].nparas for name, result in results.items()] \n",
    "model_selection_results['nparas'] += 1\n",
    "model_selection_results = pd.DataFrame(model_selection_results)\n",
    "model_selection_results['delta'] = model_selection_results['cAIC'] - model_selection_results['cAIC'].min() \n",
    "model_selection_results['w'] = np.exp(-0.5*model_selection_results['delta']) / np.exp(-0.5*model_selection_results['delta']).sum()\n",
    "model_selection_results['ER'] = model_selection_results['w'].max() / model_selection_results['w']\n",
    "model_selection_results.sort_values('cAIC')"
   ]
  },
  {
   "cell_type": "code",
   "execution_count": null,
   "metadata": {},
   "outputs": [],
   "source": [
    "# parameters = parameters.merge(model_selection_results, left_on='model', right_index=True)"
   ]
  },
  {
   "cell_type": "code",
   "execution_count": null,
   "metadata": {},
   "outputs": [],
   "source": [
    "# parameters['log10_point_estimate'] = np.log10(parameters['point_estimate'])\n",
    "# parameters['log10_lower'] = np.log10(parameters['lower'])\n",
    "# parameters['log10_upper'] = np.log10(parameters['upper'])\n",
    "# parameters.head()\n",
    "\n",
    "# parameters['log10_error_lower'] = parameters['log10_point_estimate'] - parameters['log10_lower']\n",
    "# parameters['log10_error_upper'] = -parameters['log10_point_estimate'] + parameters['log10_upper']\n",
    "\n",
    "# parameters['log10_error'] = parameters[['log10_error_lower', 'log10_error_upper']].mean(axis='columns')\n",
    "\n",
    "# parameters.head()\n",
    "\n",
    "# def parameter_average(data):\n",
    "#     parameter = data['parameter'].iloc[0]\n",
    "#     log10_mean = np.average(data['log10_point_estimate'], weights=data['w'])\n",
    "#     log10_error = np.average(\n",
    "#         np.sqrt(data['log10_error']**2 + (data['log10_point_estimate'] - log10_mean)**2),\n",
    "#         weights=data['w'])\n",
    "#     point_estimate = 10**log10_mean\n",
    "#     lower = 10**(log10_mean-log10_error)\n",
    "#     upper = 10**(log10_mean+log10_error)\n",
    "#     return pd.Series({\n",
    "#         'point_estimate': point_estimate,\n",
    "#         'lower': lower,\n",
    "#         'upper': upper,\n",
    "#         'model': 'average',\n",
    "#         'ymin': point_estimate - lower,\n",
    "#         'ymax': point_estimate + upper,\n",
    "#         'log10_point_estimate': log10_mean,\n",
    "#         'log10_error': log10_error\n",
    "#     })\n",
    "\n",
    "# rates = [\"r2\", \"r4\", \"delta2\", \"delta4\", \"kappa24\", \"kappa42\", \"lambda2\", \"lambda4\"]\n",
    "\n",
    "# averaged_parameters = (parameters\n",
    "#                        .query('parameter in @rates')\n",
    "#                        .groupby(['time', 'parameter'])\n",
    "#                        .apply(parameter_average)\n",
    "#                        .reset_index()\n",
    "#                         )"
   ]
  },
  {
   "cell_type": "code",
   "execution_count": null,
   "metadata": {},
   "outputs": [],
   "source": [
    "# parameters = pd.concat([parameters, averaged_parameters], axis='rows', sort=False)"
   ]
  },
  {
   "cell_type": "code",
   "execution_count": null,
   "metadata": {},
   "outputs": [],
   "source": [
    "# p_names = parameters['parameter'].unique()\n",
    "# paras = 3*[parameters]\n",
    "# fig, axss = plt.subplots(len(p_names), len(paras), figsize=(9, 30))\n",
    "\n",
    "\n",
    "\n",
    "# ylimits = {'delta2': (0, 2),\n",
    "#            'delta4': (0, 1),\n",
    "#            'lambda2': (0, 2),\n",
    "#            'r2': (0, 2),\n",
    "#            'p2': (0.5, 1.1),\n",
    "#            'p4': (0.5, 1.1),\n",
    "#            'kappa24': (0, 0.2),\n",
    "#           'ratio_kappa': (0, 10)}\n",
    "\n",
    "# for parameter, axs in zip(p_names, axss):\n",
    "#     for para, ax in zip(paras, axs):\n",
    "#         data = para[para['parameter'] == parameter]\n",
    "#         for time, time_data in data.groupby('time'):\n",
    "#             ax.errorbar('model', 'point_estimate', time_data[['ymin', 'ymax']].T.abs().values,\n",
    "#                         data=time_data, marker='o', ls='None', label=time)\n",
    "#             ax.legend()\n",
    "#             ax.set_ylabel(parameter)\n",
    "#         try:\n",
    "#             ax.set_ylim(ylimits[parameter])\n",
    "#         except:\n",
    "#             ax.set_ylim(0, 1)\n",
    "#         ax.tick_params(axis='x', labelrotation=45)\n",
    "\n",
    "# plt.tight_layout()\n",
    "# plt.show()"
   ]
  }
 ],
 "metadata": {
  "kernelspec": {
   "display_name": "Python [conda env:spols200116] *",
   "language": "python",
   "name": "conda-env-spols200116-py"
  },
  "language_info": {
   "codemirror_mode": {
    "name": "ipython",
    "version": 3
   },
   "file_extension": ".py",
   "mimetype": "text/x-python",
   "name": "python",
   "nbconvert_exporter": "python",
   "pygments_lexer": "ipython3",
   "version": "3.7.6"
  },
  "toc": {
   "nav_menu": {
    "height": "12px",
    "width": "252px"
   },
   "number_sections": true,
   "sideBar": true,
   "skip_h1_title": false,
   "title_cell": "Table of Contents",
   "title_sidebar": "Contents",
   "toc_cell": false,
   "toc_position": {},
   "toc_section_display": "block",
   "toc_window_display": false
  }
 },
 "nbformat": 4,
 "nbformat_minor": 4
}
