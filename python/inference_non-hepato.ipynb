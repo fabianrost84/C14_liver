{
 "cells": [
  {
   "cell_type": "markdown",
   "metadata": {},
   "source": [
    "# Initialise "
   ]
  },
  {
   "cell_type": "markdown",
   "metadata": {},
   "source": [
    "default_parameters -> fit\n",
    "\n",
    "default_limit -> physical\n",
    "\n",
    "parameters -> physical"
   ]
  },
  {
   "cell_type": "code",
   "execution_count": 22,
   "metadata": {
    "ExecuteTime": {
     "end_time": "2019-06-12T16:46:11.667471Z",
     "start_time": "2019-06-12T16:46:09.329920Z"
    }
   },
   "outputs": [],
   "source": [
    "import datetime\n",
    "from IPython.display import display\n",
    "import joblib\n",
    "import numpy as np\n",
    "import pandas as pd\n",
    "import matplotlib.pyplot as plt\n",
    "import warnings\n",
    "\n",
    "%matplotlib inline\n",
    "\n",
    "mem = joblib.Memory(location='/scratch/tmp/fabrost/non-hepato', verbose=0)\n",
    "\n",
    "import logging\n",
    "\n",
    "# logging.basicConfig(filename='c14.log',\n",
    "#                             filemode='a',\n",
    "#                             format='%(asctime)s,%(msecs)d %(name)s %(levelname)s %(message)s',\n",
    "#                             datefmt='%H:%M:%S',\n",
    "#                             level=logging.INFO)"
   ]
  },
  {
   "cell_type": "code",
   "execution_count": 23,
   "metadata": {},
   "outputs": [],
   "source": [
    "# %load_ext autoreload\n",
    "# %autoreload 2\n",
    "import c14\n",
    "import c14.models.liver_nonhepato"
   ]
  },
  {
   "cell_type": "code",
   "execution_count": 24,
   "metadata": {
    "ExecuteTime": {
     "end_time": "2019-06-12T16:46:14.483512Z",
     "start_time": "2019-06-12T16:46:14.348904Z"
    }
   },
   "outputs": [],
   "source": [
    "data = pd.read_csv('../../../results/C14data_liver_samples_20190827.csv')\n",
    "data = data.groupby(['type', 'sample', 'ploidy', 'pathology']).mean().dropna(how='all').reset_index()\n",
    "data['age'] = data['Dcoll'] - data['Dbirth']\n",
    "data = data.query('type == \"non-hepatocyte\" and pathology != \"Y\"')\n",
    "edata = c14.exp_data(data)"
   ]
  },
  {
   "cell_type": "code",
   "execution_count": 25,
   "metadata": {},
   "outputs": [],
   "source": [
    "@mem.cache\n",
    "def fit_model(edata, model, step_size=0.1, optimize_minuit_multistart_kwargs=dict(n=100,processes=8)):\n",
    "    print(f'Fitting model {model.__name__}')\n",
    "    result = {'model': model()}\n",
    "    result['op'] = c14.optimize(model=result['model'],data=edata,step_size=step_size)\n",
    "    result['vis'] = c14.visualisze(model=result['model'],data=edata,step_size=2)\n",
    "    result['multistart_result'] = result['op'].optimize_minuit_multistart(**optimize_minuit_multistart_kwargs)\n",
    "    try:\n",
    "        result['point_estimate'] = result['multistart_result'].sort_values('fval').iloc[0]['values']\n",
    "        result['cov'] = result['multistart_result'].sort_values('fval').iloc[0]['cov']\n",
    "    except:\n",
    "        print(f'Multistart found no valid results for model {model.__name__}')\n",
    "    try:\n",
    "        result['errors'] = result['vis'].calc_error(result['point_estimate'], result['cov'])\n",
    "    except:\n",
    "        print(f'Could not calculate errors for {model.__name__}')\n",
    "    return result"
   ]
  },
  {
   "cell_type": "code",
   "execution_count": 26,
   "metadata": {},
   "outputs": [],
   "source": [
    "def fit_models(edata, models, step_size=0.1, optimize_minuit_multistart_kwargs=dict(n=100,processes=8)):\n",
    "    results = {model.__name__: fit_model(edata, model, step_size, optimize_minuit_multistart_kwargs)\n",
    "               for model in models}\n",
    "    return results"
   ]
  },
  {
   "cell_type": "code",
   "execution_count": 27,
   "metadata": {},
   "outputs": [
    {
     "data": {
      "text/plain": [
       "[c14.models.minimal.POP1,\n",
       " c14.models.minimal.POP1q,\n",
       " c14.models.liver_nonhepato.POP2]"
      ]
     },
     "execution_count": 27,
     "metadata": {},
     "output_type": "execute_result"
    }
   ],
   "source": [
    "models = c14.models.liver_nonhepato.models_list\n",
    "models"
   ]
  },
  {
   "cell_type": "code",
   "execution_count": 28,
   "metadata": {},
   "outputs": [],
   "source": [
    "init_limit = {'lambda_': (-3, 0), \n",
    "              'lambda1': (-3, 0),\n",
    "              'lambda2': (-3, 0),\n",
    "              'f': (-3, 3)\n",
    "             }"
   ]
  },
  {
   "cell_type": "code",
   "execution_count": 39,
   "metadata": {},
   "outputs": [
    {
     "name": "stdout",
     "output_type": "stream",
     "text": [
      "CPU times: user 347 ms, sys: 0 ns, total: 347 ms\n",
      "Wall time: 346 ms\n"
     ]
    }
   ],
   "source": [
    "%%time\n",
    "results = fit_models(edata, models, step_size=2, \n",
    "                     optimize_minuit_multistart_kwargs=dict(n=100, \n",
    "                                                            processes=7, \n",
    "                                                            init_limit=init_limit)\n",
    "                    )"
   ]
  },
  {
   "cell_type": "code",
   "execution_count": 40,
   "metadata": {},
   "outputs": [],
   "source": [
    "# %%time\n",
    "# results = fit_models(edata, models, step_size=0.5, \n",
    "#                      optimize_minuit_multistart_kwargs=dict(n=100, \n",
    "#                                                             processes=7, \n",
    "#                                                             init_limit=init_limit)\n",
    "#                     )"
   ]
  },
  {
   "cell_type": "code",
   "execution_count": 41,
   "metadata": {},
   "outputs": [
    {
     "name": "stdout",
     "output_type": "stream",
     "text": [
      "POP1\n"
     ]
    },
    {
     "data": {
      "image/png": "[encoded data removed]",
      "text/plain": [
       "<Figure size 864x432 with 2 Axes>"
      ]
     },
     "metadata": {
      "needs_background": "light"
     },
     "output_type": "display_data"
    },
    {
     "data": {
      "text/html": [
       "<div>\n",
       "<style scoped>\n",
       "    .dataframe tbody tr th:only-of-type {\n",
       "        vertical-align: middle;\n",
       "    }\n",
       "\n",
       "    .dataframe tbody tr th {\n",
       "        vertical-align: top;\n",
       "    }\n",
       "\n",
       "    .dataframe thead th {\n",
       "        text-align: right;\n",
       "    }\n",
       "</style>\n",
       "<table border=\"1\" class=\"dataframe\">\n",
       "  <thead>\n",
       "    <tr style=\"text-align: right;\">\n",
       "      <th></th>\n",
       "      <th></th>\n",
       "      <th>point_estimate</th>\n",
       "      <th>lower</th>\n",
       "      <th>upper</th>\n",
       "    </tr>\n",
       "    <tr>\n",
       "      <th>time</th>\n",
       "      <th>parameter</th>\n",
       "      <th></th>\n",
       "      <th></th>\n",
       "      <th></th>\n",
       "    </tr>\n",
       "  </thead>\n",
       "  <tbody>\n",
       "    <tr>\n",
       "      <th rowspan=\"2\" valign=\"top\">0</th>\n",
       "      <th>delta</th>\n",
       "      <td>0.115603</td>\n",
       "      <td>0.0935211</td>\n",
       "      <td>0.140873</td>\n",
       "    </tr>\n",
       "    <tr>\n",
       "      <th>lambda_</th>\n",
       "      <td>0.115603</td>\n",
       "      <td>0.0940342</td>\n",
       "      <td>0.142119</td>\n",
       "    </tr>\n",
       "    <tr>\n",
       "      <th rowspan=\"2\" valign=\"top\">80</th>\n",
       "      <th>delta</th>\n",
       "      <td>0.115603</td>\n",
       "      <td>0.0935211</td>\n",
       "      <td>0.140873</td>\n",
       "    </tr>\n",
       "    <tr>\n",
       "      <th>lambda_</th>\n",
       "      <td>0.115603</td>\n",
       "      <td>0.0940342</td>\n",
       "      <td>0.142119</td>\n",
       "    </tr>\n",
       "  </tbody>\n",
       "</table>\n",
       "</div>"
      ],
      "text/plain": [
       "               point_estimate      lower     upper\n",
       "time parameter                                    \n",
       "0    delta           0.115603  0.0935211  0.140873\n",
       "     lambda_         0.115603  0.0940342  0.142119\n",
       "80   delta           0.115603  0.0935211  0.140873\n",
       "     lambda_         0.115603  0.0940342  0.142119"
      ]
     },
     "metadata": {},
     "output_type": "display_data"
    },
    {
     "name": "stdout",
     "output_type": "stream",
     "text": [
      "POP1q\n"
     ]
    },
    {
     "data": {
      "image/png": "[encoded data removed]",
      "text/plain": [
       "<Figure size 864x432 with 2 Axes>"
      ]
     },
     "metadata": {
      "needs_background": "light"
     },
     "output_type": "display_data"
    },
    {
     "data": {
      "text/html": [
       "<div>\n",
       "<style scoped>\n",
       "    .dataframe tbody tr th:only-of-type {\n",
       "        vertical-align: middle;\n",
       "    }\n",
       "\n",
       "    .dataframe tbody tr th {\n",
       "        vertical-align: top;\n",
       "    }\n",
       "\n",
       "    .dataframe thead th {\n",
       "        text-align: right;\n",
       "    }\n",
       "</style>\n",
       "<table border=\"1\" class=\"dataframe\">\n",
       "  <thead>\n",
       "    <tr style=\"text-align: right;\">\n",
       "      <th></th>\n",
       "      <th></th>\n",
       "      <th>point_estimate</th>\n",
       "      <th>lower</th>\n",
       "      <th>upper</th>\n",
       "    </tr>\n",
       "    <tr>\n",
       "      <th>time</th>\n",
       "      <th>parameter</th>\n",
       "      <th></th>\n",
       "      <th></th>\n",
       "      <th></th>\n",
       "    </tr>\n",
       "  </thead>\n",
       "  <tbody>\n",
       "    <tr>\n",
       "      <th rowspan=\"3\" valign=\"top\">0</th>\n",
       "      <th>delta</th>\n",
       "      <td>0.118963</td>\n",
       "      <td>0.0942747</td>\n",
       "      <td>0.147551</td>\n",
       "    </tr>\n",
       "    <tr>\n",
       "      <th>f</th>\n",
       "      <td>0.970456</td>\n",
       "      <td>0.80602</td>\n",
       "      <td>0.996164</td>\n",
       "    </tr>\n",
       "    <tr>\n",
       "      <th>lambda_</th>\n",
       "      <td>0.118963</td>\n",
       "      <td>0.0949545</td>\n",
       "      <td>0.149042</td>\n",
       "    </tr>\n",
       "    <tr>\n",
       "      <th rowspan=\"3\" valign=\"top\">80</th>\n",
       "      <th>delta</th>\n",
       "      <td>0.118963</td>\n",
       "      <td>0.0942747</td>\n",
       "      <td>0.147551</td>\n",
       "    </tr>\n",
       "    <tr>\n",
       "      <th>f</th>\n",
       "      <td>0.970456</td>\n",
       "      <td>0.80602</td>\n",
       "      <td>0.996164</td>\n",
       "    </tr>\n",
       "    <tr>\n",
       "      <th>lambda_</th>\n",
       "      <td>0.118963</td>\n",
       "      <td>0.0949545</td>\n",
       "      <td>0.149042</td>\n",
       "    </tr>\n",
       "  </tbody>\n",
       "</table>\n",
       "</div>"
      ],
      "text/plain": [
       "               point_estimate      lower     upper\n",
       "time parameter                                    \n",
       "0    delta           0.118963  0.0942747  0.147551\n",
       "     f               0.970456    0.80602  0.996164\n",
       "     lambda_         0.118963  0.0949545  0.149042\n",
       "80   delta           0.118963  0.0942747  0.147551\n",
       "     f               0.970456    0.80602  0.996164\n",
       "     lambda_         0.118963  0.0949545  0.149042"
      ]
     },
     "metadata": {},
     "output_type": "display_data"
    },
    {
     "name": "stdout",
     "output_type": "stream",
     "text": [
      "POP2\n"
     ]
    },
    {
     "data": {
      "image/png": "[encoded data removed]",
      "text/plain": [
       "<Figure size 864x432 with 2 Axes>"
      ]
     },
     "metadata": {
      "needs_background": "light"
     },
     "output_type": "display_data"
    },
    {
     "data": {
      "text/html": [
       "<div>\n",
       "<style scoped>\n",
       "    .dataframe tbody tr th:only-of-type {\n",
       "        vertical-align: middle;\n",
       "    }\n",
       "\n",
       "    .dataframe tbody tr th {\n",
       "        vertical-align: top;\n",
       "    }\n",
       "\n",
       "    .dataframe thead th {\n",
       "        text-align: right;\n",
       "    }\n",
       "</style>\n",
       "<table border=\"1\" class=\"dataframe\">\n",
       "  <thead>\n",
       "    <tr style=\"text-align: right;\">\n",
       "      <th></th>\n",
       "      <th></th>\n",
       "      <th>point_estimate</th>\n",
       "      <th>lower</th>\n",
       "      <th>upper</th>\n",
       "    </tr>\n",
       "    <tr>\n",
       "      <th>time</th>\n",
       "      <th>parameter</th>\n",
       "      <th></th>\n",
       "      <th></th>\n",
       "      <th></th>\n",
       "    </tr>\n",
       "  </thead>\n",
       "  <tbody>\n",
       "    <tr>\n",
       "      <th rowspan=\"3\" valign=\"top\">0</th>\n",
       "      <th>f</th>\n",
       "      <td>0.339955</td>\n",
       "      <td>0.236987</td>\n",
       "      <td>0.460652</td>\n",
       "    </tr>\n",
       "    <tr>\n",
       "      <th>lambda1</th>\n",
       "      <td>0.0307103</td>\n",
       "      <td>0.0153617</td>\n",
       "      <td>0.0613943</td>\n",
       "    </tr>\n",
       "    <tr>\n",
       "      <th>lambda2</th>\n",
       "      <td>1.62327</td>\n",
       "      <td>1.55138</td>\n",
       "      <td>1.69849</td>\n",
       "    </tr>\n",
       "    <tr>\n",
       "      <th rowspan=\"3\" valign=\"top\">80</th>\n",
       "      <th>f</th>\n",
       "      <td>0.339955</td>\n",
       "      <td>0.236987</td>\n",
       "      <td>0.460652</td>\n",
       "    </tr>\n",
       "    <tr>\n",
       "      <th>lambda1</th>\n",
       "      <td>0.0307103</td>\n",
       "      <td>0.0153617</td>\n",
       "      <td>0.0613943</td>\n",
       "    </tr>\n",
       "    <tr>\n",
       "      <th>lambda2</th>\n",
       "      <td>1.62327</td>\n",
       "      <td>1.55138</td>\n",
       "      <td>1.69849</td>\n",
       "    </tr>\n",
       "  </tbody>\n",
       "</table>\n",
       "</div>"
      ],
      "text/plain": [
       "               point_estimate      lower      upper\n",
       "time parameter                                     \n",
       "0    f               0.339955   0.236987   0.460652\n",
       "     lambda1        0.0307103  0.0153617  0.0613943\n",
       "     lambda2          1.62327    1.55138    1.69849\n",
       "80   f               0.339955   0.236987   0.460652\n",
       "     lambda1        0.0307103  0.0153617  0.0613943\n",
       "     lambda2          1.62327    1.55138    1.69849"
      ]
     },
     "metadata": {},
     "output_type": "display_data"
    }
   ],
   "source": [
    "for name, result in results.items():\n",
    "    print(name)\n",
    "    fig, axs = plt.subplots(1, 2, figsize=(12,6))\n",
    "    result['vis'].plot_parameter(result['point_estimate'], result['errors'], no_plot=[], axis=axs[0])\n",
    "    axs[0].legend()\n",
    "    axs[0].set_title(name)\n",
    "    axs[0].set_ylim(0,1)\n",
    "    \n",
    "    fval = result['multistart_result']['fval']\n",
    "    axs[1].scatter(np.arange(len(fval)), fval.values)\n",
    "    axs[1].set_xlabel('rank')\n",
    "    axs[1].set_ylabel('log L')\n",
    "    \n",
    "    plt.show()\n",
    "   \n",
    "    display(result['vis'].get_parameter(result['point_estimate'], result['cov'], t_eval=[0, 80]))"
   ]
  },
  {
   "cell_type": "code",
   "execution_count": 42,
   "metadata": {},
   "outputs": [
    {
     "data": {
      "text/html": [
       "<div>\n",
       "<style scoped>\n",
       "    .dataframe tbody tr th:only-of-type {\n",
       "        vertical-align: middle;\n",
       "    }\n",
       "\n",
       "    .dataframe tbody tr th {\n",
       "        vertical-align: top;\n",
       "    }\n",
       "\n",
       "    .dataframe thead th {\n",
       "        text-align: right;\n",
       "    }\n",
       "</style>\n",
       "<table border=\"1\" class=\"dataframe\">\n",
       "  <thead>\n",
       "    <tr style=\"text-align: right;\">\n",
       "      <th></th>\n",
       "      <th>cAIC</th>\n",
       "      <th>loglike</th>\n",
       "      <th>nparas</th>\n",
       "      <th>delta</th>\n",
       "      <th>w</th>\n",
       "      <th>ER</th>\n",
       "    </tr>\n",
       "  </thead>\n",
       "  <tbody>\n",
       "    <tr>\n",
       "      <th>POP1</th>\n",
       "      <td>-37.013319</td>\n",
       "      <td>21.256659</td>\n",
       "      <td>1</td>\n",
       "      <td>0.000000</td>\n",
       "      <td>0.849708</td>\n",
       "      <td>1.000000</td>\n",
       "    </tr>\n",
       "    <tr>\n",
       "      <th>POP1q</th>\n",
       "      <td>-33.320774</td>\n",
       "      <td>21.374673</td>\n",
       "      <td>2</td>\n",
       "      <td>3.692545</td>\n",
       "      <td>0.134105</td>\n",
       "      <td>6.336157</td>\n",
       "    </tr>\n",
       "    <tr>\n",
       "      <th>POP2</th>\n",
       "      <td>-29.091949</td>\n",
       "      <td>21.879308</td>\n",
       "      <td>3</td>\n",
       "      <td>7.921369</td>\n",
       "      <td>0.016187</td>\n",
       "      <td>52.493258</td>\n",
       "    </tr>\n",
       "  </tbody>\n",
       "</table>\n",
       "</div>"
      ],
      "text/plain": [
       "            cAIC    loglike  nparas     delta         w         ER\n",
       "POP1  -37.013319  21.256659       1  0.000000  0.849708   1.000000\n",
       "POP1q -33.320774  21.374673       2  3.692545  0.134105   6.336157\n",
       "POP2  -29.091949  21.879308       3  7.921369  0.016187  52.493258"
      ]
     },
     "execution_count": 42,
     "metadata": {},
     "output_type": "execute_result"
    }
   ],
   "source": [
    "final_results = pd.DataFrame(pd.Series({name: result['op'].calc_aicc(result['point_estimate']) for name, result in results.items()}, name='cAIC'))\n",
    "final_results['loglike'] = [result['op'].loglike_dict(result['point_estimate']) for model, result in results.items()]\n",
    "final_results['nparas'] = [result['model'].nparas for model, result in results.items()]\n",
    "final_results = pd.DataFrame(final_results)\n",
    "final_results['delta'] = final_results['cAIC'] - final_results['cAIC'].min() \n",
    "final_results['w'] = np.exp(-0.5*final_results['delta']) / np.exp(-0.5*final_results['delta']).sum()\n",
    "final_results['ER'] = final_results['w'].max() / final_results['w']\n",
    "final_results.sort_values('cAIC')"
   ]
  },
  {
   "cell_type": "code",
   "execution_count": null,
   "metadata": {},
   "outputs": [],
   "source": []
  }
 ],
 "metadata": {
  "kernelspec": {
   "display_name": "Python [conda env:spols190426] *",
   "language": "python",
   "name": "conda-env-spols190426-py"
  },
  "language_info": {
   "codemirror_mode": {
    "name": "ipython",
    "version": 3
   },
   "file_extension": ".py",
   "mimetype": "text/x-python",
   "name": "python",
   "nbconvert_exporter": "python",
   "pygments_lexer": "ipython3",
   "version": "3.6.7"
  },
  "toc": {
   "nav_menu": {
    "height": "12px",
    "width": "252px"
   },
   "number_sections": true,
   "sideBar": true,
   "skip_h1_title": false,
   "title_cell": "Table of Contents",
   "title_sidebar": "Contents",
   "toc_cell": false,
   "toc_position": {},
   "toc_section_display": "block",
   "toc_window_display": false
  }
 },
 "nbformat": 4,
 "nbformat_minor": 4
}
