{
 "cells": [
  {
   "cell_type": "markdown",
   "metadata": {},
   "source": [
    "# C14-hepatocyte analysis"
   ]
  },
  {
   "cell_type": "code",
   "execution_count": 2,
   "metadata": {
    "ExecuteTime": {
     "end_time": "2019-06-12T16:46:11.667471Z",
     "start_time": "2019-06-12T16:46:09.329920Z"
    }
   },
   "outputs": [],
   "source": [
    "import datetime\n",
    "from IPython.display import display\n",
    "import joblib\n",
    "import numpy as np\n",
    "import pandas as pd\n",
    "import matplotlib.pyplot as plt\n",
    "import seaborn as sns\n",
    "import warnings\n",
    "\n",
    "%matplotlib inline\n",
    "\n",
    "mem = joblib.Memory(location='~/tmp/hepato/', verbose=0)\n",
    "\n",
    "import logging\n",
    "\n",
    "%load_ext rpy2.ipython\n",
    "\n",
    "# logging.basicConfig(filename='c14.log',\n",
    "#                              filemode='a',\n",
    "#                              format='%(asctime)s,%(msecs)d %(name)s %(levelname)s %(message)s',\n",
    "#                             datefmt='%H:%M:%S',\n",
    "#                              level=logging.DEBUG)\n",
    "logging.basicConfig(level=logging.WARNING)"
   ]
  },
  {
   "cell_type": "code",
   "execution_count": 3,
   "metadata": {},
   "outputs": [],
   "source": [
    "%%R\n",
    "library(ggplot2)"
   ]
  },
  {
   "cell_type": "code",
   "execution_count": 4,
   "metadata": {},
   "outputs": [],
   "source": [
    "logger = logging.getLogger()\n",
    "logger.setLevel(logging.WARNING)"
   ]
  },
  {
   "cell_type": "code",
   "execution_count": 5,
   "metadata": {},
   "outputs": [],
   "source": [
    "# %load_ext autoreload\n",
    "# %autoreload 2\n",
    "import c14\n",
    "import c14.models.liver\n",
    "import c14.models.minimal"
   ]
  },
  {
   "cell_type": "code",
   "execution_count": 11,
   "metadata": {},
   "outputs": [],
   "source": [
    "parameters = pd.read_hdf('../../../data/R_pt.pandas').reset_index()\n",
    "parameters['time'] -= 0.5"
   ]
  },
  {
   "cell_type": "code",
   "execution_count": 12,
   "metadata": {},
   "outputs": [
    {
     "data": {
      "text/html": [
       "<div>\n",
       "<style scoped>\n",
       "    .dataframe tbody tr th:only-of-type {\n",
       "        vertical-align: middle;\n",
       "    }\n",
       "\n",
       "    .dataframe tbody tr th {\n",
       "        vertical-align: top;\n",
       "    }\n",
       "\n",
       "    .dataframe thead th {\n",
       "        text-align: right;\n",
       "    }\n",
       "</style>\n",
       "<table border=\"1\" class=\"dataframe\">\n",
       "  <thead>\n",
       "    <tr style=\"text-align: right;\">\n",
       "      <th></th>\n",
       "      <th>time</th>\n",
       "      <th>para</th>\n",
       "      <th>mean</th>\n",
       "      <th>sd</th>\n",
       "      <th>hpd_3%</th>\n",
       "      <th>hpd_97%</th>\n",
       "      <th>mcse_mean</th>\n",
       "      <th>mcse_sd</th>\n",
       "      <th>ess_mean</th>\n",
       "      <th>ess_sd</th>\n",
       "      <th>ess_bulk</th>\n",
       "      <th>ess_tail</th>\n",
       "      <th>r_hat</th>\n",
       "    </tr>\n",
       "  </thead>\n",
       "  <tbody>\n",
       "    <tr>\n",
       "      <th>0</th>\n",
       "      <td>-0.5</td>\n",
       "      <td>delta2</td>\n",
       "      <td>0.443817</td>\n",
       "      <td>0.187959</td>\n",
       "      <td>0.177931</td>\n",
       "      <td>0.833562</td>\n",
       "      <td>0.003604</td>\n",
       "      <td>0.002549</td>\n",
       "      <td>2719.602619</td>\n",
       "      <td>2719.602619</td>\n",
       "      <td>2757.407725</td>\n",
       "      <td>9105.358472</td>\n",
       "      <td>1.053975</td>\n",
       "    </tr>\n",
       "    <tr>\n",
       "      <th>1</th>\n",
       "      <td>-0.5</td>\n",
       "      <td>delta4</td>\n",
       "      <td>0.063612</td>\n",
       "      <td>0.051767</td>\n",
       "      <td>0.001001</td>\n",
       "      <td>0.136616</td>\n",
       "      <td>0.001466</td>\n",
       "      <td>0.001037</td>\n",
       "      <td>1246.088815</td>\n",
       "      <td>1246.088815</td>\n",
       "      <td>1041.678231</td>\n",
       "      <td>2531.011637</td>\n",
       "      <td>1.129736</td>\n",
       "    </tr>\n",
       "    <tr>\n",
       "      <th>2</th>\n",
       "      <td>-0.5</td>\n",
       "      <td>kappa24</td>\n",
       "      <td>0.002532</td>\n",
       "      <td>0.001218</td>\n",
       "      <td>0.001000</td>\n",
       "      <td>0.004730</td>\n",
       "      <td>0.000024</td>\n",
       "      <td>0.000017</td>\n",
       "      <td>2559.521246</td>\n",
       "      <td>2559.521246</td>\n",
       "      <td>2600.059351</td>\n",
       "      <td>6296.312424</td>\n",
       "      <td>1.059150</td>\n",
       "    </tr>\n",
       "    <tr>\n",
       "      <th>3</th>\n",
       "      <td>-0.5</td>\n",
       "      <td>kappa42</td>\n",
       "      <td>0.054310</td>\n",
       "      <td>0.050481</td>\n",
       "      <td>0.001000</td>\n",
       "      <td>0.134009</td>\n",
       "      <td>0.001515</td>\n",
       "      <td>0.001071</td>\n",
       "      <td>1110.438654</td>\n",
       "      <td>1110.438654</td>\n",
       "      <td>1038.341595</td>\n",
       "      <td>4028.025375</td>\n",
       "      <td>1.133182</td>\n",
       "    </tr>\n",
       "    <tr>\n",
       "      <th>4</th>\n",
       "      <td>-0.5</td>\n",
       "      <td>r2</td>\n",
       "      <td>0.436371</td>\n",
       "      <td>0.187958</td>\n",
       "      <td>0.171432</td>\n",
       "      <td>0.826768</td>\n",
       "      <td>0.003596</td>\n",
       "      <td>0.002543</td>\n",
       "      <td>2731.690276</td>\n",
       "      <td>2731.690276</td>\n",
       "      <td>2785.094694</td>\n",
       "      <td>9236.768144</td>\n",
       "      <td>1.053627</td>\n",
       "    </tr>\n",
       "  </tbody>\n",
       "</table>\n",
       "</div>"
      ],
      "text/plain": [
       "   time     para      mean        sd    hpd_3%   hpd_97%  mcse_mean   mcse_sd  \\\n",
       "0  -0.5   delta2  0.443817  0.187959  0.177931  0.833562   0.003604  0.002549   \n",
       "1  -0.5   delta4  0.063612  0.051767  0.001001  0.136616   0.001466  0.001037   \n",
       "2  -0.5  kappa24  0.002532  0.001218  0.001000  0.004730   0.000024  0.000017   \n",
       "3  -0.5  kappa42  0.054310  0.050481  0.001000  0.134009   0.001515  0.001071   \n",
       "4  -0.5       r2  0.436371  0.187958  0.171432  0.826768   0.003596  0.002543   \n",
       "\n",
       "      ess_mean       ess_sd     ess_bulk     ess_tail     r_hat  \n",
       "0  2719.602619  2719.602619  2757.407725  9105.358472  1.053975  \n",
       "1  1246.088815  1246.088815  1041.678231  2531.011637  1.129736  \n",
       "2  2559.521246  2559.521246  2600.059351  6296.312424  1.059150  \n",
       "3  1110.438654  1110.438654  1038.341595  4028.025375  1.133182  \n",
       "4  2731.690276  2731.690276  2785.094694  9236.768144  1.053627  "
      ]
     },
     "execution_count": 12,
     "metadata": {},
     "output_type": "execute_result"
    }
   ],
   "source": [
    "parameters.head()"
   ]
  },
  {
   "cell_type": "code",
   "execution_count": 13,
   "metadata": {},
   "outputs": [
    {
     "data": {
      "image/png": "[encoded data removed]"
     },
     "metadata": {},
     "output_type": "display_data"
    }
   ],
   "source": [
    "%%R -i parameters\n",
    "ggplot(parameters, aes(x=time, y=mean, ymin=hpd_3., ymax=hpd_97.)) + \n",
    "    facet_wrap(~para, scale='free') +\n",
    "    geom_line() +\n",
    "    geom_ribbon(aes(alpha = 0.1), show.legend=F)"
   ]
  },
  {
   "cell_type": "code",
   "execution_count": 14,
   "metadata": {},
   "outputs": [
    {
     "data": {
      "image/png": "[encoded data removed]"
     },
     "metadata": {},
     "output_type": "display_data"
    }
   ],
   "source": [
    "%%R -i parameters\n",
    "ggplot(parameters[parameters$para %in% c('r2', \"r4\"),],\n",
    "       aes(x=time, y=mean, ymin=hpd_3., ymax=hpd_97., fill=para)) + \n",
    "    geom_line(aes(color=para)) +\n",
    "    geom_ribbon(aes(alpha = 0.0001), show.legend=F)"
   ]
  },
  {
   "cell_type": "code",
   "execution_count": 17,
   "metadata": {},
   "outputs": [
    {
     "data": {
      "image/png": "[encoded data removed]"
     },
     "metadata": {},
     "output_type": "display_data"
    }
   ],
   "source": [
    "%%R -i parameters\n",
    "ggplot(parameters[(parameters$time %in% c(19.5, 49.5)) & !(parameters$para %in% c('ratio_kappa', 'ratio_f')), ], aes(x=para, y=mean, ymin=hpd_3., ymax=hpd_97., color=factor(time))) + \n",
    "    geom_errorbar() + \n",
    "    geom_point()"
   ]
  },
  {
   "cell_type": "code",
   "execution_count": 24,
   "metadata": {},
   "outputs": [
    {
     "data": {
      "image/png": "[encoded data removed]"
     },
     "metadata": {},
     "output_type": "display_data"
    }
   ],
   "source": [
    "%%R -i parameters\n",
    "ggplot(parameters[(parameters$time %in% c(-0.5)) & (parameters$para %in% c('ratio_f')), ], aes(x=para, y=mean, ymin=hpd_3., ymax=hpd_97., color=factor(time))) + \n",
    "    geom_errorbar() + \n",
    "    geom_point()"
   ]
  },
  {
   "cell_type": "code",
   "execution_count": null,
   "metadata": {},
   "outputs": [],
   "source": []
  }
 ],
 "metadata": {
  "kernelspec": {
   "display_name": "Python [conda env:spols191122] *",
   "language": "python",
   "name": "conda-env-spols191122-py"
  },
  "language_info": {
   "codemirror_mode": {
    "name": "ipython",
    "version": 3
   },
   "file_extension": ".py",
   "mimetype": "text/x-python",
   "name": "python",
   "nbconvert_exporter": "python",
   "pygments_lexer": "ipython3",
   "version": "3.7.3"
  },
  "toc": {
   "nav_menu": {
    "height": "12px",
    "width": "252px"
   },
   "number_sections": true,
   "sideBar": true,
   "skip_h1_title": false,
   "title_cell": "Table of Contents",
   "title_sidebar": "Contents",
   "toc_cell": false,
   "toc_position": {},
   "toc_section_display": "block",
   "toc_window_display": false
  }
 },
 "nbformat": 4,
 "nbformat_minor": 4
}
