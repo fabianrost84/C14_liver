{
 "cells": [
  {
   "cell_type": "code",
   "execution_count": 1,
   "metadata": {
    "ExecuteTime": {
     "end_time": "2018-01-03T16:28:28.927974Z",
     "start_time": "2018-01-03T16:28:26.319264Z"
    }
   },
   "outputs": [
    {
     "name": "stdout",
     "output_type": "stream",
     "text": [
      "2018-01-03T17:28:28+01:00\n",
      "\n",
      "CPython 3.6.3\n",
      "IPython 6.1.0\n",
      "\n",
      "compiler   : GCC 7.2.0\n",
      "system     : Linux\n",
      "release    : 4.4.92-18.36-default\n",
      "machine    : x86_64\n",
      "processor  : x86_64\n",
      "CPU cores  : 8\n",
      "interpreter: 64bit\n",
      "scipy 1.0.0\n"
     ]
    }
   ],
   "source": [
    "%load_ext cython\n",
    "%load_ext line_profiler\n",
    "import matplotlib.pyplot as plt\n",
    "%matplotlib inline\n",
    "import numba\n",
    "import numpy as np\n",
    "import scipy as sp\n",
    "import seaborn as sns\n",
    "%load_ext watermark\n",
    "%watermark\n",
    "%watermark -p scipy"
   ]
  },
  {
   "cell_type": "code",
   "execution_count": 2,
   "metadata": {
    "ExecuteTime": {
     "end_time": "2018-01-03T16:28:29.080939Z",
     "start_time": "2018-01-03T16:28:28.930354Z"
    }
   },
   "outputs": [],
   "source": [
    "import atm_c14_data\n",
    "import c14_individuals_data"
   ]
  },
  {
   "cell_type": "markdown",
   "metadata": {},
   "source": [
    "# Atmospheric C14 function"
   ]
  },
  {
   "cell_type": "code",
   "execution_count": 3,
   "metadata": {
    "ExecuteTime": {
     "end_time": "2018-01-03T16:28:29.156378Z",
     "start_time": "2018-01-03T16:28:29.082407Z"
    }
   },
   "outputs": [],
   "source": [
    "@numba.njit\n",
    "def C_atm(x):\n",
    "    x -=1\n",
    "    xp = np.array([ 1891.5, 1892.5, 1893.5, 1894.5, 1895.5, 1896.5, 1897.5, 1898.5, 1899.5, 1900.5, 1901.5, 1902.5, 1903.5, 1904.5, 1905.5, 1906.5, 1907.5, 1908.5, 1909.5, 1910.5, 1911.5, 1912.5, 1913.5, 1914.5, 1915.5, 1916.5, 1917.5, 1918.5, 1919.5, 1920.5, 1921.5, 1922.5, 1923.5, 1924.5, 1925.5, 1926.5, 1927.5, 1928.5, 1929.5, 1930.5, 1931.5, 1932.5, 1933.5, 1934.5, 1935.5, 1936.5, 1937.5, 1938.5, 1939.5, 1940.5, 1941.5, 1942.5, 1943.5, 1944.5, 1945.5, 1946.5, 1947.5, 1948.5, 1949.5, 1950.5, 1951.5, 1952.5, 1953.5, 1954.5, 1955.5, 1956.5, 1957.5, 1958.5, 1959.5, 1960.5, 1961.5, 1962.5, 1963.5, 1964.5, 1965.5, 1966.5, 1967.5, 1968.5, 1969.5, 1970.5, 1971.5, 1972.5, 1973.5, 1974.5, 1975.5, 1976.5, 1977.5, 1978.5, 1979.5, 1980.5, 1981.5, 1982.5, 1983.5, 1984.5, 1985.5, 1986.5, 1987.5, 1988.5, 1989.5, 1990.5, 1991.5, 1992.5, 1993.5, 1994.5, 1995.5, 1996.5, 1997.5, 1998.5, 1999.5, 2000.5, 2001.5, 2002.5, 2003.5, 2003.963938,  2004.421821,  2004.879704, 2005.337587,  2005.79547 ,  2006.253353,  2006.711236, 2007.169119,  2007.627002,  2008.084885,  2008.542768, 2009.000651,  2009.458534,  2009.916417,  2010.3743  , 2010.3743  ,  2010.626   ,  2011.125   ,  2011.626   , 2012.125   ,  2012.626   ,  2013.125   ,  2013.626   , 2014.125   ,  2014.626   ,  2015.125   ,  2015.625   , 2016.125   ,  2016.625   ,  2020.      ])\n",
    "    fp = np.array([-0.002     , -0.002     , -0.002     , -0.002     , -0.002     , -0.00233   , -0.00267   , -0.003     , -0.00333   , -0.00367   , -0.004     , -0.00433   , -0.00467   , -0.005     , -0.00533   , -0.00567   , -0.006     , -0.00633   , -0.00667   , -0.007     , -0.00733   , -0.00767   , -0.008     , -0.00833   , -0.00867   , -0.009     , -0.00933   , -0.00967   , -0.01      , -0.01033   , -0.01067   , -0.011     , -0.01133   , -0.01167   , -0.012     , -0.01233   , -0.01267   , -0.013     , -0.01333   , -0.01367   , -0.014     , -0.01433   , -0.01467   , -0.015     , -0.01533   , -0.01567   , -0.016     , -0.01633   , -0.01667   , -0.0202    , -0.0194    , -0.0196    , -0.0225    , -0.0217    , -0.0221    , -0.0216    , -0.0211    , -0.0223    , -0.0246    , -0.0248    , -0.0248    , -0.0249    , -0.0239    , -0.0211    , -0.0082    , 0.0265    ,  0.073     ,  0.1402    ,  0.228     ,  0.2123    , 0.2216    ,  0.3585    ,  0.7183    ,  0.8357    ,  0.7563    , 0.6919    ,  0.6236    ,  0.5645    ,  0.5454    ,  0.5291    , 0.4994    ,  0.4656    ,  0.4186    ,  0.4008    ,  0.3698    , 0.3525    ,  0.3339    ,  0.3258    ,  0.2958    ,  0.2645    , 0.2567    ,  0.2383    ,  0.2242    ,  0.2093    ,  0.2013    , 0.1911    ,  0.1826    ,  0.1734    ,  0.1635    ,  0.1525    , 0.1429    ,  0.1364    ,  0.1284    ,  0.1221    ,  0.1155    , 0.1099    ,  0.1043    ,  0.0981    ,  0.09      ,  0.0866    , 0.0807    ,  0.0749    ,  0.0689    ,  0.06349874,  0.06145905, 0.0597412 ,  0.05822747,  0.05641489,  0.05479531,  0.05364811, 0.05205465,  0.05067073,  0.04927897,  0.04788014,  0.04647508, 0.04506462,  0.04364948,  0.04223027,  0.04223027,  0.0403    , 0.0347    ,  0.0371    ,  0.0312    ,  0.0299    ,  0.0193    , 0.0219    ,  0.0182    ,  0.018     ,  0.0116    ,  0.0129    , 0.0096    ,  0.0097    ,  0.0097    ])\n",
    "    \n",
    "    if x<xp[0]:\n",
    "        return fp[0]\n",
    "    elif x>xp[-1]:\n",
    "        return fp[-1]\n",
    "    else:\n",
    "        for i in range(len(xp)):\n",
    "            if x<xp[i]:\n",
    "                break\n",
    "        return fp[i-1] + (fp[i] - fp[i-1]) * (x - xp[i-1]) / (xp[i] - xp[i-1])"
   ]
  },
  {
   "cell_type": "code",
   "execution_count": 4,
   "metadata": {
    "ExecuteTime": {
     "end_time": "2018-01-03T16:28:29.673710Z",
     "start_time": "2018-01-03T16:28:29.157548Z"
    }
   },
   "outputs": [
    {
     "data": {
      "image/png": "[encoded data removed]",
      "text/plain": [
       "<matplotlib.figure.Figure at 0x7ff6092f9f28>"
      ]
     },
     "metadata": {},
     "output_type": "display_data"
    }
   ],
   "source": [
    "tt = np.linspace(1930, 2020)\n",
    "plt.plot(tt, np.vectorize(C_atm)(tt))\n",
    "\n",
    "plt.xlabel('year')\n",
    "plt.ylabel('atm. C14')\n",
    "\n",
    "plt.show()"
   ]
  },
  {
   "cell_type": "markdown",
   "metadata": {},
   "source": [
    "# Scenario I1_d1"
   ]
  },
  {
   "cell_type": "markdown",
   "metadata": {},
   "source": [
    "I stands for inheritence. Half of the DNA is inherited from the mother to the daughter.\n",
    "1 stands for 1 population.\n",
    "d1 stands for single daughter assumption."
   ]
  },
  {
   "cell_type": "markdown",
   "metadata": {},
   "source": [
    "## Discretization of master equation"
   ]
  },
  {
   "cell_type": "code",
   "execution_count": 5,
   "metadata": {
    "ExecuteTime": {
     "end_time": "2018-01-03T16:28:29.812099Z",
     "start_time": "2018-01-03T16:28:29.674866Z"
    }
   },
   "outputs": [],
   "source": [
    "@numba.njit\n",
    "def f(t, C):\n",
    "    return 0.5 * (C + C_atm(t))\n",
    "\n",
    "@numba.njit\n",
    "def find_nearest(C, CC):\n",
    "    dC = (CC[1] - CC[0])/ (CC[-1] - CC[0]) \n",
    "    i = np.rint((C - CC[0])/ (CC[-1] - CC[0]) /dC)\n",
    "    i = i.astype(np.int16)\n",
    "    return i\n",
    "\n",
    "@numba.njit\n",
    "def k(t, CC, C):\n",
    "    return find_nearest(f(t, C), CC)\n",
    "\n",
    "@numba.njit\n",
    "def kCC(t, CC):\n",
    "    return k(t, CC, CC)\n",
    "\n",
    "@numba.njit\n",
    "def target_matrix(t, CC):\n",
    "    n = len(CC)\n",
    "    T = np.zeros((n, n))\n",
    "    k = kCC(t, CC)\n",
    "    for j, i in enumerate(k):\n",
    "        T[i, j] = 1.0\n",
    "    return T\n",
    "\n",
    "@numba.njit\n",
    "def rate_matrix(t, CC):\n",
    "    T = target_matrix(t, CC)\n",
    "    A = T - np.eye(len(CC))\n",
    "    return A\n",
    "\n",
    "@numba.njit\n",
    "def rhs(N, t0, CC, r):\n",
    "    A = rate_matrix(t0, CC)\n",
    "    dNdt = r * A @ N\n",
    "    return dNdt\n",
    "\n",
    "@numba.jit\n",
    "def I1_d1a(Dbirth, Dcoll, r, n=3, dt = 0.1):\n",
    "    C_min = -0.024899999999999999\n",
    "    C_max = 0.8357\n",
    "    \n",
    "    CC = np.linspace(C_min, C_max, n)\n",
    "    \n",
    "    N0 = np.zeros(n)\n",
    "    N0[find_nearest(np.array([C_atm(Dbirth)]), CC)] = 1\n",
    "    \n",
    "    t= (Dbirth, Dcoll)\n",
    "    sol = sp.integrate.odeint(rhs, N0, t, args=(CC, r), mxstep=int(1e5))\n",
    "    N = sol[-1]\n",
    "    C = np.average(CC, weights=N)\n",
    "    return C"
   ]
  },
  {
   "cell_type": "markdown",
   "metadata": {
    "collapsed": true
   },
   "source": [
    "## Gillespie"
   ]
  },
  {
   "cell_type": "code",
   "execution_count": 6,
   "metadata": {
    "ExecuteTime": {
     "end_time": "2018-01-03T16:28:29.831446Z",
     "start_time": "2018-01-03T16:28:29.813419Z"
    }
   },
   "outputs": [],
   "source": [
    "@numba.njit\n",
    "def C_L1_cell(Dbirth, Dcoll, r, C_init=np.inf):\n",
    "    t = Dbirth\n",
    "    \n",
    "    if C_init==np.inf:\n",
    "        C_init = C_atm(t)\n",
    "    c = C_init\n",
    "    \n",
    "    while True:\n",
    "        t += np.random.exponential(1/r)\n",
    "        if t > Dcoll:\n",
    "            break\n",
    "        else:\n",
    "            c = 0.5 * (c + C_atm(t))\n",
    "    return c\n",
    "\n",
    "@numba.njit\n",
    "def I1_d1b(Dbirth, Dcoll, r, N=1000, C_init=np.inf):\n",
    "    cc = np.array([C_L1_cell(Dbirth, Dcoll, r, C_init) for i in range(N)])\n",
    "    return cc.mean()"
   ]
  },
  {
   "cell_type": "markdown",
   "metadata": {},
   "source": [
    "## ODE"
   ]
  },
  {
   "cell_type": "markdown",
   "metadata": {},
   "source": [
    "You get this ODE by calculating the first moment of the master equation."
   ]
  },
  {
   "cell_type": "code",
   "execution_count": 7,
   "metadata": {
    "ExecuteTime": {
     "end_time": "2018-01-03T16:28:29.844653Z",
     "start_time": "2018-01-03T16:28:29.832802Z"
    }
   },
   "outputs": [],
   "source": [
    "def I1_d1(Dbirth, Dcoll, r, C_init=np.inf):\n",
    "    if C_init==np.inf:\n",
    "        C_init = C_atm(Dbirth)\n",
    "\n",
    "    def rhs(t, c, r):\n",
    "        return 0.5 * r * (C_atm(t) - c)\n",
    "    def Dfun(c, t0, r):\n",
    "        return -0.5 * r\n",
    "    C = sp.integrate.solve_ivp(fun=lambda t, c: rhs(t, c, r=r),\n",
    "                               t_span=[Dbirth, Dcoll],\n",
    "                               y0=[C_init], \n",
    "                               t_eval=[Dcoll])['y'][0, 0]\n",
    "    return C"
   ]
  },
  {
   "cell_type": "markdown",
   "metadata": {},
   "source": [
    "## Compare"
   ]
  },
  {
   "cell_type": "markdown",
   "metadata": {},
   "source": [
    "Same results:"
   ]
  },
  {
   "cell_type": "code",
   "execution_count": 8,
   "metadata": {
    "ExecuteTime": {
     "end_time": "2018-01-03T16:28:32.277546Z",
     "start_time": "2018-01-03T16:28:29.845830Z"
    }
   },
   "outputs": [
    {
     "name": "stdout",
     "output_type": "stream",
     "text": [
      "0.124877724311\n",
      "0.12572572717407673\n",
      "0.125491263298\n"
     ]
    }
   ],
   "source": [
    "print(I1_d1a(1930, 2015, 0.1, n=30))\n",
    "print(I1_d1b(1930, 2015, 0.1, 10000))\n",
    "print(I1_d1(1930, 2015, 0.1))"
   ]
  },
  {
   "cell_type": "markdown",
   "metadata": {},
   "source": [
    "Performance:"
   ]
  },
  {
   "cell_type": "code",
   "execution_count": 9,
   "metadata": {
    "ExecuteTime": {
     "end_time": "2018-01-03T16:28:56.787689Z",
     "start_time": "2018-01-03T16:28:32.278706Z"
    }
   },
   "outputs": [
    {
     "name": "stdout",
     "output_type": "stream",
     "text": [
      "26 ms ± 304 µs per loop (mean ± std. dev. of 7 runs, 10 loops each)\n",
      "88.6 ms ± 1.79 ms per loop (mean ± std. dev. of 7 runs, 10 loops each)\n",
      "1.87 ms ± 97.3 µs per loop (mean ± std. dev. of 7 runs, 1000 loops each)\n"
     ]
    }
   ],
   "source": [
    "%timeit I1_d1a(1930, 2015, 0.1, n=30)\n",
    "%timeit I1_d1b(1930, 2015, 0.1, 10000)\n",
    "%timeit I1_d1(1930, 2015, 0.1)"
   ]
  },
  {
   "cell_type": "markdown",
   "metadata": {},
   "source": [
    "# Scenario I1"
   ]
  },
  {
   "cell_type": "markdown",
   "metadata": {},
   "source": [
    "I stands for inheritence. Half of the DNA is inherited from the mother to the daughter.\n",
    "1 stands for 1 population.\n",
    "Here, the more realistic 2 daughter assumption is used."
   ]
  },
  {
   "cell_type": "markdown",
   "metadata": {},
   "source": [
    "## Gillespie"
   ]
  },
  {
   "cell_type": "code",
   "execution_count": 10,
   "metadata": {
    "ExecuteTime": {
     "end_time": "2018-01-03T16:28:56.830528Z",
     "start_time": "2018-01-03T16:28:56.789180Z"
    }
   },
   "outputs": [],
   "source": [
    "@numba.njit\n",
    "def I1a(Dbirth, Dcoll, lam, mu, n, C_init=np.inf):\n",
    "    t = Dbirth\n",
    "    \n",
    "    if C_init==np.inf:\n",
    "        C_init = C_atm(t)\n",
    "    cc = [C_init for i in range(n)]\n",
    "    \n",
    "    # Pre-allocated propensity vector, no values yet\n",
    "    aa = np.empty(2)\n",
    "    \n",
    "    while True:\n",
    "        n = len(cc)\n",
    "        \n",
    "        aa[0] = lam * n\n",
    "        aa[1] = mu * n\n",
    "        \n",
    "        t += np.random.exponential(1/aa.sum())\n",
    "        \n",
    "        p_division = aa[0] / aa.sum()\n",
    "        \n",
    "        division_event = np.random.binomial(1, p_division)\n",
    "        \n",
    "        if division_event:\n",
    "            # cell division\n",
    "            # select random cell\n",
    "            i = np.random.randint(n)\n",
    "            # get C14 concentration from a random cell and delete this cell\n",
    "            c = cc.pop(i)\n",
    "            # calculate new C14 concentration\n",
    "            c = 0.5 * (c + C_atm(t))\n",
    "            # add two new cells with updated concentration\n",
    "            cc.append(c)\n",
    "            cc.append(c)\n",
    "        else:\n",
    "            # cell death\n",
    "            # select random cell\n",
    "            i = np.random.randint(n)\n",
    "            # delete it\n",
    "            cc.pop(i)\n",
    "        \n",
    "        if t > Dcoll:\n",
    "            break\n",
    "    return np.mean(np.array(cc))"
   ]
  },
  {
   "cell_type": "code",
   "execution_count": 11,
   "metadata": {
    "ExecuteTime": {
     "end_time": "2018-01-03T16:28:56.845888Z",
     "start_time": "2018-01-03T16:28:56.831622Z"
    }
   },
   "outputs": [],
   "source": [
    "@np.vectorize\n",
    "def I1a_trajectory(t, lam, n=100):\n",
    "    return I1a(0.0, t, lam, lam, n)"
   ]
  },
  {
   "cell_type": "markdown",
   "metadata": {},
   "source": [
    "## Empirical ODE"
   ]
  },
  {
   "cell_type": "code",
   "execution_count": 12,
   "metadata": {
    "ExecuteTime": {
     "end_time": "2018-01-03T16:28:56.861042Z",
     "start_time": "2018-01-03T16:28:56.846919Z"
    }
   },
   "outputs": [],
   "source": [
    "def I1(Dbirth, Dcoll, r, C_init=np.inf, timing=False):\n",
    "    if C_init==np.inf:\n",
    "        C_init = C_atm(Dbirth)\n",
    "    \n",
    "    def rhs(t, c, r):\n",
    "        return r * (C_atm(t) - c)\n",
    "    \n",
    "    if timing:\n",
    "        t_eval = np.linspace(Dbirth, Dcoll, 100)\n",
    "    else:\n",
    "        t_eval = [Dcoll]\n",
    "#     CC = sp.integrate.odeint(rhs, C_init, tt, args = (r, ), Dfun = Dfun)[:, 0]\n",
    "    \n",
    "    C = sp.integrate.solve_ivp(fun=lambda t, c: rhs(t, c, r=r),\n",
    "                               t_span=[Dbirth, Dcoll],\n",
    "                               y0=[C_init], \n",
    "                               t_eval=t_eval)\n",
    "    \n",
    "    if timing:\n",
    "        return C['t'], C['y'][0]\n",
    "    else:\n",
    "        return C['y'][0, 0]"
   ]
  },
  {
   "cell_type": "markdown",
   "metadata": {},
   "source": [
    "## Compare"
   ]
  },
  {
   "cell_type": "code",
   "execution_count": 13,
   "metadata": {
    "ExecuteTime": {
     "end_time": "2018-01-03T16:29:03.078787Z",
     "start_time": "2018-01-03T16:28:56.862682Z"
    }
   },
   "outputs": [
    {
     "data": {
      "image/png": "[encoded data removed]",
      "text/plain": [
       "<matplotlib.figure.Figure at 0x7ff6084926d8>"
      ]
     },
     "metadata": {},
     "output_type": "display_data"
    }
   ],
   "source": [
    "tt = np.linspace(1930, 2015, 20)\n",
    "\n",
    "lam = 0.1\n",
    "\n",
    "np.random.seed(42)\n",
    "plt.plot(tt, I1a_trajectory(tt, lam, n=1000), label='Gillespie')\n",
    "plt.plot(*I1(1930, 2015, 0.1, timing=True), label='ODE')\n",
    "\n",
    "plt.legend()\n",
    "\n",
    "plt.xlabel('year')\n",
    "plt.ylabel('C14')\n",
    "\n",
    "plt.show()"
   ]
  },
  {
   "cell_type": "markdown",
   "metadata": {},
   "source": [
    "# Scenario I1C"
   ]
  },
  {
   "cell_type": "markdown",
   "metadata": {},
   "source": [
    "C... division rate depends on subject's age"
   ]
  },
  {
   "cell_type": "markdown",
   "metadata": {},
   "source": [
    "## ODE"
   ]
  },
  {
   "cell_type": "code",
   "execution_count": 14,
   "metadata": {
    "ExecuteTime": {
     "end_time": "2018-01-03T16:29:03.109075Z",
     "start_time": "2018-01-03T16:29:03.080264Z"
    }
   },
   "outputs": [],
   "source": [
    "def I1C(Dbirth, Dcoll, r0, r1, C_init=np.inf, timing=False):\n",
    "    if C_init==np.inf:\n",
    "        C_init = C_atm(Dbirth)\n",
    "    \n",
    "    def r(t, r0, r1):\n",
    "         return r0 * np.exp(-r1 * (t-Dbirth))\n",
    "    \n",
    "    def rhs(t, c, r0, r1):\n",
    "        return r(t, r0, r1) * (C_atm(t) - c)\n",
    "    \n",
    "    if timing:\n",
    "        t_eval = np.linspace(Dbirth, Dcoll, 100)\n",
    "    else:\n",
    "        t_eval = [Dcoll]\n",
    "#     CC = sp.integrate.odeint(rhs, C_init, tt, args = (r, ), Dfun = Dfun)[:, 0]\n",
    "    \n",
    "    C = sp.integrate.solve_ivp(fun=lambda t, c: rhs(t, c, r0=r0, r1=r1),\n",
    "                               t_span=[Dbirth, Dcoll],\n",
    "                               y0=[C_init], \n",
    "                               t_eval=t_eval)\n",
    "    \n",
    "    if timing:\n",
    "        return C['t'], C['y'][0]\n",
    "    else:\n",
    "        return C['y'][0, 0]"
   ]
  },
  {
   "cell_type": "markdown",
   "metadata": {},
   "source": [
    "## Compare"
   ]
  },
  {
   "cell_type": "code",
   "execution_count": 15,
   "metadata": {
    "ExecuteTime": {
     "end_time": "2018-01-03T16:29:03.220863Z",
     "start_time": "2018-01-03T16:29:03.110523Z"
    }
   },
   "outputs": [
    {
     "data": {
      "image/png": "[encoded data removed]",
      "text/plain": [
       "<matplotlib.figure.Figure at 0x7ff608554b38>"
      ]
     },
     "metadata": {},
     "output_type": "display_data"
    }
   ],
   "source": [
    "plt.plot(tt, np.vectorize(C_atm)(tt))\n",
    "plt.plot(*I1C(1950, 2015, 0.1, 1e-1, timing=True), label='ODE')\n",
    "\n",
    "plt.legend()\n",
    "\n",
    "plt.xlabel('year')\n",
    "plt.ylabel('C14')\n",
    "\n",
    "plt.show()"
   ]
  },
  {
   "cell_type": "markdown",
   "metadata": {},
   "source": [
    "# Scenario I1E"
   ]
  },
  {
   "cell_type": "markdown",
   "metadata": {},
   "source": [
    "E...Age-dependent rates"
   ]
  },
  {
   "cell_type": "markdown",
   "metadata": {},
   "source": [
    "## Time-discrete implementation"
   ]
  },
  {
   "cell_type": "code",
   "execution_count": 16,
   "metadata": {
    "ExecuteTime": {
     "end_time": "2018-01-03T16:29:03.259798Z",
     "start_time": "2018-01-03T16:29:03.222508Z"
    }
   },
   "outputs": [],
   "source": [
    "@numba.njit\n",
    "def k(a, g0, g1):\n",
    "    return g0 * g1 / (g1 + a)\n",
    "\n",
    "@numba.njit\n",
    "def I1Ea(Dbirth, Dcoll, g0, g1, C_init=np.inf, N=1000, dt=0.1):\n",
    "    t = Dbirth\n",
    "    \n",
    "    if C_init==np.inf:\n",
    "        C_init = C_atm(t)\n",
    "    cc = C_init * np.ones(N)\n",
    "    aa = np.zeros(N)\n",
    "    \n",
    "    tt = np.arange(Dbirth, Dcoll, dt)\n",
    "    cc_mean = np.empty_like(tt)\n",
    "    \n",
    "    for i, t in enumerate(tt):\n",
    "        pp = k(aa, g0, g1) * dt\n",
    "        \n",
    "        div = np.random.rand(N) < pp\n",
    "        div_ind = np.where(div)[0]\n",
    "        \n",
    "        die_ind = np.random.choice(np.where(~div)[0], size=len(div_ind), replace=False)\n",
    "        \n",
    "        cc_new = 0.5 * (cc[div_ind] + C_atm(t))\n",
    "        \n",
    "        cc[div_ind] = cc_new\n",
    "        aa[div_ind] = 0.0\n",
    "        \n",
    "        cc[die_ind] = cc_new\n",
    "        aa[die_ind] = 0.0\n",
    "        \n",
    "        cc_mean[i] = cc.mean()\n",
    "        \n",
    "        aa += dt\n",
    "    return aa, tt, cc_mean"
   ]
  },
  {
   "cell_type": "markdown",
   "metadata": {},
   "source": [
    "## ODE"
   ]
  },
  {
   "cell_type": "code",
   "execution_count": 17,
   "metadata": {
    "ExecuteTime": {
     "end_time": "2018-01-03T16:29:03.274364Z",
     "start_time": "2018-01-03T16:29:03.262223Z"
    }
   },
   "outputs": [],
   "source": [
    "def I1E(Dbirth, Dcoll, g0, g1, C_init=np.inf):\n",
    "    if C_init==np.inf:\n",
    "        C_init = C_atm(Dbirth)\n",
    "        \n",
    "    # in the future get analytic expression to calculate steady state age distribution \n",
    "    aa, tt_LD, CC_LD = I1Ea(1930, 2070, g0, g1, N=1000, dt=0.001)    \n",
    "    r1 = k(aa, g0, g1).mean()\n",
    "    \n",
    "    tt_I1, CC_I1 = I1(1930, 2070, r1, timing=True)\n",
    "    \n",
    "    return tt_I1, CC_I1"
   ]
  },
  {
   "cell_type": "markdown",
   "metadata": {},
   "source": [
    "## Compare"
   ]
  },
  {
   "cell_type": "code",
   "execution_count": 18,
   "metadata": {
    "ExecuteTime": {
     "end_time": "2018-01-03T16:29:07.554555Z",
     "start_time": "2018-01-03T16:29:03.276069Z"
    }
   },
   "outputs": [
    {
     "data": {
      "image/png": "[encoded data removed]",
      "text/plain": [
       "<matplotlib.figure.Figure at 0x7ff6028efa20>"
      ]
     },
     "metadata": {},
     "output_type": "display_data"
    }
   ],
   "source": [
    "np.random.seed(42)\n",
    "g0 = 0.1\n",
    "g1 = 5.0\n",
    "\n",
    "tt = np.linspace(1930, 2020)\n",
    "plt.plot(tt, np.vectorize(C_atm)(tt))\n",
    "\n",
    "np.random.seed(42)\n",
    "aa, tt_I1E, CC_I1Ea = I1Ea(1930, 2070, g0, g1, N=1000, dt=0.001)\n",
    "plt.plot(tt_I1E, CC_I1Ea, label = 'LD')\n",
    "\n",
    "plt.plot(*I1E(1930, 2070, g0, g1), label = 'I1')\n",
    "\n",
    "\n",
    "\n",
    "plt.xlabel('year')\n",
    "plt.ylabel('C14 concentration')\n",
    "plt.legend()\n",
    "\n",
    "plt.show()"
   ]
  },
  {
   "cell_type": "markdown",
   "metadata": {},
   "source": [
    "# Scenario I2"
   ]
  },
  {
   "cell_type": "markdown",
   "metadata": {},
   "source": [
    "2... 2 populations without interaction, one of them is quiescent"
   ]
  },
  {
   "cell_type": "markdown",
   "metadata": {},
   "source": [
    "## ODE"
   ]
  },
  {
   "cell_type": "code",
   "execution_count": 19,
   "metadata": {
    "ExecuteTime": {
     "end_time": "2018-01-03T16:29:07.562762Z",
     "start_time": "2018-01-03T16:29:07.556146Z"
    }
   },
   "outputs": [],
   "source": [
    "def I2(Dbirth, Dcoll, r, f, C_init=np.inf, timing=False):\n",
    "    assert 0<=f<=1\n",
    "    C2 = C_atm(Dbirth)\n",
    "    if timing:\n",
    "        tt, C1 = I1(Dbirth, Dcoll, r, C_init=C_init, timing=timing)\n",
    "        return tt, f*C1 + (1.0-f)*C2\n",
    "    else:\n",
    "        C1 = I1(Dbirth, Dcoll, r, C_init=C_init, timing=timing)\n",
    "        return f*C1 + (1.0-f)*C2"
   ]
  },
  {
   "cell_type": "markdown",
   "metadata": {},
   "source": [
    "## Compare"
   ]
  },
  {
   "cell_type": "code",
   "execution_count": 20,
   "metadata": {
    "ExecuteTime": {
     "end_time": "2018-01-03T16:29:07.680715Z",
     "start_time": "2018-01-03T16:29:07.564226Z"
    }
   },
   "outputs": [
    {
     "data": {
      "image/png": "[encoded data removed]",
      "text/plain": [
       "<matplotlib.figure.Figure at 0x7ff602909f60>"
      ]
     },
     "metadata": {},
     "output_type": "display_data"
    }
   ],
   "source": [
    "plt.plot(*I1(1930, 2015, 0.1, timing=True), label='I1')\n",
    "\n",
    "plt.plot(*I2(1930, 2015, 0.1, 0.0, timing=True), label='I2, f=0.0')\n",
    "plt.plot(*I2(1930, 2015, 0.1, 0.5, timing=True), label='I2, f=0.5')\n",
    "plt.plot(*I2(1930, 2015, 0.1, 1.0, timing=True), label='I2, f=1.0')\n",
    "\n",
    "plt.legend()\n",
    "\n",
    "plt.xlabel('year')\n",
    "plt.ylabel('C14')\n",
    "\n",
    "plt.show()"
   ]
  },
  {
   "cell_type": "markdown",
   "metadata": {},
   "source": [
    "# Scenario IL"
   ]
  },
  {
   "cell_type": "markdown",
   "metadata": {},
   "source": [
    "2 populations, only first population (A) divides, only second population (B) dies, and differentation from A to B happens"
   ]
  },
  {
   "cell_type": "markdown",
   "metadata": {},
   "source": [
    "## Gillespie"
   ]
  },
  {
   "cell_type": "code",
   "execution_count": 21,
   "metadata": {
    "ExecuteTime": {
     "end_time": "2018-01-03T16:29:07.763675Z",
     "start_time": "2018-01-03T16:29:07.681908Z"
    }
   },
   "outputs": [],
   "source": [
    "@numba.njit\n",
    "def ILa(Dbirth, Dcoll, lam, mu, delta, n=1000, C_init=np.inf):\n",
    "    t = Dbirth\n",
    "    \n",
    "    if C_init==np.inf:\n",
    "        C_init = C_atm(t)\n",
    "    ccA = [C_init for i in range(n)]\n",
    "    ccB = list(np.empty(0))\n",
    "    \n",
    "    # Pre-allocated propensity vector, no values yet\n",
    "    aa = np.empty(3)\n",
    "    \n",
    "\n",
    "    tt = list(np.empty(0))\n",
    "    meancc = list(np.empty(0))\n",
    "    \n",
    "    \n",
    "    while True:\n",
    "        nA = len(ccA)\n",
    "        nB = len(ccB)\n",
    "        \n",
    "        tt.append(t)\n",
    "        meancc.append(np.mean(np.array(ccA + ccB)))\n",
    "        \n",
    "       \n",
    "        # division\n",
    "        aa[0] = lam * nA \n",
    "        # death\n",
    "        aa[1] = mu * nB \n",
    "        # differentiation\n",
    "        aa[2] = delta * nA\n",
    "        \n",
    "        t += np.random.exponential(1/aa.sum())\n",
    "        \n",
    "        selection_interval = np.cumsum(aa/aa.sum())\n",
    "        p = np.random.rand()\n",
    "        \n",
    "                \n",
    "        if p<selection_interval[0]:\n",
    "            # cell division\n",
    "            # select random cell\n",
    "            i = np.random.randint(nA)\n",
    "            # get C14 concentration from a random cell and delete this cell\n",
    "            c = ccA.pop(i)\n",
    "            # calculate new C14 concentration\n",
    "            c = 0.5 * (c + C_atm(t))\n",
    "            # add two new cells with updated concentration\n",
    "            ccA.append(c)\n",
    "            ccA.append(c)\n",
    "        elif p<selection_interval[1]:\n",
    "            # cell death\n",
    "            # select random cell\n",
    "            i = np.random.randint(nB)\n",
    "            # delete it\n",
    "            ccB.pop(i)\n",
    "        else:\n",
    "            i = np.random.randint(nA)\n",
    "            ccB.append(ccA.pop(i))\n",
    "            \n",
    "        \n",
    "        if t > Dcoll:\n",
    "            break\n",
    "    \n",
    "    return tt, meancc\n"
   ]
  },
  {
   "cell_type": "markdown",
   "metadata": {},
   "source": [
    "## Compare"
   ]
  },
  {
   "cell_type": "code",
   "execution_count": 23,
   "metadata": {
    "ExecuteTime": {
     "end_time": "2018-01-03T16:29:21.378479Z",
     "start_time": "2018-01-03T16:29:20.762177Z"
    }
   },
   "outputs": [
    {
     "data": {
      "image/png": "[encoded data removed]",
      "text/plain": [
       "<matplotlib.figure.Figure at 0x7ff60245b208>"
      ]
     },
     "metadata": {},
     "output_type": "display_data"
    }
   ],
   "source": [
    "plt.plot(*I1(1930, 2015, 0.1, timing=True), label='I1')\n",
    "\n",
    "plt.plot(*ILa(1930, 2015, 0.1, 0.01, 0.1, n=1000), label='ILa, mu=0.01')\n",
    "plt.plot(*ILa(1930, 2015, 0.1, 0.1, 0.1, n=1000), label='ILa, mu=0.1')\n",
    "plt.plot(*ILa(1930, 2015, 0.1, 1.0, 0.1, n=1000), label='ILa, mu=1.0')\n",
    "\n",
    "plt.legend()\n",
    "\n",
    "plt.xlabel('year')\n",
    "plt.ylabel('C14')\n",
    "\n",
    "plt.show()"
   ]
  },
  {
   "cell_type": "markdown",
   "metadata": {},
   "source": [
    "# Scenario R1"
   ]
  },
  {
   "cell_type": "markdown",
   "metadata": {},
   "source": [
    "R... Replacing dead cells with cells that have the current atmospheric C-14 concentration. That's the hypotheses for all models by Samuel Bernard\n",
    "1... 1 population"
   ]
  },
  {
   "cell_type": "markdown",
   "metadata": {},
   "source": [
    "## Gillespie"
   ]
  },
  {
   "cell_type": "code",
   "execution_count": 24,
   "metadata": {
    "ExecuteTime": {
     "end_time": "2018-01-03T16:29:21.390902Z",
     "start_time": "2018-01-03T16:29:21.379575Z"
    }
   },
   "outputs": [],
   "source": [
    "@numba.njit\n",
    "def R1a_cell(Dbirth, Dcoll, r, C_init=np.inf):\n",
    "    t = Dbirth\n",
    "    \n",
    "    if C_init==np.inf:\n",
    "        C_init = C_atm(t)\n",
    "    c = C_init\n",
    "    \n",
    "    while True:\n",
    "        t += np.random.exponential(1/r)\n",
    "        if t > Dcoll:\n",
    "            return c\n",
    "        else:\n",
    "            c = C_atm(t)\n",
    "    \n",
    "\n",
    "@numba.njit\n",
    "def R1a(Dbirth, Dcoll, r, N=1000, C_init=np.inf):\n",
    "    cc = np.array([R1a_cell(Dbirth, Dcoll, r, C_init) for i in range(N)])\n",
    "    return cc.mean()"
   ]
  },
  {
   "cell_type": "markdown",
   "metadata": {},
   "source": [
    "## Bernard"
   ]
  },
  {
   "cell_type": "code",
   "execution_count": 25,
   "metadata": {
    "ExecuteTime": {
     "end_time": "2018-01-03T16:29:21.399495Z",
     "start_time": "2018-01-03T16:29:21.394391Z"
    }
   },
   "outputs": [],
   "source": [
    "import c14_models"
   ]
  },
  {
   "cell_type": "code",
   "execution_count": 26,
   "metadata": {
    "ExecuteTime": {
     "end_time": "2018-01-03T16:29:21.406823Z",
     "start_time": "2018-01-03T16:29:21.400556Z"
    }
   },
   "outputs": [],
   "source": [
    "R1b = c14_models.C_scenario_A"
   ]
  },
  {
   "cell_type": "markdown",
   "metadata": {},
   "source": [
    "## ODE"
   ]
  },
  {
   "cell_type": "markdown",
   "metadata": {},
   "source": [
    "First moment for a master equation of Bernard's model results in the same ODE as I1"
   ]
  },
  {
   "cell_type": "code",
   "execution_count": 27,
   "metadata": {
    "ExecuteTime": {
     "end_time": "2018-01-03T16:29:21.414938Z",
     "start_time": "2018-01-03T16:29:21.408063Z"
    }
   },
   "outputs": [],
   "source": [
    "R1 = I1"
   ]
  },
  {
   "cell_type": "markdown",
   "metadata": {},
   "source": [
    "## Compare"
   ]
  },
  {
   "cell_type": "code",
   "execution_count": 28,
   "metadata": {
    "ExecuteTime": {
     "end_time": "2018-01-03T16:29:22.080490Z",
     "start_time": "2018-01-03T16:29:21.416481Z"
    }
   },
   "outputs": [
    {
     "data": {
      "image/png": "[encoded data removed]",
      "text/plain": [
       "<matplotlib.figure.Figure at 0x7ff608491978>"
      ]
     },
     "metadata": {},
     "output_type": "display_data"
    }
   ],
   "source": [
    "lam = 0.1\n",
    "tt = np.linspace(0.01, 90)\n",
    "Dbirth = 1930\n",
    "\n",
    "plt.plot(Dbirth+tt, [R1a(Dbirth, Dbirth+t, lam) for t in tt])\n",
    "plt.plot(Dbirth+tt, [R1b(Dbirth, Dbirth+t, lam) for t in tt])\n",
    "plt.plot(Dbirth+tt, [R1(Dbirth, Dbirth+t, lam) for t in tt])\n",
    "\n",
    "plt.show()"
   ]
  }
 ],
 "metadata": {
  "kernelspec": {
   "display_name": "Python [conda env:py3]",
   "language": "python",
   "name": "conda-env-py3-py"
  },
  "language_info": {
   "codemirror_mode": {
    "name": "ipython",
    "version": 3
   },
   "file_extension": ".py",
   "mimetype": "text/x-python",
   "name": "python",
   "nbconvert_exporter": "python",
   "pygments_lexer": "ipython3",
   "version": "3.6.3"
  },
  "toc": {
   "nav_menu": {},
   "number_sections": true,
   "sideBar": true,
   "skip_h1_title": false,
   "toc_cell": false,
   "toc_position": {
    "height": "953px",
    "left": "0px",
    "right": "1707px",
    "top": "111px",
    "width": "213px"
   },
   "toc_section_display": "block",
   "toc_window_display": true
  }
 },
 "nbformat": 4,
 "nbformat_minor": 2
}
