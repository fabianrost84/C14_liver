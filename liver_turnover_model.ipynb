{
 "cells": [
  {
   "cell_type": "code",
   "execution_count": 1,
   "metadata": {},
   "outputs": [],
   "source": [
    "import numba\n",
    "import numpy as np"
   ]
  },
  {
   "cell_type": "code",
   "execution_count": 5,
   "metadata": {},
   "outputs": [],
   "source": [
    "import atm_c14_data"
   ]
  },
  {
   "cell_type": "code",
   "execution_count": 6,
   "metadata": {},
   "outputs": [],
   "source": [
    "c_a = atm_c14_data.K"
   ]
  },
  {
   "cell_type": "code",
   "execution_count": 7,
   "metadata": {},
   "outputs": [
    {
     "data": {
      "text/plain": [
       "(-0.024899999999999999, 0.8357)"
      ]
     },
     "execution_count": 7,
     "metadata": {},
     "output_type": "execute_result"
    }
   ],
   "source": [
    "c_min = atm_c14_data.c14_data['d14C'].min()\n",
    "c_max = atm_c14_data.c14_data['d14C'].max()\n",
    "c_min, c_max"
   ]
  },
  {
   "cell_type": "code",
   "execution_count": 26,
   "metadata": {},
   "outputs": [
    {
     "data": {
      "text/plain": [
       "array([-0.0249    ,  0.07072222,  0.16634444,  0.26196667,  0.35758889,\n",
       "        0.45321111,  0.54883333,  0.64445556,  0.74007778,  0.8357    ])"
      ]
     },
     "execution_count": 26,
     "metadata": {},
     "output_type": "execute_result"
    }
   ],
   "source": [
    "c"
   ]
  },
  {
   "cell_type": "code",
   "execution_count": null,
   "metadata": {
    "collapsed": true
   },
   "outputs": [],
   "source": [
    "i = (cc - 0.5 * dc) // dc + 1"
   ]
  },
  {
   "cell_type": "code",
   "execution_count": 41,
   "metadata": {},
   "outputs": [
    {
     "name": "stdout",
     "output_type": "stream",
     "text": [
      "9.0\n"
     ]
    },
    {
     "data": {
      "text/plain": [
       "0.8357"
      ]
     },
     "execution_count": 41,
     "metadata": {},
     "output_type": "execute_result"
    }
   ],
   "source": [
    "c = np.linspace(c_min, c_max, 10, endpoint=True)\n",
    "\n",
    "dc = c[2] - c[1]\n",
    "\n",
    "cc = 0.85\n",
    "i = \n",
    "print i\n",
    "c[int(i)]"
   ]
  },
  {
   "cell_type": "code",
   "execution_count": 90,
   "metadata": {},
   "outputs": [
    {
     "data": {
      "text/plain": [
       "array([-0.0249    ,  0.07072222,  0.16634444,  0.26196667,  0.35758889,\n",
       "        0.45321111,  0.54883333,  0.64445556,  0.74007778,  0.8357    ])"
      ]
     },
     "execution_count": 90,
     "metadata": {},
     "output_type": "execute_result"
    }
   ],
   "source": [
    "c.astype"
   ]
  },
  {
   "cell_type": "code",
   "execution_count": 188,
   "metadata": {},
   "outputs": [
    {
     "data": {
      "text/plain": [
       "100"
      ]
     },
     "execution_count": 188,
     "metadata": {},
     "output_type": "execute_result"
    }
   ],
   "source": [
    "len(c_bins)"
   ]
  },
  {
   "cell_type": "code",
   "execution_count": 189,
   "metadata": {},
   "outputs": [
    {
     "data": {
      "text/plain": [
       "96.0"
      ]
     },
     "execution_count": 189,
     "metadata": {},
     "output_type": "execute_result"
    }
   ],
   "source": [
    "c_bins = np.linspace(c_min, c_max, bins, endpoint=True)\n",
    "\n",
    "def bin_index(c):\n",
    "    dc = c_bins[1] - c_bins[0]\n",
    "    return (np.floor_divide(c + c_min, dc)).astype(int)\n",
    "\n",
    "c = c_a(1950)\n",
    "\n",
    "dc = c_bins[1] - c_bins[0]\n",
    "c = c_max\n",
    "np.floor_divide((c /(c_max - c_min)) * (c - c_min), dc)"
   ]
  },
  {
   "cell_type": "code",
   "execution_count": 166,
   "metadata": {},
   "outputs": [
    {
     "name": "stdout",
     "output_type": "stream",
     "text": [
      "-0.0247\n",
      "-3\n",
      "[-0.0249     -0.01620707 -0.00751414  0.00117879  0.00987172  0.01856465\n",
      "  0.02725758  0.03595051  0.04464343  0.05333636  0.06202929  0.07072222\n",
      "  0.07941515  0.08810808  0.09680101  0.10549394  0.11418687  0.1228798\n",
      "  0.13157273  0.14026566  0.14895859  0.15765152  0.16634444  0.17503737\n",
      "  0.1837303   0.19242323  0.20111616  0.20980909  0.21850202  0.22719495\n",
      "  0.23588788  0.24458081  0.25327374  0.26196667  0.2706596   0.27935253\n",
      "  0.28804545  0.29673838  0.30543131  0.31412424  0.32281717  0.3315101\n",
      "  0.34020303  0.34889596  0.35758889  0.36628182  0.37497475  0.38366768\n",
      "  0.39236061  0.40105354  0.40974646  0.41843939  0.42713232  0.43582525\n",
      "  0.44451818  0.45321111  0.46190404  0.47059697  0.4792899   0.48798283\n",
      "  0.49667576  0.50536869  0.51406162  0.52275455  0.53144747  0.5401404\n",
      "  0.54883333  0.55752626  0.56621919  0.57491212  0.58360505  0.59229798\n",
      "  0.60099091  0.60968384  0.61837677  0.6270697   0.63576263  0.64445556\n",
      "  0.65314848  0.66184141  0.67053434  0.67922727  0.6879202   0.69661313\n",
      "  0.70530606  0.71399899  0.72269192  0.73138485  0.74007778  0.74877071\n",
      "  0.75746364  0.76615657  0.77484949  0.78354242  0.79223535  0.80092828\n",
      "  0.80962121  0.81831414  0.82700707  0.8357    ]\n"
     ]
    },
    {
     "data": {
      "text/plain": [
       "0.81831414141414149"
      ]
     },
     "execution_count": 166,
     "metadata": {},
     "output_type": "execute_result"
    }
   ],
   "source": [
    "def c_profile(D_birth, D_coll, r, t_steps = 100, bins = 100, n0 = None):\n",
    "    \n",
    "    c_bins = np.linspace(c_min, c_max, bins, endpoint=True)\n",
    "    \n",
    "    def bin_index(c):\n",
    "        dc = c_bins[1] - c_bins[0]\n",
    "        return (np.floor_divide(c, dc)).astype(int)\n",
    "    \n",
    "    if n0 is None:\n",
    "        n0 = np.zeros_like(c_bins)\n",
    "        n0[bin_index(c_a(D_birth))] = 1\n",
    "    n0 /= np.sum(n0)\n",
    "    \n",
    "    \n",
    "    times = np.linspace(D_birth, D_coll, t_steps, endpoint=True)\n",
    "    dt = times[1] - times[0]\n",
    "     \n",
    "    n = n0    \n",
    "    for t in times:\n",
    "        target = bin_index(0.5 * (c_a(t) + c_bins))\n",
    "        target = np.outer(np.ones_like(n0), target)\n",
    "        \n",
    "        n_arg = np.outer(np.arange(len(n0)), np.ones_like(n0))\n",
    "        \n",
    "        D = target == n_arg\n",
    "        \n",
    "        n = n - r * n + r * np.sum(D * n, axis = 1)\n",
    "        \n",
    "    print bin_index(c_a(1950))\n",
    "    print c_bins\n",
    "    return np.average(c_bins, weights=n)\n",
    "    \n",
    "print c_a(1950)\n",
    "c_profile(1950, 2000, r= 0.0, bins = 100, t_steps=100)"
   ]
  },
  {
   "cell_type": "code",
   "execution_count": 137,
   "metadata": {},
   "outputs": [
    {
     "data": {
      "text/plain": [
       "array([[1, 0, 0],\n",
       "       [1, 0, 0],\n",
       "       [0, 2, 0]])"
      ]
     },
     "execution_count": 137,
     "metadata": {},
     "output_type": "execute_result"
    }
   ],
   "source": [
    "D * np.array([1,2,3])"
   ]
  },
  {
   "cell_type": "code",
   "execution_count": null,
   "metadata": {
    "collapsed": true
   },
   "outputs": [],
   "source": []
  }
 ],
 "metadata": {
  "kernelspec": {
   "display_name": "Python [conda env:C14]",
   "language": "python",
   "name": "conda-env-C14-py"
  },
  "language_info": {
   "codemirror_mode": {
    "name": "ipython",
    "version": 2
   },
   "file_extension": ".py",
   "mimetype": "text/x-python",
   "name": "python",
   "nbconvert_exporter": "python",
   "pygments_lexer": "ipython2",
   "version": "2.7.12"
  }
 },
 "nbformat": 4,
 "nbformat_minor": 2
}
