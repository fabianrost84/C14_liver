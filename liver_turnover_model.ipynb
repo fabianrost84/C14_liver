{
 "cells": [
  {
   "cell_type": "code",
   "execution_count": 1,
   "metadata": {},
   "outputs": [
    {
     "name": "stdout",
     "output_type": "stream",
     "text": [
      "2017-11-23T17:38:43+01:00\n",
      "\n",
      "CPython 3.6.2\n",
      "IPython 6.1.0\n",
      "\n",
      "compiler   : GCC 4.8.2 20140120 (Red Hat 4.8.2-15)\n",
      "system     : Linux\n",
      "release    : 4.4.92-18.36-default\n",
      "machine    : x86_64\n",
      "processor  : x86_64\n",
      "CPU cores  : 8\n",
      "interpreter: 64bit\n"
     ]
    }
   ],
   "source": [
    "%load_ext line_profiler\n",
    "import numba\n",
    "import numpy as np\n",
    "import scipy as sp\n",
    "%load_ext watermark\n",
    "%watermark"
   ]
  },
  {
   "cell_type": "code",
   "execution_count": 2,
   "metadata": {},
   "outputs": [],
   "source": [
    "import atm_c14_data\n",
    "import c14_individuals_data"
   ]
  },
  {
   "cell_type": "code",
   "execution_count": 3,
   "metadata": {},
   "outputs": [],
   "source": [
    "# np.random.seed(42)\n",
    "# data = c14_individuals_data.c14_individual_data.head().copy()\n",
    "# data['Dbirth'] = np.random.randint(0, 5, len(data))\n",
    "# data['Dcoll'] = np.random.randint(6, 10, len(data))\n",
    "# data['d14C'] = C_atm(data['Dcoll']) - 0.5\n",
    "# data"
   ]
  },
  {
   "cell_type": "code",
   "execution_count": 12,
   "metadata": {},
   "outputs": [
    {
     "data": {
      "text/plain": [
       "<function atm_c14_data.interpolate.<locals>.<lambda>>"
      ]
     },
     "execution_count": 12,
     "metadata": {},
     "output_type": "execute_result"
    }
   ],
   "source": []
  },
  {
   "cell_type": "code",
   "execution_count": 50,
   "metadata": {},
   "outputs": [],
   "source": [
    "C_atm = atm_c14_data.Klag\n",
    "\n",
    "def f(C, t):\n",
    "    return 0.5 * (C + C_atm(t))\n",
    "\n",
    "# def find_nearest_value(array,value):\n",
    "#     return (np.abs(array-value)).argmin()\n",
    "\n",
    "# find_nearest = np.vectorize(find_nearest_value, excluded=[0])\n",
    "\n",
    "def find_nearest(CC,C):\n",
    "    dC = (CC[1] - CC[0])/ (CC[-1] - CC[0]) \n",
    "    i = np.rint((C - CC[0])/ (CC[-1] - CC[0]) /dC)\n",
    "    i = i.astype(int)\n",
    "    return i\n",
    "\n",
    "def k(t, C, CC):\n",
    "    return find_nearest(CC, f(C, t))\n",
    "\n",
    "def kCC(t, CC):\n",
    "    return k(t, CC, CC)\n",
    "\n",
    "@numba.jit\n",
    "def target_matrix(t, CC):\n",
    "    T = np.zeros(2*[len(CC)])\n",
    "    k = kCC(t, CC)\n",
    "    for j, i in enumerate(k):\n",
    "        T[i, j] = 1\n",
    "    return T\n",
    "\n",
    "def rate_matrix(t, CC):\n",
    "    T = target_matrix(t, CC)\n",
    "    A = T - np.eye(len(CC))\n",
    "    return A\n",
    "\n",
    "# def C(Dbirth, Dcoll, r, n=3, dt = 0.1):\n",
    "#     C_min = C_atm(Dbirth)\n",
    "#     C_max = C_atm(Dcoll)\n",
    "    \n",
    "#     CC = np.linspace(C_min, C_max, n)\n",
    "    \n",
    "#     N0 = np.zeros(n)\n",
    "#     N0[find_nearest(CC, C_atm(0))] = 1\n",
    "    \n",
    "#     t = Dbirth\n",
    "#     N = N0\n",
    "#     while t<Dcoll:\n",
    "#         A = rate_matrix(t, CC)\n",
    "#         N += r * dt * A @ N\n",
    "#         t += dt\n",
    "    \n",
    "#     C = np.average(CC, weights=N)\n",
    "    \n",
    "#     return C\n",
    "\n",
    "def C_L1(Dbirth, Dcoll, r, n=3, dt = 0.1):\n",
    "    C_min = atm_c14_data.c14_data['d14C'].min()\n",
    "    C_max = atm_c14_data.c14_data['d14C'].max()\n",
    "    \n",
    "    CC = np.linspace(C_min, C_max, n)\n",
    "    \n",
    "    N0 = np.zeros(n)\n",
    "    N0[find_nearest(CC, C_atm(0))] = 1\n",
    "    \n",
    "    def rhs(N, t0):\n",
    "        A = rate_matrix(t0, CC)\n",
    "        dNdt = r * A @ N\n",
    "        return dNdt\n",
    "    \n",
    "    sol = sp.integrate.odeint(rhs, N0, (Dbirth, Dcoll), mxstep=int(1e5))\n",
    "    N = sol[-1]\n",
    "    C = np.average(CC, weights=N)\n",
    "    return C"
   ]
  },
  {
   "cell_type": "code",
   "execution_count": 49,
   "metadata": {},
   "outputs": [
    {
     "data": {
      "text/plain": [
       "0.16665362520789087"
      ]
     },
     "execution_count": 49,
     "metadata": {},
     "output_type": "execute_result"
    }
   ],
   "source": [
    "C(1930, 1960, 10.0, n=100)"
   ]
  },
  {
   "cell_type": "code",
   "execution_count": 38,
   "metadata": {},
   "outputs": [
    {
     "data": {
      "text/plain": [
       "0.18409999999999999"
      ]
     },
     "execution_count": 38,
     "metadata": {},
     "output_type": "execute_result"
    }
   ],
   "source": [
    "C_atm(1960)"
   ]
  },
  {
   "cell_type": "code",
   "execution_count": 14,
   "metadata": {},
   "outputs": [
    {
     "name": "stdout",
     "output_type": "stream",
     "text": [
      "6.04104004877\n",
      "81.5 ms ± 2.3 ms per loop (mean ± std. dev. of 7 runs, 10 loops each)\n",
      "6.03634731599\n",
      "418 ms ± 6.3 ms per loop (mean ± std. dev. of 7 runs, 1 loop each)\n"
     ]
    }
   ],
   "source": [
    "n = 100\n",
    "dt = 0.005\n",
    "print(C(0, 8, 1, n=n, dt=dt))\n",
    "%timeit C(0, 8, 1, n=n, dt=dt)\n",
    "print(C2(0, 8, 1, n=n, dt=dt))\n",
    "%timeit C2(0, 8, 1, n=n, dt=dt)"
   ]
  },
  {
   "cell_type": "code",
   "execution_count": null,
   "metadata": {
    "collapsed": true
   },
   "outputs": [],
   "source": []
  },
  {
   "cell_type": "code",
   "execution_count": null,
   "metadata": {
    "collapsed": true
   },
   "outputs": [],
   "source": []
  },
  {
   "cell_type": "code",
   "execution_count": null,
   "metadata": {
    "collapsed": true
   },
   "outputs": [],
   "source": []
  },
  {
   "cell_type": "code",
   "execution_count": null,
   "metadata": {
    "collapsed": true
   },
   "outputs": [],
   "source": []
  },
  {
   "cell_type": "markdown",
   "metadata": {},
   "source": [
    "Tuning calculation of the target matrix"
   ]
  },
  {
   "cell_type": "code",
   "execution_count": 192,
   "metadata": {},
   "outputs": [
    {
     "name": "stdout",
     "output_type": "stream",
     "text": [
      "6.01784828878\n",
      "21.1 ms ± 1.75 ms per loop (mean ± std. dev. of 7 runs, 10 loops each)\n"
     ]
    }
   ],
   "source": [
    "print(C(0, 8, 1, n=10, dt=0.01))\n",
    "%lprun -f find_nearest C(0, 8, 1, n=10, dt=0.01)\n",
    "%timeit C(0, 8, 1, n=10, dt=0.01)"
   ]
  },
  {
   "cell_type": "markdown",
   "metadata": {},
   "source": [
    "New find_nearest"
   ]
  },
  {
   "cell_type": "code",
   "execution_count": 102,
   "metadata": {},
   "outputs": [
    {
     "name": "stdout",
     "output_type": "stream",
     "text": [
      "26.9 ms ± 309 µs per loop (mean ± std. dev. of 7 runs, 10 loops each)\n"
     ]
    }
   ],
   "source": [
    "%timeit C(0, 8, 1, n=10, dt=0.01)"
   ]
  },
  {
   "cell_type": "markdown",
   "metadata": {},
   "source": [
    "Before"
   ]
  },
  {
   "cell_type": "code",
   "execution_count": 19,
   "metadata": {},
   "outputs": [
    {
     "name": "stdout",
     "output_type": "stream",
     "text": [
      "690 ms ± 58.9 ms per loop (mean ± std. dev. of 7 runs, 1 loop each)\n"
     ]
    }
   ],
   "source": [
    "%timeit C(0, 8, 1, n=100, dt=0.01)"
   ]
  },
  {
   "cell_type": "code",
   "execution_count": null,
   "metadata": {
    "collapsed": true
   },
   "outputs": [],
   "source": []
  }
 ],
 "metadata": {
  "kernelspec": {
   "display_name": "Python 3",
   "language": "python",
   "name": "python3"
  },
  "language_info": {
   "codemirror_mode": {
    "name": "ipython",
    "version": 3
   },
   "file_extension": ".py",
   "mimetype": "text/x-python",
   "name": "python",
   "nbconvert_exporter": "python",
   "pygments_lexer": "ipython3",
   "version": "3.6.2"
  }
 },
 "nbformat": 4,
 "nbformat_minor": 2
}
