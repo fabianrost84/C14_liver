{
 "cells": [
  {
   "cell_type": "code",
   "execution_count": 1,
   "metadata": {
    "ExecuteTime": {
     "end_time": "2017-12-21T18:22:18.048021Z",
     "start_time": "2017-12-21T18:22:16.062031Z"
    }
   },
   "outputs": [
    {
     "name": "stdout",
     "output_type": "stream",
     "text": [
      "2017-12-21T19:22:18+01:00\n",
      "\n",
      "CPython 3.6.3\n",
      "IPython 6.1.0\n",
      "\n",
      "compiler   : GCC 7.2.0\n",
      "system     : Linux\n",
      "release    : 4.4.92-18.36-default\n",
      "machine    : x86_64\n",
      "processor  : x86_64\n",
      "CPU cores  : 8\n",
      "interpreter: 64bit\n",
      "scipy 0.19.1\n"
     ]
    }
   ],
   "source": [
    "%load_ext cython\n",
    "%load_ext line_profiler\n",
    "import matplotlib.pyplot as plt\n",
    "%matplotlib inline\n",
    "import numba\n",
    "import numpy as np\n",
    "import scipy as sp\n",
    "import seaborn as sns\n",
    "%load_ext watermark\n",
    "%watermark\n",
    "%watermark -p scipy"
   ]
  },
  {
   "cell_type": "code",
   "execution_count": 2,
   "metadata": {
    "ExecuteTime": {
     "end_time": "2017-12-21T18:22:18.193700Z",
     "start_time": "2017-12-21T18:22:18.050445Z"
    }
   },
   "outputs": [],
   "source": [
    "import atm_c14_data\n",
    "import c14_individuals_data"
   ]
  },
  {
   "cell_type": "markdown",
   "metadata": {},
   "source": [
    "# Atmospheric C14 function"
   ]
  },
  {
   "cell_type": "code",
   "execution_count": 3,
   "metadata": {
    "ExecuteTime": {
     "end_time": "2017-12-21T18:22:18.269889Z",
     "start_time": "2017-12-21T18:22:18.195725Z"
    }
   },
   "outputs": [],
   "source": [
    "@numba.njit\n",
    "def C_atm(x):\n",
    "    x -=1\n",
    "    xp = np.array([ 1891.5, 1892.5, 1893.5, 1894.5, 1895.5, 1896.5, 1897.5, 1898.5, 1899.5, 1900.5, 1901.5, 1902.5, 1903.5, 1904.5, 1905.5, 1906.5, 1907.5, 1908.5, 1909.5, 1910.5, 1911.5, 1912.5, 1913.5, 1914.5, 1915.5, 1916.5, 1917.5, 1918.5, 1919.5, 1920.5, 1921.5, 1922.5, 1923.5, 1924.5, 1925.5, 1926.5, 1927.5, 1928.5, 1929.5, 1930.5, 1931.5, 1932.5, 1933.5, 1934.5, 1935.5, 1936.5, 1937.5, 1938.5, 1939.5, 1940.5, 1941.5, 1942.5, 1943.5, 1944.5, 1945.5, 1946.5, 1947.5, 1948.5, 1949.5, 1950.5, 1951.5, 1952.5, 1953.5, 1954.5, 1955.5, 1956.5, 1957.5, 1958.5, 1959.5, 1960.5, 1961.5, 1962.5, 1963.5, 1964.5, 1965.5, 1966.5, 1967.5, 1968.5, 1969.5, 1970.5, 1971.5, 1972.5, 1973.5, 1974.5, 1975.5, 1976.5, 1977.5, 1978.5, 1979.5, 1980.5, 1981.5, 1982.5, 1983.5, 1984.5, 1985.5, 1986.5, 1987.5, 1988.5, 1989.5, 1990.5, 1991.5, 1992.5, 1993.5, 1994.5, 1995.5, 1996.5, 1997.5, 1998.5, 1999.5, 2000.5, 2001.5, 2002.5, 2003.5, 2003.963938,  2004.421821,  2004.879704, 2005.337587,  2005.79547 ,  2006.253353,  2006.711236, 2007.169119,  2007.627002,  2008.084885,  2008.542768, 2009.000651,  2009.458534,  2009.916417,  2010.3743  , 2010.3743  ,  2010.626   ,  2011.125   ,  2011.626   , 2012.125   ,  2012.626   ,  2013.125   ,  2013.626   , 2014.125   ,  2014.626   ,  2015.125   ,  2015.625   , 2016.125   ,  2016.625   ,  2020.      ])\n",
    "    fp = np.array([-0.002     , -0.002     , -0.002     , -0.002     , -0.002     , -0.00233   , -0.00267   , -0.003     , -0.00333   , -0.00367   , -0.004     , -0.00433   , -0.00467   , -0.005     , -0.00533   , -0.00567   , -0.006     , -0.00633   , -0.00667   , -0.007     , -0.00733   , -0.00767   , -0.008     , -0.00833   , -0.00867   , -0.009     , -0.00933   , -0.00967   , -0.01      , -0.01033   , -0.01067   , -0.011     , -0.01133   , -0.01167   , -0.012     , -0.01233   , -0.01267   , -0.013     , -0.01333   , -0.01367   , -0.014     , -0.01433   , -0.01467   , -0.015     , -0.01533   , -0.01567   , -0.016     , -0.01633   , -0.01667   , -0.0202    , -0.0194    , -0.0196    , -0.0225    , -0.0217    , -0.0221    , -0.0216    , -0.0211    , -0.0223    , -0.0246    , -0.0248    , -0.0248    , -0.0249    , -0.0239    , -0.0211    , -0.0082    , 0.0265    ,  0.073     ,  0.1402    ,  0.228     ,  0.2123    , 0.2216    ,  0.3585    ,  0.7183    ,  0.8357    ,  0.7563    , 0.6919    ,  0.6236    ,  0.5645    ,  0.5454    ,  0.5291    , 0.4994    ,  0.4656    ,  0.4186    ,  0.4008    ,  0.3698    , 0.3525    ,  0.3339    ,  0.3258    ,  0.2958    ,  0.2645    , 0.2567    ,  0.2383    ,  0.2242    ,  0.2093    ,  0.2013    , 0.1911    ,  0.1826    ,  0.1734    ,  0.1635    ,  0.1525    , 0.1429    ,  0.1364    ,  0.1284    ,  0.1221    ,  0.1155    , 0.1099    ,  0.1043    ,  0.0981    ,  0.09      ,  0.0866    , 0.0807    ,  0.0749    ,  0.0689    ,  0.06349874,  0.06145905, 0.0597412 ,  0.05822747,  0.05641489,  0.05479531,  0.05364811, 0.05205465,  0.05067073,  0.04927897,  0.04788014,  0.04647508, 0.04506462,  0.04364948,  0.04223027,  0.04223027,  0.0403    , 0.0347    ,  0.0371    ,  0.0312    ,  0.0299    ,  0.0193    , 0.0219    ,  0.0182    ,  0.018     ,  0.0116    ,  0.0129    , 0.0096    ,  0.0097    ,  0.0097    ])\n",
    "    \n",
    "    if x<xp[0]:\n",
    "        return fp[0]\n",
    "    elif x>xp[-1]:\n",
    "        return fp[-1]\n",
    "    else:\n",
    "        for i in range(len(xp)):\n",
    "            if x<xp[i]:\n",
    "                break\n",
    "        return fp[i-1] + (fp[i] - fp[i-1]) * (x - xp[i-1]) / (xp[i] - xp[i-1])"
   ]
  },
  {
   "cell_type": "code",
   "execution_count": 4,
   "metadata": {
    "ExecuteTime": {
     "end_time": "2017-12-21T18:22:18.743836Z",
     "start_time": "2017-12-21T18:22:18.271688Z"
    }
   },
   "outputs": [
    {
     "data": {
      "image/png": "[encoded data removed]",
      "text/plain": [
       "<matplotlib.figure.Figure at 0x7f77c822f7b8>"
      ]
     },
     "metadata": {},
     "output_type": "display_data"
    }
   ],
   "source": [
    "tt = np.linspace(1930, 2020)\n",
    "plt.plot(tt, np.vectorize(C_atm)(tt))\n",
    "\n",
    "plt.xlabel('year')\n",
    "plt.ylabel('atm. C14')\n",
    "\n",
    "plt.show()"
   ]
  },
  {
   "cell_type": "markdown",
   "metadata": {},
   "source": [
    "# Single-daughter cell division model"
   ]
  },
  {
   "cell_type": "markdown",
   "metadata": {},
   "source": [
    "## Discretization of master equation"
   ]
  },
  {
   "cell_type": "code",
   "execution_count": 5,
   "metadata": {
    "ExecuteTime": {
     "end_time": "2017-12-21T18:22:18.883282Z",
     "start_time": "2017-12-21T18:22:18.745541Z"
    }
   },
   "outputs": [],
   "source": [
    "@numba.njit\n",
    "def f(t, C):\n",
    "    return 0.5 * (C + C_atm(t))\n",
    "\n",
    "@numba.njit\n",
    "def find_nearest(C, CC):\n",
    "    dC = (CC[1] - CC[0])/ (CC[-1] - CC[0]) \n",
    "    i = np.rint((C - CC[0])/ (CC[-1] - CC[0]) /dC)\n",
    "    i = i.astype(np.int16)\n",
    "    return i\n",
    "\n",
    "@numba.njit\n",
    "def k(t, CC, C):\n",
    "    return find_nearest(f(t, C), CC)\n",
    "\n",
    "@numba.njit\n",
    "def kCC(t, CC):\n",
    "    return k(t, CC, CC)\n",
    "\n",
    "@numba.njit\n",
    "def target_matrix(t, CC):\n",
    "    n = len(CC)\n",
    "    T = np.zeros((n, n))\n",
    "    k = kCC(t, CC)\n",
    "    for j, i in enumerate(k):\n",
    "        T[i, j] = 1.0\n",
    "    return T\n",
    "\n",
    "@numba.njit\n",
    "def rate_matrix(t, CC):\n",
    "    T = target_matrix(t, CC)\n",
    "    A = T - np.eye(len(CC))\n",
    "    return A\n",
    "\n",
    "@numba.njit\n",
    "def rhs(N, t0, CC, r):\n",
    "    A = rate_matrix(t0, CC)\n",
    "    dNdt = r * A @ N\n",
    "    return dNdt\n",
    "\n",
    "@numba.jit\n",
    "def C_L1a(Dbirth, Dcoll, r, n=3, dt = 0.1):\n",
    "    C_min = -0.024899999999999999\n",
    "    C_max = 0.8357\n",
    "    \n",
    "    CC = np.linspace(C_min, C_max, n)\n",
    "    \n",
    "    N0 = np.zeros(n)\n",
    "    N0[find_nearest(np.array([C_atm(Dbirth)]), CC)] = 1\n",
    "    \n",
    "    t= (Dbirth, Dcoll)\n",
    "    sol = sp.integrate.odeint(rhs, N0, t, args=(CC, r), mxstep=int(1e5))\n",
    "    N = sol[-1]\n",
    "    C = np.average(CC, weights=N)\n",
    "    return C"
   ]
  },
  {
   "cell_type": "markdown",
   "metadata": {
    "collapsed": true
   },
   "source": [
    "## Gillespie"
   ]
  },
  {
   "cell_type": "code",
   "execution_count": 6,
   "metadata": {
    "ExecuteTime": {
     "end_time": "2017-12-21T18:22:18.902315Z",
     "start_time": "2017-12-21T18:22:18.884483Z"
    }
   },
   "outputs": [],
   "source": [
    "@numba.njit\n",
    "def C_L1_cell(Dbirth, Dcoll, r, C_init=-99.9):\n",
    "    t = Dbirth\n",
    "    \n",
    "    if C_init==-99.9:\n",
    "        C_init = C_atm(t)\n",
    "    c = C_init\n",
    "    \n",
    "    while True:\n",
    "        t += np.random.exponential(1/r)\n",
    "        if t > Dcoll:\n",
    "            break\n",
    "        else:\n",
    "            c = 0.5 * (c + C_atm(t))\n",
    "    return c\n",
    "\n",
    "@numba.njit\n",
    "def C_L1b(Dbirth, Dcoll, r, N=1000, C_init=-99.9):\n",
    "    cc = np.array([C_L1_cell(Dbirth, Dcoll, r, C_init) for i in range(N)])\n",
    "    return cc.mean()"
   ]
  },
  {
   "cell_type": "markdown",
   "metadata": {},
   "source": [
    "## First moment"
   ]
  },
  {
   "cell_type": "code",
   "execution_count": 7,
   "metadata": {
    "ExecuteTime": {
     "end_time": "2017-12-21T18:22:18.915930Z",
     "start_time": "2017-12-21T18:22:18.903659Z"
    }
   },
   "outputs": [],
   "source": [
    "def C_L1c(Dbirth, Dcoll, r, C_init=-99.9):\n",
    "    if C_init==-99.9:\n",
    "        C_init = C_atm(Dbirth)\n",
    "    c = C_init\n",
    "    \n",
    "    def rhs(c, t, r):\n",
    "        return 0.5 * r * (C_atm(t) - c)\n",
    "    def Dfun(c, t0, r):\n",
    "        return -0.5 * r\n",
    "    C = sp.integrate.odeint(rhs, C_init, np.linspace(Dbirth, Dcoll), args = (r, ), Dfun = Dfun)[-1, 0]\n",
    "    return C"
   ]
  },
  {
   "cell_type": "markdown",
   "metadata": {},
   "source": [
    "## Compare"
   ]
  },
  {
   "cell_type": "code",
   "execution_count": null,
   "metadata": {
    "ExecuteTime": {
     "end_time": "2017-12-21T17:27:50.519841Z",
     "start_time": "2017-12-21T17:27:44.058227Z"
    },
    "deletable": false,
    "editable": false,
    "run_control": {
     "frozen": true
    }
   },
   "outputs": [],
   "source": [
    "C_L1a(1930, 2015, 0.1, n=30)"
   ]
  },
  {
   "cell_type": "code",
   "execution_count": null,
   "metadata": {
    "ExecuteTime": {
     "end_time": "2017-12-21T17:27:51.920757Z",
     "start_time": "2017-12-21T17:27:50.523796Z"
    },
    "deletable": false,
    "editable": false,
    "run_control": {
     "frozen": true
    }
   },
   "outputs": [],
   "source": [
    "C_L1b(1930, 2015, 0.1, 10000)"
   ]
  },
  {
   "cell_type": "code",
   "execution_count": null,
   "metadata": {
    "ExecuteTime": {
     "end_time": "2017-12-21T17:27:51.942711Z",
     "start_time": "2017-12-21T17:27:51.924181Z"
    },
    "deletable": false,
    "editable": false,
    "run_control": {
     "frozen": true
    }
   },
   "outputs": [],
   "source": [
    "C_L1c(1930, 2015, 0.1)"
   ]
  },
  {
   "cell_type": "code",
   "execution_count": null,
   "metadata": {
    "ExecuteTime": {
     "end_time": "2017-12-06T12:37:05.554516Z",
     "start_time": "2017-12-06T12:36:49.405521Z"
    },
    "deletable": false,
    "editable": false,
    "run_control": {
     "frozen": true
    }
   },
   "outputs": [],
   "source": [
    "%timeit C_L1a(1930, 2015, 0.1, n=30)\n",
    "%timeit C_L1b(1930, 2015, 0.1, 10000)\n",
    "%timeit C_L1c(1930, 2015, 0.1)"
   ]
  },
  {
   "cell_type": "markdown",
   "metadata": {},
   "source": [
    "# simple $n$ cell model"
   ]
  },
  {
   "cell_type": "markdown",
   "metadata": {},
   "source": [
    "## Gillespie"
   ]
  },
  {
   "cell_type": "code",
   "execution_count": 8,
   "metadata": {
    "ExecuteTime": {
     "end_time": "2017-12-21T18:22:18.970597Z",
     "start_time": "2017-12-21T18:22:18.917511Z"
    }
   },
   "outputs": [],
   "source": [
    "@numba.njit\n",
    "def C_L2a(Dbirth, Dcoll, lam, mu, n, C_init=-99.9):\n",
    "    t = Dbirth\n",
    "    \n",
    "    if C_init==-99.9:\n",
    "        C_init = C_atm(t)\n",
    "    cc = [C_init for i in range(n)]\n",
    "    \n",
    "    # Pre-allocated propensity vector, no values yet\n",
    "    aa = np.empty(2)\n",
    "    \n",
    "    while True:\n",
    "        n = len(cc)\n",
    "        \n",
    "        aa[0] = lam * n\n",
    "        aa[1] = mu * n\n",
    "        \n",
    "        t += np.random.exponential(1/aa.sum())\n",
    "        \n",
    "        p_division = aa[0] / aa.sum()\n",
    "        \n",
    "        division_event = np.random.binomial(1, p_division)\n",
    "        \n",
    "        if division_event:\n",
    "            # cell division\n",
    "            # select random cell\n",
    "            i = np.random.randint(n)\n",
    "            # get C14 concentration from a random cell and delete this cell\n",
    "            c = cc.pop(i)\n",
    "            # calculate new C14 concentration\n",
    "            c = 0.5 * (c + C_atm(t))\n",
    "            # add two new cells with updated concentration\n",
    "            cc.append(c)\n",
    "            cc.append(c)\n",
    "        else:\n",
    "            # cell death\n",
    "            # select random cell\n",
    "            i = np.random.randint(n)\n",
    "            # delete it\n",
    "            cc.pop(i)\n",
    "        \n",
    "        if t > Dcoll:\n",
    "            break\n",
    "    return np.mean(np.array(cc))"
   ]
  },
  {
   "cell_type": "code",
   "execution_count": 9,
   "metadata": {
    "ExecuteTime": {
     "end_time": "2017-12-21T18:22:18.979872Z",
     "start_time": "2017-12-21T18:22:18.972297Z"
    }
   },
   "outputs": [],
   "source": [
    "@np.vectorize\n",
    "def C_L2a_trajectory(t, lam, n=100):\n",
    "    return C_L2a(0.0, t, lam, lam, n)"
   ]
  },
  {
   "cell_type": "markdown",
   "metadata": {},
   "source": [
    "## Empirical ODE"
   ]
  },
  {
   "cell_type": "code",
   "execution_count": 10,
   "metadata": {
    "ExecuteTime": {
     "end_time": "2017-12-21T18:22:19.001782Z",
     "start_time": "2017-12-21T18:22:18.981318Z"
    }
   },
   "outputs": [],
   "source": [
    "def L2b(Dbirth, Dcoll, r, C_init=-99.9, timing=False):\n",
    "    if C_init==-99.9:\n",
    "        C_init = C_atm(Dbirth)\n",
    "    c = C_init\n",
    "    \n",
    "    def rhs(c, t, r):\n",
    "        return r * (C_atm(t) - c)\n",
    "    def Dfun(c, t0, r):\n",
    "        return -r\n",
    "    tt = np.linspace(Dbirth, Dcoll)\n",
    "    CC = sp.integrate.odeint(rhs, C_init, tt, args = (r, ), Dfun = Dfun)[:, 0]\n",
    "    \n",
    "    if timing:\n",
    "        return tt, CC\n",
    "    else:\n",
    "        return CC[-1]"
   ]
  },
  {
   "cell_type": "markdown",
   "metadata": {},
   "source": [
    "## Compare"
   ]
  },
  {
   "cell_type": "code",
   "execution_count": null,
   "metadata": {
    "ExecuteTime": {
     "end_time": "2017-12-21T17:28:35.818434Z",
     "start_time": "2017-12-21T17:28:32.690506Z"
    },
    "deletable": false,
    "editable": false,
    "run_control": {
     "frozen": true
    }
   },
   "outputs": [],
   "source": [
    "tt = np.linspace(1930, 2015, 10)\n",
    "\n",
    "lam = 0.1\n",
    "\n",
    "plt.plot(tt, C_L2a_trajectory(tt, lam, n=1000))\n",
    "plt.plot(tt, [L2b(0, t, lam) for t in tt])\n",
    "# plt.plot(tt, np.exp(-lam*tt))\n",
    "\n",
    "# plt.plot(tt, [C_L1b(0, t, lam, N=1000, C_init=1.0) for t in tt])\n",
    "# plt.plot(tt, np.exp(-0.5*lam*tt))\n",
    "\n",
    "plt.show()"
   ]
  },
  {
   "cell_type": "markdown",
   "metadata": {},
   "source": [
    "# Scenario A"
   ]
  },
  {
   "cell_type": "markdown",
   "metadata": {},
   "source": [
    "## Gillespie"
   ]
  },
  {
   "cell_type": "code",
   "execution_count": 11,
   "metadata": {
    "ExecuteTime": {
     "end_time": "2017-12-21T18:22:19.026414Z",
     "start_time": "2017-12-21T18:22:19.003494Z"
    }
   },
   "outputs": [],
   "source": [
    "@numba.njit\n",
    "def C_Aa_cell(Dbirth, Dcoll, r, C_init=-99.9):\n",
    "    t = Dbirth\n",
    "    \n",
    "    if C_init==-99.9:\n",
    "        C_init = C_atm(t)\n",
    "    c = C_init\n",
    "    \n",
    "    while True:\n",
    "        t += np.random.exponential(1/r)\n",
    "        if t > Dcoll:\n",
    "            return c\n",
    "        else:\n",
    "            c = C_atm(t)\n",
    "    \n",
    "\n",
    "@numba.njit\n",
    "def C_Aa(Dbirth, Dcoll, r, N=1000, C_init=-99.9):\n",
    "    cc = np.array([C_Aa_cell(Dbirth, Dcoll, r, C_init) for i in range(N)])\n",
    "    return cc.mean()"
   ]
  },
  {
   "cell_type": "markdown",
   "metadata": {},
   "source": [
    "## Bernard"
   ]
  },
  {
   "cell_type": "code",
   "execution_count": 12,
   "metadata": {
    "ExecuteTime": {
     "end_time": "2017-12-21T18:22:19.036729Z",
     "start_time": "2017-12-21T18:22:19.028453Z"
    }
   },
   "outputs": [],
   "source": [
    "import c14_models"
   ]
  },
  {
   "cell_type": "code",
   "execution_count": 13,
   "metadata": {
    "ExecuteTime": {
     "end_time": "2017-12-21T18:22:19.050303Z",
     "start_time": "2017-12-21T18:22:19.037801Z"
    }
   },
   "outputs": [
    {
     "data": {
      "text/plain": [
       "<function c14_models.C_scenario_A>"
      ]
     },
     "execution_count": 13,
     "metadata": {},
     "output_type": "execute_result"
    }
   ],
   "source": [
    "c14_models.C_scenario_A"
   ]
  },
  {
   "cell_type": "markdown",
   "metadata": {},
   "source": [
    "## Compare"
   ]
  },
  {
   "cell_type": "code",
   "execution_count": null,
   "metadata": {
    "ExecuteTime": {
     "end_time": "2017-12-21T17:28:57.724489Z",
     "start_time": "2017-12-21T17:28:55.944148Z"
    },
    "deletable": false,
    "editable": false,
    "run_control": {
     "frozen": true
    }
   },
   "outputs": [],
   "source": [
    "# @numba.njit\n",
    "# def C_atm(x):\n",
    "#     return 0.0\n",
    "\n",
    "lam = 0.1\n",
    "tt = np.linspace(0.01, 90)\n",
    "Dbirth = 1930\n",
    "\n",
    "plt.plot(Dbirth+tt, [C_Aa(Dbirth, Dbirth+t, lam) for t in tt])\n",
    "plt.plot(Dbirth+tt, [c14_models.C_scenario_A(Dbirth, Dbirth+t, lam) for t in tt])\n",
    "# plt.plot(tt, np.exp(-lam*tt))\n",
    "\n",
    "plt.plot(Dbirth+tt, [C_L1c(Dbirth, Dbirth+t, 2*lam) for t in tt])\n",
    "\n",
    "plt.show()"
   ]
  },
  {
   "cell_type": "markdown",
   "metadata": {},
   "source": [
    "# Scenario LD"
   ]
  },
  {
   "cell_type": "markdown",
   "metadata": {},
   "source": [
    "Age-dependent rates"
   ]
  },
  {
   "cell_type": "markdown",
   "metadata": {},
   "source": [
    "## Time-discrete implementation"
   ]
  },
  {
   "cell_type": "code",
   "execution_count": 14,
   "metadata": {
    "ExecuteTime": {
     "end_time": "2017-12-21T18:22:19.358364Z",
     "start_time": "2017-12-21T18:22:19.051482Z"
    }
   },
   "outputs": [],
   "source": [
    "# @numba.njit\n",
    "# def C_atm(t):\n",
    "#     if t<1980:\n",
    "#         return 1.0\n",
    "#     else:\n",
    "#         return 0.0\n",
    "    \n",
    "@numba.njit\n",
    "def C_atm(x):\n",
    "    x -=1\n",
    "    xp = np.array([ 1891.5, 1892.5, 1893.5, 1894.5, 1895.5, 1896.5, 1897.5, 1898.5, 1899.5, 1900.5, 1901.5, 1902.5, 1903.5, 1904.5, 1905.5, 1906.5, 1907.5, 1908.5, 1909.5, 1910.5, 1911.5, 1912.5, 1913.5, 1914.5, 1915.5, 1916.5, 1917.5, 1918.5, 1919.5, 1920.5, 1921.5, 1922.5, 1923.5, 1924.5, 1925.5, 1926.5, 1927.5, 1928.5, 1929.5, 1930.5, 1931.5, 1932.5, 1933.5, 1934.5, 1935.5, 1936.5, 1937.5, 1938.5, 1939.5, 1940.5, 1941.5, 1942.5, 1943.5, 1944.5, 1945.5, 1946.5, 1947.5, 1948.5, 1949.5, 1950.5, 1951.5, 1952.5, 1953.5, 1954.5, 1955.5, 1956.5, 1957.5, 1958.5, 1959.5, 1960.5, 1961.5, 1962.5, 1963.5, 1964.5, 1965.5, 1966.5, 1967.5, 1968.5, 1969.5, 1970.5, 1971.5, 1972.5, 1973.5, 1974.5, 1975.5, 1976.5, 1977.5, 1978.5, 1979.5, 1980.5, 1981.5, 1982.5, 1983.5, 1984.5, 1985.5, 1986.5, 1987.5, 1988.5, 1989.5, 1990.5, 1991.5, 1992.5, 1993.5, 1994.5, 1995.5, 1996.5, 1997.5, 1998.5, 1999.5, 2000.5, 2001.5, 2002.5, 2003.5, 2003.963938,  2004.421821,  2004.879704, 2005.337587,  2005.79547 ,  2006.253353,  2006.711236, 2007.169119,  2007.627002,  2008.084885,  2008.542768, 2009.000651,  2009.458534,  2009.916417,  2010.3743  , 2010.3743  ,  2010.626   ,  2011.125   ,  2011.626   , 2012.125   ,  2012.626   ,  2013.125   ,  2013.626   , 2014.125   ,  2014.626   ,  2015.125   ,  2015.625   , 2016.125   ,  2016.625   ,  2020.      ])\n",
    "    fp = np.array([-0.002     , -0.002     , -0.002     , -0.002     , -0.002     , -0.00233   , -0.00267   , -0.003     , -0.00333   , -0.00367   , -0.004     , -0.00433   , -0.00467   , -0.005     , -0.00533   , -0.00567   , -0.006     , -0.00633   , -0.00667   , -0.007     , -0.00733   , -0.00767   , -0.008     , -0.00833   , -0.00867   , -0.009     , -0.00933   , -0.00967   , -0.01      , -0.01033   , -0.01067   , -0.011     , -0.01133   , -0.01167   , -0.012     , -0.01233   , -0.01267   , -0.013     , -0.01333   , -0.01367   , -0.014     , -0.01433   , -0.01467   , -0.015     , -0.01533   , -0.01567   , -0.016     , -0.01633   , -0.01667   , -0.0202    , -0.0194    , -0.0196    , -0.0225    , -0.0217    , -0.0221    , -0.0216    , -0.0211    , -0.0223    , -0.0246    , -0.0248    , -0.0248    , -0.0249    , -0.0239    , -0.0211    , -0.0082    , 0.0265    ,  0.073     ,  0.1402    ,  0.228     ,  0.2123    , 0.2216    ,  0.3585    ,  0.7183    ,  0.8357    ,  0.7563    , 0.6919    ,  0.6236    ,  0.5645    ,  0.5454    ,  0.5291    , 0.4994    ,  0.4656    ,  0.4186    ,  0.4008    ,  0.3698    , 0.3525    ,  0.3339    ,  0.3258    ,  0.2958    ,  0.2645    , 0.2567    ,  0.2383    ,  0.2242    ,  0.2093    ,  0.2013    , 0.1911    ,  0.1826    ,  0.1734    ,  0.1635    ,  0.1525    , 0.1429    ,  0.1364    ,  0.1284    ,  0.1221    ,  0.1155    , 0.1099    ,  0.1043    ,  0.0981    ,  0.09      ,  0.0866    , 0.0807    ,  0.0749    ,  0.0689    ,  0.06349874,  0.06145905, 0.0597412 ,  0.05822747,  0.05641489,  0.05479531,  0.05364811, 0.05205465,  0.05067073,  0.04927897,  0.04788014,  0.04647508, 0.04506462,  0.04364948,  0.04223027,  0.04223027,  0.0403    , 0.0347    ,  0.0371    ,  0.0312    ,  0.0299    ,  0.0193    , 0.0219    ,  0.0182    ,  0.018     ,  0.0116    ,  0.0129    , 0.0096    ,  0.0097    ,  0.0097    ])\n",
    "    \n",
    "    if x<xp[0]:\n",
    "        return fp[0]\n",
    "    elif x>xp[-1]:\n",
    "        return fp[-1]\n",
    "    else:\n",
    "        for i in range(len(xp)):\n",
    "            if x<xp[i]:\n",
    "                break\n",
    "        return fp[i-1] + (fp[i] - fp[i-1]) * (x - xp[i-1]) / (xp[i] - xp[i-1])\n",
    "\n",
    "def L2b(Dbirth, Dcoll, r, C_init=-99.9):\n",
    "    if C_init==-99.9:\n",
    "        C_init = C_atm(Dbirth)\n",
    "    c = C_init\n",
    "    \n",
    "    def rhs(c, t, r):\n",
    "        return r * (C_atm(t) - c)\n",
    "    def Dfun(c, t0, r):\n",
    "        return -r\n",
    "    tt = np.linspace(Dbirth, Dcoll)\n",
    "    CC = sp.integrate.odeint(rhs, C_init, tt, args = (r, ), Dfun = Dfun)[:, 0]\n",
    "    return tt, CC\n",
    "\n",
    "@numba.njit\n",
    "def k(a, g0, g1):\n",
    "    return g0 * g1 / (g1 + a)\n",
    "\n",
    "@numba.njit\n",
    "def LDa(Dbirth, Dcoll, g0, g1, C_init=-99.9, N=1000, dt=0.1):\n",
    "    t = Dbirth\n",
    "    \n",
    "    if C_init==-99.9:\n",
    "        C_init = C_atm(t)\n",
    "    cc = C_init * np.ones(N)\n",
    "    aa = np.zeros(N)\n",
    "    \n",
    "    tt = np.arange(Dbirth, Dcoll, dt)\n",
    "    cc_mean = np.empty_like(tt)\n",
    "    \n",
    "    for i, t in enumerate(tt):\n",
    "        pp = k(aa, g0, g1) * dt\n",
    "        \n",
    "        div = np.random.rand(N) < pp\n",
    "        div_ind = np.where(div)[0]\n",
    "        \n",
    "        die_ind = np.random.choice(np.where(~div)[0], size=len(div_ind), replace=False)\n",
    "        \n",
    "        cc_new = 0.5 * (cc[div_ind] + C_atm(t))\n",
    "        \n",
    "        cc[div_ind] = cc_new\n",
    "        aa[div_ind] = 0.0\n",
    "        \n",
    "        cc[die_ind] = cc_new\n",
    "        aa[die_ind] = 0.0\n",
    "        \n",
    "        cc_mean[i] = cc.mean()\n",
    "        \n",
    "        aa += dt\n",
    "    return aa, tt, cc_mean"
   ]
  },
  {
   "cell_type": "code",
   "execution_count": 15,
   "metadata": {
    "ExecuteTime": {
     "end_time": "2017-12-21T18:22:22.928354Z",
     "start_time": "2017-12-21T18:22:19.359847Z"
    }
   },
   "outputs": [
    {
     "data": {
      "image/png": "[encoded data removed]",
      "text/plain": [
       "<matplotlib.figure.Figure at 0x7f778b63d4e0>"
      ]
     },
     "metadata": {},
     "output_type": "display_data"
    }
   ],
   "source": [
    "np.random.seed(42)\n",
    "g0 = 0.1\n",
    "g1 = 5.0\n",
    "\n",
    "np.random.seed(42)\n",
    "aa, tt_LD, CC_LD = LDa(1930, 2070, g0, g1, N=1000, dt=0.001)\n",
    "plt.plot(tt_LD, CC_LD, label = 'LD')\n",
    "\n",
    "r1 = k(aa, g0, g1).mean()\n",
    "\n",
    "tt_L2, CC_L2 = L2b(1930, 2070, r1)\n",
    "plt.plot(tt_L2, CC_L2, label = 'L2')\n",
    "\n",
    "plt.plot(tt_L2, np.vectorize(C_atm)(tt_L2), label='atm')\n",
    "\n",
    "plt.xlabel('year')\n",
    "plt.ylabel('C14 concentration')\n",
    "plt.legend()\n",
    "\n",
    "plt.show()"
   ]
  }
 ],
 "metadata": {
  "kernelspec": {
   "display_name": "Python [conda env:py3]",
   "language": "python",
   "name": "conda-env-py3-py"
  },
  "language_info": {
   "codemirror_mode": {
    "name": "ipython",
    "version": 3
   },
   "file_extension": ".py",
   "mimetype": "text/x-python",
   "name": "python",
   "nbconvert_exporter": "python",
   "pygments_lexer": "ipython3",
   "version": "3.6.3"
  },
  "toc": {
   "nav_menu": {},
   "number_sections": true,
   "sideBar": true,
   "skip_h1_title": false,
   "toc_cell": false,
   "toc_position": {
    "height": "953px",
    "left": "0px",
    "right": "1679px",
    "top": "111px",
    "width": "221px"
   },
   "toc_section_display": "block",
   "toc_window_display": true
  }
 },
 "nbformat": 4,
 "nbformat_minor": 2
}
