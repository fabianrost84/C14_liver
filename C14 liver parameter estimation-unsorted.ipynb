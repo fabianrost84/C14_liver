{
 "cells": [
  {
   "cell_type": "code",
   "execution_count": 1,
   "metadata": {
    "ExecuteTime": {
     "end_time": "2018-01-05T17:30:30.622373Z",
     "start_time": "2018-01-05T17:30:28.731731Z"
    }
   },
   "outputs": [],
   "source": [
    "import iminuit\n",
    "%load_ext line_profiler\n",
    "import matplotlib.pyplot as plt\n",
    "%matplotlib inline\n",
    "import numba\n",
    "import numpy as np\n",
    "import pandas as pd\n",
    "import scipy as sp\n",
    "from scipy import optimize\n",
    "import seaborn as sns\n",
    "sns.set_style('darkgrid')\n",
    "sns.set_context('notebook')"
   ]
  },
  {
   "cell_type": "code",
   "execution_count": 2,
   "metadata": {
    "ExecuteTime": {
     "end_time": "2018-01-05T17:30:30.627915Z",
     "start_time": "2018-01-05T17:30:30.624314Z"
    }
   },
   "outputs": [],
   "source": [
    "def CI(M, p):\n",
    "    value = M.values[p]\n",
    "    lower = M.get_merrors()[p]['lower']\n",
    "    upper = M.get_merrors()[p]['upper']\n",
    "    return value + lower, value + upper"
   ]
  },
  {
   "cell_type": "code",
   "execution_count": 3,
   "metadata": {
    "ExecuteTime": {
     "end_time": "2018-01-05T17:30:30.636652Z",
     "start_time": "2018-01-05T17:30:30.629225Z"
    }
   },
   "outputs": [],
   "source": [
    "results = pd.DataFrame()"
   ]
  },
  {
   "cell_type": "markdown",
   "metadata": {},
   "source": [
    "# Load C14 models"
   ]
  },
  {
   "cell_type": "code",
   "execution_count": 4,
   "metadata": {
    "ExecuteTime": {
     "end_time": "2018-01-05T17:30:30.798559Z",
     "start_time": "2018-01-05T17:30:30.638019Z"
    }
   },
   "outputs": [],
   "source": [
    "import c14_models"
   ]
  },
  {
   "cell_type": "code",
   "execution_count": 5,
   "metadata": {
    "ExecuteTime": {
     "end_time": "2018-01-05T17:30:30.805765Z",
     "start_time": "2018-01-05T17:30:30.799815Z"
    }
   },
   "outputs": [
    {
     "data": {
      "text/plain": [
       "<module 'c14_models' from '/home/fabrost/work/C14_liver/c14_models.py'>"
      ]
     },
     "execution_count": 5,
     "metadata": {},
     "output_type": "execute_result"
    }
   ],
   "source": [
    "import importlib\n",
    "importlib.reload(c14_models)"
   ]
  },
  {
   "cell_type": "markdown",
   "metadata": {},
   "source": [
    "# Read patient data"
   ]
  },
  {
   "cell_type": "code",
   "execution_count": 6,
   "metadata": {
    "ExecuteTime": {
     "end_time": "2018-01-05T17:30:31.451186Z",
     "start_time": "2018-01-05T17:30:31.387012Z"
    }
   },
   "outputs": [],
   "source": [
    "c14_patient_data = pd.read_excel('data/C14data_liver_samples.xlsx')[['sort', 'Code', 'DOB', 'DOA', u'Δ 14C']]\n",
    "c14_patient_data.columns = ['type', 'pub_id', 'Dbirth', 'Dcoll', 'd14C']\n",
    "c14_patient_data['mass'] = 1.0\n",
    "c14_patient_data['d14C'] /= 1000.0"
   ]
  },
  {
   "cell_type": "code",
   "execution_count": 7,
   "metadata": {
    "ExecuteTime": {
     "end_time": "2018-01-05T17:30:37.730013Z",
     "start_time": "2018-01-05T17:30:37.712310Z"
    }
   },
   "outputs": [
    {
     "data": {
      "text/html": [
       "<div>\n",
       "<style>\n",
       "    .dataframe thead tr:only-child th {\n",
       "        text-align: right;\n",
       "    }\n",
       "\n",
       "    .dataframe thead th {\n",
       "        text-align: left;\n",
       "    }\n",
       "\n",
       "    .dataframe tbody tr th {\n",
       "        vertical-align: top;\n",
       "    }\n",
       "</style>\n",
       "<table border=\"1\" class=\"dataframe\">\n",
       "  <thead>\n",
       "    <tr style=\"text-align: right;\">\n",
       "      <th></th>\n",
       "      <th>Dbirth</th>\n",
       "      <th>Dcoll</th>\n",
       "      <th>d14C</th>\n",
       "      <th>mass</th>\n",
       "    </tr>\n",
       "  </thead>\n",
       "  <tbody>\n",
       "    <tr>\n",
       "      <th>count</th>\n",
       "      <td>9.000000</td>\n",
       "      <td>9.000000</td>\n",
       "      <td>9.000000</td>\n",
       "      <td>9.0</td>\n",
       "    </tr>\n",
       "    <tr>\n",
       "      <th>mean</th>\n",
       "      <td>1973.009259</td>\n",
       "      <td>2016.907407</td>\n",
       "      <td>0.046318</td>\n",
       "      <td>1.0</td>\n",
       "    </tr>\n",
       "    <tr>\n",
       "      <th>std</th>\n",
       "      <td>18.623203</td>\n",
       "      <td>0.419665</td>\n",
       "      <td>0.019564</td>\n",
       "      <td>0.0</td>\n",
       "    </tr>\n",
       "    <tr>\n",
       "      <th>min</th>\n",
       "      <td>1942.833333</td>\n",
       "      <td>2016.416667</td>\n",
       "      <td>0.022400</td>\n",
       "      <td>1.0</td>\n",
       "    </tr>\n",
       "    <tr>\n",
       "      <th>25%</th>\n",
       "      <td>1953.000000</td>\n",
       "      <td>2016.500000</td>\n",
       "      <td>0.029200</td>\n",
       "      <td>1.0</td>\n",
       "    </tr>\n",
       "    <tr>\n",
       "      <th>50%</th>\n",
       "      <td>1979.833333</td>\n",
       "      <td>2016.833333</td>\n",
       "      <td>0.043500</td>\n",
       "      <td>1.0</td>\n",
       "    </tr>\n",
       "    <tr>\n",
       "      <th>75%</th>\n",
       "      <td>1982.083333</td>\n",
       "      <td>2017.333333</td>\n",
       "      <td>0.059306</td>\n",
       "      <td>1.0</td>\n",
       "    </tr>\n",
       "    <tr>\n",
       "      <th>max</th>\n",
       "      <td>1995.333333</td>\n",
       "      <td>2017.416667</td>\n",
       "      <td>0.078416</td>\n",
       "      <td>1.0</td>\n",
       "    </tr>\n",
       "  </tbody>\n",
       "</table>\n",
       "</div>"
      ],
      "text/plain": [
       "            Dbirth        Dcoll      d14C  mass\n",
       "count     9.000000     9.000000  9.000000   9.0\n",
       "mean   1973.009259  2016.907407  0.046318   1.0\n",
       "std      18.623203     0.419665  0.019564   0.0\n",
       "min    1942.833333  2016.416667  0.022400   1.0\n",
       "25%    1953.000000  2016.500000  0.029200   1.0\n",
       "50%    1979.833333  2016.833333  0.043500   1.0\n",
       "75%    1982.083333  2017.333333  0.059306   1.0\n",
       "max    1995.333333  2017.416667  0.078416   1.0"
      ]
     },
     "execution_count": 7,
     "metadata": {},
     "output_type": "execute_result"
    }
   ],
   "source": [
    "hepatocyte_data = c14_patient_data.query('type == \"unsorted\"')\n",
    "hepatocyte_data.describe()"
   ]
  },
  {
   "cell_type": "markdown",
   "metadata": {},
   "source": [
    "# SSE & log-likelihood"
   ]
  },
  {
   "cell_type": "code",
   "execution_count": 8,
   "metadata": {
    "ExecuteTime": {
     "end_time": "2018-01-05T17:30:42.106189Z",
     "start_time": "2018-01-05T17:30:42.100535Z"
    }
   },
   "outputs": [],
   "source": [
    "def SSE(p, model, data):\n",
    "    model_data = model(data['Dbirth'].values, \n",
    "                    data['Dcoll'].values, \n",
    "                    *p)\n",
    "    sse = np.sum((model_data - data['d14C'].values)**2)\n",
    "    return sse    "
   ]
  },
  {
   "cell_type": "code",
   "execution_count": 9,
   "metadata": {
    "ExecuteTime": {
     "end_time": "2018-01-05T17:30:42.344127Z",
     "start_time": "2018-01-05T17:30:42.340488Z"
    }
   },
   "outputs": [],
   "source": [
    "def Sigma(p, model, data):\n",
    "    sse = SSE(p, model, data)\n",
    "    n = len(data)\n",
    "    sigma = np.sqrt(sse/n)\n",
    "    return sigma"
   ]
  },
  {
   "cell_type": "code",
   "execution_count": 10,
   "metadata": {
    "ExecuteTime": {
     "end_time": "2018-01-05T17:30:42.584384Z",
     "start_time": "2018-01-05T17:30:42.576365Z"
    }
   },
   "outputs": [],
   "source": [
    "def Nloglike(p, model, data):\n",
    "    try:\n",
    "        sse = SSE(p, model, data)\n",
    "    except:\n",
    "        sse = SSE([p], model, data)\n",
    "    n = len(data)\n",
    "    sig = np.sqrt(sse/n)\n",
    "    loglike = -n/2 * np.log(2*np.pi) - n/2 * np.log(sig**2) - 1 / (2*sig**2) * sse\n",
    "    return -loglike"
   ]
  },
  {
   "cell_type": "markdown",
   "metadata": {},
   "source": [
    "# Scenario I1"
   ]
  },
  {
   "cell_type": "code",
   "execution_count": 11,
   "metadata": {
    "ExecuteTime": {
     "end_time": "2018-01-05T17:30:43.222748Z",
     "start_time": "2018-01-05T17:30:43.219689Z"
    }
   },
   "outputs": [],
   "source": [
    "@np.vectorize\n",
    "def I1(Dbirth, Dcoll, loglam):\n",
    "    lam = np.exp(loglam)\n",
    "    return c14_models.I1(Dbirth, Dcoll, lam)[1]"
   ]
  },
  {
   "cell_type": "markdown",
   "metadata": {},
   "source": [
    "## Artifical data"
   ]
  },
  {
   "cell_type": "code",
   "execution_count": 12,
   "metadata": {
    "ExecuteTime": {
     "end_time": "2018-01-05T17:30:44.387919Z",
     "start_time": "2018-01-05T17:30:43.952953Z"
    }
   },
   "outputs": [],
   "source": [
    "lam = 0.1\n",
    "n = 20\n",
    "np.random.seed(42)\n",
    "artifical_data = pd.DataFrame(\n",
    "                    data={'Dbirth': \n",
    "                               np.random.uniform(1930, 1970, n), \n",
    "                          'Dcoll': \n",
    "                               np.random.uniform(2014, 2018, n)}\n",
    "                             )\n",
    "\n",
    "artifical_data['d14C'] = I1(artifical_data['Dbirth'], \n",
    "                            artifical_data['Dcoll'], \n",
    "                            loglam=np.log(lam)) \n",
    "artifical_data['d14C'] += np.random.normal(0, 0.01, \n",
    "                                           len(artifical_data)\n",
    "                                          )"
   ]
  },
  {
   "cell_type": "code",
   "execution_count": 13,
   "metadata": {
    "ExecuteTime": {
     "end_time": "2018-01-05T17:21:17.832809Z",
     "start_time": "2018-01-05T17:21:17.827093Z"
    }
   },
   "outputs": [
    {
     "data": {
      "text/html": [
       "<div>\n",
       "<style>\n",
       "    .dataframe thead tr:only-child th {\n",
       "        text-align: right;\n",
       "    }\n",
       "\n",
       "    .dataframe thead th {\n",
       "        text-align: left;\n",
       "    }\n",
       "\n",
       "    .dataframe tbody tr th {\n",
       "        vertical-align: top;\n",
       "    }\n",
       "</style>\n",
       "<table border=\"1\" class=\"dataframe\">\n",
       "  <thead>\n",
       "    <tr style=\"text-align: right;\">\n",
       "      <th></th>\n",
       "      <th>Dbirth</th>\n",
       "      <th>Dcoll</th>\n",
       "      <th>d14C</th>\n",
       "    </tr>\n",
       "  </thead>\n",
       "  <tbody>\n",
       "    <tr>\n",
       "      <th>0</th>\n",
       "      <td>1944.981605</td>\n",
       "      <td>2016.447412</td>\n",
       "      <td>0.066330</td>\n",
       "    </tr>\n",
       "    <tr>\n",
       "      <th>1</th>\n",
       "      <td>1968.028572</td>\n",
       "      <td>2014.557975</td>\n",
       "      <td>0.073433</td>\n",
       "    </tr>\n",
       "    <tr>\n",
       "      <th>2</th>\n",
       "      <td>1959.279758</td>\n",
       "      <td>2015.168579</td>\n",
       "      <td>0.086205</td>\n",
       "    </tr>\n",
       "    <tr>\n",
       "      <th>3</th>\n",
       "      <td>1953.946339</td>\n",
       "      <td>2015.465447</td>\n",
       "      <td>0.060992</td>\n",
       "    </tr>\n",
       "    <tr>\n",
       "      <th>4</th>\n",
       "      <td>1936.240746</td>\n",
       "      <td>2015.824280</td>\n",
       "      <td>0.072131</td>\n",
       "    </tr>\n",
       "  </tbody>\n",
       "</table>\n",
       "</div>"
      ],
      "text/plain": [
       "        Dbirth        Dcoll      d14C\n",
       "0  1944.981605  2016.447412  0.066330\n",
       "1  1968.028572  2014.557975  0.073433\n",
       "2  1959.279758  2015.168579  0.086205\n",
       "3  1953.946339  2015.465447  0.060992\n",
       "4  1936.240746  2015.824280  0.072131"
      ]
     },
     "execution_count": 13,
     "metadata": {},
     "output_type": "execute_result"
    }
   ],
   "source": [
    "artifical_data.head()"
   ]
  },
  {
   "cell_type": "markdown",
   "metadata": {},
   "source": [
    "## Parameter recovery"
   ]
  },
  {
   "cell_type": "code",
   "execution_count": 14,
   "metadata": {
    "ExecuteTime": {
     "end_time": "2018-01-05T17:21:18.759762Z",
     "start_time": "2018-01-05T17:21:17.833827Z"
    }
   },
   "outputs": [
    {
     "data": {
      "image/png": "[encoded data removed]",
      "text/plain": [
       "<matplotlib.figure.Figure at 0x7f91029eb5c0>"
      ]
     },
     "metadata": {},
     "output_type": "display_data"
    }
   ],
   "source": [
    "xx = np.linspace(np.log(0.05), np.log(1.5), 10)\n",
    "yy = [SSE([loglam], I1, artifical_data) for loglam in xx]\n",
    "plt.plot(xx, yy)\n",
    "\n",
    "plt.xlabel('loglambda')\n",
    "plt.ylabel('SSE')\n",
    "\n",
    "plt.show()"
   ]
  },
  {
   "cell_type": "code",
   "execution_count": 15,
   "metadata": {
    "ExecuteTime": {
     "end_time": "2018-01-05T17:21:19.790961Z",
     "start_time": "2018-01-05T17:21:18.761213Z"
    }
   },
   "outputs": [
    {
     "data": {
      "image/png": "[encoded data removed]",
      "text/plain": [
       "<matplotlib.figure.Figure at 0x7f91029eb3c8>"
      ]
     },
     "metadata": {},
     "output_type": "display_data"
    }
   ],
   "source": [
    "xx = np.linspace(np.log(0.05), np.log(1.5), 10)\n",
    "yy = [Sigma([loglam], I1, artifical_data) for loglam in xx]\n",
    "plt.plot(xx, yy)\n",
    "\n",
    "plt.xlabel('loglambda')\n",
    "plt.ylabel('sigma')\n",
    "\n",
    "plt.show()"
   ]
  },
  {
   "cell_type": "code",
   "execution_count": 16,
   "metadata": {
    "ExecuteTime": {
     "end_time": "2018-01-05T17:21:21.447990Z",
     "start_time": "2018-01-05T17:21:19.792234Z"
    }
   },
   "outputs": [],
   "source": [
    "res = sp.optimize.brute(func=Nloglike, \n",
    "                  ranges=[(np.log(0.01), np.log(10.0))],\n",
    "                  args = (I1, artifical_data),\n",
    "                  Ns = 10,\n",
    "                  full_output = True,\n",
    "                  finish=None)"
   ]
  },
  {
   "cell_type": "code",
   "execution_count": 17,
   "metadata": {
    "ExecuteTime": {
     "end_time": "2018-01-05T17:21:21.493828Z",
     "start_time": "2018-01-05T17:21:21.449147Z"
    }
   },
   "outputs": [
    {
     "name": "stdout",
     "output_type": "stream",
     "text": [
      "lamda 0.1\n",
      "sigma 0.00926419903019\n"
     ]
    }
   ],
   "source": [
    "lam = sp.exp(res[0])\n",
    "print('lamda', lam)\n",
    "\n",
    "sig = Sigma([np.log(lam)], I1, artifical_data)\n",
    "print('sigma', sig)"
   ]
  },
  {
   "cell_type": "code",
   "execution_count": 18,
   "metadata": {
    "ExecuteTime": {
     "end_time": "2018-01-05T17:21:21.588480Z",
     "start_time": "2018-01-05T17:21:21.494822Z"
    }
   },
   "outputs": [
    {
     "data": {
      "image/png": "[encoded data removed]",
      "text/plain": [
       "<matplotlib.figure.Figure at 0x7f914514f828>"
      ]
     },
     "metadata": {},
     "output_type": "display_data"
    }
   ],
   "source": [
    "plt.plot(res[-2], res[-1]-res[1])\n",
    "\n",
    "plt.xlabel('loglambda')\n",
    "plt.ylabel('nloglike')\n",
    "\n",
    "plt.show()"
   ]
  },
  {
   "cell_type": "markdown",
   "metadata": {},
   "source": [
    "### Plot"
   ]
  },
  {
   "cell_type": "code",
   "execution_count": 19,
   "metadata": {
    "ExecuteTime": {
     "end_time": "2018-01-05T17:21:23.062505Z",
     "start_time": "2018-01-05T17:21:21.589581Z"
    }
   },
   "outputs": [
    {
     "data": {
      "image/png": "[encoded data removed]",
      "text/plain": [
       "<matplotlib.figure.Figure at 0x7f910277cdd8>"
      ]
     },
     "metadata": {},
     "output_type": "display_data"
    }
   ],
   "source": [
    "fig, axs = plt.subplots(2, 1, sharex = True, figsize = (12, 8))\n",
    "\n",
    "time = sp.linspace(1910.0, 2020.0, 1000)\n",
    "\n",
    "\n",
    "for ax in axs:\n",
    "    ax.plot(time, np.vectorize(c14_models.C_atm)(time), label = 'Atmosphere', color = 'black')\n",
    "\n",
    "    ax.errorbar(artifical_data['Dbirth'], \\\n",
    "                I1(artifical_data['Dbirth'], \n",
    "                   artifical_data['Dcoll'], \n",
    "                   np.log(lam)), \n",
    "                sig,\n",
    "                color = 'white', ecolor = 'black', \n",
    "                marker='s', ls = '',\n",
    "                label = 'Scenario I1')\n",
    "\n",
    "\n",
    "    ax.errorbar(artifical_data['Dbirth'], \n",
    "                artifical_data['d14C'], \n",
    "                marker = 'o', ls = 'None', color = 'black',\n",
    "                label = 'Artifical data')\n",
    "#     ax.errorbar(hepatocyte_data.query('Dcoll < 2015')['Dbirth'], hepatocyte_data.query('Dcoll < 2015')['d14C'], \n",
    "#                marker = 'o', ls = 'None', color = 'red', \n",
    "#                label = 'Hepato DNA (coll before 2015)')\n",
    "\n",
    "\n",
    "    ax.set_xlim((1909, 2020))\n",
    "    ax.set_ylim(-0.1, 0.9)\n",
    "    ax.set_xticks(sp.linspace(1910, 2010, 6), minor = 1)\n",
    "    # ax.grid(which='both')\n",
    "    \n",
    "\n",
    "    ax.set_xlabel('Calendar year')\n",
    "    ax.set_ylabel('$\\Delta^{14}$C')\n",
    "\n",
    "axs[0].legend()\n",
    "axs[1].set_ylim(-0.0, 0.15)\n",
    "    \n",
    "plt.savefig('plots/c14_predict_L1.png', bbox_inches='tight', dpi=300)\n",
    "\n",
    "plt.show()"
   ]
  },
  {
   "cell_type": "markdown",
   "metadata": {},
   "source": [
    "## Fit"
   ]
  },
  {
   "cell_type": "code",
   "execution_count": 13,
   "metadata": {
    "ExecuteTime": {
     "end_time": "2018-01-05T17:30:53.044210Z",
     "start_time": "2018-01-05T17:30:52.340264Z"
    }
   },
   "outputs": [
    {
     "data": {
      "image/png": "[encoded data removed]",
      "text/plain": [
       "<matplotlib.figure.Figure at 0x7f6465a5f518>"
      ]
     },
     "metadata": {},
     "output_type": "display_data"
    }
   ],
   "source": [
    "res = sp.optimize.brute(func=Nloglike, \n",
    "                  ranges=[(np.log(0.01), np.log(10.0))],\n",
    "                  args = (I1, hepatocyte_data,),\n",
    "                  Ns = 10,\n",
    "                  full_output = True,\n",
    "                  finish=None)\n",
    "\n",
    "plt.plot(res[-2], res[-1]-res[1])\n",
    "\n",
    "plt.xlabel('loglambda')\n",
    "plt.ylabel('nloglike')\n",
    "\n",
    "plt.show()"
   ]
  },
  {
   "cell_type": "code",
   "execution_count": 14,
   "metadata": {
    "ExecuteTime": {
     "end_time": "2018-01-05T17:30:54.634427Z",
     "start_time": "2018-01-05T17:30:53.639602Z"
    }
   },
   "outputs": [
    {
     "data": {
      "image/png": "[encoded data removed]",
      "text/plain": [
       "<matplotlib.figure.Figure at 0x7f646499dd30>"
      ]
     },
     "metadata": {},
     "output_type": "display_data"
    }
   ],
   "source": [
    "res = sp.optimize.brute(func=Nloglike, \n",
    "                  ranges=[(-2.6, -1.5)],\n",
    "                  args = (I1, hepatocyte_data,),\n",
    "                  Ns = 50,\n",
    "                  full_output = True,\n",
    "                  finish=None)\n",
    "\n",
    "plt.plot(res[-2], res[-1]-res[1])\n",
    "\n",
    "plt.xlabel('loglambda')\n",
    "plt.ylabel('nloglike')\n",
    "\n",
    "plt.show()"
   ]
  },
  {
   "cell_type": "code",
   "execution_count": 15,
   "metadata": {
    "ExecuteTime": {
     "end_time": "2018-01-05T17:30:55.349845Z",
     "start_time": "2018-01-05T17:30:55.311453Z"
    }
   },
   "outputs": [
    {
     "name": "stdout",
     "output_type": "stream",
     "text": [
      "lamda 0.145652648426\n",
      "sigma 0.0177988541359\n"
     ]
    },
    {
     "data": {
      "text/html": [
       "<div>\n",
       "<style>\n",
       "    .dataframe thead tr:only-child th {\n",
       "        text-align: right;\n",
       "    }\n",
       "\n",
       "    .dataframe thead th {\n",
       "        text-align: left;\n",
       "    }\n",
       "\n",
       "    .dataframe tbody tr th {\n",
       "        vertical-align: top;\n",
       "    }\n",
       "</style>\n",
       "<table border=\"1\" class=\"dataframe\">\n",
       "  <thead>\n",
       "    <tr style=\"text-align: right;\">\n",
       "      <th></th>\n",
       "      <th>loglike</th>\n",
       "      <th>k</th>\n",
       "      <th>n</th>\n",
       "      <th>cAIC</th>\n",
       "    </tr>\n",
       "  </thead>\n",
       "  <tbody>\n",
       "    <tr>\n",
       "      <th>I1</th>\n",
       "      <td>23.487144</td>\n",
       "      <td>2.0</td>\n",
       "      <td>9.0</td>\n",
       "      <td>-40.974288</td>\n",
       "    </tr>\n",
       "  </tbody>\n",
       "</table>\n",
       "</div>"
      ],
      "text/plain": [
       "      loglike    k    n       cAIC\n",
       "I1  23.487144  2.0  9.0 -40.974288"
      ]
     },
     "execution_count": 15,
     "metadata": {},
     "output_type": "execute_result"
    }
   ],
   "source": [
    "lam = sp.exp(res[0])\n",
    "print('lamda', lam)\n",
    "\n",
    "sig = Sigma([np.log(lam)], I1, hepatocyte_data)\n",
    "print('sigma', sig)\n",
    "\n",
    "results.loc['I1', 'loglike'] = -res[1]\n",
    "results.loc['I1', 'k'] = 2\n",
    "results.loc['I1', 'n'] = len(hepatocyte_data)\n",
    "\n",
    "results['cAIC'] = 2 * results['k'] - 2 * results['loglike'] + (2*results['k']**2 + 2*results['k'])/(results['n']-results['k']-1)\n",
    "\n",
    "results"
   ]
  },
  {
   "cell_type": "code",
   "execution_count": 16,
   "metadata": {
    "ExecuteTime": {
     "end_time": "2018-01-05T17:31:01.272568Z",
     "start_time": "2018-01-05T17:31:01.207382Z"
    }
   },
   "outputs": [
    {
     "data": {
      "text/plain": [
       "0.019148981956517382"
      ]
     },
     "execution_count": 16,
     "metadata": {},
     "output_type": "execute_result"
    }
   ],
   "source": [
    "Sigma([np.log(lam)], I1, artifical_data)"
   ]
  },
  {
   "cell_type": "markdown",
   "metadata": {},
   "source": [
    "### Plot"
   ]
  },
  {
   "cell_type": "code",
   "execution_count": 17,
   "metadata": {
    "ExecuteTime": {
     "end_time": "2018-01-05T17:31:04.251800Z",
     "start_time": "2018-01-05T17:31:02.928205Z"
    }
   },
   "outputs": [
    {
     "data": {
      "image/png": "[encoded data removed]",
      "text/plain": [
       "<matplotlib.figure.Figure at 0x7f6464786da0>"
      ]
     },
     "metadata": {},
     "output_type": "display_data"
    }
   ],
   "source": [
    "fig, axs = plt.subplots(2, 1, sharex = True, figsize = (12, 8))\n",
    "\n",
    "time = sp.linspace(1910.0, 2020.0, 1000)\n",
    "\n",
    "\n",
    "for ax in axs:\n",
    "    ax.plot(time, np.vectorize(c14_models.C_atm)(time), label = 'Atmosphere', color = 'black')\n",
    "\n",
    "    ax.errorbar(hepatocyte_data['Dbirth'], \\\n",
    "                I1(hepatocyte_data['Dbirth'], \n",
    "                   hepatocyte_data['Dcoll'], \n",
    "                   np.log(lam)), \n",
    "                sig,\n",
    "                color = 'white', ecolor = 'black', \n",
    "                marker='s', ls = '',\n",
    "                label = 'Scenario I1')\n",
    "\n",
    "\n",
    "    ax.errorbar(hepatocyte_data['Dbirth'], \n",
    "                hepatocyte_data['d14C'], \n",
    "                marker = 'o', ls = 'None', color = 'black',\n",
    "                label = 'Artifical data')\n",
    "#     ax.errorbar(hepatocyte_data.query('Dcoll < 2015')['Dbirth'], hepatocyte_data.query('Dcoll < 2015')['d14C'], \n",
    "#                marker = 'o', ls = 'None', color = 'red', \n",
    "#                label = 'Hepato DNA (coll before 2015)')\n",
    "\n",
    "\n",
    "    ax.set_xlim((1909, 2020))\n",
    "    ax.set_ylim(-0.1, 0.9)\n",
    "    ax.set_xticks(sp.linspace(1910, 2010, 6), minor = 1)\n",
    "    # ax.grid(which='both')\n",
    "    \n",
    "\n",
    "    ax.set_xlabel('Calendar year')\n",
    "    ax.set_ylabel('$\\Delta^{14}$C')\n",
    "\n",
    "axs[0].legend()\n",
    "axs[1].set_ylim(-0.0, 0.15)\n",
    "    \n",
    "plt.savefig('plots/c14_predict_L1.png', bbox_inches='tight', dpi=300)\n",
    "\n",
    "plt.show()"
   ]
  },
  {
   "cell_type": "markdown",
   "metadata": {},
   "source": [
    "# I2"
   ]
  },
  {
   "cell_type": "code",
   "execution_count": 18,
   "metadata": {
    "ExecuteTime": {
     "end_time": "2018-01-05T17:31:08.574926Z",
     "start_time": "2018-01-05T17:31:08.569620Z"
    }
   },
   "outputs": [],
   "source": [
    "@np.vectorize\n",
    "def I2(Dbirth, Dcoll, loglam, f):\n",
    "    lam = np.exp(loglam)\n",
    "    return c14_models.I2(Dbirth, Dcoll, lam, f)[1]"
   ]
  },
  {
   "cell_type": "markdown",
   "metadata": {},
   "source": [
    "## Artifical data"
   ]
  },
  {
   "cell_type": "code",
   "execution_count": 19,
   "metadata": {
    "ExecuteTime": {
     "end_time": "2018-01-05T17:31:10.195559Z",
     "start_time": "2018-01-05T17:31:10.136764Z"
    }
   },
   "outputs": [],
   "source": [
    "lam = 0.1\n",
    "f = 0.5\n",
    "n = 20\n",
    "np.random.seed(42)\n",
    "artifical_data = pd.DataFrame(\n",
    "                    data={'Dbirth': \n",
    "                               np.random.uniform(1930, 1970, n), \n",
    "                          'Dcoll': \n",
    "                               np.random.uniform(2014, 2018, n)}\n",
    "                             )\n",
    "\n",
    "artifical_data['d14C'] = I2(artifical_data['Dbirth'], \n",
    "                            artifical_data['Dcoll'], \n",
    "                            loglam=np.log(lam), \n",
    "                            f=f) \n",
    "artifical_data['d14C'] += np.random.normal(0, 0.01, \n",
    "                                           len(artifical_data)\n",
    "                                          )"
   ]
  },
  {
   "cell_type": "code",
   "execution_count": 27,
   "metadata": {
    "ExecuteTime": {
     "end_time": "2018-01-05T17:21:26.045146Z",
     "start_time": "2018-01-05T17:21:26.039195Z"
    }
   },
   "outputs": [
    {
     "data": {
      "text/html": [
       "<div>\n",
       "<style>\n",
       "    .dataframe thead tr:only-child th {\n",
       "        text-align: right;\n",
       "    }\n",
       "\n",
       "    .dataframe thead th {\n",
       "        text-align: left;\n",
       "    }\n",
       "\n",
       "    .dataframe tbody tr th {\n",
       "        vertical-align: top;\n",
       "    }\n",
       "</style>\n",
       "<table border=\"1\" class=\"dataframe\">\n",
       "  <thead>\n",
       "    <tr style=\"text-align: right;\">\n",
       "      <th></th>\n",
       "      <th>Dbirth</th>\n",
       "      <th>Dcoll</th>\n",
       "      <th>d14C</th>\n",
       "    </tr>\n",
       "  </thead>\n",
       "  <tbody>\n",
       "    <tr>\n",
       "      <th>0</th>\n",
       "      <td>1944.981605</td>\n",
       "      <td>2016.447412</td>\n",
       "      <td>0.022040</td>\n",
       "    </tr>\n",
       "    <tr>\n",
       "      <th>1</th>\n",
       "      <td>1968.028572</td>\n",
       "      <td>2014.557975</td>\n",
       "      <td>0.359327</td>\n",
       "    </tr>\n",
       "    <tr>\n",
       "      <th>2</th>\n",
       "      <td>1959.279758</td>\n",
       "      <td>2015.168579</td>\n",
       "      <td>0.109915</td>\n",
       "    </tr>\n",
       "    <tr>\n",
       "      <th>3</th>\n",
       "      <td>1953.946339</td>\n",
       "      <td>2015.465447</td>\n",
       "      <td>0.012165</td>\n",
       "    </tr>\n",
       "    <tr>\n",
       "      <th>4</th>\n",
       "      <td>1936.240746</td>\n",
       "      <td>2015.824280</td>\n",
       "      <td>0.029488</td>\n",
       "    </tr>\n",
       "  </tbody>\n",
       "</table>\n",
       "</div>"
      ],
      "text/plain": [
       "        Dbirth        Dcoll      d14C\n",
       "0  1944.981605  2016.447412  0.022040\n",
       "1  1968.028572  2014.557975  0.359327\n",
       "2  1959.279758  2015.168579  0.109915\n",
       "3  1953.946339  2015.465447  0.012165\n",
       "4  1936.240746  2015.824280  0.029488"
      ]
     },
     "execution_count": 27,
     "metadata": {},
     "output_type": "execute_result"
    }
   ],
   "source": [
    "artifical_data.head()"
   ]
  },
  {
   "cell_type": "markdown",
   "metadata": {},
   "source": [
    "## Parameter recovery"
   ]
  },
  {
   "cell_type": "code",
   "execution_count": 20,
   "metadata": {
    "ExecuteTime": {
     "end_time": "2018-01-05T17:31:14.345528Z",
     "start_time": "2018-01-05T17:31:13.450684Z"
    }
   },
   "outputs": [
    {
     "data": {
      "image/png": "[encoded data removed]",
      "text/plain": [
       "<matplotlib.figure.Figure at 0x7f6464a45c88>"
      ]
     },
     "metadata": {},
     "output_type": "display_data"
    }
   ],
   "source": [
    "xx = np.linspace(np.log(0.05), np.log(1.5), 10)\n",
    "yy = [SSE([loglam, 0.5], I2, artifical_data) for loglam in xx]\n",
    "plt.plot(xx, yy)\n",
    "\n",
    "plt.xlabel('loglambda')\n",
    "plt.ylabel('SSE')\n",
    "\n",
    "plt.show()"
   ]
  },
  {
   "cell_type": "code",
   "execution_count": 29,
   "metadata": {
    "ExecuteTime": {
     "end_time": "2018-01-05T17:21:27.765060Z",
     "start_time": "2018-01-05T17:21:26.909570Z"
    }
   },
   "outputs": [
    {
     "data": {
      "image/png": "[encoded data removed]",
      "text/plain": [
       "<matplotlib.figure.Figure at 0x7f91029059b0>"
      ]
     },
     "metadata": {},
     "output_type": "display_data"
    }
   ],
   "source": [
    "xx = np.linspace(np.log(0.05), np.log(1.5), 10)\n",
    "yy = [Sigma([loglam, 0.5], I2, artifical_data) for loglam in xx]\n",
    "plt.plot(xx, yy)\n",
    "\n",
    "plt.xlabel('loglambda')\n",
    "plt.ylabel('sigma')\n",
    "\n",
    "plt.show()"
   ]
  },
  {
   "cell_type": "code",
   "execution_count": 30,
   "metadata": {
    "ExecuteTime": {
     "end_time": "2018-01-05T17:21:43.011726Z",
     "start_time": "2018-01-05T17:21:27.766588Z"
    }
   },
   "outputs": [],
   "source": [
    "res = sp.optimize.brute(func=Nloglike, \n",
    "                  ranges=[(np.log(0.01), np.log(10.0)), (0, 1)],\n",
    "                  args = (I2, artifical_data),\n",
    "                  Ns = 10,\n",
    "                  full_output = True,\n",
    "                  finish=None)"
   ]
  },
  {
   "cell_type": "code",
   "execution_count": 31,
   "metadata": {
    "ExecuteTime": {
     "end_time": "2018-01-05T17:21:43.058607Z",
     "start_time": "2018-01-05T17:21:43.012857Z"
    }
   },
   "outputs": [
    {
     "name": "stdout",
     "output_type": "stream",
     "text": [
      "lamda 0.1\n",
      "f 0.555555555556\n",
      "sigma 0.0157080864294\n"
     ]
    }
   ],
   "source": [
    "lam = sp.exp(res[0][0])\n",
    "print('lamda', lam)\n",
    "\n",
    "f = res[0][1]\n",
    "print('f', f)\n",
    "\n",
    "sig = Sigma([np.log(lam), f], I2, artifical_data)\n",
    "print('sigma', sig)"
   ]
  },
  {
   "cell_type": "code",
   "execution_count": 32,
   "metadata": {
    "ExecuteTime": {
     "end_time": "2018-01-05T17:21:43.181093Z",
     "start_time": "2018-01-05T17:21:43.059761Z"
    }
   },
   "outputs": [
    {
     "data": {
      "image/png": "[encoded data removed]",
      "text/plain": [
       "<matplotlib.figure.Figure at 0x7f91028354e0>"
      ]
     },
     "metadata": {},
     "output_type": "display_data"
    }
   ],
   "source": [
    "x = res[2][0]\n",
    "y = res[2][1]\n",
    "z = res[3]\n",
    "z -= z.min()\n",
    "\n",
    "plt.pcolormesh(x, y, z)\n",
    "\n",
    "CS = plt.contour(x, y, z, levels = [0.5, 2.0, 8.0])\n",
    "plt.clabel(CS, inline=1, fontsize=10)\n",
    "\n",
    "plt.xlabel('loglam')\n",
    "plt.ylabel('f')\n",
    "plt.colorbar()\n",
    "\n",
    "plt.show()"
   ]
  },
  {
   "cell_type": "code",
   "execution_count": 33,
   "metadata": {
    "ExecuteTime": {
     "end_time": "2018-01-05T17:21:47.688820Z",
     "start_time": "2018-01-05T17:21:43.182477Z"
    }
   },
   "outputs": [],
   "source": [
    "res = sp.optimize.brute(func=Nloglike, \n",
    "                  ranges=[(-2.5, -1.5), (0.4, 0.6)],\n",
    "                  args = (I2, artifical_data),\n",
    "                  Ns = 10,\n",
    "                  full_output = True,\n",
    "                  finish=None)"
   ]
  },
  {
   "cell_type": "code",
   "execution_count": 34,
   "metadata": {
    "ExecuteTime": {
     "end_time": "2018-01-05T17:21:47.741300Z",
     "start_time": "2018-01-05T17:21:47.690131Z"
    }
   },
   "outputs": [
    {
     "name": "stdout",
     "output_type": "stream",
     "text": [
      "lamda 0.114558843993\n",
      "f 0.488888888889\n",
      "sigma 0.00913954903251\n"
     ]
    }
   ],
   "source": [
    "lam = sp.exp(res[0][0])\n",
    "print('lamda', lam)\n",
    "\n",
    "f = res[0][1]\n",
    "print('f', f)\n",
    "\n",
    "sig = Sigma([np.log(lam), f], I2, artifical_data)\n",
    "print('sigma', sig)"
   ]
  },
  {
   "cell_type": "code",
   "execution_count": 35,
   "metadata": {
    "ExecuteTime": {
     "end_time": "2018-01-05T17:21:47.927165Z",
     "start_time": "2018-01-05T17:21:47.742948Z"
    }
   },
   "outputs": [
    {
     "data": {
      "image/png": "[encoded data removed]",
      "text/plain": [
       "<matplotlib.figure.Figure at 0x7f91023cf748>"
      ]
     },
     "metadata": {},
     "output_type": "display_data"
    }
   ],
   "source": [
    "x = res[2][0]\n",
    "y = res[2][1]\n",
    "z = res[3]\n",
    "z -= z.min()\n",
    "\n",
    "plt.pcolormesh(x, y, z)\n",
    "\n",
    "CS = plt.contour(x, y, z, levels = [0.5, 2.0, 8.0])\n",
    "plt.clabel(CS, inline=1, fontsize=10)\n",
    "\n",
    "plt.xlabel('loglam')\n",
    "plt.ylabel('f')\n",
    "plt.colorbar()\n",
    "\n",
    "plt.show()"
   ]
  },
  {
   "cell_type": "markdown",
   "metadata": {},
   "source": [
    "### Plot"
   ]
  },
  {
   "cell_type": "code",
   "execution_count": 36,
   "metadata": {
    "ExecuteTime": {
     "end_time": "2018-01-05T17:21:49.059717Z",
     "start_time": "2018-01-05T17:21:47.928738Z"
    }
   },
   "outputs": [
    {
     "data": {
      "image/png": "[encoded data removed]",
      "text/plain": [
       "<matplotlib.figure.Figure at 0x7f90f8774cf8>"
      ]
     },
     "metadata": {},
     "output_type": "display_data"
    }
   ],
   "source": [
    "fig, axs = plt.subplots(2, 1, sharex = True, figsize = (12, 8))\n",
    "\n",
    "time = sp.linspace(1910.0, 2020.0, 1000)\n",
    "\n",
    "\n",
    "for ax in axs:\n",
    "    ax.plot(time, np.vectorize(c14_models.C_atm)(time), label = 'Atmosphere', color = 'black')\n",
    "\n",
    "    ax.errorbar(artifical_data['Dbirth'], \\\n",
    "                I1(artifical_data['Dbirth'], \n",
    "                   artifical_data['Dcoll'], \n",
    "                   np.log(lam)), \n",
    "                sig,\n",
    "                color = 'white', ecolor = 'black', \n",
    "                marker='s', ls = '',\n",
    "                label = 'Scenario I1')\n",
    "\n",
    "\n",
    "    ax.errorbar(artifical_data['Dbirth'], \n",
    "                artifical_data['d14C'], \n",
    "                marker = 'o', ls = 'None', color = 'black',\n",
    "                label = 'Artifical data')\n",
    "#     ax.errorbar(hepatocyte_data.query('Dcoll < 2015')['Dbirth'], hepatocyte_data.query('Dcoll < 2015')['d14C'], \n",
    "#                marker = 'o', ls = 'None', color = 'red', \n",
    "#                label = 'Hepato DNA (coll before 2015)')\n",
    "\n",
    "\n",
    "    ax.set_xlim((1909, 2020))\n",
    "    ax.set_ylim(-0.1, 0.9)\n",
    "    ax.set_xticks(sp.linspace(1910, 2010, 6), minor = 1)\n",
    "    # ax.grid(which='both')\n",
    "    \n",
    "\n",
    "    ax.set_xlabel('Calendar year')\n",
    "    ax.set_ylabel('$\\Delta^{14}$C')\n",
    "\n",
    "axs[0].legend()\n",
    "axs[1].set_ylim(-0.0, 0.15)\n",
    "    \n",
    "plt.savefig('plots/c14_predict_L1.png', bbox_inches='tight', dpi=300)\n",
    "\n",
    "plt.show()"
   ]
  },
  {
   "cell_type": "markdown",
   "metadata": {},
   "source": [
    "## Fit"
   ]
  },
  {
   "cell_type": "code",
   "execution_count": 22,
   "metadata": {
    "ExecuteTime": {
     "end_time": "2018-01-05T17:31:55.157857Z",
     "start_time": "2018-01-05T17:31:29.891425Z"
    }
   },
   "outputs": [],
   "source": [
    "res = sp.optimize.brute(func=Nloglike, \n",
    "                  ranges=[(np.log(0.01), np.log(100.0)), (0, 1)],\n",
    "                  args = (I2, hepatocyte_data),\n",
    "                  Ns = 10,\n",
    "                  full_output = True,\n",
    "                  finish=None)"
   ]
  },
  {
   "cell_type": "code",
   "execution_count": 23,
   "metadata": {
    "ExecuteTime": {
     "end_time": "2018-01-05T17:31:55.306326Z",
     "start_time": "2018-01-05T17:31:55.159044Z"
    }
   },
   "outputs": [
    {
     "data": {
      "image/png": "[encoded data removed]",
      "text/plain": [
       "<matplotlib.figure.Figure at 0x7f6464a7e128>"
      ]
     },
     "metadata": {},
     "output_type": "display_data"
    }
   ],
   "source": [
    "x = res[2][0]\n",
    "y = res[2][1]\n",
    "z = res[3]\n",
    "z -= z.min()\n",
    "\n",
    "plt.pcolormesh(x, y, z)\n",
    "\n",
    "CS = plt.contour(x, y, z)\n",
    "plt.clabel(CS, inline=1, fontsize=10)\n",
    "\n",
    "plt.xlabel('loglam')\n",
    "plt.ylabel('f')\n",
    "plt.colorbar()\n",
    "\n",
    "plt.show()"
   ]
  },
  {
   "cell_type": "code",
   "execution_count": 26,
   "metadata": {
    "ExecuteTime": {
     "end_time": "2018-01-05T17:32:23.648704Z",
     "start_time": "2018-01-05T17:32:21.468177Z"
    }
   },
   "outputs": [
    {
     "data": {
      "image/png": "[encoded data removed]",
      "text/plain": [
       "<matplotlib.figure.Figure at 0x7f6464d134e0>"
      ]
     },
     "metadata": {},
     "output_type": "display_data"
    }
   ],
   "source": [
    "res = sp.optimize.brute(func=Nloglike, \n",
    "                  ranges=[(-2, 1), (0.8, 1)],\n",
    "                  args = (I2, hepatocyte_data),\n",
    "                  Ns = 7,\n",
    "                  full_output = True,\n",
    "                  finish=None)\n",
    "\n",
    "plt.pcolormesh(x, y, z)\n",
    "\n",
    "CS = plt.contour(x, y, z)\n",
    "plt.clabel(CS, inline=1, fontsize=10)\n",
    "\n",
    "plt.xlabel('loglam')\n",
    "plt.ylabel('f')\n",
    "plt.colorbar()\n",
    "\n",
    "plt.show()"
   ]
  },
  {
   "cell_type": "code",
   "execution_count": 27,
   "metadata": {
    "ExecuteTime": {
     "end_time": "2018-01-05T17:32:43.990298Z",
     "start_time": "2018-01-05T17:32:40.360148Z"
    }
   },
   "outputs": [
    {
     "data": {
      "image/png": "[encoded data removed]",
      "text/plain": [
       "<matplotlib.figure.Figure at 0x7f6464dae470>"
      ]
     },
     "metadata": {},
     "output_type": "display_data"
    }
   ],
   "source": [
    "res = sp.optimize.brute(func=Nloglike, \n",
    "                  ranges=[(-3, 1), (0.85, 1)],\n",
    "                  args = (I2, hepatocyte_data),\n",
    "                  Ns = 10,\n",
    "                  full_output = True,\n",
    "                  finish=None)\n",
    "\n",
    "x = res[2][0]\n",
    "y = res[2][1]\n",
    "z = res[3]\n",
    "z -= z.min()\n",
    "\n",
    "plt.pcolormesh(x, y, z)\n",
    "\n",
    "CS = plt.contour(x, y, z)\n",
    "plt.clabel(CS, inline=1, fontsize=10)\n",
    "\n",
    "plt.xlabel('loglam')\n",
    "plt.ylabel('f')\n",
    "plt.colorbar()\n",
    "\n",
    "plt.show()"
   ]
  },
  {
   "cell_type": "code",
   "execution_count": 29,
   "metadata": {
    "ExecuteTime": {
     "end_time": "2018-01-05T17:33:10.705663Z",
     "start_time": "2018-01-05T17:33:09.515852Z"
    }
   },
   "outputs": [
    {
     "data": {
      "image/png": "[encoded data removed]",
      "text/plain": [
       "<matplotlib.figure.Figure at 0x7f6464863780>"
      ]
     },
     "metadata": {},
     "output_type": "display_data"
    }
   ],
   "source": [
    "res = sp.optimize.brute(func=Nloglike, \n",
    "                  ranges=[(-2.2, -1.6), (0.98, 1)],\n",
    "                  args = (I2, hepatocyte_data),\n",
    "                  Ns = 8,\n",
    "                  full_output = True,\n",
    "                  finish=None)\n",
    "\n",
    "x = res[2][0]\n",
    "y = res[2][1]\n",
    "z = res[3]\n",
    "z -= z.min()\n",
    "\n",
    "plt.pcolormesh(x, y, z)\n",
    "\n",
    "CS = plt.contour(x, y, z)\n",
    "plt.clabel(CS, inline=1, fontsize=10)\n",
    "\n",
    "plt.xlabel('loglam')\n",
    "plt.ylabel('f')\n",
    "plt.colorbar()\n",
    "\n",
    "plt.show()"
   ]
  },
  {
   "cell_type": "code",
   "execution_count": 30,
   "metadata": {
    "ExecuteTime": {
     "end_time": "2018-01-05T17:33:14.840400Z",
     "start_time": "2018-01-05T17:33:14.794138Z"
    }
   },
   "outputs": [
    {
     "data": {
      "text/plain": [
       "0.12251956078141782"
      ]
     },
     "execution_count": 30,
     "metadata": {},
     "output_type": "execute_result"
    }
   ],
   "source": [
    "Sigma([np.log(lam)], I1, artifical_data)"
   ]
  },
  {
   "cell_type": "code",
   "execution_count": 31,
   "metadata": {
    "ExecuteTime": {
     "end_time": "2018-01-05T17:33:15.490122Z",
     "start_time": "2018-01-05T17:33:15.449803Z"
    }
   },
   "outputs": [
    {
     "name": "stdout",
     "output_type": "stream",
     "text": [
      "lamda 0.143293953053\n",
      "f 1.0\n",
      "sigma 0.0180422714282\n"
     ]
    },
    {
     "data": {
      "text/html": [
       "<div>\n",
       "<style>\n",
       "    .dataframe thead tr:only-child th {\n",
       "        text-align: right;\n",
       "    }\n",
       "\n",
       "    .dataframe thead th {\n",
       "        text-align: left;\n",
       "    }\n",
       "\n",
       "    .dataframe tbody tr th {\n",
       "        vertical-align: top;\n",
       "    }\n",
       "</style>\n",
       "<table border=\"1\" class=\"dataframe\">\n",
       "  <thead>\n",
       "    <tr style=\"text-align: right;\">\n",
       "      <th></th>\n",
       "      <th>loglike</th>\n",
       "      <th>k</th>\n",
       "      <th>n</th>\n",
       "      <th>cAIC</th>\n",
       "    </tr>\n",
       "  </thead>\n",
       "  <tbody>\n",
       "    <tr>\n",
       "      <th>I1</th>\n",
       "      <td>23.487144</td>\n",
       "      <td>2.0</td>\n",
       "      <td>9.0</td>\n",
       "      <td>-40.974288</td>\n",
       "    </tr>\n",
       "    <tr>\n",
       "      <th>I2</th>\n",
       "      <td>23.364894</td>\n",
       "      <td>3.0</td>\n",
       "      <td>9.0</td>\n",
       "      <td>-35.929788</td>\n",
       "    </tr>\n",
       "  </tbody>\n",
       "</table>\n",
       "</div>"
      ],
      "text/plain": [
       "      loglike    k    n       cAIC\n",
       "I1  23.487144  2.0  9.0 -40.974288\n",
       "I2  23.364894  3.0  9.0 -35.929788"
      ]
     },
     "execution_count": 31,
     "metadata": {},
     "output_type": "execute_result"
    }
   ],
   "source": [
    "lam = sp.exp(res[0][0])\n",
    "print('lamda', lam)\n",
    "\n",
    "f = res[0][1]\n",
    "print('f', f)\n",
    "\n",
    "sig = Sigma([np.log(lam), f], I2, hepatocyte_data)\n",
    "print('sigma', sig)\n",
    "\n",
    "results.loc['I2', 'loglike'] = -res[1]\n",
    "results.loc['I2', 'k'] = 3\n",
    "results.loc['I2', 'n'] = len(hepatocyte_data)\n",
    "\n",
    "results['cAIC'] = 2 * results['k'] - 2 * results['loglike'] + (2*results['k']**2 + 2*results['k'])/(results['n']-results['k']-1)\n",
    "\n",
    "results"
   ]
  },
  {
   "cell_type": "markdown",
   "metadata": {},
   "source": [
    "### Plot"
   ]
  },
  {
   "cell_type": "code",
   "execution_count": 32,
   "metadata": {
    "ExecuteTime": {
     "end_time": "2018-01-05T17:33:25.085479Z",
     "start_time": "2018-01-05T17:33:24.069260Z"
    }
   },
   "outputs": [
    {
     "data": {
      "image/png": "[encoded data removed]",
      "text/plain": [
       "<matplotlib.figure.Figure at 0x7f6464b45518>"
      ]
     },
     "metadata": {},
     "output_type": "display_data"
    }
   ],
   "source": [
    "fig, axs = plt.subplots(2, 1, sharex = True, figsize = (12, 8))\n",
    "\n",
    "time = sp.linspace(1910.0, 2020.0, 1000)\n",
    "\n",
    "\n",
    "for ax in axs:\n",
    "    ax.plot(time, np.vectorize(c14_models.C_atm)(time), label = 'Atmosphere', color = 'black')\n",
    "\n",
    "    ax.errorbar(hepatocyte_data['Dbirth'], \\\n",
    "                I2(hepatocyte_data['Dbirth'], \n",
    "                   hepatocyte_data['Dcoll'], \n",
    "                   np.log(lam), f), \n",
    "                sig,\n",
    "                color = 'white', ecolor = 'black', \n",
    "                marker='s', ls = '',\n",
    "                label = 'Scenario I1')\n",
    "\n",
    "\n",
    "    ax.errorbar(hepatocyte_data['Dbirth'], \n",
    "                hepatocyte_data['d14C'], \n",
    "                marker = 'o', ls = 'None', color = 'black',\n",
    "                label = 'Artifical data')\n",
    "#     ax.errorbar(hepatocyte_data.query('Dcoll < 2015')['Dbirth'], hepatocyte_data.query('Dcoll < 2015')['d14C'], \n",
    "#                marker = 'o', ls = 'None', color = 'red', \n",
    "#                label = 'Hepato DNA (coll before 2015)')\n",
    "\n",
    "\n",
    "    ax.set_xlim((1909, 2020))\n",
    "    ax.set_ylim(-0.1, 0.9)\n",
    "    ax.set_xticks(sp.linspace(1910, 2010, 6), minor = 1)\n",
    "    # ax.grid(which='both')\n",
    "    \n",
    "\n",
    "    ax.set_xlabel('Calendar year')\n",
    "    ax.set_ylabel('$\\Delta^{14}$C')\n",
    "\n",
    "axs[0].legend()\n",
    "axs[1].set_ylim(-0.0, 0.15)\n",
    "    \n",
    "plt.savefig('plots/c14_predict_L1.png', bbox_inches='tight', dpi=300)\n",
    "\n",
    "plt.show()"
   ]
  },
  {
   "cell_type": "markdown",
   "metadata": {},
   "source": [
    "# Scenario IX2p"
   ]
  },
  {
   "cell_type": "code",
   "execution_count": 33,
   "metadata": {
    "ExecuteTime": {
     "end_time": "2018-01-05T17:33:29.875162Z",
     "start_time": "2018-01-05T17:33:29.867496Z"
    }
   },
   "outputs": [],
   "source": [
    "@np.vectorize\n",
    "def IX2p(Dbirth, Dcoll, dloglam1, dloglam2, f1):\n",
    "    dlam1 = np.exp(dloglam1)\n",
    "    dlam2 = np.exp(dloglam2)\n",
    "    \n",
    "    f2 = 1-f1\n",
    "    \n",
    "    return c14_models.IX(Dbirth, Dcoll, [dlam1, dlam2], [f1, f2])[1]"
   ]
  },
  {
   "cell_type": "markdown",
   "metadata": {},
   "source": [
    "## Fit"
   ]
  },
  {
   "cell_type": "code",
   "execution_count": 34,
   "metadata": {
    "ExecuteTime": {
     "end_time": "2018-01-05T17:35:09.266220Z",
     "start_time": "2018-01-05T17:33:35.432596Z"
    }
   },
   "outputs": [],
   "source": [
    "res = sp.optimize.brute(func=Nloglike, \n",
    "                  ranges=[(np.log(0.01), np.log(5.0)),(np.log(0.01), np.log(5.0)) , (0, 1)],\n",
    "                  args = (IX2p, hepatocyte_data),\n",
    "                  Ns = 10,\n",
    "                  full_output = True,\n",
    "                  finish=None)"
   ]
  },
  {
   "cell_type": "code",
   "execution_count": 35,
   "metadata": {
    "ExecuteTime": {
     "end_time": "2018-01-05T17:35:09.291733Z",
     "start_time": "2018-01-05T17:35:09.267473Z"
    }
   },
   "outputs": [
    {
     "data": {
      "text/plain": [
       "(array([-2.53363415,  1.60943791,  0.55555556]),\n",
       " -23.30284435057461,\n",
       " array([[[[-4.60517019, -4.60517019, -4.60517019, ..., -4.60517019,\n",
       "           -4.60517019, -4.60517019],\n",
       "          [-4.60517019, -4.60517019, -4.60517019, ..., -4.60517019,\n",
       "           -4.60517019, -4.60517019],\n",
       "          [-4.60517019, -4.60517019, -4.60517019, ..., -4.60517019,\n",
       "           -4.60517019, -4.60517019],\n",
       "          ..., \n",
       "          [-4.60517019, -4.60517019, -4.60517019, ..., -4.60517019,\n",
       "           -4.60517019, -4.60517019],\n",
       "          [-4.60517019, -4.60517019, -4.60517019, ..., -4.60517019,\n",
       "           -4.60517019, -4.60517019],\n",
       "          [-4.60517019, -4.60517019, -4.60517019, ..., -4.60517019,\n",
       "           -4.60517019, -4.60517019]],\n",
       " \n",
       "         [[-3.91465818, -3.91465818, -3.91465818, ..., -3.91465818,\n",
       "           -3.91465818, -3.91465818],\n",
       "          [-3.91465818, -3.91465818, -3.91465818, ..., -3.91465818,\n",
       "           -3.91465818, -3.91465818],\n",
       "          [-3.91465818, -3.91465818, -3.91465818, ..., -3.91465818,\n",
       "           -3.91465818, -3.91465818],\n",
       "          ..., \n",
       "          [-3.91465818, -3.91465818, -3.91465818, ..., -3.91465818,\n",
       "           -3.91465818, -3.91465818],\n",
       "          [-3.91465818, -3.91465818, -3.91465818, ..., -3.91465818,\n",
       "           -3.91465818, -3.91465818],\n",
       "          [-3.91465818, -3.91465818, -3.91465818, ..., -3.91465818,\n",
       "           -3.91465818, -3.91465818]],\n",
       " \n",
       "         [[-3.22414616, -3.22414616, -3.22414616, ..., -3.22414616,\n",
       "           -3.22414616, -3.22414616],\n",
       "          [-3.22414616, -3.22414616, -3.22414616, ..., -3.22414616,\n",
       "           -3.22414616, -3.22414616],\n",
       "          [-3.22414616, -3.22414616, -3.22414616, ..., -3.22414616,\n",
       "           -3.22414616, -3.22414616],\n",
       "          ..., \n",
       "          [-3.22414616, -3.22414616, -3.22414616, ..., -3.22414616,\n",
       "           -3.22414616, -3.22414616],\n",
       "          [-3.22414616, -3.22414616, -3.22414616, ..., -3.22414616,\n",
       "           -3.22414616, -3.22414616],\n",
       "          [-3.22414616, -3.22414616, -3.22414616, ..., -3.22414616,\n",
       "           -3.22414616, -3.22414616]],\n",
       " \n",
       "         ..., \n",
       "         [[ 0.22841389,  0.22841389,  0.22841389, ...,  0.22841389,\n",
       "            0.22841389,  0.22841389],\n",
       "          [ 0.22841389,  0.22841389,  0.22841389, ...,  0.22841389,\n",
       "            0.22841389,  0.22841389],\n",
       "          [ 0.22841389,  0.22841389,  0.22841389, ...,  0.22841389,\n",
       "            0.22841389,  0.22841389],\n",
       "          ..., \n",
       "          [ 0.22841389,  0.22841389,  0.22841389, ...,  0.22841389,\n",
       "            0.22841389,  0.22841389],\n",
       "          [ 0.22841389,  0.22841389,  0.22841389, ...,  0.22841389,\n",
       "            0.22841389,  0.22841389],\n",
       "          [ 0.22841389,  0.22841389,  0.22841389, ...,  0.22841389,\n",
       "            0.22841389,  0.22841389]],\n",
       " \n",
       "         [[ 0.9189259 ,  0.9189259 ,  0.9189259 , ...,  0.9189259 ,\n",
       "            0.9189259 ,  0.9189259 ],\n",
       "          [ 0.9189259 ,  0.9189259 ,  0.9189259 , ...,  0.9189259 ,\n",
       "            0.9189259 ,  0.9189259 ],\n",
       "          [ 0.9189259 ,  0.9189259 ,  0.9189259 , ...,  0.9189259 ,\n",
       "            0.9189259 ,  0.9189259 ],\n",
       "          ..., \n",
       "          [ 0.9189259 ,  0.9189259 ,  0.9189259 , ...,  0.9189259 ,\n",
       "            0.9189259 ,  0.9189259 ],\n",
       "          [ 0.9189259 ,  0.9189259 ,  0.9189259 , ...,  0.9189259 ,\n",
       "            0.9189259 ,  0.9189259 ],\n",
       "          [ 0.9189259 ,  0.9189259 ,  0.9189259 , ...,  0.9189259 ,\n",
       "            0.9189259 ,  0.9189259 ]],\n",
       " \n",
       "         [[ 1.60943791,  1.60943791,  1.60943791, ...,  1.60943791,\n",
       "            1.60943791,  1.60943791],\n",
       "          [ 1.60943791,  1.60943791,  1.60943791, ...,  1.60943791,\n",
       "            1.60943791,  1.60943791],\n",
       "          [ 1.60943791,  1.60943791,  1.60943791, ...,  1.60943791,\n",
       "            1.60943791,  1.60943791],\n",
       "          ..., \n",
       "          [ 1.60943791,  1.60943791,  1.60943791, ...,  1.60943791,\n",
       "            1.60943791,  1.60943791],\n",
       "          [ 1.60943791,  1.60943791,  1.60943791, ...,  1.60943791,\n",
       "            1.60943791,  1.60943791],\n",
       "          [ 1.60943791,  1.60943791,  1.60943791, ...,  1.60943791,\n",
       "            1.60943791,  1.60943791]]],\n",
       " \n",
       " \n",
       "        [[[-4.60517019, -4.60517019, -4.60517019, ..., -4.60517019,\n",
       "           -4.60517019, -4.60517019],\n",
       "          [-3.91465818, -3.91465818, -3.91465818, ..., -3.91465818,\n",
       "           -3.91465818, -3.91465818],\n",
       "          [-3.22414616, -3.22414616, -3.22414616, ..., -3.22414616,\n",
       "           -3.22414616, -3.22414616],\n",
       "          ..., \n",
       "          [ 0.22841389,  0.22841389,  0.22841389, ...,  0.22841389,\n",
       "            0.22841389,  0.22841389],\n",
       "          [ 0.9189259 ,  0.9189259 ,  0.9189259 , ...,  0.9189259 ,\n",
       "            0.9189259 ,  0.9189259 ],\n",
       "          [ 1.60943791,  1.60943791,  1.60943791, ...,  1.60943791,\n",
       "            1.60943791,  1.60943791]],\n",
       " \n",
       "         [[-4.60517019, -4.60517019, -4.60517019, ..., -4.60517019,\n",
       "           -4.60517019, -4.60517019],\n",
       "          [-3.91465818, -3.91465818, -3.91465818, ..., -3.91465818,\n",
       "           -3.91465818, -3.91465818],\n",
       "          [-3.22414616, -3.22414616, -3.22414616, ..., -3.22414616,\n",
       "           -3.22414616, -3.22414616],\n",
       "          ..., \n",
       "          [ 0.22841389,  0.22841389,  0.22841389, ...,  0.22841389,\n",
       "            0.22841389,  0.22841389],\n",
       "          [ 0.9189259 ,  0.9189259 ,  0.9189259 , ...,  0.9189259 ,\n",
       "            0.9189259 ,  0.9189259 ],\n",
       "          [ 1.60943791,  1.60943791,  1.60943791, ...,  1.60943791,\n",
       "            1.60943791,  1.60943791]],\n",
       " \n",
       "         [[-4.60517019, -4.60517019, -4.60517019, ..., -4.60517019,\n",
       "           -4.60517019, -4.60517019],\n",
       "          [-3.91465818, -3.91465818, -3.91465818, ..., -3.91465818,\n",
       "           -3.91465818, -3.91465818],\n",
       "          [-3.22414616, -3.22414616, -3.22414616, ..., -3.22414616,\n",
       "           -3.22414616, -3.22414616],\n",
       "          ..., \n",
       "          [ 0.22841389,  0.22841389,  0.22841389, ...,  0.22841389,\n",
       "            0.22841389,  0.22841389],\n",
       "          [ 0.9189259 ,  0.9189259 ,  0.9189259 , ...,  0.9189259 ,\n",
       "            0.9189259 ,  0.9189259 ],\n",
       "          [ 1.60943791,  1.60943791,  1.60943791, ...,  1.60943791,\n",
       "            1.60943791,  1.60943791]],\n",
       " \n",
       "         ..., \n",
       "         [[-4.60517019, -4.60517019, -4.60517019, ..., -4.60517019,\n",
       "           -4.60517019, -4.60517019],\n",
       "          [-3.91465818, -3.91465818, -3.91465818, ..., -3.91465818,\n",
       "           -3.91465818, -3.91465818],\n",
       "          [-3.22414616, -3.22414616, -3.22414616, ..., -3.22414616,\n",
       "           -3.22414616, -3.22414616],\n",
       "          ..., \n",
       "          [ 0.22841389,  0.22841389,  0.22841389, ...,  0.22841389,\n",
       "            0.22841389,  0.22841389],\n",
       "          [ 0.9189259 ,  0.9189259 ,  0.9189259 , ...,  0.9189259 ,\n",
       "            0.9189259 ,  0.9189259 ],\n",
       "          [ 1.60943791,  1.60943791,  1.60943791, ...,  1.60943791,\n",
       "            1.60943791,  1.60943791]],\n",
       " \n",
       "         [[-4.60517019, -4.60517019, -4.60517019, ..., -4.60517019,\n",
       "           -4.60517019, -4.60517019],\n",
       "          [-3.91465818, -3.91465818, -3.91465818, ..., -3.91465818,\n",
       "           -3.91465818, -3.91465818],\n",
       "          [-3.22414616, -3.22414616, -3.22414616, ..., -3.22414616,\n",
       "           -3.22414616, -3.22414616],\n",
       "          ..., \n",
       "          [ 0.22841389,  0.22841389,  0.22841389, ...,  0.22841389,\n",
       "            0.22841389,  0.22841389],\n",
       "          [ 0.9189259 ,  0.9189259 ,  0.9189259 , ...,  0.9189259 ,\n",
       "            0.9189259 ,  0.9189259 ],\n",
       "          [ 1.60943791,  1.60943791,  1.60943791, ...,  1.60943791,\n",
       "            1.60943791,  1.60943791]],\n",
       " \n",
       "         [[-4.60517019, -4.60517019, -4.60517019, ..., -4.60517019,\n",
       "           -4.60517019, -4.60517019],\n",
       "          [-3.91465818, -3.91465818, -3.91465818, ..., -3.91465818,\n",
       "           -3.91465818, -3.91465818],\n",
       "          [-3.22414616, -3.22414616, -3.22414616, ..., -3.22414616,\n",
       "           -3.22414616, -3.22414616],\n",
       "          ..., \n",
       "          [ 0.22841389,  0.22841389,  0.22841389, ...,  0.22841389,\n",
       "            0.22841389,  0.22841389],\n",
       "          [ 0.9189259 ,  0.9189259 ,  0.9189259 , ...,  0.9189259 ,\n",
       "            0.9189259 ,  0.9189259 ],\n",
       "          [ 1.60943791,  1.60943791,  1.60943791, ...,  1.60943791,\n",
       "            1.60943791,  1.60943791]]],\n",
       " \n",
       " \n",
       "        [[[ 0.        ,  0.11111111,  0.22222222, ...,  0.77777778,\n",
       "            0.88888889,  1.        ],\n",
       "          [ 0.        ,  0.11111111,  0.22222222, ...,  0.77777778,\n",
       "            0.88888889,  1.        ],\n",
       "          [ 0.        ,  0.11111111,  0.22222222, ...,  0.77777778,\n",
       "            0.88888889,  1.        ],\n",
       "          ..., \n",
       "          [ 0.        ,  0.11111111,  0.22222222, ...,  0.77777778,\n",
       "            0.88888889,  1.        ],\n",
       "          [ 0.        ,  0.11111111,  0.22222222, ...,  0.77777778,\n",
       "            0.88888889,  1.        ],\n",
       "          [ 0.        ,  0.11111111,  0.22222222, ...,  0.77777778,\n",
       "            0.88888889,  1.        ]],\n",
       " \n",
       "         [[ 0.        ,  0.11111111,  0.22222222, ...,  0.77777778,\n",
       "            0.88888889,  1.        ],\n",
       "          [ 0.        ,  0.11111111,  0.22222222, ...,  0.77777778,\n",
       "            0.88888889,  1.        ],\n",
       "          [ 0.        ,  0.11111111,  0.22222222, ...,  0.77777778,\n",
       "            0.88888889,  1.        ],\n",
       "          ..., \n",
       "          [ 0.        ,  0.11111111,  0.22222222, ...,  0.77777778,\n",
       "            0.88888889,  1.        ],\n",
       "          [ 0.        ,  0.11111111,  0.22222222, ...,  0.77777778,\n",
       "            0.88888889,  1.        ],\n",
       "          [ 0.        ,  0.11111111,  0.22222222, ...,  0.77777778,\n",
       "            0.88888889,  1.        ]],\n",
       " \n",
       "         [[ 0.        ,  0.11111111,  0.22222222, ...,  0.77777778,\n",
       "            0.88888889,  1.        ],\n",
       "          [ 0.        ,  0.11111111,  0.22222222, ...,  0.77777778,\n",
       "            0.88888889,  1.        ],\n",
       "          [ 0.        ,  0.11111111,  0.22222222, ...,  0.77777778,\n",
       "            0.88888889,  1.        ],\n",
       "          ..., \n",
       "          [ 0.        ,  0.11111111,  0.22222222, ...,  0.77777778,\n",
       "            0.88888889,  1.        ],\n",
       "          [ 0.        ,  0.11111111,  0.22222222, ...,  0.77777778,\n",
       "            0.88888889,  1.        ],\n",
       "          [ 0.        ,  0.11111111,  0.22222222, ...,  0.77777778,\n",
       "            0.88888889,  1.        ]],\n",
       " \n",
       "         ..., \n",
       "         [[ 0.        ,  0.11111111,  0.22222222, ...,  0.77777778,\n",
       "            0.88888889,  1.        ],\n",
       "          [ 0.        ,  0.11111111,  0.22222222, ...,  0.77777778,\n",
       "            0.88888889,  1.        ],\n",
       "          [ 0.        ,  0.11111111,  0.22222222, ...,  0.77777778,\n",
       "            0.88888889,  1.        ],\n",
       "          ..., \n",
       "          [ 0.        ,  0.11111111,  0.22222222, ...,  0.77777778,\n",
       "            0.88888889,  1.        ],\n",
       "          [ 0.        ,  0.11111111,  0.22222222, ...,  0.77777778,\n",
       "            0.88888889,  1.        ],\n",
       "          [ 0.        ,  0.11111111,  0.22222222, ...,  0.77777778,\n",
       "            0.88888889,  1.        ]],\n",
       " \n",
       "         [[ 0.        ,  0.11111111,  0.22222222, ...,  0.77777778,\n",
       "            0.88888889,  1.        ],\n",
       "          [ 0.        ,  0.11111111,  0.22222222, ...,  0.77777778,\n",
       "            0.88888889,  1.        ],\n",
       "          [ 0.        ,  0.11111111,  0.22222222, ...,  0.77777778,\n",
       "            0.88888889,  1.        ],\n",
       "          ..., \n",
       "          [ 0.        ,  0.11111111,  0.22222222, ...,  0.77777778,\n",
       "            0.88888889,  1.        ],\n",
       "          [ 0.        ,  0.11111111,  0.22222222, ...,  0.77777778,\n",
       "            0.88888889,  1.        ],\n",
       "          [ 0.        ,  0.11111111,  0.22222222, ...,  0.77777778,\n",
       "            0.88888889,  1.        ]],\n",
       " \n",
       "         [[ 0.        ,  0.11111111,  0.22222222, ...,  0.77777778,\n",
       "            0.88888889,  1.        ],\n",
       "          [ 0.        ,  0.11111111,  0.22222222, ...,  0.77777778,\n",
       "            0.88888889,  1.        ],\n",
       "          [ 0.        ,  0.11111111,  0.22222222, ...,  0.77777778,\n",
       "            0.88888889,  1.        ],\n",
       "          ..., \n",
       "          [ 0.        ,  0.11111111,  0.22222222, ...,  0.77777778,\n",
       "            0.88888889,  1.        ],\n",
       "          [ 0.        ,  0.11111111,  0.22222222, ...,  0.77777778,\n",
       "            0.88888889,  1.        ],\n",
       "          [ 0.        ,  0.11111111,  0.22222222, ...,  0.77777778,\n",
       "            0.88888889,  1.        ]]]]),\n",
       " array([[[ -6.37673078,  -6.19218862,  -6.00432966,  -5.8138516 ,\n",
       "           -5.62138689,  -5.42750489,  -5.23271477,  -5.03746921,\n",
       "           -4.84216825,  -4.6471634 ],\n",
       "         [ -8.04464349,  -7.66524025,  -7.27978925,  -6.89214764,\n",
       "           -6.50534417,  -6.12170386,  -5.74297056,  -5.37041816,\n",
       "           -5.00494679,  -4.6471634 ],\n",
       "         [-11.61320261, -10.64566239,  -9.72127465,  -8.84919335,\n",
       "           -8.03111699,  -7.2651252 ,  -6.54772616,  -5.8749064 ,\n",
       "           -5.2426474 ,  -4.6471634 ],\n",
       "         [-18.87360827, -15.88436979, -13.53065628, -11.62607174,\n",
       "          -10.037301  ,  -8.6785049 ,  -7.49330001,  -6.44324247,\n",
       "           -5.50114718,  -4.6471634 ],\n",
       "         [-22.40646309, -20.15169991, -16.70752607, -13.85162152,\n",
       "          -11.58119433,  -9.7304904 ,  -8.1787078 ,  -6.84664049,\n",
       "           -5.6815615 ,  -4.6471634 ],\n",
       "         [-19.50001316, -20.52587608, -18.08636122, -14.99912453,\n",
       "          -12.39893448, -10.28617755,  -8.537416  ,  -7.05563989,\n",
       "           -5.77416228,  -4.6471634 ],\n",
       "         [-17.69213597, -19.65941644, -18.38787774, -15.48615701,\n",
       "          -12.78811975, -10.55934441,  -8.71560366,  -7.15978225,\n",
       "           -5.82031894,  -4.6471634 ],\n",
       "         [-16.82987704, -19.114279  , -18.48723143, -15.75432842,\n",
       "          -13.01158556, -10.71655373,  -8.8176757 ,  -7.21911192,\n",
       "           -5.84648272,  -4.6471634 ],\n",
       "         [-16.46275623, -18.84546829, -18.49552149, -15.86180067,\n",
       "          -13.10705956, -10.78471944,  -8.8621194 ,  -7.24497274,\n",
       "           -5.85788734,  -4.6471634 ],\n",
       "         [-16.29896669, -18.72153022, -18.49589072, -15.91098416,\n",
       "          -13.15139917, -10.81641319,  -8.8827618 ,  -7.25696809,\n",
       "           -5.86317082,  -4.6471634 ]],\n",
       " \n",
       "        [[ -8.04464349,  -7.85161866,  -7.66038362,  -7.47104832,\n",
       "           -7.28370231,  -7.09841725,  -6.91524909,  -6.73424014,\n",
       "           -6.55542081,  -6.37881116],\n",
       "         [ -9.73216769,  -9.31128082,  -8.90301927,  -8.50731457,\n",
       "           -8.1239428 ,  -7.75257633,  -7.39282135,  -7.04424499,\n",
       "           -6.70639454,  -6.37881116],\n",
       "         [-13.60914429, -12.49190112, -11.48314029, -10.56647023,\n",
       "           -9.72812029,  -8.95676441,  -8.24313007,  -7.57960616,\n",
       "           -6.95990854,  -6.37881116],\n",
       "         [-20.41947262, -17.57939335, -15.26916579, -13.37616127,\n",
       "          -11.788286  , -10.42663646,  -9.23735261,  -8.18297077,\n",
       "           -7.23669272,  -6.37881116],\n",
       "         [-22.04541164, -21.55407636, -18.75603225, -15.93813226,\n",
       "          -13.59493425, -11.66560393, -10.0467454 ,  -8.65984827,\n",
       "           -7.45003859,  -6.37881116],\n",
       "         [-19.37952386, -21.44262061, -20.228848  , -17.30051033,\n",
       "          -14.57284346, -12.32428219, -10.46751619,  -8.90273209,\n",
       "           -7.55680942,  -6.37881116],\n",
       "         [-17.66922008, -20.42684123, -20.68272901, -18.09288991,\n",
       "          -15.18544441, -12.73846517, -10.72988698,  -9.05272457,\n",
       "           -7.62217452,  -6.37881116],\n",
       "         [-16.82785236, -19.7408249 , -20.71584526, -18.47103347,\n",
       "          -15.50648469, -12.95798596, -10.86859976,  -9.13164932,\n",
       "           -7.65641122,  -6.37881116],\n",
       "         [-16.46033404, -19.4145674 , -20.6871899 , -18.63546418,\n",
       "          -15.65460374, -13.05983999, -10.93281949,  -9.16807377,\n",
       "           -7.67216628,  -6.37881116],\n",
       "         [-16.29932583, -19.27011645, -20.67251911, -18.71275003,\n",
       "          -15.72442085, -13.1075675 , -10.96275209,  -9.18498259,\n",
       "           -7.67945784,  -6.37881116]],\n",
       " \n",
       "        [[-11.61320261, -11.38534225, -11.16274183, -10.945182  ,\n",
       "          -10.73245547, -10.52436627, -10.32072909, -10.12136861,\n",
       "           -9.9261189 ,  -9.73482282],\n",
       "         [-13.60914429, -13.09285571, -12.60255562, -12.13595645,\n",
       "          -11.69102833, -11.26596856, -10.8591736 , -10.46921389,\n",
       "          -10.09481189,  -9.73482282],\n",
       "         [-17.3551714 , -16.17582506, -15.10816678, -14.13809811,\n",
       "          -13.25219031, -12.43873382, -11.68784801, -10.99128948,\n",
       "          -10.34219259,  -9.73482282],\n",
       "         [-22.45202129, -20.69358364, -18.7476496 , -16.94640898,\n",
       "          -15.35432449, -13.95612932, -12.72130454, -11.62109901,\n",
       "          -10.631859  ,  -9.73482282],\n",
       "         [-21.72994267, -22.82193157, -21.7547589 , -19.53161799,\n",
       "          -17.27579726, -15.29679351, -13.60100997, -12.13910637,\n",
       "          -10.86301918,  -9.73482282],\n",
       "         [-19.25052368, -21.73104096, -22.7368743 , -21.16325761,\n",
       "          -18.6021272 , -16.21178961, -14.18469932, -12.47343344,\n",
       "          -11.00870236,  -9.73482282],\n",
       "         [-17.61294639, -20.2861169 , -22.35845059, -21.86451283,\n",
       "          -19.39276205, -16.78475621, -14.5504804 , -12.681188  ,\n",
       "          -11.09839688,  -9.73482282],\n",
       "         [-16.81597682, -19.51358553, -21.98367097, -22.17212418,\n",
       "          -19.84531521, -17.1185978 , -14.76101717, -12.7991113 ,\n",
       "          -11.14871849,  -9.73482282],\n",
       "         [-16.45674784, -19.15245999, -21.76679883, -22.28550593,\n",
       "          -20.06031468, -17.28045285, -14.86268072, -12.85569523,\n",
       "          -11.17273352,  -9.73482282],\n",
       "         [-16.29987344, -18.99249693, -21.66263903, -22.32800899,\n",
       "          -20.15583397, -17.35329737, -14.90838065, -12.88106255,\n",
       "          -11.18347415,  -9.73482282]],\n",
       " \n",
       "        [[-18.87360827, -18.68890416, -18.50492944, -18.32188925,\n",
       "          -18.13996126, -17.9592984 , -17.78003141, -17.60227115,\n",
       "          -17.42611077, -17.25162768],\n",
       "         [-20.41947262, -20.05888743, -19.69613733, -19.3337774 ,\n",
       "          -18.97380851, -18.6177663 , -18.26680358, -17.92176286,\n",
       "          -17.58323835, -17.25162768],\n",
       "         [-22.45202129, -22.015071  , -21.48803245, -20.90340229,\n",
       "          -20.28776384, -19.66090532, -19.03654513, -18.42363125,\n",
       "          -17.82763717, -17.25162768],\n",
       "         [-22.64021723, -22.94352749, -22.8703384 , -22.43790028,\n",
       "          -21.73679314, -20.87849429, -19.95397903, -19.02227903,\n",
       "          -18.11622245, -17.25162768],\n",
       "         [-20.85908952, -22.03719793, -22.93070878, -23.27805419,\n",
       "          -22.94517478, -22.0609441 , -20.88651556, -19.63036945,\n",
       "          -18.40365169, -17.25162768],\n",
       "         [-18.85390292, -20.32555843, -21.76437956, -22.88783916,\n",
       "          -23.28049844, -22.74213378, -21.53935658, -20.08093194,\n",
       "          -18.61847354, -17.25162768],\n",
       "         [-17.52156939, -19.06659446, -20.70268593, -22.22912607,\n",
       "          -23.18928306, -23.08166001, -21.97260192, -20.39971839,\n",
       "          -18.77146829, -17.25162768],\n",
       "         [-16.7953554 , -18.35859312, -20.06316582, -21.76172027,\n",
       "          -23.02899133, -23.22588147, -22.220412  , -20.59128426,\n",
       "          -18.86355084, -17.25162768],\n",
       "         [-16.45434329, -18.02287921, -19.75283134, -21.52177456,\n",
       "          -22.92933406, -23.28531858, -22.34343055, -20.68854535,\n",
       "          -18.91014716, -17.25162768],\n",
       "         [-16.29887584, -17.86833937, -19.60715883, -21.40389682,\n",
       "          -22.87176464, -23.30284435, -22.39553304, -20.73165593,\n",
       "          -18.93104234, -17.25162768]],\n",
       " \n",
       "        [[-22.40646309, -22.44514528, -22.48262352, -22.51886472,\n",
       "          -22.55383625, -22.58750604, -22.61984263, -22.65081528,\n",
       "          -22.68039407, -22.70854995],\n",
       "         [-22.04541164, -22.13409369, -22.21953944, -22.30152761,\n",
       "          -22.37983608, -22.45424339, -22.52453042, -22.59048205,\n",
       "          -22.65188905, -22.70854995],\n",
       "         [-21.72994267, -21.87315133, -22.00955255, -22.13836785,\n",
       "          -22.25880763, -22.37008271, -22.47141771, -22.56206567,\n",
       "          -22.64132387, -22.70854995],\n",
       "         [-20.85908952, -21.13105958, -21.39358876, -21.64390046,\n",
       "          -21.87894003, -22.09543099, -22.28996416, -22.45912157,\n",
       "          -22.59963214, -22.70854995],\n",
       "         [-19.61108923, -20.0374458 , -20.46050863, -20.87490092,\n",
       "          -21.27384044, -21.64906206, -21.99090954, -22.28868872,\n",
       "          -22.53135643, -22.70854995],\n",
       "         [-18.30277762, -18.85272577, -19.41312597, -19.97820098,\n",
       "          -20.53930936, -21.08413989, -21.59604739, -22.05392698,\n",
       "          -22.43321153, -22.70854995],\n",
       "         [-17.35565279, -17.98667796, -18.63999103, -19.3105389 ,\n",
       "          -19.98932234, -20.66162634, -21.30504419, -21.88802624,\n",
       "          -22.37048742, -22.70854995],\n",
       "         [-16.75069912, -17.42570601, -18.13098003, -18.86262202,\n",
       "          -19.61235532, -20.36503948, -21.09549315, -21.76545478,\n",
       "          -22.32302389, -22.70854995],\n",
       "         [-16.44558301, -17.14126501, -17.87127892, -18.63245713,\n",
       "          -19.41711375, -20.21018243, -20.98533583, -21.70089632,\n",
       "          -22.298321  , -22.70854995],\n",
       "         [-16.29725925, -17.00249922, -17.74403931, -18.5191065 ,\n",
       "          -19.32036753, -20.13288766, -20.92989203, -21.66810417,\n",
       "          -22.28564999, -22.70854995]],\n",
       " \n",
       "        [[-19.50001316, -19.49573324, -19.49132344, -19.48678414,\n",
       "          -19.48211575, -19.47731867, -19.47239332, -19.46734011,\n",
       "          -19.4621595 , -19.45685192],\n",
       "         [-19.37952386, -19.38900757, -19.39827153, -19.40731433,\n",
       "          -19.4161346 , -19.424731  , -19.43310221, -19.44124693,\n",
       "          -19.44916391, -19.45685192],\n",
       "         [-19.25052368, -19.27495771, -19.29902977, -19.32273333,\n",
       "          -19.34606183, -19.36900879, -19.39156771, -19.41373214,\n",
       "          -19.43549566, -19.45685192],\n",
       "         [-18.85390292, -18.92125154, -18.98855505, -19.05579599,\n",
       "          -19.12295614, -19.1900165 , -19.25695729, -19.32375788,\n",
       "          -19.39039685, -19.45685192],\n",
       "         [-18.30277762, -18.42890231, -18.55568381, -18.68307504,\n",
       "          -18.81102352, -18.9394709 , -19.06835253, -19.19759698,\n",
       "          -19.3271256 , -19.45685192],\n",
       "         [-17.70794001, -17.89617886, -18.08628492, -18.27814883,\n",
       "          -18.47163845, -18.66659587, -18.86283414, -19.06013369,\n",
       "          -19.25823849, -19.45685192],\n",
       "         [-17.11876369, -17.36548519, -17.61604911, -17.87030877,\n",
       "          -18.12806254, -18.38904315, -18.65290538, -18.91921199,\n",
       "          -19.18741777, -19.45685192],\n",
       "         [-16.67258611, -16.96138022, -17.25600876, -17.55634296,\n",
       "          -17.86216709, -18.17315657, -18.48885173, -18.80862645,\n",
       "          -19.13165145, -19.45685192],\n",
       "         [-16.42376423, -16.73553542, -17.05437788, -17.3801836 ,\n",
       "          -17.71273519, -18.05167474, -18.39646554, -18.74634544,\n",
       "          -19.100271  , -19.45685192],\n",
       "         [-16.29226747, -16.61576013, -16.94704659, -17.28604475,\n",
       "          -17.63255257, -17.98621154, -18.34646111, -18.71248247,\n",
       "          -19.08313034, -19.45685192]],\n",
       " \n",
       "        [[-17.69213597, -17.69535786, -17.69857904, -17.70179951,\n",
       "          -17.70501927, -17.7082383 , -17.71145662, -17.7146742 ,\n",
       "          -17.71789106, -17.72110719],\n",
       "         [-17.66922008, -17.67499055, -17.68075974, -17.68652764,\n",
       "          -17.69229424, -17.69805952, -17.70382347, -17.70958608,\n",
       "          -17.71534732, -17.72110719],\n",
       "         [-17.61294639, -17.62492148, -17.63690726, -17.64890374,\n",
       "          -17.66091091, -17.67292877, -17.68495734, -17.69699659,\n",
       "          -17.70904655, -17.72110719],\n",
       "         [-17.52156939, -17.54361426, -17.56569079, -17.58779891,\n",
       "          -17.60993857, -17.63210968, -17.65431218, -17.67654598,\n",
       "          -17.69881101, -17.72110719],\n",
       "         [-17.35565279, -17.39588225, -17.43620755, -17.47662802,\n",
       "          -17.51714295, -17.5577516 , -17.59845319, -17.6392469 ,\n",
       "          -17.68013186, -17.72110719],\n",
       "         [-17.11876369, -17.18457559, -17.25067124, -17.31704888,\n",
       "          -17.38370647, -17.4506418 , -17.51785239, -17.58533551,\n",
       "          -17.6530882 , -17.72110719],\n",
       "         [-16.84024621, -16.93560435, -17.03160118, -17.12823381,\n",
       "          -17.22549851, -17.32339069, -17.42190479, -17.52103423,\n",
       "          -17.62077132, -17.72110719],\n",
       "         [-16.57692754, -16.69969311, -16.82356419, -16.94853811,\n",
       "          -17.07461017, -17.20177345, -17.33001852, -17.4593332 ,\n",
       "          -17.58970228, -17.72110719],\n",
       "         [-16.39085419, -16.53275828, -16.67615829, -16.82105149,\n",
       "          -16.96743163, -17.11528844, -17.26460714, -17.41536792,\n",
       "          -17.56754523, -17.72110719],\n",
       "         [-16.28599678, -16.43854606, -16.59284436, -16.74889013,\n",
       "          -16.90667722, -17.06619425, -17.22742385, -17.39034188,\n",
       "          -17.5549165 , -17.72110719]],\n",
       " \n",
       "        [[-16.82987704, -16.83106426, -16.83225125, -16.83343802,\n",
       "          -16.83462455, -16.83581086, -16.83699695, -16.8381828 ,\n",
       "          -16.83936842, -16.84055382],\n",
       "         [-16.82785236, -16.82926461, -16.83067661, -16.83208837,\n",
       "          -16.83349989, -16.83491117, -16.8363222 , -16.83773298,\n",
       "          -16.83914352, -16.84055382],\n",
       "         [-16.81597682, -16.81870543, -16.82143458, -16.82416427,\n",
       "          -16.8268945 , -16.82962528, -16.8323566 , -16.83508846,\n",
       "          -16.83782087, -16.84055382],\n",
       "         [-16.7953554 , -16.80037297, -16.80539166, -16.81041147,\n",
       "          -16.81543241, -16.82045446, -16.82547763, -16.83050192,\n",
       "          -16.83552731, -16.84055382],\n",
       "         [-16.75069912, -16.76066405, -16.77063375, -16.7806082 ,\n",
       "          -16.79058739, -16.80057131, -16.81055993, -16.82055323,\n",
       "          -16.8305512 , -16.84055382],\n",
       "         [-16.67258611, -16.69115559, -16.70974854, -16.72836492,\n",
       "          -16.74700472, -16.7656679 , -16.78435443, -16.80306428,\n",
       "          -16.82179742, -16.84055382],\n",
       "         [-16.57692754, -16.60598158, -16.63509522, -16.66426842,\n",
       "          -16.69350109, -16.72279317, -16.75214458, -16.78155522,\n",
       "          -16.811025  , -16.84055382],\n",
       "         [-16.46279124, -16.50428754, -16.54590382, -16.58763984,\n",
       "          -16.62949534, -16.67147004, -16.7135636 , -16.75577568,\n",
       "          -16.79810589, -16.84055382],\n",
       "         [-16.34818677, -16.4020891 , -16.45619421, -16.51050158,\n",
       "          -16.56501062, -16.61972065, -16.6746309 , -16.72974049,\n",
       "          -16.78504849, -16.84055382],\n",
       "         [-16.2750335 , -16.33679499, -16.39882693, -16.46112872,\n",
       "          -16.5236996 , -16.58653867, -16.64964491, -16.71301712,\n",
       "          -16.77665393, -16.84055382]],\n",
       " \n",
       "        [[-16.46275623, -16.46253067, -16.46230493, -16.46207902,\n",
       "          -16.46185293, -16.46162667, -16.46140023, -16.46117361,\n",
       "          -16.46094682, -16.46071985],\n",
       "         [-16.46033404, -16.46037768, -16.46042113, -16.46046438,\n",
       "          -16.46050744, -16.46055031, -16.46059298, -16.46063546,\n",
       "          -16.46067776, -16.46071985],\n",
       "         [-16.45674784, -16.45719002, -16.45763199, -16.45807374,\n",
       "          -16.45851529, -16.45895662, -16.45939775, -16.45983866,\n",
       "          -16.46027936, -16.46071985],\n",
       "         [-16.45434329, -16.45505319, -16.45576274, -16.45647195,\n",
       "          -16.4571808 , -16.45788931, -16.45859747, -16.45930528,\n",
       "          -16.46001274, -16.46071985],\n",
       "         [-16.44558301, -16.44726548, -16.4489478 , -16.45062998,\n",
       "          -16.452312  , -16.45399388, -16.4556756 , -16.45735717,\n",
       "          -16.45903859, -16.46071985],\n",
       "         [-16.42376423, -16.42786962, -16.43197521, -16.436081  ,\n",
       "          -16.440187  , -16.44429319, -16.44839957, -16.45250615,\n",
       "          -16.45661291, -16.46071985],\n",
       "         [-16.39085419, -16.39860289, -16.40635513, -16.41411092,\n",
       "          -16.42187025, -16.42963312, -16.43739952, -16.44516944,\n",
       "          -16.45294289, -16.46071985],\n",
       "         [-16.34818677, -16.36065356, -16.37312961, -16.38561491,\n",
       "          -16.39810944, -16.41061318, -16.42312611, -16.43564822,\n",
       "          -16.44817947, -16.46071985],\n",
       "         [-16.29937243, -16.31722259, -16.3350922 , -16.35298122,\n",
       "          -16.37088959, -16.38881726, -16.40676418, -16.42473029,\n",
       "          -16.44271553, -16.46071985],\n",
       "         [-16.2612769 , -16.28331208, -16.30537872, -16.32747674,\n",
       "          -16.34960608, -16.37176666, -16.39395841, -16.41618125,\n",
       "          -16.43843509, -16.46071985]],\n",
       " \n",
       "        [[-16.29896669, -16.29915801, -16.29934932, -16.29954062,\n",
       "          -16.29973191, -16.29992319, -16.30011446, -16.30030573,\n",
       "          -16.30049698, -16.30068823],\n",
       "         [-16.29932583, -16.29947725, -16.29962866, -16.29978006,\n",
       "          -16.29993145, -16.30008283, -16.3002342 , -16.30038555,\n",
       "          -16.30053689, -16.30068823],\n",
       "         [-16.29987344, -16.299964  , -16.30005456, -16.30014511,\n",
       "          -16.30023565, -16.30032618, -16.3004167 , -16.30050722,\n",
       "          -16.30059773, -16.30068823],\n",
       "         [-16.29887584, -16.29907724, -16.29927863, -16.29948002,\n",
       "          -16.2996814 , -16.29988278, -16.30008415, -16.30028551,\n",
       "          -16.30048687, -16.30068823],\n",
       "         [-16.29725925, -16.29764026, -16.29802127, -16.29840228,\n",
       "          -16.29878328, -16.29916428, -16.29954527, -16.29992626,\n",
       "          -16.30030724, -16.30068823],\n",
       "         [-16.29226747, -16.29320298, -16.29413852, -16.29507409,\n",
       "          -16.2960097 , -16.29694534, -16.29788101, -16.29881672,\n",
       "          -16.29975245, -16.30068823],\n",
       "         [-16.28599678, -16.28762855, -16.28926047, -16.29089254,\n",
       "          -16.29252477, -16.29415715, -16.29578969, -16.29742238,\n",
       "          -16.29905523, -16.30068823],\n",
       "         [-16.2750335 , -16.27788203, -16.28073105, -16.28358058,\n",
       "          -16.2864306 , -16.28928113, -16.29213215, -16.29498368,\n",
       "          -16.2978357 , -16.30068823],\n",
       "         [-16.2612769 , -16.26565144, -16.2700271 , -16.27440389,\n",
       "          -16.2787818 , -16.28316084, -16.287541  , -16.29192229,\n",
       "          -16.2963047 , -16.30068823],\n",
       "         [-16.24760642, -16.25349715, -16.2593897 , -16.26528406,\n",
       "          -16.27118024, -16.27707823, -16.28297803, -16.28887963,\n",
       "          -16.29478303, -16.30068823]]]))"
      ]
     },
     "execution_count": 35,
     "metadata": {},
     "output_type": "execute_result"
    }
   ],
   "source": [
    "res"
   ]
  },
  {
   "cell_type": "code",
   "execution_count": null,
   "metadata": {
    "ExecuteTime": {
     "end_time": "2018-01-05T17:22:30.732492Z",
     "start_time": "2018-01-05T17:21:16.330Z"
    }
   },
   "outputs": [],
   "source": [
    "res = sp.optimize.brute(func=Nloglike, \n",
    "                  ranges=[(np.log(0.01), np.log(2.0)),(np.log(0.01), np.log(2.0)) , (0, 1)],\n",
    "                  args = (IX2p, hepatocyte_data),\n",
    "                  Ns = 15,\n",
    "                  full_output = True,\n",
    "                  finish=None)"
   ]
  },
  {
   "cell_type": "code",
   "execution_count": null,
   "metadata": {
    "ExecuteTime": {
     "end_time": "2018-01-05T17:22:30.733051Z",
     "start_time": "2018-01-05T17:21:16.334Z"
    }
   },
   "outputs": [],
   "source": [
    "res"
   ]
  },
  {
   "cell_type": "code",
   "execution_count": 38,
   "metadata": {
    "ExecuteTime": {
     "end_time": "2018-01-05T17:37:12.279321Z",
     "start_time": "2018-01-05T17:37:12.275292Z"
    }
   },
   "outputs": [
    {
     "data": {
      "text/plain": [
       "array([ 0.07937005,  5.        ,  1.742909  ])"
      ]
     },
     "execution_count": 38,
     "metadata": {},
     "output_type": "execute_result"
    }
   ],
   "source": [
    "np.exp(res[0])"
   ]
  },
  {
   "cell_type": "code",
   "execution_count": 36,
   "metadata": {
    "ExecuteTime": {
     "end_time": "2018-01-05T17:35:09.305752Z",
     "start_time": "2018-01-05T17:35:09.293171Z"
    }
   },
   "outputs": [
    {
     "data": {
      "text/html": [
       "<div>\n",
       "<style>\n",
       "    .dataframe thead tr:only-child th {\n",
       "        text-align: right;\n",
       "    }\n",
       "\n",
       "    .dataframe thead th {\n",
       "        text-align: left;\n",
       "    }\n",
       "\n",
       "    .dataframe tbody tr th {\n",
       "        vertical-align: top;\n",
       "    }\n",
       "</style>\n",
       "<table border=\"1\" class=\"dataframe\">\n",
       "  <thead>\n",
       "    <tr style=\"text-align: right;\">\n",
       "      <th></th>\n",
       "      <th>loglike</th>\n",
       "      <th>k</th>\n",
       "      <th>n</th>\n",
       "      <th>cAIC</th>\n",
       "    </tr>\n",
       "  </thead>\n",
       "  <tbody>\n",
       "    <tr>\n",
       "      <th>I1</th>\n",
       "      <td>23.487144</td>\n",
       "      <td>2.0</td>\n",
       "      <td>9.0</td>\n",
       "      <td>-40.974288</td>\n",
       "    </tr>\n",
       "    <tr>\n",
       "      <th>I2</th>\n",
       "      <td>23.364894</td>\n",
       "      <td>3.0</td>\n",
       "      <td>9.0</td>\n",
       "      <td>-35.929788</td>\n",
       "    </tr>\n",
       "    <tr>\n",
       "      <th>IX2p</th>\n",
       "      <td>23.302844</td>\n",
       "      <td>3.0</td>\n",
       "      <td>9.0</td>\n",
       "      <td>-35.805689</td>\n",
       "    </tr>\n",
       "  </tbody>\n",
       "</table>\n",
       "</div>"
      ],
      "text/plain": [
       "        loglike    k    n       cAIC\n",
       "I1    23.487144  2.0  9.0 -40.974288\n",
       "I2    23.364894  3.0  9.0 -35.929788\n",
       "IX2p  23.302844  3.0  9.0 -35.805689"
      ]
     },
     "execution_count": 36,
     "metadata": {},
     "output_type": "execute_result"
    }
   ],
   "source": [
    "results.loc['IX2p', 'loglike'] = -res[1]\n",
    "results.loc['IX2p', 'k'] = 3\n",
    "results.loc['IX2p', 'n'] = len(hepatocyte_data)\n",
    "\n",
    "results['cAIC'] = 2 * results['k'] - 2 * results['loglike'] + (2*results['k']**2 + 2*results['k'])/(results['n']-results['k']-1)\n",
    "\n",
    "results"
   ]
  },
  {
   "cell_type": "markdown",
   "metadata": {},
   "source": [
    "# Scenario A = R1"
   ]
  },
  {
   "cell_type": "code",
   "execution_count": null,
   "metadata": {
    "ExecuteTime": {
     "end_time": "2018-01-05T17:22:30.733735Z",
     "start_time": "2018-01-05T17:21:16.339Z"
    }
   },
   "outputs": [],
   "source": [
    "K = np.vectorize(c14_models.C_atm)\n",
    "C = c14_models.C_scenario_A"
   ]
  },
  {
   "cell_type": "markdown",
   "metadata": {},
   "source": [
    "## Fit"
   ]
  },
  {
   "cell_type": "code",
   "execution_count": null,
   "metadata": {
    "ExecuteTime": {
     "end_time": "2018-01-05T17:22:30.734437Z",
     "start_time": "2018-01-05T17:21:16.343Z"
    }
   },
   "outputs": [],
   "source": [
    "sigma_estimate = hepatocyte_data['d14C'].std()"
   ]
  },
  {
   "cell_type": "code",
   "execution_count": null,
   "metadata": {
    "ExecuteTime": {
     "end_time": "2018-01-05T17:22:30.735198Z",
     "start_time": "2018-01-05T17:21:16.347Z"
    }
   },
   "outputs": [],
   "source": [
    "def neg_loglike_A(logr, sigma):\n",
    "    r = np.exp(logr)\n",
    "    loglike = 0\n",
    "    for i, dataset in hepatocyte_data.iterrows():\n",
    "        Dbirth = dataset['Dbirth']\n",
    "        Dcoll = dataset['Dcoll']\n",
    "        Cexp = dataset['d14C']\n",
    "        Cmodel = C(Dbirth, Dcoll, r)\n",
    "        \n",
    "        loglike += sp.stats.norm.logpdf(Cexp, loc=Cmodel, scale=sigma)\n",
    "    return -loglike"
   ]
  },
  {
   "cell_type": "code",
   "execution_count": null,
   "metadata": {
    "ExecuteTime": {
     "end_time": "2018-01-05T17:22:30.735827Z",
     "start_time": "2018-01-05T17:21:16.354Z"
    }
   },
   "outputs": [],
   "source": [
    "M_A = iminuit.Minuit(neg_loglike_A, errordef = 0.5,\\\n",
    "           logr = np.log(0.0066), error_logr = np.log(1e-3), fix_logr = False,\\\n",
    "           sigma = sigma_estimate, error_sigma = sigma_estimate / 10.0, limit_sigma = (0.0, None), fix_sigma = False,\\\n",
    "           print_level = 1)\n",
    "M_A.migrad();"
   ]
  },
  {
   "cell_type": "code",
   "execution_count": null,
   "metadata": {
    "ExecuteTime": {
     "end_time": "2018-01-05T17:22:30.736529Z",
     "start_time": "2018-01-05T17:21:16.364Z"
    }
   },
   "outputs": [],
   "source": [
    "np.exp(M_A.values['logr'])"
   ]
  },
  {
   "cell_type": "code",
   "execution_count": null,
   "metadata": {
    "ExecuteTime": {
     "end_time": "2018-01-05T17:22:30.737239Z",
     "start_time": "2018-01-05T17:21:16.376Z"
    }
   },
   "outputs": [],
   "source": [
    "lam = np.exp(M_A.values['logr'])\n",
    "print('lamda', lam)\n",
    "\n",
    "sig = M_A.values['sigma']\n",
    "print('sigma', sig)\n",
    "\n",
    "results.loc['R1', 'loglike'] = -res[1]\n",
    "results.loc['R1', 'k'] = 2\n",
    "results.loc['R1', 'n'] = len(hepatocyte_data)\n",
    "\n",
    "results['cAIC'] = 2 * results['k'] - 2 * results['loglike'] + (2*results['k']**2 + 2*results['k'])/(results['n']-results['k']-1)\n",
    "\n",
    "results"
   ]
  },
  {
   "cell_type": "markdown",
   "metadata": {},
   "source": [
    "### Plot"
   ]
  },
  {
   "cell_type": "code",
   "execution_count": null,
   "metadata": {
    "ExecuteTime": {
     "end_time": "2018-01-05T17:22:30.737970Z",
     "start_time": "2018-01-05T17:21:16.381Z"
    }
   },
   "outputs": [],
   "source": [
    "fig, axs = plt.subplots(2, 1, sharex = True, figsize = (6, 8))\n",
    "\n",
    "time = sp.linspace(1910.0, 2020.0, 1000)\n",
    "\n",
    "\n",
    "for ax in axs:\n",
    "    ax.plot(time, K(time), label = 'Atmosphere', color = 'black')\n",
    "\n",
    "    ax.errorbar(hepatocyte_data['Dbirth'], \\\n",
    "               sp.vectorize(C)(hepatocyte_data['Dbirth'], hepatocyte_data['Dcoll'], np.exp(M_A.values['logr'])), M_A.values['sigma'],\n",
    "               color = 'white', ecolor = 'black', label = 'Scenario A', marker='s', ls = '')\n",
    "\n",
    "\n",
    "    ax.errorbar(hepatocyte_data['Dbirth'], hepatocyte_data['d14C'], \n",
    "            marker = 'o', ls = 'None', color = 'black',\n",
    "               label = 'Hepato DNA (coll after 2015)')\n",
    "    ax.errorbar(hepatocyte_data.query('Dcoll < 2015')['Dbirth'], hepatocyte_data.query('Dcoll < 2015')['d14C'], \n",
    "               marker = 'o', ls = 'None', color = 'red', \n",
    "               label = 'Hepato DNA (coll before 2015)')\n",
    "\n",
    "\n",
    "    ax.set_xlim((1909, 2020))\n",
    "    ax.set_ylim(-0.1, 0.9)\n",
    "    ax.set_xticks(sp.linspace(1910, 2010, 6), minor = 1)\n",
    "    # ax.grid(which='both')\n",
    "    \n",
    "\n",
    "    ax.set_xlabel('Calendar year')\n",
    "    ax.set_ylabel('$\\Delta^{14}$C')\n",
    "\n",
    "axs[0].legend()\n",
    "axs[1].set_ylim(-0.0, 0.15)\n",
    "\n",
    "plt.show()"
   ]
  },
  {
   "cell_type": "code",
   "execution_count": null,
   "metadata": {
    "ExecuteTime": {
     "end_time": "2018-01-05T17:22:30.738783Z",
     "start_time": "2018-01-05T17:21:16.384Z"
    }
   },
   "outputs": [],
   "source": [
    "M_A.minos(sigma = 1.92);"
   ]
  },
  {
   "cell_type": "code",
   "execution_count": null,
   "metadata": {
    "ExecuteTime": {
     "end_time": "2018-01-05T17:22:30.739408Z",
     "start_time": "2018-01-05T17:21:16.388Z"
    }
   },
   "outputs": [],
   "source": [
    "np.exp(CI(M_A, 'logr'))"
   ]
  },
  {
   "cell_type": "code",
   "execution_count": null,
   "metadata": {
    "ExecuteTime": {
     "end_time": "2018-01-05T17:22:30.740203Z",
     "start_time": "2018-01-05T17:21:16.392Z"
    }
   },
   "outputs": [],
   "source": [
    "CI(M_A, 'sigma')"
   ]
  },
  {
   "cell_type": "code",
   "execution_count": null,
   "metadata": {
    "ExecuteTime": {
     "end_time": "2018-01-05T17:22:30.740888Z",
     "start_time": "2018-01-05T17:21:16.396Z"
    }
   },
   "outputs": [],
   "source": [
    "M_A.draw_mnprofile('logr');"
   ]
  },
  {
   "cell_type": "code",
   "execution_count": null,
   "metadata": {
    "ExecuteTime": {
     "end_time": "2018-01-05T17:22:30.741488Z",
     "start_time": "2018-01-05T17:21:16.400Z"
    }
   },
   "outputs": [],
   "source": [
    "M_A.draw_mnprofile('sigma');"
   ]
  },
  {
   "cell_type": "markdown",
   "metadata": {},
   "source": [
    "# 2POP"
   ]
  },
  {
   "cell_type": "markdown",
   "metadata": {},
   "source": [
    "### Sigma dependent on mass of sample"
   ]
  },
  {
   "cell_type": "code",
   "execution_count": null,
   "metadata": {
    "ExecuteTime": {
     "end_time": "2018-01-05T17:22:30.742217Z",
     "start_time": "2018-01-05T17:21:16.404Z"
    }
   },
   "outputs": [],
   "source": [
    "def neg_loglike_A_mass(r, sigma_light, sigma_heavy):\n",
    "    loglike = 0\n",
    "    for i, dataset in hepatocyte_data.iterrows():\n",
    "        Dbirth = dataset['Dbirth']\n",
    "        Dcoll = dataset['Dcoll']\n",
    "        Cexp = dataset['d14C']\n",
    "        Cmodel = C(Dbirth, Dcoll, r)\n",
    "        if dataset['mass'] < 10.0:\n",
    "            sigma = sigma_light\n",
    "        else:\n",
    "            sigma = sigma_heavy\n",
    "        \n",
    "        \n",
    "        loglike += sp.stats.norm.logpdf(Cexp, loc=Cmodel, scale=sigma)\n",
    "    return -loglike"
   ]
  },
  {
   "cell_type": "code",
   "execution_count": null,
   "metadata": {
    "ExecuteTime": {
     "end_time": "2018-01-05T17:22:30.742900Z",
     "start_time": "2018-01-05T17:21:16.408Z"
    }
   },
   "outputs": [],
   "source": [
    "M_A_mass = iminuit.Minuit(neg_loglike_A_mass, errordef = 0.5,\\\n",
    "                          r = 0.0066, error_r = 1e-3, limit_r = (0.0, None), fix_r = False,\\\n",
    "                          sigma_light = sigma_estimate, error_sigma_light = sigma_estimate / 10.0,\n",
    "                          limit_sigma_light = (0.0, None), fix_sigma_light = False,\n",
    "                          sigma_heavy = sigma_estimate, error_sigma_heavy = sigma_estimate / 10.0,\n",
    "                          limit_sigma_heavy = (0.0, None), fix_sigma_heavy = False,\n",
    "                          print_level = 1)"
   ]
  },
  {
   "cell_type": "code",
   "execution_count": null,
   "metadata": {
    "ExecuteTime": {
     "end_time": "2018-01-05T17:22:30.743634Z",
     "start_time": "2018-01-05T17:21:16.412Z"
    }
   },
   "outputs": [],
   "source": [
    "M_A_mass.migrad();"
   ]
  },
  {
   "cell_type": "code",
   "execution_count": null,
   "metadata": {
    "ExecuteTime": {
     "end_time": "2018-01-05T17:22:30.744316Z",
     "start_time": "2018-01-05T17:21:16.416Z"
    }
   },
   "outputs": [],
   "source": [
    "def neg_loglike_2POP(r, f, sigma):\n",
    "    loglike = 0\n",
    "    for i, dataset in hepatocyte_data.iterrows():\n",
    "        Dbirth = dataset['Dbirth']\n",
    "        Dcoll = dataset['Dcoll']\n",
    "        Cexp = dataset['d14C']\n",
    "        Cmodel = C2(Dbirth, Dcoll, r, f)\n",
    "        \n",
    "        loglike += sp.stats.norm.logpdf(Cexp, loc=Cmodel, scale=sigma)\n",
    "    return -loglike"
   ]
  },
  {
   "cell_type": "code",
   "execution_count": null,
   "metadata": {
    "ExecuteTime": {
     "end_time": "2018-01-05T17:22:30.744993Z",
     "start_time": "2018-01-05T17:21:16.420Z"
    }
   },
   "outputs": [],
   "source": [
    "M_2POP = iminuit.Minuit(neg_loglike_2POP, errordef = 0.5,\\\n",
    "                   r = 0.12, error_r = 1e-3, limit_r = (0.0, None), fix_r = False,\\\n",
    "                   f=0.35, error_f=0.01, limit_f=(0.0, 1.0), fix_f = False,\\\n",
    "                   sigma = sigma_estimate, error_sigma = sigma_estimate / 10.0, limit_sigma = (0.0, None), fix_sigma = False,\\\n",
    "                   print_level = 1)"
   ]
  },
  {
   "cell_type": "code",
   "execution_count": null,
   "metadata": {
    "ExecuteTime": {
     "end_time": "2018-01-05T17:22:30.745619Z",
     "start_time": "2018-01-05T17:21:16.424Z"
    }
   },
   "outputs": [],
   "source": [
    "M_2POP.migrad();"
   ]
  },
  {
   "cell_type": "code",
   "execution_count": null,
   "metadata": {
    "ExecuteTime": {
     "end_time": "2018-01-05T17:22:30.746358Z",
     "start_time": "2018-01-05T17:21:16.429Z"
    },
    "scrolled": true
   },
   "outputs": [],
   "source": [
    "f, ax = plt.subplots(1, 1, figsize = (6, 4))\n",
    "\n",
    "time = sp.linspace(1910.0, 2015.0, 1000)\n",
    "ax.plot(time, K(time), label = 'Atmosphere                    ', color = 'black')\n",
    "ax.scatter(hepatocyte_data['Dbirth'], hepatocyte_data['d14C'], color = 'black', label = 'Neuronal DNA            ')\n",
    "ax.errorbar(hepatocyte_data['Dbirth'], \\\n",
    "           sp.vectorize(C2)(hepatocyte_data['Dbirth'], hepatocyte_data['Dcoll'], M_2POP.values['r'], M_2POP.values['f']),\\\n",
    "            M_2POP.values['sigma'],\n",
    "           color = 'white', ecolor = 'black', label = '2POP', marker='^', ls = '', ms = 5)\n",
    "\n",
    "ax.set_xlim((1909, 2011))\n",
    "ax.set_ylim(-0.1, 0.9)\n",
    "ax.set_xticks(sp.arange(1910, 2011, 10))\n",
    "ax.set_xticks(sp.arange(1910, 2011, 2), minor = True)\n",
    "ax.set_yticks(sp.arange(-0.1, 0.91, 0.1))\n",
    "ax.set_yticks(sp.arange(-0.1, 0.91, 0.02), minor = True)\n",
    "# ax.grid(which='both')\n",
    "ax.legend(loc='best', numpoints = 1, scatterpoints = 1)\n",
    "\n",
    "ax.set_xlabel('Calendar year')\n",
    "ax.set_ylabel(u'Concentration of 14C (Δ14C)')\n",
    "\n",
    "ax.annotate(\"Partial nuclear\\ntest ban treaty\", xy = (1963, ax.get_ylim()[0]), xytext = (1965, 0.05),\n",
    "            arrowprops = dict(arrowstyle = '-|>', facecolor = 'white'))\n",
    "\n",
    "axins = inset_axes(ax,\n",
    "                   width=\"40%\",  # width = 30% of parent_bbox\n",
    "                   height=1.,  # height : 1 inch\n",
    "                   loc=2, borderpad = 3)\n",
    "\n",
    "axins.plot(time, K(time), label = 'Atmosphere                    ', color = 'black')\n",
    "axins.scatter(hepatocyte_data['Dbirth'], hepatocyte_data['d14C'], color = 'black', label = 'Neuronal DNA            ')\n",
    "axins.errorbar(hepatocyte_data['Dbirth'], \\\n",
    "           sp.vectorize(C2)(hepatocyte_data['Dbirth'], hepatocyte_data['Dcoll'], M_2POP.values['r'], M_2POP.values['f']),\\\n",
    "            M_2POP.values['sigma'],\n",
    "           color = 'white', ecolor = 'black', label = '2POP', marker='^', ls = '', ms = 5)\n",
    "\n",
    "axins.set_xlim(1941, 1959)\n",
    "axins.set_ylim(-0.05, 0.09)\n",
    "axins.set_xticks(sp.arange(1945, 1956, 5))\n",
    "axins.set_xticks(sp.arange(1942, 1959, 1), minor=True)\n",
    "\n",
    "axins.annotate(\"First above-ground\\n thermonuclear bomb test\", xy = (1952, axins.get_ylim()[0]), xytext = (1945.5, axins.get_ylim()[0] - 0.08),\n",
    "            arrowprops = dict(arrowstyle = '-|>', facecolor = 'white'), horizontalalignment = 'left')\n",
    "\n",
    "exportname = 'c14_predict_2POP'\n",
    "plt.savefig('{}.svg'.format(exportname))\n",
    "os.system('inkscape -D -z --file={0}.svg --export-pdf={0}.pdf'.format(exportname))\n",
    "\n",
    "plt.show()"
   ]
  },
  {
   "cell_type": "code",
   "execution_count": null,
   "metadata": {
    "ExecuteTime": {
     "end_time": "2018-01-05T17:22:30.747041Z",
     "start_time": "2018-01-05T17:21:16.433Z"
    }
   },
   "outputs": [],
   "source": [
    "matplotlib.text.Text?"
   ]
  },
  {
   "cell_type": "code",
   "execution_count": null,
   "metadata": {
    "ExecuteTime": {
     "end_time": "2018-01-05T17:22:30.747806Z",
     "start_time": "2018-01-05T17:21:16.437Z"
    }
   },
   "outputs": [],
   "source": [
    "M_2POP.minos(sigma = 1.92);"
   ]
  },
  {
   "cell_type": "code",
   "execution_count": null,
   "metadata": {
    "ExecuteTime": {
     "end_time": "2018-01-05T17:22:30.748471Z",
     "start_time": "2018-01-05T17:21:16.442Z"
    }
   },
   "outputs": [],
   "source": [
    "CI(M_2POP, 'f')"
   ]
  },
  {
   "cell_type": "markdown",
   "metadata": {},
   "source": [
    "Calculate how much bigger Spalding's CI was:"
   ]
  },
  {
   "cell_type": "code",
   "execution_count": null,
   "metadata": {
    "ExecuteTime": {
     "end_time": "2018-01-05T17:22:30.749118Z",
     "start_time": "2018-01-05T17:21:16.448Z"
    }
   },
   "outputs": [],
   "source": [
    "Delta_Rost = CI(M_2POP, 'f')[1] - CI(M_2POP, 'f')[0]\n",
    "Delta_Spalding = 0.63 - 0.12\n",
    "Delta_Spalding/Delta_Rost"
   ]
  },
  {
   "cell_type": "code",
   "execution_count": null,
   "metadata": {
    "ExecuteTime": {
     "end_time": "2018-01-05T17:22:30.749741Z",
     "start_time": "2018-01-05T17:21:16.452Z"
    }
   },
   "outputs": [],
   "source": [
    "CI(M_2POP, 'sigma')"
   ]
  },
  {
   "cell_type": "code",
   "execution_count": null,
   "metadata": {
    "ExecuteTime": {
     "end_time": "2018-01-05T17:22:30.750323Z",
     "start_time": "2018-01-05T17:21:16.456Z"
    }
   },
   "outputs": [],
   "source": [
    "M_2POP.draw_mnprofile('f');"
   ]
  },
  {
   "cell_type": "code",
   "execution_count": null,
   "metadata": {
    "ExecuteTime": {
     "end_time": "2018-01-05T17:22:30.750996Z",
     "start_time": "2018-01-05T17:21:16.461Z"
    }
   },
   "outputs": [],
   "source": [
    "M_2POP.draw_mnprofile('sigma');"
   ]
  },
  {
   "cell_type": "markdown",
   "metadata": {},
   "source": [
    "Manual profile likelihood for $r$ as `minos` didn't work."
   ]
  },
  {
   "cell_type": "code",
   "execution_count": null,
   "metadata": {
    "ExecuteTime": {
     "end_time": "2018-01-05T17:22:30.751658Z",
     "start_time": "2018-01-05T17:21:16.466Z"
    }
   },
   "outputs": [],
   "source": [
    "%%cache rprofile.pkl rs neglogL\n",
    "rs = sp.sort(sp.hstack((sp.linspace(0.1, 10, 50), M_2POP.values['r'], 0.15)))\n",
    "f_initial = M_2POP.values['f']\n",
    "sigma_initial = M_2POP.values['sigma']\n",
    "def fit_fix_r(r):\n",
    "    M_2POP = iminuit.Minuit(neg_loglike_2POP, errordef = 0.5,\\\n",
    "                   r = r, error_r = 1e-3, limit_r = (0.0, None), fix_r = True,\\\n",
    "                   f=0.35, error_f=0.01, limit_f=(0.0, 1.0), fix_f = False,\\\n",
    "                   sigma = sigma_estimate, error_sigma = sigma_estimate / 10.0, limit_sigma = (0.0, None), fix_sigma = False,\\\n",
    "                   print_level = 0)\n",
    "    M_2POP.migrad()\n",
    "    if M_2POP.migrad_ok():\n",
    "        return M_2POP.fval\n",
    "    else:\n",
    "        return sp.nan\n",
    "\n",
    "pool = Pool(processes=4) \n",
    "\n",
    "neglogL = sp.array(pool.map(fit_fix_r, rs))"
   ]
  },
  {
   "cell_type": "code",
   "execution_count": null,
   "metadata": {
    "ExecuteTime": {
     "end_time": "2018-01-05T17:22:30.752313Z",
     "start_time": "2018-01-05T17:21:16.470Z"
    }
   },
   "outputs": [],
   "source": [
    "func = sp.interpolate.interp1d(rs, neglogL - neglogL.min() - 1.92) "
   ]
  },
  {
   "cell_type": "code",
   "execution_count": null,
   "metadata": {
    "ExecuteTime": {
     "end_time": "2018-01-05T17:22:30.752970Z",
     "start_time": "2018-01-05T17:21:16.474Z"
    }
   },
   "outputs": [],
   "source": [
    "from scipy import optimize\n",
    "rmin = sp.optimize.root(func, 0.1, method='lm')['x'].item()\n",
    "rmax = sp.optimize.root(func, 2, method='lm')['x'].item()\n",
    "\n",
    "print('r:')\n",
    "print('{0:.2f} (95\\% CI [{1:.2f}, {2:.2f}])'.format(M_2POP.values['r'], rmin, rmax))\n"
   ]
  },
  {
   "cell_type": "code",
   "execution_count": null,
   "metadata": {
    "ExecuteTime": {
     "end_time": "2018-01-05T17:22:30.753622Z",
     "start_time": "2018-01-05T17:21:16.480Z"
    }
   },
   "outputs": [],
   "source": [
    "fig = plt.figure(figsize= (150 / 25.4, 50 / 25.4) )\n",
    "plt.xlim(0, 10)\n",
    "plt.ylim(-2.5, 0)\n",
    "\n",
    "plt.xlabel('turnover rate, r (per year)')\n",
    "plt.ylabel('$\\Delta \\ln L$')\n",
    "\n",
    "# plt.grid()\n",
    "\n",
    "plt.plot(rs, -(neglogL-M_2POP.fval), 'black')\n",
    "plt.plot([0, 10], [-1.92, -1.92], 'k--')\n",
    "# plt.plot([rmin, rmin], [-5, 0], 'k--')\n",
    "# plt.plot([rmax, rmax], [-5, 0], 'k--')\n",
    "\n",
    "exportname = 'rprofile'\n",
    "plt.savefig('{}.svg'.format(exportname))\n",
    "os.system('inkscape -D -z --file={0}.svg --export-pdf={0}.pdf'.format(exportname))\n",
    "\n",
    "plt.show()"
   ]
  },
  {
   "cell_type": "markdown",
   "metadata": {},
   "source": [
    "## 2POP mass"
   ]
  },
  {
   "cell_type": "code",
   "execution_count": null,
   "metadata": {
    "ExecuteTime": {
     "end_time": "2018-01-05T17:22:30.754285Z",
     "start_time": "2018-01-05T17:21:16.484Z"
    }
   },
   "outputs": [],
   "source": [
    "def neg_loglike_2POP_mass(r, f, sigma_light, sigma_heavy):\n",
    "    loglike = 0\n",
    "    for i, row in hepatocyte_data.iterrows():\n",
    "        Dbirth = row['Dbirth']\n",
    "        Dcoll = row['Dcoll']\n",
    "        Cexp = row['d14C']\n",
    "        Cmodel = C2(Dbirth, Dcoll, r, f)\n",
    "        if row['mass'] < 10.0:\n",
    "            sigma = sigma_light\n",
    "        else:\n",
    "            sigma = sigma_heavy\n",
    "        \n",
    "        loglike += sp.stats.norm.logpdf(Cexp, loc=Cmodel, scale=sigma)\n",
    "    return -loglike"
   ]
  },
  {
   "cell_type": "code",
   "execution_count": null,
   "metadata": {
    "ExecuteTime": {
     "end_time": "2018-01-05T17:22:30.754937Z",
     "start_time": "2018-01-05T17:21:16.488Z"
    }
   },
   "outputs": [],
   "source": [
    "M_2POP_mass = iminuit.Minuit(neg_loglike_2POP_mass, errordef = 0.5,\\\n",
    "                   r = 0.12, error_r = 1e-3, limit_r = (0.0, None), fix_r = False,\\\n",
    "                   f=0.35, error_f=0.01, limit_f=(0.0, 1.0), fix_f = False,\\\n",
    "                   sigma_light = sigma_estimate*20, error_sigma_light = sigma_estimate / 10.0, limit_sigma_light = (0.0, None), fix_sigma_light = False,\n",
    "                   sigma_heavy = sigma_estimate, error_sigma_heavy = sigma_estimate / 10.0, limit_sigma_heavy = (0.0, None), fix_sigma_heavy = False,\\\n",
    "                   print_level = 1)"
   ]
  },
  {
   "cell_type": "code",
   "execution_count": null,
   "metadata": {
    "ExecuteTime": {
     "end_time": "2018-01-05T17:22:30.755616Z",
     "start_time": "2018-01-05T17:21:16.493Z"
    }
   },
   "outputs": [],
   "source": [
    "M_2POP_mass.migrad();"
   ]
  },
  {
   "cell_type": "markdown",
   "metadata": {},
   "source": [
    "## Sample size estimation\n",
    "Here, I create simulated data from the model to estimate the sample size (needed number of additional subjects) to find a upper limit for $r$. In the model simulation I'll use the estimated point estimates of the parameters as true parameters. I use scenario 2POP.\n",
    "### Simulate the model"
   ]
  },
  {
   "cell_type": "code",
   "execution_count": null,
   "metadata": {
    "ExecuteTime": {
     "end_time": "2018-01-05T17:22:30.756289Z",
     "start_time": "2018-01-05T17:21:16.497Z"
    }
   },
   "outputs": [],
   "source": [
    "f_fit = M_2POP.values['f']\n",
    "r_fit = M_2POP.values['r']\n",
    "sigma_fit = M_2POP.values['sigma']"
   ]
  },
  {
   "cell_type": "markdown",
   "metadata": {},
   "source": [
    "Let's first plot the model prediction for the expected difference in C-14 concentration when comparing the cases $r = r_{estimate}$ and $r = r_{max}$ and different birth and death times:"
   ]
  },
  {
   "cell_type": "code",
   "execution_count": null,
   "metadata": {
    "ExecuteTime": {
     "end_time": "2018-01-05T17:22:30.756952Z",
     "start_time": "2018-01-05T17:21:16.502Z"
    }
   },
   "outputs": [],
   "source": [
    "time_min, time_max = 1910, 2015\n",
    "sampling = 1\n",
    "birth_times, death_times = sp.mgrid[time_min:time_max:sampling, time_min:time_max:sampling]\n",
    "C14_diff = sp.absolute(sp.vectorize(C2)(birth_times, death_times, r_fit, f_fit) - sp.vectorize(C2)(birth_times, death_times, rmax, f_fit))\n",
    "C14_diff = sp.ma.masked_array(C14_diff, mask = sp.isnan(C14_diff))"
   ]
  },
  {
   "cell_type": "code",
   "execution_count": null,
   "metadata": {
    "ExecuteTime": {
     "end_time": "2018-01-05T17:22:30.757604Z",
     "start_time": "2018-01-05T17:21:16.506Z"
    }
   },
   "outputs": [],
   "source": [
    "%config InlineBackend.figure_format = 'png'\n",
    "fig, ax = plt.subplots(figsize = (3,2))\n",
    "pcm = ax.pcolormesh(birth_times, death_times, C14_diff, cmap = 'viridis')\n",
    "ax.set_xlabel('year of birth')\n",
    "ax.set_ylabel('year of death', labelpad=10)\n",
    "fig.colorbar(pcm)\n",
    "ax.set_xlim(time_min, time_max)\n",
    "ax.set_ylim(time_min, time_max)\n",
    "ax.set_xticks(sp.arange(time_min, time_max, 20))\n",
    "ax.set_xticks(sp.arange(time_min+10, time_max, 20), minor = True)\n",
    "ax.set_yticks(sp.arange(time_min, time_max, 20))\n",
    "ax.set_yticks(sp.arange(time_min+10, time_max, 20), minor = True)\n",
    "# plt.contour(birth_times, death_times, C14_diff, [0.05], colors = 'red')\n",
    "\n",
    "plt.show()"
   ]
  },
  {
   "cell_type": "code",
   "execution_count": null,
   "metadata": {
    "ExecuteTime": {
     "end_time": "2018-01-05T17:22:30.758258Z",
     "start_time": "2018-01-05T17:21:16.510Z"
    }
   },
   "outputs": [],
   "source": [
    "max_index = sp.unravel_index(C14_diff.argmax(), C14_diff.shape)\n",
    "death_times[max_index]"
   ]
  },
  {
   "cell_type": "markdown",
   "metadata": {},
   "source": [
    "The biggest difference in C-14 is expected for subjects that died in 1965. "
   ]
  },
  {
   "cell_type": "markdown",
   "metadata": {},
   "source": [
    "### Creation of artifical subject data\n",
    "\n",
    "#### Informative data\n",
    "\n",
    "Based on the assumption that I my parameters are the true parameters I create artifical subject data by simulating the model. I'll choose subjects for which the expected difference in C-14 for the cases $r = r_{estimate}$ and $r = r_{max}$ is bigger than $0.05$."
   ]
  },
  {
   "cell_type": "code",
   "execution_count": null,
   "metadata": {
    "ExecuteTime": {
     "end_time": "2018-01-05T17:22:30.758911Z",
     "start_time": "2018-01-05T17:21:16.515Z"
    }
   },
   "outputs": [],
   "source": [
    "fig, ax = plt.subplots(figsize = (3,2))\n",
    "pcm = ax.pcolormesh(birth_times, death_times, C14_diff > 0.05, cmap = 'Greys')\n",
    "ax.set_xlabel('year of birth')\n",
    "ax.set_ylabel('year of death')\n",
    "fig.colorbar(pcm)\n",
    "ax.set_xlim(time_min, time_max)\n",
    "ax.set_ylim(time_min, time_max)\n",
    "\n",
    "plt.show()"
   ]
  },
  {
   "cell_type": "code",
   "execution_count": null,
   "metadata": {
    "ExecuteTime": {
     "end_time": "2018-01-05T17:22:30.759553Z",
     "start_time": "2018-01-05T17:21:16.521Z"
    }
   },
   "outputs": [],
   "source": [
    "chosen_birth_times = birth_times[C14_diff > 0.05]\n",
    "chosen_death_times = death_times[C14_diff > 0.05]\n",
    "chosen_times = zip(chosen_birth_times, chosen_death_times)"
   ]
  },
  {
   "cell_type": "code",
   "execution_count": null,
   "metadata": {
    "ExecuteTime": {
     "end_time": "2018-01-05T17:22:30.760221Z",
     "start_time": "2018-01-05T17:21:16.528Z"
    }
   },
   "outputs": [],
   "source": [
    "%%cache profiles_r_2POP.pkl profile_r_2POP\n",
    "profile_r_2POP = M_2POP.mnprofile('r', bound = [0.1, 1.5], subtract_min = True, bins = 60)"
   ]
  },
  {
   "cell_type": "code",
   "execution_count": null,
   "metadata": {
    "ExecuteTime": {
     "end_time": "2018-01-05T17:22:30.760887Z",
     "start_time": "2018-01-05T17:21:16.533Z"
    }
   },
   "outputs": [],
   "source": [
    "%%cache profiles.pkl profiles test_datasets\n",
    "n = 5\n",
    "test_datasets = {}\n",
    "profiles = {}\n",
    "for i in range(5):\n",
    "    sp.random.seed(i)\n",
    "    \n",
    "    indices = sp.random.choice(len(chosen_birth_times), n)\n",
    "    \n",
    "#     sampled_birth_times = chosen_birth_times[indices]\n",
    "#     sampled_death_times = chosen_death_times[indices]\n",
    "\n",
    "    sampled_birth_times = sp.random.uniform(1910, 1960, n)\n",
    "    sampled_death_times = sp.random.uniform(1961, 1970, n)\n",
    "    d14C = sp.vectorize(C2)(sampled_birth_times, sampled_death_times, r_fit, f_fit) + sp.random.normal(0, sigma_fit, len(sampled_birth_times))\n",
    "    \n",
    "    new_data = pd.DataFrame.from_dict({'Dbirth': sampled_birth_times, 'Dcoll': sampled_death_times, 'd14C': d14C})\n",
    "    \n",
    "    test_datasets[i] = pd.concat([hepatocyte_data, new_data], ignore_index=True)\n",
    "\n",
    "for i, data in test_datasets.iteritems():\n",
    "    def neg_loglike_2POP_test(r, f, sigma):\n",
    "        loglike = 0\n",
    "        for i, dataset in data.iterrows():\n",
    "            Dbirth = dataset['Dbirth']\n",
    "            Dcoll = dataset['Dcoll']\n",
    "            Cexp = dataset['d14C']\n",
    "            Cmodel = C2(Dbirth, Dcoll, r, f)\n",
    "\n",
    "            loglike += sp.stats.norm.logpdf(Cexp, loc=Cmodel, scale=sigma)\n",
    "        return -loglike\n",
    "\n",
    "    M_2POP_test = iminuit.Minuit(neg_loglike_2POP_test, errordef = 0.5,\\\n",
    "                   r = 0.2, error_r = 1e-3, limit_r = (0.0, None), fix_r = False,\\\n",
    "                   f= 0.3, error_f=0.01, limit_f=(0.0, 1.0), fix_f = False,\\\n",
    "                   sigma = 0.01, error_sigma = sigma_fit / 10.0, limit_sigma = (0.0, None), fix_sigma = False,\\\n",
    "                   print_level = 0)\n",
    "    M_2POP_test.tol = 10.0\n",
    "    M_2POP_test.migrad()\n",
    "#     M_2POP_test.minos('r', sigma = 1.92)\n",
    "    if M_2POP_test.migrad_ok():\n",
    "        profiles[i] = M_2POP_test.mnprofile('r', bound = [0.1, 0.5], subtract_min = True, bins = 25);"
   ]
  },
  {
   "cell_type": "markdown",
   "metadata": {},
   "source": [
    "Plot the artificial test data"
   ]
  },
  {
   "cell_type": "code",
   "execution_count": null,
   "metadata": {
    "ExecuteTime": {
     "end_time": "2018-01-05T17:22:30.761546Z",
     "start_time": "2018-01-05T17:21:16.538Z"
    }
   },
   "outputs": [],
   "source": [
    "i = 1\n",
    "artificial_data = test_datasets[i]\n",
    "\n",
    "f, ax = plt.subplots(1, 1, figsize = (3, 2))\n",
    "\n",
    "time = sp.linspace(1910.0, 2015.0, 1000)\n",
    "ax.plot(time, K(time), label = 'Atmosphere                    ', color = 'black')\n",
    "ax.scatter(artificial_data['Dbirth'], artificial_data['d14C'], color = colorcycle[i+1], label = 'Artificial data            ')\n",
    "ax.scatter(hepatocyte_data['Dbirth'], hepatocyte_data['d14C'], color = 'black', label = 'Neuronal DNA                   ')\n",
    "# ax.errorbar(artificial_data['Dbirth'], \\\n",
    "#            sp.vectorize(C2)(artificial_data['Dbirth'], artificial_data['Dcoll'], M_2POP.values['r'], M_2POP.values['f']),\\\n",
    "#             M_2POP.values['sigma'],\n",
    "#            color = 'white', ecolor = 'black', label = '2POP', marker='^', ls = '', ms = 5)\n",
    "\n",
    "ax.set_xlim((1909, 2011))\n",
    "ax.set_ylim(-0.1, 0.9)\n",
    "ax.set_xticks(sp.linspace(1910, 2010, 6), minor = 1)\n",
    "# ax.grid(which='both')\n",
    "ax.legend(loc='best', scatterpoints = 1)\n",
    "\n",
    "ax.set_xlabel('Calendar year')\n",
    "ax.set_ylabel('$\\Delta^{14}$C')\n",
    "\n",
    "# ax.annotate(\"First above-ground\\nnuclear bomb test\", xy = (1955, K(1955)), xytext = (1965, -0.08),\n",
    "#             arrowprops = dict(arrowstyle = '-|>'))\n",
    "# ax.annotate(\"Partial nuclear\\ntest ban treaty\", xy = (1963, K(1963)), xytext = (1967, 0.05),\n",
    "#             arrowprops = dict(arrowstyle = '-|>'))\n",
    "\n",
    "\n",
    "plt.show()"
   ]
  },
  {
   "cell_type": "code",
   "execution_count": null,
   "metadata": {
    "ExecuteTime": {
     "end_time": "2018-01-05T17:22:30.762209Z",
     "start_time": "2018-01-05T17:21:16.543Z"
    }
   },
   "outputs": [],
   "source": [
    "%config InlineBackend.figure_format = 'svg'\n",
    "\n",
    "fig = plt.figure(figsize= (75 / 25.4, 50 / 25.4) )\n",
    "plt.xlim(0.1, 0.4)\n",
    "plt.ylim(-2.5, 0)\n",
    "\n",
    "plt.xlabel('turnover rate, r (per year)')\n",
    "plt.ylabel('$\\Delta \\ln L$')\n",
    "\n",
    "# plt.grid()\n",
    "\n",
    "plt.plot(profile_r_2POP[0], -sp.array(profile_r_2POP[1]), 'black')\n",
    "plt.plot([0, 10], [-1.92, -1.92], 'k--')\n",
    "# plt.plot([rmin, rmin], [-5, 0], 'k--')\n",
    "# plt.plot([rmax, rmax], [-5, 0], 'k--')\n",
    "\n",
    "for i, profile in profiles.iteritems():\n",
    "    plt.plot(profile[0], -sp.array(profile[1]), color = colorcycle[i+1])\n",
    "\n",
    "\n",
    "plt.show()"
   ]
  },
  {
   "cell_type": "markdown",
   "metadata": {},
   "source": [
    "#### 'Recent' data\n",
    "Now, I repeat the creation of artificial data as above, but for patients that died in recent years. I choose 2012. I assume they are born bewteen 1910 and 2010 with uniform random distribution."
   ]
  },
  {
   "cell_type": "code",
   "execution_count": null,
   "metadata": {
    "ExecuteTime": {
     "end_time": "2018-01-05T17:22:30.762832Z",
     "start_time": "2018-01-05T17:21:16.547Z"
    }
   },
   "outputs": [],
   "source": [
    "len(hepatocyte_data)"
   ]
  },
  {
   "cell_type": "code",
   "execution_count": null,
   "metadata": {
    "ExecuteTime": {
     "end_time": "2018-01-05T17:22:30.763542Z",
     "start_time": "2018-01-05T17:21:16.551Z"
    }
   },
   "outputs": [],
   "source": [
    "%%cache profiles_recent.pkl profiles_recent test_datasets_recent\n",
    "n = 100\n",
    "test_datasets_recent = {}\n",
    "profiles_recent = {}\n",
    "for i in sp.arange(5)+1:\n",
    "    sp.random.seed(i)\n",
    "    \n",
    "    sampled_birth_times = sp.random.uniform(1910, 2010, n)\n",
    "    sampled_death_times = 2012 * sp.ones(n)\n",
    "    d14C = sp.vectorize(C2)(sampled_birth_times, sampled_death_times, r_fit, f_fit) + sp.random.normal(0, sigma_fit, len(sampled_birth_times))\n",
    "    \n",
    "    new_data = pd.DataFrame.from_dict({'Dbirth': sampled_birth_times, 'Dcoll': sampled_death_times, 'd14C': d14C})\n",
    "    \n",
    "    test_datasets_recent[i] = pd.concat([hepatocyte_data, new_data], ignore_index=True)\n",
    "\n",
    "for i, data in test_datasets_recent.iteritems():\n",
    "    def neg_loglike_2POP_test(r, f, sigma):\n",
    "        loglike = 0\n",
    "        for i, dataset in data.iterrows():\n",
    "            Dbirth = dataset['Dbirth']\n",
    "            Dcoll = dataset['Dcoll']\n",
    "            Cexp = dataset['d14C']\n",
    "            Cmodel = C2(Dbirth, Dcoll, r, f)\n",
    "\n",
    "            loglike += sp.stats.norm.logpdf(Cexp, loc=Cmodel, scale=sigma)\n",
    "        return -loglike\n",
    "\n",
    "    M_2POP_test = iminuit.Minuit(neg_loglike_2POP_test, errordef = 0.5,\\\n",
    "                   r = 0.2, error_r = 1e-3, limit_r = (0.0, None), fix_r = False,\\\n",
    "                   f= 0.3, error_f=0.01, limit_f=(0.0, 1.0), fix_f = False,\\\n",
    "                   sigma = 0.01, error_sigma = sigma_fit / 10.0, limit_sigma = (0.0, None), fix_sigma = False,\\\n",
    "                   print_level = 0)\n",
    "    M_2POP_test.tol = 10.0\n",
    "    M_2POP_test.migrad()\n",
    "#     M_2POP_test.minos('r', sigma = 1.92)\n",
    "    if M_2POP_test.migrad_ok():\n",
    "        profiles_recent[i] = M_2POP_test.mnprofile('r', bound = [0.1, 1.5], subtract_min = True, bins = 60);"
   ]
  },
  {
   "cell_type": "markdown",
   "metadata": {},
   "source": [
    "Plot the artificial test data"
   ]
  },
  {
   "cell_type": "code",
   "execution_count": null,
   "metadata": {
    "ExecuteTime": {
     "end_time": "2018-01-05T17:22:30.764223Z",
     "start_time": "2018-01-05T17:21:16.556Z"
    }
   },
   "outputs": [],
   "source": [
    "i = 1\n",
    "artificial_data_recent = test_datasets_recent[i]\n",
    "\n",
    "f, ax = plt.subplots(1, 1, figsize = (3, 2))\n",
    "\n",
    "time = sp.linspace(1910.0, 2015.0, 1000)\n",
    "ax.plot(time, K(time), label = 'Atmosphere                    ', color = 'black')\n",
    "ax.scatter(artificial_data_recent['Dbirth'], artificial_data_recent['d14C'], color = colorcycle[7], label = 'Artificial data            ')\n",
    "ax.scatter(hepatocyte_data['Dbirth'], hepatocyte_data['d14C'], color = 'black', label = 'Neuronal DNA                   ')\n",
    "# ax.errorbar(artificial_data_recent['Dbirth'], \\\n",
    "#            sp.vectorize(C2)(artificial_data_recent['Dbirth'], artificial_data_recent['Dcoll'], M_2POP.values['r'], M_2POP.values['f']),\\\n",
    "#             M_2POP.values['sigma'],\n",
    "#            color = 'white', ecolor = 'black', label = '2POP', marker='^', ls = '', ms = 5)\n",
    "\n",
    "ax.set_xlim((1909, 2011))\n",
    "ax.set_ylim(-0.1, 0.9)\n",
    "ax.set_xticks(sp.linspace(1910, 2010, 6), minor = 1)\n",
    "# ax.grid(which='both')\n",
    "ax.legend(loc='best', scatterpoints = 1)\n",
    "\n",
    "ax.set_xlabel('Calendar year')\n",
    "ax.set_ylabel('$\\Delta^{14}$C')\n",
    "\n",
    "# ax.annotate(\"First above-ground\\nnuclear bomb test\", xy = (1955, K(1955)), xytext = (1965, -0.08),\n",
    "#             arrowprops = dict(arrowstyle = '-|>'))\n",
    "# ax.annotate(\"Partial nuclear\\ntest ban treaty\", xy = (1963, K(1963)), xytext = (1967, 0.05),\n",
    "#             arrowprops = dict(arrowstyle = '-|>'))\n",
    "\n",
    "plt.show()"
   ]
  },
  {
   "cell_type": "code",
   "execution_count": null,
   "metadata": {
    "ExecuteTime": {
     "end_time": "2018-01-05T17:22:30.764884Z",
     "start_time": "2018-01-05T17:21:16.560Z"
    }
   },
   "outputs": [],
   "source": [
    "%config InlineBackend.figure_format = 'svg'\n",
    "\n",
    "fig = plt.figure(figsize= (75 / 25.4, 50 / 25.4) )\n",
    "plt.xlim(0.1, 1.5)\n",
    "plt.ylim(-2.5, 0)\n",
    "\n",
    "plt.xlabel('turnover rate, r (per year)')\n",
    "plt.ylabel('$\\Delta \\ln L$')\n",
    "\n",
    "# plt.grid()\n",
    "\n",
    "# plt.plot(profile_r_2POP[0], -sp.array(profile_r_2POP[1]), 'black')\n",
    "plt.plot(rs, -(neglogL-M_2POP.fval), 'black')\n",
    "plt.plot([0, 10], [-1.92, -1.92], 'k--')\n",
    "# plt.plot([rmin, rmin], [-5, 0], 'k--')\n",
    "# plt.plot([rmax, rmax], [-5, 0], 'k--')\n",
    "\n",
    "for i, profile in profiles_recent.iteritems():\n",
    "    plt.plot(profile[0], -sp.array(profile[1]), color = colorcycle[i+1])\n",
    "\n",
    "plt.show()"
   ]
  },
  {
   "cell_type": "markdown",
   "metadata": {},
   "source": [
    "### Plot of artifial data results for thesis"
   ]
  },
  {
   "cell_type": "code",
   "execution_count": null,
   "metadata": {
    "ExecuteTime": {
     "end_time": "2018-01-05T17:22:30.765579Z",
     "start_time": "2018-01-05T17:21:16.565Z"
    }
   },
   "outputs": [],
   "source": [
    "lineStyles = ['-', '--', '-.', ':']\n",
    "\n",
    "new_artifical_data = artificial_data.loc[artificial_data.index.difference(hepatocyte_data.reset_index().index)]\n",
    "new_artifical_data_recent = artificial_data_recent.loc[artificial_data_recent.index.difference(hepatocyte_data.reset_index().index)]\n",
    "\n",
    "%config InlineBackend.figure_format = 'png'\n",
    "fig, ax = plt.subplots(2, 2, figsize = (160/25.4,4))\n",
    "\n",
    "pcm = ax[0,0].pcolormesh(birth_times, death_times, C14_diff, cmap = 'viridis', shading = 'gourad')\n",
    "ax[0,0].scatter(new_artifical_data_recent['Dbirth'].values, new_artifical_data_recent['Dcoll'].values,\n",
    "                marker = '+', c = colorcycle[1])\n",
    "ax[0,0].scatter(new_artifical_data['Dbirth'].values, new_artifical_data['Dcoll'].values,\n",
    "                marker = '+', c = colorcycle[7])\n",
    "ax[0,0].scatter(hepatocyte_data['Dbirth'].values, hepatocyte_data['Dcoll'].values, marker = '+', c = 'white')\n",
    "ax[0,0].set_xlabel('Year of birth')\n",
    "ax[0,0].set_ylabel('Year of death', labelpad=10)\n",
    "cb = fig.colorbar(pcm, ax=ax[0,0])\n",
    "cb.set_label(u'Difference in Δ14C', labelpad = 10)\n",
    "ax[0,0].set_xlim(time_min, time_max)\n",
    "ax[0,0].set_ylim(time_min, time_max)\n",
    "ax[0,0].set_xticks(sp.arange(time_min, time_max, 20))\n",
    "ax[0,0].set_xticks(sp.arange(time_min+10, time_max, 20), minor = True)\n",
    "ax[0,0].set_yticks(sp.arange(time_min, time_max, 20))\n",
    "ax[0,0].set_yticks(sp.arange(time_min+10, time_max, 20), minor = True)\n",
    "# ax[0,0].add_patch(patches.Rectangle((1910, 2012), 100, 1, fill=False, color=colorcycle[1]))\n",
    "# ax[0,0].add_patch(patches.Rectangle((1910, 1961), 50, 9, fill=False, color=colorcycle[2]))\n",
    "\n",
    "\n",
    "artificial_data = test_datasets[1]\n",
    "msize = 5\n",
    "time = sp.linspace(1910.0, 2015.0, 1000)\n",
    "ax[0,1].plot(time, K(time), label = 'Atmosphere                    ', color = 'black')\n",
    "ax[0,1].scatter(hepatocyte_data['Dbirth'], hepatocyte_data['d14C'], \n",
    "                color = 'black', label = 'Neuronal DNA                        ', s = msize)\n",
    "ax[0,1].scatter(new_artifical_data_recent['Dbirth'], new_artifical_data_recent['d14C'], \n",
    "                color = colorcycle[1], label = 'Artifical data 1', s = msize)\n",
    "ax[0,1].scatter(new_artifical_data['Dbirth'], new_artifical_data['d14C'], \n",
    "                color = colorcycle[7], label = 'Artifical data 2     ', s = msize)\n",
    "\n",
    "\n",
    "ax[0,1].set_xlim((1909, 2011))\n",
    "ax[0,1].set_ylim(-0.1, 0.9)\n",
    "ax[0,1].set_xticks(sp.linspace(1910, 2010, 6), minor = 1)\n",
    "ax[0,1].legend(loc='upper left', scatterpoints = 1)\n",
    "ax[0,1].set_xlabel('Calendar year')\n",
    "ax[0,1].set_ylabel(u'Δ14C')\n",
    "\n",
    "ax[1,0].set_title('Artificial data 1', fontsize = 8)\n",
    "ax[1,0].set_xlim(0.1, 1.5)\n",
    "ax[1,0].set_ylim(-2.5, 0)\n",
    "ax[1,0].set_xlabel('Turnover rate, r (per year)')\n",
    "ax[1,0].set_ylabel(u'Δln L')\n",
    "ax[1,0].plot(profile_r_2POP[0], -sp.array(profile_r_2POP[-1]), 'black')\n",
    "# ax[1,0].plot(rs, -(neglogL-M_2POP.fval), 'black')\n",
    "ax[1,0].plot([0, 10], [-1.92, -1.92], 'k--')\n",
    "for i, profile in profiles_recent.iteritems():\n",
    "    ax[1,0].plot(profile[0], -sp.array(profile[1]), color = colorcycle[1], ls = lineStyles[len(profile) - i])\n",
    "    if i == len(lineStyles):\n",
    "        break\n",
    "    \n",
    "ax[1,1].set_title('Artificial data 2', fontsize = 8)\n",
    "ax[1,1].set_xlim(0.1, 1.5)\n",
    "ax[1,1].set_ylim(-2.5, 0)\n",
    "ax[1,1].set_xlabel('Turnover rate, r (per year)')\n",
    "ax[1,1].set_ylabel(u'Δln L')\n",
    "ax[1,1].plot(profile_r_2POP[0], -sp.array(profile_r_2POP[1]), 'black')\n",
    "# ax[1,1].plot(rs, -(neglogL-M_2POP.fval), 'black')\n",
    "ax[1,1].plot([0, 10], [-1.92, -1.92], 'k--')\n",
    "for i, profile in profiles.iteritems():\n",
    "    ax[1,1].plot(profile[0], -sp.array(profile[1]), color = colorcycle[7], ls = lineStyles[i-1])\n",
    "    if i == len(lineStyles):\n",
    "        break\n",
    "\n",
    "plt.tight_layout()\n",
    "\n",
    "exportname = 'c14_add_data'\n",
    "plt.savefig('{}.svg'.format(exportname))\n",
    "os.system('inkscape -D -z --file={0}.svg --export-pdf={0}.pdf'.format(exportname))\n",
    "\n",
    "\n",
    "plt.show()"
   ]
  },
  {
   "cell_type": "code",
   "execution_count": null,
   "metadata": {},
   "outputs": [],
   "source": []
  }
 ],
 "metadata": {
  "anaconda-cloud": {},
  "kernelspec": {
   "display_name": "Python [conda env:py3]",
   "language": "python",
   "name": "conda-env-py3-py"
  },
  "language_info": {
   "codemirror_mode": {
    "name": "ipython",
    "version": 3
   },
   "file_extension": ".py",
   "mimetype": "text/x-python",
   "name": "python",
   "nbconvert_exporter": "python",
   "pygments_lexer": "ipython3",
   "version": "3.6.3"
  },
  "notify_time": "30",
  "toc": {
   "nav_menu": {
    "height": "251px",
    "width": "252px"
   },
   "number_sections": true,
   "sideBar": true,
   "skip_h1_title": false,
   "toc_cell": false,
   "toc_position": {
    "height": "913px",
    "left": "0px",
    "right": "1708px",
    "top": "111px",
    "width": "212px"
   },
   "toc_section_display": "block",
   "toc_window_display": true
  }
 },
 "nbformat": 4,
 "nbformat_minor": 1
}
