{
 "cells": [
  {
   "cell_type": "code",
   "execution_count": 2,
   "metadata": {
    "ExecuteTime": {
     "end_time": "2017-12-15T12:17:41.188602Z",
     "start_time": "2017-12-15T12:17:31.393623Z"
    }
   },
   "outputs": [
    {
     "name": "stdout",
     "output_type": "stream",
     "text": [
      "The line_profiler extension is already loaded. To reload it, use:\n",
      "  %reload_ext line_profiler\n"
     ]
    }
   ],
   "source": [
    "from __future__ import print_function\n",
    "import copy\n",
    "# import cProfile, pstats, StringIO\n",
    "import iminuit\n",
    "# %load_ext ipycache\n",
    "%load_ext line_profiler\n",
    "import matplotlib\n",
    "import matplotlib.pyplot as plt\n",
    "import matplotlib.patches as patches\n",
    "%matplotlib inline\n",
    "from mpl_toolkits.axes_grid1.inset_locator import inset_axes, zoomed_inset_axes\n",
    "from multiprocessing import Pool\n",
    "import numba\n",
    "import numpy as np\n",
    "import os\n",
    "import pandas as pd\n",
    "import pymp\n",
    "import random\n",
    "import scipy as sp\n",
    "from scipy import optimize\n",
    "from scipy import stats\n",
    "import seaborn as sns\n",
    "sns.set_style('darkgrid')\n",
    "sns.set_context('notebook')"
   ]
  },
  {
   "cell_type": "code",
   "execution_count": 3,
   "metadata": {
    "ExecuteTime": {
     "end_time": "2017-12-15T12:17:42.025123Z",
     "start_time": "2017-12-15T12:17:41.193764Z"
    }
   },
   "outputs": [
    {
     "name": "stderr",
     "output_type": "stream",
     "text": [
      "/Users/fabrost/work/C14_liver/atm_c14_data.py:32: FutureWarning: 'argmax' is deprecated. Use 'idxmax' instead. The behavior of 'argmax' will be corrected to return the positional maximum in the future. Use 'series.values.argmax' to get the position of the maximum now.\n",
      "  last_c14 = c14_data['d14C'].loc[c14_data['year'].argmax()]\n"
     ]
    }
   ],
   "source": [
    "import atm_c14_data\n",
    "import c14_models\n",
    "import c14_individuals_data\n",
    "\n",
    "# reload(atm_c14_data)\n",
    "# reload(c14_models)\n",
    "# reload(c14_individuals_data);"
   ]
  },
  {
   "cell_type": "code",
   "execution_count": 4,
   "metadata": {
    "ExecuteTime": {
     "end_time": "2017-12-15T12:17:42.030821Z",
     "start_time": "2017-12-15T12:17:42.026743Z"
    },
    "collapsed": true
   },
   "outputs": [],
   "source": [
    "def CI(M, p):\n",
    "    value = M.values[p]\n",
    "    lower = M.get_merrors()[p]['lower']\n",
    "    upper = M.get_merrors()[p]['upper']\n",
    "    return value + lower, value + upper"
   ]
  },
  {
   "cell_type": "code",
   "execution_count": 5,
   "metadata": {
    "ExecuteTime": {
     "end_time": "2017-12-15T12:17:42.041361Z",
     "start_time": "2017-12-15T12:17:42.032369Z"
    },
    "collapsed": true
   },
   "outputs": [],
   "source": [
    "Klag = atm_c14_data.Klag\n",
    "K = atm_c14_data.K\n",
    "C = c14_models.C_scenario_A\n",
    "C2 = c14_models.C_scenario_2POP"
   ]
  },
  {
   "cell_type": "code",
   "execution_count": 6,
   "metadata": {
    "ExecuteTime": {
     "end_time": "2017-12-15T12:17:42.050685Z",
     "start_time": "2017-12-15T12:17:42.042941Z"
    },
    "collapsed": true
   },
   "outputs": [],
   "source": [
    "c14_patient_data = c14_individuals_data.c14_individual_data"
   ]
  },
  {
   "cell_type": "code",
   "execution_count": 7,
   "metadata": {
    "ExecuteTime": {
     "end_time": "2017-12-15T12:17:42.077360Z",
     "start_time": "2017-12-15T12:17:42.052171Z"
    }
   },
   "outputs": [
    {
     "data": {
      "text/html": [
       "<div>\n",
       "<style scoped>\n",
       "    .dataframe tbody tr th:only-of-type {\n",
       "        vertical-align: middle;\n",
       "    }\n",
       "\n",
       "    .dataframe tbody tr th {\n",
       "        vertical-align: top;\n",
       "    }\n",
       "\n",
       "    .dataframe thead th {\n",
       "        text-align: right;\n",
       "    }\n",
       "</style>\n",
       "<table border=\"1\" class=\"dataframe\">\n",
       "  <thead>\n",
       "    <tr style=\"text-align: right;\">\n",
       "      <th></th>\n",
       "      <th>Dbirth</th>\n",
       "      <th>Dcoll</th>\n",
       "      <th>d14C</th>\n",
       "      <th>mass</th>\n",
       "    </tr>\n",
       "  </thead>\n",
       "  <tbody>\n",
       "    <tr>\n",
       "      <th>count</th>\n",
       "      <td>19.000000</td>\n",
       "      <td>19.000000</td>\n",
       "      <td>19.000000</td>\n",
       "      <td>19.0</td>\n",
       "    </tr>\n",
       "    <tr>\n",
       "      <th>mean</th>\n",
       "      <td>1964.021930</td>\n",
       "      <td>2015.605263</td>\n",
       "      <td>0.043114</td>\n",
       "      <td>1.0</td>\n",
       "    </tr>\n",
       "    <tr>\n",
       "      <th>std</th>\n",
       "      <td>20.059938</td>\n",
       "      <td>3.810909</td>\n",
       "      <td>0.021048</td>\n",
       "      <td>0.0</td>\n",
       "    </tr>\n",
       "    <tr>\n",
       "      <th>min</th>\n",
       "      <td>1932.583333</td>\n",
       "      <td>2004.833333</td>\n",
       "      <td>0.017700</td>\n",
       "      <td>1.0</td>\n",
       "    </tr>\n",
       "    <tr>\n",
       "      <th>25%</th>\n",
       "      <td>1946.166667</td>\n",
       "      <td>2016.458333</td>\n",
       "      <td>0.027331</td>\n",
       "      <td>1.0</td>\n",
       "    </tr>\n",
       "    <tr>\n",
       "      <th>50%</th>\n",
       "      <td>1964.000000</td>\n",
       "      <td>2016.750000</td>\n",
       "      <td>0.039600</td>\n",
       "      <td>1.0</td>\n",
       "    </tr>\n",
       "    <tr>\n",
       "      <th>75%</th>\n",
       "      <td>1981.250000</td>\n",
       "      <td>2017.125000</td>\n",
       "      <td>0.051000</td>\n",
       "      <td>1.0</td>\n",
       "    </tr>\n",
       "    <tr>\n",
       "      <th>max</th>\n",
       "      <td>1995.333333</td>\n",
       "      <td>2017.416667</td>\n",
       "      <td>0.090351</td>\n",
       "      <td>1.0</td>\n",
       "    </tr>\n",
       "  </tbody>\n",
       "</table>\n",
       "</div>"
      ],
      "text/plain": [
       "            Dbirth        Dcoll       d14C  mass\n",
       "count    19.000000    19.000000  19.000000  19.0\n",
       "mean   1964.021930  2015.605263   0.043114   1.0\n",
       "std      20.059938     3.810909   0.021048   0.0\n",
       "min    1932.583333  2004.833333   0.017700   1.0\n",
       "25%    1946.166667  2016.458333   0.027331   1.0\n",
       "50%    1964.000000  2016.750000   0.039600   1.0\n",
       "75%    1981.250000  2017.125000   0.051000   1.0\n",
       "max    1995.333333  2017.416667   0.090351   1.0"
      ]
     },
     "execution_count": 7,
     "metadata": {},
     "output_type": "execute_result"
    }
   ],
   "source": [
    "hepatocyte_data = c14_individuals_data.c14_individual_data.query('type == \"hepatocyte\"')\n",
    "hepatocyte_data.describe()"
   ]
  },
  {
   "cell_type": "markdown",
   "metadata": {},
   "source": [
    "## Scenario L"
   ]
  },
  {
   "cell_type": "markdown",
   "metadata": {},
   "source": [
    "### The model"
   ]
  },
  {
   "cell_type": "code",
   "execution_count": 8,
   "metadata": {
    "ExecuteTime": {
     "end_time": "2017-12-15T12:17:42.193091Z",
     "start_time": "2017-12-15T12:17:42.078841Z"
    },
    "collapsed": true
   },
   "outputs": [],
   "source": [
    "@numba.njit\n",
    "def C_atm(x):\n",
    "    x -=1\n",
    "    xp = np.array([ 1891.5, 1892.5, 1893.5, 1894.5, 1895.5, 1896.5, 1897.5, 1898.5, 1899.5, 1900.5, 1901.5, 1902.5, 1903.5, 1904.5, 1905.5, 1906.5, 1907.5, 1908.5, 1909.5, 1910.5, 1911.5, 1912.5, 1913.5, 1914.5, 1915.5, 1916.5, 1917.5, 1918.5, 1919.5, 1920.5, 1921.5, 1922.5, 1923.5, 1924.5, 1925.5, 1926.5, 1927.5, 1928.5, 1929.5, 1930.5, 1931.5, 1932.5, 1933.5, 1934.5, 1935.5, 1936.5, 1937.5, 1938.5, 1939.5, 1940.5, 1941.5, 1942.5, 1943.5, 1944.5, 1945.5, 1946.5, 1947.5, 1948.5, 1949.5, 1950.5, 1951.5, 1952.5, 1953.5, 1954.5, 1955.5, 1956.5, 1957.5, 1958.5, 1959.5, 1960.5, 1961.5, 1962.5, 1963.5, 1964.5, 1965.5, 1966.5, 1967.5, 1968.5, 1969.5, 1970.5, 1971.5, 1972.5, 1973.5, 1974.5, 1975.5, 1976.5, 1977.5, 1978.5, 1979.5, 1980.5, 1981.5, 1982.5, 1983.5, 1984.5, 1985.5, 1986.5, 1987.5, 1988.5, 1989.5, 1990.5, 1991.5, 1992.5, 1993.5, 1994.5, 1995.5, 1996.5, 1997.5, 1998.5, 1999.5, 2000.5, 2001.5, 2002.5, 2003.5, 2003.963938,  2004.421821,  2004.879704, 2005.337587,  2005.79547 ,  2006.253353,  2006.711236, 2007.169119,  2007.627002,  2008.084885,  2008.542768, 2009.000651,  2009.458534,  2009.916417,  2010.3743  , 2010.3743  ,  2010.626   ,  2011.125   ,  2011.626   , 2012.125   ,  2012.626   ,  2013.125   ,  2013.626   , 2014.125   ,  2014.626   ,  2015.125   ,  2015.625   , 2016.125   ,  2016.625   ,  2020.      ])\n",
    "    fp = np.array([-0.002     , -0.002     , -0.002     , -0.002     , -0.002     , -0.00233   , -0.00267   , -0.003     , -0.00333   , -0.00367   , -0.004     , -0.00433   , -0.00467   , -0.005     , -0.00533   , -0.00567   , -0.006     , -0.00633   , -0.00667   , -0.007     , -0.00733   , -0.00767   , -0.008     , -0.00833   , -0.00867   , -0.009     , -0.00933   , -0.00967   , -0.01      , -0.01033   , -0.01067   , -0.011     , -0.01133   , -0.01167   , -0.012     , -0.01233   , -0.01267   , -0.013     , -0.01333   , -0.01367   , -0.014     , -0.01433   , -0.01467   , -0.015     , -0.01533   , -0.01567   , -0.016     , -0.01633   , -0.01667   , -0.0202    , -0.0194    , -0.0196    , -0.0225    , -0.0217    , -0.0221    , -0.0216    , -0.0211    , -0.0223    , -0.0246    , -0.0248    , -0.0248    , -0.0249    , -0.0239    , -0.0211    , -0.0082    , 0.0265    ,  0.073     ,  0.1402    ,  0.228     ,  0.2123    , 0.2216    ,  0.3585    ,  0.7183    ,  0.8357    ,  0.7563    , 0.6919    ,  0.6236    ,  0.5645    ,  0.5454    ,  0.5291    , 0.4994    ,  0.4656    ,  0.4186    ,  0.4008    ,  0.3698    , 0.3525    ,  0.3339    ,  0.3258    ,  0.2958    ,  0.2645    , 0.2567    ,  0.2383    ,  0.2242    ,  0.2093    ,  0.2013    , 0.1911    ,  0.1826    ,  0.1734    ,  0.1635    ,  0.1525    , 0.1429    ,  0.1364    ,  0.1284    ,  0.1221    ,  0.1155    , 0.1099    ,  0.1043    ,  0.0981    ,  0.09      ,  0.0866    , 0.0807    ,  0.0749    ,  0.0689    ,  0.06349874,  0.06145905, 0.0597412 ,  0.05822747,  0.05641489,  0.05479531,  0.05364811, 0.05205465,  0.05067073,  0.04927897,  0.04788014,  0.04647508, 0.04506462,  0.04364948,  0.04223027,  0.04223027,  0.0403    , 0.0347    ,  0.0371    ,  0.0312    ,  0.0299    ,  0.0193    , 0.0219    ,  0.0182    ,  0.018     ,  0.0116    ,  0.0129    , 0.0096    ,  0.0097    ,  0.0097    ])\n",
    "    \n",
    "    if x<xp[0]:\n",
    "        return fp[0]\n",
    "    elif x>xp[-1]:\n",
    "        return fp[-1]\n",
    "    else:\n",
    "        for i in range(len(xp)):\n",
    "            if x<xp[i]:\n",
    "                break\n",
    "        return fp[i-1] + (fp[i] - fp[i-1]) * (x - xp[i-1]) / (xp[i] - xp[i-1])"
   ]
  },
  {
   "cell_type": "code",
   "execution_count": 9,
   "metadata": {
    "ExecuteTime": {
     "end_time": "2017-12-15T12:17:42.199693Z",
     "start_time": "2017-12-15T12:17:42.194419Z"
    },
    "collapsed": true
   },
   "outputs": [],
   "source": [
    "def C_L1c(Dbirth, Dcoll, r):\n",
    "    def rhs(c, t, r):\n",
    "        return 0.5 * r * (C_atm(t) - c)\n",
    "    def Dfun(c, t0, r):\n",
    "        return -0.5 * r\n",
    "    C = sp.integrate.odeint(rhs, C_atm(Dbirth), np.linspace(Dbirth, Dcoll), args = (r, ), Dfun = Dfun)[-1, 0]\n",
    "    return C"
   ]
  },
  {
   "cell_type": "markdown",
   "metadata": {},
   "source": [
    "### constant sigma"
   ]
  },
  {
   "cell_type": "code",
   "execution_count": 10,
   "metadata": {
    "ExecuteTime": {
     "end_time": "2017-12-15T12:17:42.209972Z",
     "start_time": "2017-12-15T12:17:42.200896Z"
    }
   },
   "outputs": [
    {
     "data": {
      "text/plain": [
       "0.02104804968727416"
      ]
     },
     "execution_count": 10,
     "metadata": {},
     "output_type": "execute_result"
    }
   ],
   "source": [
    "sigma_estimate = hepatocyte_data['d14C'].std()\n",
    "sigma_estimate"
   ]
  },
  {
   "cell_type": "code",
   "execution_count": 11,
   "metadata": {
    "ExecuteTime": {
     "end_time": "2017-12-15T12:17:42.223934Z",
     "start_time": "2017-12-15T12:17:42.211161Z"
    },
    "collapsed": true
   },
   "outputs": [],
   "source": [
    "def neg_loglike_L1(logr, sigma):\n",
    "    r = np.exp(logr)\n",
    "    loglike = 0\n",
    "    for i, dataset in hepatocyte_data.iterrows():\n",
    "        Dbirth = dataset['Dbirth']\n",
    "        Dcoll = dataset['Dcoll']\n",
    "        Cexp = dataset['d14C']\n",
    "        Cmodel = C_L1c(Dbirth, Dcoll, r)\n",
    "        \n",
    "        loglike += sp.stats.norm.logpdf(Cexp, loc=Cmodel, scale=sigma)\n",
    "#     print(logr, r, sigma, loglike)\n",
    "    return -loglike"
   ]
  },
  {
   "cell_type": "code",
   "execution_count": 12,
   "metadata": {
    "ExecuteTime": {
     "end_time": "2017-12-15T12:17:59.583463Z",
     "start_time": "2017-12-15T12:17:51.108432Z"
    }
   },
   "outputs": [
    {
     "data": {
      "text/html": [
       "<hr>"
      ]
     },
     "metadata": {},
     "output_type": "display_data"
    },
    {
     "data": {
      "text/html": [
       "\n",
       "        <table>\n",
       "            <tr>\n",
       "                <td title=\"Minimum value of function\">FCN = -50.676878261671675</td>\n",
       "                <td title=\"Total number of call to FCN so far\">TOTAL NCALL = 52</td>\n",
       "                <td title=\"Number of call in last migrad\">NCALLS = 52</td>\n",
       "            </tr>\n",
       "            <tr>\n",
       "                <td title=\"Estimated distance to minimum\">EDM = 4.430135088457656e-05</td>\n",
       "                <td title=\"Maximum EDM definition of convergence\">GOAL EDM = 5e-06</td>\n",
       "                <td title=\"Error def. Amount of increase in FCN to be defined as 1 standard deviation\">\n",
       "                UP = 0.5</td>\n",
       "            </tr>\n",
       "        </table>\n",
       "        \n",
       "        <table>\n",
       "            <tr>\n",
       "                <td align=\"center\" title=\"Validity of the migrad call\">Valid</td>\n",
       "                <td align=\"center\" title=\"Validity of parameters\">Valid Param</td>\n",
       "                <td align=\"center\" title=\"Is Covariance matrix accurate?\">Accurate Covar</td>\n",
       "                <td align=\"center\" title=\"Positive definiteness of covariance matrix\">PosDef</td>\n",
       "                <td align=\"center\" title=\"Was covariance matrix made posdef by adding diagonal element\">Made PosDef</td>\n",
       "            </tr>\n",
       "            <tr>\n",
       "                <td align=\"center\" style=\"background-color:#92CCA6\">True</td>\n",
       "                <td align=\"center\" style=\"background-color:#92CCA6\">True</td>\n",
       "                <td align=\"center\" style=\"background-color:#92CCA6\">True</td>\n",
       "                <td align=\"center\" style=\"background-color:#92CCA6\">True</td>\n",
       "                <td align=\"center\" style=\"background-color:#92CCA6\">False</td>\n",
       "            </tr>\n",
       "            <tr>\n",
       "                <td align=\"center\" title=\"Was last hesse call fail?\">Hesse Fail</td>\n",
       "                <td align=\"center\" title=\"Validity of covariance\">HasCov</td>\n",
       "                <td align=\"center\" title=\"Is EDM above goal EDM?\">Above EDM</td>\n",
       "                <td align=\"center\"></td>\n",
       "                <td align=\"center\" title=\"Did last migrad call reach max call limit?\">Reach calllim</td>\n",
       "            </tr>\n",
       "            <tr>\n",
       "                <td align=\"center\" style=\"background-color:#92CCA6\">False</td>\n",
       "                <td align=\"center\" style=\"background-color:#92CCA6\">True</td>\n",
       "                <td align=\"center\" style=\"background-color:#92CCA6\">False</td>\n",
       "                <td align=\"center\"></td>\n",
       "                <td align=\"center\" style=\"background-color:#92CCA6\">False</td>\n",
       "            </tr>\n",
       "        </table>\n",
       "        "
      ]
     },
     "metadata": {},
     "output_type": "display_data"
    },
    {
     "data": {
      "text/html": [
       "\n",
       "        <table>\n",
       "            <tr>\n",
       "                <td><a href=\"#\" onclick=\"$('#bVvhDUYGkn').toggle()\">+</a></td>\n",
       "                <td title=\"Variable name\">Name</td>\n",
       "                <td title=\"Value of parameter\">Value</td>\n",
       "                <td title=\"Parabolic error\">Parab Error</td>\n",
       "                <td title=\"Minos lower error\">Minos Error-</td>\n",
       "                <td title=\"Minos upper error\">Minos Error+</td>\n",
       "                <td title=\"Lower limit of the parameter\">Limit-</td>\n",
       "                <td title=\"Upper limit of the parameter\">Limit+</td>\n",
       "                <td title=\"Is the parameter fixed in the fit\">FIXED</td>\n",
       "            </tr>\n",
       "        \n",
       "            <tr>\n",
       "                <td>1</td>\n",
       "                <td>logr</td>\n",
       "                <td>-0.915684</td>\n",
       "                <td>0.0183702</td>\n",
       "                <td>0</td>\n",
       "                <td>0</td>\n",
       "                <td>-100.0</td>\n",
       "                <td>100.0</td>\n",
       "                <td></td>\n",
       "            </tr>\n",
       "            \n",
       "            <tr>\n",
       "                <td>2</td>\n",
       "                <td>sigma</td>\n",
       "                <td>0.0168115</td>\n",
       "                <td>0.00272844</td>\n",
       "                <td>0</td>\n",
       "                <td>0</td>\n",
       "                <td>0.0</td>\n",
       "                <td></td>\n",
       "                <td></td>\n",
       "            </tr>\n",
       "            \n",
       "            </table>\n",
       "        \n",
       "            <pre id=\"bVvhDUYGkn\" style=\"display:none;\">\n",
       "            <textarea rows=\"10\" cols=\"50\" onclick=\"this.select()\" readonly>\\begin{tabular}{|c|r|r|r|r|r|r|r|c|}\n",
       "\\hline\n",
       " & Name & Value & Para Error & Error+ & Error- & Limit+ & Limit- & FIXED\\\\\n",
       "\\hline\n",
       "1 & logr & -9.157e-01 & 1.837e-02 &  &  & -1.000e+02 & 1.000e+02 & \\\\\n",
       "\\hline\n",
       "2 & $\\sigma$ & 1.681e-02 & 2.728e-03 &  &  & 0.000e+00 & 0.000e+00 & \\\\\n",
       "\\hline\n",
       "\\end{tabular}</textarea>\n",
       "            </pre>\n",
       "            "
      ]
     },
     "metadata": {},
     "output_type": "display_data"
    },
    {
     "data": {
      "text/html": [
       "<hr>"
      ]
     },
     "metadata": {},
     "output_type": "display_data"
    }
   ],
   "source": [
    "M_L1 = iminuit.Minuit(neg_loglike_L1, errordef = 0.5,\\\n",
    "           logr = -0.8, error_logr = 0.1, limit_logr = (-1e2, 1e2), fix_logr = False,\\\n",
    "           sigma = 0.0163, error_sigma = sigma_estimate / 10.0, limit_sigma = (0.0, None), fix_sigma = False,\\\n",
    "           print_level = 1)\n",
    "M_L1.migrad();"
   ]
  },
  {
   "cell_type": "code",
   "execution_count": 13,
   "metadata": {
    "collapsed": true
   },
   "outputs": [],
   "source": [
    "C = C_L1c"
   ]
  },
  {
   "cell_type": "code",
   "execution_count": 14,
   "metadata": {},
   "outputs": [
    {
     "data": {
      "image/png": "[encoded data removed]",
      "text/plain": [
       "<matplotlib.figure.Figure at 0x11a764c18>"
      ]
     },
     "metadata": {},
     "output_type": "display_data"
    }
   ],
   "source": [
    "fig, axs = plt.subplots(2, 1, sharex = True, figsize = (12, 8))\n",
    "\n",
    "time = sp.linspace(1910.0, 2020.0, 1000)\n",
    "\n",
    "\n",
    "for ax in axs:\n",
    "    ax.plot(time, K(time), label = 'Atmosphere', color = 'black')\n",
    "\n",
    "    ax.errorbar(hepatocyte_data['Dbirth'], \\\n",
    "               sp.vectorize(C)(hepatocyte_data['Dbirth'], hepatocyte_data['Dcoll'], np.exp(M_L1.values['logr'])), \n",
    "                M_L1.values['sigma'],\n",
    "               color = 'white', ecolor = 'black', label = 'Scenario L1', marker='s', ls = '')\n",
    "\n",
    "\n",
    "    ax.errorbar(hepatocyte_data['Dbirth'], hepatocyte_data['d14C'], \n",
    "            marker = 'o', ls = 'None', color = 'black',\n",
    "               label = 'Hepato DNA (coll after 2015)')\n",
    "    ax.errorbar(hepatocyte_data.query('Dcoll < 2015')['Dbirth'], hepatocyte_data.query('Dcoll < 2015')['d14C'], \n",
    "               marker = 'o', ls = 'None', color = 'red', \n",
    "               label = 'Hepato DNA (coll before 2015)')\n",
    "\n",
    "\n",
    "    ax.set_xlim((1909, 2020))\n",
    "    ax.set_ylim(-0.1, 0.9)\n",
    "    ax.set_xticks(sp.linspace(1910, 2010, 6), minor = 1)\n",
    "    # ax.grid(which='both')\n",
    "    \n",
    "\n",
    "    ax.set_xlabel('Calendar year')\n",
    "    ax.set_ylabel('$\\Delta^{14}$C')\n",
    "\n",
    "axs[0].legend()\n",
    "axs[1].set_ylim(-0.0, 0.15)\n",
    "    \n",
    "plt.savefig('plots/c14_predict_L1.png', bbox_inches='tight', dpi=300)\n",
    "\n",
    "plt.show()"
   ]
  },
  {
   "cell_type": "code",
   "execution_count": 15,
   "metadata": {},
   "outputs": [
    {
     "data": {
      "image/png": "[encoded data removed]",
      "text/plain": [
       "<matplotlib.figure.Figure at 0x113f8d9e8>"
      ]
     },
     "metadata": {},
     "output_type": "display_data"
    }
   ],
   "source": [
    "fig, ax = plt.subplots(figsize = (12, 4))\n",
    "\n",
    "time = sp.linspace(1910.0, 2020.0, 1000)\n",
    "\n",
    "\n",
    "ax.plot(time, K(time), label = 'Atmosphere', color = 'black')\n",
    "\n",
    "ax.errorbar(hepatocyte_data['Dcoll'], \\\n",
    "           sp.vectorize(C)(hepatocyte_data['Dbirth'], hepatocyte_data['Dcoll'], np.exp(M_L1.values['logr'])), \n",
    "            M_L1.values['sigma'],\n",
    "           color = 'white', ecolor = 'black', label = 'Scenario L1', marker='s', ls = '')\n",
    "\n",
    "\n",
    "ax.errorbar(hepatocyte_data['Dcoll'], hepatocyte_data['d14C'], \n",
    "        marker = 'o', ls = 'None', color = 'black',\n",
    "           label = 'Hepato DNA (coll after 2015)')\n",
    "#    ax.errorbar(hepatocyte_data.query('Dcoll < 2015')['Dcoll'], hepatocyte_data.query('Dcoll < 2015')['d14C'], \n",
    "#               marker = 'o', ls = 'None', color = 'red', \n",
    "#               label = 'Hepato DNA (coll before 2015)')\n",
    "\n",
    "\n",
    "ax.set_xlim((2000, 2020))\n",
    "ax.set_ylim(-0.1, 0.9)\n",
    "#ax.set_xticks(sp.linspace(1910, 2010, 6), minor = 1)\n",
    "# ax.grid(which='both')\n",
    "\n",
    "\n",
    "ax.set_xlabel('Calendar year')\n",
    "ax.set_ylabel('$\\Delta^{14}$C')\n",
    "\n",
    "ax.legend()\n",
    "ax.set_ylim(-0.0, 0.15)\n",
    "    \n",
    "plt.savefig('plots/c14_predict_L1_coll.png', bbox_inches='tight', dpi=300)\n",
    "\n",
    "plt.show()"
   ]
  },
  {
   "cell_type": "code",
   "execution_count": 16,
   "metadata": {},
   "outputs": [
    {
     "data": {
      "text/html": [
       "\n",
       "        <span>Minos status for logr: <span style=\"background-color:#92CCA6\">VALID</span></span>\n",
       "        <table>\n",
       "            <tr>\n",
       "                <td title=\"lower and upper minos error of the parameter\">Error</td>\n",
       "                <td>-0.1294186393461066</td>\n",
       "                <td>0.15457636786346382</td>\n",
       "            </tr>\n",
       "            <tr>\n",
       "                <td title=\"Validity of minos error\">Valid</td>\n",
       "                <td style=\"background-color:#92CCA6\">True</td>\n",
       "                <td style=\"background-color:#92CCA6\">True</td>\n",
       "            </tr>\n",
       "            <tr>\n",
       "                <td title=\"Did minos error search hit limit of any paramter?\">At Limit</td>\n",
       "                <td style=\"background-color:#92CCA6\">False</td>\n",
       "                <td style=\"background-color:#92CCA6\">False</td>\n",
       "            </tr>\n",
       "            <tr>\n",
       "                <td title=\"I don't really know what this one means... Post it in issue if you know\">Max FCN</td>\n",
       "                <td style=\"background-color:#92CCA6\">False</td>\n",
       "                <td style=\"background-color:#92CCA6\">False</td>\n",
       "            </tr>\n",
       "            <tr>\n",
       "                <td title=\"New minimum found when doing minos scan.\">New Min</td>\n",
       "                <td style=\"background-color:#92CCA6\">False</td>\n",
       "                <td style=\"background-color:#92CCA6\">False</td>\n",
       "            </tr>\n",
       "        </table>\n",
       "        "
      ]
     },
     "metadata": {},
     "output_type": "display_data"
    },
    {
     "name": "stderr",
     "output_type": "stream",
     "text": [
      "/anaconda3/envs/py3/lib/python3.6/site-packages/scipy/integrate/odepack.py:218: ODEintWarning: Repeated convergence failures (perhaps bad Jacobian or tolerances). Run with full_output = 1 to get quantitative information.\n",
      "  warnings.warn(warning_msg, ODEintWarning)\n"
     ]
    },
    {
     "data": {
      "text/html": [
       "\n",
       "        <span>Minos status for sigma: <span style=\"background-color:#FF7878\">PROBLEM</span></span>\n",
       "        <table>\n",
       "            <tr>\n",
       "                <td title=\"lower and upper minos error of the parameter\">Error</td>\n",
       "                <td>-0.002728438277202816</td>\n",
       "                <td>0.003135971334455159</td>\n",
       "            </tr>\n",
       "            <tr>\n",
       "                <td title=\"Validity of minos error\">Valid</td>\n",
       "                <td style=\"background-color:#FF7878\">False</td>\n",
       "                <td style=\"background-color:#92CCA6\">True</td>\n",
       "            </tr>\n",
       "            <tr>\n",
       "                <td title=\"Did minos error search hit limit of any paramter?\">At Limit</td>\n",
       "                <td style=\"background-color:#92CCA6\">False</td>\n",
       "                <td style=\"background-color:#92CCA6\">False</td>\n",
       "            </tr>\n",
       "            <tr>\n",
       "                <td title=\"I don't really know what this one means... Post it in issue if you know\">Max FCN</td>\n",
       "                <td style=\"background-color:#92CCA6\">False</td>\n",
       "                <td style=\"background-color:#92CCA6\">False</td>\n",
       "            </tr>\n",
       "            <tr>\n",
       "                <td title=\"New minimum found when doing minos scan.\">New Min</td>\n",
       "                <td style=\"background-color:#92CCA6\">False</td>\n",
       "                <td style=\"background-color:#92CCA6\">False</td>\n",
       "            </tr>\n",
       "        </table>\n",
       "        "
      ]
     },
     "metadata": {},
     "output_type": "display_data"
    },
    {
     "data": {
      "text/plain": [
       "{'logr': {'lower': -0.1294186393461066, 'upper': 0.15457636786346382, 'is_valid': True, 'lower_valid': True, 'upper_valid': True, 'at_lower_limit': False, 'at_upper_limit': False, 'at_lower_max_fcn': False, 'at_upper_max_fcn': False, 'lower_new_min': False, 'upper_new_min': False, 'nfcn': 152, 'min': -0.9156836372461612},\n",
       " 'sigma': {'lower': -0.002728438277202816, 'upper': 0.003135971334455159, 'is_valid': False, 'lower_valid': False, 'upper_valid': True, 'at_lower_limit': False, 'at_upper_limit': False, 'at_lower_max_fcn': False, 'at_upper_max_fcn': False, 'lower_new_min': False, 'upper_new_min': False, 'nfcn': 89, 'min': 0.01681149117268599}}"
      ]
     },
     "execution_count": 16,
     "metadata": {},
     "output_type": "execute_result"
    }
   ],
   "source": [
    "M_L1.minos(sigma=1.0)"
   ]
  },
  {
   "cell_type": "code",
   "execution_count": 17,
   "metadata": {},
   "outputs": [
    {
     "data": {
      "text/html": [
       "\n",
       "        <span>Minos status for logr: <span style=\"background-color:#FF7878\">PROBLEM</span></span>\n",
       "        <table>\n",
       "            <tr>\n",
       "                <td title=\"lower and upper minos error of the parameter\">Error</td>\n",
       "                <td>-0.01837022511014652</td>\n",
       "                <td>0.01837022511014652</td>\n",
       "            </tr>\n",
       "            <tr>\n",
       "                <td title=\"Validity of minos error\">Valid</td>\n",
       "                <td style=\"background-color:#FF7878\">False</td>\n",
       "                <td style=\"background-color:#FF7878\">False</td>\n",
       "            </tr>\n",
       "            <tr>\n",
       "                <td title=\"Did minos error search hit limit of any paramter?\">At Limit</td>\n",
       "                <td style=\"background-color:#92CCA6\">False</td>\n",
       "                <td style=\"background-color:#92CCA6\">False</td>\n",
       "            </tr>\n",
       "            <tr>\n",
       "                <td title=\"I don't really know what this one means... Post it in issue if you know\">Max FCN</td>\n",
       "                <td style=\"background-color:#92CCA6\">False</td>\n",
       "                <td style=\"background-color:#92CCA6\">False</td>\n",
       "            </tr>\n",
       "            <tr>\n",
       "                <td title=\"New minimum found when doing minos scan.\">New Min</td>\n",
       "                <td style=\"background-color:#92CCA6\">False</td>\n",
       "                <td style=\"background-color:#92CCA6\">False</td>\n",
       "            </tr>\n",
       "        </table>\n",
       "        "
      ]
     },
     "metadata": {},
     "output_type": "display_data"
    },
    {
     "data": {
      "text/html": [
       "\n",
       "        <span>Minos status for sigma: <span style=\"background-color:#92CCA6\">VALID</span></span>\n",
       "        <table>\n",
       "            <tr>\n",
       "                <td title=\"lower and upper minos error of the parameter\">Error</td>\n",
       "                <td>-0.0041394976002652175</td>\n",
       "                <td>0.006973594014131516</td>\n",
       "            </tr>\n",
       "            <tr>\n",
       "                <td title=\"Validity of minos error\">Valid</td>\n",
       "                <td style=\"background-color:#92CCA6\">True</td>\n",
       "                <td style=\"background-color:#92CCA6\">True</td>\n",
       "            </tr>\n",
       "            <tr>\n",
       "                <td title=\"Did minos error search hit limit of any paramter?\">At Limit</td>\n",
       "                <td style=\"background-color:#92CCA6\">False</td>\n",
       "                <td style=\"background-color:#92CCA6\">False</td>\n",
       "            </tr>\n",
       "            <tr>\n",
       "                <td title=\"I don't really know what this one means... Post it in issue if you know\">Max FCN</td>\n",
       "                <td style=\"background-color:#92CCA6\">False</td>\n",
       "                <td style=\"background-color:#92CCA6\">False</td>\n",
       "            </tr>\n",
       "            <tr>\n",
       "                <td title=\"New minimum found when doing minos scan.\">New Min</td>\n",
       "                <td style=\"background-color:#92CCA6\">False</td>\n",
       "                <td style=\"background-color:#92CCA6\">False</td>\n",
       "            </tr>\n",
       "        </table>\n",
       "        "
      ]
     },
     "metadata": {},
     "output_type": "display_data"
    },
    {
     "data": {
      "text/plain": [
       "{'logr': {'lower': -0.01837022511014652, 'upper': 0.01837022511014652, 'is_valid': False, 'lower_valid': False, 'upper_valid': False, 'at_lower_limit': False, 'at_upper_limit': False, 'at_lower_max_fcn': False, 'at_upper_max_fcn': False, 'lower_new_min': False, 'upper_new_min': False, 'nfcn': 248, 'min': -0.9156836372461612},\n",
       " 'sigma': {'lower': -0.0041394976002652175, 'upper': 0.006973594014131516, 'is_valid': True, 'lower_valid': True, 'upper_valid': True, 'at_lower_limit': False, 'at_upper_limit': False, 'at_lower_max_fcn': False, 'at_upper_max_fcn': False, 'lower_new_min': False, 'upper_new_min': False, 'nfcn': 74, 'min': 0.01681149117268599}}"
      ]
     },
     "execution_count": 17,
     "metadata": {},
     "output_type": "execute_result"
    }
   ],
   "source": [
    "M_L1.minos(sigma=1.92)"
   ]
  },
  {
   "cell_type": "code",
   "execution_count": 18,
   "metadata": {},
   "outputs": [
    {
     "data": {
      "image/png": "[encoded data removed]",
      "text/plain": [
       "<matplotlib.figure.Figure at 0x11b4bb208>"
      ]
     },
     "metadata": {},
     "output_type": "display_data"
    }
   ],
   "source": [
    "M_L1.draw_mnprofile('logr', bound=(-1.2, -0.5), bins=30);"
   ]
  },
  {
   "cell_type": "code",
   "execution_count": 19,
   "metadata": {},
   "outputs": [
    {
     "data": {
      "text/html": [
       "\n",
       "        <table>\n",
       "            <tr>\n",
       "                <td><a href=\"#\" onclick=\"$('#GmYqgazgTq').toggle()\">+</a></td>\n",
       "                <td title=\"Variable name\">Name</td>\n",
       "                <td title=\"Value of parameter\">Value</td>\n",
       "                <td title=\"Parabolic error\">Parab Error</td>\n",
       "                <td title=\"Minos lower error\">Minos Error-</td>\n",
       "                <td title=\"Minos upper error\">Minos Error+</td>\n",
       "                <td title=\"Lower limit of the parameter\">Limit-</td>\n",
       "                <td title=\"Upper limit of the parameter\">Limit+</td>\n",
       "                <td title=\"Is the parameter fixed in the fit\">FIXED</td>\n",
       "            </tr>\n",
       "        \n",
       "            <tr>\n",
       "                <td>1</td>\n",
       "                <td>logr</td>\n",
       "                <td>-0.915684</td>\n",
       "                <td>0.0183702</td>\n",
       "                <td>-0.0183702</td>\n",
       "                <td>0.0183702</td>\n",
       "                <td>-100.0</td>\n",
       "                <td>100.0</td>\n",
       "                <td></td>\n",
       "            </tr>\n",
       "            \n",
       "            <tr>\n",
       "                <td>2</td>\n",
       "                <td>sigma</td>\n",
       "                <td>0.0168115</td>\n",
       "                <td>0.00272844</td>\n",
       "                <td>-0.0041395</td>\n",
       "                <td>0.00697359</td>\n",
       "                <td>0.0</td>\n",
       "                <td></td>\n",
       "                <td></td>\n",
       "            </tr>\n",
       "            \n",
       "            </table>\n",
       "        \n",
       "            <pre id=\"GmYqgazgTq\" style=\"display:none;\">\n",
       "            <textarea rows=\"10\" cols=\"50\" onclick=\"this.select()\" readonly>\\begin{tabular}{|c|r|r|r|r|r|r|r|c|}\n",
       "\\hline\n",
       " & Name & Value & Para Error & Error+ & Error- & Limit+ & Limit- & FIXED\\\\\n",
       "\\hline\n",
       "1 & logr & -9.157e-01 & 1.837e-02 & -1.837e-02 & 1.837e-02 & -1.000e+02 & 1.000e+02 & \\\\\n",
       "\\hline\n",
       "2 & $\\sigma$ & 1.681e-02 & 2.728e-03 & -4.139e-03 & 6.974e-03 & 0.000e+00 & 0.000e+00 & \\\\\n",
       "\\hline\n",
       "\\end{tabular}</textarea>\n",
       "            </pre>\n",
       "            "
      ]
     },
     "metadata": {},
     "output_type": "display_data"
    }
   ],
   "source": [
    "M_L1.print_param()"
   ]
  },
  {
   "cell_type": "code",
   "execution_count": 20,
   "metadata": {},
   "outputs": [
    {
     "name": "stderr",
     "output_type": "stream",
     "text": [
      "/anaconda3/envs/py3/lib/python3.6/site-packages/ipykernel/__main__.py:1: UserWarning: Migrad fails to converge for sigma=0.013236\n",
      "  if __name__ == '__main__':\n",
      "/anaconda3/envs/py3/lib/python3.6/site-packages/ipykernel/__main__.py:1: UserWarning: Migrad fails to converge for sigma=0.016623\n",
      "  if __name__ == '__main__':\n",
      "/anaconda3/envs/py3/lib/python3.6/site-packages/ipykernel/__main__.py:1: UserWarning: Migrad fails to converge for sigma=0.017000\n",
      "  if __name__ == '__main__':\n",
      "/anaconda3/envs/py3/lib/python3.6/site-packages/ipykernel/__main__.py:1: UserWarning: Migrad fails to converge for sigma=0.017376\n",
      "  if __name__ == '__main__':\n",
      "/anaconda3/envs/py3/lib/python3.6/site-packages/ipykernel/__main__.py:1: UserWarning: Migrad fails to converge for sigma=0.017752\n",
      "  if __name__ == '__main__':\n",
      "/anaconda3/envs/py3/lib/python3.6/site-packages/ipykernel/__main__.py:1: UserWarning: Migrad fails to converge for sigma=0.018129\n",
      "  if __name__ == '__main__':\n",
      "/anaconda3/envs/py3/lib/python3.6/site-packages/ipykernel/__main__.py:1: UserWarning: Migrad fails to converge for sigma=0.018881\n",
      "  if __name__ == '__main__':\n",
      "/anaconda3/envs/py3/lib/python3.6/site-packages/ipykernel/__main__.py:1: UserWarning: Migrad fails to converge for sigma=0.019258\n",
      "  if __name__ == '__main__':\n"
     ]
    },
    {
     "data": {
      "image/png": "[encoded data removed]",
      "text/plain": [
       "<matplotlib.figure.Figure at 0x11a7a2908>"
      ]
     },
     "metadata": {},
     "output_type": "display_data"
    }
   ],
   "source": [
    "M_L1.draw_mnprofile('sigma');"
   ]
  },
  {
   "cell_type": "markdown",
   "metadata": {},
   "source": [
    "## Scenario A"
   ]
  },
  {
   "cell_type": "markdown",
   "metadata": {},
   "source": [
    "### Constant sigma"
   ]
  },
  {
   "cell_type": "code",
   "execution_count": 21,
   "metadata": {},
   "outputs": [
    {
     "data": {
      "text/plain": [
       "0.02104804968727416"
      ]
     },
     "execution_count": 21,
     "metadata": {},
     "output_type": "execute_result"
    }
   ],
   "source": [
    "sigma_estimate = hepatocyte_data['d14C'].std()\n",
    "sigma_estimate"
   ]
  },
  {
   "cell_type": "code",
   "execution_count": 22,
   "metadata": {
    "collapsed": true
   },
   "outputs": [],
   "source": [
    "def neg_loglike_A(logr, sigma):\n",
    "    r = np.exp(logr)\n",
    "    loglike = 0\n",
    "    for i, dataset in hepatocyte_data.iterrows():\n",
    "        Dbirth = dataset['Dbirth']\n",
    "        Dcoll = dataset['Dcoll']\n",
    "        Cexp = dataset['d14C']\n",
    "        Cmodel = C(Dbirth, Dcoll, r)\n",
    "        \n",
    "        loglike += sp.stats.norm.logpdf(Cexp, loc=Cmodel, scale=sigma)\n",
    "    return -loglike"
   ]
  },
  {
   "cell_type": "code",
   "execution_count": 23,
   "metadata": {},
   "outputs": [
    {
     "data": {
      "text/html": [
       "<hr>"
      ]
     },
     "metadata": {},
     "output_type": "display_data"
    },
    {
     "data": {
      "text/html": [
       "\n",
       "        <table>\n",
       "            <tr>\n",
       "                <td title=\"Minimum value of function\">FCN = -50.67686553060637</td>\n",
       "                <td title=\"Total number of call to FCN so far\">TOTAL NCALL = 70</td>\n",
       "                <td title=\"Number of call in last migrad\">NCALLS = 70</td>\n",
       "            </tr>\n",
       "            <tr>\n",
       "                <td title=\"Estimated distance to minimum\">EDM = 2.502629089459846e-06</td>\n",
       "                <td title=\"Maximum EDM definition of convergence\">GOAL EDM = 5e-06</td>\n",
       "                <td title=\"Error def. Amount of increase in FCN to be defined as 1 standard deviation\">\n",
       "                UP = 0.5</td>\n",
       "            </tr>\n",
       "        </table>\n",
       "        \n",
       "        <table>\n",
       "            <tr>\n",
       "                <td align=\"center\" title=\"Validity of the migrad call\">Valid</td>\n",
       "                <td align=\"center\" title=\"Validity of parameters\">Valid Param</td>\n",
       "                <td align=\"center\" title=\"Is Covariance matrix accurate?\">Accurate Covar</td>\n",
       "                <td align=\"center\" title=\"Positive definiteness of covariance matrix\">PosDef</td>\n",
       "                <td align=\"center\" title=\"Was covariance matrix made posdef by adding diagonal element\">Made PosDef</td>\n",
       "            </tr>\n",
       "            <tr>\n",
       "                <td align=\"center\" style=\"background-color:#92CCA6\">True</td>\n",
       "                <td align=\"center\" style=\"background-color:#92CCA6\">True</td>\n",
       "                <td align=\"center\" style=\"background-color:#92CCA6\">True</td>\n",
       "                <td align=\"center\" style=\"background-color:#92CCA6\">True</td>\n",
       "                <td align=\"center\" style=\"background-color:#92CCA6\">False</td>\n",
       "            </tr>\n",
       "            <tr>\n",
       "                <td align=\"center\" title=\"Was last hesse call fail?\">Hesse Fail</td>\n",
       "                <td align=\"center\" title=\"Validity of covariance\">HasCov</td>\n",
       "                <td align=\"center\" title=\"Is EDM above goal EDM?\">Above EDM</td>\n",
       "                <td align=\"center\"></td>\n",
       "                <td align=\"center\" title=\"Did last migrad call reach max call limit?\">Reach calllim</td>\n",
       "            </tr>\n",
       "            <tr>\n",
       "                <td align=\"center\" style=\"background-color:#92CCA6\">False</td>\n",
       "                <td align=\"center\" style=\"background-color:#92CCA6\">True</td>\n",
       "                <td align=\"center\" style=\"background-color:#92CCA6\">False</td>\n",
       "                <td align=\"center\"></td>\n",
       "                <td align=\"center\" style=\"background-color:#92CCA6\">False</td>\n",
       "            </tr>\n",
       "        </table>\n",
       "        "
      ]
     },
     "metadata": {},
     "output_type": "display_data"
    },
    {
     "data": {
      "text/html": [
       "\n",
       "        <table>\n",
       "            <tr>\n",
       "                <td><a href=\"#\" onclick=\"$('#MHsQbhNzSk').toggle()\">+</a></td>\n",
       "                <td title=\"Variable name\">Name</td>\n",
       "                <td title=\"Value of parameter\">Value</td>\n",
       "                <td title=\"Parabolic error\">Parab Error</td>\n",
       "                <td title=\"Minos lower error\">Minos Error-</td>\n",
       "                <td title=\"Minos upper error\">Minos Error+</td>\n",
       "                <td title=\"Lower limit of the parameter\">Limit-</td>\n",
       "                <td title=\"Upper limit of the parameter\">Limit+</td>\n",
       "                <td title=\"Is the parameter fixed in the fit\">FIXED</td>\n",
       "            </tr>\n",
       "        \n",
       "            <tr>\n",
       "                <td>1</td>\n",
       "                <td>logr</td>\n",
       "                <td>-0.9154</td>\n",
       "                <td>0.0908423</td>\n",
       "                <td>0</td>\n",
       "                <td>0</td>\n",
       "                <td></td>\n",
       "                <td></td>\n",
       "                <td></td>\n",
       "            </tr>\n",
       "            \n",
       "            <tr>\n",
       "                <td>2</td>\n",
       "                <td>sigma</td>\n",
       "                <td>0.016807</td>\n",
       "                <td>0.00272678</td>\n",
       "                <td>0</td>\n",
       "                <td>0</td>\n",
       "                <td>0.0</td>\n",
       "                <td></td>\n",
       "                <td></td>\n",
       "            </tr>\n",
       "            \n",
       "            </table>\n",
       "        \n",
       "            <pre id=\"MHsQbhNzSk\" style=\"display:none;\">\n",
       "            <textarea rows=\"10\" cols=\"50\" onclick=\"this.select()\" readonly>\\begin{tabular}{|c|r|r|r|r|r|r|r|c|}\n",
       "\\hline\n",
       " & Name & Value & Para Error & Error+ & Error- & Limit+ & Limit- & FIXED\\\\\n",
       "\\hline\n",
       "1 & logr & -9.154e-01 & 9.084e-02 &  &  &  &  & \\\\\n",
       "\\hline\n",
       "2 & $\\sigma$ & 1.681e-02 & 2.727e-03 &  &  & 0.000e+00 & 0.000e+00 & \\\\\n",
       "\\hline\n",
       "\\end{tabular}</textarea>\n",
       "            </pre>\n",
       "            "
      ]
     },
     "metadata": {},
     "output_type": "display_data"
    },
    {
     "data": {
      "text/html": [
       "<hr>"
      ]
     },
     "metadata": {},
     "output_type": "display_data"
    }
   ],
   "source": [
    "M_A = iminuit.Minuit(neg_loglike_A, errordef = 0.5,\\\n",
    "           logr = np.log(0.0066), error_logr = np.log(1e-3), fix_logr = False,\\\n",
    "           sigma = sigma_estimate, error_sigma = sigma_estimate / 10.0, limit_sigma = (0.0, None), fix_sigma = False,\\\n",
    "           print_level = 1)\n",
    "M_A.migrad();"
   ]
  },
  {
   "cell_type": "code",
   "execution_count": 24,
   "metadata": {},
   "outputs": [
    {
     "data": {
      "image/png": "[encoded data removed]",
      "text/plain": [
       "<matplotlib.figure.Figure at 0x11a851390>"
      ]
     },
     "metadata": {},
     "output_type": "display_data"
    }
   ],
   "source": [
    "fig, axs = plt.subplots(2, 1, sharex = True, figsize = (6, 8))\n",
    "\n",
    "time = sp.linspace(1910.0, 2020.0, 1000)\n",
    "\n",
    "\n",
    "for ax in axs:\n",
    "    ax.plot(time, K(time), label = 'Atmosphere', color = 'black')\n",
    "\n",
    "    ax.errorbar(hepatocyte_data['Dbirth'], \\\n",
    "               sp.vectorize(C)(hepatocyte_data['Dbirth'], hepatocyte_data['Dcoll'], np.exp(M_A.values['logr'])), M_A.values['sigma'],\n",
    "               color = 'white', ecolor = 'black', label = 'Scenario A', marker='s', ls = '')\n",
    "\n",
    "\n",
    "    ax.errorbar(hepatocyte_data['Dbirth'], hepatocyte_data['d14C'], \n",
    "            marker = 'o', ls = 'None', color = 'black',\n",
    "               label = 'Hepato DNA (coll after 2015)')\n",
    "    ax.errorbar(hepatocyte_data.query('Dcoll < 2015')['Dbirth'], hepatocyte_data.query('Dcoll < 2015')['d14C'], \n",
    "               marker = 'o', ls = 'None', color = 'red', \n",
    "               label = 'Hepato DNA (coll before 2015)')\n",
    "\n",
    "\n",
    "    ax.set_xlim((1909, 2020))\n",
    "    ax.set_ylim(-0.1, 0.9)\n",
    "    ax.set_xticks(sp.linspace(1910, 2010, 6), minor = 1)\n",
    "    # ax.grid(which='both')\n",
    "    \n",
    "\n",
    "    ax.set_xlabel('Calendar year')\n",
    "    ax.set_ylabel('$\\Delta^{14}$C')\n",
    "\n",
    "axs[0].legend()\n",
    "axs[1].set_ylim(-0.0, 0.15)\n",
    "    \n",
    "plt.savefig('c14_predict_A.svg')\n",
    "\n",
    "plt.show()"
   ]
  },
  {
   "cell_type": "code",
   "execution_count": 25,
   "metadata": {},
   "outputs": [
    {
     "data": {
      "text/html": [
       "\n",
       "        <span>Minos status for logr: <span style=\"background-color:#92CCA6\">VALID</span></span>\n",
       "        <table>\n",
       "            <tr>\n",
       "                <td title=\"lower and upper minos error of the parameter\">Error</td>\n",
       "                <td>-0.24044636562487737</td>\n",
       "                <td>0.33996757856452364</td>\n",
       "            </tr>\n",
       "            <tr>\n",
       "                <td title=\"Validity of minos error\">Valid</td>\n",
       "                <td style=\"background-color:#92CCA6\">True</td>\n",
       "                <td style=\"background-color:#92CCA6\">True</td>\n",
       "            </tr>\n",
       "            <tr>\n",
       "                <td title=\"Did minos error search hit limit of any paramter?\">At Limit</td>\n",
       "                <td style=\"background-color:#92CCA6\">False</td>\n",
       "                <td style=\"background-color:#92CCA6\">False</td>\n",
       "            </tr>\n",
       "            <tr>\n",
       "                <td title=\"I don't really know what this one means... Post it in issue if you know\">Max FCN</td>\n",
       "                <td style=\"background-color:#92CCA6\">False</td>\n",
       "                <td style=\"background-color:#92CCA6\">False</td>\n",
       "            </tr>\n",
       "            <tr>\n",
       "                <td title=\"New minimum found when doing minos scan.\">New Min</td>\n",
       "                <td style=\"background-color:#92CCA6\">False</td>\n",
       "                <td style=\"background-color:#92CCA6\">False</td>\n",
       "            </tr>\n",
       "        </table>\n",
       "        "
      ]
     },
     "metadata": {},
     "output_type": "display_data"
    },
    {
     "data": {
      "text/html": [
       "\n",
       "        <span>Minos status for sigma: <span style=\"background-color:#92CCA6\">VALID</span></span>\n",
       "        <table>\n",
       "            <tr>\n",
       "                <td title=\"lower and upper minos error of the parameter\">Error</td>\n",
       "                <td>-0.004134990706093139</td>\n",
       "                <td>0.00697816014226997</td>\n",
       "            </tr>\n",
       "            <tr>\n",
       "                <td title=\"Validity of minos error\">Valid</td>\n",
       "                <td style=\"background-color:#92CCA6\">True</td>\n",
       "                <td style=\"background-color:#92CCA6\">True</td>\n",
       "            </tr>\n",
       "            <tr>\n",
       "                <td title=\"Did minos error search hit limit of any paramter?\">At Limit</td>\n",
       "                <td style=\"background-color:#92CCA6\">False</td>\n",
       "                <td style=\"background-color:#92CCA6\">False</td>\n",
       "            </tr>\n",
       "            <tr>\n",
       "                <td title=\"I don't really know what this one means... Post it in issue if you know\">Max FCN</td>\n",
       "                <td style=\"background-color:#92CCA6\">False</td>\n",
       "                <td style=\"background-color:#92CCA6\">False</td>\n",
       "            </tr>\n",
       "            <tr>\n",
       "                <td title=\"New minimum found when doing minos scan.\">New Min</td>\n",
       "                <td style=\"background-color:#92CCA6\">False</td>\n",
       "                <td style=\"background-color:#92CCA6\">False</td>\n",
       "            </tr>\n",
       "        </table>\n",
       "        "
      ]
     },
     "metadata": {},
     "output_type": "display_data"
    }
   ],
   "source": [
    "M_A.minos(sigma = 1.92);"
   ]
  },
  {
   "cell_type": "code",
   "execution_count": 26,
   "metadata": {},
   "outputs": [
    {
     "data": {
      "text/plain": [
       "array([ 0.31479088,  0.56246139])"
      ]
     },
     "execution_count": 26,
     "metadata": {},
     "output_type": "execute_result"
    }
   ],
   "source": [
    "np.exp(CI(M_A, 'logr'))"
   ]
  },
  {
   "cell_type": "code",
   "execution_count": 27,
   "metadata": {},
   "outputs": [
    {
     "data": {
      "text/plain": [
       "(0.01267196901918199, 0.0237851198675451)"
      ]
     },
     "execution_count": 27,
     "metadata": {},
     "output_type": "execute_result"
    }
   ],
   "source": [
    "CI(M_A, 'sigma')"
   ]
  },
  {
   "cell_type": "code",
   "execution_count": 28,
   "metadata": {},
   "outputs": [
    {
     "data": {
      "image/png": "[encoded data removed]",
      "text/plain": [
       "<matplotlib.figure.Figure at 0x11af0fdd8>"
      ]
     },
     "metadata": {},
     "output_type": "display_data"
    }
   ],
   "source": [
    "M_A.draw_mnprofile('logr');"
   ]
  },
  {
   "cell_type": "code",
   "execution_count": 29,
   "metadata": {},
   "outputs": [
    {
     "name": "stderr",
     "output_type": "stream",
     "text": [
      "/anaconda3/envs/py3/lib/python3.6/site-packages/ipykernel/__main__.py:1: UserWarning: Migrad fails to converge for sigma=0.011353\n",
      "  if __name__ == '__main__':\n",
      "/anaconda3/envs/py3/lib/python3.6/site-packages/ipykernel/__main__.py:1: UserWarning: Migrad fails to converge for sigma=0.012106\n",
      "  if __name__ == '__main__':\n",
      "/anaconda3/envs/py3/lib/python3.6/site-packages/ipykernel/__main__.py:1: UserWarning: Migrad fails to converge for sigma=0.012482\n",
      "  if __name__ == '__main__':\n",
      "/anaconda3/envs/py3/lib/python3.6/site-packages/ipykernel/__main__.py:1: UserWarning: Migrad fails to converge for sigma=0.013234\n",
      "  if __name__ == '__main__':\n",
      "/anaconda3/envs/py3/lib/python3.6/site-packages/ipykernel/__main__.py:1: UserWarning: Migrad fails to converge for sigma=0.013610\n",
      "  if __name__ == '__main__':\n",
      "/anaconda3/envs/py3/lib/python3.6/site-packages/ipykernel/__main__.py:1: UserWarning: Migrad fails to converge for sigma=0.018876\n",
      "  if __name__ == '__main__':\n",
      "/anaconda3/envs/py3/lib/python3.6/site-packages/ipykernel/__main__.py:1: UserWarning: Migrad fails to converge for sigma=0.019252\n",
      "  if __name__ == '__main__':\n"
     ]
    },
    {
     "data": {
      "image/png": "[encoded data removed]",
      "text/plain": [
       "<matplotlib.figure.Figure at 0x11ff5e748>"
      ]
     },
     "metadata": {},
     "output_type": "display_data"
    }
   ],
   "source": [
    "M_A.draw_mnprofile('sigma');"
   ]
  },
  {
   "cell_type": "markdown",
   "metadata": {},
   "source": [
    "### Sigma dependent on mass of sample"
   ]
  },
  {
   "cell_type": "code",
   "execution_count": 30,
   "metadata": {
    "collapsed": true
   },
   "outputs": [],
   "source": [
    "def neg_loglike_A_mass(r, sigma_light, sigma_heavy):\n",
    "    loglike = 0\n",
    "    for i, dataset in hepatocyte_data.iterrows():\n",
    "        Dbirth = dataset['Dbirth']\n",
    "        Dcoll = dataset['Dcoll']\n",
    "        Cexp = dataset['d14C']\n",
    "        Cmodel = C(Dbirth, Dcoll, r)\n",
    "        if dataset['mass'] < 10.0:\n",
    "            sigma = sigma_light\n",
    "        else:\n",
    "            sigma = sigma_heavy\n",
    "        \n",
    "        \n",
    "        loglike += sp.stats.norm.logpdf(Cexp, loc=Cmodel, scale=sigma)\n",
    "    return -loglike"
   ]
  },
  {
   "cell_type": "code",
   "execution_count": 31,
   "metadata": {
    "collapsed": true
   },
   "outputs": [],
   "source": [
    "M_A_mass = iminuit.Minuit(neg_loglike_A_mass, errordef = 0.5,\\\n",
    "                          r = 0.0066, error_r = 1e-3, limit_r = (0.0, None), fix_r = False,\\\n",
    "                          sigma_light = sigma_estimate, error_sigma_light = sigma_estimate / 10.0,\n",
    "                          limit_sigma_light = (0.0, None), fix_sigma_light = False,\n",
    "                          sigma_heavy = sigma_estimate, error_sigma_heavy = sigma_estimate / 10.0,\n",
    "                          limit_sigma_heavy = (0.0, None), fix_sigma_heavy = False,\n",
    "                          print_level = 1)"
   ]
  },
  {
   "cell_type": "code",
   "execution_count": 32,
   "metadata": {},
   "outputs": [
    {
     "data": {
      "text/html": [
       "<hr>"
      ]
     },
     "metadata": {},
     "output_type": "display_data"
    },
    {
     "data": {
      "text/html": [
       "\n",
       "        <table>\n",
       "            <tr>\n",
       "                <td title=\"Minimum value of function\">FCN = -3.9793013675404474</td>\n",
       "                <td title=\"Total number of call to FCN so far\">TOTAL NCALL = 70</td>\n",
       "                <td title=\"Number of call in last migrad\">NCALLS = 70</td>\n",
       "            </tr>\n",
       "            <tr>\n",
       "                <td title=\"Estimated distance to minimum\">EDM = 4.375948472054117e-06</td>\n",
       "                <td title=\"Maximum EDM definition of convergence\">GOAL EDM = 5e-06</td>\n",
       "                <td title=\"Error def. Amount of increase in FCN to be defined as 1 standard deviation\">\n",
       "                UP = 0.5</td>\n",
       "            </tr>\n",
       "        </table>\n",
       "        \n",
       "        <table>\n",
       "            <tr>\n",
       "                <td align=\"center\" title=\"Validity of the migrad call\">Valid</td>\n",
       "                <td align=\"center\" title=\"Validity of parameters\">Valid Param</td>\n",
       "                <td align=\"center\" title=\"Is Covariance matrix accurate?\">Accurate Covar</td>\n",
       "                <td align=\"center\" title=\"Positive definiteness of covariance matrix\">PosDef</td>\n",
       "                <td align=\"center\" title=\"Was covariance matrix made posdef by adding diagonal element\">Made PosDef</td>\n",
       "            </tr>\n",
       "            <tr>\n",
       "                <td align=\"center\" style=\"background-color:#FF7878\">False</td>\n",
       "                <td align=\"center\" style=\"background-color:#92CCA6\">True</td>\n",
       "                <td align=\"center\" style=\"background-color:#FF7878\">False</td>\n",
       "                <td align=\"center\" style=\"background-color:#FF7878\">False</td>\n",
       "                <td align=\"center\" style=\"background-color:#92CCA6\">False</td>\n",
       "            </tr>\n",
       "            <tr>\n",
       "                <td align=\"center\" title=\"Was last hesse call fail?\">Hesse Fail</td>\n",
       "                <td align=\"center\" title=\"Validity of covariance\">HasCov</td>\n",
       "                <td align=\"center\" title=\"Is EDM above goal EDM?\">Above EDM</td>\n",
       "                <td align=\"center\"></td>\n",
       "                <td align=\"center\" title=\"Did last migrad call reach max call limit?\">Reach calllim</td>\n",
       "            </tr>\n",
       "            <tr>\n",
       "                <td align=\"center\" style=\"background-color:#FF7878\">True</td>\n",
       "                <td align=\"center\" style=\"background-color:#92CCA6\">True</td>\n",
       "                <td align=\"center\" style=\"background-color:#92CCA6\">False</td>\n",
       "                <td align=\"center\"></td>\n",
       "                <td align=\"center\" style=\"background-color:#92CCA6\">False</td>\n",
       "            </tr>\n",
       "        </table>\n",
       "        "
      ]
     },
     "metadata": {},
     "output_type": "display_data"
    },
    {
     "data": {
      "text/html": [
       "\n",
       "        <table>\n",
       "            <tr>\n",
       "                <td><a href=\"#\" onclick=\"$('#lcXFABIcxA').toggle()\">+</a></td>\n",
       "                <td title=\"Variable name\">Name</td>\n",
       "                <td title=\"Value of parameter\">Value</td>\n",
       "                <td title=\"Parabolic error\">Parab Error</td>\n",
       "                <td title=\"Minos lower error\">Minos Error-</td>\n",
       "                <td title=\"Minos upper error\">Minos Error+</td>\n",
       "                <td title=\"Lower limit of the parameter\">Limit-</td>\n",
       "                <td title=\"Upper limit of the parameter\">Limit+</td>\n",
       "                <td title=\"Is the parameter fixed in the fit\">FIXED</td>\n",
       "            </tr>\n",
       "        \n",
       "            <tr>\n",
       "                <td>1</td>\n",
       "                <td>r</td>\n",
       "                <td>0.00729104</td>\n",
       "                <td>0.409517</td>\n",
       "                <td>0</td>\n",
       "                <td>0</td>\n",
       "                <td>0.0</td>\n",
       "                <td></td>\n",
       "                <td></td>\n",
       "            </tr>\n",
       "            \n",
       "            <tr>\n",
       "                <td>2</td>\n",
       "                <td>sigma_light</td>\n",
       "                <td>0.195992</td>\n",
       "                <td>0.0317137</td>\n",
       "                <td>0</td>\n",
       "                <td>0</td>\n",
       "                <td>0.0</td>\n",
       "                <td></td>\n",
       "                <td></td>\n",
       "            </tr>\n",
       "            \n",
       "            <tr>\n",
       "                <td>3</td>\n",
       "                <td>sigma_heavy</td>\n",
       "                <td>0.021048</td>\n",
       "                <td>0.400745</td>\n",
       "                <td>0</td>\n",
       "                <td>0</td>\n",
       "                <td>0.0</td>\n",
       "                <td></td>\n",
       "                <td></td>\n",
       "            </tr>\n",
       "            \n",
       "            </table>\n",
       "        \n",
       "            <pre id=\"lcXFABIcxA\" style=\"display:none;\">\n",
       "            <textarea rows=\"12\" cols=\"50\" onclick=\"this.select()\" readonly>\\begin{tabular}{|c|r|r|r|r|r|r|r|c|}\n",
       "\\hline\n",
       " & Name & Value & Para Error & Error+ & Error- & Limit+ & Limit- & FIXED\\\\\n",
       "\\hline\n",
       "1 & r & 7.291e-03 & 4.095e-01 &  &  & 0.000e+00 & 0.000e+00 & \\\\\n",
       "\\hline\n",
       "2 & $\\sigma_{light}$ & 1.960e-01 & 3.171e-02 &  &  & 0.000e+00 & 0.000e+00 & \\\\\n",
       "\\hline\n",
       "3 & $\\sigma_{heavy}$ & 2.105e-02 & 4.007e-01 &  &  & 0.000e+00 & 0.000e+00 & \\\\\n",
       "\\hline\n",
       "\\end{tabular}</textarea>\n",
       "            </pre>\n",
       "            "
      ]
     },
     "metadata": {},
     "output_type": "display_data"
    },
    {
     "data": {
      "text/html": [
       "<hr>"
      ]
     },
     "metadata": {},
     "output_type": "display_data"
    }
   ],
   "source": [
    "M_A_mass.migrad();"
   ]
  },
  {
   "cell_type": "markdown",
   "metadata": {},
   "source": [
    "## 2POP"
   ]
  },
  {
   "cell_type": "code",
   "execution_count": 33,
   "metadata": {
    "collapsed": true
   },
   "outputs": [],
   "source": [
    "def neg_loglike_2POP(r, f, sigma):\n",
    "    loglike = 0\n",
    "    for i, dataset in hepatocyte_data.iterrows():\n",
    "        Dbirth = dataset['Dbirth']\n",
    "        Dcoll = dataset['Dcoll']\n",
    "        Cexp = dataset['d14C']\n",
    "        Cmodel = C2(Dbirth, Dcoll, r, f)\n",
    "        \n",
    "        loglike += sp.stats.norm.logpdf(Cexp, loc=Cmodel, scale=sigma)\n",
    "    return -loglike"
   ]
  },
  {
   "cell_type": "code",
   "execution_count": 34,
   "metadata": {
    "collapsed": true
   },
   "outputs": [],
   "source": [
    "M_2POP = iminuit.Minuit(neg_loglike_2POP, errordef = 0.5,\\\n",
    "                   r = 0.12, error_r = 1e-3, limit_r = (0.0, None), fix_r = False,\\\n",
    "                   f=0.35, error_f=0.01, limit_f=(0.0, 1.0), fix_f = False,\\\n",
    "                   sigma = sigma_estimate, error_sigma = sigma_estimate / 10.0, limit_sigma = (0.0, None), fix_sigma = False,\\\n",
    "                   print_level = 1)"
   ]
  },
  {
   "cell_type": "code",
   "execution_count": 35,
   "metadata": {},
   "outputs": [
    {
     "data": {
      "text/html": [
       "<hr>"
      ]
     },
     "metadata": {},
     "output_type": "display_data"
    },
    {
     "data": {
      "text/html": [
       "\n",
       "        <table>\n",
       "            <tr>\n",
       "                <td title=\"Minimum value of function\">FCN = -50.70294794709126</td>\n",
       "                <td title=\"Total number of call to FCN so far\">TOTAL NCALL = 174</td>\n",
       "                <td title=\"Number of call in last migrad\">NCALLS = 174</td>\n",
       "            </tr>\n",
       "            <tr>\n",
       "                <td title=\"Estimated distance to minimum\">EDM = 3.3956126308406938e-06</td>\n",
       "                <td title=\"Maximum EDM definition of convergence\">GOAL EDM = 5e-06</td>\n",
       "                <td title=\"Error def. Amount of increase in FCN to be defined as 1 standard deviation\">\n",
       "                UP = 0.5</td>\n",
       "            </tr>\n",
       "        </table>\n",
       "        \n",
       "        <table>\n",
       "            <tr>\n",
       "                <td align=\"center\" title=\"Validity of the migrad call\">Valid</td>\n",
       "                <td align=\"center\" title=\"Validity of parameters\">Valid Param</td>\n",
       "                <td align=\"center\" title=\"Is Covariance matrix accurate?\">Accurate Covar</td>\n",
       "                <td align=\"center\" title=\"Positive definiteness of covariance matrix\">PosDef</td>\n",
       "                <td align=\"center\" title=\"Was covariance matrix made posdef by adding diagonal element\">Made PosDef</td>\n",
       "            </tr>\n",
       "            <tr>\n",
       "                <td align=\"center\" style=\"background-color:#92CCA6\">True</td>\n",
       "                <td align=\"center\" style=\"background-color:#92CCA6\">True</td>\n",
       "                <td align=\"center\" style=\"background-color:#92CCA6\">True</td>\n",
       "                <td align=\"center\" style=\"background-color:#92CCA6\">True</td>\n",
       "                <td align=\"center\" style=\"background-color:#92CCA6\">False</td>\n",
       "            </tr>\n",
       "            <tr>\n",
       "                <td align=\"center\" title=\"Was last hesse call fail?\">Hesse Fail</td>\n",
       "                <td align=\"center\" title=\"Validity of covariance\">HasCov</td>\n",
       "                <td align=\"center\" title=\"Is EDM above goal EDM?\">Above EDM</td>\n",
       "                <td align=\"center\"></td>\n",
       "                <td align=\"center\" title=\"Did last migrad call reach max call limit?\">Reach calllim</td>\n",
       "            </tr>\n",
       "            <tr>\n",
       "                <td align=\"center\" style=\"background-color:#92CCA6\">False</td>\n",
       "                <td align=\"center\" style=\"background-color:#92CCA6\">True</td>\n",
       "                <td align=\"center\" style=\"background-color:#92CCA6\">False</td>\n",
       "                <td align=\"center\"></td>\n",
       "                <td align=\"center\" style=\"background-color:#92CCA6\">False</td>\n",
       "            </tr>\n",
       "        </table>\n",
       "        "
      ]
     },
     "metadata": {},
     "output_type": "display_data"
    },
    {
     "data": {
      "text/html": [
       "\n",
       "        <table>\n",
       "            <tr>\n",
       "                <td><a href=\"#\" onclick=\"$('#ZxYispdxlf').toggle()\">+</a></td>\n",
       "                <td title=\"Variable name\">Name</td>\n",
       "                <td title=\"Value of parameter\">Value</td>\n",
       "                <td title=\"Parabolic error\">Parab Error</td>\n",
       "                <td title=\"Minos lower error\">Minos Error-</td>\n",
       "                <td title=\"Minos upper error\">Minos Error+</td>\n",
       "                <td title=\"Lower limit of the parameter\">Limit-</td>\n",
       "                <td title=\"Upper limit of the parameter\">Limit+</td>\n",
       "                <td title=\"Is the parameter fixed in the fit\">FIXED</td>\n",
       "            </tr>\n",
       "        \n",
       "            <tr>\n",
       "                <td>1</td>\n",
       "                <td>r</td>\n",
       "                <td>0.203528</td>\n",
       "                <td>0.00290961</td>\n",
       "                <td>0</td>\n",
       "                <td>0</td>\n",
       "                <td>0.0</td>\n",
       "                <td></td>\n",
       "                <td></td>\n",
       "            </tr>\n",
       "            \n",
       "            <tr>\n",
       "                <td>2</td>\n",
       "                <td>f</td>\n",
       "                <td>0.995058</td>\n",
       "                <td>0.0182896</td>\n",
       "                <td>0</td>\n",
       "                <td>0</td>\n",
       "                <td>0.0</td>\n",
       "                <td>1.0</td>\n",
       "                <td></td>\n",
       "            </tr>\n",
       "            \n",
       "            <tr>\n",
       "                <td>3</td>\n",
       "                <td>sigma</td>\n",
       "                <td>0.0167815</td>\n",
       "                <td>0.0027222</td>\n",
       "                <td>0</td>\n",
       "                <td>0</td>\n",
       "                <td>0.0</td>\n",
       "                <td></td>\n",
       "                <td></td>\n",
       "            </tr>\n",
       "            \n",
       "            </table>\n",
       "        \n",
       "            <pre id=\"ZxYispdxlf\" style=\"display:none;\">\n",
       "            <textarea rows=\"12\" cols=\"50\" onclick=\"this.select()\" readonly>\\begin{tabular}{|c|r|r|r|r|r|r|r|c|}\n",
       "\\hline\n",
       " & Name & Value & Para Error & Error+ & Error- & Limit+ & Limit- & FIXED\\\\\n",
       "\\hline\n",
       "1 & r & 2.035e-01 & 2.910e-03 &  &  & 0.000e+00 & 0.000e+00 & \\\\\n",
       "\\hline\n",
       "2 & f & 9.951e-01 & 1.829e-02 &  &  & 0.000e+00 & 1.000e+00 & \\\\\n",
       "\\hline\n",
       "3 & $\\sigma$ & 1.678e-02 & 2.722e-03 &  &  & 0.000e+00 & 0.000e+00 & \\\\\n",
       "\\hline\n",
       "\\end{tabular}</textarea>\n",
       "            </pre>\n",
       "            "
      ]
     },
     "metadata": {},
     "output_type": "display_data"
    },
    {
     "data": {
      "text/html": [
       "<hr>"
      ]
     },
     "metadata": {},
     "output_type": "display_data"
    }
   ],
   "source": [
    "M_2POP.migrad();"
   ]
  },
  {
   "cell_type": "code",
   "execution_count": 36,
   "metadata": {
    "scrolled": true
   },
   "outputs": [
    {
     "data": {
      "image/png": "[encoded data removed]",
      "text/plain": [
       "<matplotlib.figure.Figure at 0x11a8fd908>"
      ]
     },
     "metadata": {},
     "output_type": "display_data"
    }
   ],
   "source": [
    "f, ax = plt.subplots(1, 1, figsize = (6, 4))\n",
    "\n",
    "time = sp.linspace(1910.0, 2015.0, 1000)\n",
    "ax.plot(time, K(time), label = 'Atmosphere                    ', color = 'black')\n",
    "ax.scatter(hepatocyte_data['Dbirth'], hepatocyte_data['d14C'], color = 'black', label = 'Neuronal DNA            ')\n",
    "ax.errorbar(hepatocyte_data['Dbirth'], \\\n",
    "           sp.vectorize(C2)(hepatocyte_data['Dbirth'], hepatocyte_data['Dcoll'], M_2POP.values['r'], M_2POP.values['f']),\\\n",
    "            M_2POP.values['sigma'],\n",
    "           color = 'white', ecolor = 'black', label = '2POP', marker='^', ls = '', ms = 5)\n",
    "\n",
    "ax.set_xlim((1909, 2011))\n",
    "ax.set_ylim(-0.1, 0.9)\n",
    "ax.set_xticks(sp.arange(1910, 2011, 10))\n",
    "ax.set_xticks(sp.arange(1910, 2011, 2), minor = True)\n",
    "ax.set_yticks(sp.arange(-0.1, 0.91, 0.1))\n",
    "ax.set_yticks(sp.arange(-0.1, 0.91, 0.02), minor = True)\n",
    "# ax.grid(which='both')\n",
    "ax.legend(loc='best', numpoints = 1, scatterpoints = 1)\n",
    "\n",
    "ax.set_xlabel('Calendar year')\n",
    "ax.set_ylabel(u'Concentration of 14C (Δ14C)')\n",
    "\n",
    "ax.annotate(\"Partial nuclear\\ntest ban treaty\", xy = (1963, ax.get_ylim()[0]), xytext = (1965, 0.05),\n",
    "            arrowprops = dict(arrowstyle = '-|>', facecolor = 'white'))\n",
    "\n",
    "axins = inset_axes(ax,\n",
    "                   width=\"40%\",  # width = 30% of parent_bbox\n",
    "                   height=1.,  # height : 1 inch\n",
    "                   loc=2, borderpad = 3)\n",
    "\n",
    "axins.plot(time, K(time), label = 'Atmosphere                    ', color = 'black')\n",
    "axins.scatter(hepatocyte_data['Dbirth'], hepatocyte_data['d14C'], color = 'black', label = 'Neuronal DNA            ')\n",
    "axins.errorbar(hepatocyte_data['Dbirth'], \\\n",
    "           sp.vectorize(C2)(hepatocyte_data['Dbirth'], hepatocyte_data['Dcoll'], M_2POP.values['r'], M_2POP.values['f']),\\\n",
    "            M_2POP.values['sigma'],\n",
    "           color = 'white', ecolor = 'black', label = '2POP', marker='^', ls = '', ms = 5)\n",
    "\n",
    "axins.set_xlim(1941, 1959)\n",
    "axins.set_ylim(-0.05, 0.09)\n",
    "axins.set_xticks(sp.arange(1945, 1956, 5))\n",
    "axins.set_xticks(sp.arange(1942, 1959, 1), minor=True)\n",
    "\n",
    "axins.annotate(\"First above-ground\\n thermonuclear bomb test\", xy = (1952, axins.get_ylim()[0]), xytext = (1945.5, axins.get_ylim()[0] - 0.08),\n",
    "            arrowprops = dict(arrowstyle = '-|>', facecolor = 'white'), horizontalalignment = 'left')\n",
    "\n",
    "exportname = 'c14_predict_2POP'\n",
    "plt.savefig('{}.svg'.format(exportname))\n",
    "os.system('inkscape -D -z --file={0}.svg --export-pdf={0}.pdf'.format(exportname))\n",
    "\n",
    "plt.show()"
   ]
  },
  {
   "cell_type": "code",
   "execution_count": 37,
   "metadata": {
    "collapsed": true
   },
   "outputs": [],
   "source": [
    "matplotlib.text.Text?"
   ]
  },
  {
   "cell_type": "code",
   "execution_count": 38,
   "metadata": {},
   "outputs": [
    {
     "data": {
      "text/html": [
       "\n",
       "        <span>Minos status for r: <span style=\"background-color:#FF7878\">PROBLEM</span></span>\n",
       "        <table>\n",
       "            <tr>\n",
       "                <td title=\"lower and upper minos error of the parameter\">Error</td>\n",
       "                <td>-0.0029096056192127184</td>\n",
       "                <td>0.0029096056192127184</td>\n",
       "            </tr>\n",
       "            <tr>\n",
       "                <td title=\"Validity of minos error\">Valid</td>\n",
       "                <td style=\"background-color:#FF7878\">False</td>\n",
       "                <td style=\"background-color:#FF7878\">False</td>\n",
       "            </tr>\n",
       "            <tr>\n",
       "                <td title=\"Did minos error search hit limit of any paramter?\">At Limit</td>\n",
       "                <td style=\"background-color:#92CCA6\">False</td>\n",
       "                <td style=\"background-color:#92CCA6\">False</td>\n",
       "            </tr>\n",
       "            <tr>\n",
       "                <td title=\"I don't really know what this one means... Post it in issue if you know\">Max FCN</td>\n",
       "                <td style=\"background-color:#92CCA6\">False</td>\n",
       "                <td style=\"background-color:#92CCA6\">False</td>\n",
       "            </tr>\n",
       "            <tr>\n",
       "                <td title=\"New minimum found when doing minos scan.\">New Min</td>\n",
       "                <td style=\"background-color:#92CCA6\">False</td>\n",
       "                <td style=\"background-color:#92CCA6\">False</td>\n",
       "            </tr>\n",
       "        </table>\n",
       "        "
      ]
     },
     "metadata": {},
     "output_type": "display_data"
    },
    {
     "data": {
      "text/html": [
       "\n",
       "        <span>Minos status for f: <span style=\"background-color:#92CCA6\">VALID</span></span>\n",
       "        <table>\n",
       "            <tr>\n",
       "                <td title=\"lower and upper minos error of the parameter\">Error</td>\n",
       "                <td>-0.041267453714043674</td>\n",
       "                <td>0.004942427301956487</td>\n",
       "            </tr>\n",
       "            <tr>\n",
       "                <td title=\"Validity of minos error\">Valid</td>\n",
       "                <td style=\"background-color:#92CCA6\">True</td>\n",
       "                <td style=\"background-color:#92CCA6\">True</td>\n",
       "            </tr>\n",
       "            <tr>\n",
       "                <td title=\"Did minos error search hit limit of any paramter?\">At Limit</td>\n",
       "                <td style=\"background-color:#92CCA6\">False</td>\n",
       "                <td style=\"background-color:#FF7878\">True</td>\n",
       "            </tr>\n",
       "            <tr>\n",
       "                <td title=\"I don't really know what this one means... Post it in issue if you know\">Max FCN</td>\n",
       "                <td style=\"background-color:#92CCA6\">False</td>\n",
       "                <td style=\"background-color:#92CCA6\">False</td>\n",
       "            </tr>\n",
       "            <tr>\n",
       "                <td title=\"New minimum found when doing minos scan.\">New Min</td>\n",
       "                <td style=\"background-color:#92CCA6\">False</td>\n",
       "                <td style=\"background-color:#92CCA6\">False</td>\n",
       "            </tr>\n",
       "        </table>\n",
       "        "
      ]
     },
     "metadata": {},
     "output_type": "display_data"
    },
    {
     "name": "stderr",
     "output_type": "stream",
     "text": [
      "/anaconda3/envs/py3/lib/python3.6/site-packages/ipykernel/__main__.py:1: RuntimeWarning: fcn returns Nan\n",
      "fcn is called with following arguments:\n",
      "        r = nan\n",
      "        f = +0.995049\n",
      "    sigma = +0.024077\n",
      "\n",
      "  if __name__ == '__main__':\n",
      "/anaconda3/envs/py3/lib/python3.6/site-packages/ipykernel/__main__.py:1: RuntimeWarning: fcn returns Nan\n",
      "fcn is called with following arguments:\n",
      "        r = nan\n",
      "        f = nan\n",
      "    sigma = +0.024077\n",
      "\n",
      "  if __name__ == '__main__':\n",
      "/anaconda3/envs/py3/lib/python3.6/site-packages/ipykernel/__main__.py:1: RuntimeWarning: fcn returns Nan\n",
      "fcn is called with following arguments:\n",
      "        r = nan\n",
      "        f = +0.995049\n",
      "    sigma = +0.023760\n",
      "\n",
      "  if __name__ == '__main__':\n",
      "/anaconda3/envs/py3/lib/python3.6/site-packages/ipykernel/__main__.py:1: RuntimeWarning: fcn returns Nan\n",
      "fcn is called with following arguments:\n",
      "        r = nan\n",
      "        f = nan\n",
      "    sigma = +0.023760\n",
      "\n",
      "  if __name__ == '__main__':\n"
     ]
    },
    {
     "data": {
      "text/html": [
       "\n",
       "        <span>Minos status for sigma: <span style=\"background-color:#92CCA6\">VALID</span></span>\n",
       "        <table>\n",
       "            <tr>\n",
       "                <td title=\"lower and upper minos error of the parameter\">Error</td>\n",
       "                <td>-0.004126907055937736</td>\n",
       "                <td>0.006970957832365328</td>\n",
       "            </tr>\n",
       "            <tr>\n",
       "                <td title=\"Validity of minos error\">Valid</td>\n",
       "                <td style=\"background-color:#92CCA6\">True</td>\n",
       "                <td style=\"background-color:#92CCA6\">True</td>\n",
       "            </tr>\n",
       "            <tr>\n",
       "                <td title=\"Did minos error search hit limit of any paramter?\">At Limit</td>\n",
       "                <td style=\"background-color:#92CCA6\">False</td>\n",
       "                <td style=\"background-color:#92CCA6\">False</td>\n",
       "            </tr>\n",
       "            <tr>\n",
       "                <td title=\"I don't really know what this one means... Post it in issue if you know\">Max FCN</td>\n",
       "                <td style=\"background-color:#92CCA6\">False</td>\n",
       "                <td style=\"background-color:#92CCA6\">False</td>\n",
       "            </tr>\n",
       "            <tr>\n",
       "                <td title=\"New minimum found when doing minos scan.\">New Min</td>\n",
       "                <td style=\"background-color:#92CCA6\">False</td>\n",
       "                <td style=\"background-color:#92CCA6\">False</td>\n",
       "            </tr>\n",
       "        </table>\n",
       "        "
      ]
     },
     "metadata": {},
     "output_type": "display_data"
    }
   ],
   "source": [
    "M_2POP.minos(sigma = 1.92);"
   ]
  },
  {
   "cell_type": "code",
   "execution_count": 39,
   "metadata": {},
   "outputs": [
    {
     "data": {
      "text/plain": [
       "(0.9537901189839998, 1.0)"
      ]
     },
     "execution_count": 39,
     "metadata": {},
     "output_type": "execute_result"
    }
   ],
   "source": [
    "CI(M_2POP, 'f')"
   ]
  },
  {
   "cell_type": "markdown",
   "metadata": {},
   "source": [
    "Calculate how much bigger Spalding's CI was:"
   ]
  },
  {
   "cell_type": "code",
   "execution_count": 40,
   "metadata": {},
   "outputs": [
    {
     "data": {
      "text/plain": [
       "11.036600588160184"
      ]
     },
     "execution_count": 40,
     "metadata": {},
     "output_type": "execute_result"
    }
   ],
   "source": [
    "Delta_Rost = CI(M_2POP, 'f')[1] - CI(M_2POP, 'f')[0]\n",
    "Delta_Spalding = 0.63 - 0.12\n",
    "Delta_Spalding/Delta_Rost"
   ]
  },
  {
   "cell_type": "code",
   "execution_count": 41,
   "metadata": {},
   "outputs": [
    {
     "data": {
      "text/plain": [
       "(0.012654613249830002, 0.023752478138133068)"
      ]
     },
     "execution_count": 41,
     "metadata": {},
     "output_type": "execute_result"
    }
   ],
   "source": [
    "CI(M_2POP, 'sigma')"
   ]
  },
  {
   "cell_type": "code",
   "execution_count": 42,
   "metadata": {},
   "outputs": [
    {
     "name": "stderr",
     "output_type": "stream",
     "text": [
      "/anaconda3/envs/py3/lib/python3.6/site-packages/ipykernel/__main__.py:1: UserWarning: Migrad fails to converge for f=0.986228\n",
      "  if __name__ == '__main__':\n",
      "/anaconda3/envs/py3/lib/python3.6/site-packages/ipykernel/__main__.py:1: UserWarning: Migrad fails to converge for f=1.013978\n",
      "  if __name__ == '__main__':\n",
      "/anaconda3/envs/py3/lib/python3.6/site-packages/ipykernel/__main__.py:1: UserWarning: Migrad fails to converge for f=1.016501\n",
      "  if __name__ == '__main__':\n"
     ]
    },
    {
     "data": {
      "image/png": "[encoded data removed]",
      "text/plain": [
       "<matplotlib.figure.Figure at 0x12232a978>"
      ]
     },
     "metadata": {},
     "output_type": "display_data"
    }
   ],
   "source": [
    "M_2POP.draw_mnprofile('f');"
   ]
  },
  {
   "cell_type": "code",
   "execution_count": 43,
   "metadata": {},
   "outputs": [
    {
     "data": {
      "image/png": "[encoded data removed]",
      "text/plain": [
       "<matplotlib.figure.Figure at 0x11b4a15c0>"
      ]
     },
     "metadata": {},
     "output_type": "display_data"
    }
   ],
   "source": [
    "M_2POP.draw_mnprofile('sigma');"
   ]
  },
  {
   "cell_type": "markdown",
   "metadata": {},
   "source": [
    "Manual profile likelihood for $r$ as `minos` didn't work."
   ]
  },
  {
   "cell_type": "code",
   "execution_count": 44,
   "metadata": {},
   "outputs": [
    {
     "name": "stderr",
     "output_type": "stream",
     "text": [
      "UsageError: Cell magic `%%cache` not found.\n"
     ]
    }
   ],
   "source": [
    "%%cache rprofile.pkl rs neglogL\n",
    "rs = sp.sort(sp.hstack((sp.linspace(0.1, 10, 50), M_2POP.values['r'], 0.15)))\n",
    "f_initial = M_2POP.values['f']\n",
    "sigma_initial = M_2POP.values['sigma']\n",
    "def fit_fix_r(r):\n",
    "    M_2POP = iminuit.Minuit(neg_loglike_2POP, errordef = 0.5,\\\n",
    "                   r = r, error_r = 1e-3, limit_r = (0.0, None), fix_r = True,\\\n",
    "                   f=0.35, error_f=0.01, limit_f=(0.0, 1.0), fix_f = False,\\\n",
    "                   sigma = sigma_estimate, error_sigma = sigma_estimate / 10.0, limit_sigma = (0.0, None), fix_sigma = False,\\\n",
    "                   print_level = 0)\n",
    "    M_2POP.migrad()\n",
    "    if M_2POP.migrad_ok():\n",
    "        return M_2POP.fval\n",
    "    else:\n",
    "        return sp.nan\n",
    "\n",
    "pool = Pool(processes=4) \n",
    "\n",
    "neglogL = sp.array(pool.map(fit_fix_r, rs))"
   ]
  },
  {
   "cell_type": "code",
   "execution_count": null,
   "metadata": {
    "collapsed": true
   },
   "outputs": [],
   "source": [
    "func = sp.interpolate.interp1d(rs, neglogL - neglogL.min() - 1.92) "
   ]
  },
  {
   "cell_type": "code",
   "execution_count": null,
   "metadata": {},
   "outputs": [],
   "source": [
    "from scipy import optimize\n",
    "rmin = sp.optimize.root(func, 0.1, method='lm')['x'].item()\n",
    "rmax = sp.optimize.root(func, 2, method='lm')['x'].item()\n",
    "\n",
    "print('r:')\n",
    "print('{0:.2f} (95\\% CI [{1:.2f}, {2:.2f}])'.format(M_2POP.values['r'], rmin, rmax))\n"
   ]
  },
  {
   "cell_type": "code",
   "execution_count": null,
   "metadata": {},
   "outputs": [],
   "source": [
    "fig = plt.figure(figsize= (150 / 25.4, 50 / 25.4) )\n",
    "plt.xlim(0, 10)\n",
    "plt.ylim(-2.5, 0)\n",
    "\n",
    "plt.xlabel('turnover rate, r (per year)')\n",
    "plt.ylabel('$\\Delta \\ln L$')\n",
    "\n",
    "# plt.grid()\n",
    "\n",
    "plt.plot(rs, -(neglogL-M_2POP.fval), 'black')\n",
    "plt.plot([0, 10], [-1.92, -1.92], 'k--')\n",
    "# plt.plot([rmin, rmin], [-5, 0], 'k--')\n",
    "# plt.plot([rmax, rmax], [-5, 0], 'k--')\n",
    "\n",
    "exportname = 'rprofile'\n",
    "plt.savefig('{}.svg'.format(exportname))\n",
    "os.system('inkscape -D -z --file={0}.svg --export-pdf={0}.pdf'.format(exportname))\n",
    "\n",
    "plt.show()"
   ]
  },
  {
   "cell_type": "markdown",
   "metadata": {},
   "source": [
    "## 2POP mass"
   ]
  },
  {
   "cell_type": "code",
   "execution_count": null,
   "metadata": {
    "collapsed": true
   },
   "outputs": [],
   "source": [
    "def neg_loglike_2POP_mass(r, f, sigma_light, sigma_heavy):\n",
    "    loglike = 0\n",
    "    for i, row in hepatocyte_data.iterrows():\n",
    "        Dbirth = row['Dbirth']\n",
    "        Dcoll = row['Dcoll']\n",
    "        Cexp = row['d14C']\n",
    "        Cmodel = C2(Dbirth, Dcoll, r, f)\n",
    "        if row['mass'] < 10.0:\n",
    "            sigma = sigma_light\n",
    "        else:\n",
    "            sigma = sigma_heavy\n",
    "        \n",
    "        loglike += sp.stats.norm.logpdf(Cexp, loc=Cmodel, scale=sigma)\n",
    "    return -loglike"
   ]
  },
  {
   "cell_type": "code",
   "execution_count": null,
   "metadata": {
    "collapsed": true
   },
   "outputs": [],
   "source": [
    "M_2POP_mass = iminuit.Minuit(neg_loglike_2POP_mass, errordef = 0.5,\\\n",
    "                   r = 0.12, error_r = 1e-3, limit_r = (0.0, None), fix_r = False,\\\n",
    "                   f=0.35, error_f=0.01, limit_f=(0.0, 1.0), fix_f = False,\\\n",
    "                   sigma_light = sigma_estimate*20, error_sigma_light = sigma_estimate / 10.0, limit_sigma_light = (0.0, None), fix_sigma_light = False,\n",
    "                   sigma_heavy = sigma_estimate, error_sigma_heavy = sigma_estimate / 10.0, limit_sigma_heavy = (0.0, None), fix_sigma_heavy = False,\\\n",
    "                   print_level = 1)"
   ]
  },
  {
   "cell_type": "code",
   "execution_count": null,
   "metadata": {},
   "outputs": [],
   "source": [
    "M_2POP_mass.migrad();"
   ]
  },
  {
   "cell_type": "markdown",
   "metadata": {},
   "source": [
    "## Sample size estimation\n",
    "Here, I create simulated data from the model to estimate the sample size (needed number of additional subjects) to find a upper limit for $r$. In the model simulation I'll use the estimated point estimates of the parameters as true parameters. I use scenario 2POP.\n",
    "### Simulate the model"
   ]
  },
  {
   "cell_type": "code",
   "execution_count": null,
   "metadata": {
    "collapsed": true
   },
   "outputs": [],
   "source": [
    "f_fit = M_2POP.values['f']\n",
    "r_fit = M_2POP.values['r']\n",
    "sigma_fit = M_2POP.values['sigma']"
   ]
  },
  {
   "cell_type": "markdown",
   "metadata": {},
   "source": [
    "Let's first plot the model prediction for the expected difference in C-14 concentration when comparing the cases $r = r_{estimate}$ and $r = r_{max}$ and different birth and death times:"
   ]
  },
  {
   "cell_type": "code",
   "execution_count": null,
   "metadata": {
    "collapsed": true
   },
   "outputs": [],
   "source": [
    "time_min, time_max = 1910, 2015\n",
    "sampling = 1\n",
    "birth_times, death_times = sp.mgrid[time_min:time_max:sampling, time_min:time_max:sampling]\n",
    "C14_diff = sp.absolute(sp.vectorize(C2)(birth_times, death_times, r_fit, f_fit) - sp.vectorize(C2)(birth_times, death_times, rmax, f_fit))\n",
    "C14_diff = sp.ma.masked_array(C14_diff, mask = sp.isnan(C14_diff))"
   ]
  },
  {
   "cell_type": "code",
   "execution_count": null,
   "metadata": {},
   "outputs": [],
   "source": [
    "%config InlineBackend.figure_format = 'png'\n",
    "fig, ax = plt.subplots(figsize = (3,2))\n",
    "pcm = ax.pcolormesh(birth_times, death_times, C14_diff, cmap = 'viridis')\n",
    "ax.set_xlabel('year of birth')\n",
    "ax.set_ylabel('year of death', labelpad=10)\n",
    "fig.colorbar(pcm)\n",
    "ax.set_xlim(time_min, time_max)\n",
    "ax.set_ylim(time_min, time_max)\n",
    "ax.set_xticks(sp.arange(time_min, time_max, 20))\n",
    "ax.set_xticks(sp.arange(time_min+10, time_max, 20), minor = True)\n",
    "ax.set_yticks(sp.arange(time_min, time_max, 20))\n",
    "ax.set_yticks(sp.arange(time_min+10, time_max, 20), minor = True)\n",
    "# plt.contour(birth_times, death_times, C14_diff, [0.05], colors = 'red')\n",
    "\n",
    "plt.show()"
   ]
  },
  {
   "cell_type": "code",
   "execution_count": null,
   "metadata": {},
   "outputs": [],
   "source": [
    "max_index = sp.unravel_index(C14_diff.argmax(), C14_diff.shape)\n",
    "death_times[max_index]"
   ]
  },
  {
   "cell_type": "markdown",
   "metadata": {},
   "source": [
    "The biggest difference in C-14 is expected for subjects that died in 1965. "
   ]
  },
  {
   "cell_type": "markdown",
   "metadata": {},
   "source": [
    "### Creation of artifical subject data\n",
    "\n",
    "#### Informative data\n",
    "\n",
    "Based on the assumption that I my parameters are the true parameters I create artifical subject data by simulating the model. I'll choose subjects for which the expected difference in C-14 for the cases $r = r_{estimate}$ and $r = r_{max}$ is bigger than $0.05$."
   ]
  },
  {
   "cell_type": "code",
   "execution_count": null,
   "metadata": {},
   "outputs": [],
   "source": [
    "fig, ax = plt.subplots(figsize = (3,2))\n",
    "pcm = ax.pcolormesh(birth_times, death_times, C14_diff > 0.05, cmap = 'Greys')\n",
    "ax.set_xlabel('year of birth')\n",
    "ax.set_ylabel('year of death')\n",
    "fig.colorbar(pcm)\n",
    "ax.set_xlim(time_min, time_max)\n",
    "ax.set_ylim(time_min, time_max)\n",
    "\n",
    "plt.show()"
   ]
  },
  {
   "cell_type": "code",
   "execution_count": null,
   "metadata": {},
   "outputs": [],
   "source": [
    "chosen_birth_times = birth_times[C14_diff > 0.05]\n",
    "chosen_death_times = death_times[C14_diff > 0.05]\n",
    "chosen_times = zip(chosen_birth_times, chosen_death_times)"
   ]
  },
  {
   "cell_type": "code",
   "execution_count": null,
   "metadata": {},
   "outputs": [],
   "source": [
    "%%cache profiles_r_2POP.pkl profile_r_2POP\n",
    "profile_r_2POP = M_2POP.mnprofile('r', bound = [0.1, 1.5], subtract_min = True, bins = 60)"
   ]
  },
  {
   "cell_type": "code",
   "execution_count": null,
   "metadata": {},
   "outputs": [],
   "source": [
    "%%cache profiles.pkl profiles test_datasets\n",
    "n = 5\n",
    "test_datasets = {}\n",
    "profiles = {}\n",
    "for i in range(5):\n",
    "    sp.random.seed(i)\n",
    "    \n",
    "    indices = sp.random.choice(len(chosen_birth_times), n)\n",
    "    \n",
    "#     sampled_birth_times = chosen_birth_times[indices]\n",
    "#     sampled_death_times = chosen_death_times[indices]\n",
    "\n",
    "    sampled_birth_times = sp.random.uniform(1910, 1960, n)\n",
    "    sampled_death_times = sp.random.uniform(1961, 1970, n)\n",
    "    d14C = sp.vectorize(C2)(sampled_birth_times, sampled_death_times, r_fit, f_fit) + sp.random.normal(0, sigma_fit, len(sampled_birth_times))\n",
    "    \n",
    "    new_data = pd.DataFrame.from_dict({'Dbirth': sampled_birth_times, 'Dcoll': sampled_death_times, 'd14C': d14C})\n",
    "    \n",
    "    test_datasets[i] = pd.concat([hepatocyte_data, new_data], ignore_index=True)\n",
    "\n",
    "for i, data in test_datasets.iteritems():\n",
    "    def neg_loglike_2POP_test(r, f, sigma):\n",
    "        loglike = 0\n",
    "        for i, dataset in data.iterrows():\n",
    "            Dbirth = dataset['Dbirth']\n",
    "            Dcoll = dataset['Dcoll']\n",
    "            Cexp = dataset['d14C']\n",
    "            Cmodel = C2(Dbirth, Dcoll, r, f)\n",
    "\n",
    "            loglike += sp.stats.norm.logpdf(Cexp, loc=Cmodel, scale=sigma)\n",
    "        return -loglike\n",
    "\n",
    "    M_2POP_test = iminuit.Minuit(neg_loglike_2POP_test, errordef = 0.5,\\\n",
    "                   r = 0.2, error_r = 1e-3, limit_r = (0.0, None), fix_r = False,\\\n",
    "                   f= 0.3, error_f=0.01, limit_f=(0.0, 1.0), fix_f = False,\\\n",
    "                   sigma = 0.01, error_sigma = sigma_fit / 10.0, limit_sigma = (0.0, None), fix_sigma = False,\\\n",
    "                   print_level = 0)\n",
    "    M_2POP_test.tol = 10.0\n",
    "    M_2POP_test.migrad()\n",
    "#     M_2POP_test.minos('r', sigma = 1.92)\n",
    "    if M_2POP_test.migrad_ok():\n",
    "        profiles[i] = M_2POP_test.mnprofile('r', bound = [0.1, 0.5], subtract_min = True, bins = 25);"
   ]
  },
  {
   "cell_type": "markdown",
   "metadata": {},
   "source": [
    "Plot the artificial test data"
   ]
  },
  {
   "cell_type": "code",
   "execution_count": null,
   "metadata": {},
   "outputs": [],
   "source": [
    "i = 1\n",
    "artificial_data = test_datasets[i]\n",
    "\n",
    "f, ax = plt.subplots(1, 1, figsize = (3, 2))\n",
    "\n",
    "time = sp.linspace(1910.0, 2015.0, 1000)\n",
    "ax.plot(time, K(time), label = 'Atmosphere                    ', color = 'black')\n",
    "ax.scatter(artificial_data['Dbirth'], artificial_data['d14C'], color = colorcycle[i+1], label = 'Artificial data            ')\n",
    "ax.scatter(hepatocyte_data['Dbirth'], hepatocyte_data['d14C'], color = 'black', label = 'Neuronal DNA                   ')\n",
    "# ax.errorbar(artificial_data['Dbirth'], \\\n",
    "#            sp.vectorize(C2)(artificial_data['Dbirth'], artificial_data['Dcoll'], M_2POP.values['r'], M_2POP.values['f']),\\\n",
    "#             M_2POP.values['sigma'],\n",
    "#            color = 'white', ecolor = 'black', label = '2POP', marker='^', ls = '', ms = 5)\n",
    "\n",
    "ax.set_xlim((1909, 2011))\n",
    "ax.set_ylim(-0.1, 0.9)\n",
    "ax.set_xticks(sp.linspace(1910, 2010, 6), minor = 1)\n",
    "# ax.grid(which='both')\n",
    "ax.legend(loc='best', scatterpoints = 1)\n",
    "\n",
    "ax.set_xlabel('Calendar year')\n",
    "ax.set_ylabel('$\\Delta^{14}$C')\n",
    "\n",
    "# ax.annotate(\"First above-ground\\nnuclear bomb test\", xy = (1955, K(1955)), xytext = (1965, -0.08),\n",
    "#             arrowprops = dict(arrowstyle = '-|>'))\n",
    "# ax.annotate(\"Partial nuclear\\ntest ban treaty\", xy = (1963, K(1963)), xytext = (1967, 0.05),\n",
    "#             arrowprops = dict(arrowstyle = '-|>'))\n",
    "\n",
    "\n",
    "plt.show()"
   ]
  },
  {
   "cell_type": "code",
   "execution_count": null,
   "metadata": {},
   "outputs": [],
   "source": [
    "%config InlineBackend.figure_format = 'svg'\n",
    "\n",
    "fig = plt.figure(figsize= (75 / 25.4, 50 / 25.4) )\n",
    "plt.xlim(0.1, 0.4)\n",
    "plt.ylim(-2.5, 0)\n",
    "\n",
    "plt.xlabel('turnover rate, r (per year)')\n",
    "plt.ylabel('$\\Delta \\ln L$')\n",
    "\n",
    "# plt.grid()\n",
    "\n",
    "plt.plot(profile_r_2POP[0], -sp.array(profile_r_2POP[1]), 'black')\n",
    "plt.plot([0, 10], [-1.92, -1.92], 'k--')\n",
    "# plt.plot([rmin, rmin], [-5, 0], 'k--')\n",
    "# plt.plot([rmax, rmax], [-5, 0], 'k--')\n",
    "\n",
    "for i, profile in profiles.iteritems():\n",
    "    plt.plot(profile[0], -sp.array(profile[1]), color = colorcycle[i+1])\n",
    "\n",
    "\n",
    "plt.show()"
   ]
  },
  {
   "cell_type": "markdown",
   "metadata": {},
   "source": [
    "#### 'Recent' data\n",
    "Now, I repeat the creation of artificial data as above, but for patients that died in recent years. I choose 2012. I assume they are born bewteen 1910 and 2010 with uniform random distribution."
   ]
  },
  {
   "cell_type": "code",
   "execution_count": null,
   "metadata": {},
   "outputs": [],
   "source": [
    "len(hepatocyte_data)"
   ]
  },
  {
   "cell_type": "code",
   "execution_count": null,
   "metadata": {},
   "outputs": [],
   "source": [
    "%%cache profiles_recent.pkl profiles_recent test_datasets_recent\n",
    "n = 100\n",
    "test_datasets_recent = {}\n",
    "profiles_recent = {}\n",
    "for i in sp.arange(5)+1:\n",
    "    sp.random.seed(i)\n",
    "    \n",
    "    sampled_birth_times = sp.random.uniform(1910, 2010, n)\n",
    "    sampled_death_times = 2012 * sp.ones(n)\n",
    "    d14C = sp.vectorize(C2)(sampled_birth_times, sampled_death_times, r_fit, f_fit) + sp.random.normal(0, sigma_fit, len(sampled_birth_times))\n",
    "    \n",
    "    new_data = pd.DataFrame.from_dict({'Dbirth': sampled_birth_times, 'Dcoll': sampled_death_times, 'd14C': d14C})\n",
    "    \n",
    "    test_datasets_recent[i] = pd.concat([hepatocyte_data, new_data], ignore_index=True)\n",
    "\n",
    "for i, data in test_datasets_recent.iteritems():\n",
    "    def neg_loglike_2POP_test(r, f, sigma):\n",
    "        loglike = 0\n",
    "        for i, dataset in data.iterrows():\n",
    "            Dbirth = dataset['Dbirth']\n",
    "            Dcoll = dataset['Dcoll']\n",
    "            Cexp = dataset['d14C']\n",
    "            Cmodel = C2(Dbirth, Dcoll, r, f)\n",
    "\n",
    "            loglike += sp.stats.norm.logpdf(Cexp, loc=Cmodel, scale=sigma)\n",
    "        return -loglike\n",
    "\n",
    "    M_2POP_test = iminuit.Minuit(neg_loglike_2POP_test, errordef = 0.5,\\\n",
    "                   r = 0.2, error_r = 1e-3, limit_r = (0.0, None), fix_r = False,\\\n",
    "                   f= 0.3, error_f=0.01, limit_f=(0.0, 1.0), fix_f = False,\\\n",
    "                   sigma = 0.01, error_sigma = sigma_fit / 10.0, limit_sigma = (0.0, None), fix_sigma = False,\\\n",
    "                   print_level = 0)\n",
    "    M_2POP_test.tol = 10.0\n",
    "    M_2POP_test.migrad()\n",
    "#     M_2POP_test.minos('r', sigma = 1.92)\n",
    "    if M_2POP_test.migrad_ok():\n",
    "        profiles_recent[i] = M_2POP_test.mnprofile('r', bound = [0.1, 1.5], subtract_min = True, bins = 60);"
   ]
  },
  {
   "cell_type": "markdown",
   "metadata": {},
   "source": [
    "Plot the artificial test data"
   ]
  },
  {
   "cell_type": "code",
   "execution_count": null,
   "metadata": {},
   "outputs": [],
   "source": [
    "i = 1\n",
    "artificial_data_recent = test_datasets_recent[i]\n",
    "\n",
    "f, ax = plt.subplots(1, 1, figsize = (3, 2))\n",
    "\n",
    "time = sp.linspace(1910.0, 2015.0, 1000)\n",
    "ax.plot(time, K(time), label = 'Atmosphere                    ', color = 'black')\n",
    "ax.scatter(artificial_data_recent['Dbirth'], artificial_data_recent['d14C'], color = colorcycle[7], label = 'Artificial data            ')\n",
    "ax.scatter(hepatocyte_data['Dbirth'], hepatocyte_data['d14C'], color = 'black', label = 'Neuronal DNA                   ')\n",
    "# ax.errorbar(artificial_data_recent['Dbirth'], \\\n",
    "#            sp.vectorize(C2)(artificial_data_recent['Dbirth'], artificial_data_recent['Dcoll'], M_2POP.values['r'], M_2POP.values['f']),\\\n",
    "#             M_2POP.values['sigma'],\n",
    "#            color = 'white', ecolor = 'black', label = '2POP', marker='^', ls = '', ms = 5)\n",
    "\n",
    "ax.set_xlim((1909, 2011))\n",
    "ax.set_ylim(-0.1, 0.9)\n",
    "ax.set_xticks(sp.linspace(1910, 2010, 6), minor = 1)\n",
    "# ax.grid(which='both')\n",
    "ax.legend(loc='best', scatterpoints = 1)\n",
    "\n",
    "ax.set_xlabel('Calendar year')\n",
    "ax.set_ylabel('$\\Delta^{14}$C')\n",
    "\n",
    "# ax.annotate(\"First above-ground\\nnuclear bomb test\", xy = (1955, K(1955)), xytext = (1965, -0.08),\n",
    "#             arrowprops = dict(arrowstyle = '-|>'))\n",
    "# ax.annotate(\"Partial nuclear\\ntest ban treaty\", xy = (1963, K(1963)), xytext = (1967, 0.05),\n",
    "#             arrowprops = dict(arrowstyle = '-|>'))\n",
    "\n",
    "plt.show()"
   ]
  },
  {
   "cell_type": "code",
   "execution_count": null,
   "metadata": {},
   "outputs": [],
   "source": [
    "%config InlineBackend.figure_format = 'svg'\n",
    "\n",
    "fig = plt.figure(figsize= (75 / 25.4, 50 / 25.4) )\n",
    "plt.xlim(0.1, 1.5)\n",
    "plt.ylim(-2.5, 0)\n",
    "\n",
    "plt.xlabel('turnover rate, r (per year)')\n",
    "plt.ylabel('$\\Delta \\ln L$')\n",
    "\n",
    "# plt.grid()\n",
    "\n",
    "# plt.plot(profile_r_2POP[0], -sp.array(profile_r_2POP[1]), 'black')\n",
    "plt.plot(rs, -(neglogL-M_2POP.fval), 'black')\n",
    "plt.plot([0, 10], [-1.92, -1.92], 'k--')\n",
    "# plt.plot([rmin, rmin], [-5, 0], 'k--')\n",
    "# plt.plot([rmax, rmax], [-5, 0], 'k--')\n",
    "\n",
    "for i, profile in profiles_recent.iteritems():\n",
    "    plt.plot(profile[0], -sp.array(profile[1]), color = colorcycle[i+1])\n",
    "\n",
    "plt.show()"
   ]
  },
  {
   "cell_type": "markdown",
   "metadata": {},
   "source": [
    "### Plot of artifial data results for thesis"
   ]
  },
  {
   "cell_type": "code",
   "execution_count": null,
   "metadata": {},
   "outputs": [],
   "source": [
    "lineStyles = ['-', '--', '-.', ':']\n",
    "\n",
    "new_artifical_data = artificial_data.loc[artificial_data.index.difference(hepatocyte_data.reset_index().index)]\n",
    "new_artifical_data_recent = artificial_data_recent.loc[artificial_data_recent.index.difference(hepatocyte_data.reset_index().index)]\n",
    "\n",
    "%config InlineBackend.figure_format = 'png'\n",
    "fig, ax = plt.subplots(2, 2, figsize = (160/25.4,4))\n",
    "\n",
    "pcm = ax[0,0].pcolormesh(birth_times, death_times, C14_diff, cmap = 'viridis', shading = 'gourad')\n",
    "ax[0,0].scatter(new_artifical_data_recent['Dbirth'].values, new_artifical_data_recent['Dcoll'].values,\n",
    "                marker = '+', c = colorcycle[1])\n",
    "ax[0,0].scatter(new_artifical_data['Dbirth'].values, new_artifical_data['Dcoll'].values,\n",
    "                marker = '+', c = colorcycle[7])\n",
    "ax[0,0].scatter(hepatocyte_data['Dbirth'].values, hepatocyte_data['Dcoll'].values, marker = '+', c = 'white')\n",
    "ax[0,0].set_xlabel('Year of birth')\n",
    "ax[0,0].set_ylabel('Year of death', labelpad=10)\n",
    "cb = fig.colorbar(pcm, ax=ax[0,0])\n",
    "cb.set_label(u'Difference in Δ14C', labelpad = 10)\n",
    "ax[0,0].set_xlim(time_min, time_max)\n",
    "ax[0,0].set_ylim(time_min, time_max)\n",
    "ax[0,0].set_xticks(sp.arange(time_min, time_max, 20))\n",
    "ax[0,0].set_xticks(sp.arange(time_min+10, time_max, 20), minor = True)\n",
    "ax[0,0].set_yticks(sp.arange(time_min, time_max, 20))\n",
    "ax[0,0].set_yticks(sp.arange(time_min+10, time_max, 20), minor = True)\n",
    "# ax[0,0].add_patch(patches.Rectangle((1910, 2012), 100, 1, fill=False, color=colorcycle[1]))\n",
    "# ax[0,0].add_patch(patches.Rectangle((1910, 1961), 50, 9, fill=False, color=colorcycle[2]))\n",
    "\n",
    "\n",
    "artificial_data = test_datasets[1]\n",
    "msize = 5\n",
    "time = sp.linspace(1910.0, 2015.0, 1000)\n",
    "ax[0,1].plot(time, K(time), label = 'Atmosphere                    ', color = 'black')\n",
    "ax[0,1].scatter(hepatocyte_data['Dbirth'], hepatocyte_data['d14C'], \n",
    "                color = 'black', label = 'Neuronal DNA                        ', s = msize)\n",
    "ax[0,1].scatter(new_artifical_data_recent['Dbirth'], new_artifical_data_recent['d14C'], \n",
    "                color = colorcycle[1], label = 'Artifical data 1', s = msize)\n",
    "ax[0,1].scatter(new_artifical_data['Dbirth'], new_artifical_data['d14C'], \n",
    "                color = colorcycle[7], label = 'Artifical data 2     ', s = msize)\n",
    "\n",
    "\n",
    "ax[0,1].set_xlim((1909, 2011))\n",
    "ax[0,1].set_ylim(-0.1, 0.9)\n",
    "ax[0,1].set_xticks(sp.linspace(1910, 2010, 6), minor = 1)\n",
    "ax[0,1].legend(loc='upper left', scatterpoints = 1)\n",
    "ax[0,1].set_xlabel('Calendar year')\n",
    "ax[0,1].set_ylabel(u'Δ14C')\n",
    "\n",
    "ax[1,0].set_title('Artificial data 1', fontsize = 8)\n",
    "ax[1,0].set_xlim(0.1, 1.5)\n",
    "ax[1,0].set_ylim(-2.5, 0)\n",
    "ax[1,0].set_xlabel('Turnover rate, r (per year)')\n",
    "ax[1,0].set_ylabel(u'Δln L')\n",
    "ax[1,0].plot(profile_r_2POP[0], -sp.array(profile_r_2POP[-1]), 'black')\n",
    "# ax[1,0].plot(rs, -(neglogL-M_2POP.fval), 'black')\n",
    "ax[1,0].plot([0, 10], [-1.92, -1.92], 'k--')\n",
    "for i, profile in profiles_recent.iteritems():\n",
    "    ax[1,0].plot(profile[0], -sp.array(profile[1]), color = colorcycle[1], ls = lineStyles[len(profile) - i])\n",
    "    if i == len(lineStyles):\n",
    "        break\n",
    "    \n",
    "ax[1,1].set_title('Artificial data 2', fontsize = 8)\n",
    "ax[1,1].set_xlim(0.1, 1.5)\n",
    "ax[1,1].set_ylim(-2.5, 0)\n",
    "ax[1,1].set_xlabel('Turnover rate, r (per year)')\n",
    "ax[1,1].set_ylabel(u'Δln L')\n",
    "ax[1,1].plot(profile_r_2POP[0], -sp.array(profile_r_2POP[1]), 'black')\n",
    "# ax[1,1].plot(rs, -(neglogL-M_2POP.fval), 'black')\n",
    "ax[1,1].plot([0, 10], [-1.92, -1.92], 'k--')\n",
    "for i, profile in profiles.iteritems():\n",
    "    ax[1,1].plot(profile[0], -sp.array(profile[1]), color = colorcycle[7], ls = lineStyles[i-1])\n",
    "    if i == len(lineStyles):\n",
    "        break\n",
    "\n",
    "plt.tight_layout()\n",
    "\n",
    "exportname = 'c14_add_data'\n",
    "plt.savefig('{}.svg'.format(exportname))\n",
    "os.system('inkscape -D -z --file={0}.svg --export-pdf={0}.pdf'.format(exportname))\n",
    "\n",
    "\n",
    "plt.show()"
   ]
  },
  {
   "cell_type": "code",
   "execution_count": null,
   "metadata": {
    "collapsed": true
   },
   "outputs": [],
   "source": []
  }
 ],
 "metadata": {
  "anaconda-cloud": {},
  "kernelspec": {
   "display_name": "Python [conda env:py3]",
   "language": "python",
   "name": "conda-env-py3-py"
  },
  "notify_time": "30",
  "toc": {
   "nav_menu": {
    "height": "251px",
    "width": "252px"
   },
   "number_sections": true,
   "sideBar": true,
   "skip_h1_title": false,
   "toc_cell": false,
   "toc_position": {},
   "toc_section_display": "block",
   "toc_window_display": true
  }
 },
 "nbformat": 4,
 "nbformat_minor": 1
}
