{
 "cells": [
  {
   "cell_type": "code",
   "execution_count": 1,
   "metadata": {
    "ExecuteTime": {
     "end_time": "2018-01-12T14:32:02.586322Z",
     "start_time": "2018-01-12T14:32:00.487818Z"
    }
   },
   "outputs": [],
   "source": [
    "import iminuit\n",
    "%load_ext line_profiler\n",
    "import matplotlib.pyplot as plt\n",
    "%matplotlib inline\n",
    "import numba\n",
    "import numpy as np\n",
    "import pandas as pd\n",
    "import scipy as sp\n",
    "from scipy import optimize\n",
    "import seaborn as sns\n",
    "sns.set_style('darkgrid')\n",
    "sns.set_context('notebook')"
   ]
  },
  {
   "cell_type": "code",
   "execution_count": 2,
   "metadata": {
    "ExecuteTime": {
     "end_time": "2018-01-12T14:32:02.591560Z",
     "start_time": "2018-01-12T14:32:02.587990Z"
    }
   },
   "outputs": [],
   "source": [
    "def CI(M, p):\n",
    "    value = M.values[p]\n",
    "    lower = M.get_merrors()[p]['lower']\n",
    "    upper = M.get_merrors()[p]['upper']\n",
    "    return value + lower, value + upper"
   ]
  },
  {
   "cell_type": "code",
   "execution_count": 3,
   "metadata": {
    "ExecuteTime": {
     "end_time": "2018-01-12T14:32:02.603145Z",
     "start_time": "2018-01-12T14:32:02.592908Z"
    }
   },
   "outputs": [],
   "source": [
    "results = pd.DataFrame()"
   ]
  },
  {
   "cell_type": "markdown",
   "metadata": {},
   "source": [
    "# Load C14 models"
   ]
  },
  {
   "cell_type": "code",
   "execution_count": 4,
   "metadata": {
    "ExecuteTime": {
     "end_time": "2018-01-12T14:32:02.761483Z",
     "start_time": "2018-01-12T14:32:02.604655Z"
    }
   },
   "outputs": [],
   "source": [
    "import c14_models"
   ]
  },
  {
   "cell_type": "code",
   "execution_count": 5,
   "metadata": {
    "ExecuteTime": {
     "end_time": "2018-01-12T14:32:02.768692Z",
     "start_time": "2018-01-12T14:32:02.762875Z"
    }
   },
   "outputs": [
    {
     "data": {
      "text/plain": [
       "<module 'c14_models' from '/home/fabrost/work/C14_liver/c14_models.py'>"
      ]
     },
     "execution_count": 5,
     "metadata": {},
     "output_type": "execute_result"
    }
   ],
   "source": [
    "import importlib\n",
    "importlib.reload(c14_models)"
   ]
  },
  {
   "cell_type": "markdown",
   "metadata": {},
   "source": [
    "# Read patient data"
   ]
  },
  {
   "cell_type": "code",
   "execution_count": 6,
   "metadata": {
    "ExecuteTime": {
     "end_time": "2018-01-12T14:32:02.814040Z",
     "start_time": "2018-01-12T14:32:02.771122Z"
    }
   },
   "outputs": [],
   "source": [
    "c14_patient_data = pd.read_excel('data/C14data_liver_samples.xlsx')[['sort', 'Code', 'DOB', 'DOA', u'Δ 14C']]\n",
    "c14_patient_data.columns = ['type', 'pub_id', 'Dbirth', 'Dcoll', 'd14C']\n",
    "c14_patient_data['mass'] = 1.0\n",
    "c14_patient_data['d14C'] /= 1000.0"
   ]
  },
  {
   "cell_type": "code",
   "execution_count": 7,
   "metadata": {
    "ExecuteTime": {
     "end_time": "2018-01-12T14:32:02.831249Z",
     "start_time": "2018-01-12T14:32:02.815454Z"
    }
   },
   "outputs": [
    {
     "data": {
      "text/html": [
       "<div>\n",
       "<style>\n",
       "    .dataframe thead tr:only-child th {\n",
       "        text-align: right;\n",
       "    }\n",
       "\n",
       "    .dataframe thead th {\n",
       "        text-align: left;\n",
       "    }\n",
       "\n",
       "    .dataframe tbody tr th {\n",
       "        vertical-align: top;\n",
       "    }\n",
       "</style>\n",
       "<table border=\"1\" class=\"dataframe\">\n",
       "  <thead>\n",
       "    <tr style=\"text-align: right;\">\n",
       "      <th></th>\n",
       "      <th>Dbirth</th>\n",
       "      <th>Dcoll</th>\n",
       "      <th>d14C</th>\n",
       "      <th>mass</th>\n",
       "    </tr>\n",
       "  </thead>\n",
       "  <tbody>\n",
       "    <tr>\n",
       "      <th>count</th>\n",
       "      <td>19.000000</td>\n",
       "      <td>19.000000</td>\n",
       "      <td>19.000000</td>\n",
       "      <td>19.0</td>\n",
       "    </tr>\n",
       "    <tr>\n",
       "      <th>mean</th>\n",
       "      <td>1964.021930</td>\n",
       "      <td>2015.605263</td>\n",
       "      <td>0.043114</td>\n",
       "      <td>1.0</td>\n",
       "    </tr>\n",
       "    <tr>\n",
       "      <th>std</th>\n",
       "      <td>20.059938</td>\n",
       "      <td>3.810909</td>\n",
       "      <td>0.021048</td>\n",
       "      <td>0.0</td>\n",
       "    </tr>\n",
       "    <tr>\n",
       "      <th>min</th>\n",
       "      <td>1932.583333</td>\n",
       "      <td>2004.833333</td>\n",
       "      <td>0.017700</td>\n",
       "      <td>1.0</td>\n",
       "    </tr>\n",
       "    <tr>\n",
       "      <th>25%</th>\n",
       "      <td>1946.166667</td>\n",
       "      <td>2016.458333</td>\n",
       "      <td>0.027331</td>\n",
       "      <td>1.0</td>\n",
       "    </tr>\n",
       "    <tr>\n",
       "      <th>50%</th>\n",
       "      <td>1964.000000</td>\n",
       "      <td>2016.750000</td>\n",
       "      <td>0.039600</td>\n",
       "      <td>1.0</td>\n",
       "    </tr>\n",
       "    <tr>\n",
       "      <th>75%</th>\n",
       "      <td>1981.250000</td>\n",
       "      <td>2017.125000</td>\n",
       "      <td>0.051000</td>\n",
       "      <td>1.0</td>\n",
       "    </tr>\n",
       "    <tr>\n",
       "      <th>max</th>\n",
       "      <td>1995.333333</td>\n",
       "      <td>2017.416667</td>\n",
       "      <td>0.090351</td>\n",
       "      <td>1.0</td>\n",
       "    </tr>\n",
       "  </tbody>\n",
       "</table>\n",
       "</div>"
      ],
      "text/plain": [
       "            Dbirth        Dcoll       d14C  mass\n",
       "count    19.000000    19.000000  19.000000  19.0\n",
       "mean   1964.021930  2015.605263   0.043114   1.0\n",
       "std      20.059938     3.810909   0.021048   0.0\n",
       "min    1932.583333  2004.833333   0.017700   1.0\n",
       "25%    1946.166667  2016.458333   0.027331   1.0\n",
       "50%    1964.000000  2016.750000   0.039600   1.0\n",
       "75%    1981.250000  2017.125000   0.051000   1.0\n",
       "max    1995.333333  2017.416667   0.090351   1.0"
      ]
     },
     "execution_count": 7,
     "metadata": {},
     "output_type": "execute_result"
    }
   ],
   "source": [
    "hepatocyte_data = c14_patient_data.query('type == \"hepatocyte\"')\n",
    "hepatocyte_data.describe()"
   ]
  },
  {
   "cell_type": "markdown",
   "metadata": {},
   "source": [
    "# SSE & log-likelihood"
   ]
  },
  {
   "cell_type": "code",
   "execution_count": 8,
   "metadata": {
    "ExecuteTime": {
     "end_time": "2018-01-12T14:32:07.918972Z",
     "start_time": "2018-01-12T14:32:07.914149Z"
    }
   },
   "outputs": [],
   "source": [
    "def SSE(p, model, data):\n",
    "    model_data = model(data['Dbirth'].values, \n",
    "                    data['Dcoll'].values, \n",
    "                    *p)\n",
    "    sse = np.sum((model_data - data['d14C'].values)**2)\n",
    "    return sse    "
   ]
  },
  {
   "cell_type": "code",
   "execution_count": 9,
   "metadata": {
    "ExecuteTime": {
     "end_time": "2018-01-12T14:32:08.149045Z",
     "start_time": "2018-01-12T14:32:08.145142Z"
    }
   },
   "outputs": [],
   "source": [
    "def Sigma(p, model, data):\n",
    "    sse = SSE(p, model, data)\n",
    "    n = len(data)\n",
    "    sigma = np.sqrt(sse/n)\n",
    "    return sigma"
   ]
  },
  {
   "cell_type": "code",
   "execution_count": 10,
   "metadata": {
    "ExecuteTime": {
     "end_time": "2018-01-12T14:32:08.494241Z",
     "start_time": "2018-01-12T14:32:08.484136Z"
    }
   },
   "outputs": [],
   "source": [
    "def Nloglike(p, model, data):\n",
    "    try:\n",
    "        sse = SSE(p, model, data)\n",
    "    except:\n",
    "        sse = SSE([p], model, data)\n",
    "    n = len(data)\n",
    "    sig = np.sqrt(sse/n)\n",
    "    loglike = -n/2 * np.log(2*np.pi) - n/2 * np.log(sig**2) - 1 / (2*sig**2) * sse\n",
    "    return -loglike"
   ]
  },
  {
   "cell_type": "markdown",
   "metadata": {},
   "source": [
    "# Scenario I1"
   ]
  },
  {
   "cell_type": "code",
   "execution_count": 20,
   "metadata": {
    "ExecuteTime": {
     "end_time": "2018-01-04T19:02:17.145694Z",
     "start_time": "2018-01-04T19:02:17.140266Z"
    }
   },
   "outputs": [],
   "source": [
    "@np.vectorize\n",
    "def I1(Dbirth, Dcoll, loglam):\n",
    "    lam = np.exp(loglam)\n",
    "    return c14_models.I1(Dbirth, Dcoll, lam)[1]"
   ]
  },
  {
   "cell_type": "markdown",
   "metadata": {},
   "source": [
    "## Artifical data"
   ]
  },
  {
   "cell_type": "code",
   "execution_count": 21,
   "metadata": {
    "ExecuteTime": {
     "end_time": "2018-01-04T19:02:19.777895Z",
     "start_time": "2018-01-04T19:02:19.402734Z"
    }
   },
   "outputs": [],
   "source": [
    "lam = 0.1\n",
    "n = 20\n",
    "np.random.seed(42)\n",
    "artifical_data = pd.DataFrame(\n",
    "                    data={'Dbirth': \n",
    "                               np.random.uniform(1930, 1970, n), \n",
    "                          'Dcoll': \n",
    "                               np.random.uniform(2014, 2018, n)}\n",
    "                             )\n",
    "\n",
    "artifical_data['d14C'] = I1(artifical_data['Dbirth'], \n",
    "                            artifical_data['Dcoll'], \n",
    "                            loglam=np.log(lam)) \n",
    "artifical_data['d14C'] += np.random.normal(0, 0.01, \n",
    "                                           len(artifical_data)\n",
    "                                          )"
   ]
  },
  {
   "cell_type": "code",
   "execution_count": 22,
   "metadata": {
    "ExecuteTime": {
     "end_time": "2018-01-04T19:02:19.785151Z",
     "start_time": "2018-01-04T19:02:19.779288Z"
    }
   },
   "outputs": [
    {
     "data": {
      "text/html": [
       "<div>\n",
       "<style>\n",
       "    .dataframe thead tr:only-child th {\n",
       "        text-align: right;\n",
       "    }\n",
       "\n",
       "    .dataframe thead th {\n",
       "        text-align: left;\n",
       "    }\n",
       "\n",
       "    .dataframe tbody tr th {\n",
       "        vertical-align: top;\n",
       "    }\n",
       "</style>\n",
       "<table border=\"1\" class=\"dataframe\">\n",
       "  <thead>\n",
       "    <tr style=\"text-align: right;\">\n",
       "      <th></th>\n",
       "      <th>Dbirth</th>\n",
       "      <th>Dcoll</th>\n",
       "      <th>d14C</th>\n",
       "    </tr>\n",
       "  </thead>\n",
       "  <tbody>\n",
       "    <tr>\n",
       "      <th>0</th>\n",
       "      <td>1944.981605</td>\n",
       "      <td>2016.447412</td>\n",
       "      <td>0.068673</td>\n",
       "    </tr>\n",
       "    <tr>\n",
       "      <th>1</th>\n",
       "      <td>1968.028572</td>\n",
       "      <td>2014.557975</td>\n",
       "      <td>0.072390</td>\n",
       "    </tr>\n",
       "    <tr>\n",
       "      <th>2</th>\n",
       "      <td>1959.279758</td>\n",
       "      <td>2015.168579</td>\n",
       "      <td>0.084830</td>\n",
       "    </tr>\n",
       "    <tr>\n",
       "      <th>3</th>\n",
       "      <td>1953.946339</td>\n",
       "      <td>2015.465447</td>\n",
       "      <td>0.062217</td>\n",
       "    </tr>\n",
       "    <tr>\n",
       "      <th>4</th>\n",
       "      <td>1936.240746</td>\n",
       "      <td>2015.824280</td>\n",
       "      <td>0.074492</td>\n",
       "    </tr>\n",
       "  </tbody>\n",
       "</table>\n",
       "</div>"
      ],
      "text/plain": [
       "        Dbirth        Dcoll      d14C\n",
       "0  1944.981605  2016.447412  0.068673\n",
       "1  1968.028572  2014.557975  0.072390\n",
       "2  1959.279758  2015.168579  0.084830\n",
       "3  1953.946339  2015.465447  0.062217\n",
       "4  1936.240746  2015.824280  0.074492"
      ]
     },
     "execution_count": 22,
     "metadata": {},
     "output_type": "execute_result"
    }
   ],
   "source": [
    "artifical_data.head()"
   ]
  },
  {
   "cell_type": "markdown",
   "metadata": {},
   "source": [
    "## Parameter recovery"
   ]
  },
  {
   "cell_type": "code",
   "execution_count": 23,
   "metadata": {
    "ExecuteTime": {
     "end_time": "2018-01-04T19:02:32.534665Z",
     "start_time": "2018-01-04T19:02:28.037166Z"
    }
   },
   "outputs": [
    {
     "data": {
      "image/png": "[encoded data removed]",
      "text/plain": [
       "<matplotlib.figure.Figure at 0x7f6514104588>"
      ]
     },
     "metadata": {},
     "output_type": "display_data"
    }
   ],
   "source": [
    "xx = np.linspace(np.log(0.05), np.log(1.5), 10)\n",
    "yy = [SSE([loglam], I1, artifical_data) for loglam in xx]\n",
    "plt.plot(xx, yy)\n",
    "\n",
    "plt.xlabel('loglambda')\n",
    "plt.ylabel('SSE')\n",
    "\n",
    "plt.show()"
   ]
  },
  {
   "cell_type": "code",
   "execution_count": 27,
   "metadata": {
    "ExecuteTime": {
     "end_time": "2018-01-04T19:03:33.816611Z",
     "start_time": "2018-01-04T19:03:29.385348Z"
    }
   },
   "outputs": [
    {
     "data": {
      "image/png": "[encoded data removed]",
      "text/plain": [
       "<matplotlib.figure.Figure at 0x7f65146ae550>"
      ]
     },
     "metadata": {},
     "output_type": "display_data"
    }
   ],
   "source": [
    "xx = np.linspace(np.log(0.05), np.log(1.5), 10)\n",
    "yy = [Sigma([loglam], I1, artifical_data) for loglam in xx]\n",
    "plt.plot(xx, yy)\n",
    "\n",
    "plt.xlabel('loglambda')\n",
    "plt.ylabel('sigma')\n",
    "\n",
    "plt.show()"
   ]
  },
  {
   "cell_type": "code",
   "execution_count": 32,
   "metadata": {
    "ExecuteTime": {
     "end_time": "2018-01-04T19:05:50.088239Z",
     "start_time": "2018-01-04T19:05:43.883565Z"
    }
   },
   "outputs": [
    {
     "name": "stderr",
     "output_type": "stream",
     "text": [
      "/home/fabrost/miniconda3/envs/py3/lib/python3.6/site-packages/scipy/integrate/_ivp/rk.py:145: RuntimeWarning: divide by zero encountered in double_scalars\n",
      "  max(1, SAFETY * error_norm ** (-1 / (order + 1))))\n"
     ]
    }
   ],
   "source": [
    "res = sp.optimize.brute(func=Nloglike, \n",
    "                  ranges=[(np.log(0.01), np.log(10.0))],\n",
    "                  args = (I1, artifical_data),\n",
    "                  Ns = 10,\n",
    "                  full_output = True,\n",
    "                  finish=None)"
   ]
  },
  {
   "cell_type": "code",
   "execution_count": 36,
   "metadata": {
    "ExecuteTime": {
     "end_time": "2018-01-04T19:06:43.242223Z",
     "start_time": "2018-01-04T19:06:42.864644Z"
    }
   },
   "outputs": [
    {
     "name": "stdout",
     "output_type": "stream",
     "text": [
      "lamda 0.1\n",
      "sigma 0.00926419903019\n"
     ]
    }
   ],
   "source": [
    "lam = sp.exp(res[0])\n",
    "print('lamda', lam)\n",
    "\n",
    "sig = Sigma([np.log(lam)], I1, artifical_data)\n",
    "print('sigma', sig)"
   ]
  },
  {
   "cell_type": "code",
   "execution_count": 37,
   "metadata": {
    "ExecuteTime": {
     "end_time": "2018-01-04T19:06:46.817276Z",
     "start_time": "2018-01-04T19:06:46.740356Z"
    }
   },
   "outputs": [
    {
     "data": {
      "image/png": "[encoded data removed]",
      "text/plain": [
       "<matplotlib.figure.Figure at 0x7f65145bf198>"
      ]
     },
     "metadata": {},
     "output_type": "display_data"
    }
   ],
   "source": [
    "plt.plot(res[-2], res[-1]-res[1])\n",
    "\n",
    "plt.xlabel('loglambda')\n",
    "plt.ylabel('nloglike')\n",
    "\n",
    "plt.show()"
   ]
  },
  {
   "cell_type": "markdown",
   "metadata": {},
   "source": [
    "### Plot"
   ]
  },
  {
   "cell_type": "code",
   "execution_count": 40,
   "metadata": {
    "ExecuteTime": {
     "end_time": "2018-01-04T19:07:53.143242Z",
     "start_time": "2018-01-04T19:07:51.492917Z"
    }
   },
   "outputs": [
    {
     "data": {
      "image/png": "[encoded data removed]",
      "text/plain": [
       "<matplotlib.figure.Figure at 0x7f65145e6e10>"
      ]
     },
     "metadata": {},
     "output_type": "display_data"
    }
   ],
   "source": [
    "fig, axs = plt.subplots(2, 1, sharex = True, figsize = (12, 8))\n",
    "\n",
    "time = sp.linspace(1910.0, 2020.0, 1000)\n",
    "\n",
    "\n",
    "for ax in axs:\n",
    "    ax.plot(time, np.vectorize(c14_models.C_atm)(time), label = 'Atmosphere', color = 'black')\n",
    "\n",
    "    ax.errorbar(artifical_data['Dbirth'], \\\n",
    "                I1(artifical_data['Dbirth'], \n",
    "                   artifical_data['Dcoll'], \n",
    "                   np.log(lam)), \n",
    "                sig,\n",
    "                color = 'white', ecolor = 'black', \n",
    "                marker='s', ls = '',\n",
    "                label = 'Scenario I1')\n",
    "\n",
    "\n",
    "    ax.errorbar(artifical_data['Dbirth'], \n",
    "                artifical_data['d14C'], \n",
    "                marker = 'o', ls = 'None', color = 'black',\n",
    "                label = 'Artifical data')\n",
    "#     ax.errorbar(hepatocyte_data.query('Dcoll < 2015')['Dbirth'], hepatocyte_data.query('Dcoll < 2015')['d14C'], \n",
    "#                marker = 'o', ls = 'None', color = 'red', \n",
    "#                label = 'Hepato DNA (coll before 2015)')\n",
    "\n",
    "\n",
    "    ax.set_xlim((1909, 2020))\n",
    "    ax.set_ylim(-0.1, 0.9)\n",
    "    ax.set_xticks(sp.linspace(1910, 2010, 6), minor = 1)\n",
    "    # ax.grid(which='both')\n",
    "    \n",
    "\n",
    "    ax.set_xlabel('Calendar year')\n",
    "    ax.set_ylabel('$\\Delta^{14}$C')\n",
    "\n",
    "axs[0].legend()\n",
    "axs[1].set_ylim(-0.0, 0.15)\n",
    "    \n",
    "plt.savefig('plots/c14_predict_L1.png', bbox_inches='tight', dpi=300)\n",
    "\n",
    "plt.show()"
   ]
  },
  {
   "cell_type": "markdown",
   "metadata": {},
   "source": [
    "## Fit"
   ]
  },
  {
   "cell_type": "code",
   "execution_count": 143,
   "metadata": {
    "ExecuteTime": {
     "end_time": "2018-01-05T13:09:41.495831Z",
     "start_time": "2018-01-05T13:09:35.606152Z"
    }
   },
   "outputs": [
    {
     "data": {
      "image/png": "[encoded data removed]",
      "text/plain": [
       "<matplotlib.figure.Figure at 0x7f650df86ef0>"
      ]
     },
     "metadata": {},
     "output_type": "display_data"
    }
   ],
   "source": [
    "res = sp.optimize.brute(func=Nloglike, \n",
    "                  ranges=[(np.log(0.01), np.log(10.0))],\n",
    "                  args = (I1, hepatocyte_data,),\n",
    "                  Ns = 10,\n",
    "                  full_output = True,\n",
    "                  finish=None)\n",
    "\n",
    "plt.plot(res[-2], res[-1]-res[1])\n",
    "\n",
    "plt.xlabel('loglambda')\n",
    "plt.ylabel('nloglike')\n",
    "\n",
    "plt.show()"
   ]
  },
  {
   "cell_type": "code",
   "execution_count": 162,
   "metadata": {
    "ExecuteTime": {
     "end_time": "2018-01-05T13:19:38.924774Z",
     "start_time": "2018-01-05T13:19:23.515578Z"
    }
   },
   "outputs": [
    {
     "data": {
      "image/png": "[encoded data removed]",
      "text/plain": [
       "<matplotlib.figure.Figure at 0x7f650e169e10>"
      ]
     },
     "metadata": {},
     "output_type": "display_data"
    }
   ],
   "source": [
    "res = sp.optimize.brute(func=Nloglike, \n",
    "                  ranges=[(-2, -1)],\n",
    "                  args = (I1, hepatocyte_data,),\n",
    "                  Ns = 50,\n",
    "                  full_output = True,\n",
    "                  finish=None)\n",
    "\n",
    "plt.plot(res[-2], res[-1]-res[1])\n",
    "\n",
    "plt.xlabel('loglambda')\n",
    "plt.ylabel('nloglike')\n",
    "\n",
    "plt.show()"
   ]
  },
  {
   "cell_type": "code",
   "execution_count": 163,
   "metadata": {
    "ExecuteTime": {
     "end_time": "2018-01-05T13:19:39.226438Z",
     "start_time": "2018-01-05T13:19:38.925942Z"
    }
   },
   "outputs": [
    {
     "name": "stdout",
     "output_type": "stream",
     "text": [
      "lamda 0.199439390075\n",
      "sigma 0.0168037046849\n"
     ]
    },
    {
     "data": {
      "text/html": [
       "<div>\n",
       "<style>\n",
       "    .dataframe thead tr:only-child th {\n",
       "        text-align: right;\n",
       "    }\n",
       "\n",
       "    .dataframe thead th {\n",
       "        text-align: left;\n",
       "    }\n",
       "\n",
       "    .dataframe tbody tr th {\n",
       "        vertical-align: top;\n",
       "    }\n",
       "</style>\n",
       "<table border=\"1\" class=\"dataframe\">\n",
       "  <thead>\n",
       "    <tr style=\"text-align: right;\">\n",
       "      <th></th>\n",
       "      <th>loglike</th>\n",
       "      <th>n</th>\n",
       "      <th>k</th>\n",
       "      <th>cAIC</th>\n",
       "    </tr>\n",
       "  </thead>\n",
       "  <tbody>\n",
       "    <tr>\n",
       "      <th>I1</th>\n",
       "      <td>50.677130</td>\n",
       "      <td>19.0</td>\n",
       "      <td>2.0</td>\n",
       "      <td>-96.604260</td>\n",
       "    </tr>\n",
       "    <tr>\n",
       "      <th>I2</th>\n",
       "      <td>50.665708</td>\n",
       "      <td>19.0</td>\n",
       "      <td>3.0</td>\n",
       "      <td>-93.731416</td>\n",
       "    </tr>\n",
       "  </tbody>\n",
       "</table>\n",
       "</div>"
      ],
      "text/plain": [
       "      loglike     n    k       cAIC\n",
       "I1  50.677130  19.0  2.0 -96.604260\n",
       "I2  50.665708  19.0  3.0 -93.731416"
      ]
     },
     "execution_count": 163,
     "metadata": {},
     "output_type": "execute_result"
    }
   ],
   "source": [
    "lam = sp.exp(res[0])\n",
    "print('lamda', lam)\n",
    "\n",
    "sig = Sigma([np.log(lam)], I1, hepatocyte_data)\n",
    "print('sigma', sig)\n",
    "\n",
    "results.loc['I1', 'loglike'] = -res[1]\n",
    "results.loc['I1', 'k'] = 2\n",
    "results.loc['I1', 'n'] = len(hepatocyte_data)\n",
    "\n",
    "results['cAIC'] = 2 * results['k'] - 2 * results['loglike'] + (2*results['k']**2 + 2*results['k'])/(results['n']-results['k']-1)\n",
    "\n",
    "results"
   ]
  },
  {
   "cell_type": "code",
   "execution_count": null,
   "metadata": {},
   "outputs": [],
   "source": [
    "Sigma([np.log(lam)], I1, artifical_data)"
   ]
  },
  {
   "cell_type": "markdown",
   "metadata": {},
   "source": [
    "### Plot"
   ]
  },
  {
   "cell_type": "code",
   "execution_count": 47,
   "metadata": {
    "ExecuteTime": {
     "end_time": "2018-01-04T19:09:04.334256Z",
     "start_time": "2018-01-04T19:09:02.766358Z"
    }
   },
   "outputs": [
    {
     "data": {
      "image/png": "[encoded data removed]",
      "text/plain": [
       "<matplotlib.figure.Figure at 0x7f65144640f0>"
      ]
     },
     "metadata": {},
     "output_type": "display_data"
    }
   ],
   "source": [
    "fig, axs = plt.subplots(2, 1, sharex = True, figsize = (12, 8))\n",
    "\n",
    "time = sp.linspace(1910.0, 2020.0, 1000)\n",
    "\n",
    "\n",
    "for ax in axs:\n",
    "    ax.plot(time, np.vectorize(c14_models.C_atm)(time), label = 'Atmosphere', color = 'black')\n",
    "\n",
    "    ax.errorbar(hepatocyte_data['Dbirth'], \\\n",
    "                I1(hepatocyte_data['Dbirth'], \n",
    "                   hepatocyte_data['Dcoll'], \n",
    "                   np.log(lam)), \n",
    "                sig,\n",
    "                color = 'white', ecolor = 'black', \n",
    "                marker='s', ls = '',\n",
    "                label = 'Scenario I1')\n",
    "\n",
    "\n",
    "    ax.errorbar(hepatocyte_data['Dbirth'], \n",
    "                hepatocyte_data['d14C'], \n",
    "                marker = 'o', ls = 'None', color = 'black',\n",
    "                label = 'Artifical data')\n",
    "#     ax.errorbar(hepatocyte_data.query('Dcoll < 2015')['Dbirth'], hepatocyte_data.query('Dcoll < 2015')['d14C'], \n",
    "#                marker = 'o', ls = 'None', color = 'red', \n",
    "#                label = 'Hepato DNA (coll before 2015)')\n",
    "\n",
    "\n",
    "    ax.set_xlim((1909, 2020))\n",
    "    ax.set_ylim(-0.1, 0.9)\n",
    "    ax.set_xticks(sp.linspace(1910, 2010, 6), minor = 1)\n",
    "    # ax.grid(which='both')\n",
    "    \n",
    "\n",
    "    ax.set_xlabel('Calendar year')\n",
    "    ax.set_ylabel('$\\Delta^{14}$C')\n",
    "\n",
    "axs[0].legend()\n",
    "axs[1].set_ylim(-0.0, 0.15)\n",
    "    \n",
    "plt.savefig('plots/c14_predict_L1.png', bbox_inches='tight', dpi=300)\n",
    "\n",
    "plt.show()"
   ]
  },
  {
   "cell_type": "markdown",
   "metadata": {},
   "source": [
    "# IL"
   ]
  },
  {
   "cell_type": "code",
   "execution_count": 52,
   "metadata": {
    "ExecuteTime": {
     "end_time": "2018-01-12T14:39:25.883970Z",
     "start_time": "2018-01-12T14:39:25.880248Z"
    }
   },
   "outputs": [],
   "source": [
    "@np.vectorize\n",
    "def IL(Dbirth, Dcoll, loglam, f):\n",
    "    lam = np.exp(loglam)\n",
    "    return c14_models.IL(Dbirth, Dcoll, lam, f, t_eval=np.linspace(Dbirth, Dcoll))[1][-1]"
   ]
  },
  {
   "cell_type": "markdown",
   "metadata": {},
   "source": [
    "## Fit"
   ]
  },
  {
   "cell_type": "code",
   "execution_count": 59,
   "metadata": {
    "ExecuteTime": {
     "end_time": "2018-01-12T14:41:14.362159Z",
     "start_time": "2018-01-12T14:41:14.235678Z"
    }
   },
   "outputs": [
    {
     "name": "stderr",
     "output_type": "stream",
     "text": [
      "/home/fabrost/work/C14_liver/c14_models.py:149: RuntimeWarning: divide by zero encountered in double_scalars\n",
      "  d_cB = lam * f / (1-f) * (cA - cB)\n",
      "/home/fabrost/work/C14_liver/c14_models.py:149: RuntimeWarning: invalid value encountered in double_scalars\n",
      "  d_cB = lam * f / (1-f) * (cA - cB)\n"
     ]
    },
    {
     "data": {
      "text/plain": [
       "array(nan)"
      ]
     },
     "execution_count": 59,
     "metadata": {},
     "output_type": "execute_result"
    }
   ],
   "source": [
    "IL(1930, 2015, np.log(0.01), 1.0)"
   ]
  },
  {
   "cell_type": "code",
   "execution_count": 71,
   "metadata": {
    "ExecuteTime": {
     "end_time": "2018-01-12T15:00:19.604731Z",
     "start_time": "2018-01-12T14:44:17.529888Z"
    }
   },
   "outputs": [],
   "source": [
    "res = sp.optimize.brute(func=Nloglike, \n",
    "                  ranges=[(np.log(0.1), np.log(100.0)), (0.01, 0.99)],\n",
    "                  args = (IL, hepatocyte_data),\n",
    "                  Ns = 20,\n",
    "                  full_output = True,\n",
    "                  finish=None)"
   ]
  },
  {
   "cell_type": "code",
   "execution_count": 72,
   "metadata": {
    "ExecuteTime": {
     "end_time": "2018-01-12T15:00:19.609358Z",
     "start_time": "2018-01-12T15:00:19.606110Z"
    }
   },
   "outputs": [
    {
     "data": {
      "text/plain": [
       "array([-1.57545296,  0.83526316])"
      ]
     },
     "execution_count": 72,
     "metadata": {},
     "output_type": "execute_result"
    }
   ],
   "source": [
    "res[0]"
   ]
  },
  {
   "cell_type": "code",
   "execution_count": 73,
   "metadata": {
    "ExecuteTime": {
     "end_time": "2018-01-12T15:00:19.760614Z",
     "start_time": "2018-01-12T15:00:19.610522Z"
    }
   },
   "outputs": [
    {
     "data": {
      "image/png": "[encoded data removed]",
      "text/plain": [
       "<matplotlib.figure.Figure at 0x7fbe96683160>"
      ]
     },
     "metadata": {},
     "output_type": "display_data"
    }
   ],
   "source": [
    "x = res[2][0]\n",
    "y = res[2][1]\n",
    "z = res[3]\n",
    "z -= z.min()\n",
    "\n",
    "plt.pcolormesh(x, y, z)\n",
    "\n",
    "CS = plt.contour(x, y, z)\n",
    "plt.clabel(CS, inline=1, fontsize=10)\n",
    "\n",
    "plt.xlabel('loglam')\n",
    "plt.ylabel('f')\n",
    "plt.colorbar()\n",
    "\n",
    "plt.show()"
   ]
  },
  {
   "cell_type": "markdown",
   "metadata": {},
   "source": [
    "# I2"
   ]
  },
  {
   "cell_type": "code",
   "execution_count": 59,
   "metadata": {
    "ExecuteTime": {
     "end_time": "2018-01-04T19:23:51.744501Z",
     "start_time": "2018-01-04T19:23:51.741221Z"
    }
   },
   "outputs": [],
   "source": [
    "@np.vectorize\n",
    "def I2(Dbirth, Dcoll, loglam, f):\n",
    "    lam = np.exp(loglam)\n",
    "    return c14_models.I2(Dbirth, Dcoll, lam, f)[1]"
   ]
  },
  {
   "cell_type": "markdown",
   "metadata": {},
   "source": [
    "## Artifical data"
   ]
  },
  {
   "cell_type": "code",
   "execution_count": 60,
   "metadata": {
    "ExecuteTime": {
     "end_time": "2018-01-04T19:23:55.349793Z",
     "start_time": "2018-01-04T19:23:54.601732Z"
    }
   },
   "outputs": [],
   "source": [
    "lam = 0.1\n",
    "f = 0.5\n",
    "n = 20\n",
    "np.random.seed(42)\n",
    "artifical_data = pd.DataFrame(\n",
    "                    data={'Dbirth': \n",
    "                               np.random.uniform(1930, 1970, n), \n",
    "                          'Dcoll': \n",
    "                               np.random.uniform(2014, 2018, n)}\n",
    "                             )\n",
    "\n",
    "artifical_data['d14C'] = I2(artifical_data['Dbirth'], \n",
    "                            artifical_data['Dcoll'], \n",
    "                            loglam=np.log(lam), \n",
    "                            f=f) \n",
    "artifical_data['d14C'] += np.random.normal(0, 0.01, \n",
    "                                           len(artifical_data)\n",
    "                                          )"
   ]
  },
  {
   "cell_type": "code",
   "execution_count": 61,
   "metadata": {
    "ExecuteTime": {
     "end_time": "2018-01-04T19:23:56.734277Z",
     "start_time": "2018-01-04T19:23:56.727415Z"
    }
   },
   "outputs": [
    {
     "data": {
      "text/html": [
       "<div>\n",
       "<style>\n",
       "    .dataframe thead tr:only-child th {\n",
       "        text-align: right;\n",
       "    }\n",
       "\n",
       "    .dataframe thead th {\n",
       "        text-align: left;\n",
       "    }\n",
       "\n",
       "    .dataframe tbody tr th {\n",
       "        vertical-align: top;\n",
       "    }\n",
       "</style>\n",
       "<table border=\"1\" class=\"dataframe\">\n",
       "  <thead>\n",
       "    <tr style=\"text-align: right;\">\n",
       "      <th></th>\n",
       "      <th>Dbirth</th>\n",
       "      <th>Dcoll</th>\n",
       "      <th>d14C</th>\n",
       "    </tr>\n",
       "  </thead>\n",
       "  <tbody>\n",
       "    <tr>\n",
       "      <th>0</th>\n",
       "      <td>1944.981605</td>\n",
       "      <td>2016.447412</td>\n",
       "      <td>0.023212</td>\n",
       "    </tr>\n",
       "    <tr>\n",
       "      <th>1</th>\n",
       "      <td>1968.028572</td>\n",
       "      <td>2014.557975</td>\n",
       "      <td>0.358806</td>\n",
       "    </tr>\n",
       "    <tr>\n",
       "      <th>2</th>\n",
       "      <td>1959.279758</td>\n",
       "      <td>2015.168579</td>\n",
       "      <td>0.109228</td>\n",
       "    </tr>\n",
       "    <tr>\n",
       "      <th>3</th>\n",
       "      <td>1953.946339</td>\n",
       "      <td>2015.465447</td>\n",
       "      <td>0.012777</td>\n",
       "    </tr>\n",
       "    <tr>\n",
       "      <th>4</th>\n",
       "      <td>1936.240746</td>\n",
       "      <td>2015.824280</td>\n",
       "      <td>0.030668</td>\n",
       "    </tr>\n",
       "  </tbody>\n",
       "</table>\n",
       "</div>"
      ],
      "text/plain": [
       "        Dbirth        Dcoll      d14C\n",
       "0  1944.981605  2016.447412  0.023212\n",
       "1  1968.028572  2014.557975  0.358806\n",
       "2  1959.279758  2015.168579  0.109228\n",
       "3  1953.946339  2015.465447  0.012777\n",
       "4  1936.240746  2015.824280  0.030668"
      ]
     },
     "execution_count": 61,
     "metadata": {},
     "output_type": "execute_result"
    }
   ],
   "source": [
    "artifical_data.head()"
   ]
  },
  {
   "cell_type": "markdown",
   "metadata": {},
   "source": [
    "## Parameter recovery"
   ]
  },
  {
   "cell_type": "code",
   "execution_count": 65,
   "metadata": {
    "ExecuteTime": {
     "end_time": "2018-01-04T19:26:11.204775Z",
     "start_time": "2018-01-04T19:26:06.735614Z"
    }
   },
   "outputs": [
    {
     "data": {
      "image/png": "[encoded data removed]",
      "text/plain": [
       "<matplotlib.figure.Figure at 0x7f6513f35860>"
      ]
     },
     "metadata": {},
     "output_type": "display_data"
    }
   ],
   "source": [
    "xx = np.linspace(np.log(0.05), np.log(1.5), 10)\n",
    "yy = [SSE([loglam, 0.5], I2, artifical_data) for loglam in xx]\n",
    "plt.plot(xx, yy)\n",
    "\n",
    "plt.xlabel('loglambda')\n",
    "plt.ylabel('SSE')\n",
    "\n",
    "plt.show()"
   ]
  },
  {
   "cell_type": "code",
   "execution_count": 66,
   "metadata": {
    "ExecuteTime": {
     "end_time": "2018-01-04T19:26:20.666301Z",
     "start_time": "2018-01-04T19:26:16.202200Z"
    }
   },
   "outputs": [
    {
     "data": {
      "image/png": "[encoded data removed]",
      "text/plain": [
       "<matplotlib.figure.Figure at 0x7f650e6b8240>"
      ]
     },
     "metadata": {},
     "output_type": "display_data"
    }
   ],
   "source": [
    "xx = np.linspace(np.log(0.05), np.log(1.5), 10)\n",
    "yy = [Sigma([loglam, 0.5], I2, artifical_data) for loglam in xx]\n",
    "plt.plot(xx, yy)\n",
    "\n",
    "plt.xlabel('loglambda')\n",
    "plt.ylabel('sigma')\n",
    "\n",
    "plt.show()"
   ]
  },
  {
   "cell_type": "code",
   "execution_count": 91,
   "metadata": {
    "ExecuteTime": {
     "end_time": "2018-01-04T19:35:50.156799Z",
     "start_time": "2018-01-04T19:34:51.362213Z"
    }
   },
   "outputs": [
    {
     "name": "stderr",
     "output_type": "stream",
     "text": [
      "/home/fabrost/miniconda3/envs/py3/lib/python3.6/site-packages/scipy/integrate/_ivp/rk.py:145: RuntimeWarning: divide by zero encountered in double_scalars\n",
      "  max(1, SAFETY * error_norm ** (-1 / (order + 1))))\n"
     ]
    }
   ],
   "source": [
    "res = sp.optimize.brute(func=Nloglike, \n",
    "                  ranges=[(np.log(0.01), np.log(10.0)), (0, 1)],\n",
    "                  args = (I2, artifical_data),\n",
    "                  Ns = 10,\n",
    "                  full_output = True,\n",
    "                  finish=None)"
   ]
  },
  {
   "cell_type": "code",
   "execution_count": 92,
   "metadata": {
    "ExecuteTime": {
     "end_time": "2018-01-04T19:35:50.550366Z",
     "start_time": "2018-01-04T19:35:50.157793Z"
    }
   },
   "outputs": [
    {
     "name": "stdout",
     "output_type": "stream",
     "text": [
      "lamda 0.1\n",
      "f 0.555555555556\n",
      "sigma 0.0157193319169\n"
     ]
    }
   ],
   "source": [
    "lam = sp.exp(res[0][0])\n",
    "print('lamda', lam)\n",
    "\n",
    "f = res[0][1]\n",
    "print('f', f)\n",
    "\n",
    "sig = Sigma([np.log(lam), f], I2, artifical_data)\n",
    "print('sigma', sig)"
   ]
  },
  {
   "cell_type": "code",
   "execution_count": 105,
   "metadata": {
    "ExecuteTime": {
     "end_time": "2018-01-04T19:41:26.343639Z",
     "start_time": "2018-01-04T19:41:26.227391Z"
    }
   },
   "outputs": [
    {
     "data": {
      "image/png": "[encoded data removed]",
      "text/plain": [
       "<matplotlib.figure.Figure at 0x7f650de4acf8>"
      ]
     },
     "metadata": {},
     "output_type": "display_data"
    }
   ],
   "source": [
    "x = res[2][0]\n",
    "y = res[2][1]\n",
    "z = res[3]\n",
    "z -= z.min()\n",
    "\n",
    "plt.pcolormesh(x, y, z)\n",
    "\n",
    "CS = plt.contour(x, y, z, levels = [0.5, 2.0, 8.0])\n",
    "plt.clabel(CS, inline=1, fontsize=10)\n",
    "\n",
    "plt.xlabel('loglam')\n",
    "plt.ylabel('f')\n",
    "plt.colorbar()\n",
    "\n",
    "plt.show()"
   ]
  },
  {
   "cell_type": "code",
   "execution_count": 109,
   "metadata": {
    "ExecuteTime": {
     "end_time": "2018-01-04T19:44:28.924331Z",
     "start_time": "2018-01-04T19:43:50.449326Z"
    }
   },
   "outputs": [],
   "source": [
    "res = sp.optimize.brute(func=Nloglike, \n",
    "                  ranges=[(-2.5, -1.5), (0.4, 0.6)],\n",
    "                  args = (I2, artifical_data),\n",
    "                  Ns = 10,\n",
    "                  full_output = True,\n",
    "                  finish=None)"
   ]
  },
  {
   "cell_type": "code",
   "execution_count": 110,
   "metadata": {
    "ExecuteTime": {
     "end_time": "2018-01-04T19:44:29.334565Z",
     "start_time": "2018-01-04T19:44:28.925929Z"
    }
   },
   "outputs": [
    {
     "name": "stdout",
     "output_type": "stream",
     "text": [
      "lamda 0.114558843993\n",
      "f 0.488888888889\n",
      "sigma 0.00900473856192\n"
     ]
    }
   ],
   "source": [
    "lam = sp.exp(res[0][0])\n",
    "print('lamda', lam)\n",
    "\n",
    "f = res[0][1]\n",
    "print('f', f)\n",
    "\n",
    "sig = Sigma([np.log(lam), f], I2, artifical_data)\n",
    "print('sigma', sig)"
   ]
  },
  {
   "cell_type": "code",
   "execution_count": 111,
   "metadata": {
    "ExecuteTime": {
     "end_time": "2018-01-04T19:44:29.457694Z",
     "start_time": "2018-01-04T19:44:29.335821Z"
    }
   },
   "outputs": [
    {
     "data": {
      "image/png": "[encoded data removed]",
      "text/plain": [
       "<matplotlib.figure.Figure at 0x7f650decd828>"
      ]
     },
     "metadata": {},
     "output_type": "display_data"
    }
   ],
   "source": [
    "x = res[2][0]\n",
    "y = res[2][1]\n",
    "z = res[3]\n",
    "z -= z.min()\n",
    "\n",
    "plt.pcolormesh(x, y, z)\n",
    "\n",
    "CS = plt.contour(x, y, z, levels = [0.5, 2.0, 8.0])\n",
    "plt.clabel(CS, inline=1, fontsize=10)\n",
    "\n",
    "plt.xlabel('loglam')\n",
    "plt.ylabel('f')\n",
    "plt.colorbar()\n",
    "\n",
    "plt.show()"
   ]
  },
  {
   "cell_type": "markdown",
   "metadata": {},
   "source": [
    "### Plot"
   ]
  },
  {
   "cell_type": "code",
   "execution_count": 40,
   "metadata": {
    "ExecuteTime": {
     "end_time": "2018-01-04T19:07:53.143242Z",
     "start_time": "2018-01-04T19:07:51.492917Z"
    }
   },
   "outputs": [
    {
     "data": {
      "image/png": "[encoded data removed]",
      "text/plain": [
       "<matplotlib.figure.Figure at 0x7f65145e6e10>"
      ]
     },
     "metadata": {},
     "output_type": "display_data"
    }
   ],
   "source": [
    "fig, axs = plt.subplots(2, 1, sharex = True, figsize = (12, 8))\n",
    "\n",
    "time = sp.linspace(1910.0, 2020.0, 1000)\n",
    "\n",
    "\n",
    "for ax in axs:\n",
    "    ax.plot(time, np.vectorize(c14_models.C_atm)(time), label = 'Atmosphere', color = 'black')\n",
    "\n",
    "    ax.errorbar(artifical_data['Dbirth'], \\\n",
    "                I1(artifical_data['Dbirth'], \n",
    "                   artifical_data['Dcoll'], \n",
    "                   np.log(lam)), \n",
    "                sig,\n",
    "                color = 'white', ecolor = 'black', \n",
    "                marker='s', ls = '',\n",
    "                label = 'Scenario I1')\n",
    "\n",
    "\n",
    "    ax.errorbar(artifical_data['Dbirth'], \n",
    "                artifical_data['d14C'], \n",
    "                marker = 'o', ls = 'None', color = 'black',\n",
    "                label = 'Artifical data')\n",
    "#     ax.errorbar(hepatocyte_data.query('Dcoll < 2015')['Dbirth'], hepatocyte_data.query('Dcoll < 2015')['d14C'], \n",
    "#                marker = 'o', ls = 'None', color = 'red', \n",
    "#                label = 'Hepato DNA (coll before 2015)')\n",
    "\n",
    "\n",
    "    ax.set_xlim((1909, 2020))\n",
    "    ax.set_ylim(-0.1, 0.9)\n",
    "    ax.set_xticks(sp.linspace(1910, 2010, 6), minor = 1)\n",
    "    # ax.grid(which='both')\n",
    "    \n",
    "\n",
    "    ax.set_xlabel('Calendar year')\n",
    "    ax.set_ylabel('$\\Delta^{14}$C')\n",
    "\n",
    "axs[0].legend()\n",
    "axs[1].set_ylim(-0.0, 0.15)\n",
    "    \n",
    "plt.savefig('plots/c14_predict_L1.png', bbox_inches='tight', dpi=300)\n",
    "\n",
    "plt.show()"
   ]
  },
  {
   "cell_type": "markdown",
   "metadata": {},
   "source": [
    "## Fit"
   ]
  },
  {
   "cell_type": "code",
   "execution_count": 112,
   "metadata": {
    "ExecuteTime": {
     "end_time": "2018-01-04T19:47:06.911214Z",
     "start_time": "2018-01-04T19:47:03.761734Z"
    }
   },
   "outputs": [
    {
     "data": {
      "image/png": "[encoded data removed]",
      "text/plain": [
       "<matplotlib.figure.Figure at 0x7f6513f35e80>"
      ]
     },
     "metadata": {},
     "output_type": "display_data"
    }
   ],
   "source": [
    "xx = np.linspace(np.log(0.05), np.log(1.5), 10)\n",
    "yy = [SSE([loglam, 0.5], I2, hepatocyte_data) for loglam in xx]\n",
    "plt.plot(xx, yy)\n",
    "\n",
    "plt.xlabel('loglambda')\n",
    "plt.ylabel('SSE')\n",
    "\n",
    "plt.show()"
   ]
  },
  {
   "cell_type": "code",
   "execution_count": 113,
   "metadata": {
    "ExecuteTime": {
     "end_time": "2018-01-04T19:47:10.072116Z",
     "start_time": "2018-01-04T19:47:06.912523Z"
    }
   },
   "outputs": [
    {
     "data": {
      "image/png": "[encoded data removed]",
      "text/plain": [
       "<matplotlib.figure.Figure at 0x7f650c3e9c18>"
      ]
     },
     "metadata": {},
     "output_type": "display_data"
    }
   ],
   "source": [
    "xx = np.linspace(np.log(0.05), np.log(1.5), 10)\n",
    "yy = [Sigma([loglam, 0.5], I2, hepatocyte_data) for loglam in xx]\n",
    "plt.plot(xx, yy)\n",
    "\n",
    "plt.xlabel('loglambda')\n",
    "plt.ylabel('sigma')\n",
    "\n",
    "plt.show()"
   ]
  },
  {
   "cell_type": "code",
   "execution_count": 118,
   "metadata": {
    "ExecuteTime": {
     "end_time": "2018-01-04T19:50:40.839262Z",
     "start_time": "2018-01-04T19:49:13.568160Z"
    }
   },
   "outputs": [],
   "source": [
    "res = sp.optimize.brute(func=Nloglike, \n",
    "                  ranges=[(np.log(0.01), np.log(100.0)), (0, 1)],\n",
    "                  args = (I2, hepatocyte_data),\n",
    "                  Ns = 10,\n",
    "                  full_output = True,\n",
    "                  finish=None)"
   ]
  },
  {
   "cell_type": "code",
   "execution_count": 121,
   "metadata": {
    "ExecuteTime": {
     "end_time": "2018-01-04T19:51:33.934949Z",
     "start_time": "2018-01-04T19:51:33.804056Z"
    }
   },
   "outputs": [
    {
     "data": {
      "image/png": "[encoded data removed]",
      "text/plain": [
       "<matplotlib.figure.Figure at 0x7f650dfa2710>"
      ]
     },
     "metadata": {},
     "output_type": "display_data"
    }
   ],
   "source": [
    "x = res[2][0]\n",
    "y = res[2][1]\n",
    "z = res[3]\n",
    "z -= z.min()\n",
    "\n",
    "plt.pcolormesh(x, y, z)\n",
    "\n",
    "CS = plt.contour(x, y, z)\n",
    "plt.clabel(CS, inline=1, fontsize=10)\n",
    "\n",
    "plt.xlabel('loglam')\n",
    "plt.ylabel('f')\n",
    "plt.colorbar()\n",
    "\n",
    "plt.show()"
   ]
  },
  {
   "cell_type": "code",
   "execution_count": 122,
   "metadata": {
    "ExecuteTime": {
     "end_time": "2018-01-05T12:54:47.488603Z",
     "start_time": "2018-01-05T12:54:31.097694Z"
    }
   },
   "outputs": [
    {
     "name": "stdout",
     "output_type": "stream",
     "text": [
      "lamda 0.188875602838\n",
      "f 1.0\n",
      "sigma 0.131376419336\n"
     ]
    },
    {
     "data": {
      "image/png": "[encoded data removed]",
      "text/plain": [
       "<matplotlib.figure.Figure at 0x7f650df156d8>"
      ]
     },
     "metadata": {},
     "output_type": "display_data"
    }
   ],
   "source": [
    "res = sp.optimize.brute(func=Nloglike, \n",
    "                  ranges=[(-2, 0), (0.8, 1)],\n",
    "                  args = (I2, hepatocyte_data),\n",
    "                  Ns = 7,\n",
    "                  full_output = True,\n",
    "                  finish=None)\n",
    "\n",
    "plt.pcolormesh(x, y, z)\n",
    "\n",
    "CS = plt.contour(x, y, z)\n",
    "plt.clabel(CS, inline=1, fontsize=10)\n",
    "\n",
    "plt.xlabel('loglam')\n",
    "plt.ylabel('f')\n",
    "plt.colorbar()\n",
    "\n",
    "plt.show()"
   ]
  },
  {
   "cell_type": "code",
   "execution_count": 149,
   "metadata": {
    "ExecuteTime": {
     "end_time": "2018-01-05T13:12:35.628447Z",
     "start_time": "2018-01-05T13:12:06.033816Z"
    }
   },
   "outputs": [
    {
     "data": {
      "image/png": "[encoded data removed]",
      "text/plain": [
       "<matplotlib.figure.Figure at 0x7f650c410940>"
      ]
     },
     "metadata": {},
     "output_type": "display_data"
    }
   ],
   "source": [
    "res = sp.optimize.brute(func=Nloglike, \n",
    "                  ranges=[(-2, -0.9), (0.925, 1)],\n",
    "                  args = (I2, hepatocyte_data),\n",
    "                  Ns = 10,\n",
    "                  full_output = True,\n",
    "                  finish=None)\n",
    "\n",
    "x = res[2][0]\n",
    "y = res[2][1]\n",
    "z = res[3]\n",
    "z -= z.min()\n",
    "\n",
    "plt.pcolormesh(x, y, z)\n",
    "\n",
    "CS = plt.contour(x, y, z)\n",
    "plt.clabel(CS, inline=1, fontsize=10)\n",
    "\n",
    "plt.xlabel('loglam')\n",
    "plt.ylabel('f')\n",
    "plt.colorbar()\n",
    "\n",
    "plt.show()"
   ]
  },
  {
   "cell_type": "code",
   "execution_count": 168,
   "metadata": {
    "ExecuteTime": {
     "end_time": "2018-01-05T13:21:33.835224Z",
     "start_time": "2018-01-05T13:21:14.885721Z"
    }
   },
   "outputs": [
    {
     "data": {
      "image/png": "[encoded data removed]",
      "text/plain": [
       "<matplotlib.figure.Figure at 0x7f650e0d7208>"
      ]
     },
     "metadata": {},
     "output_type": "display_data"
    }
   ],
   "source": [
    "res = sp.optimize.brute(func=Nloglike, \n",
    "                  ranges=[(-1.8, -1.3), (0.99, 1)],\n",
    "                  args = (I2, hepatocyte_data),\n",
    "                  Ns = 8,\n",
    "                  full_output = True,\n",
    "                  finish=None)\n",
    "\n",
    "x = res[2][0]\n",
    "y = res[2][1]\n",
    "z = res[3]\n",
    "z -= z.min()\n",
    "\n",
    "plt.pcolormesh(x, y, z)\n",
    "\n",
    "CS = plt.contour(x, y, z)\n",
    "plt.clabel(CS, inline=1, fontsize=10)\n",
    "\n",
    "plt.xlabel('loglam')\n",
    "plt.ylabel('f')\n",
    "plt.colorbar()\n",
    "\n",
    "plt.show()"
   ]
  },
  {
   "cell_type": "code",
   "execution_count": 166,
   "metadata": {
    "ExecuteTime": {
     "end_time": "2018-01-05T13:20:26.545872Z",
     "start_time": "2018-01-05T13:20:26.116749Z"
    }
   },
   "outputs": [
    {
     "data": {
      "text/plain": [
       "0.1319333814361569"
      ]
     },
     "execution_count": 166,
     "metadata": {},
     "output_type": "execute_result"
    }
   ],
   "source": [
    "Sigma([np.log(lam)], I1, artifical_data)"
   ]
  },
  {
   "cell_type": "code",
   "execution_count": 169,
   "metadata": {
    "ExecuteTime": {
     "end_time": "2018-01-05T13:21:34.152298Z",
     "start_time": "2018-01-05T13:21:33.836311Z"
    }
   },
   "outputs": [
    {
     "name": "stdout",
     "output_type": "stream",
     "text": [
      "lamda 0.204801454106\n",
      "f 0.997142857143\n",
      "sigma 0.0168021673604\n"
     ]
    },
    {
     "data": {
      "text/html": [
       "<div>\n",
       "<style>\n",
       "    .dataframe thead tr:only-child th {\n",
       "        text-align: right;\n",
       "    }\n",
       "\n",
       "    .dataframe thead th {\n",
       "        text-align: left;\n",
       "    }\n",
       "\n",
       "    .dataframe tbody tr th {\n",
       "        vertical-align: top;\n",
       "    }\n",
       "</style>\n",
       "<table border=\"1\" class=\"dataframe\">\n",
       "  <thead>\n",
       "    <tr style=\"text-align: right;\">\n",
       "      <th></th>\n",
       "      <th>loglike</th>\n",
       "      <th>n</th>\n",
       "      <th>k</th>\n",
       "      <th>cAIC</th>\n",
       "    </tr>\n",
       "  </thead>\n",
       "  <tbody>\n",
       "    <tr>\n",
       "      <th>I1</th>\n",
       "      <td>50.677130</td>\n",
       "      <td>19.0</td>\n",
       "      <td>2.0</td>\n",
       "      <td>-96.604260</td>\n",
       "    </tr>\n",
       "    <tr>\n",
       "      <th>I2</th>\n",
       "      <td>50.678868</td>\n",
       "      <td>19.0</td>\n",
       "      <td>3.0</td>\n",
       "      <td>-93.757737</td>\n",
       "    </tr>\n",
       "  </tbody>\n",
       "</table>\n",
       "</div>"
      ],
      "text/plain": [
       "      loglike     n    k       cAIC\n",
       "I1  50.677130  19.0  2.0 -96.604260\n",
       "I2  50.678868  19.0  3.0 -93.757737"
      ]
     },
     "execution_count": 169,
     "metadata": {},
     "output_type": "execute_result"
    }
   ],
   "source": [
    "lam = sp.exp(res[0][0])\n",
    "print('lamda', lam)\n",
    "\n",
    "f = res[0][1]\n",
    "print('f', f)\n",
    "\n",
    "sig = Sigma([np.log(lam), f], I2, hepatocyte_data)\n",
    "print('sigma', sig)\n",
    "\n",
    "results.loc['I2', 'loglike'] = -res[1]\n",
    "results.loc['I2', 'k'] = 3\n",
    "results.loc['I2', 'n'] = len(hepatocyte_data)\n",
    "\n",
    "results['cAIC'] = 2 * results['k'] - 2 * results['loglike'] + (2*results['k']**2 + 2*results['k'])/(results['n']-results['k']-1)\n",
    "\n",
    "results"
   ]
  },
  {
   "cell_type": "markdown",
   "metadata": {},
   "source": [
    "### Plot"
   ]
  },
  {
   "cell_type": "code",
   "execution_count": 170,
   "metadata": {
    "ExecuteTime": {
     "end_time": "2018-01-05T13:21:47.570458Z",
     "start_time": "2018-01-05T13:21:45.900816Z"
    }
   },
   "outputs": [
    {
     "data": {
      "image/png": "[encoded data removed]",
      "text/plain": [
       "<matplotlib.figure.Figure at 0x7f650e16db38>"
      ]
     },
     "metadata": {},
     "output_type": "display_data"
    }
   ],
   "source": [
    "fig, axs = plt.subplots(2, 1, sharex = True, figsize = (12, 8))\n",
    "\n",
    "time = sp.linspace(1910.0, 2020.0, 1000)\n",
    "\n",
    "\n",
    "for ax in axs:\n",
    "    ax.plot(time, np.vectorize(c14_models.C_atm)(time), label = 'Atmosphere', color = 'black')\n",
    "\n",
    "    ax.errorbar(hepatocyte_data['Dbirth'], \\\n",
    "                I2(hepatocyte_data['Dbirth'], \n",
    "                   hepatocyte_data['Dcoll'], \n",
    "                   np.log(lam), f), \n",
    "                sig,\n",
    "                color = 'white', ecolor = 'black', \n",
    "                marker='s', ls = '',\n",
    "                label = 'Scenario I1')\n",
    "\n",
    "\n",
    "    ax.errorbar(hepatocyte_data['Dbirth'], \n",
    "                hepatocyte_data['d14C'], \n",
    "                marker = 'o', ls = 'None', color = 'black',\n",
    "                label = 'Artifical data')\n",
    "#     ax.errorbar(hepatocyte_data.query('Dcoll < 2015')['Dbirth'], hepatocyte_data.query('Dcoll < 2015')['d14C'], \n",
    "#                marker = 'o', ls = 'None', color = 'red', \n",
    "#                label = 'Hepato DNA (coll before 2015)')\n",
    "\n",
    "\n",
    "    ax.set_xlim((1909, 2020))\n",
    "    ax.set_ylim(-0.1, 0.9)\n",
    "    ax.set_xticks(sp.linspace(1910, 2010, 6), minor = 1)\n",
    "    # ax.grid(which='both')\n",
    "    \n",
    "\n",
    "    ax.set_xlabel('Calendar year')\n",
    "    ax.set_ylabel('$\\Delta^{14}$C')\n",
    "\n",
    "axs[0].legend()\n",
    "axs[1].set_ylim(-0.0, 0.15)\n",
    "    \n",
    "plt.savefig('plots/c14_predict_L1.png', bbox_inches='tight', dpi=300)\n",
    "\n",
    "plt.show()"
   ]
  },
  {
   "cell_type": "markdown",
   "metadata": {},
   "source": [
    "# Scenario IX2p"
   ]
  },
  {
   "cell_type": "code",
   "execution_count": 330,
   "metadata": {
    "ExecuteTime": {
     "end_time": "2018-01-05T17:04:15.652857Z",
     "start_time": "2018-01-05T17:04:15.647604Z"
    }
   },
   "outputs": [],
   "source": [
    "@np.vectorize\n",
    "def IX2p(Dbirth, Dcoll, dloglam1, dloglam2, f1):\n",
    "    dlam1 = np.exp(dloglam1)\n",
    "    dlam2 = np.exp(dloglam2)\n",
    "    \n",
    "    f2 = 1-f1\n",
    "    \n",
    "    return c14_models.IX(Dbirth, Dcoll, [dlam1, dlam2], [f1, f2])[1]"
   ]
  },
  {
   "cell_type": "code",
   "execution_count": 332,
   "metadata": {
    "ExecuteTime": {
     "end_time": "2018-01-05T17:04:22.824771Z",
     "start_time": "2018-01-05T17:04:22.809665Z"
    }
   },
   "outputs": [
    {
     "data": {
      "text/plain": [
       "array([ 0.07494134])"
      ]
     },
     "execution_count": 332,
     "metadata": {},
     "output_type": "execute_result"
    }
   ],
   "source": [
    "IX2p(1930, 2015, np.log(0.1), np.log(0.1), 0.9)"
   ]
  },
  {
   "cell_type": "markdown",
   "metadata": {},
   "source": [
    "## Fit"
   ]
  },
  {
   "cell_type": "code",
   "execution_count": 349,
   "metadata": {
    "ExecuteTime": {
     "end_time": "2018-01-05T17:17:02.716635Z",
     "start_time": "2018-01-05T17:13:55.747113Z"
    }
   },
   "outputs": [],
   "source": [
    "res = sp.optimize.brute(func=Nloglike, \n",
    "                  ranges=[(np.log(0.01), np.log(5.0)),(np.log(0.01), np.log(5.0)) , (0, 1)],\n",
    "                  args = (IX2p, hepatocyte_data),\n",
    "                  Ns = 10,\n",
    "                  full_output = True,\n",
    "                  finish=None)"
   ]
  },
  {
   "cell_type": "code",
   "execution_count": 350,
   "metadata": {
    "ExecuteTime": {
     "end_time": "2018-01-05T17:17:02.742023Z",
     "start_time": "2018-01-05T17:17:02.717980Z"
    }
   },
   "outputs": [
    {
     "data": {
      "text/plain": [
       "(array([-3.22414616, -1.15261013,  0.11111111]),\n",
       " -51.874111715291804,\n",
       " array([[[[-4.60517019, -4.60517019, -4.60517019, ..., -4.60517019,\n",
       "           -4.60517019, -4.60517019],\n",
       "          [-4.60517019, -4.60517019, -4.60517019, ..., -4.60517019,\n",
       "           -4.60517019, -4.60517019],\n",
       "          [-4.60517019, -4.60517019, -4.60517019, ..., -4.60517019,\n",
       "           -4.60517019, -4.60517019],\n",
       "          ..., \n",
       "          [-4.60517019, -4.60517019, -4.60517019, ..., -4.60517019,\n",
       "           -4.60517019, -4.60517019],\n",
       "          [-4.60517019, -4.60517019, -4.60517019, ..., -4.60517019,\n",
       "           -4.60517019, -4.60517019],\n",
       "          [-4.60517019, -4.60517019, -4.60517019, ..., -4.60517019,\n",
       "           -4.60517019, -4.60517019]],\n",
       " \n",
       "         [[-3.91465818, -3.91465818, -3.91465818, ..., -3.91465818,\n",
       "           -3.91465818, -3.91465818],\n",
       "          [-3.91465818, -3.91465818, -3.91465818, ..., -3.91465818,\n",
       "           -3.91465818, -3.91465818],\n",
       "          [-3.91465818, -3.91465818, -3.91465818, ..., -3.91465818,\n",
       "           -3.91465818, -3.91465818],\n",
       "          ..., \n",
       "          [-3.91465818, -3.91465818, -3.91465818, ..., -3.91465818,\n",
       "           -3.91465818, -3.91465818],\n",
       "          [-3.91465818, -3.91465818, -3.91465818, ..., -3.91465818,\n",
       "           -3.91465818, -3.91465818],\n",
       "          [-3.91465818, -3.91465818, -3.91465818, ..., -3.91465818,\n",
       "           -3.91465818, -3.91465818]],\n",
       " \n",
       "         [[-3.22414616, -3.22414616, -3.22414616, ..., -3.22414616,\n",
       "           -3.22414616, -3.22414616],\n",
       "          [-3.22414616, -3.22414616, -3.22414616, ..., -3.22414616,\n",
       "           -3.22414616, -3.22414616],\n",
       "          [-3.22414616, -3.22414616, -3.22414616, ..., -3.22414616,\n",
       "           -3.22414616, -3.22414616],\n",
       "          ..., \n",
       "          [-3.22414616, -3.22414616, -3.22414616, ..., -3.22414616,\n",
       "           -3.22414616, -3.22414616],\n",
       "          [-3.22414616, -3.22414616, -3.22414616, ..., -3.22414616,\n",
       "           -3.22414616, -3.22414616],\n",
       "          [-3.22414616, -3.22414616, -3.22414616, ..., -3.22414616,\n",
       "           -3.22414616, -3.22414616]],\n",
       " \n",
       "         ..., \n",
       "         [[ 0.22841389,  0.22841389,  0.22841389, ...,  0.22841389,\n",
       "            0.22841389,  0.22841389],\n",
       "          [ 0.22841389,  0.22841389,  0.22841389, ...,  0.22841389,\n",
       "            0.22841389,  0.22841389],\n",
       "          [ 0.22841389,  0.22841389,  0.22841389, ...,  0.22841389,\n",
       "            0.22841389,  0.22841389],\n",
       "          ..., \n",
       "          [ 0.22841389,  0.22841389,  0.22841389, ...,  0.22841389,\n",
       "            0.22841389,  0.22841389],\n",
       "          [ 0.22841389,  0.22841389,  0.22841389, ...,  0.22841389,\n",
       "            0.22841389,  0.22841389],\n",
       "          [ 0.22841389,  0.22841389,  0.22841389, ...,  0.22841389,\n",
       "            0.22841389,  0.22841389]],\n",
       " \n",
       "         [[ 0.9189259 ,  0.9189259 ,  0.9189259 , ...,  0.9189259 ,\n",
       "            0.9189259 ,  0.9189259 ],\n",
       "          [ 0.9189259 ,  0.9189259 ,  0.9189259 , ...,  0.9189259 ,\n",
       "            0.9189259 ,  0.9189259 ],\n",
       "          [ 0.9189259 ,  0.9189259 ,  0.9189259 , ...,  0.9189259 ,\n",
       "            0.9189259 ,  0.9189259 ],\n",
       "          ..., \n",
       "          [ 0.9189259 ,  0.9189259 ,  0.9189259 , ...,  0.9189259 ,\n",
       "            0.9189259 ,  0.9189259 ],\n",
       "          [ 0.9189259 ,  0.9189259 ,  0.9189259 , ...,  0.9189259 ,\n",
       "            0.9189259 ,  0.9189259 ],\n",
       "          [ 0.9189259 ,  0.9189259 ,  0.9189259 , ...,  0.9189259 ,\n",
       "            0.9189259 ,  0.9189259 ]],\n",
       " \n",
       "         [[ 1.60943791,  1.60943791,  1.60943791, ...,  1.60943791,\n",
       "            1.60943791,  1.60943791],\n",
       "          [ 1.60943791,  1.60943791,  1.60943791, ...,  1.60943791,\n",
       "            1.60943791,  1.60943791],\n",
       "          [ 1.60943791,  1.60943791,  1.60943791, ...,  1.60943791,\n",
       "            1.60943791,  1.60943791],\n",
       "          ..., \n",
       "          [ 1.60943791,  1.60943791,  1.60943791, ...,  1.60943791,\n",
       "            1.60943791,  1.60943791],\n",
       "          [ 1.60943791,  1.60943791,  1.60943791, ...,  1.60943791,\n",
       "            1.60943791,  1.60943791],\n",
       "          [ 1.60943791,  1.60943791,  1.60943791, ...,  1.60943791,\n",
       "            1.60943791,  1.60943791]]],\n",
       " \n",
       " \n",
       "        [[[-4.60517019, -4.60517019, -4.60517019, ..., -4.60517019,\n",
       "           -4.60517019, -4.60517019],\n",
       "          [-3.91465818, -3.91465818, -3.91465818, ..., -3.91465818,\n",
       "           -3.91465818, -3.91465818],\n",
       "          [-3.22414616, -3.22414616, -3.22414616, ..., -3.22414616,\n",
       "           -3.22414616, -3.22414616],\n",
       "          ..., \n",
       "          [ 0.22841389,  0.22841389,  0.22841389, ...,  0.22841389,\n",
       "            0.22841389,  0.22841389],\n",
       "          [ 0.9189259 ,  0.9189259 ,  0.9189259 , ...,  0.9189259 ,\n",
       "            0.9189259 ,  0.9189259 ],\n",
       "          [ 1.60943791,  1.60943791,  1.60943791, ...,  1.60943791,\n",
       "            1.60943791,  1.60943791]],\n",
       " \n",
       "         [[-4.60517019, -4.60517019, -4.60517019, ..., -4.60517019,\n",
       "           -4.60517019, -4.60517019],\n",
       "          [-3.91465818, -3.91465818, -3.91465818, ..., -3.91465818,\n",
       "           -3.91465818, -3.91465818],\n",
       "          [-3.22414616, -3.22414616, -3.22414616, ..., -3.22414616,\n",
       "           -3.22414616, -3.22414616],\n",
       "          ..., \n",
       "          [ 0.22841389,  0.22841389,  0.22841389, ...,  0.22841389,\n",
       "            0.22841389,  0.22841389],\n",
       "          [ 0.9189259 ,  0.9189259 ,  0.9189259 , ...,  0.9189259 ,\n",
       "            0.9189259 ,  0.9189259 ],\n",
       "          [ 1.60943791,  1.60943791,  1.60943791, ...,  1.60943791,\n",
       "            1.60943791,  1.60943791]],\n",
       " \n",
       "         [[-4.60517019, -4.60517019, -4.60517019, ..., -4.60517019,\n",
       "           -4.60517019, -4.60517019],\n",
       "          [-3.91465818, -3.91465818, -3.91465818, ..., -3.91465818,\n",
       "           -3.91465818, -3.91465818],\n",
       "          [-3.22414616, -3.22414616, -3.22414616, ..., -3.22414616,\n",
       "           -3.22414616, -3.22414616],\n",
       "          ..., \n",
       "          [ 0.22841389,  0.22841389,  0.22841389, ...,  0.22841389,\n",
       "            0.22841389,  0.22841389],\n",
       "          [ 0.9189259 ,  0.9189259 ,  0.9189259 , ...,  0.9189259 ,\n",
       "            0.9189259 ,  0.9189259 ],\n",
       "          [ 1.60943791,  1.60943791,  1.60943791, ...,  1.60943791,\n",
       "            1.60943791,  1.60943791]],\n",
       " \n",
       "         ..., \n",
       "         [[-4.60517019, -4.60517019, -4.60517019, ..., -4.60517019,\n",
       "           -4.60517019, -4.60517019],\n",
       "          [-3.91465818, -3.91465818, -3.91465818, ..., -3.91465818,\n",
       "           -3.91465818, -3.91465818],\n",
       "          [-3.22414616, -3.22414616, -3.22414616, ..., -3.22414616,\n",
       "           -3.22414616, -3.22414616],\n",
       "          ..., \n",
       "          [ 0.22841389,  0.22841389,  0.22841389, ...,  0.22841389,\n",
       "            0.22841389,  0.22841389],\n",
       "          [ 0.9189259 ,  0.9189259 ,  0.9189259 , ...,  0.9189259 ,\n",
       "            0.9189259 ,  0.9189259 ],\n",
       "          [ 1.60943791,  1.60943791,  1.60943791, ...,  1.60943791,\n",
       "            1.60943791,  1.60943791]],\n",
       " \n",
       "         [[-4.60517019, -4.60517019, -4.60517019, ..., -4.60517019,\n",
       "           -4.60517019, -4.60517019],\n",
       "          [-3.91465818, -3.91465818, -3.91465818, ..., -3.91465818,\n",
       "           -3.91465818, -3.91465818],\n",
       "          [-3.22414616, -3.22414616, -3.22414616, ..., -3.22414616,\n",
       "           -3.22414616, -3.22414616],\n",
       "          ..., \n",
       "          [ 0.22841389,  0.22841389,  0.22841389, ...,  0.22841389,\n",
       "            0.22841389,  0.22841389],\n",
       "          [ 0.9189259 ,  0.9189259 ,  0.9189259 , ...,  0.9189259 ,\n",
       "            0.9189259 ,  0.9189259 ],\n",
       "          [ 1.60943791,  1.60943791,  1.60943791, ...,  1.60943791,\n",
       "            1.60943791,  1.60943791]],\n",
       " \n",
       "         [[-4.60517019, -4.60517019, -4.60517019, ..., -4.60517019,\n",
       "           -4.60517019, -4.60517019],\n",
       "          [-3.91465818, -3.91465818, -3.91465818, ..., -3.91465818,\n",
       "           -3.91465818, -3.91465818],\n",
       "          [-3.22414616, -3.22414616, -3.22414616, ..., -3.22414616,\n",
       "           -3.22414616, -3.22414616],\n",
       "          ..., \n",
       "          [ 0.22841389,  0.22841389,  0.22841389, ...,  0.22841389,\n",
       "            0.22841389,  0.22841389],\n",
       "          [ 0.9189259 ,  0.9189259 ,  0.9189259 , ...,  0.9189259 ,\n",
       "            0.9189259 ,  0.9189259 ],\n",
       "          [ 1.60943791,  1.60943791,  1.60943791, ...,  1.60943791,\n",
       "            1.60943791,  1.60943791]]],\n",
       " \n",
       " \n",
       "        [[[ 0.        ,  0.11111111,  0.22222222, ...,  0.77777778,\n",
       "            0.88888889,  1.        ],\n",
       "          [ 0.        ,  0.11111111,  0.22222222, ...,  0.77777778,\n",
       "            0.88888889,  1.        ],\n",
       "          [ 0.        ,  0.11111111,  0.22222222, ...,  0.77777778,\n",
       "            0.88888889,  1.        ],\n",
       "          ..., \n",
       "          [ 0.        ,  0.11111111,  0.22222222, ...,  0.77777778,\n",
       "            0.88888889,  1.        ],\n",
       "          [ 0.        ,  0.11111111,  0.22222222, ...,  0.77777778,\n",
       "            0.88888889,  1.        ],\n",
       "          [ 0.        ,  0.11111111,  0.22222222, ...,  0.77777778,\n",
       "            0.88888889,  1.        ]],\n",
       " \n",
       "         [[ 0.        ,  0.11111111,  0.22222222, ...,  0.77777778,\n",
       "            0.88888889,  1.        ],\n",
       "          [ 0.        ,  0.11111111,  0.22222222, ...,  0.77777778,\n",
       "            0.88888889,  1.        ],\n",
       "          [ 0.        ,  0.11111111,  0.22222222, ...,  0.77777778,\n",
       "            0.88888889,  1.        ],\n",
       "          ..., \n",
       "          [ 0.        ,  0.11111111,  0.22222222, ...,  0.77777778,\n",
       "            0.88888889,  1.        ],\n",
       "          [ 0.        ,  0.11111111,  0.22222222, ...,  0.77777778,\n",
       "            0.88888889,  1.        ],\n",
       "          [ 0.        ,  0.11111111,  0.22222222, ...,  0.77777778,\n",
       "            0.88888889,  1.        ]],\n",
       " \n",
       "         [[ 0.        ,  0.11111111,  0.22222222, ...,  0.77777778,\n",
       "            0.88888889,  1.        ],\n",
       "          [ 0.        ,  0.11111111,  0.22222222, ...,  0.77777778,\n",
       "            0.88888889,  1.        ],\n",
       "          [ 0.        ,  0.11111111,  0.22222222, ...,  0.77777778,\n",
       "            0.88888889,  1.        ],\n",
       "          ..., \n",
       "          [ 0.        ,  0.11111111,  0.22222222, ...,  0.77777778,\n",
       "            0.88888889,  1.        ],\n",
       "          [ 0.        ,  0.11111111,  0.22222222, ...,  0.77777778,\n",
       "            0.88888889,  1.        ],\n",
       "          [ 0.        ,  0.11111111,  0.22222222, ...,  0.77777778,\n",
       "            0.88888889,  1.        ]],\n",
       " \n",
       "         ..., \n",
       "         [[ 0.        ,  0.11111111,  0.22222222, ...,  0.77777778,\n",
       "            0.88888889,  1.        ],\n",
       "          [ 0.        ,  0.11111111,  0.22222222, ...,  0.77777778,\n",
       "            0.88888889,  1.        ],\n",
       "          [ 0.        ,  0.11111111,  0.22222222, ...,  0.77777778,\n",
       "            0.88888889,  1.        ],\n",
       "          ..., \n",
       "          [ 0.        ,  0.11111111,  0.22222222, ...,  0.77777778,\n",
       "            0.88888889,  1.        ],\n",
       "          [ 0.        ,  0.11111111,  0.22222222, ...,  0.77777778,\n",
       "            0.88888889,  1.        ],\n",
       "          [ 0.        ,  0.11111111,  0.22222222, ...,  0.77777778,\n",
       "            0.88888889,  1.        ]],\n",
       " \n",
       "         [[ 0.        ,  0.11111111,  0.22222222, ...,  0.77777778,\n",
       "            0.88888889,  1.        ],\n",
       "          [ 0.        ,  0.11111111,  0.22222222, ...,  0.77777778,\n",
       "            0.88888889,  1.        ],\n",
       "          [ 0.        ,  0.11111111,  0.22222222, ...,  0.77777778,\n",
       "            0.88888889,  1.        ],\n",
       "          ..., \n",
       "          [ 0.        ,  0.11111111,  0.22222222, ...,  0.77777778,\n",
       "            0.88888889,  1.        ],\n",
       "          [ 0.        ,  0.11111111,  0.22222222, ...,  0.77777778,\n",
       "            0.88888889,  1.        ],\n",
       "          [ 0.        ,  0.11111111,  0.22222222, ...,  0.77777778,\n",
       "            0.88888889,  1.        ]],\n",
       " \n",
       "         [[ 0.        ,  0.11111111,  0.22222222, ...,  0.77777778,\n",
       "            0.88888889,  1.        ],\n",
       "          [ 0.        ,  0.11111111,  0.22222222, ...,  0.77777778,\n",
       "            0.88888889,  1.        ],\n",
       "          [ 0.        ,  0.11111111,  0.22222222, ...,  0.77777778,\n",
       "            0.88888889,  1.        ],\n",
       "          ..., \n",
       "          [ 0.        ,  0.11111111,  0.22222222, ...,  0.77777778,\n",
       "            0.88888889,  1.        ],\n",
       "          [ 0.        ,  0.11111111,  0.22222222, ...,  0.77777778,\n",
       "            0.88888889,  1.        ],\n",
       "          [ 0.        ,  0.11111111,  0.22222222, ...,  0.77777778,\n",
       "            0.88888889,  1.        ]]]]),\n",
       " array([[[-10.92896544, -10.55638089, -10.16918355,  -9.76965849,\n",
       "           -9.35992893,  -8.94194671,  -8.51748902,  -8.08816009,\n",
       "           -7.65539666,  -7.2204761 ],\n",
       "         [-14.26500645, -13.57853049, -12.84135905, -12.06793649,\n",
       "          -11.27063493, -10.45971185,  -9.6434419 ,  -8.82834144,\n",
       "           -8.01942773,  -7.2204761 ],\n",
       "         [-20.78952651, -19.3309328 , -17.73996205, -16.10327438,\n",
       "          -14.47691672, -12.89384068, -11.371509  ,  -9.91770181,\n",
       "           -8.53444026,  -7.2204761 ],\n",
       "         [-33.8342293 , -29.72424585, -25.60889882, -21.9140629 ,\n",
       "          -18.67592239, -15.83528139, -13.32300227, -11.07968416,\n",
       "           -9.05790825,  -7.2204761 ],\n",
       "         [-49.49446102, -41.77839009, -33.22525337, -26.8269547 ,\n",
       "          -21.91259256, -17.96241837, -14.67202404, -11.85715851,\n",
       "           -9.39981841,  -7.2204761 ],\n",
       "         [-47.6758718 , -46.95980607, -37.01019192, -29.21067007,\n",
       "          -23.44680273, -18.95537904, -15.29561199, -12.21425541,\n",
       "           -9.55618846,  -7.2204761 ],\n",
       "         [-43.211685  , -47.12988843, -38.6972717 , -30.43236878,\n",
       "          -24.25714986, -19.48478162, -15.62924028, -12.40557162,\n",
       "           -9.64000834,  -7.2204761 ],\n",
       "         [-40.95342359, -46.43710061, -39.44072741, -31.05914931,\n",
       "          -24.68255275, -19.76388374, -15.80514043, -12.50633826,\n",
       "           -9.68410214,  -7.2204761 ],\n",
       "         [-39.94244187, -45.92559453, -39.71176623, -31.33066192,\n",
       "          -24.872064  , -19.88924887, -15.88439809, -12.55180404,\n",
       "           -9.70400983,  -7.2204761 ],\n",
       "         [-39.47345241, -45.62016611, -39.79466955, -31.43994135,\n",
       "          -24.95179008, -19.94285873, -15.91856951, -12.57150121,\n",
       "           -9.71266176,  -7.2204761 ]],\n",
       " \n",
       "        [[-14.26500645, -13.89831388, -13.52903843, -13.15799072,\n",
       "          -12.78590053, -12.41342175, -12.04113749, -11.66956539,\n",
       "          -11.2991628 , -10.93033188],\n",
       "         [-17.37677026, -16.64862545, -15.91467206, -15.18001473,\n",
       "          -14.44871499, -13.72394604, -13.00813934, -12.30311655,\n",
       "          -11.61020436, -10.93033188],\n",
       "         [-24.14881134, -22.43787632, -20.75594914, -19.13180887,\n",
       "          -17.57930071, -16.10336439, -14.70389171, -13.37807161,\n",
       "          -12.1217716 , -10.93033188],\n",
       "         [-36.87652969, -32.47411071, -28.44061017, -24.91504127,\n",
       "          -21.8458205 , -19.15289962, -16.76532742, -14.62662976,\n",
       "          -12.69297298, -10.93033188],\n",
       "         [-49.74497207, -44.1953787 , -36.5437599 , -30.40378136,\n",
       "          -25.57620735, -21.65847714, -18.38021094, -15.5689903 ,\n",
       "          -13.11151924, -10.93033188],\n",
       "         [-47.54957439, -50.01380125, -41.53311309, -33.61143331,\n",
       "          -27.64072716, -22.99042966, -19.21389922, -16.04499595,\n",
       "          -13.31943795, -10.93033188],\n",
       "         [-43.15803538, -50.01169902, -44.17120896, -35.50345975,\n",
       "          -28.85955033, -23.76938728, -19.69713909, -16.31892484,\n",
       "          -13.43840556, -10.93033188],\n",
       "         [-40.94978237, -48.98709187, -45.37125203, -36.50688515,\n",
       "          -29.50921818, -24.18156033, -19.95099271, -16.46198187,\n",
       "          -13.50024742, -10.93033188],\n",
       "         [-39.93477363, -48.2868323 , -45.8404538 , -36.97336251,\n",
       "          -29.81574653, -24.37607017, -20.07057878, -16.5292512 ,\n",
       "          -13.52928167, -10.93033188],\n",
       "         [-39.47574986, -47.91739868, -46.01353437, -37.17702266,\n",
       "          -29.95213018, -24.46300467, -20.12410548, -16.55937784,\n",
       "          -13.54228762, -10.93033188]],\n",
       " \n",
       "        [[-20.78952651, -20.38808226, -19.99227542, -19.6020894 ,\n",
       "          -19.21749177, -18.8384369 , -18.46486815, -18.09671987,\n",
       "          -17.73391899, -17.37638655],\n",
       "         [-24.14881134, -23.29893536, -22.47506082, -21.6766837 ,\n",
       "          -20.90310297, -20.15349261, -19.42695361, -18.72255111,\n",
       "          -18.03934069, -17.37638655],\n",
       "         [-30.8336082 , -28.91499903, -27.11953362, -25.44272424,\n",
       "          -23.87623849, -22.41054059, -21.03615254, -19.74421273,\n",
       "          -18.52668325, -17.37638655],\n",
       "         [-42.22560492, -38.11934533, -34.31973062, -30.96143042,\n",
       "          -28.01196652, -25.40695267, -23.08578206, -20.99859975,\n",
       "          -19.10586044, -17.37638655],\n",
       "         [-50.51566548, -48.13988971, -42.28354067, -36.69511458,\n",
       "          -32.03094623, -28.15528186, -24.87772815, -22.05269085,\n",
       "          -19.57677596, -17.37638655],\n",
       "         [-47.34796149, -51.87411172, -47.73212677, -40.67734119,\n",
       "          -34.67978072, -29.87964278, -25.95897665, -22.66966859,\n",
       "          -19.84588816, -17.37638655],\n",
       "         [-43.02661071, -50.11041326, -50.28476567, -43.27573407,\n",
       "          -36.44458302, -31.01304104, -26.65895129, -23.06407925,\n",
       "          -20.01620636, -17.37638655],\n",
       "         [-40.90248307, -48.54089971, -51.26658082, -44.77622197,\n",
       "          -37.46980765, -31.657754  , -27.04995975, -23.281405  ,\n",
       "          -20.10909164, -17.37638655],\n",
       "         [-39.92489413, -47.68661721, -51.57154352, -45.51510203,\n",
       "          -37.98228674, -31.97688099, -27.24174813, -23.38727649,\n",
       "          -20.15411196, -17.37638655],\n",
       "         [-39.47633978, -47.2558135 , -51.62807864, -45.83448854,\n",
       "          -38.21229402, -32.12084208, -27.32831376, -23.43504988,\n",
       "          -20.17441889, -17.37638655]],\n",
       " \n",
       "        [[-33.8342293 , -33.47872557, -33.12776851, -32.78133449,\n",
       "          -32.43939112, -32.10189866, -31.76881111, -31.44007733,\n",
       "          -31.11564184, -30.79544571],\n",
       "         [-36.87652969, -36.13020185, -35.40178193, -34.69141383,\n",
       "          -33.99902641, -33.32439047, -32.66716279, -32.02692007,\n",
       "          -31.40318495, -30.79544571],\n",
       "         [-42.22560492, -40.77456536, -39.34979208, -37.967503  ,\n",
       "          -36.63633597, -35.36004829, -34.13936625, -32.97320391,\n",
       "          -31.85944667, -30.79544571],\n",
       "         [-49.03471424, -47.22480457, -45.00113393, -42.65505979,\n",
       "          -40.34988904, -38.16013975, -36.11177576, -34.20730639,\n",
       "          -32.43901959, -30.79544571],\n",
       "         [-49.98115373, -50.93771447, -49.85003306, -47.27870367,\n",
       "          -44.13850682, -40.99267854, -38.05994391, -35.39234456,\n",
       "          -32.98015822, -30.79544571],\n",
       "         [-46.30627457, -49.73832144, -51.41965207, -50.24029586,\n",
       "          -47.01332888, -43.20659999, -39.56347615, -36.28561479,\n",
       "          -33.37820977, -30.79544571],\n",
       "         [-42.78260293, -46.92331194, -50.32498547, -51.11315918,\n",
       "          -48.65874521, -44.66742131, -40.58702747, -36.89420401,\n",
       "          -33.64740161, -30.79544571],\n",
       "         [-40.85189887, -45.17988554, -49.27751633, -51.28286871,\n",
       "          -49.58249322, -45.57807555, -41.23023346, -37.27220782,\n",
       "          -33.81227389, -30.79544571],\n",
       "         [-39.91550463, -44.300886  , -48.67435802, -51.27755766,\n",
       "          -50.04550103, -46.06673001, -41.57596499, -37.47341881,\n",
       "          -33.89915596, -30.79544571],\n",
       "         [-39.47308334, -43.87145418, -48.34748298, -51.2146053 ,\n",
       "          -50.22922965, -46.28506999, -41.73432356, -37.5661523 ,\n",
       "          -33.93925429, -30.79544571]],\n",
       " \n",
       "        [[-49.49446102, -49.44542249, -49.39187729, -49.33390265,\n",
       "          -49.27158104, -49.20499981, -49.13425081, -49.05942998,\n",
       "          -48.98063696, -48.8979747 ],\n",
       "         [-49.74497207, -49.70255136, -49.64647381, -49.5769809 ,\n",
       "          -49.4943673 , -49.39897682, -49.29119781, -49.17145818,\n",
       "          -49.04022014, -48.8979747 ],\n",
       "         [-50.51566548, -50.49801957, -50.43610204, -50.33077078,\n",
       "          -50.18345561, -49.99609537, -49.77105656, -49.51104054,\n",
       "          -49.21898621, -48.8979747 ],\n",
       "         [-49.98115373, -50.30264441, -50.51732855, -50.61764692,\n",
       "          -50.59993003, -50.46483242, -50.21725404, -49.86576775,\n",
       "          -49.42168738, -48.8979747 ],\n",
       "         [-47.63801154, -48.53773669, -49.31228532, -49.92153589,\n",
       "          -50.32808501, -50.50372346, -50.43538951, -50.12822996,\n",
       "          -49.6043712 , -48.8979747 ],\n",
       "         [-44.85660096, -46.23803977, -47.54488902, -48.70920391,\n",
       "          -49.64773941, -50.27353697, -50.51673143, -50.34727713,\n",
       "          -49.78628868, -48.8979747 ],\n",
       "         [-42.32861891, -44.00619209, -45.67836841, -47.27397585,\n",
       "          -48.68601174, -49.77499911, -50.39524987, -50.44557001,\n",
       "          -49.9171019 , -48.8979747 ],\n",
       "         [-40.73173853, -42.55140741, -44.41053419, -46.24457215,\n",
       "          -47.94300947, -49.34145811, -50.24133595, -50.47564299,\n",
       "          -49.99500488, -48.8979747 ],\n",
       "         [-39.88853895, -41.77499167, -43.72423437, -45.67707064,\n",
       "          -47.52423774, -49.09123737, -50.15085713, -50.4942679 ,\n",
       "          -50.04233934, -48.8979747 ],\n",
       "         [-39.4650043 , -41.38116135, -43.37135834, -45.37958737,\n",
       "          -47.29829021, -48.94942475, -50.0923229 , -50.49590738,\n",
       "          -50.06327491, -48.8979747 ]],\n",
       " \n",
       "        [[-47.6758718 , -47.64268941, -47.60916252, -47.57529517,\n",
       "          -47.54109141, -47.5065553 , -47.47169089, -47.43650225,\n",
       "          -47.40099343, -47.36516851],\n",
       "         [-47.54957439, -47.5322733 , -47.51416355, -47.49524982,\n",
       "          -47.47553697, -47.45503003, -47.43373425, -47.41165499,\n",
       "          -47.38879784, -47.36516851],\n",
       "         [-47.34796149, -47.35695308, -47.36418071, -47.36964034,\n",
       "          -47.37332892, -47.37524438, -47.37538565, -47.37375266,\n",
       "          -47.37034631, -47.36516851],\n",
       "         [-46.30627457, -46.43954121, -46.56930466, -46.6953937 ,\n",
       "          -46.81763646, -46.93586097, -47.04989575, -47.1595705 ,\n",
       "          -47.26471673, -47.36516851],\n",
       "         [-44.85660096, -45.15566733, -45.45128708, -45.7428232 ,\n",
       "          -46.02959457, -46.31087641, -46.58590129, -46.85386113,\n",
       "          -47.11391008, -47.36516851],\n",
       "         [-43.26081708, -43.74115957, -44.2199206 , -44.69553059,\n",
       "          -45.16619412, -45.62987483, -46.08428431, -46.52687676,\n",
       "          -46.95485191, -47.36516851],\n",
       "         [-41.69623841, -42.34327517, -42.99420787, -43.64653588,\n",
       "          -44.29716696, -44.94233146, -45.57750088, -46.19732055,\n",
       "          -46.79556995, -47.36516851],\n",
       "         [-40.53498899, -41.29838625, -42.07184546, -42.8523484 ,\n",
       "          -43.63589664, -44.41730732, -45.18999982, -45.94579489,\n",
       "          -46.67476215, -47.36516851],\n",
       "         [-39.83946659, -40.66922283, -41.51351999, -42.36916606,\n",
       "          -43.23172212, -44.09519177, -44.95168014, -45.79105311,\n",
       "          -46.60065391, -47.36516851],\n",
       "         [-39.45133293, -40.31679579, -41.19954703, -42.09636302,\n",
       "          -43.00262095, -43.91191677, -44.81563432, -45.70250097,\n",
       "          -46.55820113, -47.36516851]],\n",
       " \n",
       "        [[-43.211685  , -43.21925456, -43.22679823, -43.23431597,\n",
       "          -43.24180769, -43.24927334, -43.25671285, -43.26412615,\n",
       "          -43.27151317, -43.27887386],\n",
       "         [-43.15803538, -43.17155528, -43.18505212, -43.19852578,\n",
       "          -43.21197613, -43.22540305, -43.23880641, -43.25218608,\n",
       "          -43.26554194, -43.27887386],\n",
       "         [-43.02661071, -43.0547318 , -43.08283098, -43.11090779,\n",
       "          -43.13896179, -43.16699253, -43.19499957, -43.22298244,\n",
       "          -43.25094069, -43.27887386],\n",
       "         [-42.78260293, -42.83776381, -42.89292429, -42.94808247,\n",
       "          -43.00323645, -43.05838428, -43.11352396, -43.16865349,\n",
       "          -43.22377082, -43.27887386],\n",
       "         [-42.32861891, -42.43386455, -42.53921825, -42.64467048,\n",
       "          -42.75021136, -42.85583066, -42.96151776, -43.06726165,\n",
       "          -43.17305095, -43.27887386],\n",
       "         [-41.69623841, -41.87034046, -42.04496024, -42.22006645,\n",
       "          -42.39562559, -42.57160183, -42.74795692, -42.92465006,\n",
       "          -43.10163778, -43.27887386],\n",
       "         [-40.95866005, -41.21180822, -41.4663285 , -41.7221455 ,\n",
       "          -41.97917515, -42.237324  , -42.49648852, -42.75655438,\n",
       "          -43.01739561, -43.27887386],\n",
       "         [-40.26919215, -40.59502925, -40.92341095, -41.25420191,\n",
       "          -41.58724471, -41.92235754, -42.25933167, -42.59792883,\n",
       "          -42.93787829, -43.27887386],\n",
       "         [-39.74711368, -40.12700023, -40.51060594, -40.89774496,\n",
       "          -41.28819302, -41.68168253, -42.07789725, -42.47646641,\n",
       "          -42.87695837, -43.27887386],\n",
       "         [-39.43018908, -39.84223836, -40.25887912, -40.67990066,\n",
       "          -41.10504169, -41.53398307, -41.96633983, -42.40165232,\n",
       "          -42.83937657, -43.27887386]],\n",
       " \n",
       "        [[-40.95342359, -40.95467333, -40.95592065, -40.95716556,\n",
       "          -40.95840807, -40.95964816, -40.96088584, -40.9621211 ,\n",
       "          -40.96335395, -40.96458439],\n",
       "         [-40.94978237, -40.95143727, -40.95308962, -40.95473942,\n",
       "          -40.95638665, -40.95803132, -40.95967344, -40.96131298,\n",
       "          -40.96294997, -40.96458439],\n",
       "         [-40.90248307, -40.9093864 , -40.91628895, -40.92319071,\n",
       "          -40.93009168, -40.93699184, -40.9438912 , -40.95078975,\n",
       "          -40.95768748, -40.96458439],\n",
       "         [-40.85189887, -40.86442363, -40.87694741, -40.88947019,\n",
       "          -40.90199195, -40.91451265, -40.92703227, -40.93955078,\n",
       "          -40.95206816, -40.96458439],\n",
       "         [-40.73173853, -40.75759143, -40.7834494 , -40.80931229,\n",
       "          -40.83517996, -40.86105223, -40.88692897, -40.91281002,\n",
       "          -40.93869521, -40.96458439],\n",
       "         [-40.53498899, -40.58259789, -40.63023948, -40.67791304,\n",
       "          -40.72561785, -40.77335318, -40.82111827, -40.86891235,\n",
       "          -40.91673466, -40.96458439],\n",
       "         [-40.26919215, -40.34600975, -40.42294485, -40.49999522,\n",
       "          -40.57715856, -40.65443251, -40.73181464, -40.8093024 ,\n",
       "          -40.88689322, -40.96458439],\n",
       "         [-39.94346792, -40.05590521, -40.16861345, -40.28158633,\n",
       "          -40.39481719, -40.50829904, -40.62202455, -40.73598604,\n",
       "          -40.85017547, -40.96458439],\n",
       "         [-39.62517449, -39.77216282, -39.91964333, -40.0676031 ,\n",
       "          -40.21602833, -40.36490425, -40.51421512, -40.66394418,\n",
       "          -40.81407359, -40.96458439],\n",
       "         [-39.39127475, -39.56344274, -39.73632195, -39.90989343,\n",
       "          -40.08413664, -40.25902932, -40.4345474 , -40.61066493,\n",
       "          -40.78735394, -40.96458439]],\n",
       " \n",
       "        [[-39.94244187, -39.94227518, -39.94210804, -39.94194047,\n",
       "          -39.94177245, -39.94160399, -39.9414351 , -39.94126576,\n",
       "          -39.94109598, -39.94092576],\n",
       "         [-39.93477363, -39.93545952, -39.93614483, -39.93682956,\n",
       "          -39.93751371, -39.93819728, -39.93888027, -39.93956268,\n",
       "          -39.94024451, -39.94092576],\n",
       "         [-39.92489413, -39.92667672, -39.92845898, -39.93024092,\n",
       "          -39.93202253, -39.93380382, -39.93558479, -39.93736544,\n",
       "          -39.93914576, -39.94092576],\n",
       "         [-39.91550463, -39.91833168, -39.92115812, -39.92398393,\n",
       "          -39.92680913, -39.9296337 , -39.93245765, -39.93528098,\n",
       "          -39.93810368, -39.94092576],\n",
       "         [-39.88853895, -39.8943599 , -39.9001808 , -39.90600166,\n",
       "          -39.91182247, -39.91764324, -39.92346395, -39.92928461,\n",
       "          -39.93510521, -39.94092576],\n",
       "         [-39.83946659, -39.85073132, -39.86199819, -39.87326721,\n",
       "          -39.88453836, -39.89581162, -39.90708701, -39.9183645 ,\n",
       "          -39.92964408, -39.94092576],\n",
       "         [-39.74711368, -39.76860699, -39.79011073, -39.81162487,\n",
       "          -39.83314936, -39.85468417, -39.87622926, -39.89778458,\n",
       "          -39.91935009, -39.94092576],\n",
       "         [-39.62517449, -39.66015213, -39.69515666, -39.73018789,\n",
       "          -39.76524565, -39.80032975, -39.83544   , -39.87057621,\n",
       "          -39.9057382 , -39.94092576],\n",
       "         [-39.47403538, -39.52568745, -39.57739712, -39.62916379,\n",
       "          -39.68098686, -39.7328657 , -39.78479967, -39.83678812,\n",
       "          -39.88883037, -39.94092576],\n",
       "         [-39.33990747, -39.40629547, -39.47278424, -39.53937263,\n",
       "          -39.60605945, -39.67284347, -39.73972344, -39.80669804,\n",
       "          -39.87376594, -39.94092576]],\n",
       " \n",
       "        [[-39.47345241, -39.47399421, -39.47453582, -39.47507724,\n",
       "          -39.47561848, -39.47615952, -39.47670038, -39.47724105,\n",
       "          -39.47778153, -39.47832182],\n",
       "         [-39.47574986, -39.47603591, -39.47632189, -39.4766078 ,\n",
       "          -39.47689365, -39.47717942, -39.47746512, -39.47775076,\n",
       "          -39.47803632, -39.47832182],\n",
       "         [-39.47633978, -39.47656072, -39.47678148, -39.47700206,\n",
       "          -39.47722247, -39.4774427 , -39.47766275, -39.47788262,\n",
       "          -39.47810231, -39.47832182],\n",
       "         [-39.47308334, -39.47366574, -39.47424806, -39.47483029,\n",
       "          -39.47541243, -39.47599449, -39.47657645, -39.47715833,\n",
       "          -39.47774012, -39.47832182],\n",
       "         [-39.4650043 , -39.46648407, -39.46796383, -39.46944357,\n",
       "          -39.47092331, -39.47240303, -39.47388274, -39.47536245,\n",
       "          -39.47684214, -39.47832182],\n",
       "         [-39.45133293, -39.45433111, -39.45732944, -39.46032792,\n",
       "          -39.46332654, -39.4663253 , -39.46932421, -39.47232327,\n",
       "          -39.47532247, -39.47832182],\n",
       "         [-39.43018908, -39.43553459, -39.44088074, -39.44622754,\n",
       "          -39.45157498, -39.45692306, -39.46227179, -39.46762116,\n",
       "          -39.47297117, -39.47832182],\n",
       "         [-39.39127475, -39.40094012, -39.41060714, -39.42027579,\n",
       "          -39.42994608, -39.43961799, -39.44929153, -39.45896668,\n",
       "          -39.46864345, -39.47832182],\n",
       "         [-39.33990747, -39.35527082, -39.37063823, -39.38600967,\n",
       "          -39.40138512, -39.41676456, -39.43214797, -39.44753534,\n",
       "          -39.46292662, -39.47832182],\n",
       "         [-39.27812187, -39.30035102, -39.32258422, -39.34482136,\n",
       "          -39.36706236, -39.38930712, -39.41155554, -39.43380753,\n",
       "          -39.45606299, -39.47832182]]]))"
      ]
     },
     "execution_count": 350,
     "metadata": {},
     "output_type": "execute_result"
    }
   ],
   "source": [
    "res"
   ]
  },
  {
   "cell_type": "code",
   "execution_count": 351,
   "metadata": {
    "ExecuteTime": {
     "end_time": "2018-01-05T17:25:53.529991Z",
     "start_time": "2018-01-05T17:18:57.405905Z"
    }
   },
   "outputs": [],
   "source": [
    "res = sp.optimize.brute(func=Nloglike, \n",
    "                  ranges=[(np.log(0.01), np.log(2.0)),(np.log(0.01), np.log(2.0)) , (0, 1)],\n",
    "                  args = (IX2p, hepatocyte_data),\n",
    "                  Ns = 15,\n",
    "                  full_output = True,\n",
    "                  finish=None)"
   ]
  },
  {
   "cell_type": "code",
   "execution_count": 352,
   "metadata": {
    "ExecuteTime": {
     "end_time": "2018-01-05T17:25:53.548167Z",
     "start_time": "2018-01-05T17:25:53.531389Z"
    }
   },
   "outputs": [
    {
     "data": {
      "text/plain": [
       "(array([-3.09136522,  0.69314718,  0.21428571]),\n",
       " -51.855414723956841,\n",
       " array([[[[-4.60517019, -4.60517019, -4.60517019, ..., -4.60517019,\n",
       "           -4.60517019, -4.60517019],\n",
       "          [-4.60517019, -4.60517019, -4.60517019, ..., -4.60517019,\n",
       "           -4.60517019, -4.60517019],\n",
       "          [-4.60517019, -4.60517019, -4.60517019, ..., -4.60517019,\n",
       "           -4.60517019, -4.60517019],\n",
       "          ..., \n",
       "          [-4.60517019, -4.60517019, -4.60517019, ..., -4.60517019,\n",
       "           -4.60517019, -4.60517019],\n",
       "          [-4.60517019, -4.60517019, -4.60517019, ..., -4.60517019,\n",
       "           -4.60517019, -4.60517019],\n",
       "          [-4.60517019, -4.60517019, -4.60517019, ..., -4.60517019,\n",
       "           -4.60517019, -4.60517019]],\n",
       " \n",
       "         [[-4.22671895, -4.22671895, -4.22671895, ..., -4.22671895,\n",
       "           -4.22671895, -4.22671895],\n",
       "          [-4.22671895, -4.22671895, -4.22671895, ..., -4.22671895,\n",
       "           -4.22671895, -4.22671895],\n",
       "          [-4.22671895, -4.22671895, -4.22671895, ..., -4.22671895,\n",
       "           -4.22671895, -4.22671895],\n",
       "          ..., \n",
       "          [-4.22671895, -4.22671895, -4.22671895, ..., -4.22671895,\n",
       "           -4.22671895, -4.22671895],\n",
       "          [-4.22671895, -4.22671895, -4.22671895, ..., -4.22671895,\n",
       "           -4.22671895, -4.22671895],\n",
       "          [-4.22671895, -4.22671895, -4.22671895, ..., -4.22671895,\n",
       "           -4.22671895, -4.22671895]],\n",
       " \n",
       "         [[-3.84826771, -3.84826771, -3.84826771, ..., -3.84826771,\n",
       "           -3.84826771, -3.84826771],\n",
       "          [-3.84826771, -3.84826771, -3.84826771, ..., -3.84826771,\n",
       "           -3.84826771, -3.84826771],\n",
       "          [-3.84826771, -3.84826771, -3.84826771, ..., -3.84826771,\n",
       "           -3.84826771, -3.84826771],\n",
       "          ..., \n",
       "          [-3.84826771, -3.84826771, -3.84826771, ..., -3.84826771,\n",
       "           -3.84826771, -3.84826771],\n",
       "          [-3.84826771, -3.84826771, -3.84826771, ..., -3.84826771,\n",
       "           -3.84826771, -3.84826771],\n",
       "          [-3.84826771, -3.84826771, -3.84826771, ..., -3.84826771,\n",
       "           -3.84826771, -3.84826771]],\n",
       " \n",
       "         ..., \n",
       "         [[-0.0637553 , -0.0637553 , -0.0637553 , ..., -0.0637553 ,\n",
       "           -0.0637553 , -0.0637553 ],\n",
       "          [-0.0637553 , -0.0637553 , -0.0637553 , ..., -0.0637553 ,\n",
       "           -0.0637553 , -0.0637553 ],\n",
       "          [-0.0637553 , -0.0637553 , -0.0637553 , ..., -0.0637553 ,\n",
       "           -0.0637553 , -0.0637553 ],\n",
       "          ..., \n",
       "          [-0.0637553 , -0.0637553 , -0.0637553 , ..., -0.0637553 ,\n",
       "           -0.0637553 , -0.0637553 ],\n",
       "          [-0.0637553 , -0.0637553 , -0.0637553 , ..., -0.0637553 ,\n",
       "           -0.0637553 , -0.0637553 ],\n",
       "          [-0.0637553 , -0.0637553 , -0.0637553 , ..., -0.0637553 ,\n",
       "           -0.0637553 , -0.0637553 ]],\n",
       " \n",
       "         [[ 0.31469594,  0.31469594,  0.31469594, ...,  0.31469594,\n",
       "            0.31469594,  0.31469594],\n",
       "          [ 0.31469594,  0.31469594,  0.31469594, ...,  0.31469594,\n",
       "            0.31469594,  0.31469594],\n",
       "          [ 0.31469594,  0.31469594,  0.31469594, ...,  0.31469594,\n",
       "            0.31469594,  0.31469594],\n",
       "          ..., \n",
       "          [ 0.31469594,  0.31469594,  0.31469594, ...,  0.31469594,\n",
       "            0.31469594,  0.31469594],\n",
       "          [ 0.31469594,  0.31469594,  0.31469594, ...,  0.31469594,\n",
       "            0.31469594,  0.31469594],\n",
       "          [ 0.31469594,  0.31469594,  0.31469594, ...,  0.31469594,\n",
       "            0.31469594,  0.31469594]],\n",
       " \n",
       "         [[ 0.69314718,  0.69314718,  0.69314718, ...,  0.69314718,\n",
       "            0.69314718,  0.69314718],\n",
       "          [ 0.69314718,  0.69314718,  0.69314718, ...,  0.69314718,\n",
       "            0.69314718,  0.69314718],\n",
       "          [ 0.69314718,  0.69314718,  0.69314718, ...,  0.69314718,\n",
       "            0.69314718,  0.69314718],\n",
       "          ..., \n",
       "          [ 0.69314718,  0.69314718,  0.69314718, ...,  0.69314718,\n",
       "            0.69314718,  0.69314718],\n",
       "          [ 0.69314718,  0.69314718,  0.69314718, ...,  0.69314718,\n",
       "            0.69314718,  0.69314718],\n",
       "          [ 0.69314718,  0.69314718,  0.69314718, ...,  0.69314718,\n",
       "            0.69314718,  0.69314718]]],\n",
       " \n",
       " \n",
       "        [[[-4.60517019, -4.60517019, -4.60517019, ..., -4.60517019,\n",
       "           -4.60517019, -4.60517019],\n",
       "          [-4.22671895, -4.22671895, -4.22671895, ..., -4.22671895,\n",
       "           -4.22671895, -4.22671895],\n",
       "          [-3.84826771, -3.84826771, -3.84826771, ..., -3.84826771,\n",
       "           -3.84826771, -3.84826771],\n",
       "          ..., \n",
       "          [-0.0637553 , -0.0637553 , -0.0637553 , ..., -0.0637553 ,\n",
       "           -0.0637553 , -0.0637553 ],\n",
       "          [ 0.31469594,  0.31469594,  0.31469594, ...,  0.31469594,\n",
       "            0.31469594,  0.31469594],\n",
       "          [ 0.69314718,  0.69314718,  0.69314718, ...,  0.69314718,\n",
       "            0.69314718,  0.69314718]],\n",
       " \n",
       "         [[-4.60517019, -4.60517019, -4.60517019, ..., -4.60517019,\n",
       "           -4.60517019, -4.60517019],\n",
       "          [-4.22671895, -4.22671895, -4.22671895, ..., -4.22671895,\n",
       "           -4.22671895, -4.22671895],\n",
       "          [-3.84826771, -3.84826771, -3.84826771, ..., -3.84826771,\n",
       "           -3.84826771, -3.84826771],\n",
       "          ..., \n",
       "          [-0.0637553 , -0.0637553 , -0.0637553 , ..., -0.0637553 ,\n",
       "           -0.0637553 , -0.0637553 ],\n",
       "          [ 0.31469594,  0.31469594,  0.31469594, ...,  0.31469594,\n",
       "            0.31469594,  0.31469594],\n",
       "          [ 0.69314718,  0.69314718,  0.69314718, ...,  0.69314718,\n",
       "            0.69314718,  0.69314718]],\n",
       " \n",
       "         [[-4.60517019, -4.60517019, -4.60517019, ..., -4.60517019,\n",
       "           -4.60517019, -4.60517019],\n",
       "          [-4.22671895, -4.22671895, -4.22671895, ..., -4.22671895,\n",
       "           -4.22671895, -4.22671895],\n",
       "          [-3.84826771, -3.84826771, -3.84826771, ..., -3.84826771,\n",
       "           -3.84826771, -3.84826771],\n",
       "          ..., \n",
       "          [-0.0637553 , -0.0637553 , -0.0637553 , ..., -0.0637553 ,\n",
       "           -0.0637553 , -0.0637553 ],\n",
       "          [ 0.31469594,  0.31469594,  0.31469594, ...,  0.31469594,\n",
       "            0.31469594,  0.31469594],\n",
       "          [ 0.69314718,  0.69314718,  0.69314718, ...,  0.69314718,\n",
       "            0.69314718,  0.69314718]],\n",
       " \n",
       "         ..., \n",
       "         [[-4.60517019, -4.60517019, -4.60517019, ..., -4.60517019,\n",
       "           -4.60517019, -4.60517019],\n",
       "          [-4.22671895, -4.22671895, -4.22671895, ..., -4.22671895,\n",
       "           -4.22671895, -4.22671895],\n",
       "          [-3.84826771, -3.84826771, -3.84826771, ..., -3.84826771,\n",
       "           -3.84826771, -3.84826771],\n",
       "          ..., \n",
       "          [-0.0637553 , -0.0637553 , -0.0637553 , ..., -0.0637553 ,\n",
       "           -0.0637553 , -0.0637553 ],\n",
       "          [ 0.31469594,  0.31469594,  0.31469594, ...,  0.31469594,\n",
       "            0.31469594,  0.31469594],\n",
       "          [ 0.69314718,  0.69314718,  0.69314718, ...,  0.69314718,\n",
       "            0.69314718,  0.69314718]],\n",
       " \n",
       "         [[-4.60517019, -4.60517019, -4.60517019, ..., -4.60517019,\n",
       "           -4.60517019, -4.60517019],\n",
       "          [-4.22671895, -4.22671895, -4.22671895, ..., -4.22671895,\n",
       "           -4.22671895, -4.22671895],\n",
       "          [-3.84826771, -3.84826771, -3.84826771, ..., -3.84826771,\n",
       "           -3.84826771, -3.84826771],\n",
       "          ..., \n",
       "          [-0.0637553 , -0.0637553 , -0.0637553 , ..., -0.0637553 ,\n",
       "           -0.0637553 , -0.0637553 ],\n",
       "          [ 0.31469594,  0.31469594,  0.31469594, ...,  0.31469594,\n",
       "            0.31469594,  0.31469594],\n",
       "          [ 0.69314718,  0.69314718,  0.69314718, ...,  0.69314718,\n",
       "            0.69314718,  0.69314718]],\n",
       " \n",
       "         [[-4.60517019, -4.60517019, -4.60517019, ..., -4.60517019,\n",
       "           -4.60517019, -4.60517019],\n",
       "          [-4.22671895, -4.22671895, -4.22671895, ..., -4.22671895,\n",
       "           -4.22671895, -4.22671895],\n",
       "          [-3.84826771, -3.84826771, -3.84826771, ..., -3.84826771,\n",
       "           -3.84826771, -3.84826771],\n",
       "          ..., \n",
       "          [-0.0637553 , -0.0637553 , -0.0637553 , ..., -0.0637553 ,\n",
       "           -0.0637553 , -0.0637553 ],\n",
       "          [ 0.31469594,  0.31469594,  0.31469594, ...,  0.31469594,\n",
       "            0.31469594,  0.31469594],\n",
       "          [ 0.69314718,  0.69314718,  0.69314718, ...,  0.69314718,\n",
       "            0.69314718,  0.69314718]]],\n",
       " \n",
       " \n",
       "        [[[ 0.        ,  0.07142857,  0.14285714, ...,  0.85714286,\n",
       "            0.92857143,  1.        ],\n",
       "          [ 0.        ,  0.07142857,  0.14285714, ...,  0.85714286,\n",
       "            0.92857143,  1.        ],\n",
       "          [ 0.        ,  0.07142857,  0.14285714, ...,  0.85714286,\n",
       "            0.92857143,  1.        ],\n",
       "          ..., \n",
       "          [ 0.        ,  0.07142857,  0.14285714, ...,  0.85714286,\n",
       "            0.92857143,  1.        ],\n",
       "          [ 0.        ,  0.07142857,  0.14285714, ...,  0.85714286,\n",
       "            0.92857143,  1.        ],\n",
       "          [ 0.        ,  0.07142857,  0.14285714, ...,  0.85714286,\n",
       "            0.92857143,  1.        ]],\n",
       " \n",
       "         [[ 0.        ,  0.07142857,  0.14285714, ...,  0.85714286,\n",
       "            0.92857143,  1.        ],\n",
       "          [ 0.        ,  0.07142857,  0.14285714, ...,  0.85714286,\n",
       "            0.92857143,  1.        ],\n",
       "          [ 0.        ,  0.07142857,  0.14285714, ...,  0.85714286,\n",
       "            0.92857143,  1.        ],\n",
       "          ..., \n",
       "          [ 0.        ,  0.07142857,  0.14285714, ...,  0.85714286,\n",
       "            0.92857143,  1.        ],\n",
       "          [ 0.        ,  0.07142857,  0.14285714, ...,  0.85714286,\n",
       "            0.92857143,  1.        ],\n",
       "          [ 0.        ,  0.07142857,  0.14285714, ...,  0.85714286,\n",
       "            0.92857143,  1.        ]],\n",
       " \n",
       "         [[ 0.        ,  0.07142857,  0.14285714, ...,  0.85714286,\n",
       "            0.92857143,  1.        ],\n",
       "          [ 0.        ,  0.07142857,  0.14285714, ...,  0.85714286,\n",
       "            0.92857143,  1.        ],\n",
       "          [ 0.        ,  0.07142857,  0.14285714, ...,  0.85714286,\n",
       "            0.92857143,  1.        ],\n",
       "          ..., \n",
       "          [ 0.        ,  0.07142857,  0.14285714, ...,  0.85714286,\n",
       "            0.92857143,  1.        ],\n",
       "          [ 0.        ,  0.07142857,  0.14285714, ...,  0.85714286,\n",
       "            0.92857143,  1.        ],\n",
       "          [ 0.        ,  0.07142857,  0.14285714, ...,  0.85714286,\n",
       "            0.92857143,  1.        ]],\n",
       " \n",
       "         ..., \n",
       "         [[ 0.        ,  0.07142857,  0.14285714, ...,  0.85714286,\n",
       "            0.92857143,  1.        ],\n",
       "          [ 0.        ,  0.07142857,  0.14285714, ...,  0.85714286,\n",
       "            0.92857143,  1.        ],\n",
       "          [ 0.        ,  0.07142857,  0.14285714, ...,  0.85714286,\n",
       "            0.92857143,  1.        ],\n",
       "          ..., \n",
       "          [ 0.        ,  0.07142857,  0.14285714, ...,  0.85714286,\n",
       "            0.92857143,  1.        ],\n",
       "          [ 0.        ,  0.07142857,  0.14285714, ...,  0.85714286,\n",
       "            0.92857143,  1.        ],\n",
       "          [ 0.        ,  0.07142857,  0.14285714, ...,  0.85714286,\n",
       "            0.92857143,  1.        ]],\n",
       " \n",
       "         [[ 0.        ,  0.07142857,  0.14285714, ...,  0.85714286,\n",
       "            0.92857143,  1.        ],\n",
       "          [ 0.        ,  0.07142857,  0.14285714, ...,  0.85714286,\n",
       "            0.92857143,  1.        ],\n",
       "          [ 0.        ,  0.07142857,  0.14285714, ...,  0.85714286,\n",
       "            0.92857143,  1.        ],\n",
       "          ..., \n",
       "          [ 0.        ,  0.07142857,  0.14285714, ...,  0.85714286,\n",
       "            0.92857143,  1.        ],\n",
       "          [ 0.        ,  0.07142857,  0.14285714, ...,  0.85714286,\n",
       "            0.92857143,  1.        ],\n",
       "          [ 0.        ,  0.07142857,  0.14285714, ...,  0.85714286,\n",
       "            0.92857143,  1.        ]],\n",
       " \n",
       "         [[ 0.        ,  0.07142857,  0.14285714, ...,  0.85714286,\n",
       "            0.92857143,  1.        ],\n",
       "          [ 0.        ,  0.07142857,  0.14285714, ...,  0.85714286,\n",
       "            0.92857143,  1.        ],\n",
       "          [ 0.        ,  0.07142857,  0.14285714, ...,  0.85714286,\n",
       "            0.92857143,  1.        ],\n",
       "          ..., \n",
       "          [ 0.        ,  0.07142857,  0.14285714, ...,  0.85714286,\n",
       "            0.92857143,  1.        ],\n",
       "          [ 0.        ,  0.07142857,  0.14285714, ...,  0.85714286,\n",
       "            0.92857143,  1.        ],\n",
       "          [ 0.        ,  0.07142857,  0.14285714, ...,  0.85714286,\n",
       "            0.92857143,  1.        ]]]]),\n",
       " array([[[-10.92896544, -10.6912476 , -10.44714135, ...,  -7.77931644,\n",
       "           -7.50025386,  -7.2204761 ],\n",
       "         [-12.53496705, -12.20040632, -11.8531164 , ...,  -8.01143904,\n",
       "           -7.61543256,  -7.2204761 ],\n",
       "         [-14.69430821, -14.23085254, -13.74197712, ...,  -8.30203408,\n",
       "           -7.75834542,  -7.2204761 ],\n",
       "         ..., \n",
       "         [-41.67176374, -46.42107749, -45.39658866, ..., -10.43064773,\n",
       "           -8.75909725,  -7.2204761 ],\n",
       "         [-40.77170081, -45.69087445, -45.33648318, ..., -10.45431589,\n",
       "           -8.77001777,  -7.2204761 ],\n",
       "         [-40.18104742, -45.17826839, -45.24475718, ..., -10.46988293,\n",
       "           -8.77720183,  -7.2204761 ]],\n",
       " \n",
       "        [[-12.53496705, -12.30347112, -12.06848981, ...,  -9.60272404,\n",
       "           -9.35078566,  -9.09877881],\n",
       "         [-13.94057912, -13.62007201, -13.29203406, ...,  -9.8050268 ,\n",
       "           -9.45133818,  -9.09877881],\n",
       "         [-16.0987221 , -15.62862773, -15.14483781, ..., -10.08293737,\n",
       "           -9.58808644,  -9.09877881],\n",
       "         ..., \n",
       "         [-41.66398505, -47.05612724, -47.73094428, ..., -12.37600924,\n",
       "          -10.66819412,  -9.09877881],\n",
       "         [-40.77479128, -46.28278962, -47.64755354, ..., -12.40453569,\n",
       "          -10.68130563,  -9.09877881],\n",
       "         [-40.17603069, -45.72624394, -47.51887051, ..., -12.42366382,\n",
       "          -10.69009813,  -9.09877881]],\n",
       " \n",
       "        [[-14.69430821, -14.4589818 , -14.22305031, ..., -11.86515276,\n",
       "          -11.63222727, -11.40020088],\n",
       "         [-16.0987221 , -15.7608685 , -15.42168399, ..., -12.05323988,\n",
       "          -11.725489  , -11.40020088],\n",
       "         [-18.29625439, -17.78327582, -17.26938677, ..., -12.3194059 ,\n",
       "          -11.85636787, -11.40020088],\n",
       "         ..., \n",
       "         [-41.64636843, -47.39130962, -49.96657232, ..., -14.76218325,\n",
       "          -13.00847736, -11.40020088],\n",
       "         [-40.76719489, -46.58275214, -49.82002844, ..., -14.79744954,\n",
       "          -13.02461324, -11.40020088],\n",
       "         [-40.17025277, -46.00436299, -49.6431677 , ..., -14.82160322,\n",
       "          -13.0356596 , -11.40020088]],\n",
       " \n",
       "        ..., \n",
       "        [[-41.67176374, -41.67176848, -41.67177093, ..., -41.67166897,\n",
       "          -41.67164614, -41.671621  ],\n",
       "         [-41.66398505, -41.66455248, -41.66511653, ..., -41.6705708 ,\n",
       "          -41.6710976 , -41.671621  ],\n",
       "         [-41.64636843, -41.64819655, -41.65002093, ..., -41.66805857,\n",
       "          -41.66984167, -41.671621  ],\n",
       "         ..., \n",
       "         [-40.26826965, -40.36735774, -40.46664411, ..., -41.46927446,\n",
       "          -41.57038416, -41.671621  ],\n",
       "         [-40.02759008, -40.14336987, -40.2594358 , ..., -41.43411054,\n",
       "          -41.55277794, -41.671621  ],\n",
       "         [-39.80400191, -39.93515551, -40.06669864, ..., -41.40122245,\n",
       "          -41.53630387, -41.671621  ]],\n",
       " \n",
       "        [[-40.77170081, -40.7733461 , -40.77499114, ..., -40.7914271 ,\n",
       "          -40.79306926, -40.79471114],\n",
       "         [-40.77479128, -40.77621668, -40.77764168, ..., -40.79187017,\n",
       "          -40.79329085, -40.79471114],\n",
       "         [-40.76719489, -40.76916407, -40.77113269, ..., -40.79078717,\n",
       "          -40.79274945, -40.79471114],\n",
       "         ..., \n",
       "         [-40.02759008, -40.08194307, -40.13636647, ..., -40.68433692,\n",
       "          -40.73949286, -40.79471114],\n",
       "         [-39.85731231, -39.92361131, -39.99001609, ..., -40.65963613,\n",
       "          -40.72712818, -40.79471114],\n",
       "         [-39.69540715, -39.77300661, -39.85075495, ..., -40.63604965,\n",
       "          -40.71531761, -40.79471114]],\n",
       " \n",
       "        [[-40.18104742, -40.18128192, -40.18151622, ..., -40.18384783,\n",
       "          -40.18407986, -40.18431168],\n",
       "         [-40.17603069, -40.17662313, -40.17721543, ..., -40.18313042,\n",
       "          -40.18372112, -40.18431168],\n",
       "         [-40.17025277, -40.17125725, -40.17226169, ..., -40.18230376,\n",
       "          -40.18330774, -40.18431168],\n",
       "         ..., \n",
       "         [-39.80400191, -39.83105568, -39.85812685, ..., -40.12977975,\n",
       "          -40.15703747, -40.18431168],\n",
       "         [-39.69540715, -39.73014653, -39.76491461, ..., -40.11413877,\n",
       "          -40.14921187, -40.18431168],\n",
       "         [-39.58932703, -39.63156037, -39.67383574, ..., -40.09883719,\n",
       "          -40.14155528, -40.18431168]]]))"
      ]
     },
     "execution_count": 352,
     "metadata": {},
     "output_type": "execute_result"
    }
   ],
   "source": [
    "res"
   ]
  },
  {
   "cell_type": "code",
   "execution_count": 353,
   "metadata": {
    "ExecuteTime": {
     "end_time": "2018-01-05T17:27:37.276566Z",
     "start_time": "2018-01-05T17:27:37.265343Z"
    }
   },
   "outputs": [
    {
     "data": {
      "text/html": [
       "<div>\n",
       "<style>\n",
       "    .dataframe thead tr:only-child th {\n",
       "        text-align: right;\n",
       "    }\n",
       "\n",
       "    .dataframe thead th {\n",
       "        text-align: left;\n",
       "    }\n",
       "\n",
       "    .dataframe tbody tr th {\n",
       "        vertical-align: top;\n",
       "    }\n",
       "</style>\n",
       "<table border=\"1\" class=\"dataframe\">\n",
       "  <thead>\n",
       "    <tr style=\"text-align: right;\">\n",
       "      <th></th>\n",
       "      <th>loglike</th>\n",
       "      <th>n</th>\n",
       "      <th>k</th>\n",
       "      <th>cAIC</th>\n",
       "    </tr>\n",
       "  </thead>\n",
       "  <tbody>\n",
       "    <tr>\n",
       "      <th>I1</th>\n",
       "      <td>50.677130</td>\n",
       "      <td>19.0</td>\n",
       "      <td>2.0</td>\n",
       "      <td>-96.604260</td>\n",
       "    </tr>\n",
       "    <tr>\n",
       "      <th>I2</th>\n",
       "      <td>50.678868</td>\n",
       "      <td>19.0</td>\n",
       "      <td>3.0</td>\n",
       "      <td>-93.757737</td>\n",
       "    </tr>\n",
       "    <tr>\n",
       "      <th>R1</th>\n",
       "      <td>50.678868</td>\n",
       "      <td>19.0</td>\n",
       "      <td>2.0</td>\n",
       "      <td>-96.607737</td>\n",
       "    </tr>\n",
       "    <tr>\n",
       "      <th>IX2p</th>\n",
       "      <td>51.855415</td>\n",
       "      <td>19.0</td>\n",
       "      <td>3.0</td>\n",
       "      <td>-96.110829</td>\n",
       "    </tr>\n",
       "  </tbody>\n",
       "</table>\n",
       "</div>"
      ],
      "text/plain": [
       "        loglike     n    k       cAIC\n",
       "I1    50.677130  19.0  2.0 -96.604260\n",
       "I2    50.678868  19.0  3.0 -93.757737\n",
       "R1    50.678868  19.0  2.0 -96.607737\n",
       "IX2p  51.855415  19.0  3.0 -96.110829"
      ]
     },
     "execution_count": 353,
     "metadata": {},
     "output_type": "execute_result"
    }
   ],
   "source": [
    "results.loc['IX2p', 'loglike'] = -res[1]\n",
    "results.loc['IX2p', 'k'] = 3\n",
    "results.loc['IX2p', 'n'] = len(hepatocyte_data)\n",
    "\n",
    "results['cAIC'] = 2 * results['k'] - 2 * results['loglike'] + (2*results['k']**2 + 2*results['k'])/(results['n']-results['k']-1)\n",
    "\n",
    "results"
   ]
  },
  {
   "cell_type": "markdown",
   "metadata": {},
   "source": [
    "# Scenario A = R1"
   ]
  },
  {
   "cell_type": "code",
   "execution_count": 191,
   "metadata": {
    "ExecuteTime": {
     "end_time": "2018-01-05T13:26:07.662689Z",
     "start_time": "2018-01-05T13:26:07.657735Z"
    }
   },
   "outputs": [],
   "source": [
    "K = np.vectorize(c14_models.C_atm)\n",
    "C = c14_models.C_scenario_A"
   ]
  },
  {
   "cell_type": "markdown",
   "metadata": {},
   "source": [
    "## Fit"
   ]
  },
  {
   "cell_type": "code",
   "execution_count": 193,
   "metadata": {
    "ExecuteTime": {
     "end_time": "2018-01-05T13:26:12.098795Z",
     "start_time": "2018-01-05T13:26:12.095775Z"
    }
   },
   "outputs": [],
   "source": [
    "sigma_estimate = hepatocyte_data['d14C'].std()"
   ]
  },
  {
   "cell_type": "code",
   "execution_count": 194,
   "metadata": {
    "ExecuteTime": {
     "end_time": "2018-01-05T13:26:13.456148Z",
     "start_time": "2018-01-05T13:26:13.447380Z"
    }
   },
   "outputs": [],
   "source": [
    "def neg_loglike_A(logr, sigma):\n",
    "    r = np.exp(logr)\n",
    "    loglike = 0\n",
    "    for i, dataset in hepatocyte_data.iterrows():\n",
    "        Dbirth = dataset['Dbirth']\n",
    "        Dcoll = dataset['Dcoll']\n",
    "        Cexp = dataset['d14C']\n",
    "        Cmodel = C(Dbirth, Dcoll, r)\n",
    "        \n",
    "        loglike += sp.stats.norm.logpdf(Cexp, loc=Cmodel, scale=sigma)\n",
    "    return -loglike"
   ]
  },
  {
   "cell_type": "code",
   "execution_count": 195,
   "metadata": {
    "ExecuteTime": {
     "end_time": "2018-01-05T13:26:25.548458Z",
     "start_time": "2018-01-05T13:26:25.118514Z"
    }
   },
   "outputs": [
    {
     "data": {
      "text/html": [
       "<hr>"
      ]
     },
     "metadata": {},
     "output_type": "display_data"
    },
    {
     "data": {
      "text/html": [
       "\n",
       "        <table>\n",
       "            <tr>\n",
       "                <td title=\"Minimum value of function\">FCN = -50.673533256316475</td>\n",
       "                <td title=\"Total number of call to FCN so far\">TOTAL NCALL = 73</td>\n",
       "                <td title=\"Number of call in last migrad\">NCALLS = 73</td>\n",
       "            </tr>\n",
       "            <tr>\n",
       "                <td title=\"Estimated distance to minimum\">EDM = 1.722160944637842e-05</td>\n",
       "                <td title=\"Maximum EDM definition of convergence\">GOAL EDM = 5e-06</td>\n",
       "                <td title=\"Error def. Amount of increase in FCN to be defined as 1 standard deviation\">\n",
       "                UP = 0.5</td>\n",
       "            </tr>\n",
       "        </table>\n",
       "        \n",
       "        <table>\n",
       "            <tr>\n",
       "                <td align=\"center\" title=\"Validity of the migrad call\">Valid</td>\n",
       "                <td align=\"center\" title=\"Validity of parameters\">Valid Param</td>\n",
       "                <td align=\"center\" title=\"Is Covariance matrix accurate?\">Accurate Covar</td>\n",
       "                <td align=\"center\" title=\"Positive definiteness of covariance matrix\">PosDef</td>\n",
       "                <td align=\"center\" title=\"Was covariance matrix made posdef by adding diagonal element\">Made PosDef</td>\n",
       "            </tr>\n",
       "            <tr>\n",
       "                <td align=\"center\" style=\"background-color:#92CCA6\">True</td>\n",
       "                <td align=\"center\" style=\"background-color:#92CCA6\">True</td>\n",
       "                <td align=\"center\" style=\"background-color:#92CCA6\">True</td>\n",
       "                <td align=\"center\" style=\"background-color:#92CCA6\">True</td>\n",
       "                <td align=\"center\" style=\"background-color:#92CCA6\">False</td>\n",
       "            </tr>\n",
       "            <tr>\n",
       "                <td align=\"center\" title=\"Was last hesse call fail?\">Hesse Fail</td>\n",
       "                <td align=\"center\" title=\"Validity of covariance\">HasCov</td>\n",
       "                <td align=\"center\" title=\"Is EDM above goal EDM?\">Above EDM</td>\n",
       "                <td align=\"center\"></td>\n",
       "                <td align=\"center\" title=\"Did last migrad call reach max call limit?\">Reach calllim</td>\n",
       "            </tr>\n",
       "            <tr>\n",
       "                <td align=\"center\" style=\"background-color:#92CCA6\">False</td>\n",
       "                <td align=\"center\" style=\"background-color:#92CCA6\">True</td>\n",
       "                <td align=\"center\" style=\"background-color:#92CCA6\">False</td>\n",
       "                <td align=\"center\"></td>\n",
       "                <td align=\"center\" style=\"background-color:#92CCA6\">False</td>\n",
       "            </tr>\n",
       "        </table>\n",
       "        "
      ]
     },
     "metadata": {},
     "output_type": "display_data"
    },
    {
     "data": {
      "text/html": [
       "\n",
       "        <table>\n",
       "            <tr>\n",
       "                <td><a href=\"#\" onclick=\"$('#QNCFvQRRBK').toggle()\">+</a></td>\n",
       "                <td title=\"Variable name\">Name</td>\n",
       "                <td title=\"Value of parameter\">Value</td>\n",
       "                <td title=\"Parabolic error\">Parab Error</td>\n",
       "                <td title=\"Minos lower error\">Minos Error-</td>\n",
       "                <td title=\"Minos upper error\">Minos Error+</td>\n",
       "                <td title=\"Lower limit of the parameter\">Limit-</td>\n",
       "                <td title=\"Upper limit of the parameter\">Limit+</td>\n",
       "                <td title=\"Is the parameter fixed in the fit\">FIXED</td>\n",
       "            </tr>\n",
       "        \n",
       "            <tr>\n",
       "                <td>1</td>\n",
       "                <td>logr</td>\n",
       "                <td>-1.60825</td>\n",
       "                <td>0.115856</td>\n",
       "                <td>0</td>\n",
       "                <td>0</td>\n",
       "                <td></td>\n",
       "                <td></td>\n",
       "                <td></td>\n",
       "            </tr>\n",
       "            \n",
       "            <tr>\n",
       "                <td>2</td>\n",
       "                <td>sigma</td>\n",
       "                <td>0.0167915</td>\n",
       "                <td>0.00272054</td>\n",
       "                <td>0</td>\n",
       "                <td>0</td>\n",
       "                <td>0.0</td>\n",
       "                <td></td>\n",
       "                <td></td>\n",
       "            </tr>\n",
       "            \n",
       "            </table>\n",
       "        \n",
       "            <pre id=\"QNCFvQRRBK\" style=\"display:none;\">\n",
       "            <textarea rows=\"10\" cols=\"50\" onclick=\"this.select()\" readonly>\\begin{tabular}{|c|r|r|r|r|r|r|r|c|}\n",
       "\\hline\n",
       " & Name & Value & Para Error & Error+ & Error- & Limit+ & Limit- & FIXED\\\\\n",
       "\\hline\n",
       "1 & logr & -1.608e+00 & 1.159e-01 &  &  &  &  & \\\\\n",
       "\\hline\n",
       "2 & $\\sigma$ & 1.679e-02 & 2.721e-03 &  &  & 0.000e+00 & 0.000e+00 & \\\\\n",
       "\\hline\n",
       "\\end{tabular}</textarea>\n",
       "            </pre>\n",
       "            "
      ]
     },
     "metadata": {},
     "output_type": "display_data"
    },
    {
     "data": {
      "text/html": [
       "<hr>"
      ]
     },
     "metadata": {},
     "output_type": "display_data"
    }
   ],
   "source": [
    "M_A = iminuit.Minuit(neg_loglike_A, errordef = 0.5,\\\n",
    "           logr = np.log(0.0066), error_logr = np.log(1e-3), fix_logr = False,\\\n",
    "           sigma = sigma_estimate, error_sigma = sigma_estimate / 10.0, limit_sigma = (0.0, None), fix_sigma = False,\\\n",
    "           print_level = 1)\n",
    "M_A.migrad();"
   ]
  },
  {
   "cell_type": "code",
   "execution_count": 197,
   "metadata": {
    "ExecuteTime": {
     "end_time": "2018-01-05T13:27:15.266068Z",
     "start_time": "2018-01-05T13:27:15.261573Z"
    }
   },
   "outputs": [
    {
     "data": {
      "text/plain": [
       "{'logr': -1.608253538994529, 'sigma': 0.016791538366454306}"
      ]
     },
     "execution_count": 197,
     "metadata": {},
     "output_type": "execute_result"
    }
   ],
   "source": [
    "np.exp(M_A.values['logr'])"
   ]
  },
  {
   "cell_type": "code",
   "execution_count": 198,
   "metadata": {
    "ExecuteTime": {
     "end_time": "2018-01-05T13:28:27.785355Z",
     "start_time": "2018-01-05T13:28:27.767280Z"
    }
   },
   "outputs": [
    {
     "name": "stdout",
     "output_type": "stream",
     "text": [
      "lamda 0.200237015017\n",
      "sigma 0.016791538366454306\n"
     ]
    },
    {
     "data": {
      "text/html": [
       "<div>\n",
       "<style>\n",
       "    .dataframe thead tr:only-child th {\n",
       "        text-align: right;\n",
       "    }\n",
       "\n",
       "    .dataframe thead th {\n",
       "        text-align: left;\n",
       "    }\n",
       "\n",
       "    .dataframe tbody tr th {\n",
       "        vertical-align: top;\n",
       "    }\n",
       "</style>\n",
       "<table border=\"1\" class=\"dataframe\">\n",
       "  <thead>\n",
       "    <tr style=\"text-align: right;\">\n",
       "      <th></th>\n",
       "      <th>loglike</th>\n",
       "      <th>n</th>\n",
       "      <th>k</th>\n",
       "      <th>cAIC</th>\n",
       "    </tr>\n",
       "  </thead>\n",
       "  <tbody>\n",
       "    <tr>\n",
       "      <th>I1</th>\n",
       "      <td>50.677130</td>\n",
       "      <td>19.0</td>\n",
       "      <td>2.0</td>\n",
       "      <td>-96.604260</td>\n",
       "    </tr>\n",
       "    <tr>\n",
       "      <th>I2</th>\n",
       "      <td>50.678868</td>\n",
       "      <td>19.0</td>\n",
       "      <td>3.0</td>\n",
       "      <td>-93.757737</td>\n",
       "    </tr>\n",
       "    <tr>\n",
       "      <th>R1</th>\n",
       "      <td>50.678868</td>\n",
       "      <td>19.0</td>\n",
       "      <td>2.0</td>\n",
       "      <td>-96.607737</td>\n",
       "    </tr>\n",
       "  </tbody>\n",
       "</table>\n",
       "</div>"
      ],
      "text/plain": [
       "      loglike     n    k       cAIC\n",
       "I1  50.677130  19.0  2.0 -96.604260\n",
       "I2  50.678868  19.0  3.0 -93.757737\n",
       "R1  50.678868  19.0  2.0 -96.607737"
      ]
     },
     "execution_count": 198,
     "metadata": {},
     "output_type": "execute_result"
    }
   ],
   "source": [
    "lam = np.exp(M_A.values['logr'])\n",
    "print('lamda', lam)\n",
    "\n",
    "sig = M_A.values['sigma']\n",
    "print('sigma', sig)\n",
    "\n",
    "results.loc['R1', 'loglike'] = -res[1]\n",
    "results.loc['R1', 'k'] = 2\n",
    "results.loc['R1', 'n'] = len(hepatocyte_data)\n",
    "\n",
    "results['cAIC'] = 2 * results['k'] - 2 * results['loglike'] + (2*results['k']**2 + 2*results['k'])/(results['n']-results['k']-1)\n",
    "\n",
    "results"
   ]
  },
  {
   "cell_type": "markdown",
   "metadata": {},
   "source": [
    "### Plot"
   ]
  },
  {
   "cell_type": "code",
   "execution_count": 188,
   "metadata": {
    "ExecuteTime": {
     "end_time": "2018-01-05T13:23:41.520670Z",
     "start_time": "2018-01-05T13:23:41.300611Z"
    }
   },
   "outputs": [
    {
     "data": {
      "image/png": "[encoded data removed]",
      "text/plain": [
       "<matplotlib.figure.Figure at 0x7f65142c6898>"
      ]
     },
     "metadata": {},
     "output_type": "display_data"
    }
   ],
   "source": [
    "fig, axs = plt.subplots(2, 1, sharex = True, figsize = (6, 8))\n",
    "\n",
    "time = sp.linspace(1910.0, 2020.0, 1000)\n",
    "\n",
    "\n",
    "for ax in axs:\n",
    "    ax.plot(time, K(time), label = 'Atmosphere', color = 'black')\n",
    "\n",
    "    ax.errorbar(hepatocyte_data['Dbirth'], \\\n",
    "               sp.vectorize(C)(hepatocyte_data['Dbirth'], hepatocyte_data['Dcoll'], np.exp(M_A.values['logr'])), M_A.values['sigma'],\n",
    "               color = 'white', ecolor = 'black', label = 'Scenario A', marker='s', ls = '')\n",
    "\n",
    "\n",
    "    ax.errorbar(hepatocyte_data['Dbirth'], hepatocyte_data['d14C'], \n",
    "            marker = 'o', ls = 'None', color = 'black',\n",
    "               label = 'Hepato DNA (coll after 2015)')\n",
    "    ax.errorbar(hepatocyte_data.query('Dcoll < 2015')['Dbirth'], hepatocyte_data.query('Dcoll < 2015')['d14C'], \n",
    "               marker = 'o', ls = 'None', color = 'red', \n",
    "               label = 'Hepato DNA (coll before 2015)')\n",
    "\n",
    "\n",
    "    ax.set_xlim((1909, 2020))\n",
    "    ax.set_ylim(-0.1, 0.9)\n",
    "    ax.set_xticks(sp.linspace(1910, 2010, 6), minor = 1)\n",
    "    # ax.grid(which='both')\n",
    "    \n",
    "\n",
    "    ax.set_xlabel('Calendar year')\n",
    "    ax.set_ylabel('$\\Delta^{14}$C')\n",
    "\n",
    "axs[0].legend()\n",
    "axs[1].set_ylim(-0.0, 0.15)\n",
    "\n",
    "plt.show()"
   ]
  },
  {
   "cell_type": "code",
   "execution_count": null,
   "metadata": {
    "ExecuteTime": {
     "end_time": "2018-01-04T19:01:12.716570Z",
     "start_time": "2018-01-04T19:01:10.071Z"
    }
   },
   "outputs": [],
   "source": [
    "M_A.minos(sigma = 1.92);"
   ]
  },
  {
   "cell_type": "code",
   "execution_count": null,
   "metadata": {
    "ExecuteTime": {
     "end_time": "2018-01-04T19:01:12.717135Z",
     "start_time": "2018-01-04T19:01:10.076Z"
    }
   },
   "outputs": [],
   "source": [
    "np.exp(CI(M_A, 'logr'))"
   ]
  },
  {
   "cell_type": "code",
   "execution_count": null,
   "metadata": {
    "ExecuteTime": {
     "end_time": "2018-01-04T19:01:12.717808Z",
     "start_time": "2018-01-04T19:01:10.080Z"
    }
   },
   "outputs": [],
   "source": [
    "CI(M_A, 'sigma')"
   ]
  },
  {
   "cell_type": "code",
   "execution_count": null,
   "metadata": {
    "ExecuteTime": {
     "end_time": "2018-01-04T19:01:12.718339Z",
     "start_time": "2018-01-04T19:01:10.087Z"
    }
   },
   "outputs": [],
   "source": [
    "M_A.draw_mnprofile('logr');"
   ]
  },
  {
   "cell_type": "code",
   "execution_count": null,
   "metadata": {
    "ExecuteTime": {
     "end_time": "2018-01-04T19:01:12.718971Z",
     "start_time": "2018-01-04T19:01:10.091Z"
    }
   },
   "outputs": [],
   "source": [
    "M_A.draw_mnprofile('sigma');"
   ]
  },
  {
   "cell_type": "markdown",
   "metadata": {},
   "source": [
    "# 2POP"
   ]
  },
  {
   "cell_type": "markdown",
   "metadata": {},
   "source": [
    "### Sigma dependent on mass of sample"
   ]
  },
  {
   "cell_type": "code",
   "execution_count": null,
   "metadata": {
    "ExecuteTime": {
     "end_time": "2018-01-04T19:01:12.719558Z",
     "start_time": "2018-01-04T19:01:10.117Z"
    }
   },
   "outputs": [],
   "source": [
    "def neg_loglike_A_mass(r, sigma_light, sigma_heavy):\n",
    "    loglike = 0\n",
    "    for i, dataset in hepatocyte_data.iterrows():\n",
    "        Dbirth = dataset['Dbirth']\n",
    "        Dcoll = dataset['Dcoll']\n",
    "        Cexp = dataset['d14C']\n",
    "        Cmodel = C(Dbirth, Dcoll, r)\n",
    "        if dataset['mass'] < 10.0:\n",
    "            sigma = sigma_light\n",
    "        else:\n",
    "            sigma = sigma_heavy\n",
    "        \n",
    "        \n",
    "        loglike += sp.stats.norm.logpdf(Cexp, loc=Cmodel, scale=sigma)\n",
    "    return -loglike"
   ]
  },
  {
   "cell_type": "code",
   "execution_count": null,
   "metadata": {
    "ExecuteTime": {
     "end_time": "2018-01-04T19:01:12.720119Z",
     "start_time": "2018-01-04T19:01:10.129Z"
    }
   },
   "outputs": [],
   "source": [
    "M_A_mass = iminuit.Minuit(neg_loglike_A_mass, errordef = 0.5,\\\n",
    "                          r = 0.0066, error_r = 1e-3, limit_r = (0.0, None), fix_r = False,\\\n",
    "                          sigma_light = sigma_estimate, error_sigma_light = sigma_estimate / 10.0,\n",
    "                          limit_sigma_light = (0.0, None), fix_sigma_light = False,\n",
    "                          sigma_heavy = sigma_estimate, error_sigma_heavy = sigma_estimate / 10.0,\n",
    "                          limit_sigma_heavy = (0.0, None), fix_sigma_heavy = False,\n",
    "                          print_level = 1)"
   ]
  },
  {
   "cell_type": "code",
   "execution_count": null,
   "metadata": {
    "ExecuteTime": {
     "end_time": "2018-01-04T19:01:12.720659Z",
     "start_time": "2018-01-04T19:01:10.137Z"
    }
   },
   "outputs": [],
   "source": [
    "M_A_mass.migrad();"
   ]
  },
  {
   "cell_type": "code",
   "execution_count": null,
   "metadata": {
    "ExecuteTime": {
     "end_time": "2018-01-04T19:01:12.721315Z",
     "start_time": "2018-01-04T19:01:10.143Z"
    }
   },
   "outputs": [],
   "source": [
    "def neg_loglike_2POP(r, f, sigma):\n",
    "    loglike = 0\n",
    "    for i, dataset in hepatocyte_data.iterrows():\n",
    "        Dbirth = dataset['Dbirth']\n",
    "        Dcoll = dataset['Dcoll']\n",
    "        Cexp = dataset['d14C']\n",
    "        Cmodel = C2(Dbirth, Dcoll, r, f)\n",
    "        \n",
    "        loglike += sp.stats.norm.logpdf(Cexp, loc=Cmodel, scale=sigma)\n",
    "    return -loglike"
   ]
  },
  {
   "cell_type": "code",
   "execution_count": null,
   "metadata": {
    "ExecuteTime": {
     "end_time": "2018-01-04T19:01:12.721879Z",
     "start_time": "2018-01-04T19:01:10.149Z"
    }
   },
   "outputs": [],
   "source": [
    "M_2POP = iminuit.Minuit(neg_loglike_2POP, errordef = 0.5,\\\n",
    "                   r = 0.12, error_r = 1e-3, limit_r = (0.0, None), fix_r = False,\\\n",
    "                   f=0.35, error_f=0.01, limit_f=(0.0, 1.0), fix_f = False,\\\n",
    "                   sigma = sigma_estimate, error_sigma = sigma_estimate / 10.0, limit_sigma = (0.0, None), fix_sigma = False,\\\n",
    "                   print_level = 1)"
   ]
  },
  {
   "cell_type": "code",
   "execution_count": null,
   "metadata": {
    "ExecuteTime": {
     "end_time": "2018-01-04T19:01:12.722425Z",
     "start_time": "2018-01-04T19:01:10.157Z"
    }
   },
   "outputs": [],
   "source": [
    "M_2POP.migrad();"
   ]
  },
  {
   "cell_type": "code",
   "execution_count": null,
   "metadata": {
    "ExecuteTime": {
     "end_time": "2018-01-04T19:01:12.723076Z",
     "start_time": "2018-01-04T19:01:10.161Z"
    },
    "scrolled": true
   },
   "outputs": [],
   "source": [
    "f, ax = plt.subplots(1, 1, figsize = (6, 4))\n",
    "\n",
    "time = sp.linspace(1910.0, 2015.0, 1000)\n",
    "ax.plot(time, K(time), label = 'Atmosphere                    ', color = 'black')\n",
    "ax.scatter(hepatocyte_data['Dbirth'], hepatocyte_data['d14C'], color = 'black', label = 'Neuronal DNA            ')\n",
    "ax.errorbar(hepatocyte_data['Dbirth'], \\\n",
    "           sp.vectorize(C2)(hepatocyte_data['Dbirth'], hepatocyte_data['Dcoll'], M_2POP.values['r'], M_2POP.values['f']),\\\n",
    "            M_2POP.values['sigma'],\n",
    "           color = 'white', ecolor = 'black', label = '2POP', marker='^', ls = '', ms = 5)\n",
    "\n",
    "ax.set_xlim((1909, 2011))\n",
    "ax.set_ylim(-0.1, 0.9)\n",
    "ax.set_xticks(sp.arange(1910, 2011, 10))\n",
    "ax.set_xticks(sp.arange(1910, 2011, 2), minor = True)\n",
    "ax.set_yticks(sp.arange(-0.1, 0.91, 0.1))\n",
    "ax.set_yticks(sp.arange(-0.1, 0.91, 0.02), minor = True)\n",
    "# ax.grid(which='both')\n",
    "ax.legend(loc='best', numpoints = 1, scatterpoints = 1)\n",
    "\n",
    "ax.set_xlabel('Calendar year')\n",
    "ax.set_ylabel(u'Concentration of 14C (Δ14C)')\n",
    "\n",
    "ax.annotate(\"Partial nuclear\\ntest ban treaty\", xy = (1963, ax.get_ylim()[0]), xytext = (1965, 0.05),\n",
    "            arrowprops = dict(arrowstyle = '-|>', facecolor = 'white'))\n",
    "\n",
    "axins = inset_axes(ax,\n",
    "                   width=\"40%\",  # width = 30% of parent_bbox\n",
    "                   height=1.,  # height : 1 inch\n",
    "                   loc=2, borderpad = 3)\n",
    "\n",
    "axins.plot(time, K(time), label = 'Atmosphere                    ', color = 'black')\n",
    "axins.scatter(hepatocyte_data['Dbirth'], hepatocyte_data['d14C'], color = 'black', label = 'Neuronal DNA            ')\n",
    "axins.errorbar(hepatocyte_data['Dbirth'], \\\n",
    "           sp.vectorize(C2)(hepatocyte_data['Dbirth'], hepatocyte_data['Dcoll'], M_2POP.values['r'], M_2POP.values['f']),\\\n",
    "            M_2POP.values['sigma'],\n",
    "           color = 'white', ecolor = 'black', label = '2POP', marker='^', ls = '', ms = 5)\n",
    "\n",
    "axins.set_xlim(1941, 1959)\n",
    "axins.set_ylim(-0.05, 0.09)\n",
    "axins.set_xticks(sp.arange(1945, 1956, 5))\n",
    "axins.set_xticks(sp.arange(1942, 1959, 1), minor=True)\n",
    "\n",
    "axins.annotate(\"First above-ground\\n thermonuclear bomb test\", xy = (1952, axins.get_ylim()[0]), xytext = (1945.5, axins.get_ylim()[0] - 0.08),\n",
    "            arrowprops = dict(arrowstyle = '-|>', facecolor = 'white'), horizontalalignment = 'left')\n",
    "\n",
    "exportname = 'c14_predict_2POP'\n",
    "plt.savefig('{}.svg'.format(exportname))\n",
    "os.system('inkscape -D -z --file={0}.svg --export-pdf={0}.pdf'.format(exportname))\n",
    "\n",
    "plt.show()"
   ]
  },
  {
   "cell_type": "code",
   "execution_count": null,
   "metadata": {
    "ExecuteTime": {
     "end_time": "2018-01-04T19:01:12.723704Z",
     "start_time": "2018-01-04T19:01:10.192Z"
    }
   },
   "outputs": [],
   "source": [
    "matplotlib.text.Text?"
   ]
  },
  {
   "cell_type": "code",
   "execution_count": null,
   "metadata": {
    "ExecuteTime": {
     "end_time": "2018-01-04T19:01:12.724291Z",
     "start_time": "2018-01-04T19:01:10.198Z"
    }
   },
   "outputs": [],
   "source": [
    "M_2POP.minos(sigma = 1.92);"
   ]
  },
  {
   "cell_type": "code",
   "execution_count": null,
   "metadata": {
    "ExecuteTime": {
     "end_time": "2018-01-04T19:01:12.724886Z",
     "start_time": "2018-01-04T19:01:10.202Z"
    }
   },
   "outputs": [],
   "source": [
    "CI(M_2POP, 'f')"
   ]
  },
  {
   "cell_type": "markdown",
   "metadata": {},
   "source": [
    "Calculate how much bigger Spalding's CI was:"
   ]
  },
  {
   "cell_type": "code",
   "execution_count": null,
   "metadata": {
    "ExecuteTime": {
     "end_time": "2018-01-04T19:01:12.725422Z",
     "start_time": "2018-01-04T19:01:10.207Z"
    }
   },
   "outputs": [],
   "source": [
    "Delta_Rost = CI(M_2POP, 'f')[1] - CI(M_2POP, 'f')[0]\n",
    "Delta_Spalding = 0.63 - 0.12\n",
    "Delta_Spalding/Delta_Rost"
   ]
  },
  {
   "cell_type": "code",
   "execution_count": null,
   "metadata": {
    "ExecuteTime": {
     "end_time": "2018-01-04T19:01:12.726065Z",
     "start_time": "2018-01-04T19:01:10.211Z"
    }
   },
   "outputs": [],
   "source": [
    "CI(M_2POP, 'sigma')"
   ]
  },
  {
   "cell_type": "code",
   "execution_count": null,
   "metadata": {
    "ExecuteTime": {
     "end_time": "2018-01-04T19:01:12.726644Z",
     "start_time": "2018-01-04T19:01:10.215Z"
    }
   },
   "outputs": [],
   "source": [
    "M_2POP.draw_mnprofile('f');"
   ]
  },
  {
   "cell_type": "code",
   "execution_count": null,
   "metadata": {
    "ExecuteTime": {
     "end_time": "2018-01-04T19:01:12.727183Z",
     "start_time": "2018-01-04T19:01:10.219Z"
    }
   },
   "outputs": [],
   "source": [
    "M_2POP.draw_mnprofile('sigma');"
   ]
  },
  {
   "cell_type": "markdown",
   "metadata": {},
   "source": [
    "Manual profile likelihood for $r$ as `minos` didn't work."
   ]
  },
  {
   "cell_type": "code",
   "execution_count": null,
   "metadata": {
    "ExecuteTime": {
     "end_time": "2018-01-04T19:01:12.727814Z",
     "start_time": "2018-01-04T19:01:10.223Z"
    }
   },
   "outputs": [],
   "source": [
    "%%cache rprofile.pkl rs neglogL\n",
    "rs = sp.sort(sp.hstack((sp.linspace(0.1, 10, 50), M_2POP.values['r'], 0.15)))\n",
    "f_initial = M_2POP.values['f']\n",
    "sigma_initial = M_2POP.values['sigma']\n",
    "def fit_fix_r(r):\n",
    "    M_2POP = iminuit.Minuit(neg_loglike_2POP, errordef = 0.5,\\\n",
    "                   r = r, error_r = 1e-3, limit_r = (0.0, None), fix_r = True,\\\n",
    "                   f=0.35, error_f=0.01, limit_f=(0.0, 1.0), fix_f = False,\\\n",
    "                   sigma = sigma_estimate, error_sigma = sigma_estimate / 10.0, limit_sigma = (0.0, None), fix_sigma = False,\\\n",
    "                   print_level = 0)\n",
    "    M_2POP.migrad()\n",
    "    if M_2POP.migrad_ok():\n",
    "        return M_2POP.fval\n",
    "    else:\n",
    "        return sp.nan\n",
    "\n",
    "pool = Pool(processes=4) \n",
    "\n",
    "neglogL = sp.array(pool.map(fit_fix_r, rs))"
   ]
  },
  {
   "cell_type": "code",
   "execution_count": null,
   "metadata": {
    "ExecuteTime": {
     "end_time": "2018-01-04T19:01:12.728432Z",
     "start_time": "2018-01-04T19:01:10.241Z"
    }
   },
   "outputs": [],
   "source": [
    "func = sp.interpolate.interp1d(rs, neglogL - neglogL.min() - 1.92) "
   ]
  },
  {
   "cell_type": "code",
   "execution_count": null,
   "metadata": {
    "ExecuteTime": {
     "end_time": "2018-01-04T19:01:12.729025Z",
     "start_time": "2018-01-04T19:01:10.245Z"
    }
   },
   "outputs": [],
   "source": [
    "from scipy import optimize\n",
    "rmin = sp.optimize.root(func, 0.1, method='lm')['x'].item()\n",
    "rmax = sp.optimize.root(func, 2, method='lm')['x'].item()\n",
    "\n",
    "print('r:')\n",
    "print('{0:.2f} (95\\% CI [{1:.2f}, {2:.2f}])'.format(M_2POP.values['r'], rmin, rmax))\n"
   ]
  },
  {
   "cell_type": "code",
   "execution_count": null,
   "metadata": {
    "ExecuteTime": {
     "end_time": "2018-01-04T19:01:12.729687Z",
     "start_time": "2018-01-04T19:01:10.248Z"
    }
   },
   "outputs": [],
   "source": [
    "fig = plt.figure(figsize= (150 / 25.4, 50 / 25.4) )\n",
    "plt.xlim(0, 10)\n",
    "plt.ylim(-2.5, 0)\n",
    "\n",
    "plt.xlabel('turnover rate, r (per year)')\n",
    "plt.ylabel('$\\Delta \\ln L$')\n",
    "\n",
    "# plt.grid()\n",
    "\n",
    "plt.plot(rs, -(neglogL-M_2POP.fval), 'black')\n",
    "plt.plot([0, 10], [-1.92, -1.92], 'k--')\n",
    "# plt.plot([rmin, rmin], [-5, 0], 'k--')\n",
    "# plt.plot([rmax, rmax], [-5, 0], 'k--')\n",
    "\n",
    "exportname = 'rprofile'\n",
    "plt.savefig('{}.svg'.format(exportname))\n",
    "os.system('inkscape -D -z --file={0}.svg --export-pdf={0}.pdf'.format(exportname))\n",
    "\n",
    "plt.show()"
   ]
  },
  {
   "cell_type": "markdown",
   "metadata": {},
   "source": [
    "## 2POP mass"
   ]
  },
  {
   "cell_type": "code",
   "execution_count": null,
   "metadata": {
    "ExecuteTime": {
     "end_time": "2018-01-04T19:01:12.730308Z",
     "start_time": "2018-01-04T19:01:10.262Z"
    }
   },
   "outputs": [],
   "source": [
    "def neg_loglike_2POP_mass(r, f, sigma_light, sigma_heavy):\n",
    "    loglike = 0\n",
    "    for i, row in hepatocyte_data.iterrows():\n",
    "        Dbirth = row['Dbirth']\n",
    "        Dcoll = row['Dcoll']\n",
    "        Cexp = row['d14C']\n",
    "        Cmodel = C2(Dbirth, Dcoll, r, f)\n",
    "        if row['mass'] < 10.0:\n",
    "            sigma = sigma_light\n",
    "        else:\n",
    "            sigma = sigma_heavy\n",
    "        \n",
    "        loglike += sp.stats.norm.logpdf(Cexp, loc=Cmodel, scale=sigma)\n",
    "    return -loglike"
   ]
  },
  {
   "cell_type": "code",
   "execution_count": null,
   "metadata": {
    "ExecuteTime": {
     "end_time": "2018-01-04T19:01:12.730911Z",
     "start_time": "2018-01-04T19:01:10.275Z"
    }
   },
   "outputs": [],
   "source": [
    "M_2POP_mass = iminuit.Minuit(neg_loglike_2POP_mass, errordef = 0.5,\\\n",
    "                   r = 0.12, error_r = 1e-3, limit_r = (0.0, None), fix_r = False,\\\n",
    "                   f=0.35, error_f=0.01, limit_f=(0.0, 1.0), fix_f = False,\\\n",
    "                   sigma_light = sigma_estimate*20, error_sigma_light = sigma_estimate / 10.0, limit_sigma_light = (0.0, None), fix_sigma_light = False,\n",
    "                   sigma_heavy = sigma_estimate, error_sigma_heavy = sigma_estimate / 10.0, limit_sigma_heavy = (0.0, None), fix_sigma_heavy = False,\\\n",
    "                   print_level = 1)"
   ]
  },
  {
   "cell_type": "code",
   "execution_count": null,
   "metadata": {
    "ExecuteTime": {
     "end_time": "2018-01-04T19:01:12.731465Z",
     "start_time": "2018-01-04T19:01:10.279Z"
    }
   },
   "outputs": [],
   "source": [
    "M_2POP_mass.migrad();"
   ]
  },
  {
   "cell_type": "markdown",
   "metadata": {},
   "source": [
    "## Sample size estimation\n",
    "Here, I create simulated data from the model to estimate the sample size (needed number of additional subjects) to find a upper limit for $r$. In the model simulation I'll use the estimated point estimates of the parameters as true parameters. I use scenario 2POP.\n",
    "### Simulate the model"
   ]
  },
  {
   "cell_type": "code",
   "execution_count": null,
   "metadata": {
    "ExecuteTime": {
     "end_time": "2018-01-04T19:01:12.731983Z",
     "start_time": "2018-01-04T19:01:10.289Z"
    }
   },
   "outputs": [],
   "source": [
    "f_fit = M_2POP.values['f']\n",
    "r_fit = M_2POP.values['r']\n",
    "sigma_fit = M_2POP.values['sigma']"
   ]
  },
  {
   "cell_type": "markdown",
   "metadata": {},
   "source": [
    "Let's first plot the model prediction for the expected difference in C-14 concentration when comparing the cases $r = r_{estimate}$ and $r = r_{max}$ and different birth and death times:"
   ]
  },
  {
   "cell_type": "code",
   "execution_count": null,
   "metadata": {
    "ExecuteTime": {
     "end_time": "2018-01-04T19:01:12.732601Z",
     "start_time": "2018-01-04T19:01:10.297Z"
    }
   },
   "outputs": [],
   "source": [
    "time_min, time_max = 1910, 2015\n",
    "sampling = 1\n",
    "birth_times, death_times = sp.mgrid[time_min:time_max:sampling, time_min:time_max:sampling]\n",
    "C14_diff = sp.absolute(sp.vectorize(C2)(birth_times, death_times, r_fit, f_fit) - sp.vectorize(C2)(birth_times, death_times, rmax, f_fit))\n",
    "C14_diff = sp.ma.masked_array(C14_diff, mask = sp.isnan(C14_diff))"
   ]
  },
  {
   "cell_type": "code",
   "execution_count": null,
   "metadata": {
    "ExecuteTime": {
     "end_time": "2018-01-04T19:01:12.733227Z",
     "start_time": "2018-01-04T19:01:10.302Z"
    }
   },
   "outputs": [],
   "source": [
    "%config InlineBackend.figure_format = 'png'\n",
    "fig, ax = plt.subplots(figsize = (3,2))\n",
    "pcm = ax.pcolormesh(birth_times, death_times, C14_diff, cmap = 'viridis')\n",
    "ax.set_xlabel('year of birth')\n",
    "ax.set_ylabel('year of death', labelpad=10)\n",
    "fig.colorbar(pcm)\n",
    "ax.set_xlim(time_min, time_max)\n",
    "ax.set_ylim(time_min, time_max)\n",
    "ax.set_xticks(sp.arange(time_min, time_max, 20))\n",
    "ax.set_xticks(sp.arange(time_min+10, time_max, 20), minor = True)\n",
    "ax.set_yticks(sp.arange(time_min, time_max, 20))\n",
    "ax.set_yticks(sp.arange(time_min+10, time_max, 20), minor = True)\n",
    "# plt.contour(birth_times, death_times, C14_diff, [0.05], colors = 'red')\n",
    "\n",
    "plt.show()"
   ]
  },
  {
   "cell_type": "code",
   "execution_count": null,
   "metadata": {
    "ExecuteTime": {
     "end_time": "2018-01-04T19:01:12.733814Z",
     "start_time": "2018-01-04T19:01:10.306Z"
    }
   },
   "outputs": [],
   "source": [
    "max_index = sp.unravel_index(C14_diff.argmax(), C14_diff.shape)\n",
    "death_times[max_index]"
   ]
  },
  {
   "cell_type": "markdown",
   "metadata": {},
   "source": [
    "The biggest difference in C-14 is expected for subjects that died in 1965. "
   ]
  },
  {
   "cell_type": "markdown",
   "metadata": {},
   "source": [
    "### Creation of artifical subject data\n",
    "\n",
    "#### Informative data\n",
    "\n",
    "Based on the assumption that I my parameters are the true parameters I create artifical subject data by simulating the model. I'll choose subjects for which the expected difference in C-14 for the cases $r = r_{estimate}$ and $r = r_{max}$ is bigger than $0.05$."
   ]
  },
  {
   "cell_type": "code",
   "execution_count": null,
   "metadata": {
    "ExecuteTime": {
     "end_time": "2018-01-04T19:01:12.734431Z",
     "start_time": "2018-01-04T19:01:10.310Z"
    }
   },
   "outputs": [],
   "source": [
    "fig, ax = plt.subplots(figsize = (3,2))\n",
    "pcm = ax.pcolormesh(birth_times, death_times, C14_diff > 0.05, cmap = 'Greys')\n",
    "ax.set_xlabel('year of birth')\n",
    "ax.set_ylabel('year of death')\n",
    "fig.colorbar(pcm)\n",
    "ax.set_xlim(time_min, time_max)\n",
    "ax.set_ylim(time_min, time_max)\n",
    "\n",
    "plt.show()"
   ]
  },
  {
   "cell_type": "code",
   "execution_count": null,
   "metadata": {
    "ExecuteTime": {
     "end_time": "2018-01-04T19:01:12.735066Z",
     "start_time": "2018-01-04T19:01:10.313Z"
    }
   },
   "outputs": [],
   "source": [
    "chosen_birth_times = birth_times[C14_diff > 0.05]\n",
    "chosen_death_times = death_times[C14_diff > 0.05]\n",
    "chosen_times = zip(chosen_birth_times, chosen_death_times)"
   ]
  },
  {
   "cell_type": "code",
   "execution_count": null,
   "metadata": {
    "ExecuteTime": {
     "end_time": "2018-01-04T19:01:12.735649Z",
     "start_time": "2018-01-04T19:01:10.317Z"
    }
   },
   "outputs": [],
   "source": [
    "%%cache profiles_r_2POP.pkl profile_r_2POP\n",
    "profile_r_2POP = M_2POP.mnprofile('r', bound = [0.1, 1.5], subtract_min = True, bins = 60)"
   ]
  },
  {
   "cell_type": "code",
   "execution_count": null,
   "metadata": {
    "ExecuteTime": {
     "end_time": "2018-01-04T19:01:12.736273Z",
     "start_time": "2018-01-04T19:01:10.322Z"
    }
   },
   "outputs": [],
   "source": [
    "%%cache profiles.pkl profiles test_datasets\n",
    "n = 5\n",
    "test_datasets = {}\n",
    "profiles = {}\n",
    "for i in range(5):\n",
    "    sp.random.seed(i)\n",
    "    \n",
    "    indices = sp.random.choice(len(chosen_birth_times), n)\n",
    "    \n",
    "#     sampled_birth_times = chosen_birth_times[indices]\n",
    "#     sampled_death_times = chosen_death_times[indices]\n",
    "\n",
    "    sampled_birth_times = sp.random.uniform(1910, 1960, n)\n",
    "    sampled_death_times = sp.random.uniform(1961, 1970, n)\n",
    "    d14C = sp.vectorize(C2)(sampled_birth_times, sampled_death_times, r_fit, f_fit) + sp.random.normal(0, sigma_fit, len(sampled_birth_times))\n",
    "    \n",
    "    new_data = pd.DataFrame.from_dict({'Dbirth': sampled_birth_times, 'Dcoll': sampled_death_times, 'd14C': d14C})\n",
    "    \n",
    "    test_datasets[i] = pd.concat([hepatocyte_data, new_data], ignore_index=True)\n",
    "\n",
    "for i, data in test_datasets.iteritems():\n",
    "    def neg_loglike_2POP_test(r, f, sigma):\n",
    "        loglike = 0\n",
    "        for i, dataset in data.iterrows():\n",
    "            Dbirth = dataset['Dbirth']\n",
    "            Dcoll = dataset['Dcoll']\n",
    "            Cexp = dataset['d14C']\n",
    "            Cmodel = C2(Dbirth, Dcoll, r, f)\n",
    "\n",
    "            loglike += sp.stats.norm.logpdf(Cexp, loc=Cmodel, scale=sigma)\n",
    "        return -loglike\n",
    "\n",
    "    M_2POP_test = iminuit.Minuit(neg_loglike_2POP_test, errordef = 0.5,\\\n",
    "                   r = 0.2, error_r = 1e-3, limit_r = (0.0, None), fix_r = False,\\\n",
    "                   f= 0.3, error_f=0.01, limit_f=(0.0, 1.0), fix_f = False,\\\n",
    "                   sigma = 0.01, error_sigma = sigma_fit / 10.0, limit_sigma = (0.0, None), fix_sigma = False,\\\n",
    "                   print_level = 0)\n",
    "    M_2POP_test.tol = 10.0\n",
    "    M_2POP_test.migrad()\n",
    "#     M_2POP_test.minos('r', sigma = 1.92)\n",
    "    if M_2POP_test.migrad_ok():\n",
    "        profiles[i] = M_2POP_test.mnprofile('r', bound = [0.1, 0.5], subtract_min = True, bins = 25);"
   ]
  },
  {
   "cell_type": "markdown",
   "metadata": {},
   "source": [
    "Plot the artificial test data"
   ]
  },
  {
   "cell_type": "code",
   "execution_count": null,
   "metadata": {
    "ExecuteTime": {
     "end_time": "2018-01-04T19:01:12.736870Z",
     "start_time": "2018-01-04T19:01:10.326Z"
    }
   },
   "outputs": [],
   "source": [
    "i = 1\n",
    "artificial_data = test_datasets[i]\n",
    "\n",
    "f, ax = plt.subplots(1, 1, figsize = (3, 2))\n",
    "\n",
    "time = sp.linspace(1910.0, 2015.0, 1000)\n",
    "ax.plot(time, K(time), label = 'Atmosphere                    ', color = 'black')\n",
    "ax.scatter(artificial_data['Dbirth'], artificial_data['d14C'], color = colorcycle[i+1], label = 'Artificial data            ')\n",
    "ax.scatter(hepatocyte_data['Dbirth'], hepatocyte_data['d14C'], color = 'black', label = 'Neuronal DNA                   ')\n",
    "# ax.errorbar(artificial_data['Dbirth'], \\\n",
    "#            sp.vectorize(C2)(artificial_data['Dbirth'], artificial_data['Dcoll'], M_2POP.values['r'], M_2POP.values['f']),\\\n",
    "#             M_2POP.values['sigma'],\n",
    "#            color = 'white', ecolor = 'black', label = '2POP', marker='^', ls = '', ms = 5)\n",
    "\n",
    "ax.set_xlim((1909, 2011))\n",
    "ax.set_ylim(-0.1, 0.9)\n",
    "ax.set_xticks(sp.linspace(1910, 2010, 6), minor = 1)\n",
    "# ax.grid(which='both')\n",
    "ax.legend(loc='best', scatterpoints = 1)\n",
    "\n",
    "ax.set_xlabel('Calendar year')\n",
    "ax.set_ylabel('$\\Delta^{14}$C')\n",
    "\n",
    "# ax.annotate(\"First above-ground\\nnuclear bomb test\", xy = (1955, K(1955)), xytext = (1965, -0.08),\n",
    "#             arrowprops = dict(arrowstyle = '-|>'))\n",
    "# ax.annotate(\"Partial nuclear\\ntest ban treaty\", xy = (1963, K(1963)), xytext = (1967, 0.05),\n",
    "#             arrowprops = dict(arrowstyle = '-|>'))\n",
    "\n",
    "\n",
    "plt.show()"
   ]
  },
  {
   "cell_type": "code",
   "execution_count": null,
   "metadata": {
    "ExecuteTime": {
     "end_time": "2018-01-04T19:01:12.737480Z",
     "start_time": "2018-01-04T19:01:10.330Z"
    }
   },
   "outputs": [],
   "source": [
    "%config InlineBackend.figure_format = 'svg'\n",
    "\n",
    "fig = plt.figure(figsize= (75 / 25.4, 50 / 25.4) )\n",
    "plt.xlim(0.1, 0.4)\n",
    "plt.ylim(-2.5, 0)\n",
    "\n",
    "plt.xlabel('turnover rate, r (per year)')\n",
    "plt.ylabel('$\\Delta \\ln L$')\n",
    "\n",
    "# plt.grid()\n",
    "\n",
    "plt.plot(profile_r_2POP[0], -sp.array(profile_r_2POP[1]), 'black')\n",
    "plt.plot([0, 10], [-1.92, -1.92], 'k--')\n",
    "# plt.plot([rmin, rmin], [-5, 0], 'k--')\n",
    "# plt.plot([rmax, rmax], [-5, 0], 'k--')\n",
    "\n",
    "for i, profile in profiles.iteritems():\n",
    "    plt.plot(profile[0], -sp.array(profile[1]), color = colorcycle[i+1])\n",
    "\n",
    "\n",
    "plt.show()"
   ]
  },
  {
   "cell_type": "markdown",
   "metadata": {},
   "source": [
    "#### 'Recent' data\n",
    "Now, I repeat the creation of artificial data as above, but for patients that died in recent years. I choose 2012. I assume they are born bewteen 1910 and 2010 with uniform random distribution."
   ]
  },
  {
   "cell_type": "code",
   "execution_count": null,
   "metadata": {
    "ExecuteTime": {
     "end_time": "2018-01-04T19:01:12.738034Z",
     "start_time": "2018-01-04T19:01:10.334Z"
    }
   },
   "outputs": [],
   "source": [
    "len(hepatocyte_data)"
   ]
  },
  {
   "cell_type": "code",
   "execution_count": null,
   "metadata": {
    "ExecuteTime": {
     "end_time": "2018-01-04T19:01:12.738623Z",
     "start_time": "2018-01-04T19:01:10.338Z"
    }
   },
   "outputs": [],
   "source": [
    "%%cache profiles_recent.pkl profiles_recent test_datasets_recent\n",
    "n = 100\n",
    "test_datasets_recent = {}\n",
    "profiles_recent = {}\n",
    "for i in sp.arange(5)+1:\n",
    "    sp.random.seed(i)\n",
    "    \n",
    "    sampled_birth_times = sp.random.uniform(1910, 2010, n)\n",
    "    sampled_death_times = 2012 * sp.ones(n)\n",
    "    d14C = sp.vectorize(C2)(sampled_birth_times, sampled_death_times, r_fit, f_fit) + sp.random.normal(0, sigma_fit, len(sampled_birth_times))\n",
    "    \n",
    "    new_data = pd.DataFrame.from_dict({'Dbirth': sampled_birth_times, 'Dcoll': sampled_death_times, 'd14C': d14C})\n",
    "    \n",
    "    test_datasets_recent[i] = pd.concat([hepatocyte_data, new_data], ignore_index=True)\n",
    "\n",
    "for i, data in test_datasets_recent.iteritems():\n",
    "    def neg_loglike_2POP_test(r, f, sigma):\n",
    "        loglike = 0\n",
    "        for i, dataset in data.iterrows():\n",
    "            Dbirth = dataset['Dbirth']\n",
    "            Dcoll = dataset['Dcoll']\n",
    "            Cexp = dataset['d14C']\n",
    "            Cmodel = C2(Dbirth, Dcoll, r, f)\n",
    "\n",
    "            loglike += sp.stats.norm.logpdf(Cexp, loc=Cmodel, scale=sigma)\n",
    "        return -loglike\n",
    "\n",
    "    M_2POP_test = iminuit.Minuit(neg_loglike_2POP_test, errordef = 0.5,\\\n",
    "                   r = 0.2, error_r = 1e-3, limit_r = (0.0, None), fix_r = False,\\\n",
    "                   f= 0.3, error_f=0.01, limit_f=(0.0, 1.0), fix_f = False,\\\n",
    "                   sigma = 0.01, error_sigma = sigma_fit / 10.0, limit_sigma = (0.0, None), fix_sigma = False,\\\n",
    "                   print_level = 0)\n",
    "    M_2POP_test.tol = 10.0\n",
    "    M_2POP_test.migrad()\n",
    "#     M_2POP_test.minos('r', sigma = 1.92)\n",
    "    if M_2POP_test.migrad_ok():\n",
    "        profiles_recent[i] = M_2POP_test.mnprofile('r', bound = [0.1, 1.5], subtract_min = True, bins = 60);"
   ]
  },
  {
   "cell_type": "markdown",
   "metadata": {},
   "source": [
    "Plot the artificial test data"
   ]
  },
  {
   "cell_type": "code",
   "execution_count": null,
   "metadata": {
    "ExecuteTime": {
     "end_time": "2018-01-04T19:01:12.739183Z",
     "start_time": "2018-01-04T19:01:10.342Z"
    }
   },
   "outputs": [],
   "source": [
    "i = 1\n",
    "artificial_data_recent = test_datasets_recent[i]\n",
    "\n",
    "f, ax = plt.subplots(1, 1, figsize = (3, 2))\n",
    "\n",
    "time = sp.linspace(1910.0, 2015.0, 1000)\n",
    "ax.plot(time, K(time), label = 'Atmosphere                    ', color = 'black')\n",
    "ax.scatter(artificial_data_recent['Dbirth'], artificial_data_recent['d14C'], color = colorcycle[7], label = 'Artificial data            ')\n",
    "ax.scatter(hepatocyte_data['Dbirth'], hepatocyte_data['d14C'], color = 'black', label = 'Neuronal DNA                   ')\n",
    "# ax.errorbar(artificial_data_recent['Dbirth'], \\\n",
    "#            sp.vectorize(C2)(artificial_data_recent['Dbirth'], artificial_data_recent['Dcoll'], M_2POP.values['r'], M_2POP.values['f']),\\\n",
    "#             M_2POP.values['sigma'],\n",
    "#            color = 'white', ecolor = 'black', label = '2POP', marker='^', ls = '', ms = 5)\n",
    "\n",
    "ax.set_xlim((1909, 2011))\n",
    "ax.set_ylim(-0.1, 0.9)\n",
    "ax.set_xticks(sp.linspace(1910, 2010, 6), minor = 1)\n",
    "# ax.grid(which='both')\n",
    "ax.legend(loc='best', scatterpoints = 1)\n",
    "\n",
    "ax.set_xlabel('Calendar year')\n",
    "ax.set_ylabel('$\\Delta^{14}$C')\n",
    "\n",
    "# ax.annotate(\"First above-ground\\nnuclear bomb test\", xy = (1955, K(1955)), xytext = (1965, -0.08),\n",
    "#             arrowprops = dict(arrowstyle = '-|>'))\n",
    "# ax.annotate(\"Partial nuclear\\ntest ban treaty\", xy = (1963, K(1963)), xytext = (1967, 0.05),\n",
    "#             arrowprops = dict(arrowstyle = '-|>'))\n",
    "\n",
    "plt.show()"
   ]
  },
  {
   "cell_type": "code",
   "execution_count": null,
   "metadata": {
    "ExecuteTime": {
     "end_time": "2018-01-04T19:01:12.739758Z",
     "start_time": "2018-01-04T19:01:10.345Z"
    }
   },
   "outputs": [],
   "source": [
    "%config InlineBackend.figure_format = 'svg'\n",
    "\n",
    "fig = plt.figure(figsize= (75 / 25.4, 50 / 25.4) )\n",
    "plt.xlim(0.1, 1.5)\n",
    "plt.ylim(-2.5, 0)\n",
    "\n",
    "plt.xlabel('turnover rate, r (per year)')\n",
    "plt.ylabel('$\\Delta \\ln L$')\n",
    "\n",
    "# plt.grid()\n",
    "\n",
    "# plt.plot(profile_r_2POP[0], -sp.array(profile_r_2POP[1]), 'black')\n",
    "plt.plot(rs, -(neglogL-M_2POP.fval), 'black')\n",
    "plt.plot([0, 10], [-1.92, -1.92], 'k--')\n",
    "# plt.plot([rmin, rmin], [-5, 0], 'k--')\n",
    "# plt.plot([rmax, rmax], [-5, 0], 'k--')\n",
    "\n",
    "for i, profile in profiles_recent.iteritems():\n",
    "    plt.plot(profile[0], -sp.array(profile[1]), color = colorcycle[i+1])\n",
    "\n",
    "plt.show()"
   ]
  },
  {
   "cell_type": "markdown",
   "metadata": {},
   "source": [
    "### Plot of artifial data results for thesis"
   ]
  },
  {
   "cell_type": "code",
   "execution_count": null,
   "metadata": {
    "ExecuteTime": {
     "end_time": "2018-01-04T19:01:12.740370Z",
     "start_time": "2018-01-04T19:01:10.349Z"
    }
   },
   "outputs": [],
   "source": [
    "lineStyles = ['-', '--', '-.', ':']\n",
    "\n",
    "new_artifical_data = artificial_data.loc[artificial_data.index.difference(hepatocyte_data.reset_index().index)]\n",
    "new_artifical_data_recent = artificial_data_recent.loc[artificial_data_recent.index.difference(hepatocyte_data.reset_index().index)]\n",
    "\n",
    "%config InlineBackend.figure_format = 'png'\n",
    "fig, ax = plt.subplots(2, 2, figsize = (160/25.4,4))\n",
    "\n",
    "pcm = ax[0,0].pcolormesh(birth_times, death_times, C14_diff, cmap = 'viridis', shading = 'gourad')\n",
    "ax[0,0].scatter(new_artifical_data_recent['Dbirth'].values, new_artifical_data_recent['Dcoll'].values,\n",
    "                marker = '+', c = colorcycle[1])\n",
    "ax[0,0].scatter(new_artifical_data['Dbirth'].values, new_artifical_data['Dcoll'].values,\n",
    "                marker = '+', c = colorcycle[7])\n",
    "ax[0,0].scatter(hepatocyte_data['Dbirth'].values, hepatocyte_data['Dcoll'].values, marker = '+', c = 'white')\n",
    "ax[0,0].set_xlabel('Year of birth')\n",
    "ax[0,0].set_ylabel('Year of death', labelpad=10)\n",
    "cb = fig.colorbar(pcm, ax=ax[0,0])\n",
    "cb.set_label(u'Difference in Δ14C', labelpad = 10)\n",
    "ax[0,0].set_xlim(time_min, time_max)\n",
    "ax[0,0].set_ylim(time_min, time_max)\n",
    "ax[0,0].set_xticks(sp.arange(time_min, time_max, 20))\n",
    "ax[0,0].set_xticks(sp.arange(time_min+10, time_max, 20), minor = True)\n",
    "ax[0,0].set_yticks(sp.arange(time_min, time_max, 20))\n",
    "ax[0,0].set_yticks(sp.arange(time_min+10, time_max, 20), minor = True)\n",
    "# ax[0,0].add_patch(patches.Rectangle((1910, 2012), 100, 1, fill=False, color=colorcycle[1]))\n",
    "# ax[0,0].add_patch(patches.Rectangle((1910, 1961), 50, 9, fill=False, color=colorcycle[2]))\n",
    "\n",
    "\n",
    "artificial_data = test_datasets[1]\n",
    "msize = 5\n",
    "time = sp.linspace(1910.0, 2015.0, 1000)\n",
    "ax[0,1].plot(time, K(time), label = 'Atmosphere                    ', color = 'black')\n",
    "ax[0,1].scatter(hepatocyte_data['Dbirth'], hepatocyte_data['d14C'], \n",
    "                color = 'black', label = 'Neuronal DNA                        ', s = msize)\n",
    "ax[0,1].scatter(new_artifical_data_recent['Dbirth'], new_artifical_data_recent['d14C'], \n",
    "                color = colorcycle[1], label = 'Artifical data 1', s = msize)\n",
    "ax[0,1].scatter(new_artifical_data['Dbirth'], new_artifical_data['d14C'], \n",
    "                color = colorcycle[7], label = 'Artifical data 2     ', s = msize)\n",
    "\n",
    "\n",
    "ax[0,1].set_xlim((1909, 2011))\n",
    "ax[0,1].set_ylim(-0.1, 0.9)\n",
    "ax[0,1].set_xticks(sp.linspace(1910, 2010, 6), minor = 1)\n",
    "ax[0,1].legend(loc='upper left', scatterpoints = 1)\n",
    "ax[0,1].set_xlabel('Calendar year')\n",
    "ax[0,1].set_ylabel(u'Δ14C')\n",
    "\n",
    "ax[1,0].set_title('Artificial data 1', fontsize = 8)\n",
    "ax[1,0].set_xlim(0.1, 1.5)\n",
    "ax[1,0].set_ylim(-2.5, 0)\n",
    "ax[1,0].set_xlabel('Turnover rate, r (per year)')\n",
    "ax[1,0].set_ylabel(u'Δln L')\n",
    "ax[1,0].plot(profile_r_2POP[0], -sp.array(profile_r_2POP[-1]), 'black')\n",
    "# ax[1,0].plot(rs, -(neglogL-M_2POP.fval), 'black')\n",
    "ax[1,0].plot([0, 10], [-1.92, -1.92], 'k--')\n",
    "for i, profile in profiles_recent.iteritems():\n",
    "    ax[1,0].plot(profile[0], -sp.array(profile[1]), color = colorcycle[1], ls = lineStyles[len(profile) - i])\n",
    "    if i == len(lineStyles):\n",
    "        break\n",
    "    \n",
    "ax[1,1].set_title('Artificial data 2', fontsize = 8)\n",
    "ax[1,1].set_xlim(0.1, 1.5)\n",
    "ax[1,1].set_ylim(-2.5, 0)\n",
    "ax[1,1].set_xlabel('Turnover rate, r (per year)')\n",
    "ax[1,1].set_ylabel(u'Δln L')\n",
    "ax[1,1].plot(profile_r_2POP[0], -sp.array(profile_r_2POP[1]), 'black')\n",
    "# ax[1,1].plot(rs, -(neglogL-M_2POP.fval), 'black')\n",
    "ax[1,1].plot([0, 10], [-1.92, -1.92], 'k--')\n",
    "for i, profile in profiles.iteritems():\n",
    "    ax[1,1].plot(profile[0], -sp.array(profile[1]), color = colorcycle[7], ls = lineStyles[i-1])\n",
    "    if i == len(lineStyles):\n",
    "        break\n",
    "\n",
    "plt.tight_layout()\n",
    "\n",
    "exportname = 'c14_add_data'\n",
    "plt.savefig('{}.svg'.format(exportname))\n",
    "os.system('inkscape -D -z --file={0}.svg --export-pdf={0}.pdf'.format(exportname))\n",
    "\n",
    "\n",
    "plt.show()"
   ]
  },
  {
   "cell_type": "code",
   "execution_count": null,
   "metadata": {},
   "outputs": [],
   "source": []
  }
 ],
 "metadata": {
  "anaconda-cloud": {},
  "kernelspec": {
   "display_name": "Python [conda env:py3]",
   "language": "python",
   "name": "conda-env-py3-py"
  },
  "language_info": {
   "codemirror_mode": {
    "name": "ipython",
    "version": 3
   },
   "file_extension": ".py",
   "mimetype": "text/x-python",
   "name": "python",
   "nbconvert_exporter": "python",
   "pygments_lexer": "ipython3",
   "version": "3.6.3"
  },
  "notify_time": "30",
  "toc": {
   "nav_menu": {
    "height": "251px",
    "width": "252px"
   },
   "number_sections": true,
   "sideBar": true,
   "skip_h1_title": false,
   "toc_cell": false,
   "toc_position": {
    "height": "913px",
    "left": "0px",
    "right": "1708px",
    "top": "111px",
    "width": "212px"
   },
   "toc_section_display": "block",
   "toc_window_display": true
  }
 },
 "nbformat": 4,
 "nbformat_minor": 1
}
