{
 "cells": [
  {
   "cell_type": "code",
   "execution_count": 1,
   "metadata": {
    "ExecuteTime": {
     "end_time": "2018-01-05T17:21:17.087729Z",
     "start_time": "2018-01-05T17:21:16.008249Z"
    }
   },
   "outputs": [],
   "source": [
    "import iminuit\n",
    "%load_ext line_profiler\n",
    "import matplotlib.pyplot as plt\n",
    "%matplotlib inline\n",
    "import numba\n",
    "import numpy as np\n",
    "import pandas as pd\n",
    "import scipy as sp\n",
    "from scipy import optimize\n",
    "import seaborn as sns\n",
    "sns.set_style('darkgrid')\n",
    "sns.set_context('notebook')"
   ]
  },
  {
   "cell_type": "code",
   "execution_count": 2,
   "metadata": {
    "ExecuteTime": {
     "end_time": "2018-01-05T17:21:17.093252Z",
     "start_time": "2018-01-05T17:21:17.089320Z"
    }
   },
   "outputs": [],
   "source": [
    "def CI(M, p):\n",
    "    value = M.values[p]\n",
    "    lower = M.get_merrors()[p]['lower']\n",
    "    upper = M.get_merrors()[p]['upper']\n",
    "    return value + lower, value + upper"
   ]
  },
  {
   "cell_type": "code",
   "execution_count": 3,
   "metadata": {
    "ExecuteTime": {
     "end_time": "2018-01-05T17:21:17.103219Z",
     "start_time": "2018-01-05T17:21:17.094444Z"
    }
   },
   "outputs": [],
   "source": [
    "results = pd.DataFrame()"
   ]
  },
  {
   "cell_type": "markdown",
   "metadata": {},
   "source": [
    "# Load C14 models"
   ]
  },
  {
   "cell_type": "code",
   "execution_count": 4,
   "metadata": {
    "ExecuteTime": {
     "end_time": "2018-01-05T17:21:17.235718Z",
     "start_time": "2018-01-05T17:21:17.104233Z"
    }
   },
   "outputs": [],
   "source": [
    "import c14_models"
   ]
  },
  {
   "cell_type": "code",
   "execution_count": 5,
   "metadata": {
    "ExecuteTime": {
     "end_time": "2018-01-05T17:21:17.243196Z",
     "start_time": "2018-01-05T17:21:17.237218Z"
    }
   },
   "outputs": [
    {
     "data": {
      "text/plain": [
       "<module 'c14_models' from '/home/fabrost/work/C14_liver/c14_models.py'>"
      ]
     },
     "execution_count": 5,
     "metadata": {},
     "output_type": "execute_result"
    }
   ],
   "source": [
    "import importlib\n",
    "importlib.reload(c14_models)"
   ]
  },
  {
   "cell_type": "markdown",
   "metadata": {},
   "source": [
    "# Read patient data"
   ]
  },
  {
   "cell_type": "code",
   "execution_count": 6,
   "metadata": {
    "ExecuteTime": {
     "end_time": "2018-01-05T17:21:17.305890Z",
     "start_time": "2018-01-05T17:21:17.244532Z"
    }
   },
   "outputs": [],
   "source": [
    "c14_patient_data = pd.read_excel('data/C14data_liver_samples.xlsx')[['sort', 'Code', 'DOB', 'DOA', u'Δ 14C']]\n",
    "c14_patient_data.columns = ['type', 'pub_id', 'Dbirth', 'Dcoll', 'd14C']\n",
    "c14_patient_data['mass'] = 1.0\n",
    "c14_patient_data['d14C'] /= 1000.0"
   ]
  },
  {
   "cell_type": "code",
   "execution_count": 7,
   "metadata": {
    "ExecuteTime": {
     "end_time": "2018-01-05T17:21:17.325395Z",
     "start_time": "2018-01-05T17:21:17.307295Z"
    }
   },
   "outputs": [
    {
     "data": {
      "text/html": [
       "<div>\n",
       "<style>\n",
       "    .dataframe thead tr:only-child th {\n",
       "        text-align: right;\n",
       "    }\n",
       "\n",
       "    .dataframe thead th {\n",
       "        text-align: left;\n",
       "    }\n",
       "\n",
       "    .dataframe tbody tr th {\n",
       "        vertical-align: top;\n",
       "    }\n",
       "</style>\n",
       "<table border=\"1\" class=\"dataframe\">\n",
       "  <thead>\n",
       "    <tr style=\"text-align: right;\">\n",
       "      <th></th>\n",
       "      <th>Dbirth</th>\n",
       "      <th>Dcoll</th>\n",
       "      <th>d14C</th>\n",
       "      <th>mass</th>\n",
       "    </tr>\n",
       "  </thead>\n",
       "  <tbody>\n",
       "    <tr>\n",
       "      <th>count</th>\n",
       "      <td>8.000000</td>\n",
       "      <td>8.000000</td>\n",
       "      <td>8.000000</td>\n",
       "      <td>8.0</td>\n",
       "    </tr>\n",
       "    <tr>\n",
       "      <th>mean</th>\n",
       "      <td>1962.781250</td>\n",
       "      <td>2015.604167</td>\n",
       "      <td>0.061292</td>\n",
       "      <td>1.0</td>\n",
       "    </tr>\n",
       "    <tr>\n",
       "      <th>std</th>\n",
       "      <td>20.167992</td>\n",
       "      <td>4.357476</td>\n",
       "      <td>0.048558</td>\n",
       "      <td>0.0</td>\n",
       "    </tr>\n",
       "    <tr>\n",
       "      <th>min</th>\n",
       "      <td>1932.583333</td>\n",
       "      <td>2004.833333</td>\n",
       "      <td>0.015018</td>\n",
       "      <td>1.0</td>\n",
       "    </tr>\n",
       "    <tr>\n",
       "      <th>25%</th>\n",
       "      <td>1951.312500</td>\n",
       "      <td>2016.937500</td>\n",
       "      <td>0.020100</td>\n",
       "      <td>1.0</td>\n",
       "    </tr>\n",
       "    <tr>\n",
       "      <th>50%</th>\n",
       "      <td>1962.041667</td>\n",
       "      <td>2017.125000</td>\n",
       "      <td>0.051800</td>\n",
       "      <td>1.0</td>\n",
       "    </tr>\n",
       "    <tr>\n",
       "      <th>75%</th>\n",
       "      <td>1973.500000</td>\n",
       "      <td>2017.229167</td>\n",
       "      <td>0.083036</td>\n",
       "      <td>1.0</td>\n",
       "    </tr>\n",
       "    <tr>\n",
       "      <th>max</th>\n",
       "      <td>1995.333333</td>\n",
       "      <td>2017.416667</td>\n",
       "      <td>0.135400</td>\n",
       "      <td>1.0</td>\n",
       "    </tr>\n",
       "  </tbody>\n",
       "</table>\n",
       "</div>"
      ],
      "text/plain": [
       "            Dbirth        Dcoll      d14C  mass\n",
       "count     8.000000     8.000000  8.000000   8.0\n",
       "mean   1962.781250  2015.604167  0.061292   1.0\n",
       "std      20.167992     4.357476  0.048558   0.0\n",
       "min    1932.583333  2004.833333  0.015018   1.0\n",
       "25%    1951.312500  2016.937500  0.020100   1.0\n",
       "50%    1962.041667  2017.125000  0.051800   1.0\n",
       "75%    1973.500000  2017.229167  0.083036   1.0\n",
       "max    1995.333333  2017.416667  0.135400   1.0"
      ]
     },
     "execution_count": 7,
     "metadata": {},
     "output_type": "execute_result"
    }
   ],
   "source": [
    "hepatocyte_data = c14_patient_data.query('type == \"non-hepatocyte\"')\n",
    "hepatocyte_data.describe()"
   ]
  },
  {
   "cell_type": "markdown",
   "metadata": {},
   "source": [
    "# SSE & log-likelihood"
   ]
  },
  {
   "cell_type": "code",
   "execution_count": 8,
   "metadata": {
    "ExecuteTime": {
     "end_time": "2018-01-05T17:21:17.330816Z",
     "start_time": "2018-01-05T17:21:17.326697Z"
    }
   },
   "outputs": [],
   "source": [
    "def SSE(p, model, data):\n",
    "    model_data = model(data['Dbirth'].values, \n",
    "                    data['Dcoll'].values, \n",
    "                    *p)\n",
    "    sse = np.sum((model_data - data['d14C'].values)**2)\n",
    "    return sse    "
   ]
  },
  {
   "cell_type": "code",
   "execution_count": 9,
   "metadata": {
    "ExecuteTime": {
     "end_time": "2018-01-05T17:21:17.343213Z",
     "start_time": "2018-01-05T17:21:17.332775Z"
    }
   },
   "outputs": [],
   "source": [
    "def Sigma(p, model, data):\n",
    "    sse = SSE(p, model, data)\n",
    "    n = len(data)\n",
    "    sigma = np.sqrt(sse/n)\n",
    "    return sigma"
   ]
  },
  {
   "cell_type": "code",
   "execution_count": 10,
   "metadata": {
    "ExecuteTime": {
     "end_time": "2018-01-05T17:21:17.355884Z",
     "start_time": "2018-01-05T17:21:17.344565Z"
    }
   },
   "outputs": [],
   "source": [
    "def Nloglike(p, model, data):\n",
    "    try:\n",
    "        sse = SSE(p, model, data)\n",
    "    except:\n",
    "        sse = SSE([p], model, data)\n",
    "    n = len(data)\n",
    "    sig = np.sqrt(sse/n)\n",
    "    loglike = -n/2 * np.log(2*np.pi) - n/2 * np.log(sig**2) - 1 / (2*sig**2) * sse\n",
    "    return -loglike"
   ]
  },
  {
   "cell_type": "markdown",
   "metadata": {},
   "source": [
    "# Scenario I1"
   ]
  },
  {
   "cell_type": "code",
   "execution_count": 11,
   "metadata": {
    "ExecuteTime": {
     "end_time": "2018-01-05T17:21:17.366142Z",
     "start_time": "2018-01-05T17:21:17.357341Z"
    }
   },
   "outputs": [],
   "source": [
    "@np.vectorize\n",
    "def I1(Dbirth, Dcoll, loglam):\n",
    "    lam = np.exp(loglam)\n",
    "    return c14_models.I1(Dbirth, Dcoll, lam)[1]"
   ]
  },
  {
   "cell_type": "markdown",
   "metadata": {},
   "source": [
    "## Artifical data"
   ]
  },
  {
   "cell_type": "code",
   "execution_count": 12,
   "metadata": {
    "ExecuteTime": {
     "end_time": "2018-01-05T17:21:17.826014Z",
     "start_time": "2018-01-05T17:21:17.367418Z"
    }
   },
   "outputs": [],
   "source": [
    "lam = 0.1\n",
    "n = 20\n",
    "np.random.seed(42)\n",
    "artifical_data = pd.DataFrame(\n",
    "                    data={'Dbirth': \n",
    "                               np.random.uniform(1930, 1970, n), \n",
    "                          'Dcoll': \n",
    "                               np.random.uniform(2014, 2018, n)}\n",
    "                             )\n",
    "\n",
    "artifical_data['d14C'] = I1(artifical_data['Dbirth'], \n",
    "                            artifical_data['Dcoll'], \n",
    "                            loglam=np.log(lam)) \n",
    "artifical_data['d14C'] += np.random.normal(0, 0.01, \n",
    "                                           len(artifical_data)\n",
    "                                          )"
   ]
  },
  {
   "cell_type": "code",
   "execution_count": 13,
   "metadata": {
    "ExecuteTime": {
     "end_time": "2018-01-05T17:21:17.832809Z",
     "start_time": "2018-01-05T17:21:17.827093Z"
    }
   },
   "outputs": [
    {
     "data": {
      "text/html": [
       "<div>\n",
       "<style>\n",
       "    .dataframe thead tr:only-child th {\n",
       "        text-align: right;\n",
       "    }\n",
       "\n",
       "    .dataframe thead th {\n",
       "        text-align: left;\n",
       "    }\n",
       "\n",
       "    .dataframe tbody tr th {\n",
       "        vertical-align: top;\n",
       "    }\n",
       "</style>\n",
       "<table border=\"1\" class=\"dataframe\">\n",
       "  <thead>\n",
       "    <tr style=\"text-align: right;\">\n",
       "      <th></th>\n",
       "      <th>Dbirth</th>\n",
       "      <th>Dcoll</th>\n",
       "      <th>d14C</th>\n",
       "    </tr>\n",
       "  </thead>\n",
       "  <tbody>\n",
       "    <tr>\n",
       "      <th>0</th>\n",
       "      <td>1944.981605</td>\n",
       "      <td>2016.447412</td>\n",
       "      <td>0.066330</td>\n",
       "    </tr>\n",
       "    <tr>\n",
       "      <th>1</th>\n",
       "      <td>1968.028572</td>\n",
       "      <td>2014.557975</td>\n",
       "      <td>0.073433</td>\n",
       "    </tr>\n",
       "    <tr>\n",
       "      <th>2</th>\n",
       "      <td>1959.279758</td>\n",
       "      <td>2015.168579</td>\n",
       "      <td>0.086205</td>\n",
       "    </tr>\n",
       "    <tr>\n",
       "      <th>3</th>\n",
       "      <td>1953.946339</td>\n",
       "      <td>2015.465447</td>\n",
       "      <td>0.060992</td>\n",
       "    </tr>\n",
       "    <tr>\n",
       "      <th>4</th>\n",
       "      <td>1936.240746</td>\n",
       "      <td>2015.824280</td>\n",
       "      <td>0.072131</td>\n",
       "    </tr>\n",
       "  </tbody>\n",
       "</table>\n",
       "</div>"
      ],
      "text/plain": [
       "        Dbirth        Dcoll      d14C\n",
       "0  1944.981605  2016.447412  0.066330\n",
       "1  1968.028572  2014.557975  0.073433\n",
       "2  1959.279758  2015.168579  0.086205\n",
       "3  1953.946339  2015.465447  0.060992\n",
       "4  1936.240746  2015.824280  0.072131"
      ]
     },
     "execution_count": 13,
     "metadata": {},
     "output_type": "execute_result"
    }
   ],
   "source": [
    "artifical_data.head()"
   ]
  },
  {
   "cell_type": "markdown",
   "metadata": {},
   "source": [
    "## Parameter recovery"
   ]
  },
  {
   "cell_type": "code",
   "execution_count": 14,
   "metadata": {
    "ExecuteTime": {
     "end_time": "2018-01-05T17:21:18.759762Z",
     "start_time": "2018-01-05T17:21:17.833827Z"
    }
   },
   "outputs": [
    {
     "data": {
      "image/png": "[encoded data removed]",
      "text/plain": [
       "<matplotlib.figure.Figure at 0x7f91029eb5c0>"
      ]
     },
     "metadata": {},
     "output_type": "display_data"
    }
   ],
   "source": [
    "xx = np.linspace(np.log(0.05), np.log(1.5), 10)\n",
    "yy = [SSE([loglam], I1, artifical_data) for loglam in xx]\n",
    "plt.plot(xx, yy)\n",
    "\n",
    "plt.xlabel('loglambda')\n",
    "plt.ylabel('SSE')\n",
    "\n",
    "plt.show()"
   ]
  },
  {
   "cell_type": "code",
   "execution_count": 15,
   "metadata": {
    "ExecuteTime": {
     "end_time": "2018-01-05T17:21:19.790961Z",
     "start_time": "2018-01-05T17:21:18.761213Z"
    }
   },
   "outputs": [
    {
     "data": {
      "image/png": "[encoded data removed]",
      "text/plain": [
       "<matplotlib.figure.Figure at 0x7f91029eb3c8>"
      ]
     },
     "metadata": {},
     "output_type": "display_data"
    }
   ],
   "source": [
    "xx = np.linspace(np.log(0.05), np.log(1.5), 10)\n",
    "yy = [Sigma([loglam], I1, artifical_data) for loglam in xx]\n",
    "plt.plot(xx, yy)\n",
    "\n",
    "plt.xlabel('loglambda')\n",
    "plt.ylabel('sigma')\n",
    "\n",
    "plt.show()"
   ]
  },
  {
   "cell_type": "code",
   "execution_count": 16,
   "metadata": {
    "ExecuteTime": {
     "end_time": "2018-01-05T17:21:21.447990Z",
     "start_time": "2018-01-05T17:21:19.792234Z"
    }
   },
   "outputs": [],
   "source": [
    "res = sp.optimize.brute(func=Nloglike, \n",
    "                  ranges=[(np.log(0.01), np.log(10.0))],\n",
    "                  args = (I1, artifical_data),\n",
    "                  Ns = 10,\n",
    "                  full_output = True,\n",
    "                  finish=None)"
   ]
  },
  {
   "cell_type": "code",
   "execution_count": 17,
   "metadata": {
    "ExecuteTime": {
     "end_time": "2018-01-05T17:21:21.493828Z",
     "start_time": "2018-01-05T17:21:21.449147Z"
    }
   },
   "outputs": [
    {
     "name": "stdout",
     "output_type": "stream",
     "text": [
      "lamda 0.1\n",
      "sigma 0.00926419903019\n"
     ]
    }
   ],
   "source": [
    "lam = sp.exp(res[0])\n",
    "print('lamda', lam)\n",
    "\n",
    "sig = Sigma([np.log(lam)], I1, artifical_data)\n",
    "print('sigma', sig)"
   ]
  },
  {
   "cell_type": "code",
   "execution_count": 18,
   "metadata": {
    "ExecuteTime": {
     "end_time": "2018-01-05T17:21:21.588480Z",
     "start_time": "2018-01-05T17:21:21.494822Z"
    }
   },
   "outputs": [
    {
     "data": {
      "image/png": "[encoded data removed]",
      "text/plain": [
       "<matplotlib.figure.Figure at 0x7f914514f828>"
      ]
     },
     "metadata": {},
     "output_type": "display_data"
    }
   ],
   "source": [
    "plt.plot(res[-2], res[-1]-res[1])\n",
    "\n",
    "plt.xlabel('loglambda')\n",
    "plt.ylabel('nloglike')\n",
    "\n",
    "plt.show()"
   ]
  },
  {
   "cell_type": "markdown",
   "metadata": {},
   "source": [
    "### Plot"
   ]
  },
  {
   "cell_type": "code",
   "execution_count": 19,
   "metadata": {
    "ExecuteTime": {
     "end_time": "2018-01-05T17:21:23.062505Z",
     "start_time": "2018-01-05T17:21:21.589581Z"
    }
   },
   "outputs": [
    {
     "data": {
      "image/png": "[encoded data removed]",
      "text/plain": [
       "<matplotlib.figure.Figure at 0x7f910277cdd8>"
      ]
     },
     "metadata": {},
     "output_type": "display_data"
    }
   ],
   "source": [
    "fig, axs = plt.subplots(2, 1, sharex = True, figsize = (12, 8))\n",
    "\n",
    "time = sp.linspace(1910.0, 2020.0, 1000)\n",
    "\n",
    "\n",
    "for ax in axs:\n",
    "    ax.plot(time, np.vectorize(c14_models.C_atm)(time), label = 'Atmosphere', color = 'black')\n",
    "\n",
    "    ax.errorbar(artifical_data['Dbirth'], \\\n",
    "                I1(artifical_data['Dbirth'], \n",
    "                   artifical_data['Dcoll'], \n",
    "                   np.log(lam)), \n",
    "                sig,\n",
    "                color = 'white', ecolor = 'black', \n",
    "                marker='s', ls = '',\n",
    "                label = 'Scenario I1')\n",
    "\n",
    "\n",
    "    ax.errorbar(artifical_data['Dbirth'], \n",
    "                artifical_data['d14C'], \n",
    "                marker = 'o', ls = 'None', color = 'black',\n",
    "                label = 'Artifical data')\n",
    "#     ax.errorbar(hepatocyte_data.query('Dcoll < 2015')['Dbirth'], hepatocyte_data.query('Dcoll < 2015')['d14C'], \n",
    "#                marker = 'o', ls = 'None', color = 'red', \n",
    "#                label = 'Hepato DNA (coll before 2015)')\n",
    "\n",
    "\n",
    "    ax.set_xlim((1909, 2020))\n",
    "    ax.set_ylim(-0.1, 0.9)\n",
    "    ax.set_xticks(sp.linspace(1910, 2010, 6), minor = 1)\n",
    "    # ax.grid(which='both')\n",
    "    \n",
    "\n",
    "    ax.set_xlabel('Calendar year')\n",
    "    ax.set_ylabel('$\\Delta^{14}$C')\n",
    "\n",
    "axs[0].legend()\n",
    "axs[1].set_ylim(-0.0, 0.15)\n",
    "    \n",
    "plt.savefig('plots/c14_predict_L1.png', bbox_inches='tight', dpi=300)\n",
    "\n",
    "plt.show()"
   ]
  },
  {
   "cell_type": "markdown",
   "metadata": {},
   "source": [
    "## Fit"
   ]
  },
  {
   "cell_type": "code",
   "execution_count": 20,
   "metadata": {
    "ExecuteTime": {
     "end_time": "2018-01-05T17:21:23.692502Z",
     "start_time": "2018-01-05T17:21:23.066458Z"
    }
   },
   "outputs": [
    {
     "data": {
      "image/png": "[encoded data removed]",
      "text/plain": [
       "<matplotlib.figure.Figure at 0x7f91024b2f28>"
      ]
     },
     "metadata": {},
     "output_type": "display_data"
    }
   ],
   "source": [
    "res = sp.optimize.brute(func=Nloglike, \n",
    "                  ranges=[(np.log(0.01), np.log(10.0))],\n",
    "                  args = (I1, hepatocyte_data,),\n",
    "                  Ns = 10,\n",
    "                  full_output = True,\n",
    "                  finish=None)\n",
    "\n",
    "plt.plot(res[-2], res[-1]-res[1])\n",
    "\n",
    "plt.xlabel('loglambda')\n",
    "plt.ylabel('nloglike')\n",
    "\n",
    "plt.show()"
   ]
  },
  {
   "cell_type": "code",
   "execution_count": 52,
   "metadata": {
    "ExecuteTime": {
     "end_time": "2018-01-05T17:22:51.343363Z",
     "start_time": "2018-01-05T17:22:50.400937Z"
    }
   },
   "outputs": [
    {
     "data": {
      "image/png": "[encoded data removed]",
      "text/plain": [
       "<matplotlib.figure.Figure at 0x7f90f853db00>"
      ]
     },
     "metadata": {},
     "output_type": "display_data"
    }
   ],
   "source": [
    "res = sp.optimize.brute(func=Nloglike, \n",
    "                  ranges=[(-2.6, -1.5)],\n",
    "                  args = (I1, hepatocyte_data,),\n",
    "                  Ns = 50,\n",
    "                  full_output = True,\n",
    "                  finish=None)\n",
    "\n",
    "plt.plot(res[-2], res[-1]-res[1])\n",
    "\n",
    "plt.xlabel('loglambda')\n",
    "plt.ylabel('nloglike')\n",
    "\n",
    "plt.show()"
   ]
  },
  {
   "cell_type": "code",
   "execution_count": 54,
   "metadata": {
    "ExecuteTime": {
     "end_time": "2018-01-05T17:23:15.059865Z",
     "start_time": "2018-01-05T17:23:15.029765Z"
    }
   },
   "outputs": [
    {
     "name": "stdout",
     "output_type": "stream",
     "text": [
      "lamda 0.124472126785\n",
      "sigma 0.0356064512082\n"
     ]
    },
    {
     "data": {
      "text/html": [
       "<div>\n",
       "<style>\n",
       "    .dataframe thead tr:only-child th {\n",
       "        text-align: right;\n",
       "    }\n",
       "\n",
       "    .dataframe thead th {\n",
       "        text-align: left;\n",
       "    }\n",
       "\n",
       "    .dataframe tbody tr th {\n",
       "        vertical-align: top;\n",
       "    }\n",
       "</style>\n",
       "<table border=\"1\" class=\"dataframe\">\n",
       "  <thead>\n",
       "    <tr style=\"text-align: right;\">\n",
       "      <th></th>\n",
       "      <th>loglike</th>\n",
       "      <th>k</th>\n",
       "      <th>n</th>\n",
       "      <th>cAIC</th>\n",
       "    </tr>\n",
       "  </thead>\n",
       "  <tbody>\n",
       "    <tr>\n",
       "      <th>I1</th>\n",
       "      <td>15.330319</td>\n",
       "      <td>2.0</td>\n",
       "      <td>8.0</td>\n",
       "      <td>-24.260639</td>\n",
       "    </tr>\n",
       "    <tr>\n",
       "      <th>I2</th>\n",
       "      <td>14.672126</td>\n",
       "      <td>3.0</td>\n",
       "      <td>8.0</td>\n",
       "      <td>-17.344252</td>\n",
       "    </tr>\n",
       "  </tbody>\n",
       "</table>\n",
       "</div>"
      ],
      "text/plain": [
       "      loglike    k    n       cAIC\n",
       "I1  15.330319  2.0  8.0 -24.260639\n",
       "I2  14.672126  3.0  8.0 -17.344252"
      ]
     },
     "execution_count": 54,
     "metadata": {},
     "output_type": "execute_result"
    }
   ],
   "source": [
    "lam = sp.exp(res[0])\n",
    "print('lamda', lam)\n",
    "\n",
    "sig = Sigma([np.log(lam)], I1, hepatocyte_data)\n",
    "print('sigma', sig)\n",
    "\n",
    "results.loc['I1', 'loglike'] = -res[1]\n",
    "results.loc['I1', 'k'] = 2\n",
    "results.loc['I1', 'n'] = len(hepatocyte_data)\n",
    "\n",
    "results['cAIC'] = 2 * results['k'] - 2 * results['loglike'] + (2*results['k']**2 + 2*results['k'])/(results['n']-results['k']-1)\n",
    "\n",
    "results"
   ]
  },
  {
   "cell_type": "code",
   "execution_count": 55,
   "metadata": {
    "ExecuteTime": {
     "end_time": "2018-01-05T17:23:16.378593Z",
     "start_time": "2018-01-05T17:23:16.329419Z"
    }
   },
   "outputs": [
    {
     "data": {
      "text/plain": [
       "0.12601082736964014"
      ]
     },
     "execution_count": 55,
     "metadata": {},
     "output_type": "execute_result"
    }
   ],
   "source": [
    "Sigma([np.log(lam)], I1, artifical_data)"
   ]
  },
  {
   "cell_type": "markdown",
   "metadata": {},
   "source": [
    "### Plot"
   ]
  },
  {
   "cell_type": "code",
   "execution_count": 56,
   "metadata": {
    "ExecuteTime": {
     "end_time": "2018-01-05T17:23:18.400632Z",
     "start_time": "2018-01-05T17:23:17.329703Z"
    }
   },
   "outputs": [
    {
     "data": {
      "image/png": "[encoded data removed]",
      "text/plain": [
       "<matplotlib.figure.Figure at 0x7f910289d0f0>"
      ]
     },
     "metadata": {},
     "output_type": "display_data"
    }
   ],
   "source": [
    "fig, axs = plt.subplots(2, 1, sharex = True, figsize = (12, 8))\n",
    "\n",
    "time = sp.linspace(1910.0, 2020.0, 1000)\n",
    "\n",
    "\n",
    "for ax in axs:\n",
    "    ax.plot(time, np.vectorize(c14_models.C_atm)(time), label = 'Atmosphere', color = 'black')\n",
    "\n",
    "    ax.errorbar(hepatocyte_data['Dbirth'], \\\n",
    "                I1(hepatocyte_data['Dbirth'], \n",
    "                   hepatocyte_data['Dcoll'], \n",
    "                   np.log(lam)), \n",
    "                sig,\n",
    "                color = 'white', ecolor = 'black', \n",
    "                marker='s', ls = '',\n",
    "                label = 'Scenario I1')\n",
    "\n",
    "\n",
    "    ax.errorbar(hepatocyte_data['Dbirth'], \n",
    "                hepatocyte_data['d14C'], \n",
    "                marker = 'o', ls = 'None', color = 'black',\n",
    "                label = 'Artifical data')\n",
    "#     ax.errorbar(hepatocyte_data.query('Dcoll < 2015')['Dbirth'], hepatocyte_data.query('Dcoll < 2015')['d14C'], \n",
    "#                marker = 'o', ls = 'None', color = 'red', \n",
    "#                label = 'Hepato DNA (coll before 2015)')\n",
    "\n",
    "\n",
    "    ax.set_xlim((1909, 2020))\n",
    "    ax.set_ylim(-0.1, 0.9)\n",
    "    ax.set_xticks(sp.linspace(1910, 2010, 6), minor = 1)\n",
    "    # ax.grid(which='both')\n",
    "    \n",
    "\n",
    "    ax.set_xlabel('Calendar year')\n",
    "    ax.set_ylabel('$\\Delta^{14}$C')\n",
    "\n",
    "axs[0].legend()\n",
    "axs[1].set_ylim(-0.0, 0.15)\n",
    "    \n",
    "plt.savefig('plots/c14_predict_L1.png', bbox_inches='tight', dpi=300)\n",
    "\n",
    "plt.show()"
   ]
  },
  {
   "cell_type": "markdown",
   "metadata": {},
   "source": [
    "# I2"
   ]
  },
  {
   "cell_type": "code",
   "execution_count": 57,
   "metadata": {
    "ExecuteTime": {
     "end_time": "2018-01-05T17:23:31.396776Z",
     "start_time": "2018-01-05T17:23:31.393960Z"
    }
   },
   "outputs": [],
   "source": [
    "@np.vectorize\n",
    "def I2(Dbirth, Dcoll, loglam, f):\n",
    "    lam = np.exp(loglam)\n",
    "    return c14_models.I2(Dbirth, Dcoll, lam, f)[1]"
   ]
  },
  {
   "cell_type": "markdown",
   "metadata": {},
   "source": [
    "## Artifical data"
   ]
  },
  {
   "cell_type": "code",
   "execution_count": 58,
   "metadata": {
    "ExecuteTime": {
     "end_time": "2018-01-05T17:23:32.016932Z",
     "start_time": "2018-01-05T17:23:31.969717Z"
    }
   },
   "outputs": [],
   "source": [
    "lam = 0.1\n",
    "f = 0.5\n",
    "n = 20\n",
    "np.random.seed(42)\n",
    "artifical_data = pd.DataFrame(\n",
    "                    data={'Dbirth': \n",
    "                               np.random.uniform(1930, 1970, n), \n",
    "                          'Dcoll': \n",
    "                               np.random.uniform(2014, 2018, n)}\n",
    "                             )\n",
    "\n",
    "artifical_data['d14C'] = I2(artifical_data['Dbirth'], \n",
    "                            artifical_data['Dcoll'], \n",
    "                            loglam=np.log(lam), \n",
    "                            f=f) \n",
    "artifical_data['d14C'] += np.random.normal(0, 0.01, \n",
    "                                           len(artifical_data)\n",
    "                                          )"
   ]
  },
  {
   "cell_type": "code",
   "execution_count": 27,
   "metadata": {
    "ExecuteTime": {
     "end_time": "2018-01-05T17:21:26.045146Z",
     "start_time": "2018-01-05T17:21:26.039195Z"
    }
   },
   "outputs": [
    {
     "data": {
      "text/html": [
       "<div>\n",
       "<style>\n",
       "    .dataframe thead tr:only-child th {\n",
       "        text-align: right;\n",
       "    }\n",
       "\n",
       "    .dataframe thead th {\n",
       "        text-align: left;\n",
       "    }\n",
       "\n",
       "    .dataframe tbody tr th {\n",
       "        vertical-align: top;\n",
       "    }\n",
       "</style>\n",
       "<table border=\"1\" class=\"dataframe\">\n",
       "  <thead>\n",
       "    <tr style=\"text-align: right;\">\n",
       "      <th></th>\n",
       "      <th>Dbirth</th>\n",
       "      <th>Dcoll</th>\n",
       "      <th>d14C</th>\n",
       "    </tr>\n",
       "  </thead>\n",
       "  <tbody>\n",
       "    <tr>\n",
       "      <th>0</th>\n",
       "      <td>1944.981605</td>\n",
       "      <td>2016.447412</td>\n",
       "      <td>0.022040</td>\n",
       "    </tr>\n",
       "    <tr>\n",
       "      <th>1</th>\n",
       "      <td>1968.028572</td>\n",
       "      <td>2014.557975</td>\n",
       "      <td>0.359327</td>\n",
       "    </tr>\n",
       "    <tr>\n",
       "      <th>2</th>\n",
       "      <td>1959.279758</td>\n",
       "      <td>2015.168579</td>\n",
       "      <td>0.109915</td>\n",
       "    </tr>\n",
       "    <tr>\n",
       "      <th>3</th>\n",
       "      <td>1953.946339</td>\n",
       "      <td>2015.465447</td>\n",
       "      <td>0.012165</td>\n",
       "    </tr>\n",
       "    <tr>\n",
       "      <th>4</th>\n",
       "      <td>1936.240746</td>\n",
       "      <td>2015.824280</td>\n",
       "      <td>0.029488</td>\n",
       "    </tr>\n",
       "  </tbody>\n",
       "</table>\n",
       "</div>"
      ],
      "text/plain": [
       "        Dbirth        Dcoll      d14C\n",
       "0  1944.981605  2016.447412  0.022040\n",
       "1  1968.028572  2014.557975  0.359327\n",
       "2  1959.279758  2015.168579  0.109915\n",
       "3  1953.946339  2015.465447  0.012165\n",
       "4  1936.240746  2015.824280  0.029488"
      ]
     },
     "execution_count": 27,
     "metadata": {},
     "output_type": "execute_result"
    }
   ],
   "source": [
    "artifical_data.head()"
   ]
  },
  {
   "cell_type": "markdown",
   "metadata": {},
   "source": [
    "## Parameter recovery"
   ]
  },
  {
   "cell_type": "code",
   "execution_count": 28,
   "metadata": {
    "ExecuteTime": {
     "end_time": "2018-01-05T17:21:26.908133Z",
     "start_time": "2018-01-05T17:21:26.046507Z"
    }
   },
   "outputs": [
    {
     "data": {
      "image/png": "[encoded data removed]",
      "text/plain": [
       "<matplotlib.figure.Figure at 0x7f90fca0cef0>"
      ]
     },
     "metadata": {},
     "output_type": "display_data"
    }
   ],
   "source": [
    "xx = np.linspace(np.log(0.05), np.log(1.5), 10)\n",
    "yy = [SSE([loglam, 0.5], I2, artifical_data) for loglam in xx]\n",
    "plt.plot(xx, yy)\n",
    "\n",
    "plt.xlabel('loglambda')\n",
    "plt.ylabel('SSE')\n",
    "\n",
    "plt.show()"
   ]
  },
  {
   "cell_type": "code",
   "execution_count": 29,
   "metadata": {
    "ExecuteTime": {
     "end_time": "2018-01-05T17:21:27.765060Z",
     "start_time": "2018-01-05T17:21:26.909570Z"
    }
   },
   "outputs": [
    {
     "data": {
      "image/png": "[encoded data removed]",
      "text/plain": [
       "<matplotlib.figure.Figure at 0x7f91029059b0>"
      ]
     },
     "metadata": {},
     "output_type": "display_data"
    }
   ],
   "source": [
    "xx = np.linspace(np.log(0.05), np.log(1.5), 10)\n",
    "yy = [Sigma([loglam, 0.5], I2, artifical_data) for loglam in xx]\n",
    "plt.plot(xx, yy)\n",
    "\n",
    "plt.xlabel('loglambda')\n",
    "plt.ylabel('sigma')\n",
    "\n",
    "plt.show()"
   ]
  },
  {
   "cell_type": "code",
   "execution_count": 30,
   "metadata": {
    "ExecuteTime": {
     "end_time": "2018-01-05T17:21:43.011726Z",
     "start_time": "2018-01-05T17:21:27.766588Z"
    }
   },
   "outputs": [],
   "source": [
    "res = sp.optimize.brute(func=Nloglike, \n",
    "                  ranges=[(np.log(0.01), np.log(10.0)), (0, 1)],\n",
    "                  args = (I2, artifical_data),\n",
    "                  Ns = 10,\n",
    "                  full_output = True,\n",
    "                  finish=None)"
   ]
  },
  {
   "cell_type": "code",
   "execution_count": 31,
   "metadata": {
    "ExecuteTime": {
     "end_time": "2018-01-05T17:21:43.058607Z",
     "start_time": "2018-01-05T17:21:43.012857Z"
    }
   },
   "outputs": [
    {
     "name": "stdout",
     "output_type": "stream",
     "text": [
      "lamda 0.1\n",
      "f 0.555555555556\n",
      "sigma 0.0157080864294\n"
     ]
    }
   ],
   "source": [
    "lam = sp.exp(res[0][0])\n",
    "print('lamda', lam)\n",
    "\n",
    "f = res[0][1]\n",
    "print('f', f)\n",
    "\n",
    "sig = Sigma([np.log(lam), f], I2, artifical_data)\n",
    "print('sigma', sig)"
   ]
  },
  {
   "cell_type": "code",
   "execution_count": 32,
   "metadata": {
    "ExecuteTime": {
     "end_time": "2018-01-05T17:21:43.181093Z",
     "start_time": "2018-01-05T17:21:43.059761Z"
    }
   },
   "outputs": [
    {
     "data": {
      "image/png": "[encoded data removed]",
      "text/plain": [
       "<matplotlib.figure.Figure at 0x7f91028354e0>"
      ]
     },
     "metadata": {},
     "output_type": "display_data"
    }
   ],
   "source": [
    "x = res[2][0]\n",
    "y = res[2][1]\n",
    "z = res[3]\n",
    "z -= z.min()\n",
    "\n",
    "plt.pcolormesh(x, y, z)\n",
    "\n",
    "CS = plt.contour(x, y, z, levels = [0.5, 2.0, 8.0])\n",
    "plt.clabel(CS, inline=1, fontsize=10)\n",
    "\n",
    "plt.xlabel('loglam')\n",
    "plt.ylabel('f')\n",
    "plt.colorbar()\n",
    "\n",
    "plt.show()"
   ]
  },
  {
   "cell_type": "code",
   "execution_count": 33,
   "metadata": {
    "ExecuteTime": {
     "end_time": "2018-01-05T17:21:47.688820Z",
     "start_time": "2018-01-05T17:21:43.182477Z"
    }
   },
   "outputs": [],
   "source": [
    "res = sp.optimize.brute(func=Nloglike, \n",
    "                  ranges=[(-2.5, -1.5), (0.4, 0.6)],\n",
    "                  args = (I2, artifical_data),\n",
    "                  Ns = 10,\n",
    "                  full_output = True,\n",
    "                  finish=None)"
   ]
  },
  {
   "cell_type": "code",
   "execution_count": 34,
   "metadata": {
    "ExecuteTime": {
     "end_time": "2018-01-05T17:21:47.741300Z",
     "start_time": "2018-01-05T17:21:47.690131Z"
    }
   },
   "outputs": [
    {
     "name": "stdout",
     "output_type": "stream",
     "text": [
      "lamda 0.114558843993\n",
      "f 0.488888888889\n",
      "sigma 0.00913954903251\n"
     ]
    }
   ],
   "source": [
    "lam = sp.exp(res[0][0])\n",
    "print('lamda', lam)\n",
    "\n",
    "f = res[0][1]\n",
    "print('f', f)\n",
    "\n",
    "sig = Sigma([np.log(lam), f], I2, artifical_data)\n",
    "print('sigma', sig)"
   ]
  },
  {
   "cell_type": "code",
   "execution_count": 35,
   "metadata": {
    "ExecuteTime": {
     "end_time": "2018-01-05T17:21:47.927165Z",
     "start_time": "2018-01-05T17:21:47.742948Z"
    }
   },
   "outputs": [
    {
     "data": {
      "image/png": "[encoded data removed]",
      "text/plain": [
       "<matplotlib.figure.Figure at 0x7f91023cf748>"
      ]
     },
     "metadata": {},
     "output_type": "display_data"
    }
   ],
   "source": [
    "x = res[2][0]\n",
    "y = res[2][1]\n",
    "z = res[3]\n",
    "z -= z.min()\n",
    "\n",
    "plt.pcolormesh(x, y, z)\n",
    "\n",
    "CS = plt.contour(x, y, z, levels = [0.5, 2.0, 8.0])\n",
    "plt.clabel(CS, inline=1, fontsize=10)\n",
    "\n",
    "plt.xlabel('loglam')\n",
    "plt.ylabel('f')\n",
    "plt.colorbar()\n",
    "\n",
    "plt.show()"
   ]
  },
  {
   "cell_type": "markdown",
   "metadata": {},
   "source": [
    "### Plot"
   ]
  },
  {
   "cell_type": "code",
   "execution_count": 36,
   "metadata": {
    "ExecuteTime": {
     "end_time": "2018-01-05T17:21:49.059717Z",
     "start_time": "2018-01-05T17:21:47.928738Z"
    }
   },
   "outputs": [
    {
     "data": {
      "image/png": "[encoded data removed]",
      "text/plain": [
       "<matplotlib.figure.Figure at 0x7f90f8774cf8>"
      ]
     },
     "metadata": {},
     "output_type": "display_data"
    }
   ],
   "source": [
    "fig, axs = plt.subplots(2, 1, sharex = True, figsize = (12, 8))\n",
    "\n",
    "time = sp.linspace(1910.0, 2020.0, 1000)\n",
    "\n",
    "\n",
    "for ax in axs:\n",
    "    ax.plot(time, np.vectorize(c14_models.C_atm)(time), label = 'Atmosphere', color = 'black')\n",
    "\n",
    "    ax.errorbar(artifical_data['Dbirth'], \\\n",
    "                I1(artifical_data['Dbirth'], \n",
    "                   artifical_data['Dcoll'], \n",
    "                   np.log(lam)), \n",
    "                sig,\n",
    "                color = 'white', ecolor = 'black', \n",
    "                marker='s', ls = '',\n",
    "                label = 'Scenario I1')\n",
    "\n",
    "\n",
    "    ax.errorbar(artifical_data['Dbirth'], \n",
    "                artifical_data['d14C'], \n",
    "                marker = 'o', ls = 'None', color = 'black',\n",
    "                label = 'Artifical data')\n",
    "#     ax.errorbar(hepatocyte_data.query('Dcoll < 2015')['Dbirth'], hepatocyte_data.query('Dcoll < 2015')['d14C'], \n",
    "#                marker = 'o', ls = 'None', color = 'red', \n",
    "#                label = 'Hepato DNA (coll before 2015)')\n",
    "\n",
    "\n",
    "    ax.set_xlim((1909, 2020))\n",
    "    ax.set_ylim(-0.1, 0.9)\n",
    "    ax.set_xticks(sp.linspace(1910, 2010, 6), minor = 1)\n",
    "    # ax.grid(which='both')\n",
    "    \n",
    "\n",
    "    ax.set_xlabel('Calendar year')\n",
    "    ax.set_ylabel('$\\Delta^{14}$C')\n",
    "\n",
    "axs[0].legend()\n",
    "axs[1].set_ylim(-0.0, 0.15)\n",
    "    \n",
    "plt.savefig('plots/c14_predict_L1.png', bbox_inches='tight', dpi=300)\n",
    "\n",
    "plt.show()"
   ]
  },
  {
   "cell_type": "markdown",
   "metadata": {},
   "source": [
    "## Fit"
   ]
  },
  {
   "cell_type": "code",
   "execution_count": 37,
   "metadata": {
    "ExecuteTime": {
     "end_time": "2018-01-05T17:21:49.518723Z",
     "start_time": "2018-01-05T17:21:49.060773Z"
    }
   },
   "outputs": [
    {
     "data": {
      "image/png": "[encoded data removed]",
      "text/plain": [
       "<matplotlib.figure.Figure at 0x7f90fc9f1320>"
      ]
     },
     "metadata": {},
     "output_type": "display_data"
    }
   ],
   "source": [
    "xx = np.linspace(np.log(0.05), np.log(1.5), 10)\n",
    "yy = [SSE([loglam, 0.5], I2, hepatocyte_data) for loglam in xx]\n",
    "plt.plot(xx, yy)\n",
    "\n",
    "plt.xlabel('loglambda')\n",
    "plt.ylabel('SSE')\n",
    "\n",
    "plt.show()"
   ]
  },
  {
   "cell_type": "code",
   "execution_count": 38,
   "metadata": {
    "ExecuteTime": {
     "end_time": "2018-01-05T17:21:49.857452Z",
     "start_time": "2018-01-05T17:21:49.520089Z"
    }
   },
   "outputs": [
    {
     "data": {
      "image/png": "[encoded data removed]",
      "text/plain": [
       "<matplotlib.figure.Figure at 0x7f910232aeb8>"
      ]
     },
     "metadata": {},
     "output_type": "display_data"
    }
   ],
   "source": [
    "xx = np.linspace(np.log(0.05), np.log(1.5), 10)\n",
    "yy = [Sigma([loglam, 0.5], I2, hepatocyte_data) for loglam in xx]\n",
    "plt.plot(xx, yy)\n",
    "\n",
    "plt.xlabel('loglambda')\n",
    "plt.ylabel('sigma')\n",
    "\n",
    "plt.show()"
   ]
  },
  {
   "cell_type": "code",
   "execution_count": 39,
   "metadata": {
    "ExecuteTime": {
     "end_time": "2018-01-05T17:22:15.482945Z",
     "start_time": "2018-01-05T17:21:49.858855Z"
    }
   },
   "outputs": [],
   "source": [
    "res = sp.optimize.brute(func=Nloglike, \n",
    "                  ranges=[(np.log(0.01), np.log(100.0)), (0, 1)],\n",
    "                  args = (I2, hepatocyte_data),\n",
    "                  Ns = 10,\n",
    "                  full_output = True,\n",
    "                  finish=None)"
   ]
  },
  {
   "cell_type": "code",
   "execution_count": 40,
   "metadata": {
    "ExecuteTime": {
     "end_time": "2018-01-05T17:22:15.623274Z",
     "start_time": "2018-01-05T17:22:15.484204Z"
    }
   },
   "outputs": [
    {
     "data": {
      "image/png": "[encoded data removed]",
      "text/plain": [
       "<matplotlib.figure.Figure at 0x7f910257a320>"
      ]
     },
     "metadata": {},
     "output_type": "display_data"
    }
   ],
   "source": [
    "x = res[2][0]\n",
    "y = res[2][1]\n",
    "z = res[3]\n",
    "z -= z.min()\n",
    "\n",
    "plt.pcolormesh(x, y, z)\n",
    "\n",
    "CS = plt.contour(x, y, z)\n",
    "plt.clabel(CS, inline=1, fontsize=10)\n",
    "\n",
    "plt.xlabel('loglam')\n",
    "plt.ylabel('f')\n",
    "plt.colorbar()\n",
    "\n",
    "plt.show()"
   ]
  },
  {
   "cell_type": "code",
   "execution_count": 41,
   "metadata": {
    "ExecuteTime": {
     "end_time": "2018-01-05T17:22:17.167078Z",
     "start_time": "2018-01-05T17:22:15.624421Z"
    }
   },
   "outputs": [
    {
     "data": {
      "image/png": "[encoded data removed]",
      "text/plain": [
       "<matplotlib.figure.Figure at 0x7f910257af98>"
      ]
     },
     "metadata": {},
     "output_type": "display_data"
    }
   ],
   "source": [
    "res = sp.optimize.brute(func=Nloglike, \n",
    "                  ranges=[(-2, 0), (0.8, 1)],\n",
    "                  args = (I2, hepatocyte_data),\n",
    "                  Ns = 7,\n",
    "                  full_output = True,\n",
    "                  finish=None)\n",
    "\n",
    "plt.pcolormesh(x, y, z)\n",
    "\n",
    "CS = plt.contour(x, y, z)\n",
    "plt.clabel(CS, inline=1, fontsize=10)\n",
    "\n",
    "plt.xlabel('loglam')\n",
    "plt.ylabel('f')\n",
    "plt.colorbar()\n",
    "\n",
    "plt.show()"
   ]
  },
  {
   "cell_type": "code",
   "execution_count": 62,
   "metadata": {
    "ExecuteTime": {
     "end_time": "2018-01-05T17:25:16.954654Z",
     "start_time": "2018-01-05T17:25:14.064823Z"
    }
   },
   "outputs": [
    {
     "data": {
      "image/png": "[encoded data removed]",
      "text/plain": [
       "<matplotlib.figure.Figure at 0x7f91024b1748>"
      ]
     },
     "metadata": {},
     "output_type": "display_data"
    }
   ],
   "source": [
    "res = sp.optimize.brute(func=Nloglike, \n",
    "                  ranges=[(-4, 1), (0.8, 1)],\n",
    "                  args = (I2, hepatocyte_data),\n",
    "                  Ns = 10,\n",
    "                  full_output = True,\n",
    "                  finish=None)\n",
    "\n",
    "x = res[2][0]\n",
    "y = res[2][1]\n",
    "z = res[3]\n",
    "z -= z.min()\n",
    "\n",
    "plt.pcolormesh(x, y, z)\n",
    "\n",
    "CS = plt.contour(x, y, z)\n",
    "plt.clabel(CS, inline=1, fontsize=10)\n",
    "\n",
    "plt.xlabel('loglam')\n",
    "plt.ylabel('f')\n",
    "plt.colorbar()\n",
    "\n",
    "plt.show()"
   ]
  },
  {
   "cell_type": "code",
   "execution_count": 63,
   "metadata": {
    "ExecuteTime": {
     "end_time": "2018-01-05T17:25:56.091353Z",
     "start_time": "2018-01-05T17:25:54.957542Z"
    }
   },
   "outputs": [
    {
     "data": {
      "image/png": "[encoded data removed]",
      "text/plain": [
       "<matplotlib.figure.Figure at 0x7f9102580ba8>"
      ]
     },
     "metadata": {},
     "output_type": "display_data"
    }
   ],
   "source": [
    "res = sp.optimize.brute(func=Nloglike, \n",
    "                  ranges=[(-2.5, -1.5), (0.95, 1)],\n",
    "                  args = (I2, hepatocyte_data),\n",
    "                  Ns = 8,\n",
    "                  full_output = True,\n",
    "                  finish=None)\n",
    "\n",
    "x = res[2][0]\n",
    "y = res[2][1]\n",
    "z = res[3]\n",
    "z -= z.min()\n",
    "\n",
    "plt.pcolormesh(x, y, z)\n",
    "\n",
    "CS = plt.contour(x, y, z)\n",
    "plt.clabel(CS, inline=1, fontsize=10)\n",
    "\n",
    "plt.xlabel('loglam')\n",
    "plt.ylabel('f')\n",
    "plt.colorbar()\n",
    "\n",
    "plt.show()"
   ]
  },
  {
   "cell_type": "code",
   "execution_count": 64,
   "metadata": {
    "ExecuteTime": {
     "end_time": "2018-01-05T17:25:59.185428Z",
     "start_time": "2018-01-05T17:25:59.135234Z"
    }
   },
   "outputs": [
    {
     "data": {
      "text/plain": [
       "0.12251956078141782"
      ]
     },
     "execution_count": 64,
     "metadata": {},
     "output_type": "execute_result"
    }
   ],
   "source": [
    "Sigma([np.log(lam)], I1, artifical_data)"
   ]
  },
  {
   "cell_type": "code",
   "execution_count": 65,
   "metadata": {
    "ExecuteTime": {
     "end_time": "2018-01-05T17:25:59.631441Z",
     "start_time": "2018-01-05T17:25:59.594995Z"
    }
   },
   "outputs": [
    {
     "name": "stdout",
     "output_type": "stream",
     "text": [
      "lamda 0.126005645002\n",
      "f 1.0\n",
      "sigma 0.0361701583287\n"
     ]
    },
    {
     "data": {
      "text/html": [
       "<div>\n",
       "<style>\n",
       "    .dataframe thead tr:only-child th {\n",
       "        text-align: right;\n",
       "    }\n",
       "\n",
       "    .dataframe thead th {\n",
       "        text-align: left;\n",
       "    }\n",
       "\n",
       "    .dataframe tbody tr th {\n",
       "        vertical-align: top;\n",
       "    }\n",
       "</style>\n",
       "<table border=\"1\" class=\"dataframe\">\n",
       "  <thead>\n",
       "    <tr style=\"text-align: right;\">\n",
       "      <th></th>\n",
       "      <th>loglike</th>\n",
       "      <th>k</th>\n",
       "      <th>n</th>\n",
       "      <th>cAIC</th>\n",
       "    </tr>\n",
       "  </thead>\n",
       "  <tbody>\n",
       "    <tr>\n",
       "      <th>I1</th>\n",
       "      <td>15.330319</td>\n",
       "      <td>2.0</td>\n",
       "      <td>8.0</td>\n",
       "      <td>-24.260639</td>\n",
       "    </tr>\n",
       "    <tr>\n",
       "      <th>I2</th>\n",
       "      <td>15.204659</td>\n",
       "      <td>3.0</td>\n",
       "      <td>8.0</td>\n",
       "      <td>-18.409317</td>\n",
       "    </tr>\n",
       "  </tbody>\n",
       "</table>\n",
       "</div>"
      ],
      "text/plain": [
       "      loglike    k    n       cAIC\n",
       "I1  15.330319  2.0  8.0 -24.260639\n",
       "I2  15.204659  3.0  8.0 -18.409317"
      ]
     },
     "execution_count": 65,
     "metadata": {},
     "output_type": "execute_result"
    }
   ],
   "source": [
    "lam = sp.exp(res[0][0])\n",
    "print('lambda', lam)\n",
    "\n",
    "f = res[0][1]\n",
    "print('f', f)\n",
    "\n",
    "sig = Sigma([np.log(lam), f], I2, hepatocyte_data)\n",
    "print('sigma', sig)\n",
    "\n",
    "results.loc['I2', 'loglike'] = -res[1]\n",
    "results.loc['I2', 'k'] = 3\n",
    "results.loc['I2', 'n'] = len(hepatocyte_data)\n",
    "\n",
    "results['cAIC'] = 2 * results['k'] - 2 * results['loglike'] + (2*results['k']**2 + 2*results['k'])/(results['n']-results['k']-1)\n",
    "\n",
    "results"
   ]
  },
  {
   "cell_type": "markdown",
   "metadata": {},
   "source": [
    "### Plot"
   ]
  },
  {
   "cell_type": "code",
   "execution_count": 46,
   "metadata": {
    "ExecuteTime": {
     "end_time": "2018-01-05T17:22:21.900935Z",
     "start_time": "2018-01-05T17:22:20.782638Z"
    }
   },
   "outputs": [
    {
     "data": {
      "image/png": "[encoded data removed]",
      "text/plain": [
       "<matplotlib.figure.Figure at 0x7f90f871d748>"
      ]
     },
     "metadata": {},
     "output_type": "display_data"
    }
   ],
   "source": [
    "fig, axs = plt.subplots(2, 1, sharex = True, figsize = (12, 8))\n",
    "\n",
    "time = sp.linspace(1910.0, 2020.0, 1000)\n",
    "\n",
    "\n",
    "for ax in axs:\n",
    "    ax.plot(time, np.vectorize(c14_models.C_atm)(time), label = 'Atmosphere', color = 'black')\n",
    "\n",
    "    ax.errorbar(hepatocyte_data['Dbirth'], \\\n",
    "                I2(hepatocyte_data['Dbirth'], \n",
    "                   hepatocyte_data['Dcoll'], \n",
    "                   np.log(lam), f), \n",
    "                sig,\n",
    "                color = 'white', ecolor = 'black', \n",
    "                marker='s', ls = '',\n",
    "                label = 'Scenario I1')\n",
    "\n",
    "\n",
    "    ax.errorbar(hepatocyte_data['Dbirth'], \n",
    "                hepatocyte_data['d14C'], \n",
    "                marker = 'o', ls = 'None', color = 'black',\n",
    "                label = 'Artifical data')\n",
    "#     ax.errorbar(hepatocyte_data.query('Dcoll < 2015')['Dbirth'], hepatocyte_data.query('Dcoll < 2015')['d14C'], \n",
    "#                marker = 'o', ls = 'None', color = 'red', \n",
    "#                label = 'Hepato DNA (coll before 2015)')\n",
    "\n",
    "\n",
    "    ax.set_xlim((1909, 2020))\n",
    "    ax.set_ylim(-0.1, 0.9)\n",
    "    ax.set_xticks(sp.linspace(1910, 2010, 6), minor = 1)\n",
    "    # ax.grid(which='both')\n",
    "    \n",
    "\n",
    "    ax.set_xlabel('Calendar year')\n",
    "    ax.set_ylabel('$\\Delta^{14}$C')\n",
    "\n",
    "axs[0].legend()\n",
    "axs[1].set_ylim(-0.0, 0.15)\n",
    "    \n",
    "plt.savefig('plots/c14_predict_L1.png', bbox_inches='tight', dpi=300)\n",
    "\n",
    "plt.show()"
   ]
  },
  {
   "cell_type": "markdown",
   "metadata": {},
   "source": [
    "# Scenario IX2p"
   ]
  },
  {
   "cell_type": "code",
   "execution_count": 66,
   "metadata": {
    "ExecuteTime": {
     "end_time": "2018-01-05T17:26:28.223952Z",
     "start_time": "2018-01-05T17:26:28.217900Z"
    }
   },
   "outputs": [],
   "source": [
    "@np.vectorize\n",
    "def IX2p(Dbirth, Dcoll, dloglam1, dloglam2, f1):\n",
    "    dlam1 = np.exp(dloglam1)\n",
    "    dlam2 = np.exp(dloglam2)\n",
    "    \n",
    "    f2 = 1-f1\n",
    "    \n",
    "    return c14_models.IX(Dbirth, Dcoll, [dlam1, dlam2], [f1, f2])[1]"
   ]
  },
  {
   "cell_type": "code",
   "execution_count": 67,
   "metadata": {
    "ExecuteTime": {
     "end_time": "2018-01-05T17:26:29.293447Z",
     "start_time": "2018-01-05T17:26:29.274662Z"
    }
   },
   "outputs": [
    {
     "data": {
      "text/plain": [
       "array([ 0.07494134])"
      ]
     },
     "execution_count": 67,
     "metadata": {},
     "output_type": "execute_result"
    }
   ],
   "source": [
    "IX2p(1930, 2015, np.log(0.1), np.log(0.1), 0.9)"
   ]
  },
  {
   "cell_type": "markdown",
   "metadata": {},
   "source": [
    "## Fit"
   ]
  },
  {
   "cell_type": "code",
   "execution_count": 68,
   "metadata": {
    "ExecuteTime": {
     "end_time": "2018-01-05T17:28:10.546766Z",
     "start_time": "2018-01-05T17:26:39.958881Z"
    }
   },
   "outputs": [],
   "source": [
    "res = sp.optimize.brute(func=Nloglike, \n",
    "                  ranges=[(np.log(0.01), np.log(5.0)),(np.log(0.01), np.log(5.0)) , (0, 1)],\n",
    "                  args = (IX2p, hepatocyte_data),\n",
    "                  Ns = 10,\n",
    "                  full_output = True,\n",
    "                  finish=None)"
   ]
  },
  {
   "cell_type": "code",
   "execution_count": 69,
   "metadata": {
    "ExecuteTime": {
     "end_time": "2018-01-05T17:28:10.575141Z",
     "start_time": "2018-01-05T17:28:10.548142Z"
    }
   },
   "outputs": [
    {
     "data": {
      "text/plain": [
       "(array([-2.53363415, -1.84312214,  0.44444444]),\n",
       " -15.30220656365606,\n",
       " array([[[[-4.60517019, -4.60517019, -4.60517019, ..., -4.60517019,\n",
       "           -4.60517019, -4.60517019],\n",
       "          [-4.60517019, -4.60517019, -4.60517019, ..., -4.60517019,\n",
       "           -4.60517019, -4.60517019],\n",
       "          [-4.60517019, -4.60517019, -4.60517019, ..., -4.60517019,\n",
       "           -4.60517019, -4.60517019],\n",
       "          ..., \n",
       "          [-4.60517019, -4.60517019, -4.60517019, ..., -4.60517019,\n",
       "           -4.60517019, -4.60517019],\n",
       "          [-4.60517019, -4.60517019, -4.60517019, ..., -4.60517019,\n",
       "           -4.60517019, -4.60517019],\n",
       "          [-4.60517019, -4.60517019, -4.60517019, ..., -4.60517019,\n",
       "           -4.60517019, -4.60517019]],\n",
       " \n",
       "         [[-3.91465818, -3.91465818, -3.91465818, ..., -3.91465818,\n",
       "           -3.91465818, -3.91465818],\n",
       "          [-3.91465818, -3.91465818, -3.91465818, ..., -3.91465818,\n",
       "           -3.91465818, -3.91465818],\n",
       "          [-3.91465818, -3.91465818, -3.91465818, ..., -3.91465818,\n",
       "           -3.91465818, -3.91465818],\n",
       "          ..., \n",
       "          [-3.91465818, -3.91465818, -3.91465818, ..., -3.91465818,\n",
       "           -3.91465818, -3.91465818],\n",
       "          [-3.91465818, -3.91465818, -3.91465818, ..., -3.91465818,\n",
       "           -3.91465818, -3.91465818],\n",
       "          [-3.91465818, -3.91465818, -3.91465818, ..., -3.91465818,\n",
       "           -3.91465818, -3.91465818]],\n",
       " \n",
       "         [[-3.22414616, -3.22414616, -3.22414616, ..., -3.22414616,\n",
       "           -3.22414616, -3.22414616],\n",
       "          [-3.22414616, -3.22414616, -3.22414616, ..., -3.22414616,\n",
       "           -3.22414616, -3.22414616],\n",
       "          [-3.22414616, -3.22414616, -3.22414616, ..., -3.22414616,\n",
       "           -3.22414616, -3.22414616],\n",
       "          ..., \n",
       "          [-3.22414616, -3.22414616, -3.22414616, ..., -3.22414616,\n",
       "           -3.22414616, -3.22414616],\n",
       "          [-3.22414616, -3.22414616, -3.22414616, ..., -3.22414616,\n",
       "           -3.22414616, -3.22414616],\n",
       "          [-3.22414616, -3.22414616, -3.22414616, ..., -3.22414616,\n",
       "           -3.22414616, -3.22414616]],\n",
       " \n",
       "         ..., \n",
       "         [[ 0.22841389,  0.22841389,  0.22841389, ...,  0.22841389,\n",
       "            0.22841389,  0.22841389],\n",
       "          [ 0.22841389,  0.22841389,  0.22841389, ...,  0.22841389,\n",
       "            0.22841389,  0.22841389],\n",
       "          [ 0.22841389,  0.22841389,  0.22841389, ...,  0.22841389,\n",
       "            0.22841389,  0.22841389],\n",
       "          ..., \n",
       "          [ 0.22841389,  0.22841389,  0.22841389, ...,  0.22841389,\n",
       "            0.22841389,  0.22841389],\n",
       "          [ 0.22841389,  0.22841389,  0.22841389, ...,  0.22841389,\n",
       "            0.22841389,  0.22841389],\n",
       "          [ 0.22841389,  0.22841389,  0.22841389, ...,  0.22841389,\n",
       "            0.22841389,  0.22841389]],\n",
       " \n",
       "         [[ 0.9189259 ,  0.9189259 ,  0.9189259 , ...,  0.9189259 ,\n",
       "            0.9189259 ,  0.9189259 ],\n",
       "          [ 0.9189259 ,  0.9189259 ,  0.9189259 , ...,  0.9189259 ,\n",
       "            0.9189259 ,  0.9189259 ],\n",
       "          [ 0.9189259 ,  0.9189259 ,  0.9189259 , ...,  0.9189259 ,\n",
       "            0.9189259 ,  0.9189259 ],\n",
       "          ..., \n",
       "          [ 0.9189259 ,  0.9189259 ,  0.9189259 , ...,  0.9189259 ,\n",
       "            0.9189259 ,  0.9189259 ],\n",
       "          [ 0.9189259 ,  0.9189259 ,  0.9189259 , ...,  0.9189259 ,\n",
       "            0.9189259 ,  0.9189259 ],\n",
       "          [ 0.9189259 ,  0.9189259 ,  0.9189259 , ...,  0.9189259 ,\n",
       "            0.9189259 ,  0.9189259 ]],\n",
       " \n",
       "         [[ 1.60943791,  1.60943791,  1.60943791, ...,  1.60943791,\n",
       "            1.60943791,  1.60943791],\n",
       "          [ 1.60943791,  1.60943791,  1.60943791, ...,  1.60943791,\n",
       "            1.60943791,  1.60943791],\n",
       "          [ 1.60943791,  1.60943791,  1.60943791, ...,  1.60943791,\n",
       "            1.60943791,  1.60943791],\n",
       "          ..., \n",
       "          [ 1.60943791,  1.60943791,  1.60943791, ...,  1.60943791,\n",
       "            1.60943791,  1.60943791],\n",
       "          [ 1.60943791,  1.60943791,  1.60943791, ...,  1.60943791,\n",
       "            1.60943791,  1.60943791],\n",
       "          [ 1.60943791,  1.60943791,  1.60943791, ...,  1.60943791,\n",
       "            1.60943791,  1.60943791]]],\n",
       " \n",
       " \n",
       "        [[[-4.60517019, -4.60517019, -4.60517019, ..., -4.60517019,\n",
       "           -4.60517019, -4.60517019],\n",
       "          [-3.91465818, -3.91465818, -3.91465818, ..., -3.91465818,\n",
       "           -3.91465818, -3.91465818],\n",
       "          [-3.22414616, -3.22414616, -3.22414616, ..., -3.22414616,\n",
       "           -3.22414616, -3.22414616],\n",
       "          ..., \n",
       "          [ 0.22841389,  0.22841389,  0.22841389, ...,  0.22841389,\n",
       "            0.22841389,  0.22841389],\n",
       "          [ 0.9189259 ,  0.9189259 ,  0.9189259 , ...,  0.9189259 ,\n",
       "            0.9189259 ,  0.9189259 ],\n",
       "          [ 1.60943791,  1.60943791,  1.60943791, ...,  1.60943791,\n",
       "            1.60943791,  1.60943791]],\n",
       " \n",
       "         [[-4.60517019, -4.60517019, -4.60517019, ..., -4.60517019,\n",
       "           -4.60517019, -4.60517019],\n",
       "          [-3.91465818, -3.91465818, -3.91465818, ..., -3.91465818,\n",
       "           -3.91465818, -3.91465818],\n",
       "          [-3.22414616, -3.22414616, -3.22414616, ..., -3.22414616,\n",
       "           -3.22414616, -3.22414616],\n",
       "          ..., \n",
       "          [ 0.22841389,  0.22841389,  0.22841389, ...,  0.22841389,\n",
       "            0.22841389,  0.22841389],\n",
       "          [ 0.9189259 ,  0.9189259 ,  0.9189259 , ...,  0.9189259 ,\n",
       "            0.9189259 ,  0.9189259 ],\n",
       "          [ 1.60943791,  1.60943791,  1.60943791, ...,  1.60943791,\n",
       "            1.60943791,  1.60943791]],\n",
       " \n",
       "         [[-4.60517019, -4.60517019, -4.60517019, ..., -4.60517019,\n",
       "           -4.60517019, -4.60517019],\n",
       "          [-3.91465818, -3.91465818, -3.91465818, ..., -3.91465818,\n",
       "           -3.91465818, -3.91465818],\n",
       "          [-3.22414616, -3.22414616, -3.22414616, ..., -3.22414616,\n",
       "           -3.22414616, -3.22414616],\n",
       "          ..., \n",
       "          [ 0.22841389,  0.22841389,  0.22841389, ...,  0.22841389,\n",
       "            0.22841389,  0.22841389],\n",
       "          [ 0.9189259 ,  0.9189259 ,  0.9189259 , ...,  0.9189259 ,\n",
       "            0.9189259 ,  0.9189259 ],\n",
       "          [ 1.60943791,  1.60943791,  1.60943791, ...,  1.60943791,\n",
       "            1.60943791,  1.60943791]],\n",
       " \n",
       "         ..., \n",
       "         [[-4.60517019, -4.60517019, -4.60517019, ..., -4.60517019,\n",
       "           -4.60517019, -4.60517019],\n",
       "          [-3.91465818, -3.91465818, -3.91465818, ..., -3.91465818,\n",
       "           -3.91465818, -3.91465818],\n",
       "          [-3.22414616, -3.22414616, -3.22414616, ..., -3.22414616,\n",
       "           -3.22414616, -3.22414616],\n",
       "          ..., \n",
       "          [ 0.22841389,  0.22841389,  0.22841389, ...,  0.22841389,\n",
       "            0.22841389,  0.22841389],\n",
       "          [ 0.9189259 ,  0.9189259 ,  0.9189259 , ...,  0.9189259 ,\n",
       "            0.9189259 ,  0.9189259 ],\n",
       "          [ 1.60943791,  1.60943791,  1.60943791, ...,  1.60943791,\n",
       "            1.60943791,  1.60943791]],\n",
       " \n",
       "         [[-4.60517019, -4.60517019, -4.60517019, ..., -4.60517019,\n",
       "           -4.60517019, -4.60517019],\n",
       "          [-3.91465818, -3.91465818, -3.91465818, ..., -3.91465818,\n",
       "           -3.91465818, -3.91465818],\n",
       "          [-3.22414616, -3.22414616, -3.22414616, ..., -3.22414616,\n",
       "           -3.22414616, -3.22414616],\n",
       "          ..., \n",
       "          [ 0.22841389,  0.22841389,  0.22841389, ...,  0.22841389,\n",
       "            0.22841389,  0.22841389],\n",
       "          [ 0.9189259 ,  0.9189259 ,  0.9189259 , ...,  0.9189259 ,\n",
       "            0.9189259 ,  0.9189259 ],\n",
       "          [ 1.60943791,  1.60943791,  1.60943791, ...,  1.60943791,\n",
       "            1.60943791,  1.60943791]],\n",
       " \n",
       "         [[-4.60517019, -4.60517019, -4.60517019, ..., -4.60517019,\n",
       "           -4.60517019, -4.60517019],\n",
       "          [-3.91465818, -3.91465818, -3.91465818, ..., -3.91465818,\n",
       "           -3.91465818, -3.91465818],\n",
       "          [-3.22414616, -3.22414616, -3.22414616, ..., -3.22414616,\n",
       "           -3.22414616, -3.22414616],\n",
       "          ..., \n",
       "          [ 0.22841389,  0.22841389,  0.22841389, ...,  0.22841389,\n",
       "            0.22841389,  0.22841389],\n",
       "          [ 0.9189259 ,  0.9189259 ,  0.9189259 , ...,  0.9189259 ,\n",
       "            0.9189259 ,  0.9189259 ],\n",
       "          [ 1.60943791,  1.60943791,  1.60943791, ...,  1.60943791,\n",
       "            1.60943791,  1.60943791]]],\n",
       " \n",
       " \n",
       "        [[[ 0.        ,  0.11111111,  0.22222222, ...,  0.77777778,\n",
       "            0.88888889,  1.        ],\n",
       "          [ 0.        ,  0.11111111,  0.22222222, ...,  0.77777778,\n",
       "            0.88888889,  1.        ],\n",
       "          [ 0.        ,  0.11111111,  0.22222222, ...,  0.77777778,\n",
       "            0.88888889,  1.        ],\n",
       "          ..., \n",
       "          [ 0.        ,  0.11111111,  0.22222222, ...,  0.77777778,\n",
       "            0.88888889,  1.        ],\n",
       "          [ 0.        ,  0.11111111,  0.22222222, ...,  0.77777778,\n",
       "            0.88888889,  1.        ],\n",
       "          [ 0.        ,  0.11111111,  0.22222222, ...,  0.77777778,\n",
       "            0.88888889,  1.        ]],\n",
       " \n",
       "         [[ 0.        ,  0.11111111,  0.22222222, ...,  0.77777778,\n",
       "            0.88888889,  1.        ],\n",
       "          [ 0.        ,  0.11111111,  0.22222222, ...,  0.77777778,\n",
       "            0.88888889,  1.        ],\n",
       "          [ 0.        ,  0.11111111,  0.22222222, ...,  0.77777778,\n",
       "            0.88888889,  1.        ],\n",
       "          ..., \n",
       "          [ 0.        ,  0.11111111,  0.22222222, ...,  0.77777778,\n",
       "            0.88888889,  1.        ],\n",
       "          [ 0.        ,  0.11111111,  0.22222222, ...,  0.77777778,\n",
       "            0.88888889,  1.        ],\n",
       "          [ 0.        ,  0.11111111,  0.22222222, ...,  0.77777778,\n",
       "            0.88888889,  1.        ]],\n",
       " \n",
       "         [[ 0.        ,  0.11111111,  0.22222222, ...,  0.77777778,\n",
       "            0.88888889,  1.        ],\n",
       "          [ 0.        ,  0.11111111,  0.22222222, ...,  0.77777778,\n",
       "            0.88888889,  1.        ],\n",
       "          [ 0.        ,  0.11111111,  0.22222222, ...,  0.77777778,\n",
       "            0.88888889,  1.        ],\n",
       "          ..., \n",
       "          [ 0.        ,  0.11111111,  0.22222222, ...,  0.77777778,\n",
       "            0.88888889,  1.        ],\n",
       "          [ 0.        ,  0.11111111,  0.22222222, ...,  0.77777778,\n",
       "            0.88888889,  1.        ],\n",
       "          [ 0.        ,  0.11111111,  0.22222222, ...,  0.77777778,\n",
       "            0.88888889,  1.        ]],\n",
       " \n",
       "         ..., \n",
       "         [[ 0.        ,  0.11111111,  0.22222222, ...,  0.77777778,\n",
       "            0.88888889,  1.        ],\n",
       "          [ 0.        ,  0.11111111,  0.22222222, ...,  0.77777778,\n",
       "            0.88888889,  1.        ],\n",
       "          [ 0.        ,  0.11111111,  0.22222222, ...,  0.77777778,\n",
       "            0.88888889,  1.        ],\n",
       "          ..., \n",
       "          [ 0.        ,  0.11111111,  0.22222222, ...,  0.77777778,\n",
       "            0.88888889,  1.        ],\n",
       "          [ 0.        ,  0.11111111,  0.22222222, ...,  0.77777778,\n",
       "            0.88888889,  1.        ],\n",
       "          [ 0.        ,  0.11111111,  0.22222222, ...,  0.77777778,\n",
       "            0.88888889,  1.        ]],\n",
       " \n",
       "         [[ 0.        ,  0.11111111,  0.22222222, ...,  0.77777778,\n",
       "            0.88888889,  1.        ],\n",
       "          [ 0.        ,  0.11111111,  0.22222222, ...,  0.77777778,\n",
       "            0.88888889,  1.        ],\n",
       "          [ 0.        ,  0.11111111,  0.22222222, ...,  0.77777778,\n",
       "            0.88888889,  1.        ],\n",
       "          ..., \n",
       "          [ 0.        ,  0.11111111,  0.22222222, ...,  0.77777778,\n",
       "            0.88888889,  1.        ],\n",
       "          [ 0.        ,  0.11111111,  0.22222222, ...,  0.77777778,\n",
       "            0.88888889,  1.        ],\n",
       "          [ 0.        ,  0.11111111,  0.22222222, ...,  0.77777778,\n",
       "            0.88888889,  1.        ]],\n",
       " \n",
       "         [[ 0.        ,  0.11111111,  0.22222222, ...,  0.77777778,\n",
       "            0.88888889,  1.        ],\n",
       "          [ 0.        ,  0.11111111,  0.22222222, ...,  0.77777778,\n",
       "            0.88888889,  1.        ],\n",
       "          [ 0.        ,  0.11111111,  0.22222222, ...,  0.77777778,\n",
       "            0.88888889,  1.        ],\n",
       "          ..., \n",
       "          [ 0.        ,  0.11111111,  0.22222222, ...,  0.77777778,\n",
       "            0.88888889,  1.        ],\n",
       "          [ 0.        ,  0.11111111,  0.22222222, ...,  0.77777778,\n",
       "            0.88888889,  1.        ],\n",
       "          [ 0.        ,  0.11111111,  0.22222222, ...,  0.77777778,\n",
       "            0.88888889,  1.        ]]]]),\n",
       " array([[[ -3.86781531,  -3.62212039,  -3.37640174,  -3.13150944,\n",
       "           -2.88814285,  -2.64687039,  -2.40814804,  -2.17233595,\n",
       "           -1.93971326,  -1.71049107],\n",
       "         [ -5.80268843,  -5.3171133 ,  -4.82976763,  -4.34723321,\n",
       "           -3.87392815,  -3.41266404,  -2.96509821,  -2.53207937,\n",
       "           -2.11390233,  -1.71049107],\n",
       "         [ -9.32736076,  -8.28034534,  -7.2466224 ,  -6.26661631,\n",
       "           -5.35379769,  -4.50913302,  -3.72843461,  -3.00578675,\n",
       "           -2.33505322,  -1.71049107],\n",
       "         [-14.32090703, -12.35466132, -10.29908263,  -8.49123132,\n",
       "           -6.94603917,  -5.61802409,  -4.4619223 ,  -3.44207728,\n",
       "           -2.53165473,  -1.71049107],\n",
       "         [-14.65702651, -14.0534155 , -11.95677796,  -9.75743981,\n",
       "           -7.8512475 ,  -6.24132084,  -4.86920447,  -3.68172795,\n",
       "           -2.63866888,  -1.71049107],\n",
       "         [-13.11883102, -13.63296532, -12.25077102, -10.17221144,\n",
       "           -8.20131675,  -6.49899391,  -5.04313176,  -3.78591752,\n",
       "           -2.68569855,  -1.71049107],\n",
       "         [-12.2267493 , -13.15951722, -12.25385281, -10.33740429,\n",
       "           -8.3687577 ,  -6.6294651 ,  -5.13327089,  -3.84050528,\n",
       "           -2.71047474,  -1.71049107],\n",
       "         [-11.80482563, -12.90091653, -12.22959643, -10.41119517,\n",
       "           -8.45066192,  -6.69467831,  -5.17861223,  -3.86800701,\n",
       "           -2.72295547,  -1.71049107],\n",
       "         [-11.61378924, -12.76919633, -12.20079975, -10.43371001,\n",
       "           -8.48172902,  -6.72077392,  -5.19716877,  -3.87939605,\n",
       "           -2.72816058,  -1.71049107],\n",
       "         [-11.52028011, -12.69897033, -12.17852198, -10.43872716,\n",
       "           -8.49317256,  -6.73123883,  -5.20487102,  -3.8842108 ,\n",
       "           -2.73038603,  -1.71049107]],\n",
       " \n",
       "        [[ -5.80268843,  -5.57475304,  -5.34915625,  -5.12619397,\n",
       "           -4.90609823,  -4.68904695,  -4.47517238,  -4.26456852,\n",
       "           -4.0572974 ,  -3.85339453],\n",
       "         [ -7.56966289,  -7.10747967,  -6.65503763,  -6.21443582,\n",
       "           -5.78688968,  -5.37299243,  -4.97290798,  -4.58651063,\n",
       "           -4.21348463,  -3.85339453],\n",
       "         [-10.91720515,  -9.91542112,  -8.95629009,  -8.05703361,\n",
       "           -7.22119786,  -6.44626097,  -5.72736601,  -5.05905235,\n",
       "           -4.43601342,  -3.85339453],\n",
       "         [-15.03702482, -13.58828622, -11.89965709, -10.30582201,\n",
       "           -8.88605236,  -7.63522347,  -6.52918213,  -5.54335514,\n",
       "           -4.65698197,  -3.85339453],\n",
       "         [-14.4154101 , -14.63569702, -13.46594866, -11.71453838,\n",
       "           -9.97313129,  -8.4144331 ,  -7.05032379,  -5.85449341,\n",
       "           -4.79726604,  -3.85339453],\n",
       "         [-12.98509362, -14.04001164, -13.68770382, -12.21539776,\n",
       "          -10.44300851,  -8.77290152,  -7.29527324,  -6.00170651,\n",
       "           -4.86368873,  -3.85339453],\n",
       "         [-12.22435532, -13.61520684, -13.74677818, -12.50846218,\n",
       "          -10.73735431,  -8.99854384,  -7.44809545,  -6.0925419 ,\n",
       "           -4.90425312,  -3.85339453],\n",
       "         [-11.80735233, -13.31734104, -13.68812688, -12.61132335,\n",
       "          -10.86805544,  -9.10500573,  -7.52181854,  -6.13678433,\n",
       "           -4.9241017 ,  -3.85339453],\n",
       "         [-11.61334425, -13.1642591 , -13.63628429, -12.64119421,\n",
       "          -10.91887034,  -9.14898097,  -7.55297462,  -6.15568656,\n",
       "           -4.93263298,  -3.85339453],\n",
       "         [-11.52027298, -13.08628634, -13.60281795, -12.64809181,\n",
       "          -10.93855528,  -9.16728854,  -7.56630208,  -6.16388356,\n",
       "           -4.93636255,  -3.85339453]],\n",
       " \n",
       "        [[ -9.32736076,  -9.118937  ,  -8.91410378,  -8.71284757,\n",
       "           -8.51514002,  -8.32094089,  -8.13020054,  -7.94286198,\n",
       "           -7.75886259,  -7.57813555],\n",
       "         [-10.91720515, -10.49982784, -10.09338008,  -9.69860401,\n",
       "           -9.31583408,  -8.94511869,  -8.58630969,  -8.2391275 ,\n",
       "           -7.9032079 ,  -7.57813555],\n",
       "         [-13.52235473, -12.79480435, -12.05246925, -11.32109887,\n",
       "          -10.6147972 ,  -9.94029854,  -9.29999183,  -8.69383948,\n",
       "           -8.12052806,  -7.57813555],\n",
       "         [-15.21826412, -14.89592789, -14.1483243 , -13.17113453,\n",
       "          -12.12178163, -11.08845907, -10.11008041,  -9.19932872,\n",
       "           -8.3567974 ,  -7.57813555],\n",
       "         [-14.21601821, -14.99725601, -15.07001899, -14.39803414,\n",
       "          -13.27297509, -12.0031937 , -10.75710929,  -9.59795166,\n",
       "           -8.53979824,  -7.57813555],\n",
       "         [-13.00039605, -14.21559027, -14.90295359, -14.72085709,\n",
       "          -13.77061482, -12.45971104, -11.09524833,  -9.80873593,\n",
       "           -8.63647007,  -7.57813555],\n",
       "         [-12.199306  , -13.594432  , -14.62628074, -14.82481313,\n",
       "          -14.07062444, -12.76546068, -11.32690579,  -9.95301072,\n",
       "           -8.70213907,  -7.57813555],\n",
       "         [-11.79503207, -13.25543058, -14.43650885, -14.83560736,\n",
       "          -14.20867222, -12.92080846, -11.44720904, -10.02807718,\n",
       "           -8.73618374,  -7.57813555],\n",
       "         [-11.61040213, -13.09440904, -14.33593735, -14.82563559,\n",
       "          -14.26354011, -12.98869339, -11.50102987, -10.06188034,\n",
       "           -8.75153503,  -7.57813555],\n",
       "         [-11.51977742, -13.01245859, -14.27962351, -14.81150541,\n",
       "          -14.2828697 , -13.01718906, -11.52466325, -10.07700321,\n",
       "           -8.75846891,  -7.57813555]],\n",
       " \n",
       "        [[-14.32090703, -14.23604409, -14.14842176, -14.05825613,\n",
       "          -13.96575775, -13.87113065, -13.77457174, -13.67627019,\n",
       "          -13.57640703, -13.47515487],\n",
       "         [-15.03702482, -14.90120805, -14.7525496 , -14.59259605,\n",
       "          -14.42286303, -14.24480446, -14.05978971, -13.86908821,\n",
       "          -13.67386055, -13.47515487],\n",
       "         [-15.21826412, -15.19762112, -15.12251572, -14.99593723,\n",
       "          -14.82263972, -14.60859001, -14.36036708, -14.08462051,\n",
       "          -13.78765401, -13.47515487],\n",
       "         [-14.77218222, -15.0514402 , -15.22651085, -15.28264229,\n",
       "          -15.21478798, -15.02902847, -14.74086648, -14.37131697,\n",
       "          -13.94263766, -13.47515487],\n",
       "         [-13.72158923, -14.30079517, -14.78864038, -15.1369789 ,\n",
       "          -15.30220656, -15.26049537, -15.01806588, -14.6083774 ,\n",
       "          -14.07858139, -13.47515487],\n",
       "         [-12.76973689, -13.50685734, -14.19079031, -14.7609926 ,\n",
       "          -15.14431675, -15.276583  , -15.13235236, -14.739277  ,\n",
       "          -14.16256747, -13.47515487],\n",
       "         [-12.14114014, -12.96583059, -13.76649481, -14.48063793,\n",
       "          -15.01938072, -15.28696198, -15.22431628, -14.84603187,\n",
       "          -14.23056057, -13.47515487],\n",
       "         [-11.78461042, -12.64845682, -13.5045655 , -14.29217245,\n",
       "          -14.91717412, -15.26729615, -15.26074927, -14.89920523,\n",
       "          -14.26658086, -13.47515487],\n",
       "         [-11.60825508, -12.49014361, -13.37230091, -14.19532502,\n",
       "          -14.86326322, -15.25592169, -15.27922014, -14.92694338,\n",
       "          -14.28543285, -13.47515487],\n",
       "         [-11.51893775, -12.40840578, -13.30194106, -14.14106806,\n",
       "          -14.82942037, -15.24342923, -15.28297084, -14.93729603,\n",
       "          -14.293273  , -13.47515487]],\n",
       " \n",
       "        [[-14.65702651, -14.67072415, -14.6841787 , -14.69738757,\n",
       "          -14.71034814, -14.72305786, -14.7355142 , -14.74771465,\n",
       "          -14.75965676, -14.77133809],\n",
       "         [-14.4154101 , -14.4581955 , -14.50023847, -14.54151049,\n",
       "          -14.58198289, -14.6216268 , -14.66041327, -14.69831331,\n",
       "          -14.7352979 , -14.77133809],\n",
       "         [-14.21601821, -14.28792665, -14.3576131 , -14.42493668,\n",
       "          -14.48975552, -14.55192744, -14.61131078, -14.66776521,\n",
       "          -14.72115263, -14.77133809],\n",
       "         [-13.72158923, -13.85812975, -13.99102422, -14.11973667,\n",
       "          -14.24370377, -14.36233888, -14.47503724, -14.58118248,\n",
       "          -14.68015442, -14.77133809],\n",
       "         [-13.08632192, -13.29944678, -13.50932422, -13.71477623,\n",
       "          -13.9144812 , -14.10697559, -14.2906624 , -14.4638283 ,\n",
       "          -14.62467104, -14.77133809],\n",
       "         [-12.53432351, -12.81580247, -13.09511154, -13.37023335,\n",
       "          -13.63876717, -13.8979083 , -14.14444893, -14.37481091,\n",
       "          -14.58512111, -14.77133809],\n",
       "         [-12.06607202, -12.40102217, -12.73608485, -13.06862486,\n",
       "          -13.39532505, -13.71210538, -14.01407818, -14.2955691 ,\n",
       "          -14.55023874, -14.77133809],\n",
       "         [-11.76604032, -12.13287964, -12.50185959, -12.87005251,\n",
       "          -13.23362533, -13.58769153, -13.92620405, -14.24193847,\n",
       "          -14.52663097, -14.77133809],\n",
       "         [-11.60406314, -11.9874897 , -12.37429709, -12.76143463,\n",
       "          -13.14481737, -13.51913128, -13.87767865, -14.21232699,\n",
       "          -14.51364754, -14.77133809],\n",
       "         [-11.51687199, -11.90880487, -12.30484104, -12.70188756,\n",
       "          -13.09575029, -13.48091098, -13.85034266, -14.19543363,\n",
       "          -14.50611986, -14.77133809]],\n",
       " \n",
       "        [[-13.11883102, -13.11923906, -13.11961947, -13.11997223,\n",
       "          -13.12029733, -13.12059478, -13.12086457, -13.12110668,\n",
       "          -13.12132112, -13.12150788],\n",
       "         [-12.98509362, -13.00024538, -13.01539895, -13.03055414,\n",
       "          -13.04571074, -13.06086857, -13.0760274 , -13.09118704,\n",
       "          -13.10634727, -13.12150788],\n",
       "         [-13.00039605, -13.01414653, -13.0278257 , -13.04143268,\n",
       "          -13.05496656, -13.06842644, -13.08181142, -13.09512059,\n",
       "          -13.10835305, -13.12150788],\n",
       "         [-12.76973689, -12.80915755, -12.84850885, -12.88778487,\n",
       "          -12.92697951, -12.96608651, -13.00509949, -13.04401188,\n",
       "          -13.08281697, -13.12150788],\n",
       "         [-12.53432351, -12.60032926, -12.66620618, -12.73192944,\n",
       "          -12.79747307, -12.86281   , -12.92791197, -12.99274956,\n",
       "          -13.05729215, -13.12150788],\n",
       "         [-12.23652849, -12.33589034, -12.43517502, -12.53431308,\n",
       "          -12.63323   , -12.73184596, -12.83007566, -12.92782813,\n",
       "          -13.02500649, -13.12150788],\n",
       "         [-11.94341098, -12.07524765, -12.20722191, -12.33919709,\n",
       "          -12.47102231, -12.60253155, -12.73354272, -12.86385676,\n",
       "          -12.99325691, -13.12150788],\n",
       "         [-11.7241835 , -11.87994467, -12.03614113, -12.19257436,\n",
       "          -12.34902008, -12.50522602, -12.66090977, -12.81575664,\n",
       "          -12.96941767, -13.12150788],\n",
       "         [-11.59559119, -11.76515258, -11.93539417, -12.10607978,\n",
       "          -12.27693862, -12.44766191, -12.61789954, -12.78725667,\n",
       "          -12.9552906 , -13.12150788],\n",
       "         [-11.51437866, -11.69240571, -11.87132112, -12.05086952,\n",
       "          -12.23075505, -12.41063709, -12.5901259 , -12.7687782 ,\n",
       "          -12.94609303, -13.12150788]],\n",
       " \n",
       "        [[-12.2267493 , -12.22949252, -12.2322358 , -12.23497916,\n",
       "          -12.23772259, -12.24046609, -12.24320966, -12.24595329,\n",
       "          -12.24869699, -12.25144075],\n",
       "         [-12.22435532, -12.22736597, -12.23037633, -12.23338641,\n",
       "          -12.2363962 , -12.2394057 , -12.24241491, -12.24542382,\n",
       "          -12.24843244, -12.25144075],\n",
       "         [-12.199306  , -12.20509515, -12.21088522, -12.2166762 ,\n",
       "          -12.22246809, -12.22826087, -12.23405453, -12.23984907,\n",
       "          -12.24564448, -12.25144075],\n",
       "         [-12.14114014, -12.15338079, -12.16562537, -12.17787381,\n",
       "          -12.19012601, -12.20238191, -12.21464141, -12.22690444,\n",
       "          -12.23917092, -12.25144075],\n",
       "         [-12.06607202, -12.08665696, -12.10724597, -12.12783854,\n",
       "          -12.14843419, -12.16903242, -12.18963271, -12.21023455,\n",
       "          -12.23083741, -12.25144075],\n",
       "         [-11.94341098, -11.97755052, -12.01171607, -12.04590577,\n",
       "          -12.08011772, -12.11434996, -12.14860048, -12.18286721,\n",
       "          -12.21714803, -12.25144075],\n",
       "         [-11.80931061, -11.85829975, -11.90733714, -11.95641706,\n",
       "          -12.0055336 , -12.05468057, -12.10385157, -12.15303993,\n",
       "          -12.20223872, -12.25144075],\n",
       "         [-11.67900491, -11.74227065, -11.80564842, -11.86912738,\n",
       "          -11.9326961 , -11.9963425 , -12.06005389, -12.1238169 ,\n",
       "          -12.18761744, -12.25144075],\n",
       "         [-11.5758991 , -11.65039088, -11.72506651, -11.79990981,\n",
       "          -11.87490352, -11.95002923, -12.02526732, -12.10059694,\n",
       "          -12.17599593, -12.25144075],\n",
       "         [-11.5091139 , -11.59082588, -11.67278231, -11.75496319,\n",
       "          -11.83734702, -11.9199107 , -12.00262942, -12.08547661,\n",
       "          -12.16842385, -12.25144075]],\n",
       " \n",
       "        [[-11.80482563, -11.80548735, -11.8061487 , -11.80680968,\n",
       "          -11.8074703 , -11.80813055, -11.80879043, -11.80944995,\n",
       "          -11.8101091 , -11.81076788],\n",
       "         [-11.80735233, -11.80773266, -11.80811279, -11.80849271,\n",
       "          -11.80887242, -11.80925193, -11.80963123, -11.81001032,\n",
       "          -11.8103892 , -11.81076788],\n",
       "         [-11.79503207, -11.79678113, -11.79853004, -11.80027879,\n",
       "          -11.80202738, -11.8037758 , -11.80552407, -11.80727217,\n",
       "          -11.80902011, -11.81076788],\n",
       "         [-11.78461042, -11.787516  , -11.79042178, -11.79332776,\n",
       "          -11.79623394, -11.79914033, -11.80204692, -11.80495371,\n",
       "          -11.8078607 , -11.81076788],\n",
       "         [-11.76604032, -11.77101142, -11.7759822 , -11.78095265,\n",
       "          -11.78592276, -11.79089252, -11.79586192, -11.80083095,\n",
       "          -11.80579961, -11.81076788],\n",
       "         [-11.7241835 , -11.73379952, -11.74341677, -11.7530352 ,\n",
       "          -11.76265476, -11.7722754 , -11.78189709, -11.79151976,\n",
       "          -11.80114338, -11.81076788],\n",
       "         [-11.67900491, -11.69362965, -11.70825865, -11.72289174,\n",
       "          -11.73752879, -11.75216964, -11.76681413, -11.78146211,\n",
       "          -11.79611341, -11.81076788],\n",
       "         [-11.61484678, -11.63657374, -11.65831231, -11.68006203,\n",
       "          -11.70182244, -11.72359306, -11.74537341, -11.767163  ,\n",
       "          -11.78896132, -11.81076788],\n",
       "         [-11.5509847 , -11.57975446, -11.60855026, -11.63737116,\n",
       "          -11.66621619, -11.69508437, -11.72397468, -11.75288608,\n",
       "          -11.78181751, -11.81076788],\n",
       "         [-11.50054661, -11.53486569, -11.5692259 , -11.60362577,\n",
       "          -11.63806374, -11.67253823, -11.70704761, -11.74159017,\n",
       "          -11.7761642 , -11.81076788]],\n",
       " \n",
       "        [[-11.61378924, -11.61373832, -11.6136874 , -11.61363645,\n",
       "          -11.61358549, -11.61353451, -11.61348351, -11.6134325 ,\n",
       "          -11.61338147, -11.61333042],\n",
       "         [-11.61334425, -11.61334278, -11.61334129, -11.61333978,\n",
       "          -11.61333826, -11.61333672, -11.61333517, -11.6133336 ,\n",
       "          -11.61333202, -11.61333042],\n",
       "         [-11.61040213, -11.61072755, -11.61105297, -11.61137836,\n",
       "          -11.61170374, -11.61202911, -11.61235446, -11.6126798 ,\n",
       "          -11.61300512, -11.61333042],\n",
       "         [-11.60825508, -11.60881915, -11.60938319, -11.60994719,\n",
       "          -11.61051115, -11.61107508, -11.61163897, -11.61220282,\n",
       "          -11.61276664, -11.61333042],\n",
       "         [-11.60406314, -11.60509275, -11.60612238, -11.60715203,\n",
       "          -11.6081817 , -11.6092114 , -11.61024112, -11.61127087,\n",
       "          -11.61230063, -11.61333042],\n",
       "         [-11.59559119, -11.59756182, -11.59953255, -11.60150338,\n",
       "          -11.6034743 , -11.60544533, -11.60741646, -11.60938768,\n",
       "          -11.611359  , -11.61333042],\n",
       "         [-11.5758991 , -11.58005482, -11.58421137, -11.58836875,\n",
       "          -11.59252696, -11.596686  , -11.60084587, -11.60500656,\n",
       "          -11.60916808, -11.61333042],\n",
       "         [-11.5509847 , -11.5579041 , -11.5648255 , -11.57174889,\n",
       "          -11.57867426, -11.58560159, -11.59253089, -11.59946213,\n",
       "          -11.60639531, -11.61333042],\n",
       "         [-11.51972382, -11.53010771, -11.5404959 , -11.55088835,\n",
       "          -11.56128502, -11.57168588, -11.58209089, -11.59250001,\n",
       "          -11.6029132 , -11.61333042],\n",
       "         [-11.48710865, -11.50110537, -11.5151093 , -11.52912034,\n",
       "          -11.5431384 , -11.55716338, -11.57119517, -11.58523368,\n",
       "          -11.59927879, -11.61333042]],\n",
       " \n",
       "        [[-11.52028011, -11.52032896, -11.52037778, -11.52042657,\n",
       "          -11.52047533, -11.52052406, -11.52057277, -11.52062144,\n",
       "          -11.52067009, -11.5207187 ],\n",
       "         [-11.52027298, -11.52032253, -11.52037206, -11.5204216 ,\n",
       "          -11.52047113, -11.52052065, -11.52057017, -11.52061969,\n",
       "          -11.5206692 , -11.5207187 ],\n",
       "         [-11.51977742, -11.51988207, -11.5199867 , -11.52009131,\n",
       "          -11.52019592, -11.5203005 , -11.52040508, -11.52050963,\n",
       "          -11.52061418, -11.5207187 ],\n",
       "         [-11.51893775, -11.51913569, -11.51933362, -11.51953153,\n",
       "          -11.51972943, -11.51992731, -11.52012518, -11.52032304,\n",
       "          -11.52052088, -11.5207187 ],\n",
       "         [-11.51687199, -11.51729937, -11.51772675, -11.51815415,\n",
       "          -11.51858155, -11.51900897, -11.51943639, -11.51986382,\n",
       "          -11.52029126, -11.5207187 ],\n",
       "         [-11.51437866, -11.51508304, -11.51578743, -11.51649184,\n",
       "          -11.51719627, -11.51790072, -11.51860519, -11.51930968,\n",
       "          -11.52001418, -11.5207187 ],\n",
       "         [-11.5091139 , -11.51040305, -11.51169227, -11.51298155,\n",
       "          -11.51427091, -11.51556033, -11.51684982, -11.51813938,\n",
       "          -11.51942901, -11.5207187 ],\n",
       "         [-11.50054661, -11.50278745, -11.50502842, -11.50726951,\n",
       "          -11.50951073, -11.51175208, -11.51399355, -11.51623514,\n",
       "          -11.51847686, -11.5207187 ],\n",
       "         [-11.48710865, -11.49084229, -11.49457614, -11.4983102 ,\n",
       "          -11.50204445, -11.50577891, -11.50951357, -11.51324842,\n",
       "          -11.51698347, -11.5207187 ],\n",
       "         [-11.47047546, -11.47605758, -11.48163985, -11.48722224,\n",
       "          -11.49280475, -11.49838737, -11.50397008, -11.50955288,\n",
       "          -11.51513576, -11.5207187 ]]]))"
      ]
     },
     "execution_count": 69,
     "metadata": {},
     "output_type": "execute_result"
    }
   ],
   "source": [
    "res"
   ]
  },
  {
   "cell_type": "code",
   "execution_count": null,
   "metadata": {
    "ExecuteTime": {
     "end_time": "2018-01-05T17:22:30.732492Z",
     "start_time": "2018-01-05T17:21:16.330Z"
    }
   },
   "outputs": [],
   "source": [
    "res = sp.optimize.brute(func=Nloglike, \n",
    "                  ranges=[(np.log(0.01), np.log(2.0)),(np.log(0.01), np.log(2.0)) , (0, 1)],\n",
    "                  args = (IX2p, hepatocyte_data),\n",
    "                  Ns = 15,\n",
    "                  full_output = True,\n",
    "                  finish=None)"
   ]
  },
  {
   "cell_type": "code",
   "execution_count": null,
   "metadata": {
    "ExecuteTime": {
     "end_time": "2018-01-05T17:22:30.733051Z",
     "start_time": "2018-01-05T17:21:16.334Z"
    }
   },
   "outputs": [],
   "source": [
    "res"
   ]
  },
  {
   "cell_type": "code",
   "execution_count": 70,
   "metadata": {
    "ExecuteTime": {
     "end_time": "2018-01-05T17:29:08.431567Z",
     "start_time": "2018-01-05T17:29:08.416905Z"
    }
   },
   "outputs": [
    {
     "data": {
      "text/html": [
       "<div>\n",
       "<style>\n",
       "    .dataframe thead tr:only-child th {\n",
       "        text-align: right;\n",
       "    }\n",
       "\n",
       "    .dataframe thead th {\n",
       "        text-align: left;\n",
       "    }\n",
       "\n",
       "    .dataframe tbody tr th {\n",
       "        vertical-align: top;\n",
       "    }\n",
       "</style>\n",
       "<table border=\"1\" class=\"dataframe\">\n",
       "  <thead>\n",
       "    <tr style=\"text-align: right;\">\n",
       "      <th></th>\n",
       "      <th>loglike</th>\n",
       "      <th>k</th>\n",
       "      <th>n</th>\n",
       "      <th>cAIC</th>\n",
       "    </tr>\n",
       "  </thead>\n",
       "  <tbody>\n",
       "    <tr>\n",
       "      <th>I1</th>\n",
       "      <td>15.330319</td>\n",
       "      <td>2.0</td>\n",
       "      <td>8.0</td>\n",
       "      <td>-24.260639</td>\n",
       "    </tr>\n",
       "    <tr>\n",
       "      <th>I2</th>\n",
       "      <td>15.204659</td>\n",
       "      <td>3.0</td>\n",
       "      <td>8.0</td>\n",
       "      <td>-18.409317</td>\n",
       "    </tr>\n",
       "    <tr>\n",
       "      <th>IX2p</th>\n",
       "      <td>15.302207</td>\n",
       "      <td>3.0</td>\n",
       "      <td>8.0</td>\n",
       "      <td>-18.604413</td>\n",
       "    </tr>\n",
       "  </tbody>\n",
       "</table>\n",
       "</div>"
      ],
      "text/plain": [
       "        loglike    k    n       cAIC\n",
       "I1    15.330319  2.0  8.0 -24.260639\n",
       "I2    15.204659  3.0  8.0 -18.409317\n",
       "IX2p  15.302207  3.0  8.0 -18.604413"
      ]
     },
     "execution_count": 70,
     "metadata": {},
     "output_type": "execute_result"
    }
   ],
   "source": [
    "results.loc['IX2p', 'loglike'] = -res[1]\n",
    "results.loc['IX2p', 'k'] = 3\n",
    "results.loc['IX2p', 'n'] = len(hepatocyte_data)\n",
    "\n",
    "results['cAIC'] = 2 * results['k'] - 2 * results['loglike'] + (2*results['k']**2 + 2*results['k'])/(results['n']-results['k']-1)\n",
    "\n",
    "results"
   ]
  },
  {
   "cell_type": "markdown",
   "metadata": {},
   "source": [
    "# Scenario A = R1"
   ]
  },
  {
   "cell_type": "code",
   "execution_count": null,
   "metadata": {
    "ExecuteTime": {
     "end_time": "2018-01-05T17:22:30.733735Z",
     "start_time": "2018-01-05T17:21:16.339Z"
    }
   },
   "outputs": [],
   "source": [
    "K = np.vectorize(c14_models.C_atm)\n",
    "C = c14_models.C_scenario_A"
   ]
  },
  {
   "cell_type": "markdown",
   "metadata": {},
   "source": [
    "## Fit"
   ]
  },
  {
   "cell_type": "code",
   "execution_count": null,
   "metadata": {
    "ExecuteTime": {
     "end_time": "2018-01-05T17:22:30.734437Z",
     "start_time": "2018-01-05T17:21:16.343Z"
    }
   },
   "outputs": [],
   "source": [
    "sigma_estimate = hepatocyte_data['d14C'].std()"
   ]
  },
  {
   "cell_type": "code",
   "execution_count": null,
   "metadata": {
    "ExecuteTime": {
     "end_time": "2018-01-05T17:22:30.735198Z",
     "start_time": "2018-01-05T17:21:16.347Z"
    }
   },
   "outputs": [],
   "source": [
    "def neg_loglike_A(logr, sigma):\n",
    "    r = np.exp(logr)\n",
    "    loglike = 0\n",
    "    for i, dataset in hepatocyte_data.iterrows():\n",
    "        Dbirth = dataset['Dbirth']\n",
    "        Dcoll = dataset['Dcoll']\n",
    "        Cexp = dataset['d14C']\n",
    "        Cmodel = C(Dbirth, Dcoll, r)\n",
    "        \n",
    "        loglike += sp.stats.norm.logpdf(Cexp, loc=Cmodel, scale=sigma)\n",
    "    return -loglike"
   ]
  },
  {
   "cell_type": "code",
   "execution_count": null,
   "metadata": {
    "ExecuteTime": {
     "end_time": "2018-01-05T17:22:30.735827Z",
     "start_time": "2018-01-05T17:21:16.354Z"
    }
   },
   "outputs": [],
   "source": [
    "M_A = iminuit.Minuit(neg_loglike_A, errordef = 0.5,\\\n",
    "           logr = np.log(0.0066), error_logr = np.log(1e-3), fix_logr = False,\\\n",
    "           sigma = sigma_estimate, error_sigma = sigma_estimate / 10.0, limit_sigma = (0.0, None), fix_sigma = False,\\\n",
    "           print_level = 1)\n",
    "M_A.migrad();"
   ]
  },
  {
   "cell_type": "code",
   "execution_count": null,
   "metadata": {
    "ExecuteTime": {
     "end_time": "2018-01-05T17:22:30.736529Z",
     "start_time": "2018-01-05T17:21:16.364Z"
    }
   },
   "outputs": [],
   "source": [
    "np.exp(M_A.values['logr'])"
   ]
  },
  {
   "cell_type": "code",
   "execution_count": null,
   "metadata": {
    "ExecuteTime": {
     "end_time": "2018-01-05T17:22:30.737239Z",
     "start_time": "2018-01-05T17:21:16.376Z"
    }
   },
   "outputs": [],
   "source": [
    "lam = np.exp(M_A.values['logr'])\n",
    "print('lamda', lam)\n",
    "\n",
    "sig = M_A.values['sigma']\n",
    "print('sigma', sig)\n",
    "\n",
    "results.loc['R1', 'loglike'] = -res[1]\n",
    "results.loc['R1', 'k'] = 2\n",
    "results.loc['R1', 'n'] = len(hepatocyte_data)\n",
    "\n",
    "results['cAIC'] = 2 * results['k'] - 2 * results['loglike'] + (2*results['k']**2 + 2*results['k'])/(results['n']-results['k']-1)\n",
    "\n",
    "results"
   ]
  },
  {
   "cell_type": "markdown",
   "metadata": {},
   "source": [
    "### Plot"
   ]
  },
  {
   "cell_type": "code",
   "execution_count": null,
   "metadata": {
    "ExecuteTime": {
     "end_time": "2018-01-05T17:22:30.737970Z",
     "start_time": "2018-01-05T17:21:16.381Z"
    }
   },
   "outputs": [],
   "source": [
    "fig, axs = plt.subplots(2, 1, sharex = True, figsize = (6, 8))\n",
    "\n",
    "time = sp.linspace(1910.0, 2020.0, 1000)\n",
    "\n",
    "\n",
    "for ax in axs:\n",
    "    ax.plot(time, K(time), label = 'Atmosphere', color = 'black')\n",
    "\n",
    "    ax.errorbar(hepatocyte_data['Dbirth'], \\\n",
    "               sp.vectorize(C)(hepatocyte_data['Dbirth'], hepatocyte_data['Dcoll'], np.exp(M_A.values['logr'])), M_A.values['sigma'],\n",
    "               color = 'white', ecolor = 'black', label = 'Scenario A', marker='s', ls = '')\n",
    "\n",
    "\n",
    "    ax.errorbar(hepatocyte_data['Dbirth'], hepatocyte_data['d14C'], \n",
    "            marker = 'o', ls = 'None', color = 'black',\n",
    "               label = 'Hepato DNA (coll after 2015)')\n",
    "    ax.errorbar(hepatocyte_data.query('Dcoll < 2015')['Dbirth'], hepatocyte_data.query('Dcoll < 2015')['d14C'], \n",
    "               marker = 'o', ls = 'None', color = 'red', \n",
    "               label = 'Hepato DNA (coll before 2015)')\n",
    "\n",
    "\n",
    "    ax.set_xlim((1909, 2020))\n",
    "    ax.set_ylim(-0.1, 0.9)\n",
    "    ax.set_xticks(sp.linspace(1910, 2010, 6), minor = 1)\n",
    "    # ax.grid(which='both')\n",
    "    \n",
    "\n",
    "    ax.set_xlabel('Calendar year')\n",
    "    ax.set_ylabel('$\\Delta^{14}$C')\n",
    "\n",
    "axs[0].legend()\n",
    "axs[1].set_ylim(-0.0, 0.15)\n",
    "\n",
    "plt.show()"
   ]
  },
  {
   "cell_type": "code",
   "execution_count": null,
   "metadata": {
    "ExecuteTime": {
     "end_time": "2018-01-05T17:22:30.738783Z",
     "start_time": "2018-01-05T17:21:16.384Z"
    }
   },
   "outputs": [],
   "source": [
    "M_A.minos(sigma = 1.92);"
   ]
  },
  {
   "cell_type": "code",
   "execution_count": null,
   "metadata": {
    "ExecuteTime": {
     "end_time": "2018-01-05T17:22:30.739408Z",
     "start_time": "2018-01-05T17:21:16.388Z"
    }
   },
   "outputs": [],
   "source": [
    "np.exp(CI(M_A, 'logr'))"
   ]
  },
  {
   "cell_type": "code",
   "execution_count": null,
   "metadata": {
    "ExecuteTime": {
     "end_time": "2018-01-05T17:22:30.740203Z",
     "start_time": "2018-01-05T17:21:16.392Z"
    }
   },
   "outputs": [],
   "source": [
    "CI(M_A, 'sigma')"
   ]
  },
  {
   "cell_type": "code",
   "execution_count": null,
   "metadata": {
    "ExecuteTime": {
     "end_time": "2018-01-05T17:22:30.740888Z",
     "start_time": "2018-01-05T17:21:16.396Z"
    }
   },
   "outputs": [],
   "source": [
    "M_A.draw_mnprofile('logr');"
   ]
  },
  {
   "cell_type": "code",
   "execution_count": null,
   "metadata": {
    "ExecuteTime": {
     "end_time": "2018-01-05T17:22:30.741488Z",
     "start_time": "2018-01-05T17:21:16.400Z"
    }
   },
   "outputs": [],
   "source": [
    "M_A.draw_mnprofile('sigma');"
   ]
  },
  {
   "cell_type": "markdown",
   "metadata": {},
   "source": [
    "# 2POP"
   ]
  },
  {
   "cell_type": "markdown",
   "metadata": {},
   "source": [
    "### Sigma dependent on mass of sample"
   ]
  },
  {
   "cell_type": "code",
   "execution_count": null,
   "metadata": {
    "ExecuteTime": {
     "end_time": "2018-01-05T17:22:30.742217Z",
     "start_time": "2018-01-05T17:21:16.404Z"
    }
   },
   "outputs": [],
   "source": [
    "def neg_loglike_A_mass(r, sigma_light, sigma_heavy):\n",
    "    loglike = 0\n",
    "    for i, dataset in hepatocyte_data.iterrows():\n",
    "        Dbirth = dataset['Dbirth']\n",
    "        Dcoll = dataset['Dcoll']\n",
    "        Cexp = dataset['d14C']\n",
    "        Cmodel = C(Dbirth, Dcoll, r)\n",
    "        if dataset['mass'] < 10.0:\n",
    "            sigma = sigma_light\n",
    "        else:\n",
    "            sigma = sigma_heavy\n",
    "        \n",
    "        \n",
    "        loglike += sp.stats.norm.logpdf(Cexp, loc=Cmodel, scale=sigma)\n",
    "    return -loglike"
   ]
  },
  {
   "cell_type": "code",
   "execution_count": null,
   "metadata": {
    "ExecuteTime": {
     "end_time": "2018-01-05T17:22:30.742900Z",
     "start_time": "2018-01-05T17:21:16.408Z"
    }
   },
   "outputs": [],
   "source": [
    "M_A_mass = iminuit.Minuit(neg_loglike_A_mass, errordef = 0.5,\\\n",
    "                          r = 0.0066, error_r = 1e-3, limit_r = (0.0, None), fix_r = False,\\\n",
    "                          sigma_light = sigma_estimate, error_sigma_light = sigma_estimate / 10.0,\n",
    "                          limit_sigma_light = (0.0, None), fix_sigma_light = False,\n",
    "                          sigma_heavy = sigma_estimate, error_sigma_heavy = sigma_estimate / 10.0,\n",
    "                          limit_sigma_heavy = (0.0, None), fix_sigma_heavy = False,\n",
    "                          print_level = 1)"
   ]
  },
  {
   "cell_type": "code",
   "execution_count": null,
   "metadata": {
    "ExecuteTime": {
     "end_time": "2018-01-05T17:22:30.743634Z",
     "start_time": "2018-01-05T17:21:16.412Z"
    }
   },
   "outputs": [],
   "source": [
    "M_A_mass.migrad();"
   ]
  },
  {
   "cell_type": "code",
   "execution_count": null,
   "metadata": {
    "ExecuteTime": {
     "end_time": "2018-01-05T17:22:30.744316Z",
     "start_time": "2018-01-05T17:21:16.416Z"
    }
   },
   "outputs": [],
   "source": [
    "def neg_loglike_2POP(r, f, sigma):\n",
    "    loglike = 0\n",
    "    for i, dataset in hepatocyte_data.iterrows():\n",
    "        Dbirth = dataset['Dbirth']\n",
    "        Dcoll = dataset['Dcoll']\n",
    "        Cexp = dataset['d14C']\n",
    "        Cmodel = C2(Dbirth, Dcoll, r, f)\n",
    "        \n",
    "        loglike += sp.stats.norm.logpdf(Cexp, loc=Cmodel, scale=sigma)\n",
    "    return -loglike"
   ]
  },
  {
   "cell_type": "code",
   "execution_count": null,
   "metadata": {
    "ExecuteTime": {
     "end_time": "2018-01-05T17:22:30.744993Z",
     "start_time": "2018-01-05T17:21:16.420Z"
    }
   },
   "outputs": [],
   "source": [
    "M_2POP = iminuit.Minuit(neg_loglike_2POP, errordef = 0.5,\\\n",
    "                   r = 0.12, error_r = 1e-3, limit_r = (0.0, None), fix_r = False,\\\n",
    "                   f=0.35, error_f=0.01, limit_f=(0.0, 1.0), fix_f = False,\\\n",
    "                   sigma = sigma_estimate, error_sigma = sigma_estimate / 10.0, limit_sigma = (0.0, None), fix_sigma = False,\\\n",
    "                   print_level = 1)"
   ]
  },
  {
   "cell_type": "code",
   "execution_count": null,
   "metadata": {
    "ExecuteTime": {
     "end_time": "2018-01-05T17:22:30.745619Z",
     "start_time": "2018-01-05T17:21:16.424Z"
    }
   },
   "outputs": [],
   "source": [
    "M_2POP.migrad();"
   ]
  },
  {
   "cell_type": "code",
   "execution_count": null,
   "metadata": {
    "ExecuteTime": {
     "end_time": "2018-01-05T17:22:30.746358Z",
     "start_time": "2018-01-05T17:21:16.429Z"
    },
    "scrolled": true
   },
   "outputs": [],
   "source": [
    "f, ax = plt.subplots(1, 1, figsize = (6, 4))\n",
    "\n",
    "time = sp.linspace(1910.0, 2015.0, 1000)\n",
    "ax.plot(time, K(time), label = 'Atmosphere                    ', color = 'black')\n",
    "ax.scatter(hepatocyte_data['Dbirth'], hepatocyte_data['d14C'], color = 'black', label = 'Neuronal DNA            ')\n",
    "ax.errorbar(hepatocyte_data['Dbirth'], \\\n",
    "           sp.vectorize(C2)(hepatocyte_data['Dbirth'], hepatocyte_data['Dcoll'], M_2POP.values['r'], M_2POP.values['f']),\\\n",
    "            M_2POP.values['sigma'],\n",
    "           color = 'white', ecolor = 'black', label = '2POP', marker='^', ls = '', ms = 5)\n",
    "\n",
    "ax.set_xlim((1909, 2011))\n",
    "ax.set_ylim(-0.1, 0.9)\n",
    "ax.set_xticks(sp.arange(1910, 2011, 10))\n",
    "ax.set_xticks(sp.arange(1910, 2011, 2), minor = True)\n",
    "ax.set_yticks(sp.arange(-0.1, 0.91, 0.1))\n",
    "ax.set_yticks(sp.arange(-0.1, 0.91, 0.02), minor = True)\n",
    "# ax.grid(which='both')\n",
    "ax.legend(loc='best', numpoints = 1, scatterpoints = 1)\n",
    "\n",
    "ax.set_xlabel('Calendar year')\n",
    "ax.set_ylabel(u'Concentration of 14C (Δ14C)')\n",
    "\n",
    "ax.annotate(\"Partial nuclear\\ntest ban treaty\", xy = (1963, ax.get_ylim()[0]), xytext = (1965, 0.05),\n",
    "            arrowprops = dict(arrowstyle = '-|>', facecolor = 'white'))\n",
    "\n",
    "axins = inset_axes(ax,\n",
    "                   width=\"40%\",  # width = 30% of parent_bbox\n",
    "                   height=1.,  # height : 1 inch\n",
    "                   loc=2, borderpad = 3)\n",
    "\n",
    "axins.plot(time, K(time), label = 'Atmosphere                    ', color = 'black')\n",
    "axins.scatter(hepatocyte_data['Dbirth'], hepatocyte_data['d14C'], color = 'black', label = 'Neuronal DNA            ')\n",
    "axins.errorbar(hepatocyte_data['Dbirth'], \\\n",
    "           sp.vectorize(C2)(hepatocyte_data['Dbirth'], hepatocyte_data['Dcoll'], M_2POP.values['r'], M_2POP.values['f']),\\\n",
    "            M_2POP.values['sigma'],\n",
    "           color = 'white', ecolor = 'black', label = '2POP', marker='^', ls = '', ms = 5)\n",
    "\n",
    "axins.set_xlim(1941, 1959)\n",
    "axins.set_ylim(-0.05, 0.09)\n",
    "axins.set_xticks(sp.arange(1945, 1956, 5))\n",
    "axins.set_xticks(sp.arange(1942, 1959, 1), minor=True)\n",
    "\n",
    "axins.annotate(\"First above-ground\\n thermonuclear bomb test\", xy = (1952, axins.get_ylim()[0]), xytext = (1945.5, axins.get_ylim()[0] - 0.08),\n",
    "            arrowprops = dict(arrowstyle = '-|>', facecolor = 'white'), horizontalalignment = 'left')\n",
    "\n",
    "exportname = 'c14_predict_2POP'\n",
    "plt.savefig('{}.svg'.format(exportname))\n",
    "os.system('inkscape -D -z --file={0}.svg --export-pdf={0}.pdf'.format(exportname))\n",
    "\n",
    "plt.show()"
   ]
  },
  {
   "cell_type": "code",
   "execution_count": null,
   "metadata": {
    "ExecuteTime": {
     "end_time": "2018-01-05T17:22:30.747041Z",
     "start_time": "2018-01-05T17:21:16.433Z"
    }
   },
   "outputs": [],
   "source": [
    "matplotlib.text.Text?"
   ]
  },
  {
   "cell_type": "code",
   "execution_count": null,
   "metadata": {
    "ExecuteTime": {
     "end_time": "2018-01-05T17:22:30.747806Z",
     "start_time": "2018-01-05T17:21:16.437Z"
    }
   },
   "outputs": [],
   "source": [
    "M_2POP.minos(sigma = 1.92);"
   ]
  },
  {
   "cell_type": "code",
   "execution_count": null,
   "metadata": {
    "ExecuteTime": {
     "end_time": "2018-01-05T17:22:30.748471Z",
     "start_time": "2018-01-05T17:21:16.442Z"
    }
   },
   "outputs": [],
   "source": [
    "CI(M_2POP, 'f')"
   ]
  },
  {
   "cell_type": "markdown",
   "metadata": {},
   "source": [
    "Calculate how much bigger Spalding's CI was:"
   ]
  },
  {
   "cell_type": "code",
   "execution_count": null,
   "metadata": {
    "ExecuteTime": {
     "end_time": "2018-01-05T17:22:30.749118Z",
     "start_time": "2018-01-05T17:21:16.448Z"
    }
   },
   "outputs": [],
   "source": [
    "Delta_Rost = CI(M_2POP, 'f')[1] - CI(M_2POP, 'f')[0]\n",
    "Delta_Spalding = 0.63 - 0.12\n",
    "Delta_Spalding/Delta_Rost"
   ]
  },
  {
   "cell_type": "code",
   "execution_count": null,
   "metadata": {
    "ExecuteTime": {
     "end_time": "2018-01-05T17:22:30.749741Z",
     "start_time": "2018-01-05T17:21:16.452Z"
    }
   },
   "outputs": [],
   "source": [
    "CI(M_2POP, 'sigma')"
   ]
  },
  {
   "cell_type": "code",
   "execution_count": null,
   "metadata": {
    "ExecuteTime": {
     "end_time": "2018-01-05T17:22:30.750323Z",
     "start_time": "2018-01-05T17:21:16.456Z"
    }
   },
   "outputs": [],
   "source": [
    "M_2POP.draw_mnprofile('f');"
   ]
  },
  {
   "cell_type": "code",
   "execution_count": null,
   "metadata": {
    "ExecuteTime": {
     "end_time": "2018-01-05T17:22:30.750996Z",
     "start_time": "2018-01-05T17:21:16.461Z"
    }
   },
   "outputs": [],
   "source": [
    "M_2POP.draw_mnprofile('sigma');"
   ]
  },
  {
   "cell_type": "markdown",
   "metadata": {},
   "source": [
    "Manual profile likelihood for $r$ as `minos` didn't work."
   ]
  },
  {
   "cell_type": "code",
   "execution_count": null,
   "metadata": {
    "ExecuteTime": {
     "end_time": "2018-01-05T17:22:30.751658Z",
     "start_time": "2018-01-05T17:21:16.466Z"
    }
   },
   "outputs": [],
   "source": [
    "%%cache rprofile.pkl rs neglogL\n",
    "rs = sp.sort(sp.hstack((sp.linspace(0.1, 10, 50), M_2POP.values['r'], 0.15)))\n",
    "f_initial = M_2POP.values['f']\n",
    "sigma_initial = M_2POP.values['sigma']\n",
    "def fit_fix_r(r):\n",
    "    M_2POP = iminuit.Minuit(neg_loglike_2POP, errordef = 0.5,\\\n",
    "                   r = r, error_r = 1e-3, limit_r = (0.0, None), fix_r = True,\\\n",
    "                   f=0.35, error_f=0.01, limit_f=(0.0, 1.0), fix_f = False,\\\n",
    "                   sigma = sigma_estimate, error_sigma = sigma_estimate / 10.0, limit_sigma = (0.0, None), fix_sigma = False,\\\n",
    "                   print_level = 0)\n",
    "    M_2POP.migrad()\n",
    "    if M_2POP.migrad_ok():\n",
    "        return M_2POP.fval\n",
    "    else:\n",
    "        return sp.nan\n",
    "\n",
    "pool = Pool(processes=4) \n",
    "\n",
    "neglogL = sp.array(pool.map(fit_fix_r, rs))"
   ]
  },
  {
   "cell_type": "code",
   "execution_count": null,
   "metadata": {
    "ExecuteTime": {
     "end_time": "2018-01-05T17:22:30.752313Z",
     "start_time": "2018-01-05T17:21:16.470Z"
    }
   },
   "outputs": [],
   "source": [
    "func = sp.interpolate.interp1d(rs, neglogL - neglogL.min() - 1.92) "
   ]
  },
  {
   "cell_type": "code",
   "execution_count": null,
   "metadata": {
    "ExecuteTime": {
     "end_time": "2018-01-05T17:22:30.752970Z",
     "start_time": "2018-01-05T17:21:16.474Z"
    }
   },
   "outputs": [],
   "source": [
    "from scipy import optimize\n",
    "rmin = sp.optimize.root(func, 0.1, method='lm')['x'].item()\n",
    "rmax = sp.optimize.root(func, 2, method='lm')['x'].item()\n",
    "\n",
    "print('r:')\n",
    "print('{0:.2f} (95\\% CI [{1:.2f}, {2:.2f}])'.format(M_2POP.values['r'], rmin, rmax))\n"
   ]
  },
  {
   "cell_type": "code",
   "execution_count": null,
   "metadata": {
    "ExecuteTime": {
     "end_time": "2018-01-05T17:22:30.753622Z",
     "start_time": "2018-01-05T17:21:16.480Z"
    }
   },
   "outputs": [],
   "source": [
    "fig = plt.figure(figsize= (150 / 25.4, 50 / 25.4) )\n",
    "plt.xlim(0, 10)\n",
    "plt.ylim(-2.5, 0)\n",
    "\n",
    "plt.xlabel('turnover rate, r (per year)')\n",
    "plt.ylabel('$\\Delta \\ln L$')\n",
    "\n",
    "# plt.grid()\n",
    "\n",
    "plt.plot(rs, -(neglogL-M_2POP.fval), 'black')\n",
    "plt.plot([0, 10], [-1.92, -1.92], 'k--')\n",
    "# plt.plot([rmin, rmin], [-5, 0], 'k--')\n",
    "# plt.plot([rmax, rmax], [-5, 0], 'k--')\n",
    "\n",
    "exportname = 'rprofile'\n",
    "plt.savefig('{}.svg'.format(exportname))\n",
    "os.system('inkscape -D -z --file={0}.svg --export-pdf={0}.pdf'.format(exportname))\n",
    "\n",
    "plt.show()"
   ]
  },
  {
   "cell_type": "markdown",
   "metadata": {},
   "source": [
    "## 2POP mass"
   ]
  },
  {
   "cell_type": "code",
   "execution_count": null,
   "metadata": {
    "ExecuteTime": {
     "end_time": "2018-01-05T17:22:30.754285Z",
     "start_time": "2018-01-05T17:21:16.484Z"
    }
   },
   "outputs": [],
   "source": [
    "def neg_loglike_2POP_mass(r, f, sigma_light, sigma_heavy):\n",
    "    loglike = 0\n",
    "    for i, row in hepatocyte_data.iterrows():\n",
    "        Dbirth = row['Dbirth']\n",
    "        Dcoll = row['Dcoll']\n",
    "        Cexp = row['d14C']\n",
    "        Cmodel = C2(Dbirth, Dcoll, r, f)\n",
    "        if row['mass'] < 10.0:\n",
    "            sigma = sigma_light\n",
    "        else:\n",
    "            sigma = sigma_heavy\n",
    "        \n",
    "        loglike += sp.stats.norm.logpdf(Cexp, loc=Cmodel, scale=sigma)\n",
    "    return -loglike"
   ]
  },
  {
   "cell_type": "code",
   "execution_count": null,
   "metadata": {
    "ExecuteTime": {
     "end_time": "2018-01-05T17:22:30.754937Z",
     "start_time": "2018-01-05T17:21:16.488Z"
    }
   },
   "outputs": [],
   "source": [
    "M_2POP_mass = iminuit.Minuit(neg_loglike_2POP_mass, errordef = 0.5,\\\n",
    "                   r = 0.12, error_r = 1e-3, limit_r = (0.0, None), fix_r = False,\\\n",
    "                   f=0.35, error_f=0.01, limit_f=(0.0, 1.0), fix_f = False,\\\n",
    "                   sigma_light = sigma_estimate*20, error_sigma_light = sigma_estimate / 10.0, limit_sigma_light = (0.0, None), fix_sigma_light = False,\n",
    "                   sigma_heavy = sigma_estimate, error_sigma_heavy = sigma_estimate / 10.0, limit_sigma_heavy = (0.0, None), fix_sigma_heavy = False,\\\n",
    "                   print_level = 1)"
   ]
  },
  {
   "cell_type": "code",
   "execution_count": null,
   "metadata": {
    "ExecuteTime": {
     "end_time": "2018-01-05T17:22:30.755616Z",
     "start_time": "2018-01-05T17:21:16.493Z"
    }
   },
   "outputs": [],
   "source": [
    "M_2POP_mass.migrad();"
   ]
  },
  {
   "cell_type": "markdown",
   "metadata": {},
   "source": [
    "## Sample size estimation\n",
    "Here, I create simulated data from the model to estimate the sample size (needed number of additional subjects) to find a upper limit for $r$. In the model simulation I'll use the estimated point estimates of the parameters as true parameters. I use scenario 2POP.\n",
    "### Simulate the model"
   ]
  },
  {
   "cell_type": "code",
   "execution_count": null,
   "metadata": {
    "ExecuteTime": {
     "end_time": "2018-01-05T17:22:30.756289Z",
     "start_time": "2018-01-05T17:21:16.497Z"
    }
   },
   "outputs": [],
   "source": [
    "f_fit = M_2POP.values['f']\n",
    "r_fit = M_2POP.values['r']\n",
    "sigma_fit = M_2POP.values['sigma']"
   ]
  },
  {
   "cell_type": "markdown",
   "metadata": {},
   "source": [
    "Let's first plot the model prediction for the expected difference in C-14 concentration when comparing the cases $r = r_{estimate}$ and $r = r_{max}$ and different birth and death times:"
   ]
  },
  {
   "cell_type": "code",
   "execution_count": null,
   "metadata": {
    "ExecuteTime": {
     "end_time": "2018-01-05T17:22:30.756952Z",
     "start_time": "2018-01-05T17:21:16.502Z"
    }
   },
   "outputs": [],
   "source": [
    "time_min, time_max = 1910, 2015\n",
    "sampling = 1\n",
    "birth_times, death_times = sp.mgrid[time_min:time_max:sampling, time_min:time_max:sampling]\n",
    "C14_diff = sp.absolute(sp.vectorize(C2)(birth_times, death_times, r_fit, f_fit) - sp.vectorize(C2)(birth_times, death_times, rmax, f_fit))\n",
    "C14_diff = sp.ma.masked_array(C14_diff, mask = sp.isnan(C14_diff))"
   ]
  },
  {
   "cell_type": "code",
   "execution_count": null,
   "metadata": {
    "ExecuteTime": {
     "end_time": "2018-01-05T17:22:30.757604Z",
     "start_time": "2018-01-05T17:21:16.506Z"
    }
   },
   "outputs": [],
   "source": [
    "%config InlineBackend.figure_format = 'png'\n",
    "fig, ax = plt.subplots(figsize = (3,2))\n",
    "pcm = ax.pcolormesh(birth_times, death_times, C14_diff, cmap = 'viridis')\n",
    "ax.set_xlabel('year of birth')\n",
    "ax.set_ylabel('year of death', labelpad=10)\n",
    "fig.colorbar(pcm)\n",
    "ax.set_xlim(time_min, time_max)\n",
    "ax.set_ylim(time_min, time_max)\n",
    "ax.set_xticks(sp.arange(time_min, time_max, 20))\n",
    "ax.set_xticks(sp.arange(time_min+10, time_max, 20), minor = True)\n",
    "ax.set_yticks(sp.arange(time_min, time_max, 20))\n",
    "ax.set_yticks(sp.arange(time_min+10, time_max, 20), minor = True)\n",
    "# plt.contour(birth_times, death_times, C14_diff, [0.05], colors = 'red')\n",
    "\n",
    "plt.show()"
   ]
  },
  {
   "cell_type": "code",
   "execution_count": null,
   "metadata": {
    "ExecuteTime": {
     "end_time": "2018-01-05T17:22:30.758258Z",
     "start_time": "2018-01-05T17:21:16.510Z"
    }
   },
   "outputs": [],
   "source": [
    "max_index = sp.unravel_index(C14_diff.argmax(), C14_diff.shape)\n",
    "death_times[max_index]"
   ]
  },
  {
   "cell_type": "markdown",
   "metadata": {},
   "source": [
    "The biggest difference in C-14 is expected for subjects that died in 1965. "
   ]
  },
  {
   "cell_type": "markdown",
   "metadata": {},
   "source": [
    "### Creation of artifical subject data\n",
    "\n",
    "#### Informative data\n",
    "\n",
    "Based on the assumption that I my parameters are the true parameters I create artifical subject data by simulating the model. I'll choose subjects for which the expected difference in C-14 for the cases $r = r_{estimate}$ and $r = r_{max}$ is bigger than $0.05$."
   ]
  },
  {
   "cell_type": "code",
   "execution_count": null,
   "metadata": {
    "ExecuteTime": {
     "end_time": "2018-01-05T17:22:30.758911Z",
     "start_time": "2018-01-05T17:21:16.515Z"
    }
   },
   "outputs": [],
   "source": [
    "fig, ax = plt.subplots(figsize = (3,2))\n",
    "pcm = ax.pcolormesh(birth_times, death_times, C14_diff > 0.05, cmap = 'Greys')\n",
    "ax.set_xlabel('year of birth')\n",
    "ax.set_ylabel('year of death')\n",
    "fig.colorbar(pcm)\n",
    "ax.set_xlim(time_min, time_max)\n",
    "ax.set_ylim(time_min, time_max)\n",
    "\n",
    "plt.show()"
   ]
  },
  {
   "cell_type": "code",
   "execution_count": null,
   "metadata": {
    "ExecuteTime": {
     "end_time": "2018-01-05T17:22:30.759553Z",
     "start_time": "2018-01-05T17:21:16.521Z"
    }
   },
   "outputs": [],
   "source": [
    "chosen_birth_times = birth_times[C14_diff > 0.05]\n",
    "chosen_death_times = death_times[C14_diff > 0.05]\n",
    "chosen_times = zip(chosen_birth_times, chosen_death_times)"
   ]
  },
  {
   "cell_type": "code",
   "execution_count": null,
   "metadata": {
    "ExecuteTime": {
     "end_time": "2018-01-05T17:22:30.760221Z",
     "start_time": "2018-01-05T17:21:16.528Z"
    }
   },
   "outputs": [],
   "source": [
    "%%cache profiles_r_2POP.pkl profile_r_2POP\n",
    "profile_r_2POP = M_2POP.mnprofile('r', bound = [0.1, 1.5], subtract_min = True, bins = 60)"
   ]
  },
  {
   "cell_type": "code",
   "execution_count": null,
   "metadata": {
    "ExecuteTime": {
     "end_time": "2018-01-05T17:22:30.760887Z",
     "start_time": "2018-01-05T17:21:16.533Z"
    }
   },
   "outputs": [],
   "source": [
    "%%cache profiles.pkl profiles test_datasets\n",
    "n = 5\n",
    "test_datasets = {}\n",
    "profiles = {}\n",
    "for i in range(5):\n",
    "    sp.random.seed(i)\n",
    "    \n",
    "    indices = sp.random.choice(len(chosen_birth_times), n)\n",
    "    \n",
    "#     sampled_birth_times = chosen_birth_times[indices]\n",
    "#     sampled_death_times = chosen_death_times[indices]\n",
    "\n",
    "    sampled_birth_times = sp.random.uniform(1910, 1960, n)\n",
    "    sampled_death_times = sp.random.uniform(1961, 1970, n)\n",
    "    d14C = sp.vectorize(C2)(sampled_birth_times, sampled_death_times, r_fit, f_fit) + sp.random.normal(0, sigma_fit, len(sampled_birth_times))\n",
    "    \n",
    "    new_data = pd.DataFrame.from_dict({'Dbirth': sampled_birth_times, 'Dcoll': sampled_death_times, 'd14C': d14C})\n",
    "    \n",
    "    test_datasets[i] = pd.concat([hepatocyte_data, new_data], ignore_index=True)\n",
    "\n",
    "for i, data in test_datasets.iteritems():\n",
    "    def neg_loglike_2POP_test(r, f, sigma):\n",
    "        loglike = 0\n",
    "        for i, dataset in data.iterrows():\n",
    "            Dbirth = dataset['Dbirth']\n",
    "            Dcoll = dataset['Dcoll']\n",
    "            Cexp = dataset['d14C']\n",
    "            Cmodel = C2(Dbirth, Dcoll, r, f)\n",
    "\n",
    "            loglike += sp.stats.norm.logpdf(Cexp, loc=Cmodel, scale=sigma)\n",
    "        return -loglike\n",
    "\n",
    "    M_2POP_test = iminuit.Minuit(neg_loglike_2POP_test, errordef = 0.5,\\\n",
    "                   r = 0.2, error_r = 1e-3, limit_r = (0.0, None), fix_r = False,\\\n",
    "                   f= 0.3, error_f=0.01, limit_f=(0.0, 1.0), fix_f = False,\\\n",
    "                   sigma = 0.01, error_sigma = sigma_fit / 10.0, limit_sigma = (0.0, None), fix_sigma = False,\\\n",
    "                   print_level = 0)\n",
    "    M_2POP_test.tol = 10.0\n",
    "    M_2POP_test.migrad()\n",
    "#     M_2POP_test.minos('r', sigma = 1.92)\n",
    "    if M_2POP_test.migrad_ok():\n",
    "        profiles[i] = M_2POP_test.mnprofile('r', bound = [0.1, 0.5], subtract_min = True, bins = 25);"
   ]
  },
  {
   "cell_type": "markdown",
   "metadata": {},
   "source": [
    "Plot the artificial test data"
   ]
  },
  {
   "cell_type": "code",
   "execution_count": null,
   "metadata": {
    "ExecuteTime": {
     "end_time": "2018-01-05T17:22:30.761546Z",
     "start_time": "2018-01-05T17:21:16.538Z"
    }
   },
   "outputs": [],
   "source": [
    "i = 1\n",
    "artificial_data = test_datasets[i]\n",
    "\n",
    "f, ax = plt.subplots(1, 1, figsize = (3, 2))\n",
    "\n",
    "time = sp.linspace(1910.0, 2015.0, 1000)\n",
    "ax.plot(time, K(time), label = 'Atmosphere                    ', color = 'black')\n",
    "ax.scatter(artificial_data['Dbirth'], artificial_data['d14C'], color = colorcycle[i+1], label = 'Artificial data            ')\n",
    "ax.scatter(hepatocyte_data['Dbirth'], hepatocyte_data['d14C'], color = 'black', label = 'Neuronal DNA                   ')\n",
    "# ax.errorbar(artificial_data['Dbirth'], \\\n",
    "#            sp.vectorize(C2)(artificial_data['Dbirth'], artificial_data['Dcoll'], M_2POP.values['r'], M_2POP.values['f']),\\\n",
    "#             M_2POP.values['sigma'],\n",
    "#            color = 'white', ecolor = 'black', label = '2POP', marker='^', ls = '', ms = 5)\n",
    "\n",
    "ax.set_xlim((1909, 2011))\n",
    "ax.set_ylim(-0.1, 0.9)\n",
    "ax.set_xticks(sp.linspace(1910, 2010, 6), minor = 1)\n",
    "# ax.grid(which='both')\n",
    "ax.legend(loc='best', scatterpoints = 1)\n",
    "\n",
    "ax.set_xlabel('Calendar year')\n",
    "ax.set_ylabel('$\\Delta^{14}$C')\n",
    "\n",
    "# ax.annotate(\"First above-ground\\nnuclear bomb test\", xy = (1955, K(1955)), xytext = (1965, -0.08),\n",
    "#             arrowprops = dict(arrowstyle = '-|>'))\n",
    "# ax.annotate(\"Partial nuclear\\ntest ban treaty\", xy = (1963, K(1963)), xytext = (1967, 0.05),\n",
    "#             arrowprops = dict(arrowstyle = '-|>'))\n",
    "\n",
    "\n",
    "plt.show()"
   ]
  },
  {
   "cell_type": "code",
   "execution_count": null,
   "metadata": {
    "ExecuteTime": {
     "end_time": "2018-01-05T17:22:30.762209Z",
     "start_time": "2018-01-05T17:21:16.543Z"
    }
   },
   "outputs": [],
   "source": [
    "%config InlineBackend.figure_format = 'svg'\n",
    "\n",
    "fig = plt.figure(figsize= (75 / 25.4, 50 / 25.4) )\n",
    "plt.xlim(0.1, 0.4)\n",
    "plt.ylim(-2.5, 0)\n",
    "\n",
    "plt.xlabel('turnover rate, r (per year)')\n",
    "plt.ylabel('$\\Delta \\ln L$')\n",
    "\n",
    "# plt.grid()\n",
    "\n",
    "plt.plot(profile_r_2POP[0], -sp.array(profile_r_2POP[1]), 'black')\n",
    "plt.plot([0, 10], [-1.92, -1.92], 'k--')\n",
    "# plt.plot([rmin, rmin], [-5, 0], 'k--')\n",
    "# plt.plot([rmax, rmax], [-5, 0], 'k--')\n",
    "\n",
    "for i, profile in profiles.iteritems():\n",
    "    plt.plot(profile[0], -sp.array(profile[1]), color = colorcycle[i+1])\n",
    "\n",
    "\n",
    "plt.show()"
   ]
  },
  {
   "cell_type": "markdown",
   "metadata": {},
   "source": [
    "#### 'Recent' data\n",
    "Now, I repeat the creation of artificial data as above, but for patients that died in recent years. I choose 2012. I assume they are born bewteen 1910 and 2010 with uniform random distribution."
   ]
  },
  {
   "cell_type": "code",
   "execution_count": null,
   "metadata": {
    "ExecuteTime": {
     "end_time": "2018-01-05T17:22:30.762832Z",
     "start_time": "2018-01-05T17:21:16.547Z"
    }
   },
   "outputs": [],
   "source": [
    "len(hepatocyte_data)"
   ]
  },
  {
   "cell_type": "code",
   "execution_count": null,
   "metadata": {
    "ExecuteTime": {
     "end_time": "2018-01-05T17:22:30.763542Z",
     "start_time": "2018-01-05T17:21:16.551Z"
    }
   },
   "outputs": [],
   "source": [
    "%%cache profiles_recent.pkl profiles_recent test_datasets_recent\n",
    "n = 100\n",
    "test_datasets_recent = {}\n",
    "profiles_recent = {}\n",
    "for i in sp.arange(5)+1:\n",
    "    sp.random.seed(i)\n",
    "    \n",
    "    sampled_birth_times = sp.random.uniform(1910, 2010, n)\n",
    "    sampled_death_times = 2012 * sp.ones(n)\n",
    "    d14C = sp.vectorize(C2)(sampled_birth_times, sampled_death_times, r_fit, f_fit) + sp.random.normal(0, sigma_fit, len(sampled_birth_times))\n",
    "    \n",
    "    new_data = pd.DataFrame.from_dict({'Dbirth': sampled_birth_times, 'Dcoll': sampled_death_times, 'd14C': d14C})\n",
    "    \n",
    "    test_datasets_recent[i] = pd.concat([hepatocyte_data, new_data], ignore_index=True)\n",
    "\n",
    "for i, data in test_datasets_recent.iteritems():\n",
    "    def neg_loglike_2POP_test(r, f, sigma):\n",
    "        loglike = 0\n",
    "        for i, dataset in data.iterrows():\n",
    "            Dbirth = dataset['Dbirth']\n",
    "            Dcoll = dataset['Dcoll']\n",
    "            Cexp = dataset['d14C']\n",
    "            Cmodel = C2(Dbirth, Dcoll, r, f)\n",
    "\n",
    "            loglike += sp.stats.norm.logpdf(Cexp, loc=Cmodel, scale=sigma)\n",
    "        return -loglike\n",
    "\n",
    "    M_2POP_test = iminuit.Minuit(neg_loglike_2POP_test, errordef = 0.5,\\\n",
    "                   r = 0.2, error_r = 1e-3, limit_r = (0.0, None), fix_r = False,\\\n",
    "                   f= 0.3, error_f=0.01, limit_f=(0.0, 1.0), fix_f = False,\\\n",
    "                   sigma = 0.01, error_sigma = sigma_fit / 10.0, limit_sigma = (0.0, None), fix_sigma = False,\\\n",
    "                   print_level = 0)\n",
    "    M_2POP_test.tol = 10.0\n",
    "    M_2POP_test.migrad()\n",
    "#     M_2POP_test.minos('r', sigma = 1.92)\n",
    "    if M_2POP_test.migrad_ok():\n",
    "        profiles_recent[i] = M_2POP_test.mnprofile('r', bound = [0.1, 1.5], subtract_min = True, bins = 60);"
   ]
  },
  {
   "cell_type": "markdown",
   "metadata": {},
   "source": [
    "Plot the artificial test data"
   ]
  },
  {
   "cell_type": "code",
   "execution_count": null,
   "metadata": {
    "ExecuteTime": {
     "end_time": "2018-01-05T17:22:30.764223Z",
     "start_time": "2018-01-05T17:21:16.556Z"
    }
   },
   "outputs": [],
   "source": [
    "i = 1\n",
    "artificial_data_recent = test_datasets_recent[i]\n",
    "\n",
    "f, ax = plt.subplots(1, 1, figsize = (3, 2))\n",
    "\n",
    "time = sp.linspace(1910.0, 2015.0, 1000)\n",
    "ax.plot(time, K(time), label = 'Atmosphere                    ', color = 'black')\n",
    "ax.scatter(artificial_data_recent['Dbirth'], artificial_data_recent['d14C'], color = colorcycle[7], label = 'Artificial data            ')\n",
    "ax.scatter(hepatocyte_data['Dbirth'], hepatocyte_data['d14C'], color = 'black', label = 'Neuronal DNA                   ')\n",
    "# ax.errorbar(artificial_data_recent['Dbirth'], \\\n",
    "#            sp.vectorize(C2)(artificial_data_recent['Dbirth'], artificial_data_recent['Dcoll'], M_2POP.values['r'], M_2POP.values['f']),\\\n",
    "#             M_2POP.values['sigma'],\n",
    "#            color = 'white', ecolor = 'black', label = '2POP', marker='^', ls = '', ms = 5)\n",
    "\n",
    "ax.set_xlim((1909, 2011))\n",
    "ax.set_ylim(-0.1, 0.9)\n",
    "ax.set_xticks(sp.linspace(1910, 2010, 6), minor = 1)\n",
    "# ax.grid(which='both')\n",
    "ax.legend(loc='best', scatterpoints = 1)\n",
    "\n",
    "ax.set_xlabel('Calendar year')\n",
    "ax.set_ylabel('$\\Delta^{14}$C')\n",
    "\n",
    "# ax.annotate(\"First above-ground\\nnuclear bomb test\", xy = (1955, K(1955)), xytext = (1965, -0.08),\n",
    "#             arrowprops = dict(arrowstyle = '-|>'))\n",
    "# ax.annotate(\"Partial nuclear\\ntest ban treaty\", xy = (1963, K(1963)), xytext = (1967, 0.05),\n",
    "#             arrowprops = dict(arrowstyle = '-|>'))\n",
    "\n",
    "plt.show()"
   ]
  },
  {
   "cell_type": "code",
   "execution_count": null,
   "metadata": {
    "ExecuteTime": {
     "end_time": "2018-01-05T17:22:30.764884Z",
     "start_time": "2018-01-05T17:21:16.560Z"
    }
   },
   "outputs": [],
   "source": [
    "%config InlineBackend.figure_format = 'svg'\n",
    "\n",
    "fig = plt.figure(figsize= (75 / 25.4, 50 / 25.4) )\n",
    "plt.xlim(0.1, 1.5)\n",
    "plt.ylim(-2.5, 0)\n",
    "\n",
    "plt.xlabel('turnover rate, r (per year)')\n",
    "plt.ylabel('$\\Delta \\ln L$')\n",
    "\n",
    "# plt.grid()\n",
    "\n",
    "# plt.plot(profile_r_2POP[0], -sp.array(profile_r_2POP[1]), 'black')\n",
    "plt.plot(rs, -(neglogL-M_2POP.fval), 'black')\n",
    "plt.plot([0, 10], [-1.92, -1.92], 'k--')\n",
    "# plt.plot([rmin, rmin], [-5, 0], 'k--')\n",
    "# plt.plot([rmax, rmax], [-5, 0], 'k--')\n",
    "\n",
    "for i, profile in profiles_recent.iteritems():\n",
    "    plt.plot(profile[0], -sp.array(profile[1]), color = colorcycle[i+1])\n",
    "\n",
    "plt.show()"
   ]
  },
  {
   "cell_type": "markdown",
   "metadata": {},
   "source": [
    "### Plot of artifial data results for thesis"
   ]
  },
  {
   "cell_type": "code",
   "execution_count": null,
   "metadata": {
    "ExecuteTime": {
     "end_time": "2018-01-05T17:22:30.765579Z",
     "start_time": "2018-01-05T17:21:16.565Z"
    }
   },
   "outputs": [],
   "source": [
    "lineStyles = ['-', '--', '-.', ':']\n",
    "\n",
    "new_artifical_data = artificial_data.loc[artificial_data.index.difference(hepatocyte_data.reset_index().index)]\n",
    "new_artifical_data_recent = artificial_data_recent.loc[artificial_data_recent.index.difference(hepatocyte_data.reset_index().index)]\n",
    "\n",
    "%config InlineBackend.figure_format = 'png'\n",
    "fig, ax = plt.subplots(2, 2, figsize = (160/25.4,4))\n",
    "\n",
    "pcm = ax[0,0].pcolormesh(birth_times, death_times, C14_diff, cmap = 'viridis', shading = 'gourad')\n",
    "ax[0,0].scatter(new_artifical_data_recent['Dbirth'].values, new_artifical_data_recent['Dcoll'].values,\n",
    "                marker = '+', c = colorcycle[1])\n",
    "ax[0,0].scatter(new_artifical_data['Dbirth'].values, new_artifical_data['Dcoll'].values,\n",
    "                marker = '+', c = colorcycle[7])\n",
    "ax[0,0].scatter(hepatocyte_data['Dbirth'].values, hepatocyte_data['Dcoll'].values, marker = '+', c = 'white')\n",
    "ax[0,0].set_xlabel('Year of birth')\n",
    "ax[0,0].set_ylabel('Year of death', labelpad=10)\n",
    "cb = fig.colorbar(pcm, ax=ax[0,0])\n",
    "cb.set_label(u'Difference in Δ14C', labelpad = 10)\n",
    "ax[0,0].set_xlim(time_min, time_max)\n",
    "ax[0,0].set_ylim(time_min, time_max)\n",
    "ax[0,0].set_xticks(sp.arange(time_min, time_max, 20))\n",
    "ax[0,0].set_xticks(sp.arange(time_min+10, time_max, 20), minor = True)\n",
    "ax[0,0].set_yticks(sp.arange(time_min, time_max, 20))\n",
    "ax[0,0].set_yticks(sp.arange(time_min+10, time_max, 20), minor = True)\n",
    "# ax[0,0].add_patch(patches.Rectangle((1910, 2012), 100, 1, fill=False, color=colorcycle[1]))\n",
    "# ax[0,0].add_patch(patches.Rectangle((1910, 1961), 50, 9, fill=False, color=colorcycle[2]))\n",
    "\n",
    "\n",
    "artificial_data = test_datasets[1]\n",
    "msize = 5\n",
    "time = sp.linspace(1910.0, 2015.0, 1000)\n",
    "ax[0,1].plot(time, K(time), label = 'Atmosphere                    ', color = 'black')\n",
    "ax[0,1].scatter(hepatocyte_data['Dbirth'], hepatocyte_data['d14C'], \n",
    "                color = 'black', label = 'Neuronal DNA                        ', s = msize)\n",
    "ax[0,1].scatter(new_artifical_data_recent['Dbirth'], new_artifical_data_recent['d14C'], \n",
    "                color = colorcycle[1], label = 'Artifical data 1', s = msize)\n",
    "ax[0,1].scatter(new_artifical_data['Dbirth'], new_artifical_data['d14C'], \n",
    "                color = colorcycle[7], label = 'Artifical data 2     ', s = msize)\n",
    "\n",
    "\n",
    "ax[0,1].set_xlim((1909, 2011))\n",
    "ax[0,1].set_ylim(-0.1, 0.9)\n",
    "ax[0,1].set_xticks(sp.linspace(1910, 2010, 6), minor = 1)\n",
    "ax[0,1].legend(loc='upper left', scatterpoints = 1)\n",
    "ax[0,1].set_xlabel('Calendar year')\n",
    "ax[0,1].set_ylabel(u'Δ14C')\n",
    "\n",
    "ax[1,0].set_title('Artificial data 1', fontsize = 8)\n",
    "ax[1,0].set_xlim(0.1, 1.5)\n",
    "ax[1,0].set_ylim(-2.5, 0)\n",
    "ax[1,0].set_xlabel('Turnover rate, r (per year)')\n",
    "ax[1,0].set_ylabel(u'Δln L')\n",
    "ax[1,0].plot(profile_r_2POP[0], -sp.array(profile_r_2POP[-1]), 'black')\n",
    "# ax[1,0].plot(rs, -(neglogL-M_2POP.fval), 'black')\n",
    "ax[1,0].plot([0, 10], [-1.92, -1.92], 'k--')\n",
    "for i, profile in profiles_recent.iteritems():\n",
    "    ax[1,0].plot(profile[0], -sp.array(profile[1]), color = colorcycle[1], ls = lineStyles[len(profile) - i])\n",
    "    if i == len(lineStyles):\n",
    "        break\n",
    "    \n",
    "ax[1,1].set_title('Artificial data 2', fontsize = 8)\n",
    "ax[1,1].set_xlim(0.1, 1.5)\n",
    "ax[1,1].set_ylim(-2.5, 0)\n",
    "ax[1,1].set_xlabel('Turnover rate, r (per year)')\n",
    "ax[1,1].set_ylabel(u'Δln L')\n",
    "ax[1,1].plot(profile_r_2POP[0], -sp.array(profile_r_2POP[1]), 'black')\n",
    "# ax[1,1].plot(rs, -(neglogL-M_2POP.fval), 'black')\n",
    "ax[1,1].plot([0, 10], [-1.92, -1.92], 'k--')\n",
    "for i, profile in profiles.iteritems():\n",
    "    ax[1,1].plot(profile[0], -sp.array(profile[1]), color = colorcycle[7], ls = lineStyles[i-1])\n",
    "    if i == len(lineStyles):\n",
    "        break\n",
    "\n",
    "plt.tight_layout()\n",
    "\n",
    "exportname = 'c14_add_data'\n",
    "plt.savefig('{}.svg'.format(exportname))\n",
    "os.system('inkscape -D -z --file={0}.svg --export-pdf={0}.pdf'.format(exportname))\n",
    "\n",
    "\n",
    "plt.show()"
   ]
  },
  {
   "cell_type": "code",
   "execution_count": null,
   "metadata": {},
   "outputs": [],
   "source": []
  }
 ],
 "metadata": {
  "anaconda-cloud": {},
  "kernelspec": {
   "display_name": "Python [conda env:py3]",
   "language": "python",
   "name": "conda-env-py3-py"
  },
  "language_info": {
   "codemirror_mode": {
    "name": "ipython",
    "version": 3
   },
   "file_extension": ".py",
   "mimetype": "text/x-python",
   "name": "python",
   "nbconvert_exporter": "python",
   "pygments_lexer": "ipython3",
   "version": "3.6.3"
  },
  "notify_time": "30",
  "toc": {
   "nav_menu": {
    "height": "251px",
    "width": "252px"
   },
   "number_sections": true,
   "sideBar": true,
   "skip_h1_title": false,
   "toc_cell": false,
   "toc_position": {
    "height": "913px",
    "left": "0px",
    "right": "1708px",
    "top": "111px",
    "width": "212px"
   },
   "toc_section_display": "block",
   "toc_window_display": true
  }
 },
 "nbformat": 4,
 "nbformat_minor": 1
}
